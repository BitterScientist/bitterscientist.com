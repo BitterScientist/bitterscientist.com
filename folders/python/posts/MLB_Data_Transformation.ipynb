{
 "cells": [
  {
   "cell_type": "markdown",
   "metadata": {},
   "source": [
    "# Data Transformation using Python Pandas"
   ]
  },
  {
   "cell_type": "markdown",
   "metadata": {},
   "source": [
    "## Import dependencies"
   ]
  },
  {
   "cell_type": "code",
   "execution_count": 1,
   "metadata": {},
   "outputs": [],
   "source": [
    "import pandas as pd\n",
    "import matplotlib\n",
    "import matplotlib.pyplot as plt\n",
    "import numpy as np\n",
    "%matplotlib inline"
   ]
  },
  {
   "cell_type": "code",
   "execution_count": 2,
   "metadata": {},
   "outputs": [],
   "source": [
    "# Display all columns (pandas will collapse some columns if we don't set this option)\n",
    "pd.set_option('display.max_columns', None)"
   ]
  },
  {
   "cell_type": "markdown",
   "metadata": {},
   "source": [
    "## Import files"
   ]
  },
  {
   "cell_type": "code",
   "execution_count": 3,
   "metadata": {},
   "outputs": [],
   "source": [
    "nationals_df = pd.read_csv(\"2019_washington_nationals\")\n",
    "astros_df = pd.read_csv(\"2019_houston_astros\")"
   ]
  },
  {
   "cell_type": "markdown",
   "metadata": {},
   "source": [
    "## Data Cleaning"
   ]
  },
  {
   "cell_type": "code",
   "execution_count": 4,
   "metadata": {},
   "outputs": [],
   "source": [
    "# Delete non player roles using df index and .drop method\n",
    "nationals = nationals_df.drop([8,22,52,53,54,55,56])"
   ]
  },
  {
   "cell_type": "markdown",
   "metadata": {},
   "source": [
    "## Data Exploration"
   ]
  },
  {
   "cell_type": "code",
   "execution_count": 5,
   "metadata": {},
   "outputs": [
    {
     "name": "stdout",
     "output_type": "stream",
     "text": [
      "<class 'pandas.core.frame.DataFrame'>\n",
      "Int64Index: 50 entries, 0 to 51\n",
      "Data columns (total 28 columns):\n",
      "Rk      50 non-null object\n",
      "Pos     50 non-null object\n",
      "Name    50 non-null object\n",
      "Age     50 non-null object\n",
      "G       50 non-null object\n",
      "PA      50 non-null object\n",
      "AB      50 non-null object\n",
      "R       50 non-null object\n",
      "H       50 non-null object\n",
      "2B      50 non-null object\n",
      "3B      50 non-null object\n",
      "HR      50 non-null object\n",
      "RBI     50 non-null object\n",
      "SB      50 non-null object\n",
      "CS      50 non-null object\n",
      "BB      50 non-null object\n",
      "SO      50 non-null object\n",
      "BA      36 non-null object\n",
      "OBP     36 non-null object\n",
      "SLG     36 non-null object\n",
      "OPS     36 non-null object\n",
      "OPS+    36 non-null object\n",
      "TB      50 non-null object\n",
      "GDP     50 non-null object\n",
      "HBP     50 non-null object\n",
      "SH      50 non-null object\n",
      "SF      50 non-null object\n",
      "IBB     50 non-null object\n",
      "dtypes: object(28)\n",
      "memory usage: 11.3+ KB\n"
     ]
    }
   ],
   "source": [
    "# Use the info method to inspect the datatypes for each column\n",
    "nationals.info()"
   ]
  },
  {
   "cell_type": "markdown",
   "metadata": {},
   "source": [
    "## Relabel columns for readibility"
   ]
  },
  {
   "cell_type": "markdown",
   "metadata": {},
   "source": [
    "#### Step 1: Create a dictionary the key is the original name, and the value is the new name"
   ]
  },
  {
   "cell_type": "code",
   "execution_count": 6,
   "metadata": {},
   "outputs": [],
   "source": [
    " nat_col_names = {\"Rk\":\"Rank\", \"Pos\":\"Position\",\"G\":\"Games_Played\", \"PA\":\"Plate_Apperance\", \"AB\":\"At_Bat\", \"R\":\"Runs\", \"H\":\"Hits\", \"SB\":\"Stolen_Bases\",\"CS\":\"Caugt_Stealing\",\"BB\":\"Base_Balls\", \"SO\":\"Strike_Outs\",\"BA\":\"Hits_at_Bat\", \"TB\":\"Total_Bases\", \"HBP\":\"Hits_by_Pitch\"}"
   ]
  },
  {
   "cell_type": "markdown",
   "metadata": {},
   "source": [
    "#### Step 2: use the rename method and the dictionary name to assign the new column names to the dataframe"
   ]
  },
  {
   "cell_type": "code",
   "execution_count": 7,
   "metadata": {},
   "outputs": [],
   "source": [
    "nationals = nationals.rename(columns=nat_col_names)"
   ]
  },
  {
   "cell_type": "markdown",
   "metadata": {},
   "source": [
    "## Memory Reduction"
   ]
  },
  {
   "cell_type": "code",
   "execution_count": 8,
   "metadata": {},
   "outputs": [
    {
     "data": {
      "text/plain": [
       "Rank               object\n",
       "Position           object\n",
       "Name               object\n",
       "Age                object\n",
       "Games_Played       object\n",
       "Plate_Apperance    object\n",
       "At_Bat             object\n",
       "Runs               object\n",
       "Hits               object\n",
       "2B                 object\n",
       "3B                 object\n",
       "HR                 object\n",
       "RBI                object\n",
       "Stolen_Bases       object\n",
       "Caugt_Stealing     object\n",
       "Base_Balls         object\n",
       "Strike_Outs        object\n",
       "Hits_at_Bat        object\n",
       "OBP                object\n",
       "SLG                object\n",
       "OPS                object\n",
       "OPS+               object\n",
       "Total_Bases        object\n",
       "GDP                object\n",
       "Hits_by_Pitch      object\n",
       "SH                 object\n",
       "SF                 object\n",
       "IBB                object\n",
       "dtype: object"
      ]
     },
     "execution_count": 8,
     "metadata": {},
     "output_type": "execute_result"
    }
   ],
   "source": [
    "# Inspect current data types for each column using dtypes\n",
    "nationals.dtypes"
   ]
  },
  {
   "cell_type": "markdown",
   "metadata": {},
   "source": [
    "### Find memory usage with memory_usage method"
   ]
  },
  {
   "cell_type": "code",
   "execution_count": 9,
   "metadata": {},
   "outputs": [
    {
     "data": {
      "text/plain": [
       "Index               400\n",
       "Rank               3013\n",
       "Position           3181\n",
       "Name               3502\n",
       "Age                2950\n",
       "Games_Played       3056\n",
       "Plate_Apperance    3118\n",
       "At_Bat             3132\n",
       "Runs               3198\n",
       "Hits               3180\n",
       "2B                 3216\n",
       "3B                 3300\n",
       "HR                 3230\n",
       "RBI                3204\n",
       "Stolen_Bases       3272\n",
       "Caugt_Stealing     3300\n",
       "Base_Balls         3203\n",
       "Strike_Outs        3145\n",
       "Hits_at_Bat        2644\n",
       "OBP                2644\n",
       "SLG                2644\n",
       "OPS                2645\n",
       "OPS+               2614\n",
       "Total_Bases        3177\n",
       "GDP                3258\n",
       "Hits_by_Pitch      3279\n",
       "SH                 3300\n",
       "SF                 3300\n",
       "IBB                3300\n",
       "dtype: int64"
      ]
     },
     "execution_count": 9,
     "metadata": {},
     "output_type": "execute_result"
    }
   ],
   "source": [
    "nationals_mem = nationals.memory_usage(deep=True)\n",
    "nationals_mem"
   ]
  },
  {
   "cell_type": "markdown",
   "metadata": {},
   "source": [
    "### Reduce memory usage by changing datatypes"
   ]
  },
  {
   "cell_type": "code",
   "execution_count": 10,
   "metadata": {},
   "outputs": [],
   "source": [
    "# Convert columns that are categorical using astype method\n",
    "nationals[\"Position\"] = nationals[\"Position\"].astype('category')"
   ]
  },
  {
   "cell_type": "markdown",
   "metadata": {},
   "source": [
    "#### Astype method only works on a single column, to change multiple columns in one code block, use a for loop."
   ]
  },
  {
   "cell_type": "markdown",
   "metadata": {},
   "source": [
    "#### Step1: Create lists of columns by the final data type"
   ]
  },
  {
   "cell_type": "code",
   "execution_count": 11,
   "metadata": {},
   "outputs": [],
   "source": [
    "# These columns are categorical and strings\n",
    "non_num_cols = ['Position','Name']"
   ]
  },
  {
   "cell_type": "code",
   "execution_count": 12,
   "metadata": {},
   "outputs": [],
   "source": [
    "# These columns have missin values, and decimals\n",
    "float_cols = ['Hits_at_Bat','OBP','SLG','OPS','OPS+']"
   ]
  },
  {
   "cell_type": "code",
   "execution_count": 13,
   "metadata": {},
   "outputs": [],
   "source": [
    "# Combine all non integer columns into a single list\n",
    "non_int_cols = non_num_cols + float_cols"
   ]
  },
  {
   "cell_type": "code",
   "execution_count": 14,
   "metadata": {},
   "outputs": [],
   "source": [
    "# Use a list comprehension to generate a list of columns that contains integer values\n",
    "# int_cols = [\"Age\",\"Base_Balls\", \"Games_Played\", \"Plate_Apperance\",\"At_Bat\",\"Runs\",\"Hits\",\"2B\",\"Strike_Outs\"]\n",
    "int_cols = [col for col in nationals.columns if col not in non_int_cols]"
   ]
  },
  {
   "cell_type": "markdown",
   "metadata": {},
   "source": [
    "#### Step2: Use a for loop to change the data types of multiple columns"
   ]
  },
  {
   "cell_type": "code",
   "execution_count": 15,
   "metadata": {},
   "outputs": [],
   "source": [
    "# Convert into integer\n",
    "for col in int_cols:\n",
    "    nationals[col] = nationals[col].astype('int64')"
   ]
  },
  {
   "cell_type": "code",
   "execution_count": 16,
   "metadata": {},
   "outputs": [],
   "source": [
    "# Converts columns into floats\n",
    "for col in float_cols:\n",
    "    nationals[col] = nationals[col].astype('float')"
   ]
  },
  {
   "cell_type": "code",
   "execution_count": 17,
   "metadata": {},
   "outputs": [
    {
     "data": {
      "text/plain": [
       "Rank                  int64\n",
       "Position           category\n",
       "Name                 object\n",
       "Age                   int64\n",
       "Games_Played          int64\n",
       "Plate_Apperance       int64\n",
       "At_Bat                int64\n",
       "Runs                  int64\n",
       "Hits                  int64\n",
       "2B                    int64\n",
       "3B                    int64\n",
       "HR                    int64\n",
       "RBI                   int64\n",
       "Stolen_Bases          int64\n",
       "Caugt_Stealing        int64\n",
       "Base_Balls            int64\n",
       "Strike_Outs           int64\n",
       "Hits_at_Bat         float64\n",
       "OBP                 float64\n",
       "SLG                 float64\n",
       "OPS                 float64\n",
       "OPS+                float64\n",
       "Total_Bases           int64\n",
       "GDP                   int64\n",
       "Hits_by_Pitch         int64\n",
       "SH                    int64\n",
       "SF                    int64\n",
       "IBB                   int64\n",
       "dtype: object"
      ]
     },
     "execution_count": 17,
     "metadata": {},
     "output_type": "execute_result"
    }
   ],
   "source": [
    "# Confirm datatype changes\n",
    "nationals.dtypes"
   ]
  },
  {
   "cell_type": "markdown",
   "metadata": {},
   "source": [
    "#### Save updated records for memory reduction"
   ]
  },
  {
   "cell_type": "code",
   "execution_count": 18,
   "metadata": {},
   "outputs": [],
   "source": [
    "updated_nationals_mem = nationals.memory_usage(deep=True)"
   ]
  },
  {
   "cell_type": "markdown",
   "metadata": {},
   "source": [
    "#### Create a dataframe to compare memory reduction"
   ]
  },
  {
   "cell_type": "code",
   "execution_count": 19,
   "metadata": {},
   "outputs": [],
   "source": [
    "# Create a dataframe using concat method\n",
    "mem_df = pd.concat([nationals_mem, updated_nationals_mem], axis=1)"
   ]
  },
  {
   "cell_type": "code",
   "execution_count": 20,
   "metadata": {},
   "outputs": [],
   "source": [
    "# Labels columns\n",
    "mem_df.columns = ['Memory Pre Change', 'Memory Post Change']"
   ]
  },
  {
   "cell_type": "code",
   "execution_count": 21,
   "metadata": {},
   "outputs": [],
   "source": [
    "# Create two new calculated columns, the absolute and the percent change\n",
    "mem_df['Absolute Change'] = mem_df['Memory Post Change'] - mem_df['Memory Pre Change']\n",
    "mem_df[\"Percent Change\"] = ((mem_df['Memory Post Change'] - mem_df['Memory Pre Change'])/mem_df['Memory Pre Change'])"
   ]
  },
  {
   "cell_type": "markdown",
   "metadata": {},
   "source": [
    "#### Style table for readability"
   ]
  },
  {
   "cell_type": "code",
   "execution_count": 22,
   "metadata": {},
   "outputs": [],
   "source": [
    "# Function to change negative values to red\n",
    "def color_negative_red(val):\n",
    "    color = 'red' if val < 0 else 'black'\n",
    "    return 'color: %s' % color"
   ]
  },
  {
   "cell_type": "code",
   "execution_count": 23,
   "metadata": {},
   "outputs": [
    {
     "data": {
      "text/html": [
       "<style  type=\"text/css\" >\n",
       "    #T_a225f9d2_fe86_11e9_a045_8c8590a62a4crow0_col0 {\n",
       "            color:  black;\n",
       "        }    #T_a225f9d2_fe86_11e9_a045_8c8590a62a4crow0_col1 {\n",
       "            color:  black;\n",
       "        }    #T_a225f9d2_fe86_11e9_a045_8c8590a62a4crow0_col2 {\n",
       "            color:  black;\n",
       "        }    #T_a225f9d2_fe86_11e9_a045_8c8590a62a4crow0_col3 {\n",
       "            color:  black;\n",
       "        }    #T_a225f9d2_fe86_11e9_a045_8c8590a62a4crow1_col0 {\n",
       "            color:  black;\n",
       "        }    #T_a225f9d2_fe86_11e9_a045_8c8590a62a4crow1_col1 {\n",
       "            color:  black;\n",
       "        }    #T_a225f9d2_fe86_11e9_a045_8c8590a62a4crow1_col2 {\n",
       "            color:  red;\n",
       "        }    #T_a225f9d2_fe86_11e9_a045_8c8590a62a4crow1_col3 {\n",
       "            color:  red;\n",
       "        }    #T_a225f9d2_fe86_11e9_a045_8c8590a62a4crow2_col0 {\n",
       "            color:  black;\n",
       "        }    #T_a225f9d2_fe86_11e9_a045_8c8590a62a4crow2_col1 {\n",
       "            color:  black;\n",
       "        }    #T_a225f9d2_fe86_11e9_a045_8c8590a62a4crow2_col2 {\n",
       "            color:  red;\n",
       "        }    #T_a225f9d2_fe86_11e9_a045_8c8590a62a4crow2_col3 {\n",
       "            color:  red;\n",
       "        }    #T_a225f9d2_fe86_11e9_a045_8c8590a62a4crow3_col0 {\n",
       "            color:  black;\n",
       "        }    #T_a225f9d2_fe86_11e9_a045_8c8590a62a4crow3_col1 {\n",
       "            color:  black;\n",
       "        }    #T_a225f9d2_fe86_11e9_a045_8c8590a62a4crow3_col2 {\n",
       "            color:  black;\n",
       "        }    #T_a225f9d2_fe86_11e9_a045_8c8590a62a4crow3_col3 {\n",
       "            color:  black;\n",
       "        }    #T_a225f9d2_fe86_11e9_a045_8c8590a62a4crow4_col0 {\n",
       "            color:  black;\n",
       "        }    #T_a225f9d2_fe86_11e9_a045_8c8590a62a4crow4_col1 {\n",
       "            color:  black;\n",
       "        }    #T_a225f9d2_fe86_11e9_a045_8c8590a62a4crow4_col2 {\n",
       "            color:  red;\n",
       "        }    #T_a225f9d2_fe86_11e9_a045_8c8590a62a4crow4_col3 {\n",
       "            color:  red;\n",
       "        }    #T_a225f9d2_fe86_11e9_a045_8c8590a62a4crow5_col0 {\n",
       "            color:  black;\n",
       "        }    #T_a225f9d2_fe86_11e9_a045_8c8590a62a4crow5_col1 {\n",
       "            color:  black;\n",
       "        }    #T_a225f9d2_fe86_11e9_a045_8c8590a62a4crow5_col2 {\n",
       "            color:  red;\n",
       "        }    #T_a225f9d2_fe86_11e9_a045_8c8590a62a4crow5_col3 {\n",
       "            color:  red;\n",
       "        }    #T_a225f9d2_fe86_11e9_a045_8c8590a62a4crow6_col0 {\n",
       "            color:  black;\n",
       "        }    #T_a225f9d2_fe86_11e9_a045_8c8590a62a4crow6_col1 {\n",
       "            color:  black;\n",
       "        }    #T_a225f9d2_fe86_11e9_a045_8c8590a62a4crow6_col2 {\n",
       "            color:  red;\n",
       "        }    #T_a225f9d2_fe86_11e9_a045_8c8590a62a4crow6_col3 {\n",
       "            color:  red;\n",
       "        }    #T_a225f9d2_fe86_11e9_a045_8c8590a62a4crow7_col0 {\n",
       "            color:  black;\n",
       "        }    #T_a225f9d2_fe86_11e9_a045_8c8590a62a4crow7_col1 {\n",
       "            color:  black;\n",
       "        }    #T_a225f9d2_fe86_11e9_a045_8c8590a62a4crow7_col2 {\n",
       "            color:  red;\n",
       "        }    #T_a225f9d2_fe86_11e9_a045_8c8590a62a4crow7_col3 {\n",
       "            color:  red;\n",
       "        }    #T_a225f9d2_fe86_11e9_a045_8c8590a62a4crow8_col0 {\n",
       "            color:  black;\n",
       "        }    #T_a225f9d2_fe86_11e9_a045_8c8590a62a4crow8_col1 {\n",
       "            color:  black;\n",
       "        }    #T_a225f9d2_fe86_11e9_a045_8c8590a62a4crow8_col2 {\n",
       "            color:  red;\n",
       "        }    #T_a225f9d2_fe86_11e9_a045_8c8590a62a4crow8_col3 {\n",
       "            color:  red;\n",
       "        }    #T_a225f9d2_fe86_11e9_a045_8c8590a62a4crow9_col0 {\n",
       "            color:  black;\n",
       "        }    #T_a225f9d2_fe86_11e9_a045_8c8590a62a4crow9_col1 {\n",
       "            color:  black;\n",
       "        }    #T_a225f9d2_fe86_11e9_a045_8c8590a62a4crow9_col2 {\n",
       "            color:  red;\n",
       "        }    #T_a225f9d2_fe86_11e9_a045_8c8590a62a4crow9_col3 {\n",
       "            color:  red;\n",
       "        }    #T_a225f9d2_fe86_11e9_a045_8c8590a62a4crow10_col0 {\n",
       "            color:  black;\n",
       "        }    #T_a225f9d2_fe86_11e9_a045_8c8590a62a4crow10_col1 {\n",
       "            color:  black;\n",
       "        }    #T_a225f9d2_fe86_11e9_a045_8c8590a62a4crow10_col2 {\n",
       "            color:  red;\n",
       "        }    #T_a225f9d2_fe86_11e9_a045_8c8590a62a4crow10_col3 {\n",
       "            color:  red;\n",
       "        }    #T_a225f9d2_fe86_11e9_a045_8c8590a62a4crow11_col0 {\n",
       "            color:  black;\n",
       "        }    #T_a225f9d2_fe86_11e9_a045_8c8590a62a4crow11_col1 {\n",
       "            color:  black;\n",
       "        }    #T_a225f9d2_fe86_11e9_a045_8c8590a62a4crow11_col2 {\n",
       "            color:  red;\n",
       "        }    #T_a225f9d2_fe86_11e9_a045_8c8590a62a4crow11_col3 {\n",
       "            color:  red;\n",
       "        }    #T_a225f9d2_fe86_11e9_a045_8c8590a62a4crow12_col0 {\n",
       "            color:  black;\n",
       "        }    #T_a225f9d2_fe86_11e9_a045_8c8590a62a4crow12_col1 {\n",
       "            color:  black;\n",
       "        }    #T_a225f9d2_fe86_11e9_a045_8c8590a62a4crow12_col2 {\n",
       "            color:  red;\n",
       "        }    #T_a225f9d2_fe86_11e9_a045_8c8590a62a4crow12_col3 {\n",
       "            color:  red;\n",
       "        }    #T_a225f9d2_fe86_11e9_a045_8c8590a62a4crow13_col0 {\n",
       "            color:  black;\n",
       "        }    #T_a225f9d2_fe86_11e9_a045_8c8590a62a4crow13_col1 {\n",
       "            color:  black;\n",
       "        }    #T_a225f9d2_fe86_11e9_a045_8c8590a62a4crow13_col2 {\n",
       "            color:  red;\n",
       "        }    #T_a225f9d2_fe86_11e9_a045_8c8590a62a4crow13_col3 {\n",
       "            color:  red;\n",
       "        }    #T_a225f9d2_fe86_11e9_a045_8c8590a62a4crow14_col0 {\n",
       "            color:  black;\n",
       "        }    #T_a225f9d2_fe86_11e9_a045_8c8590a62a4crow14_col1 {\n",
       "            color:  black;\n",
       "        }    #T_a225f9d2_fe86_11e9_a045_8c8590a62a4crow14_col2 {\n",
       "            color:  red;\n",
       "        }    #T_a225f9d2_fe86_11e9_a045_8c8590a62a4crow14_col3 {\n",
       "            color:  red;\n",
       "        }    #T_a225f9d2_fe86_11e9_a045_8c8590a62a4crow15_col0 {\n",
       "            color:  black;\n",
       "        }    #T_a225f9d2_fe86_11e9_a045_8c8590a62a4crow15_col1 {\n",
       "            color:  black;\n",
       "        }    #T_a225f9d2_fe86_11e9_a045_8c8590a62a4crow15_col2 {\n",
       "            color:  red;\n",
       "        }    #T_a225f9d2_fe86_11e9_a045_8c8590a62a4crow15_col3 {\n",
       "            color:  red;\n",
       "        }    #T_a225f9d2_fe86_11e9_a045_8c8590a62a4crow16_col0 {\n",
       "            color:  black;\n",
       "        }    #T_a225f9d2_fe86_11e9_a045_8c8590a62a4crow16_col1 {\n",
       "            color:  black;\n",
       "        }    #T_a225f9d2_fe86_11e9_a045_8c8590a62a4crow16_col2 {\n",
       "            color:  red;\n",
       "        }    #T_a225f9d2_fe86_11e9_a045_8c8590a62a4crow16_col3 {\n",
       "            color:  red;\n",
       "        }    #T_a225f9d2_fe86_11e9_a045_8c8590a62a4crow17_col0 {\n",
       "            color:  black;\n",
       "        }    #T_a225f9d2_fe86_11e9_a045_8c8590a62a4crow17_col1 {\n",
       "            color:  black;\n",
       "        }    #T_a225f9d2_fe86_11e9_a045_8c8590a62a4crow17_col2 {\n",
       "            color:  red;\n",
       "        }    #T_a225f9d2_fe86_11e9_a045_8c8590a62a4crow17_col3 {\n",
       "            color:  red;\n",
       "        }    #T_a225f9d2_fe86_11e9_a045_8c8590a62a4crow18_col0 {\n",
       "            color:  black;\n",
       "        }    #T_a225f9d2_fe86_11e9_a045_8c8590a62a4crow18_col1 {\n",
       "            color:  black;\n",
       "        }    #T_a225f9d2_fe86_11e9_a045_8c8590a62a4crow18_col2 {\n",
       "            color:  red;\n",
       "        }    #T_a225f9d2_fe86_11e9_a045_8c8590a62a4crow18_col3 {\n",
       "            color:  red;\n",
       "        }    #T_a225f9d2_fe86_11e9_a045_8c8590a62a4crow19_col0 {\n",
       "            color:  black;\n",
       "        }    #T_a225f9d2_fe86_11e9_a045_8c8590a62a4crow19_col1 {\n",
       "            color:  black;\n",
       "        }    #T_a225f9d2_fe86_11e9_a045_8c8590a62a4crow19_col2 {\n",
       "            color:  red;\n",
       "        }    #T_a225f9d2_fe86_11e9_a045_8c8590a62a4crow19_col3 {\n",
       "            color:  red;\n",
       "        }    #T_a225f9d2_fe86_11e9_a045_8c8590a62a4crow20_col0 {\n",
       "            color:  black;\n",
       "        }    #T_a225f9d2_fe86_11e9_a045_8c8590a62a4crow20_col1 {\n",
       "            color:  black;\n",
       "        }    #T_a225f9d2_fe86_11e9_a045_8c8590a62a4crow20_col2 {\n",
       "            color:  red;\n",
       "        }    #T_a225f9d2_fe86_11e9_a045_8c8590a62a4crow20_col3 {\n",
       "            color:  red;\n",
       "        }    #T_a225f9d2_fe86_11e9_a045_8c8590a62a4crow21_col0 {\n",
       "            color:  black;\n",
       "        }    #T_a225f9d2_fe86_11e9_a045_8c8590a62a4crow21_col1 {\n",
       "            color:  black;\n",
       "        }    #T_a225f9d2_fe86_11e9_a045_8c8590a62a4crow21_col2 {\n",
       "            color:  red;\n",
       "        }    #T_a225f9d2_fe86_11e9_a045_8c8590a62a4crow21_col3 {\n",
       "            color:  red;\n",
       "        }    #T_a225f9d2_fe86_11e9_a045_8c8590a62a4crow22_col0 {\n",
       "            color:  black;\n",
       "        }    #T_a225f9d2_fe86_11e9_a045_8c8590a62a4crow22_col1 {\n",
       "            color:  black;\n",
       "        }    #T_a225f9d2_fe86_11e9_a045_8c8590a62a4crow22_col2 {\n",
       "            color:  red;\n",
       "        }    #T_a225f9d2_fe86_11e9_a045_8c8590a62a4crow22_col3 {\n",
       "            color:  red;\n",
       "        }    #T_a225f9d2_fe86_11e9_a045_8c8590a62a4crow23_col0 {\n",
       "            color:  black;\n",
       "        }    #T_a225f9d2_fe86_11e9_a045_8c8590a62a4crow23_col1 {\n",
       "            color:  black;\n",
       "        }    #T_a225f9d2_fe86_11e9_a045_8c8590a62a4crow23_col2 {\n",
       "            color:  red;\n",
       "        }    #T_a225f9d2_fe86_11e9_a045_8c8590a62a4crow23_col3 {\n",
       "            color:  red;\n",
       "        }    #T_a225f9d2_fe86_11e9_a045_8c8590a62a4crow24_col0 {\n",
       "            color:  black;\n",
       "        }    #T_a225f9d2_fe86_11e9_a045_8c8590a62a4crow24_col1 {\n",
       "            color:  black;\n",
       "        }    #T_a225f9d2_fe86_11e9_a045_8c8590a62a4crow24_col2 {\n",
       "            color:  red;\n",
       "        }    #T_a225f9d2_fe86_11e9_a045_8c8590a62a4crow24_col3 {\n",
       "            color:  red;\n",
       "        }    #T_a225f9d2_fe86_11e9_a045_8c8590a62a4crow25_col0 {\n",
       "            color:  black;\n",
       "        }    #T_a225f9d2_fe86_11e9_a045_8c8590a62a4crow25_col1 {\n",
       "            color:  black;\n",
       "        }    #T_a225f9d2_fe86_11e9_a045_8c8590a62a4crow25_col2 {\n",
       "            color:  red;\n",
       "        }    #T_a225f9d2_fe86_11e9_a045_8c8590a62a4crow25_col3 {\n",
       "            color:  red;\n",
       "        }    #T_a225f9d2_fe86_11e9_a045_8c8590a62a4crow26_col0 {\n",
       "            color:  black;\n",
       "        }    #T_a225f9d2_fe86_11e9_a045_8c8590a62a4crow26_col1 {\n",
       "            color:  black;\n",
       "        }    #T_a225f9d2_fe86_11e9_a045_8c8590a62a4crow26_col2 {\n",
       "            color:  red;\n",
       "        }    #T_a225f9d2_fe86_11e9_a045_8c8590a62a4crow26_col3 {\n",
       "            color:  red;\n",
       "        }    #T_a225f9d2_fe86_11e9_a045_8c8590a62a4crow27_col0 {\n",
       "            color:  black;\n",
       "        }    #T_a225f9d2_fe86_11e9_a045_8c8590a62a4crow27_col1 {\n",
       "            color:  black;\n",
       "        }    #T_a225f9d2_fe86_11e9_a045_8c8590a62a4crow27_col2 {\n",
       "            color:  red;\n",
       "        }    #T_a225f9d2_fe86_11e9_a045_8c8590a62a4crow27_col3 {\n",
       "            color:  red;\n",
       "        }    #T_a225f9d2_fe86_11e9_a045_8c8590a62a4crow28_col0 {\n",
       "            color:  black;\n",
       "        }    #T_a225f9d2_fe86_11e9_a045_8c8590a62a4crow28_col1 {\n",
       "            color:  black;\n",
       "        }    #T_a225f9d2_fe86_11e9_a045_8c8590a62a4crow28_col2 {\n",
       "            color:  red;\n",
       "        }    #T_a225f9d2_fe86_11e9_a045_8c8590a62a4crow28_col3 {\n",
       "            color:  red;\n",
       "        }</style><table id=\"T_a225f9d2_fe86_11e9_a045_8c8590a62a4c\" ><thead>    <tr>        <th class=\"blank level0\" ></th>        <th class=\"col_heading level0 col0\" >Memory Pre Change</th>        <th class=\"col_heading level0 col1\" >Memory Post Change</th>        <th class=\"col_heading level0 col2\" >Absolute Change</th>        <th class=\"col_heading level0 col3\" >Percent Change</th>    </tr></thead><tbody>\n",
       "                <tr>\n",
       "                        <th id=\"T_a225f9d2_fe86_11e9_a045_8c8590a62a4clevel0_row0\" class=\"row_heading level0 row0\" >Index</th>\n",
       "                        <td id=\"T_a225f9d2_fe86_11e9_a045_8c8590a62a4crow0_col0\" class=\"data row0 col0\" >400</td>\n",
       "                        <td id=\"T_a225f9d2_fe86_11e9_a045_8c8590a62a4crow0_col1\" class=\"data row0 col1\" >400</td>\n",
       "                        <td id=\"T_a225f9d2_fe86_11e9_a045_8c8590a62a4crow0_col2\" class=\"data row0 col2\" >0</td>\n",
       "                        <td id=\"T_a225f9d2_fe86_11e9_a045_8c8590a62a4crow0_col3\" class=\"data row0 col3\" >0.00%</td>\n",
       "            </tr>\n",
       "            <tr>\n",
       "                        <th id=\"T_a225f9d2_fe86_11e9_a045_8c8590a62a4clevel0_row1\" class=\"row_heading level0 row1\" >Rank</th>\n",
       "                        <td id=\"T_a225f9d2_fe86_11e9_a045_8c8590a62a4crow1_col0\" class=\"data row1 col0\" >3013</td>\n",
       "                        <td id=\"T_a225f9d2_fe86_11e9_a045_8c8590a62a4crow1_col1\" class=\"data row1 col1\" >400</td>\n",
       "                        <td id=\"T_a225f9d2_fe86_11e9_a045_8c8590a62a4crow1_col2\" class=\"data row1 col2\" >-2613</td>\n",
       "                        <td id=\"T_a225f9d2_fe86_11e9_a045_8c8590a62a4crow1_col3\" class=\"data row1 col3\" >-86.72%</td>\n",
       "            </tr>\n",
       "            <tr>\n",
       "                        <th id=\"T_a225f9d2_fe86_11e9_a045_8c8590a62a4clevel0_row2\" class=\"row_heading level0 row2\" >Position</th>\n",
       "                        <td id=\"T_a225f9d2_fe86_11e9_a045_8c8590a62a4crow2_col0\" class=\"data row2 col0\" >3181</td>\n",
       "                        <td id=\"T_a225f9d2_fe86_11e9_a045_8c8590a62a4crow2_col1\" class=\"data row2 col1\" >1092</td>\n",
       "                        <td id=\"T_a225f9d2_fe86_11e9_a045_8c8590a62a4crow2_col2\" class=\"data row2 col2\" >-2089</td>\n",
       "                        <td id=\"T_a225f9d2_fe86_11e9_a045_8c8590a62a4crow2_col3\" class=\"data row2 col3\" >-65.67%</td>\n",
       "            </tr>\n",
       "            <tr>\n",
       "                        <th id=\"T_a225f9d2_fe86_11e9_a045_8c8590a62a4clevel0_row3\" class=\"row_heading level0 row3\" >Name</th>\n",
       "                        <td id=\"T_a225f9d2_fe86_11e9_a045_8c8590a62a4crow3_col0\" class=\"data row3 col0\" >3502</td>\n",
       "                        <td id=\"T_a225f9d2_fe86_11e9_a045_8c8590a62a4crow3_col1\" class=\"data row3 col1\" >3502</td>\n",
       "                        <td id=\"T_a225f9d2_fe86_11e9_a045_8c8590a62a4crow3_col2\" class=\"data row3 col2\" >0</td>\n",
       "                        <td id=\"T_a225f9d2_fe86_11e9_a045_8c8590a62a4crow3_col3\" class=\"data row3 col3\" >0.00%</td>\n",
       "            </tr>\n",
       "            <tr>\n",
       "                        <th id=\"T_a225f9d2_fe86_11e9_a045_8c8590a62a4clevel0_row4\" class=\"row_heading level0 row4\" >Age</th>\n",
       "                        <td id=\"T_a225f9d2_fe86_11e9_a045_8c8590a62a4crow4_col0\" class=\"data row4 col0\" >2950</td>\n",
       "                        <td id=\"T_a225f9d2_fe86_11e9_a045_8c8590a62a4crow4_col1\" class=\"data row4 col1\" >400</td>\n",
       "                        <td id=\"T_a225f9d2_fe86_11e9_a045_8c8590a62a4crow4_col2\" class=\"data row4 col2\" >-2550</td>\n",
       "                        <td id=\"T_a225f9d2_fe86_11e9_a045_8c8590a62a4crow4_col3\" class=\"data row4 col3\" >-86.44%</td>\n",
       "            </tr>\n",
       "            <tr>\n",
       "                        <th id=\"T_a225f9d2_fe86_11e9_a045_8c8590a62a4clevel0_row5\" class=\"row_heading level0 row5\" >Games_Played</th>\n",
       "                        <td id=\"T_a225f9d2_fe86_11e9_a045_8c8590a62a4crow5_col0\" class=\"data row5 col0\" >3056</td>\n",
       "                        <td id=\"T_a225f9d2_fe86_11e9_a045_8c8590a62a4crow5_col1\" class=\"data row5 col1\" >400</td>\n",
       "                        <td id=\"T_a225f9d2_fe86_11e9_a045_8c8590a62a4crow5_col2\" class=\"data row5 col2\" >-2656</td>\n",
       "                        <td id=\"T_a225f9d2_fe86_11e9_a045_8c8590a62a4crow5_col3\" class=\"data row5 col3\" >-86.91%</td>\n",
       "            </tr>\n",
       "            <tr>\n",
       "                        <th id=\"T_a225f9d2_fe86_11e9_a045_8c8590a62a4clevel0_row6\" class=\"row_heading level0 row6\" >Plate_Apperance</th>\n",
       "                        <td id=\"T_a225f9d2_fe86_11e9_a045_8c8590a62a4crow6_col0\" class=\"data row6 col0\" >3118</td>\n",
       "                        <td id=\"T_a225f9d2_fe86_11e9_a045_8c8590a62a4crow6_col1\" class=\"data row6 col1\" >400</td>\n",
       "                        <td id=\"T_a225f9d2_fe86_11e9_a045_8c8590a62a4crow6_col2\" class=\"data row6 col2\" >-2718</td>\n",
       "                        <td id=\"T_a225f9d2_fe86_11e9_a045_8c8590a62a4crow6_col3\" class=\"data row6 col3\" >-87.17%</td>\n",
       "            </tr>\n",
       "            <tr>\n",
       "                        <th id=\"T_a225f9d2_fe86_11e9_a045_8c8590a62a4clevel0_row7\" class=\"row_heading level0 row7\" >At_Bat</th>\n",
       "                        <td id=\"T_a225f9d2_fe86_11e9_a045_8c8590a62a4crow7_col0\" class=\"data row7 col0\" >3132</td>\n",
       "                        <td id=\"T_a225f9d2_fe86_11e9_a045_8c8590a62a4crow7_col1\" class=\"data row7 col1\" >400</td>\n",
       "                        <td id=\"T_a225f9d2_fe86_11e9_a045_8c8590a62a4crow7_col2\" class=\"data row7 col2\" >-2732</td>\n",
       "                        <td id=\"T_a225f9d2_fe86_11e9_a045_8c8590a62a4crow7_col3\" class=\"data row7 col3\" >-87.23%</td>\n",
       "            </tr>\n",
       "            <tr>\n",
       "                        <th id=\"T_a225f9d2_fe86_11e9_a045_8c8590a62a4clevel0_row8\" class=\"row_heading level0 row8\" >Runs</th>\n",
       "                        <td id=\"T_a225f9d2_fe86_11e9_a045_8c8590a62a4crow8_col0\" class=\"data row8 col0\" >3198</td>\n",
       "                        <td id=\"T_a225f9d2_fe86_11e9_a045_8c8590a62a4crow8_col1\" class=\"data row8 col1\" >400</td>\n",
       "                        <td id=\"T_a225f9d2_fe86_11e9_a045_8c8590a62a4crow8_col2\" class=\"data row8 col2\" >-2798</td>\n",
       "                        <td id=\"T_a225f9d2_fe86_11e9_a045_8c8590a62a4crow8_col3\" class=\"data row8 col3\" >-87.49%</td>\n",
       "            </tr>\n",
       "            <tr>\n",
       "                        <th id=\"T_a225f9d2_fe86_11e9_a045_8c8590a62a4clevel0_row9\" class=\"row_heading level0 row9\" >Hits</th>\n",
       "                        <td id=\"T_a225f9d2_fe86_11e9_a045_8c8590a62a4crow9_col0\" class=\"data row9 col0\" >3180</td>\n",
       "                        <td id=\"T_a225f9d2_fe86_11e9_a045_8c8590a62a4crow9_col1\" class=\"data row9 col1\" >400</td>\n",
       "                        <td id=\"T_a225f9d2_fe86_11e9_a045_8c8590a62a4crow9_col2\" class=\"data row9 col2\" >-2780</td>\n",
       "                        <td id=\"T_a225f9d2_fe86_11e9_a045_8c8590a62a4crow9_col3\" class=\"data row9 col3\" >-87.42%</td>\n",
       "            </tr>\n",
       "            <tr>\n",
       "                        <th id=\"T_a225f9d2_fe86_11e9_a045_8c8590a62a4clevel0_row10\" class=\"row_heading level0 row10\" >2B</th>\n",
       "                        <td id=\"T_a225f9d2_fe86_11e9_a045_8c8590a62a4crow10_col0\" class=\"data row10 col0\" >3216</td>\n",
       "                        <td id=\"T_a225f9d2_fe86_11e9_a045_8c8590a62a4crow10_col1\" class=\"data row10 col1\" >400</td>\n",
       "                        <td id=\"T_a225f9d2_fe86_11e9_a045_8c8590a62a4crow10_col2\" class=\"data row10 col2\" >-2816</td>\n",
       "                        <td id=\"T_a225f9d2_fe86_11e9_a045_8c8590a62a4crow10_col3\" class=\"data row10 col3\" >-87.56%</td>\n",
       "            </tr>\n",
       "            <tr>\n",
       "                        <th id=\"T_a225f9d2_fe86_11e9_a045_8c8590a62a4clevel0_row11\" class=\"row_heading level0 row11\" >3B</th>\n",
       "                        <td id=\"T_a225f9d2_fe86_11e9_a045_8c8590a62a4crow11_col0\" class=\"data row11 col0\" >3300</td>\n",
       "                        <td id=\"T_a225f9d2_fe86_11e9_a045_8c8590a62a4crow11_col1\" class=\"data row11 col1\" >400</td>\n",
       "                        <td id=\"T_a225f9d2_fe86_11e9_a045_8c8590a62a4crow11_col2\" class=\"data row11 col2\" >-2900</td>\n",
       "                        <td id=\"T_a225f9d2_fe86_11e9_a045_8c8590a62a4crow11_col3\" class=\"data row11 col3\" >-87.88%</td>\n",
       "            </tr>\n",
       "            <tr>\n",
       "                        <th id=\"T_a225f9d2_fe86_11e9_a045_8c8590a62a4clevel0_row12\" class=\"row_heading level0 row12\" >HR</th>\n",
       "                        <td id=\"T_a225f9d2_fe86_11e9_a045_8c8590a62a4crow12_col0\" class=\"data row12 col0\" >3230</td>\n",
       "                        <td id=\"T_a225f9d2_fe86_11e9_a045_8c8590a62a4crow12_col1\" class=\"data row12 col1\" >400</td>\n",
       "                        <td id=\"T_a225f9d2_fe86_11e9_a045_8c8590a62a4crow12_col2\" class=\"data row12 col2\" >-2830</td>\n",
       "                        <td id=\"T_a225f9d2_fe86_11e9_a045_8c8590a62a4crow12_col3\" class=\"data row12 col3\" >-87.62%</td>\n",
       "            </tr>\n",
       "            <tr>\n",
       "                        <th id=\"T_a225f9d2_fe86_11e9_a045_8c8590a62a4clevel0_row13\" class=\"row_heading level0 row13\" >RBI</th>\n",
       "                        <td id=\"T_a225f9d2_fe86_11e9_a045_8c8590a62a4crow13_col0\" class=\"data row13 col0\" >3204</td>\n",
       "                        <td id=\"T_a225f9d2_fe86_11e9_a045_8c8590a62a4crow13_col1\" class=\"data row13 col1\" >400</td>\n",
       "                        <td id=\"T_a225f9d2_fe86_11e9_a045_8c8590a62a4crow13_col2\" class=\"data row13 col2\" >-2804</td>\n",
       "                        <td id=\"T_a225f9d2_fe86_11e9_a045_8c8590a62a4crow13_col3\" class=\"data row13 col3\" >-87.52%</td>\n",
       "            </tr>\n",
       "            <tr>\n",
       "                        <th id=\"T_a225f9d2_fe86_11e9_a045_8c8590a62a4clevel0_row14\" class=\"row_heading level0 row14\" >Stolen_Bases</th>\n",
       "                        <td id=\"T_a225f9d2_fe86_11e9_a045_8c8590a62a4crow14_col0\" class=\"data row14 col0\" >3272</td>\n",
       "                        <td id=\"T_a225f9d2_fe86_11e9_a045_8c8590a62a4crow14_col1\" class=\"data row14 col1\" >400</td>\n",
       "                        <td id=\"T_a225f9d2_fe86_11e9_a045_8c8590a62a4crow14_col2\" class=\"data row14 col2\" >-2872</td>\n",
       "                        <td id=\"T_a225f9d2_fe86_11e9_a045_8c8590a62a4crow14_col3\" class=\"data row14 col3\" >-87.78%</td>\n",
       "            </tr>\n",
       "            <tr>\n",
       "                        <th id=\"T_a225f9d2_fe86_11e9_a045_8c8590a62a4clevel0_row15\" class=\"row_heading level0 row15\" >Caugt_Stealing</th>\n",
       "                        <td id=\"T_a225f9d2_fe86_11e9_a045_8c8590a62a4crow15_col0\" class=\"data row15 col0\" >3300</td>\n",
       "                        <td id=\"T_a225f9d2_fe86_11e9_a045_8c8590a62a4crow15_col1\" class=\"data row15 col1\" >400</td>\n",
       "                        <td id=\"T_a225f9d2_fe86_11e9_a045_8c8590a62a4crow15_col2\" class=\"data row15 col2\" >-2900</td>\n",
       "                        <td id=\"T_a225f9d2_fe86_11e9_a045_8c8590a62a4crow15_col3\" class=\"data row15 col3\" >-87.88%</td>\n",
       "            </tr>\n",
       "            <tr>\n",
       "                        <th id=\"T_a225f9d2_fe86_11e9_a045_8c8590a62a4clevel0_row16\" class=\"row_heading level0 row16\" >Base_Balls</th>\n",
       "                        <td id=\"T_a225f9d2_fe86_11e9_a045_8c8590a62a4crow16_col0\" class=\"data row16 col0\" >3203</td>\n",
       "                        <td id=\"T_a225f9d2_fe86_11e9_a045_8c8590a62a4crow16_col1\" class=\"data row16 col1\" >400</td>\n",
       "                        <td id=\"T_a225f9d2_fe86_11e9_a045_8c8590a62a4crow16_col2\" class=\"data row16 col2\" >-2803</td>\n",
       "                        <td id=\"T_a225f9d2_fe86_11e9_a045_8c8590a62a4crow16_col3\" class=\"data row16 col3\" >-87.51%</td>\n",
       "            </tr>\n",
       "            <tr>\n",
       "                        <th id=\"T_a225f9d2_fe86_11e9_a045_8c8590a62a4clevel0_row17\" class=\"row_heading level0 row17\" >Strike_Outs</th>\n",
       "                        <td id=\"T_a225f9d2_fe86_11e9_a045_8c8590a62a4crow17_col0\" class=\"data row17 col0\" >3145</td>\n",
       "                        <td id=\"T_a225f9d2_fe86_11e9_a045_8c8590a62a4crow17_col1\" class=\"data row17 col1\" >400</td>\n",
       "                        <td id=\"T_a225f9d2_fe86_11e9_a045_8c8590a62a4crow17_col2\" class=\"data row17 col2\" >-2745</td>\n",
       "                        <td id=\"T_a225f9d2_fe86_11e9_a045_8c8590a62a4crow17_col3\" class=\"data row17 col3\" >-87.28%</td>\n",
       "            </tr>\n",
       "            <tr>\n",
       "                        <th id=\"T_a225f9d2_fe86_11e9_a045_8c8590a62a4clevel0_row18\" class=\"row_heading level0 row18\" >Hits_at_Bat</th>\n",
       "                        <td id=\"T_a225f9d2_fe86_11e9_a045_8c8590a62a4crow18_col0\" class=\"data row18 col0\" >2644</td>\n",
       "                        <td id=\"T_a225f9d2_fe86_11e9_a045_8c8590a62a4crow18_col1\" class=\"data row18 col1\" >400</td>\n",
       "                        <td id=\"T_a225f9d2_fe86_11e9_a045_8c8590a62a4crow18_col2\" class=\"data row18 col2\" >-2244</td>\n",
       "                        <td id=\"T_a225f9d2_fe86_11e9_a045_8c8590a62a4crow18_col3\" class=\"data row18 col3\" >-84.87%</td>\n",
       "            </tr>\n",
       "            <tr>\n",
       "                        <th id=\"T_a225f9d2_fe86_11e9_a045_8c8590a62a4clevel0_row19\" class=\"row_heading level0 row19\" >OBP</th>\n",
       "                        <td id=\"T_a225f9d2_fe86_11e9_a045_8c8590a62a4crow19_col0\" class=\"data row19 col0\" >2644</td>\n",
       "                        <td id=\"T_a225f9d2_fe86_11e9_a045_8c8590a62a4crow19_col1\" class=\"data row19 col1\" >400</td>\n",
       "                        <td id=\"T_a225f9d2_fe86_11e9_a045_8c8590a62a4crow19_col2\" class=\"data row19 col2\" >-2244</td>\n",
       "                        <td id=\"T_a225f9d2_fe86_11e9_a045_8c8590a62a4crow19_col3\" class=\"data row19 col3\" >-84.87%</td>\n",
       "            </tr>\n",
       "            <tr>\n",
       "                        <th id=\"T_a225f9d2_fe86_11e9_a045_8c8590a62a4clevel0_row20\" class=\"row_heading level0 row20\" >SLG</th>\n",
       "                        <td id=\"T_a225f9d2_fe86_11e9_a045_8c8590a62a4crow20_col0\" class=\"data row20 col0\" >2644</td>\n",
       "                        <td id=\"T_a225f9d2_fe86_11e9_a045_8c8590a62a4crow20_col1\" class=\"data row20 col1\" >400</td>\n",
       "                        <td id=\"T_a225f9d2_fe86_11e9_a045_8c8590a62a4crow20_col2\" class=\"data row20 col2\" >-2244</td>\n",
       "                        <td id=\"T_a225f9d2_fe86_11e9_a045_8c8590a62a4crow20_col3\" class=\"data row20 col3\" >-84.87%</td>\n",
       "            </tr>\n",
       "            <tr>\n",
       "                        <th id=\"T_a225f9d2_fe86_11e9_a045_8c8590a62a4clevel0_row21\" class=\"row_heading level0 row21\" >OPS</th>\n",
       "                        <td id=\"T_a225f9d2_fe86_11e9_a045_8c8590a62a4crow21_col0\" class=\"data row21 col0\" >2645</td>\n",
       "                        <td id=\"T_a225f9d2_fe86_11e9_a045_8c8590a62a4crow21_col1\" class=\"data row21 col1\" >400</td>\n",
       "                        <td id=\"T_a225f9d2_fe86_11e9_a045_8c8590a62a4crow21_col2\" class=\"data row21 col2\" >-2245</td>\n",
       "                        <td id=\"T_a225f9d2_fe86_11e9_a045_8c8590a62a4crow21_col3\" class=\"data row21 col3\" >-84.88%</td>\n",
       "            </tr>\n",
       "            <tr>\n",
       "                        <th id=\"T_a225f9d2_fe86_11e9_a045_8c8590a62a4clevel0_row22\" class=\"row_heading level0 row22\" >OPS+</th>\n",
       "                        <td id=\"T_a225f9d2_fe86_11e9_a045_8c8590a62a4crow22_col0\" class=\"data row22 col0\" >2614</td>\n",
       "                        <td id=\"T_a225f9d2_fe86_11e9_a045_8c8590a62a4crow22_col1\" class=\"data row22 col1\" >400</td>\n",
       "                        <td id=\"T_a225f9d2_fe86_11e9_a045_8c8590a62a4crow22_col2\" class=\"data row22 col2\" >-2214</td>\n",
       "                        <td id=\"T_a225f9d2_fe86_11e9_a045_8c8590a62a4crow22_col3\" class=\"data row22 col3\" >-84.70%</td>\n",
       "            </tr>\n",
       "            <tr>\n",
       "                        <th id=\"T_a225f9d2_fe86_11e9_a045_8c8590a62a4clevel0_row23\" class=\"row_heading level0 row23\" >Total_Bases</th>\n",
       "                        <td id=\"T_a225f9d2_fe86_11e9_a045_8c8590a62a4crow23_col0\" class=\"data row23 col0\" >3177</td>\n",
       "                        <td id=\"T_a225f9d2_fe86_11e9_a045_8c8590a62a4crow23_col1\" class=\"data row23 col1\" >400</td>\n",
       "                        <td id=\"T_a225f9d2_fe86_11e9_a045_8c8590a62a4crow23_col2\" class=\"data row23 col2\" >-2777</td>\n",
       "                        <td id=\"T_a225f9d2_fe86_11e9_a045_8c8590a62a4crow23_col3\" class=\"data row23 col3\" >-87.41%</td>\n",
       "            </tr>\n",
       "            <tr>\n",
       "                        <th id=\"T_a225f9d2_fe86_11e9_a045_8c8590a62a4clevel0_row24\" class=\"row_heading level0 row24\" >GDP</th>\n",
       "                        <td id=\"T_a225f9d2_fe86_11e9_a045_8c8590a62a4crow24_col0\" class=\"data row24 col0\" >3258</td>\n",
       "                        <td id=\"T_a225f9d2_fe86_11e9_a045_8c8590a62a4crow24_col1\" class=\"data row24 col1\" >400</td>\n",
       "                        <td id=\"T_a225f9d2_fe86_11e9_a045_8c8590a62a4crow24_col2\" class=\"data row24 col2\" >-2858</td>\n",
       "                        <td id=\"T_a225f9d2_fe86_11e9_a045_8c8590a62a4crow24_col3\" class=\"data row24 col3\" >-87.72%</td>\n",
       "            </tr>\n",
       "            <tr>\n",
       "                        <th id=\"T_a225f9d2_fe86_11e9_a045_8c8590a62a4clevel0_row25\" class=\"row_heading level0 row25\" >Hits_by_Pitch</th>\n",
       "                        <td id=\"T_a225f9d2_fe86_11e9_a045_8c8590a62a4crow25_col0\" class=\"data row25 col0\" >3279</td>\n",
       "                        <td id=\"T_a225f9d2_fe86_11e9_a045_8c8590a62a4crow25_col1\" class=\"data row25 col1\" >400</td>\n",
       "                        <td id=\"T_a225f9d2_fe86_11e9_a045_8c8590a62a4crow25_col2\" class=\"data row25 col2\" >-2879</td>\n",
       "                        <td id=\"T_a225f9d2_fe86_11e9_a045_8c8590a62a4crow25_col3\" class=\"data row25 col3\" >-87.80%</td>\n",
       "            </tr>\n",
       "            <tr>\n",
       "                        <th id=\"T_a225f9d2_fe86_11e9_a045_8c8590a62a4clevel0_row26\" class=\"row_heading level0 row26\" >SH</th>\n",
       "                        <td id=\"T_a225f9d2_fe86_11e9_a045_8c8590a62a4crow26_col0\" class=\"data row26 col0\" >3300</td>\n",
       "                        <td id=\"T_a225f9d2_fe86_11e9_a045_8c8590a62a4crow26_col1\" class=\"data row26 col1\" >400</td>\n",
       "                        <td id=\"T_a225f9d2_fe86_11e9_a045_8c8590a62a4crow26_col2\" class=\"data row26 col2\" >-2900</td>\n",
       "                        <td id=\"T_a225f9d2_fe86_11e9_a045_8c8590a62a4crow26_col3\" class=\"data row26 col3\" >-87.88%</td>\n",
       "            </tr>\n",
       "            <tr>\n",
       "                        <th id=\"T_a225f9d2_fe86_11e9_a045_8c8590a62a4clevel0_row27\" class=\"row_heading level0 row27\" >SF</th>\n",
       "                        <td id=\"T_a225f9d2_fe86_11e9_a045_8c8590a62a4crow27_col0\" class=\"data row27 col0\" >3300</td>\n",
       "                        <td id=\"T_a225f9d2_fe86_11e9_a045_8c8590a62a4crow27_col1\" class=\"data row27 col1\" >400</td>\n",
       "                        <td id=\"T_a225f9d2_fe86_11e9_a045_8c8590a62a4crow27_col2\" class=\"data row27 col2\" >-2900</td>\n",
       "                        <td id=\"T_a225f9d2_fe86_11e9_a045_8c8590a62a4crow27_col3\" class=\"data row27 col3\" >-87.88%</td>\n",
       "            </tr>\n",
       "            <tr>\n",
       "                        <th id=\"T_a225f9d2_fe86_11e9_a045_8c8590a62a4clevel0_row28\" class=\"row_heading level0 row28\" >IBB</th>\n",
       "                        <td id=\"T_a225f9d2_fe86_11e9_a045_8c8590a62a4crow28_col0\" class=\"data row28 col0\" >3300</td>\n",
       "                        <td id=\"T_a225f9d2_fe86_11e9_a045_8c8590a62a4crow28_col1\" class=\"data row28 col1\" >400</td>\n",
       "                        <td id=\"T_a225f9d2_fe86_11e9_a045_8c8590a62a4crow28_col2\" class=\"data row28 col2\" >-2900</td>\n",
       "                        <td id=\"T_a225f9d2_fe86_11e9_a045_8c8590a62a4crow28_col3\" class=\"data row28 col3\" >-87.88%</td>\n",
       "            </tr>\n",
       "    </tbody></table>"
      ],
      "text/plain": [
       "<pandas.io.formats.style.Styler at 0x11a92db10>"
      ]
     },
     "execution_count": 23,
     "metadata": {},
     "output_type": "execute_result"
    }
   ],
   "source": [
    "# Style column with negative values and percentage\n",
    "format_dict = {'Percent Change':'{:.2%}'}\n",
    "\n",
    "mem_df.style.format(format_dict).applymap(color_negative_red)"
   ]
  },
  {
   "cell_type": "markdown",
   "metadata": {},
   "source": [
    "## Visual Memory Reduction using a Bar Plot"
   ]
  },
  {
   "cell_type": "markdown",
   "metadata": {},
   "source": [
    "#### Organize variables that will be used in the bar plot"
   ]
  },
  {
   "cell_type": "code",
   "execution_count": 24,
   "metadata": {},
   "outputs": [],
   "source": [
    "# Labels: Prepare a list of column name labels\n",
    "labels = list(nationals.columns.values)\n",
    "\n",
    "# Data values\n",
    "post_memory = list(updated_nationals_mem.values)\n",
    "post_memory = post_memory[1:] #omits the index value because the labels list does not include \"index\"\n",
    "pre_memory = list(nationals_mem.values)\n",
    "pre_memory = pre_memory[1:] #omits the index value because the labels list does not include \"index\""
   ]
  },
  {
   "cell_type": "code",
   "execution_count": 25,
   "metadata": {},
   "outputs": [
    {
     "name": "stdout",
     "output_type": "stream",
     "text": [
      "True True\n"
     ]
    }
   ],
   "source": [
    "# Confirm that the number of labels and the number of values are equal\n",
    "# Otherwise, the bar plots will not be generated\n",
    "print (len(labels) == len(pre_memory),\n",
    "len(labels) == len(post_memory))"
   ]
  },
  {
   "cell_type": "markdown",
   "metadata": {},
   "source": [
    "#### Label location and bar width"
   ]
  },
  {
   "cell_type": "code",
   "execution_count": 26,
   "metadata": {},
   "outputs": [],
   "source": [
    "# the label locations\n",
    "x = np.arange(len(labels))\n",
    "\n",
    "# the width of the bars\n",
    "width = 0.35  "
   ]
  },
  {
   "cell_type": "markdown",
   "metadata": {},
   "source": [
    "#### Figure plot code"
   ]
  },
  {
   "cell_type": "code",
   "execution_count": 27,
   "metadata": {},
   "outputs": [
    {
     "data": {
      "image/png": "[encoded data removed]",
      "text/plain": [
       "<Figure size 432x288 with 1 Axes>"
      ]
     },
     "metadata": {
      "needs_background": "light"
     },
     "output_type": "display_data"
    }
   ],
   "source": [
    "# Creates just a figure and only one subplot\n",
    "fig, ax = plt.subplots()\n",
    "# Code for the bars, one per group\n",
    "rects1 = ax.bar(x - width/2, pre_memory, width, label='Pre Dtype Change') \n",
    "rects2 = ax.bar(x + width/2, post_memory, width, label='Post Dtype Change')\n",
    "\n",
    "# Add some text for labels, title and custom x-axis tick labels, etc.\n",
    "ax.set_ylabel('Memory (bytes)')\n",
    "ax.set_title('Impact of Data Types on Memory')\n",
    "\n",
    "# To set the legend box outside of the plot\n",
    "chartBox = ax.get_position()\n",
    "ax.set_position([chartBox.x0, chartBox.y0, chartBox.width*0.6, chartBox.height])\n",
    "# bboxbbox_to_anchor anchors legend box, bboxbbox_to_anchor(x, y)\n",
    "ax.legend(loc='upper center', bbox_to_anchor=(1.2, 1), shadow=False, ncol=1)\n",
    "\n",
    "fig.tight_layout()\n",
    "plt.show()"
   ]
  },
  {
   "cell_type": "code",
   "execution_count": null,
   "metadata": {},
   "outputs": [],
   "source": []
  }
 ],
 "metadata": {
  "kernelspec": {
   "display_name": "Python 3",
   "language": "python",
   "name": "python3"
  },
  "language_info": {
   "codemirror_mode": {
    "name": "ipython",
    "version": 3
   },
   "file_extension": ".py",
   "mimetype": "text/x-python",
   "name": "python",
   "nbconvert_exporter": "python",
   "pygments_lexer": "ipython3",
   "version": "3.7.4"
  }
 },
 "nbformat": 4,
 "nbformat_minor": 2
}

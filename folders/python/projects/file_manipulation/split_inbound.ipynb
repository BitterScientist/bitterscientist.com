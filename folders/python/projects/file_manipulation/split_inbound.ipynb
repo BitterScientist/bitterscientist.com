{
 "cells": [
  {
   "cell_type": "code",
   "execution_count": 1,
   "metadata": {},
   "outputs": [],
   "source": [
    "%%javascript\n",
    "IPython.OutputArea.prototype._should_scroll = function(lines) {\n",
    "    return false;\n",
    "}"
   ]
  },
  {
   "cell_type": "markdown",
   "metadata": {},
   "source": [
    "<div style=\"font-size:16px; border:1px solid black; padding:10px\">\n",
    "<center><h1><br><font color=\"blue\">Goal: Demonstrate How to Split a Large CSV into Multiple Smaller Documents in Jupyter Notebook.</font></h1></center>    \n",
    "    <ol>\n",
    "        <li><a href=\"#objective1\">Case Use for Splitting CSV Files.</a></li><br>\n",
    "        <li><a href=\"#objective2\">File Splitting Code.</a></li><br>   \n",
    "        <li><a href=\"#objective3\">Demonstrate how to run code.</a></li><br>\n",
    "    </ol>\n",
    "</div>"
   ]
  },
  {
   "cell_type": "markdown",
   "metadata": {},
   "source": [
    "<hr style=\"border-top: 5px solid black;\">"
   ]
  },
  {
   "cell_type": "markdown",
   "metadata": {},
   "source": [
    "<div id=\"#objective1\" style=\"font-size:16px; border:1px solid black; padding:10px\">\n",
    "    <center><h1><br><font color=\"blue\">Case Use for Splitting CSV Files.</font></h1></center>\n",
    "    <ol>\n",
    "        <li>Comma Seperated Values is a ubiquotous format for saving and sharing data.</li><br>\n",
    "        <li>In some cases, a CSV file needs to be split into smaller documents.</li><br>\n",
    "        <li>In some cases, a CSV file needs to be split into smaller documents.</li><br>\n",
    "        <li>The aim of this post is to highlight a simple script developed by <a href=\"https://gist.github.com/jrivero/1085501\">jrivero</a></li><br>\n",
    "    </ol>\n",
    "</div>"
   ]
  },
  {
   "cell_type": "markdown",
   "metadata": {},
   "source": [
    "<div id=\"#objective2\" style=\"font-size:16px; border:1px solid black; padding:10px\">\n",
    "    <center><h1><br><font color=\"blue\">CSV File Splitting Code</font></h1></center>\n",
    "    <ol>\n",
    "        <li>Import Dependencies</li><br>\n",
    "        <li>Define Parameters.</li><br>\n",
    "    </ol>\n",
    "</div>"
   ]
  },
  {
   "cell_type": "code",
   "execution_count": 2,
   "metadata": {},
   "outputs": [],
   "source": [
    "# Step 1\n",
    "import os"
   ]
  },
  {
   "cell_type": "markdown",
   "metadata": {},
   "source": [
    "<strong>Key CV File Splitting Parameters.</strong>\n",
    "\n",
    "Arguments:\n",
    " - `row_limit`: The number of rows (instances) that will be in the output file.\n",
    " - `output_name_template`: This will adjust the outfile file name (leave as is, or change everything before the _%s.\n",
    " - `output_path`: Defines the filepath where the csv files will be saved.\n",
    " - `keep_headers`: Boolean parameters that dictate if you will save the headers in each output file."
   ]
  },
  {
   "cell_type": "code",
   "execution_count": 3,
   "metadata": {},
   "outputs": [],
   "source": [
    "def split(filehandler, delimiter=',', row_limit=20000, \n",
    "    output_name_template='output_%s.csv', output_path='.', keep_headers=True):\n",
    "    import csv\n",
    "    reader = csv.reader(filehandler, delimiter=delimiter)\n",
    "    current_piece = 1\n",
    "    current_out_path = os.path.join(\n",
    "         output_path,\n",
    "         output_name_template  % current_piece\n",
    "    )\n",
    "    current_out_writer = csv.writer(open(current_out_path, 'w'), delimiter=delimiter)\n",
    "    current_limit = row_limit\n",
    "    if keep_headers:\n",
    "        headers=next(reader)\n",
    "        current_out_writer.writerow(headers)\n",
    "    for i, row in enumerate(reader):\n",
    "        if i + 1 > current_limit:\n",
    "            current_piece += 1\n",
    "            current_limit = row_limit * current_piece\n",
    "            current_out_path = os.path.join(\n",
    "               output_path,\n",
    "               output_name_template  % current_piece\n",
    "            )\n",
    "            current_out_writer = csv.writer(open(current_out_path, 'w'), delimiter=delimiter)\n",
    "            if keep_headers:\n",
    "                current_out_writer.writerow(headers)\n",
    "        current_out_writer.writerow(row)"
   ]
  },
  {
   "cell_type": "markdown",
   "metadata": {},
   "source": [
    "<div id=\"#objective3\" style=\"font-size:16px; border:1px solid black; padding:10px\">\n",
    "    <center><h1><br><font color=\"blue\">Demonstrate how to run code.</font></h1></center>\n",
    "    <ul>\n",
    "        <li>Change the file, in the example below the file is in the same directory as this jupyter notebook, so i do not need to provide an absolute or relative reference. If the file was one directory below, it would be <code>data/inbound.csv</code></li><br>\n",
    "        <li>Run Code</li><br>\n",
    "        <li>Note: The Split files will have the basename for the file name and <code>_#</code> after it. The <code>#</code> will be the split file number, assigned in the order that the file was split.</li>\n",
    "    </ul>\n",
    "</div>"
   ]
  },
  {
   "cell_type": "code",
   "execution_count": 4,
   "metadata": {},
   "outputs": [],
   "source": [
    "filepath = 'output.csv' # step 1\n",
    "split(open(filepath, 'r')) # step 2"
   ]
  },
  {
   "cell_type": "code",
   "execution_count": 5,
   "metadata": {},
   "outputs": [
    {
     "name": "stdout",
     "output_type": "stream",
     "text": [
      "['split_inbound.ipynb', '.DS_Store', 'output_5.csv', 'output_4.csv', 'output_3.csv', 'output_2.csv', 'output_1.csv', 'output.csv', '.ipynb_checkpoints']\n"
     ]
    }
   ],
   "source": [
    "# confirms the csv file was split into multiple files\n",
    "print(os.listdir(os.getcwd())) "
   ]
  }
 ],
 "metadata": {
  "kernelspec": {
   "display_name": "Python 3",
   "language": "python",
   "name": "python3"
  },
  "language_info": {
   "codemirror_mode": {
    "name": "ipython",
    "version": 3
   },
   "file_extension": ".py",
   "mimetype": "text/x-python",
   "name": "python",
   "nbconvert_exporter": "python",
   "pygments_lexer": "ipython3",
   "version": "3.8.2"
  }
 },
 "nbformat": 4,
 "nbformat_minor": 4
}

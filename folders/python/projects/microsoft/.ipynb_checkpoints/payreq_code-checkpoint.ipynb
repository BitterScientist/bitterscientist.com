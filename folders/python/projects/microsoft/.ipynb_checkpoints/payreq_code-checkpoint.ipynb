{
 "cells": [
  {
   "cell_type": "markdown",
   "metadata": {},
   "source": [
    "# Read Me (Project Goal)"
   ]
  },
  {
   "cell_type": "markdown",
   "metadata": {},
   "source": [
    "<strong>Step 1: Payment requisitions</strong><br>\n",
    "Convert payment requisitions into a PDF<br>\n",
    "<strong>Step 2: Get file names</strong><br>\n",
    "get matching file names<br>\n",
    "<strong>Step 3: Split Payment Requisition PDF into single files</strong><br>\n",
    "Split file and Save files with specific scholar name<br>\n",
    "<strong>Step 4: Merge files</strong><br>\n",
    "merge progress report, contract, and payment requisition into a pacakge and save file with new name<br>\n",
    "<strong>Step 5: Move Files into New Directories</strong><br>\n",
    "Moves files into subdirectories for automated sorting and easier to email<br>\n",
    "<strong>Step 6: Notify students of missing document</strong><br>\n",
    "send email from jupyter notebook<br><br>\n",
    "\n",
    "\n",
    "## <strong>File Directory Structure (Before)<br></strong>\n",
    "| Scholar xlsx<br>\n",
    "| Mail merge document (either pdf or word). word would need to be converted to pdf<br>\n",
    "| Documents<br>\n",
    "|-- Progress Reports (word or pdf) Lastname_ProgressReport_Block/Nbr<br>\n",
    "|-- Contract (word or pdf) LastName_Contract<br><br>\n",
    "\n",
    "## <strong>File Directory Structure <font color=\"red\">(After)</font><br></strong>\n",
    "| Scholar xlsx<br>\n",
    "| Payment Requisition Mail Merged Document (either pdf or word). word would need to be converted to pdf<br>\n",
    "| Funding Specific directories<br>\n",
    "|-- <font color=\"red\">Merged Payment Requisition Lastname_VSP_PR_NumberofNumber.pdf</font><br>\n",
    "| Documents<br>\n",
    "|-- Progress Reports (word or pdf) Lastname_ProgressReport_Block/Nbr<br>\n",
    "|-- Contract (word or pdf) LastName_Contract<br>\n",
    "<font color=\"red\">|-- Individual Payment Requisition Lastname_1_VSP_PR.pdf</font>\n",
    "\n",
    "## File Saving Convention\n",
    "\n",
    " - <strong>Progress Report:</strong> Lastname_ProgressReportNbr \n",
    " - <strong>Contract:</strong> Lastname_Contract\n",
    " - <strong>Payment Requisition:</strong> Lastname_1_ VSP_PR"
   ]
  },
  {
   "cell_type": "markdown",
   "metadata": {},
   "source": [
    "<hr style=\"height:3px;border-width:0;color:black;background-color:black\">"
   ]
  },
  {
   "cell_type": "markdown",
   "metadata": {},
   "source": [
    "# Import Dependencies"
   ]
  },
  {
   "cell_type": "code",
   "execution_count": 1,
   "metadata": {},
   "outputs": [
    {
     "name": "stdout",
     "output_type": "stream",
     "text": [
      "Wall time: 17.6 s\n"
     ]
    }
   ],
   "source": [
    "%%time\n",
    "# Operating system processing\n",
    "import os\n",
    "import ntpath\n",
    "import glob\n",
    "import shutil\n",
    "\n",
    "# Dataframe processing\n",
    "import pandas as pd\n",
    "\n",
    "# String manipulation\n",
    "import re\n",
    "\n",
    "# Word to PDF processing\n",
    "from docx2pdf import convert\n",
    "\n",
    "# PDF Processing\n",
    "from PyPDF2 import PdfFileReader, PdfFileWriter, PdfFileMerger\n",
    "\n",
    "# Microsoft Outlook interface\n",
    "import win32com.client as win32"
   ]
  },
  {
   "cell_type": "markdown",
   "metadata": {},
   "source": [
    "<hr style=\"height:3px;border-width:0;color:black;background-color:black\">"
   ]
  },
  {
   "cell_type": "markdown",
   "metadata": {},
   "source": [
    "# Filepaths"
   ]
  },
  {
   "cell_type": "code",
   "execution_count": 2,
   "metadata": {},
   "outputs": [
    {
     "name": "stdout",
     "output_type": "stream",
     "text": [
      "Wall time: 0 ns\n"
     ]
    }
   ],
   "source": [
    "%%time\n",
    "# Name of directories and assign to variable\n",
    "path = 'Documents'\n",
    "word_dir = os.path.join(os.getcwd(), path)"
   ]
  },
  {
   "cell_type": "code",
   "execution_count": 3,
   "metadata": {},
   "outputs": [
    {
     "name": "stdout",
     "output_type": "stream",
     "text": [
      "Wall time: 11 ms\n"
     ]
    }
   ],
   "source": [
    "%%time\n",
    "# Print and view the files in directory\n",
    "files = os.listdir(word_dir)"
   ]
  },
  {
   "cell_type": "markdown",
   "metadata": {},
   "source": [
    "<hr style=\"height:3px;border-width:0;color:black;background-color:black\">"
   ]
  },
  {
   "cell_type": "markdown",
   "metadata": {},
   "source": [
    "# <font color=\"red\">Step 1:</font> Batch convert folder of <font color=\"blue\">word documents</font> to <font color=\"red\">pdfs</font> in same directory\n",
    "## <code>convert(\"my_docx_folder/\")</code>"
   ]
  },
  {
   "cell_type": "code",
   "execution_count": 4,
   "metadata": {},
   "outputs": [
    {
     "data": {
      "application/vnd.jupyter.widget-view+json": {
       "model_id": "931bea7262424f1bae9baee7bb7b110a",
       "version_major": 2,
       "version_minor": 0
      },
      "text/plain": [
       "HBox(children=(FloatProgress(value=0.0, max=1.0), HTML(value='')))"
      ]
     },
     "metadata": {},
     "output_type": "display_data"
    },
    {
     "name": "stdout",
     "output_type": "stream",
     "text": [
      "Wall time: 18.3 s\n"
     ]
    }
   ],
   "source": [
    "%%time\n",
    "# Convert the mail merge payment requisition into a PDF\n",
    "convert(\"mailmerge_payreq.docx\")"
   ]
  },
  {
   "cell_type": "code",
   "execution_count": 5,
   "metadata": {},
   "outputs": [
    {
     "data": {
      "application/vnd.jupyter.widget-view+json": {
       "model_id": "499ff682de84413084009dbec5b0259b",
       "version_major": 2,
       "version_minor": 0
      },
      "text/plain": [
       "HBox(children=(FloatProgress(value=0.0, max=14.0), HTML(value='')))"
      ]
     },
     "metadata": {},
     "output_type": "display_data"
    },
    {
     "name": "stdout",
     "output_type": "stream",
     "text": [
      "\n",
      "Wall time: 15.9 s\n"
     ]
    }
   ],
   "source": [
    "%%time\n",
    "# Convert any word document (progress report) in Documents directory\n",
    "convert(\"Documents/\")"
   ]
  },
  {
   "cell_type": "markdown",
   "metadata": {},
   "source": [
    "<hr style=\"height:3px;border-width:0;color:black;background-color:black\">"
   ]
  },
  {
   "cell_type": "markdown",
   "metadata": {},
   "source": [
    "# <font color=\"red\">Step 2:</font> Get the List of Scholar Names\n",
    " - List will be used to label, identy, and merge files\n",
    " - Email scholars missing documents"
   ]
  },
  {
   "cell_type": "code",
   "execution_count": 6,
   "metadata": {},
   "outputs": [
    {
     "name": "stdout",
     "output_type": "stream",
     "text": [
      "Wall time: 1.23 s\n"
     ]
    }
   ],
   "source": [
    "%%time\n",
    "# Get the list of scholars from the xlsx\n",
    "df = pd.read_excel(\"2020_PR_mail_merge_list.xlsx\")"
   ]
  },
  {
   "cell_type": "code",
   "execution_count": 7,
   "metadata": {},
   "outputs": [
    {
     "name": "stdout",
     "output_type": "stream",
     "text": [
      "Wall time: 59.2 ms\n"
     ]
    }
   ],
   "source": [
    "%%time\n",
    "# Get student names form mail merge document\n",
    "student_names = df['Last'].values"
   ]
  },
  {
   "cell_type": "code",
   "execution_count": 8,
   "metadata": {},
   "outputs": [],
   "source": [
    "# Replace - with _ so that we can use this to save file names\n",
    "student_names = [name.replace(\"-\", \"_\") for name in student_names]"
   ]
  },
  {
   "cell_type": "markdown",
   "metadata": {},
   "source": [
    "<hr style=\"height:3px;border-width:0;color:black;background-color:black\">"
   ]
  },
  {
   "cell_type": "markdown",
   "metadata": {},
   "source": [
    "# <font color=\"red\">Step 3:</font> Split Payment Requisition Mail Merge Files into Individual Files"
   ]
  },
  {
   "cell_type": "markdown",
   "metadata": {},
   "source": [
    "# Split PDF into Individual Files Function"
   ]
  },
  {
   "cell_type": "code",
   "execution_count": 9,
   "metadata": {},
   "outputs": [
    {
     "name": "stdout",
     "output_type": "stream",
     "text": [
      "Wall time: 0 ns\n"
     ]
    }
   ],
   "source": [
    "%%time\n",
    "def split_pdf(path, labels):\n",
    "    fname = os.path.splitext(os.path.basename(path))[0]\n",
    "    \n",
    "    pdf = PdfFileReader(path)\n",
    "    for page, label in zip(range(pdf.getNumPages()), labels):\n",
    "        pdf_writer = PdfFileWriter()\n",
    "        pdf_writer.addPage(pdf.getPage(page))\n",
    "        output_filename = 'Documents/{}_1_VSP_PR.pdf'.format(label)\n",
    "        \n",
    "        with open(output_filename, 'wb') as out:\n",
    "            pdf_writer.write(out)\n",
    "            \n",
    "        print('Created: {}'.format(output_filename))"
   ]
  },
  {
   "cell_type": "markdown",
   "metadata": {},
   "source": [
    "# Run Split PDF into Individual Files Function"
   ]
  },
  {
   "cell_type": "code",
   "execution_count": 10,
   "metadata": {},
   "outputs": [
    {
     "name": "stdout",
     "output_type": "stream",
     "text": [
      "Created: Documents/Abato_Earwood_1_VSP_PR.pdf\n",
      "Created: Documents/Atkinson_1_VSP_PR.pdf\n",
      "Created: Documents/Balci_1_VSP_PR.pdf\n",
      "Created: Documents/Chang_1_VSP_PR.pdf\n",
      "Created: Documents/Cortez_1_VSP_PR.pdf\n",
      "Created: Documents/Critcher_1_VSP_PR.pdf\n",
      "Created: Documents/Dubin_1_VSP_PR.pdf\n",
      "Created: Documents/Farberow_1_VSP_PR.pdf\n",
      "Created: Documents/Gean_1_VSP_PR.pdf\n",
      "Created: Documents/Goodwein_1_VSP_PR.pdf\n",
      "Created: Documents/Guan_1_VSP_PR.pdf\n",
      "Created: Documents/Krantz_1_VSP_PR.pdf\n",
      "Created: Documents/Linzner_1_VSP_PR.pdf\n",
      "Created: Documents/Maestas_1_VSP_PR.pdf\n",
      "Created: Documents/Marans_1_VSP_PR.pdf\n",
      "Created: Documents/Nelson_1_VSP_PR.pdf\n",
      "Created: Documents/Piorkowski_1_VSP_PR.pdf\n",
      "Created: Documents/Regan_1_VSP_PR.pdf\n",
      "Created: Documents/Ruiz_Espada_1_VSP_PR.pdf\n",
      "Created: Documents/Sharp_1_VSP_PR.pdf\n",
      "Created: Documents/Sinai_1_VSP_PR.pdf\n",
      "Created: Documents/Steevens_1_VSP_PR.pdf\n",
      "Created: Documents/Strain_1_VSP_PR.pdf\n",
      "Created: Documents/Yamada_1_VSP_PR.pdf\n",
      "Created: Documents/Zakarian_1_VSP_PR.pdf\n",
      "Wall time: 188 ms\n"
     ]
    }
   ],
   "source": [
    "%%time\n",
    "if __name__ == '__main__':\n",
    "    path = os.path.join(os.getcwd(), 'mailmerge_payreq.pdf')\n",
    "    split_pdf(path, student_names)"
   ]
  },
  {
   "cell_type": "markdown",
   "metadata": {},
   "source": [
    "<hr style=\"height:3px;border-width:0;color:black;background-color:black\">"
   ]
  },
  {
   "cell_type": "markdown",
   "metadata": {},
   "source": [
    "# <font color=\"red\">Step 4:</font> Merge PDF Files"
   ]
  },
  {
   "cell_type": "markdown",
   "metadata": {},
   "source": [
    "# The <code>merge_pdfs(output_path, input_paths)</code> Function"
   ]
  },
  {
   "cell_type": "code",
   "execution_count": 11,
   "metadata": {},
   "outputs": [
    {
     "name": "stdout",
     "output_type": "stream",
     "text": [
      "Wall time: 0 ns\n"
     ]
    }
   ],
   "source": [
    "%%time\n",
    "# Function will merge PDF files\n",
    "def merge_pdfs(output_path, input_paths):\n",
    "    pdf_merger = PdfFileMerger()\n",
    "    \n",
    "    for path in input_paths:\n",
    "        pdf_merger.append(path)\n",
    "        \n",
    "    if not os.path.exists(os.path.join(os.getcwd(), output_path)):\n",
    "        \n",
    "        with open(output_path, 'wb') as fileobj:\n",
    "            pdf_merger.write(fileobj)\n",
    "\n",
    "        print('Merged Files and created: {}'.format(output_path))"
   ]
  },
  {
   "cell_type": "markdown",
   "metadata": {},
   "source": [
    "# The <code>file_selection_to_merge(dir_name)</code> Function"
   ]
  },
  {
   "cell_type": "code",
   "execution_count": 12,
   "metadata": {},
   "outputs": [
    {
     "name": "stdout",
     "output_type": "stream",
     "text": [
      "Wall time: 0 ns\n"
     ]
    }
   ],
   "source": [
    "%%time\n",
    "# This function will get the files to merge, and will then only merge files that have all documents\n",
    "def file_selection_to_merge(dir_name):\n",
    "    files = os.listdir(os.path.join(os.getcwd(), dir_name))\n",
    "    print_statements = []\n",
    "    for file in files:\n",
    "        temp_list = []\n",
    "        fname = re.match(\"(.*?)_\",file).group()\n",
    "        fname_files = glob.glob('Documents/*{}*.pdf'.format(fname))\n",
    "        fname_files.sort()\n",
    "        if len(fname_files) > 2:\n",
    "            output_filename = '{}VSP_PR_3o4.pdf'.format(fname)\n",
    "            input_files = fname_files\n",
    "            merge_pdfs(output_filename, input_files)\n",
    "        else:\n",
    "            missing_statement = '{}: is missing documents'.format(fname)\n",
    "            print_statements.append(missing_statement)\n",
    "    missing_notice = print_scholar_missing_doc(print_statements)\n",
    "    return missing_notice"
   ]
  },
  {
   "cell_type": "code",
   "execution_count": 13,
   "metadata": {},
   "outputs": [
    {
     "name": "stdout",
     "output_type": "stream",
     "text": [
      "Wall time: 0 ns\n"
     ]
    }
   ],
   "source": [
    "%%time\n",
    "# Function to print name of scholars that are missing documents\n",
    "def print_scholar_missing_doc(missing_list):\n",
    "    missing_set = set(missing_list)\n",
    "    for elem in missing_set:\n",
    "        if len(elem) > 4:\n",
    "            print(elem)"
   ]
  },
  {
   "cell_type": "markdown",
   "metadata": {},
   "source": [
    "# Run File selection and Merge PDFs"
   ]
  },
  {
   "cell_type": "code",
   "execution_count": 14,
   "metadata": {},
   "outputs": [
    {
     "name": "stdout",
     "output_type": "stream",
     "text": [
      "Merged Files and created: Abato_VSP_PR_3o4.pdf\n",
      "Merged Files and created: Atkinson_VSP_PR_3o4.pdf\n",
      "Merged Files and created: Balci_VSP_PR_3o4.pdf\n",
      "Merged Files and created: Chang_VSP_PR_3o4.pdf\n",
      "Merged Files and created: Cortez_VSP_PR_3o4.pdf\n",
      "Merged Files and created: Critcher_VSP_PR_3o4.pdf\n",
      "Merged Files and created: Dubin_VSP_PR_3o4.pdf\n",
      "Merged Files and created: Farberow_VSP_PR_3o4.pdf\n",
      "Merged Files and created: Gean_VSP_PR_3o4.pdf\n",
      "Merged Files and created: Goodwein_VSP_PR_3o4.pdf\n",
      "Merged Files and created: Guan_VSP_PR_3o4.pdf\n",
      "Merged Files and created: Krantz_VSP_PR_3o4.pdf\n",
      "Merged Files and created: Linzner_VSP_PR_3o4.pdf\n",
      "Merged Files and created: Maestas_VSP_PR_3o4.pdf\n",
      "Merged Files and created: Marans_VSP_PR_3o4.pdf\n",
      "Merged Files and created: Nelson_VSP_PR_3o4.pdf\n",
      "Merged Files and created: Piorkowski_VSP_PR_3o4.pdf\n",
      "Merged Files and created: Regan_VSP_PR_3o4.pdf\n",
      "Merged Files and created: Ruiz_VSP_PR_3o4.pdf\n",
      "Merged Files and created: Sharp_VSP_PR_3o4.pdf\n",
      "Merged Files and created: Sinai_VSP_PR_3o4.pdf\n",
      "Merged Files and created: Steevens_VSP_PR_3o4.pdf\n",
      "Merged Files and created: Strain_VSP_PR_3o4.pdf\n",
      "Merged Files and created: Zakarian_VSP_PR_3o4.pdf\n",
      "Yamada_: is missing documents\n",
      "Wall time: 13.4 s\n"
     ]
    }
   ],
   "source": [
    "%%time\n",
    "if __name__ == '__main__':\n",
    "    dir_name = 'Documents'\n",
    "    file_selection_to_merge(dir_name)"
   ]
  },
  {
   "cell_type": "markdown",
   "metadata": {},
   "source": [
    "<hr style=\"height:3px;border-width:0;color:black;background-color:black\">"
   ]
  },
  {
   "cell_type": "markdown",
   "metadata": {},
   "source": [
    "# <font color=\"red\">Step 5:</font> Move Merged Documents into Sub-Directories"
   ]
  },
  {
   "cell_type": "code",
   "execution_count": 15,
   "metadata": {},
   "outputs": [
    {
     "name": "stdout",
     "output_type": "stream",
     "text": [
      "Wall time: 0 ns\n"
     ]
    }
   ],
   "source": [
    "%%time\n",
    "current_folder = os.listdir(os.getcwd())\n",
    "cvm_list = [\"Cortez\", \"Farberow\", \"Gean\", \"Goodwein\", \"Krantz\", \"Linzner\", \"Maestas\", \"Marans\",\n",
    "           \"Steevens\", \"Strain\", \"Zakarian\", \"Abato\", \"Balci\"]\n",
    "extramural_list = [\"Critcher\", \"Regan\", \"Atkinson\", \"Guan\", \"Ruiz\", \"Dubin\", \n",
    "                   \"Nelson\", \"Sinai\", \"Piorkowski\", \"Yamada\"]\n",
    "wu_list = [\"Chang\", \"Sharp\"]"
   ]
  },
  {
   "cell_type": "code",
   "execution_count": 16,
   "metadata": {},
   "outputs": [
    {
     "name": "stdout",
     "output_type": "stream",
     "text": [
      "Wall time: 0 ns\n"
     ]
    }
   ],
   "source": [
    "%%time\n",
    "def move_files(pattern):\n",
    "    pay_rep_files = glob.glob(pattern)\n",
    "    for file in pay_rep_files:\n",
    "        scholar_name = re.match(r'(.*?)_',file).group(0)[:-1]\n",
    "        if scholar_name in cvm_list:\n",
    "            source = os.path.join(os.getcwd(), file)\n",
    "            destination = os.path.join(os.getcwd(), 'CVM_Funded', file)\n",
    "            shutil.move(source, destination)\n",
    "        if scholar_name in extramural_list:\n",
    "            source = os.path.join(os.getcwd(), file)\n",
    "            destination = os.path.join(os.getcwd(), 'Extramural_Funded', file)\n",
    "            shutil.move(source, destination)\n",
    "        if scholar_name in wu_list:\n",
    "            source = os.path.join(os.getcwd(), file)\n",
    "            destination = os.path.join(os.getcwd(), 'WU_Funded', file)\n",
    "            shutil.move(source, destination)\n",
    "        else:\n",
    "            continue\n",
    "    print('Complete')"
   ]
  },
  {
   "cell_type": "code",
   "execution_count": 17,
   "metadata": {},
   "outputs": [
    {
     "name": "stdout",
     "output_type": "stream",
     "text": [
      "Complete\n",
      "Wall time: 1.45 s\n"
     ]
    }
   ],
   "source": [
    "%%time\n",
    "if __name__ == '__main__':\n",
    "    pattern = '*_3o4*.pdf'\n",
    "    move_files(pattern)"
   ]
  },
  {
   "cell_type": "markdown",
   "metadata": {},
   "source": [
    "<hr style=\"height:3px;border-width:0;color:black;background-color:black\">"
   ]
  },
  {
   "cell_type": "markdown",
   "metadata": {},
   "source": [
    "# <font color=\"red\">Step 6:</font> Send Email Notifications"
   ]
  },
  {
   "cell_type": "code",
   "execution_count": 18,
   "metadata": {},
   "outputs": [
    {
     "name": "stdout",
     "output_type": "stream",
     "text": [
      "Wall time: 0 ns\n"
     ]
    }
   ],
   "source": [
    "%%time\n",
    "# Returns a list of scholars that have missing document for payment requisition\n",
    "def students_missing_documents(dir_name):\n",
    "    files = os.listdir(os.path.join(os.getcwd(), dir_name))\n",
    "    students_missing_docs = []\n",
    "    for file in files:\n",
    "        if file[0].isalpha():\n",
    "            fname = re.match(\"(.*?)_\",file).group()\n",
    "            fname_files = glob.glob('Documents/*{}*.pdf'.format(fname))\n",
    "            fname = fname[:-1]\n",
    "            if len(fname_files) < 3:\n",
    "                if fname not in students_missing_docs:\n",
    "                    students_missing_docs.append(fname)\n",
    "                else:\n",
    "                    continue\n",
    "            else:\n",
    "                continue\n",
    "        else:\n",
    "            continue\n",
    "    return students_missing_docs"
   ]
  },
  {
   "cell_type": "code",
   "execution_count": 19,
   "metadata": {},
   "outputs": [
    {
     "name": "stdout",
     "output_type": "stream",
     "text": [
      "Wall time: 43.9 ms\n"
     ]
    }
   ],
   "source": [
    "%%time\n",
    "# Run students_missing_documents function and save list to variable\n",
    "student_list = students_missing_documents(\"Documents/\")"
   ]
  },
  {
   "cell_type": "code",
   "execution_count": 20,
   "metadata": {},
   "outputs": [
    {
     "name": "stdout",
     "output_type": "stream",
     "text": [
      "Wall time: 0 ns\n"
     ]
    }
   ],
   "source": [
    "%%time\n",
    "# Get the emails of students missing a document\n",
    "def get_student_emails(student_list, df, exclusion_list):\n",
    "    emails = []\n",
    "    for student in student_list:\n",
    "        temp_df = df[df['Last'].str.contains(student)]\n",
    "        email = temp_df[\"Email\"]\n",
    "        if student not in exclusion_list:\n",
    "            emails.append(email.values[0])\n",
    "    return emails"
   ]
  },
  {
   "cell_type": "code",
   "execution_count": 21,
   "metadata": {},
   "outputs": [
    {
     "name": "stdout",
     "output_type": "stream",
     "text": [
      "Wall time: 107 ms\n"
     ]
    }
   ],
   "source": [
    "%%time\n",
    "# Run function to get emails and save to list\n",
    "exclusion_list = ['Yamada']\n",
    "email_list = get_student_emails(student_list, df, exclusion_list)"
   ]
  },
  {
   "cell_type": "code",
   "execution_count": 22,
   "metadata": {
    "scrolled": true
   },
   "outputs": [
    {
     "name": "stdout",
     "output_type": "stream",
     "text": [
      "Wall time: 0 ns\n"
     ]
    },
    {
     "data": {
      "text/plain": [
       "[]"
      ]
     },
     "execution_count": 22,
     "metadata": {},
     "output_type": "execute_result"
    }
   ],
   "source": [
    "%%time\n",
    "email_list"
   ]
  },
  {
   "cell_type": "markdown",
   "metadata": {},
   "source": [
    "# Send Emails"
   ]
  },
  {
   "cell_type": "code",
   "execution_count": 23,
   "metadata": {},
   "outputs": [
    {
     "name": "stdout",
     "output_type": "stream",
     "text": [
      "Wall time: 0 ns\n"
     ]
    }
   ],
   "source": [
    "%%time\n",
    "for email in email_list:\n",
    "    outlook = win32.Dispatch('outlook.application')\n",
    "    mail = outlook.CreateItem(0)\n",
    "    mail.To = 'tcisneros@westernu.edu'\n",
    "    mail.To = email\n",
    "    mail.Subject = '[Stipend Update] - Missing Documentation'\n",
    "    mail.Body = ''\n",
    "    mail.HTMLBody = '''<h3>Dear Scholar</h3><br>\n",
    "                        I am in the process of submitting payment requisitions so that students can receive their third installment.<br>\n",
    "                        I cannot process your stipend as we are missing your progress report.<br><br>\n",
    "                        Please submit by 3 pm if you wish to receive your stipend this week.<br><br>\n",
    "                        Thank you<br>\n",
    "                        Trinidad Cisneros, PhD<br>\n",
    "                        Research Analyst<br>\n",
    "                        College of Veterinary Medicine<br>\n",
    "                        Western University of Health Sciences<br>\n",
    "                        309 E. 2nd Street<br>\n",
    "                        Pomona, CA 91766-1854<br>\n",
    "                        Ph: 909-469-5557<br>\n",
    "                        ''' \n",
    "\n",
    "    # To attach a file to the email (optional):\n",
    "    #attachment  = \"Strain_VSP_PR_3o4.pdf\"\n",
    "    #mail.Attachments.Add(attachment)\n",
    "\n",
    "    mail.Send()"
   ]
  }
 ],
 "metadata": {
  "kernelspec": {
   "display_name": "Python 3",
   "language": "python",
   "name": "python3"
  },
  "language_info": {
   "codemirror_mode": {
    "name": "ipython",
    "version": 3
   },
   "file_extension": ".py",
   "mimetype": "text/x-python",
   "name": "python",
   "nbconvert_exporter": "python",
   "pygments_lexer": "ipython3",
   "version": "3.7.7"
  }
 },
 "nbformat": 4,
 "nbformat_minor": 2
}

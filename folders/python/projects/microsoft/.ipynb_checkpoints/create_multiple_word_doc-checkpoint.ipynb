{
 "cells": [
  {
   "cell_type": "markdown",
   "metadata": {},
   "source": [
    "# Import Dependencies"
   ]
  },
  {
   "cell_type": "code",
   "execution_count": 1,
   "metadata": {},
   "outputs": [],
   "source": [
    "import docx\n",
    "import os"
   ]
  },
  {
   "cell_type": "code",
   "execution_count": 2,
   "metadata": {},
   "outputs": [],
   "source": [
    "file_name = ['Hamilton', 'Ali', 'Edwards', 'Duncan', 'Solis' ,'Leach', 'Burnett', 'Dougherty']"
   ]
  },
  {
   "cell_type": "code",
   "execution_count": 3,
   "metadata": {},
   "outputs": [],
   "source": [
    "for file in file_name:\n",
    "    doc = docx.Document()\n",
    "    doc.add_paragraph('This document contains information on {}.'.format(file))\n",
    "    doc.save('Documents/{}_file.docx'.format(file))"
   ]
  },
  {
   "cell_type": "code",
   "execution_count": 4,
   "metadata": {},
   "outputs": [
    {
     "name": "stdout",
     "output_type": "stream",
     "text": [
      "['Example_Word_Document.docx', 'Hamilton_file.docx', 'Edwards_file.docx', 'Duncan_file.docx', 'Burnett_file.docx', 'Solis_file.docx', 'Leach_file.docx', 'Ali_file.docx', 'Dougherty_file.docx']\n"
     ]
    }
   ],
   "source": [
    "files = os.listdir(os.path.join(os.getcwd(), 'Documents'))\n",
    "print(files)"
   ]
  }
 ],
 "metadata": {
  "kernelspec": {
   "display_name": "Python 3",
   "language": "python",
   "name": "python3"
  },
  "language_info": {
   "codemirror_mode": {
    "name": "ipython",
    "version": 3
   },
   "file_extension": ".py",
   "mimetype": "text/x-python",
   "name": "python",
   "nbconvert_exporter": "python",
   "pygments_lexer": "ipython3",
   "version": "3.7.7"
  }
 },
 "nbformat": 4,
 "nbformat_minor": 2
}

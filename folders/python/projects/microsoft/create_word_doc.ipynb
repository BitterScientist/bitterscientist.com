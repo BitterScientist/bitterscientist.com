{
 "cells": [
  {
   "cell_type": "markdown",
   "metadata": {},
   "source": [
    "# Import Dependencies"
   ]
  },
  {
   "cell_type": "code",
   "execution_count": 1,
   "metadata": {},
   "outputs": [],
   "source": [
    "from docx import Document\n",
    "from docx.shared import Inches"
   ]
  },
  {
   "cell_type": "code",
   "execution_count": 2,
   "metadata": {},
   "outputs": [],
   "source": [
    "document = Document()\n",
    "\n",
    "document.add_heading('This is the Document Title', 0)\n",
    "\n",
    "p = document.add_paragraph('Example of the first paragraph with')\n",
    "p.add_run('bold test').bold = True\n",
    "p.add_run(' and example of a word in ')\n",
    "p.add_run('italic.').italic = True\n",
    "\n",
    "document.add_heading('Example of adding a Heading, level 1', level=1)\n",
    "document.add_heading('Example of adding a Heading, level 2', level=2)\n",
    "document.add_heading('Example of adding a Heading, level 3', level=3)\n",
    "document.add_paragraph('Intense quote', style='Intense Quote')\n",
    "\n",
    "document.add_paragraph(\n",
    "    'first item in unordered list', style='List Bullet'\n",
    ")\n",
    "document.add_paragraph(\n",
    "    'first item in ordered list', style='List Number'\n",
    ")\n",
    "\n",
    "document.add_picture('contactus.png', width=Inches(2))\n",
    "\n",
    "records = (\n",
    "    ('Python', '100'),\n",
    "    ('Sql', '200'),\n",
    "    ('Javascript', '5')\n",
    ")\n",
    "\n",
    "table = document.add_table(rows=1, cols=3)\n",
    "hdr_cells = table.rows[0].cells\n",
    "hdr_cells[0].text = 'Language'\n",
    "hdr_cells[1].text = 'Number of Blog Posts'\n",
    "for lang, quant in records:\n",
    "    row_cells = table.add_row().cells\n",
    "    row_cells[0].text = lang\n",
    "    row_cells[1].text = quant\n",
    "\n",
    "document.add_page_break()\n",
    "\n",
    "document.save('Example_Word_Document.docx')"
   ]
  }
 ],
 "metadata": {
  "kernelspec": {
   "display_name": "Python 3",
   "language": "python",
   "name": "python3"
  },
  "language_info": {
   "codemirror_mode": {
    "name": "ipython",
    "version": 3
   },
   "file_extension": ".py",
   "mimetype": "text/x-python",
   "name": "python",
   "nbconvert_exporter": "python",
   "pygments_lexer": "ipython3",
   "version": "3.7.7"
  }
 },
 "nbformat": 4,
 "nbformat_minor": 2
}

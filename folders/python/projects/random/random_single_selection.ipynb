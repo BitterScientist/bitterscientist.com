{
 "cells": [
  {
   "cell_type": "markdown",
   "metadata": {},
   "source": [
    "<div style=\"border:2px solid black; padding:10px\">\n",
    "    \n",
    "# <font color=\"blue\">Objective: </font>Select an Element From a List of Elements.\n",
    "\n",
    "- Example, select a winner from a raffle.\n",
    "</div>"
   ]
  },
  {
   "cell_type": "markdown",
   "metadata": {},
   "source": [
    "# Import Library"
   ]
  },
  {
   "cell_type": "code",
   "execution_count": 1,
   "metadata": {},
   "outputs": [],
   "source": [
    "# randomizer\n",
    "import random\n",
    "# for data loading\n",
    "import pandas as pd"
   ]
  },
  {
   "cell_type": "markdown",
   "metadata": {},
   "source": [
    "# Import Data"
   ]
  },
  {
   "cell_type": "code",
   "execution_count": 2,
   "metadata": {},
   "outputs": [],
   "source": [
    "file = \"data/random_names.csv\"\n",
    "names = pd.read_csv(file)"
   ]
  },
  {
   "cell_type": "markdown",
   "metadata": {},
   "source": [
    "# Inspect data"
   ]
  },
  {
   "cell_type": "code",
   "execution_count": 3,
   "metadata": {},
   "outputs": [
    {
     "data": {
      "text/html": [
       "<div>\n",
       "<style scoped>\n",
       "    .dataframe tbody tr th:only-of-type {\n",
       "        vertical-align: middle;\n",
       "    }\n",
       "\n",
       "    .dataframe tbody tr th {\n",
       "        vertical-align: top;\n",
       "    }\n",
       "\n",
       "    .dataframe thead th {\n",
       "        text-align: right;\n",
       "    }\n",
       "</style>\n",
       "<table border=\"1\" class=\"dataframe\">\n",
       "  <thead>\n",
       "    <tr style=\"text-align: right;\">\n",
       "      <th></th>\n",
       "      <th>name</th>\n",
       "    </tr>\n",
       "  </thead>\n",
       "  <tbody>\n",
       "    <tr>\n",
       "      <th>0</th>\n",
       "      <td>Marjorie Vaughn</td>\n",
       "    </tr>\n",
       "    <tr>\n",
       "      <th>1</th>\n",
       "      <td>Gerardo Wise</td>\n",
       "    </tr>\n",
       "  </tbody>\n",
       "</table>\n",
       "</div>"
      ],
      "text/plain": [
       "              name\n",
       "0  Marjorie Vaughn\n",
       "1     Gerardo Wise"
      ]
     },
     "execution_count": 3,
     "metadata": {},
     "output_type": "execute_result"
    }
   ],
   "source": [
    "names.head(2)"
   ]
  },
  {
   "cell_type": "markdown",
   "metadata": {},
   "source": [
    "<div style=\"border:2px solid black; padding:10px\">\n",
    "    \n",
    "Data is a single column with the <code>name</code> header.\n",
    "</div>"
   ]
  },
  {
   "cell_type": "markdown",
   "metadata": {},
   "source": [
    "# Selection Function\n",
    "\n",
    " - Takes in a list of elements, the number of selections, and an empty list that will be used to store selection "
   ]
  },
  {
   "cell_type": "code",
   "execution_count": 4,
   "metadata": {},
   "outputs": [],
   "source": [
    "def select_winner(names, num_winners, winners_list):\n",
    "    for i in range(0, num_winners):\n",
    "        winner = random.randint(0, len(names))\n",
    "        if names[winner] not in winners_list:\n",
    "            winners_list.append(names[winner])\n",
    "        else:\n",
    "            next\n",
    "    return winners_list"
   ]
  },
  {
   "cell_type": "markdown",
   "metadata": {},
   "source": [
    "# Select 1 Element (Winner)"
   ]
  },
  {
   "cell_type": "code",
   "execution_count": 5,
   "metadata": {},
   "outputs": [
    {
     "data": {
      "text/plain": [
       "['Lillie Greene']"
      ]
     },
     "execution_count": 5,
     "metadata": {},
     "output_type": "execute_result"
    }
   ],
   "source": [
    "winners_list = []\n",
    "select_winner(names.name, 1, winners_list)"
   ]
  },
  {
   "cell_type": "markdown",
   "metadata": {},
   "source": [
    "# Explanation"
   ]
  },
  {
   "cell_type": "markdown",
   "metadata": {},
   "source": [
    "<code>def select_winner(names, num_winners, winners_list):</code>\n",
    " - function that takes in three arguments\n",
    " - <code>names</code> list of elemets\n",
    " - <code>num_winners</code> number of elements to select as an integer\n",
    " - <code>winners_list</code> an empty list that will be used to store the selected element(s)\n",
    "<br><br>\n",
    "<code>for i in range(0, num_winners):</code>\n",
    " - for loop that will iterate through the list of names by the number of selections, or winners in this example, made.\n",
    "<br><br> \n",
    "<code>winner = random.randint(0, len(names))</code>\n",
    " - this code will then use use the <code>random.randint()</code> method to select a random number between 0 - the total number of element sint he list <code>names</code>.\n",
    " - this number will be saved as <code>winner</code> and will be used as an index (position) for the name selection\n",
    "<br><br>\n",
    "<code>if names[winner] not in winners_list: winners_list.append(names[winner])</code>\n",
    " - this block of code has a conditional statement that is important in cases where more than 1 element is selected (more than one winner).\n",
    " - the random number selected and assigned to <code>winner</code> is used with the <code>names</code> list as the index, and the name of that winner/element is then returned\n",
    " - the if statement then checks if that name is in the <code>winner_list</code>.\n",
    " - if it is not already selected and stored in the <code>winner_list</code>, then it will be execute the next line of code, and it will add the name/element to the <code>winner_list</code> using the the <code>.append()</code> method.\n",
    "<br>\n",
    "<code>else: next</code>\n",
    " - if the <code>if names[winner] not in winners_list:</code> is <code>false</code>, then the winner is already in the list, then this code tells is to skip that number and return to the for loop.\n",
    "<br><br>\n",
    "<code>return winners_list</code>\n",
    " - when the for loop terminates, then this return statement will return the list of selected elements "
   ]
  },
  {
   "cell_type": "markdown",
   "metadata": {},
   "source": [
    "# Select Multiple Elements (Winners)"
   ]
  },
  {
   "cell_type": "code",
   "execution_count": 6,
   "metadata": {},
   "outputs": [
    {
     "data": {
      "text/plain": [
       "['Jimmy Brooks',\n",
       " 'Boyd Harrison',\n",
       " 'Wm Maldonado',\n",
       " 'Conrad Hanson',\n",
       " 'Chelsea Barnes']"
      ]
     },
     "execution_count": 6,
     "metadata": {},
     "output_type": "execute_result"
    }
   ],
   "source": [
    "winners_list = []\n",
    "# Select 5 unique winners\n",
    "select_winner(names.name, 5, winners_list)"
   ]
  }
 ],
 "metadata": {
  "kernelspec": {
   "display_name": "Python 3",
   "language": "python",
   "name": "python3"
  },
  "language_info": {
   "codemirror_mode": {
    "name": "ipython",
    "version": 3
   },
   "file_extension": ".py",
   "mimetype": "text/x-python",
   "name": "python",
   "nbconvert_exporter": "python",
   "pygments_lexer": "ipython3",
   "version": "3.7.6"
  }
 },
 "nbformat": 4,
 "nbformat_minor": 2
}

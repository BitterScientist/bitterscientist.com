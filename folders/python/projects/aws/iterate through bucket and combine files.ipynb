{
 "cells": [
  {
   "cell_type": "code",
   "execution_count": null,
   "metadata": {},
   "outputs": [],
   "source": [
    "data_bucket = 'machliba'\n",
    "subfolder = 'ch04'\n",
    "dataset = 'inbound.csv'"
   ]
  },
  {
   "cell_type": "code",
   "execution_count": null,
   "metadata": {},
   "outputs": [],
   "source": [
    "# Connect to S3\n",
    "conn = boto3.client('s3')\n",
    "contents = conn.list_objects(Bucket=data_bucket, Prefix=subfolder)['Contents']"
   ]
  },
  {
   "cell_type": "code",
   "execution_count": null,
   "metadata": {},
   "outputs": [],
   "source": [
    "# Combine CSV files into one dataframe\n",
    "files = []\n",
    "\n",
    "for file in contents: #iterates through each subfolder\n",
    "    if file['Key'].endswith('.csv'): #if a file in the subfolder is a csv file then save it to the files list\n",
    "        files.append(file['Key'])\n",
    "        \n",
    "data_frames = []\n",
    "for file in files:\n",
    "    file_object = conn.get_object(Bucket=data_bucket, Key=file)['Body']\n",
    "    df_temp = pd.read_csv(file_object)\n",
    "    data_frames.append(df_temp)\n",
    "\n",
    "# concatenate all dataframes and remove duplicates (header rows primarily)\n",
    "df = pd.concat(data_frames)\n",
    "df.drop_duplicates(inplace=True)"
   ]
  }
 ],
 "metadata": {
  "kernelspec": {
   "display_name": "Python 3",
   "language": "python",
   "name": "python3"
  },
  "language_info": {
   "codemirror_mode": {
    "name": "ipython",
    "version": 3
   },
   "file_extension": ".py",
   "mimetype": "text/x-python",
   "name": "python",
   "nbconvert_exporter": "python",
   "pygments_lexer": "ipython3",
   "version": "3.8.2"
  }
 },
 "nbformat": 4,
 "nbformat_minor": 4
}

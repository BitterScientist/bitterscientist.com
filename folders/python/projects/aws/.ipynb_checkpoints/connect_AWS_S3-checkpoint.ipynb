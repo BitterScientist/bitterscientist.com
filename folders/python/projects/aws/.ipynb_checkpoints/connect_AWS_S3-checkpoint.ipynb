{
 "cells": [
  {
   "cell_type": "markdown",
   "metadata": {},
   "source": [
    "Import Dependencies"
   ]
  },
  {
   "cell_type": "code",
   "execution_count": 1,
   "metadata": {},
   "outputs": [],
   "source": [
    "import boto3\n",
    "import pandas as pd"
   ]
  },
  {
   "cell_type": "markdown",
   "metadata": {},
   "source": [
    "Create an S3 client and resouce that will allow us to access S3 environment"
   ]
  },
  {
   "cell_type": "code",
   "execution_count": 7,
   "metadata": {},
   "outputs": [],
   "source": [
    "# Creating the low level functional client\n",
    "client = boto3.client(\n",
    "    's3',\n",
    "    aws_access_key_id = '',\n",
    "    aws_secret_access_key = '',\n",
    "    region_name = 'us-west-1'\n",
    ")\n"
   ]
  },
  {
   "cell_type": "code",
   "execution_count": 8,
   "metadata": {},
   "outputs": [
    {
     "name": "stdout",
     "output_type": "stream",
     "text": [
      "Printing bucket names...\n",
      "Bucket Name: 210214samukbucket\n"
     ]
    }
   ],
   "source": [
    "# Fetch the list of existing buckets\n",
    "clientResponse = client.list_buckets()\n",
    "# Print the bucket names one by one\n",
    "print('Printing bucket names...')\n",
    "for bucket in clientResponse['Buckets']:\n",
    "    print(f'Bucket Name: {bucket[\"Name\"]}')"
   ]
  },
  {
   "cell_type": "code",
   "execution_count": 9,
   "metadata": {},
   "outputs": [],
   "source": [
    "s3 = boto3.resource('s3')\n",
    "my_bucket = s3.Bucket('210214samukbucket')\n",
    "\n",
    "paginator = client.get_paginator('list_objects')\n",
    "page_iterator = paginator.paginate(Bucket='210214samukbucket')"
   ]
  },
  {
   "cell_type": "code",
   "execution_count": 10,
   "metadata": {},
   "outputs": [
    {
     "name": "stdout",
     "output_type": "stream",
     "text": [
      "{'ResponseMetadata': {'RequestId': '16F7379B5B945453', 'HostId': '+VgfjFSc57SpFlIndlLAs/yr/YcbCnGaOjXuQLZHn/18PO6hNK692deAEGci2L3w3XoNp/jFlmU=', 'HTTPStatusCode': 200, 'HTTPHeaders': {'x-amz-id-2': '+VgfjFSc57SpFlIndlLAs/yr/YcbCnGaOjXuQLZHn/18PO6hNK692deAEGci2L3w3XoNp/jFlmU=', 'x-amz-request-id': '16F7379B5B945453', 'date': 'Mon, 15 Feb 2021 00:30:00 GMT', 'x-amz-bucket-region': 'us-west-1', 'content-type': 'application/xml', 'transfer-encoding': 'chunked', 'server': 'AmazonS3'}, 'RetryAttempts': 0}, 'IsTruncated': False, 'Marker': '', 'Contents': [{'Key': '2017-consolidated-uk-crime-data.csv', 'LastModified': datetime.datetime(2021, 2, 14, 22, 57, 52, tzinfo=tzutc()), 'ETag': '\"2d0e616898f94a0cf6f06d10d7b035e1\"', 'Size': 1254674, 'StorageClass': 'STANDARD', 'Owner': {'DisplayName': 'trinidad_cisneros', 'ID': '462e8aeba215ef29965b47ed73da20c167744de6ce5c303f1932d91d2e88b28b'}}, {'Key': 'essex/.DS_Store', 'LastModified': datetime.datetime(2021, 2, 14, 22, 51, 53, tzinfo=tzutc()), 'ETag': '\"194577a7e20bdcc7afbb718f502c134c\"', 'Size': 6148, 'StorageClass': 'STANDARD', 'Owner': {'DisplayName': 'trinidad_cisneros', 'ID': '462e8aeba215ef29965b47ed73da20c167744de6ce5c303f1932d91d2e88b28b'}}, {'Key': 'essex/2020-01-essex-stop-and-search.csv', 'LastModified': datetime.datetime(2021, 2, 14, 22, 51, 57, tzinfo=tzutc()), 'ETag': '\"68d71e6ca7f982c23402167d911820fe\"', 'Size': 419029, 'StorageClass': 'STANDARD', 'Owner': {'DisplayName': 'trinidad_cisneros', 'ID': '462e8aeba215ef29965b47ed73da20c167744de6ce5c303f1932d91d2e88b28b'}}, {'Key': 'essex/2020-02-essex-stop-and-search.csv', 'LastModified': datetime.datetime(2021, 2, 14, 22, 51, 55, tzinfo=tzutc()), 'ETag': '\"3efa4ccb789bcf08a9b80b95915d7930\"', 'Size': 475685, 'StorageClass': 'STANDARD', 'Owner': {'DisplayName': 'trinidad_cisneros', 'ID': '462e8aeba215ef29965b47ed73da20c167744de6ce5c303f1932d91d2e88b28b'}}, {'Key': 'essex/2020-03-essex-stop-and-search.csv', 'LastModified': datetime.datetime(2021, 2, 14, 22, 51, 56, tzinfo=tzutc()), 'ETag': '\"23941eed59287093de54871a5ddfd930\"', 'Size': 447520, 'StorageClass': 'STANDARD', 'Owner': {'DisplayName': 'trinidad_cisneros', 'ID': '462e8aeba215ef29965b47ed73da20c167744de6ce5c303f1932d91d2e88b28b'}}, {'Key': 'essex/2020-04-essex-stop-and-search.csv', 'LastModified': datetime.datetime(2021, 2, 14, 22, 51, 56, tzinfo=tzutc()), 'ETag': '\"b4dfb64b55b6d057b528bd972a475c9b\"', 'Size': 585787, 'StorageClass': 'STANDARD', 'Owner': {'DisplayName': 'trinidad_cisneros', 'ID': '462e8aeba215ef29965b47ed73da20c167744de6ce5c303f1932d91d2e88b28b'}}, {'Key': 'essex/2020-05-essex-stop-and-search.csv', 'LastModified': datetime.datetime(2021, 2, 14, 22, 51, 54, tzinfo=tzutc()), 'ETag': '\"1f5143eddcca0e047869f83ff19d9889\"', 'Size': 775487, 'StorageClass': 'STANDARD', 'Owner': {'DisplayName': 'trinidad_cisneros', 'ID': '462e8aeba215ef29965b47ed73da20c167744de6ce5c303f1932d91d2e88b28b'}}, {'Key': 'essex/2020-06-essex-stop-and-search.csv', 'LastModified': datetime.datetime(2021, 2, 14, 22, 51, 58, tzinfo=tzutc()), 'ETag': '\"6d9c88aae54a060d822a22e4d8d87c34\"', 'Size': 652493, 'StorageClass': 'STANDARD', 'Owner': {'DisplayName': 'trinidad_cisneros', 'ID': '462e8aeba215ef29965b47ed73da20c167744de6ce5c303f1932d91d2e88b28b'}}, {'Key': 'essex/2020-07-essex-stop-and-search.csv', 'LastModified': datetime.datetime(2021, 2, 14, 22, 51, 53, tzinfo=tzutc()), 'ETag': '\"e3a0eccb292f46cdd4c8d99b7c51d4e1\"', 'Size': 524074, 'StorageClass': 'STANDARD', 'Owner': {'DisplayName': 'trinidad_cisneros', 'ID': '462e8aeba215ef29965b47ed73da20c167744de6ce5c303f1932d91d2e88b28b'}}, {'Key': 'essex/2020-08-essex-stop-and-search.csv', 'LastModified': datetime.datetime(2021, 2, 14, 22, 51, 54, tzinfo=tzutc()), 'ETag': '\"c13a3854667553e5cd88af27efe0b505\"', 'Size': 256445, 'StorageClass': 'STANDARD', 'Owner': {'DisplayName': 'trinidad_cisneros', 'ID': '462e8aeba215ef29965b47ed73da20c167744de6ce5c303f1932d91d2e88b28b'}}, {'Key': 'essex/2020-09-essex-stop-and-search.csv', 'LastModified': datetime.datetime(2021, 2, 14, 22, 51, 57, tzinfo=tzutc()), 'ETag': '\"a3b437cac6179684de37be9c43338efe\"', 'Size': 189302, 'StorageClass': 'STANDARD', 'Owner': {'DisplayName': 'trinidad_cisneros', 'ID': '462e8aeba215ef29965b47ed73da20c167744de6ce5c303f1932d91d2e88b28b'}}, {'Key': 'essex/2020-10-essex-stop-and-search.csv', 'LastModified': datetime.datetime(2021, 2, 14, 22, 51, 55, tzinfo=tzutc()), 'ETag': '\"5ab04e1e60514336de8a9649647ac448\"', 'Size': 179153, 'StorageClass': 'STANDARD', 'Owner': {'DisplayName': 'trinidad_cisneros', 'ID': '462e8aeba215ef29965b47ed73da20c167744de6ce5c303f1932d91d2e88b28b'}}, {'Key': 'essex/2020-11-essex-stop-and-search.csv', 'LastModified': datetime.datetime(2021, 2, 14, 22, 51, 56, tzinfo=tzutc()), 'ETag': '\"8bbdc9c3428d0b87191419f68be0847c\"', 'Size': 179520, 'StorageClass': 'STANDARD', 'Owner': {'DisplayName': 'trinidad_cisneros', 'ID': '462e8aeba215ef29965b47ed73da20c167744de6ce5c303f1932d91d2e88b28b'}}, {'Key': 'essex/2020-12-essex-stop-and-search.csv', 'LastModified': datetime.datetime(2021, 2, 14, 22, 51, 53, tzinfo=tzutc()), 'ETag': '\"87dd31c5a94bd711d611a78733e71b6c\"', 'Size': 97246, 'StorageClass': 'STANDARD', 'Owner': {'DisplayName': 'trinidad_cisneros', 'ID': '462e8aeba215ef29965b47ed73da20c167744de6ce5c303f1932d91d2e88b28b'}}, {'Key': 'manifest.json', 'LastModified': datetime.datetime(2021, 2, 14, 22, 57, 52, tzinfo=tzutc()), 'ETag': '\"5878a5e5c4c499f833137e4666747b78\"', 'Size': 291, 'StorageClass': 'STANDARD', 'Owner': {'DisplayName': 'trinidad_cisneros', 'ID': '462e8aeba215ef29965b47ed73da20c167744de6ce5c303f1932d91d2e88b28b'}}, {'Key': 'nottinghamshire/.DS_Store', 'LastModified': datetime.datetime(2021, 2, 14, 22, 52, 3, tzinfo=tzutc()), 'ETag': '\"194577a7e20bdcc7afbb718f502c134c\"', 'Size': 6148, 'StorageClass': 'STANDARD', 'Owner': {'DisplayName': 'trinidad_cisneros', 'ID': '462e8aeba215ef29965b47ed73da20c167744de6ce5c303f1932d91d2e88b28b'}}, {'Key': 'nottinghamshire/2020-01-nottinghamshire-stop-and-search.csv', 'LastModified': datetime.datetime(2021, 2, 14, 22, 52, 5, tzinfo=tzutc()), 'ETag': '\"7cf272d3df768172359fbc7fd8878916\"', 'Size': 84988, 'StorageClass': 'STANDARD', 'Owner': {'DisplayName': 'trinidad_cisneros', 'ID': '462e8aeba215ef29965b47ed73da20c167744de6ce5c303f1932d91d2e88b28b'}}, {'Key': 'nottinghamshire/2020-02-nottinghamshire-stop-and-search.csv', 'LastModified': datetime.datetime(2021, 2, 14, 22, 52, 5, tzinfo=tzutc()), 'ETag': '\"8bd14d20c41b056a117c01c9fcea9880\"', 'Size': 67597, 'StorageClass': 'STANDARD', 'Owner': {'DisplayName': 'trinidad_cisneros', 'ID': '462e8aeba215ef29965b47ed73da20c167744de6ce5c303f1932d91d2e88b28b'}}, {'Key': 'nottinghamshire/2020-03-nottinghamshire-stop-and-search.csv', 'LastModified': datetime.datetime(2021, 2, 14, 22, 52, 7, tzinfo=tzutc()), 'ETag': '\"ab28a14d45a67f65c4cdba810aac5774\"', 'Size': 79344, 'StorageClass': 'STANDARD', 'Owner': {'DisplayName': 'trinidad_cisneros', 'ID': '462e8aeba215ef29965b47ed73da20c167744de6ce5c303f1932d91d2e88b28b'}}, {'Key': 'nottinghamshire/2020-04-nottinghamshire-stop-and-search.csv', 'LastModified': datetime.datetime(2021, 2, 14, 22, 52, 4, tzinfo=tzutc()), 'ETag': '\"2490cd983aa78641de9ffb1415d95a19\"', 'Size': 83062, 'StorageClass': 'STANDARD', 'Owner': {'DisplayName': 'trinidad_cisneros', 'ID': '462e8aeba215ef29965b47ed73da20c167744de6ce5c303f1932d91d2e88b28b'}}, {'Key': 'nottinghamshire/2020-05-nottinghamshire-stop-and-search.csv', 'LastModified': datetime.datetime(2021, 2, 14, 22, 52, 7, tzinfo=tzutc()), 'ETag': '\"e1e1438549a30c0eddb6bd6949945a55\"', 'Size': 84768, 'StorageClass': 'STANDARD', 'Owner': {'DisplayName': 'trinidad_cisneros', 'ID': '462e8aeba215ef29965b47ed73da20c167744de6ce5c303f1932d91d2e88b28b'}}, {'Key': 'nottinghamshire/2020-06-nottinghamshire-stop-and-search.csv', 'LastModified': datetime.datetime(2021, 2, 14, 22, 52, 6, tzinfo=tzutc()), 'ETag': '\"1134dbc46dbbe08b9430a493bdc26335\"', 'Size': 89595, 'StorageClass': 'STANDARD', 'Owner': {'DisplayName': 'trinidad_cisneros', 'ID': '462e8aeba215ef29965b47ed73da20c167744de6ce5c303f1932d91d2e88b28b'}}, {'Key': 'nottinghamshire/2020-07-nottinghamshire-stop-and-search.csv', 'LastModified': datetime.datetime(2021, 2, 14, 22, 52, 3, tzinfo=tzutc()), 'ETag': '\"a16f1df1049943812324d9b2ef61ce72\"', 'Size': 73516, 'StorageClass': 'STANDARD', 'Owner': {'DisplayName': 'trinidad_cisneros', 'ID': '462e8aeba215ef29965b47ed73da20c167744de6ce5c303f1932d91d2e88b28b'}}, {'Key': 'nottinghamshire/2020-08-nottinghamshire-stop-and-search.csv', 'LastModified': datetime.datetime(2021, 2, 14, 22, 52, 3, tzinfo=tzutc()), 'ETag': '\"70e3f9dfb205f211ca0ea0198243fb36\"', 'Size': 74789, 'StorageClass': 'STANDARD', 'Owner': {'DisplayName': 'trinidad_cisneros', 'ID': '462e8aeba215ef29965b47ed73da20c167744de6ce5c303f1932d91d2e88b28b'}}, {'Key': 'nottinghamshire/2020-09-nottinghamshire-stop-and-search.csv', 'LastModified': datetime.datetime(2021, 2, 14, 22, 52, 6, tzinfo=tzutc()), 'ETag': '\"bc8f44314ad3b7ef1fd8ee28374efbc6\"', 'Size': 85816, 'StorageClass': 'STANDARD', 'Owner': {'DisplayName': 'trinidad_cisneros', 'ID': '462e8aeba215ef29965b47ed73da20c167744de6ce5c303f1932d91d2e88b28b'}}, {'Key': 'nottinghamshire/2020-10-nottinghamshire-stop-and-search.csv', 'LastModified': datetime.datetime(2021, 2, 14, 22, 52, 8, tzinfo=tzutc()), 'ETag': '\"ff48c4a22a484b4b242c9834402ff1ea\"', 'Size': 86673, 'StorageClass': 'STANDARD', 'Owner': {'DisplayName': 'trinidad_cisneros', 'ID': '462e8aeba215ef29965b47ed73da20c167744de6ce5c303f1932d91d2e88b28b'}}, {'Key': 'nottinghamshire/2020-11-nottinghamshire-stop-and-search.csv', 'LastModified': datetime.datetime(2021, 2, 14, 22, 52, 5, tzinfo=tzutc()), 'ETag': '\"1b572fb297ff31929d613665503bc084\"', 'Size': 100622, 'StorageClass': 'STANDARD', 'Owner': {'DisplayName': 'trinidad_cisneros', 'ID': '462e8aeba215ef29965b47ed73da20c167744de6ce5c303f1932d91d2e88b28b'}}, {'Key': 'nottinghamshire/2020-12-nottinghamshire-stop-and-search.csv', 'LastModified': datetime.datetime(2021, 2, 14, 22, 52, 4, tzinfo=tzutc()), 'ETag': '\"7ead71ac1d7f2ac69ab38473141c6466\"', 'Size': 97128, 'StorageClass': 'STANDARD', 'Owner': {'DisplayName': 'trinidad_cisneros', 'ID': '462e8aeba215ef29965b47ed73da20c167744de6ce5c303f1932d91d2e88b28b'}}, {'Key': 'suffolk/.DS_Store', 'LastModified': datetime.datetime(2021, 2, 14, 22, 52, tzinfo=tzutc()), 'ETag': '\"194577a7e20bdcc7afbb718f502c134c\"', 'Size': 6148, 'StorageClass': 'STANDARD', 'Owner': {'DisplayName': 'trinidad_cisneros', 'ID': '462e8aeba215ef29965b47ed73da20c167744de6ce5c303f1932d91d2e88b28b'}}, {'Key': 'suffolk/2020-01-suffolk-stop-and-search.csv', 'LastModified': datetime.datetime(2021, 2, 14, 22, 52, 2, tzinfo=tzutc()), 'ETag': '\"a08f837cae055df4c6fc58e72eb06795\"', 'Size': 64307, 'StorageClass': 'STANDARD', 'Owner': {'DisplayName': 'trinidad_cisneros', 'ID': '462e8aeba215ef29965b47ed73da20c167744de6ce5c303f1932d91d2e88b28b'}}, {'Key': 'suffolk/2020-02-suffolk-stop-and-search.csv', 'LastModified': datetime.datetime(2021, 2, 14, 22, 52, 1, tzinfo=tzutc()), 'ETag': '\"9b93c19d1c77b65b7a5c5204c5b80851\"', 'Size': 62658, 'StorageClass': 'STANDARD', 'Owner': {'DisplayName': 'trinidad_cisneros', 'ID': '462e8aeba215ef29965b47ed73da20c167744de6ce5c303f1932d91d2e88b28b'}}, {'Key': 'suffolk/2020-03-suffolk-stop-and-search.csv', 'LastModified': datetime.datetime(2021, 2, 14, 22, 51, 59, tzinfo=tzutc()), 'ETag': '\"772365f43c740a99b0b7f98496d8ce14\"', 'Size': 66882, 'StorageClass': 'STANDARD', 'Owner': {'DisplayName': 'trinidad_cisneros', 'ID': '462e8aeba215ef29965b47ed73da20c167744de6ce5c303f1932d91d2e88b28b'}}, {'Key': 'suffolk/2020-04-suffolk-stop-and-search.csv', 'LastModified': datetime.datetime(2021, 2, 14, 22, 52, 2, tzinfo=tzutc()), 'ETag': '\"62309ac52902eadc61ac331e31b54dba\"', 'Size': 91364, 'StorageClass': 'STANDARD', 'Owner': {'DisplayName': 'trinidad_cisneros', 'ID': '462e8aeba215ef29965b47ed73da20c167744de6ce5c303f1932d91d2e88b28b'}}, {'Key': 'suffolk/2020-05-suffolk-stop-and-search.csv', 'LastModified': datetime.datetime(2021, 2, 14, 22, 51, 52, tzinfo=tzutc()), 'ETag': '\"e8b40addab68d0e5b1fcf0645094090c\"', 'Size': 120445, 'StorageClass': 'STANDARD', 'Owner': {'DisplayName': 'trinidad_cisneros', 'ID': '462e8aeba215ef29965b47ed73da20c167744de6ce5c303f1932d91d2e88b28b'}}, {'Key': 'suffolk/2020-06-suffolk-stop-and-search.csv', 'LastModified': datetime.datetime(2021, 2, 14, 22, 51, 59, tzinfo=tzutc()), 'ETag': '\"fa2b9698f57de0c877895e2757f0eb53\"', 'Size': 113073, 'StorageClass': 'STANDARD', 'Owner': {'DisplayName': 'trinidad_cisneros', 'ID': '462e8aeba215ef29965b47ed73da20c167744de6ce5c303f1932d91d2e88b28b'}}, {'Key': 'suffolk/2020-07-suffolk-stop-and-search.csv', 'LastModified': datetime.datetime(2021, 2, 14, 22, 52, tzinfo=tzutc()), 'ETag': '\"ac0da7d41b9f0fba2dd4741d0d4fe75b\"', 'Size': 84640, 'StorageClass': 'STANDARD', 'Owner': {'DisplayName': 'trinidad_cisneros', 'ID': '462e8aeba215ef29965b47ed73da20c167744de6ce5c303f1932d91d2e88b28b'}}, {'Key': 'suffolk/2020-08-suffolk-stop-and-search.csv', 'LastModified': datetime.datetime(2021, 2, 14, 22, 52, 1, tzinfo=tzutc()), 'ETag': '\"0b17f3649ef2832634939b0072ae9b51\"', 'Size': 63145, 'StorageClass': 'STANDARD', 'Owner': {'DisplayName': 'trinidad_cisneros', 'ID': '462e8aeba215ef29965b47ed73da20c167744de6ce5c303f1932d91d2e88b28b'}}, {'Key': 'suffolk/2020-09-suffolk-stop-and-search.csv', 'LastModified': datetime.datetime(2021, 2, 14, 22, 52, tzinfo=tzutc()), 'ETag': '\"c96890cdea558c5a26e27bdefbf731e4\"', 'Size': 71744, 'StorageClass': 'STANDARD', 'Owner': {'DisplayName': 'trinidad_cisneros', 'ID': '462e8aeba215ef29965b47ed73da20c167744de6ce5c303f1932d91d2e88b28b'}}, {'Key': 'suffolk/2020-10-suffolk-stop-and-search.csv', 'LastModified': datetime.datetime(2021, 2, 14, 22, 51, 59, tzinfo=tzutc()), 'ETag': '\"51a574d0092e38283e8942b2c9adfcc0\"', 'Size': 74193, 'StorageClass': 'STANDARD', 'Owner': {'DisplayName': 'trinidad_cisneros', 'ID': '462e8aeba215ef29965b47ed73da20c167744de6ce5c303f1932d91d2e88b28b'}}, {'Key': 'suffolk/2020-11-suffolk-stop-and-search.csv', 'LastModified': datetime.datetime(2021, 2, 14, 22, 52, 1, tzinfo=tzutc()), 'ETag': '\"2d8acb1f36be0411c789415e3bc4460e\"', 'Size': 83126, 'StorageClass': 'STANDARD', 'Owner': {'DisplayName': 'trinidad_cisneros', 'ID': '462e8aeba215ef29965b47ed73da20c167744de6ce5c303f1932d91d2e88b28b'}}, {'Key': 'suffolk/2020-12-suffolk-stop-and-search.csv', 'LastModified': datetime.datetime(2021, 2, 14, 22, 51, 51, tzinfo=tzutc()), 'ETag': '\"fb7d06aec417a57d888d4c763e0d6c51\"', 'Size': 67819, 'StorageClass': 'STANDARD', 'Owner': {'DisplayName': 'trinidad_cisneros', 'ID': '462e8aeba215ef29965b47ed73da20c167744de6ce5c303f1932d91d2e88b28b'}}, {'Key': 'sussex/.DS_Store', 'LastModified': datetime.datetime(2021, 2, 14, 22, 52, 9, tzinfo=tzutc()), 'ETag': '\"194577a7e20bdcc7afbb718f502c134c\"', 'Size': 6148, 'StorageClass': 'STANDARD', 'Owner': {'DisplayName': 'trinidad_cisneros', 'ID': '462e8aeba215ef29965b47ed73da20c167744de6ce5c303f1932d91d2e88b28b'}}, {'Key': 'sussex/2020-01-sussex-stop-and-search.csv', 'LastModified': datetime.datetime(2021, 2, 14, 22, 52, 9, tzinfo=tzutc()), 'ETag': '\"f44d0ec62fbde55036ed7d6805425f8a\"', 'Size': 146854, 'StorageClass': 'STANDARD', 'Owner': {'DisplayName': 'trinidad_cisneros', 'ID': '462e8aeba215ef29965b47ed73da20c167744de6ce5c303f1932d91d2e88b28b'}}, {'Key': 'sussex/2020-02-sussex-stop-and-search.csv', 'LastModified': datetime.datetime(2021, 2, 14, 22, 52, 12, tzinfo=tzutc()), 'ETag': '\"869a4ab68b6f25df9dc21af925284523\"', 'Size': 143041, 'StorageClass': 'STANDARD', 'Owner': {'DisplayName': 'trinidad_cisneros', 'ID': '462e8aeba215ef29965b47ed73da20c167744de6ce5c303f1932d91d2e88b28b'}}, {'Key': 'sussex/2020-03-sussex-stop-and-search.csv', 'LastModified': datetime.datetime(2021, 2, 14, 22, 52, 13, tzinfo=tzutc()), 'ETag': '\"f37c2d49a23edf50bc0e24effc3e8b34\"', 'Size': 151090, 'StorageClass': 'STANDARD', 'Owner': {'DisplayName': 'trinidad_cisneros', 'ID': '462e8aeba215ef29965b47ed73da20c167744de6ce5c303f1932d91d2e88b28b'}}, {'Key': 'sussex/2020-04-sussex-stop-and-search.csv', 'LastModified': datetime.datetime(2021, 2, 14, 22, 52, 14, tzinfo=tzutc()), 'ETag': '\"786a19db80302605271950b5dec6795d\"', 'Size': 208748, 'StorageClass': 'STANDARD', 'Owner': {'DisplayName': 'trinidad_cisneros', 'ID': '462e8aeba215ef29965b47ed73da20c167744de6ce5c303f1932d91d2e88b28b'}}, {'Key': 'sussex/2020-05-sussex-stop-and-search.csv', 'LastModified': datetime.datetime(2021, 2, 14, 22, 52, 11, tzinfo=tzutc()), 'ETag': '\"b655bc0f7dcbf1a93e6e05a735650c16\"', 'Size': 212493, 'StorageClass': 'STANDARD', 'Owner': {'DisplayName': 'trinidad_cisneros', 'ID': '462e8aeba215ef29965b47ed73da20c167744de6ce5c303f1932d91d2e88b28b'}}, {'Key': 'sussex/2020-06-sussex-stop-and-search.csv', 'LastModified': datetime.datetime(2021, 2, 14, 22, 52, 10, tzinfo=tzutc()), 'ETag': '\"a2f3095d6e172d472d2089748dc5a727\"', 'Size': 193366, 'StorageClass': 'STANDARD', 'Owner': {'DisplayName': 'trinidad_cisneros', 'ID': '462e8aeba215ef29965b47ed73da20c167744de6ce5c303f1932d91d2e88b28b'}}, {'Key': 'sussex/2020-07-sussex-stop-and-search.csv', 'LastModified': datetime.datetime(2021, 2, 14, 22, 52, 11, tzinfo=tzutc()), 'ETag': '\"7b6b0829aa97d041d4f1e2532240c94b\"', 'Size': 174107, 'StorageClass': 'STANDARD', 'Owner': {'DisplayName': 'trinidad_cisneros', 'ID': '462e8aeba215ef29965b47ed73da20c167744de6ce5c303f1932d91d2e88b28b'}}, {'Key': 'sussex/2020-08-sussex-stop-and-search.csv', 'LastModified': datetime.datetime(2021, 2, 14, 22, 52, 15, tzinfo=tzutc()), 'ETag': '\"2f756159d56431d86914b908d42560aa\"', 'Size': 140013, 'StorageClass': 'STANDARD', 'Owner': {'DisplayName': 'trinidad_cisneros', 'ID': '462e8aeba215ef29965b47ed73da20c167744de6ce5c303f1932d91d2e88b28b'}}, {'Key': 'sussex/2020-09-sussex-stop-and-search.csv', 'LastModified': datetime.datetime(2021, 2, 14, 22, 52, 12, tzinfo=tzutc()), 'ETag': '\"47ddd90423be5bc2334da7d6fa7d239d\"', 'Size': 144282, 'StorageClass': 'STANDARD', 'Owner': {'DisplayName': 'trinidad_cisneros', 'ID': '462e8aeba215ef29965b47ed73da20c167744de6ce5c303f1932d91d2e88b28b'}}, {'Key': 'sussex/2020-10-sussex-stop-and-search.csv', 'LastModified': datetime.datetime(2021, 2, 14, 22, 52, 10, tzinfo=tzutc()), 'ETag': '\"895f72d8206d998bfd14492f2c013812\"', 'Size': 153273, 'StorageClass': 'STANDARD', 'Owner': {'DisplayName': 'trinidad_cisneros', 'ID': '462e8aeba215ef29965b47ed73da20c167744de6ce5c303f1932d91d2e88b28b'}}, {'Key': 'sussex/2020-11-sussex-stop-and-search.csv', 'LastModified': datetime.datetime(2021, 2, 14, 22, 52, 10, tzinfo=tzutc()), 'ETag': '\"f2dc4532a04610815de235d8fbd41980\"', 'Size': 166203, 'StorageClass': 'STANDARD', 'Owner': {'DisplayName': 'trinidad_cisneros', 'ID': '462e8aeba215ef29965b47ed73da20c167744de6ce5c303f1932d91d2e88b28b'}}, {'Key': 'sussex/2020-12-sussex-stop-and-search.csv', 'LastModified': datetime.datetime(2021, 2, 14, 22, 51, 52, tzinfo=tzutc()), 'ETag': '\"4cacf7de46c07e9fad091542046fbb03\"', 'Size': 162906, 'StorageClass': 'STANDARD', 'Owner': {'DisplayName': 'trinidad_cisneros', 'ID': '462e8aeba215ef29965b47ed73da20c167744de6ce5c303f1932d91d2e88b28b'}}], 'Name': '210214samukbucket', 'Prefix': '', 'MaxKeys': 1000, 'EncodingType': 'url'}\n"
     ]
    }
   ],
   "source": [
    "for page in page_iterator:\n",
    "    print(page)"
   ]
  },
  {
   "cell_type": "code",
   "execution_count": 12,
   "metadata": {},
   "outputs": [],
   "source": [
    "# Read data from the S3 object\n",
    "obj = client.get_object(\n",
    "    Bucket = '210214samukbucket',\n",
    "    Key = '2017-consolidated-uk-crime-data.csv'\n",
    ")\n",
    "data = pd.read_csv(obj['Body'])"
   ]
  },
  {
   "cell_type": "code",
   "execution_count": 13,
   "metadata": {},
   "outputs": [
    {
     "data": {
      "text/html": [
       "<div>\n",
       "<style scoped>\n",
       "    .dataframe tbody tr th:only-of-type {\n",
       "        vertical-align: middle;\n",
       "    }\n",
       "\n",
       "    .dataframe tbody tr th {\n",
       "        vertical-align: top;\n",
       "    }\n",
       "\n",
       "    .dataframe thead th {\n",
       "        text-align: right;\n",
       "    }\n",
       "</style>\n",
       "<table border=\"1\" class=\"dataframe\">\n",
       "  <thead>\n",
       "    <tr style=\"text-align: right;\">\n",
       "      <th></th>\n",
       "      <th>County</th>\n",
       "      <th>Time of Day</th>\n",
       "      <th>Day of Week</th>\n",
       "      <th>Month</th>\n",
       "      <th>Gender</th>\n",
       "      <th>Average Age</th>\n",
       "      <th>Committed Crime</th>\n",
       "    </tr>\n",
       "  </thead>\n",
       "  <tbody>\n",
       "    <tr>\n",
       "      <th>0</th>\n",
       "      <td>DevonCornwall</td>\n",
       "      <td>morning</td>\n",
       "      <td>Sunday</td>\n",
       "      <td>January</td>\n",
       "      <td>Male</td>\n",
       "      <td>21.0</td>\n",
       "      <td>0.0</td>\n",
       "    </tr>\n",
       "    <tr>\n",
       "      <th>1</th>\n",
       "      <td>DevonCornwall</td>\n",
       "      <td>morning</td>\n",
       "      <td>Sunday</td>\n",
       "      <td>January</td>\n",
       "      <td>Male</td>\n",
       "      <td>21.0</td>\n",
       "      <td>0.0</td>\n",
       "    </tr>\n",
       "    <tr>\n",
       "      <th>2</th>\n",
       "      <td>DevonCornwall</td>\n",
       "      <td>morning</td>\n",
       "      <td>Sunday</td>\n",
       "      <td>January</td>\n",
       "      <td>Male</td>\n",
       "      <td>21.0</td>\n",
       "      <td>0.0</td>\n",
       "    </tr>\n",
       "    <tr>\n",
       "      <th>3</th>\n",
       "      <td>DevonCornwall</td>\n",
       "      <td>morning</td>\n",
       "      <td>Sunday</td>\n",
       "      <td>January</td>\n",
       "      <td>Male</td>\n",
       "      <td>NaN</td>\n",
       "      <td>0.0</td>\n",
       "    </tr>\n",
       "    <tr>\n",
       "      <th>4</th>\n",
       "      <td>DevonCornwall</td>\n",
       "      <td>morning</td>\n",
       "      <td>Sunday</td>\n",
       "      <td>January</td>\n",
       "      <td>Male</td>\n",
       "      <td>48.0</td>\n",
       "      <td>0.0</td>\n",
       "    </tr>\n",
       "  </tbody>\n",
       "</table>\n",
       "</div>"
      ],
      "text/plain": [
       "          County Time of Day Day of Week    Month Gender  Average Age  \\\n",
       "0  DevonCornwall     morning      Sunday  January   Male         21.0   \n",
       "1  DevonCornwall     morning      Sunday  January   Male         21.0   \n",
       "2  DevonCornwall     morning      Sunday  January   Male         21.0   \n",
       "3  DevonCornwall     morning      Sunday  January   Male          NaN   \n",
       "4  DevonCornwall     morning      Sunday  January   Male         48.0   \n",
       "\n",
       "   Committed Crime  \n",
       "0              0.0  \n",
       "1              0.0  \n",
       "2              0.0  \n",
       "3              0.0  \n",
       "4              0.0  "
      ]
     },
     "execution_count": 13,
     "metadata": {},
     "output_type": "execute_result"
    }
   ],
   "source": [
    "data.head()"
   ]
  },
  {
   "cell_type": "code",
   "execution_count": null,
   "metadata": {},
   "outputs": [],
   "source": []
  }
 ],
 "metadata": {
  "kernelspec": {
   "display_name": "Python 3",
   "language": "python",
   "name": "python3"
  },
  "language_info": {
   "codemirror_mode": {
    "name": "ipython",
    "version": 3
   },
   "file_extension": ".py",
   "mimetype": "text/x-python",
   "name": "python",
   "nbconvert_exporter": "python",
   "pygments_lexer": "ipython3",
   "version": "3.8.2"
  }
 },
 "nbformat": 4,
 "nbformat_minor": 4
}

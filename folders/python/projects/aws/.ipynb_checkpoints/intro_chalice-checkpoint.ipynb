{
 "cells": [
  {
   "cell_type": "markdown",
   "metadata": {},
   "source": [
    "<div style=\"font-size:16px; border:1px solid black; padding:10px\">\n",
    "<center><h1><br><font color=\"blue\">Post Goals</font></h1></center>    \n",
    "    <ol>\n",
    "        <li><a href=\"#part1\">Provide Brief Introduction to AWS Chalice.</a></li><br>\n",
    "        <li><a href=\"#part2\">Demonstrate how to build and run AWS Chalice locally.</a></li><br>\n",
    "</ol>\n",
    "</div>"
   ]
  },
  {
   "cell_type": "markdown",
   "metadata": {},
   "source": [
    "<hr style=\"border-top: 5px solid black;\">"
   ]
  },
  {
   "cell_type": "markdown",
   "metadata": {},
   "source": [
    "<div id=\"part1\" style=\"font-size:16px; border:1px solid black; padding:10px\">\n",
    "<center><h1><br><font color=\"blue\">Provide Brief Introduction to AWS Chalice.</font></h1></center>\n",
    "    <hr>\n",
    "    <ol><h4><strong>Section Overview:</strong></h4>\n",
    "        <li>Serverless Architecture.</li><br>\n",
    "        <li>AWS Chalice:\n",
    "            <ul>\n",
    "                <li>Project Setup</li>\n",
    "                <li>Create New Chalice Project</li>\n",
    "                <li>Build and Run Locally</li>\n",
    "            </ul>\n",
    "        </li>\n",
    "    </ol>\n",
    "        <hr>\n",
    "    <ul><h4>Serverless Computing</h4>\n",
    "        <li>Is a cloud computing execution model whereby a company allocates machine resources to a customer, taking care of their server needs while the customer pays on demand.</li>\n",
    "        <li>Servers are used hardware and software that provide functionality for other programs and devices. This includes sharing data and performing computations.  There are various server types, and managing these resources is taxing.</li>\n",
    "        <li>Serverless computing is a new model, whereby companies no longer need to purchase and manage their own servers, instead, they can use another companies servers to carry out their work.</li>\n",
    "        <li>Serverless computing has enabled developers to create web applications without needed to manage their own servers. With serverless computing, developers send their code or executable package to be executed by the the serverless platform provider.</li>\n",
    "        <li>AWS introduced their own serverless architecture called <a href=\"https://docs.aws.amazon.com/lambda/latest/dg/welcome.html\">Lambda Services</a> </li>\n",
    "        <li>Lambda Services allows developes to execute their code in a particular runtime environment.</li>\n",
    "        <li>This is expecially true when trying to connect a Machine Learning application to the web. Lambda Services makes it easy to interface with Amazon SageMaker.</li>\n",
    "        <li><mark style= \"background-color: yellow;\">The aim of this project is to demonstrate how to carry out serverless computing using AWS Chalice.</mark></li>\n",
    "    </ul>  \n",
    "    <hr>\n",
    "    <ul><h4>AWS Chalice</h4>\n",
    "        <li><a href=\"https://chalice.readthedocs.io/en/stable/\">Chalice</a> is a python serverless microframework developed by AWS.</li>\n",
    "        <li>Chalice enables developers to quickly prepare and deploy a working serverless app that can scale according to the its AWS lambda needs.</li>\n",
    "        <li>Chalice is inspired by the common python web framework <a href=\"https://www.fullstackpython.com/flask.html\">Flask</a>.</li>\n",
    "        <li>The advantage of chalice is that it interfaces with AWS and it takes a minimalistic approach.</li>\n",
    "        <li>The following steps will go through the steps needed to build and deploy a simple web application using Chalice</li>\n",
    "    </ul>\n",
    "</div>"
   ]
  },
  {
   "cell_type": "markdown",
   "metadata": {},
   "source": [
    "<hr style=\"border-top: 5px solid black;\">"
   ]
  },
  {
   "cell_type": "markdown",
   "metadata": {},
   "source": [
    "<div id=\"part2\" style=\"font-size:16px; border:1px solid black; padding:10px\">\n",
    "<center><h1><font color=\"blue\">Demonstrate how to build and run AWS Chalice locally.</font></h1></center><br>\n",
    "    </div>"
   ]
  },
  {
   "cell_type": "markdown",
   "metadata": {},
   "source": [
    "<h3>Step 1: Project Setup</h3>\n",
    "\n",
    " - Set up environment on local machine (via terminal or powershell)\n",
    " - Activate virtual environment\n",
    " - Install Chalice"
   ]
  },
  {
   "cell_type": "markdown",
   "metadata": {},
   "source": [
    "<h3 style=\"background-color: lightyellow; text-indent: 1.5em;\">Shell</h3>\n",
    "<div style=\"background-color: #F0F0F0;\">\n",
    "<ul style=\"list-style-type:none;\">\n",
    "  <li>&#x24; python3.6 -m venv env</li>\n",
    "  <li>&#x24; source env/bin/activateM</li>\n",
    "  <li>(env)&#x24; pip install chalice</li>\n",
    "</ul>  \n",
    "</div>"
   ]
  },
  {
   "cell_type": "markdown",
   "metadata": {},
   "source": [
    "<h3>Step 2: Create New Project</h3>\n",
    "\n",
    " - Create new project\n",
    " - Inspect new directory that Chalice creates"
   ]
  },
  {
   "cell_type": "markdown",
   "metadata": {},
   "source": [
    "<h3 style=\"background-color: lightyellow; text-indent: 1.5em;\">Shell</h3>\n",
    "<div style=\"background-color: #F0F0F0;\">\n",
    "<ul style=\"list-style-type:none;\">\n",
    "  <li>(env)&#x24; chalice new-project</li>\n",
    "</ul>  \n",
    "</div>"
   ]
  },
  {
   "cell_type": "markdown",
   "metadata": {},
   "source": [
    "<h3 style=\"background-color: lightyellow; text-indent: 1.5em;\">Directory</h3>\n",
    "<div style=\"background-color: #F0F0F0;\">\n",
    "<ul style=\"list-style-type:none;\">\n",
    "    <li>&#60;project-name&#62;</li>\n",
    "    <li>|</li>\n",
    "    <li>&#x22A2;.chalice/&#x231e;config.json</li>\n",
    "    <li>|</li>\n",
    "    <li>|</li>\n",
    "    <li>&#8866;.gitignore</li>\n",
    "    <li>&#8866;app.py</li>\n",
    "    <li>&#x231e;requirements.txt</li>\n",
    "</ul>  \n",
    "</div>"
   ]
  },
  {
   "cell_type": "markdown",
   "metadata": {},
   "source": [
    "<h3>Step 3: Build and Run Locally</h3>"
   ]
  },
  {
   "cell_type": "markdown",
   "metadata": {},
   "source": [
    "<h3 style=\"background-color: lightyellow; text-indent: 1.5em;\">Shell</h3>\n",
    "<div style=\"background-color: #F0F0F0;\">\n",
    "<ul style=\"list-style-type:none;\">\n",
    "    <li>(env)&#x24; chalice local</li>\n",
    "    <li><font color=\"grey\">Serving on 127.0.0.1:8000</font></li>\n",
    "</ul>  \n",
    "</div>"
   ]
  },
  {
   "cell_type": "markdown",
   "metadata": {},
   "source": [
    "<div id=\"part2\" style=\"font-size:16px; border:1px solid black; padding:10px\">\n",
    "    \n",
    " - By default, Chalice runs on port 8000. \n",
    " - We can now check the index route by making a curl request to http://localhost:8000/:\n",
    "</div>"
   ]
  },
  {
   "cell_type": "markdown",
   "metadata": {},
   "source": [
    "<h3 style=\"background-color: lightyellow; text-indent: 1.5em;\">Shell</h3>\n",
    "<div style=\"background-color: #F0F0F0;\">\n",
    "<ul style=\"list-style-type:none;\">\n",
    "    <li>curl -X GET http://localhost:8000/</li>\n",
    "    <li><font color=\"grey\">{\"hello\": \"world\"}</font></li>\n",
    "</ul>  \n",
    "</div>"
   ]
  },
  {
   "cell_type": "markdown",
   "metadata": {},
   "source": [
    "<h3>Step 4: Inspect <code>app.py</code> file.</h3>"
   ]
  },
  {
   "cell_type": "markdown",
   "metadata": {},
   "source": [
    "<h3 style=\"background-color: lightyellow; text-indent: 1.5em;\">Directory</h3>\n",
    "<div style=\"background-color: #F0F0F0;\">\n",
    "<ul style=\"list-style-type:none;\">\n",
    "    <li>&#60;project-name&#62;</li>\n",
    "    <li>|</li>\n",
    "    <li>&#x22A2;.chalice/&#x231e;config.json</li>\n",
    "    <li>|</li>\n",
    "    <li>|</li>\n",
    "    <li>&#8866;.gitignore</li>\n",
    "    <li><font color=\"red\">&#8866;app.py</font></li>\n",
    "    <li>&#x231e;requirements.txt</li>\n",
    "</ul>  \n",
    "</div>"
   ]
  },
  {
   "cell_type": "markdown",
   "metadata": {},
   "source": [
    "<h3 style=\"background-color: lightblue; text-indent: 1.5em;\">Python</h3>\n",
    "<div style=\"background-color: #F0F0F0;\">\n",
    "<ul style=\"list-style-type:none;\">\n",
    "    <li>from chalice import Chalice</li>\n",
    "    <li>app = Chalice(app_name='serverless-sms-service')</li><br>\n",
    "    <li>@app.route('/')</li>\n",
    "    <li>def index():</li>\n",
    "    <li style=\"text-indent: 1.5em;\">&#9;return {'hello': 'world'}</li>\n",
    "</ul>  \n",
    "</div>"
   ]
  },
  {
   "cell_type": "markdown",
   "metadata": {},
   "source": [
    "<h3>Step 5: Inspect <code>.chalice/config.json</code> file.</h3>\n",
    "\n",
    "<h3 style=\"background-color: lightyellow; text-indent: 1.5em;\">Directory</h3>\n",
    "<div style=\"background-color: #F0F0F0;\">\n",
    "<ul style=\"list-style-type:none;\">\n",
    "    <li>&#60;project-name&#62;</li>\n",
    "    <li>|</li>\n",
    "    <li>&#x22A2;.chalice/&#x231e;<font color=\"red\">config.json</font></li>\n",
    "    <li>|</li>\n",
    "    <li>|</li>\n",
    "    <li>&#8866;.gitignore</li>\n",
    "    <li>&#8866;app.py</li>\n",
    "    <li>&#x231e;requirements.txt</li>\n",
    "</ul>  \n",
    "</div>\n",
    "\n",
    " - This file will contain your AWS credential:\n",
    "  - Access key id\n",
    "  - Secret access key\n",
    "  - Region\n",
    " - The credential can be obtained by either through your AWS account information from admin page <code>admin > My Security Credentials > Access Keys > Create Access Key > download file</code>\n",
    " - The credentials can be added to config.json file by:\n",
    "  - manually typing information into the config.json file in the .chalice subdirectory  \n",
    "  - use `aws configure` in console/terminal and then manually type in credential information.\n",
    "  - The second method will autopopulate the config.json file"
   ]
  },
  {
   "cell_type": "markdown",
   "metadata": {},
   "source": [
    "<h3 style=\"background-color: lightyellow; text-indent: 1.5em;\">config.json</h3>\n",
    "<div style=\"background-color: #F0F0F0;\">\n",
    "<ul style=\"list-style-type:none;\">\n",
    "  <li>aws_access_key_id=&#60;your-access-key-id&#62;</li>\n",
    "  <li>aws_secret_access_key=&#60;your-secret-access-key&#62;</li>\n",
    "  <li>region=&#60;your-region&#62;</li>\n",
    "</ul>  \n",
    "</div>"
   ]
  },
  {
   "cell_type": "markdown",
   "metadata": {},
   "source": [
    "<h3>Step 6: Deploy Chalice <code>chalice deploy</code> from Terminal</h3>\n",
    "\n",
    " - The ARN and API URL will vary from user to user, the code below is just an example"
   ]
  },
  {
   "cell_type": "markdown",
   "metadata": {},
   "source": [
    "<h3 style=\"background-color: lightyellow; text-indent: 1.5em;\">Shell</h3>\n",
    "<div style=\"background-color: #F0F0F0;\">\n",
    "<ul style=\"list-style-type:none;\">\n",
    "    <li>(env)&#x24; chalice deploy</li>\n",
    "    <li><font color=\"grey\">Creating deployment package.</font></li>\n",
    "    <li><font color=\"grey\">Updating policy for IAM role: hello-world-dev</font></li>\n",
    "    <li><font color=\"grey\">Creating lambda function: hello-world-dev</font></li>\n",
    "    <li><font color=\"grey\">Creating Rest API</font></li>\n",
    "    <li><font color=\"grey\">Resources deployed:</font></li>\n",
    "    <li style=\"text-indent: 1.5em;\"><font color=\"grey\">- Lambda ARN: arn:aws:lambda:ap-south-1:679337104153:function:hello-world-dev</font></li>\n",
    "    <li style=\"text-indent: 1.5em;\"><font color=\"grey\">- Rest API URL: https://fqcdyzvytc.execute-api.ap-south-1.amazonaws.com/api/</font></li>\n",
    "</ul>  \n",
    "</div>"
   ]
  },
  {
   "cell_type": "markdown",
   "metadata": {},
   "source": [
    "<div style=\"font-size:16px; border:1px solid black; padding:10px\">\n",
    "<center><h1><font color=\"black\">What are the other files in the Chalice Project Directory?</font></h1></center><br>\n",
    "    <ul>\n",
    "        <li>The <code>app.py</code> will contains all the python code that will be used to carry out your web application.</li>\n",
    "        <br>\n",
    "        <li>The <code>requirements.txt</code> \n",
    "            <ul>\n",
    "                <li>File needs to be in the same working directory as your app.py file</li>\n",
    "                <li>File contains a list of all the dependencies needed to run your python code.</li>\n",
    "                <li>Dependencies can be added to the file from the terminal via <code>pip freeze | grep boto3 >> requirements.txt</code> Must be in the same directory as files.</li> \n",
    "                <li>During the packaging process, Chalice will install any packages it finds or can build compatible wheels for. Specifically all pure python packages as well as all packages that upload wheel files for the manylinux1_x86_64 platform will be automatically installable.</li>\n",
    "                </ul>\n",
    "        </li>\n",
    "        <br>\n",
    "        <li>The <code>iam_policy_file</code> \n",
    "            <ul>\n",
    "                <li>Configures the permissions</li>\n",
    "                <li>File is not displayed in the directory diagram in this post but is autogenerated</li>\n",
    "                <li><mark>This file will provide Chalice API access to your AWS endpoint.</mark></li>\n",
    "                <li>This file is provided by chalice in the <code>.chalice</code> folder</li>\n",
    "                <li>This document is used to define AIM permissions and can be auto generated, provided manually, or pre-created explicitly.</li>\n",
    "                <li>AIM roles and policies instruct chalice on what AIM policies to use at an given stage of production.  It serves as a switch.</li>\n",
    "                </ul>\n",
    "        </li><br>\n",
    "    </ul><br>\n",
    "<center><h1><font color=\"black\">Is that It?</font></h1></center><br>\n",
    "    <ul>\n",
    "        <li>Creating applications will require more code than what is presented here, and it all depends on the functionality and the AWS services that will be utilized.</li>\n",
    "        <li>It is common to refactor your app once it is completed so that not all the business logic is in the ><code>app.py</code> file. Instead, all that information should be abstracted under the <code>chalicelib/directory</code></li>\n",
    "        <li>The abstraction makes the code more readable and allows you to create much more complex business logic and functionality of your app.</li>        \n",
    "    </ul>\n",
    "</div>"
   ]
  }
 ],
 "metadata": {
  "kernelspec": {
   "display_name": "Python 3",
   "language": "python",
   "name": "python3"
  },
  "language_info": {
   "codemirror_mode": {
    "name": "ipython",
    "version": 3
   },
   "file_extension": ".py",
   "mimetype": "text/x-python",
   "name": "python",
   "nbconvert_exporter": "python",
   "pygments_lexer": "ipython3",
   "version": "3.8.2"
  }
 },
 "nbformat": 4,
 "nbformat_minor": 4
}

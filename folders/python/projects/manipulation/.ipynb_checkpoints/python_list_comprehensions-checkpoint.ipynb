{
 "cells": [
  {
   "cell_type": "markdown",
   "metadata": {},
   "source": [
    "# <font color=\"blue\">Import Dependencies</font>"
   ]
  },
  {
   "cell_type": "code",
   "execution_count": 1,
   "metadata": {},
   "outputs": [],
   "source": [
    "import pandas as pd\n",
    "import numpy as np\n",
    "pd.set_option('display.max_columns', None)\n",
    "pd.set_option('display.max_rows', None)\n",
    "\n",
    "import time"
   ]
  },
  {
   "cell_type": "markdown",
   "metadata": {},
   "source": [
    "# <font color=\"blue\">Data</font>\n",
    "\n",
    "Data was obtained from a survey conducted in Qualtrics.  Qualtrics include metadata with the survey respondents.\n",
    "\n",
    "# <font color=\"blue\">Objective</font>\n",
    "- Use examples to help explain list comprehensions "
   ]
  },
  {
   "cell_type": "markdown",
   "metadata": {},
   "source": [
    "# <font color=\"blue\">General Anatomy of List Comprehension</font>"
   ]
  },
  {
   "cell_type": "markdown",
   "metadata": {},
   "source": [
    "### Python List comprehensions can contain four elements:\n",
    "\n",
    "### <strong><code>new_list = [expression (optional if conditional) for item in old_sequence (optional conditional statement)]</code></strong>\n",
    "\n",
    "### 1. The <strong><font color=\"red\"><code>expression (optional if conditional)</code></font></strong>: which represents what you want added to the new list.\n",
    "This expression can take on the following flavors:<br>\n",
    "   - It can be the item<br>\n",
    "   - It can be a call to a method<br>\n",
    "   - It can also be a valid expression that returns a value.<br>\n",
    "   - It can contain an if conditional if you want to change a member value instead of filtering it out.\n",
    "\n",
    "### 2. The item is the object or value in the list or iterable.\n",
    "\n",
    "### 3. The old_sequence (iterable) is a list, set, sequence, generator, or any other object that can return its elements one at a time.\n",
    "\n",
    "### 4. An optional conditional statement that will filter out unwanted values.\n"
   ]
  },
  {
   "cell_type": "markdown",
   "metadata": {},
   "source": [
    "# <font color=\"blue\">List Comprehensions are 'Faster' than for loops</font>"
   ]
  },
  {
   "cell_type": "markdown",
   "metadata": {},
   "source": [
    "### For loop example. \n",
    " - This for loop create a list of characters from the word python_string"
   ]
  },
  {
   "cell_type": "code",
   "execution_count": 2,
   "metadata": {},
   "outputs": [
    {
     "name": "stdout",
     "output_type": "stream",
     "text": [
      "Time taken for fun program:  0.00011873245239257812\n",
      "['p', 'y', 't', 'h', 'o', 'n', '_', 's', 't', 'r', 'i', 'n', 'g']\n"
     ]
    }
   ],
   "source": [
    "# Starts timer\n",
    "start = time.time()\n",
    "\n",
    "word = 'python_string'\n",
    "output = []\n",
    "for letter in word:\n",
    "    output.append(letter)\n",
    "\n",
    "# Ends timer\n",
    "for_loop_end = time.time()\n",
    "print('Time taken for fun program: ', for_loop_end - start)\n",
    "print(output)"
   ]
  },
  {
   "cell_type": "markdown",
   "metadata": {},
   "source": [
    "### List Comprehension\n",
    " - Does the same as above but in a single line"
   ]
  },
  {
   "cell_type": "code",
   "execution_count": 3,
   "metadata": {},
   "outputs": [
    {
     "name": "stdout",
     "output_type": "stream",
     "text": [
      "Time taken for fun program:  9.608268737792969e-05\n",
      "['p', 'y', 't', 'h', 'o', 'n', '_', 's', 't', 'r', 'i', 'n', 'g']\n"
     ]
    }
   ],
   "source": [
    "# Starts timer\n",
    "start = time.time()\n",
    "\n",
    "word = 'python_string'\n",
    "output = [letter for letter in word]\n",
    "\n",
    "# Ends timer\n",
    "list_comp_end = time.time()\n",
    "print('Time taken for fun program: ', list_comp_end - start)\n",
    "print(output)"
   ]
  },
  {
   "cell_type": "code",
   "execution_count": 4,
   "metadata": {},
   "outputs": [
    {
     "name": "stdout",
     "output_type": "stream",
     "text": [
      "Is list comprehension in this example > than a for loop?: \n",
      "      True by 0.014\n"
     ]
    }
   ],
   "source": [
    "print(f\"\"\"Is list comprehension in this example > than a for loop?: \n",
    "      {list_comp_end > for_loop_end} by {round(list_comp_end - for_loop_end, 3)}\"\"\")"
   ]
  },
  {
   "cell_type": "markdown",
   "metadata": {},
   "source": [
    "# <font color=\"coral\">Translate for loop to list comprehension</font>"
   ]
  },
  {
   "cell_type": "markdown",
   "metadata": {},
   "source": [
    "The for loop elements\n",
    "<font color=\"red\">word</font> = 'python_string'<br>\n",
    "<strong><font color=\"purple\">output</font></strong> = []<br>\n",
    "<font color=\"blue\">for</font> <strong><font color=\"orange\">letter</font></strong> in <font color=\"red\">word</font>:\n",
    "<p style=\"margin-left:10px; margin-right:50px;\">\n",
    "    <font color=\"purple\">output</font>.append(<strong><font color=\"991B05\">letter</font></strong>)<br></p>\n",
    "<hr style=\"border: 1px solid black;\">"
   ]
  },
  {
   "cell_type": "markdown",
   "metadata": {},
   "source": [
    "### Using the definitions from the <font color=\"blue\">General Anatomy of List Comprehension</font> section above\n",
    "\n",
    "<font color=\"red\">word</font> = <font color=\"red\">old sequence</font><br>\n",
    "<strong><font color=\"purple\">new list</font></strong> = []<br>\n",
    "<font color=\"blue\">for</font> <strong><font color=\"orange\">item</font></strong> in <font color=\"red\">old sequence</font>:\n",
    "<p style=\"margin-left:10px; margin-right:50px;\">\n",
    "    <font color=\"purple\">new list</font>.append(<strong><font color=\"991B05\">expression</font></strong>)<br></p>\n",
    "<hr style=\"border: 1px solid black;\">"
   ]
  },
  {
   "cell_type": "markdown",
   "metadata": {},
   "source": [
    "<strong><font color=\"purple\">new list</font></strong> = [<strong><font color=\"991B05\">expression</font></strong> <font color=\"blue\">for</font> <strong><font color=\"orange\">item</font></strong> in <font color=\"red\">old sequence</font>]\n",
    "\n",
    "### OR\n",
    "\n",
    "<strong><font color=\"purple\">output</font></strong> = [<strong><font color=\"991B05\">letter</font></strong> <font color=\"blue\">for</font><strong> <font color=\"orange\">letter</font></strong> in <font color=\"red\">word</font>]\n",
    "\n",
    "<hr style=\"border: 1px solid black;\">"
   ]
  },
  {
   "cell_type": "markdown",
   "metadata": {},
   "source": [
    "# <font color=\"coral\">Step by Step Transformation</font>"
   ]
  },
  {
   "cell_type": "markdown",
   "metadata": {},
   "source": [
    "### Step 1 set new list equal to empty []\n",
    "<strong><font color=\"purple\">output</font> = []<strong>"
   ]
  },
  {
   "cell_type": "markdown",
   "metadata": {},
   "source": [
    "### Step 2 add the for loop inside the empty brakets\n",
    "<strong><font color=\"purple\">output</font> = [<font color=\"blue\">for</font> <strong><font color=\"orange\">letter</font></strong> in <font color=\"red\">word</font>]<strong>"
   ]
  },
  {
   "cell_type": "markdown",
   "metadata": {},
   "source": [
    "### Step 3 add the expression in front of the for loop\n",
    "<strong><font color=\"purple\">new list</font> = [<strong><font color=\"991B05\">letter</font></strong> <font color=\"blue\">for</font> <strong><font color=\"orange\">letter</font></strong> in <font color=\"red\">word</font>]"
   ]
  },
  {
   "cell_type": "markdown",
   "metadata": {},
   "source": [
    "# <font color=\"blue\">List Comprehension Examples</font>"
   ]
  },
  {
   "cell_type": "markdown",
   "metadata": {},
   "source": [
    "### Example 1: Iterating through a string using List Comprehension"
   ]
  },
  {
   "cell_type": "code",
   "execution_count": 5,
   "metadata": {},
   "outputs": [
    {
     "name": "stdout",
     "output_type": "stream",
     "text": [
      "['c', 'h', 'a', 'r', 'a', 'c', 't', 'e', 'r', 's']\n"
     ]
    }
   ],
   "source": [
    "# For loop\n",
    "char_list = []\n",
    "for char in 'characters':\n",
    "    char_list.append(char)\n",
    "print(char_list)"
   ]
  },
  {
   "cell_type": "markdown",
   "metadata": {},
   "source": [
    "### Translate into list comprehension terms\n",
    "<strong><font color=\"purple\">new list</font></strong> = char_list<br>\n",
    "<strong><font color=\"991B05\">expression</font></strong> = char<br>\n",
    "<font color=\"blue\">for loop</font> = for<br>\n",
    "<strong><font color=\"orange\">item</font></strong> = char<br>\n",
    "<strong><font color=\"red\">old sequence</font></strong> = word<br>"
   ]
  },
  {
   "cell_type": "markdown",
   "metadata": {},
   "source": [
    "### Convert\n",
    "<strong><font color=\"purple\">new list</font></strong> = [<strong><font color=\"991B05\">expression</font></strong> <font color=\"blue\">for</font> <strong><font color=\"orange\">item</font></strong> in <strong><font color=\"red\">old sequence</font></strong>]"
   ]
  },
  {
   "cell_type": "code",
   "execution_count": 6,
   "metadata": {},
   "outputs": [
    {
     "name": "stdout",
     "output_type": "stream",
     "text": [
      "['c', 'h', 'a', 'r', 'a', 'c', 't', 'e', 'r', 's']\n"
     ]
    }
   ],
   "source": [
    "char_list = [char for char in 'characters']\n",
    "print(char_list)"
   ]
  },
  {
   "cell_type": "markdown",
   "metadata": {},
   "source": [
    "### Example 2: Create a List Comprehension when the expression is a method"
   ]
  },
  {
   "cell_type": "code",
   "execution_count": 7,
   "metadata": {},
   "outputs": [
    {
     "name": "stdout",
     "output_type": "stream",
     "text": [
      "[0, 1, 8, 27, 64, 125, 216, 343, 512, 729]\n"
     ]
    }
   ],
   "source": [
    "cubes = []\n",
    "for i in range(10):\n",
    "    cubes.append(i ** 3)\n",
    "\n",
    "print(cubes)"
   ]
  },
  {
   "cell_type": "markdown",
   "metadata": {},
   "source": [
    "### Translate into list comprehension terms\n",
    "<strong><font color=\"purple\">new list</font></strong> = cubes<br>\n",
    "<strong><font color=\"991B05\">expression</font></strong> = i ** 3<br>\n",
    "<font color=\"blue\">for loop</font> = for<br>\n",
    "<strong><font color=\"orange\">item</font></strong> = i<br>\n",
    "<strong><font color=\"red\">old sequence</font></strong> = range(10)<br>"
   ]
  },
  {
   "cell_type": "markdown",
   "metadata": {},
   "source": [
    "### Convert to <strong><font color=\"purple\">new list</font></strong> = [<strong><font color=\"991B05\">expression</font></strong> <font color=\"blue\">for</font> <strong><font color=\"orange\">item</font></strong> in <strong><font color=\"red\">old sequence</font></strong>]\n",
    "\n",
    "<strong><font color=\"purple\">cubes</font></strong> = [<strong><font color=\"991B05\">i ** 3</font></strong> <font color=\"blue\">for</font> <strong><font color=\"orange\">i</font></strong> in <strong><font color=\"red\">range(10)</font></strong>]"
   ]
  },
  {
   "cell_type": "code",
   "execution_count": 8,
   "metadata": {},
   "outputs": [
    {
     "name": "stdout",
     "output_type": "stream",
     "text": [
      "[0, 1, 8, 27, 64, 125, 216, 343, 512, 729]\n"
     ]
    }
   ],
   "source": [
    "cubes = [i ** 3 for i in range(10)]\n",
    "print(cubes)"
   ]
  },
  {
   "cell_type": "markdown",
   "metadata": {},
   "source": [
    "### Example 3: Create a List Comprehension when the expression is a function that returns a value"
   ]
  },
  {
   "cell_type": "code",
   "execution_count": 9,
   "metadata": {},
   "outputs": [],
   "source": [
    "def add_tax(price):\n",
    "    return price + (price * 0.095)"
   ]
  },
  {
   "cell_type": "code",
   "execution_count": 10,
   "metadata": {},
   "outputs": [
    {
     "name": "stdout",
     "output_type": "stream",
     "text": [
      "[1.19355, 25.798199999999998, 63.3348, 4.9932, 7.4241]\n"
     ]
    }
   ],
   "source": [
    "total_prices_list = []\n",
    "item_prices = [1.09, 23.56, 57.84, 4.56, 6.78]\n",
    "\n",
    "for item in item_prices:\n",
    "    total_prices_list.append(add_tax(item))\n",
    "\n",
    "print(total_prices_list)"
   ]
  },
  {
   "cell_type": "markdown",
   "metadata": {},
   "source": [
    "### Translate into list comprehension terms\n",
    "<strong><font color=\"purple\">new list</font></strong> = total_prices_list<br>\n",
    "<strong><font color=\"991B05\">expression</font></strong> = add_tax(item)<br>\n",
    "<font color=\"blue\">for loop</font> = for<br>\n",
    "<strong><font color=\"orange\">item</font></strong> = item<br>\n",
    "<strong><font color=\"red\">old sequence</font></strong> = item_prices<br>"
   ]
  },
  {
   "cell_type": "markdown",
   "metadata": {},
   "source": [
    "### Convert to <strong><font color=\"purple\">new list</font></strong> = [<strong><font color=\"991B05\">expression</font></strong> <font color=\"blue\">for</font> <strong><font color=\"orange\">item</font></strong> in <strong><font color=\"red\">old sequence</font></strong>]\n",
    "\n",
    "<strong><font color=\"red\">total_prices_list</font></strong> = [<strong><font color=\"991B05\">add_tax(item)</font></strong> <font color=\"blue\">for</font> <strong><font color=\"orange\">item</font></strong> in <strong><font color=\"red\">item_prices</font></strong>]"
   ]
  },
  {
   "cell_type": "code",
   "execution_count": 11,
   "metadata": {},
   "outputs": [
    {
     "name": "stdout",
     "output_type": "stream",
     "text": [
      "[1.19355, 25.798199999999998, 63.3348, 4.9932, 7.4241]\n"
     ]
    }
   ],
   "source": [
    "total_prices_list = [add_tax(item) for item in item_prices]\n",
    "\n",
    "print(total_prices_list)"
   ]
  },
  {
   "cell_type": "markdown",
   "metadata": {},
   "source": [
    "### Example 4: Create a List Comprehension using the conditional if statement at the end. This will filter the output."
   ]
  },
  {
   "cell_type": "code",
   "execution_count": 12,
   "metadata": {},
   "outputs": [
    {
     "name": "stdout",
     "output_type": "stream",
     "text": [
      "[0, 2, 4, 6, 8, 10, 12, 14, 16, 18]\n"
     ]
    }
   ],
   "source": [
    "# Get even numbers\n",
    "even_numbers = []\n",
    "\n",
    "for number in range(20):\n",
    "    if number % 2 == 0:\n",
    "        even_numbers.append(number)\n",
    "\n",
    "print(even_numbers)"
   ]
  },
  {
   "cell_type": "markdown",
   "metadata": {},
   "source": [
    "### Translate into list comprehension terms\n",
    "<strong><font color=\"purple\">new list</font></strong> = even_numbers<br>\n",
    "<strong><font color=\"991B05\">expression</font></strong> = add_tax(item)<br>\n",
    "<font color=\"blue\">for loop</font> = for<br>\n",
    "<strong><font color=\"orange\">item</font></strong> = number <br>\n",
    "<strong><font color=\"red\">old sequence</font></strong> = range(20)<br>\n",
    "<strong><font color=\"green\">conditional statement \"filtering\"</font></strong> = if number % 2 == 0"
   ]
  },
  {
   "cell_type": "markdown",
   "metadata": {},
   "source": [
    "### Convert to <strong><font color=\"purple\">new list</font></strong> = [<strong><font color=\"991B05\">expression</font></strong> <font color=\"blue\">for</font> <strong><font color=\"orange\">item</font></strong> in <strong><font color=\"red\">old sequence</font></strong> <strong><font color=\"green\">conditional statement \"filtering\"</font></strong>]\n",
    "\n",
    "<strong><font color=\"red\">even_numbers</font></strong> = [<strong><font color=\"991B05\">number</font></strong> <font color=\"blue\">for</font> <strong><font color=\"orange\">number</font></strong> in <strong><font color=\"red\">range(20)</font></strong> <strong><font color=\"green\">if number % 2 == 0</font></strong>]"
   ]
  },
  {
   "cell_type": "code",
   "execution_count": 13,
   "metadata": {},
   "outputs": [
    {
     "name": "stdout",
     "output_type": "stream",
     "text": [
      "[0, 2, 4, 6, 8, 10, 12, 14, 16, 18]\n"
     ]
    }
   ],
   "source": [
    "even_numbers = [number for number in range(20) if number % 2 == 0]\n",
    "print(even_numbers)"
   ]
  },
  {
   "cell_type": "markdown",
   "metadata": {},
   "source": [
    "### Example 5: Use an if conditional in the expression of the list comprehension. This will change a member value instead of filtering it out."
   ]
  },
  {
   "cell_type": "code",
   "execution_count": 14,
   "metadata": {},
   "outputs": [
    {
     "name": "stdout",
     "output_type": "stream",
     "text": [
      "[324.87, 17.8, 12.33, 6000.98, 213.76]\n"
     ]
    }
   ],
   "source": [
    "# In this example, if a checking balance is < $0, then money is transferred into account to zero it out\n",
    "checking_account_balances = [324.87, -17.80, 12.33, 6000.98, -213.76]\n",
    "updated_account_balances = []\n",
    "for account in checking_account_balances:\n",
    "    if account < 0:\n",
    "        updated_account_balances.append(abs(account))\n",
    "    else:\n",
    "        updated_account_balances.append(account)\n",
    "\n",
    "print(updated_account_balances)                                        "
   ]
  },
  {
   "cell_type": "markdown",
   "metadata": {},
   "source": [
    "### Translate into list comprehension terms\n",
    "<strong><font color=\"purple\">new list</font></strong> = updated_account_balances<br>\n",
    "<strong><font color=\"991B05\">expression with if conditional</font></strong> = abs(account) if account < 0 else account<br>\n",
    "<font color=\"blue\">for loop</font> = for<br>\n",
    "<strong><font color=\"orange\">item</font></strong> = account <br>\n",
    "<strong><font color=\"red\">old sequence</font></strong> = checking_account_balances<br>"
   ]
  },
  {
   "cell_type": "markdown",
   "metadata": {},
   "source": [
    "### Convert to <strong><font color=\"purple\">new list</font></strong> = [<strong><font color=\"991B05\">expression</font></strong>  <font color=\"blue\">for</font> <strong><font color=\"orange\">item</font></strong> in <strong><font color=\"red\">old sequence</font></strong>]\n",
    "\n",
    "<strong><font color=\"purple\">updated_account_balances</font></strong> = [<strong><font color=\"991B05\">abs(account) if account < 0 else account</font></strong> <font color=\"blue\">for</font> <strong><font color=\"orange\">account</font></strong> in <strong><font color=\"red\">checking_account_balances</font></strong>]"
   ]
  },
  {
   "cell_type": "code",
   "execution_count": 15,
   "metadata": {},
   "outputs": [
    {
     "name": "stdout",
     "output_type": "stream",
     "text": [
      "[324.87, 17.8, 12.33, 6000.98, 213.76]\n"
     ]
    }
   ],
   "source": [
    "updated_account_balances = [abs(account) if account < 0 else account for account in checking_account_balances]\n",
    "print(updated_account_balances)"
   ]
  },
  {
   "cell_type": "markdown",
   "metadata": {},
   "source": [
    "### Example 6: Complicated operations using list comprehension - Transposig a matrix"
   ]
  },
  {
   "cell_type": "code",
   "execution_count": 16,
   "metadata": {},
   "outputs": [
    {
     "name": "stdout",
     "output_type": "stream",
     "text": [
      "[[2, 1], [4, 3], [6, 5]]\n"
     ]
    }
   ],
   "source": [
    "transposed = []\n",
    "matrix = [[2, 4, 6], [1, 3, 5]]\n",
    "\n",
    "for i in range(len(matrix[0])):\n",
    "    transposed_row = []\n",
    "\n",
    "    for row in matrix:\n",
    "        transposed_row.append(row[i])\n",
    "    transposed.append(transposed_row)\n",
    "\n",
    "print(transposed)"
   ]
  },
  {
   "cell_type": "markdown",
   "metadata": {},
   "source": [
    "### Translate into list comprehension terms\n",
    "<strong><font color=\"purple\">new list</font></strong> = transpose<br>\n",
    "<strong><font color=\"991B05\">expression</font></strong> = [row[i] for row in matrix]<br>\n",
    "<font color=\"blue\">for loop</font> = for<br>\n",
    "<strong><font color=\"orange\">item</font></strong> = i <br>\n",
    "<strong><font color=\"red\">old sequence</font></strong> = range(3)<br>"
   ]
  },
  {
   "cell_type": "markdown",
   "metadata": {},
   "source": [
    "### Convert to <strong><font color=\"purple\">new list</font></strong> = [<strong><font color=\"991B05\">expression</font></strong>  <font color=\"blue\">for</font> <strong><font color=\"orange\">item</font></strong> in <strong><font color=\"red\">old sequence</font></strong>]\n",
    "\n",
    "<strong><font color=\"purple\">transpose</font></strong> = [<strong><font color=\"991B05\">[row[i] for row in matrix]</font></strong> <font color=\"blue\">for</font> <strong><font color=\"orange\">i</font></strong> in <strong><font color=\"red\">range(3)</font></strong>]"
   ]
  },
  {
   "cell_type": "code",
   "execution_count": 17,
   "metadata": {},
   "outputs": [
    {
     "name": "stdout",
     "output_type": "stream",
     "text": [
      "[[2, 1], [4, 3], [6, 5]]\n"
     ]
    }
   ],
   "source": [
    "matrix = [[2, 4, 6], [1, 3, 5]]\n",
    "transpose = [[row[i] for row in matrix] for i in range(3)]\n",
    "print (transpose)"
   ]
  }
 ],
 "metadata": {
  "kernelspec": {
   "display_name": "Python 3",
   "language": "python",
   "name": "python3"
  },
  "language_info": {
   "codemirror_mode": {
    "name": "ipython",
    "version": 3
   },
   "file_extension": ".py",
   "mimetype": "text/x-python",
   "name": "python",
   "nbconvert_exporter": "python",
   "pygments_lexer": "ipython3",
   "version": "3.7.6"
  }
 },
 "nbformat": 4,
 "nbformat_minor": 2
}

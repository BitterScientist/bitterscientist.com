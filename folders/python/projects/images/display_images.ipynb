{
 "cells": [
  {
   "cell_type": "code",
   "execution_count": 1,
   "metadata": {},
   "outputs": [
    {
     "data": {
      "application/javascript": [
       "IPython.OutputArea.prototype._should_scroll = function(lines) {\n",
       "    return false;\n",
       "}\n"
      ],
      "text/plain": [
       "<IPython.core.display.Javascript object>"
      ]
     },
     "metadata": {},
     "output_type": "display_data"
    }
   ],
   "source": [
    "%%javascript\n",
    "IPython.OutputArea.prototype._should_scroll = function(lines) {\n",
    "    return false;\n",
    "}"
   ]
  },
  {
   "cell_type": "markdown",
   "metadata": {},
   "source": [
    "<hr style=\"border-top: 5px solid black;\">"
   ]
  },
  {
   "cell_type": "markdown",
   "metadata": {},
   "source": [
    "<h3 style=\"color:blue;\">Python, Jupyter Notebook, Image Rending, ipyplot</h3>"
   ]
  },
  {
   "cell_type": "markdown",
   "metadata": {},
   "source": [
    "<hr style=\"border-top: 5px solid black;\">"
   ]
  },
  {
   "cell_type": "markdown",
   "metadata": {},
   "source": [
    "<div class=\"alert alert-block alert-info\" style=\"font-size:20px; border:1px solid black; padding:10px\">\n",
    "<center><h1>Three methods to display grids of images inside jupyter notebook using Python</h1></center>\n",
    "    <hr style=\"border-top: 2px dashed black;\">\n",
    "    <ol><strong>Post Goals, Demonstrate how to display a grid of images in jupyter notebook using:</strong>\n",
    "        <li>IPython.display HTML and Image.</li><br>\n",
    "        <li>The ipyplot library</li><br>\n",
    "        <li>Matplotlib</li><br>\n",
    "    </ol>\n",
    "     <hr style=\"border-top: 2px dashed black;\">\n",
    "    <ul><strong>Motivation:</strong>\n",
    "        <li>Jupyter notebook is a popular web-based interactive environment to display, share documents that contain code, equations, and visualizations.</li><br>\n",
    "        <li>Displaying data visualizations using python libraries such as python, matplotlib, and seaborn is well documented, but there are many cases where displaying images can be helpful.</li><br>\n",
    "        <li>Images can be added using from local files and a url, although most methods only allow you to display one image, in some cases you may want to display a grid of images.  Grids allow you to compress your images in a well contained cell without having to provide multiple cells that take up space.</li><br>\n",
    "        <li>The aim of this post is to demonstrate how to display a grid of images using a few common and well documented methods.</li><br>        \n",
    "    </ul>    \n",
    "</div>"
   ]
  },
  {
   "cell_type": "markdown",
   "metadata": {},
   "source": [
    "<hr style=\"border-top: 5px solid black;\">"
   ]
  },
  {
   "cell_type": "markdown",
   "metadata": {},
   "source": [
    "<div id=\"objective\" class=\"alert alert-block alert-warning\" style=\"font-size:16px; border:1px solid black; padding:10px\"><center><h1><br><font color=\"blue\">Set up Variables for Filesystem path and Images</font></h1></center><br>\n",
    "</div>\n",
    "<div style=\"font-size:16px; border:1px solid black; padding:10px\">\n",
    "    <ul><strong><u></u></strong>\n",
    "        <li>The filepath to the images must be established before the they can be loaded using the methods described in this post.</li><br>\n",
    "        <li>If the images are in the same directory as the jupyter notebook, then you will have less work.</li><br>        \n",
    "        <li>The following code demonstrates how to link to images in subdirectories.</li><br>        \n",
    "        <li>The two modules you will need are <code>os</code> and <code>pathlib</code>.</li><br> \n",
    "        <li>The <code><a href=\"https://docs.python.org/3/library/os.html\">os</a></code> modules provides a portable way of using operating system dependent functionality. We will use it here to get the current working directory and general file system manipulation.</li><br>\n",
    "        <li>The <code><a href=\"https://docs.python.org/3/library/pathlib.html\">pathlib</a></code> module offers classes representing file system paths and semantics that work for different operating systems.</li><br>\n",
    "    </ul>\n",
    "</div>"
   ]
  },
  {
   "cell_type": "code",
   "execution_count": 2,
   "metadata": {},
   "outputs": [],
   "source": [
    "# Import modules\n",
    "import os\n",
    "from pathlib import Path"
   ]
  },
  {
   "cell_type": "code",
   "execution_count": 3,
   "metadata": {},
   "outputs": [],
   "source": [
    "cwd = os.getcwd() # get current working directory\n",
    "#subdir = 'projects/images/static/images/imread'\n",
    "\n",
    "subdir = 'static/images/imread' # string that lists the relative subdirectory\n",
    "\n",
    "rf_path = os.path.join(cwd, subdir) # use os and path to join cwd and the subdirectory, this create the filepath\n",
    "\n",
    "files = os.listdir(rf_path) # use os module and listdir to get a list image files in your subdirectory"
   ]
  },
  {
   "cell_type": "markdown",
   "metadata": {},
   "source": [
    "<h2>Option 1: Prepare a list of filepaths to images using a list comprehension</h2>"
   ]
  },
  {
   "cell_type": "code",
   "execution_count": 4,
   "metadata": {},
   "outputs": [
    {
     "data": {
      "text/plain": [
       "['static/images/imread/spss4f.png',\n",
       " 'static/images/imread/spss4e.png',\n",
       " 'static/images/imread/spss4d.png',\n",
       " 'static/images/imread/spss4a.png',\n",
       " 'static/images/imread/spss4c.png',\n",
       " 'static/images/imread/spss4b.png']"
      ]
     },
     "execution_count": 4,
     "metadata": {},
     "output_type": "execute_result"
    }
   ],
   "source": [
    "# this method uses a list comprehension to generate a list of relative filepaths with png only\n",
    "images = [os.path.join(subdir, file) for file in files if file.endswith('png')]\n",
    "images"
   ]
  },
  {
   "cell_type": "markdown",
   "metadata": {},
   "source": [
    "<h2>Option 2: Prepare a list of filepaths to images using a for loop and if statement</h2>"
   ]
  },
  {
   "cell_type": "code",
   "execution_count": 5,
   "metadata": {},
   "outputs": [
    {
     "data": {
      "text/plain": [
       "['static/images/imread/spss4f.png',\n",
       " 'static/images/imread/spss4e.png',\n",
       " 'static/images/imread/spss4d.png',\n",
       " 'static/images/imread/spss4a.png',\n",
       " 'static/images/imread/spss4c.png',\n",
       " 'static/images/imread/spss4b.png']"
      ]
     },
     "execution_count": 5,
     "metadata": {},
     "output_type": "execute_result"
    }
   ],
   "source": [
    "# this method uses a for loop to generate a list of relative filepaths with png only\n",
    "images = []\n",
    "for file in files:\n",
    "    if file.endswith('png'):\n",
    "        fpath = os.path.join(subdir, file)\n",
    "        images.append(fpath)\n",
    "images        "
   ]
  },
  {
   "cell_type": "markdown",
   "metadata": {},
   "source": [
    "<hr style=\"border-top: 5px solid black;\">"
   ]
  },
  {
   "cell_type": "markdown",
   "metadata": {},
   "source": [
    "<div id=\"objective\" class=\"alert alert-block alert-warning\" style=\"font-size:16px; border:1px solid black; padding:10px\"><center><h1><br><font color=\"blue\">Display a grid of images using IPython.display HTML and Image.</font></h1></center><br>\n",
    "</div>\n",
    "<div style=\"font-size:16px; border:1px solid black; padding:10px\">\n",
    "    <ul><strong><u>iPython.display</u></strong>\n",
    "        <li>Contains 23 classes and 16 functions to render objects in iPython and includes images, video, audio, html, and images.</li><br>        \n",
    "        <li>Additional information can be found here: <a href=\"https://ipython.readthedocs.io/en/stable/api/generated/IPython.display.html\">Documentation as of date of this post</a>.</li><br> \n",
    "        <li>The following methods will illustrate how to display multiple images in a cell using IPython HTML and display.</li><br>\n",
    "        <li>This code will utilize HTML and fancier output formatting to use formatted string literals (where you can include your file path variable.</li><br>        \n",
    "        <li>More information on fancier output formatting can be found here: <a href=\"https://docs.python.org/3/tutorial/inputoutput.html\">Documentation</a>.</li><br>        \n",
    "        <li>This method also relies on using html table code, which can be described here: <a href=\"https://www.w3schools.com/html/html_tables.asp\">HTML Table documentation</a>.</li><br> \n",
    "        <li>The only draw back is how chunky the code can get with html table code.</li><br>\n",
    "    </ul>\n",
    "</div>"
   ]
  },
  {
   "cell_type": "markdown",
   "metadata": {},
   "source": [
    "<hr style=\"border-top: 5px solid black;\">"
   ]
  },
  {
   "cell_type": "code",
   "execution_count": 6,
   "metadata": {},
   "outputs": [
    {
     "data": {
      "text/html": [
       "<table><tr><td><img src=static/images/imread/spss4f.png></td><td><img src=static/images/imread/spss4e.png></td></tr><td><img src=static/images/imread/spss4d.png></td><td><img src=static/images/imread/spss4a.png></td></tr></table>"
      ],
      "text/plain": [
       "<IPython.core.display.HTML object>"
      ]
     },
     "metadata": {},
     "output_type": "display_data"
    }
   ],
   "source": [
    "# Display using hTML for four images\n",
    "from IPython.display import HTML, display\n",
    "display(HTML(f\"<table><tr><td><img src={images[0]}></td><td><img src={images[1]}></td></tr><td><img src={images[2]}></td><td><img src={images[3]}></td></tr></table>\"))"
   ]
  },
  {
   "cell_type": "markdown",
   "metadata": {},
   "source": [
    "<hr style=\"border-top: 5px solid black;\">"
   ]
  },
  {
   "cell_type": "markdown",
   "metadata": {},
   "source": [
    "<div id=\"objective\" class=\"alert alert-block alert-warning\" style=\"font-size:16px; border:1px solid black; padding:10px\"><center><h1><br><font color=\"blue\">Display a grid of images using iPyPlot</font></h1></center><br>\n",
    "</div>\n",
    "<div style=\"font-size:16px; border:1px solid black; padding:10px\">\n",
    "    <ul><strong><u>ipyplot</u></strong>\n",
    "        <li>Simple package that leverages IPython and HTML for more efficient, reach and interactive plotting of images in Jupyter Notebooks.</li><br>        \n",
    "        <li>Additional information can be found here: <a href=\"https://pypi.org/project/ipyplot/\">Documentation as of date of this post</a>.</li><br>\n",
    "        <li>You will need to install this package.</li><br>\n",
    "        <li>iPyPlot is a quick and efficient method for plotting images inside a Python Notebook cell and combines HTML and iPython for you. It contains a few image display objects, but in this case, we will only demonstrate how to display a collection of images.</li><br>\n",
    "        <li>Why is this an improvement? It doesn't require you to hard code the html table code or use a for loop, subplots, or any other code to render your grid. The only downfall is that it display the local or remote image file url, but this isn't a big deal.</li>\n",
    "    </ul>\n",
    "     <hr style=\"border-top: 2px dashed black;\">\n",
    "    <ul><strong><u>Process</u></strong>\n",
    "        <li>Import ipyplot.</li><br>        \n",
    "        <li>Prepare a list of labels, and they should be a sequence of strings or int.</li><br> \n",
    "        <li>Prepare a list of images. The list should be a sequence of either strings (local or remote image file URLS), PIL.Image objects or numpy.ndarray objects representing images.</li><br>  \n",
    "        <li>Use this code: <code>ipyplot.plot_images(images, labels, img_width=width)</code>.</li><br>        \n",
    "        <li>the width is an integer.</li><br>\n",
    "    </ul>    \n",
    "</div>"
   ]
  },
  {
   "cell_type": "code",
   "execution_count": 7,
   "metadata": {},
   "outputs": [],
   "source": [
    "import ipyplot"
   ]
  },
  {
   "cell_type": "code",
   "execution_count": 8,
   "metadata": {
    "scrolled": false
   },
   "outputs": [
    {
     "data": {
      "text/html": [
       "\n",
       "    <style>\n",
       "        #ipyplot-html-viewer-toggle-9MAJdkjEDYNBDeNzQRGYPU {\n",
       "            position: absolute;\n",
       "            top: -9999px;\n",
       "            left: -9999px;\n",
       "            visibility: hidden;\n",
       "        }\n",
       "\n",
       "        #ipyplot-html-viewer-label-9MAJdkjEDYNBDeNzQRGYPU { \n",
       "            position: relative;\n",
       "            display: inline-block;\n",
       "            cursor: pointer;\n",
       "            color: blue;\n",
       "            text-decoration: underline;\n",
       "        }\n",
       "\n",
       "        #ipyplot-html-viewer-textarea-9MAJdkjEDYNBDeNzQRGYPU {\n",
       "            background: lightgrey;\n",
       "            width: 100%;\n",
       "            height: 0px;\n",
       "            display: none;\n",
       "        }\n",
       "\n",
       "        #ipyplot-html-viewer-toggle-9MAJdkjEDYNBDeNzQRGYPU:checked ~ #ipyplot-html-viewer-textarea-9MAJdkjEDYNBDeNzQRGYPU {\n",
       "            height: 200px;\n",
       "            display: block;\n",
       "        }\n",
       "\n",
       "        #ipyplot-html-viewer-toggle-9MAJdkjEDYNBDeNzQRGYPU:checked + #ipyplot-html-viewer-label-9MAJdkjEDYNBDeNzQRGYPU:after {\n",
       "            content: \"hide html\";\n",
       "            position: absolute;\n",
       "            top: 0;\n",
       "            left: 0;\n",
       "            right: 0;\n",
       "            bottom: 0;\n",
       "            background: white;\n",
       "            cursor: pointer;\n",
       "            color: blue;\n",
       "            text-decoration: underline;\n",
       "        }\n",
       "    </style>\n",
       "    <div>\n",
       "        <input type=\"checkbox\" id=\"ipyplot-html-viewer-toggle-9MAJdkjEDYNBDeNzQRGYPU\">\n",
       "        <label id=\"ipyplot-html-viewer-label-9MAJdkjEDYNBDeNzQRGYPU\" for=\"ipyplot-html-viewer-toggle-9MAJdkjEDYNBDeNzQRGYPU\">show html</label>\n",
       "        <textarea id=\"ipyplot-html-viewer-textarea-9MAJdkjEDYNBDeNzQRGYPU\" readonly>\n",
       "            \n",
       "        <style>\n",
       "        #ipyplot-imgs-container-div-68AHXwrfvcgk6NUErWH2BY {\n",
       "            width: 100%;\n",
       "            height: 100%;\n",
       "            margin: 0%;\n",
       "            overflow: auto;\n",
       "            position: relative;\n",
       "            overflow-y: scroll;\n",
       "        }\n",
       "\n",
       "        div.ipyplot-placeholder-div-68AHXwrfvcgk6NUErWH2BY {\n",
       "            width: 300px;\n",
       "            display: inline-block;\n",
       "            margin: 3px;\n",
       "            position: relative;\n",
       "        }\n",
       "\n",
       "        div.ipyplot-content-div-68AHXwrfvcgk6NUErWH2BY {\n",
       "            width: 300px;\n",
       "            background: white;\n",
       "            display: inline-block;\n",
       "            vertical-align: top;\n",
       "            text-align: center;\n",
       "            position: relative;\n",
       "            border: 2px solid #ddd;\n",
       "            top: 0;\n",
       "            left: 0;\n",
       "        }\n",
       "\n",
       "        div.ipyplot-content-div-68AHXwrfvcgk6NUErWH2BY span.ipyplot-img-close {\n",
       "            display: none;\n",
       "        }\n",
       "\n",
       "        div.ipyplot-content-div-68AHXwrfvcgk6NUErWH2BY span {\n",
       "            width: 100%;\n",
       "            height: 100%;\n",
       "            position: absolute;\n",
       "            top: 0;\n",
       "            left: 0;\n",
       "        }\n",
       "\n",
       "        div.ipyplot-content-div-68AHXwrfvcgk6NUErWH2BY img {\n",
       "            width: 300px;\n",
       "        }\n",
       "\n",
       "        div.ipyplot-content-div-68AHXwrfvcgk6NUErWH2BY span.ipyplot-img-close:hover {\n",
       "            cursor: zoom-out;\n",
       "        }\n",
       "        div.ipyplot-content-div-68AHXwrfvcgk6NUErWH2BY span.ipyplot-img-expand:hover {\n",
       "            cursor: zoom-in;\n",
       "        }\n",
       "\n",
       "        div[id^=ipyplot-content-div-68AHXwrfvcgk6NUErWH2BY]:target {\n",
       "            transform: scale(2.5);\n",
       "            transform-origin: left top;\n",
       "            z-index: 5000;\n",
       "            top: 0;\n",
       "            left: 0;\n",
       "            position: absolute;\n",
       "        }\n",
       "\n",
       "        div[id^=ipyplot-content-div-68AHXwrfvcgk6NUErWH2BY]:target span.ipyplot-img-close {\n",
       "            display: block;\n",
       "        }\n",
       "\n",
       "        div[id^=ipyplot-content-div-68AHXwrfvcgk6NUErWH2BY]:target span.ipyplot-img-expand {\n",
       "            display: none;\n",
       "        }\n",
       "        </style>\n",
       "    <div id=\"ipyplot-imgs-container-div-68AHXwrfvcgk6NUErWH2BY\">\n",
       "    <div class=\"ipyplot-placeholder-div-68AHXwrfvcgk6NUErWH2BY\">\n",
       "        <div id=\"ipyplot-content-div-68AHXwrfvcgk6NUErWH2BY-T5Um3mLDQG3H9d2x27gPmv\" class=\"ipyplot-content-div-68AHXwrfvcgk6NUErWH2BY\">\n",
       "            <h4 style=\"font-size: 12px; word-wrap: break-word;\">Label 1</h4>\n",
       "            <h4 style=\"font-size: 9px; padding-left: 10px; padding-right: 10px; width: 95%; word-wrap: break-word; white-space: normal;\">static/images/imread/spss4f.png</h4><img src=\"static/images/imread/spss4f.png\"/>\n",
       "            <a href=\"#!\">\n",
       "                <span class=\"ipyplot-img-close\"/>\n",
       "            </a>\n",
       "            <a href=\"#ipyplot-content-div-68AHXwrfvcgk6NUErWH2BY-T5Um3mLDQG3H9d2x27gPmv\">\n",
       "                <span class=\"ipyplot-img-expand\"/>\n",
       "            </a>\n",
       "        </div>\n",
       "    </div>\n",
       "    \n",
       "    <div class=\"ipyplot-placeholder-div-68AHXwrfvcgk6NUErWH2BY\">\n",
       "        <div id=\"ipyplot-content-div-68AHXwrfvcgk6NUErWH2BY-85DaTYuy8vBnLLq3sZb6pY\" class=\"ipyplot-content-div-68AHXwrfvcgk6NUErWH2BY\">\n",
       "            <h4 style=\"font-size: 12px; word-wrap: break-word;\">Label 2</h4>\n",
       "            <h4 style=\"font-size: 9px; padding-left: 10px; padding-right: 10px; width: 95%; word-wrap: break-word; white-space: normal;\">static/images/imread/spss4e.png</h4><img src=\"static/images/imread/spss4e.png\"/>\n",
       "            <a href=\"#!\">\n",
       "                <span class=\"ipyplot-img-close\"/>\n",
       "            </a>\n",
       "            <a href=\"#ipyplot-content-div-68AHXwrfvcgk6NUErWH2BY-85DaTYuy8vBnLLq3sZb6pY\">\n",
       "                <span class=\"ipyplot-img-expand\"/>\n",
       "            </a>\n",
       "        </div>\n",
       "    </div>\n",
       "    \n",
       "    <div class=\"ipyplot-placeholder-div-68AHXwrfvcgk6NUErWH2BY\">\n",
       "        <div id=\"ipyplot-content-div-68AHXwrfvcgk6NUErWH2BY-V9i52fMt9bTWR6kcdf4op4\" class=\"ipyplot-content-div-68AHXwrfvcgk6NUErWH2BY\">\n",
       "            <h4 style=\"font-size: 12px; word-wrap: break-word;\">Label 3</h4>\n",
       "            <h4 style=\"font-size: 9px; padding-left: 10px; padding-right: 10px; width: 95%; word-wrap: break-word; white-space: normal;\">static/images/imread/spss4d.png</h4><img src=\"static/images/imread/spss4d.png\"/>\n",
       "            <a href=\"#!\">\n",
       "                <span class=\"ipyplot-img-close\"/>\n",
       "            </a>\n",
       "            <a href=\"#ipyplot-content-div-68AHXwrfvcgk6NUErWH2BY-V9i52fMt9bTWR6kcdf4op4\">\n",
       "                <span class=\"ipyplot-img-expand\"/>\n",
       "            </a>\n",
       "        </div>\n",
       "    </div>\n",
       "    \n",
       "    <div class=\"ipyplot-placeholder-div-68AHXwrfvcgk6NUErWH2BY\">\n",
       "        <div id=\"ipyplot-content-div-68AHXwrfvcgk6NUErWH2BY-PcFS8TNriDCF7iYPVdXfFd\" class=\"ipyplot-content-div-68AHXwrfvcgk6NUErWH2BY\">\n",
       "            <h4 style=\"font-size: 12px; word-wrap: break-word;\">Label 4</h4>\n",
       "            <h4 style=\"font-size: 9px; padding-left: 10px; padding-right: 10px; width: 95%; word-wrap: break-word; white-space: normal;\">static/images/imread/spss4a.png</h4><img src=\"static/images/imread/spss4a.png\"/>\n",
       "            <a href=\"#!\">\n",
       "                <span class=\"ipyplot-img-close\"/>\n",
       "            </a>\n",
       "            <a href=\"#ipyplot-content-div-68AHXwrfvcgk6NUErWH2BY-PcFS8TNriDCF7iYPVdXfFd\">\n",
       "                <span class=\"ipyplot-img-expand\"/>\n",
       "            </a>\n",
       "        </div>\n",
       "    </div>\n",
       "    \n",
       "    <div class=\"ipyplot-placeholder-div-68AHXwrfvcgk6NUErWH2BY\">\n",
       "        <div id=\"ipyplot-content-div-68AHXwrfvcgk6NUErWH2BY-JUt4pAoQETncLMTjfXzE5J\" class=\"ipyplot-content-div-68AHXwrfvcgk6NUErWH2BY\">\n",
       "            <h4 style=\"font-size: 12px; word-wrap: break-word;\">Label 5</h4>\n",
       "            <h4 style=\"font-size: 9px; padding-left: 10px; padding-right: 10px; width: 95%; word-wrap: break-word; white-space: normal;\">static/images/imread/spss4c.png</h4><img src=\"static/images/imread/spss4c.png\"/>\n",
       "            <a href=\"#!\">\n",
       "                <span class=\"ipyplot-img-close\"/>\n",
       "            </a>\n",
       "            <a href=\"#ipyplot-content-div-68AHXwrfvcgk6NUErWH2BY-JUt4pAoQETncLMTjfXzE5J\">\n",
       "                <span class=\"ipyplot-img-expand\"/>\n",
       "            </a>\n",
       "        </div>\n",
       "    </div>\n",
       "    \n",
       "    <div class=\"ipyplot-placeholder-div-68AHXwrfvcgk6NUErWH2BY\">\n",
       "        <div id=\"ipyplot-content-div-68AHXwrfvcgk6NUErWH2BY-aYH8pPZQaDgEcoVC6djmoC\" class=\"ipyplot-content-div-68AHXwrfvcgk6NUErWH2BY\">\n",
       "            <h4 style=\"font-size: 12px; word-wrap: break-word;\">Label 6</h4>\n",
       "            <h4 style=\"font-size: 9px; padding-left: 10px; padding-right: 10px; width: 95%; word-wrap: break-word; white-space: normal;\">static/images/imread/spss4b.png</h4><img src=\"static/images/imread/spss4b.png\"/>\n",
       "            <a href=\"#!\">\n",
       "                <span class=\"ipyplot-img-close\"/>\n",
       "            </a>\n",
       "            <a href=\"#ipyplot-content-div-68AHXwrfvcgk6NUErWH2BY-aYH8pPZQaDgEcoVC6djmoC\">\n",
       "                <span class=\"ipyplot-img-expand\"/>\n",
       "            </a>\n",
       "        </div>\n",
       "    </div>\n",
       "    </div>\n",
       "        </textarea>\n",
       "    </div>\n",
       "    "
      ],
      "text/plain": [
       "<IPython.core.display.HTML object>"
      ]
     },
     "metadata": {},
     "output_type": "display_data"
    },
    {
     "data": {
      "text/html": [
       "\n",
       "        <style>\n",
       "        #ipyplot-imgs-container-div-68AHXwrfvcgk6NUErWH2BY {\n",
       "            width: 100%;\n",
       "            height: 100%;\n",
       "            margin: 0%;\n",
       "            overflow: auto;\n",
       "            position: relative;\n",
       "            overflow-y: scroll;\n",
       "        }\n",
       "\n",
       "        div.ipyplot-placeholder-div-68AHXwrfvcgk6NUErWH2BY {\n",
       "            width: 300px;\n",
       "            display: inline-block;\n",
       "            margin: 3px;\n",
       "            position: relative;\n",
       "        }\n",
       "\n",
       "        div.ipyplot-content-div-68AHXwrfvcgk6NUErWH2BY {\n",
       "            width: 300px;\n",
       "            background: white;\n",
       "            display: inline-block;\n",
       "            vertical-align: top;\n",
       "            text-align: center;\n",
       "            position: relative;\n",
       "            border: 2px solid #ddd;\n",
       "            top: 0;\n",
       "            left: 0;\n",
       "        }\n",
       "\n",
       "        div.ipyplot-content-div-68AHXwrfvcgk6NUErWH2BY span.ipyplot-img-close {\n",
       "            display: none;\n",
       "        }\n",
       "\n",
       "        div.ipyplot-content-div-68AHXwrfvcgk6NUErWH2BY span {\n",
       "            width: 100%;\n",
       "            height: 100%;\n",
       "            position: absolute;\n",
       "            top: 0;\n",
       "            left: 0;\n",
       "        }\n",
       "\n",
       "        div.ipyplot-content-div-68AHXwrfvcgk6NUErWH2BY img {\n",
       "            width: 300px;\n",
       "        }\n",
       "\n",
       "        div.ipyplot-content-div-68AHXwrfvcgk6NUErWH2BY span.ipyplot-img-close:hover {\n",
       "            cursor: zoom-out;\n",
       "        }\n",
       "        div.ipyplot-content-div-68AHXwrfvcgk6NUErWH2BY span.ipyplot-img-expand:hover {\n",
       "            cursor: zoom-in;\n",
       "        }\n",
       "\n",
       "        div[id^=ipyplot-content-div-68AHXwrfvcgk6NUErWH2BY]:target {\n",
       "            transform: scale(2.5);\n",
       "            transform-origin: left top;\n",
       "            z-index: 5000;\n",
       "            top: 0;\n",
       "            left: 0;\n",
       "            position: absolute;\n",
       "        }\n",
       "\n",
       "        div[id^=ipyplot-content-div-68AHXwrfvcgk6NUErWH2BY]:target span.ipyplot-img-close {\n",
       "            display: block;\n",
       "        }\n",
       "\n",
       "        div[id^=ipyplot-content-div-68AHXwrfvcgk6NUErWH2BY]:target span.ipyplot-img-expand {\n",
       "            display: none;\n",
       "        }\n",
       "        </style>\n",
       "    <div id=\"ipyplot-imgs-container-div-68AHXwrfvcgk6NUErWH2BY\">\n",
       "    <div class=\"ipyplot-placeholder-div-68AHXwrfvcgk6NUErWH2BY\">\n",
       "        <div id=\"ipyplot-content-div-68AHXwrfvcgk6NUErWH2BY-T5Um3mLDQG3H9d2x27gPmv\" class=\"ipyplot-content-div-68AHXwrfvcgk6NUErWH2BY\">\n",
       "            <h4 style=\"font-size: 12px; word-wrap: break-word;\">Label 1</h4>\n",
       "            <h4 style=\"font-size: 9px; padding-left: 10px; padding-right: 10px; width: 95%; word-wrap: break-word; white-space: normal;\">static/images/imread/spss4f.png</h4><img src=\"static/images/imread/spss4f.png\"/>\n",
       "            <a href=\"#!\">\n",
       "                <span class=\"ipyplot-img-close\"/>\n",
       "            </a>\n",
       "            <a href=\"#ipyplot-content-div-68AHXwrfvcgk6NUErWH2BY-T5Um3mLDQG3H9d2x27gPmv\">\n",
       "                <span class=\"ipyplot-img-expand\"/>\n",
       "            </a>\n",
       "        </div>\n",
       "    </div>\n",
       "    \n",
       "    <div class=\"ipyplot-placeholder-div-68AHXwrfvcgk6NUErWH2BY\">\n",
       "        <div id=\"ipyplot-content-div-68AHXwrfvcgk6NUErWH2BY-85DaTYuy8vBnLLq3sZb6pY\" class=\"ipyplot-content-div-68AHXwrfvcgk6NUErWH2BY\">\n",
       "            <h4 style=\"font-size: 12px; word-wrap: break-word;\">Label 2</h4>\n",
       "            <h4 style=\"font-size: 9px; padding-left: 10px; padding-right: 10px; width: 95%; word-wrap: break-word; white-space: normal;\">static/images/imread/spss4e.png</h4><img src=\"static/images/imread/spss4e.png\"/>\n",
       "            <a href=\"#!\">\n",
       "                <span class=\"ipyplot-img-close\"/>\n",
       "            </a>\n",
       "            <a href=\"#ipyplot-content-div-68AHXwrfvcgk6NUErWH2BY-85DaTYuy8vBnLLq3sZb6pY\">\n",
       "                <span class=\"ipyplot-img-expand\"/>\n",
       "            </a>\n",
       "        </div>\n",
       "    </div>\n",
       "    \n",
       "    <div class=\"ipyplot-placeholder-div-68AHXwrfvcgk6NUErWH2BY\">\n",
       "        <div id=\"ipyplot-content-div-68AHXwrfvcgk6NUErWH2BY-V9i52fMt9bTWR6kcdf4op4\" class=\"ipyplot-content-div-68AHXwrfvcgk6NUErWH2BY\">\n",
       "            <h4 style=\"font-size: 12px; word-wrap: break-word;\">Label 3</h4>\n",
       "            <h4 style=\"font-size: 9px; padding-left: 10px; padding-right: 10px; width: 95%; word-wrap: break-word; white-space: normal;\">static/images/imread/spss4d.png</h4><img src=\"static/images/imread/spss4d.png\"/>\n",
       "            <a href=\"#!\">\n",
       "                <span class=\"ipyplot-img-close\"/>\n",
       "            </a>\n",
       "            <a href=\"#ipyplot-content-div-68AHXwrfvcgk6NUErWH2BY-V9i52fMt9bTWR6kcdf4op4\">\n",
       "                <span class=\"ipyplot-img-expand\"/>\n",
       "            </a>\n",
       "        </div>\n",
       "    </div>\n",
       "    \n",
       "    <div class=\"ipyplot-placeholder-div-68AHXwrfvcgk6NUErWH2BY\">\n",
       "        <div id=\"ipyplot-content-div-68AHXwrfvcgk6NUErWH2BY-PcFS8TNriDCF7iYPVdXfFd\" class=\"ipyplot-content-div-68AHXwrfvcgk6NUErWH2BY\">\n",
       "            <h4 style=\"font-size: 12px; word-wrap: break-word;\">Label 4</h4>\n",
       "            <h4 style=\"font-size: 9px; padding-left: 10px; padding-right: 10px; width: 95%; word-wrap: break-word; white-space: normal;\">static/images/imread/spss4a.png</h4><img src=\"static/images/imread/spss4a.png\"/>\n",
       "            <a href=\"#!\">\n",
       "                <span class=\"ipyplot-img-close\"/>\n",
       "            </a>\n",
       "            <a href=\"#ipyplot-content-div-68AHXwrfvcgk6NUErWH2BY-PcFS8TNriDCF7iYPVdXfFd\">\n",
       "                <span class=\"ipyplot-img-expand\"/>\n",
       "            </a>\n",
       "        </div>\n",
       "    </div>\n",
       "    \n",
       "    <div class=\"ipyplot-placeholder-div-68AHXwrfvcgk6NUErWH2BY\">\n",
       "        <div id=\"ipyplot-content-div-68AHXwrfvcgk6NUErWH2BY-JUt4pAoQETncLMTjfXzE5J\" class=\"ipyplot-content-div-68AHXwrfvcgk6NUErWH2BY\">\n",
       "            <h4 style=\"font-size: 12px; word-wrap: break-word;\">Label 5</h4>\n",
       "            <h4 style=\"font-size: 9px; padding-left: 10px; padding-right: 10px; width: 95%; word-wrap: break-word; white-space: normal;\">static/images/imread/spss4c.png</h4><img src=\"static/images/imread/spss4c.png\"/>\n",
       "            <a href=\"#!\">\n",
       "                <span class=\"ipyplot-img-close\"/>\n",
       "            </a>\n",
       "            <a href=\"#ipyplot-content-div-68AHXwrfvcgk6NUErWH2BY-JUt4pAoQETncLMTjfXzE5J\">\n",
       "                <span class=\"ipyplot-img-expand\"/>\n",
       "            </a>\n",
       "        </div>\n",
       "    </div>\n",
       "    \n",
       "    <div class=\"ipyplot-placeholder-div-68AHXwrfvcgk6NUErWH2BY\">\n",
       "        <div id=\"ipyplot-content-div-68AHXwrfvcgk6NUErWH2BY-aYH8pPZQaDgEcoVC6djmoC\" class=\"ipyplot-content-div-68AHXwrfvcgk6NUErWH2BY\">\n",
       "            <h4 style=\"font-size: 12px; word-wrap: break-word;\">Label 6</h4>\n",
       "            <h4 style=\"font-size: 9px; padding-left: 10px; padding-right: 10px; width: 95%; word-wrap: break-word; white-space: normal;\">static/images/imread/spss4b.png</h4><img src=\"static/images/imread/spss4b.png\"/>\n",
       "            <a href=\"#!\">\n",
       "                <span class=\"ipyplot-img-close\"/>\n",
       "            </a>\n",
       "            <a href=\"#ipyplot-content-div-68AHXwrfvcgk6NUErWH2BY-aYH8pPZQaDgEcoVC6djmoC\">\n",
       "                <span class=\"ipyplot-img-expand\"/>\n",
       "            </a>\n",
       "        </div>\n",
       "    </div>\n",
       "    </div>"
      ],
      "text/plain": [
       "<IPython.core.display.HTML object>"
      ]
     },
     "metadata": {},
     "output_type": "display_data"
    }
   ],
   "source": [
    "labels = [\"Label 1\", \"Label 2\", \"Label 3\", \"Label 4\", \"Label 5\", \"Label 6\"]\n",
    "ipyplot.plot_images(images, labels, img_width=300)"
   ]
  },
  {
   "cell_type": "markdown",
   "metadata": {},
   "source": [
    "<hr style=\"border-top: 5px solid black;\">"
   ]
  },
  {
   "cell_type": "markdown",
   "metadata": {},
   "source": [
    "<div id=\"objective\" class=\"alert alert-block alert-warning\" style=\"font-size:16px; border:1px solid black; padding:10px\"><center><h1><br><font color=\"blue\">Display a grid of images using matplotlib</font></h1></center><br>\n",
    "</div>\n",
    "<div style=\"font-size:16px; border:1px solid black; padding:10px\">\n",
    "    <ul><strong><u>matplotlib</u></strong>\n",
    "        <li>Matplotlib is a comprehensive library for creating static, animated, and interactive visualizations using Python.</li><br>        \n",
    "        <li>Additional information can be found here: <a href=\"https://matplotlib.org/\">Documentation as of date of this post</a>.</li><br>\n",
    "        <li>You will need to install this package.</li><br>\n",
    "        <li>This method provides greater control over image display, labeling, and formatting.</li><br>\n",
    "        <li>Greater control means more coding, and the following steps will show you how to displays a 3x2 grid of images horizontally or vertically</li>\n",
    "    </ul>\n",
    "     <hr style=\"border-top: 2px dashed black;\">\n",
    "    <ul><strong><u>Process</u></strong>\n",
    "        <li>Import modules.</li><br>\n",
    "        <li><code><a href=\"https://docs.python.org/3/library/urllib.html\">urllib</a></code> is a pacakge that collects several modules for working with urls.</li><br>\n",
    "        <li><code><a href=\"https://matplotlib.org/stable/api/_as_gen/matplotlib.pyplot.imshow.html\">matplotlib imshow</a></code> displays data as an image on a 2d regular raster.</li><br> \n",
    "        <li><code><a href=\"https://matplotlib.org/stable/api/_as_gen/matplotlib.pyplot.imread.html?highlight=imread#matplotlib.pyplot.imread\">matplotlib imread</a></code> reads an image from a file into an array.</li><br>\n",
    "        <li><code>_, axarr = plt.subplots(3, 2, figsize=(10,10))</code>: sets up your subplot and figure size</li><br> \n",
    "        <li><code>curr_col = 0</code>: sets up a column counter</li><br>\n",
    "        <li><code>for index in range(len(images)):</code> for loop that will plot the number of images that will be plotted.</li><br> \n",
    "        <li><code>image_path = plt.imread(images[index])</code> Will fetch the image url at the index and use matplotlib read() to save the image data as an array.</li><br>\n",
    "        <li><code>row = index % 3</code>: This code uses a modulus to track the position of the row. When the row is 3, it will reset to 0.</li><br>\n",
    "        <li><code>axarr[row,curr_col].imshow(image_path)</code>: code uses matplotlib imshow() to display the image at the subplot position [row, curr_col].</li><br>\n",
    "        <li><code>if row == 2:</code>: when row is 2, the curr_col will increase by one.  Row starts at 0, and increments at each for loop. It is reset when the for loop hits 3.  We are using this method because we will plot 3 rows and 2 columns. This is a vertical long layout. Images are plotted in column 1 and go down to row 3 (or 2 since we are counting from 0, 1, 2). Once we add the image in row 3 (identified as 2), then the current column will increment by 1, and we will then add the next image in column 2, row 1.</li><br>\n",
    "        <li><code>curr_col += 1</code>: this is the code that will increment the curr column.</li><br>\n",
    "        <li>The last two lines of code are used to place the images closer and <code><a href=\"https://matplotlib.org/stable/api/_as_gen/matplotlib.pyplot.show.html?highlight=show#matplotlib.pyplot.show\">plt.show()</a></code> displays all open figures.</li>\n",
    "    </ul>    \n",
    "</div>"
   ]
  },
  {
   "cell_type": "code",
   "execution_count": 9,
   "metadata": {},
   "outputs": [],
   "source": [
    "import urllib\n",
    "# to load images using matplotlib\n",
    "from matplotlib.pyplot import imshow\n",
    "from matplotlib.image import imread\n",
    "import matplotlib.pyplot as plt"
   ]
  },
  {
   "cell_type": "code",
   "execution_count": 10,
   "metadata": {},
   "outputs": [
    {
     "data": {
      "image/png": "[encoded data removed]",
      "text/plain": [
       "<Figure size 720x720 with 6 Axes>"
      ]
     },
     "metadata": {
      "needs_background": "light"
     },
     "output_type": "display_data"
    }
   ],
   "source": [
    "# Vertical 3 x 2\n",
    "_, axarr = plt.subplots(3, 2, figsize=(10,10)) #two rows and #3 columns\n",
    "curr_col = 0\n",
    "for index in range(len(images)):\n",
    "     # fetch the url as a file type object, then read the image\n",
    "        image_path = plt.imread(images[index])\n",
    "        \n",
    "        # find the row by taking the current index modulo 2\n",
    "        row = index % 3\n",
    "        \n",
    "        # plot on relevant subplot\n",
    "        axarr[row,curr_col].imshow(image_path)\n",
    "        if row == 2:\n",
    "            # increment row\n",
    "            curr_col += 1\n",
    "\n",
    "plt.tight_layout()          \n",
    "plt.show()            "
   ]
  },
  {
   "cell_type": "code",
   "execution_count": null,
   "metadata": {},
   "outputs": [],
   "source": [
    "# horizontal 2 x 3 grid\n",
    "# This method uses the same principle as above, but we are useing three columns and two rows\n",
    "# the code is adjusted to increment the row and plot images from left to right.\n",
    "_, axarr = plt.subplots(2, 3, figsize=(25,10)) #two rows and #3 columns\n",
    "curr_row = 0\n",
    "for index in range(len(images)):\n",
    "     # fetch the url as a file type object, then read the image\n",
    "        image_path = plt.imread(images[index])\n",
    "        \n",
    "        # find the row by taking the current index modulo 2\n",
    "        col = index % 3\n",
    "        \n",
    "        # plot on relevant subplot\n",
    "        axarr[curr_row,col].imshow(image_path)\n",
    "        if col == 2:\n",
    "            # increment row\n",
    "            curr_row += 1\n",
    "\n",
    "plt.tight_layout()          \n",
    "plt.show()"
   ]
  }
 ],
 "metadata": {
  "kernelspec": {
   "display_name": "Python 3",
   "language": "python",
   "name": "python3"
  },
  "language_info": {
   "codemirror_mode": {
    "name": "ipython",
    "version": 3
   },
   "file_extension": ".py",
   "mimetype": "text/x-python",
   "name": "python",
   "nbconvert_exporter": "python",
   "pygments_lexer": "ipython3",
   "version": "3.8.2"
  }
 },
 "nbformat": 4,
 "nbformat_minor": 4
}

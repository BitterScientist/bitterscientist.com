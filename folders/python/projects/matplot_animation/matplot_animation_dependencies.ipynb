{
 "cells": [
  {
   "cell_type": "markdown",
   "metadata": {},
   "source": [
    "# Import Dependencies"
   ]
  },
  {
   "cell_type": "code",
   "execution_count": 1,
   "metadata": {},
   "outputs": [],
   "source": [
    "import numpy as np\n",
    "import matplotlib.pyplot as plt\n",
    "import matplotlib.animation as animation"
   ]
  },
  {
   "cell_type": "markdown",
   "metadata": {},
   "source": [
    "## <code>import numpy as np</code>\n",
    " - <strong>What it does:</strong> It’s the universal standard for working with numerical data in Python, and it’s at the core of the scientific Python and PyData ecosystems.\n",
    " - <strong>Documentation:</strong> https://numpy.org/doc/stable/"
   ]
  },
  {
   "cell_type": "markdown",
   "metadata": {},
   "source": [
    "## <code>import matplotlib.pyplot as plt</code>\n",
    " - <strong>What it does:</strong> Matplotlib is a comprehensive library for creating static, animated, and interactive visualizations in Python.\n",
    " - <strong>Documentation:</strong> https://matplotlib.org/"
   ]
  },
  {
   "cell_type": "markdown",
   "metadata": {},
   "source": [
    "## <code>import matplotlib.animation as animation</code>\n",
    " - <strong>What it does:</strong> Make a live animation in matplotlib.\n",
    " - <strong>Documentation:</strong> https://matplotlib.org/api/animation_api.html?highlight=animation#module-matplotlib.animation"
   ]
  }
 ],
 "metadata": {
  "kernelspec": {
   "display_name": "Python 3",
   "language": "python",
   "name": "python3"
  },
  "language_info": {
   "codemirror_mode": {
    "name": "ipython",
    "version": 3
   },
   "file_extension": ".py",
   "mimetype": "text/x-python",
   "name": "python",
   "nbconvert_exporter": "python",
   "pygments_lexer": "ipython3",
   "version": "3.8.5"
  }
 },
 "nbformat": 4,
 "nbformat_minor": 4
}

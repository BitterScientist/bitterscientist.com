{
 "cells": [
  {
   "cell_type": "markdown",
   "metadata": {},
   "source": [
    "# Plotting Functions"
   ]
  },
  {
   "cell_type": "code",
   "execution_count": 1,
   "metadata": {},
   "outputs": [],
   "source": [
    "def f1(x):\n",
    "    return x**2\n",
    "\n",
    "def deriv(f,x):\n",
    "    h = 0.000000001                 #step-size \n",
    "    return (f(x+h) - f(x))/h        #definition of derivative\n",
    "\n",
    "def tangent_line(f,x_0, a, b):\n",
    "    x = np.linspace(a,b,n)    \n",
    "    y = f(x)\n",
    "    y_0 = f(x_0)\n",
    "    y_tan = deriv(f,x_0) * (x - x_0) + y_0 \n",
    "    return x, y_tan"
   ]
  },
  {
   "cell_type": "markdown",
   "metadata": {},
   "source": [
    "## Function 1: Square value\n",
    "<code>def f1(x):\n",
    "    return x**2</code>\n",
    "\n",
    " - <strong>What it does:</strong> Returns the square of the parameter x"
   ]
  },
  {
   "cell_type": "markdown",
   "metadata": {},
   "source": [
    "## Function 2: Calculate Derivative\n",
    "\n",
    "<code>def deriv(f,x):\n",
    "    h = 0.000000001\n",
    "    return (f(x+h) - f(x))/h</code>\n",
    "  \n",
    " - <strong>Paramters:</strong> <code>f1</code> is a function, and <code>x</code> is some number.\n",
    " - <strong>What it does:</strong> Calculates the derivative of some function at a value x."
   ]
  },
  {
   "cell_type": "markdown",
   "metadata": {},
   "source": [
    "## Function 3: Calculate the Tangent Line\n",
    "\n",
    "<code>def tangent_line(f,x_0, a, b):\n",
    "    x = np.linspace(a,b,n)    \n",
    "    y = f(x)\n",
    "    y_0 = f(x_0)\n",
    "    y_tan = deriv(f,x_0) * (x - x_0) + y_0 \n",
    "    return x, y_tan</code>\n",
    "  \n",
    " - <strong>Paramters:</strong>\n",
    "  - <code>f1</code> is a function\n",
    "  - <code>x_0</code> is some number along the x axis.\n",
    "  - <code>a, b</code> the start value that will be input into <code>numpy.linespace()</code>, which returns an evenly spaced numbers between an interval. <code>a</code> is the start and <code>b</code> is the end of that interval \n",
    "   - Documentation for linespace: https://numpy.org/doc/stable/reference/generated/numpy.linspace.html\n",
    " - <strong>What it does:</strong>\n",
    "  - <strong><code>x = np.linspace(a,b,n)</code>:</strong> creates an array with n number of evently spaced values between a and b.\n",
    "   - <strong><code>y = f(x)</code>:</strong> creates an array with the derivatives of each value in <code>x</code>\n",
    "   - <strong><code>y_0 = f(x_0)</code>:</strong> returns the derivative of the new x value that will form the tangent line\n",
    "   - <strong><code>y_tan = deriv(f,x_0) * (x - x_0) + y_0</code>:</strong> returns an array of y tangent values\n",
    "   - <strong><code>return x, y_tan</code>:</strong> returns the x and y_tan value at end of function."
   ]
  }
 ],
 "metadata": {
  "kernelspec": {
   "display_name": "Python 3",
   "language": "python",
   "name": "python3"
  },
  "language_info": {
   "codemirror_mode": {
    "name": "ipython",
    "version": 3
   },
   "file_extension": ".py",
   "mimetype": "text/x-python",
   "name": "python",
   "nbconvert_exporter": "python",
   "pygments_lexer": "ipython3",
   "version": "3.8.5"
  }
 },
 "nbformat": 4,
 "nbformat_minor": 4
}

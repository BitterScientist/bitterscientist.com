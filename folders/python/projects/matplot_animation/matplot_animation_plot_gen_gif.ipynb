{
 "cells": [
  {
   "cell_type": "markdown",
   "metadata": {},
   "source": [
    "# Plot and Generate GIF"
   ]
  },
  {
   "cell_type": "code",
   "execution_count": null,
   "metadata": {},
   "outputs": [],
   "source": [
    "fig, ax = plt.subplots()\n",
    "ax.set_title('Tangent Lines for f(x) = x**2\\n at Select Points', size=16)\n",
    "ax.set_ylabel('x**2',size=12)\n",
    "ax.set_xlabel('x', size=12)\n",
    "f = list(range(-4, 4))\n",
    "ax.plot(np.linspace(-4, 4, 100), np.linspace(-4, 4, 100)**2, lw=4)\n",
    "\n",
    "xdata, ydata = [], []\n",
    "ln, = plt.plot([], [], 'r', animated=True)\n",
    "annotation = ax.text(-0.5, 4, '')\n",
    "\n",
    "\n",
    "def init():\n",
    "    ax.set_xlim(-4, 4)\n",
    "    ax.set_ylim(-5, 20)\n",
    "    ln.set_data(xdata,ydata)\n",
    "    annotation.set_text('')\n",
    "    return ln, annotation\n",
    "\n",
    "def animate(i):\n",
    "    x, y_tan = tangent_line(f1,i,-4,4)\n",
    "    ln.set_data(x, y_tan)\n",
    "    annotation.set_text('y = %.1f' % (-1*y_tan[i]))\n",
    "    return ln, annotation\n",
    "\n",
    "anim = animation.FuncAnimation(fig, animate, init_func=init, frames=f, interval=0, blit=True)\n",
    "\n",
    "anim.save('parabola_der_animation.gif', writer='imagemagick', fps = 0)"
   ]
  },
  {
   "cell_type": "markdown",
   "metadata": {},
   "source": [
    "### Set-up Figure\n",
    "\n",
    "### <strong><code>fig, ax = plt.subplots()</code></strong>\n",
    " - <strong>What it does:</strong> Create a figure and a set of subplots.\n",
    " - Document: https://matplotlib.org/3.3.0/api/_as_gen/matplotlib.pyplot.subplots.html"
   ]
  },
  {
   "cell_type": "markdown",
   "metadata": {},
   "source": [
    "### Label Figure\n",
    "<strong><code>ax.set_title('Tangent Lines for f(x) = x**2\\n at Select Points', size=16)\n",
    "ax.set_ylabel('x**2',size=12)\n",
    "ax.set_xlabel('x', size=12)</code></strong>\n",
    " - <strong>What it does:</strong> Sets figure and axis labels\n",
    " - Document: https://matplotlib.org/3.3.0/api/_as_gen/matplotlib.axes.Axes.set_title.html?highlight=set_title#matplotlib.axes.Axes.set_title"
   ]
  },
  {
   "cell_type": "markdown",
   "metadata": {},
   "source": [
    "### Set-up Data to Plot\n",
    "\n",
    "<strong><code>f = list(range(-4, 4))</code></strong>\n",
    " - <strong>What it does:</strong>\n",
    "  - Creates a list of numbers between -4 and 4\n",
    "  - This will be used for the <code>x_0</code> in the tangent line function\n",
    "  - The lenght of values is also the number of tangent lines that will be rendered.\n",
    " \n",
    "<strong><code>ax.plot(np.linspace(-4, 4, 100), np.linspace(-4, 4, 100)**2, lw=4)</code></strong>\n",
    " - <strong>What it does:</strong> Create the parabola line that is blotted in blue. The tangent lines will be drawn against this curve.\n",
    " - <code>np.linspace(-4, 4, 100)</code>: data for x values: this will create an array of values between -4 and 4 with 100 evently spaced numbers in between.\n",
    " - <code>np.linspace(-4, 4, 100)**2</code>: data for y values: this will create an array of values between -4 and 4 with 100 evently spaced numbers in between, and each value will be the square.\n",
    " - <code>lw=4</code>: How thick the line will be for the parabola.\n",
    " \n",
    "<strong><code>xdata, ydata = [], []\n",
    "ln, = plt.plot([], [], 'r', animated=True)\n",
    "annotation = ax.text(-0.5, 4, '')</code></strong>\n",
    "\n",
    " - <code>xdata, ydata = [], []</code><br>\n",
    "  - <strong>What it does:</strong> Create an numpy arrays which will contain the frames at which we will draw our animation.<br><br>\n",
    " - <code>ln, = plt.plot([], [], 'r', animated=True)</code><br>\n",
    "  - <strong>What it does:</strong> Create a line that is red that will be animated\n",
    "<br><br>\n",
    " - <code>annotation = ax.text(-0.5, 4, '')</code><br>\n",
    "  - <strong>What it does:</strong> Creates the text box that will be positioned at -0.5, 4, and is empty"
   ]
  },
  {
   "cell_type": "markdown",
   "metadata": {},
   "source": [
    "### Function to Initialize the plots\n",
    "\n",
    "<strong><code>def init():\n",
    "    ax.set_xlim(-4, 4)\n",
    "    ax.set_ylim(-5, 20)\n",
    "    ln.set_data(xdata,ydata)\n",
    "    annotation.set_text('')\n",
    "    return ln, annotation</code></strong>\n",
    "\n",
    " - <code>ax.set_xlim(-4, 4)\n",
    "    ax.set_ylim(-5, 20)</code>\n",
    "  - <strong>What it does:</strong> it sets the plot dimensions according to the x and y limits\n",
    " - <code>ln.set_data(xdata,ydata)</code>\n",
    "  - <strong>What it does:</strong> creates an empty line using xdata and ydata parameters that were instantiated during the set-up stage\n",
    " - <code>annotation.set_text('')</code>\n",
    "  - <strong>What it does:</strong> sets up the empty string of text that will be updated with information as the plot is animated.\n",
    " - <code>return ln, annotation</code>\n",
    "  - <strong>What it does:</strong> Returns the initialized line and annotation objects"
   ]
  },
  {
   "cell_type": "markdown",
   "metadata": {},
   "source": [
    "### Function to animate (update) the plots\n",
    "\n",
    "<strong><code>def animate(i):\n",
    "    x, y_tan = tangent_line(f1,i,-4,4)\n",
    "    ln.set_data(x, y_tan)\n",
    "    annotation.set_text('y = %.1f' % (-1*y_tan[i]))\n",
    "    return ln, annotation</code></strong>\n",
    "\n",
    " - <code>x, y_tan = tangent_line(f1,i,-4,4)</code>\n",
    "  - <strong>What it does:</strong> it calls on the <code>tangent_line()</code> function and returns the x and y_tan value.\n",
    " - <code>ln.set_data(x, y_tan)</code>\n",
    "  - <strong>What it does:</strong> sets the x and y_tan value as the parameters for the line that will be plotted.\n",
    " - <code>annotation.set_text('y = %.1f' % (-1*y_tan[i]))</code>\n",
    "  - <strong>What it does:</strong> it gets the information from the tangent y value and then adds that as a string to the text that will be plotted and updated with each new y_tan value..\n",
    " - <code>return ln, annotation</code>\n",
    "  - <strong>What it does:</strong> Returns the updated line and annotation objects"
   ]
  },
  {
   "cell_type": "markdown",
   "metadata": {},
   "source": [
    "### Call FuncAnimation and show\n",
    "\n",
    "<strong><code>anim = animation.FuncAnimation(fig, animate, init_func=init, frames=f, interval=0, blit=True)</code></strong>\n",
    " - <strong>What it does:</strong> Makes an animation by repeatedly calling a function func.\n",
    " - Documentation: https://matplotlib.org/3.3.0/api/_as_gen/matplotlib.animation.FuncAnimation.html\n",
    " - <strong>Parameters:</strong>\n",
    "  - <code>fig:</code> The figure object used to get needed events, such as draw or resize.\n",
    "  - <code>animate:</code> The function to call at each frame (the update or animate function we created). \n",
    "  - <code>init_func:</code> A function used to draw a clear frame. We created this, but its optional.\n",
    "  - <code>frames:</code> Source of data to pass func and each frame of the animation.  In this function, only 9 frames from <strong><code>f = list(range(-4, 4))</code></strong>.\n",
    "  - <code>interval:</code> Delay between frames in milliseconds.\n",
    "  - <code>blit:</code> Whether blitting is used to optimize drawing.  "
   ]
  },
  {
   "cell_type": "markdown",
   "metadata": {},
   "source": [
    "### Save as Gif\n",
    "\n",
    "<strong><code>anim.save('parabola_der_animation.gif', writer='imagemagick', fps = 10)</code></strong>\n",
    " - <strong>What it does:</strong> method used to save animation.\n",
    " - Documentation: https://matplotlib.org/3.3.0/api/_as_gen/matplotlib.animation.Animation.html?highlight=animation%20save#matplotlib.animation.Animation.save\n",
    " - <strong>Parameters:</strong>\n",
    "  - <code>'parabola_der_animation.gif'</code> file name with extenstion\n",
    "  - <code>writer='imagemagick</code> specifies how it will be saved. For GIFs, will need to install imagemagic\n",
    "   - Documentation: https://docs.wand-py.org/en/0.3.5/guide/install.html\n",
    "  - <code>fps = 0</code> Movie frame rate (per second). If not set, the frame rate from the animation's frame interval. Optional Field. Here 0 because not a movie, but a gif that will be saved."
   ]
  }
 ],
 "metadata": {
  "kernelspec": {
   "display_name": "Python 3",
   "language": "python",
   "name": "python3"
  },
  "language_info": {
   "codemirror_mode": {
    "name": "ipython",
    "version": 3
   },
   "file_extension": ".py",
   "mimetype": "text/x-python",
   "name": "python",
   "nbconvert_exporter": "python",
   "pygments_lexer": "ipython3",
   "version": "3.8.5"
  }
 },
 "nbformat": 4,
 "nbformat_minor": 4
}

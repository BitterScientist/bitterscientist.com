{
 "cells": [
  {
   "cell_type": "markdown",
   "metadata": {},
   "source": [
    "# Function to traverse folders, and Merge PDFs"
   ]
  },
  {
   "cell_type": "code",
   "execution_count": 1,
   "metadata": {},
   "outputs": [],
   "source": [
    "def traverse_folders(directory, folders, file_regex, output_file):\n",
    "    os.chdir(directory)\n",
    "    for folder_ in folders:\n",
    "        os.chdir(f'{directory}/{folder_}')\n",
    "        paths = glob.glob(file_regex)\n",
    "        paths.sort()\n",
    "        print(os.path.basename(os.getcwd()))\n",
    "        merger_pdf(output_file, paths)\n",
    "        os.chdir(directory)"
   ]
  },
  {
   "cell_type": "markdown",
   "metadata": {},
   "source": [
    "<strong><font color=\"red\">Line 1</font></strong>:<br>\n",
    "<code>def traverse_folders(directory, folders, file_regex, output_file):</code><br>\n",
    "\n",
    "Initializes the function and takes four parameters:\n",
    " - <em>directory:</em> the filepath that will be traversed\n",
    " - <em>folders:</em> the list of folders that will be traversed\n",
    " - <em>file_regex:</em> the pattern that will be used to match the pdf files that will be merged\n",
    " - <em>output_file:</em> the file name that will be saved"
   ]
  },
  {
   "cell_type": "markdown",
   "metadata": {},
   "source": [
    "<strong><font color=\"red\">Line 2</font></strong>:<br>\n",
    "<code>os.chdir(directory)</code><br>\n",
    " - changes the current working directory to the given path"
   ]
  },
  {
   "cell_type": "markdown",
   "metadata": {},
   "source": [
    "<strong><font color=\"red\">Line 3 for loop</font></strong>:<br>\n",
    "<code>for folder_ in folders:</code><br>\n",
    " - for loop that will iterate through each folder that contains files that will be merged"
   ]
  },
  {
   "cell_type": "markdown",
   "metadata": {},
   "source": [
    "<strong><font color=\"red\">Line 4 inside the for loop</font></strong>:<br>\n",
    "<code>os.chdir(f'{directory}/{folder_}')</code><br>\n",
    " - changes the current working directory to inside each folder"
   ]
  },
  {
   "cell_type": "markdown",
   "metadata": {},
   "source": [
    "<strong><font color=\"red\">Line 5 inside the for loop</font></strong>:<br>\n",
    "<code>paths = glob.glob(file_regex)</code><br>\n",
    " - creates a list of files that match the specific pattern"
   ]
  },
  {
   "cell_type": "markdown",
   "metadata": {},
   "source": [
    "<strong><font color=\"red\">Line 6 inside the for loop</font></strong>:<br>\n",
    "<code>paths.sort()</code><br>\n",
    " - sorts the list of files in alphabetic order"
   ]
  },
  {
   "cell_type": "markdown",
   "metadata": {},
   "source": [
    "<strong><font color=\"red\">Line 7 inside the for loop</font></strong>:<br>\n",
    "<code>print(os.path.basename(os.getcwd()))</code><br>\n",
    " - prints the basename of the current directory so that we can monitor which folder has the pdf files merged"
   ]
  },
  {
   "cell_type": "markdown",
   "metadata": {},
   "source": [
    "<strong><font color=\"red\">Line 8 inside the for loop</font></strong>:<br>\n",
    "<code>merger_pdf(output_file, paths)</code><br>\n",
    " - evokes the merger_pdf function that will merge the pdf files and takes two parameters\n",
    " - <code>output_file</code> is the name of the file that will be saved\n",
    " - <code>paths</code> is the list of files that are to merged"
   ]
  },
  {
   "cell_type": "markdown",
   "metadata": {},
   "source": [
    "<strong><font color=\"red\">Line 9 inside the for loop</font></strong>:<br>\n",
    "<code>os.chdir(directory)</code><br>\n",
    " - changes the current working directory back to the original filepath, one branch above the folders that contain the files that will be merged. This will help so that we can move into a new folder to perform the merger function"
   ]
  }
 ],
 "metadata": {
  "kernelspec": {
   "display_name": "Python 3",
   "language": "python",
   "name": "python3"
  },
  "language_info": {
   "codemirror_mode": {
    "name": "ipython",
    "version": 3
   },
   "file_extension": ".py",
   "mimetype": "text/x-python",
   "name": "python",
   "nbconvert_exporter": "python",
   "pygments_lexer": "ipython3",
   "version": "3.7.6"
  }
 },
 "nbformat": 4,
 "nbformat_minor": 2
}

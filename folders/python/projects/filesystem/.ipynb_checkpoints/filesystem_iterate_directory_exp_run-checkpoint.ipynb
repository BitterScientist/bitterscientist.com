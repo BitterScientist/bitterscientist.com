{
 "cells": [
  {
   "cell_type": "markdown",
   "metadata": {},
   "source": [
    "# Import Dependencies"
   ]
  },
  {
   "cell_type": "code",
   "execution_count": 1,
   "metadata": {},
   "outputs": [
    {
     "name": "stdout",
     "output_type": "stream",
     "text": [
      "Importing Jupyter notebook from filesystem_iterate_directory.ipynb\n"
     ]
    }
   ],
   "source": [
    "import os\n",
    "import glob\n",
    "from pathlib import Path\n",
    "from PyPDF2 import PdfFileMerger\n",
    "\n",
    "# import variables\n",
    "%store -r directory\n",
    "%store -r folders\n",
    "\n",
    "import nbimporter\n",
    "from filesystem_iterate_directory import traverse_folders"
   ]
  },
  {
   "cell_type": "markdown",
   "metadata": {},
   "source": [
    "# Run Function"
   ]
  },
  {
   "cell_type": "code",
   "execution_count": 2,
   "metadata": {},
   "outputs": [
    {
     "name": "stdout",
     "output_type": "stream",
     "text": [
      "folder 4\n",
      "Merged Files and created: pdf_merged.pdf\n",
      "folder 3\n",
      "Merged Files and created: pdf_merged.pdf\n",
      "folder 2\n",
      "Merged Files and created: pdf_merged.pdf\n",
      "folder 1\n",
      "Merged Files and created: pdf_merged.pdf\n"
     ]
    }
   ],
   "source": [
    "if __name__ == '__main__':\n",
    "    traverse_folders(directory, folders, '*suffix_*.pdf', 'pdf_merged.pdf')"
   ]
  },
  {
   "cell_type": "markdown",
   "metadata": {},
   "source": [
    "<strong><font color=\"red\">Line 1:</font> <br>\n",
    "    <code>if __name__ == '__main__':</code></strong><br>\n",
    " - Checks if you are running the python script directly, or if it is being imported by something else.\n",
    " - If it is being run directly, then the following blocks of code will be executed"
   ]
  },
  {
   "cell_type": "markdown",
   "metadata": {},
   "source": [
    "<strong><font color=\"red\">Line 2:</font> <br>\n",
    "    <code>traverse_folders(directory, folders, '*suffix_*.pdf', 'pdf_merged.pdf')</code></strong><br>\n",
    " - Evokes the function and passes in the required parameters\n",
    " - <code>directory</code> the directory that contains the folders that will be traversed\n",
    " - <code>folders</code> list of folders that contain files that will be merged\n",
    " - <code>'*suffix_*.pdf'</code> the pattern that is to be matched in the file selection to be merged.\n",
    " - <code>'pdf_merged.pdf'</code> the name of the file that will be saved when pdfs are merged"
   ]
  }
 ],
 "metadata": {
  "kernelspec": {
   "display_name": "Python 3",
   "language": "python",
   "name": "python3"
  },
  "language_info": {
   "codemirror_mode": {
    "name": "ipython",
    "version": 3
   },
   "file_extension": ".py",
   "mimetype": "text/x-python",
   "name": "python",
   "nbconvert_exporter": "python",
   "pygments_lexer": "ipython3",
   "version": "3.7.6"
  }
 },
 "nbformat": 4,
 "nbformat_minor": 2
}

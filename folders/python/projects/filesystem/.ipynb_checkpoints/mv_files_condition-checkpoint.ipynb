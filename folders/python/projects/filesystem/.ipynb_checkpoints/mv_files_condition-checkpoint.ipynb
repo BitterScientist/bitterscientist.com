{
 "cells": [
  {
   "cell_type": "markdown",
   "metadata": {},
   "source": [
    "# Import Dependencies"
   ]
  },
  {
   "cell_type": "code",
   "execution_count": 1,
   "metadata": {},
   "outputs": [
    {
     "name": "stdout",
     "output_type": "stream",
     "text": [
      "CPU times: user 6 µs, sys: 1 µs, total: 7 µs\n",
      "Wall time: 9.06 µs\n"
     ]
    }
   ],
   "source": [
    "%%time\n",
    "# Operating system processing and filepath manipulation\n",
    "import os\n",
    "import glob\n",
    "import shutil\n",
    "\n",
    "# Substring matching\n",
    "import re"
   ]
  },
  {
   "cell_type": "code",
   "execution_count": 2,
   "metadata": {},
   "outputs": [],
   "source": [
    "# These lists contain substrings of a file that will be used to sort as files are moved.\n",
    "first_list = ['Hamilton', 'Ali', 'Edwards', 'Duncan']\n",
    "second_list = ['Solis' ,'Leach', 'Burnett', 'Dougherty']"
   ]
  },
  {
   "cell_type": "code",
   "execution_count": 3,
   "metadata": {},
   "outputs": [
    {
     "name": "stdout",
     "output_type": "stream",
     "text": [
      "CPU times: user 3 µs, sys: 0 ns, total: 3 µs\n",
      "Wall time: 5.72 µs\n"
     ]
    }
   ],
   "source": [
    "def move_files(pattern, foldername1, foldername2):\n",
    "    files_to_move = glob.glob('documents/*.docx')\n",
    "    for file in files_to_move:\n",
    "        file_basename = os.path.basename(file)\n",
    "        name = re.match(r'(.*?)_',file_basename).group(0)[:-1]\n",
    "        if name in first_list:\n",
    "            source = os.path.join(os.getcwd(), file)\n",
    "            destination = os.path.join(os.getcwd(), foldername1, file_basename)\n",
    "            shutil.move(source, destination)\n",
    "        if name in second_list:\n",
    "            source = os.path.join(os.getcwd(), file)\n",
    "            destination = os.path.join(os.getcwd(), foldername2, file_basename)\n",
    "            shutil.move(source, destination)\n",
    "        else:\n",
    "            continue\n",
    "    folder_1 = os.listdir(os.path.join(os.getcwd(), foldername1))\n",
    "    folder_2 = os.listdir(os.path.join(os.getcwd(), foldername2)) \n",
    "    print(f'The files folder1 contains: {folder_1}')\n",
    "    print(f'The files folder2 contains: {folder_2}')\n",
    "    print('Files Have Been Moved')"
   ]
  },
  {
   "cell_type": "code",
   "execution_count": 4,
   "metadata": {},
   "outputs": [
    {
     "name": "stdout",
     "output_type": "stream",
     "text": [
      "The files folder1 contains: ['.DS_Store', 'Hamilton_file.docx', 'Edwards_file.docx', 'Duncan_file.docx', 'Ali_file.docx']\n",
      "The files folder2 contains: ['.DS_Store', 'Burnett_file.docx', 'Solis_file.docx', 'Leach_file.docx', 'Dougherty_file.docx']\n",
      "Files Have Been Moved\n",
      "CPU times: user 1.65 ms, sys: 3.43 ms, total: 5.08 ms\n",
      "Wall time: 8.72 ms\n"
     ]
    }
   ],
   "source": [
    "%%time\n",
    "if __name__ == '__main__':\n",
    "    pattern = r'documents/*_.docx'\n",
    "    foldername1 = 'documents/folder1'\n",
    "    foldername2 = 'documents/folder2'\n",
    "    move_files(pattern, foldername1, foldername2)"
   ]
  }
 ],
 "metadata": {
  "kernelspec": {
   "display_name": "Python 3",
   "language": "python",
   "name": "python3"
  },
  "language_info": {
   "codemirror_mode": {
    "name": "ipython",
    "version": 3
   },
   "file_extension": ".py",
   "mimetype": "text/x-python",
   "name": "python",
   "nbconvert_exporter": "python",
   "pygments_lexer": "ipython3",
   "version": "3.7.7"
  }
 },
 "nbformat": 4,
 "nbformat_minor": 2
}

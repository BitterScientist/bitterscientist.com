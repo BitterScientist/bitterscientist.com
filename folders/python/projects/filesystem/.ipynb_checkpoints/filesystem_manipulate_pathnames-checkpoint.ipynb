{
 "cells": [
  {
   "cell_type": "markdown",
   "metadata": {},
   "source": [
    "# Goals:\n",
    "\n",
    "Introduce Python pathname manipulation methods using:<br>\n",
    "<ul>\n",
    "    <li>The <strong>os</strong> method <code>os.path.join()</code></li>\n",
    "    <li>The <strong>pathlib</strong> method <code>path()</code></li>\n",
    "    <li>Additional <strong>os</strong> methods used to split, or extract pathname components</li>\n",
    "</ul>"
   ]
  },
  {
   "cell_type": "markdown",
   "metadata": {},
   "source": [
    "# Manipulate pathnames using <code>os.path.join()</code>\n",
    "\n",
    " - Action: Join one or more path components intelligently.<br>\n",
    " - <strong>Why this is cool:</strong>:<br>\n",
    " - Method lets you form file paths from a sequence of directory or file names independent of the conventions underlying the operating system.<br>\n",
    "Documentation: https://docs.python.org/3/library/os.path.html<br>\n",
    "\n",
    "\n",
    " - Example of method when used in <em>Windows</em>\n",
    " - Example of method when used in <em>Linux/UNIX</em> \n",
    " - Example of method when used in <em>Mac</em>  "
   ]
  },
  {
   "cell_type": "markdown",
   "metadata": {},
   "source": [
    "### Import Dependencies"
   ]
  },
  {
   "cell_type": "code",
   "execution_count": 1,
   "metadata": {},
   "outputs": [],
   "source": [
    "import os"
   ]
  },
  {
   "cell_type": "markdown",
   "metadata": {},
   "source": [
    "### Construct pathname using <code>os.path.join()</code>\n",
    "\n",
    " - Arguments can be single directory, filenames, and subpaths"
   ]
  },
  {
   "cell_type": "markdown",
   "metadata": {},
   "source": [
    "### Windows Example 1\n",
    "\n",
    "<strong>Code:</strong><br>\n",
    "<code>print(os.path.join('bin', 'utils', 'disktools'))</code><br>\n",
    "<strong>Output:</strong><br>\n",
    "<code>bin\\utils\\disktools</code>\n",
    "\n",
    "### Windows Example 2 with subpaths\n",
    "\n",
    "<strong>Code:</strong><br>\n",
    "<code>print(os.path.join('mydir\\\\bin', 'utils\\\\disktools\\\\chkdisk'))</code><br>\n",
    "<strong>Output:</strong><br>\n",
    "<code>mydir\\bin\\utils\\disktools\\chkdisk</code>"
   ]
  },
  {
   "cell_type": "markdown",
   "metadata": {},
   "source": [
    "### Linux/UNIX/Mac Example 1"
   ]
  },
  {
   "cell_type": "code",
   "execution_count": 2,
   "metadata": {},
   "outputs": [
    {
     "name": "stdout",
     "output_type": "stream",
     "text": [
      "bin/utils/disktools\n"
     ]
    }
   ],
   "source": [
    "print(os.path.join('bin', 'utils', 'disktools'))"
   ]
  },
  {
   "cell_type": "markdown",
   "metadata": {},
   "source": [
    "### Linux/UNIX/Mac Example 2 using variables"
   ]
  },
  {
   "cell_type": "code",
   "execution_count": 3,
   "metadata": {},
   "outputs": [
    {
     "name": "stdout",
     "output_type": "stream",
     "text": [
      "mydir/bin/utils/disktools/chkdisk\n"
     ]
    }
   ],
   "source": [
    "path1 = os.path.join('mydir', 'bin')\n",
    "path2 = os.path.join('utils', 'disktools', 'chkdisk')\n",
    "print(os.path.join(path1, path2))"
   ]
  },
  {
   "cell_type": "markdown",
   "metadata": {},
   "source": [
    "<div style=\"display: inline-block; border: 2px solid black;\">\n",
    "<strong><font color=\"blue\">Comment:</font><br></strong>\n",
    "Windows system uses backslahses to join path components<br>\n",
    "Linux/UNIX system uses forward slashe separators to join path components\n",
    "</div>"
   ]
  },
  {
   "cell_type": "markdown",
   "metadata": {},
   "source": [
    "<hr style=\"border-bottom: 2px solid black;\">"
   ]
  },
  {
   "cell_type": "markdown",
   "metadata": {},
   "source": [
    "# Manipulate pathnames using the <strong>pathlib</strong> method <code>path()</code>\n",
    "\n",
    " - Action: Join one or more path components intelligently.<br>\n",
    "\n",
    "<strong>Why this is cool:</strong>:\n",
    " - Method lets you form file paths from a sequence of directory or file names independent of the conventions underlying the operating system.<br>\n",
    " - Pathlib is object oriented method for pathname manipulation<br>\n",
    "Documentation: https://docs.python.org/3/library/pathlib.html<br> "
   ]
  },
  {
   "cell_type": "markdown",
   "metadata": {},
   "source": [
    "### Import dependencies"
   ]
  },
  {
   "cell_type": "code",
   "execution_count": 4,
   "metadata": {},
   "outputs": [],
   "source": [
    "from pathlib import Path"
   ]
  },
  {
   "cell_type": "markdown",
   "metadata": {},
   "source": [
    "### Windows Example"
   ]
  },
  {
   "cell_type": "markdown",
   "metadata": {},
   "source": [
    "<strong>Code:</strong><br>\n",
    "<code>current_path = Path()</code>\n",
    "<code>print(current_path.joinpath('bin', 'utils', 'disktools'))</code><br>\n",
    "<strong>Output:</strong><br>\n",
    "<code>bin\\utils\\disktools</code>"
   ]
  },
  {
   "cell_type": "markdown",
   "metadata": {},
   "source": [
    "### Linux/UNIX/Mac Example"
   ]
  },
  {
   "cell_type": "code",
   "execution_count": 5,
   "metadata": {},
   "outputs": [],
   "source": [
    "# Instantiate Path() method\n",
    "current_path = Path()"
   ]
  },
  {
   "cell_type": "code",
   "execution_count": 6,
   "metadata": {},
   "outputs": [
    {
     "name": "stdout",
     "output_type": "stream",
     "text": [
      "bin/utils/disktools\n"
     ]
    }
   ],
   "source": [
    "# Evoke joinpath() method\n",
    "print(current_path.joinpath('bin', 'utils', 'disktools'))"
   ]
  },
  {
   "cell_type": "markdown",
   "metadata": {},
   "source": [
    "### Use <code>name</code> property to return basename of the path"
   ]
  },
  {
   "cell_type": "code",
   "execution_count": 7,
   "metadata": {},
   "outputs": [],
   "source": [
    "ex_path = Path('some', 'directory', 'path.png')"
   ]
  },
  {
   "cell_type": "code",
   "execution_count": 8,
   "metadata": {},
   "outputs": [
    {
     "data": {
      "text/plain": [
       "'path.png'"
      ]
     },
     "execution_count": 8,
     "metadata": {},
     "output_type": "execute_result"
    }
   ],
   "source": [
    "# Apply name property to Path object \"ex_path\"\n",
    "ex_path.name"
   ]
  },
  {
   "cell_type": "markdown",
   "metadata": {},
   "source": [
    "### Use <code>parent</code> property to return the path up to, but not including, the basename"
   ]
  },
  {
   "cell_type": "code",
   "execution_count": 9,
   "metadata": {},
   "outputs": [
    {
     "data": {
      "text/plain": [
       "PosixPath('some/directory')"
      ]
     },
     "execution_count": 9,
     "metadata": {},
     "output_type": "execute_result"
    }
   ],
   "source": [
    "# Apply parent property to Path object \"ex_path\"\n",
    "ex_path.parent"
   ]
  },
  {
   "cell_type": "markdown",
   "metadata": {},
   "source": [
    "<hr style=\"border-bottom: 2px solid black;\">"
   ]
  },
  {
   "cell_type": "markdown",
   "metadata": {},
   "source": [
    "### Use <code>os.path.split()</code> to split path\n",
    "\n",
    "What it does:<br>\n",
    " - Split the pathname path into a tuple, (head, tail) where tail is the last pathname component and head is everything leading up to that."
   ]
  },
  {
   "cell_type": "code",
   "execution_count": 10,
   "metadata": {},
   "outputs": [
    {
     "name": "stdout",
     "output_type": "stream",
     "text": [
      "Head of '/home/User/Desktop/tail.txt:' /home/User/Desktop\n",
      "Tail of '/home/User/Desktop/tail.txt:' tail.txt \n",
      "\n"
     ]
    }
   ],
   "source": [
    "# path \n",
    "path = '/home/User/Desktop/tail.txt'\n",
    "  \n",
    "# Split the path in  \n",
    "# head and tail pair \n",
    "head_tail = os.path.split(path) \n",
    "  \n",
    "# print head and tail \n",
    "# of the specified path \n",
    "print(\"Head of '% s:'\" % path, head_tail[0]) \n",
    "print(\"Tail of '% s:'\" % path, head_tail[1], \"\\n\") "
   ]
  },
  {
   "cell_type": "markdown",
   "metadata": {},
   "source": [
    "### Use <code>os.path.basename()</code> to return basename of path\n",
    "\n",
    "What it does:<br>\n",
    " - Method returns only the basename of the path."
   ]
  },
  {
   "cell_type": "code",
   "execution_count": 11,
   "metadata": {},
   "outputs": [
    {
     "name": "stdout",
     "output_type": "stream",
     "text": [
      "The basename of the path is 'tail.txt:'\n"
     ]
    }
   ],
   "source": [
    "# path \n",
    "path = '/home/User/Desktop/tail.txt'\n",
    "  \n",
    "# Split the path in  \n",
    "# head and tail pair \n",
    "basename = os.path.basename(path) \n",
    "  \n",
    "# print output\n",
    "print(\"The basename of the path is '% s:'\" % basename) "
   ]
  },
  {
   "cell_type": "markdown",
   "metadata": {},
   "source": [
    "### Use <code>os.path.dirname()</code> to return the path up to, and not including, the basename\n",
    "\n",
    "What it does:<br>\n",
    " - Method returns the path before the basename."
   ]
  },
  {
   "cell_type": "code",
   "execution_count": 12,
   "metadata": {},
   "outputs": [
    {
     "name": "stdout",
     "output_type": "stream",
     "text": [
      "The dirname of the path is '/home/User/Desktop:'\n"
     ]
    }
   ],
   "source": [
    "# path \n",
    "path = '/home/User/Desktop/tail.txt'\n",
    "  \n",
    "# Split the path in  \n",
    "# head and tail pair \n",
    "dirname = os.path.dirname(path) \n",
    "  \n",
    "# print output\n",
    "print(\"The dirname of the path is '% s:'\" % dirname) "
   ]
  }
 ],
 "metadata": {
  "kernelspec": {
   "display_name": "Python 3",
   "language": "python",
   "name": "python3"
  },
  "language_info": {
   "codemirror_mode": {
    "name": "ipython",
    "version": 3
   },
   "file_extension": ".py",
   "mimetype": "text/x-python",
   "name": "python",
   "nbconvert_exporter": "python",
   "pygments_lexer": "ipython3",
   "version": "3.7.6"
  }
 },
 "nbformat": 4,
 "nbformat_minor": 2
}

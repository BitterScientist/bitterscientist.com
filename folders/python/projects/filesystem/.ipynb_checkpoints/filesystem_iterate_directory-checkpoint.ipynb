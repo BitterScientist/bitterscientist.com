{
 "cells": [
  {
   "cell_type": "markdown",
   "metadata": {},
   "source": [
    "# Import Dependencies"
   ]
  },
  {
   "cell_type": "code",
   "execution_count": 1,
   "metadata": {},
   "outputs": [],
   "source": [
    "import os\n",
    "import glob\n",
    "from pathlib import Path\n",
    "from PyPDF2 import PdfFileMerger"
   ]
  },
  {
   "cell_type": "markdown",
   "metadata": {},
   "source": [
    "# Function  to Merge PDFs"
   ]
  },
  {
   "cell_type": "code",
   "execution_count": 2,
   "metadata": {},
   "outputs": [],
   "source": [
    "def merger_pdf(output_path, input_paths):\n",
    "    pdf_merger = PdfFileMerger()\n",
    "    \n",
    "    for path in input_paths:\n",
    "        pdf_merger.append(path)\n",
    "        \n",
    "    with open(output_path, 'wb') as fileobj:\n",
    "        pdf_merger.write(fileobj)\n",
    "        \n",
    "    print('Merged Files and created: {}'.format(output_path))"
   ]
  },
  {
   "cell_type": "markdown",
   "metadata": {},
   "source": [
    "# List folders that contains PDFs to merge"
   ]
  },
  {
   "cell_type": "code",
   "execution_count": 3,
   "metadata": {},
   "outputs": [],
   "source": [
    "directory = r'filepath'"
   ]
  },
  {
   "cell_type": "code",
   "execution_count": 4,
   "metadata": {},
   "outputs": [
    {
     "data": {
      "text/plain": [
       "['folder 4', 'folder 3', 'folder 2', 'folder 1']"
      ]
     },
     "execution_count": 4,
     "metadata": {},
     "output_type": "execute_result"
    }
   ],
   "source": [
    "folders = [f for f in os.listdir(directory) if not f.startswith('.')]\n",
    "folders"
   ]
  },
  {
   "cell_type": "markdown",
   "metadata": {},
   "source": [
    "# Function to traverse folders, and Merge PDFs"
   ]
  },
  {
   "cell_type": "code",
   "execution_count": 5,
   "metadata": {},
   "outputs": [],
   "source": [
    "def traverse_folders(directory, folders, file_regex, output_file):\n",
    "    os.chdir(directory)\n",
    "    for folder_ in folders:\n",
    "        os.chdir(f'{directory}/{folder_}')\n",
    "        paths = glob.glob(file_regex)\n",
    "        paths.sort()\n",
    "        print(os.path.basename(os.getcwd()))\n",
    "        merger_pdf(output_file, paths)\n",
    "        os.chdir(directory)"
   ]
  },
  {
   "cell_type": "markdown",
   "metadata": {},
   "source": [
    "# Run Function"
   ]
  },
  {
   "cell_type": "code",
   "execution_count": 6,
   "metadata": {},
   "outputs": [
    {
     "name": "stdout",
     "output_type": "stream",
     "text": [
      "folder 4\n",
      "Merged Files and created: pdf_merged.pdf\n",
      "folder 3\n",
      "Merged Files and created: pdf_merged.pdf\n",
      "folder 2\n",
      "Merged Files and created: pdf_merged.pdf\n",
      "folder 1\n",
      "Merged Files and created: pdf_merged.pdf\n"
     ]
    }
   ],
   "source": [
    "if __name__ == '__main__':\n",
    "    traverse_folders(directory, folders, '*suffix_*.pdf', 'pdf_merged.pdf')"
   ]
  },
  {
   "cell_type": "code",
   "execution_count": 7,
   "metadata": {},
   "outputs": [
    {
     "name": "stdout",
     "output_type": "stream",
     "text": [
      "Stored 'directory' (str)\n",
      "Stored 'folders' (list)\n"
     ]
    }
   ],
   "source": [
    "# store values\n",
    "%store directory\n",
    "%store folders"
   ]
  }
 ],
 "metadata": {
  "kernelspec": {
   "display_name": "Python 3",
   "language": "python",
   "name": "python3"
  },
  "language_info": {
   "codemirror_mode": {
    "name": "ipython",
    "version": 3
   },
   "file_extension": ".py",
   "mimetype": "text/x-python",
   "name": "python",
   "nbconvert_exporter": "python",
   "pygments_lexer": "ipython3",
   "version": "3.7.6"
  }
 },
 "nbformat": 4,
 "nbformat_minor": 2
}

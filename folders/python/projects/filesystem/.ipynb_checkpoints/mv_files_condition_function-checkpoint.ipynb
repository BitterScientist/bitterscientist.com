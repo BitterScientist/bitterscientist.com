{
 "cells": [
  {
   "cell_type": "markdown",
   "metadata": {},
   "source": [
    "# Import Dependencies"
   ]
  },
  {
   "cell_type": "code",
   "execution_count": 1,
   "metadata": {},
   "outputs": [
    {
     "name": "stdout",
     "output_type": "stream",
     "text": [
      "CPU times: user 6 µs, sys: 1 µs, total: 7 µs\n",
      "Wall time: 9.06 µs\n"
     ]
    }
   ],
   "source": [
    "%%time\n",
    "# Operating system processing and filepath manipulation\n",
    "import os\n",
    "import glob\n",
    "import shutil\n",
    "\n",
    "# Substring matching\n",
    "import re"
   ]
  },
  {
   "cell_type": "code",
   "execution_count": 2,
   "metadata": {},
   "outputs": [],
   "source": [
    "# These lists contain substrings of a file that will be used to sort as files are moved.\n",
    "first_list = ['Hamilton', 'Ali', 'Edwards', 'Duncan']\n",
    "second_list = ['Solis' ,'Leach', 'Burnett', 'Dougherty']"
   ]
  },
  {
   "cell_type": "code",
   "execution_count": 3,
   "metadata": {},
   "outputs": [
    {
     "name": "stdout",
     "output_type": "stream",
     "text": [
      "CPU times: user 3 µs, sys: 0 ns, total: 3 µs\n",
      "Wall time: 5.72 µs\n"
     ]
    }
   ],
   "source": [
    "def move_files(pattern, foldername1, foldername2):\n",
    "    files_to_move = glob.glob('documents/*.docx')\n",
    "    for file in files_to_move:\n",
    "        file_basename = os.path.basename(file)\n",
    "        name = re.match(r'(.*?)_',file_basename).group(0)[:-1]\n",
    "        if name in first_list:\n",
    "            source = os.path.join(os.getcwd(), file)\n",
    "            destination = os.path.join(os.getcwd(), foldername1, file_basename)\n",
    "            shutil.move(source, destination)\n",
    "        if name in second_list:\n",
    "            source = os.path.join(os.getcwd(), file)\n",
    "            destination = os.path.join(os.getcwd(), foldername2, file_basename)\n",
    "            shutil.move(source, destination)\n",
    "        else:\n",
    "            continue\n",
    "    folder_1 = os.listdir(os.path.join(os.getcwd(), foldername1))\n",
    "    folder_2 = os.listdir(os.path.join(os.getcwd(), foldername2)) \n",
    "    print(f'The files folder1 contains: {folder_1}')\n",
    "    print(f'The files folder2 contains: {folder_2}')\n",
    "    print('Files Have Been Moved')"
   ]
  },
  {
   "cell_type": "markdown",
   "metadata": {},
   "source": [
    "<hr style='border-top: 2px solid black;'>"
   ]
  },
  {
   "cell_type": "markdown",
   "metadata": {},
   "source": [
    "# Function Code Explanation"
   ]
  },
  {
   "cell_type": "markdown",
   "metadata": {},
   "source": [
    "<strong>Line 1:</strong><br>\n",
    "<code>def move_files(pattern, foldername1, foldername2):</code>\n",
    " - create a function that takes in three parameters\n",
    "  - <code>pattern</code>: this is the file pattern you want to move\n",
    "  - <code>foldername1</code>: the name of one of the directories you will move files into\n",
    "  - <code>foldername2</code>: the name of a second directory you will move files into"
   ]
  },
  {
   "cell_type": "markdown",
   "metadata": {},
   "source": [
    "<strong>Line 2:</strong><br>\n",
    "<code>files_to_move = glob.glob('documents/*.docx')</code>\n",
    " - uses the <code>glob.glob()</code> method to create a list of files in the 'documents' directory that end in <code>.docx</code>"
   ]
  },
  {
   "cell_type": "markdown",
   "metadata": {},
   "source": [
    "<strong>Line 3:</strong><br>\n",
    "<code>for file in files_to_move:</code>\n",
    " - iterates through each of the files that meet the conditions in line 2\n",
    "\n",
    "### <strong>Inside for loop</strong>"
   ]
  },
  {
   "cell_type": "markdown",
   "metadata": {},
   "source": [
    "<strong>Line 4:</strong><br>\n",
    "<code>file_basename = os.path.basename(file)</code>\n",
    " - gets the base name from the file"
   ]
  },
  {
   "cell_type": "markdown",
   "metadata": {},
   "source": [
    "<strong>Line 5:</strong><br>\n",
    "<code>name = re.match(r'(.*?)_',file_basename).group(0)[:-1]</code>\n",
    " - uses the regex method get the \"name\" of the file basename, assuming that the files you need have a \"_\".\n",
    " - <font color=\"red\">This is a critical part of the code, your files need to all have the same naming convention, and it also assumes that the substring before the \"_\" is unique and will be used to sort your files in the final steps of this process</font>"
   ]
  },
  {
   "cell_type": "markdown",
   "metadata": {},
   "source": [
    "<strong>Line 6:</strong><br>\n",
    "<code>if name in first_list:</code>\n",
    " - if statement that checks if the name in the file is in a specific list of names that are to be sorted into a specific directory"
   ]
  },
  {
   "cell_type": "markdown",
   "metadata": {},
   "source": [
    "<strong>Line 7-9:</strong><br>\n",
    "<code>source = os.path.join(os.getcwd(), file)</code><br>\n",
    " - if the condition is true, then get the filepath of that file\n",
    "\n",
    "<code>destination = os.path.join(os.getcwd(), foldername1, file_basename)</code><br>\n",
    " - if the condition is true in line 6, then prepare the filepath that the file will be moved\n",
    "\n",
    "<code>shutil.move(source, destination)</code>\n",
    " - move the file from the source to the final destination, and overide if the file with the same name is there."
   ]
  },
  {
   "cell_type": "markdown",
   "metadata": {},
   "source": [
    "<strong>Line 10-13:</strong><br>\n",
    " - code similar to line 7-9 expect it matches names that are to be moved to a second directory"
   ]
  },
  {
   "cell_type": "markdown",
   "metadata": {},
   "source": [
    "<strong>Line 14 - 15:</strong><br>\n",
    "<code>else:\n",
    "    continue</code>\n",
    " - if it doesn't meet any of the above conditions, ignore and move on to the next file"
   ]
  },
  {
   "cell_type": "markdown",
   "metadata": {},
   "source": [
    "<strong>Line 16 - 20:</strong><br>\n",
    "<code>\n",
    "folder_1 = os.listdir(os.path.join(os.getcwd(), foldername1))\n",
    "folder_2 = os.listdir(os.path.join(os.getcwd(), foldername2)) \n",
    "print(f'The files folder1 contains: {folder_1}')\n",
    "print(f'The files folder2 contains: {folder_2}')\n",
    "print('Files Have Been Moved')\n",
    "</code>\n",
    " - These are essentially optional code that is used to check if files have been moved into the directories of interest"
   ]
  }
 ],
 "metadata": {
  "kernelspec": {
   "display_name": "Python 3",
   "language": "python",
   "name": "python3"
  },
  "language_info": {
   "codemirror_mode": {
    "name": "ipython",
    "version": 3
   },
   "file_extension": ".py",
   "mimetype": "text/x-python",
   "name": "python",
   "nbconvert_exporter": "python",
   "pygments_lexer": "ipython3",
   "version": "3.7.7"
  }
 },
 "nbformat": 4,
 "nbformat_minor": 2
}

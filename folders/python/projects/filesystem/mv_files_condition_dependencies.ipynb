{
 "cells": [
  {
   "cell_type": "markdown",
   "metadata": {},
   "source": [
    "# Dependencies Explained"
   ]
  },
  {
   "cell_type": "code",
   "execution_count": 1,
   "metadata": {},
   "outputs": [
    {
     "name": "stdout",
     "output_type": "stream",
     "text": [
      "CPU times: user 6 µs, sys: 1 µs, total: 7 µs\n",
      "Wall time: 9.06 µs\n"
     ]
    }
   ],
   "source": [
    "%%time\n",
    "# Operating system processing and filepath manipulation\n",
    "import os\n",
    "import glob\n",
    "import shutil\n",
    "\n",
    "# Substring matching\n",
    "import re"
   ]
  },
  {
   "cell_type": "markdown",
   "metadata": {},
   "source": [
    "## <strong><code>import os</code></strong>\n",
    " - <strong>Documentation:</strong> https://docs.python.org/3/library/os.html\n",
    " - <strong>What it does:</strong> provides a portable way of using operating system dependent functionality.\n",
    " - <strong>What we are using it in this post:</strong>:\n",
    "  - <code>os.path.join()</code>: create filepath\n",
    "  - <code>os.getcwd()</code>: get current working directory file path\n",
    "  - <code>os.listdir()</code>: get a list of files in a specific directory\n",
    "  - <code>os.path.basename()</code>: returns a string that contains the base name the specified path."
   ]
  },
  {
   "cell_type": "markdown",
   "metadata": {},
   "source": [
    "## <strong><code>import glob</code></strong>\n",
    " - <strong>Documentation:</strong> https://docs.python.org/3/library/glob.html\n",
    " - <strong>What it does:</strong> finds all the pathnames matching a specified pattern according to the rules used by the Unix shell.\n",
    " - <strong>What we are using it in this post:</strong>:\n",
    "  - <code>glob.glob()</code>: get all the files in a specific directory that have a specific .docx extension."
   ]
  },
  {
   "cell_type": "markdown",
   "metadata": {},
   "source": [
    "## <strong><code>import shutil</code></strong>\n",
    " - <strong>Documentation:</strong> https://docs.python.org/3/library/shutil.html\n",
    " - <strong>What it does:</strong> offers a number of high-level operations on files and collections of files. In particular, functions are provided which support file copying and removal.\n",
    " - <strong>What we are using it in this post:</strong>:\n",
    "  - <code>shutil.move()</code>: Move files."
   ]
  },
  {
   "cell_type": "markdown",
   "metadata": {},
   "source": [
    "## <strong><code>import re</code></strong>\n",
    " - <strong>Documentation:</strong> https://docs.python.org/3/library/re.html\n",
    " - <strong>What it does:</strong> provides regular expression matching operations similar to those found in Perl.\n",
    " - <strong>What we are using it in this post:</strong>:\n",
    "  - <code>re.match()</code>: match specific portion of filename."
   ]
  }
 ],
 "metadata": {
  "kernelspec": {
   "display_name": "Python 3",
   "language": "python",
   "name": "python3"
  },
  "language_info": {
   "codemirror_mode": {
    "name": "ipython",
    "version": 3
   },
   "file_extension": ".py",
   "mimetype": "text/x-python",
   "name": "python",
   "nbconvert_exporter": "python",
   "pygments_lexer": "ipython3",
   "version": "3.7.7"
  }
 },
 "nbformat": 4,
 "nbformat_minor": 2
}

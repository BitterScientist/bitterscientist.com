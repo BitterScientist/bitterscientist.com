{
 "cells": [
  {
   "cell_type": "markdown",
   "metadata": {},
   "source": [
    "# Import Dependency"
   ]
  },
  {
   "cell_type": "code",
   "execution_count": 1,
   "metadata": {},
   "outputs": [],
   "source": [
    "import os"
   ]
  },
  {
   "cell_type": "markdown",
   "metadata": {},
   "source": [
    "# Create Directory using <font color=\"red\">os.mkdir()</font>"
   ]
  },
  {
   "cell_type": "code",
   "execution_count": 2,
   "metadata": {},
   "outputs": [
    {
     "name": "stdout",
     "output_type": "stream",
     "text": [
      "Successfully created the directory new_directory \n"
     ]
    }
   ],
   "source": [
    "path = 'new_directory' #The name of the directory that will be created\n",
    "try:\n",
    "    os.mkdir(os.path.join(os.getcwd(), 'new_directory'))\n",
    "except OSError:\n",
    "    print (\"Creation of the directory %s failed\" % path)\n",
    "else:\n",
    "    print (\"Successfully created the directory %s \" % path)"
   ]
  },
  {
   "cell_type": "markdown",
   "metadata": {},
   "source": [
    "## Code Explained\n",
    "\n",
    " - <strong>Line 3:</strong> Create the file path for where the new directory will be stored, and then creates it with os.mkdir().\n",
    "  - <strong><code>os.mkdir()</code>:</strong> Create a directory named path with numeric mode mode.\n",
    "  - Documentation: https://docs.python.org/3/library/os.html\n",
    "  - <strong><code>os.getcwd()</code>:</strong> Gets the current directory path.\n",
    "  - <strong><code>os.path.join()</code>:</strong> Joins together the arguments into a single path.\n",
    " - <strong>Line 2, 4, 6 <code>try except else</code>:</strong> Handles exceptions and prints out messages based on which conditions were met.\n",
    " - Documentation: https://docs.python.org/3/tutorial/errors.html"
   ]
  },
  {
   "cell_type": "markdown",
   "metadata": {},
   "source": [
    "# Delete Directory using <font color=\"red\">os.rmkdir()</font>"
   ]
  },
  {
   "cell_type": "code",
   "execution_count": 3,
   "metadata": {},
   "outputs": [
    {
     "name": "stdout",
     "output_type": "stream",
     "text": [
      "Successfully deleted the directory new_directory\n"
     ]
    }
   ],
   "source": [
    "path = 'new_directory' # define the name of the directory to be deleted\n",
    "try:\n",
    "    os.c(os.path.join(os.getcwd(), 'new_directory'))\n",
    "except OSError:\n",
    "    print (\"Deletion of the directory %s failed\" % path)\n",
    "else:\n",
    "    print (\"Successfully deleted the directory %s\" % path)"
   ]
  },
  {
   "cell_type": "markdown",
   "metadata": {},
   "source": [
    "## Code Explained\n",
    "\n",
    " - <strong>Line 3:</strong> Create the file path for where the directory that will be deleted using os.rmdir()\n",
    "  - <strong><code>os.rmdir()</code>:</strong> Remove (delete) the directory path.\n",
    "  - Documentation: https://docs.python.org/3/library/os.html\n",
    "  - <strong><code>os.getcwd()</code>:</strong> Gets the current directory path.\n",
    "  - <strong><code>os.path.join()</code>:</strong> Joins together the arguments into a single path.\n",
    " - <strong>Line 2, 4, 6 <code>try except else</code>:</strong> Handles exceptions and prints out messages based on which conditions were met.\n",
    " - Documentation: https://docs.python.org/3/tutorial/errors.html"
   ]
  }
 ],
 "metadata": {
  "kernelspec": {
   "display_name": "Python 3",
   "language": "python",
   "name": "python3"
  },
  "language_info": {
   "codemirror_mode": {
    "name": "ipython",
    "version": 3
   },
   "file_extension": ".py",
   "mimetype": "text/x-python",
   "name": "python",
   "nbconvert_exporter": "python",
   "pygments_lexer": "ipython3",
   "version": "3.7.7"
  }
 },
 "nbformat": 4,
 "nbformat_minor": 2
}

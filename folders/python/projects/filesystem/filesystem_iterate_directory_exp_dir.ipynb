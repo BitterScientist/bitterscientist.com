{
 "cells": [
  {
   "cell_type": "markdown",
   "metadata": {},
   "source": [
    "# Import Dependencies"
   ]
  },
  {
   "cell_type": "code",
   "execution_count": 1,
   "metadata": {},
   "outputs": [],
   "source": [
    "import os\n",
    "import glob\n",
    "from pathlib import Path\n",
    "from PyPDF2 import PdfFileMerger"
   ]
  },
  {
   "cell_type": "markdown",
   "metadata": {},
   "source": [
    "# <strong><code>os</code> Module</strong>\n",
    " - Documentation: https://docs.python.org/3/library/os.html\n",
    " - Module provides functions for interacting with the operating system.\n",
    " - <code>os</code> module is used here to get and set the directory as we traverse folders to execute our pdf conversion function"
   ]
  },
  {
   "cell_type": "markdown",
   "metadata": {},
   "source": [
    "# <strong><code>glob</code> Module</strong>\n",
    " - Documentation: https://docs.python.org/3/library/glob.html\n",
    " - Module generates lists of files that match a given pattern.\n",
    " - <code>Glob</code> is used here to list the pdf files we want to merge.\n",
    " - File patterns are similar regular expressions that contain \"*\", \"?\", [0-9]"
   ]
  },
  {
   "cell_type": "markdown",
   "metadata": {},
   "source": [
    "# <strong><code>Path</code> Class</strong>\n",
    " - Documentation: https://docs.python.org/3/library/os.path.html\n",
    " - Module provides functions to manipulate paths, and returns elements of a path. \n",
    " - <code>Path</code> is used here to get the <code>basename</code> of the directory that the pdf files are merged. This is used to in a print statement to track/monitor progress of function."
   ]
  },
  {
   "cell_type": "markdown",
   "metadata": {},
   "source": [
    "# <strong><code>PdfFileMerger</code> Class</strong>\n",
    " - Documentation: https://pythonhosted.org/PyPDF2/PdfFileMerger.html\n",
    " - Creates a PdfFileMerger object used to merge multiple PDFs into a single PDF. \n",
    " - <code>PdfFileMerger</code> is used here to merge PDFs."
   ]
  }
 ],
 "metadata": {
  "kernelspec": {
   "display_name": "Python 3",
   "language": "python",
   "name": "python3"
  },
  "language_info": {
   "codemirror_mode": {
    "name": "ipython",
    "version": 3
   },
   "file_extension": ".py",
   "mimetype": "text/x-python",
   "name": "python",
   "nbconvert_exporter": "python",
   "pygments_lexer": "ipython3",
   "version": "3.7.6"
  }
 },
 "nbformat": 4,
 "nbformat_minor": 2
}

{
 "cells": [
  {
   "cell_type": "markdown",
   "metadata": {},
   "source": [
    "# Goal: Execulate multiple MySQL queries using <code>execute(multi=True)</code>\n",
    "\n",
    " - Requires that the module <code>mysql.connector</code> is installed"
   ]
  },
  {
   "cell_type": "markdown",
   "metadata": {},
   "source": [
    "# Import dependencies"
   ]
  },
  {
   "cell_type": "code",
   "execution_count": 1,
   "metadata": {},
   "outputs": [],
   "source": [
    "import mysql.connector"
   ]
  },
  {
   "cell_type": "markdown",
   "metadata": {},
   "source": [
    "# Connecting to MySQL using Connector/Python using \n",
    "<code>mysql.connector.connect(host='localhost', database='world', user='root', password='pass')</code>\n",
    "\n",
    "Documentation: https://dev.mysql.com/doc/connector-python/en/connector-python-example-connecting.html"
   ]
  },
  {
   "cell_type": "code",
   "execution_count": 2,
   "metadata": {},
   "outputs": [],
   "source": [
    "db = mysql.connector.connect(user='user', password='password',\n",
    "                              host='host',\n",
    "                              database='database')"
   ]
  },
  {
   "cell_type": "markdown",
   "metadata": {},
   "source": [
    "# Create <code>cursor</code> object using the <code>cursor()</code> method, which allows us to execute queries and retrieve rows."
   ]
  },
  {
   "cell_type": "code",
   "execution_count": 3,
   "metadata": {},
   "outputs": [],
   "source": [
    "cursor = db.cursor()"
   ]
  },
  {
   "cell_type": "markdown",
   "metadata": {},
   "source": [
    "# Execute a single sql statement using the <code>execute()</code> method\n",
    "\n",
    " - <code>execute(query, params=None)</code>\n",
    " - params: (optional) Sequence or mapping used to provide values for the query parameters."
   ]
  },
  {
   "cell_type": "code",
   "execution_count": 4,
   "metadata": {},
   "outputs": [
    {
     "name": "stdout",
     "output_type": "stream",
     "text": [
      "('06/28/2014 12:00:00 AM',)\n",
      "('03/21/2013 12:00:00 AM',)\n",
      "('03/13/2016 12:00:00 AM',)\n",
      "('03/31/2016 12:00:00 AM',)\n",
      "('02/13/2013 12:00:00 AM',)\n"
     ]
    }
   ],
   "source": [
    "cursor.execute(\"select Date from add_table limit 5\")\n",
    " \n",
    "# iterate over result\n",
    "for row in cursor:\n",
    "    print(row)\n",
    " \n",
    "cursor.close()\n",
    "db.close()"
   ]
  },
  {
   "cell_type": "markdown",
   "metadata": {},
   "source": [
    "<div style=\"display: inline-block; border: 2px solid black;\">\n",
    "<strong><font color=\"blue\">Comment:</font><br></strong>\n",
    "A for loop was used to iterate through each row in the sql query<br>\n",
    "    To close the connection, we use the <code>close()</code> method of the MySQLConnection object.\n",
    "</div>"
   ]
  },
  {
   "cell_type": "markdown",
   "metadata": {},
   "source": [
    "<hr style=\"border-bottom: 2px solid black;\">"
   ]
  },
  {
   "cell_type": "markdown",
   "metadata": {},
   "source": [
    "# Execute multiple sql statements using the <code>execute(multi=True)</code> method\n",
    "\n",
    " - Must make a new <code>mysql.connector.connect(params)</code> connection.\n",
    " - Prepare a <code>list_of_queries</code>, which contains a list of sql statements.\n",
    " - Pass list as a parameter into <code>cursor.execute(\";\".join(list_of_queries), multi=True)</code>"
   ]
  },
  {
   "cell_type": "code",
   "execution_count": 5,
   "metadata": {},
   "outputs": [],
   "source": [
    "db = mysql.connector.connect(user='user', password='password',\n",
    "                              host='host',\n",
    "                              database='database')"
   ]
  },
  {
   "cell_type": "markdown",
   "metadata": {},
   "source": [
    "# Create cursor object using <code>cursor()</code> method"
   ]
  },
  {
   "cell_type": "code",
   "execution_count": 6,
   "metadata": {},
   "outputs": [],
   "source": [
    "cursor = db.cursor()"
   ]
  },
  {
   "cell_type": "markdown",
   "metadata": {},
   "source": [
    "# Prepare SQL Statements and store them in a list"
   ]
  },
  {
   "cell_type": "code",
   "execution_count": 7,
   "metadata": {},
   "outputs": [],
   "source": [
    "# sql statements\n",
    "sql1 = \"\"\"SELECT Date FROM add_table LIMIT 10\"\"\"\n",
    "sql2 = \"\"\"SELECT Age FROM add_table WHERE Age > 10 AND Age <60 LIMIT 10\"\"\"\n",
    "queries = [sql1, sql2]"
   ]
  },
  {
   "cell_type": "markdown",
   "metadata": {},
   "source": [
    "# Use <code>execute(\";\".join(queries), multi=True)</code> to run multiple quries"
   ]
  },
  {
   "cell_type": "code",
   "execution_count": 8,
   "metadata": {},
   "outputs": [],
   "source": [
    "# returns an iterator\n",
    "results = cursor.execute(\";\".join(queries), multi=True)"
   ]
  },
  {
   "cell_type": "markdown",
   "metadata": {},
   "source": [
    "# Display SQL Query Outputs\n",
    "\n",
    " - This example will print out the results, but the many other approaches can be taken depending on your downstream applications."
   ]
  },
  {
   "cell_type": "code",
   "execution_count": 9,
   "metadata": {},
   "outputs": [
    {
     "name": "stdout",
     "output_type": "stream",
     "text": [
      "Query 1 - SELECT Date FROM add_table LIMIT 10 :\n",
      "('06/28/2014 12:00:00 AM',)\n",
      "('03/21/2013 12:00:00 AM',)\n",
      "('03/13/2016 12:00:00 AM',)\n",
      "('03/31/2016 12:00:00 AM',)\n",
      "('02/13/2013 12:00:00 AM',)\n",
      "('06/29/2014 12:00:00 AM',)\n",
      "('08/12/2012 12:00:00 AM',)\n",
      "('11/10/2013 12:00:00 AM',)\n",
      "('04/25/2012 12:00:00 AM',)\n",
      "('05/15/2013 12:00:00 AM',)\n",
      "\n",
      "Query 2 - SELECT Age FROM add_table WHERE Age > 10 AND Age <60 LIMIT 10 :\n",
      "('48',)\n",
      "('30',)\n",
      "('23',)\n",
      "('22',)\n",
      "('23',)\n",
      "('21',)\n",
      "('40',)\n",
      "('40',)\n",
      "('50',)\n",
      "('26',)\n",
      "\n"
     ]
    }
   ],
   "source": [
    "# Create a counter that will be used to track the query\n",
    "count = 1\n",
    " \n",
    "# Use a for loop to iterate through the query results\n",
    "for result in results:\n",
    " \n",
    "    # result is a cursor object i.e result == cursor\n",
    "    # so we have access to all cursor attributes and methods \n",
    "    print(\"Query {0} - {1} :\".format(count, result.statement))\n",
    " \n",
    "    # Conditional statement, if data is present, then it will be printed\n",
    "    if result.with_rows:\n",
    "        for row in result:\n",
    "            print(row)\n",
    "        count = count + 1\n",
    "    else:\n",
    "        print(\"No result found\")\n",
    " \n",
    "    print()\n",
    "#     Close cursor and db object\n",
    "cursor.close()\n",
    "db.close()"
   ]
  }
 ],
 "metadata": {
  "kernelspec": {
   "display_name": "Python 3",
   "language": "python",
   "name": "python3"
  },
  "language_info": {
   "codemirror_mode": {
    "name": "ipython",
    "version": 3
   },
   "file_extension": ".py",
   "mimetype": "text/x-python",
   "name": "python",
   "nbconvert_exporter": "python",
   "pygments_lexer": "ipython3",
   "version": "3.7.6"
  }
 },
 "nbformat": 4,
 "nbformat_minor": 2
}

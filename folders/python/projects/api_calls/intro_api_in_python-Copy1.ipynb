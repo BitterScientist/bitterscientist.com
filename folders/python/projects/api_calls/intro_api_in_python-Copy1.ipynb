{
 "cells": [
  {
   "cell_type": "code",
   "execution_count": 1,
   "id": "a1aabf1f",
   "metadata": {},
   "outputs": [
    {
     "data": {
      "application/javascript": [
       "IPython.OutputArea.prototype._should_scroll = function(lines) {\n",
       "    return false;\n",
       "}\n"
      ],
      "text/plain": [
       "<IPython.core.display.Javascript object>"
      ]
     },
     "metadata": {},
     "output_type": "display_data"
    }
   ],
   "source": [
    "%%javascript\n",
    "IPython.OutputArea.prototype._should_scroll = function(lines) {\n",
    "    return false;\n",
    "}"
   ]
  },
  {
   "cell_type": "code",
   "execution_count": 2,
   "id": "70c83e04",
   "metadata": {},
   "outputs": [
    {
     "data": {
      "text/html": [
       "<style>.container { width:75% !important; }</style>"
      ],
      "text/plain": [
       "<IPython.core.display.HTML object>"
      ]
     },
     "metadata": {},
     "output_type": "display_data"
    }
   ],
   "source": [
    "from IPython.core.display import display, HTML\n",
    "display(HTML(\"<style>.container { width:75% !important; }</style>\"))"
   ]
  },
  {
   "cell_type": "markdown",
   "id": "41547818",
   "metadata": {},
   "source": [
    "<hr style=\"border-top: 5px solid black;\">"
   ]
  },
  {
   "cell_type": "markdown",
   "id": "3b202ef4",
   "metadata": {},
   "source": [
    "<div class=\"alert alert-block alert-info\" style=\"font-size:20px; border:1px solid black; padding:10px\">\n",
    "<center><h1>Post Goals:</h1></center>\n",
    "    <hr style=\"border-top: 2px dashed black;\">\n",
    "    <ul>\n",
    "        <li>Provide an introduction to Application Programming Interface (API) and how to use python to make API calls.</li><br>\n",
    "    </ul>\n",
    "</div>"
   ]
  },
  {
   "cell_type": "markdown",
   "id": "81bcc928",
   "metadata": {},
   "source": [
    "<hr style=\"border-top: 5px solid black;\">"
   ]
  },
  {
   "cell_type": "markdown",
   "id": "f087c67e",
   "metadata": {},
   "source": [
    "<div class=\"alert alert-block alert-success\" style=\"font-size:20px; border:1px solid black; padding:10px\">\n",
    "<center><h1><br><font color=\"blue\">Post Overview.</font></h1></center>\n",
    "    <ol>\n",
    "        <li><a href=\"#objective1\">Introduction to Application programming interface (API).</a></li><br>\n",
    "        <li><a href=\"#objective2\">How to make an API Call using Python.</a></li><br>\n",
    "        <li><a href=\"#objective3\">Advance API Concepts.</a></li><br>\n",
    "        <li><a href=\"#objective4\">HTTP Status Codes.</a></li><br>\n",
    "        <li><a href=\"#objective5\">Trouble shooting common API errors.</a></li><br>\n",
    "<!--         <li><a href=\"#objective6\">.</a></li><br> -->\n",
    "    </ol>\n",
    "</div>"
   ]
  },
  {
   "cell_type": "markdown",
   "id": "8e6ddb97",
   "metadata": {},
   "source": [
    "<hr style=\"border-top: 5px solid black;\">"
   ]
  },
  {
   "cell_type": "markdown",
   "id": "ed448d58",
   "metadata": {},
   "source": [
    "<div id=\"objective1\" class=\"alert alert-block alert-warning\" style=\"font-size:16px; border:1px solid black; padding:10px\"><center><h1><br><font color=\"blue\">Introduction to Application programming interface (API).</font></h1></center><br>\n",
    "</div>\n",
    "<div style=\"font-size:16px; border:1px solid black; padding:10px\">\n",
    "    <ul><strong><u>What are APIs</u></strong>\n",
    "        <li>Application programming interface (API) is a communication layer that allows different systems to communicate.</li><br>\n",
    "        <li>Researchers often use APIs to get data that would be too large to download as a CSV file, or to give the researcher greater control on what to download, such as by specifying parameters and a timeframe of interest.</li><br>\n",
    "        <li>APIs are ubiquitous, a non research example would include the API calls we make when we scroll through an instagram feed.  The API behind the app responds by returning images and videos that we view on our mobile devices.</li><br>        \n",
    "        <li>APIs come in different flavors:\n",
    "            <ul>\n",
    "                <li><strong>Public APIs:</strong> are open and available for use by any outside developer.  Companies or organizations that provide public APIs are sharing an application and data.  Accessing Public APIs involve moderate authentication and authorization.  In some cases, these APIs are free or have an imposed per-call cost.  Documentaiton will specificy usage and restrictions.</li><br> \n",
    "                <li><strong>Partner APIs:</strong> APIs are only available to speceifically selected and authorized outside developers or API consumers.  These APIs are intended to promote business-to-business activities.  These APIs typically require licenses to access APIs, and stronger authentication, authorziation and security measures.</li><br> \n",
    "                <li><strong>Internal (Private) APIs:</strong> are indended only for use within the business/organizaton/enterprise to connect to systems and data in house.</li><br> \n",
    "                <li><strong>Composite APIs:</strong> Combine two or more APIs to create a sequence of related or interdependent operations.  These APIs address coplex and tightly-related API behaviors that can improve the speed and performance over an individual API.</li>\n",
    "            </ul>\n",
    "            </li>\n",
    "    </ul>\n",
    "    <hr>\n",
    "    <ul><strong><u>API protocols and achitectures</u></strong> \n",
    "        <li>APIs use protocols to exchange commands and data (essentially protocols dictate how APIs work).</li><br>\n",
    "        <li>The rules, structures and contraints are designed by the API architect, and govern an APIs operations.</li><br>\n",
    "        <li>There are three categories of API protocols/architectures\n",
    "            <ul>\n",
    "                <li><strong>The Representational State Transfer (REST):</strong> The most common approach to building an API.  This method relies on a client/server approach that separates the front and back end of the API.  This method provides flexibility in development and implementation.  REST APIs are considered \"stateless\" and means that the API stores no data or status between requests, but it REST does support storing a response for slow or non-time sensitive APIs, called cacheing.  API Gateways and load balancers are intermediate systems that are sometimes used to communicate directly or operate a REST API.  An API gateway is an API management tool that sits between the client and a collection of backend services.</li><br> \n",
    "                <li><strong>The Remote Procedural Call (RPC):</strong> sends multiple parameters and received a result by invoking executable actions or processes, and uses either JSON (JSON-RPC) or XML (XML-RPC) for coding.  What makes RPC APIs different from REST APIs is that REST APIs mainly exchange data and resources such as documents.</li><br>\n",
    "                <li><strong>The Simple Object Access Protocol (SOAP):</strong> is a web API usually with XML that supports a wide range of of communication protocols (hyper text transfer protocol (HTTP), simple mail transfer protocol (SMTP), and transmission control protocol (TCP).  SOAP is highly structured, tightly controlled and well defined protocols.</li><br>\n",
    "            </ul>\n",
    "            </li><br>        \n",
    "        <li>The choice of API protocol/format depends on the security level, the complexity of the information that must be exchanged, and the speed and performance for that exchange.</li><br>\n",
    "        <li>A simple format might be easier to maintain but may not offer the type of encryption needed for secure exchanges that an enterprise may want to adopt later.</li><br>\n",
    "        <li>A more complex format may provide greater security but creates a higher learning curve for adopters, more effort in debugging and increased work for developers working with the API.</li><br>\n",
    "            <hr>\n",
    "        <li><strong>REST vs SOAP (more information in table below)</strong>:\n",
    "            <ul>\n",
    "                <li>Both exchange information.</li><br>\n",
    "                <li>SOAP is used when tight security, and clearly defined rules and complex data exchange are needed.</li><br>\n",
    "                <li>SOAP is also used for internal or partner APIs.</li><br>\n",
    "                <li>SOAP is designed around actions.</li><br>\n",
    "                <li>REST is used for fast exchange of simple data.</li><br>\n",
    "                <li>REST is ideal for fetching data.</li><br>                \n",
    "                <li>REST is much lighter than SOAP and closer to HTTP specification than SOAP.</li><br>\n",
    "                <li>REST is used to support larger active user base and when there is a need for greater scalability.</li><br>\n",
    "                <li>REST is popular for public APIs.</li><br>                \n",
    "            </ul>\n",
    "        </li><br>\n",
    "            <hr>\n",
    "        <li><strong>SOAP vs RPC</strong>:\n",
    "            <ul>\n",
    "                <li>Both highly structured.</li><br>\n",
    "                <li>SOAP works with XML.</li><br>\n",
    "                <li>RPC works with XML and JSON.</li><br>\n",
    "                <li>RPC XML vs JSON depends on API purpose.</li><br>\n",
    "                <li>RPC JSON is simpler language and only supports alphanumeric data with minimal security.</li><br>\n",
    "                <li>RPC XML offers greater range of data processing, includes text, images, charts, graphs.</li><br>\n",
    "                <li>JSON-RPC APIs can make calls without waiting for a response and can support multiple calls asynchronously.</li><br>\n",
    "            </ul>\n",
    "        </li><br>\n",
    "            <hr>\n",
    "        <strong>GraphQL</strong><br>\n",
    "        <li>There is a new query language for APIs called GraphQL.  This was created by Facebook to allow clients the flexibility to decide what to fetch from the server.</li><br>\n",
    "        <li>GraphQL is becoming more popular and is used by Github and Shopify, but most public APIs are REST APIs</li><br>          \n",
    "    </ul>    \n",
    "</div>"
   ]
  },
  {
   "cell_type": "markdown",
   "id": "a629fe44",
   "metadata": {},
   "source": [
    "| REST | SOAP |RPC|\n",
    "| --- | --- | --- |\n",
    "| XML, JSON, HTTP and plain text | XML | JSON, XML, Protobuf, Thrift | \n",
    "| Flexible guidelines based on architecture | Clearly defined rules that are strict | structured | \n",
    "| Simple security | Advanced security | modest security |\n",
    "| Ideal for data | Ideal for processes and actions | Ideal procedure calling |\n",
    "| Low bandwidth | More bandwidth | modest bandwidth |\n",
    "| Highly scalable | Limited scalability | Limited scalability|\n",
    "| Public APIs, simple resource driven apps | Payment gateways | Command and action oriented APIs |"
   ]
  },
  {
   "cell_type": "markdown",
   "id": "9eadf6a8",
   "metadata": {},
   "source": [
    "<hr style=\"border-top: 5px solid black;\">"
   ]
  },
  {
   "cell_type": "markdown",
   "id": "f4526ed4",
   "metadata": {},
   "source": [
    "<div id=\"objective2\" class=\"alert alert-block alert-warning\" style=\"font-size:16px; border:1px solid black; padding:10px\"><center><h1><br><font color=\"blue\">How to make an API Call using Python.</font></h1></center><br>\n",
    "</div>\n",
    "<div style=\"font-size:16px; border:1px solid black; padding:10px\">\n",
    "    <ul><strong style=\"font-size:18px;\"><u>The Basics</u></strong>\n",
    "        <li>Before attempting to access and API, please refer to the documentation which will provide the information on what credentials you may need to activate your API and the content you can retrive from the API.</li><br>         \n",
    "        <li>The <code>requests</code> library is used to consume APIs in python.</li><br>\n",
    "        <li>To install, run <code>python -m pip install requests</code> in the command console.</li><br> \n",
    "        <li>Every API call involves a request and a response:\n",
    "            <ul>\n",
    "                <li><strong>Request:</strong> contains the relevant data that will be used when making the API call and includes the base URL, the end point, the method, the headers, and so on.</li><br>\n",
    "                <li><strong>Response:</strong> contains the relevant data that will be returned. by the server and includes the content, data, status code, and the headers.</li><br>\n",
    "            </ul>\n",
    "        </li><br>  \n",
    "        <hr>\n",
    "        <strong style=\"font-size:18px;\">Request in detail</strong>\n",
    "        <li>Every API call has an endpoint that specifies the resources (data/content) you want returned.</li><br>                \n",
    "        <li><strong>Base URL:</strong> is similar to any URL that is used for browsing websites but sometimes contains <code>https://api...</code> in the URL and instead of returning a webpage will return content that is specified in the endpoint (url).</li><br>\n",
    "        <li>Unlike web broswer URLs, API base URLs may have an authentication step that will return an error or ask for credential if not provided.</li><br>        \n",
    "        <li>Most APIs have base URLs that can be customized so that you specify the content you want returned. This is what is referred to as the endpoint part of the URL and specifies the resources you want fetched.</li><br>\n",
    "        <li>Not all APIs have good documentation, but do what you can to get API reference information that helps you understand what endpoints are available (what content you can fetch).</li><br>\n",
    "        <li>Good APIs have not only documentation but also test code you can use to quickly make a request and fetch data.</li><br>\n",
    "        <li>The base URL can start with either <code>http://</code> or <code>https://</code>, the latter is encrypted and makes traffice between the client and server safer to use..</li><br>\n",
    "        <hr>\n",
    "        <strong style=\"font-size:18px;\">Response in detail</strong>\n",
    "        <li>Recall, a response contains the relevant data that will be returned. by the server and includes the content, data, status code, and the headers.</li><br>\n",
    "        <li>The python <code>request</code> library is useful in not only making the request, but returning the response and responde details.</li><br>\n",
    "        <hr>\n",
    "        <strong style=\"font-size:16px;\">Status Codes</strong><br>\n",
    "        <li><strong>Status codes:</strong> are one of the most important pieces of information in an API response, as it tells you if your request was successful or is an issue arose.  Details on status codes are provided in a section below.<strong><code>request</code></strong>.</li><br>\n",
    "        <li>The status code can be obtained by using either <code>.status_code</code> and <code>.reason</code>.</li><br>\n",
    "        <hr>\n",
    "        <strong style=\"font-size:16px;\">HTTP Headers</strong><br>        \n",
    "        <li><strong>HTTP Headers:</strong> are used to define parameters that govern the request and response and includes but is not limited the following:\n",
    "       <ul>\n",
    "           <li>HTTP Header <strong>Accept</strong> indicates what type of content the client can accept.</li><br>\n",
    "           <li>HTTP Header <strong>Content-Type</strong> indicates what type of content the server can respond.</li><br>\n",
    "           <li>HTTP Header <strong>User-Agent</strong> indicates what software the client is using to communicate with the server.</li><br>\n",
    "           <li>HTTP Header <strong>Server</strong> indicates what software the server is using to to communicate with the client.</li><br>\n",
    "           <li>HTTP Header <strong>Authentication</strong> indicates who is callling the API and what credential are provided.</li><br>\n",
    "        </ul>\n",
    "        </li><br>\n",
    "        <li>The <code>.headers</code> method on the request can be used to return the header attribute details.</li><br>\n",
    "        <li>Some APIs use cutom headers that send or request additiona custom information from clients.</li><br>\n",
    "        <hr>\n",
    "        <strong style=\"font-size:16px;\">Content-Type</strong><br>         \n",
    "        <li>Python Requests has a method to check the content type that is returned in the response. This is important so you know how ot handle the response and what to do with the content.</li><br> \n",
    "        <li>Most APIs use JSON by default, but <code>.headers.get(\"Content-Type\")</code> will indiciate the content type.</li><br>\n",
    "        <li>The content type returned can range from text, audio, image, video, etc.</li><br>\n",
    "        <strong style=\"font-size:16px;\">Response Content</strong><br>         \n",
    "        <li>The request package also contains a few attributes that can be used to manipulate the response data.</li><br> \n",
    "        <li>The <code>.text</code> attribute returns the response content in unicode format. You use this for only text data.</li><br>\n",
    "        <li>The <code>.content</code> attribute returns the response content in bytes. You can use this for data types like images and those that are nontextual.</li><br> \n",
    "        <li>The <code>.json()</code> method is useful if the content-type is 'application/json' that converts the API bytes response into a python data structure.</li><br> \n",
    "        <li>.</li><br>        \n",
    "        <li>In this module I will use a <a href=\"https://randomuser.me/\">random user data</a> generator.</li><br>\n",
    "    </ul>\n",
    "</div>"
   ]
  },
  {
   "cell_type": "markdown",
   "id": "f5d12b84",
   "metadata": {},
   "source": [
    "<hr style=\"border-top: 5px solid black;\">"
   ]
  },
  {
   "cell_type": "markdown",
   "id": "4bba5bd3",
   "metadata": {},
   "source": [
    "<div id=\"objective3\" class=\"alert alert-block alert-warning\" style=\"font-size:16px; border:1px solid black; padding:10px\"><center><h1><br><font color=\"blue\">Advance API Concepts.</font></h1></center><br>\n",
    "</div>\n",
    "<div style=\"font-size:16px; border:1px solid black; padding:10px\">\n",
    "    <ul><strong><u></u></strong>\n",
    "        <li>.</li><br>        \n",
    "        <li>.</li><br> \n",
    "        <li>.</li><br>\n",
    "        <li>.</li><br>        \n",
    "        <li>.</li><br>        \n",
    "        <li>.</li><br> \n",
    "        <li>.</li><br>\n",
    "    </ul>\n",
    "</div>"
   ]
  },
  {
   "cell_type": "markdown",
   "id": "4a4afc35",
   "metadata": {},
   "source": [
    "<hr style=\"border-top: 5px solid black;\">"
   ]
  },
  {
   "cell_type": "markdown",
   "id": "90421deb",
   "metadata": {},
   "source": [
    "<div id=\"objective4\" class=\"alert alert-block alert-warning\" style=\"font-size:16px; border:1px solid black; padding:10px\"><center><h1><br><font color=\"blue\">HTTP Status Codes.</font></h1></center><br>\n",
    "</div>\n",
    "<div style=\"font-size:16px; border:1px solid black; padding:10px\">\n",
    "    <ul><strong><u></u></strong>\n",
    "        <li>.</li><br>        \n",
    "        <li>.</li><br> \n",
    "        <li>.</li><br>\n",
    "        <li>.</li><br>        \n",
    "        <li>.</li><br>        \n",
    "        <li>.</li><br> \n",
    "        <li>.</li><br>\n",
    "    </ul>\n",
    "</div>"
   ]
  },
  {
   "cell_type": "markdown",
   "id": "b48e7f8e",
   "metadata": {},
   "source": [
    "<hr style=\"border-top: 5px solid black;\">"
   ]
  },
  {
   "cell_type": "markdown",
   "id": "af476e0b",
   "metadata": {},
   "source": [
    "<div id=\"objective5\" class=\"alert alert-block alert-warning\" style=\"font-size:16px; border:1px solid black; padding:10px\"><center><h1><br><font color=\"blue\">Trouble shooting common API errors.</font></h1></center><br>\n",
    "</div>\n",
    "<div style=\"font-size:16px; border:1px solid black; padding:10px\">\n",
    "    <ul><strong><u></u></strong>\n",
    "        <li>.</li><br>        \n",
    "        <li>.</li><br> \n",
    "        <li>.</li><br>\n",
    "        <li>.</li><br>        \n",
    "        <li>.</li><br>        \n",
    "        <li>.</li><br> \n",
    "        <li>.</li><br>\n",
    "    </ul>\n",
    "</div>"
   ]
  },
  {
   "cell_type": "markdown",
   "id": "1b212567",
   "metadata": {},
   "source": [
    "<hr style=\"border-top: 5px solid black;\">"
   ]
  }
 ],
 "metadata": {
  "kernelspec": {
   "display_name": "Python 3 (ipykernel)",
   "language": "python",
   "name": "python3"
  },
  "language_info": {
   "codemirror_mode": {
    "name": "ipython",
    "version": 3
   },
   "file_extension": ".py",
   "mimetype": "text/x-python",
   "name": "python",
   "nbconvert_exporter": "python",
   "pygments_lexer": "ipython3",
   "version": "3.9.5"
  }
 },
 "nbformat": 4,
 "nbformat_minor": 5
}

{
 "cells": [
  {
   "cell_type": "code",
   "execution_count": 1,
   "id": "a1aabf1f",
   "metadata": {},
   "outputs": [
    {
     "data": {
      "application/javascript": [
       "IPython.OutputArea.prototype._should_scroll = function(lines) {\n",
       "    return false;\n",
       "}\n"
      ],
      "text/plain": [
       "<IPython.core.display.Javascript object>"
      ]
     },
     "metadata": {},
     "output_type": "display_data"
    }
   ],
   "source": [
    "%%javascript\n",
    "IPython.OutputArea.prototype._should_scroll = function(lines) {\n",
    "    return false;\n",
    "}"
   ]
  },
  {
   "cell_type": "code",
   "execution_count": 2,
   "id": "70c83e04",
   "metadata": {},
   "outputs": [
    {
     "data": {
      "text/html": [
       "<style>.container { width:75% !important; }</style>"
      ],
      "text/plain": [
       "<IPython.core.display.HTML object>"
      ]
     },
     "metadata": {},
     "output_type": "display_data"
    }
   ],
   "source": [
    "from IPython.core.display import display, HTML\n",
    "display(HTML(\"<style>.container { width:75% !important; }</style>\"))"
   ]
  },
  {
   "cell_type": "markdown",
   "id": "41547818",
   "metadata": {},
   "source": [
    "<hr style=\"border-top: 5px solid black;\">"
   ]
  },
  {
   "cell_type": "markdown",
   "id": "3b202ef4",
   "metadata": {},
   "source": [
    "<div class=\"alert alert-block alert-info\" style=\"font-size:20px; border:1px solid black; padding:10px\">\n",
    "<center><h1>Post Goals:</h1></center>\n",
    "    <hr style=\"border-top: 2px dashed black;\">\n",
    "    <ul>\n",
    "        <li>Provide a more advance introduction to consuming Application Programming Interface (API) with python.</li><br>\n",
    "    </ul>\n",
    "</div>"
   ]
  },
  {
   "cell_type": "markdown",
   "id": "81bcc928",
   "metadata": {},
   "source": [
    "<hr style=\"border-top: 5px solid black;\">"
   ]
  },
  {
   "cell_type": "markdown",
   "id": "f087c67e",
   "metadata": {},
   "source": [
    "<div class=\"alert alert-block alert-success\" style=\"font-size:20px; border:1px solid black; padding:10px\">\n",
    "<center><h1><br><font color=\"blue\">Post Overview.</font></h1></center>\n",
    "    <ol>\n",
    "        <li><a href=\"#objective1\">Basic overview of application programming interface (API).</a></li><br>\n",
    "        <li><a href=\"#objective2\">Authentication.</a></li><br>\n",
    "        <li><a href=\"#objective3\">Pagination.</a></li><br>\n",
    "        <li><a href=\"#objective4\">Rate Limits.</a></li><br>\n",
    "        <li><a href=\"#objective5\">Practical Example of consuming APIs with Python.</a></li><br>\n",
    "<!--         <li><a href=\"#objective6\">.</a></li><br> -->\n",
    "    </ol>\n",
    "</div>"
   ]
  },
  {
   "cell_type": "markdown",
   "id": "8e6ddb97",
   "metadata": {},
   "source": [
    "<hr style=\"border-top: 5px solid black;\">"
   ]
  },
  {
   "cell_type": "markdown",
   "id": "ed448d58",
   "metadata": {},
   "source": [
    "<div id=\"objective1\" class=\"alert alert-block alert-warning\" style=\"font-size:16px; border:1px solid black; padding:10px\"><center><h1><br><font color=\"blue\">Basic overview of application programming interface (API).</font></h1></center><br>\n",
    "</div>\n",
    "<div style=\"font-size:16px; border:1px solid black; padding:10px\">\n",
    "    <ul><strong><u>What are APIs</u></strong>\n",
    "        <li>Application programming interface (API) is a communication layer that allows different systems to communicate.</li><br>\n",
    "        <li>Researchers often use APIs to get data that would be too large to download as a CSV file, or to give the researcher greater control on what to download, such as by specifying parameters and a timeframe of interest.</li><br>\n",
    "        <li>APIs are ubiquitous, a non research example would include the API calls we make when we scroll through an instagram feed.  The API behind the app responds by returning images and videos that we view on our mobile devices.</li><br>        \n",
    "        <li>APIs come in different flavors:\n",
    "            <ul>\n",
    "                <li><strong>Public APIs:</strong> are open and available for use by any outside developer.  Companies or organizations that provide public APIs are sharing an application and data.  Accessing Public APIs involve moderate authentication and authorization.  In some cases, these APIs are free or have an imposed per-call cost.  Documentaiton will specificy usage and restrictions.</li><br> \n",
    "                <li><strong>Partner APIs:</strong> APIs are only available to speceifically selected and authorized outside developers or API consumers.  These APIs are intended to promote business-to-business activities.  These APIs typically require licenses to access APIs, and stronger authentication, authorziation and security measures.</li><br> \n",
    "                <li><strong>Internal (Private) APIs:</strong> are indended only for use within the business/organizaton/enterprise to connect to systems and data in house.</li><br> \n",
    "                <li><strong>Composite APIs:</strong> Combine two or more APIs to create a sequence of related or interdependent operations.  These APIs address coplex and tightly-related API behaviors that can improve the speed and performance over an individual API.</li>\n",
    "            </ul>\n",
    "            </li>\n",
    "    </ul>\n",
    "    <hr>\n",
    "    <ul><strong><u>API protocols and achitectures</u></strong> \n",
    "        <li>APIs use protocols to exchange commands and data (essentially protocols dictate how APIs work).</li><br>\n",
    "        <li>The rules, structures and contraints are designed by the API architect, and govern an APIs operations.</li><br>\n",
    "        <li><mark>There are four categories of API protocols/architectures</mark>\n",
    "            <ol>\n",
    "                <li><strong>The Representational State Transfer (REST):</strong> The most common approach to building an API.  This method relies on a client/server approach that separates the front and back end of the API.  This method provides flexibility in development and implementation.  REST APIs are considered \"stateless\" and means that the API stores no data or status between requests, but it REST does support storing a response for slow or non-time sensitive APIs, called cacheing.  API Gateways and load balancers are intermediate systems that are sometimes used to communicate directly or operate a REST API.  An API gateway is an API management tool that sits between the client and a collection of backend services.</li><br> \n",
    "                <li><strong>The Remote Procedural Call (RPC):</strong> sends multiple parameters and received a result by invoking executable actions or processes, and uses either JSON (JSON-RPC) or XML (XML-RPC) for coding.  What makes RPC APIs different from REST APIs is that REST APIs mainly exchange data and resources such as documents.</li><br>\n",
    "                <li><strong>The Simple Object Access Protocol (SOAP):</strong> is a web API usually with XML that supports a wide range of of communication protocols (hyper text transfer protocol (HTTP), simple mail transfer protocol (SMTP), and transmission control protocol (TCP).  SOAP is highly structured, tightly controlled and well defined protocols.</li><br>\n",
    "                <li><strong>GraphQL</strong> is a new query language for APIs called GraphQL.  This was created by Facebook to allow clients the flexibility to decide what to fetch from the server. GraphQL is becoming more popular and is used by Github and Shopify, but most public APIs are still REST APIs</li><br>     \n",
    "            </ol>\n",
    "        </li><br>          \n",
    "    </ul>    \n",
    "</div>"
   ]
  },
  {
   "cell_type": "markdown",
   "id": "a629fe44",
   "metadata": {},
   "source": [
    "| REST | SOAP |RPC|\n",
    "| --- | --- | --- |\n",
    "| XML, JSON, HTTP and plain text | XML | JSON, XML, Protobuf, Thrift | \n",
    "| Flexible guidelines based on architecture | Clearly defined rules that are strict | structured | \n",
    "| Simple security | Advanced security | Modest security |\n",
    "| Ideal for data | Ideal for processes and actions | Ideal procedure calling |\n",
    "| Low bandwidth | More bandwidth | Modest bandwidth |\n",
    "| Highly scalable | Limited scalability | Limited scalability|\n",
    "| Public APIs, simple resource driven apps | Payment gateways | Command and action oriented APIs |"
   ]
  },
  {
   "cell_type": "markdown",
   "id": "9eadf6a8",
   "metadata": {},
   "source": [
    "<hr style=\"border-top: 5px solid black;\">"
   ]
  },
  {
   "cell_type": "markdown",
   "id": "f4526ed4",
   "metadata": {},
   "source": [
    "<div id=\"objective2\" class=\"alert alert-block alert-warning\" style=\"font-size:16px; border:1px solid black; padding:10px\"><center><h1><br><font color=\"blue\">Authentication.</font></h1></center><br>\n",
    "</div>\n",
    "<div style=\"font-size:16px; border:1px solid black; padding:10px\">\n",
    "    <ul><strong style=\"font-size:18px;\"><u>The Basics</u></strong>\n",
    "        <li>Although a many public APIs are free and completely public, a large number of APIs only available with some form of authentication.</li><br>\n",
    "        <li>Authentication approaches can vary from simple (using an API key or basic authentication) to more complex (OAuth).</li><br>\n",
    "        <li>If you fail to call an API with incorrect or missing credentials, you will get a <strong>401 Unauthorized or 403 Forbidden status codes</strong>.</li><br>\n",
    "        <li>The following sections will discuss two common authentication procedures, 1) API Keys or 2) OAuth.</li><br>\n",
    "    </ul>\n",
    "    <hr>\n",
    "    <ul><strong style=\"font-size:18px;\"><u>API Keys</u></strong>        \n",
    "        <li>API keys are the most common authentication method.</li><br>\n",
    "        <li>An API key is a unique string of alpha numeric characters that are used to identify you as an API user or customer.</li><br>\n",
    "        <li>An API key is obtained by signing up to for access to the API and it is also used to track your usage.</li><br>\n",
    "        <li>The API key are typically sent as a request header or added to the request by appending the api key in the query parameter.</li><br>\n",
    "        <li>Some APIs provide demo keys to use for testing purposes.</li><br>\n",
    "        <li>NASA has a popular public API that provides generated API keys, <a href=\"https://api.nasa.gov/\">Generate NASA API Key</a>.</li>\n",
    "    </ul>\n",
    "    <hr>\n",
    "    <ul><strong style=\"font-size:18px;\"><u>OAuth</u></strong>        \n",
    "        <li>Oauth is short for Open Authentication and simply, is used to grant websites or applications access to information on other websites without giving the passwords away.</li><br>\n",
    "        <li>This form of authentication has grown in popularity and is used by big tech companies such as Amazon, Google, Facebook, Microsoft and twitter.</li><br>\n",
    "        <li>This method typically works over HTTPS and authorizes devices, APIs, servers, and applications using access tokens rather than credentials.</li><br>\n",
    "        <li>Why is this important and how does this fit into access APIs for data? Well some APIs will allow you to log in using your gmail account, gmail in turn confirms your identity and shared your information with the API account without having to give away your password (credentials) information.  This is key as it makes the whole process of logging into accounts and accessing various APIs, servers etc convenient and safe.</li><br>\n",
    "        <li>You will still need an access token to consume the API using OAuth.  The OAuth is just a step in authenticating you as the API user.</li><br>\n",
    "        <li>The diagrams after the NASA example highlight how authentication would work without and with OAuth.</li><br>        \n",
    "    </ul>    \n",
    "</div>"
   ]
  },
  {
   "cell_type": "markdown",
   "id": "7903d94a",
   "metadata": {},
   "source": [
    "## Make an API request using an API key for Nasa\n",
    "\n",
    " - Confirm API request was received and response is good\n",
    " - Check the content type using <code>response.headers.get('Content-Type')</code>"
   ]
  },
  {
   "cell_type": "code",
   "execution_count": 3,
   "id": "46fe3494",
   "metadata": {},
   "outputs": [
    {
     "name": "stdout",
     "output_type": "stream",
     "text": [
      "<Response [200]> application/json; charset=utf-8\n"
     ]
    }
   ],
   "source": [
    "import requests\n",
    "endpoint = \"https://api.nasa.gov/mars-photos/api/v1/rovers/curiosity/photos\"\n",
    "api_key = \"replace_with_your_NASA_assigned_api_key\"\n",
    "query_params = {\"api_key\": api_key, \"earth_date\": \"2020-07-01\"}\n",
    "response = requests.get(endpoint, params=query_params)\n",
    "content_type = response.headers.get('Content-Type')\n",
    "print(response, content_type)"
   ]
  },
  {
   "cell_type": "markdown",
   "id": "fc2c3b15",
   "metadata": {},
   "source": [
    "## Look at the Response object using .json()\n",
    "\n",
    " - Here we know there is a photos dictionary and we want the first one"
   ]
  },
  {
   "cell_type": "code",
   "execution_count": 4,
   "id": "37442517",
   "metadata": {},
   "outputs": [
    {
     "data": {
      "text/plain": [
       "{'id': 754118,\n",
       " 'sol': 2809,\n",
       " 'camera': {'id': 20,\n",
       "  'name': 'FHAZ',\n",
       "  'rover_id': 5,\n",
       "  'full_name': 'Front Hazard Avoidance Camera'},\n",
       " 'img_src': 'https://mars.nasa.gov/msl-raw-images/proj/msl/redops/ods/surface/sol/02809/opgs/edr/fcam/FLB_646868981EDR_F0810628FHAZ00337M_.JPG',\n",
       " 'earth_date': '2020-07-01',\n",
       " 'rover': {'id': 5,\n",
       "  'name': 'Curiosity',\n",
       "  'landing_date': '2012-08-06',\n",
       "  'launch_date': '2011-11-26',\n",
       "  'status': 'active'}}"
      ]
     },
     "execution_count": 4,
     "metadata": {},
     "output_type": "execute_result"
    }
   ],
   "source": [
    "response.json()['photos'][0]"
   ]
  },
  {
   "cell_type": "markdown",
   "id": "e42148ee",
   "metadata": {},
   "source": [
    "# Display Image obtained from NASA API using API Key\n",
    "\n",
    " - Use IPython library\n",
    " - Extract photo URL from json response object"
   ]
  },
  {
   "cell_type": "code",
   "execution_count": 5,
   "id": "9a8dcdbb",
   "metadata": {},
   "outputs": [
    {
     "data": {
      "text/html": [
       "<img src=\"https://mars.nasa.gov/msl-raw-images/proj/msl/redops/ods/surface/sol/02809/opgs/edr/ncam/NRB_646869070EDR_F0810628NCAM00229M_.JPG\" width=\"500\"/>"
      ],
      "text/plain": [
       "<IPython.core.display.Image object>"
      ]
     },
     "execution_count": 5,
     "metadata": {},
     "output_type": "execute_result"
    }
   ],
   "source": [
    "photo_url = response.json()['photos'][10]['img_src']\n",
    "from IPython.display import Image\n",
    "from IPython.core.display import HTML \n",
    "Image(url= photo_url, width=500)"
   ]
  },
  {
   "cell_type": "markdown",
   "id": "abce41f7",
   "metadata": {},
   "source": [
    "# Diagrams that explain how OAuth operates\n",
    "\n",
    " - Images from wikipedia, see link for details"
   ]
  },
  {
   "cell_type": "code",
   "execution_count": 6,
   "id": "1158616f",
   "metadata": {},
   "outputs": [
    {
     "data": {
      "text/html": [
       "<img src=\"https://upload.wikimedia.org/wikipedia/commons/d/d4/Without-oauth.png\" width=\"750\"/>"
      ],
      "text/plain": [
       "<IPython.core.display.Image object>"
      ]
     },
     "execution_count": 6,
     "metadata": {},
     "output_type": "execute_result"
    }
   ],
   "source": [
    "noOAuth_url = 'https://upload.wikimedia.org/wikipedia/commons/d/d4/Without-oauth.png'\n",
    "Image(url= noOAuth_url, width=750)"
   ]
  },
  {
   "cell_type": "code",
   "execution_count": 7,
   "id": "0c36964b",
   "metadata": {},
   "outputs": [
    {
     "data": {
      "text/html": [
       "<img src=\"https://upload.wikimedia.org/wikipedia/commons/7/72/Abstract-flow.png\" width=\"750\"/>"
      ],
      "text/plain": [
       "<IPython.core.display.Image object>"
      ]
     },
     "execution_count": 7,
     "metadata": {},
     "output_type": "execute_result"
    }
   ],
   "source": [
    "OAuth_url = 'https://upload.wikimedia.org/wikipedia/commons/7/72/Abstract-flow.png'\n",
    "Image(url= OAuth_url, width=750)"
   ]
  },
  {
   "cell_type": "markdown",
   "id": "f5d12b84",
   "metadata": {},
   "source": [
    "##### <hr style=\"border-top: 5px solid black;\">"
   ]
  },
  {
   "cell_type": "markdown",
   "id": "4bba5bd3",
   "metadata": {},
   "source": [
    "<div id=\"objective3\" class=\"alert alert-block alert-warning\" style=\"font-size:16px; border:1px solid black; padding:10px\"><center><h1><br><font color=\"blue\">Pagination.</font></h1></center><br>\n",
    "</div>\n",
    "<div style=\"font-size:16px; border:1px solid black; padding:10px\">\n",
    "    <ul><strong><u></u></strong>\n",
    "        <li>Pagination is a strategy APIs use to save bandwidth and cope with requests.</li><br>        \n",
    "        <li>Pagination splits large amounts of data into multiple smaller pieces that reduces the bandwidth load between sending data back and forth between clients and server.</li><br> \n",
    "        <li>APIs use pagination mainly through two query parameters\n",
    "            <ol>\n",
    "                <li>The <em>Page attribute</em> that defines the page of data you are requesting.</li><br>        \n",
    "                <li>The <em>Size attribute</em> that defines the size of each page.</li><br>\n",
    "            </ol>\n",
    "            </li>\n",
    "        <li>The name of these attributes might vary depending on the API developer, and in a few, the API may use HTTP headers or the JSON response to return the current pagination filters in place.</li><br>        \n",
    "        <li>You may find pagination parameters in the API documentation, but note that not all API developers will have these attributes or have them well documented.</li><br>        \n",
    "        <li>In this Github example, the pagination parameters are at the end of the base url, and the parameter is called \"events\" followed by the filtering sequence <code>response = requests.get(\"https://api.github.com/events?per_page=1&page=1\")</code>.</li><br> \n",
    "    </ul>\n",
    "</div>"
   ]
  },
  {
   "cell_type": "markdown",
   "id": "4a4afc35",
   "metadata": {},
   "source": [
    "<hr style=\"border-top: 5px solid black;\">"
   ]
  },
  {
   "cell_type": "markdown",
   "id": "90421deb",
   "metadata": {},
   "source": [
    "<div id=\"objective4\" class=\"alert alert-block alert-warning\" style=\"font-size:16px; border:1px solid black; padding:10px\"><center><h1><br><font color=\"blue\">Rate Limits.</font></h1></center><br>\n",
    "</div>\n",
    "<div style=\"font-size:16px; border:1px solid black; padding:10px\">\n",
    "    <ul><strong><u>Rate limiting protects API</u></strong>\n",
    "        <li>Since APIs are public facing, API developers need to use methods that will protect the API from overload.</li><br>\n",
    "        <li><strong>Rate limiting</strong> is a technique used to restrict the number of requests that users can make in a given time frame.</li><br>\n",
    "        <li>Some APIs will block a users IP or API key once the rate limit has been reached.</li><br>\n",
    "        <li>Not all APIs have rate limits, so refer to the API documentation for these details, although this will not guarantee that the information will be well described.</li><br>\n",
    "        <li><mark>If there are rate limits, you may see either a 403 of 429 status code</mark>.  A 403 status code means you wont. be able to make any more API calls for the time defined by the API developers, while a 429 status code sometimes means that you need time between your API calls, and you have not been barred from making additional calls.</li><br>\n",
    "    </ul>\n",
    "</div>"
   ]
  },
  {
   "cell_type": "markdown",
   "id": "b48e7f8e",
   "metadata": {},
   "source": [
    "<hr style=\"border-top: 5px solid black;\">"
   ]
  },
  {
   "cell_type": "markdown",
   "id": "af476e0b",
   "metadata": {},
   "source": [
    "<div id=\"objective5\" class=\"alert alert-block alert-warning\" style=\"font-size:16px; border:1px solid black; padding:10px\"><center><h1><br><font color=\"blue\">Practical Example of consuming APIs with Python.</font></h1></center><br>\n",
    "</div>\n",
    "<div style=\"font-size:16px; border:1px solid black; padding:10px\">\n",
    "    <ul><strong><u>Retrieve COVID-19 Confirmed Cases Per County: focus on US</u></strong>\n",
    "        <li>In the following example, I show how to make an easy request for Covid-19 data using the <a href=\"https://covid19api.com/\">Covid19api.com</a>.</li><br>\n",
    "        <li>This app has some free API calls although there are paid tiers that have no rate limits and extended dates.</li><br>\n",
    "        <li>The first step is to import the python libraries including datetime, as you'll need this to indicate the timeframe.</li><br>\n",
    "        <li>The end point uses an f-string so that you can pass in the country query parameter.</li><br>\n",
    "        <li>The other parameters we pass in using the .get() method with the params parameter, this is primarily used to pass in the dates to filter the data.</li><br>\n",
    "        <li>The response returns a set of days and we use a for loop to iterate through each day and add the number of confirmed cases.</li><br>\n",
    "        <li>We finally return the total number of cases between the indicated time frame (which is just 1 day).</li><br>\n",
    "        <li><mark>The endpoint with the query parameters cannot have any spaces, it must be an unbroken string.</mark></li><br>\n",
    "    </ul>\n",
    "</div>"
   ]
  },
  {
   "cell_type": "code",
   "execution_count": 8,
   "id": "ca7fc560",
   "metadata": {},
   "outputs": [
    {
     "name": "stdout",
     "output_type": "stream",
     "text": [
      "Total Confirmed Covid-19 cases in the US: 106287428\n"
     ]
    }
   ],
   "source": [
    "import requests\n",
    "from datetime import date, timedelta\n",
    "\n",
    "today = date.today()\n",
    "yesterday = today - timedelta(days=1)\n",
    "country = \"us\"\n",
    "endpoint = f\"https://api.covid19api.com/country/{country}/status/confirmed\"\n",
    "params = {\"from\": str(yesterday), \"to\": str(today)}\n",
    "\n",
    "response = requests.get(endpoint, params=params).json()\n",
    "total_confirmed = 0\n",
    "for day in response:\n",
    "    cases = day.get(\"Cases\", 0)\n",
    "    total_confirmed += cases\n",
    "\n",
    "print(f\"Total Confirmed Covid-19 cases in the {country.upper()}: {total_confirmed}\")"
   ]
  },
  {
   "cell_type": "markdown",
   "id": "1b212567",
   "metadata": {},
   "source": [
    "<hr style=\"border-top: 5px solid black;\">"
   ]
  }
 ],
 "metadata": {
  "kernelspec": {
   "display_name": "Python 3 (ipykernel)",
   "language": "python",
   "name": "python3"
  },
  "language_info": {
   "codemirror_mode": {
    "name": "ipython",
    "version": 3
   },
   "file_extension": ".py",
   "mimetype": "text/x-python",
   "name": "python",
   "nbconvert_exporter": "python",
   "pygments_lexer": "ipython3",
   "version": "3.9.5"
  }
 },
 "nbformat": 4,
 "nbformat_minor": 5
}

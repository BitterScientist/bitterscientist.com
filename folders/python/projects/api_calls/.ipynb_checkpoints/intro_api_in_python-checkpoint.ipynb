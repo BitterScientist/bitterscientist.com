{
 "cells": [
  {
   "cell_type": "code",
   "execution_count": 1,
   "id": "f4a1a56f",
   "metadata": {},
   "outputs": [
    {
     "data": {
      "application/javascript": [
       "IPython.OutputArea.prototype._should_scroll = function(lines) {\n",
       "    return false;\n",
       "}\n"
      ],
      "text/plain": [
       "<IPython.core.display.Javascript object>"
      ]
     },
     "metadata": {},
     "output_type": "display_data"
    }
   ],
   "source": [
    "%%javascript\n",
    "IPython.OutputArea.prototype._should_scroll = function(lines) {\n",
    "    return false;\n",
    "}"
   ]
  },
  {
   "cell_type": "code",
   "execution_count": 2,
   "id": "93a7356a",
   "metadata": {},
   "outputs": [
    {
     "data": {
      "text/html": [
       "<style>.container { width:75% !important; }</style>"
      ],
      "text/plain": [
       "<IPython.core.display.HTML object>"
      ]
     },
     "metadata": {},
     "output_type": "display_data"
    }
   ],
   "source": [
    "from IPython.core.display import display, HTML\n",
    "display(HTML(\"<style>.container { width:75% !important; }</style>\"))"
   ]
  },
  {
   "cell_type": "markdown",
   "id": "e6dc6f0c",
   "metadata": {},
   "source": [
    "<hr style=\"border-top: 5px solid black;\">"
   ]
  },
  {
   "cell_type": "markdown",
   "id": "af2b7231",
   "metadata": {},
   "source": [
    "<div class=\"alert alert-block alert-info\" style=\"font-size:20px; border:1px solid black; padding:10px\">\n",
    "<center><h1>Post Goals:</h1></center>\n",
    "    <hr style=\"border-top: 2px dashed black;\">\n",
    "    <ul>\n",
    "        <li>Provide an introduction to Application Programming Interface (API) and how to use python to make API calls.</li><br>\n",
    "    </ul>\n",
    "</div>"
   ]
  },
  {
   "cell_type": "markdown",
   "id": "bf1b3bb9",
   "metadata": {},
   "source": [
    "<hr style=\"border-top: 5px solid black;\">"
   ]
  },
  {
   "cell_type": "markdown",
   "id": "b227737f",
   "metadata": {},
   "source": [
    "<div class=\"alert alert-block alert-success\" style=\"font-size:20px; border:1px solid black; padding:10px\">\n",
    "<center><h1><br><font color=\"blue\">Post Overview.</font></h1></center>\n",
    "    <ol>\n",
    "        <li><a href=\"#objective1\">Introduction to Application programming interface (API).</a></li><br>\n",
    "        <li><a href=\"#objective2\">How to make an API Call using Python.</a></li><br>\n",
    "        <li><a href=\"#objective3\">HTTP Methods and Query Parameters.</a></li><br>\n",
    "        <li><a href=\"#objective4\">HTTP Status Codes.</a></li><br>\n",
    "        <li><a href=\"#objective5\">Trouble shooting common API errors.</a></li><br>\n",
    "<!--         <li><a href=\"#objective6\">.</a></li><br> -->\n",
    "    </ol>\n",
    "</div>"
   ]
  },
  {
   "cell_type": "markdown",
   "id": "d824a8c8",
   "metadata": {},
   "source": [
    "<hr style=\"border-top: 5px solid black;\">"
   ]
  },
  {
   "cell_type": "markdown",
   "id": "d5def35a",
   "metadata": {},
   "source": [
    "<div id=\"objective1\" class=\"alert alert-block alert-warning\" style=\"font-size:16px; border:1px solid black; padding:10px\"><center><h1><br><font color=\"blue\">Introduction to Application programming interface (API).</font></h1></center><br>\n",
    "</div>\n",
    "<div style=\"font-size:16px; border:1px solid black; padding:10px\">\n",
    "    <ul><strong><u>What are APIs</u></strong>\n",
    "        <li>Application programming interface (API) is a communication layer that allows different systems to communicate.</li><br>\n",
    "        <li>Researchers often use APIs to get data that would be too large to download as a CSV file, or to give the researcher greater control on what to download, such as by specifying parameters and a timeframe of interest.</li><br>\n",
    "        <li>APIs are ubiquitous, a non research example would include the API calls we make when we scroll through an instagram feed.  The API behind the app responds by returning images and videos that we view on our mobile devices.</li><br>        \n",
    "        <li>APIs come in different flavors:\n",
    "            <ul>\n",
    "                <li><strong>Public APIs:</strong> are open and available for use by any outside developer.  Companies or organizations that provide public APIs are sharing an application and data.  Accessing Public APIs involve moderate authentication and authorization.  In some cases, these APIs are free or have an imposed per-call cost.  Documentaiton will specificy usage and restrictions.</li><br> \n",
    "                <li><strong>Partner APIs:</strong> APIs are only available to speceifically selected and authorized outside developers or API consumers.  These APIs are intended to promote business-to-business activities.  These APIs typically require licenses to access APIs, and stronger authentication, authorziation and security measures.</li><br> \n",
    "                <li><strong>Internal (Private) APIs:</strong> are indended only for use within the business/organizaton/enterprise to connect to systems and data in house.</li><br> \n",
    "                <li><strong>Composite APIs:</strong> Combine two or more APIs to create a sequence of related or interdependent operations.  These APIs address coplex and tightly-related API behaviors that can improve the speed and performance over an individual API.</li>\n",
    "            </ul>\n",
    "            </li>\n",
    "    </ul>\n",
    "    <hr>\n",
    "    <ul><strong><u>API protocols and achitectures</u></strong> \n",
    "        <li>APIs use protocols to exchange commands and data (essentially protocols dictate how APIs work).</li><br>\n",
    "        <li>The rules, structures and contraints are designed by the API architect, and govern an APIs operations.</li><br>\n",
    "        <li>There are three categories of API protocols/architectures\n",
    "            <ul>\n",
    "                <li><strong>The Representational State Transfer (REST):</strong> The most common approach to building an API.  This method relies on a client/server approach that separates the front and back end of the API.  This method provides flexibility in development and implementation.  REST APIs are considered \"stateless\" and means that the API stores no data or status between requests, but it REST does support storing a response for slow or non-time sensitive APIs, called cacheing.  API Gateways and load balancers are intermediate systems that are sometimes used to communicate directly or operate a REST API.  An API gateway is an API management tool that sits between the client and a collection of backend services.</li><br> \n",
    "                <li><strong>The Remote Procedural Call (RPC):</strong> sends multiple parameters and received a result by invoking executable actions or processes, and uses either JSON (JSON-RPC) or XML (XML-RPC) for coding.  What makes RPC APIs different from REST APIs is that REST APIs mainly exchange data and resources such as documents.</li><br>\n",
    "                <li><strong>The Simple Object Access Protocol (SOAP):</strong> is a web API usually with XML that supports a wide range of of communication protocols (hyper text transfer protocol (HTTP), simple mail transfer protocol (SMTP), and transmission control protocol (TCP).  SOAP is highly structured, tightly controlled and well defined protocols.</li><br>\n",
    "            </ul>\n",
    "            </li><br>        \n",
    "        <li>The choice of API protocol/format depends on the security level, the complexity of the information that must be exchanged, and the speed and performance for that exchange.</li><br>\n",
    "        <li>A simple format might be easier to maintain but may not offer the type of encryption needed for secure exchanges that an enterprise may want to adopt later.</li><br>\n",
    "        <li>A more complex format may provide greater security but creates a higher learning curve for adopters, more effort in debugging and increased work for developers working with the API.</li><br>\n",
    "            <hr>\n",
    "        <li><strong>REST vs SOAP (more information in table below)</strong>:\n",
    "            <ul>\n",
    "                <li>Both exchange information.</li><br>\n",
    "                <li>SOAP is used when tight security, and clearly defined rules and complex data exchange are needed.</li><br>\n",
    "                <li>SOAP is also used for internal or partner APIs.</li><br>\n",
    "                <li>SOAP is designed around actions.</li><br>\n",
    "                <li>REST is used for fast exchange of simple data.</li><br>\n",
    "                <li>REST is ideal for fetching data.</li><br>                \n",
    "                <li>REST is much lighter than SOAP and closer to HTTP specification than SOAP.</li><br>\n",
    "                <li>REST is used to support larger active user base and when there is a need for greater scalability.</li><br>\n",
    "                <li>REST is popular for public APIs.</li><br>                \n",
    "            </ul>\n",
    "        </li><br>\n",
    "            <hr>\n",
    "        <li><strong>SOAP vs RPC</strong>:\n",
    "            <ul>\n",
    "                <li>Both highly structured.</li><br>\n",
    "                <li>SOAP works with XML.</li><br>\n",
    "                <li>RPC works with XML and JSON.</li><br>\n",
    "                <li>RPC XML vs JSON depends on API purpose.</li><br>\n",
    "                <li>RPC JSON is simpler language and only supports alphanumeric data with minimal security.</li><br>\n",
    "                <li>RPC XML offers greater range of data processing, includes text, images, charts, graphs.</li><br>\n",
    "                <li>JSON-RPC APIs can make calls without waiting for a response and can support multiple calls asynchronously.</li><br>\n",
    "            </ul>\n",
    "        </li><br>\n",
    "            <hr>\n",
    "        <strong>GraphQL</strong><br>\n",
    "        <li>There is a new query language for APIs called GraphQL.  This was created by Facebook to allow clients the flexibility to decide what to fetch from the server.</li><br>\n",
    "        <li>GraphQL is becoming more popular and is used by Github and Shopify, but most public APIs are REST APIs</li><br>          \n",
    "    </ul>    \n",
    "</div>"
   ]
  },
  {
   "cell_type": "markdown",
   "id": "1e197918",
   "metadata": {},
   "source": [
    "| REST | SOAP |RPC|\n",
    "| --- | --- | --- |\n",
    "| XML, JSON, HTTP and plain text | XML | JSON, XML, Protobuf, Thrift | \n",
    "| Flexible guidelines based on architecture | Clearly defined rules that are strict | structured | \n",
    "| Simple security | Advanced security | modest security |\n",
    "| Ideal for data | Ideal for processes and actions | Ideal procedure calling |\n",
    "| Low bandwidth | More bandwidth | modest bandwidth |\n",
    "| Highly scalable | Limited scalability | Limited scalability|\n",
    "| Public APIs, simple resource driven apps | Payment gateways | Command and action oriented APIs |"
   ]
  },
  {
   "cell_type": "markdown",
   "id": "72c2b362",
   "metadata": {},
   "source": [
    "<hr style=\"border-top: 5px solid black;\">"
   ]
  },
  {
   "cell_type": "markdown",
   "id": "f874f47a",
   "metadata": {},
   "source": [
    "<div id=\"objective2\" class=\"alert alert-block alert-warning\" style=\"font-size:16px; border:1px solid black; padding:10px\"><center><h1><br><font color=\"blue\">How to make an API Call using Python.</font></h1></center><br>\n",
    "</div>\n",
    "<div style=\"font-size:16px; border:1px solid black; padding:10px\">\n",
    "    <ul><strong style=\"font-size:18px;\"><u>The Basics</u></strong>\n",
    "        <li>Before attempting to access and API, please refer to the documentation which will provide the information on what credentials you may need to activate your API and the content you can retrive from the API.</li><br>         \n",
    "        <li>The <code>requests</code> library is used to consume APIs in python.</li><br>\n",
    "        <li>To install, run <code>python -m pip install requests</code> in the command console.</li><br> \n",
    "        <li>Every API call involves a request and a response:\n",
    "            <ul>\n",
    "                <li><strong>Request:</strong> contains the relevant data that will be used when making the API call and includes the base URL, the end point, the method, the headers, and so on.</li><br>\n",
    "                <li><strong>Response:</strong> contains the relevant data that will be returned. by the server and includes the content, data, status code, and the headers.</li><br>\n",
    "            </ul>\n",
    "        </li><br>  \n",
    "        <hr>\n",
    "        <strong style=\"font-size:18px;\">Request in detail</strong>\n",
    "        <li>Every API call has an endpoint that specifies the resources (data/content) you want returned.</li><br>                \n",
    "        <li><strong>Base URL:</strong> is similar to any URL that is used for browsing websites but sometimes contains <code>https://api...</code> in the URL and instead of returning a webpage will return content that is specified in the endpoint (url).</li><br>\n",
    "        <li>Unlike web broswer URLs, API base URLs may have an authentication step that will return an error or ask for credential if not provided.</li><br>        \n",
    "        <li>Most APIs have base URLs that can be customized so that you specify the content you want returned. This is what is referred to as the endpoint part of the URL and specifies the resources you want fetched.</li><br>\n",
    "        <li>Not all APIs have good documentation, but do what you can to get API reference information that helps you understand what endpoints are available (what content you can fetch).</li><br>\n",
    "        <li>Good APIs have not only documentation but also test code you can use to quickly make a request and fetch data.</li><br>\n",
    "        <li>The base URL can start with either <code>http://</code> or <code>https://</code>, the latter is encrypted and makes traffice between the client and server safer to use..</li><br>\n",
    "        <hr>\n",
    "        <strong style=\"font-size:18px;\">Response in detail</strong>\n",
    "        <li>Recall, a response contains the relevant data that will be returned. by the server and includes the content, data, status code, and the headers.</li><br>\n",
    "        <li>The python <code>request</code> library is useful in not only making the request, but returning the response and responde details.</li><br>\n",
    "        <hr>\n",
    "        <strong style=\"font-size:16px;\">Status Codes</strong><br>\n",
    "        <li><strong>Status codes:</strong> are one of the most important pieces of information in an API response, as it tells you if your request was successful or is an issue arose.  Details on status codes are provided in a section below.<strong><code>request</code></strong>.</li><br>\n",
    "        <li>The status code can be obtained by using either <code>.status_code</code> and <code>.reason</code>.</li><br>\n",
    "        <hr>\n",
    "        <strong style=\"font-size:16px;\">HTTP Headers</strong><br>        \n",
    "        <li><strong>HTTP Headers:</strong> are used to define parameters that govern the request and response and includes but is not limited the following:\n",
    "       <ul>\n",
    "           <li>HTTP Header <strong>Accept</strong> indicates what type of content the client can accept.</li><br>\n",
    "           <li>HTTP Header <strong>Content-Type</strong> indicates what type of content the server can respond.</li><br>\n",
    "           <li>HTTP Header <strong>User-Agent</strong> indicates what software the client is using to communicate with the server.</li><br>\n",
    "           <li>HTTP Header <strong>Server</strong> indicates what software the server is using to to communicate with the client.</li><br>\n",
    "           <li>HTTP Header <strong>Authentication</strong> indicates who is callling the API and what credential are provided.</li><br>\n",
    "        </ul>\n",
    "        </li><br>\n",
    "        <li>The <code>.headers</code> method on the request can be used to return the header attribute details.</li><br>\n",
    "        <li>Some APIs use cutom headers that send or request additiona custom information from clients.</li><br>\n",
    "        <hr>\n",
    "        <strong style=\"font-size:16px;\">Content-Type</strong><br>         \n",
    "        <li>Python Requests has a method to check the content type that is returned in the response. This is important so you know how ot handle the response and what to do with the content.</li><br> \n",
    "        <li>Most APIs use JSON by default, but <code>.headers.get(\"Content-Type\")</code> will indiciate the content type.</li><br>\n",
    "        <li>The content type returned can range from text, audio, image, video, etc.</li><br>\n",
    "        <strong style=\"font-size:16px;\">Response Content</strong><br>         \n",
    "        <li>The request package also contains a few attributes that can be used to manipulate the response data.</li><br> \n",
    "        <li>The <code>.text</code> attribute returns the response content in unicode format. You use this for only text data.</li><br>\n",
    "        <li>The <code>.content</code> attribute returns the response content in bytes. You can use this for data types like images and those that are nontextual.</li><br> \n",
    "        <li>The <code>.json()</code> method is useful if the content-type is 'application/json' that converts the API bytes response into a python data structure.</li><br> \n",
    "    </ul>\n",
    "</div>"
   ]
  },
  {
   "cell_type": "markdown",
   "id": "98cee522",
   "metadata": {},
   "source": [
    "# Status Codes\n",
    "\n",
    " - Following examples use <a href=\"https://docs.thedogapi.com/api-reference/breeds/breeds-list\">thedogapi</a>\n",
    " - Basic base URL and status codes\n",
    " - A 200 status code means the request was successful "
   ]
  },
  {
   "cell_type": "code",
   "execution_count": 41,
   "id": "81d902d4",
   "metadata": {},
   "outputs": [
    {
     "name": "stdout",
     "output_type": "stream",
     "text": [
      "The response code can be obtained by printing the response object<Response [200]>\n",
      ".status_code attribute returns the status code: 200\n",
      ".reason returns the reason code: OK\n"
     ]
    }
   ],
   "source": [
    "import requests\n",
    "baseurl = \"https://api.thedogapi.com/\" # the url here is the endpoint\n",
    "response = requests.get(baseurl)\n",
    "status_code = response.status_code\n",
    "reason = response.reason\n",
    "print(f'The response code can be obtained by printing the response object{response}\\n.status_code attribute returns the status code: {status_code}\\n.reason returns the reason code: {reason}')"
   ]
  },
  {
   "cell_type": "markdown",
   "id": "2c357019",
   "metadata": {},
   "source": [
    "# Content-type using Dictionary Method"
   ]
  },
  {
   "cell_type": "code",
   "execution_count": 45,
   "id": "e201fd06",
   "metadata": {},
   "outputs": [
    {
     "name": "stdout",
     "output_type": "stream",
     "text": [
      "The content type: application/json; charset=utf-8\n"
     ]
    }
   ],
   "source": [
    "content_type = response.headers['Content-Type']\n",
    "print(f'The content type: {content_type}')"
   ]
  },
  {
   "cell_type": "markdown",
   "id": "d4ba763b",
   "metadata": {},
   "source": [
    "# Content-type using .headers.get('Content-Type') Method\n",
    " \n",
    " - This is preferred method"
   ]
  },
  {
   "cell_type": "code",
   "execution_count": 47,
   "id": "2502720a",
   "metadata": {},
   "outputs": [
    {
     "name": "stdout",
     "output_type": "stream",
     "text": [
      "The content type: application/json; charset=utf-8\n"
     ]
    }
   ],
   "source": [
    "content_type = response.headers.get('Content-Type')\n",
    "print(f'The content type: {content_type}')"
   ]
  },
  {
   "cell_type": "markdown",
   "id": "b3fdfd94",
   "metadata": {},
   "source": [
    "# Content"
   ]
  },
  {
   "cell_type": "code",
   "execution_count": 46,
   "id": "29bc0d58",
   "metadata": {},
   "outputs": [
    {
     "name": "stdout",
     "output_type": "stream",
     "text": [
      "The endpoint content: b'{\"message\":\"The Dog API\"}'\n"
     ]
    }
   ],
   "source": [
    "content = response.content\n",
    "print(f'The endpoint content: {content}')"
   ]
  },
  {
   "cell_type": "markdown",
   "id": "6cd088c0",
   "metadata": {},
   "source": [
    "# Get request information \n",
    "\n",
    " - <code>response.request</code>: creates a request object\n",
    " - <code>response.request.url</code>: returns the url\n",
    " - <code>response.request.path_url</code>: returns the path url\n",
    " - <code>response.request.method</code>: returns the method\n",
    " - <code>response.request.headers</code>: returns the header"
   ]
  },
  {
   "cell_type": "code",
   "execution_count": 39,
   "id": "8c34cda2",
   "metadata": {},
   "outputs": [
    {
     "name": "stdout",
     "output_type": "stream",
     "text": [
      "<b>.url</b> Returns the url:https://api.thedogapi.com/v1/breeds/1\n",
      "\n",
      ".path_url Returns the path: /v1/breeds/1\n",
      "\n",
      ".method Returns the method used: GET\n",
      "\n",
      ".header Returns the header details: {'User-Agent': 'python-requests/2.25.1', 'Accept-Encoding': 'gzip, deflate', 'Accept': '*/*', 'Connection': 'keep-alive'}\n"
     ]
    }
   ],
   "source": [
    "request = response.request\n",
    "print(f'''.url Returns the url:{request.url}\\n\n",
    ".path_url Returns the path: {request.path_url}\\n\n",
    ".method Returns the method used: {request.method}\\n\n",
    ".header Returns the header details: {request.headers}''')"
   ]
  },
  {
   "cell_type": "markdown",
   "id": "0ba19a42",
   "metadata": {},
   "source": [
    "# .Json()\n",
    "\n",
    " - Only if the content-type is \"application/json\"\n",
    " - Converts returned data to python json object\n",
    " - json has dictionary structure"
   ]
  },
  {
   "cell_type": "code",
   "execution_count": 50,
   "id": "41d681e6",
   "metadata": {},
   "outputs": [
    {
     "data": {
      "text/plain": [
       "{'weight': {'imperial': '50 - 60', 'metric': '23 - 27'},\n",
       " 'height': {'imperial': '25 - 27', 'metric': '64 - 69'},\n",
       " 'id': 2,\n",
       " 'name': 'Afghan Hound',\n",
       " 'country_code': 'AG',\n",
       " 'bred_for': 'Coursing and hunting',\n",
       " 'breed_group': 'Hound',\n",
       " 'life_span': '10 - 13 years',\n",
       " 'temperament': 'Aloof, Clownish, Dignified, Independent, Happy',\n",
       " 'origin': 'Afghanistan, Iran, Pakistan',\n",
       " 'reference_image_id': 'hMyT4CDXR'}"
      ]
     },
     "execution_count": 50,
     "metadata": {},
     "output_type": "execute_result"
    }
   ],
   "source": [
    "response = requests.get(\"https://api.thedogapi.com/v1/breeds/2\")\n",
    "response.json()"
   ]
  },
  {
   "cell_type": "markdown",
   "id": "f7db2354",
   "metadata": {},
   "source": [
    "<hr style=\"border-top: 5px solid black;\">"
   ]
  },
  {
   "cell_type": "markdown",
   "id": "f58ba483",
   "metadata": {},
   "source": [
    "<div id=\"objective3\" class=\"alert alert-block alert-warning\" style=\"font-size:16px; border:1px solid black; padding:10px\"><center><h1><br><font color=\"blue\">HTTP Methods and Query Parameters.</font></h1></center><br>\n",
    "</div>\n",
    "<div style=\"font-size:16px; border:1px solid black; padding:10px\">\n",
    "    <ul><strong><u>HTTP Methods</u></strong>\n",
    "        <li>Methods are verbs that are used to specify actions you want to execute when making an API call.</li><br>\n",
    "        <li>The four common verbs (methods) include:\n",
    "            <ul>\n",
    "                <li><strong>GET:</strong> reads an existing resource and uses <code>requests.get()</code> method. This is the most common method when consuming data via an API.</li><br>   \n",
    "                <li><strong>POST:</strong> creates a new resource and uses the <code>requests.post()</code> method.</li><br>\n",
    "                <li><strong>PUT:</strong> updates an existing resource using the <code>requests.put()</code> method.</li><br>        \n",
    "                <li><strong>DELETE:</strong> removes an existing resource using the <code>requests.delete()</code> method.</li><br> \n",
    "            </ul>\n",
    "        </li><br> \n",
    "        <li>These four methods are referred to as the <strong>CRUD operations</strong> that allows you to <strong>create, read, update, delete</strong> resources.</li><br>\n",
    "        <li>There is a patch method that makes partial modification but its less common.</li><br>        \n",
    "        <li>Not all endpoints allow you to perform POST, PUT, or DELETE.</li><br>        \n",
    "    </ul>\n",
    "    <hr>\n",
    "    <ul><strong><u>Query Parameters</u></strong>\n",
    "        <li>Query parameters are additional lines of code added to the endpoint that filters the data that is returned in the response.</li><br>\n",
    "        <li>Query parameters typically come after the base URL and endpoints and are followed by a ($?$), and then the first query parameter follows.</li><br>\n",
    "        <li>If there are multiple query parameter in the request, $\\&$ is used to split the query parameters </li><br>\n",
    "        <li>Query parameters are critical when you want your API request to narrow down the response.</li><br>\n",
    "        <li>Query parameters can be provided in the .get() method as illustrated in the next example using a <a href=\"https://randomuser.me/\">random user generated API</a>.</li><br>\n",
    "    </ul>    \n",
    "</div>"
   ]
  },
  {
   "cell_type": "markdown",
   "id": "ef27d76d",
   "metadata": {},
   "source": [
    "# Query parameter in the url\n",
    "\n",
    " - This method also include multiple query parameters using the <code>$?gender=female&nat=de$</code>\n",
    " - Note there are two query parameters\n",
    " - An equal sign is used to indicate what to filter\n",
    " - Note there are no spaces"
   ]
  },
  {
   "cell_type": "code",
   "execution_count": 51,
   "id": "0c0410d6",
   "metadata": {},
   "outputs": [
    {
     "data": {
      "text/plain": [
       "{'results': [{'gender': 'female',\n",
       "   'name': {'title': 'Miss', 'first': 'Resi', 'last': 'Kröger'},\n",
       "   'location': {'street': {'number': 196, 'name': 'Bachstraße'},\n",
       "    'city': 'Schopfheim',\n",
       "    'state': 'Sachsen',\n",
       "    'country': 'Germany',\n",
       "    'postcode': 79566,\n",
       "    'coordinates': {'latitude': '25.7756', 'longitude': '112.7716'},\n",
       "    'timezone': {'offset': '-6:00',\n",
       "     'description': 'Central Time (US & Canada), Mexico City'}},\n",
       "   'email': 'resi.kroger@example.com',\n",
       "   'login': {'uuid': '74300ccc-1f53-4251-bb95-8652559974cb',\n",
       "    'username': 'organicgoose568',\n",
       "    'password': 'pierce',\n",
       "    'salt': 'h7xokvgU',\n",
       "    'md5': '91d66213045a2b13775e91f05b52b0ab',\n",
       "    'sha1': '4768433547f829990c64d5f340643b9315853e18',\n",
       "    'sha256': '70be3bbc37fc2aa9f837cbaf5fbc4537c4fa66e1423430e0dc2359b6e4154983'},\n",
       "   'dob': {'date': '1965-03-11T08:11:26.970Z', 'age': 56},\n",
       "   'registered': {'date': '2008-07-08T00:52:39.094Z', 'age': 13},\n",
       "   'phone': '0335-6427634',\n",
       "   'cell': '0178-7005406',\n",
       "   'id': {'name': '', 'value': None},\n",
       "   'picture': {'large': 'https://randomuser.me/api/portraits/women/15.jpg',\n",
       "    'medium': 'https://randomuser.me/api/portraits/med/women/15.jpg',\n",
       "    'thumbnail': 'https://randomuser.me/api/portraits/thumb/women/15.jpg'},\n",
       "   'nat': 'DE'}],\n",
       " 'info': {'seed': '63ff0a36fdd7e96e',\n",
       "  'results': 1,\n",
       "  'page': 1,\n",
       "  'version': '1.3'}}"
      ]
     },
     "execution_count": 51,
     "metadata": {},
     "output_type": "execute_result"
    }
   ],
   "source": [
    "requests.get(\"https://randomuser.me/api/?gender=female&nat=de\").json()"
   ]
  },
  {
   "cell_type": "markdown",
   "id": "82b06153",
   "metadata": {},
   "source": [
    "# Query parameters inside the .get() method using the params function"
   ]
  },
  {
   "cell_type": "code",
   "execution_count": 52,
   "id": "6c4b7887",
   "metadata": {},
   "outputs": [
    {
     "data": {
      "text/plain": [
       "{'results': [{'gender': 'female',\n",
       "   'name': {'title': 'Miss', 'first': 'Delia', 'last': 'Langner'},\n",
       "   'location': {'street': {'number': 3767, 'name': 'Kirchweg'},\n",
       "    'city': 'Freiburg im Breisgau',\n",
       "    'state': 'Niedersachsen',\n",
       "    'country': 'Germany',\n",
       "    'postcode': 74153,\n",
       "    'coordinates': {'latitude': '-16.7628', 'longitude': '-103.8983'},\n",
       "    'timezone': {'offset': '-3:30', 'description': 'Newfoundland'}},\n",
       "   'email': 'delia.langner@example.com',\n",
       "   'login': {'uuid': '8146848b-2291-4371-9338-982c87c43338',\n",
       "    'username': 'brownlion619',\n",
       "    'password': 'capone',\n",
       "    'salt': 'jjJfmCgh',\n",
       "    'md5': '0a959782615278d44459d7684b64349b',\n",
       "    'sha1': '90e8916384150db0b132872ca1401b07682c7871',\n",
       "    'sha256': '377771e280a3ed474ce78e114c7961e456be242e331f97dca48d97911f7a9b37'},\n",
       "   'dob': {'date': '1972-06-14T12:16:46.967Z', 'age': 49},\n",
       "   'registered': {'date': '2004-11-13T08:46:21.356Z', 'age': 17},\n",
       "   'phone': '0547-3212591',\n",
       "   'cell': '0175-0412824',\n",
       "   'id': {'name': '', 'value': None},\n",
       "   'picture': {'large': 'https://randomuser.me/api/portraits/women/78.jpg',\n",
       "    'medium': 'https://randomuser.me/api/portraits/med/women/78.jpg',\n",
       "    'thumbnail': 'https://randomuser.me/api/portraits/thumb/women/78.jpg'},\n",
       "   'nat': 'DE'}],\n",
       " 'info': {'seed': 'cbeae307bb76aa8f',\n",
       "  'results': 1,\n",
       "  'page': 1,\n",
       "  'version': '1.3'}}"
      ]
     },
     "execution_count": 52,
     "metadata": {},
     "output_type": "execute_result"
    }
   ],
   "source": [
    "query_params = {\"gender\": \"female\", \"nat\": \"de\"}\n",
    "requests.get(\"https://randomuser.me/api/\", params=query_params).json()"
   ]
  },
  {
   "cell_type": "markdown",
   "id": "f701ecdf",
   "metadata": {},
   "source": [
    "<hr style=\"border-top: 5px solid black;\">"
   ]
  },
  {
   "cell_type": "markdown",
   "id": "4b224393",
   "metadata": {},
   "source": [
    "<div id=\"objective4\" class=\"alert alert-block alert-warning\" style=\"font-size:16px; border:1px solid black; padding:10px\"><center><h1><br><font color=\"blue\">HTTP Status Codes.</font></h1></center><br>\n",
    "</div>\n",
    "<div style=\"font-size:16px; border:1px solid black; padding:10px\">\n",
    "    <ul><strong><u>Common Status Codes</u></strong>\n",
    "        <li><strong><u>200 Status Code:</u></strong> this code means the REST API successfully carried out actions the client requested and A a response body should be included although the information returned depends on the method used in the request.</li><br>\n",
    "        <li><strong><u>302 Code:</u></strong> is part of the 300 series which are redirection messages.  The 302 code means the URL of the requested resource has changed temporarily.</li><br> \n",
    "        <li><strong><u>400, 401, 403, 404, 408, 410, 429 Status Codes:</u></strong> the 400 series refer to client error responses.<br>\n",
    "            The 400 status code indicates bad request and the server could not understand the reques due to invalid syntax.  <br>\n",
    "            The 401 status code indicates unauthorized, which means the client must authenticate iteself to get the requested response. You may need to make sure you have some token or authorization string added to your endpoint.<br>  \n",
    "            The 403 status code indicates the request is forbidden, and indicates the client's identify is recognized but the client does not have access rights to the content.<br>\n",
    "            The 404 status code indicates the resource is Not Found, and the server cannot find the requested resource.  The endpoint may be valid but the resource does not exist.<br>\n",
    "            The 408 status code indicates the request is timeout and that the response is sent on an idle connection by some server.<br>\n",
    "        The 410 status code indicates the requested content has been permanently deleted fromt he server with no forwarding address.<br>\n",
    "        The 429 status code indicates the user sent out too many. reqeusts in a given amount of time (\"rate limiting\") you may need to add a pause time between requests.\n",
    "        </li><br>\n",
    "        <li><strong><u>500, 502, 503, 505 Status Codes:</u></strong>.\n",
    "        The 500 status (internal server error) indicates the server encountered a situation it does not know how to handle.<br>\n",
    "        The 502 status (Bad Gateway) indicates the server while working as a gateway to get a response needed to handle the request but got an invalid response.<br>        \n",
    "        The 503 status (Service Unavailable) indicates the server is not ready to handle the request, and the common issue is that the server is down for maintenance or is overloaded.<br>\n",
    "        The 505 status (HTTP Version Not Supported) indicates the HTTP version used is not supported by the server.<br>            \n",
    "        </li><br>\n",
    "    </ul>\n",
    "</div>"
   ]
  },
  {
   "cell_type": "markdown",
   "id": "e738784c",
   "metadata": {},
   "source": [
    "<hr style=\"border-top: 5px solid black;\">"
   ]
  },
  {
   "cell_type": "markdown",
   "id": "0120509c",
   "metadata": {},
   "source": [
    "<div id=\"objective5\" class=\"alert alert-block alert-warning\" style=\"font-size:16px; border:1px solid black; padding:10px\"><center><h1><br><font color=\"blue\">Trouble shooting common API errors.</font></h1></center><br>\n",
    "</div>\n",
    "<div style=\"font-size:16px; border:1px solid black; padding:10px\">\n",
    "    <ul><strong><u></u></strong>\n",
    "        <li><strong>Using http:// instead of https://</strong>: Some APIs support both formats, and if you get a 302 stats code, try adding an 's' if its missing.</li><br>        \n",
    "        <li><strong>Using the wrong HTTP method</strong>: occurs when an incorrect method is used in the API call, check documenttion, its possible the methods have been updated.</li><br> \n",
    "        <li><strong>Sending invalid authorization credentials</strong>: commonly occurs when issues the basic authentication syntax is incorrect, such as not encoding the username and passowrd, forgetting the colon between them, etc.</li><br>\n",
    "        <li><strong>Not specifying Content-Type or Accept header</strong>: occurs when an API explicitly requires header values. Check the documentation if you receive a 403 status code.</li><br>        \n",
    "        <li><strong>APIs returning invalid content type when there is an error</strong>: </li><br>        \n",
    "        <li><strong>429 Too many requests</strong>: this occurs when you are making too many API calls too often and is common for public and 3rd party APIs that have some form of rate-limiting steps.  This is to limit how many requests a user can make over a period of time and this protects the API provider from having a user making too many calls and taking up too many resources.  Too many requests can cause the API to slowdown or even crash for all users.  One way around this is to include a retry-after header, indciating the date or time in seconds when the user can retry the request.</li><br> \n",
    "    </ul>\n",
    "</div>"
   ]
  },
  {
   "cell_type": "markdown",
   "id": "df89c38b",
   "metadata": {},
   "source": [
    "<hr style=\"border-top: 5px solid black;\">"
   ]
  }
 ],
 "metadata": {
  "kernelspec": {
   "display_name": "Python 3 (ipykernel)",
   "language": "python",
   "name": "python3"
  },
  "language_info": {
   "codemirror_mode": {
    "name": "ipython",
    "version": 3
   },
   "file_extension": ".py",
   "mimetype": "text/x-python",
   "name": "python",
   "nbconvert_exporter": "python",
   "pygments_lexer": "ipython3",
   "version": "3.9.5"
  }
 },
 "nbformat": 4,
 "nbformat_minor": 5
}

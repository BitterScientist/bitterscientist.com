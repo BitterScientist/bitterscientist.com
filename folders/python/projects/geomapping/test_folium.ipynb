{
 "cells": [
  {
   "cell_type": "code",
   "execution_count": 11,
   "metadata": {},
   "outputs": [
    {
     "name": "stdout",
     "output_type": "stream",
     "text": [
      "Collecting selenium\n",
      "  Downloading selenium-3.141.0-py2.py3-none-any.whl (904 kB)\n",
      "\u001b[K     |████████████████████████████████| 904 kB 65 kB/s eta 0:00:011\n",
      "\u001b[?25hRequirement already satisfied: urllib3 in /Users/trinitycisneros/Documents/Coding/bitterscientist.com/wenv/lib/python3.7/site-packages (from selenium) (1.25.6)\n",
      "Installing collected packages: selenium\n",
      "Successfully installed selenium-3.141.0\n",
      "\u001b[33mWARNING: You are using pip version 20.0.2; however, version 20.1 is available.\n",
      "You should consider upgrading via the '/Users/trinitycisneros/Documents/Coding/bitterscientist.com/wenv/bin/python3 -m pip install --upgrade pip' command.\u001b[0m\n"
     ]
    }
   ],
   "source": [
    "! pip install selenium"
   ]
  },
  {
   "cell_type": "code",
   "execution_count": 2,
   "metadata": {},
   "outputs": [],
   "source": [
    "# import libraries\n",
    "import folium\n",
    "import pandas as pd"
   ]
  },
  {
   "cell_type": "code",
   "execution_count": 3,
   "metadata": {},
   "outputs": [
    {
     "data": {
      "text/html": [
       "<div>\n",
       "<style scoped>\n",
       "    .dataframe tbody tr th:only-of-type {\n",
       "        vertical-align: middle;\n",
       "    }\n",
       "\n",
       "    .dataframe tbody tr th {\n",
       "        vertical-align: top;\n",
       "    }\n",
       "\n",
       "    .dataframe thead th {\n",
       "        text-align: right;\n",
       "    }\n",
       "</style>\n",
       "<table border=\"1\" class=\"dataframe\">\n",
       "  <thead>\n",
       "    <tr style=\"text-align: right;\">\n",
       "      <th></th>\n",
       "      <th>lat</th>\n",
       "      <th>lon</th>\n",
       "      <th>name</th>\n",
       "    </tr>\n",
       "  </thead>\n",
       "  <tbody>\n",
       "    <tr>\n",
       "      <th>0</th>\n",
       "      <td>-58.00</td>\n",
       "      <td>-34.00</td>\n",
       "      <td>Buenos Aires</td>\n",
       "    </tr>\n",
       "    <tr>\n",
       "      <th>1</th>\n",
       "      <td>2.00</td>\n",
       "      <td>49.00</td>\n",
       "      <td>Paris</td>\n",
       "    </tr>\n",
       "    <tr>\n",
       "      <th>2</th>\n",
       "      <td>145.00</td>\n",
       "      <td>-38.00</td>\n",
       "      <td>melbourne</td>\n",
       "    </tr>\n",
       "    <tr>\n",
       "      <th>3</th>\n",
       "      <td>30.32</td>\n",
       "      <td>59.93</td>\n",
       "      <td>St Petersbourg</td>\n",
       "    </tr>\n",
       "    <tr>\n",
       "      <th>4</th>\n",
       "      <td>-4.03</td>\n",
       "      <td>5.33</td>\n",
       "      <td>Abidjan</td>\n",
       "    </tr>\n",
       "    <tr>\n",
       "      <th>5</th>\n",
       "      <td>-73.57</td>\n",
       "      <td>45.52</td>\n",
       "      <td>Montreal</td>\n",
       "    </tr>\n",
       "    <tr>\n",
       "      <th>6</th>\n",
       "      <td>36.82</td>\n",
       "      <td>-1.29</td>\n",
       "      <td>Nairobi</td>\n",
       "    </tr>\n",
       "    <tr>\n",
       "      <th>7</th>\n",
       "      <td>-38.50</td>\n",
       "      <td>-12.97</td>\n",
       "      <td>Salvador</td>\n",
       "    </tr>\n",
       "  </tbody>\n",
       "</table>\n",
       "</div>"
      ],
      "text/plain": [
       "      lat    lon            name\n",
       "0  -58.00 -34.00    Buenos Aires\n",
       "1    2.00  49.00           Paris\n",
       "2  145.00 -38.00       melbourne\n",
       "3   30.32  59.93  St Petersbourg\n",
       "4   -4.03   5.33         Abidjan\n",
       "5  -73.57  45.52        Montreal\n",
       "6   36.82  -1.29         Nairobi\n",
       "7  -38.50 -12.97        Salvador"
      ]
     },
     "execution_count": 3,
     "metadata": {},
     "output_type": "execute_result"
    }
   ],
   "source": [
    "# Make a data frame with dots to show on the map\n",
    "data = pd.DataFrame({\n",
    "'lat':[-58, 2, 145, 30.32, -4.03, -73.57, 36.82, -38.5],\n",
    "'lon':[-34, 49, -38, 59.93, 5.33, 45.52, -1.29, -12.97],\n",
    "'name':['Buenos Aires', 'Paris', 'melbourne', 'St Petersbourg', 'Abidjan', 'Montreal', 'Nairobi', 'Salvador']\n",
    "})\n",
    "data"
   ]
  },
  {
   "cell_type": "code",
   "execution_count": 12,
   "metadata": {
    "scrolled": true
   },
   "outputs": [
    {
     "data": {
      "text/html": [
       "<div style=\"width:100%;\"><div style=\"position:relative;width:100%;height:0;padding-bottom:60%;\"><iframe src=\"about:blank\" style=\"position:absolute;width:100%;height:100%;left:0;top:0;border:none !important;\" data-html=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 onload=\"this.contentDocument.open();this.contentDocument.write(atob(this.getAttribute('data-html')));this.contentDocument.close();\" allowfullscreen webkitallowfullscreen mozallowfullscreen></iframe></div></div>"
      ],
      "text/plain": [
       "<folium.folium.Map at 0x11673e0d0>"
      ]
     },
     "execution_count": 12,
     "metadata": {},
     "output_type": "execute_result"
    }
   ],
   "source": [
    "# Make an empty map\n",
    "m = folium.Map(location=[20, 0], tiles=\"OpenStreetMap\", zoom_start=2)\n",
    " \n",
    "# I can add marker one by one on the map\n",
    "for i in range(0,len(data)):\n",
    "    folium.Marker([data.iloc[i]['lon'], data.iloc[i]['lat']], popup=data.iloc[i]['name']).add_to(m)\n",
    "\n",
    "m"
   ]
  },
  {
   "cell_type": "code",
   "execution_count": 13,
   "metadata": {},
   "outputs": [],
   "source": [
    "m.save('map.html')"
   ]
  },
  {
   "cell_type": "code",
   "execution_count": 14,
   "metadata": {},
   "outputs": [
    {
     "name": "stderr",
     "output_type": "stream",
     "text": [
      "/Users/trinitycisneros/Documents/Coding/bitterscientist.com/wenv/lib/python3.7/site-packages/selenium/webdriver/phantomjs/webdriver.py:49: UserWarning: Selenium support for PhantomJS has been deprecated, please use headless versions of Chrome or Firefox instead\n",
      "  warnings.warn('Selenium support for PhantomJS has been deprecated, please use headless '\n"
     ]
    },
    {
     "ename": "WebDriverException",
     "evalue": "Message: 'phantomjs' executable needs to be in PATH. \n",
     "output_type": "error",
     "traceback": [
      "\u001b[0;31m---------------------------------------------------------------------------\u001b[0m",
      "\u001b[0;31mFileNotFoundError\u001b[0m                         Traceback (most recent call last)",
      "\u001b[0;32m~/Documents/Coding/bitterscientist.com/wenv/lib/python3.7/site-packages/selenium/webdriver/common/service.py\u001b[0m in \u001b[0;36mstart\u001b[0;34m(self)\u001b[0m\n\u001b[1;32m     75\u001b[0m                                             \u001b[0mstderr\u001b[0m\u001b[0;34m=\u001b[0m\u001b[0mself\u001b[0m\u001b[0;34m.\u001b[0m\u001b[0mlog_file\u001b[0m\u001b[0;34m,\u001b[0m\u001b[0;34m\u001b[0m\u001b[0;34m\u001b[0m\u001b[0m\n\u001b[0;32m---> 76\u001b[0;31m                                             stdin=PIPE)\n\u001b[0m\u001b[1;32m     77\u001b[0m         \u001b[0;32mexcept\u001b[0m \u001b[0mTypeError\u001b[0m\u001b[0;34m:\u001b[0m\u001b[0;34m\u001b[0m\u001b[0;34m\u001b[0m\u001b[0m\n",
      "\u001b[0;32m/usr/local/Cellar/python/3.7.6/Frameworks/Python.framework/Versions/3.7/lib/python3.7/subprocess.py\u001b[0m in \u001b[0;36m__init__\u001b[0;34m(self, args, bufsize, executable, stdin, stdout, stderr, preexec_fn, close_fds, shell, cwd, env, universal_newlines, startupinfo, creationflags, restore_signals, start_new_session, pass_fds, encoding, errors, text)\u001b[0m\n\u001b[1;32m    799\u001b[0m                                 \u001b[0merrread\u001b[0m\u001b[0;34m,\u001b[0m \u001b[0merrwrite\u001b[0m\u001b[0;34m,\u001b[0m\u001b[0;34m\u001b[0m\u001b[0;34m\u001b[0m\u001b[0m\n\u001b[0;32m--> 800\u001b[0;31m                                 restore_signals, start_new_session)\n\u001b[0m\u001b[1;32m    801\u001b[0m         \u001b[0;32mexcept\u001b[0m\u001b[0;34m:\u001b[0m\u001b[0;34m\u001b[0m\u001b[0;34m\u001b[0m\u001b[0m\n",
      "\u001b[0;32m/usr/local/Cellar/python/3.7.6/Frameworks/Python.framework/Versions/3.7/lib/python3.7/subprocess.py\u001b[0m in \u001b[0;36m_execute_child\u001b[0;34m(self, args, executable, preexec_fn, close_fds, pass_fds, cwd, env, startupinfo, creationflags, shell, p2cread, p2cwrite, c2pread, c2pwrite, errread, errwrite, restore_signals, start_new_session)\u001b[0m\n\u001b[1;32m   1550\u001b[0m                             \u001b[0merr_msg\u001b[0m \u001b[0;34m+=\u001b[0m \u001b[0;34m': '\u001b[0m \u001b[0;34m+\u001b[0m \u001b[0mrepr\u001b[0m\u001b[0;34m(\u001b[0m\u001b[0merr_filename\u001b[0m\u001b[0;34m)\u001b[0m\u001b[0;34m\u001b[0m\u001b[0;34m\u001b[0m\u001b[0m\n\u001b[0;32m-> 1551\u001b[0;31m                     \u001b[0;32mraise\u001b[0m \u001b[0mchild_exception_type\u001b[0m\u001b[0;34m(\u001b[0m\u001b[0merrno_num\u001b[0m\u001b[0;34m,\u001b[0m \u001b[0merr_msg\u001b[0m\u001b[0;34m,\u001b[0m \u001b[0merr_filename\u001b[0m\u001b[0;34m)\u001b[0m\u001b[0;34m\u001b[0m\u001b[0;34m\u001b[0m\u001b[0m\n\u001b[0m\u001b[1;32m   1552\u001b[0m                 \u001b[0;32mraise\u001b[0m \u001b[0mchild_exception_type\u001b[0m\u001b[0;34m(\u001b[0m\u001b[0merr_msg\u001b[0m\u001b[0;34m)\u001b[0m\u001b[0;34m\u001b[0m\u001b[0;34m\u001b[0m\u001b[0m\n",
      "\u001b[0;31mFileNotFoundError\u001b[0m: [Errno 2] No such file or directory: 'phantomjs': 'phantomjs'",
      "\nDuring handling of the above exception, another exception occurred:\n",
      "\u001b[0;31mWebDriverException\u001b[0m                        Traceback (most recent call last)",
      "\u001b[0;32m<ipython-input-14-c604e771e88b>\u001b[0m in \u001b[0;36m<module>\u001b[0;34m\u001b[0m\n\u001b[1;32m      1\u001b[0m \u001b[0;32mimport\u001b[0m \u001b[0mselenium\u001b[0m\u001b[0;34m.\u001b[0m\u001b[0mwebdriver\u001b[0m\u001b[0;34m\u001b[0m\u001b[0;34m\u001b[0m\u001b[0m\n\u001b[0;32m----> 2\u001b[0;31m \u001b[0mdriver\u001b[0m \u001b[0;34m=\u001b[0m \u001b[0mselenium\u001b[0m\u001b[0;34m.\u001b[0m\u001b[0mwebdriver\u001b[0m\u001b[0;34m.\u001b[0m\u001b[0mPhantomJS\u001b[0m\u001b[0;34m(\u001b[0m\u001b[0;34m)\u001b[0m\u001b[0;34m\u001b[0m\u001b[0;34m\u001b[0m\u001b[0m\n\u001b[0m\u001b[1;32m      3\u001b[0m \u001b[0mdriver\u001b[0m\u001b[0;34m.\u001b[0m\u001b[0mset_window_size\u001b[0m\u001b[0;34m(\u001b[0m\u001b[0;36m4000\u001b[0m\u001b[0;34m,\u001b[0m \u001b[0;36m3000\u001b[0m\u001b[0;34m)\u001b[0m  \u001b[0;31m# choose a resolution\u001b[0m\u001b[0;34m\u001b[0m\u001b[0;34m\u001b[0m\u001b[0m\n\u001b[1;32m      4\u001b[0m \u001b[0mdriver\u001b[0m\u001b[0;34m.\u001b[0m\u001b[0mget\u001b[0m\u001b[0;34m(\u001b[0m\u001b[0;34m'map.html'\u001b[0m\u001b[0;34m)\u001b[0m\u001b[0;34m\u001b[0m\u001b[0;34m\u001b[0m\u001b[0m\n\u001b[1;32m      5\u001b[0m \u001b[0;31m# You may need to add time.sleep(seconds) here\u001b[0m\u001b[0;34m\u001b[0m\u001b[0;34m\u001b[0m\u001b[0;34m\u001b[0m\u001b[0m\n",
      "\u001b[0;32m~/Documents/Coding/bitterscientist.com/wenv/lib/python3.7/site-packages/selenium/webdriver/phantomjs/webdriver.py\u001b[0m in \u001b[0;36m__init__\u001b[0;34m(self, executable_path, port, desired_capabilities, service_args, service_log_path)\u001b[0m\n\u001b[1;32m     54\u001b[0m             \u001b[0mservice_args\u001b[0m\u001b[0;34m=\u001b[0m\u001b[0mservice_args\u001b[0m\u001b[0;34m,\u001b[0m\u001b[0;34m\u001b[0m\u001b[0;34m\u001b[0m\u001b[0m\n\u001b[1;32m     55\u001b[0m             log_path=service_log_path)\n\u001b[0;32m---> 56\u001b[0;31m         \u001b[0mself\u001b[0m\u001b[0;34m.\u001b[0m\u001b[0mservice\u001b[0m\u001b[0;34m.\u001b[0m\u001b[0mstart\u001b[0m\u001b[0;34m(\u001b[0m\u001b[0;34m)\u001b[0m\u001b[0;34m\u001b[0m\u001b[0;34m\u001b[0m\u001b[0m\n\u001b[0m\u001b[1;32m     57\u001b[0m \u001b[0;34m\u001b[0m\u001b[0m\n\u001b[1;32m     58\u001b[0m         \u001b[0;32mtry\u001b[0m\u001b[0;34m:\u001b[0m\u001b[0;34m\u001b[0m\u001b[0;34m\u001b[0m\u001b[0m\n",
      "\u001b[0;32m~/Documents/Coding/bitterscientist.com/wenv/lib/python3.7/site-packages/selenium/webdriver/common/service.py\u001b[0m in \u001b[0;36mstart\u001b[0;34m(self)\u001b[0m\n\u001b[1;32m     81\u001b[0m                 raise WebDriverException(\n\u001b[1;32m     82\u001b[0m                     \"'%s' executable needs to be in PATH. %s\" % (\n\u001b[0;32m---> 83\u001b[0;31m                         os.path.basename(self.path), self.start_error_message)\n\u001b[0m\u001b[1;32m     84\u001b[0m                 )\n\u001b[1;32m     85\u001b[0m             \u001b[0;32melif\u001b[0m \u001b[0merr\u001b[0m\u001b[0;34m.\u001b[0m\u001b[0merrno\u001b[0m \u001b[0;34m==\u001b[0m \u001b[0merrno\u001b[0m\u001b[0;34m.\u001b[0m\u001b[0mEACCES\u001b[0m\u001b[0;34m:\u001b[0m\u001b[0;34m\u001b[0m\u001b[0;34m\u001b[0m\u001b[0m\n",
      "\u001b[0;31mWebDriverException\u001b[0m: Message: 'phantomjs' executable needs to be in PATH. \n"
     ]
    }
   ],
   "source": [
    "import selenium.webdriver\n",
    "driver = selenium.webdriver.PhantomJS()\n",
    "driver.set_window_size(4000, 3000)  # choose a resolution\n",
    "driver.get('map.html')\n",
    "# You may need to add time.sleep(seconds) here\n",
    "driver.save_screenshot('screenshot.png')"
   ]
  },
  {
   "cell_type": "code",
   "execution_count": null,
   "metadata": {},
   "outputs": [],
   "source": []
  }
 ],
 "metadata": {
  "kernelspec": {
   "display_name": "Python 3",
   "language": "python",
   "name": "python3"
  },
  "language_info": {
   "codemirror_mode": {
    "name": "ipython",
    "version": 3
   },
   "file_extension": ".py",
   "mimetype": "text/x-python",
   "name": "python",
   "nbconvert_exporter": "python",
   "pygments_lexer": "ipython3",
   "version": "3.7.6"
  }
 },
 "nbformat": 4,
 "nbformat_minor": 2
}

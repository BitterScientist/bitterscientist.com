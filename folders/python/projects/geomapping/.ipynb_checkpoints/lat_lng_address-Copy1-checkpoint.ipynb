{
 "cells": [
  {
   "cell_type": "code",
   "execution_count": 1,
   "metadata": {},
   "outputs": [
    {
     "name": "stdout",
     "output_type": "stream",
     "text": [
      "Collecting geopandas\n",
      "  Downloading geopandas-0.7.0-py2.py3-none-any.whl (928 kB)\n",
      "\u001b[K     |████████████████████████████████| 928 kB 16 kB/s eta 0:00:01     |██▏                             | 61 kB 12 kB/s eta 0:01:08\n",
      "\u001b[?25hCollecting pyproj>=2.2.0\n",
      "  Downloading pyproj-2.6.0-cp37-cp37m-macosx_10_9_x86_64.whl (11.0 MB)\n",
      "\u001b[K     |████████████████████████████████| 11.0 MB 41 kB/s eta 0:00:012\n",
      "\u001b[?25hRequirement already satisfied: pandas>=0.23.0 in /Users/trinitycisneros/Documents/Coding/bitterscientist.com/wenv/lib/python3.7/site-packages (from geopandas) (0.25.3)\n",
      "Collecting shapely\n",
      "  Downloading Shapely-1.7.0-cp37-cp37m-macosx_10_9_x86_64.whl (1.6 MB)\n",
      "\u001b[K     |████████████████████████████████| 1.6 MB 37 kB/s eta 0:00:017     |█████▋                          | 286 kB 35 kB/s eta 0:00:38\n",
      "\u001b[?25hCollecting fiona\n",
      "  Downloading Fiona-1.8.13.post1-cp37-cp37m-macosx_10_9_x86_64.whl (13.9 MB)\n",
      "\u001b[K     |████████████████████████████████| 13.9 MB 65 kB/s eta 0:00:01\n",
      "\u001b[?25hRequirement already satisfied: python-dateutil>=2.6.1 in /Users/trinitycisneros/Documents/Coding/bitterscientist.com/wenv/lib/python3.7/site-packages (from pandas>=0.23.0->geopandas) (2.8.0)\n",
      "Requirement already satisfied: pytz>=2017.2 in /Users/trinitycisneros/Documents/Coding/bitterscientist.com/wenv/lib/python3.7/site-packages (from pandas>=0.23.0->geopandas) (2019.3)\n",
      "Requirement already satisfied: numpy>=1.13.3 in /Users/trinitycisneros/Documents/Coding/bitterscientist.com/wenv/lib/python3.7/site-packages (from pandas>=0.23.0->geopandas) (1.17.3)\n",
      "Collecting munch\n",
      "  Downloading munch-2.5.0-py2.py3-none-any.whl (10 kB)\n",
      "Collecting click-plugins>=1.0\n",
      "  Downloading click_plugins-1.1.1-py2.py3-none-any.whl (7.5 kB)\n",
      "Collecting click<8,>=4.0\n",
      "  Downloading click-7.1.2-py2.py3-none-any.whl (82 kB)\n",
      "\u001b[K     |████████████████████████████████| 82 kB 440 kB/s eta 0:00:01\n",
      "\u001b[?25hRequirement already satisfied: six>=1.7 in /Users/trinitycisneros/Documents/Coding/bitterscientist.com/wenv/lib/python3.7/site-packages (from fiona->geopandas) (1.12.0)\n",
      "Requirement already satisfied: attrs>=17 in /Users/trinitycisneros/Documents/Coding/bitterscientist.com/wenv/lib/python3.7/site-packages (from fiona->geopandas) (19.3.0)\n",
      "Collecting cligj>=0.5\n",
      "  Downloading cligj-0.5.0-py3-none-any.whl (5.7 kB)\n",
      "Installing collected packages: pyproj, shapely, munch, click, click-plugins, cligj, fiona, geopandas\n",
      "Successfully installed click-7.1.2 click-plugins-1.1.1 cligj-0.5.0 fiona-1.8.13.post1 geopandas-0.7.0 munch-2.5.0 pyproj-2.6.0 shapely-1.7.0\n",
      "\u001b[33mWARNING: You are using pip version 20.0.2; however, version 20.1 is available.\n",
      "You should consider upgrading via the '/Users/trinitycisneros/Documents/Coding/bitterscientist.com/wenv/bin/python3 -m pip install --upgrade pip' command.\u001b[0m\n",
      "Collecting geopy\n",
      "  Downloading geopy-1.21.0-py2.py3-none-any.whl (104 kB)\n",
      "\u001b[K     |████████████████████████████████| 104 kB 1.7 MB/s eta 0:00:01\n",
      "\u001b[?25hCollecting geographiclib<2,>=1.49\n",
      "  Downloading geographiclib-1.50-py3-none-any.whl (38 kB)\n",
      "Installing collected packages: geographiclib, geopy\n",
      "Successfully installed geographiclib-1.50 geopy-1.21.0\n",
      "\u001b[33mWARNING: You are using pip version 20.0.2; however, version 20.1 is available.\n",
      "You should consider upgrading via the '/Users/trinitycisneros/Documents/Coding/bitterscientist.com/wenv/bin/python3 -m pip install --upgrade pip' command.\u001b[0m\n"
     ]
    }
   ],
   "source": [
    "!pip install geopandas\n",
    "!pip install geopy"
   ]
  },
  {
   "cell_type": "code",
   "execution_count": 13,
   "metadata": {},
   "outputs": [],
   "source": [
    "import pandas as pd\n",
    "df = pd.DataFrame({'name': ['paris', 'berlin', 'london']})\n",
    "\n",
    "from geopy.geocoders import Nominatim\n",
    "geolocator = Nominatim(user_agent=\"myGeocoder\")\n",
    "\n",
    "from geopy.extra.rate_limiter import RateLimiter\n",
    "geocode = RateLimiter(geolocator.geocode, min_delay_seconds=1)\n",
    "df['location'] = df['name'].apply(geocode)\n",
    "\n",
    "df['point'] = df['location'].apply(lambda loc: tuple(loc.point) if loc else None)"
   ]
  },
  {
   "cell_type": "code",
   "execution_count": 15,
   "metadata": {},
   "outputs": [
    {
     "data": {
      "text/plain": [
       "0     (48.8566969, 2.3514616, 0.0)\n",
       "1    (52.5170365, 13.3888599, 0.0)\n",
       "2    (51.5073219, -0.1276474, 0.0)\n",
       "Name: point, dtype: object"
      ]
     },
     "execution_count": 15,
     "metadata": {},
     "output_type": "execute_result"
    }
   ],
   "source": [
    "df[\"point\"].head()"
   ]
  },
  {
   "cell_type": "code",
   "execution_count": 16,
   "metadata": {},
   "outputs": [],
   "source": [
    "df['lat'], df['lon'], df['p'] = df.point.str"
   ]
  },
  {
   "cell_type": "code",
   "execution_count": 17,
   "metadata": {},
   "outputs": [
    {
     "data": {
      "text/html": [
       "<div>\n",
       "<style scoped>\n",
       "    .dataframe tbody tr th:only-of-type {\n",
       "        vertical-align: middle;\n",
       "    }\n",
       "\n",
       "    .dataframe tbody tr th {\n",
       "        vertical-align: top;\n",
       "    }\n",
       "\n",
       "    .dataframe thead th {\n",
       "        text-align: right;\n",
       "    }\n",
       "</style>\n",
       "<table border=\"1\" class=\"dataframe\">\n",
       "  <thead>\n",
       "    <tr style=\"text-align: right;\">\n",
       "      <th></th>\n",
       "      <th>name</th>\n",
       "      <th>location</th>\n",
       "      <th>point</th>\n",
       "      <th>lat</th>\n",
       "      <th>lon</th>\n",
       "      <th>p</th>\n",
       "    </tr>\n",
       "  </thead>\n",
       "  <tbody>\n",
       "    <tr>\n",
       "      <th>0</th>\n",
       "      <td>paris</td>\n",
       "      <td>(Paris, Île-de-France, France métropolitaine, ...</td>\n",
       "      <td>(48.8566969, 2.3514616, 0.0)</td>\n",
       "      <td>48.856697</td>\n",
       "      <td>2.351462</td>\n",
       "      <td>0.0</td>\n",
       "    </tr>\n",
       "    <tr>\n",
       "      <th>1</th>\n",
       "      <td>berlin</td>\n",
       "      <td>(Berlin, Deutschland, (52.5170365, 13.3888599))</td>\n",
       "      <td>(52.5170365, 13.3888599, 0.0)</td>\n",
       "      <td>52.517037</td>\n",
       "      <td>13.388860</td>\n",
       "      <td>0.0</td>\n",
       "    </tr>\n",
       "    <tr>\n",
       "      <th>2</th>\n",
       "      <td>london</td>\n",
       "      <td>(London, Greater London, England, SW1A 2DX, Un...</td>\n",
       "      <td>(51.5073219, -0.1276474, 0.0)</td>\n",
       "      <td>51.507322</td>\n",
       "      <td>-0.127647</td>\n",
       "      <td>0.0</td>\n",
       "    </tr>\n",
       "  </tbody>\n",
       "</table>\n",
       "</div>"
      ],
      "text/plain": [
       "     name                                           location  \\\n",
       "0   paris  (Paris, Île-de-France, France métropolitaine, ...   \n",
       "1  berlin    (Berlin, Deutschland, (52.5170365, 13.3888599))   \n",
       "2  london  (London, Greater London, England, SW1A 2DX, Un...   \n",
       "\n",
       "                           point        lat        lon    p  \n",
       "0   (48.8566969, 2.3514616, 0.0)  48.856697   2.351462  0.0  \n",
       "1  (52.5170365, 13.3888599, 0.0)  52.517037  13.388860  0.0  \n",
       "2  (51.5073219, -0.1276474, 0.0)  51.507322  -0.127647  0.0  "
      ]
     },
     "execution_count": 17,
     "metadata": {},
     "output_type": "execute_result"
    }
   ],
   "source": [
    "df"
   ]
  },
  {
   "cell_type": "code",
   "execution_count": 12,
   "metadata": {},
   "outputs": [
    {
     "data": {
      "text/html": [
       "<div>\n",
       "<style scoped>\n",
       "    .dataframe tbody tr th:only-of-type {\n",
       "        vertical-align: middle;\n",
       "    }\n",
       "\n",
       "    .dataframe tbody tr th {\n",
       "        vertical-align: top;\n",
       "    }\n",
       "\n",
       "    .dataframe thead th {\n",
       "        text-align: right;\n",
       "    }\n",
       "</style>\n",
       "<table border=\"1\" class=\"dataframe\">\n",
       "  <thead>\n",
       "    <tr style=\"text-align: right;\">\n",
       "      <th></th>\n",
       "      <th>name</th>\n",
       "      <th>location</th>\n",
       "      <th>point</th>\n",
       "      <th>lat</th>\n",
       "      <th>lon</th>\n",
       "    </tr>\n",
       "  </thead>\n",
       "  <tbody>\n",
       "    <tr>\n",
       "      <th>0</th>\n",
       "      <td>paris</td>\n",
       "      <td>(Paris, Île-de-France, France métropolitaine, ...</td>\n",
       "      <td>(48.8566969, 2.3514616, 0.0)</td>\n",
       "      <td>48.856697</td>\n",
       "      <td>2.351462</td>\n",
       "    </tr>\n",
       "    <tr>\n",
       "      <th>1</th>\n",
       "      <td>berlin</td>\n",
       "      <td>(Berlin, Deutschland, (52.5170365, 13.3888599))</td>\n",
       "      <td>(52.5170365, 13.3888599, 0.0)</td>\n",
       "      <td>48.856697</td>\n",
       "      <td>2.351462</td>\n",
       "    </tr>\n",
       "    <tr>\n",
       "      <th>2</th>\n",
       "      <td>london</td>\n",
       "      <td>(London, Greater London, England, SW1A 2DX, Un...</td>\n",
       "      <td>(51.5073219, -0.1276474, 0.0)</td>\n",
       "      <td>48.856697</td>\n",
       "      <td>2.351462</td>\n",
       "    </tr>\n",
       "  </tbody>\n",
       "</table>\n",
       "</div>"
      ],
      "text/plain": [
       "     name                                           location  \\\n",
       "0   paris  (Paris, Île-de-France, France métropolitaine, ...   \n",
       "1  berlin    (Berlin, Deutschland, (52.5170365, 13.3888599))   \n",
       "2  london  (London, Greater London, England, SW1A 2DX, Un...   \n",
       "\n",
       "                           point        lat       lon  \n",
       "0   (48.8566969, 2.3514616, 0.0)  48.856697  2.351462  \n",
       "1  (52.5170365, 13.3888599, 0.0)  48.856697  2.351462  \n",
       "2  (51.5073219, -0.1276474, 0.0)  48.856697  2.351462  "
      ]
     },
     "execution_count": 12,
     "metadata": {},
     "output_type": "execute_result"
    }
   ],
   "source": [
    "df"
   ]
  },
  {
   "cell_type": "code",
   "execution_count": 19,
   "metadata": {},
   "outputs": [
    {
     "name": "stdout",
     "output_type": "stream",
     "text": [
      "1815, West Devers Street, West Covina, Los Angeles County, California, 91790, United States of America\n"
     ]
    }
   ],
   "source": [
    "from geopy.geocoders import Nominatim\n",
    "geolocator = Nominatim(user_agent=\"myGeocoder\")\n",
    "location = geolocator.geocode(\"1815 w devers st, west covina ca, 91790\")\n",
    "print(location.address)"
   ]
  },
  {
   "cell_type": "code",
   "execution_count": 20,
   "metadata": {},
   "outputs": [
    {
     "name": "stdout",
     "output_type": "stream",
     "text": [
      "(34.06579026730431, -117.95106957840424)\n"
     ]
    }
   ],
   "source": [
    "print((location.latitude, location.longitude))"
   ]
  },
  {
   "cell_type": "code",
   "execution_count": 21,
   "metadata": {},
   "outputs": [
    {
     "name": "stdout",
     "output_type": "stream",
     "text": [
      "{'place_id': 241861794, 'licence': 'Data © OpenStreetMap contributors, ODbL 1.0. https://osm.org/copyright', 'osm_type': 'way', 'osm_id': 13293778, 'boundingbox': ['34.065740267304', '34.065840267304', '-117.9511195784', '-117.9510195784'], 'lat': '34.06579026730431', 'lon': '-117.95106957840424', 'display_name': '1815, West Devers Street, West Covina, Los Angeles County, California, 91790, United States of America', 'class': 'place', 'type': 'house', 'importance': 0.821}\n"
     ]
    }
   ],
   "source": [
    "print(location.raw)"
   ]
  },
  {
   "cell_type": "code",
   "execution_count": 30,
   "metadata": {},
   "outputs": [],
   "source": [
    "df2 = pd.DataFrame({'name': ['pearl', 'mom'],'address': ['1815 w devers st west covina ca 91790', '346a s. clarence st los angeles ca 90033']})"
   ]
  },
  {
   "cell_type": "code",
   "execution_count": 40,
   "metadata": {},
   "outputs": [],
   "source": [
    "from geopy.geocoders import Nominatim\n",
    "geolocator = Nominatim(user_agent=\"myGeocoder\")\n",
    "\n",
    "from geopy.extra.rate_limiter import RateLimiter\n",
    "geocode = RateLimiter(geolocator.geocode, min_delay_seconds=1)\n",
    "df2['location'] = df2['address'].apply(geocode)\n",
    "\n",
    "df2['point'] = df2['location'].apply(lambda loc: tuple(loc.point) if loc else None)"
   ]
  },
  {
   "cell_type": "code",
   "execution_count": 41,
   "metadata": {},
   "outputs": [],
   "source": [
    "df2['lon'], df2['lat'], df2['p'] = df2.point.str"
   ]
  },
  {
   "cell_type": "code",
   "execution_count": 42,
   "metadata": {},
   "outputs": [
    {
     "data": {
      "text/html": [
       "<div>\n",
       "<style scoped>\n",
       "    .dataframe tbody tr th:only-of-type {\n",
       "        vertical-align: middle;\n",
       "    }\n",
       "\n",
       "    .dataframe tbody tr th {\n",
       "        vertical-align: top;\n",
       "    }\n",
       "\n",
       "    .dataframe thead th {\n",
       "        text-align: right;\n",
       "    }\n",
       "</style>\n",
       "<table border=\"1\" class=\"dataframe\">\n",
       "  <thead>\n",
       "    <tr style=\"text-align: right;\">\n",
       "      <th></th>\n",
       "      <th>name</th>\n",
       "      <th>address</th>\n",
       "      <th>location</th>\n",
       "      <th>point</th>\n",
       "      <th>lat</th>\n",
       "      <th>lon</th>\n",
       "      <th>p</th>\n",
       "    </tr>\n",
       "  </thead>\n",
       "  <tbody>\n",
       "    <tr>\n",
       "      <th>0</th>\n",
       "      <td>pearl</td>\n",
       "      <td>1815 w devers st west covina ca 91790</td>\n",
       "      <td>(1815, West Devers Street, West Covina, Los An...</td>\n",
       "      <td>(34.06579026730431, -117.95106957840424, 0.0)</td>\n",
       "      <td>-117.951070</td>\n",
       "      <td>34.065790</td>\n",
       "      <td>0.0</td>\n",
       "    </tr>\n",
       "    <tr>\n",
       "      <th>1</th>\n",
       "      <td>mom</td>\n",
       "      <td>346a s. clarence st los angeles ca 90033</td>\n",
       "      <td>(346, South Clarence Street, Brooklyn Heights,...</td>\n",
       "      <td>(34.04421341379311, -118.22381489655173, 0.0)</td>\n",
       "      <td>-118.223815</td>\n",
       "      <td>34.044213</td>\n",
       "      <td>0.0</td>\n",
       "    </tr>\n",
       "  </tbody>\n",
       "</table>\n",
       "</div>"
      ],
      "text/plain": [
       "    name                                   address  \\\n",
       "0  pearl     1815 w devers st west covina ca 91790   \n",
       "1    mom  346a s. clarence st los angeles ca 90033   \n",
       "\n",
       "                                            location  \\\n",
       "0  (1815, West Devers Street, West Covina, Los An...   \n",
       "1  (346, South Clarence Street, Brooklyn Heights,...   \n",
       "\n",
       "                                           point         lat        lon    p  \n",
       "0  (34.06579026730431, -117.95106957840424, 0.0) -117.951070  34.065790  0.0  \n",
       "1  (34.04421341379311, -118.22381489655173, 0.0) -118.223815  34.044213  0.0  "
      ]
     },
     "execution_count": 42,
     "metadata": {},
     "output_type": "execute_result"
    }
   ],
   "source": [
    "df2"
   ]
  },
  {
   "cell_type": "code",
   "execution_count": 43,
   "metadata": {},
   "outputs": [],
   "source": [
    "import folium"
   ]
  },
  {
   "cell_type": "code",
   "execution_count": 45,
   "metadata": {
    "collapsed": true
   },
   "outputs": [
    {
     "data": {
      "text/html": [
       "<div style=\"width:100%;\"><div style=\"position:relative;width:100%;height:0;padding-bottom:60%;\"><iframe src=\"about:blank\" style=\"position:absolute;width:100%;height:100%;left:0;top:0;border:none !important;\" data-html=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 onload=\"this.contentDocument.open();this.contentDocument.write(atob(this.getAttribute('data-html')));this.contentDocument.close();\" allowfullscreen webkitallowfullscreen mozallowfullscreen></iframe></div></div>"
      ],
      "text/plain": [
       "<folium.folium.Map at 0x11872af90>"
      ]
     },
     "execution_count": 45,
     "metadata": {},
     "output_type": "execute_result"
    }
   ],
   "source": [
    "# Make an empty map\n",
    "m = folium.Map(location=[34, -117], tiles=\"OpenStreetMap\", zoom_start=8)\n",
    " \n",
    "# I can add marker one by one on the map\n",
    "for i in range(0,len(df2)):\n",
    "    folium.Marker([df2.iloc[i]['lon'], df2.iloc[i]['lat']], popup=df2.iloc[i]['name']).add_to(m)\n",
    "\n",
    "m"
   ]
  },
  {
   "cell_type": "code",
   "execution_count": 64,
   "metadata": {},
   "outputs": [
    {
     "name": "stdout",
     "output_type": "stream",
     "text": [
      "500 281\n"
     ]
    }
   ],
   "source": [
    "# length after adding row \n",
    "length1=len(df) \n",
    "  \n",
    "# sorting by first name \n",
    "df.sort_values(\"Address\", inplace=True) \n",
    "  \n",
    "# dropping duplicate values \n",
    "df.drop_duplicates(keep='first',inplace=True) \n",
    "  \n",
    "# length after removing duplicates \n",
    "length2=len(df) \n",
    "  \n",
    "# printing all data frame lengths  \n",
    "print(length1, length2) "
   ]
  },
  {
   "cell_type": "code",
   "execution_count": 144,
   "metadata": {},
   "outputs": [
    {
     "data": {
      "text/plain": [
       "Index(['address', 'city', 'state', 'addy', 'city_state'], dtype='object')"
      ]
     },
     "execution_count": 144,
     "metadata": {},
     "output_type": "execute_result"
    }
   ],
   "source": [
    "df.columns"
   ]
  },
  {
   "cell_type": "code",
   "execution_count": 73,
   "metadata": {},
   "outputs": [],
   "source": [
    "df[\"addy\"] = df[\"address\"] + \" \" + df[\"city\"] + \" \" + df[\"state\"]"
   ]
  },
  {
   "cell_type": "code",
   "execution_count": 175,
   "metadata": {},
   "outputs": [],
   "source": [
    "df = pd.read_csv(\"location.csv\")"
   ]
  },
  {
   "cell_type": "code",
   "execution_count": 176,
   "metadata": {},
   "outputs": [],
   "source": [
    "# df[\"addy\"] = df[\"addy\"] + \" USA\""
   ]
  },
  {
   "cell_type": "code",
   "execution_count": 177,
   "metadata": {},
   "outputs": [
    {
     "data": {
      "text/html": [
       "<div>\n",
       "<style scoped>\n",
       "    .dataframe tbody tr th:only-of-type {\n",
       "        vertical-align: middle;\n",
       "    }\n",
       "\n",
       "    .dataframe tbody tr th {\n",
       "        vertical-align: top;\n",
       "    }\n",
       "\n",
       "    .dataframe thead th {\n",
       "        text-align: right;\n",
       "    }\n",
       "</style>\n",
       "<table border=\"1\" class=\"dataframe\">\n",
       "  <thead>\n",
       "    <tr style=\"text-align: right;\">\n",
       "      <th></th>\n",
       "      <th>address</th>\n",
       "      <th>city</th>\n",
       "      <th>state</th>\n",
       "    </tr>\n",
       "  </thead>\n",
       "  <tbody>\n",
       "    <tr>\n",
       "      <th>0</th>\n",
       "      <td>1700 W Exchange St</td>\n",
       "      <td>Akron</td>\n",
       "      <td>OH</td>\n",
       "    </tr>\n",
       "    <tr>\n",
       "      <th>1</th>\n",
       "      <td>2235 Lake Avenue</td>\n",
       "      <td>Altadena</td>\n",
       "      <td>CA</td>\n",
       "    </tr>\n",
       "    <tr>\n",
       "      <th>2</th>\n",
       "      <td>6800 US-67</td>\n",
       "      <td>Alvarado</td>\n",
       "      <td>TX</td>\n",
       "    </tr>\n",
       "    <tr>\n",
       "      <th>3</th>\n",
       "      <td>8290 E. Crystal Drive</td>\n",
       "      <td>Anaheim</td>\n",
       "      <td>CA</td>\n",
       "    </tr>\n",
       "    <tr>\n",
       "      <th>4</th>\n",
       "      <td>6563 Deschutes Road</td>\n",
       "      <td>Anderson</td>\n",
       "      <td>CA</td>\n",
       "    </tr>\n",
       "  </tbody>\n",
       "</table>\n",
       "</div>"
      ],
      "text/plain": [
       "                 address      city state\n",
       "0     1700 W Exchange St     Akron    OH\n",
       "1       2235 Lake Avenue  Altadena    CA\n",
       "2             6800 US-67  Alvarado    TX\n",
       "3  8290 E. Crystal Drive   Anaheim    CA\n",
       "4    6563 Deschutes Road  Anderson    CA"
      ]
     },
     "execution_count": 177,
     "metadata": {},
     "output_type": "execute_result"
    }
   ],
   "source": [
    "df.head()"
   ]
  },
  {
   "cell_type": "code",
   "execution_count": 178,
   "metadata": {},
   "outputs": [],
   "source": [
    "df[\"complete\"] = df['address'] + \" \" + df['city'] + \" \" + df[\"state\"] + \" USA\""
   ]
  },
  {
   "cell_type": "code",
   "execution_count": 179,
   "metadata": {},
   "outputs": [],
   "source": [
    "df[\"city_state\"] = df['city'] + \" \" + df[\"state\"] + \" USA\""
   ]
  },
  {
   "cell_type": "code",
   "execution_count": 180,
   "metadata": {},
   "outputs": [
    {
     "data": {
      "text/html": [
       "<div>\n",
       "<style scoped>\n",
       "    .dataframe tbody tr th:only-of-type {\n",
       "        vertical-align: middle;\n",
       "    }\n",
       "\n",
       "    .dataframe tbody tr th {\n",
       "        vertical-align: top;\n",
       "    }\n",
       "\n",
       "    .dataframe thead th {\n",
       "        text-align: right;\n",
       "    }\n",
       "</style>\n",
       "<table border=\"1\" class=\"dataframe\">\n",
       "  <thead>\n",
       "    <tr style=\"text-align: right;\">\n",
       "      <th></th>\n",
       "      <th>address</th>\n",
       "      <th>city</th>\n",
       "      <th>state</th>\n",
       "      <th>complete</th>\n",
       "      <th>city_state</th>\n",
       "    </tr>\n",
       "  </thead>\n",
       "  <tbody>\n",
       "    <tr>\n",
       "      <th>0</th>\n",
       "      <td>1700 W Exchange St</td>\n",
       "      <td>Akron</td>\n",
       "      <td>OH</td>\n",
       "      <td>1700 W Exchange St Akron OH USA</td>\n",
       "      <td>Akron OH USA</td>\n",
       "    </tr>\n",
       "    <tr>\n",
       "      <th>1</th>\n",
       "      <td>2235 Lake Avenue</td>\n",
       "      <td>Altadena</td>\n",
       "      <td>CA</td>\n",
       "      <td>2235 Lake Avenue Altadena CA USA</td>\n",
       "      <td>Altadena CA USA</td>\n",
       "    </tr>\n",
       "    <tr>\n",
       "      <th>2</th>\n",
       "      <td>6800 US-67</td>\n",
       "      <td>Alvarado</td>\n",
       "      <td>TX</td>\n",
       "      <td>6800 US-67 Alvarado TX USA</td>\n",
       "      <td>Alvarado TX USA</td>\n",
       "    </tr>\n",
       "    <tr>\n",
       "      <th>3</th>\n",
       "      <td>8290 E. Crystal Drive</td>\n",
       "      <td>Anaheim</td>\n",
       "      <td>CA</td>\n",
       "      <td>8290 E. Crystal Drive Anaheim CA USA</td>\n",
       "      <td>Anaheim CA USA</td>\n",
       "    </tr>\n",
       "    <tr>\n",
       "      <th>4</th>\n",
       "      <td>6563 Deschutes Road</td>\n",
       "      <td>Anderson</td>\n",
       "      <td>CA</td>\n",
       "      <td>6563 Deschutes Road Anderson CA USA</td>\n",
       "      <td>Anderson CA USA</td>\n",
       "    </tr>\n",
       "  </tbody>\n",
       "</table>\n",
       "</div>"
      ],
      "text/plain": [
       "                 address      city state  \\\n",
       "0     1700 W Exchange St     Akron    OH   \n",
       "1       2235 Lake Avenue  Altadena    CA   \n",
       "2             6800 US-67  Alvarado    TX   \n",
       "3  8290 E. Crystal Drive   Anaheim    CA   \n",
       "4    6563 Deschutes Road  Anderson    CA   \n",
       "\n",
       "                               complete       city_state  \n",
       "0       1700 W Exchange St Akron OH USA     Akron OH USA  \n",
       "1      2235 Lake Avenue Altadena CA USA  Altadena CA USA  \n",
       "2            6800 US-67 Alvarado TX USA  Alvarado TX USA  \n",
       "3  8290 E. Crystal Drive Anaheim CA USA   Anaheim CA USA  \n",
       "4   6563 Deschutes Road Anderson CA USA  Anderson CA USA  "
      ]
     },
     "execution_count": 180,
     "metadata": {},
     "output_type": "execute_result"
    }
   ],
   "source": [
    "df.head()"
   ]
  },
  {
   "cell_type": "code",
   "execution_count": 181,
   "metadata": {},
   "outputs": [],
   "source": [
    "df.sort_values(\"city_state\", inplace=True)"
   ]
  },
  {
   "cell_type": "code",
   "execution_count": 182,
   "metadata": {},
   "outputs": [],
   "source": [
    "df_states = df[['city_state']].copy()"
   ]
  },
  {
   "cell_type": "code",
   "execution_count": 184,
   "metadata": {},
   "outputs": [
    {
     "data": {
      "text/plain": [
       "277"
      ]
     },
     "execution_count": 184,
     "metadata": {},
     "output_type": "execute_result"
    }
   ],
   "source": [
    "len(df_states)"
   ]
  },
  {
   "cell_type": "code",
   "execution_count": 185,
   "metadata": {},
   "outputs": [],
   "source": [
    "df_states.drop_duplicates(keep='first', inplace=True)"
   ]
  },
  {
   "cell_type": "code",
   "execution_count": 186,
   "metadata": {},
   "outputs": [
    {
     "data": {
      "text/plain": [
       "231"
      ]
     },
     "execution_count": 186,
     "metadata": {},
     "output_type": "execute_result"
    }
   ],
   "source": [
    "len(df_states)"
   ]
  },
  {
   "cell_type": "code",
   "execution_count": 174,
   "metadata": {},
   "outputs": [],
   "source": [
    "df_states.to_csv(\"city_states.csv\", index=False)"
   ]
  },
  {
   "cell_type": "code",
   "execution_count": 191,
   "metadata": {},
   "outputs": [],
   "source": [
    "df = pd.read_csv(\"city_states.csv\")"
   ]
  },
  {
   "cell_type": "code",
   "execution_count": 192,
   "metadata": {},
   "outputs": [
    {
     "data": {
      "text/plain": [
       "Index(['city_state'], dtype='object')"
      ]
     },
     "execution_count": 192,
     "metadata": {},
     "output_type": "execute_result"
    }
   ],
   "source": [
    "df.columns"
   ]
  },
  {
   "cell_type": "code",
   "execution_count": 193,
   "metadata": {},
   "outputs": [],
   "source": [
    "df = df.head(5)"
   ]
  },
  {
   "cell_type": "code",
   "execution_count": 195,
   "metadata": {},
   "outputs": [
    {
     "data": {
      "text/html": [
       "<div>\n",
       "<style scoped>\n",
       "    .dataframe tbody tr th:only-of-type {\n",
       "        vertical-align: middle;\n",
       "    }\n",
       "\n",
       "    .dataframe tbody tr th {\n",
       "        vertical-align: top;\n",
       "    }\n",
       "\n",
       "    .dataframe thead th {\n",
       "        text-align: right;\n",
       "    }\n",
       "</style>\n",
       "<table border=\"1\" class=\"dataframe\">\n",
       "  <thead>\n",
       "    <tr style=\"text-align: right;\">\n",
       "      <th></th>\n",
       "      <th>city_state</th>\n",
       "    </tr>\n",
       "  </thead>\n",
       "  <tbody>\n",
       "    <tr>\n",
       "      <th>0</th>\n",
       "      <td>Akron OH USA</td>\n",
       "    </tr>\n",
       "    <tr>\n",
       "      <th>1</th>\n",
       "      <td>Altadena CA USA</td>\n",
       "    </tr>\n",
       "    <tr>\n",
       "      <th>2</th>\n",
       "      <td>Alvarado TX USA</td>\n",
       "    </tr>\n",
       "    <tr>\n",
       "      <th>3</th>\n",
       "      <td>Anaheim CA USA</td>\n",
       "    </tr>\n",
       "    <tr>\n",
       "      <th>4</th>\n",
       "      <td>Anderson CA USA</td>\n",
       "    </tr>\n",
       "  </tbody>\n",
       "</table>\n",
       "</div>"
      ],
      "text/plain": [
       "        city_state\n",
       "0     Akron OH USA\n",
       "1  Altadena CA USA\n",
       "2  Alvarado TX USA\n",
       "3   Anaheim CA USA\n",
       "4  Anderson CA USA"
      ]
     },
     "execution_count": 195,
     "metadata": {},
     "output_type": "execute_result"
    }
   ],
   "source": [
    "df"
   ]
  },
  {
   "cell_type": "code",
   "execution_count": null,
   "metadata": {},
   "outputs": [],
   "source": [
    "from geopy.geocoders import Nominatim\n",
    "geolocator = Nominatim(user_agent=\"myGeocoder\")\n",
    "\n",
    "from geopy.extra.rate_limiter import RateLimiter\n",
    "geocode = RateLimiter(geolocator.geocode, min_delay_seconds=1)\n",
    "df_states['location'] = df_states['city_state'].apply(geocode)\n",
    "\n",
    "df_states['point'] = df_states['location'].apply(lambda loc: tuple(loc.point) if loc else None)"
   ]
  },
  {
   "cell_type": "code",
   "execution_count": 135,
   "metadata": {},
   "outputs": [],
   "source": [
    "df['lon'], df['lat'], df['p'] = df.point.str"
   ]
  },
  {
   "cell_type": "code",
   "execution_count": 136,
   "metadata": {},
   "outputs": [
    {
     "data": {
      "text/html": [
       "<div>\n",
       "<style scoped>\n",
       "    .dataframe tbody tr th:only-of-type {\n",
       "        vertical-align: middle;\n",
       "    }\n",
       "\n",
       "    .dataframe tbody tr th {\n",
       "        vertical-align: top;\n",
       "    }\n",
       "\n",
       "    .dataframe thead th {\n",
       "        text-align: right;\n",
       "    }\n",
       "</style>\n",
       "<table border=\"1\" class=\"dataframe\">\n",
       "  <thead>\n",
       "    <tr style=\"text-align: right;\">\n",
       "      <th></th>\n",
       "      <th>address</th>\n",
       "      <th>city</th>\n",
       "      <th>state</th>\n",
       "      <th>addy</th>\n",
       "      <th>city_state</th>\n",
       "      <th>location</th>\n",
       "      <th>point</th>\n",
       "      <th>lon</th>\n",
       "      <th>lat</th>\n",
       "      <th>p</th>\n",
       "    </tr>\n",
       "  </thead>\n",
       "  <tbody>\n",
       "    <tr>\n",
       "      <th>0</th>\n",
       "      <td>1700 W Exchange St</td>\n",
       "      <td>Akron</td>\n",
       "      <td>OH</td>\n",
       "      <td>1700 W Exchange St Akron OH</td>\n",
       "      <td>Akron OH USA</td>\n",
       "      <td>(Akron, Summit County, Ohio, United States of ...</td>\n",
       "      <td>(41.083064, -81.518485, 0.0)</td>\n",
       "      <td>41.083064</td>\n",
       "      <td>-81.518485</td>\n",
       "      <td>0.0</td>\n",
       "    </tr>\n",
       "    <tr>\n",
       "      <th>1</th>\n",
       "      <td>2235 Lake Avenue</td>\n",
       "      <td>Altadena</td>\n",
       "      <td>CA</td>\n",
       "      <td>2235 Lake Ave Altadena CA</td>\n",
       "      <td>Altadena CA USA</td>\n",
       "      <td>(Altadena, Los Angeles County, California, 910...</td>\n",
       "      <td>(34.1863161, -118.1352329, 0.0)</td>\n",
       "      <td>34.186316</td>\n",
       "      <td>-118.135233</td>\n",
       "      <td>0.0</td>\n",
       "    </tr>\n",
       "    <tr>\n",
       "      <th>2</th>\n",
       "      <td>6800 US-67</td>\n",
       "      <td>Alvarado</td>\n",
       "      <td>TX</td>\n",
       "      <td>6800 US-67 Alvarado TX</td>\n",
       "      <td>Alvarado TX USA</td>\n",
       "      <td>(Alvarado, Johnson County, Texas, United State...</td>\n",
       "      <td>(32.4095565, -97.21028810404624, 0.0)</td>\n",
       "      <td>32.409557</td>\n",
       "      <td>-97.210288</td>\n",
       "      <td>0.0</td>\n",
       "    </tr>\n",
       "    <tr>\n",
       "      <th>3</th>\n",
       "      <td>8290 E. Crystal Drive</td>\n",
       "      <td>Anaheim</td>\n",
       "      <td>CA</td>\n",
       "      <td>8290 E. Crystal Drive Anaheim CA</td>\n",
       "      <td>Anaheim CA USA</td>\n",
       "      <td>(Anaheim, Orange County, California, United St...</td>\n",
       "      <td>(33.8347516, -117.911732, 0.0)</td>\n",
       "      <td>33.834752</td>\n",
       "      <td>-117.911732</td>\n",
       "      <td>0.0</td>\n",
       "    </tr>\n",
       "    <tr>\n",
       "      <th>4</th>\n",
       "      <td>6563 Deschutes Road</td>\n",
       "      <td>Anderson</td>\n",
       "      <td>CA</td>\n",
       "      <td>6563 Deschutes Road Anderson CA</td>\n",
       "      <td>Anderson CA USA</td>\n",
       "      <td>(Anderson, Shasta County, California, 96007, U...</td>\n",
       "      <td>(40.448208, -122.2977815, 0.0)</td>\n",
       "      <td>40.448208</td>\n",
       "      <td>-122.297781</td>\n",
       "      <td>0.0</td>\n",
       "    </tr>\n",
       "  </tbody>\n",
       "</table>\n",
       "</div>"
      ],
      "text/plain": [
       "                 address      city state                              addy  \\\n",
       "0     1700 W Exchange St     Akron    OH       1700 W Exchange St Akron OH   \n",
       "1       2235 Lake Avenue  Altadena    CA         2235 Lake Ave Altadena CA   \n",
       "2             6800 US-67  Alvarado    TX            6800 US-67 Alvarado TX   \n",
       "3  8290 E. Crystal Drive   Anaheim    CA  8290 E. Crystal Drive Anaheim CA   \n",
       "4    6563 Deschutes Road  Anderson    CA   6563 Deschutes Road Anderson CA   \n",
       "\n",
       "        city_state                                           location  \\\n",
       "0     Akron OH USA  (Akron, Summit County, Ohio, United States of ...   \n",
       "1  Altadena CA USA  (Altadena, Los Angeles County, California, 910...   \n",
       "2  Alvarado TX USA  (Alvarado, Johnson County, Texas, United State...   \n",
       "3   Anaheim CA USA  (Anaheim, Orange County, California, United St...   \n",
       "4  Anderson CA USA  (Anderson, Shasta County, California, 96007, U...   \n",
       "\n",
       "                                   point        lon         lat    p  \n",
       "0           (41.083064, -81.518485, 0.0)  41.083064  -81.518485  0.0  \n",
       "1        (34.1863161, -118.1352329, 0.0)  34.186316 -118.135233  0.0  \n",
       "2  (32.4095565, -97.21028810404624, 0.0)  32.409557  -97.210288  0.0  \n",
       "3         (33.8347516, -117.911732, 0.0)  33.834752 -117.911732  0.0  \n",
       "4         (40.448208, -122.2977815, 0.0)  40.448208 -122.297781  0.0  "
      ]
     },
     "execution_count": 136,
     "metadata": {},
     "output_type": "execute_result"
    }
   ],
   "source": [
    "df"
   ]
  },
  {
   "cell_type": "code",
   "execution_count": 137,
   "metadata": {},
   "outputs": [
    {
     "data": {
      "text/html": [
       "<div style=\"width:100%;\"><div style=\"position:relative;width:100%;height:0;padding-bottom:60%;\"><iframe src=\"about:blank\" style=\"position:absolute;width:100%;height:100%;left:0;top:0;border:none !important;\" data-html=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 onload=\"this.contentDocument.open();this.contentDocument.write(atob(this.getAttribute('data-html')));this.contentDocument.close();\" allowfullscreen webkitallowfullscreen mozallowfullscreen></iframe></div></div>"
      ],
      "text/plain": [
       "<folium.folium.Map at 0x12b5ba210>"
      ]
     },
     "execution_count": 137,
     "metadata": {},
     "output_type": "execute_result"
    }
   ],
   "source": [
    "# Make an empty map\n",
    "m = folium.Map(location=[34, -117], tiles=\"OpenStreetMap\", zoom_start=4)\n",
    " \n",
    "# I can add marker one by one on the map\n",
    "for i in range(0,len(df)):\n",
    "    folium.Marker([df.iloc[i]['lon'], df.iloc[i]['lat']], popup=df.iloc[i]['city']).add_to(m)\n",
    "\n",
    "m"
   ]
  },
  {
   "cell_type": "code",
   "execution_count": null,
   "metadata": {},
   "outputs": [],
   "source": [
    "df_group = df.groupby()"
   ]
  }
 ],
 "metadata": {
  "kernelspec": {
   "display_name": "Python 3",
   "language": "python",
   "name": "python3"
  },
  "language_info": {
   "codemirror_mode": {
    "name": "ipython",
    "version": 3
   },
   "file_extension": ".py",
   "mimetype": "text/x-python",
   "name": "python",
   "nbconvert_exporter": "python",
   "pygments_lexer": "ipython3",
   "version": "3.7.6"
  }
 },
 "nbformat": 4,
 "nbformat_minor": 2
}

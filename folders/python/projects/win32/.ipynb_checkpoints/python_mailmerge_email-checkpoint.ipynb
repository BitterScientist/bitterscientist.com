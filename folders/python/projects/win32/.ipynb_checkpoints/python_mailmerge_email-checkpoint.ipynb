{
 "cells": [
  {
   "cell_type": "markdown",
   "metadata": {},
   "source": [
    "<div style=\"font-size:16px; border:1px solid black; padding:10px\">\n",
    "    <center><h1>Introduction</h1></center>\n",
    "    <ul><br>\n",
    "        <li>Python can create common Microsoft Office files (Word, Excel, PowerPoint)</li><br>\n",
    "        <li>The Python package <strong>pywin32</strong> is a powerful “Python for Windows Extensions” that allows easy access to the Window’s Component Object Model (COM) and control Microsoft applications.</li><br>\n",
    "        <li>pywin32 allows you to control the Windows applications from another program.</li><br>\n",
    "        <li>The pywin32 package has been around for more than 20 years, a good resourcce is the book \"Python Programming On Win32: Help for Windows Programmers\" by Andy Robinson, Mark Hammond. ISBN 9781565926219</li><br>\n",
    "        <li><font color=\"red\">To date, this method only works on a PC, it does not work for Mac</font></li><br>\n",
    "        <li>Pywin32 Installation information (12/20/20) <a href=\"https://pypi.org/project/pywin32/\">pywin32 PyPi</a></li>\n",
    "    </ul>\n",
    "</div>"
   ]
  },
  {
   "cell_type": "markdown",
   "metadata": {},
   "source": [
    "<hr style=\"border-top: 3px solid Black;\">"
   ]
  },
  {
   "cell_type": "markdown",
   "metadata": {},
   "source": [
    "<div style=\"font-size:16px; border:1px solid black; padding:10px\">\n",
    "    <center><h1>This project details</h1>\n",
    "    In this project I will demonstrate how to use python to carry out a mail merge operation that will let you email specific individuals in a csv file and customize the email to include specific information. The other solution this code provides is the ability to email more than one person in a single email.  Traditional mail merge using word only lets you email one person at at time. That means you cannot carbon copy or blind carbon copy multiple people. This method gets around that.<br><br>\n",
    "        In this hypothetical situation, we have a list of customers that have past due payments and we want to email them with specific information on their account. Some accounts have more than one user, so those other individuals will be included.\n",
    "    </center>\n",
    "</div>"
   ]
  },
  {
   "cell_type": "markdown",
   "metadata": {},
   "source": [
    "<hr style=\"border-top: 3px solid Black;\">"
   ]
  },
  {
   "cell_type": "markdown",
   "metadata": {},
   "source": [
    "<div style=\"font-size:16px; border:1px solid black; padding:10px\">\n",
    "    <center><h1>Goals</h1></center>\n",
    "    <ul><strong>Demonstrate how to use python to:</strong><br>\n",
    "        <li>Send mass mailings that combines an email template and personalized fields that customized emails for specific senders</li><br>\n",
    "        <li>Replace the use of Word and Excel Mail Merge</li><br>\n",
    "        <li>Can email multiple Individuals in the same email unlike the word mail merge method.</li><br>\n",
    "        <li>filter a csv file and email only specific instances (individuals) based on a conditional statement.\n",
    "        </li><br>\n",
    "        <li><font color=\"red\">To date, Only works on PC, does not work for Mac</font></li>\n",
    "    </ul>\n",
    "</div>"
   ]
  },
  {
   "cell_type": "markdown",
   "metadata": {},
   "source": [
    "# Import Dependencies"
   ]
  },
  {
   "cell_type": "code",
   "execution_count": null,
   "metadata": {},
   "outputs": [],
   "source": [
    "# Operating system processing\n",
    "import os\n",
    "\n",
    "# Dataframe processing\n",
    "import pandas as pd\n",
    "\n",
    "# String manipulation\n",
    "import re\n",
    "\n",
    "# Microsoft Outlook interface \n",
    "# This will only work on PC, so uncomment below\n",
    "# import win32com.client as win32"
   ]
  },
  {
   "cell_type": "markdown",
   "metadata": {},
   "source": [
    "<hr style=\"border-top: 3px solid Black;\">"
   ]
  },
  {
   "cell_type": "markdown",
   "metadata": {},
   "source": [
    "<div style=\"font-size:16px; border:1px solid black; padding:10px\">\n",
    "<h1>Import and Filter data</h1>\n",
    "    <ul>\n",
    "        <li>\n",
    "        Use pands to import csv file (you can use an excel file too, just use the right import function.</li><br>\n",
    "        <li>\n",
    "        Each column header should be the 'field' you would typically use in a traditional mail merge.</li><br> \n",
    "        <li>\n",
    "        In this example, we will use a boolean column to help filter the instances we want to email</li><br>       \n",
    "    </ul>\n",
    "</div>    "
   ]
  },
  {
   "cell_type": "code",
   "execution_count": null,
   "metadata": {},
   "outputs": [],
   "source": [
    "# import csv file\n",
    "file= \"data.csv\"\n",
    "df = pd.read_csv(file)"
   ]
  },
  {
   "cell_type": "code",
   "execution_count": null,
   "metadata": {},
   "outputs": [],
   "source": [
    "# doublecheck field information\n",
    "# this will be the column header in csv file\n",
    "df.columns"
   ]
  },
  {
   "cell_type": "code",
   "execution_count": null,
   "metadata": {},
   "outputs": [],
   "source": [
    "# Filter for instancess that need to be contacted\n",
    "df_email = df[df['NeedsNotification'] == 'Yes']\n",
    "df_email.head()"
   ]
  },
  {
   "cell_type": "markdown",
   "metadata": {},
   "source": [
    "<hr style=\"border-top: 3px solid Black;\">"
   ]
  },
  {
   "cell_type": "markdown",
   "metadata": {},
   "source": [
    "<h1>Draft Email in a function</h1>"
   ]
  },
  {
   "cell_type": "code",
   "execution_count": null,
   "metadata": {},
   "outputs": [],
   "source": [
    "def sendEmail(df):\n",
    "    for index, row in df.iterrows():\n",
    "        outlook = win32.Dispatch('outlook.application')\n",
    "        mail = outlook.CreateItem(0)\n",
    "        mail.To = '{contact1}'.format(contact1= row['Email1'])\n",
    "        if pd.notna(row['Email2']):\n",
    "            mail.CC = '{contact2}'.format(contact2=row['Email2']) \n",
    "        mail.Subject = '[Payment Due] - {Amount} Missing Documentation'.format(Amount=row['Amount'])\n",
    "        mail.Body = ''\n",
    "        mail.HTMLBody = '''<h3>Dear {Name}</h3><br>\n",
    "        This email is to inform you that you currently have <strong>${Amount}</strong> due <em>{Date}</em>.<br><br>\n",
    "        We appreciate that you have been a member since {YearStart}.<br><br>\n",
    "        We look forward to your continued business. Would you plese confirm that we use the following payment method on file: <strong>{PaymentMethod}</strong>.\n",
    "        <br>\n",
    "        {Comment}<br><br>\n",
    "        Feel free to contact us if you have any questions.<br>\n",
    "                            Thank you<br>\n",
    "                            Data Sleuth LLC<br>\n",
    "                            Customer Service Rep<br>\n",
    "                            Ph: 555-555-5555<br>\n",
    "                            '''.format(Name=row['Name'], Name2=row['Name2'], Amount=row['Amount'], Date=row['Date'], YearStart=row['YearStart'], PaymentMethod=row['PaymentMethod'], Comment=row['Comment'])\n",
    "        \n",
    "        # To attach a file to the email (optional):\n",
    "        attachment  = \"invoice.pdf\"\n",
    "        mail.Attachments.Add(attachment)\n",
    "\n",
    "        mail.Send()"
   ]
  },
  {
   "cell_type": "markdown",
   "metadata": {},
   "source": [
    "<hr style=\"border-top: 3px solid Black;\">"
   ]
  },
  {
   "cell_type": "code",
   "execution_count": null,
   "metadata": {},
   "outputs": [],
   "source": [
    "# run function: mail merge will be performed and email sent out.\n",
    "sendEmail(df_email)"
   ]
  },
  {
   "cell_type": "markdown",
   "metadata": {},
   "source": [
    "<hr style=\"border-top: 3px solid Black;\">"
   ]
  },
  {
   "cell_type": "markdown",
   "metadata": {},
   "source": [
    "<div style=\"font-size:16px; border:1px solid black; padding:10px\">\n",
    "    <center><h1>Code explained</h1></center>\n",
    "    <ul>\n",
    "        <li><code>for index, row in df.iterrows():</code><br>\n",
    "        This code iterates through each row in a pandas dataframe.\n",
    "        </li>\n",
    "        <br>\n",
    "        <li>\n",
    "            <code>outlook = win32.Dispatch('outlook.application')</code><br>\n",
    "            <code>mail = outlook.CreateItem(0)</code><br>\n",
    "        These two lines of code create an outlook object.\n",
    "        </li>\n",
    "        <br>\n",
    "        <li>\n",
    "            <code>mail.To = '{contact1}'.format(contact1= row['Email1'])</code>\n",
    "            <br>\n",
    "        You indicate which email to send in the \"To\" field.\n",
    "            <br>\n",
    "        Using <code>'{}'.format()</code> method to add fields into the email. The format()\n",
    "        method formats the specified value(s) and inserts the values inside the string's\n",
    "        placeholder.\n",
    "            <br>\n",
    "            You could use: <code>f'{}'</code> method.\n",
    "        </li>\n",
    "        <br>\n",
    "        <li><code>if pd.notna(row['Email2']):\n",
    "            mail.CC = '{contact2}'.format(contact2=row['Email2']) </code><br>\n",
    "        This code checks if there is a second contact that needs to be included, if there is then it will add it to the <em>cc</em> field. You can always do the same for the <code>mail.To</code> field.\n",
    "        </li>            \n",
    "        <br>\n",
    "        <li>\n",
    "            <code>mail.Subject = '[Payment Due] - {Amount} Missing Documentation'.format(Amount=row['Amount'])\n",
    "            </code>\n",
    "            This code will add the subject line information. Note I use the .format() method and insert the variable name within the curly braces and then invoke it in the format parameter using variable=row['variable']\n",
    "        </li>\n",
    "        <br>\n",
    "        <li>\n",
    "            <code>mail.Body = ''</code><br>\n",
    "            This code creates an empty body where the body of the email will be inserted.\n",
    "        </li>\n",
    "        <br>\n",
    "        <li>\n",
    "            <code>mail.HTMLBody = '''...'''</code><br>\n",
    "            This code is the actual content and variable are included using the format() method.\n",
    "        </li>\n",
    "        <br> \n",
    "        <li>\n",
    "            <code>attachment  = \"invoice.pdf\"</code><br>\n",
    "            In case you want to include an attachment, this code will assign the file to a variable. You will need to provide the right filepath depending on where the file resides.\n",
    "        </li>\n",
    "        <br>\n",
    "        <li>\n",
    "            <code>mail.Attachments.Add(attachment)</code><br>\n",
    "            This actually attaches the file to the email.\n",
    "        </li>\n",
    "        <br> \n",
    "        <li>\n",
    "            <code>mail.Send()</code><br>\n",
    "            This will send the email.\n",
    "        </li>\n",
    "        <br>         \n",
    "    </ul>\n",
    "</div>"
   ]
  }
 ],
 "metadata": {
  "kernelspec": {
   "display_name": "Python 3",
   "language": "python",
   "name": "python3"
  },
  "language_info": {
   "codemirror_mode": {
    "name": "ipython",
    "version": 3
   },
   "file_extension": ".py",
   "mimetype": "text/x-python",
   "name": "python",
   "nbconvert_exporter": "python",
   "pygments_lexer": "ipython3",
   "version": "3.8.5"
  }
 },
 "nbformat": 4,
 "nbformat_minor": 2
}

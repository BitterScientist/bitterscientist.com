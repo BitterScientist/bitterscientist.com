{
 "cells": [
  {
   "cell_type": "markdown",
   "metadata": {},
   "source": [
    "# Import Dependencies"
   ]
  },
  {
   "cell_type": "code",
   "execution_count": 1,
   "metadata": {},
   "outputs": [],
   "source": [
    "import requests"
   ]
  },
  {
   "cell_type": "markdown",
   "metadata": {},
   "source": [
    "<em>Base URL</em><br>\n",
    " - Host = <code>https://api.census.gov/data</code>\n",
    " - Year = <code>2010</code>\n",
    " - Dataset = <code>dec/sf1</code>"
   ]
  },
  {
   "cell_type": "code",
   "execution_count": 6,
   "metadata": {},
   "outputs": [],
   "source": [
    "HOST = \"https://api.census.gov/data\"\n",
    "year = \"2010\"\n",
    "dataset = \"dec/sf1\"\n",
    "base_url = \"/\".join([HOST, year, dataset])\n",
    "predicates = {}\n",
    "get_vars = [\"NAME\", \"P001001\"]\n",
    "predicates[\"get\"] = \",\".join(get_vars)\n",
    "predicates[\"for\"] = \"state:*\"\n",
    "r = requests.get(base_url, params=predicates)"
   ]
  },
  {
   "cell_type": "code",
   "execution_count": 7,
   "metadata": {},
   "outputs": [
    {
     "name": "stdout",
     "output_type": "stream",
     "text": [
      "[[\"NAME\",\"P001001\",\"state\"],\n",
      "[\"Alabama\",\"4779736\",\"01\"],\n",
      "[\"Alaska\",\"710231\",\"02\"],\n",
      "[\"Arizona\",\"6392017\",\"04\"],\n",
      "[\"Arkansas\",\"2915918\",\"05\"],\n",
      "[\"California\",\"37253956\",\"06\"],\n",
      "[\"Louisiana\",\"4533372\",\"22\"],\n",
      "[\"Kentucky\",\"4339367\",\"21\"],\n",
      "[\"Colorado\",\"5029196\",\"08\"],\n",
      "[\"Connecticut\",\"3574097\",\"09\"],\n",
      "[\"Delaware\",\"897934\",\"10\"],\n",
      "[\"District of Columbia\",\"601723\",\"11\"],\n",
      "[\"Florida\",\"18801310\",\"12\"],\n",
      "[\"Georgia\",\"9687653\",\"13\"],\n",
      "[\"Hawaii\",\"1360301\",\"15\"],\n",
      "[\"Idaho\",\"1567582\",\"16\"],\n",
      "[\"Illinois\",\"12830632\",\"17\"],\n",
      "[\"Indiana\",\"6483802\",\"18\"],\n",
      "[\"Iowa\",\"3046355\",\"19\"],\n",
      "[\"Kansas\",\"2853118\",\"20\"],\n",
      "[\"Maine\",\"1328361\",\"23\"],\n",
      "[\"Maryland\",\"5773552\",\"24\"],\n",
      "[\"Massachusetts\",\"6547629\",\"25\"],\n",
      "[\"Michigan\",\"9883640\",\"26\"],\n",
      "[\"Minnesota\",\"5303925\",\"27\"],\n",
      "[\"Mississippi\",\"2967297\",\"28\"],\n",
      "[\"Missouri\",\"5988927\",\"29\"],\n",
      "[\"Montana\",\"989415\",\"30\"],\n",
      "[\"Nebraska\",\"1826341\",\"31\"],\n",
      "[\"Nevada\",\"2700551\",\"32\"],\n",
      "[\"New Hampshire\",\"1316470\",\"33\"],\n",
      "[\"New Jersey\",\"8791894\",\"34\"],\n",
      "[\"New Mexico\",\"2059179\",\"35\"],\n",
      "[\"New York\",\"19378102\",\"36\"],\n",
      "[\"North Carolina\",\"9535483\",\"37\"],\n",
      "[\"North Dakota\",\"672591\",\"38\"],\n",
      "[\"Ohio\",\"11536504\",\"39\"],\n",
      "[\"Oklahoma\",\"3751351\",\"40\"],\n",
      "[\"Oregon\",\"3831074\",\"41\"],\n",
      "[\"Pennsylvania\",\"12702379\",\"42\"],\n",
      "[\"Rhode Island\",\"1052567\",\"44\"],\n",
      "[\"South Carolina\",\"4625364\",\"45\"],\n",
      "[\"South Dakota\",\"814180\",\"46\"],\n",
      "[\"Tennessee\",\"6346105\",\"47\"],\n",
      "[\"Texas\",\"25145561\",\"48\"],\n",
      "[\"Utah\",\"2763885\",\"49\"],\n",
      "[\"Vermont\",\"625741\",\"50\"],\n",
      "[\"Virginia\",\"8001024\",\"51\"],\n",
      "[\"Washington\",\"6724540\",\"53\"],\n",
      "[\"West Virginia\",\"1852994\",\"54\"],\n",
      "[\"Wisconsin\",\"5686986\",\"55\"],\n",
      "[\"Wyoming\",\"563626\",\"56\"],\n",
      "[\"Puerto Rico\",\"3725789\",\"72\"]]\n"
     ]
    }
   ],
   "source": [
    "print(r.text)"
   ]
  },
  {
   "cell_type": "code",
   "execution_count": null,
   "metadata": {},
   "outputs": [],
   "source": []
  }
 ],
 "metadata": {
  "kernelspec": {
   "display_name": "Python 3",
   "language": "python",
   "name": "python3"
  },
  "language_info": {
   "codemirror_mode": {
    "name": "ipython",
    "version": 3
   },
   "file_extension": ".py",
   "mimetype": "text/x-python",
   "name": "python",
   "nbconvert_exporter": "python",
   "pygments_lexer": "ipython3",
   "version": "3.7.7"
  }
 },
 "nbformat": 4,
 "nbformat_minor": 2
}

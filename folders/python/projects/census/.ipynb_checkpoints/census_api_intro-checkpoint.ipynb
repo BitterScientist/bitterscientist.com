{
 "cells": [
  {
   "cell_type": "markdown",
   "metadata": {},
   "source": [
    "<div style=\"font-size:16px; border:1px solid black; padding:10px\">\n",
    "    <center><h1>Goals</h1></center>\n",
    "<ul>\n",
    "<li>Demonstrate how to construct a Census API request and load the response into a pandas dataframe<br>          \n",
    "    </li><br> \n",
    "</ul>\n",
    "</div>"
   ]
  },
  {
   "cell_type": "markdown",
   "metadata": {},
   "source": [
    "<hr style=\"border-top: 3px solid Black;\">"
   ]
  },
  {
   "cell_type": "markdown",
   "metadata": {},
   "source": [
    "# Import Dependencies"
   ]
  },
  {
   "cell_type": "code",
   "execution_count": 1,
   "metadata": {},
   "outputs": [],
   "source": [
    "import requests\n",
    "import pandas as pd"
   ]
  },
  {
   "cell_type": "markdown",
   "metadata": {},
   "source": [
    "<div style=\"font-size:16px; border:1px solid black; padding:10px\">\n",
    "    <h3>Dependencies explained</h3>\n",
    "<ul>    \n",
    "    <li><code>requests</code>: library allows users to send HTTP/1.1 requests extremely easily. Obviates the need to manually add query strings to your URLs, or to form-encode your <code>PUT, POST</code> data.<ul>\n",
    "            <li>Request Documentation(12/6/20)<br>     \n",
    "                <a href=\"https://requests.readthedocs.io/en/master/\">python requests documentation</a></li></ul>\n",
    "    </li>\n",
    "    <br>\n",
    "    <li><code>pandas</code>: open source data analysis and manipulation tool, built on top of the Python programming language.\n",
    "    </li>\n",
    "    <li>Will be used in this example to load and manipulate census data\n",
    "    <ul>\n",
    "        <li>Python Documentation(12/6/20)<br>     \n",
    "                <a href=\"https://pandas.pydata.org/\">python pandas documentation</a></li>\n",
    "    </ul>\n",
    "    </li>\n",
    "</ul>\n",
    "</div>"
   ]
  },
  {
   "cell_type": "markdown",
   "metadata": {},
   "source": [
    "<hr style=\"border-top: 3px solid Black;\">"
   ]
  },
  {
   "cell_type": "markdown",
   "metadata": {},
   "source": [
    "<div style=\"font-size:16px; border:1px solid black; padding:10px\">\n",
    "\n",
    "<h2>Elements of a Census API Request</h2>\n",
    "\n",
    "<h3><em>Base URL</em>is everything before the <code>?</code> mark.</h3>\n",
    "<ul>\n",
    "    <li>Host = <code>https://api.census.gov/data</code></li>\n",
    "     <li>Year = <code>2010</code></li>\n",
    "     <li>Dataset = <code>dec/sf1</code></li>    \n",
    "</ul> \n",
    "\n",
    "<h3><em>Query String</em> is everything after the <code>?</code> mark.</h3>\n",
    "<ul>\n",
    "    <li><code>get</code>: specifies the parameters such as the variables being requested.</li>\n",
    "     <li><code>for</code>: specifies the geography of interest</li>\n",
    "</ul> \n",
    "    </div>"
   ]
  },
  {
   "cell_type": "markdown",
   "metadata": {},
   "source": [
    "<h3>Step 1: Define variables</h3>\n",
    "<li><code>dataset</code>: stands for summary fie 1 and refers to the full count data from the decennial census.</li>"
   ]
  },
  {
   "cell_type": "code",
   "execution_count": 2,
   "metadata": {},
   "outputs": [],
   "source": [
    "HOST = \"https://api.census.gov/data\"\n",
    "year = \"2010\"\n",
    "dataset = \"dec/sf1\""
   ]
  },
  {
   "cell_type": "markdown",
   "metadata": {},
   "source": [
    "<h3>Step 2: Build base URL by joining variables with slashes</h3>"
   ]
  },
  {
   "cell_type": "code",
   "execution_count": 3,
   "metadata": {},
   "outputs": [],
   "source": [
    "base_url = \"/\".join([HOST, year, dataset])"
   ]
  },
  {
   "cell_type": "markdown",
   "metadata": {},
   "source": [
    "<h3>Step 3: Build and Explain the <strong><code>requests.get()</code></strong> method and the <strong>query string</strong> (everything after question mark)</h3>\n",
    "\n",
    "<strong><code>requests.get()</code></strong>: the request method accepts query parameters as a dictionary.<br> \n",
    "<ol>General Steps:\n",
    "<li>Census API documentations refers to these parameters as <em>predicates</em>, so name and instantiate a python dictionary <strong><em>predicates = {}</em></strong></li>\n",
    "    <ul>\n",
    "<li><code>\"Name\"</code>: is the name of the geographic unit</li>\n",
    "<li><code>\"P001001\"</code>: is the full population counts</li>\n",
    "    </ul>        \n",
    "<li><code>predicates[\"get\"]</code>: is the dictionary key that is created using the <code>.join()</code> method to join the variable names into a comma-seperated string.</li>\n",
    "<li><code>predicates[\"for\"]</code>: Sets the geographic level</li>   <li><code>\"state:*\"</code>: the wild card requests all states</li> \n",
    "<li><code>r = requests.get(base_url, params=predicates)</code>: Executes the request and stores the return value in a response object that we called <strong><code>r</code></strong> for response in this example</li>     \n",
    "</ol>    "
   ]
  },
  {
   "cell_type": "code",
   "execution_count": 4,
   "metadata": {},
   "outputs": [],
   "source": [
    "predicates = {}\n",
    "get_vars = [\"NAME\", \"P001001\"]\n",
    "predicates[\"get\"] = \",\".join(get_vars)\n",
    "predicates[\"for\"] = \"state:*\"\n",
    "r = requests.get(base_url, params=predicates)"
   ]
  },
  {
   "cell_type": "markdown",
   "metadata": {},
   "source": [
    "<hr style=\"border-top: 3px solid Black;\">"
   ]
  },
  {
   "cell_type": "markdown",
   "metadata": {},
   "source": [
    "<h3>Step 4: Methods to Return Payload Response Object Content.</h3><br>\n",
    "\n",
    "<div style=\"font-size:16px; border:1px solid black; padding:10px\">\n",
    "The response of a GET request is known as a payload. Using the attributes and methods of Response, you can view the payload in a variety of different formats.<br>\n",
    "    <ul>\n",
    "        <li><code>r.content</code>: access to the raw bytes of the payload. Not very readable.\n",
    "        </li><br>\n",
    "        <li><code>r.text</code>: converts the payload to a string using a character encoding such as UTF-8. You can specify the encoding using the <code>r.encoding()</code> method, with the encoding scheme as a string parameter, example <code>r.encoding('UTF-8')</code>.\n",
    "        </li><br>    \n",
    "         <li><code>r.json</code>:  returns payload as a dictionary, so you can access values in the object by key.\n",
    "        </li>\n",
    "         <li><code>r.header</code>:  returns a dictionary-like object, allowing you to access header values by key.\n",
    "        </li><br>        \n",
    "    </ul>\n",
    "</div>"
   ]
  },
  {
   "cell_type": "markdown",
   "metadata": {},
   "source": [
    "<h2>Using the <strong><code>.text()</code></strong> method on response object</h3>"
   ]
  },
  {
   "cell_type": "code",
   "execution_count": 5,
   "metadata": {},
   "outputs": [
    {
     "name": "stdout",
     "output_type": "stream",
     "text": [
      "[[\"NAME\",\"P001001\",\"state\"],\n",
      "[\"Alabama\",\"4779736\",\"01\"],\n",
      "[\"Alaska\",\"710231\",\"02\"],\n",
      "[\"Arizona\",\"6392017\",\"04\"],\n",
      "[\"Arkansas\",\"2915918\",\"05\"],\n",
      "[\"California\",\"37253956\",\"06\"],\n",
      "[\"Louisiana\",\"4533372\",\"22\"],\n",
      "[\"Kentucky\",\"4339367\",\"21\"],\n",
      "[\"Colorado\",\"5029196\",\"08\"],\n",
      "[\"Connecticut\",\"3574097\",\"09\"],\n",
      "[\"Delaware\",\"897934\",\"10\"],\n",
      "[\"District of Columbia\",\"601723\",\"11\"],\n",
      "[\"Florida\",\"18801310\",\"12\"],\n",
      "[\"Georgia\",\"9687653\",\"13\"],\n",
      "[\"Hawaii\",\"1360301\",\"15\"],\n",
      "[\"Idaho\",\"1567582\",\"16\"],\n",
      "[\"Illinois\",\"12830632\",\"17\"],\n",
      "[\"Indiana\",\"6483802\",\"18\"],\n",
      "[\"Iowa\",\"3046355\",\"19\"],\n",
      "[\"Kansas\",\"2853118\",\"20\"],\n",
      "[\"Maine\",\"1328361\",\"23\"],\n",
      "[\"Maryland\",\"5773552\",\"24\"],\n",
      "[\"Massachusetts\",\"6547629\",\"25\"],\n",
      "[\"Michigan\",\"9883640\",\"26\"],\n",
      "[\"Minnesota\",\"5303925\",\"27\"],\n",
      "[\"Mississippi\",\"2967297\",\"28\"],\n",
      "[\"Missouri\",\"5988927\",\"29\"],\n",
      "[\"Montana\",\"989415\",\"30\"],\n",
      "[\"Nebraska\",\"1826341\",\"31\"],\n",
      "[\"Nevada\",\"2700551\",\"32\"],\n",
      "[\"New Hampshire\",\"1316470\",\"33\"],\n",
      "[\"New Jersey\",\"8791894\",\"34\"],\n",
      "[\"New Mexico\",\"2059179\",\"35\"],\n",
      "[\"New York\",\"19378102\",\"36\"],\n",
      "[\"North Carolina\",\"9535483\",\"37\"],\n",
      "[\"North Dakota\",\"672591\",\"38\"],\n",
      "[\"Ohio\",\"11536504\",\"39\"],\n",
      "[\"Oklahoma\",\"3751351\",\"40\"],\n",
      "[\"Oregon\",\"3831074\",\"41\"],\n",
      "[\"Pennsylvania\",\"12702379\",\"42\"],\n",
      "[\"Rhode Island\",\"1052567\",\"44\"],\n",
      "[\"South Carolina\",\"4625364\",\"45\"],\n",
      "[\"South Dakota\",\"814180\",\"46\"],\n",
      "[\"Tennessee\",\"6346105\",\"47\"],\n",
      "[\"Texas\",\"25145561\",\"48\"],\n",
      "[\"Utah\",\"2763885\",\"49\"],\n",
      "[\"Vermont\",\"625741\",\"50\"],\n",
      "[\"Virginia\",\"8001024\",\"51\"],\n",
      "[\"Washington\",\"6724540\",\"53\"],\n",
      "[\"West Virginia\",\"1852994\",\"54\"],\n",
      "[\"Wisconsin\",\"5686986\",\"55\"],\n",
      "[\"Wyoming\",\"563626\",\"56\"],\n",
      "[\"Puerto Rico\",\"3725789\",\"72\"]]\n"
     ]
    }
   ],
   "source": [
    "print(r.text)"
   ]
  },
  {
   "cell_type": "markdown",
   "metadata": {},
   "source": [
    "<div style=\"font-size:16px; border:1px solid black; padding:10px\">\n",
    "    <ul><code>r.text</code> method summary\n",
    "        <li>payload is returned as a string.\n",
    "        </li><br>\n",
    "        <li>Each sublist is a \"row\" of data.\n",
    "        </li><br>    \n",
    "         <li>First row is the table header row.\n",
    "        </li>\n",
    "         <li>Since data are strings, with quotes, we will need clean to fix and convert to the correct data types in pandas.\n",
    "        </li><br>        \n",
    "    </ul>\n",
    "</div>"
   ]
  },
  {
   "cell_type": "markdown",
   "metadata": {},
   "source": [
    "<hr style=\"border-top: 3px solid Black;\">"
   ]
  },
  {
   "cell_type": "markdown",
   "metadata": {},
   "source": [
    "<h2>Using the <strong><code>.json()</code></strong> method on response object</h2>"
   ]
  },
  {
   "cell_type": "code",
   "execution_count": 6,
   "metadata": {},
   "outputs": [
    {
     "name": "stdout",
     "output_type": "stream",
     "text": [
      "['NAME', 'P001001', 'state']\n",
      "['Alabama', '4779736', '01']\n",
      "['Alaska', '710231', '02']\n",
      "['Arizona', '6392017', '04']\n",
      "['Arkansas', '2915918', '05']\n",
      "['California', '37253956', '06']\n",
      "['Louisiana', '4533372', '22']\n",
      "['Kentucky', '4339367', '21']\n",
      "['Colorado', '5029196', '08']\n",
      "['Connecticut', '3574097', '09']\n"
     ]
    }
   ],
   "source": [
    "# .json() returns a list of list. Inspect a few of these lists\n",
    "for list_item in r.json()[0:10]:\n",
    "    print(list_item)"
   ]
  },
  {
   "cell_type": "markdown",
   "metadata": {},
   "source": [
    "<div style=\"font-size:16px; border:1px solid black; padding:10px\">\n",
    "    <ul><strong><code>r.json</code> method summary</strong>\n",
    "        <li>Returns a list of lists\n",
    "        </li><br>    \n",
    "         <li>First sublist is the table header row.\n",
    "        </li><br>       \n",
    "    </ul>\n",
    "</div>"
   ]
  },
  {
   "cell_type": "markdown",
   "metadata": {},
   "source": [
    "<hr style=\"border-top: 3px solid Black;\">"
   ]
  },
  {
   "cell_type": "markdown",
   "metadata": {},
   "source": [
    "<h2>Load Data into Pandas Dataframe</h2>"
   ]
  },
  {
   "cell_type": "code",
   "execution_count": 7,
   "metadata": {},
   "outputs": [],
   "source": [
    "# step 1: create new column header names for ease of reading\n",
    "col_names = [\"state_name\", \"population_size\", \"state_id\"]"
   ]
  },
  {
   "cell_type": "code",
   "execution_count": 8,
   "metadata": {},
   "outputs": [],
   "source": [
    "# step 2: construct data frame using pandas\n",
    "df = pd.DataFrame(columns=col_names, data=r.json()[1:])"
   ]
  },
  {
   "cell_type": "markdown",
   "metadata": {},
   "source": [
    "<div style=\"font-size:16px; border:1px solid black; padding:10px\">\n",
    "    <ul><strong>Code Explanation</strong>\n",
    "        <li><code>pd.Dataframe()</code> instantiates a dataframe object\n",
    "        </li><br>    \n",
    "         <li><a href=\"https://pandas.pydata.org/pandas-docs/stable/reference/api/pandas.DataFrame.html\">Documentation</a>\n",
    "        </li><br>  \n",
    "        <li><code>columns</code> parameter is used to specify column names\n",
    "        </li><br>\n",
    "        <li><code>data</code> parameter is used to specify the data\n",
    "        </li><br>   \n",
    "        <li><code>r.json()[1:]</code> limits the payload response data to everything after the first list. The first list is the old column name list we do not want to import and use, so we skip it here.\n",
    "        </li><br>         \n",
    "    </ul>\n",
    "</div>"
   ]
  },
  {
   "cell_type": "markdown",
   "metadata": {},
   "source": [
    "<h2>Clean Data</h2>"
   ]
  },
  {
   "cell_type": "code",
   "execution_count": 9,
   "metadata": {},
   "outputs": [
    {
     "data": {
      "text/plain": [
       "state_name         object\n",
       "population_size    object\n",
       "state_id           object\n",
       "dtype: object"
      ]
     },
     "execution_count": 9,
     "metadata": {},
     "output_type": "execute_result"
    }
   ],
   "source": [
    "# inspect datatypes using .dtypes method\n",
    "df.dtypes"
   ]
  },
  {
   "cell_type": "code",
   "execution_count": 10,
   "metadata": {},
   "outputs": [],
   "source": [
    "# change population size column from object (string) to integers\n",
    "df['population_size'] = df['population_size'].astype(int)"
   ]
  },
  {
   "cell_type": "code",
   "execution_count": 11,
   "metadata": {},
   "outputs": [
    {
     "data": {
      "text/html": [
       "<div>\n",
       "<style scoped>\n",
       "    .dataframe tbody tr th:only-of-type {\n",
       "        vertical-align: middle;\n",
       "    }\n",
       "\n",
       "    .dataframe tbody tr th {\n",
       "        vertical-align: top;\n",
       "    }\n",
       "\n",
       "    .dataframe thead th {\n",
       "        text-align: right;\n",
       "    }\n",
       "</style>\n",
       "<table border=\"1\" class=\"dataframe\">\n",
       "  <thead>\n",
       "    <tr style=\"text-align: right;\">\n",
       "      <th></th>\n",
       "      <th>state_name</th>\n",
       "      <th>population_size</th>\n",
       "      <th>state_id</th>\n",
       "    </tr>\n",
       "  </thead>\n",
       "  <tbody>\n",
       "    <tr>\n",
       "      <th>0</th>\n",
       "      <td>Alabama</td>\n",
       "      <td>4779736</td>\n",
       "      <td>01</td>\n",
       "    </tr>\n",
       "    <tr>\n",
       "      <th>1</th>\n",
       "      <td>Alaska</td>\n",
       "      <td>710231</td>\n",
       "      <td>02</td>\n",
       "    </tr>\n",
       "    <tr>\n",
       "      <th>2</th>\n",
       "      <td>Arizona</td>\n",
       "      <td>6392017</td>\n",
       "      <td>04</td>\n",
       "    </tr>\n",
       "    <tr>\n",
       "      <th>3</th>\n",
       "      <td>Arkansas</td>\n",
       "      <td>2915918</td>\n",
       "      <td>05</td>\n",
       "    </tr>\n",
       "    <tr>\n",
       "      <th>4</th>\n",
       "      <td>California</td>\n",
       "      <td>37253956</td>\n",
       "      <td>06</td>\n",
       "    </tr>\n",
       "  </tbody>\n",
       "</table>\n",
       "</div>"
      ],
      "text/plain": [
       "   state_name  population_size state_id\n",
       "0     Alabama          4779736       01\n",
       "1      Alaska           710231       02\n",
       "2     Arizona          6392017       04\n",
       "3    Arkansas          2915918       05\n",
       "4  California         37253956       06"
      ]
     },
     "execution_count": 11,
     "metadata": {},
     "output_type": "execute_result"
    }
   ],
   "source": [
    "# inspect data\n",
    "df.head()"
   ]
  },
  {
   "cell_type": "markdown",
   "metadata": {},
   "source": [
    "<hr style=\"border-top: 3px solid Black;\">"
   ]
  },
  {
   "cell_type": "markdown",
   "metadata": {},
   "source": [
    "<h2>Export Data to a CSV file</h2>\n",
    "\n",
    "<code>df.to_csv('census_data.csv')</code><br>\n",
    "Documentation (12/6/20): <a href=\"https://pandas.pydata.org/pandas-docs/stable/reference/api/pandas.DataFrame.to_csv.html\">to_csv</a>"
   ]
  },
  {
   "cell_type": "markdown",
   "metadata": {},
   "source": [
    "<hr style=\"border-top: 3px solid Black;\">"
   ]
  },
  {
   "cell_type": "markdown",
   "metadata": {},
   "source": [
    "<div style=\"font-size:16px; border:1px solid black; padding:10px\">\n",
    "    <ul><strong>Common Error</strong>\n",
    "        <li><code>error: unknown variable'nonexistentvariable'</code>: variable name incorrectly specified.\n",
    "        </li><br>      \n",
    "    </ul>\n",
    "</div>"
   ]
  }
 ],
 "metadata": {
  "kernelspec": {
   "display_name": "Python 3",
   "language": "python",
   "name": "python3"
  },
  "language_info": {
   "codemirror_mode": {
    "name": "ipython",
    "version": 3
   },
   "file_extension": ".py",
   "mimetype": "text/x-python",
   "name": "python",
   "nbconvert_exporter": "python",
   "pygments_lexer": "ipython3",
   "version": "3.8.5"
  }
 },
 "nbformat": 4,
 "nbformat_minor": 2
}

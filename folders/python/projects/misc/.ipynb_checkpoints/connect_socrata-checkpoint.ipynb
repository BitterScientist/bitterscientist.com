{
 "cells": [
  {
   "cell_type": "markdown",
   "metadata": {},
   "source": [
    "# Import Dependencies\n",
    "\n",
    "- make sure to install these packages before running:\n",
    "- pip install pandas\n",
    "- pip install sodapy"
   ]
  },
  {
   "cell_type": "code",
   "execution_count": 6,
   "metadata": {},
   "outputs": [
    {
     "ename": "ModuleNotFoundError",
     "evalue": "No module named 'import_ipynb'",
     "output_type": "error",
     "traceback": [
      "\u001b[0;31m---------------------------------------------------------------------------\u001b[0m",
      "\u001b[0;31mModuleNotFoundError\u001b[0m                       Traceback (most recent call last)",
      "\u001b[0;32m<ipython-input-6-a9ad40068dc9>\u001b[0m in \u001b[0;36m<module>\u001b[0;34m\u001b[0m\n\u001b[1;32m      4\u001b[0m \u001b[0;34m\u001b[0m\u001b[0m\n\u001b[1;32m      5\u001b[0m \u001b[0;31m#Import keys\u001b[0m\u001b[0;34m\u001b[0m\u001b[0;34m\u001b[0m\u001b[0;34m\u001b[0m\u001b[0m\n\u001b[0;32m----> 6\u001b[0;31m \u001b[0;32mimport\u001b[0m \u001b[0mimport_ipynb\u001b[0m\u001b[0;34m\u001b[0m\u001b[0;34m\u001b[0m\u001b[0m\n\u001b[0m\u001b[1;32m      7\u001b[0m \u001b[0;31m# import\u001b[0m\u001b[0;34m\u001b[0m\u001b[0;34m\u001b[0m\u001b[0;34m\u001b[0m\u001b[0m\n\u001b[1;32m      8\u001b[0m \u001b[0;31m# %store APPTOKEN\u001b[0m\u001b[0;34m\u001b[0m\u001b[0;34m\u001b[0m\u001b[0;34m\u001b[0m\u001b[0m\n",
      "\u001b[0;31mModuleNotFoundError\u001b[0m: No module named 'import_ipynb'"
     ]
    }
   ],
   "source": [
    "import os\n",
    "import pandas as pd\n",
    "from sodapy import Socrata\n",
    "\n",
    "#Import keys\n",
    "import import_ipynb\n",
    "# import \n",
    "# %store APPTOKEN\n",
    "# %store KEYID\n",
    "# %store KEYSECRET"
   ]
  },
  {
   "cell_type": "code",
   "execution_count": 4,
   "metadata": {},
   "outputs": [
    {
     "ename": "NameError",
     "evalue": "name 'os' is not defined",
     "output_type": "error",
     "traceback": [
      "\u001b[0;31m---------------------------------------------------------------------------\u001b[0m",
      "\u001b[0;31mNameError\u001b[0m                                 Traceback (most recent call last)",
      "\u001b[0;32m<ipython-input-4-8a4c248606d6>\u001b[0m in \u001b[0;36m<module>\u001b[0;34m\u001b[0m\n\u001b[0;32m----> 1\u001b[0;31m \u001b[0mpath\u001b[0m \u001b[0;34m=\u001b[0m \u001b[0mos\u001b[0m\u001b[0;34m.\u001b[0m\u001b[0mgetcwd\u001b[0m\u001b[0;34m(\u001b[0m\u001b[0;34m)\u001b[0m\u001b[0;34m\u001b[0m\u001b[0;34m\u001b[0m\u001b[0m\n\u001b[0m",
      "\u001b[0;31mNameError\u001b[0m: name 'os' is not defined"
     ]
    }
   ],
   "source": [
    "path = os.getcwd()"
   ]
  },
  {
   "cell_type": "markdown",
   "metadata": {},
   "source": [
    "# Get Data from Data.lacity.org\n",
    "\n",
    " - Documentation: https://data.lacity.org/A-Prosperous-City/Listing-of-Active-Businesses/6rrh-rzua\n",
    " - Label: \"6rrh-rzua\""
   ]
  },
  {
   "cell_type": "markdown",
   "metadata": {},
   "source": [
    "# Unauthenticated Client\n",
    "\n",
    " - Sets throttling limits"
   ]
  },
  {
   "cell_type": "code",
   "execution_count": 2,
   "metadata": {},
   "outputs": [
    {
     "name": "stderr",
     "output_type": "stream",
     "text": [
      "WARNING:root:Requests made without an app_token will be subject to strict throttling limits.\n"
     ]
    },
    {
     "data": {
      "text/html": [
       "<div>\n",
       "<style scoped>\n",
       "    .dataframe tbody tr th:only-of-type {\n",
       "        vertical-align: middle;\n",
       "    }\n",
       "\n",
       "    .dataframe tbody tr th {\n",
       "        vertical-align: top;\n",
       "    }\n",
       "\n",
       "    .dataframe thead th {\n",
       "        text-align: right;\n",
       "    }\n",
       "</style>\n",
       "<table border=\"1\" class=\"dataframe\">\n",
       "  <thead>\n",
       "    <tr style=\"text-align: right;\">\n",
       "      <th></th>\n",
       "      <th>location_account</th>\n",
       "      <th>business_name</th>\n",
       "      <th>street_address</th>\n",
       "      <th>city</th>\n",
       "      <th>zip_code</th>\n",
       "      <th>location_description</th>\n",
       "      <th>naics</th>\n",
       "      <th>primary_naics_description</th>\n",
       "      <th>council_district</th>\n",
       "      <th>location_start_date</th>\n",
       "      <th>...</th>\n",
       "      <th>:@computed_region_qz3q_ghft</th>\n",
       "      <th>:@computed_region_kqwf_mjcx</th>\n",
       "      <th>:@computed_region_k96s_3jcv</th>\n",
       "      <th>:@computed_region_tatf_ua23</th>\n",
       "      <th>:@computed_region_2dna_qi2s</th>\n",
       "      <th>mailing_address</th>\n",
       "      <th>mailing_city</th>\n",
       "      <th>mailing_zip_code</th>\n",
       "      <th>:@computed_region_ur2y_g4cx</th>\n",
       "      <th>dba_name</th>\n",
       "    </tr>\n",
       "  </thead>\n",
       "  <tbody>\n",
       "    <tr>\n",
       "      <th>0</th>\n",
       "      <td>0000000108-0001-3</td>\n",
       "      <td>PALACE OF VENICE GUEST HOME /C</td>\n",
       "      <td>1727 CRENSHAW BLVD</td>\n",
       "      <td>LOS ANGELES</td>\n",
       "      <td>90019-6037</td>\n",
       "      <td>1727 CRENSHAW 90019-6037</td>\n",
       "      <td>721310</td>\n",
       "      <td>Rooming &amp; boarding houses</td>\n",
       "      <td>10</td>\n",
       "      <td>1991-05-15T00:00:00.000</td>\n",
       "      <td>...</td>\n",
       "      <td>23080</td>\n",
       "      <td>12</td>\n",
       "      <td>648</td>\n",
       "      <td>1105</td>\n",
       "      <td>19</td>\n",
       "      <td>NaN</td>\n",
       "      <td>NaN</td>\n",
       "      <td>NaN</td>\n",
       "      <td>NaN</td>\n",
       "      <td>NaN</td>\n",
       "    </tr>\n",
       "    <tr>\n",
       "      <th>1</th>\n",
       "      <td>0000000115-0001-3</td>\n",
       "      <td>VINCENZO LABELLA</td>\n",
       "      <td>521 SWARTHMORE AVENUE</td>\n",
       "      <td>PACIFIC PALISADES</td>\n",
       "      <td>90272-4350</td>\n",
       "      <td>521 SWARTHMORE 90272-4350</td>\n",
       "      <td>561500</td>\n",
       "      <td>Travel arrangement &amp; reservation services</td>\n",
       "      <td>11</td>\n",
       "      <td>1990-01-01T00:00:00.000</td>\n",
       "      <td>...</td>\n",
       "      <td>NaN</td>\n",
       "      <td>NaN</td>\n",
       "      <td>NaN</td>\n",
       "      <td>NaN</td>\n",
       "      <td>NaN</td>\n",
       "      <td>521 SWARTHMORE AVENUE</td>\n",
       "      <td>PACIFIC PALISADES</td>\n",
       "      <td>90272-4350</td>\n",
       "      <td>NaN</td>\n",
       "      <td>NaN</td>\n",
       "    </tr>\n",
       "  </tbody>\n",
       "</table>\n",
       "<p>2 rows × 21 columns</p>\n",
       "</div>"
      ],
      "text/plain": [
       "    location_account                   business_name         street_address  \\\n",
       "0  0000000108-0001-3  PALACE OF VENICE GUEST HOME /C     1727 CRENSHAW BLVD   \n",
       "1  0000000115-0001-3                VINCENZO LABELLA  521 SWARTHMORE AVENUE   \n",
       "\n",
       "                city    zip_code       location_description   naics  \\\n",
       "0        LOS ANGELES  90019-6037   1727 CRENSHAW 90019-6037  721310   \n",
       "1  PACIFIC PALISADES  90272-4350  521 SWARTHMORE 90272-4350  561500   \n",
       "\n",
       "                   primary_naics_description council_district  \\\n",
       "0                  Rooming & boarding houses               10   \n",
       "1  Travel arrangement & reservation services               11   \n",
       "\n",
       "       location_start_date  ... :@computed_region_qz3q_ghft  \\\n",
       "0  1991-05-15T00:00:00.000  ...                       23080   \n",
       "1  1990-01-01T00:00:00.000  ...                         NaN   \n",
       "\n",
       "  :@computed_region_kqwf_mjcx :@computed_region_k96s_3jcv  \\\n",
       "0                          12                         648   \n",
       "1                         NaN                         NaN   \n",
       "\n",
       "  :@computed_region_tatf_ua23 :@computed_region_2dna_qi2s  \\\n",
       "0                        1105                          19   \n",
       "1                         NaN                         NaN   \n",
       "\n",
       "         mailing_address       mailing_city mailing_zip_code  \\\n",
       "0                    NaN                NaN              NaN   \n",
       "1  521 SWARTHMORE AVENUE  PACIFIC PALISADES       90272-4350   \n",
       "\n",
       "  :@computed_region_ur2y_g4cx dba_name  \n",
       "0                         NaN      NaN  \n",
       "1                         NaN      NaN  \n",
       "\n",
       "[2 rows x 21 columns]"
      ]
     },
     "execution_count": 2,
     "metadata": {},
     "output_type": "execute_result"
    }
   ],
   "source": [
    "# Unauthenticated client only works with public data sets. Note 'None'\n",
    "# in place of application token, and no username or password:\n",
    "client = Socrata(\"data.lacity.org\", None)\n",
    "\n",
    "# First 2000 results, returned as JSON from API / converted to Python list of\n",
    "# dictionaries by sodapy.\n",
    "results = client.get(\"6rrh-rzua\", limit=2000)\n",
    "\n",
    "# Convert to pandas DataFrame\n",
    "results_df = pd.DataFrame.from_records(results)\n",
    "results_df.head(2)"
   ]
  },
  {
   "cell_type": "markdown",
   "metadata": {},
   "source": [
    "# Authenticated Client\n",
    "\n",
    " - Requires authentication with tokens, you need to apply for it using documentation link below.\n",
    " - Documentation: https://dev.socrata.com/docs/app-tokens.html\n",
    " - The following is true as of 7/19/20, please check documentation in case changes have been made."
   ]
  },
  {
   "cell_type": "markdown",
   "metadata": {},
   "source": [
    "<strong><code>client = Socrata(data.lacity.org,\n",
    "                  MyAppToken,\n",
    "                  userame=\"user@example.com\",\n",
    "                  password=\"AFakePassword\")</code></strong>"
   ]
  },
  {
   "cell_type": "markdown",
   "metadata": {},
   "source": [
    "## Parameters Explained\n",
    "\n",
    " - <strong>Parameter 1:<code>data.lacity.org</code>:</strong> the website that contains the data\n",
    " - <strong>Parameter 2:<code>MyAppToken</code>:</strong> the App Token code assigned when request is approved\n",
    " - <strong>Parameter 3:<code>userame=\"user@example.com\"</code>:</strong> Apply for the API Key and use the <strong>KEYID</strong> here.\n",
    " - <strong>Parameter 4:<code>password=\"AFakePassword\"</code>:</strong> Apply for the API Key and use the <strong>KEY SECRET</strong>."
   ]
  },
  {
   "cell_type": "code",
   "execution_count": null,
   "metadata": {},
   "outputs": [],
   "source": [
    "# Example authenticated client (needed for non-public datasets):\n",
    "client = Socrata(data.lacity.org,\n",
    "                 MyAppToken=APPTOKEN,\n",
    "                 username=KEYID,\n",
    "                 password=KEYSECRET)\n",
    "\n",
    "# First 2000 results, returned as JSON from API / converted to Python list of\n",
    "# dictionaries by sodapy.\n",
    "results = client.get(\"6rrh-rzua\", limit=2000)\n",
    "\n",
    "# Convert to pandas DataFrame\n",
    "results_df = pd.DataFrame.from_records(results)"
   ]
  }
 ],
 "metadata": {
  "kernelspec": {
   "display_name": "Python 3",
   "language": "python",
   "name": "python3"
  },
  "language_info": {
   "codemirror_mode": {
    "name": "ipython",
    "version": 3
   },
   "file_extension": ".py",
   "mimetype": "text/x-python",
   "name": "python",
   "nbconvert_exporter": "python",
   "pygments_lexer": "ipython3",
   "version": "3.7.7"
  }
 },
 "nbformat": 4,
 "nbformat_minor": 2
}

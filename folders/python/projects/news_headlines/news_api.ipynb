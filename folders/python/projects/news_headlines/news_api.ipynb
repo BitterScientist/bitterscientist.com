{
 "cells": [
  {
   "cell_type": "markdown",
   "metadata": {},
   "source": [
    "<div style=\"font-size:16px; border:1px solid black; padding:10px\">\n",
    "    <center><h1>News API</h1></center>\n",
    "<ul>\n",
    "    <li>An HTTP REST JSON API JSON for live news and blog headlines that</li><br>\n",
    "    <li>You can search for articles with any combination of the following criteria:\n",
    "        <ul>\n",
    "            <li>Keyword or phrase.</li>\n",
    "            <li>Date published</li>\n",
    "            <li>Source name</li>\n",
    "            <li>Source domain name</li>\n",
    "            <li>Language</li>\n",
    "            <li>You can sort the results: date, relevance to keyword, and popularity</li>\n",
    "        </ul>\n",
    "    </li><br>\n",
    "    <li>You need an API key to use the API, and it's free for development, open-source, and non-commercial use: <a href=\"https://newsapi.org/account\">Create News API Account</a></li><br>\n",
    "    <li>There is a limit to the number of runs: 1000 month quota Hard Limit </li><br>\n",
    "    <li>Endpoints:\n",
    "        <ul>\n",
    "            <li>Top headlines <code>/v2/top-headlines</code></li>\n",
    "            <li>Everything <code>/v2/everything</code></li>\n",
    "            <li>Sources <code>/v2/sources</code></li>\n",
    "        </ul>\n",
    "    </li><br>\n",
    "    <li>Has various client libraries, including python</li>\n",
    "    <li>To install python client use: <code>pip install newsapi-python</code></li>\n",
    "    <li>Source for code below: <a href=\"https://github.com/mattlisiv/newsapi-python\">mattlisiv/newsapi-python</a></li>\n",
    "    <li><strong>Limitation:</strong> One of the limites of the free plan, it that you can only query as far back as a month from the current date</li>\n",
    "</ul>\n",
    "</div>\n",
    "<br>\n",
    "<div style=\"font-size:16px; border:1px solid black; padding:10px\">\n",
    "    <center><h1>Goal of this post</h1></center>\n",
    "<ul>\n",
    "    <li>Demonstate how to make an <strong><font color=\"red\">Everything <code>/v2/everything</code></font></strong> quert using News API</li><br>\n",
    "    <li>This query type searches through millions of articles from over 50,000 large and small news sources and blogs. This includes breaking news as well as lesser articles.</li><br>\n",
    "    <li>Convert response into a pandas dataframe</li><br>\n",
    "    <li>For information on the other search methods, please read the documentation provided in the link above</li> \n",
    "</ul>\n",
    "</div>"
   ]
  },
  {
   "cell_type": "markdown",
   "metadata": {},
   "source": [
    "<hr style=\"border-top: 3px solid Black;\">"
   ]
  },
  {
   "cell_type": "markdown",
   "metadata": {},
   "source": [
    "<h1>Import Dependencies</h1>"
   ]
  },
  {
   "cell_type": "code",
   "execution_count": 1,
   "metadata": {},
   "outputs": [],
   "source": [
    "# News API client, must pip install newsapi-python\n",
    "from newsapi import NewsApiClient\n",
    "# store data in pandas dataframe\n",
    "import pandas as pd"
   ]
  },
  {
   "cell_type": "markdown",
   "metadata": {},
   "source": [
    "<h1>Create and initialize the application</h1>"
   ]
  },
  {
   "cell_type": "code",
   "execution_count": 2,
   "metadata": {},
   "outputs": [],
   "source": [
    "# Init\n",
    "newsapi = NewsApiClient(api_key='dcab1395ca514d8fb827f38b618a2d69')\n",
    "\n",
    "# /v2/top-headlines\n",
    "# top_headlines = newsapi.get_top_headlines(q='coronavirus',\n",
    "#                                           sources='bbc-news,the-verge',\n",
    "#                                           category='business',\n",
    "#                                           language='en',\n",
    "#                                           country='us')\n",
    "\n",
    "# /v2/everything\n",
    "all_articles = newsapi.get_everything(q='coronavirus',\n",
    "                                      sources='bbc-news',\n",
    "                                      domains='bbc.co.uk',\n",
    "                                      from_param='2020-08-04',\n",
    "                                      to='2020-09-01',\n",
    "                                      language='en',\n",
    "                                      sort_by='relevancy',\n",
    "                                      page=5)\n",
    "\n",
    "# # /v2/sources\n",
    "# sources = newsapi.get_sources()"
   ]
  },
  {
   "cell_type": "markdown",
   "metadata": {},
   "source": [
    "<h1>Extract the articles data from the <code>all_articles</code>dictionary</h1>"
   ]
  },
  {
   "cell_type": "code",
   "execution_count": 3,
   "metadata": {},
   "outputs": [],
   "source": [
    "data = all_articles['articles']"
   ]
  },
  {
   "cell_type": "markdown",
   "metadata": {},
   "source": [
    "<div style=\"font-size:14px; border:1px solid black; padding:10px\">\n",
    "    <center><h1>Extract the articles data from the <code>all_articles</code> dictionary</h1></center>\n",
    "<ul>\n",
    "    <li><code>data</code> is a list of dictionaries</li><br>\n",
    "    <li>Can use <code>pd.DataFrame(data)</code> to convert into pandas dataframe</li> \n",
    "</ul>"
   ]
  },
  {
   "cell_type": "code",
   "execution_count": 4,
   "metadata": {},
   "outputs": [],
   "source": [
    "everything_df = pd.DataFrame(data)"
   ]
  },
  {
   "cell_type": "code",
   "execution_count": 5,
   "metadata": {
    "scrolled": true
   },
   "outputs": [
    {
     "data": {
      "text/html": [
       "<div>\n",
       "<style scoped>\n",
       "    .dataframe tbody tr th:only-of-type {\n",
       "        vertical-align: middle;\n",
       "    }\n",
       "\n",
       "    .dataframe tbody tr th {\n",
       "        vertical-align: top;\n",
       "    }\n",
       "\n",
       "    .dataframe thead th {\n",
       "        text-align: right;\n",
       "    }\n",
       "</style>\n",
       "<table border=\"1\" class=\"dataframe\">\n",
       "  <thead>\n",
       "    <tr style=\"text-align: right;\">\n",
       "      <th></th>\n",
       "      <th>source</th>\n",
       "      <th>author</th>\n",
       "      <th>title</th>\n",
       "      <th>description</th>\n",
       "      <th>url</th>\n",
       "      <th>urlToImage</th>\n",
       "      <th>publishedAt</th>\n",
       "      <th>content</th>\n",
       "    </tr>\n",
       "  </thead>\n",
       "  <tbody>\n",
       "    <tr>\n",
       "      <th>0</th>\n",
       "      <td>{'id': 'bbc-news', 'name': 'BBC News'}</td>\n",
       "      <td>https://www.facebook.com/bbcnews</td>\n",
       "      <td>Coronavirus: US passes six million Covid-19 cases</td>\n",
       "      <td>More than 183,000 people in the US have now di...</td>\n",
       "      <td>https://www.bbc.co.uk/news/world-53976793</td>\n",
       "      <td>https://ichef.bbci.co.uk/news/1024/branded_new...</td>\n",
       "      <td>2020-08-31T19:20:42Z</td>\n",
       "      <td>Image copyrightReutersImage caption\\r\\n The US...</td>\n",
       "    </tr>\n",
       "    <tr>\n",
       "      <th>1</th>\n",
       "      <td>{'id': 'bbc-news', 'name': 'BBC News'}</td>\n",
       "      <td>https://www.facebook.com/bbcnews</td>\n",
       "      <td>Paris Saint-Germain shirts to be banned in Mar...</td>\n",
       "      <td>Marseille are PSG's fierce rivals and disturba...</td>\n",
       "      <td>https://www.bbc.co.uk/news/world-europe-53868234</td>\n",
       "      <td>https://ichef.bbci.co.uk/news/1024/branded_new...</td>\n",
       "      <td>2020-08-21T16:01:17Z</td>\n",
       "      <td>Image copyrightGetty ImagesImage caption\\r\\n P...</td>\n",
       "    </tr>\n",
       "    <tr>\n",
       "      <th>2</th>\n",
       "      <td>{'id': 'bbc-news', 'name': 'BBC News'}</td>\n",
       "      <td>None</td>\n",
       "      <td>Valtteri Bottas fastest in first practice at S...</td>\n",
       "      <td>Valtteri Bottas leads Lewis Hamilton to a Merc...</td>\n",
       "      <td>https://www.bbc.co.uk/sport/formula1/53694572</td>\n",
       "      <td>https://ichef.bbci.co.uk/live-experience/cps/6...</td>\n",
       "      <td>2020-08-07T11:38:06Z</td>\n",
       "      <td>Second practice is live on the BBC Sport websi...</td>\n",
       "    </tr>\n",
       "    <tr>\n",
       "      <th>3</th>\n",
       "      <td>{'id': 'bbc-news', 'name': 'BBC News'}</td>\n",
       "      <td>https://www.facebook.com/bbcnews</td>\n",
       "      <td>US Postal Service: House agrees election cash ...</td>\n",
       "      <td>Democrats fear cost-cutting measures will hamp...</td>\n",
       "      <td>https://www.bbc.co.uk/news/election-us-2020-53...</td>\n",
       "      <td>https://ichef.bbci.co.uk/news/1024/branded_new...</td>\n",
       "      <td>2020-08-22T22:31:54Z</td>\n",
       "      <td>Image copyrightReutersImage caption\\r\\n The US...</td>\n",
       "    </tr>\n",
       "    <tr>\n",
       "      <th>4</th>\n",
       "      <td>{'id': 'bbc-news', 'name': 'BBC News'}</td>\n",
       "      <td>None</td>\n",
       "      <td>Cavendish left out of Tour de France again</td>\n",
       "      <td>Britain's Mark Cavendish is left out of Bahrai...</td>\n",
       "      <td>https://www.bbc.co.uk/sport/cycling/53867606</td>\n",
       "      <td>https://ichef.bbci.co.uk/live-experience/cps/6...</td>\n",
       "      <td>2020-08-21T14:45:12Z</td>\n",
       "      <td>Britain's Mark Cavendish has been left out of ...</td>\n",
       "    </tr>\n",
       "  </tbody>\n",
       "</table>\n",
       "</div>"
      ],
      "text/plain": [
       "                                   source                            author  \\\n",
       "0  {'id': 'bbc-news', 'name': 'BBC News'}  https://www.facebook.com/bbcnews   \n",
       "1  {'id': 'bbc-news', 'name': 'BBC News'}  https://www.facebook.com/bbcnews   \n",
       "2  {'id': 'bbc-news', 'name': 'BBC News'}                              None   \n",
       "3  {'id': 'bbc-news', 'name': 'BBC News'}  https://www.facebook.com/bbcnews   \n",
       "4  {'id': 'bbc-news', 'name': 'BBC News'}                              None   \n",
       "\n",
       "                                               title  \\\n",
       "0  Coronavirus: US passes six million Covid-19 cases   \n",
       "1  Paris Saint-Germain shirts to be banned in Mar...   \n",
       "2  Valtteri Bottas fastest in first practice at S...   \n",
       "3  US Postal Service: House agrees election cash ...   \n",
       "4         Cavendish left out of Tour de France again   \n",
       "\n",
       "                                         description  \\\n",
       "0  More than 183,000 people in the US have now di...   \n",
       "1  Marseille are PSG's fierce rivals and disturba...   \n",
       "2  Valtteri Bottas leads Lewis Hamilton to a Merc...   \n",
       "3  Democrats fear cost-cutting measures will hamp...   \n",
       "4  Britain's Mark Cavendish is left out of Bahrai...   \n",
       "\n",
       "                                                 url  \\\n",
       "0          https://www.bbc.co.uk/news/world-53976793   \n",
       "1   https://www.bbc.co.uk/news/world-europe-53868234   \n",
       "2      https://www.bbc.co.uk/sport/formula1/53694572   \n",
       "3  https://www.bbc.co.uk/news/election-us-2020-53...   \n",
       "4       https://www.bbc.co.uk/sport/cycling/53867606   \n",
       "\n",
       "                                          urlToImage           publishedAt  \\\n",
       "0  https://ichef.bbci.co.uk/news/1024/branded_new...  2020-08-31T19:20:42Z   \n",
       "1  https://ichef.bbci.co.uk/news/1024/branded_new...  2020-08-21T16:01:17Z   \n",
       "2  https://ichef.bbci.co.uk/live-experience/cps/6...  2020-08-07T11:38:06Z   \n",
       "3  https://ichef.bbci.co.uk/news/1024/branded_new...  2020-08-22T22:31:54Z   \n",
       "4  https://ichef.bbci.co.uk/live-experience/cps/6...  2020-08-21T14:45:12Z   \n",
       "\n",
       "                                             content  \n",
       "0  Image copyrightReutersImage caption\\r\\n The US...  \n",
       "1  Image copyrightGetty ImagesImage caption\\r\\n P...  \n",
       "2  Second practice is live on the BBC Sport websi...  \n",
       "3  Image copyrightReutersImage caption\\r\\n The US...  \n",
       "4  Britain's Mark Cavendish has been left out of ...  "
      ]
     },
     "execution_count": 5,
     "metadata": {},
     "output_type": "execute_result"
    }
   ],
   "source": [
    "everything_df.head()"
   ]
  }
 ],
 "metadata": {
  "kernelspec": {
   "display_name": "Python 3",
   "language": "python",
   "name": "python3"
  },
  "language_info": {
   "codemirror_mode": {
    "name": "ipython",
    "version": 3
   },
   "file_extension": ".py",
   "mimetype": "text/x-python",
   "name": "python",
   "nbconvert_exporter": "python",
   "pygments_lexer": "ipython3",
   "version": "3.8.5"
  }
 },
 "nbformat": 4,
 "nbformat_minor": 4
}

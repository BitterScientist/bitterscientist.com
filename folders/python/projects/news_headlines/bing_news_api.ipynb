{
 "cells": [
  {
   "cell_type": "markdown",
   "metadata": {},
   "source": [
    "<div style=\"font-size:16px; border:1px solid black; padding:10px\">\n",
    "    <center><h1>Bing News Search</h1></center>\n",
    "<ul>\n",
    "    <li>Microsft offers a free rapid api to search on Bing and get back a list of top news articles by category:\n",
    "        <ul>\n",
    "            <li>News Category</li>\n",
    "            <li>Search Query</li>\n",
    "            <li>News Trending Topics</li>\n",
    "        </ul>\n",
    "    </li><br>\n",
    "    <li>Sign up here for the freenium plan (good as of date of post): <a href=\"https://rapidapi.com/microsoft-azure-org-microsoft-cognitive-services/api/bing-news-search1/pricing\">Bing News Search API</a></li><br>\n",
    "    <li>There is a limit to the number of runs: 1000 month quota Hard Limit </li><br>\n",
    "    <li>Rapid api has a conviniet python code snippets (among other languages)</li><br>\n",
    "    <li>500 requests per day for develop/freemium plan.</li><br>\n",
    "    <li>Limitation: the search options each have their limitations, and the search query only returns headlines for the current date. You can't look back and get 30 days worth of news headlines, or a specific range</li>\n",
    "</ul>\n",
    "</div>\n",
    "<br>\n",
    "<div style=\"font-size:16px; border:1px solid black; padding:10px\">\n",
    "    <center><h1>Goal of this post</h1></center>\n",
    "<ul>\n",
    "    <li>Demonstate how to make a <strong><font color=\"red\">Search Query</font></strong> using Bing's News API call</li><br>\n",
    "    <li>Convert json response into a pandas dataframe</li><br>\n",
    "    <li>Normalize dataframe</li><br>\n",
    "    <li>Clean dataframe (relabel and drop irrelevant columns)</li><br>\n",
    "    <li>For information on the other search methods, please read the documentation provided in the link above</li> \n",
    "</ul>\n",
    "</div>"
   ]
  },
  {
   "cell_type": "markdown",
   "metadata": {},
   "source": [
    "<hr style=\"border-top: 3px solid Black;\">"
   ]
  },
  {
   "cell_type": "markdown",
   "metadata": {},
   "source": [
    "<h1>Import Dependencies</h1>"
   ]
  },
  {
   "cell_type": "code",
   "execution_count": 1,
   "metadata": {},
   "outputs": [],
   "source": [
    "import json\n",
    "import requests\n",
    "import pandas as pd"
   ]
  },
  {
   "cell_type": "markdown",
   "metadata": {},
   "source": [
    "<h1>Create and initialize the application</h1>"
   ]
  },
  {
   "cell_type": "code",
   "execution_count": 2,
   "metadata": {},
   "outputs": [],
   "source": [
    "import requests\n",
    "\n",
    "url = \"https://microsoft-azure-bing-news-search-v1.p.rapidapi.com/search\"\n",
    "\n",
    "querystring = {\"count\":\"1000\",\"mkt\":\"en-US\",\"q\":\"Coronavirus\", \"freshness\" : \"month\"}\n",
    "\n",
    "headers = {\n",
    "    'x-rapidapi-host': \"microsoft-azure-bing-news-search-v1.p.rapidapi.com\",\n",
    "    'x-rapidapi-key': \"YOUR_API_KEY\"\n",
    "    }\n",
    "\n",
    "response = requests.request(\"GET\", url, headers=headers, params=querystring)"
   ]
  },
  {
   "cell_type": "markdown",
   "metadata": {},
   "source": [
    "<h1>Convert Response to JSON</h1>"
   ]
  },
  {
   "cell_type": "code",
   "execution_count": 3,
   "metadata": {},
   "outputs": [],
   "source": [
    "json_response = response.json()"
   ]
  },
  {
   "cell_type": "markdown",
   "metadata": {},
   "source": [
    "<h1>Convert JSON to Pandas Dataframe</h1>"
   ]
  },
  {
   "cell_type": "code",
   "execution_count": 4,
   "metadata": {},
   "outputs": [],
   "source": [
    "df_step1 = pd.DataFrame(dict([ (k,pd.Series(v)) for k,v in json_response.items() ]))"
   ]
  },
  {
   "cell_type": "markdown",
   "metadata": {},
   "source": [
    "<h1>Normalize Data to Reveal Nested Columns</h1>"
   ]
  },
  {
   "cell_type": "code",
   "execution_count": 5,
   "metadata": {},
   "outputs": [],
   "source": [
    "df_step2 = pd.concat([df_step1.drop(['value'], axis=1), df_step1['value'].apply(pd.Series)], axis=1)"
   ]
  },
  {
   "cell_type": "code",
   "execution_count": 6,
   "metadata": {},
   "outputs": [],
   "source": [
    "df_step3 = pd.concat([df_step2.drop(['provider'], axis=1), df_step2['provider'].apply(pd.Series)], axis=1)"
   ]
  },
  {
   "cell_type": "markdown",
   "metadata": {},
   "source": [
    "<h2>Rename Columns</h2>"
   ]
  },
  {
   "cell_type": "code",
   "execution_count": 7,
   "metadata": {},
   "outputs": [],
   "source": [
    "df_step3.columns = ['_type', 'readLink', 'queryContext', 'totalEstimatedMatches', 'sort',\n",
    "                'delete1', 'about', 'category', 'datePublished', 'description', 'image',\n",
    "                 'mentions', 'name', 'url', 'video', 'split']"
   ]
  },
  {
   "cell_type": "code",
   "execution_count": 8,
   "metadata": {},
   "outputs": [],
   "source": [
    "df_final = pd.concat([df_step3.drop(['split'], axis=1), df_step3['split'].apply(pd.Series)], axis=1)"
   ]
  },
  {
   "cell_type": "markdown",
   "metadata": {},
   "source": [
    "<h2>Drop Irrelevant Columns</h2>"
   ]
  },
  {
   "cell_type": "code",
   "execution_count": 9,
   "metadata": {},
   "outputs": [],
   "source": [
    "drop_columns = ['_type', 'readLink', 'queryContext', 'totalEstimatedMatches','sort', 'delete1', 'about', 'image', 'mentions', 'video', 0, '_type', 'image', 'name']"
   ]
  },
  {
   "cell_type": "code",
   "execution_count": 10,
   "metadata": {},
   "outputs": [],
   "source": [
    "df_final.drop(drop_columns, axis=1, inplace=True)"
   ]
  },
  {
   "cell_type": "code",
   "execution_count": 11,
   "metadata": {},
   "outputs": [
    {
     "data": {
      "text/html": [
       "<div>\n",
       "<style scoped>\n",
       "    .dataframe tbody tr th:only-of-type {\n",
       "        vertical-align: middle;\n",
       "    }\n",
       "\n",
       "    .dataframe tbody tr th {\n",
       "        vertical-align: top;\n",
       "    }\n",
       "\n",
       "    .dataframe thead th {\n",
       "        text-align: right;\n",
       "    }\n",
       "</style>\n",
       "<table border=\"1\" class=\"dataframe\">\n",
       "  <thead>\n",
       "    <tr style=\"text-align: right;\">\n",
       "      <th></th>\n",
       "      <th>category</th>\n",
       "      <th>datePublished</th>\n",
       "      <th>description</th>\n",
       "      <th>url</th>\n",
       "    </tr>\n",
       "  </thead>\n",
       "  <tbody>\n",
       "    <tr>\n",
       "      <th>0</th>\n",
       "      <td>Entertainment</td>\n",
       "      <td>2020-09-04T13:23:00.0000000Z</td>\n",
       "      <td>Days after restarting production, the film has...</td>\n",
       "      <td>https://www.washingtonpost.com/nation/2020/09/...</td>\n",
       "    </tr>\n",
       "    <tr>\n",
       "      <th>1</th>\n",
       "      <td>World</td>\n",
       "      <td>2020-09-04T13:08:00.0000000Z</td>\n",
       "      <td>Japan's government said on Friday it would bea...</td>\n",
       "      <td>https://www.msn.com/en-au/lifestyle/wellbeing/...</td>\n",
       "    </tr>\n",
       "    <tr>\n",
       "      <th>2</th>\n",
       "      <td>Health</td>\n",
       "      <td>2020-09-04T13:19:00.0000000Z</td>\n",
       "      <td>After decades of research, clinical trials of ...</td>\n",
       "      <td>https://www.wsj.com/articles/as-covid-19-deple...</td>\n",
       "    </tr>\n",
       "    <tr>\n",
       "      <th>3</th>\n",
       "      <td>World</td>\n",
       "      <td>2020-09-04T13:14:00.0000000Z</td>\n",
       "      <td>The reason is a lack of supplies used to apply...</td>\n",
       "      <td>https://www.usnews.com/news/world/articles/202...</td>\n",
       "    </tr>\n",
       "    <tr>\n",
       "      <th>4</th>\n",
       "      <td>Health</td>\n",
       "      <td>2020-09-04T12:49:00.0000000Z</td>\n",
       "      <td>With a new flu season approaching, Chicago-are...</td>\n",
       "      <td>https://www.chicagotribune.com/coronavirus/ct-...</td>\n",
       "    </tr>\n",
       "  </tbody>\n",
       "</table>\n",
       "</div>"
      ],
      "text/plain": [
       "        category                 datePublished  \\\n",
       "0  Entertainment  2020-09-04T13:23:00.0000000Z   \n",
       "1          World  2020-09-04T13:08:00.0000000Z   \n",
       "2         Health  2020-09-04T13:19:00.0000000Z   \n",
       "3          World  2020-09-04T13:14:00.0000000Z   \n",
       "4         Health  2020-09-04T12:49:00.0000000Z   \n",
       "\n",
       "                                         description  \\\n",
       "0  Days after restarting production, the film has...   \n",
       "1  Japan's government said on Friday it would bea...   \n",
       "2  After decades of research, clinical trials of ...   \n",
       "3  The reason is a lack of supplies used to apply...   \n",
       "4  With a new flu season approaching, Chicago-are...   \n",
       "\n",
       "                                                 url  \n",
       "0  https://www.washingtonpost.com/nation/2020/09/...  \n",
       "1  https://www.msn.com/en-au/lifestyle/wellbeing/...  \n",
       "2  https://www.wsj.com/articles/as-covid-19-deple...  \n",
       "3  https://www.usnews.com/news/world/articles/202...  \n",
       "4  https://www.chicagotribune.com/coronavirus/ct-...  "
      ]
     },
     "execution_count": 11,
     "metadata": {},
     "output_type": "execute_result"
    }
   ],
   "source": [
    "df_final.head()"
   ]
  }
 ],
 "metadata": {
  "kernelspec": {
   "display_name": "Python 3",
   "language": "python",
   "name": "python3"
  },
  "language_info": {
   "codemirror_mode": {
    "name": "ipython",
    "version": 3
   },
   "file_extension": ".py",
   "mimetype": "text/x-python",
   "name": "python",
   "nbconvert_exporter": "python",
   "pygments_lexer": "ipython3",
   "version": "3.8.5"
  }
 },
 "nbformat": 4,
 "nbformat_minor": 4
}

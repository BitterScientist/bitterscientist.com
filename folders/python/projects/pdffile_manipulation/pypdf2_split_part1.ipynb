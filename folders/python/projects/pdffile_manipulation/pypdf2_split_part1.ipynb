{
 "cells": [
  {
   "cell_type": "markdown",
   "metadata": {},
   "source": [
    "# Import dependencies"
   ]
  },
  {
   "cell_type": "code",
   "execution_count": 1,
   "metadata": {},
   "outputs": [],
   "source": [
    "import os\n",
    "from PyPDF2 import PdfFileReader, PdfFileWriter"
   ]
  },
  {
   "cell_type": "markdown",
   "metadata": {},
   "source": [
    "# Prepare a list that will be used to help label split files"
   ]
  },
  {
   "cell_type": "code",
   "execution_count": 2,
   "metadata": {},
   "outputs": [
    {
     "name": "stdout",
     "output_type": "stream",
     "text": [
      "Stored 'labels' (list)\n"
     ]
    }
   ],
   "source": [
    "# List of labels that will be used to give each file\n",
    "# a unique tag. You would use your own list.\n",
    "labels = [chr(i) for i in range(ord('a'), ord('y')+1)]\n",
    "# store data\n",
    "%store labels"
   ]
  },
  {
   "cell_type": "markdown",
   "metadata": {},
   "source": [
    "# Create function that will split pdf into individual files"
   ]
  },
  {
   "cell_type": "code",
   "execution_count": 3,
   "metadata": {},
   "outputs": [],
   "source": [
    "def split_pdf(path, labels):\n",
    "    fname = os.path.splitext(os.path.basename(path))[0]\n",
    "    \n",
    "    pdf = PdfFileReader(path)\n",
    "    for page, label in zip(range(pdf.getNumPages()), labels):\n",
    "        pdf_writer = PdfFileWriter()\n",
    "        pdf_writer.addPage(pdf.getPage(page))\n",
    "        output_filename = '{}_{}.pdf'.format(fname, label)\n",
    "        \n",
    "        with open(output_filename, 'wb') as out:\n",
    "            pdf_writer.write(out)\n",
    "            \n",
    "        print('Created: {}'.format(output_filename))"
   ]
  },
  {
   "cell_type": "markdown",
   "metadata": {},
   "source": [
    "## Run function"
   ]
  },
  {
   "cell_type": "code",
   "execution_count": 4,
   "metadata": {},
   "outputs": [
    {
     "name": "stdout",
     "output_type": "stream",
     "text": [
      "Created: File_a.pdf\n",
      "Created: File_b.pdf\n",
      "Created: File_c.pdf\n",
      "Created: File_d.pdf\n",
      "Created: File_e.pdf\n",
      "Created: File_f.pdf\n",
      "Created: File_g.pdf\n",
      "Created: File_h.pdf\n",
      "Created: File_i.pdf\n",
      "Created: File_j.pdf\n",
      "Created: File_k.pdf\n",
      "Created: File_l.pdf\n",
      "Created: File_m.pdf\n",
      "Created: File_n.pdf\n",
      "Created: File_o.pdf\n",
      "Created: File_p.pdf\n",
      "Created: File_q.pdf\n",
      "Created: File_r.pdf\n",
      "Created: File_s.pdf\n",
      "Created: File_t.pdf\n",
      "Created: File_u.pdf\n",
      "Created: File_v.pdf\n",
      "Created: File_w.pdf\n",
      "Created: File_x.pdf\n",
      "Created: File_y.pdf\n"
     ]
    }
   ],
   "source": [
    "if __name__ == '__main__':\n",
    "    path = 'File.pdf'\n",
    "    split_pdf(path, labels)"
   ]
  }
 ],
 "metadata": {
  "kernelspec": {
   "display_name": "Python 3",
   "language": "python",
   "name": "python3"
  },
  "language_info": {
   "codemirror_mode": {
    "name": "ipython",
    "version": 3
   },
   "file_extension": ".py",
   "mimetype": "text/x-python",
   "name": "python",
   "nbconvert_exporter": "python",
   "pygments_lexer": "ipython3",
   "version": "3.7.6"
  }
 },
 "nbformat": 4,
 "nbformat_minor": 2
}

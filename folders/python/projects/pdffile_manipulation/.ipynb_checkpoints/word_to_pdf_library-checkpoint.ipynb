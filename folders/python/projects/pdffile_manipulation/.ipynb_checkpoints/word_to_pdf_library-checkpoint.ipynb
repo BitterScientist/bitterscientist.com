{
 "cells": [
  {
   "cell_type": "markdown",
   "metadata": {},
   "source": [
    "# Import Dependencies"
   ]
  },
  {
   "cell_type": "code",
   "execution_count": 1,
   "metadata": {},
   "outputs": [],
   "source": [
    "import os\n",
    "from docx2pdf import convert"
   ]
  },
  {
   "cell_type": "markdown",
   "metadata": {},
   "source": [
    "# <font color=\"red\"><code>docx2pdf</code> Microsoft Word Must be Installed and Active. Running the Following Code May Request Access to Directories, and will Open MS Word.</font>"
   ]
  },
  {
   "cell_type": "markdown",
   "metadata": {},
   "source": [
    "# Filepaths"
   ]
  },
  {
   "cell_type": "code",
   "execution_count": 2,
   "metadata": {},
   "outputs": [],
   "source": [
    "path = 'subdirectory'\n",
    "words = 'word_docs'\n",
    "pdf = 'pdf_docs'\n",
    "word_dir = os.path.join(os.getcwd(), path, words)\n",
    "pdf_dir = os.path.join(os.getcwd(), path, pdf)"
   ]
  },
  {
   "cell_type": "markdown",
   "metadata": {},
   "source": [
    "# Function to Confirm File Conversion"
   ]
  },
  {
   "cell_type": "code",
   "execution_count": 3,
   "metadata": {},
   "outputs": [],
   "source": [
    "def confirm_conversion(sub_folder):\n",
    "    if sub_folder == os.getcwd():\n",
    "        for filename in os.listdir(sub_folder):\n",
    "            if filename.endswith(\".docx\") or filename.endswith(\".pdf\"): \n",
    "                print(filename)\n",
    "                continue\n",
    "            else:\n",
    "                continue\n",
    "    else:\n",
    "        for filename in os.listdir(os.path.join(os.getcwd(), f'subdirectory/{sub_folder}')):\n",
    "            if filename.endswith(\".docx\") or filename.endswith(\".pdf\"): \n",
    "                print(filename)\n",
    "                continue\n",
    "            else:\n",
    "                continue"
   ]
  },
  {
   "cell_type": "markdown",
   "metadata": {},
   "source": [
    "<hr style=\"border-top: 4px solid red;\">"
   ]
  },
  {
   "cell_type": "markdown",
   "metadata": {},
   "source": [
    "# Convert <font color=\"blue\">.docx</font> to PDFs using <font color=\"red\">Library</font>\n",
    "\n",
    "## <code>from docx2pdf import convert</code>"
   ]
  },
  {
   "cell_type": "markdown",
   "metadata": {},
   "source": [
    "# Convert <font color=\"blue\">Single Doc</font> to <font color=\"red\">PDF in Same Directory</font> using:\n",
    "\n",
    "## <code>convert(\".docx\")</code>"
   ]
  },
  {
   "cell_type": "code",
   "execution_count": 4,
   "metadata": {},
   "outputs": [
    {
     "data": {
      "application/vnd.jupyter.widget-view+json": {
       "model_id": "6ddd8b19bcae4fb2b4e283b051f68b71",
       "version_major": 2,
       "version_minor": 0
      },
      "text/plain": [
       "HBox(children=(FloatProgress(value=0.0, max=1.0), HTML(value='')))"
      ]
     },
     "metadata": {},
     "output_type": "display_data"
    }
   ],
   "source": [
    "from docx2pdf import convert\n",
    "word = 'word_example.docx'\n",
    "convert(word)"
   ]
  },
  {
   "cell_type": "markdown",
   "metadata": {},
   "source": [
    "### Confirm Converstion"
   ]
  },
  {
   "cell_type": "code",
   "execution_count": 5,
   "metadata": {},
   "outputs": [
    {
     "name": "stdout",
     "output_type": "stream",
     "text": [
      "word_example.docx\n",
      "word_example.pdf\n"
     ]
    }
   ],
   "source": [
    "confirm_conversion(os.getcwd())"
   ]
  },
  {
   "cell_type": "markdown",
   "metadata": {},
   "source": [
    "<hr style=\"border-top: 3px solid red;\">"
   ]
  },
  {
   "cell_type": "markdown",
   "metadata": {},
   "source": [
    "# Convert <font color=\"blue\">Single Doc</font> and <font color=\"red\">Output PDFs to a Specific Folder </font>:\n",
    "\n",
    "## <code>convert(\"input.docx\", \"output.pdf\")</code>"
   ]
  },
  {
   "cell_type": "code",
   "execution_count": 6,
   "metadata": {},
   "outputs": [
    {
     "data": {
      "application/vnd.jupyter.widget-view+json": {
       "model_id": "34f17be610e34dc79e719627b7cd6dfe",
       "version_major": 2,
       "version_minor": 0
      },
      "text/plain": [
       "HBox(children=(FloatProgress(value=0.0, max=1.0), HTML(value='')))"
      ]
     },
     "metadata": {},
     "output_type": "display_data"
    }
   ],
   "source": [
    "from docx2pdf import convert\n",
    "pdf_dir = os.path.join(os.getcwd(), path, pdf)\n",
    "convert('word_example.docx', pdf_dir)"
   ]
  },
  {
   "cell_type": "markdown",
   "metadata": {},
   "source": [
    "### Confirm Converstion"
   ]
  },
  {
   "cell_type": "code",
   "execution_count": 7,
   "metadata": {},
   "outputs": [
    {
     "name": "stdout",
     "output_type": "stream",
     "text": [
      "word_example.pdf\n"
     ]
    }
   ],
   "source": [
    "confirm_conversion('pdf_docs')"
   ]
  },
  {
   "cell_type": "markdown",
   "metadata": {},
   "source": [
    "<hr style=\"border-top: 3px solid red;\">"
   ]
  },
  {
   "cell_type": "markdown",
   "metadata": {},
   "source": [
    "# Convert <font color=\"blue\">Multiple Docs</font> and <font color=\"red\">Output PDFs in Same Directory</font> \n",
    "## <code>convert(\"my_docx_folder/\")</code>\n",
    "\n",
    " - Where <code><strong>\"my_docx_folder/\"</strong></code>: is a folder directory."
   ]
  },
  {
   "cell_type": "code",
   "execution_count": 8,
   "metadata": {},
   "outputs": [
    {
     "data": {
      "application/vnd.jupyter.widget-view+json": {
       "model_id": "6f77230f40394fd58bc1c196c3ccbabb",
       "version_major": 2,
       "version_minor": 0
      },
      "text/plain": [
       "HBox(children=(FloatProgress(value=0.0, max=3.0), HTML(value='')))"
      ]
     },
     "metadata": {},
     "output_type": "display_data"
    }
   ],
   "source": [
    "word_dir = os.path.join(os.getcwd(), path, words)\n",
    "convert(word_dir)"
   ]
  },
  {
   "cell_type": "markdown",
   "metadata": {},
   "source": [
    "### Confirm Converstion"
   ]
  },
  {
   "cell_type": "code",
   "execution_count": 9,
   "metadata": {},
   "outputs": [
    {
     "name": "stdout",
     "output_type": "stream",
     "text": [
      "code_to_html_example.docx\n",
      "word_example.docx\n",
      "MailMerge-Sample-Word.pdf\n",
      "code_to_html_example.pdf\n",
      "MailMerge-Sample-Word.docx\n",
      "word_example.pdf\n"
     ]
    }
   ],
   "source": [
    "confirm_conversion('word_docs')"
   ]
  },
  {
   "cell_type": "markdown",
   "metadata": {},
   "source": [
    "<hr style=\"border-top: 3px solid red;\">"
   ]
  },
  {
   "cell_type": "markdown",
   "metadata": {},
   "source": [
    "# Convert <font color=\"blue\">Multiple Docs</font> and <font color=\"red\">Output PDFs in Same Directory</font> \n",
    "## <code>convert(\"my_docx_folder/\", \"output_pdf_folder/\")</code>\n",
    "\n",
    " - Where <code><strong>\"my_docx_folder/\"</strong></code>: is the folder directory containing word files.\n",
    " - Where <code><strong>\"output_pdf_folder/\"</strong></code>: is the folder directory where the files will be saved."
   ]
  },
  {
   "cell_type": "code",
   "execution_count": 10,
   "metadata": {},
   "outputs": [
    {
     "data": {
      "application/vnd.jupyter.widget-view+json": {
       "model_id": "31401732233e485295844fbe11226c33",
       "version_major": 2,
       "version_minor": 0
      },
      "text/plain": [
       "HBox(children=(FloatProgress(value=0.0, max=3.0), HTML(value='')))"
      ]
     },
     "metadata": {},
     "output_type": "display_data"
    }
   ],
   "source": [
    "word_dir = os.path.join(os.getcwd(), path, words)\n",
    "pdf_dir = os.path.join(os.getcwd(), path, pdf)\n",
    "convert(word_dir, pdf_dir)"
   ]
  },
  {
   "cell_type": "markdown",
   "metadata": {},
   "source": [
    "### Confirm Converstion"
   ]
  },
  {
   "cell_type": "code",
   "execution_count": 11,
   "metadata": {},
   "outputs": [
    {
     "name": "stdout",
     "output_type": "stream",
     "text": [
      "MailMerge-Sample-Word.pdf\n",
      "code_to_html_example.pdf\n",
      "word_example.pdf\n"
     ]
    }
   ],
   "source": [
    "confirm_conversion('pdf_docs')"
   ]
  },
  {
   "cell_type": "markdown",
   "metadata": {},
   "source": [
    "<hr style=\"border-top: 3px solid black;\">"
   ]
  }
 ],
 "metadata": {
  "kernelspec": {
   "display_name": "Python 3",
   "language": "python",
   "name": "python3"
  },
  "language_info": {
   "codemirror_mode": {
    "name": "ipython",
    "version": 3
   },
   "file_extension": ".py",
   "mimetype": "text/x-python",
   "name": "python",
   "nbconvert_exporter": "python",
   "pygments_lexer": "ipython3",
   "version": "3.7.7"
  }
 },
 "nbformat": 4,
 "nbformat_minor": 2
}

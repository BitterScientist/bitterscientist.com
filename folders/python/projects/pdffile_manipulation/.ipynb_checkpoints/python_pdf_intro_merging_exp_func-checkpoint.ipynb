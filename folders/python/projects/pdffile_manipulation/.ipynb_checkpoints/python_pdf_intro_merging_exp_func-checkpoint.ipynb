{
 "cells": [
  {
   "cell_type": "markdown",
   "metadata": {},
   "source": [
    "# The <code>merger_pdf(output_path, input_paths)</code> Function Explained"
   ]
  },
  {
   "cell_type": "code",
   "execution_count": 1,
   "metadata": {},
   "outputs": [],
   "source": [
    "import glob\n",
    "from PyPDF2 import PdfFileMerger"
   ]
  },
  {
   "cell_type": "code",
   "execution_count": 2,
   "metadata": {},
   "outputs": [],
   "source": [
    "def merger_pdf(output_path, input_paths):\n",
    "    pdf_merger = PdfFileMerger()\n",
    "    \n",
    "    for path in input_paths:\n",
    "        pdf_merger.append(path)\n",
    "        \n",
    "    with open(output_path, 'wb') as fileobj:\n",
    "        pdf_merger.write(fileobj)\n",
    "        \n",
    "    print('Merged Files and created: {}'.format(output_path))"
   ]
  },
  {
   "cell_type": "markdown",
   "metadata": {},
   "source": [
    "<strong><font color=\"red\">Line 1:</font> <br><code>def merger_pdf(output_path, input_paths):</code></strong><br>\n",
    "Function takes in two parameters\n",
    " - <code>output_path</code> is the name of the file you will create when the input pdfs are merged\n",
    " - <code>input_paths</code> is the filepath that contains the pdf files that will be used for the merger"
   ]
  },
  {
   "cell_type": "markdown",
   "metadata": {},
   "source": [
    "<strong><font color=\"red\">Line 2:</font> <br><code>pdf_merger = PdfFileMerger()</code></strong><br>\n",
    "Creates the PdfFileMerger object"
   ]
  },
  {
   "cell_type": "markdown",
   "metadata": {},
   "source": [
    "<strong><font color=\"red\">Line 3: For Loop</font><br>\n",
    "    <code>for path in input_paths:</code></strong>\n",
    " - The for loop will iterate through each path aka the pdf files in the input_path (place where your pdfs are stored)"
   ]
  },
  {
   "cell_type": "markdown",
   "metadata": {},
   "source": [
    "<strong><font color=\"red\">Line 4: Inside For Loop</font><br>\n",
    "    <code>pdf_merger.append(path)</code></strong>\n",
    " - Add the pdf file into the new pdf merger object"
   ]
  },
  {
   "cell_type": "markdown",
   "metadata": {},
   "source": [
    "<strong><font color=\"red\">Line 5:</font><br>\n",
    "    <code>with open(output_path, 'wb') as fileobj:</code></strong>\n",
    " - Will open the merged pdf file so that you can add the pdfs you intend to merge.\n",
    " - The function uses the built-in <code>open(filename, mode)</code> function that opens files in the filesystem, and instructs what is to be done to that file\n",
    " - The <code>open(filename, mode)</code> function takes two parameters, \n",
    " - <code>filename</code> is the file that will be opened.\n",
    " - In this function, this will be the output_path, which is the name of the file you will create with the merged pdfs\n",
    " - <code>mode</code> is an optional argument used to tell the interpreter and developer which way the file will be used.\n",
    " - In this function, we are using <code>'wr'</code> which write and reads."
   ]
  },
  {
   "cell_type": "markdown",
   "metadata": {},
   "source": [
    "<strong><font color=\"red\">Line 6:</font><br>\n",
    "    <code>pdf_merger.write(fileobj)</code></strong>\n",
    " - Adds the pdf files you want to merge together into the pdf_merger object.\n",
    " - Uses the <code>.write()</code>function"
   ]
  },
  {
   "cell_type": "markdown",
   "metadata": {},
   "source": [
    "<strong><font color=\"red\">Line 7:</font><br>\n",
    "<code>print('Merged Files and created: {}'.format(output_path))</code></strong>\n",
    " - Optional message code used to confirm function has completed running."
   ]
  },
  {
   "cell_type": "markdown",
   "metadata": {},
   "source": [
    "# Running The Function Explained"
   ]
  },
  {
   "cell_type": "code",
   "execution_count": 3,
   "metadata": {},
   "outputs": [
    {
     "name": "stdout",
     "output_type": "stream",
     "text": [
      "Merged Files and created: pdf_merged.pdf\n"
     ]
    }
   ],
   "source": [
    "if __name__ == '__main__':\n",
    "    paths = glob.glob('*suffix_*.pdf')\n",
    "    paths.sort()\n",
    "    merger_pdf('pdf_merged.pdf', paths)"
   ]
  },
  {
   "cell_type": "markdown",
   "metadata": {},
   "source": [
    "<strong><font color=\"red\">Line 1:</font> <br>\n",
    "    <code>if __name__ == '__main__':</code></strong><br>\n",
    " - Checks if you are running the python script directly, or if it is being imported by something else.\n",
    " - If it is being run directly, then the following blocks of code will be executed"
   ]
  },
  {
   "cell_type": "markdown",
   "metadata": {},
   "source": [
    "<strong><font color=\"red\">Line 2:</font> <br>\n",
    "<code>paths = glob.glob('*suffix_*.pdf')</code></strong><br>\n",
    " - Return a possibly-empty list of path names that match pathname, which must be a string containing a path specification\n",
    " - uses the <code>glob.glob(pathname, *, recursive=False)</code> function from the <strong>glob</strong> module.\n",
    " - pathname can be relative or absolute\n",
    " - can also contain the shell-style wildcards that are to be used to match\n",
    " - In this example <code>'*suffix_*.pdf'</code> is the current directory, and will return a list of filenames that have <em>'suffix_'</em> in the middle of the filename, and ends with the <em>.pdf</em> extension."
   ]
  },
  {
   "cell_type": "code",
   "execution_count": 4,
   "metadata": {},
   "outputs": [
    {
     "data": {
      "text/plain": [
       "['pdf_suffix_test.pdf', 'pdf_suffix_test2.pdf']"
      ]
     },
     "execution_count": 4,
     "metadata": {},
     "output_type": "execute_result"
    }
   ],
   "source": [
    "paths = glob.glob('*suffix_*.pdf')\n",
    "paths"
   ]
  },
  {
   "cell_type": "markdown",
   "metadata": {},
   "source": [
    "<strong><font color=\"red\">Line 3:</font> <br>\n",
    "    <code>paths.sort()</code></strong><br>\n",
    " - sorts the filenames in ascending order.\n",
    " - this is optional, you can omit this.\n",
    " - in this example, the files are already in ascending order, so no change"
   ]
  },
  {
   "cell_type": "code",
   "execution_count": 5,
   "metadata": {},
   "outputs": [
    {
     "name": "stdout",
     "output_type": "stream",
     "text": [
      "['pdf_suffix_test.pdf', 'pdf_suffix_test2.pdf']\n"
     ]
    }
   ],
   "source": [
    "paths.sort()\n",
    "print(paths)"
   ]
  },
  {
   "cell_type": "markdown",
   "metadata": {},
   "source": [
    "<strong><font color=\"red\">Line 4:</font> <br>\n",
    "    <code>merger_pdf('pdf_merged.pdf', paths)</code></strong><br>\n",
    " - Evokes the function and passes in the output_filename, and the input_paths\n",
    " - <code>output_filename</code> is the new file that will contain the merged pdf files and in this example <em>'pdf_merged.pdf'</em>\n",
    " - <code>input_paths</code> are the pdf files that we obtained using the glob.glob() line 2"
   ]
  }
 ],
 "metadata": {
  "kernelspec": {
   "display_name": "Python 3",
   "language": "python",
   "name": "python3"
  },
  "language_info": {
   "codemirror_mode": {
    "name": "ipython",
    "version": 3
   },
   "file_extension": ".py",
   "mimetype": "text/x-python",
   "name": "python",
   "nbconvert_exporter": "python",
   "pygments_lexer": "ipython3",
   "version": "3.7.6"
  }
 },
 "nbformat": 4,
 "nbformat_minor": 2
}

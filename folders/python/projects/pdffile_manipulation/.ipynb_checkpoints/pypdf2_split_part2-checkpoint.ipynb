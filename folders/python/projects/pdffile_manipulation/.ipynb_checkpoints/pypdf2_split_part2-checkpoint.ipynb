{
 "cells": [
  {
   "cell_type": "markdown",
   "metadata": {},
   "source": [
    "# Import dependencies"
   ]
  },
  {
   "cell_type": "code",
   "execution_count": 1,
   "metadata": {},
   "outputs": [
    {
     "name": "stdout",
     "output_type": "stream",
     "text": [
      "Importing Jupyter notebook from pypdf2_split_part1.ipynb\n"
     ]
    }
   ],
   "source": [
    "import os\n",
    "from PyPDF2 import PdfFileReader, PdfFileWriter\n",
    "\n",
    "# load data\n",
    "%store -r labels\n",
    "\n",
    "import nbimporter\n",
    "from pypdf2_split_part1 import split_pdf"
   ]
  },
  {
   "cell_type": "markdown",
   "metadata": {},
   "source": [
    "<hr style=\"border-top: 2px solid black;\">"
   ]
  },
  {
   "cell_type": "markdown",
   "metadata": {},
   "source": [
    "# <font color=\"blue\">Function Explanation</font>"
   ]
  },
  {
   "cell_type": "markdown",
   "metadata": {},
   "source": [
    "<strong><font color=\"red\">Line 1</font></strong>\n",
    "<strong>Code</strong><code>def split_pdf(path, labels):</code><br><br>\n",
    "<strong>What it does:</strong>\n",
    "Creates function that will take in two parameters:\n",
    " - file path\n",
    " - list of label"
   ]
  },
  {
   "cell_type": "markdown",
   "metadata": {},
   "source": [
    "<strong><font color=\"red\">Line 2</font></strong>\n",
    "<strong>Code:</strong><code> fname = os.path.splitext(os.path.basename(path))[0]</code><br><br>\n",
    "<strong>What it does:</strong> It returns the file name of the pdf file that will be split<br>\n",
    "<strong>How?</strong>\n",
    " - The <code>os</code> module provides a portable way of using operating system dependent functionality.\n",
    "<strong>Bottomline:</strong><br>\n",
    "The filename is obtained"
   ]
  },
  {
   "cell_type": "code",
   "execution_count": 2,
   "metadata": {},
   "outputs": [],
   "source": [
    "path = 'File.pdf'"
   ]
  },
  {
   "cell_type": "markdown",
   "metadata": {},
   "source": [
    "<strong>First: Get the file name</strong>\n",
    " - The <code>os.path.basename(path)</code> returns the basename of the file\n",
    " - <code>[0]</code> will return just the name of the input file and ignore the extension.<br>"
   ]
  },
  {
   "cell_type": "code",
   "execution_count": 3,
   "metadata": {},
   "outputs": [
    {
     "data": {
      "text/plain": [
       "'File.pdf'"
      ]
     },
     "execution_count": 3,
     "metadata": {},
     "output_type": "execute_result"
    }
   ],
   "source": [
    "os.path.basename(path)"
   ]
  },
  {
   "cell_type": "markdown",
   "metadata": {},
   "source": [
    "<strong>Second: Split the file name</strong>\n",
    " - The <code>os.path</code> is a submodule used for pathname manipulation\n",
    " - The <code>os.path.splitext()</code> method is used to split the path name into a pair root and extention.\n",
    " - This will return a tuple (file name, extention)"
   ]
  },
  {
   "cell_type": "code",
   "execution_count": 4,
   "metadata": {},
   "outputs": [
    {
     "data": {
      "text/plain": [
       "('File', '.pdf')"
      ]
     },
     "execution_count": 4,
     "metadata": {},
     "output_type": "execute_result"
    }
   ],
   "source": [
    "fname = os.path.splitext(os.path.basename(path))\n",
    "fname"
   ]
  },
  {
   "cell_type": "markdown",
   "metadata": {},
   "source": [
    "<strong>Third: Extract only the filename</strong>\n",
    " - <code>os.path.splitext()</code> will return a tuple: (file name, extention)\n",
    " - <code>os.path.splitext()[0]</code> will return the first element in the tuple, the file name.<br>"
   ]
  },
  {
   "cell_type": "code",
   "execution_count": 5,
   "metadata": {},
   "outputs": [
    {
     "data": {
      "text/plain": [
       "'File'"
      ]
     },
     "execution_count": 5,
     "metadata": {},
     "output_type": "execute_result"
    }
   ],
   "source": [
    "fname = os.path.splitext(os.path.basename(path))[0]\n",
    "fname"
   ]
  },
  {
   "cell_type": "markdown",
   "metadata": {},
   "source": [
    "<strong><font color=\"red\">Line 3</font></strong>\n",
    "<strong>Code:</strong><code> pdf = PdfFileReader(path)</code><br><br>\n",
    "<strong>What it does:</strong> creates a reader object of the pdf file we will split<br>\n",
    " - Documentation: https://pythonhosted.org/PyPDF2/PdfFileReader.html \n",
    " - You can then apply these methods"
   ]
  },
  {
   "cell_type": "code",
   "execution_count": 6,
   "metadata": {},
   "outputs": [
    {
     "data": {
      "text/plain": [
       "<PyPDF2.pdf.PdfFileReader at 0x112a1ec50>"
      ]
     },
     "execution_count": 6,
     "metadata": {},
     "output_type": "execute_result"
    }
   ],
   "source": [
    "pdf = PdfFileReader(path)\n",
    "pdf"
   ]
  },
  {
   "cell_type": "markdown",
   "metadata": {},
   "source": [
    "<strong><font color=\"red\">Line 4</font></strong>: Inside the for loop\n",
    "<br>\n",
    "<strong>Code:</strong><code> for page, label in zip(range(pdf.getNumPages()), labels):</code><br>"
   ]
  },
  {
   "cell_type": "markdown",
   "metadata": {},
   "source": [
    " -  <code>range(pdf.getNumPages())</code> returns the range of the number pages in the pdf"
   ]
  },
  {
   "cell_type": "code",
   "execution_count": 7,
   "metadata": {},
   "outputs": [
    {
     "data": {
      "text/plain": [
       "range(0, 25)"
      ]
     },
     "execution_count": 7,
     "metadata": {},
     "output_type": "execute_result"
    }
   ],
   "source": [
    "range(pdf.getNumPages())"
   ]
  },
  {
   "cell_type": "markdown",
   "metadata": {},
   "source": [
    " -  <code>zip(range(pdf.getNumPages()), labels)</code> The zip() function takes iterables (the range of pages in the pdf and the list of labels), and aggregates them in a tuple, and return it."
   ]
  },
  {
   "cell_type": "code",
   "execution_count": 8,
   "metadata": {},
   "outputs": [
    {
     "data": {
      "text/plain": [
       "<zip at 0x111c93af0>"
      ]
     },
     "execution_count": 8,
     "metadata": {},
     "output_type": "execute_result"
    }
   ],
   "source": [
    "zip(range(pdf.getNumPages()), labels)"
   ]
  },
  {
   "cell_type": "markdown",
   "metadata": {},
   "source": [
    " -  <code>for page, label in zip(range(pdf.getNumPages()), labels):</code><br>\n",
    " - since <code>zip()</code> is used, the for loop will require two indexes \n",
    "  - 1) page will be in the index in the range of pages in the pdf file\n",
    "  - 2) label will be the index for the labels list"
   ]
  },
  {
   "cell_type": "code",
   "execution_count": 9,
   "metadata": {},
   "outputs": [
    {
     "name": "stdout",
     "output_type": "stream",
     "text": [
      "0 a\n",
      "1 b\n",
      "2 c\n",
      "3 d\n",
      "4 e\n",
      "5 f\n",
      "6 g\n",
      "7 h\n",
      "8 i\n",
      "9 j\n",
      "10 k\n",
      "11 l\n",
      "12 m\n",
      "13 n\n",
      "14 o\n",
      "15 p\n",
      "16 q\n",
      "17 r\n",
      "18 s\n",
      "19 t\n",
      "20 u\n",
      "21 v\n",
      "22 w\n",
      "23 x\n",
      "24 y\n"
     ]
    }
   ],
   "source": [
    "for page, label in zip(range(pdf.getNumPages()), labels):\n",
    "# Printing this just for illustration\n",
    "    print(page, label) "
   ]
  },
  {
   "cell_type": "markdown",
   "metadata": {},
   "source": [
    "<strong><font color=\"red\">Line 5</font></strong>: Inside the for loop\n",
    "<strong>Code:</strong><code>pdf_writer = PdfFileWriter()</code><br><br>\n",
    "<strong>What it does:</strong> creates an instance of the PdfFileWriter<br>\n",
    " - Documentation: https://pythonhosted.org/PyPDF2/PdfFileWriter.html\n",
    " - This class supports writing PDF files out. In other words, to save each page we are splitting."
   ]
  },
  {
   "cell_type": "code",
   "execution_count": 10,
   "metadata": {},
   "outputs": [
    {
     "data": {
      "text/plain": [
       "<PyPDF2.pdf.PdfFileWriter at 0x112cd0b10>"
      ]
     },
     "execution_count": 10,
     "metadata": {},
     "output_type": "execute_result"
    }
   ],
   "source": [
    "pdf_writer = PdfFileWriter()\n",
    "pdf_writer"
   ]
  },
  {
   "cell_type": "markdown",
   "metadata": {},
   "source": [
    "<strong><font color=\"red\">Line 6</font></strong>: Inside the for loop\n",
    "<strong>Code:</strong><code>pdf_writer.addPage(pdf.getPage(page))</code><br><br>\n",
    "<strong>What it does:</strong>Gets the current page of the pdf file that will be split, and then saves taht information into a new pdf file object<br>"
   ]
  },
  {
   "cell_type": "markdown",
   "metadata": {},
   "source": [
    "<strong><font color=\"red\">Line 7</font></strong>: Inside the for loop\n",
    "<strong>Code:</strong><code>output_filename = '{}_{}.pdf'.format(fname, label)</code><br>\n",
    " - <strong>What it does:</strong> Creates a unique file name that will be used as the new file name when the file is saved.<br>\n",
    " - <code>fname</code>: value saved from <font color=\"red\">Line 1</font>\n",
    " - <code>label</code>: is the unique label from the list of labels"
   ]
  },
  {
   "cell_type": "code",
   "execution_count": 11,
   "metadata": {},
   "outputs": [
    {
     "data": {
      "text/plain": [
       "'File_a.pdf'"
      ]
     },
     "execution_count": 11,
     "metadata": {},
     "output_type": "execute_result"
    }
   ],
   "source": [
    "# Example: fname as 'File' and 'a' as the unique label\n",
    "# the {}_{} will be replaced with the values in the .format() arguments\n",
    "output_filename = '{}_{}.pdf'.format('File', 'a')\n",
    "output_filename"
   ]
  },
  {
   "cell_type": "markdown",
   "metadata": {},
   "source": [
    "<strong><font color=\"red\">Line 8-9</font></strong>: Inside the for loop<br>\n",
    "\n",
    "<strong>Code:</strong><br>\n",
    "<code>with open(output_filename, 'wb') as out:\n",
    "    pdf_writer.write(out)</code><br>\n",
    " - <strong>What it does:</strong> open the new file name in write-binary mode and use the PDF writer object’s write method to write the object’s contents to disk.<br>"
   ]
  },
  {
   "cell_type": "markdown",
   "metadata": {},
   "source": [
    "<strong><font color=\"red\">Line 10</font></strong>: Inside the for loop\n",
    "<strong>Code:</strong><code>print('Created: {}'.format(output_filename))</code><br>\n",
    " - <strong>What it does:</strong> print out the file that has been saved, so you can track the progress of your file splitting.<br>"
   ]
  }
 ],
 "metadata": {
  "kernelspec": {
   "display_name": "Python 3",
   "language": "python",
   "name": "python3"
  },
  "language_info": {
   "codemirror_mode": {
    "name": "ipython",
    "version": 3
   },
   "file_extension": ".py",
   "mimetype": "text/x-python",
   "name": "python",
   "nbconvert_exporter": "python",
   "pygments_lexer": "ipython3",
   "version": "3.7.6"
  }
 },
 "nbformat": 4,
 "nbformat_minor": 2
}

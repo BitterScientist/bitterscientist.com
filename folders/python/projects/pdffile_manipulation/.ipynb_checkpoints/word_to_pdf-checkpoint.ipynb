{
 "cells": [
  {
   "cell_type": "markdown",
   "metadata": {},
   "source": [
    "# Import Dependencies"
   ]
  },
  {
   "cell_type": "code",
   "execution_count": 1,
   "metadata": {},
   "outputs": [],
   "source": [
    "import os\n",
    "from docx2pdf import convert"
   ]
  },
  {
   "cell_type": "markdown",
   "metadata": {},
   "source": [
    "# Filepaths"
   ]
  },
  {
   "cell_type": "code",
   "execution_count": null,
   "metadata": {},
   "outputs": [],
   "source": [
    "path = 'subdirectory'\n",
    "words = 'word_docs'\n",
    "pdf = 'pdf_docs'\n",
    "word_dir = os.path.join(os.getcwd(), path, words)\n",
    "pdf_dir = os.path.join(os.getcwd(), path, pdf)"
   ]
  },
  {
   "cell_type": "markdown",
   "metadata": {},
   "source": [
    "# Function to Confirm File Conversion"
   ]
  },
  {
   "cell_type": "code",
   "execution_count": null,
   "metadata": {},
   "outputs": [],
   "source": [
    "subpath = 'subdirectory'\n",
    "def confirm_conversion(path):\n",
    "    for filename in os.listdir(os.path.join(os.getcwd(), subpath)):\n",
    "        if filename.endswith(\".docx\") or filename.endswith(\".pdf\"): \n",
    "            print(filename)\n",
    "            continue\n",
    "        else:\n",
    "            continue"
   ]
  },
  {
   "cell_type": "markdown",
   "metadata": {},
   "source": [
    "<hr style=\"border-top: 3px solid red;\">"
   ]
  },
  {
   "cell_type": "markdown",
   "metadata": {},
   "source": [
    "# Convert <code>.docx</code> to <code>.pdf</code> using <code>CLI</code>\n",
    "\n",
    "## <code>usage: docx2pdf [-h] [--keep-active] [--version] input [output]</code>"
   ]
  },
  {
   "cell_type": "markdown",
   "metadata": {},
   "source": [
    "<hr style=\"border-top: 3px solid black;\">"
   ]
  },
  {
   "cell_type": "markdown",
   "metadata": {},
   "source": [
    "# Convert a single <em>.docx</em> file in-place<code>.docx</code> to <code>.pdf</code>\n",
    "\n",
    "## <code>docx2pdf myfile.docx</code>"
   ]
  },
  {
   "cell_type": "code",
   "execution_count": 2,
   "metadata": {},
   "outputs": [
    {
     "data": {
      "application/vnd.jupyter.widget-view+json": {
       "model_id": "e73f211bba5e4d33915c6b1a40a2d69c",
       "version_major": 2,
       "version_minor": 0
      },
      "text/plain": [
       "HBox(children=(FloatProgress(value=0.0, max=1.0), HTML(value='')))"
      ]
     },
     "metadata": {},
     "output_type": "display_data"
    }
   ],
   "source": [
    "word = 'word_example.docx'\n",
    "convert(word)"
   ]
  },
  {
   "cell_type": "markdown",
   "metadata": {},
   "source": [
    "<hr style=\"border-top: 3px solid black;\">"
   ]
  },
  {
   "cell_type": "markdown",
   "metadata": {},
   "source": [
    "# Convert single <em>.docx</em> file with explicit output filepath\n",
    "## <code>docx2pdf input.docx output.docx</code>"
   ]
  },
  {
   "cell_type": "code",
   "execution_count": null,
   "metadata": {},
   "outputs": [],
   "source": [
    "convert(word, \"word_example.pdf\")"
   ]
  },
  {
   "cell_type": "markdown",
   "metadata": {},
   "source": [
    "# Convert <font color=\"blue\">folder of docx</font> files in-place, and save the <font color=\"red\">Output PDFs</font> in the  <font color=\"red\">same folder</font>.\n",
    "\n",
    "## <code>docx2pdf myfolder/</code>"
   ]
  },
  {
   "cell_type": "code",
   "execution_count": null,
   "metadata": {},
   "outputs": [],
   "source": [
    "# word_dir = os.path.join(os.getcwd(), path, words)\n",
    "docx2pdf word_dir"
   ]
  },
  {
   "cell_type": "markdown",
   "metadata": {},
   "source": [
    "# Convert <font color=\"blue\">single docx</font> file with explicit <font color=\"red\">output filepath</font>\n",
    "\n",
    "## <code>docx2pdf input.docx output.docx</code>"
   ]
  },
  {
   "cell_type": "code",
   "execution_count": null,
   "metadata": {},
   "outputs": [],
   "source": [
    "# pdf_dir = os.path.join(os.getcwd(), path, pdf)\n",
    "docx2pdf 'word_example.docx' pdf_dir"
   ]
  },
  {
   "cell_type": "markdown",
   "metadata": {},
   "source": [
    "# Convert folder of <font color=\"blue\">.docx</font> files and <font color=\"red\">Output PDFs</font> to a different explicit folder\n",
    "\n",
    "## <code> docx2pdf input_dir/ output_dir/</code>"
   ]
  },
  {
   "cell_type": "code",
   "execution_count": null,
   "metadata": {},
   "outputs": [],
   "source": [
    "# directories\n",
    "# word_dir = os.path.join(os.getcwd(), path, words)\n",
    "# pdf_dir = os.path.join(os.getcwd(), path, pdf)\n",
    "docx2pdf word_dir pdf_dir"
   ]
  },
  {
   "cell_type": "markdown",
   "metadata": {},
   "source": [
    "<hr style=\"border-top: 3px solid black;\">"
   ]
  },
  {
   "cell_type": "markdown",
   "metadata": {},
   "source": [
    "# Convert <font color=\"blue\">.docx</font> to PDFs using <font color=\"red\">Library</font>\n",
    "\n",
    "## <code>from docx2pdf import convert</code>"
   ]
  },
  {
   "cell_type": "markdown",
   "metadata": {},
   "source": [
    "# Convert single doc to pdf in same directory using:\n",
    "\n",
    "## <code>convert(.docx)</code>"
   ]
  },
  {
   "cell_type": "code",
   "execution_count": null,
   "metadata": {},
   "outputs": [],
   "source": [
    "from docx2pdf import convert\n",
    "word = 'word_example.docx'\n",
    "convert(word)"
   ]
  },
  {
   "cell_type": "markdown",
   "metadata": {},
   "source": [
    "# Convert single doc to pdf and <font color=\"red\">Output PDFs</font> to a different explicit folder with selected name:\n",
    "\n",
    "## <code>convert(\"input.docx\", \"output.pdf\")</code>"
   ]
  },
  {
   "cell_type": "code",
   "execution_count": null,
   "metadata": {},
   "outputs": [],
   "source": [
    "from docx2pdf import convert\n",
    "word = \n",
    "convert('word_example.docx', 'converted.pdf')"
   ]
  },
  {
   "cell_type": "markdown",
   "metadata": {},
   "source": [
    "# Batch convert folder of <font color=\"blue\">word documents</font> to <font color=\"red\">pdfs</font> in same directory\n",
    "## <code>convert(\"my_docx_folder/\")</code>"
   ]
  },
  {
   "cell_type": "code",
   "execution_count": null,
   "metadata": {},
   "outputs": [],
   "source": [
    "# word_dir = os.path.join(os.getcwd(), path, words)\n",
    "convert(\"my_docx_folder/\")"
   ]
  },
  {
   "cell_type": "markdown",
   "metadata": {},
   "source": [
    "# Batch convert folder of <font color=\"blue\">word documents</font> to <font color=\"red\">pdfs</font> in different explicit directory\n",
    "\n",
    "## <code>convert(\"my_docx_folder/\", \"output_pdf_folder/\")</code>"
   ]
  },
  {
   "cell_type": "code",
   "execution_count": null,
   "metadata": {},
   "outputs": [],
   "source": [
    "# word_dir = os.path.join(os.getcwd(), path, words)\n",
    "# pdf_dir = os.path.join(os.getcwd(), path, pdf)\n",
    "convert(word_dir, pdf_dir)"
   ]
  },
  {
   "cell_type": "markdown",
   "metadata": {},
   "source": [
    "<hr style=\"border-top: 3px solid black;\">"
   ]
  }
 ],
 "metadata": {
  "kernelspec": {
   "display_name": "Python 3",
   "language": "python",
   "name": "python3"
  },
  "language_info": {
   "codemirror_mode": {
    "name": "ipython",
    "version": 3
   },
   "file_extension": ".py",
   "mimetype": "text/x-python",
   "name": "python",
   "nbconvert_exporter": "python",
   "pygments_lexer": "ipython3",
   "version": "3.7.7"
  }
 },
 "nbformat": 4,
 "nbformat_minor": 2
}

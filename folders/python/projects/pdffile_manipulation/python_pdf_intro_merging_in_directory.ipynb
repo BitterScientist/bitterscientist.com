{
 "cells": [
  {
   "cell_type": "markdown",
   "metadata": {},
   "source": [
    "# Import dependencies"
   ]
  },
  {
   "cell_type": "code",
   "execution_count": 1,
   "metadata": {},
   "outputs": [],
   "source": [
    "import glob\n",
    "import os\n",
    "from PyPDF2 import PdfFileMerger"
   ]
  },
  {
   "cell_type": "markdown",
   "metadata": {},
   "source": [
    "# Traverse directory"
   ]
  },
  {
   "cell_type": "code",
   "execution_count": null,
   "metadata": {},
   "outputs": [],
   "source": []
  },
  {
   "cell_type": "markdown",
   "metadata": {},
   "source": [
    "# Create function to merge PDFs into new file"
   ]
  },
  {
   "cell_type": "code",
   "execution_count": 2,
   "metadata": {},
   "outputs": [],
   "source": [
    "def merger_pdf(output_path, input_paths):\n",
    "    pdf_merger = PdfFileMerger()\n",
    "    \n",
    "    for path in input_paths:\n",
    "        pdf_merger.append(path)\n",
    "        \n",
    "    with open(output_path, 'wb') as fileobj:\n",
    "        pdf_merger.write(fileobj)\n",
    "        \n",
    "    print('Merged Files and created: {}'.format(output_path))"
   ]
  },
  {
   "cell_type": "markdown",
   "metadata": {},
   "source": [
    "# Run function to create PDF with merged files"
   ]
  },
  {
   "cell_type": "code",
   "execution_count": 3,
   "metadata": {},
   "outputs": [
    {
     "name": "stdout",
     "output_type": "stream",
     "text": [
      "Merged Files and created: pdf_merged.pdf\n"
     ]
    }
   ],
   "source": [
    "if __name__ == '__main__':\n",
    "    paths = glob.glob('*suffix_*.pdf')\n",
    "    paths.sort()\n",
    "    merger_pdf('pdf_merged.pdf', paths)"
   ]
  }
 ],
 "metadata": {
  "kernelspec": {
   "display_name": "Python 3",
   "language": "python",
   "name": "python3"
  },
  "language_info": {
   "codemirror_mode": {
    "name": "ipython",
    "version": 3
   },
   "file_extension": ".py",
   "mimetype": "text/x-python",
   "name": "python",
   "nbconvert_exporter": "python",
   "pygments_lexer": "ipython3",
   "version": "3.7.6"
  }
 },
 "nbformat": 4,
 "nbformat_minor": 2
}

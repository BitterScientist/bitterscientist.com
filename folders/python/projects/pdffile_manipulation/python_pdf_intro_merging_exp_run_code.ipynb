{
 "cells": [
  {
   "cell_type": "code",
   "execution_count": 1,
   "metadata": {},
   "outputs": [
    {
     "name": "stdout",
     "output_type": "stream",
     "text": [
      "Importing Jupyter notebook from python_pdf_intro_merging.ipynb\n"
     ]
    }
   ],
   "source": [
    "import glob \n",
    "from PyPDF2 import PdfFileMerger\n",
    "\n",
    "import nbimporter\n",
    "from python_pdf_intro_merging import merger_pdf"
   ]
  },
  {
   "cell_type": "markdown",
   "metadata": {},
   "source": [
    "# Running The Function Explained"
   ]
  },
  {
   "cell_type": "code",
   "execution_count": 2,
   "metadata": {},
   "outputs": [
    {
     "name": "stdout",
     "output_type": "stream",
     "text": [
      "Merged Files and created: pdf_merged.pdf\n"
     ]
    }
   ],
   "source": [
    "if __name__ == '__main__':\n",
    "    paths = glob.glob('*suffix_*.pdf')\n",
    "    paths.sort()\n",
    "    merger_pdf('pdf_merged.pdf', paths)"
   ]
  },
  {
   "cell_type": "markdown",
   "metadata": {},
   "source": [
    "<strong><font color=\"red\">Line 1:</font> <br>\n",
    "    <code>if __name__ == '__main__':</code></strong><br>\n",
    " - Checks if you are running the python script directly, or if it is being imported by something else.\n",
    " - If it is being run directly, then the following blocks of code will be executed"
   ]
  },
  {
   "cell_type": "markdown",
   "metadata": {},
   "source": [
    "<strong><font color=\"red\">Line 2:</font> <br>\n",
    "<code>paths = glob.glob('*suffix_*.pdf')</code></strong><br>\n",
    " - Return a possibly-empty list of path names that match pathname, which must be a string containing a path specification\n",
    " - uses the <code>glob.glob(pathname, *, recursive=False)</code> function from the <strong>glob</strong> module.\n",
    " - pathname can be relative or absolute\n",
    " - can also contain the shell-style wildcards that are to be used to match\n",
    " - In this example <code>'*suffix_*.pdf'</code> is the current directory, and will return a list of filenames that have <em>'suffix_'</em> in the middle of the filename, and ends with the <em>.pdf</em> extension."
   ]
  },
  {
   "cell_type": "code",
   "execution_count": 3,
   "metadata": {},
   "outputs": [
    {
     "data": {
      "text/plain": [
       "['pdf_suffix_test.pdf', 'pdf_suffix_test2.pdf']"
      ]
     },
     "execution_count": 3,
     "metadata": {},
     "output_type": "execute_result"
    }
   ],
   "source": [
    "paths = glob.glob('*suffix_*.pdf')\n",
    "paths"
   ]
  },
  {
   "cell_type": "markdown",
   "metadata": {},
   "source": [
    "<strong><font color=\"red\">Line 3:</font> <br>\n",
    "    <code>paths.sort()</code></strong><br>\n",
    " - sorts the filenames in ascending order.\n",
    " - this is optional, you can omit this.\n",
    " - in this example, the files are already in ascending order, so no change"
   ]
  },
  {
   "cell_type": "code",
   "execution_count": 4,
   "metadata": {},
   "outputs": [
    {
     "name": "stdout",
     "output_type": "stream",
     "text": [
      "['pdf_suffix_test.pdf', 'pdf_suffix_test2.pdf']\n"
     ]
    }
   ],
   "source": [
    "paths.sort()\n",
    "print(paths)"
   ]
  },
  {
   "cell_type": "markdown",
   "metadata": {},
   "source": [
    "<strong><font color=\"red\">Line 4:</font> <br>\n",
    "    <code>merger_pdf('pdf_merged.pdf', paths)</code></strong><br>\n",
    " - Evokes the function and passes in the output_filename, and the input_paths\n",
    " - <code>output_filename</code> is the new file that will contain the merged pdf files and in this example <em>'pdf_merged.pdf'</em>\n",
    " - <code>input_paths</code> are the pdf files that we obtained using the glob.glob() line 2"
   ]
  }
 ],
 "metadata": {
  "kernelspec": {
   "display_name": "Python 3",
   "language": "python",
   "name": "python3"
  },
  "language_info": {
   "codemirror_mode": {
    "name": "ipython",
    "version": 3
   },
   "file_extension": ".py",
   "mimetype": "text/x-python",
   "name": "python",
   "nbconvert_exporter": "python",
   "pygments_lexer": "ipython3",
   "version": "3.7.6"
  }
 },
 "nbformat": 4,
 "nbformat_minor": 2
}

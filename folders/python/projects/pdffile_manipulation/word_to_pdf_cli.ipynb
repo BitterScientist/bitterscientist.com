{
 "cells": [
  {
   "cell_type": "markdown",
   "metadata": {},
   "source": [
    "# Import Dependencies"
   ]
  },
  {
   "cell_type": "code",
   "execution_count": 1,
   "metadata": {},
   "outputs": [],
   "source": [
    "import os\n",
    "from docx2pdf import convert\n",
    "import docx2pdf"
   ]
  },
  {
   "cell_type": "markdown",
   "metadata": {},
   "source": [
    "# Filepaths"
   ]
  },
  {
   "cell_type": "code",
   "execution_count": 2,
   "metadata": {},
   "outputs": [],
   "source": [
    "path = 'subdirectory'\n",
    "words = 'word_docs'\n",
    "pdf = 'pdf_docs'\n",
    "word_dir = os.path.join(os.getcwd(), path, words)\n",
    "pdf_dir = os.path.join(os.getcwd(), path, pdf)"
   ]
  },
  {
   "cell_type": "markdown",
   "metadata": {},
   "source": [
    "<hr style=\"border-top: 4px solid red;\">"
   ]
  },
  {
   "cell_type": "markdown",
   "metadata": {},
   "source": [
    "# Convert <code>.docx</code> to <code>.pdf</code> using <code>CLI</code>\n",
    "\n",
    "## <code>usage: docx2pdf [-h] [--keep-active] [--version] input [output]</code>"
   ]
  },
  {
   "cell_type": "markdown",
   "metadata": {},
   "source": [
    "<hr style=\"border-top: 3px solid black;\">"
   ]
  },
  {
   "cell_type": "markdown",
   "metadata": {},
   "source": [
    "# Convert a single <em>.docx</em> file in-place<code>.docx</code> to <code>.pdf</code>\n",
    "\n",
    "## <code>docx2pdf myfile.docx</code>"
   ]
  },
  {
   "cell_type": "code",
   "execution_count": 5,
   "metadata": {},
   "outputs": [
    {
     "ename": "SyntaxError",
     "evalue": "invalid syntax (<ipython-input-5-2d5bcae8ced4>, line 1)",
     "output_type": "error",
     "traceback": [
      "\u001b[0;36m  File \u001b[0;32m\"<ipython-input-5-2d5bcae8ced4>\"\u001b[0;36m, line \u001b[0;32m1\u001b[0m\n\u001b[0;31m    cli(docx2pdf \"word_example.docx\")\u001b[0m\n\u001b[0m                                   ^\u001b[0m\n\u001b[0;31mSyntaxError\u001b[0m\u001b[0;31m:\u001b[0m invalid syntax\n"
     ]
    }
   ],
   "source": [
    "cli(docx2pdf \"word_example.docx\")"
   ]
  },
  {
   "cell_type": "markdown",
   "metadata": {},
   "source": [
    "<hr style=\"border-top: 3px solid black;\">"
   ]
  },
  {
   "cell_type": "markdown",
   "metadata": {},
   "source": [
    "# Convert <font color=\"blue\">folder of docx</font> files in-place, and save the <font color=\"red\">Output PDFs</font> in the  <font color=\"red\">same folder</font>.\n",
    "\n",
    "## <code>docx2pdf myfolder/</code>"
   ]
  },
  {
   "cell_type": "code",
   "execution_count": 4,
   "metadata": {},
   "outputs": [
    {
     "ename": "SyntaxError",
     "evalue": "invalid syntax (<ipython-input-4-08ced8857a9d>, line 2)",
     "output_type": "error",
     "traceback": [
      "\u001b[0;36m  File \u001b[0;32m\"<ipython-input-4-08ced8857a9d>\"\u001b[0;36m, line \u001b[0;32m2\u001b[0m\n\u001b[0;31m    docx2pdf word_dir\u001b[0m\n\u001b[0m                    ^\u001b[0m\n\u001b[0;31mSyntaxError\u001b[0m\u001b[0;31m:\u001b[0m invalid syntax\n"
     ]
    }
   ],
   "source": [
    "word_dir = os.path.join(os.getcwd(), 'subdirectory', 'word_docs')\n",
    "docx2pdf word_dir"
   ]
  },
  {
   "cell_type": "markdown",
   "metadata": {},
   "source": [
    "# Convert <font color=\"blue\">single docx</font> file with explicit <font color=\"red\">output filepath</font>\n",
    "\n",
    "## <code>docx2pdf input.docx output.docx</code>"
   ]
  },
  {
   "cell_type": "code",
   "execution_count": null,
   "metadata": {},
   "outputs": [],
   "source": [
    "pdf_dir = os.path.join(os.getcwd(), path, pdf)\n",
    "docx2pdf 'word_example.docx' pdf_dir"
   ]
  },
  {
   "cell_type": "markdown",
   "metadata": {},
   "source": [
    "# Convert folder of <font color=\"blue\">.docx</font> files and <font color=\"red\">Output PDFs</font> to a different explicit folder\n",
    "\n",
    "## <code> docx2pdf input_dir/ output_dir/</code>"
   ]
  },
  {
   "cell_type": "code",
   "execution_count": null,
   "metadata": {},
   "outputs": [],
   "source": [
    "# directories\n",
    "word_dir = os.path.join(os.getcwd(), path, words)\n",
    "pdf_dir = os.path.join(os.getcwd(), path, pdf)\n",
    "docx2pdf word_dir pdf_dir"
   ]
  }
 ],
 "metadata": {
  "kernelspec": {
   "display_name": "Python 3",
   "language": "python",
   "name": "python3"
  },
  "language_info": {
   "codemirror_mode": {
    "name": "ipython",
    "version": 3
   },
   "file_extension": ".py",
   "mimetype": "text/x-python",
   "name": "python",
   "nbconvert_exporter": "python",
   "pygments_lexer": "ipython3",
   "version": "3.7.7"
  }
 },
 "nbformat": 4,
 "nbformat_minor": 2
}

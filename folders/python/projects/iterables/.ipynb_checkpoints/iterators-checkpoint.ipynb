{
 "cells": [
  {
   "cell_type": "markdown",
   "metadata": {},
   "source": [
    "# Iterable objects are objects that can be used in a for loop."
   ]
  },
  {
   "cell_type": "code",
   "execution_count": 1,
   "metadata": {},
   "outputs": [],
   "source": [
    "# List of muay thai fighters\n",
    "muay_thai_fighters = [\"Ramon The Diamond Dekkers\", \"Buakaw Banchamek\", \"Samart Payakaroon\", \"Mike”Iron Mike” Zambidis\"]"
   ]
  },
  {
   "cell_type": "code",
   "execution_count": 2,
   "metadata": {},
   "outputs": [
    {
     "name": "stdout",
     "output_type": "stream",
     "text": [
      "Ramon The Diamond Dekkers\n",
      "Buakaw Banchamek\n",
      "Samart Payakaroon\n",
      "Mike”Iron Mike” Zambidis\n"
     ]
    }
   ],
   "source": [
    "# Traverse list using a for loop\n",
    "for fighter in muay_thai_fighters:\n",
    "    print(fighter)"
   ]
  },
  {
   "cell_type": "markdown",
   "metadata": {},
   "source": [
    "# <font color=\"red\">How does this work?</font>\n",
    "\n",
    " - The for loop goes through each element in the container, and the command code prints each element.\n",
    " - Iterators use the <code>__next__</code> method to track position in container, and return the next one\n",
    " - <strong>Example 1</strong> will create a class that creates a series that autoincroments between two values.  The <code>__next__</code> method tracks the value, and will stop once the max value is reached.<br>\n",
    " - <strong>Example 2</strong> will create an interator from a list that has the <code>__next__</code> method built in. A while loop will then be used to iterate through the iterator object, which calls the <code>__next__</code> method to go through each element, returns that element, and then prints it out. The while loop will exit once all the elements in the list have been completed."
   ]
  },
  {
   "cell_type": "markdown",
   "metadata": {},
   "source": [
    "## <font color=\"blue\">Example 1:</font><br>Build an iterator to highlight how iterators work internally to produce the next sequence."
   ]
  },
  {
   "cell_type": "markdown",
   "metadata": {},
   "source": [
    "Iterable objects can be traversed using a <code>for</code> loop."
   ]
  },
  {
   "cell_type": "code",
   "execution_count": 3,
   "metadata": {},
   "outputs": [],
   "source": [
    "class Series(object):\n",
    "    def __init__(self, low, high):\n",
    "        self.current = low\n",
    "        self.high = high\n",
    "\n",
    "    def __iter__(self):\n",
    "        return self\n",
    "\n",
    "    def __next__(self):\n",
    "        if self.current > self.high:\n",
    "            raise StopIteration\n",
    "        else:\n",
    "            self.current += 1\n",
    "            return self.current - 1"
   ]
  },
  {
   "cell_type": "code",
   "execution_count": 4,
   "metadata": {},
   "outputs": [
    {
     "name": "stdout",
     "output_type": "stream",
     "text": [
      "[10, 11, 12, 13, 14, 15, 16, 17, 18, 19, 20]\n"
     ]
    }
   ],
   "source": [
    "n_list = Series(10,20)    \n",
    "print(list(n_list))"
   ]
  },
  {
   "cell_type": "markdown",
   "metadata": {},
   "source": [
    "<font color=\"blue\">Explained</font><br>\n",
    "__iter__ returns the iterator object itself.<br>\n",
    "__next__ method returns the next value from the iterator.<br>\n",
    "<br>\n",
    "If there is no more items to return then it raises a StopIteration exception."
   ]
  },
  {
   "cell_type": "markdown",
   "metadata": {},
   "source": [
    "## <font color=\"blue\">Example 2:</font><br>Use the <code>iter()</code> and a <code>while</code> loop to highlight how iterators produce the next sequence."
   ]
  },
  {
   "cell_type": "code",
   "execution_count": 5,
   "metadata": {},
   "outputs": [],
   "source": [
    "# List of muay thai fighters\n",
    "muay_thai_fighters = [\"Ramon The Diamond Dekkers\", \"Buakaw Banchamek\", \"Samart Payakaroon\", \"Mike ”Iron Mike” Zambidis\"]"
   ]
  },
  {
   "cell_type": "markdown",
   "metadata": {},
   "source": [
    "### Create an iterator object using <code>iter()</code>"
   ]
  },
  {
   "cell_type": "code",
   "execution_count": 6,
   "metadata": {},
   "outputs": [],
   "source": [
    "# return an iterator object of the iterable list muay_thai_fighter\n",
    "iter_fighter = iter(muay_thai_fighters)"
   ]
  },
  {
   "cell_type": "code",
   "execution_count": 7,
   "metadata": {},
   "outputs": [
    {
     "data": {
      "text/plain": [
       "list_iterator"
      ]
     },
     "execution_count": 7,
     "metadata": {},
     "output_type": "execute_result"
    }
   ],
   "source": [
    "# Confirm an iterator object has been generated\n",
    "type(iter_fighter)"
   ]
  },
  {
   "cell_type": "code",
   "execution_count": 8,
   "metadata": {},
   "outputs": [
    {
     "data": {
      "text/plain": [
       "list"
      ]
     },
     "execution_count": 8,
     "metadata": {},
     "output_type": "execute_result"
    }
   ],
   "source": [
    "# Confirm the list remains unchaged\n",
    "type(muay_thai_fighters)"
   ]
  },
  {
   "cell_type": "markdown",
   "metadata": {},
   "source": [
    "### Use a <code>while</code> loop"
   ]
  },
  {
   "cell_type": "code",
   "execution_count": 9,
   "metadata": {},
   "outputs": [
    {
     "name": "stdout",
     "output_type": "stream",
     "text": [
      "Ramon The Diamond Dekkers\n",
      "Buakaw Banchamek\n",
      "Samart Payakaroon\n",
      "Mike ”Iron Mike” Zambidis\n"
     ]
    }
   ],
   "source": [
    "while True:\n",
    "    try:\n",
    "        fighter = next(iter_fighter)\n",
    "        print(fighter)\n",
    "    except StopIteration:\n",
    "        break"
   ]
  }
 ],
 "metadata": {
  "kernelspec": {
   "display_name": "Python 3",
   "language": "python",
   "name": "python3"
  },
  "language_info": {
   "codemirror_mode": {
    "name": "ipython",
    "version": 3
   },
   "file_extension": ".py",
   "mimetype": "text/x-python",
   "name": "python",
   "nbconvert_exporter": "python",
   "pygments_lexer": "ipython3",
   "version": "3.7.6"
  }
 },
 "nbformat": 4,
 "nbformat_minor": 2
}

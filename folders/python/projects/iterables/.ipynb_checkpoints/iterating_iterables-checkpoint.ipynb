{
 "cells": [
  {
   "cell_type": "markdown",
   "metadata": {},
   "source": [
    "# Iterating through iterable objects\n",
    "\n",
    " - <font color=\"blue\">Goal:</font> provide examples of how iterable objects use a <code>for</code> loop to transverse elements within each container."
   ]
  },
  {
   "cell_type": "markdown",
   "metadata": {},
   "source": [
    "## Iterating through a list\n",
    "\n",
    "- a list is container that contains a mixture of data types as its elements, and can be indexed (forward and reverse) and subsegmented."
   ]
  },
  {
   "cell_type": "code",
   "execution_count": 1,
   "metadata": {},
   "outputs": [],
   "source": [
    "# List of muay thai fighters\n",
    "muay_thai_fighters = [\"Ramon The Diamond Dekkers\", \"Buakaw Banchamek\", \"Samart Payakaroon\", \"Mike”Iron Mike” Zambidis\"]"
   ]
  },
  {
   "cell_type": "code",
   "execution_count": 2,
   "metadata": {},
   "outputs": [
    {
     "name": "stdout",
     "output_type": "stream",
     "text": [
      "Ramon The Diamond Dekkers\n",
      "Buakaw Banchamek\n",
      "Samart Payakaroon\n",
      "Mike”Iron Mike” Zambidis\n"
     ]
    }
   ],
   "source": [
    "# For loop that iterates through the list of fighters\n",
    "for fighter in muay_thai_fighters:\n",
    "    print(fighter)"
   ]
  },
  {
   "cell_type": "markdown",
   "metadata": {},
   "source": [
    "## Iterating through a tuple\n",
    "\n",
    " - tuples are an immutable container that can contained mixed data types as its elements."
   ]
  },
  {
   "cell_type": "code",
   "execution_count": 3,
   "metadata": {},
   "outputs": [],
   "source": [
    "# Tuple that contains detailed information on Danny Bill, a muay thai figther\n",
    "fighter = ('Danny Bill', 'French Cameroonian', '1986 – 2012', 'Total 126 wins')"
   ]
  },
  {
   "cell_type": "code",
   "execution_count": 4,
   "metadata": {},
   "outputs": [
    {
     "name": "stdout",
     "output_type": "stream",
     "text": [
      "Danny Bill\n",
      "French Cameroonian\n",
      "1986 – 2012\n",
      "Total 126 wins\n"
     ]
    }
   ],
   "source": [
    "# Loop through tuple\n",
    "for detail in fighter:\n",
    "    print(detail)"
   ]
  },
  {
   "cell_type": "markdown",
   "metadata": {},
   "source": [
    "## Iterating through a set\n",
    "\n",
    " - sets are unordered collection of unique elements."
   ]
  },
  {
   "cell_type": "code",
   "execution_count": 5,
   "metadata": {},
   "outputs": [],
   "source": [
    "# A set that contains various fighting styles\n",
    "fighting_sports = {'mma', 'muay thai', 'boxing', 'jiu jitsu'}"
   ]
  },
  {
   "cell_type": "code",
   "execution_count": 6,
   "metadata": {},
   "outputs": [
    {
     "name": "stdout",
     "output_type": "stream",
     "text": [
      "boxing\n",
      "mma\n",
      "jiu jitsu\n",
      "muay thai\n"
     ]
    }
   ],
   "source": [
    "for style in fighting_sports:\n",
    "    print(style)"
   ]
  },
  {
   "cell_type": "markdown",
   "metadata": {},
   "source": [
    "## Iterating through a string\n",
    "\n",
    " - strings are an immutable sequence of characters."
   ]
  },
  {
   "cell_type": "code",
   "execution_count": 7,
   "metadata": {},
   "outputs": [],
   "source": [
    "# Sring that contains name of muay thai gym\n",
    "gym_name = \"The Yard\""
   ]
  },
  {
   "cell_type": "code",
   "execution_count": 8,
   "metadata": {},
   "outputs": [
    {
     "name": "stdout",
     "output_type": "stream",
     "text": [
      "T\n",
      "h\n",
      "e\n",
      " \n",
      "Y\n",
      "a\n",
      "r\n",
      "d\n"
     ]
    }
   ],
   "source": [
    "for char in gym_name:\n",
    "    print(char)"
   ]
  },
  {
   "cell_type": "markdown",
   "metadata": {},
   "source": [
    "## Iterating through a dictionary\n",
    "\n",
    " - dictionary is a mapping of unique keys to values"
   ]
  },
  {
   "cell_type": "code",
   "execution_count": 9,
   "metadata": {},
   "outputs": [],
   "source": [
    "# dictionary containing information on a muay thai fighter\n",
    "fighter_dict = {'name' :'Ramon Dekkers', 'nationality':'Dutch', 'total fights': '223 fights'}"
   ]
  },
  {
   "cell_type": "markdown",
   "metadata": {},
   "source": [
    "### Get key"
   ]
  },
  {
   "cell_type": "code",
   "execution_count": 10,
   "metadata": {},
   "outputs": [
    {
     "name": "stdout",
     "output_type": "stream",
     "text": [
      "name\n",
      "nationality\n",
      "total fights\n"
     ]
    }
   ],
   "source": [
    "for key in fighter_dict:\n",
    "    print(key)"
   ]
  },
  {
   "cell_type": "markdown",
   "metadata": {},
   "source": [
    "### Get key-value pair using <font color=\"red\">.items()</font> as tuple"
   ]
  },
  {
   "cell_type": "code",
   "execution_count": 11,
   "metadata": {},
   "outputs": [
    {
     "name": "stdout",
     "output_type": "stream",
     "text": [
      "('name', 'Ramon Dekkers')\n",
      "('nationality', 'Dutch')\n",
      "('total fights', '223 fights')\n"
     ]
    }
   ],
   "source": [
    "for item in fighter_dict.items():\n",
    "    print(item)"
   ]
  },
  {
   "cell_type": "markdown",
   "metadata": {},
   "source": [
    "### Get key-value pair using <font color=\"red\">.items()</font> unpacked"
   ]
  },
  {
   "cell_type": "code",
   "execution_count": 12,
   "metadata": {},
   "outputs": [
    {
     "name": "stdout",
     "output_type": "stream",
     "text": [
      "name: Ramon Dekkers\n",
      "nationality: Dutch\n",
      "total fights: 223 fights\n"
     ]
    }
   ],
   "source": [
    "for key, detail in fighter_dict.items():\n",
    "    print(key + ': ' + detail)"
   ]
  },
  {
   "cell_type": "markdown",
   "metadata": {},
   "source": [
    "### Iterate through a range"
   ]
  },
  {
   "cell_type": "code",
   "execution_count": 13,
   "metadata": {},
   "outputs": [],
   "source": [
    "interval = range(0, 10)"
   ]
  },
  {
   "cell_type": "code",
   "execution_count": 14,
   "metadata": {},
   "outputs": [
    {
     "name": "stdout",
     "output_type": "stream",
     "text": [
      "0\n",
      "1\n",
      "2\n",
      "3\n",
      "4\n",
      "5\n",
      "6\n",
      "7\n",
      "8\n",
      "9\n"
     ]
    }
   ],
   "source": [
    "for digit in interval:\n",
    "    print(digit)"
   ]
  },
  {
   "cell_type": "markdown",
   "metadata": {},
   "source": [
    "### Iterate through enumerate\n",
    "\n",
    " - enumerate function returns a tuple that contains <code>(index, item)</code>"
   ]
  },
  {
   "cell_type": "code",
   "execution_count": 15,
   "metadata": {},
   "outputs": [],
   "source": [
    "US_muay_thai = ['Shane Fazen', 'James Wilson', 'Paul Felder']"
   ]
  },
  {
   "cell_type": "code",
   "execution_count": 16,
   "metadata": {},
   "outputs": [],
   "source": [
    "enumerated_fighters = enumerate(US_muay_thai)"
   ]
  },
  {
   "cell_type": "code",
   "execution_count": 17,
   "metadata": {},
   "outputs": [
    {
     "name": "stdout",
     "output_type": "stream",
     "text": [
      "(0, 'Shane Fazen')\n",
      "(1, 'James Wilson')\n",
      "(2, 'Paul Felder')\n"
     ]
    }
   ],
   "source": [
    "for fighter in enumerated_fighters:\n",
    "    print(fighter)"
   ]
  }
 ],
 "metadata": {
  "kernelspec": {
   "display_name": "Python 3",
   "language": "python",
   "name": "python3"
  },
  "language_info": {
   "codemirror_mode": {
    "name": "ipython",
    "version": 3
   },
   "file_extension": ".py",
   "mimetype": "text/x-python",
   "name": "python",
   "nbconvert_exporter": "python",
   "pygments_lexer": "ipython3",
   "version": "3.7.6"
  }
 },
 "nbformat": 4,
 "nbformat_minor": 2
}

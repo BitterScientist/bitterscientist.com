{
 "cells": [
  {
   "cell_type": "markdown",
   "metadata": {},
   "source": [
    "# Transversing a DataFrame\n",
    "\n",
    "There are several methods to transverse a dataframe, several of which use a generator object:\n",
    " - for loop (column names)\n",
    " - iteritems(): <code>generator object</code> transverses through the columns\n",
    " - iterrows(): <code>generator object</code> transverses through the rows"
   ]
  },
  {
   "cell_type": "code",
   "execution_count": 1,
   "metadata": {},
   "outputs": [],
   "source": [
    "import pandas as pd"
   ]
  },
  {
   "cell_type": "markdown",
   "metadata": {},
   "source": [
    "### Import data"
   ]
  },
  {
   "cell_type": "code",
   "execution_count": 2,
   "metadata": {},
   "outputs": [],
   "source": [
    "fighters = pd.read_csv('fighters.csv')"
   ]
  },
  {
   "cell_type": "code",
   "execution_count": 3,
   "metadata": {},
   "outputs": [
    {
     "name": "stdout",
     "output_type": "stream",
     "text": [
      "               Last       First    Country  Wins  Losses\n",
      "0              Parr  John Wayne  Australia    95      32\n",
      "1              Ross       Kevin        USA    43      11\n",
      "2  von Duuglas-Ittu      Sylvie        USA   170      73\n",
      "3           Mauceri       Chris        USA    19       6\n",
      "4           Trainor      Damien         UK    43      11\n"
     ]
    }
   ],
   "source": [
    "# Print dataframe\n",
    "print(fighters)"
   ]
  },
  {
   "cell_type": "markdown",
   "metadata": {},
   "source": [
    "### A for loop on dataframe prints out the attributes (column names)"
   ]
  },
  {
   "cell_type": "code",
   "execution_count": 4,
   "metadata": {},
   "outputs": [
    {
     "name": "stdout",
     "output_type": "stream",
     "text": [
      "Last\n",
      "First\n",
      "Country\n",
      "Wins\n",
      "Losses\n"
     ]
    }
   ],
   "source": [
    "# Use the for on fighters dataframe\n",
    "for fighter in fighters:\n",
    "    print(fighter)"
   ]
  },
  {
   "cell_type": "markdown",
   "metadata": {},
   "source": [
    "# Iterate over each element of the dataframe, row-wise using <code>iterrows()</code>"
   ]
  },
  {
   "cell_type": "markdown",
   "metadata": {},
   "source": [
    "### Create a generator using .iterrows()"
   ]
  },
  {
   "cell_type": "code",
   "execution_count": 5,
   "metadata": {},
   "outputs": [],
   "source": [
    "# Apply iterrows() methods on only a subset of the data\n",
    "data = fighters[0:2].iterrows()"
   ]
  },
  {
   "cell_type": "code",
   "execution_count": 6,
   "metadata": {},
   "outputs": [
    {
     "data": {
      "text/plain": [
       "generator"
      ]
     },
     "execution_count": 6,
     "metadata": {},
     "output_type": "execute_result"
    }
   ],
   "source": [
    "# Confirm generator type\n",
    "type(data)"
   ]
  },
  {
   "cell_type": "code",
   "execution_count": 7,
   "metadata": {},
   "outputs": [
    {
     "name": "stdout",
     "output_type": "stream",
     "text": [
      "<generator object DataFrame.iterrows at 0x1116ea8d0>\n"
     ]
    }
   ],
   "source": [
    "# Confirm generator object\n",
    "print(data)"
   ]
  },
  {
   "cell_type": "markdown",
   "metadata": {},
   "source": [
    "### Access each instance as a <font color=\"red\">tuple</font> in the dataframe using <code>.itterrows()</code> and <code>for</code> loop \n",
    "\n",
    " - Each item that is returned/transversed will be a tuple <code>(index name, Series)</code>"
   ]
  },
  {
   "cell_type": "code",
   "execution_count": 8,
   "metadata": {},
   "outputs": [
    {
     "name": "stdout",
     "output_type": "stream",
     "text": [
      "(0, Last             Parr\n",
      "First      John Wayne\n",
      "Country     Australia\n",
      "Wins               95\n",
      "Losses             32\n",
      "Name: 0, dtype: object)\n",
      "(1, Last        Ross\n",
      "First      Kevin\n",
      "Country      USA\n",
      "Wins          43\n",
      "Losses        11\n",
      "Name: 1, dtype: object)\n"
     ]
    }
   ],
   "source": [
    "for item in data:\n",
    "    print(item)"
   ]
  },
  {
   "cell_type": "markdown",
   "metadata": {},
   "source": [
    "<font color=\"blue\">Explanation:</font><br>\n",
    " - This method will return a tuple for each instance\n",
    " - (index name, Series)"
   ]
  },
  {
   "cell_type": "markdown",
   "metadata": {},
   "source": [
    "### Access each instance as an <font color=\"red\">unpacked tuple</font> in the dataframe using <code>.itterrows()</code> and <code>for</code> loop "
   ]
  },
  {
   "cell_type": "code",
   "execution_count": 9,
   "metadata": {},
   "outputs": [],
   "source": [
    "# Apply iterrows() methods on only a subset of the data\n",
    "data = fighters[0:2].iterrows()"
   ]
  },
  {
   "cell_type": "code",
   "execution_count": 10,
   "metadata": {},
   "outputs": [
    {
     "name": "stdout",
     "output_type": "stream",
     "text": [
      "0\n",
      "Last             Parr\n",
      "First      John Wayne\n",
      "Country     Australia\n",
      "Wins               95\n",
      "Losses             32\n",
      "Name: 0, dtype: object\n",
      "1\n",
      "Last        Ross\n",
      "First      Kevin\n",
      "Country      USA\n",
      "Wins          43\n",
      "Losses        11\n",
      "Name: 1, dtype: object\n"
     ]
    }
   ],
   "source": [
    "for index, series in data:\n",
    "    print(index)\n",
    "    print(series)"
   ]
  },
  {
   "cell_type": "markdown",
   "metadata": {},
   "source": [
    "# Iterate over each element of the dataframe, column-wise using <code>iteritems()</code>"
   ]
  },
  {
   "cell_type": "markdown",
   "metadata": {},
   "source": [
    "### Access each instance as a <font color=\"red\">tuple</font> in the dataframe using <code>.iteritems()</code> and a <code>for</code> loop \n",
    "\n",
    " - Each item that is returned/transversed will be a tuple <code>(index name, Series)</code>"
   ]
  },
  {
   "cell_type": "code",
   "execution_count": 11,
   "metadata": {},
   "outputs": [],
   "source": [
    "data = fighters[0:2].iteritems()"
   ]
  },
  {
   "cell_type": "code",
   "execution_count": 12,
   "metadata": {},
   "outputs": [
    {
     "name": "stdout",
     "output_type": "stream",
     "text": [
      "<generator object DataFrame.items at 0x1116eabd0>\n"
     ]
    }
   ],
   "source": [
    "# Confirm generator object\n",
    "print(data)"
   ]
  },
  {
   "cell_type": "code",
   "execution_count": 13,
   "metadata": {},
   "outputs": [
    {
     "name": "stdout",
     "output_type": "stream",
     "text": [
      "('Last', 0    Parr\n",
      "1    Ross\n",
      "Name: Last, dtype: object)\n",
      "('First', 0    John Wayne\n",
      "1         Kevin\n",
      "Name: First, dtype: object)\n",
      "('Country', 0    Australia\n",
      "1          USA\n",
      "Name: Country, dtype: object)\n",
      "('Wins', 0    95\n",
      "1    43\n",
      "Name: Wins, dtype: int64)\n",
      "('Losses', 0    32\n",
      "1    11\n",
      "Name: Losses, dtype: int64)\n"
     ]
    }
   ],
   "source": [
    "for item in data:\n",
    "    print(item)"
   ]
  },
  {
   "cell_type": "markdown",
   "metadata": {},
   "source": [
    "### Access each instance as an <font color=\"red\">unpacked tuple</font> in the dataframe using <code>.iteritems()</code> and <code>for</code> loop "
   ]
  },
  {
   "cell_type": "code",
   "execution_count": 14,
   "metadata": {},
   "outputs": [],
   "source": [
    "# Apply on subset of dataframe\n",
    "data = fighters[0:2].iteritems()"
   ]
  },
  {
   "cell_type": "code",
   "execution_count": 15,
   "metadata": {},
   "outputs": [
    {
     "name": "stdout",
     "output_type": "stream",
     "text": [
      "Last\n",
      "0    Parr\n",
      "1    Ross\n",
      "Name: Last, dtype: object\n",
      "First\n",
      "0    John Wayne\n",
      "1         Kevin\n",
      "Name: First, dtype: object\n",
      "Country\n",
      "0    Australia\n",
      "1          USA\n",
      "Name: Country, dtype: object\n",
      "Wins\n",
      "0    95\n",
      "1    43\n",
      "Name: Wins, dtype: int64\n",
      "Losses\n",
      "0    32\n",
      "1    11\n",
      "Name: Losses, dtype: int64\n"
     ]
    }
   ],
   "source": [
    "for item, series in data:\n",
    "    print(item)\n",
    "    print(series)"
   ]
  }
 ],
 "metadata": {
  "kernelspec": {
   "display_name": "Python 3",
   "language": "python",
   "name": "python3"
  },
  "language_info": {
   "codemirror_mode": {
    "name": "ipython",
    "version": 3
   },
   "file_extension": ".py",
   "mimetype": "text/x-python",
   "name": "python",
   "nbconvert_exporter": "python",
   "pygments_lexer": "ipython3",
   "version": "3.7.6"
  }
 },
 "nbformat": 4,
 "nbformat_minor": 2
}

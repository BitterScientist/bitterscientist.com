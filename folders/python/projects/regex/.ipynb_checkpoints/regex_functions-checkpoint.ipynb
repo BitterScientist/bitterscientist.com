{
 "cells": [
  {
   "cell_type": "code",
   "execution_count": 1,
   "metadata": {},
   "outputs": [],
   "source": [
    "import re"
   ]
  },
  {
   "cell_type": "markdown",
   "metadata": {},
   "source": [
    "# An email recognition pattern"
   ]
  },
  {
   "cell_type": "code",
   "execution_count": 2,
   "metadata": {},
   "outputs": [],
   "source": [
    "pattern = re.compile(r'[\\w\\.]+@[a-z]+\\.[a-z]+')"
   ]
  },
  {
   "cell_type": "markdown",
   "metadata": {},
   "source": [
    "<code>r''</code>: This designates a raw string<br>\n",
    "<code>[\\w\\.]+</code>: Match for at least one letter, digit, underscore, or dot character. <font color=\"red\">local-part</font><br>\n",
    "<code>@</code>: Match for \"@\"<br>\n",
    "<code>[a-z]+</code>: Match at least one or more lowercase letter. <font color=\"red\">domain</font><br>\n",
    "<code>\\.</code>: Match for \".\"<br>\n",
    "<code>[a-z]+</code>: Match at least one or more lowercase letter. <font color=\"red\">com</font><br>"
   ]
  },
  {
   "cell_type": "code",
   "execution_count": 3,
   "metadata": {},
   "outputs": [],
   "source": [
    "text = 'Bill''s email is bill.seymore@famousbox.com '\\\n",
    "'is the e-mail of Bill. He often emails his coworker at '\\\n",
    "'distraction@somecompany.com. But the messages get '\\\n",
    "'forwarded to another email junkkmail87@domain.com.'"
   ]
  },
  {
   "cell_type": "markdown",
   "metadata": {},
   "source": [
    "# Return matches using <font color=\"blue\">re.finditer()</font>\n",
    "\n",
    " - Function will scan the string from left-to-right, and matches are returned in the order found. Empty matches are included in the result."
   ]
  },
  {
   "cell_type": "code",
   "execution_count": 4,
   "metadata": {},
   "outputs": [
    {
     "name": "stdout",
     "output_type": "stream",
     "text": [
      "<callable_iterator object at 0x10aa4b190>\n",
      "\n",
      "\n",
      "<re.Match object; span=(15, 41), match='bill.seymore@famousbox.com'>\n",
      "<re.Match object; span=(97, 124), match='distraction@somecompany.com'>\n",
      "<re.Match object; span=(174, 196), match='junkkmail87@domain.com'>\n"
     ]
    }
   ],
   "source": [
    "result = re.finditer(pattern, text)\n",
    "print(result)\n",
    "print(\"\\n\")\n",
    "\n",
    "for match in result:\n",
    "  print(match)"
   ]
  },
  {
   "cell_type": "markdown",
   "metadata": {},
   "source": [
    "# Use re.finditer() with <font color=\"blue\">.group(), .start(), and .end()</font> to get more information on matched object\n",
    " - <code>.group()</code>: returns the matched string\n",
    " - <code>.start()</code>: returns the starting index that the matching object is found\n",
    " - <code>.end()</code>: returns the last index of the matching object"
   ]
  },
  {
   "cell_type": "code",
   "execution_count": 5,
   "metadata": {},
   "outputs": [
    {
     "name": "stdout",
     "output_type": "stream",
     "text": [
      "The email match: bill.seymore@famousbox.com\n",
      "start index: 15\n",
      "end index: 41\n",
      "\n",
      "\n",
      "The email match: distraction@somecompany.com\n",
      "start index: 97\n",
      "end index: 124\n",
      "\n",
      "\n",
      "The email match: junkkmail87@domain.com\n",
      "start index: 174\n",
      "end index: 196\n",
      "\n",
      "\n"
     ]
    }
   ],
   "source": [
    "result = re.finditer(pattern, text)\n",
    "\n",
    "for match in result:\n",
    "    print(f'The email match: {match.group()}')\n",
    "    print(f'start index: {match.start()}')\n",
    "    print(f'end index: {match.end()}')\n",
    "    print(\"\\n\")"
   ]
  },
  {
   "cell_type": "markdown",
   "metadata": {},
   "source": [
    "# Get all matched instances with <font color=\"blue\">re.findall()</font>\n",
    "\n",
    " - Matches all occurrences of a pattern, not just the first one"
   ]
  },
  {
   "cell_type": "code",
   "execution_count": 6,
   "metadata": {},
   "outputs": [
    {
     "name": "stdout",
     "output_type": "stream",
     "text": [
      "['bill.seymore@famousbox.com', 'distraction@somecompany.com', 'junkkmail87@domain.com']\n"
     ]
    }
   ],
   "source": [
    "emails = re.findall(pattern, text)\n",
    "print(emails)"
   ]
  },
  {
   "cell_type": "markdown",
   "metadata": {},
   "source": [
    "# Capture matches using <font color=\"blue\">re.split()</font>\n",
    "\n",
    " - Split string by the occurrences of pattern. \n",
    " - If capturing parentheses are used in pattern, then all groups in the pattern are returned in a list. "
   ]
  },
  {
   "cell_type": "code",
   "execution_count": 7,
   "metadata": {},
   "outputs": [
    {
     "name": "stdout",
     "output_type": "stream",
     "text": [
      "['Bills email is ', ' is the e-mail of Bill. He often emails his coworker at ', '. But the messages get forwarded to another email ', '.']\n"
     ]
    }
   ],
   "source": [
    "# Example one: remove emails from text\n",
    "split_text = re.split(pattern, text)\n",
    "print(split_text)"
   ]
  },
  {
   "cell_type": "code",
   "execution_count": 9,
   "metadata": {},
   "outputs": [],
   "source": [
    "# Compile the regular expression\n",
    "new_pattern = re.compile(r'[,:\\.\\s]+')"
   ]
  },
  {
   "cell_type": "markdown",
   "metadata": {},
   "source": [
    "<code>r''</code>: This designates a raw string<br>\n",
    "<code>[,:\\.\\s]+</code>: Each major characters described below.\n",
    " - <code>[]+</code>: Match for at least one or more characters inside braket<br>\n",
    " - <code>[,:]+</code>: Match for at either the comman, and/or colon<br>\n",
    " - <code>[\\.]+</code>: Match for a period<br>\n",
    " - <code>[\\s]+</code>: Match for space or tab<br>"
   ]
  },
  {
   "cell_type": "code",
   "execution_count": 10,
   "metadata": {},
   "outputs": [
    {
     "name": "stdout",
     "output_type": "stream",
     "text": [
      "['The', 'python', 'datatypes', 'include', 'int', 'floats', 'strings', 'category', '']\n"
     ]
    }
   ],
   "source": [
    "# Example two: remove blank space and return a list of only text\n",
    "text = 'The python datatypes include: int, floats, strings, category.'\n",
    "\n",
    "# Split the text that only words or numbers are left\n",
    "words = re.split(new_pattern, text)\n",
    "print(words)"
   ]
  },
  {
   "cell_type": "markdown",
   "metadata": {},
   "source": [
    "# <font color=\"blue\">match()</font> versus <font color=\"blue\">search()</font>\n",
    "\n",
    " - match() functions stops and returns the first pattern it matches\n",
    " - search() function checks for a match anywhere in the string"
   ]
  },
  {
   "cell_type": "code",
   "execution_count": 23,
   "metadata": {},
   "outputs": [],
   "source": [
    "pattern = re.compile(r'[\\w\\.]+@[a-z]+\\.[a-z]+')\n",
    "new_text = 'jyoliver@live.com, mbrown@att.net, thaljef@verizon.net, boein@yahoo.com, noahb@me.com'"
   ]
  },
  {
   "cell_type": "code",
   "execution_count": 24,
   "metadata": {},
   "outputs": [
    {
     "name": "stdout",
     "output_type": "stream",
     "text": [
      "<re.Match object; span=(0, 17), match='jyoliver@live.com'>\n"
     ]
    }
   ],
   "source": [
    "match_email = re.match(pattern, new_text)\n",
    "print(match_email)"
   ]
  },
  {
   "cell_type": "markdown",
   "metadata": {},
   "source": [
    "Will only match the first substring it encounters. If it does not match it will return none.\n",
    " - In this example, we added a label 'emails:' before the start of an actual email"
   ]
  },
  {
   "cell_type": "code",
   "execution_count": 29,
   "metadata": {},
   "outputs": [
    {
     "name": "stdout",
     "output_type": "stream",
     "text": [
      "None\n"
     ]
    }
   ],
   "source": [
    "updated_text = 'emails: jyoliver@live.com, mbrown@att.net, thaljef@verizon.net, boein@yahoo.com, noahb@me.com'\n",
    "\n",
    "match_email = re.match(pattern, updated_text)\n",
    "print(match_email)"
   ]
  },
  {
   "cell_type": "markdown",
   "metadata": {},
   "source": [
    "Search pattern is able to scan past substrings that do not match pattern and will then only return the 1st substring that it matched"
   ]
  },
  {
   "cell_type": "code",
   "execution_count": 30,
   "metadata": {},
   "outputs": [
    {
     "name": "stdout",
     "output_type": "stream",
     "text": [
      "<re.Match object; span=(8, 25), match='jyoliver@live.com'>\n"
     ]
    }
   ],
   "source": [
    "updated_text = 'emails: jyoliver@live.com, mbrown@att.net, thaljef@verizon.net, boein@yahoo.com, noahb@me.com'\n",
    "search_email = re.search(pattern, updated_text)\n",
    "print(search_email)"
   ]
  },
  {
   "cell_type": "markdown",
   "metadata": {},
   "source": [
    "Again, use findall() if you want all objects that match pattern."
   ]
  },
  {
   "cell_type": "code",
   "execution_count": 31,
   "metadata": {},
   "outputs": [
    {
     "name": "stdout",
     "output_type": "stream",
     "text": [
      "['jyoliver@live.com', 'mbrown@att.net', 'thaljef@verizon.net', 'boein@yahoo.com', 'noahb@me.com']\n"
     ]
    }
   ],
   "source": [
    "updated_text = 'emails: jyoliver@live.com, mbrown@att.net, thaljef@verizon.net, boein@yahoo.com, noahb@me.com'\n",
    "return_all_email = re.findall(pattern, updated_text)\n",
    "print(return_all_email)"
   ]
  }
 ],
 "metadata": {
  "kernelspec": {
   "display_name": "Python 3",
   "language": "python",
   "name": "python3"
  },
  "language_info": {
   "codemirror_mode": {
    "name": "ipython",
    "version": 3
   },
   "file_extension": ".py",
   "mimetype": "text/x-python",
   "name": "python",
   "nbconvert_exporter": "python",
   "pygments_lexer": "ipython3",
   "version": "3.7.6"
  }
 },
 "nbformat": 4,
 "nbformat_minor": 2
}

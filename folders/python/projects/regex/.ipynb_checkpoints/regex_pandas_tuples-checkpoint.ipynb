{
 "cells": [
  {
   "cell_type": "markdown",
   "metadata": {},
   "source": [
    "# Import modules"
   ]
  },
  {
   "cell_type": "code",
   "execution_count": 1,
   "metadata": {},
   "outputs": [],
   "source": [
    "import pandas as pd"
   ]
  },
  {
   "cell_type": "markdown",
   "metadata": {},
   "source": [
    "### Save csv data to database variable df"
   ]
  },
  {
   "cell_type": "code",
   "execution_count": 2,
   "metadata": {},
   "outputs": [],
   "source": [
    "df = pd.read_csv(\"../../static/documents/regex_pandax_column.csv\")"
   ]
  },
  {
   "cell_type": "markdown",
   "metadata": {},
   "source": [
    "### Inspect Dataframe Dimensions"
   ]
  },
  {
   "cell_type": "code",
   "execution_count": 3,
   "metadata": {},
   "outputs": [
    {
     "data": {
      "text/plain": [
       "(42, 700)"
      ]
     },
     "execution_count": 3,
     "metadata": {},
     "output_type": "execute_result"
    }
   ],
   "source": [
    "df.shape"
   ]
  },
  {
   "cell_type": "markdown",
   "metadata": {},
   "source": [
    "There are 700 columns and 42 rows"
   ]
  },
  {
   "cell_type": "code",
   "execution_count": 4,
   "metadata": {},
   "outputs": [
    {
     "name": "stdout",
     "output_type": "stream",
     "text": [
      "The number of columns in this dataset is: 700\n"
     ]
    }
   ],
   "source": [
    "print(f'The number of columns in this dataset is: {len(df.columns)}')"
   ]
  },
  {
   "cell_type": "markdown",
   "metadata": {},
   "source": [
    "### Inspect Dataframe"
   ]
  },
  {
   "cell_type": "code",
   "execution_count": 5,
   "metadata": {},
   "outputs": [
    {
     "data": {
      "text/html": [
       "<div>\n",
       "<style scoped>\n",
       "    .dataframe tbody tr th:only-of-type {\n",
       "        vertical-align: middle;\n",
       "    }\n",
       "\n",
       "    .dataframe tbody tr th {\n",
       "        vertical-align: top;\n",
       "    }\n",
       "\n",
       "    .dataframe thead th {\n",
       "        text-align: right;\n",
       "    }\n",
       "</style>\n",
       "<table border=\"1\" class=\"dataframe\">\n",
       "  <thead>\n",
       "    <tr style=\"text-align: right;\">\n",
       "      <th></th>\n",
       "      <th>FORM[0].Section1[0].Header1[0].FirstName[0]</th>\n",
       "      <th>FORM[0].Section1[0].Header1[0].LastName[0]</th>\n",
       "      <th>FORM[0].Section1[0].Header1[0].Datecompleted[0]</th>\n",
       "      <th>FORM[0].Section1[0].Header1[0].Rank[0]</th>\n",
       "      <th>FORM[0].Section1[0].Header1[0].Tenure[0]</th>\n",
       "      <th>FORM[0].Section1[0].Header1[0].Timeperiodstartdate[0]</th>\n",
       "      <th>FORM[0].Section1[0].Header1[0].AcademicActivities[0]</th>\n",
       "      <th>FORM[0].Section1[0].Header1[0].ClinicalPractice[0]</th>\n",
       "      <th>FORM[0].Section1[0].Header1[0].Scholarly[0]</th>\n",
       "      <th>FORM[0].Section1[0].Header1[0].ExternalProfessional[0]</th>\n",
       "      <th>...</th>\n",
       "      <th>FORM[0].SciAbstracts[0].Row1[7].SciAbstractAdditionalroles[0]</th>\n",
       "      <th>FORM[0].SciAbstracts[0].Row1[7].SciAbstractTypeofmeeting[0]</th>\n",
       "      <th>FORM[0].SciAbstracts[0].Row1[7].SciAbstractPodPoster[0]</th>\n",
       "      <th>FORM[0].SciAbstracts[0].Row1[8].SpeakerAuthor[0]</th>\n",
       "      <th>FORM[0].SciAbstracts[0].Row1[8].SpeakerDVMStudent[0]</th>\n",
       "      <th>FORM[0].SciAbstracts[0].Row1[8].SpeakerTitle[0]</th>\n",
       "      <th>FORM[0].SciAbstracts[0].Row1[8].SciAbstractDates[0]</th>\n",
       "      <th>FORM[0].SciAbstracts[0].Row1[8].SciAbstractAdditionalroles[0]</th>\n",
       "      <th>FORM[0].SciAbstracts[0].Row1[8].SciAbstractTypeofmeeting[0]</th>\n",
       "      <th>FORM[0].SciAbstracts[0].Row1[8].SciAbstractPodPoster[0]</th>\n",
       "    </tr>\n",
       "  </thead>\n",
       "  <tbody>\n",
       "    <tr>\n",
       "      <th>0</th>\n",
       "      <td>SHHM</td>\n",
       "      <td>XSRQ</td>\n",
       "      <td>BLHB</td>\n",
       "      <td>CRWY</td>\n",
       "      <td>VQHG</td>\n",
       "      <td>AGYD</td>\n",
       "      <td>RCQC</td>\n",
       "      <td>GLQU</td>\n",
       "      <td>WDFV</td>\n",
       "      <td>JPYA</td>\n",
       "      <td>...</td>\n",
       "      <td>BANG</td>\n",
       "      <td>PIMY</td>\n",
       "      <td>EFUO</td>\n",
       "      <td>XCAB</td>\n",
       "      <td>RNXB</td>\n",
       "      <td>XDQH</td>\n",
       "      <td>MXQL</td>\n",
       "      <td>QDSJ</td>\n",
       "      <td>NWRK</td>\n",
       "      <td>AJKI</td>\n",
       "    </tr>\n",
       "    <tr>\n",
       "      <th>1</th>\n",
       "      <td>CYJX</td>\n",
       "      <td>WJKW</td>\n",
       "      <td>YGEV</td>\n",
       "      <td>EHGG</td>\n",
       "      <td>GBMR</td>\n",
       "      <td>BQQH</td>\n",
       "      <td>UQVS</td>\n",
       "      <td>QNGY</td>\n",
       "      <td>DRCQ</td>\n",
       "      <td>DJHS</td>\n",
       "      <td>...</td>\n",
       "      <td>CLFT</td>\n",
       "      <td>SMMD</td>\n",
       "      <td>LJNO</td>\n",
       "      <td>SOMG</td>\n",
       "      <td>DXUL</td>\n",
       "      <td>DEHL</td>\n",
       "      <td>WRQH</td>\n",
       "      <td>BHFC</td>\n",
       "      <td>FWGU</td>\n",
       "      <td>AQGM</td>\n",
       "    </tr>\n",
       "    <tr>\n",
       "      <th>2</th>\n",
       "      <td>PEOA</td>\n",
       "      <td>TSSF</td>\n",
       "      <td>XXRG</td>\n",
       "      <td>SKRG</td>\n",
       "      <td>LSID</td>\n",
       "      <td>FHKU</td>\n",
       "      <td>YQCQ</td>\n",
       "      <td>TECF</td>\n",
       "      <td>YPJV</td>\n",
       "      <td>QARI</td>\n",
       "      <td>...</td>\n",
       "      <td>UWWH</td>\n",
       "      <td>YFEM</td>\n",
       "      <td>BLTK</td>\n",
       "      <td>GWMV</td>\n",
       "      <td>PMNX</td>\n",
       "      <td>RDUA</td>\n",
       "      <td>BEGG</td>\n",
       "      <td>JHWJ</td>\n",
       "      <td>BOXX</td>\n",
       "      <td>GSQB</td>\n",
       "    </tr>\n",
       "  </tbody>\n",
       "</table>\n",
       "<p>3 rows × 700 columns</p>\n",
       "</div>"
      ],
      "text/plain": [
       "  FORM[0].Section1[0].Header1[0].FirstName[0]  \\\n",
       "0                                        SHHM   \n",
       "1                                        CYJX   \n",
       "2                                        PEOA   \n",
       "\n",
       "  FORM[0].Section1[0].Header1[0].LastName[0]  \\\n",
       "0                                       XSRQ   \n",
       "1                                       WJKW   \n",
       "2                                       TSSF   \n",
       "\n",
       "  FORM[0].Section1[0].Header1[0].Datecompleted[0]  \\\n",
       "0                                            BLHB   \n",
       "1                                            YGEV   \n",
       "2                                            XXRG   \n",
       "\n",
       "  FORM[0].Section1[0].Header1[0].Rank[0]  \\\n",
       "0                                   CRWY   \n",
       "1                                   EHGG   \n",
       "2                                   SKRG   \n",
       "\n",
       "  FORM[0].Section1[0].Header1[0].Tenure[0]  \\\n",
       "0                                     VQHG   \n",
       "1                                     GBMR   \n",
       "2                                     LSID   \n",
       "\n",
       "  FORM[0].Section1[0].Header1[0].Timeperiodstartdate[0]  \\\n",
       "0                                               AGYD      \n",
       "1                                               BQQH      \n",
       "2                                               FHKU      \n",
       "\n",
       "  FORM[0].Section1[0].Header1[0].AcademicActivities[0]  \\\n",
       "0                                               RCQC     \n",
       "1                                               UQVS     \n",
       "2                                               YQCQ     \n",
       "\n",
       "  FORM[0].Section1[0].Header1[0].ClinicalPractice[0]  \\\n",
       "0                                               GLQU   \n",
       "1                                               QNGY   \n",
       "2                                               TECF   \n",
       "\n",
       "  FORM[0].Section1[0].Header1[0].Scholarly[0]  \\\n",
       "0                                        WDFV   \n",
       "1                                        DRCQ   \n",
       "2                                        YPJV   \n",
       "\n",
       "  FORM[0].Section1[0].Header1[0].ExternalProfessional[0]  ...  \\\n",
       "0                                               JPYA      ...   \n",
       "1                                               DJHS      ...   \n",
       "2                                               QARI      ...   \n",
       "\n",
       "  FORM[0].SciAbstracts[0].Row1[7].SciAbstractAdditionalroles[0]  \\\n",
       "0                                               BANG              \n",
       "1                                               CLFT              \n",
       "2                                               UWWH              \n",
       "\n",
       "  FORM[0].SciAbstracts[0].Row1[7].SciAbstractTypeofmeeting[0]  \\\n",
       "0                                               PIMY            \n",
       "1                                               SMMD            \n",
       "2                                               YFEM            \n",
       "\n",
       "  FORM[0].SciAbstracts[0].Row1[7].SciAbstractPodPoster[0]  \\\n",
       "0                                               EFUO        \n",
       "1                                               LJNO        \n",
       "2                                               BLTK        \n",
       "\n",
       "  FORM[0].SciAbstracts[0].Row1[8].SpeakerAuthor[0]  \\\n",
       "0                                             XCAB   \n",
       "1                                             SOMG   \n",
       "2                                             GWMV   \n",
       "\n",
       "  FORM[0].SciAbstracts[0].Row1[8].SpeakerDVMStudent[0]  \\\n",
       "0                                               RNXB     \n",
       "1                                               DXUL     \n",
       "2                                               PMNX     \n",
       "\n",
       "  FORM[0].SciAbstracts[0].Row1[8].SpeakerTitle[0]  \\\n",
       "0                                            XDQH   \n",
       "1                                            DEHL   \n",
       "2                                            RDUA   \n",
       "\n",
       "  FORM[0].SciAbstracts[0].Row1[8].SciAbstractDates[0]  \\\n",
       "0                                               MXQL    \n",
       "1                                               WRQH    \n",
       "2                                               BEGG    \n",
       "\n",
       "  FORM[0].SciAbstracts[0].Row1[8].SciAbstractAdditionalroles[0]  \\\n",
       "0                                               QDSJ              \n",
       "1                                               BHFC              \n",
       "2                                               JHWJ              \n",
       "\n",
       "  FORM[0].SciAbstracts[0].Row1[8].SciAbstractTypeofmeeting[0]  \\\n",
       "0                                               NWRK            \n",
       "1                                               FWGU            \n",
       "2                                               BOXX            \n",
       "\n",
       "  FORM[0].SciAbstracts[0].Row1[8].SciAbstractPodPoster[0]  \n",
       "0                                               AJKI       \n",
       "1                                               AQGM       \n",
       "2                                               GSQB       \n",
       "\n",
       "[3 rows x 700 columns]"
      ]
     },
     "execution_count": 5,
     "metadata": {},
     "output_type": "execute_result"
    }
   ],
   "source": [
    "df.head(3)"
   ]
  },
  {
   "cell_type": "markdown",
   "metadata": {},
   "source": [
    "Column headers are difficult to read, the file contains metadata information for the fields the data was exported."
   ]
  },
  {
   "cell_type": "markdown",
   "metadata": {},
   "source": [
    "### Inspect a subset of the Columns"
   ]
  },
  {
   "cell_type": "code",
   "execution_count": 6,
   "metadata": {},
   "outputs": [
    {
     "data": {
      "text/plain": [
       "Index(['FORM[0].Section1[0].Header1[0].FirstName[0]',\n",
       "       'FORM[0].Section1[0].Header1[0].LastName[0]',\n",
       "       'FORM[0].Section1[0].Header1[0].Datecompleted[0]',\n",
       "       'FORM[0].Section1[0].Header1[0].Rank[0]',\n",
       "       'FORM[0].Section1[0].Header1[0].Tenure[0]',\n",
       "       'FORM[0].Section1[0].Header1[0].Timeperiodstartdate[0]',\n",
       "       'FORM[0].Section1[0].Header1[0].AcademicActivities[0]',\n",
       "       'FORM[0].Section1[0].Header1[0].ClinicalPractice[0]',\n",
       "       'FORM[0].Section1[0].Header1[0].Scholarly[0]',\n",
       "       'FORM[0].Section1[0].Header1[0].ExternalProfessional[0]'],\n",
       "      dtype='object')"
      ]
     },
     "execution_count": 6,
     "metadata": {},
     "output_type": "execute_result"
    }
   ],
   "source": [
    "df.columns[0:10]"
   ]
  },
  {
   "cell_type": "markdown",
   "metadata": {},
   "source": [
    "The column headers from the data exported from an adobe form has extra information about the document itself, and the actual column headers are embedded deep inside these strings.<br><br>\n",
    "FORM[0].Section1[0].Header1[0].<font color =\"red\">FirstName</font>[0]"
   ]
  },
  {
   "cell_type": "markdown",
   "metadata": {},
   "source": [
    "# Goal: Use pandas and Regular Expression to "
   ]
  },
  {
   "cell_type": "markdown",
   "metadata": {},
   "source": [
    "### Extract Column Name using <font color=\"red\">pandas.Series.str.extract</font>\n",
    "\n",
    " - This method will capture groups in the regex pattern as columns in a DataFrame.\n",
    " - <code>Series.str.extract(self, pat, flags=0, expand=True)</code>\n",
    " - Documentation: https://pandas.pydata.org/pandas-docs/stable/reference/api/pandas.Series.str.extract.html\n"
   ]
  },
  {
   "cell_type": "code",
   "execution_count": 7,
   "metadata": {},
   "outputs": [],
   "source": [
    "pattern = r'((?<=\\.)[a-zA-Z0-9]+(?=\\[0\\]$))'"
   ]
  },
  {
   "cell_type": "markdown",
   "metadata": {},
   "source": [
    "### Pattern explained\n",
    "\n",
    "<b>Code: </b><code>r''</code><br>\n",
    "<em>What is this?</em> <br>\n",
    "This is a special string designation that let's python know that all the characters inside the quotations will be evaluated differently using the <code>re</code> module.<br>\n",
    "<br>\n",
    "<b>Code: </b><code>(?<=\\\\.)</code><br>\n",
    "<em>What is this?</em>\n",
    "<br>\n",
    "This is a <font color=\"blue\">positive lookbehind assertion</font>, which helps set the starting point for the pattern you want to match.\n",
    "<br>\n",
    "In this example, we want to match the red <code>.</code> that comes before the actual column name we want: \"FirstName\"\n",
    "<br>\n",
    "FORM[0].Section1[0].Header1[0]<font color =\"red\"><b>.</b></font>FirstName[0]\n",
    "<br>\n",
    "Note, there are three other <font color =\"red\"><b>.</b></font>'s in this string so we need a way to just select the last one as the starting point.<br> \n",
    "<br>\n",
    "<b>Code: </b> <code>\\(?=\\\\[0\\\\]$\\) </code><br>\n",
    "<em>What is this?</em><br>\n",
    "    \n",
    "This is a <font color=\"blue\">lookahead assertion</font> that finds the first expression that has the pattern <code>[0]</code> after it<br>\n",
    "The slashes in the <code>[\\\\[0\\\\]]</code> tell the re module that the brackets are actual characters in the pattern, without the backslashes, the re module will interpret the brackets differentently.<br>\n",
    "<br> \n",
    "The <code>&dollar;</code> character tells the re module to only look for this pattern at the end of the string.<br>\n",
    "Taken together,  <code>(?=\\\\[0\\\\]&dollar;)</code> tells the re module to only match strings at the end of string.<br>\n",
    "This will ensure we are only getting the column name<br>\n",
    "<br>\n",
    "<b>Code: </b><code>\\\\[a-zA-Z0-9\\]+</code><br>\n",
    "<em>What is this?</em><br>\n",
    "<code>a-zA-Z</code> will match any alphabetic character.<br>\n",
    "<code>0-9</code> will match any digit between 0-9.<br>\n",
    "<code>+</code> will allow more than one of these characters.<br>\n",
    "Taken together, this will allow any word with numbers to exist between the lookahead assertion and the positive lookbehind assertion."
   ]
  },
  {
   "cell_type": "markdown",
   "metadata": {},
   "source": [
    "### Infograhic Summary"
   ]
  },
  {
   "cell_type": "markdown",
   "metadata": {},
   "source": [
    "<img src=\"static/images/pandas_regex_blog_explained.png\"></img>"
   ]
  },
  {
   "cell_type": "markdown",
   "metadata": {},
   "source": [
    "### Replace all column headers with extracted substring"
   ]
  },
  {
   "cell_type": "code",
   "execution_count": 8,
   "metadata": {},
   "outputs": [],
   "source": [
    "# This will replace all the column (csv header strings) with the extracted substring\n",
    "df.columns = df.columns.str.extract(pattern)"
   ]
  },
  {
   "cell_type": "code",
   "execution_count": 9,
   "metadata": {},
   "outputs": [
    {
     "data": {
      "text/plain": [
       "Index([('FirstName',), ('LastName',), ('Datecompleted',), ('Rank',),\n",
       "       ('Tenure',)],\n",
       "      dtype='object')"
      ]
     },
     "execution_count": 9,
     "metadata": {},
     "output_type": "execute_result"
    }
   ],
   "source": [
    "df.columns[0:5]"
   ]
  },
  {
   "cell_type": "markdown",
   "metadata": {},
   "source": [
    "### The returned data is a tuple!"
   ]
  },
  {
   "cell_type": "code",
   "execution_count": 10,
   "metadata": {},
   "outputs": [
    {
     "name": "stdout",
     "output_type": "stream",
     "text": [
      "The returned datatype is a Tuple: True!\n"
     ]
    }
   ],
   "source": [
    "print(f'The returned datatype is a Tuple: {isinstance(df.columns[0], tuple)}!')"
   ]
  },
  {
   "cell_type": "markdown",
   "metadata": {},
   "source": [
    "### Use a list comprehension to replace tuple header columns with a single substring"
   ]
  },
  {
   "cell_type": "markdown",
   "metadata": {},
   "source": [
    "### Step 1: Prepare the for loop\n",
    "\n",
    "<font color=\"blue\">for</font> <strong><font color=\"orange\">x, y</font></strong> in <font color=\"red\">enumerate(df.columns)</font>:\n",
    "<p style=\"margin-left:10px; margin-right:50px;\">\n",
    "    <font color=\"purple\">df.columns</font>.append(<strong><font color=\"991B05\">df.columns[<font color=\"orange\">x</font>][0]</font></strong>)<br></p>\n",
    "<hr style=\"border: 1px solid black;\">\n",
    "\n",
    "### Step 2: Rearrange into a list comprehension\n",
    "\n",
    "<strong><font color=\"purple\">new list</font></strong> = [<strong><font color=\"991B05\">expression</font></strong> <font color=\"blue\">for</font> <strong><font color=\"orange\">item</font></strong> in <font color=\"red\">old sequence</font>]<br>\n",
    "\n",
    "<strong><font color=\"purple\">df.columns</font></strong> = [<strong><font color=\"991B05\">df.columns[<font color=\"orange\">x</font>][0]</font></strong> <font color=\"blue\">for</font> <strong><font color=\"orange\">x, y</font></strong> in <font color=\"red\">enumerate(df.columns)</font>]\n",
    "\n",
    "<hr style=\"border: 1px solid black;\">"
   ]
  },
  {
   "cell_type": "code",
   "execution_count": 11,
   "metadata": {},
   "outputs": [],
   "source": [
    "df.columns = [df.columns[x][0] for x, y in enumerate(df.columns)]"
   ]
  },
  {
   "cell_type": "markdown",
   "metadata": {},
   "source": [
    "### Confirm tuples replaced with single column substring"
   ]
  },
  {
   "cell_type": "code",
   "execution_count": 12,
   "metadata": {},
   "outputs": [
    {
     "data": {
      "text/plain": [
       "Index(['FirstName', 'LastName', 'Datecompleted', 'Rank', 'Tenure'], dtype='object')"
      ]
     },
     "execution_count": 12,
     "metadata": {},
     "output_type": "execute_result"
    }
   ],
   "source": [
    "df.columns[0:5]"
   ]
  },
  {
   "cell_type": "code",
   "execution_count": 13,
   "metadata": {},
   "outputs": [
    {
     "name": "stdout",
     "output_type": "stream",
     "text": [
      "The returned datatype is a Tuple: False!\n"
     ]
    }
   ],
   "source": [
    "print(f'The returned datatype is a Tuple: {isinstance(df.columns[0], tuple)}!')"
   ]
  }
 ],
 "metadata": {
  "kernelspec": {
   "display_name": "Python 3",
   "language": "python",
   "name": "python3"
  },
  "language_info": {
   "codemirror_mode": {
    "name": "ipython",
    "version": 3
   },
   "file_extension": ".py",
   "mimetype": "text/x-python",
   "name": "python",
   "nbconvert_exporter": "python",
   "pygments_lexer": "ipython3",
   "version": "3.7.6"
  }
 },
 "nbformat": 4,
 "nbformat_minor": 2
}

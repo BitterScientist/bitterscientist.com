{
 "cells": [
  {
   "cell_type": "markdown",
   "metadata": {},
   "source": [
    "# Import Module\n",
    "\n",
    " - Documentation: https://www.google.com/search?q=re+module+python&oq=re+module+python&aqs=chrome..69i57j0l7.1735j1j7&sourceid=chrome&ie=UTF-8"
   ]
  },
  {
   "cell_type": "code",
   "execution_count": 1,
   "metadata": {},
   "outputs": [],
   "source": [
    "import re"
   ]
  },
  {
   "cell_type": "markdown",
   "metadata": {},
   "source": [
    "# Objective: Use Regex to count the number of lines in a text that contains a string."
   ]
  },
  {
   "cell_type": "markdown",
   "metadata": {},
   "source": [
    "### Method <font color=\"red\">re.compile()</font>\n",
    " - <strong>String to match:</strong> \"fish\"<br>\n",
    " - <strong>Text:</strong> \"One fish two fish red fish blue fish\" by Dr. Seuss.<br>"
   ]
  },
  {
   "cell_type": "code",
   "execution_count": 14,
   "metadata": {},
   "outputs": [],
   "source": [
    "# Function that will return the number of lines that contains the string\n",
    "def count_regex(word, file_path):\n",
    "    regex_line_index = []\n",
    "    count = 0\n",
    "    file = open(file_path, 'r')\n",
    "    regexp = re.compile(word)\n",
    "    for num, line in enumerate(file.readlines()):\n",
    "        if regexp.search(line):\n",
    "            count = count + 1\n",
    "            regex_line_index.append(num)\n",
    "        file.close()\n",
    "    regex_dict = {'count': count, 'line_index':regex_line_index}\n",
    "    return regex_dict"
   ]
  },
  {
   "cell_type": "markdown",
   "metadata": {},
   "source": [
    "<strong>Explanation</strong><br>\n",
    " - <code>regex_line_index = []</code><br>\n",
    " - This initializes an empty list that will be used to store each line index that contains the string<br>\n",
    " <br>\n",
    " - <code>count = 0</code><br>\n",
    " - Creates the counting variable \"count\" and sets it to 0. This will be used to track the number of strings that regex recognizes and counts. <br> \n",
    "<br>\n",
    " - <code>file = open(file_path, 'r')</code><br>\n",
    " - Uses python built-in function open() that opens a file and return a corresponding file object. mode 'r' argument indicates open for reading (default).  The file option is saves in the variable file for use.<br>\n",
    " <br>\n",
    " - <code>regexp = re.compile(\"word\")</code><br>\n",
    " - saves the text \"word\" to a regexp variable<br> \n",
    " <br>\n",
    "<code>for num, line in enumerate(file.readlines()):</code><br>\n",
    " - for loop used to <code>enumerate</code> through each line in the file instance<br>\n",
    "  - <code>file.readlines()</code> is a method that returns a list containing each line in the file as a list item<br>\n",
    " - The index of each line will be obtained using the num variable<br>\n",
    " - line will be the actual content in each line<br>\n",
    "<br>\n",
    "<code>if regexp.search(line):</code><br>\n",
    " - if statement that checks for the pattern<br>\n",
    " - the <code>.search()</code> method scan through string looking for the first location where this regular expression produces a match, and return a corresponding match object\n",
    " - if it detects the string pattern, then it will add a count<br>\n",
    " - it will also add the line index to the regex_line_index list.\n",
    " <br>\n",
    "<code>file.close()</code><br>\n",
    " - closes file<br>\n",
    " <br>\n",
    " \n",
    "<code>regex_dict = {'count': count, 'line_index':regex_line_index}</code>\n",
    " - Creates a dictionary that stores the number of lines that a match was made, and the index of each line<br>\n",
    " <br>\n",
    "<code>return(regex_dict)</code><br>\n",
    " - returns the dictionary that counts and index<br>\n",
    " <br>\n",
    "<strong><font color=\"red\">LIMITATION</font></strong><br>\n",
    "- This method does not take capitalization into account"
   ]
  },
  {
   "cell_type": "markdown",
   "metadata": {},
   "source": [
    "### Count the number of lines that contains <font color=\"blue\">\"fish\"</font>"
   ]
  },
  {
   "cell_type": "code",
   "execution_count": 16,
   "metadata": {},
   "outputs": [
    {
     "data": {
      "text/plain": [
       "{'count': 6, 'line_index': [9, 10, 11, 12, 14, 20]}"
      ]
     },
     "execution_count": 16,
     "metadata": {},
     "output_type": "execute_result"
    }
   ],
   "source": [
    "# String to search\n",
    "word = \"fish\"\n",
    "\n",
    "# filepath to text saved to variable file\n",
    "file = \"../../static/documents/seuss.rtf\"\n",
    "\n",
    "# Invoke function\n",
    "count_regex(word, file)"
   ]
  },
  {
   "cell_type": "markdown",
   "metadata": {},
   "source": [
    "In this example, 6 lines were found that contained the string \"fish\" at index 9, 10, 11, 12, 14, and 20.<br>\n",
    "<font color=\"red\">But what if fish was capitalized \"Fish\"?</font>"
   ]
  },
  {
   "cell_type": "markdown",
   "metadata": {},
   "source": [
    "## Improve pattern recognition with the special characters \n",
    "\n",
    "<font color=\"red\"> vertical-bar \"|\"</font>: means or, so the regular expression matches fish or Fish<br>\n",
    "<font color=\"red\"> paranthesis and vertical-bar (\"|\")</font>: chooses between two options a small or capital F.<br>\n",
    "<font color=\"red\"> bracket []</font>: the brackets will take a string of characters between them and match any single character in that string. <br>"
   ]
  },
  {
   "cell_type": "code",
   "execution_count": 17,
   "metadata": {},
   "outputs": [
    {
     "data": {
      "text/plain": [
       "{'count': 9, 'line_index': [9, 10, 11, 12, 13, 14, 15, 16, 20]}"
      ]
     },
     "execution_count": 17,
     "metadata": {},
     "output_type": "execute_result"
    }
   ],
   "source": [
    "count_regex(\"fish|Fish\", file)"
   ]
  },
  {
   "cell_type": "code",
   "execution_count": 18,
   "metadata": {},
   "outputs": [
    {
     "data": {
      "text/plain": [
       "{'count': 9, 'line_index': [9, 10, 11, 12, 13, 14, 15, 16, 20]}"
      ]
     },
     "execution_count": 18,
     "metadata": {},
     "output_type": "execute_result"
    }
   ],
   "source": [
    "count_regex(\"(f|F)ish\", file)"
   ]
  },
  {
   "cell_type": "code",
   "execution_count": 19,
   "metadata": {},
   "outputs": [
    {
     "data": {
      "text/plain": [
       "{'count': 9, 'line_index': [9, 10, 11, 12, 13, 14, 15, 16, 20]}"
      ]
     },
     "execution_count": 19,
     "metadata": {},
     "output_type": "execute_result"
    }
   ],
   "source": [
    "count_regex(\"[fF]ish\", file)"
   ]
  },
  {
   "cell_type": "markdown",
   "metadata": {},
   "source": [
    "This increased the count by 3!"
   ]
  }
 ],
 "metadata": {
  "kernelspec": {
   "display_name": "Python 3",
   "language": "python",
   "name": "python3"
  },
  "language_info": {
   "codemirror_mode": {
    "name": "ipython",
    "version": 3
   },
   "file_extension": ".py",
   "mimetype": "text/x-python",
   "name": "python",
   "nbconvert_exporter": "python",
   "pygments_lexer": "ipython3",
   "version": "3.7.6"
  }
 },
 "nbformat": 4,
 "nbformat_minor": 2
}

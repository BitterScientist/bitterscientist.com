{
 "cells": [
  {
   "cell_type": "code",
   "execution_count": 1,
   "metadata": {},
   "outputs": [
    {
     "data": {
      "application/javascript": [
       "IPython.OutputArea.prototype._should_scroll = function(lines) {\n",
       "    return false;\n",
       "}\n"
      ],
      "text/plain": [
       "<IPython.core.display.Javascript object>"
      ]
     },
     "metadata": {},
     "output_type": "display_data"
    }
   ],
   "source": [
    "%%javascript\n",
    "IPython.OutputArea.prototype._should_scroll = function(lines) {\n",
    "    return false;\n",
    "}"
   ]
  },
  {
   "cell_type": "markdown",
   "metadata": {},
   "source": [
    "<hr style=\"border-top: 5px solid black;\">"
   ]
  },
  {
   "cell_type": "markdown",
   "metadata": {},
   "source": [
    "<div class=\"alert alert-block alert-info\" style=\"font-size:20px; border:1px solid black; padding:10px\">\n",
    "<center><h1>Post Goals:</h1></center>\n",
    "    <ol>\n",
    "        <li><a href=\"#objective1\">Brief Introduction to Jupyter Notebook Extensions.</a></li><br>\n",
    "        <li><a href=\"#objective2\">Demonstrate how to set up spell checking to Jupyter Notebook Markdown Cells.</a></li><br>\n",
    "    </ol>\n",
    "</div>"
   ]
  },
  {
   "cell_type": "markdown",
   "metadata": {},
   "source": [
    "<hr style=\"border-top: 5px solid black;\">"
   ]
  },
  {
   "cell_type": "markdown",
   "metadata": {},
   "source": [
    "<div id=\"objective1\" class=\"alert alert-block alert-warning\" style=\"font-size:16px; border:1px solid black; padding:10px\"><center><h1><br><font color=\"blue\">Brief Introduction to Jupyter Notebook Extensions.</font></h1><br></center>\n",
    "    </div>\n",
    "    <div style=\"font-size:16px; border:1px solid black; padding:10px\">\n",
    "    <ul><h4><u>What is Jupyter Notebook Extension</u></h4>\n",
    "        <li>Is a package containing a collection of community-contributed extensions for jupyter notebook that add functionality.</li><br>\n",
    "        <li>These are unofficial contributions typically written in javascript and laoded locally in the users browser.</li><br>\n",
    "        <li>The repository is maintained independently by the group of users and developers and is not officially related to the iPython development team.</li><br>\n",
    "        <li>The repository has more than 50 extensions, and includes a spell checker.</li><br>\n",
    "    </ul>\n",
    "    <hr style=\"border-top: 2px solid black;\">\n",
    "    <ul><h4><u>Spellchecker nbextension</u></h4>\n",
    "        <li>Provides a CodeMirror overlay mode to highlight incorrectly spelled words in markdown and raw cells.</li><br>\n",
    "        <li>The spell checking does not auto correct or provide correct spelling options as you would expect in standard word processors.</li><br>\n",
    "        <li>The spell checking is performed by the javascript library <code><a href=\"https://github.com/cfinke/Typo.js\">Typo.js</a></code>.</li><br>\n",
    "        <li>The nbextension fetches an english US dictionary from the <code>jsdelivr.net cdn</code>.</li><br>\n",
    "        <li>You can add own dictionaries for other languages or remove dependencies on the cdn.</li><br>\n",
    "        <li>Detailed instructions can be found in the extension <a href=\"https://jupyter-contrib-nbextensions.readthedocs.io/en/latest/nbextensions/spellchecker/README.html\">documentation</a>.</li><br>        \n",
    "    </ul>\n",
    "</div>"
   ]
  },
  {
   "cell_type": "markdown",
   "metadata": {},
   "source": [
    "<hr style=\"border-top: 5px solid black;\">"
   ]
  },
  {
   "cell_type": "markdown",
   "metadata": {},
   "source": [
    "<div id=\"objective2\" class=\"alert alert-block alert-info\" style=\"font-size:16px; border:1px solid black; padding:10px\"><center><h1><br><font color=\"blue\">Demonstrate how to set up spell checking to Jupyter Notebook Markdown Cells.</font></h1></center>\n",
    "    <hr style=\"border-top: 2px solid black;\">\n",
    "    <ul><h4><u>Procedure</u></h4><br>\n",
    "        <li><a href=\"#step1\">Install the python package.</a></li><br> \n",
    "        <li><a href=\"#step2\">Install javascript and css files.</a></li><br>        \n",
    "        <li><a href=\"#step3\">Enabling/Disabling extensions.</a></li><br>\n",
    "        <li><a href=\"#step4\">Summary of methods for MAC users via terminal.</a></li><br> \n",
    "    </ul>\n",
    "</div>"
   ]
  },
  {
   "cell_type": "markdown",
   "metadata": {},
   "source": [
    "<hr style=\"border-top: 5px solid black;\">"
   ]
  },
  {
   "cell_type": "markdown",
   "metadata": {},
   "source": [
    "<div id=\"step1\" style=\"background-color: #ABEBC6; font-size:16px; border:1px solid black; padding:10px\"><center><h1><br><font color=\"blue\">Install the python package: Pick one of the following methods</font></h1></center><br></div>\n",
    "<div style=\"font-size:16px; border:1px solid black; padding:10px\">\n",
    "    <ul><strong><u>1. Using PIP:</u></strong>\n",
    "        <li>Open terminal or powershell</li><br>\n",
    "        <li><code>pip install jupyter_contrib_nbextensions</code></li><br>\n",
    "        <li style=\"list-style-type:none\">or</li><br>\n",
    "        <li><code>pip install https://github.com/ipython-contrib/jupyter_contrib_nbextensions/tarball/master</code></li><br>\n",
    "    </ul>\n",
    "    <hr style=\"border-top: 2px solid black;\">\n",
    "    <ul><strong><u>2. Using Conda:</u></strong>\n",
    "        <li>Conda packages for the notebook extensions and the jupyter_nbextensions_configurator available from conda-forge.</li><br>\n",
    "        <li><code>conda install -c conda-forge jupyter_contrib_nbextensions</code></li><br>\n",
    "    </ul>\n",
    "    <hr style=\"border-top: 2px solid black;\">\n",
    "    <ul><strong><u>3. Installation from cloned Repo :</u></strong>\n",
    "        <li><code>git clone https://github.com/ipython-contrib/jupyter_contrib_nbextensions.git</code></li><br>\n",
    "        <li>In terminal or shell: <code>pip install -e jupyter_contrib_nbextensions</code></li><br>\n",
    "    </ul>\n",
    "</div>"
   ]
  },
  {
   "cell_type": "markdown",
   "metadata": {},
   "source": [
    "<hr style=\"border-top: 5px solid black;\">"
   ]
  },
  {
   "cell_type": "markdown",
   "metadata": {},
   "source": [
    "<div id=\"step2\" style=\"background-color: #ABEBC6; font-size:16px; border:1px solid black; padding:10px\"><center><h1><br><font color=\"blue\">Install javascript and css files.</font></h1></center><br>\n",
    "    </div>\n",
    "<div style=\"font-size:16px; border:1px solid black; padding:10px\">\n",
    "    <ul>\n",
    "        <li>In this step, the nbextensions’ javascript and css files are copied into the jupyter server’s search directory, and edits some jupyter config files.</li><br>\n",
    "        <li><mark>In terminal or shell: <code>jupyter contrib nbextension install --user</code></mark></li><br>\n",
    "    </ul>\n",
    "    <hr style=\"border-top: 2px solid black;\">\n",
    "    <ul><strong><u>Code Explained: </u></strong>\n",
    "        <li>This code installs nbextension files and edits nbcovert config files.</li><br>\n",
    "        <li>The first part is a wrapper around the notebook-provided <code>jupyter nbextension install</code> and copies relevant javascript and css files to the appropriate jupyter data directory.</li><br>\n",
    "        <li>The second part edits the config files <code>jupyter_nbconvert_config.json</code> and <code>jupyter_notebook_config.json</code></li><br>\n",
    "        <li>The <code>--user</code> optional command instructs installation into the user's home jupyter directories. There are other optional commands that can be found in the documentation.</li>\n",
    "    </ul>\n",
    "</div>"
   ]
  },
  {
   "cell_type": "markdown",
   "metadata": {},
   "source": [
    "<hr style=\"border-top: 5px solid black;\">"
   ]
  },
  {
   "cell_type": "markdown",
   "metadata": {},
   "source": [
    "<div id=\"step3\" style=\"background-color: #ABEBC6; font-size:16px; border:1px solid black; padding:10px\"><center><h1><br><font color=\"blue\">Enabling/Disabling extensions.</font></h1></center><br>\n",
    "    </div>\n",
    "<div style=\"font-size:16px; border:1px solid black; padding:10px\">\n",
    "    <ul><strong><u>Method 1: subcommands</u></strong>\n",
    "        <li>nbextension will also need to be enabled.</li><br>\n",
    "        <li>This tells the notebook interface to load it.</li><br>\n",
    "        <li><strong>General form:</strong> <mark><code>jupyter nbextension enable &#60;nbextension require path&#62;</code></mark></li><br>\n",
    "        <li><strong>Use this for spell checker:</strong><mark><code>jupyter nbextension enable spellchecker/main\n",
    "</code></mark></li><br>\n",
    "    </ul>\n",
    "    <hr style=\"border-top: 2px solid black;\">\n",
    "    <ol><strong><u>Method 2: jupyter_nbextensions_configuration server extension (GUI) method</u></strong>\n",
    "        <li>Tool bar > Edit</li><br>\n",
    "        <li>Edit > nbextensions config</li><br>\n",
    "        <center><img src=\"static/images/nbext01.png\" style=\"max-width: 10%; height: auto;\"></center><br>\n",
    "        <li>nbextensions config &#62; uncheck \"disable configuration...\"</li><br>\n",
    "        <center><img src=\"static/images/nbext02.png\" style=\"max-width: 50%; height: auto;\"></center><br>\n",
    "        <li>Check \"spellcheker\"</li><br>\n",
    "        <center><img src=\"static/images/nbext03.png\" style=\"max-width: 50%; height: auto;\"></center><br>\n",
    "        <li>nbextensions config &#62; check \"disable configuration...\"</li><br>\n",
    "    </ol>\n",
    "</div>"
   ]
  },
  {
   "cell_type": "markdown",
   "metadata": {},
   "source": [
    "<hr style=\"border-top: 5px solid black;\">"
   ]
  },
  {
   "cell_type": "markdown",
   "metadata": {},
   "source": [
    "<div id=\"step4\" style=\"background-color: #ABEBC6; font-size:16px; border:1px solid black; padding:10px\"><center><h1><br><font color=\"blue\">Bottom Line for Mac Users via Terminal</font></h1></center><br>\n",
    "    </div>\n",
    "<div style=\"font-size:16px; border:1px solid black; padding:10px\">\n",
    "    <ol><strong><u>In terminal (have your environment activated)</u></strong>\n",
    "        <li><code>pip install jupyter_contrib_nbextensions</code></li><br>\n",
    "        <li><code>jupyter contrib nbextension install --user</code></li><br>\n",
    "        <li><code>jupyter nbextension enable spellchecker/main</code></li><br>\n",
    "    </ol>\n",
    "    <center><li style=\"list-style-type: none;\"><mark>Done! Once you open jupyter notebook, spellchecker will be enabled</mark></li></center>\n",
    "</div>"
   ]
  },
  {
   "cell_type": "markdown",
   "metadata": {},
   "source": [
    "<hr style=\"border-top: 5px solid black;\">"
   ]
  }
 ],
 "metadata": {
  "kernelspec": {
   "display_name": "Python 3",
   "language": "python",
   "name": "python3"
  },
  "language_info": {
   "codemirror_mode": {
    "name": "ipython",
    "version": 3
   },
   "file_extension": ".py",
   "mimetype": "text/x-python",
   "name": "python",
   "nbconvert_exporter": "python",
   "pygments_lexer": "ipython3",
   "version": "3.8.2"
  }
 },
 "nbformat": 4,
 "nbformat_minor": 4
}

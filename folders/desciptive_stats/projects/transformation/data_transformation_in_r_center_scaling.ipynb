{
 "cells": [
  {
   "cell_type": "markdown",
   "id": "181952c9",
   "metadata": {},
   "source": [
    "<hr style=\"border-top: 5px solid black;\">"
   ]
  },
  {
   "cell_type": "markdown",
   "id": "fc12f221",
   "metadata": {},
   "source": [
    "<h2 style=\"color:blue;\">Keywords: R programming, caret Package, Box and Cox, Centering, Scaling, Skewness</h2>"
   ]
  },
  {
   "cell_type": "markdown",
   "id": "a10189d6",
   "metadata": {},
   "source": [
    "<hr style=\"border-top: 5px solid black;\">"
   ]
  },
  {
   "cell_type": "markdown",
   "id": "ac73fefc",
   "metadata": {},
   "source": [
    "<div class=\"alert alert-block alert-info\" style=\"font-size:20px; border:1px solid black; padding:10px\">\n",
    "<center><h1>Post Goals:</h1></center><br>\n",
    "    <hr style=\"border-top: 2px dashed black;\"><br>\n",
    "    <p style=\"font-size:22px;\">\n",
    "        Demonstrate how to transform predictor variables using the <a href=\"https://cran.r-project.org/web/packages/caret/vignettes/caret.html\">caret</a> library (and a few others) to center, scale, and resolve Skewness.\n",
    "    </p><br><br>\n",
    "</div>"
   ]
  },
  {
   "cell_type": "markdown",
   "id": "4c00ecf0",
   "metadata": {},
   "source": [
    "<hr style=\"border-top: 5px solid black;\">"
   ]
  },
  {
   "cell_type": "markdown",
   "id": "2b605ad5",
   "metadata": {},
   "source": [
    "<div class=\"alert alert-block alert-success\" style=\"font-size:20px; border:1px solid black; padding:10px\">\n",
    "<center><h1>Post Outline:</h1></center>\n",
    "    <hr style=\"border-top: 2px dashed black;\">\n",
    "    <ol>\n",
    "        <li><a href=\"#objective1\">The Importance of Data Transform.</a></li><br>\n",
    "        <li><a href=\"#objective2\">Centering and Scaling.</a></li><br>\n",
    "        <li><a href=\"#objective3\">Resolving Skewness.</a></li><br>\n",
    "<!--         <li><a href=\"#objective4\">z-test on a population proportion.</a></li><br> -->\n",
    "    </ol>\n",
    "</div>"
   ]
  },
  {
   "cell_type": "markdown",
   "id": "018d4f78",
   "metadata": {},
   "source": [
    "<hr style=\"border-top: 5px solid black;\">"
   ]
  },
  {
   "cell_type": "markdown",
   "id": "fcf6b5c5",
   "metadata": {},
   "source": [
    "<div id=\"objective1\" class=\"alert alert-block alert-warning\" style=\"font-size:16px; border:1px solid black; padding:10px\"><center><h1><br><font color=\"blue\">The Importance of Data Transform.</font></h1></center><br>\n",
    "</div>\n",
    "<div style=\"font-size:16px; border:1px solid black; padding:10px\">\n",
    "    <ul><strong><u>The basics</u></strong>\n",
    "        <li>Data transformation is generally performed to variable(s) that do not fit a normal a normal distribution or has a standard deviation that is greatly different from other groups in the dataset.</li><br>\n",
    "        <li>Data transformation is the process of changing the structure, format, and values of data using some mathematical operations that is applied to data.</li><br>\n",
    "        <li>There are several types of transformations that can be performed, such as \n",
    "            <ul>\n",
    "                <li>Centering data</li>\n",
    "                <li>Scaling data</li>\n",
    "                <li>Log Transformation</li>\n",
    "                <li>Square-Root Transformation</li>\n",
    "                <li>Reciprocal Transformation</li>\n",
    "                <li>Box-Cox Transformation</li>                \n",
    "                <li>Yeo-Johnson Transformation</li>                                \n",
    "            </ul>\n",
    "        </li><br>\n",
    "        <li>This post will focus on centering, scaling, box-cox transformation using the caret, corrplot, e1071, lattice and AppliedPredictiveModeling packages.</li><br>\n",
    "    </ul>\n",
    "<hr style=\"border-top: 2px solid black;\">\n",
    "    <ul><strong><u>The caret package</u></strong>\n",
    "        <li>The caret package contains a set of functions used in the complex regression and classification model training problems.</li><br>\n",
    "        <li>caret stands for Classification and REgression Training</li><br>\n",
    "        <li>caret package utilizes up to 32 packages but only loads packages as needed, or prompts the user to install it</li><br>\n",
    "        <li>The main package tools include:\n",
    "            <ul>\n",
    "                <li>Data Splitting</li>\n",
    "                <li>Pre-Processing</li>\n",
    "                <li>Feature Selection</li>\n",
    "                <li>Model Tuning Using Resampling</li>\n",
    "                <li>Variable Importance Estimation</li>\n",
    "            </ul>\n",
    "        </li><br>\n",
    "        <li>One of the primary tools is the <code>train</code> function that is used to\n",
    "            <ul>\n",
    "                <li>Evaluates the effect of model tuning parameters on the performance by using resampling.</li>\n",
    "                <li>Chooses the optional model across the parameters.</li>\n",
    "                <li>Provides model performance estimates from the training set.</li>\n",
    "            </ul>\n",
    "        </li><br>\n",
    "        <li>caret is powerful package as almost every step of the process can be customized.</li><br>\n",
    "    </ul>\n",
    "</div>"
   ]
  },
  {
   "cell_type": "markdown",
   "id": "bb88474c",
   "metadata": {},
   "source": [
    "<hr style=\"border-top: 5px solid black;\">"
   ]
  },
  {
   "cell_type": "markdown",
   "id": "8adf0be6",
   "metadata": {},
   "source": [
    "<div id=\"objective2\" class=\"alert alert-block alert-warning\" style=\"font-size:16px; border:1px solid black; padding:10px\"><center><h1><br><font color=\"blue\">Centering and Scaling.</font></h1></center><br>\n",
    "</div>\n",
    "<div style=\"font-size:16px; border:1px solid black; padding:10px\">\n",
    "    <ul><strong><u>Mean Centering Transformation</u></strong>\n",
    "        <li>Mean Centering Transformation of variables involves subtracting the average predictor value from all values \\[ mean\\ centered\\ variable = \\vec{[x]} - \\overline{X} \\]</li><br>\n",
    "        <li>Centering the variable results in a dataset with a mean equal to zero.</li><br>\n",
    "    </ul>\n",
    "    <ul><strong><u>Scaling Data</u></strong>\n",
    "        <li>Scaling data transformed the data by coercing all values to have the common standard deviation of one.</li><br>\n",
    "        <li>Scaling data is performed by dividing each value of the predictor variable by the standard deviation of the vector \\[ scaled\\ variable\\ = \\frac{\\vec{[x]}}{\\sigma} \\]</li><br>\n",
    "        <li>Since the data is no longer in the original units after scaling, the downside is that it becomes more difficult to interpret.</li><br>\n",
    "    </ul>    \n",
    "</div>"
   ]
  },
  {
   "cell_type": "markdown",
   "id": "22c40ed3",
   "metadata": {},
   "source": [
    "<hr style=\"border-top: 5px solid black;\">"
   ]
  },
  {
   "cell_type": "markdown",
   "id": "e2d8fc6b",
   "metadata": {},
   "source": [
    "<div id=\"objective3\" class=\"alert alert-block alert-warning\" style=\"font-size:16px; border:1px solid black; padding:10px\"><center><h1><br><font color=\"blue\">Resolving Skewness</font></h1></center><br>\n",
    "</div>\n",
    "<div style=\"font-size:16px; border:1px solid black; padding:10px\">\n",
    "    <ul><strong><u>Skewness</u></strong>\n",
    "        <li>Skewness refers to a distortion or asymmetry in the distribution of a data that deviates from the normal distribution bell shape curve.</li><br>\n",
    "        <li>Statistical models can adversely affect a statistical models performance.</li><br>\n",
    "        <li>Skewness can be diagnosed using the following formula \\[Skewness = \\frac{\\Sigma(x_i - \\bar{x})^3}{(n-1)v^{\\frac{3}{2}}} \\]</li><br>\n",
    "        <li>\\(x_i\\) is the ith observation</li><br>\n",
    "        <li>\\(\\bar{x}\\) is the sample mean</li><br>\n",
    "        <li>v=\\(\\frac{\\sigma(x_I - \\bar{x})^2}{(n-1)}\\)</li><br>\n",
    "        <li>Skewness \\(\\tilde{} \\) is roughly symmetric</li><br>\n",
    "        <li>Skewness \\(\\leq \\) 0 is positively skewed</li><br>\n",
    "        <li>Skewness \\(\\geq \\) 0 is negatively skewed</li><br>\n",
    "        <li>Distribution is highly skewed if: \\[-1 > Skewness > | +1 < Skewness \\]</li><br>\n",
    "        <li>Distribution is moderately skewed if: \\[-1 < Skewness < -0.5 | 0.5 < Skewness < 1 \\]</li><br>\n",
    "        <li>Distribution is approximately normal if: \\[-0.5 < Skewness < +0.5 \\]</li><br>          \n",
    "    </ul>\n",
    "    <hr style=\"border-top: 2px solid black;\">\n",
    "    <ul><strong><u>Skewness Transformation Methods</u></strong>\n",
    "        <li>The most common methods to transform skewed data is log, square root, or inverse transformation.</li><br>\n",
    "        <li>Another statistical method that is described in this post is the Box and Cox method, which empirically identifies the best method to use to transform skewed data.</li><br>\n",
    "        <li>Box and Cox in their 1964 publication proposed a family of transformations indexed by \\(\\lambda\\): \n",
    "        \\[x =\n",
    "        \\begin{cases}\n",
    "        {\\frac{x^{\\lambda}-1}{\\lambda}}, if \\lambda \\neq 0\\\\ \n",
    "        log(x), if \\lambda = 0 \\\\\n",
    "        \\end{cases}\n",
    "        \\]\n",
    "        </li><br>\n",
    "        <li>The R function for Box and Cox transformation is <code>boxcox{MASS}</code></li><br>        \n",
    "    </ul>    \n",
    "</div>"
   ]
  },
  {
   "cell_type": "markdown",
   "id": "ef04ef8b",
   "metadata": {},
   "source": [
    "<hr style=\"border-top: 5px solid black;\">"
   ]
  },
  {
   "cell_type": "markdown",
   "id": "dfdc4d39",
   "metadata": {},
   "source": [
    "# Install packages and Load AppliedPredictiveModeling\n",
    "\n",
    " - AppliedPredictiveModeling is a package that contains various datasets commonly used for training purposes."
   ]
  },
  {
   "cell_type": "code",
   "execution_count": 1,
   "id": "c966d680",
   "metadata": {},
   "outputs": [
    {
     "name": "stdout",
     "output_type": "stream",
     "text": [
      "\n",
      "The downloaded binary packages are in\n",
      "\t/var/folders/0d/xqmptt6x035b25m88r2ffc9m0000gn/T//Rtmp85FprM/downloaded_packages\n"
     ]
    },
    {
     "data": {
      "text/html": [
       "<style>\n",
       ".list-inline {list-style: none; margin:0; padding: 0}\n",
       ".list-inline>li {display: inline-block}\n",
       ".list-inline>li:not(:last-child)::after {content: \"\\00b7\"; padding: 0 .5ex}\n",
       "</style>\n",
       "<ol class=list-inline><li>2019</li><li>119</li></ol>\n"
      ],
      "text/latex": [
       "\\begin{enumerate*}\n",
       "\\item 2019\n",
       "\\item 119\n",
       "\\end{enumerate*}\n"
      ],
      "text/markdown": [
       "1. 2019\n",
       "2. 119\n",
       "\n",
       "\n"
      ],
      "text/plain": [
       "[1] 2019  119"
      ]
     },
     "metadata": {},
     "output_type": "display_data"
    },
    {
     "data": {
      "text/html": [
       "<table class=\"dataframe\">\n",
       "<caption>A data.frame: 5 × 20</caption>\n",
       "<thead>\n",
       "\t<tr><th></th><th scope=col>Cell</th><th scope=col>Case</th><th scope=col>Class</th><th scope=col>AngleCh1</th><th scope=col>AngleStatusCh1</th><th scope=col>AreaCh1</th><th scope=col>AreaStatusCh1</th><th scope=col>AvgIntenCh1</th><th scope=col>AvgIntenCh2</th><th scope=col>AvgIntenCh3</th><th scope=col>AvgIntenCh4</th><th scope=col>AvgIntenStatusCh1</th><th scope=col>AvgIntenStatusCh2</th><th scope=col>AvgIntenStatusCh3</th><th scope=col>AvgIntenStatusCh4</th><th scope=col>ConvexHullAreaRatioCh1</th><th scope=col>ConvexHullAreaRatioStatusCh1</th><th scope=col>ConvexHullPerimRatioCh1</th><th scope=col>ConvexHullPerimRatioStatusCh1</th><th scope=col>DiffIntenDensityCh1</th></tr>\n",
       "\t<tr><th></th><th scope=col>&lt;int&gt;</th><th scope=col>&lt;fct&gt;</th><th scope=col>&lt;fct&gt;</th><th scope=col>&lt;dbl&gt;</th><th scope=col>&lt;int&gt;</th><th scope=col>&lt;int&gt;</th><th scope=col>&lt;int&gt;</th><th scope=col>&lt;dbl&gt;</th><th scope=col>&lt;dbl&gt;</th><th scope=col>&lt;dbl&gt;</th><th scope=col>&lt;dbl&gt;</th><th scope=col>&lt;int&gt;</th><th scope=col>&lt;int&gt;</th><th scope=col>&lt;int&gt;</th><th scope=col>&lt;int&gt;</th><th scope=col>&lt;dbl&gt;</th><th scope=col>&lt;int&gt;</th><th scope=col>&lt;dbl&gt;</th><th scope=col>&lt;int&gt;</th><th scope=col>&lt;dbl&gt;</th></tr>\n",
       "</thead>\n",
       "<tbody>\n",
       "\t<tr><th scope=row>1</th><td>207827637</td><td>Test </td><td>PS</td><td>143.247705</td><td>1</td><td>185</td><td>0</td><td>15.71186</td><td>  3.954802</td><td> 9.548023</td><td>  2.214689</td><td>0</td><td>2</td><td>2</td><td>2</td><td>1.124509</td><td>0</td><td>0.9196827</td><td>0</td><td>29.51923</td></tr>\n",
       "\t<tr><th scope=row>2</th><td>207932307</td><td>Train</td><td>PS</td><td>133.752037</td><td>0</td><td>819</td><td>1</td><td>31.92327</td><td>205.878517</td><td>69.916880</td><td>164.153453</td><td>0</td><td>0</td><td>0</td><td>0</td><td>1.263158</td><td>1</td><td>0.7970801</td><td>2</td><td>31.87500</td></tr>\n",
       "\t<tr><th scope=row>3</th><td>207932463</td><td>Train</td><td>WS</td><td>106.646387</td><td>0</td><td>431</td><td>0</td><td>28.03883</td><td>115.315534</td><td>63.941748</td><td>106.696602</td><td>0</td><td>0</td><td>0</td><td>0</td><td>1.053310</td><td>0</td><td>0.9354750</td><td>0</td><td>32.48771</td></tr>\n",
       "\t<tr><th scope=row>4</th><td>207932470</td><td>Train</td><td>PS</td><td> 69.150325</td><td>0</td><td>298</td><td>0</td><td>19.45614</td><td>101.294737</td><td>28.217544</td><td> 31.028070</td><td>0</td><td>0</td><td>0</td><td>2</td><td>1.202625</td><td>0</td><td>0.8658291</td><td>2</td><td>26.73228</td></tr>\n",
       "\t<tr><th scope=row>5</th><td>207932455</td><td>Test </td><td>PS</td><td>  2.887837</td><td>2</td><td>285</td><td>0</td><td>24.27574</td><td>111.415441</td><td>20.474265</td><td> 40.577206</td><td>0</td><td>0</td><td>0</td><td>0</td><td>1.109333</td><td>0</td><td>0.9568124</td><td>0</td><td>31.58065</td></tr>\n",
       "</tbody>\n",
       "</table>\n"
      ],
      "text/latex": [
       "A data.frame: 5 × 20\n",
       "\\begin{tabular}{r|llllllllllllllllllll}\n",
       "  & Cell & Case & Class & AngleCh1 & AngleStatusCh1 & AreaCh1 & AreaStatusCh1 & AvgIntenCh1 & AvgIntenCh2 & AvgIntenCh3 & AvgIntenCh4 & AvgIntenStatusCh1 & AvgIntenStatusCh2 & AvgIntenStatusCh3 & AvgIntenStatusCh4 & ConvexHullAreaRatioCh1 & ConvexHullAreaRatioStatusCh1 & ConvexHullPerimRatioCh1 & ConvexHullPerimRatioStatusCh1 & DiffIntenDensityCh1\\\\\n",
       "  & <int> & <fct> & <fct> & <dbl> & <int> & <int> & <int> & <dbl> & <dbl> & <dbl> & <dbl> & <int> & <int> & <int> & <int> & <dbl> & <int> & <dbl> & <int> & <dbl>\\\\\n",
       "\\hline\n",
       "\t1 & 207827637 & Test  & PS & 143.247705 & 1 & 185 & 0 & 15.71186 &   3.954802 &  9.548023 &   2.214689 & 0 & 2 & 2 & 2 & 1.124509 & 0 & 0.9196827 & 0 & 29.51923\\\\\n",
       "\t2 & 207932307 & Train & PS & 133.752037 & 0 & 819 & 1 & 31.92327 & 205.878517 & 69.916880 & 164.153453 & 0 & 0 & 0 & 0 & 1.263158 & 1 & 0.7970801 & 2 & 31.87500\\\\\n",
       "\t3 & 207932463 & Train & WS & 106.646387 & 0 & 431 & 0 & 28.03883 & 115.315534 & 63.941748 & 106.696602 & 0 & 0 & 0 & 0 & 1.053310 & 0 & 0.9354750 & 0 & 32.48771\\\\\n",
       "\t4 & 207932470 & Train & PS &  69.150325 & 0 & 298 & 0 & 19.45614 & 101.294737 & 28.217544 &  31.028070 & 0 & 0 & 0 & 2 & 1.202625 & 0 & 0.8658291 & 2 & 26.73228\\\\\n",
       "\t5 & 207932455 & Test  & PS &   2.887837 & 2 & 285 & 0 & 24.27574 & 111.415441 & 20.474265 &  40.577206 & 0 & 0 & 0 & 0 & 1.109333 & 0 & 0.9568124 & 0 & 31.58065\\\\\n",
       "\\end{tabular}\n"
      ],
      "text/markdown": [
       "\n",
       "A data.frame: 5 × 20\n",
       "\n",
       "| <!--/--> | Cell &lt;int&gt; | Case &lt;fct&gt; | Class &lt;fct&gt; | AngleCh1 &lt;dbl&gt; | AngleStatusCh1 &lt;int&gt; | AreaCh1 &lt;int&gt; | AreaStatusCh1 &lt;int&gt; | AvgIntenCh1 &lt;dbl&gt; | AvgIntenCh2 &lt;dbl&gt; | AvgIntenCh3 &lt;dbl&gt; | AvgIntenCh4 &lt;dbl&gt; | AvgIntenStatusCh1 &lt;int&gt; | AvgIntenStatusCh2 &lt;int&gt; | AvgIntenStatusCh3 &lt;int&gt; | AvgIntenStatusCh4 &lt;int&gt; | ConvexHullAreaRatioCh1 &lt;dbl&gt; | ConvexHullAreaRatioStatusCh1 &lt;int&gt; | ConvexHullPerimRatioCh1 &lt;dbl&gt; | ConvexHullPerimRatioStatusCh1 &lt;int&gt; | DiffIntenDensityCh1 &lt;dbl&gt; |\n",
       "|---|---|---|---|---|---|---|---|---|---|---|---|---|---|---|---|---|---|---|---|---|\n",
       "| 1 | 207827637 | Test  | PS | 143.247705 | 1 | 185 | 0 | 15.71186 |   3.954802 |  9.548023 |   2.214689 | 0 | 2 | 2 | 2 | 1.124509 | 0 | 0.9196827 | 0 | 29.51923 |\n",
       "| 2 | 207932307 | Train | PS | 133.752037 | 0 | 819 | 1 | 31.92327 | 205.878517 | 69.916880 | 164.153453 | 0 | 0 | 0 | 0 | 1.263158 | 1 | 0.7970801 | 2 | 31.87500 |\n",
       "| 3 | 207932463 | Train | WS | 106.646387 | 0 | 431 | 0 | 28.03883 | 115.315534 | 63.941748 | 106.696602 | 0 | 0 | 0 | 0 | 1.053310 | 0 | 0.9354750 | 0 | 32.48771 |\n",
       "| 4 | 207932470 | Train | PS |  69.150325 | 0 | 298 | 0 | 19.45614 | 101.294737 | 28.217544 |  31.028070 | 0 | 0 | 0 | 2 | 1.202625 | 0 | 0.8658291 | 2 | 26.73228 |\n",
       "| 5 | 207932455 | Test  | PS |   2.887837 | 2 | 285 | 0 | 24.27574 | 111.415441 | 20.474265 |  40.577206 | 0 | 0 | 0 | 0 | 1.109333 | 0 | 0.9568124 | 0 | 31.58065 |\n",
       "\n"
      ],
      "text/plain": [
       "  Cell      Case  Class AngleCh1   AngleStatusCh1 AreaCh1 AreaStatusCh1\n",
       "1 207827637 Test  PS    143.247705 1              185     0            \n",
       "2 207932307 Train PS    133.752037 0              819     1            \n",
       "3 207932463 Train WS    106.646387 0              431     0            \n",
       "4 207932470 Train PS     69.150325 0              298     0            \n",
       "5 207932455 Test  PS      2.887837 2              285     0            \n",
       "  AvgIntenCh1 AvgIntenCh2 AvgIntenCh3 AvgIntenCh4 AvgIntenStatusCh1\n",
       "1 15.71186      3.954802   9.548023     2.214689  0                \n",
       "2 31.92327    205.878517  69.916880   164.153453  0                \n",
       "3 28.03883    115.315534  63.941748   106.696602  0                \n",
       "4 19.45614    101.294737  28.217544    31.028070  0                \n",
       "5 24.27574    111.415441  20.474265    40.577206  0                \n",
       "  AvgIntenStatusCh2 AvgIntenStatusCh3 AvgIntenStatusCh4 ConvexHullAreaRatioCh1\n",
       "1 2                 2                 2                 1.124509              \n",
       "2 0                 0                 0                 1.263158              \n",
       "3 0                 0                 0                 1.053310              \n",
       "4 0                 0                 2                 1.202625              \n",
       "5 0                 0                 0                 1.109333              \n",
       "  ConvexHullAreaRatioStatusCh1 ConvexHullPerimRatioCh1\n",
       "1 0                            0.9196827              \n",
       "2 1                            0.7970801              \n",
       "3 0                            0.9354750              \n",
       "4 0                            0.8658291              \n",
       "5 0                            0.9568124              \n",
       "  ConvexHullPerimRatioStatusCh1 DiffIntenDensityCh1\n",
       "1 0                             29.51923           \n",
       "2 2                             31.87500           \n",
       "3 0                             32.48771           \n",
       "4 2                             26.73228           \n",
       "5 0                             31.58065           "
      ]
     },
     "metadata": {},
     "output_type": "display_data"
    }
   ],
   "source": [
    "# install packages\n",
    "install.packages(c(\"caret\", \"corrplot\", \"e1071\", \"lattice\", \"AppliedPredictiveModeling\"))\n",
    "# Load the library\n",
    "library(AppliedPredictiveModeling)\n",
    "\n",
    "# Load and inspect the segmented data and print out the dimensions, 2019 rows, and 199 columns\n",
    "data(segmentationOriginal) \n",
    "dim(segmentationOriginal)\n",
    "\n",
    "# Print a segment of the dataframe\n",
    "# the data also contains a case column, which identifies whether the cell is designated as test or train\n",
    "segmentationOriginal[1:5,1:20]"
   ]
  },
  {
   "cell_type": "markdown",
   "id": "293b71fd",
   "metadata": {},
   "source": [
    "# Subset data by case (training or test)\n",
    "\n",
    " - use the subset function and feed in the dataframe, and specify the feature and the condition\n",
    " - evaluate the dimensions of filtered dataset\n",
    " - view a subset"
   ]
  },
  {
   "cell_type": "code",
   "execution_count": 2,
   "id": "595825e7",
   "metadata": {},
   "outputs": [
    {
     "data": {
      "text/html": [
       "<style>\n",
       ".list-inline {list-style: none; margin:0; padding: 0}\n",
       ".list-inline>li {display: inline-block}\n",
       ".list-inline>li:not(:last-child)::after {content: \"\\00b7\"; padding: 0 .5ex}\n",
       "</style>\n",
       "<ol class=list-inline><li>1009</li><li>119</li></ol>\n"
      ],
      "text/latex": [
       "\\begin{enumerate*}\n",
       "\\item 1009\n",
       "\\item 119\n",
       "\\end{enumerate*}\n"
      ],
      "text/markdown": [
       "1. 1009\n",
       "2. 119\n",
       "\n",
       "\n"
      ],
      "text/plain": [
       "[1] 1009  119"
      ]
     },
     "metadata": {},
     "output_type": "display_data"
    },
    {
     "data": {
      "text/html": [
       "<table class=\"dataframe\">\n",
       "<caption>A data.frame: 5 × 20</caption>\n",
       "<thead>\n",
       "\t<tr><th></th><th scope=col>Cell</th><th scope=col>Case</th><th scope=col>Class</th><th scope=col>AngleCh1</th><th scope=col>AngleStatusCh1</th><th scope=col>AreaCh1</th><th scope=col>AreaStatusCh1</th><th scope=col>AvgIntenCh1</th><th scope=col>AvgIntenCh2</th><th scope=col>AvgIntenCh3</th><th scope=col>AvgIntenCh4</th><th scope=col>AvgIntenStatusCh1</th><th scope=col>AvgIntenStatusCh2</th><th scope=col>AvgIntenStatusCh3</th><th scope=col>AvgIntenStatusCh4</th><th scope=col>ConvexHullAreaRatioCh1</th><th scope=col>ConvexHullAreaRatioStatusCh1</th><th scope=col>ConvexHullPerimRatioCh1</th><th scope=col>ConvexHullPerimRatioStatusCh1</th><th scope=col>DiffIntenDensityCh1</th></tr>\n",
       "\t<tr><th></th><th scope=col>&lt;int&gt;</th><th scope=col>&lt;fct&gt;</th><th scope=col>&lt;fct&gt;</th><th scope=col>&lt;dbl&gt;</th><th scope=col>&lt;int&gt;</th><th scope=col>&lt;int&gt;</th><th scope=col>&lt;int&gt;</th><th scope=col>&lt;dbl&gt;</th><th scope=col>&lt;dbl&gt;</th><th scope=col>&lt;dbl&gt;</th><th scope=col>&lt;dbl&gt;</th><th scope=col>&lt;int&gt;</th><th scope=col>&lt;int&gt;</th><th scope=col>&lt;int&gt;</th><th scope=col>&lt;int&gt;</th><th scope=col>&lt;dbl&gt;</th><th scope=col>&lt;int&gt;</th><th scope=col>&lt;dbl&gt;</th><th scope=col>&lt;int&gt;</th><th scope=col>&lt;dbl&gt;</th></tr>\n",
       "</thead>\n",
       "<tbody>\n",
       "\t<tr><th scope=row>2</th><td>207932307</td><td>Train</td><td>PS</td><td>133.75204</td><td>0</td><td>819</td><td>1</td><td>31.92327</td><td>205.8785</td><td>69.91688</td><td>164.15345</td><td>0</td><td>0</td><td>0</td><td>0</td><td>1.263158</td><td>1</td><td>0.7970801</td><td>2</td><td>31.87500</td></tr>\n",
       "\t<tr><th scope=row>3</th><td>207932463</td><td>Train</td><td>WS</td><td>106.64639</td><td>0</td><td>431</td><td>0</td><td>28.03883</td><td>115.3155</td><td>63.94175</td><td>106.69660</td><td>0</td><td>0</td><td>0</td><td>0</td><td>1.053310</td><td>0</td><td>0.9354750</td><td>0</td><td>32.48771</td></tr>\n",
       "\t<tr><th scope=row>4</th><td>207932470</td><td>Train</td><td>PS</td><td> 69.15032</td><td>0</td><td>298</td><td>0</td><td>19.45614</td><td>101.2947</td><td>28.21754</td><td> 31.02807</td><td>0</td><td>0</td><td>0</td><td>2</td><td>1.202625</td><td>0</td><td>0.8658291</td><td>2</td><td>26.73228</td></tr>\n",
       "\t<tr><th scope=row>12</th><td>207932484</td><td>Train</td><td>WS</td><td>109.41643</td><td>0</td><td>256</td><td>0</td><td>18.82857</td><td>125.9388</td><td>13.60000</td><td> 46.80000</td><td>0</td><td>0</td><td>0</td><td>0</td><td>1.081871</td><td>0</td><td>0.9204595</td><td>0</td><td>28.02004</td></tr>\n",
       "\t<tr><th scope=row>15</th><td>207932459</td><td>Train</td><td>PS</td><td>104.27865</td><td>0</td><td>258</td><td>0</td><td>17.57085</td><td>124.3684</td><td>22.46154</td><td> 71.20648</td><td>0</td><td>0</td><td>0</td><td>0</td><td>1.075728</td><td>0</td><td>0.9313002</td><td>0</td><td>27.87611</td></tr>\n",
       "</tbody>\n",
       "</table>\n"
      ],
      "text/latex": [
       "A data.frame: 5 × 20\n",
       "\\begin{tabular}{r|llllllllllllllllllll}\n",
       "  & Cell & Case & Class & AngleCh1 & AngleStatusCh1 & AreaCh1 & AreaStatusCh1 & AvgIntenCh1 & AvgIntenCh2 & AvgIntenCh3 & AvgIntenCh4 & AvgIntenStatusCh1 & AvgIntenStatusCh2 & AvgIntenStatusCh3 & AvgIntenStatusCh4 & ConvexHullAreaRatioCh1 & ConvexHullAreaRatioStatusCh1 & ConvexHullPerimRatioCh1 & ConvexHullPerimRatioStatusCh1 & DiffIntenDensityCh1\\\\\n",
       "  & <int> & <fct> & <fct> & <dbl> & <int> & <int> & <int> & <dbl> & <dbl> & <dbl> & <dbl> & <int> & <int> & <int> & <int> & <dbl> & <int> & <dbl> & <int> & <dbl>\\\\\n",
       "\\hline\n",
       "\t2 & 207932307 & Train & PS & 133.75204 & 0 & 819 & 1 & 31.92327 & 205.8785 & 69.91688 & 164.15345 & 0 & 0 & 0 & 0 & 1.263158 & 1 & 0.7970801 & 2 & 31.87500\\\\\n",
       "\t3 & 207932463 & Train & WS & 106.64639 & 0 & 431 & 0 & 28.03883 & 115.3155 & 63.94175 & 106.69660 & 0 & 0 & 0 & 0 & 1.053310 & 0 & 0.9354750 & 0 & 32.48771\\\\\n",
       "\t4 & 207932470 & Train & PS &  69.15032 & 0 & 298 & 0 & 19.45614 & 101.2947 & 28.21754 &  31.02807 & 0 & 0 & 0 & 2 & 1.202625 & 0 & 0.8658291 & 2 & 26.73228\\\\\n",
       "\t12 & 207932484 & Train & WS & 109.41643 & 0 & 256 & 0 & 18.82857 & 125.9388 & 13.60000 &  46.80000 & 0 & 0 & 0 & 0 & 1.081871 & 0 & 0.9204595 & 0 & 28.02004\\\\\n",
       "\t15 & 207932459 & Train & PS & 104.27865 & 0 & 258 & 0 & 17.57085 & 124.3684 & 22.46154 &  71.20648 & 0 & 0 & 0 & 0 & 1.075728 & 0 & 0.9313002 & 0 & 27.87611\\\\\n",
       "\\end{tabular}\n"
      ],
      "text/markdown": [
       "\n",
       "A data.frame: 5 × 20\n",
       "\n",
       "| <!--/--> | Cell &lt;int&gt; | Case &lt;fct&gt; | Class &lt;fct&gt; | AngleCh1 &lt;dbl&gt; | AngleStatusCh1 &lt;int&gt; | AreaCh1 &lt;int&gt; | AreaStatusCh1 &lt;int&gt; | AvgIntenCh1 &lt;dbl&gt; | AvgIntenCh2 &lt;dbl&gt; | AvgIntenCh3 &lt;dbl&gt; | AvgIntenCh4 &lt;dbl&gt; | AvgIntenStatusCh1 &lt;int&gt; | AvgIntenStatusCh2 &lt;int&gt; | AvgIntenStatusCh3 &lt;int&gt; | AvgIntenStatusCh4 &lt;int&gt; | ConvexHullAreaRatioCh1 &lt;dbl&gt; | ConvexHullAreaRatioStatusCh1 &lt;int&gt; | ConvexHullPerimRatioCh1 &lt;dbl&gt; | ConvexHullPerimRatioStatusCh1 &lt;int&gt; | DiffIntenDensityCh1 &lt;dbl&gt; |\n",
       "|---|---|---|---|---|---|---|---|---|---|---|---|---|---|---|---|---|---|---|---|---|\n",
       "| 2 | 207932307 | Train | PS | 133.75204 | 0 | 819 | 1 | 31.92327 | 205.8785 | 69.91688 | 164.15345 | 0 | 0 | 0 | 0 | 1.263158 | 1 | 0.7970801 | 2 | 31.87500 |\n",
       "| 3 | 207932463 | Train | WS | 106.64639 | 0 | 431 | 0 | 28.03883 | 115.3155 | 63.94175 | 106.69660 | 0 | 0 | 0 | 0 | 1.053310 | 0 | 0.9354750 | 0 | 32.48771 |\n",
       "| 4 | 207932470 | Train | PS |  69.15032 | 0 | 298 | 0 | 19.45614 | 101.2947 | 28.21754 |  31.02807 | 0 | 0 | 0 | 2 | 1.202625 | 0 | 0.8658291 | 2 | 26.73228 |\n",
       "| 12 | 207932484 | Train | WS | 109.41643 | 0 | 256 | 0 | 18.82857 | 125.9388 | 13.60000 |  46.80000 | 0 | 0 | 0 | 0 | 1.081871 | 0 | 0.9204595 | 0 | 28.02004 |\n",
       "| 15 | 207932459 | Train | PS | 104.27865 | 0 | 258 | 0 | 17.57085 | 124.3684 | 22.46154 |  71.20648 | 0 | 0 | 0 | 0 | 1.075728 | 0 | 0.9313002 | 0 | 27.87611 |\n",
       "\n"
      ],
      "text/plain": [
       "   Cell      Case  Class AngleCh1  AngleStatusCh1 AreaCh1 AreaStatusCh1\n",
       "2  207932307 Train PS    133.75204 0              819     1            \n",
       "3  207932463 Train WS    106.64639 0              431     0            \n",
       "4  207932470 Train PS     69.15032 0              298     0            \n",
       "12 207932484 Train WS    109.41643 0              256     0            \n",
       "15 207932459 Train PS    104.27865 0              258     0            \n",
       "   AvgIntenCh1 AvgIntenCh2 AvgIntenCh3 AvgIntenCh4 AvgIntenStatusCh1\n",
       "2  31.92327    205.8785    69.91688    164.15345   0                \n",
       "3  28.03883    115.3155    63.94175    106.69660   0                \n",
       "4  19.45614    101.2947    28.21754     31.02807   0                \n",
       "12 18.82857    125.9388    13.60000     46.80000   0                \n",
       "15 17.57085    124.3684    22.46154     71.20648   0                \n",
       "   AvgIntenStatusCh2 AvgIntenStatusCh3 AvgIntenStatusCh4 ConvexHullAreaRatioCh1\n",
       "2  0                 0                 0                 1.263158              \n",
       "3  0                 0                 0                 1.053310              \n",
       "4  0                 0                 2                 1.202625              \n",
       "12 0                 0                 0                 1.081871              \n",
       "15 0                 0                 0                 1.075728              \n",
       "   ConvexHullAreaRatioStatusCh1 ConvexHullPerimRatioCh1\n",
       "2  1                            0.7970801              \n",
       "3  0                            0.9354750              \n",
       "4  0                            0.8658291              \n",
       "12 0                            0.9204595              \n",
       "15 0                            0.9313002              \n",
       "   ConvexHullPerimRatioStatusCh1 DiffIntenDensityCh1\n",
       "2  2                             31.87500           \n",
       "3  0                             32.48771           \n",
       "4  2                             26.73228           \n",
       "12 0                             28.02004           \n",
       "15 0                             27.87611           "
      ]
     },
     "metadata": {},
     "output_type": "display_data"
    }
   ],
   "source": [
    "segData <- subset(segmentationOriginal, Case == \"Train\") \n",
    "dim(segData)\n",
    "segData[1:5, 1:20]"
   ]
  },
  {
   "cell_type": "markdown",
   "id": "2fad92fe",
   "metadata": {},
   "source": [
    "# Save Class and Cell fields into separate vectors\n",
    "\n",
    " - This is part of the data processing set before you train a model\n",
    " - cellID is the cell id\n",
    " - class specifies if the cell is PS or WS\n",
    " - case specifies if the cell is train or test, all these should be train"
   ]
  },
  {
   "cell_type": "code",
   "execution_count": 3,
   "id": "e8e672a1",
   "metadata": {},
   "outputs": [
    {
     "data": {
      "text/html": [
       "<style>\n",
       ".list-inline {list-style: none; margin:0; padding: 0}\n",
       ".list-inline>li {display: inline-block}\n",
       ".list-inline>li:not(:last-child)::after {content: \"\\00b7\"; padding: 0 .5ex}\n",
       "</style>\n",
       "<ol class=list-inline><li>207932307</li><li>207932463</li><li>207932470</li><li>207932484</li><li>207932459</li></ol>\n"
      ],
      "text/latex": [
       "\\begin{enumerate*}\n",
       "\\item 207932307\n",
       "\\item 207932463\n",
       "\\item 207932470\n",
       "\\item 207932484\n",
       "\\item 207932459\n",
       "\\end{enumerate*}\n"
      ],
      "text/markdown": [
       "1. 207932307\n",
       "2. 207932463\n",
       "3. 207932470\n",
       "4. 207932484\n",
       "5. 207932459\n",
       "\n",
       "\n"
      ],
      "text/plain": [
       "[1] 207932307 207932463 207932470 207932484 207932459"
      ]
     },
     "metadata": {},
     "output_type": "display_data"
    },
    {
     "data": {
      "text/html": [
       "<style>\n",
       ".list-inline {list-style: none; margin:0; padding: 0}\n",
       ".list-inline>li {display: inline-block}\n",
       ".list-inline>li:not(:last-child)::after {content: \"\\00b7\"; padding: 0 .5ex}\n",
       "</style>\n",
       "<ol class=list-inline><li>PS</li><li>WS</li><li>PS</li><li>WS</li><li>PS</li></ol>\n",
       "\n",
       "<details>\n",
       "\t<summary style=display:list-item;cursor:pointer>\n",
       "\t\t<strong>Levels</strong>:\n",
       "\t</summary>\n",
       "\t<style>\n",
       "\t.list-inline {list-style: none; margin:0; padding: 0}\n",
       "\t.list-inline>li {display: inline-block}\n",
       "\t.list-inline>li:not(:last-child)::after {content: \"\\00b7\"; padding: 0 .5ex}\n",
       "\t</style>\n",
       "\t<ol class=list-inline><li>'PS'</li><li>'WS'</li></ol>\n",
       "</details>"
      ],
      "text/latex": [
       "\\begin{enumerate*}\n",
       "\\item PS\n",
       "\\item WS\n",
       "\\item PS\n",
       "\\item WS\n",
       "\\item PS\n",
       "\\end{enumerate*}\n",
       "\n",
       "\\emph{Levels}: \\begin{enumerate*}\n",
       "\\item 'PS'\n",
       "\\item 'WS'\n",
       "\\end{enumerate*}\n"
      ],
      "text/markdown": [
       "1. PS\n",
       "2. WS\n",
       "3. PS\n",
       "4. WS\n",
       "5. PS\n",
       "\n",
       "\n",
       "\n",
       "**Levels**: 1. 'PS'\n",
       "2. 'WS'\n",
       "\n",
       "\n"
      ],
      "text/plain": [
       "[1] PS WS PS WS PS\n",
       "Levels: PS WS"
      ]
     },
     "metadata": {},
     "output_type": "display_data"
    },
    {
     "data": {
      "text/html": [
       "<style>\n",
       ".list-inline {list-style: none; margin:0; padding: 0}\n",
       ".list-inline>li {display: inline-block}\n",
       ".list-inline>li:not(:last-child)::after {content: \"\\00b7\"; padding: 0 .5ex}\n",
       "</style>\n",
       "<ol class=list-inline><li>Train</li><li>Train</li><li>Train</li><li>Train</li><li>Train</li></ol>\n",
       "\n",
       "<details>\n",
       "\t<summary style=display:list-item;cursor:pointer>\n",
       "\t\t<strong>Levels</strong>:\n",
       "\t</summary>\n",
       "\t<style>\n",
       "\t.list-inline {list-style: none; margin:0; padding: 0}\n",
       "\t.list-inline>li {display: inline-block}\n",
       "\t.list-inline>li:not(:last-child)::after {content: \"\\00b7\"; padding: 0 .5ex}\n",
       "\t</style>\n",
       "\t<ol class=list-inline><li>'Test'</li><li>'Train'</li></ol>\n",
       "</details>"
      ],
      "text/latex": [
       "\\begin{enumerate*}\n",
       "\\item Train\n",
       "\\item Train\n",
       "\\item Train\n",
       "\\item Train\n",
       "\\item Train\n",
       "\\end{enumerate*}\n",
       "\n",
       "\\emph{Levels}: \\begin{enumerate*}\n",
       "\\item 'Test'\n",
       "\\item 'Train'\n",
       "\\end{enumerate*}\n"
      ],
      "text/markdown": [
       "1. Train\n",
       "2. Train\n",
       "3. Train\n",
       "4. Train\n",
       "5. Train\n",
       "\n",
       "\n",
       "\n",
       "**Levels**: 1. 'Test'\n",
       "2. 'Train'\n",
       "\n",
       "\n"
      ],
      "text/plain": [
       "[1] Train Train Train Train Train\n",
       "Levels: Test Train"
      ]
     },
     "metadata": {},
     "output_type": "display_data"
    }
   ],
   "source": [
    "cellID <- segData$Cell;cellID[0:5]\n",
    "class <- segData$Class;class[0:5]\n",
    "case <- segData$Case;case[0:5]"
   ]
  },
  {
   "cell_type": "markdown",
   "id": "5fd49321",
   "metadata": {},
   "source": [
    "# Remove cellID, class and case columns from the original dataset\n",
    "\n",
    "# Remove the “status” (binary versions of of the predictors) so only continuous predictors are in dataframe\n",
    "\n",
    " - use the grep function which does pattern matching and replacement\n",
    " - Returns the column number\n",
    " - use the - with the column numbers to filter them out from segmented dataset"
   ]
  },
  {
   "cell_type": "code",
   "execution_count": 4,
   "id": "6183917c",
   "metadata": {},
   "outputs": [
    {
     "data": {
      "text/html": [
       "<table class=\"dataframe\">\n",
       "<caption>A data.frame: 5 × 20</caption>\n",
       "<thead>\n",
       "\t<tr><th></th><th scope=col>AngleCh1</th><th scope=col>AngleStatusCh1</th><th scope=col>AreaCh1</th><th scope=col>AreaStatusCh1</th><th scope=col>AvgIntenCh1</th><th scope=col>AvgIntenCh2</th><th scope=col>AvgIntenCh3</th><th scope=col>AvgIntenCh4</th><th scope=col>AvgIntenStatusCh1</th><th scope=col>AvgIntenStatusCh2</th><th scope=col>AvgIntenStatusCh3</th><th scope=col>AvgIntenStatusCh4</th><th scope=col>ConvexHullAreaRatioCh1</th><th scope=col>ConvexHullAreaRatioStatusCh1</th><th scope=col>ConvexHullPerimRatioCh1</th><th scope=col>ConvexHullPerimRatioStatusCh1</th><th scope=col>DiffIntenDensityCh1</th><th scope=col>DiffIntenDensityCh3</th><th scope=col>DiffIntenDensityCh4</th><th scope=col>DiffIntenDensityStatusCh1</th></tr>\n",
       "\t<tr><th></th><th scope=col>&lt;dbl&gt;</th><th scope=col>&lt;int&gt;</th><th scope=col>&lt;int&gt;</th><th scope=col>&lt;int&gt;</th><th scope=col>&lt;dbl&gt;</th><th scope=col>&lt;dbl&gt;</th><th scope=col>&lt;dbl&gt;</th><th scope=col>&lt;dbl&gt;</th><th scope=col>&lt;int&gt;</th><th scope=col>&lt;int&gt;</th><th scope=col>&lt;int&gt;</th><th scope=col>&lt;int&gt;</th><th scope=col>&lt;dbl&gt;</th><th scope=col>&lt;int&gt;</th><th scope=col>&lt;dbl&gt;</th><th scope=col>&lt;int&gt;</th><th scope=col>&lt;dbl&gt;</th><th scope=col>&lt;dbl&gt;</th><th scope=col>&lt;dbl&gt;</th><th scope=col>&lt;int&gt;</th></tr>\n",
       "</thead>\n",
       "<tbody>\n",
       "\t<tr><th scope=row>2</th><td>133.75204</td><td>0</td><td>819</td><td>1</td><td>31.92327</td><td>205.8785</td><td>69.91688</td><td>164.15345</td><td>0</td><td>0</td><td>0</td><td>0</td><td>1.263158</td><td>1</td><td>0.7970801</td><td>2</td><td>31.87500</td><td>43.12228</td><td>79.30842</td><td>0</td></tr>\n",
       "\t<tr><th scope=row>3</th><td>106.64639</td><td>0</td><td>431</td><td>0</td><td>28.03883</td><td>115.3155</td><td>63.94175</td><td>106.69660</td><td>0</td><td>0</td><td>0</td><td>0</td><td>1.053310</td><td>0</td><td>0.9354750</td><td>0</td><td>32.48771</td><td>35.98577</td><td>51.35705</td><td>0</td></tr>\n",
       "\t<tr><th scope=row>4</th><td> 69.15032</td><td>0</td><td>298</td><td>0</td><td>19.45614</td><td>101.2947</td><td>28.21754</td><td> 31.02807</td><td>0</td><td>0</td><td>0</td><td>2</td><td>1.202625</td><td>0</td><td>0.8658291</td><td>2</td><td>26.73228</td><td>22.91732</td><td>26.39370</td><td>2</td></tr>\n",
       "\t<tr><th scope=row>12</th><td>109.41643</td><td>0</td><td>256</td><td>0</td><td>18.82857</td><td>125.9388</td><td>13.60000</td><td> 46.80000</td><td>0</td><td>0</td><td>0</td><td>0</td><td>1.081871</td><td>0</td><td>0.9204595</td><td>0</td><td>28.02004</td><td>14.87082</td><td>32.69710</td><td>2</td></tr>\n",
       "\t<tr><th scope=row>15</th><td>104.27865</td><td>0</td><td>258</td><td>0</td><td>17.57085</td><td>124.3684</td><td>22.46154</td><td> 71.20648</td><td>0</td><td>0</td><td>0</td><td>0</td><td>1.075728</td><td>0</td><td>0.9313002</td><td>0</td><td>27.87611</td><td>16.11947</td><td>36.18584</td><td>2</td></tr>\n",
       "</tbody>\n",
       "</table>\n"
      ],
      "text/latex": [
       "A data.frame: 5 × 20\n",
       "\\begin{tabular}{r|llllllllllllllllllll}\n",
       "  & AngleCh1 & AngleStatusCh1 & AreaCh1 & AreaStatusCh1 & AvgIntenCh1 & AvgIntenCh2 & AvgIntenCh3 & AvgIntenCh4 & AvgIntenStatusCh1 & AvgIntenStatusCh2 & AvgIntenStatusCh3 & AvgIntenStatusCh4 & ConvexHullAreaRatioCh1 & ConvexHullAreaRatioStatusCh1 & ConvexHullPerimRatioCh1 & ConvexHullPerimRatioStatusCh1 & DiffIntenDensityCh1 & DiffIntenDensityCh3 & DiffIntenDensityCh4 & DiffIntenDensityStatusCh1\\\\\n",
       "  & <dbl> & <int> & <int> & <int> & <dbl> & <dbl> & <dbl> & <dbl> & <int> & <int> & <int> & <int> & <dbl> & <int> & <dbl> & <int> & <dbl> & <dbl> & <dbl> & <int>\\\\\n",
       "\\hline\n",
       "\t2 & 133.75204 & 0 & 819 & 1 & 31.92327 & 205.8785 & 69.91688 & 164.15345 & 0 & 0 & 0 & 0 & 1.263158 & 1 & 0.7970801 & 2 & 31.87500 & 43.12228 & 79.30842 & 0\\\\\n",
       "\t3 & 106.64639 & 0 & 431 & 0 & 28.03883 & 115.3155 & 63.94175 & 106.69660 & 0 & 0 & 0 & 0 & 1.053310 & 0 & 0.9354750 & 0 & 32.48771 & 35.98577 & 51.35705 & 0\\\\\n",
       "\t4 &  69.15032 & 0 & 298 & 0 & 19.45614 & 101.2947 & 28.21754 &  31.02807 & 0 & 0 & 0 & 2 & 1.202625 & 0 & 0.8658291 & 2 & 26.73228 & 22.91732 & 26.39370 & 2\\\\\n",
       "\t12 & 109.41643 & 0 & 256 & 0 & 18.82857 & 125.9388 & 13.60000 &  46.80000 & 0 & 0 & 0 & 0 & 1.081871 & 0 & 0.9204595 & 0 & 28.02004 & 14.87082 & 32.69710 & 2\\\\\n",
       "\t15 & 104.27865 & 0 & 258 & 0 & 17.57085 & 124.3684 & 22.46154 &  71.20648 & 0 & 0 & 0 & 0 & 1.075728 & 0 & 0.9313002 & 0 & 27.87611 & 16.11947 & 36.18584 & 2\\\\\n",
       "\\end{tabular}\n"
      ],
      "text/markdown": [
       "\n",
       "A data.frame: 5 × 20\n",
       "\n",
       "| <!--/--> | AngleCh1 &lt;dbl&gt; | AngleStatusCh1 &lt;int&gt; | AreaCh1 &lt;int&gt; | AreaStatusCh1 &lt;int&gt; | AvgIntenCh1 &lt;dbl&gt; | AvgIntenCh2 &lt;dbl&gt; | AvgIntenCh3 &lt;dbl&gt; | AvgIntenCh4 &lt;dbl&gt; | AvgIntenStatusCh1 &lt;int&gt; | AvgIntenStatusCh2 &lt;int&gt; | AvgIntenStatusCh3 &lt;int&gt; | AvgIntenStatusCh4 &lt;int&gt; | ConvexHullAreaRatioCh1 &lt;dbl&gt; | ConvexHullAreaRatioStatusCh1 &lt;int&gt; | ConvexHullPerimRatioCh1 &lt;dbl&gt; | ConvexHullPerimRatioStatusCh1 &lt;int&gt; | DiffIntenDensityCh1 &lt;dbl&gt; | DiffIntenDensityCh3 &lt;dbl&gt; | DiffIntenDensityCh4 &lt;dbl&gt; | DiffIntenDensityStatusCh1 &lt;int&gt; |\n",
       "|---|---|---|---|---|---|---|---|---|---|---|---|---|---|---|---|---|---|---|---|---|\n",
       "| 2 | 133.75204 | 0 | 819 | 1 | 31.92327 | 205.8785 | 69.91688 | 164.15345 | 0 | 0 | 0 | 0 | 1.263158 | 1 | 0.7970801 | 2 | 31.87500 | 43.12228 | 79.30842 | 0 |\n",
       "| 3 | 106.64639 | 0 | 431 | 0 | 28.03883 | 115.3155 | 63.94175 | 106.69660 | 0 | 0 | 0 | 0 | 1.053310 | 0 | 0.9354750 | 0 | 32.48771 | 35.98577 | 51.35705 | 0 |\n",
       "| 4 |  69.15032 | 0 | 298 | 0 | 19.45614 | 101.2947 | 28.21754 |  31.02807 | 0 | 0 | 0 | 2 | 1.202625 | 0 | 0.8658291 | 2 | 26.73228 | 22.91732 | 26.39370 | 2 |\n",
       "| 12 | 109.41643 | 0 | 256 | 0 | 18.82857 | 125.9388 | 13.60000 |  46.80000 | 0 | 0 | 0 | 0 | 1.081871 | 0 | 0.9204595 | 0 | 28.02004 | 14.87082 | 32.69710 | 2 |\n",
       "| 15 | 104.27865 | 0 | 258 | 0 | 17.57085 | 124.3684 | 22.46154 |  71.20648 | 0 | 0 | 0 | 0 | 1.075728 | 0 | 0.9313002 | 0 | 27.87611 | 16.11947 | 36.18584 | 2 |\n",
       "\n"
      ],
      "text/plain": [
       "   AngleCh1  AngleStatusCh1 AreaCh1 AreaStatusCh1 AvgIntenCh1 AvgIntenCh2\n",
       "2  133.75204 0              819     1             31.92327    205.8785   \n",
       "3  106.64639 0              431     0             28.03883    115.3155   \n",
       "4   69.15032 0              298     0             19.45614    101.2947   \n",
       "12 109.41643 0              256     0             18.82857    125.9388   \n",
       "15 104.27865 0              258     0             17.57085    124.3684   \n",
       "   AvgIntenCh3 AvgIntenCh4 AvgIntenStatusCh1 AvgIntenStatusCh2\n",
       "2  69.91688    164.15345   0                 0                \n",
       "3  63.94175    106.69660   0                 0                \n",
       "4  28.21754     31.02807   0                 0                \n",
       "12 13.60000     46.80000   0                 0                \n",
       "15 22.46154     71.20648   0                 0                \n",
       "   AvgIntenStatusCh3 AvgIntenStatusCh4 ConvexHullAreaRatioCh1\n",
       "2  0                 0                 1.263158              \n",
       "3  0                 0                 1.053310              \n",
       "4  0                 2                 1.202625              \n",
       "12 0                 0                 1.081871              \n",
       "15 0                 0                 1.075728              \n",
       "   ConvexHullAreaRatioStatusCh1 ConvexHullPerimRatioCh1\n",
       "2  1                            0.7970801              \n",
       "3  0                            0.9354750              \n",
       "4  0                            0.8658291              \n",
       "12 0                            0.9204595              \n",
       "15 0                            0.9313002              \n",
       "   ConvexHullPerimRatioStatusCh1 DiffIntenDensityCh1 DiffIntenDensityCh3\n",
       "2  2                             31.87500            43.12228           \n",
       "3  0                             32.48771            35.98577           \n",
       "4  2                             26.73228            22.91732           \n",
       "12 0                             28.02004            14.87082           \n",
       "15 0                             27.87611            16.11947           \n",
       "   DiffIntenDensityCh4 DiffIntenDensityStatusCh1\n",
       "2  79.30842            0                        \n",
       "3  51.35705            0                        \n",
       "4  26.39370            2                        \n",
       "12 32.69710            2                        \n",
       "15 36.18584            2                        "
      ]
     },
     "metadata": {},
     "output_type": "display_data"
    },
    {
     "data": {
      "text/html": [
       "<style>\n",
       ".list-inline {list-style: none; margin:0; padding: 0}\n",
       ".list-inline>li {display: inline-block}\n",
       ".list-inline>li:not(:last-child)::after {content: \"\\00b7\"; padding: 0 .5ex}\n",
       "</style>\n",
       "<ol class=list-inline><li>2</li><li>4</li><li>9</li><li>10</li><li>11</li><li>12</li><li>14</li><li>16</li><li>20</li><li>21</li><li>22</li><li>26</li><li>27</li><li>28</li><li>30</li><li>32</li><li>34</li><li>36</li><li>38</li><li>40</li><li>43</li><li>44</li><li>46</li><li>48</li><li>51</li><li>52</li><li>55</li><li>56</li><li>59</li><li>60</li><li>63</li><li>64</li><li>68</li><li>69</li><li>70</li><li>72</li><li>73</li><li>74</li><li>76</li><li>78</li><li>80</li><li>82</li><li>84</li><li>86</li><li>88</li><li>92</li><li>93</li><li>94</li><li>97</li><li>98</li><li>103</li><li>104</li><li>105</li><li>106</li><li>110</li><li>111</li><li>112</li><li>114</li></ol>\n"
      ],
      "text/latex": [
       "\\begin{enumerate*}\n",
       "\\item 2\n",
       "\\item 4\n",
       "\\item 9\n",
       "\\item 10\n",
       "\\item 11\n",
       "\\item 12\n",
       "\\item 14\n",
       "\\item 16\n",
       "\\item 20\n",
       "\\item 21\n",
       "\\item 22\n",
       "\\item 26\n",
       "\\item 27\n",
       "\\item 28\n",
       "\\item 30\n",
       "\\item 32\n",
       "\\item 34\n",
       "\\item 36\n",
       "\\item 38\n",
       "\\item 40\n",
       "\\item 43\n",
       "\\item 44\n",
       "\\item 46\n",
       "\\item 48\n",
       "\\item 51\n",
       "\\item 52\n",
       "\\item 55\n",
       "\\item 56\n",
       "\\item 59\n",
       "\\item 60\n",
       "\\item 63\n",
       "\\item 64\n",
       "\\item 68\n",
       "\\item 69\n",
       "\\item 70\n",
       "\\item 72\n",
       "\\item 73\n",
       "\\item 74\n",
       "\\item 76\n",
       "\\item 78\n",
       "\\item 80\n",
       "\\item 82\n",
       "\\item 84\n",
       "\\item 86\n",
       "\\item 88\n",
       "\\item 92\n",
       "\\item 93\n",
       "\\item 94\n",
       "\\item 97\n",
       "\\item 98\n",
       "\\item 103\n",
       "\\item 104\n",
       "\\item 105\n",
       "\\item 106\n",
       "\\item 110\n",
       "\\item 111\n",
       "\\item 112\n",
       "\\item 114\n",
       "\\end{enumerate*}\n"
      ],
      "text/markdown": [
       "1. 2\n",
       "2. 4\n",
       "3. 9\n",
       "4. 10\n",
       "5. 11\n",
       "6. 12\n",
       "7. 14\n",
       "8. 16\n",
       "9. 20\n",
       "10. 21\n",
       "11. 22\n",
       "12. 26\n",
       "13. 27\n",
       "14. 28\n",
       "15. 30\n",
       "16. 32\n",
       "17. 34\n",
       "18. 36\n",
       "19. 38\n",
       "20. 40\n",
       "21. 43\n",
       "22. 44\n",
       "23. 46\n",
       "24. 48\n",
       "25. 51\n",
       "26. 52\n",
       "27. 55\n",
       "28. 56\n",
       "29. 59\n",
       "30. 60\n",
       "31. 63\n",
       "32. 64\n",
       "33. 68\n",
       "34. 69\n",
       "35. 70\n",
       "36. 72\n",
       "37. 73\n",
       "38. 74\n",
       "39. 76\n",
       "40. 78\n",
       "41. 80\n",
       "42. 82\n",
       "43. 84\n",
       "44. 86\n",
       "45. 88\n",
       "46. 92\n",
       "47. 93\n",
       "48. 94\n",
       "49. 97\n",
       "50. 98\n",
       "51. 103\n",
       "52. 104\n",
       "53. 105\n",
       "54. 106\n",
       "55. 110\n",
       "56. 111\n",
       "57. 112\n",
       "58. 114\n",
       "\n",
       "\n"
      ],
      "text/plain": [
       " [1]   2   4   9  10  11  12  14  16  20  21  22  26  27  28  30  32  34  36  38\n",
       "[20]  40  43  44  46  48  51  52  55  56  59  60  63  64  68  69  70  72  73  74\n",
       "[39]  76  78  80  82  84  86  88  92  93  94  97  98 103 104 105 106 110 111 112\n",
       "[58] 114"
      ]
     },
     "metadata": {},
     "output_type": "display_data"
    },
    {
     "data": {
      "text/html": [
       "58"
      ],
      "text/latex": [
       "58"
      ],
      "text/markdown": [
       "58"
      ],
      "text/plain": [
       "[1] 58"
      ]
     },
     "metadata": {},
     "output_type": "display_data"
    },
    {
     "data": {
      "text/html": [
       "<style>\n",
       ".list-inline {list-style: none; margin:0; padding: 0}\n",
       ".list-inline>li {display: inline-block}\n",
       ".list-inline>li:not(:last-child)::after {content: \"\\00b7\"; padding: 0 .5ex}\n",
       "</style>\n",
       "<ol class=list-inline><li>1009</li><li>58</li></ol>\n"
      ],
      "text/latex": [
       "\\begin{enumerate*}\n",
       "\\item 1009\n",
       "\\item 58\n",
       "\\end{enumerate*}\n"
      ],
      "text/markdown": [
       "1. 1009\n",
       "2. 58\n",
       "\n",
       "\n"
      ],
      "text/plain": [
       "[1] 1009   58"
      ]
     },
     "metadata": {},
     "output_type": "display_data"
    }
   ],
   "source": [
    "# Now remove the columns\n",
    "segData <- segData[, -(1:3)]\n",
    "segData[1:5, 1:20]\n",
    "\n",
    "statusColNum <- grep(\"Status\", names(segData))   \n",
    "statusColNum\n",
    "\n",
    "# count number of columns that need to be removed\n",
    "length(statusColNum) \n",
    "segDataCont <- segData[, -statusColNum]\n",
    "\n",
    "# confirm new feature count\n",
    "dim(segDataCont) "
   ]
  },
  {
   "cell_type": "markdown",
   "id": "fb6170c0",
   "metadata": {},
   "source": [
    "# Data Transformations - Center and Scale the Predictors using Scale function"
   ]
  },
  {
   "cell_type": "code",
   "execution_count": 5,
   "id": "ad8b27a7",
   "metadata": {},
   "outputs": [
    {
     "data": {
      "text/html": [
       "<style>\n",
       ".dl-inline {width: auto; margin:0; padding: 0}\n",
       ".dl-inline>dt, .dl-inline>dd {float: none; width: auto; display: inline-block}\n",
       ".dl-inline>dt::after {content: \":\\0020\"; padding-right: .5ex}\n",
       ".dl-inline>dt:not(:first-of-type) {padding-left: .5ex}\n",
       "</style><dl class=dl-inline><dt>AngleCh1</dt><dd>4.79516079965006e-17</dd><dt>AreaCh1</dt><dd>1.11158123230209e-16</dd><dt>AvgIntenCh1</dt><dd>4.27749455721536e-18</dd><dt>AvgIntenCh2</dt><dd>7.05683446927096e-17</dd><dt>AvgIntenCh3</dt><dd>3.35142042407868e-17</dd><dt>AvgIntenCh4</dt><dd>5.06430942221118e-17</dd></dl>\n"
      ],
      "text/latex": [
       "\\begin{description*}\n",
       "\\item[AngleCh1] 4.79516079965006e-17\n",
       "\\item[AreaCh1] 1.11158123230209e-16\n",
       "\\item[AvgIntenCh1] 4.27749455721536e-18\n",
       "\\item[AvgIntenCh2] 7.05683446927096e-17\n",
       "\\item[AvgIntenCh3] 3.35142042407868e-17\n",
       "\\item[AvgIntenCh4] 5.06430942221118e-17\n",
       "\\end{description*}\n"
      ],
      "text/markdown": [
       "AngleCh1\n",
       ":   4.79516079965006e-17AreaCh1\n",
       ":   1.11158123230209e-16AvgIntenCh1\n",
       ":   4.27749455721536e-18AvgIntenCh2\n",
       ":   7.05683446927096e-17AvgIntenCh3\n",
       ":   3.35142042407868e-17AvgIntenCh4\n",
       ":   5.06430942221118e-17\n",
       "\n"
      ],
      "text/plain": [
       "    AngleCh1      AreaCh1  AvgIntenCh1  AvgIntenCh2  AvgIntenCh3  AvgIntenCh4 \n",
       "4.795161e-17 1.111581e-16 4.277495e-18 7.056834e-17 3.351420e-17 5.064309e-17 "
      ]
     },
     "metadata": {},
     "output_type": "display_data"
    }
   ],
   "source": [
    "YY = scale(segDataCont)\n",
    "head(colMeans(YY))"
   ]
  },
  {
   "cell_type": "markdown",
   "id": "fcce8718",
   "metadata": {},
   "source": [
    "# View Variance and standard deviation of complex vectors using var function"
   ]
  },
  {
   "cell_type": "code",
   "execution_count": 6,
   "id": "4cbdbfbd",
   "metadata": {},
   "outputs": [
    {
     "data": {
      "text/html": [
       "<table class=\"dataframe\">\n",
       "<caption>A matrix: 5 × 5 of type dbl</caption>\n",
       "<thead>\n",
       "\t<tr><th></th><th scope=col>AngleCh1</th><th scope=col>AreaCh1</th><th scope=col>AvgIntenCh1</th><th scope=col>AvgIntenCh2</th><th scope=col>AvgIntenCh3</th></tr>\n",
       "</thead>\n",
       "<tbody>\n",
       "\t<tr><th scope=row>AngleCh1</th><td> 1.000000000</td><td>-0.002627172</td><td>-0.04300776</td><td>-0.01944681</td><td>-0.06248416</td></tr>\n",
       "\t<tr><th scope=row>AreaCh1</th><td>-0.002627172</td><td> 1.000000000</td><td>-0.02529739</td><td>-0.15330301</td><td>-0.13935200</td></tr>\n",
       "\t<tr><th scope=row>AvgIntenCh1</th><td>-0.043007757</td><td>-0.025297394</td><td> 1.00000000</td><td> 0.52521711</td><td> 0.27340337</td></tr>\n",
       "\t<tr><th scope=row>AvgIntenCh2</th><td>-0.019446810</td><td>-0.153303007</td><td> 0.52521711</td><td> 1.00000000</td><td> 0.18359946</td></tr>\n",
       "\t<tr><th scope=row>AvgIntenCh3</th><td>-0.062484162</td><td>-0.139352005</td><td> 0.27340337</td><td> 0.18359946</td><td> 1.00000000</td></tr>\n",
       "</tbody>\n",
       "</table>\n"
      ],
      "text/latex": [
       "A matrix: 5 × 5 of type dbl\n",
       "\\begin{tabular}{r|lllll}\n",
       "  & AngleCh1 & AreaCh1 & AvgIntenCh1 & AvgIntenCh2 & AvgIntenCh3\\\\\n",
       "\\hline\n",
       "\tAngleCh1 &  1.000000000 & -0.002627172 & -0.04300776 & -0.01944681 & -0.06248416\\\\\n",
       "\tAreaCh1 & -0.002627172 &  1.000000000 & -0.02529739 & -0.15330301 & -0.13935200\\\\\n",
       "\tAvgIntenCh1 & -0.043007757 & -0.025297394 &  1.00000000 &  0.52521711 &  0.27340337\\\\\n",
       "\tAvgIntenCh2 & -0.019446810 & -0.153303007 &  0.52521711 &  1.00000000 &  0.18359946\\\\\n",
       "\tAvgIntenCh3 & -0.062484162 & -0.139352005 &  0.27340337 &  0.18359946 &  1.00000000\\\\\n",
       "\\end{tabular}\n"
      ],
      "text/markdown": [
       "\n",
       "A matrix: 5 × 5 of type dbl\n",
       "\n",
       "| <!--/--> | AngleCh1 | AreaCh1 | AvgIntenCh1 | AvgIntenCh2 | AvgIntenCh3 |\n",
       "|---|---|---|---|---|---|\n",
       "| AngleCh1 |  1.000000000 | -0.002627172 | -0.04300776 | -0.01944681 | -0.06248416 |\n",
       "| AreaCh1 | -0.002627172 |  1.000000000 | -0.02529739 | -0.15330301 | -0.13935200 |\n",
       "| AvgIntenCh1 | -0.043007757 | -0.025297394 |  1.00000000 |  0.52521711 |  0.27340337 |\n",
       "| AvgIntenCh2 | -0.019446810 | -0.153303007 |  0.52521711 |  1.00000000 |  0.18359946 |\n",
       "| AvgIntenCh3 | -0.062484162 | -0.139352005 |  0.27340337 |  0.18359946 |  1.00000000 |\n",
       "\n"
      ],
      "text/plain": [
       "            AngleCh1     AreaCh1      AvgIntenCh1 AvgIntenCh2 AvgIntenCh3\n",
       "AngleCh1     1.000000000 -0.002627172 -0.04300776 -0.01944681 -0.06248416\n",
       "AreaCh1     -0.002627172  1.000000000 -0.02529739 -0.15330301 -0.13935200\n",
       "AvgIntenCh1 -0.043007757 -0.025297394  1.00000000  0.52521711  0.27340337\n",
       "AvgIntenCh2 -0.019446810 -0.153303007  0.52521711  1.00000000  0.18359946\n",
       "AvgIntenCh3 -0.062484162 -0.139352005  0.27340337  0.18359946  1.00000000"
      ]
     },
     "metadata": {},
     "output_type": "display_data"
    }
   ],
   "source": [
    "var(YY[,1:5])    "
   ]
  },
  {
   "cell_type": "markdown",
   "id": "d867ff6d",
   "metadata": {},
   "source": [
    "# Evaluate sample skewness statistic for each predictor using functions in the e1071 package"
   ]
  },
  {
   "cell_type": "code",
   "execution_count": 7,
   "id": "cb4cf03c",
   "metadata": {},
   "outputs": [
    {
     "data": {
      "text/html": [
       "2.20234214371746"
      ],
      "text/latex": [
       "2.20234214371746"
      ],
      "text/markdown": [
       "2.20234214371746"
      ],
      "text/plain": [
       "[1] 2.202342"
      ]
     },
     "metadata": {},
     "output_type": "display_data"
    },
    {
     "data": {
      "text/html": [
       "2.20234214371746"
      ],
      "text/latex": [
       "2.20234214371746"
      ],
      "text/markdown": [
       "2.20234214371746"
      ],
      "text/plain": [
       "[1] 2.202342"
      ]
     },
     "metadata": {},
     "output_type": "display_data"
    }
   ],
   "source": [
    "library(e1071)\n",
    "\n",
    "# inspect on predictors using the feature name\n",
    "skewness(segDataCont$AvgIntenCh3)  \n",
    "\n",
    "# inspect on predictors using the feature index\n",
    "skewness(segDataCont[,5])"
   ]
  },
  {
   "cell_type": "markdown",
   "id": "5c98afa1",
   "metadata": {},
   "source": [
    "# Compute skewness for all numeric predictors using apply function"
   ]
  },
  {
   "cell_type": "code",
   "execution_count": 8,
   "id": "4a62404a",
   "metadata": {},
   "outputs": [
    {
     "data": {
      "text/html": [
       "<style>\n",
       ".dl-inline {width: auto; margin:0; padding: 0}\n",
       ".dl-inline>dt, .dl-inline>dd {float: none; width: auto; display: inline-block}\n",
       ".dl-inline>dt::after {content: \":\\0020\"; padding-right: .5ex}\n",
       ".dl-inline>dt:not(:first-of-type) {padding-left: .5ex}\n",
       "</style><dl class=dl-inline><dt>AngleCh1</dt><dd>-0.024262516546972</dd><dt>AreaCh1</dt><dd>3.52510744966065</dd><dt>AvgIntenCh1</dt><dd>2.9591852447557</dd><dt>AvgIntenCh2</dt><dd>0.848160329578199</dd><dt>AvgIntenCh3</dt><dd>2.20234214371746</dd><dt>AvgIntenCh4</dt><dd>1.9004712817314</dd></dl>\n"
      ],
      "text/latex": [
       "\\begin{description*}\n",
       "\\item[AngleCh1] -0.024262516546972\n",
       "\\item[AreaCh1] 3.52510744966065\n",
       "\\item[AvgIntenCh1] 2.9591852447557\n",
       "\\item[AvgIntenCh2] 0.848160329578199\n",
       "\\item[AvgIntenCh3] 2.20234214371746\n",
       "\\item[AvgIntenCh4] 1.9004712817314\n",
       "\\end{description*}\n"
      ],
      "text/markdown": [
       "AngleCh1\n",
       ":   -0.024262516546972AreaCh1\n",
       ":   3.52510744966065AvgIntenCh1\n",
       ":   2.9591852447557AvgIntenCh2\n",
       ":   0.848160329578199AvgIntenCh3\n",
       ":   2.20234214371746AvgIntenCh4\n",
       ":   1.9004712817314\n",
       "\n"
      ],
      "text/plain": [
       "   AngleCh1     AreaCh1 AvgIntenCh1 AvgIntenCh2 AvgIntenCh3 AvgIntenCh4 \n",
       "-0.02426252  3.52510745  2.95918524  0.84816033  2.20234214  1.90047128 "
      ]
     },
     "metadata": {},
     "output_type": "display_data"
    }
   ],
   "source": [
    "skewValues <- apply(segDataCont, 2, skewness)\n",
    "\n",
    "## view subset\n",
    "head(skewValues)  "
   ]
  },
  {
   "cell_type": "markdown",
   "id": "a49a6503",
   "metadata": {},
   "source": [
    "# Import MASS package to determine transformation to apply to data\n",
    "\n",
    " - package contains the \"boxcox\" function that estimates lambda\n",
    " - The caret function, BoxCoxTrans finds the appropriate transformation and apply them to the data"
   ]
  },
  {
   "cell_type": "code",
   "execution_count": 9,
   "id": "d923d683",
   "metadata": {},
   "outputs": [
    {
     "name": "stderr",
     "output_type": "stream",
     "text": [
      "Loading required package: ggplot2\n",
      "\n",
      "Loading required package: lattice\n",
      "\n"
     ]
    },
    {
     "data": {
      "text/plain": [
       "Box-Cox Transformation\n",
       "\n",
       "1009 data points used to estimate Lambda\n",
       "\n",
       "Input data summary:\n",
       "   Min. 1st Qu.  Median    Mean 3rd Qu.    Max. \n",
       "   0.12   33.72   68.33   96.13  126.34  695.21 \n",
       "\n",
       "Largest/Smallest: 5790 \n",
       "Sample Skewness: 2.2 \n",
       "\n",
       "Estimated Lambda: 0.3 \n"
      ]
     },
     "metadata": {},
     "output_type": "display_data"
    }
   ],
   "source": [
    "library(caret)\n",
    "AvgIntenCh3Trans <- BoxCoxTrans(segDataCont$AvgIntenCh3) \n",
    "AvgIntenCh3Trans "
   ]
  },
  {
   "cell_type": "markdown",
   "id": "de85ec8f",
   "metadata": {},
   "source": [
    "# Compare Original and Transformed Data \n",
    "\n",
    " - Transformed data is rescaled"
   ]
  },
  {
   "cell_type": "code",
   "execution_count": 10,
   "id": "fe8dec4f",
   "metadata": {},
   "outputs": [
    {
     "data": {
      "text/html": [
       "<style>\n",
       ".list-inline {list-style: none; margin:0; padding: 0}\n",
       ".list-inline>li {display: inline-block}\n",
       ".list-inline>li:not(:last-child)::after {content: \"\\00b7\"; padding: 0 .5ex}\n",
       "</style>\n",
       "<ol class=list-inline><li>69.9168797953964</li><li>63.9417475728155</li><li>28.2175438596491</li><li>13.6</li><li>22.4615384615385</li><li>42.3216374269006</li></ol>\n"
      ],
      "text/latex": [
       "\\begin{enumerate*}\n",
       "\\item 69.9168797953964\n",
       "\\item 63.9417475728155\n",
       "\\item 28.2175438596491\n",
       "\\item 13.6\n",
       "\\item 22.4615384615385\n",
       "\\item 42.3216374269006\n",
       "\\end{enumerate*}\n"
      ],
      "text/markdown": [
       "1. 69.9168797953964\n",
       "2. 63.9417475728155\n",
       "3. 28.2175438596491\n",
       "4. 13.6\n",
       "5. 22.4615384615385\n",
       "6. 42.3216374269006\n",
       "\n",
       "\n"
      ],
      "text/plain": [
       "[1] 69.91688 63.94175 28.21754 13.60000 22.46154 42.32164"
      ]
     },
     "metadata": {},
     "output_type": "display_data"
    },
    {
     "data": {
      "text/html": [
       "2.20234214371746"
      ],
      "text/latex": [
       "2.20234214371746"
      ],
      "text/markdown": [
       "2.20234214371746"
      ],
      "text/plain": [
       "[1] 2.202342"
      ]
     },
     "metadata": {},
     "output_type": "display_data"
    }
   ],
   "source": [
    "# Original\n",
    "head(segDataCont$AvgIntenCh3)\n",
    "skewness(segDataCont$AvgIntenCh3)"
   ]
  },
  {
   "cell_type": "code",
   "execution_count": 11,
   "id": "c351af4b",
   "metadata": {},
   "outputs": [
    {
     "data": {
      "text/html": [
       "<style>\n",
       ".list-inline {list-style: none; margin:0; padding: 0}\n",
       ".list-inline>li {display: inline-block}\n",
       ".list-inline>li:not(:last-child)::after {content: \"\\00b7\"; padding: 0 .5ex}\n",
       "</style>\n",
       "<ol class=list-inline><li>8.58603819156371</li><li>8.27083702019287</li><li>5.7455933276442</li><li>3.96024107244794</li><li>5.14500210399484</li><li>6.91958466500801</li></ol>\n"
      ],
      "text/latex": [
       "\\begin{enumerate*}\n",
       "\\item 8.58603819156371\n",
       "\\item 8.27083702019287\n",
       "\\item 5.7455933276442\n",
       "\\item 3.96024107244794\n",
       "\\item 5.14500210399484\n",
       "\\item 6.91958466500801\n",
       "\\end{enumerate*}\n"
      ],
      "text/markdown": [
       "1. 8.58603819156371\n",
       "2. 8.27083702019287\n",
       "3. 5.7455933276442\n",
       "4. 3.96024107244794\n",
       "5. 5.14500210399484\n",
       "6. 6.91958466500801\n",
       "\n",
       "\n"
      ],
      "text/plain": [
       "[1] 8.586038 8.270837 5.745593 3.960241 5.145002 6.919585"
      ]
     },
     "metadata": {},
     "output_type": "display_data"
    },
    {
     "data": {
      "text/html": [
       "0.165214177542115"
      ],
      "text/latex": [
       "0.165214177542115"
      ],
      "text/markdown": [
       "0.165214177542115"
      ],
      "text/plain": [
       "[1] 0.1652142"
      ]
     },
     "metadata": {},
     "output_type": "display_data"
    }
   ],
   "source": [
    "# Transformed\n",
    "predict(AvgIntenCh3Trans, head(segDataCont$AvgIntenCh3))\n",
    "x1=predict(AvgIntenCh3Trans, segDataCont$AvgIntenCh3)\n",
    "skewness(x1)"
   ]
  },
  {
   "cell_type": "markdown",
   "id": "66e6b39c",
   "metadata": {},
   "source": [
    "# Transform entire numeric predictor dataset using the caret function preProcess\n",
    "\n",
    " - step 1: preprocess\n",
    " - step 2: transform"
   ]
  },
  {
   "cell_type": "code",
   "execution_count": 12,
   "id": "74283fc9",
   "metadata": {},
   "outputs": [
    {
     "data": {
      "text/plain": [
       "Created from 1009 samples and 47 variables\n",
       "\n",
       "Pre-processing:\n",
       "  - Box-Cox transformation (47)\n",
       "  - ignored (0)\n",
       "\n",
       "Lambda estimates for Box-Cox transformation:\n",
       "    Min.  1st Qu.   Median     Mean  3rd Qu.     Max. \n",
       "-2.00000 -0.50000 -0.10000  0.05106  0.30000  2.00000 \n"
      ]
     },
     "metadata": {},
     "output_type": "display_data"
    }
   ],
   "source": [
    "xx1 <- preProcess(segDataCont, method = c(\"BoxCox\"))\n",
    "xx1"
   ]
  },
  {
   "cell_type": "markdown",
   "id": "0c89fc93",
   "metadata": {},
   "source": [
    "# Apply the predict function"
   ]
  },
  {
   "cell_type": "code",
   "execution_count": 13,
   "id": "bac32bf7",
   "metadata": {},
   "outputs": [
    {
     "data": {
      "text/html": [
       "<table class=\"dataframe\">\n",
       "<caption>A data.frame: 5 × 20</caption>\n",
       "<thead>\n",
       "\t<tr><th></th><th scope=col>AngleCh1</th><th scope=col>AreaCh1</th><th scope=col>AvgIntenCh1</th><th scope=col>AvgIntenCh2</th><th scope=col>AvgIntenCh3</th><th scope=col>AvgIntenCh4</th><th scope=col>ConvexHullAreaRatioCh1</th><th scope=col>ConvexHullPerimRatioCh1</th><th scope=col>DiffIntenDensityCh1</th><th scope=col>DiffIntenDensityCh3</th><th scope=col>DiffIntenDensityCh4</th><th scope=col>EntropyIntenCh1</th><th scope=col>EntropyIntenCh3</th><th scope=col>EntropyIntenCh4</th><th scope=col>EqCircDiamCh1</th><th scope=col>EqEllipseLWRCh1</th><th scope=col>EqEllipseOblateVolCh1</th><th scope=col>EqEllipseProlateVolCh1</th><th scope=col>EqSphereAreaCh1</th><th scope=col>EqSphereVolCh1</th></tr>\n",
       "\t<tr><th></th><th scope=col>&lt;dbl&gt;</th><th scope=col>&lt;dbl&gt;</th><th scope=col>&lt;dbl&gt;</th><th scope=col>&lt;dbl&gt;</th><th scope=col>&lt;dbl&gt;</th><th scope=col>&lt;dbl&gt;</th><th scope=col>&lt;dbl&gt;</th><th scope=col>&lt;dbl&gt;</th><th scope=col>&lt;dbl&gt;</th><th scope=col>&lt;dbl&gt;</th><th scope=col>&lt;dbl&gt;</th><th scope=col>&lt;dbl&gt;</th><th scope=col>&lt;dbl&gt;</th><th scope=col>&lt;dbl&gt;</th><th scope=col>&lt;dbl&gt;</th><th scope=col>&lt;dbl&gt;</th><th scope=col>&lt;dbl&gt;</th><th scope=col>&lt;dbl&gt;</th><th scope=col>&lt;dbl&gt;</th><th scope=col>&lt;dbl&gt;</th></tr>\n",
       "</thead>\n",
       "<tbody>\n",
       "\t<tr><th scope=row>2</th><td>133.75204</td><td>1.108458</td><td>2.153973</td><td>205.8785</td><td>8.586038</td><td>8.868197</td><td>0.18663194</td><td>-0.18233163</td><td>1.061833</td><td>3.764040</td><td>4.373344</td><td>1.394479</td><td>21.563135</td><td>26.06026</td><td>0.5866365</td><td>0.3734672</td><td>1.957675</td><td>1.947164</td><td>1.110350</td><td>1.661949</td></tr>\n",
       "\t<tr><th scope=row>3</th><td>106.64639</td><td>1.106383</td><td>2.107163</td><td>115.3155</td><td>8.270837</td><td>7.723310</td><td>0.04933101</td><td>-0.06244331</td><td>1.062670</td><td>3.583124</td><td>3.938802</td><td>1.374548</td><td>21.831245</td><td>21.54380</td><td>0.5854789</td><td>0.2813424</td><td>1.929386</td><td>1.917186</td><td>1.109756</td><td>1.658268</td></tr>\n",
       "\t<tr><th scope=row>4</th><td> 69.15032</td><td>1.104520</td><td>1.965095</td><td>101.2947</td><td>5.745593</td><td>4.938503</td><td>0.15429196</td><td>-0.12516997</td><td>1.053378</td><td>3.131893</td><td>3.273125</td><td>1.325732</td><td>14.279026</td><td>14.21957</td><td>0.5844649</td><td>0.7794289</td><td>1.925707</td><td>1.863188</td><td>1.109222</td><td>1.654964</td></tr>\n",
       "\t<tr><th scope=row>12</th><td>109.41643</td><td>1.103554</td><td>1.951570</td><td>125.9388</td><td>3.960241</td><td>5.789944</td><td>0.07281227</td><td>-0.07637714</td><td>1.055772</td><td>2.699401</td><td>3.487287</td><td>1.321626</td><td> 8.116159</td><td>16.30028</td><td>0.5839477</td><td>0.2832323</td><td>1.895787</td><td>1.877633</td><td>1.108947</td><td>1.653258</td></tr>\n",
       "\t<tr><th scope=row>15</th><td>104.27865</td><td>1.103607</td><td>1.922613</td><td>124.3684</td><td>5.145002</td><td>6.734752</td><td>0.06791924</td><td>-0.06633998</td><td>1.055514</td><td>2.780028</td><td>3.588668</td><td>1.298765</td><td>14.549330</td><td>18.59222</td><td>0.5839772</td><td>0.3985766</td><td>1.900452</td><td>1.873451</td><td>1.108963</td><td>1.653356</td></tr>\n",
       "</tbody>\n",
       "</table>\n"
      ],
      "text/latex": [
       "A data.frame: 5 × 20\n",
       "\\begin{tabular}{r|llllllllllllllllllll}\n",
       "  & AngleCh1 & AreaCh1 & AvgIntenCh1 & AvgIntenCh2 & AvgIntenCh3 & AvgIntenCh4 & ConvexHullAreaRatioCh1 & ConvexHullPerimRatioCh1 & DiffIntenDensityCh1 & DiffIntenDensityCh3 & DiffIntenDensityCh4 & EntropyIntenCh1 & EntropyIntenCh3 & EntropyIntenCh4 & EqCircDiamCh1 & EqEllipseLWRCh1 & EqEllipseOblateVolCh1 & EqEllipseProlateVolCh1 & EqSphereAreaCh1 & EqSphereVolCh1\\\\\n",
       "  & <dbl> & <dbl> & <dbl> & <dbl> & <dbl> & <dbl> & <dbl> & <dbl> & <dbl> & <dbl> & <dbl> & <dbl> & <dbl> & <dbl> & <dbl> & <dbl> & <dbl> & <dbl> & <dbl> & <dbl>\\\\\n",
       "\\hline\n",
       "\t2 & 133.75204 & 1.108458 & 2.153973 & 205.8785 & 8.586038 & 8.868197 & 0.18663194 & -0.18233163 & 1.061833 & 3.764040 & 4.373344 & 1.394479 & 21.563135 & 26.06026 & 0.5866365 & 0.3734672 & 1.957675 & 1.947164 & 1.110350 & 1.661949\\\\\n",
       "\t3 & 106.64639 & 1.106383 & 2.107163 & 115.3155 & 8.270837 & 7.723310 & 0.04933101 & -0.06244331 & 1.062670 & 3.583124 & 3.938802 & 1.374548 & 21.831245 & 21.54380 & 0.5854789 & 0.2813424 & 1.929386 & 1.917186 & 1.109756 & 1.658268\\\\\n",
       "\t4 &  69.15032 & 1.104520 & 1.965095 & 101.2947 & 5.745593 & 4.938503 & 0.15429196 & -0.12516997 & 1.053378 & 3.131893 & 3.273125 & 1.325732 & 14.279026 & 14.21957 & 0.5844649 & 0.7794289 & 1.925707 & 1.863188 & 1.109222 & 1.654964\\\\\n",
       "\t12 & 109.41643 & 1.103554 & 1.951570 & 125.9388 & 3.960241 & 5.789944 & 0.07281227 & -0.07637714 & 1.055772 & 2.699401 & 3.487287 & 1.321626 &  8.116159 & 16.30028 & 0.5839477 & 0.2832323 & 1.895787 & 1.877633 & 1.108947 & 1.653258\\\\\n",
       "\t15 & 104.27865 & 1.103607 & 1.922613 & 124.3684 & 5.145002 & 6.734752 & 0.06791924 & -0.06633998 & 1.055514 & 2.780028 & 3.588668 & 1.298765 & 14.549330 & 18.59222 & 0.5839772 & 0.3985766 & 1.900452 & 1.873451 & 1.108963 & 1.653356\\\\\n",
       "\\end{tabular}\n"
      ],
      "text/markdown": [
       "\n",
       "A data.frame: 5 × 20\n",
       "\n",
       "| <!--/--> | AngleCh1 &lt;dbl&gt; | AreaCh1 &lt;dbl&gt; | AvgIntenCh1 &lt;dbl&gt; | AvgIntenCh2 &lt;dbl&gt; | AvgIntenCh3 &lt;dbl&gt; | AvgIntenCh4 &lt;dbl&gt; | ConvexHullAreaRatioCh1 &lt;dbl&gt; | ConvexHullPerimRatioCh1 &lt;dbl&gt; | DiffIntenDensityCh1 &lt;dbl&gt; | DiffIntenDensityCh3 &lt;dbl&gt; | DiffIntenDensityCh4 &lt;dbl&gt; | EntropyIntenCh1 &lt;dbl&gt; | EntropyIntenCh3 &lt;dbl&gt; | EntropyIntenCh4 &lt;dbl&gt; | EqCircDiamCh1 &lt;dbl&gt; | EqEllipseLWRCh1 &lt;dbl&gt; | EqEllipseOblateVolCh1 &lt;dbl&gt; | EqEllipseProlateVolCh1 &lt;dbl&gt; | EqSphereAreaCh1 &lt;dbl&gt; | EqSphereVolCh1 &lt;dbl&gt; |\n",
       "|---|---|---|---|---|---|---|---|---|---|---|---|---|---|---|---|---|---|---|---|---|\n",
       "| 2 | 133.75204 | 1.108458 | 2.153973 | 205.8785 | 8.586038 | 8.868197 | 0.18663194 | -0.18233163 | 1.061833 | 3.764040 | 4.373344 | 1.394479 | 21.563135 | 26.06026 | 0.5866365 | 0.3734672 | 1.957675 | 1.947164 | 1.110350 | 1.661949 |\n",
       "| 3 | 106.64639 | 1.106383 | 2.107163 | 115.3155 | 8.270837 | 7.723310 | 0.04933101 | -0.06244331 | 1.062670 | 3.583124 | 3.938802 | 1.374548 | 21.831245 | 21.54380 | 0.5854789 | 0.2813424 | 1.929386 | 1.917186 | 1.109756 | 1.658268 |\n",
       "| 4 |  69.15032 | 1.104520 | 1.965095 | 101.2947 | 5.745593 | 4.938503 | 0.15429196 | -0.12516997 | 1.053378 | 3.131893 | 3.273125 | 1.325732 | 14.279026 | 14.21957 | 0.5844649 | 0.7794289 | 1.925707 | 1.863188 | 1.109222 | 1.654964 |\n",
       "| 12 | 109.41643 | 1.103554 | 1.951570 | 125.9388 | 3.960241 | 5.789944 | 0.07281227 | -0.07637714 | 1.055772 | 2.699401 | 3.487287 | 1.321626 |  8.116159 | 16.30028 | 0.5839477 | 0.2832323 | 1.895787 | 1.877633 | 1.108947 | 1.653258 |\n",
       "| 15 | 104.27865 | 1.103607 | 1.922613 | 124.3684 | 5.145002 | 6.734752 | 0.06791924 | -0.06633998 | 1.055514 | 2.780028 | 3.588668 | 1.298765 | 14.549330 | 18.59222 | 0.5839772 | 0.3985766 | 1.900452 | 1.873451 | 1.108963 | 1.653356 |\n",
       "\n"
      ],
      "text/plain": [
       "   AngleCh1  AreaCh1  AvgIntenCh1 AvgIntenCh2 AvgIntenCh3 AvgIntenCh4\n",
       "2  133.75204 1.108458 2.153973    205.8785    8.586038    8.868197   \n",
       "3  106.64639 1.106383 2.107163    115.3155    8.270837    7.723310   \n",
       "4   69.15032 1.104520 1.965095    101.2947    5.745593    4.938503   \n",
       "12 109.41643 1.103554 1.951570    125.9388    3.960241    5.789944   \n",
       "15 104.27865 1.103607 1.922613    124.3684    5.145002    6.734752   \n",
       "   ConvexHullAreaRatioCh1 ConvexHullPerimRatioCh1 DiffIntenDensityCh1\n",
       "2  0.18663194             -0.18233163             1.061833           \n",
       "3  0.04933101             -0.06244331             1.062670           \n",
       "4  0.15429196             -0.12516997             1.053378           \n",
       "12 0.07281227             -0.07637714             1.055772           \n",
       "15 0.06791924             -0.06633998             1.055514           \n",
       "   DiffIntenDensityCh3 DiffIntenDensityCh4 EntropyIntenCh1 EntropyIntenCh3\n",
       "2  3.764040            4.373344            1.394479        21.563135      \n",
       "3  3.583124            3.938802            1.374548        21.831245      \n",
       "4  3.131893            3.273125            1.325732        14.279026      \n",
       "12 2.699401            3.487287            1.321626         8.116159      \n",
       "15 2.780028            3.588668            1.298765        14.549330      \n",
       "   EntropyIntenCh4 EqCircDiamCh1 EqEllipseLWRCh1 EqEllipseOblateVolCh1\n",
       "2  26.06026        0.5866365     0.3734672       1.957675             \n",
       "3  21.54380        0.5854789     0.2813424       1.929386             \n",
       "4  14.21957        0.5844649     0.7794289       1.925707             \n",
       "12 16.30028        0.5839477     0.2832323       1.895787             \n",
       "15 18.59222        0.5839772     0.3985766       1.900452             \n",
       "   EqEllipseProlateVolCh1 EqSphereAreaCh1 EqSphereVolCh1\n",
       "2  1.947164               1.110350        1.661949      \n",
       "3  1.917186               1.109756        1.658268      \n",
       "4  1.863188               1.109222        1.654964      \n",
       "12 1.877633               1.108947        1.653258      \n",
       "15 1.873451               1.108963        1.653356      "
      ]
     },
     "metadata": {},
     "output_type": "display_data"
    }
   ],
   "source": [
    "transformed <- predict(xx1, segDataCont)\n",
    "# view a subset\n",
    "transformed[1:5, 1:20]"
   ]
  },
  {
   "cell_type": "markdown",
   "id": "5560481a",
   "metadata": {},
   "source": [
    "<hr style=\"border-top: 5px solid black;\">"
   ]
  }
 ],
 "metadata": {
  "kernelspec": {
   "display_name": "R",
   "language": "R",
   "name": "ir"
  },
  "language_info": {
   "codemirror_mode": "r",
   "file_extension": ".r",
   "mimetype": "text/x-r-source",
   "name": "R",
   "pygments_lexer": "r",
   "version": "4.1.1"
  }
 },
 "nbformat": 4,
 "nbformat_minor": 5
}

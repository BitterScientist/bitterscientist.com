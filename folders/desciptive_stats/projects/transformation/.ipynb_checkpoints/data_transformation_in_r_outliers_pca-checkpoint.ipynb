{
 "cells": [
  {
   "cell_type": "markdown",
   "id": "181952c9",
   "metadata": {},
   "source": [
    "<hr style=\"border-top: 5px solid black;\">"
   ]
  },
  {
   "cell_type": "markdown",
   "id": "fc12f221",
   "metadata": {},
   "source": [
    "<h2 style=\"color:blue;\">Keywords: R programming, caret Package, Box and Cox, Outliers, Data Reduction, Feature Extraction</h2>"
   ]
  },
  {
   "cell_type": "markdown",
   "id": "a10189d6",
   "metadata": {},
   "source": [
    "<hr style=\"border-top: 5px solid black;\">"
   ]
  },
  {
   "cell_type": "markdown",
   "id": "ac73fefc",
   "metadata": {},
   "source": [
    "<div class=\"alert alert-block alert-info\" style=\"font-size:20px; border:1px solid black; padding:10px\">\n",
    "<center><h1>Post Goals:</h1></center><br>\n",
    "    <hr style=\"border-top: 2px dashed black;\"><br>\n",
    "    <p style=\"font-size:22px;\">\n",
    "        Demonstrate how to transform predictor variables using the <a href=\"https://cran.r-project.org/web/packages/caret/vignettes/caret.html\">caret</a> library (and a few others) to resolve outliers, reduce data and extract features.\n",
    "    </p><br><br>\n",
    "</div>"
   ]
  },
  {
   "cell_type": "markdown",
   "id": "4c00ecf0",
   "metadata": {},
   "source": [
    "<hr style=\"border-top: 5px solid black;\">"
   ]
  },
  {
   "cell_type": "markdown",
   "id": "2b605ad5",
   "metadata": {},
   "source": [
    "<div class=\"alert alert-block alert-success\" style=\"font-size:20px; border:1px solid black; padding:10px\">\n",
    "<center><h1>Post Outline:</h1></center>\n",
    "    <hr style=\"border-top: 2px dashed black;\">\n",
    "    <ol>\n",
    "        <li><a href=\"#objective1\">The Importance of Data Transform.</a></li><br>\n",
    "        <li><a href=\"#objective2\">Resolve Outliers.</a></li><br>\n",
    "        <li><a href=\"#objective3\">Data Reduction and Feature Extraction.</a></li><br>\n",
    "<!--         <li><a href=\"#objective4\">z-test on a population proportion.</a></li><br> -->\n",
    "    </ol>\n",
    "</div>"
   ]
  },
  {
   "cell_type": "markdown",
   "id": "018d4f78",
   "metadata": {},
   "source": [
    "<hr style=\"border-top: 5px solid black;\">"
   ]
  },
  {
   "cell_type": "markdown",
   "id": "fcf6b5c5",
   "metadata": {},
   "source": [
    "<div id=\"objective1\" class=\"alert alert-block alert-warning\" style=\"font-size:16px; border:1px solid black; padding:10px\"><center><h1><br><font color=\"blue\">The Importance of Data Transform.</font></h1></center><br>\n",
    "</div>\n",
    "<div style=\"font-size:16px; border:1px solid black; padding:10px\">\n",
    "    <ul><strong><u>The basics</u></strong>\n",
    "        <li>Data transformation is generally performed to variable(s) that do not fit a normal a normal distribution or has a standard deviation that is greatly different from other groups in the dataset.</li><br>\n",
    "        <li>Data transformation is the process of changing the structure, format, and values of data using some mathematical operations that is applied to data.</li><br>\n",
    "        <li>There are several types of transformations that can be performed, such as \n",
    "            <ul>\n",
    "                <li>Centering data</li>\n",
    "                <li>Scaling data</li>\n",
    "                <li>Log Transformation</li>\n",
    "                <li>Square-Root Transformation</li>\n",
    "                <li>Reciprocal Transformation</li>\n",
    "                <li>Box-Cox Transformation</li>                \n",
    "                <li>Spatial sign transformation</li>                                \n",
    "            </ul>\n",
    "        </li><br>\n",
    "        <li>This post will focus on Spatial sign transformation and data reduction using the caret, corrplot, e1071, lattice and AppliedPredictiveModeling packages.</li><br>\n",
    "    </ul>\n",
    "<hr style=\"border-top: 2px solid black;\">\n",
    "    <ul><strong><u>The caret package</u></strong>\n",
    "        <li>The caret package contains a set of functions used in the complex regression and classification model training problems.</li><br>\n",
    "        <li>caret stands for Classification and REgression Training</li><br>\n",
    "        <li>caret package utilizes up to 32 packages but only loads packages as needed, or prompts the user to install it</li><br>\n",
    "        <li>The main package tools include:\n",
    "            <ul>\n",
    "                <li>Data Splitting</li>\n",
    "                <li>Pre-Processing</li>\n",
    "                <li>Feature Selection</li>\n",
    "                <li>Model Tuning Using Resampling</li>\n",
    "                <li>Variable Importance Estimation</li>\n",
    "            </ul>\n",
    "        </li><br>\n",
    "        <li>One of the primary tools is the <code>train</code> function that is used to\n",
    "            <ul>\n",
    "                <li>Evaluates the effect of model tuning parameters on the performance by using resampling.</li>\n",
    "                <li>Chooses the optional model across the parameters.</li>\n",
    "                <li>Provides model performance estimates from the training set.</li>\n",
    "            </ul>\n",
    "        </li><br>\n",
    "        <li>caret is powerful package as almost every step of the process can be customized.</li><br>\n",
    "    </ul>\n",
    "</div>"
   ]
  },
  {
   "cell_type": "markdown",
   "id": "bb88474c",
   "metadata": {},
   "source": [
    "<hr style=\"border-top: 5px solid black;\">"
   ]
  },
  {
   "cell_type": "markdown",
   "id": "8adf0be6",
   "metadata": {},
   "source": [
    "<div id=\"objective2\" class=\"alert alert-block alert-warning\" style=\"font-size:16px; border:1px solid black; padding:10px\"><center><h1><br><font color=\"blue\">Resolve Outliers.</font></h1></center><br>\n",
    "</div>\n",
    "<div style=\"font-size:16px; border:1px solid black; padding:10px\">\n",
    "    <ul><strong><u></u></strong>\n",
    "        <li>Outliers are data points that are several deviations from the mean of the dataset and can significantly influence the performance of a statistical model.</li><br>\n",
    "        <li>Outliers should first be evaluated to confirm they are not recording errors.</li><br>\n",
    "        <li>Outliers should not be removed carelessly especially if the sample size is small.</li><br>\n",
    "        <li>Some statistical models are resistant to outliers but linear regression models are sensitive to outliers.</li><br>\n",
    "        <li>Spatial sign transformation on data can help reduce the effect of outliers.</li><br>\n",
    "        <li>The first step in spatial sign transformation is to center and scale each predictor variable.</li><br>\n",
    "        <li>The second step is to divide each row by its norm using the following formula <br><br>\n",
    "        \\[X_{ij} = \\frac{x_{ij}}{\\sqrt{\\Sigma^{P}_{j=1}x^{2}_{ij}}} \\]\n",
    "        </li><br>\n",
    "    </ul>   \n",
    "</div>"
   ]
  },
  {
   "cell_type": "markdown",
   "id": "22c40ed3",
   "metadata": {},
   "source": [
    "<hr style=\"border-top: 5px solid black;\">"
   ]
  },
  {
   "cell_type": "markdown",
   "id": "e2d8fc6b",
   "metadata": {},
   "source": [
    "<div id=\"objective3\" class=\"alert alert-block alert-warning\" style=\"font-size:16px; border:1px solid black; padding:10px\"><center><h1><br><font color=\"blue\">Data Reduction and Feature Selection</font></h1></center><br>\n",
    "</div>\n",
    "<div style=\"font-size:16px; border:1px solid black; padding:10px\">\n",
    "    <ul><strong><u>Data Reduction</u></strong>\n",
    "        <li>The process of data reduction is to reduce the number of features in the dataset so that only those features that capture the majority of information in the original dataset is maintained.</li><br>\n",
    "        <li>Principal component analysis (PCA) is a common data reduction technique.</li><br>\n",
    "        <li>Principal components are linear combination of predictors that captures most of the variance.</li><br>\n",
    "        <li>PC is mathematically. written as \\[PC_j = (a_{ij} * Predictor 1) + ... + (a_{ip} * Predictor P) \\]</li><br>\n",
    "        <li>P is the number of predictors</li><br>\n",
    "        <li>\\(a_{j1}, a_{ji+1}, ... , a_{jp}\\) are called component weights that help explain the most important predictors for each PC</li><br>\n",
    "        <li>The primary advantage of PCA is that is creates components that are not correlated.</li><br>\n",
    "        <li>The first step for PCA involves transformation of skewed predictors, then center and scaling the predictors.</li><br>\n",
    "        <li>The second step is to decide how many components to retain in the PCA.</li><br>       \n",
    "    </ul>\n",
    "    <hr style=\"border-top: 2px solid black;\">\n",
    "    <ul><strong><u>Feature (Component) Selection for PCA</u></strong>\n",
    "        <li>A heuristic approach is used to decide on the number of components to retain.</li><br>\n",
    "        <li>A screen (or elbow) plot is generally used to help with the decision making.</li><br>\n",
    "        <li>The plot contains the ordered component number on the x-axis and the amount of the summarized variability on the y-axis.  The elbow is the point where the number of components tapering off in variability is retained.</li><br>\n",
    "        <li>There are automated model building processes that determine the optimal components using cross-validation.</li><br>\n",
    "        <li>Visual plots are also used to examine the PCs.</li><br>\n",
    "        <li>PCA also help characterize which components are highly associated.  Loadings close to zero indicate the feature does not contribute much to the component.</li><br>\n",
    "    </ul>    \n",
    "</div>"
   ]
  },
  {
   "cell_type": "markdown",
   "id": "ef04ef8b",
   "metadata": {},
   "source": [
    "<hr style=\"border-top: 5px solid black;\">"
   ]
  },
  {
   "cell_type": "markdown",
   "id": "dfdc4d39",
   "metadata": {},
   "source": [
    "# Install packages and Load AppliedPredictiveModeling\n",
    "\n",
    " - AppliedPredictiveModeling is a package that contains various datasets commonly used for training purposes."
   ]
  },
  {
   "cell_type": "code",
   "execution_count": 1,
   "id": "c966d680",
   "metadata": {},
   "outputs": [
    {
     "name": "stdout",
     "output_type": "stream",
     "text": [
      "\n",
      "The downloaded binary packages are in\n",
      "\t/var/folders/0d/xqmptt6x035b25m88r2ffc9m0000gn/T//RtmpvDenkR/downloaded_packages\n"
     ]
    },
    {
     "data": {
      "text/html": [
       "<style>\n",
       ".list-inline {list-style: none; margin:0; padding: 0}\n",
       ".list-inline>li {display: inline-block}\n",
       ".list-inline>li:not(:last-child)::after {content: \"\\00b7\"; padding: 0 .5ex}\n",
       "</style>\n",
       "<ol class=list-inline><li>207932307</li><li>207932463</li><li>207932470</li><li>207932484</li><li>207932459</li></ol>\n"
      ],
      "text/latex": [
       "\\begin{enumerate*}\n",
       "\\item 207932307\n",
       "\\item 207932463\n",
       "\\item 207932470\n",
       "\\item 207932484\n",
       "\\item 207932459\n",
       "\\end{enumerate*}\n"
      ],
      "text/markdown": [
       "1. 207932307\n",
       "2. 207932463\n",
       "3. 207932470\n",
       "4. 207932484\n",
       "5. 207932459\n",
       "\n",
       "\n"
      ],
      "text/plain": [
       "[1] 207932307 207932463 207932470 207932484 207932459"
      ]
     },
     "metadata": {},
     "output_type": "display_data"
    },
    {
     "data": {
      "text/html": [
       "<style>\n",
       ".list-inline {list-style: none; margin:0; padding: 0}\n",
       ".list-inline>li {display: inline-block}\n",
       ".list-inline>li:not(:last-child)::after {content: \"\\00b7\"; padding: 0 .5ex}\n",
       "</style>\n",
       "<ol class=list-inline><li>PS</li><li>WS</li><li>PS</li><li>WS</li><li>PS</li></ol>\n",
       "\n",
       "<details>\n",
       "\t<summary style=display:list-item;cursor:pointer>\n",
       "\t\t<strong>Levels</strong>:\n",
       "\t</summary>\n",
       "\t<style>\n",
       "\t.list-inline {list-style: none; margin:0; padding: 0}\n",
       "\t.list-inline>li {display: inline-block}\n",
       "\t.list-inline>li:not(:last-child)::after {content: \"\\00b7\"; padding: 0 .5ex}\n",
       "\t</style>\n",
       "\t<ol class=list-inline><li>'PS'</li><li>'WS'</li></ol>\n",
       "</details>"
      ],
      "text/latex": [
       "\\begin{enumerate*}\n",
       "\\item PS\n",
       "\\item WS\n",
       "\\item PS\n",
       "\\item WS\n",
       "\\item PS\n",
       "\\end{enumerate*}\n",
       "\n",
       "\\emph{Levels}: \\begin{enumerate*}\n",
       "\\item 'PS'\n",
       "\\item 'WS'\n",
       "\\end{enumerate*}\n"
      ],
      "text/markdown": [
       "1. PS\n",
       "2. WS\n",
       "3. PS\n",
       "4. WS\n",
       "5. PS\n",
       "\n",
       "\n",
       "\n",
       "**Levels**: 1. 'PS'\n",
       "2. 'WS'\n",
       "\n",
       "\n"
      ],
      "text/plain": [
       "[1] PS WS PS WS PS\n",
       "Levels: PS WS"
      ]
     },
     "metadata": {},
     "output_type": "display_data"
    },
    {
     "data": {
      "text/html": [
       "<style>\n",
       ".list-inline {list-style: none; margin:0; padding: 0}\n",
       ".list-inline>li {display: inline-block}\n",
       ".list-inline>li:not(:last-child)::after {content: \"\\00b7\"; padding: 0 .5ex}\n",
       "</style>\n",
       "<ol class=list-inline><li>Train</li><li>Train</li><li>Train</li><li>Train</li><li>Train</li></ol>\n",
       "\n",
       "<details>\n",
       "\t<summary style=display:list-item;cursor:pointer>\n",
       "\t\t<strong>Levels</strong>:\n",
       "\t</summary>\n",
       "\t<style>\n",
       "\t.list-inline {list-style: none; margin:0; padding: 0}\n",
       "\t.list-inline>li {display: inline-block}\n",
       "\t.list-inline>li:not(:last-child)::after {content: \"\\00b7\"; padding: 0 .5ex}\n",
       "\t</style>\n",
       "\t<ol class=list-inline><li>'Test'</li><li>'Train'</li></ol>\n",
       "</details>"
      ],
      "text/latex": [
       "\\begin{enumerate*}\n",
       "\\item Train\n",
       "\\item Train\n",
       "\\item Train\n",
       "\\item Train\n",
       "\\item Train\n",
       "\\end{enumerate*}\n",
       "\n",
       "\\emph{Levels}: \\begin{enumerate*}\n",
       "\\item 'Test'\n",
       "\\item 'Train'\n",
       "\\end{enumerate*}\n"
      ],
      "text/markdown": [
       "1. Train\n",
       "2. Train\n",
       "3. Train\n",
       "4. Train\n",
       "5. Train\n",
       "\n",
       "\n",
       "\n",
       "**Levels**: 1. 'Test'\n",
       "2. 'Train'\n",
       "\n",
       "\n"
      ],
      "text/plain": [
       "[1] Train Train Train Train Train\n",
       "Levels: Test Train"
      ]
     },
     "metadata": {},
     "output_type": "display_data"
    },
    {
     "data": {
      "text/html": [
       "58"
      ],
      "text/latex": [
       "58"
      ],
      "text/markdown": [
       "58"
      ],
      "text/plain": [
       "[1] 58"
      ]
     },
     "metadata": {},
     "output_type": "display_data"
    },
    {
     "name": "stderr",
     "output_type": "stream",
     "text": [
      "Loading required package: ggplot2\n",
      "\n",
      "Loading required package: lattice\n",
      "\n"
     ]
    },
    {
     "data": {
      "text/html": [
       "<style>\n",
       ".list-inline {list-style: none; margin:0; padding: 0}\n",
       ".list-inline>li {display: inline-block}\n",
       ".list-inline>li:not(:last-child)::after {content: \"\\00b7\"; padding: 0 .5ex}\n",
       "</style>\n",
       "<ol class=list-inline><li>8.58603819156371</li><li>8.27083702019287</li><li>5.7455933276442</li><li>3.96024107244794</li><li>5.14500210399484</li><li>6.91958466500801</li></ol>\n"
      ],
      "text/latex": [
       "\\begin{enumerate*}\n",
       "\\item 8.58603819156371\n",
       "\\item 8.27083702019287\n",
       "\\item 5.7455933276442\n",
       "\\item 3.96024107244794\n",
       "\\item 5.14500210399484\n",
       "\\item 6.91958466500801\n",
       "\\end{enumerate*}\n"
      ],
      "text/markdown": [
       "1. 8.58603819156371\n",
       "2. 8.27083702019287\n",
       "3. 5.7455933276442\n",
       "4. 3.96024107244794\n",
       "5. 5.14500210399484\n",
       "6. 6.91958466500801\n",
       "\n",
       "\n"
      ],
      "text/plain": [
       "[1] 8.586038 8.270837 5.745593 3.960241 5.145002 6.919585"
      ]
     },
     "metadata": {},
     "output_type": "display_data"
    },
    {
     "data": {
      "text/html": [
       "0.165214177542115"
      ],
      "text/latex": [
       "0.165214177542115"
      ],
      "text/markdown": [
       "0.165214177542115"
      ],
      "text/plain": [
       "[1] 0.1652142"
      ]
     },
     "metadata": {},
     "output_type": "display_data"
    }
   ],
   "source": [
    "# install packages\n",
    "install.packages(c(\"caret\", \"corrplot\", \"e1071\", \"lattice\", \"AppliedPredictiveModeling\"))\n",
    "# Load the library\n",
    "library(AppliedPredictiveModeling)\n",
    "\n",
    "# Load and inspect the segmented data and print out the dimensions, 2019 rows, and 199 columns\n",
    "data(segmentationOriginal) \n",
    "\n",
    "# segment data for training set\n",
    "segData <- subset(segmentationOriginal, Case == \"Train\") \n",
    "\n",
    "# save class, cell and case into separate vectors\n",
    "cellID <- segData$Cell;cellID[0:5]\n",
    "class <- segData$Class;class[0:5]\n",
    "case <- segData$Case;case[0:5]\n",
    "\n",
    "# Now remove the columns\n",
    "segData <- segData[, -(1:3)]\n",
    "statusColNum <- grep(\"Status\", names(segData))   \n",
    "\n",
    "# count number of columns that need to be removed\n",
    "length(statusColNum) \n",
    "segDataCont <- segData[, -statusColNum]\n",
    "\n",
    "# transform data using center, scaling on predictor variables\n",
    "YY = scale(segDataCont)\n",
    "\n",
    "# Evaluate sample skewness statistic for each predictor using functions in the e1071 package\n",
    "library(e1071)  \n",
    "\n",
    "# Compute skewness for all numeric predictors using apply function\n",
    "skewValues <- apply(segDataCont, 2, skewness)\n",
    "\n",
    "# Import MASS package to determine transformation to apply to data\n",
    "library(caret)\n",
    "AvgIntenCh3Trans <- BoxCoxTrans(segDataCont$AvgIntenCh3)  \n",
    "\n",
    "# Transformed\n",
    "predict(AvgIntenCh3Trans, head(segDataCont$AvgIntenCh3))\n",
    "x1=predict(AvgIntenCh3Trans, segDataCont$AvgIntenCh3)\n",
    "skewness(x1)\n",
    "\n",
    "# Transform entire numeric predictor dataset using the caret function preProcess\n",
    "xx1 <- preProcess(segDataCont, method = c(\"BoxCox\"))\n",
    "\n",
    "# Apply the transformations:\n",
    "transformed <- predict(xx1, segDataCont)"
   ]
  },
  {
   "cell_type": "markdown",
   "id": "0c89fc93",
   "metadata": {},
   "source": [
    "# Apply spatialSign funciton from Caret on data\n",
    " \n",
    " - data must be centered and scaled before applying function"
   ]
  },
  {
   "cell_type": "code",
   "execution_count": 2,
   "id": "b7667992",
   "metadata": {},
   "outputs": [],
   "source": [
    "pcaObject <- prcomp(segDataCont, center = TRUE, scale. = TRUE)"
   ]
  },
  {
   "cell_type": "markdown",
   "id": "cae1c4fb",
   "metadata": {},
   "source": [
    "# Calculate the cumulative percentage of variance which each component\n",
    "\n",
    " - first calculate the percent variance\n",
    " - then the cumulative percent variance"
   ]
  },
  {
   "cell_type": "code",
   "execution_count": 3,
   "id": "faaae3b2",
   "metadata": {},
   "outputs": [
    {
     "data": {
      "text/html": [
       "<style>\n",
       ".list-inline {list-style: none; margin:0; padding: 0}\n",
       ".list-inline>li {display: inline-block}\n",
       ".list-inline>li:not(:last-child)::after {content: \"\\00b7\"; padding: 0 .5ex}\n",
       "</style>\n",
       "<ol class=list-inline><li>20.9123592789234</li><li>37.9256596415082</li><li>49.8125512324432</li><li>57.52779445954</li><li>62.4854920479996</li><li>66.6062867655832</li><li>69.9698185887581</li><li>73.2474178091744</li><li>76.1096403894443</li><li>78.6423337608553</li><li>80.6423195020227</li><li>82.5273792525461</li><li>84.3908132300339</li><li>86.0594330775297</li><li>87.555239543819</li><li>88.978204588241</li><li>90.3000575709419</li><li>91.5268546412942</li><li>92.5313526248516</li><li>93.5011103903527</li></ol>\n"
      ],
      "text/latex": [
       "\\begin{enumerate*}\n",
       "\\item 20.9123592789234\n",
       "\\item 37.9256596415082\n",
       "\\item 49.8125512324432\n",
       "\\item 57.52779445954\n",
       "\\item 62.4854920479996\n",
       "\\item 66.6062867655832\n",
       "\\item 69.9698185887581\n",
       "\\item 73.2474178091744\n",
       "\\item 76.1096403894443\n",
       "\\item 78.6423337608553\n",
       "\\item 80.6423195020227\n",
       "\\item 82.5273792525461\n",
       "\\item 84.3908132300339\n",
       "\\item 86.0594330775297\n",
       "\\item 87.555239543819\n",
       "\\item 88.978204588241\n",
       "\\item 90.3000575709419\n",
       "\\item 91.5268546412942\n",
       "\\item 92.5313526248516\n",
       "\\item 93.5011103903527\n",
       "\\end{enumerate*}\n"
      ],
      "text/markdown": [
       "1. 20.9123592789234\n",
       "2. 37.9256596415082\n",
       "3. 49.8125512324432\n",
       "4. 57.52779445954\n",
       "5. 62.4854920479996\n",
       "6. 66.6062867655832\n",
       "7. 69.9698185887581\n",
       "8. 73.2474178091744\n",
       "9. 76.1096403894443\n",
       "10. 78.6423337608553\n",
       "11. 80.6423195020227\n",
       "12. 82.5273792525461\n",
       "13. 84.3908132300339\n",
       "14. 86.0594330775297\n",
       "15. 87.555239543819\n",
       "16. 88.978204588241\n",
       "17. 90.3000575709419\n",
       "18. 91.5268546412942\n",
       "19. 92.5313526248516\n",
       "20. 93.5011103903527\n",
       "\n",
       "\n"
      ],
      "text/plain": [
       " [1] 20.91236 37.92566 49.81255 57.52779 62.48549 66.60629 69.96982 73.24742\n",
       " [9] 76.10964 78.64233 80.64232 82.52738 84.39081 86.05943 87.55524 88.97820\n",
       "[17] 90.30006 91.52685 92.53135 93.50111"
      ]
     },
     "metadata": {},
     "output_type": "display_data"
    }
   ],
   "source": [
    "percentVariance <- pcaObject$sd^2/sum(pcaObject$sd^2)*100\n",
    "cumpercentVariance <- cumsum(pcaObject$sd^2)/sum(pcaObject$sd^2)*100\n",
    "# view some of the cumulative percent variance\n",
    "cumpercentVariance[1:20]"
   ]
  },
  {
   "cell_type": "markdown",
   "id": "44aaab09",
   "metadata": {},
   "source": [
    "## View the variable loadings, which can be viewed as rows that correspond to predictor variables and columns that are associated with the components.\n",
    "\n",
    " -  Information found in sub-object called rotation "
   ]
  },
  {
   "cell_type": "code",
   "execution_count": 4,
   "id": "a0fdd98a",
   "metadata": {},
   "outputs": [
    {
     "data": {
      "text/html": [
       "<table class=\"dataframe\">\n",
       "<caption>A matrix: 6 × 5 of type dbl</caption>\n",
       "<thead>\n",
       "\t<tr><th></th><th scope=col>PC1</th><th scope=col>PC2</th><th scope=col>PC3</th><th scope=col>PC4</th><th scope=col>PC5</th></tr>\n",
       "</thead>\n",
       "<tbody>\n",
       "\t<tr><th scope=row>AngleCh1</th><td> 0.001213758</td><td>-0.01284461</td><td> 0.006816473</td><td>-0.02755720</td><td> 0.02523673</td></tr>\n",
       "\t<tr><th scope=row>AreaCh1</th><td> 0.229171873</td><td> 0.16061734</td><td> 0.089811727</td><td>-0.05523062</td><td> 0.05273468</td></tr>\n",
       "\t<tr><th scope=row>AvgIntenCh1</th><td>-0.102708778</td><td> 0.17971332</td><td> 0.067696745</td><td> 0.18675619</td><td> 0.02401245</td></tr>\n",
       "\t<tr><th scope=row>AvgIntenCh2</th><td>-0.154828672</td><td> 0.16376018</td><td> 0.073534399</td><td> 0.04145772</td><td> 0.07839174</td></tr>\n",
       "\t<tr><th scope=row>AvgIntenCh3</th><td>-0.058042158</td><td> 0.11197704</td><td>-0.185473286</td><td> 0.28291291</td><td>-0.07822440</td></tr>\n",
       "\t<tr><th scope=row>AvgIntenCh4</th><td>-0.117343465</td><td> 0.21039086</td><td>-0.105060977</td><td> 0.01116373</td><td> 0.04990515</td></tr>\n",
       "</tbody>\n",
       "</table>\n"
      ],
      "text/latex": [
       "A matrix: 6 × 5 of type dbl\n",
       "\\begin{tabular}{r|lllll}\n",
       "  & PC1 & PC2 & PC3 & PC4 & PC5\\\\\n",
       "\\hline\n",
       "\tAngleCh1 &  0.001213758 & -0.01284461 &  0.006816473 & -0.02755720 &  0.02523673\\\\\n",
       "\tAreaCh1 &  0.229171873 &  0.16061734 &  0.089811727 & -0.05523062 &  0.05273468\\\\\n",
       "\tAvgIntenCh1 & -0.102708778 &  0.17971332 &  0.067696745 &  0.18675619 &  0.02401245\\\\\n",
       "\tAvgIntenCh2 & -0.154828672 &  0.16376018 &  0.073534399 &  0.04145772 &  0.07839174\\\\\n",
       "\tAvgIntenCh3 & -0.058042158 &  0.11197704 & -0.185473286 &  0.28291291 & -0.07822440\\\\\n",
       "\tAvgIntenCh4 & -0.117343465 &  0.21039086 & -0.105060977 &  0.01116373 &  0.04990515\\\\\n",
       "\\end{tabular}\n"
      ],
      "text/markdown": [
       "\n",
       "A matrix: 6 × 5 of type dbl\n",
       "\n",
       "| <!--/--> | PC1 | PC2 | PC3 | PC4 | PC5 |\n",
       "|---|---|---|---|---|---|\n",
       "| AngleCh1 |  0.001213758 | -0.01284461 |  0.006816473 | -0.02755720 |  0.02523673 |\n",
       "| AreaCh1 |  0.229171873 |  0.16061734 |  0.089811727 | -0.05523062 |  0.05273468 |\n",
       "| AvgIntenCh1 | -0.102708778 |  0.17971332 |  0.067696745 |  0.18675619 |  0.02401245 |\n",
       "| AvgIntenCh2 | -0.154828672 |  0.16376018 |  0.073534399 |  0.04145772 |  0.07839174 |\n",
       "| AvgIntenCh3 | -0.058042158 |  0.11197704 | -0.185473286 |  0.28291291 | -0.07822440 |\n",
       "| AvgIntenCh4 | -0.117343465 |  0.21039086 | -0.105060977 |  0.01116373 |  0.04990515 |\n",
       "\n"
      ],
      "text/plain": [
       "            PC1          PC2         PC3          PC4         PC5        \n",
       "AngleCh1     0.001213758 -0.01284461  0.006816473 -0.02755720  0.02523673\n",
       "AreaCh1      0.229171873  0.16061734  0.089811727 -0.05523062  0.05273468\n",
       "AvgIntenCh1 -0.102708778  0.17971332  0.067696745  0.18675619  0.02401245\n",
       "AvgIntenCh2 -0.154828672  0.16376018  0.073534399  0.04145772  0.07839174\n",
       "AvgIntenCh3 -0.058042158  0.11197704 -0.185473286  0.28291291 -0.07822440\n",
       "AvgIntenCh4 -0.117343465  0.21039086 -0.105060977  0.01116373  0.04990515"
      ]
     },
     "metadata": {},
     "output_type": "display_data"
    }
   ],
   "source": [
    "head(pcaObject$rotation[, 1:5])"
   ]
  },
  {
   "cell_type": "markdown",
   "id": "f00f99f3",
   "metadata": {},
   "source": [
    "## Use the caret class preProcess, which can transform, center, scale, or impute values \n",
    "\n",
    " - preProccess can also apply the spatial sign transformation and feature extraction. \n",
    " - The function calculates the required quantities for the transformation and applies a set of methods to the data in the order specified"
   ]
  },
  {
   "cell_type": "code",
   "execution_count": 5,
   "id": "f522a8c5",
   "metadata": {},
   "outputs": [
    {
     "data": {
      "text/plain": [
       "Created from 1009 samples and 58 variables\n",
       "\n",
       "Pre-processing:\n",
       "  - Box-Cox transformation (47)\n",
       "  - centered (58)\n",
       "  - ignored (0)\n",
       "  - principal component signal extraction (58)\n",
       "  - scaled (58)\n",
       "\n",
       "Lambda estimates for Box-Cox transformation:\n",
       "    Min.  1st Qu.   Median     Mean  3rd Qu.     Max. \n",
       "-2.00000 -0.50000 -0.10000  0.05106  0.30000  2.00000 \n",
       "\n",
       "PCA needed 19 components to capture 95 percent of the variance"
      ]
     },
     "metadata": {},
     "output_type": "display_data"
    }
   ],
   "source": [
    "trans <- preProcess(segDataCont, method = c(\"BoxCox\", \"center\", \"scale\", \"pca\"))\n",
    "trans"
   ]
  },
  {
   "cell_type": "markdown",
   "id": "2b8b66fe",
   "metadata": {},
   "source": [
    "# Apply the transformations to data"
   ]
  },
  {
   "cell_type": "code",
   "execution_count": 6,
   "id": "7c4e87ee",
   "metadata": {},
   "outputs": [
    {
     "data": {
      "text/html": [
       "<style>\n",
       ".list-inline {list-style: none; margin:0; padding: 0}\n",
       ".list-inline>li {display: inline-block}\n",
       ".list-inline>li:not(:last-child)::after {content: \"\\00b7\"; padding: 0 .5ex}\n",
       "</style>\n",
       "<ol class=list-inline><li>1009</li><li>58</li></ol>\n"
      ],
      "text/latex": [
       "\\begin{enumerate*}\n",
       "\\item 1009\n",
       "\\item 58\n",
       "\\end{enumerate*}\n"
      ],
      "text/markdown": [
       "1. 1009\n",
       "2. 58\n",
       "\n",
       "\n"
      ],
      "text/plain": [
       "[1] 1009   58"
      ]
     },
     "metadata": {},
     "output_type": "display_data"
    },
    {
     "data": {
      "text/html": [
       "<style>\n",
       ".list-inline {list-style: none; margin:0; padding: 0}\n",
       ".list-inline>li {display: inline-block}\n",
       ".list-inline>li:not(:last-child)::after {content: \"\\00b7\"; padding: 0 .5ex}\n",
       "</style>\n",
       "<ol class=list-inline><li>1009</li><li>19</li></ol>\n"
      ],
      "text/latex": [
       "\\begin{enumerate*}\n",
       "\\item 1009\n",
       "\\item 19\n",
       "\\end{enumerate*}\n"
      ],
      "text/markdown": [
       "1. 1009\n",
       "2. 19\n",
       "\n",
       "\n"
      ],
      "text/plain": [
       "[1] 1009   19"
      ]
     },
     "metadata": {},
     "output_type": "display_data"
    }
   ],
   "source": [
    "transformed <- predict(trans, segDataCont)\n",
    "dim(segDataCont)\n",
    "dim(transformed)"
   ]
  },
  {
   "cell_type": "markdown",
   "id": "5560481a",
   "metadata": {},
   "source": [
    "<hr style=\"border-top: 5px solid black;\">"
   ]
  }
 ],
 "metadata": {
  "kernelspec": {
   "display_name": "R",
   "language": "R",
   "name": "ir"
  },
  "language_info": {
   "codemirror_mode": "r",
   "file_extension": ".r",
   "mimetype": "text/x-r-source",
   "name": "R",
   "pygments_lexer": "r",
   "version": "4.1.1"
  }
 },
 "nbformat": 4,
 "nbformat_minor": 5
}

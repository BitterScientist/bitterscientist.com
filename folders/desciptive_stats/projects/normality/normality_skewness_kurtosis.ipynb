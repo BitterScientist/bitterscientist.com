{
 "cells": [
  {
   "cell_type": "code",
   "execution_count": 1,
   "metadata": {},
   "outputs": [],
   "source": [
    "%%javascript\n",
    "IPython.OutputArea.prototype._should_scroll = function(lines) {\n",
    "    return false;\n",
    "}"
   ]
  },
  {
   "cell_type": "code",
   "execution_count": 2,
   "metadata": {},
   "outputs": [],
   "source": [
    "# to load images for this tutorial\n",
    "from IPython.display import Image\n",
    "import os\n",
    "path = os.getcwd()"
   ]
  },
  {
   "cell_type": "markdown",
   "metadata": {},
   "source": [
    "<hr style=\"border-top: 5px solid black;\">"
   ]
  },
  {
   "cell_type": "markdown",
   "metadata": {},
   "source": [
    "<div class=\"alert alert-block alert-info\" style=\"font-size:20px; border:1px solid black; padding:10px\">\n",
    "<center><h1>Post Goals:</h1></center>\n",
    "    <ol>\n",
    "        <li>Provide an Introduction to Testing for Normality.</li><br>\n",
    "        <li>Demonstrate how to test for Normality for <strong><u>None or One Independent Variable</u></strong> Using SPSS, Skewness, Kurtosis, and Z-scores.</li><br>\n",
    "    </ol>\n",
    "</div>"
   ]
  },
  {
   "cell_type": "markdown",
   "metadata": {},
   "source": [
    "<hr style=\"border-top: 5px solid black;\">"
   ]
  },
  {
   "cell_type": "markdown",
   "metadata": {},
   "source": [
    "<div style=\"font-size:16px; border:1px solid black; padding:10px\">\n",
    "<center><h1><br><font color=\"blue\">Post Overview.</font></h1></center>\n",
    "    <ol>\n",
    "        <li><a href=\"#objective1\">Introduction to Testing for Normality.</a></li><br>\n",
    "        <li><a href=\"#objective2\">Testing for Normality Using Skewness, Kurtosis, and Z-scores for None or One Independent Variable.</a></li><br>\n",
    "        <li><a href=\"#objective3\">Demonstrate how to test for Normality Using SPSS, Skewness, Kurtosis, and Z-scores.</a></li><br>\n",
    "<!--         <li><a href=\"#objective4\">.</a></li><br> -->\n",
    "<!--         <li><a href=\"#objective5\">.</a></li><br> -->\n",
    "    </ol>\n",
    "</div>"
   ]
  },
  {
   "cell_type": "markdown",
   "metadata": {},
   "source": [
    "<hr style=\"border-top: 5px solid black;\">"
   ]
  },
  {
   "cell_type": "markdown",
   "metadata": {},
   "source": [
    "<div id=\"objective1\" style=\"font-size:16px; border:1px solid black; padding:10px\"><center><h1><br><font color=\"blue\">Introduction to Testing for Normality.</font></h1></center>\n",
    "    <hr>\n",
    "    <ul><h4><u>Intro to Testing for Normaility</u></h4>\n",
    "        <li>In statistics, testing for normality is used to:\n",
    "            <ul>\n",
    "                <li>determine if a data set is modeled by a normal distribution.</li><br>\n",
    "                <li>compute how likely it is for a random variable underlying the data set to be normally distributed.</li><br>\n",
    "                <li>Testing for Normality is often used when analyzing the difference between groups using parametric tests.</li><br>\n",
    "                <li>A common assumption is that the dependent variable is approximately normally distributed for each group of the independent variable.</li>\n",
    "            </ul>\n",
    "        </li><br>\n",
    "    </ul>\n",
    "    <hr style=\"border-top: 2px solid black;\">\n",
    "    <ul><h4><u>Normal Distribution</u></h4>\n",
    "        <li>A normal distribution describes a distribution of data that resembles a <a href=\"#image1\">bell shaped symmetrical curve</a>, where half of the data falls before and after the mean.<br>\n",
    "        </li><br>  \n",
    "        <li>In a normal distribution, the mean, median and mode are generally equal.</li><br>\n",
    "        <li>The total area under the curve is <code>1</code>.</li><br>\n",
    "        <li>A normal distribution is part of probability theory, which is a type of continuous probability distribution for a real-value randome variable.</li><br>\n",
    "        <li>The general form of its probability density function:\n",
    "            \\[f(x) = {\\frac{1}{\\sigma \\sqrt{2 \\pi}}e^{-\\frac{1}{2}(\\frac{x - \\mu}{\\sigma})^{2}}}\\]\n",
    "            <ul>\n",
    "                <li>where <strong>\\(\\mu \\)</strong> is the mean.</li>\n",
    "                <li>where <strong>\\(\\sigma \\)</strong> is the standard deviation.</li>\n",
    "                <li>where <strong>\\(\\sigma^{2} \\)</strong> is the variance of the distribution.</li>\n",
    "            </ul>\n",
    "        </li><br>\n",
    "        <li>A percentage of the data falls within a certain number of standard deviations from the mean, as illustrated in <a href=\"#image1\">Standard Normal Distribution Curve</a>.</li><br>\n",
    "        <li>Besides the percentages, many scores are derived from the normal distribution, such as percentile ranks, normal curve equivalents, and most commonly, <strong>t-scores</strong> and <strong>z-scores</strong>.</li><br>\n",
    "    </ul>\n",
    "    <hr style=\"border-top: 2px solid black;\">\n",
    "    <ul><h4><u>Z-Scores and Normal Distribution</u></h4>\n",
    "        <li>A z-score (standard score) represents the number of standard deviations a given data value \"x\" falls from the mean.</li><br> \n",
    "        <li>The Z-score is calculated by subtracting the data value by the mean and dividing that by the population standard deviation:<br>\n",
    "        \\[z = {\\frac{x - \\mu}{\\sigma}}\\]\n",
    "            <ul>\n",
    "                <li>where <strong>x</strong> is the value being examined.</li>\n",
    "                <li>where <strong>\\(\\mu \\)</strong> is the population mean.</li>\n",
    "                <li>where <strong>\\(\\sigma \\)</strong> is the population standard deviation.</li>\n",
    "            </ul>\n",
    "        </li><br>\n",
    "        <li>The z-score provides the position of a given value along a standard normal distribution.</li><br>\n",
    "        <li>If the z-score is negative, it is to the left of the mean.</li><br>        \n",
    "        <li>The area under the curve is called the area percentage.</li><br> \n",
    "        <li>The Area percentage is the proportion or probabilities between two points along the standard normal distribution.</li><br>\n",
    "    </ul>\n",
    "    <hr style=\"border-top: 2px solid black;\">\n",
    "    <ul><h4><u>Skewness, Kurtosis and the Normal Distribution</u></h4>\n",
    "        <li>The Normal Distribution Curve can also be described by two measures, its <strong>Skewness</strong> and <strong>Kurtosis</strong>.</li><br>\n",
    "        <li>Skewness and kurtosis are used to test for normality.</li>\n",
    "    </ul>\n",
    "    <hr>\n",
    "    <ul><strong>Skewness:</strong>\n",
    "        <li>is a measure of the asymmetry of the probability distribution of a random variable about its mean.</li><br>\n",
    "        <li>A normal distribution is symmetrical around the mean, and Skewness is <code>0</code>.</li><br>\n",
    "        <li>Skewness can be positive, negative, zero, and undefined.</li><br> \n",
    "        <li>For a univariate dataset, the formula for skewness is:<br>\n",
    "            \\[\\tilde \\mu_{3} = {\\frac{\\Sigma_{i=1}^{N}(x_{i} - \\bar x)}{(N - 1)\\sigma^{3}} } \\]\n",
    "            <ul>\n",
    "                <li>where <strong>\\(\\tilde \\mu_{3} \\)</strong> is skewness.</li>\n",
    "                <li>where <strong>N</strong> number of variables in the distribution.</li>\n",
    "                <li>where <strong>\\(X_{i} \\)</strong> is the random variable.</li>\n",
    "                <li>where <strong>\\(\\bar X \\)</strong> is the mean of the distribution.</li>\n",
    "                <li>where <strong>\\(\\sigma \\)</strong> is the population standard deviation.</li>\n",
    "            </ul>\n",
    "        </li><br>\n",
    "        <li>Interpretation of skewness:\n",
    "            <ul>\n",
    "                <li>If <strong>\\(\\tilde \\mu_{3} \\) &lt; -1</strong> or <strong>\\(\\tilde \\mu_{3} \\) &gt; 1</strong>, then the distribution is <font color=\"red\">highly skewed</font>.</li>\n",
    "                <li>If <strong>\\(\\tilde \\mu_{3} \\) is between <code>[-1, -0.5]</code> or between <code>[0.5, 1]</code></strong> the distribution is <font color=\"red\">moderately skewed</font>.</li>\n",
    "                <li>If <strong>\\(\\tilde \\mu_{3} \\) is between <code>[-0.5, 0.5]</code></strong> the distribution approximately symmetric.</li>\n",
    "            </ul>\n",
    "        </li><br>\n",
    "    </ul>\n",
    "    <hr>\n",
    "    <ul><strong>Kurtosis:</strong>\n",
    "        <li>is a measure of the \"tailedness\" of the probability distribution of a real-valued random variable.</li><br> \n",
    "        <li>is a measure of whether the data are heavy-tailed or light-tailed relative to a normal distribution.</li><br>\n",
    "        <li>Kurtosis also tells you the height and sharpness of the central peak, relative to the standard bell curve.</li><br>\n",
    "        <li>Data sets with heavy tails have high kurtosis.</li><br> \n",
    "        <li>Data sets with thin tails have low kurtosis.</li><br>  \n",
    "        <li>Kurtosis describes the shape of a probability distribution at the tail ends.</li><br>\n",
    "        <li>The formula for kurtosis is:<br>\n",
    "            \\[Kurtosis = {\\frac{\\Sigma_{i=1}^{N}\\frac{(x_{i} - \\bar x)}{N}} {\\sigma^{4}} } \\]\n",
    "            <ul>\n",
    "                <li>where <strong>\\(\\bar X \\)</strong> is the mean of the distribution.</li>\n",
    "                <li>where <strong>\\(\\sigma \\)</strong> is the population standard deviation.</li>\n",
    "                <li>where <strong>N</strong> is the sample size.</li>\n",
    "            </ul>            \n",
    "            </li><br>\n",
    "        <li>Interpretation of kurtosis:\n",
    "            <ul>\n",
    "                <li>The standard normal distribution has a <strong>Kurtosis = <code>3</code></strong> and is called <strong>Mesokurtic</strong>.</li>\n",
    "                <li><strong>Kurtosis &gt; <code>3</code></strong> is called <strong>Leptokurtic</strong>, and describes a curve with heavy tails.</li>\n",
    "                <li><strong>Kurtosis &lt; <code>0</code></strong> is called <strong>Platykurtic</strong>, and describes a curve with thin tails.</li>\n",
    "            </ul>\n",
    "            .</li><br>\n",
    "    </ul>\n",
    "</div>"
   ]
  },
  {
   "cell_type": "markdown",
   "metadata": {},
   "source": [
    "<div id=\"image1\">\n",
    "</div>"
   ]
  },
  {
   "cell_type": "code",
   "execution_count": 3,
   "metadata": {},
   "outputs": [],
   "source": [
    "img = os.path.join(path, 'static/images/spss0.png')\n",
    "Image(filename=img, width=700) "
   ]
  },
  {
   "cell_type": "markdown",
   "metadata": {},
   "source": [
    "<hr style=\"border-top: 5px solid black;\">"
   ]
  },
  {
   "cell_type": "markdown",
   "metadata": {},
   "source": [
    "<div id=\"objective2\" style=\"font-size:16px; border:1px solid black; padding:10px\"><center><h1><br><font color=\"blue\">Testing for Normality Using Skewness, Kurtosis, and Z-scores for None or One Independent Variable.</font></h1></center>\n",
    "    <hr>\n",
    "    <ol><h4>The following method determines how the data differs from a normal distribution, and if the data is normally distributed or not.</h4>\n",
    "        <li>Calcualte the z-score for skewness:<br>\n",
    "        \\[z = {\\frac{Skewness}{Std. Error} } \\]\n",
    "        </li><br>        \n",
    "        <li>Calcualte the z-score for kurtosis:<br>\n",
    "        \\[z = {\\frac{Kurtosis}{Std. Error} } \\]\n",
    "        </li><br>\n",
    "        <li>Select the Level of Significance, which refers to the degres of significance in which we accept or reject the null hypothesis. The level of significance is usually denoted &alpha;. In this example, we use <code>0.01</code>.</li><br>\n",
    "        <li>Find the Z-score for the level of significance. In this case &alpha;= 0.01 has a z-score of &plusmn;2.58.</li><br>        \n",
    "        <li>Compare Z-score for skewness and kurtosis to z-score for 0.01.</li><br>        \n",
    "    </ol>\n",
    "    <hr>\n",
    "    <ul><strong>Interpretation</strong>\n",
    "        <li>If the z-score for skewness is within &plusmn;2.58, then data is nomrally distributed.</li><br>\n",
    "        <li>If the z-score for skewness is not within the z-score for the &alpha;, then it is not normally distributed because the distribution is skewed.</li><br>\n",
    "        <li>If the z-score for kurtosis is not within the z-score for the &alpha;, then it is not normally distributed because the distribution is kurtosed.</li><br>\n",
    "    </ul>\n",
    "</div>"
   ]
  },
  {
   "cell_type": "markdown",
   "metadata": {},
   "source": [
    "<hr style=\"border-top: 5px solid black;\">"
   ]
  },
  {
   "cell_type": "markdown",
   "metadata": {},
   "source": [
    "<div class=\"alert alert-block alert-info\" id=\"objective3\" style=\"font-size:16px; border:1px solid black; padding:10px\"><center><h1><br><font color=\"blue\">Demonstrate how perform a One Sample T-Test using SPSS.</font></h1></center>\n",
    "    <hr>\n",
    "    <ol><h4>Steps</h4>\n",
    "        <li><a href=\"#spss1\">Set up your data in SPSS</a>.</li><br>\n",
    "        <li><a href=\"#spss2\">Carry out procedure to get Skewness and Kurtosis from SPSS</a>.</li><br> \n",
    "        <li><a href=\"#spss3\">Calculate z-score for Skewness and Kurtosis</a>.</li><br> \n",
    "        <li><a href=\"#spss4\">Compare value to z-score for the selected level of significance &alpha;</a>.</li><br>\n",
    "<!--         <li><a href=\"#spss5\"></a>.</li><br>    -->\n",
    "<!--         <li><a href=\"#spss6\"></a>.</li><br>         -->\n",
    "<!--         <li><a href=\"#spss7\"></a>.</li><br> -->\n",
    "    </ol>\n",
    "</div>"
   ]
  },
  {
   "cell_type": "markdown",
   "metadata": {},
   "source": [
    "<hr style=\"border-top: 3px solid black;\">"
   ]
  },
  {
   "cell_type": "markdown",
   "metadata": {},
   "source": [
    "<div id=\"spss1\">\n",
    "</div>"
   ]
  },
  {
   "cell_type": "markdown",
   "metadata": {},
   "source": [
    "<div id=\"spss1\" style=\"font-size:16px; border:1px solid black; padding:5px\">\n",
    "<center><h3><font color=\"blue\">Step 1: Data Set-Up</font></h3></center> \n",
    "    <ul>\n",
    "        <li>Data was artificially generated using <a href=\"https://numpy.org/doc/stable/reference/random/generated/numpy.random.normal.html\">numpy random.normal</a> class.</li><br>\n",
    "        <li>This method draws a random samples from a normal (Gaussian) distribution. An array of 50 instances with a mean of 74.5 and a sigma of 0.1 was imported into a pandas dataframe, exported into a csv file, and then imported into SPSS (Version 27).</li><br>\n",
    "        <li>The variable was prepared in the <code>Variable view</code>.</li><br>\n",
    "        <li>The data import confirmed in <code>data view</code>.</li><br>        \n",
    "    </ul>\n",
    "</div>"
   ]
  },
  {
   "cell_type": "code",
   "execution_count": 4,
   "metadata": {},
   "outputs": [],
   "source": [
    "img = os.path.join(path, 'static/images/spss1.png')\n",
    "Image(filename=img, width=600) "
   ]
  },
  {
   "cell_type": "code",
   "execution_count": 5,
   "metadata": {},
   "outputs": [],
   "source": [
    "img = os.path.join(path, 'static/images/spss2.png')\n",
    "Image(filename=img, width=150)"
   ]
  },
  {
   "cell_type": "markdown",
   "metadata": {},
   "source": [
    "<hr style=\"border-top: 3px solid black;\">"
   ]
  },
  {
   "cell_type": "markdown",
   "metadata": {},
   "source": [
    "<div id=\"spss2\">\n",
    "</div>"
   ]
  },
  {
   "cell_type": "markdown",
   "metadata": {},
   "source": [
    "<div id=\"spss2\" style=\"font-size:16px; border:1px solid black; padding:5px\">\n",
    "<center><h3><font color=\"blue\">Step 2: Carry out procedure to get Skewness and Kurtosis from SPSS</font></h3></center> \n",
    "    <ul>\n",
    "        <li>From main menu <code>Analyze > Descriptive Statistics > Explore</code></li><br>\n",
    "        <li>In <code>Explore dialogue box</code>, transfer dependent variable to <code>Dependent List</code>.</li><br>\n",
    "        <li>Click <code>Plots</code> and <code>Explore: Plots Dialogue Box</code> will be presented</li><br>\n",
    "        <li><code>Explore: Plots Dialogue Box</code> select <code>None</code> in <code>Boxplots</code> area.</li><br>\n",
    "        <li><code>Explore: Plots Dialogue Box</code> uncheck <code>Stem-and-leaf</code> in the <code>Descriptive</code> area.</li><br>\n",
    "        <li><code>Explore: Plots Dialogue Box</code> check <code>Histogram</code> in the <code>Descriptive</code> area.</li><br>\n",
    "        <li><code>Explore: Plots Dialogue Box</code> check the <code>Normality plots with tests</code>.</li><br>\n",
    "        <li>Click <code>Continue</code> button in the <code>Explore dialogue box</code>.</li><br>\n",
    "        <li>Click <code>OK</code> button to generate the output.</li><br>\n",
    "    </ul>\n",
    "    <ul><strong>Results:</strong>\n",
    "        <li><code>Skewness</code> = 0.051</li><br>\n",
    "        <li><code>Kurtosis</code> = -0.150</li><br>\n",
    "    </ul>\n",
    "</div>"
   ]
  },
  {
   "cell_type": "code",
   "execution_count": 6,
   "metadata": {
    "scrolled": false
   },
   "outputs": [],
   "source": [
    "img = os.path.join(path, 'static/images/spss3.png')\n",
    "Image(filename=img, width=550) "
   ]
  },
  {
   "cell_type": "markdown",
   "metadata": {},
   "source": [
    "<hr style=\"border-top: 3px solid black;\">"
   ]
  },
  {
   "cell_type": "markdown",
   "metadata": {},
   "source": [
    "<div id=\"spss3\">\n",
    "</div>"
   ]
  },
  {
   "cell_type": "markdown",
   "metadata": {},
   "source": [
    "<div id=\"spss3\" style=\"font-size:16px; border:1px solid black; padding:5px\">\n",
    "<center><h3><font color=\"blue\">Step 3: Calculate z-score for Skewness and Kurtosis.</font></h3></center> \n",
    "    <ul>\n",
    "        <li>Calcualte the z-score for skewness:<br>\n",
    "        \\[z = {\\frac{Skewness}{Std. Error} } = \\frac{0.051}{0.277} = 0.184 \\]\n",
    "        </li><br>        \n",
    "        <li>Calcualte the z-score for kurtosis:<br>\n",
    "        \\[z = {\\frac{Kurtosis}{Std. Error} } = \\frac{-0.150}{0.548} = 0.273 \\]\n",
    "        </li><br>\n",
    "        <li>Level of significance &alpha; &plusmn;2.58</li><br>\n",
    "    </ul>\n",
    "</div>"
   ]
  },
  {
   "cell_type": "markdown",
   "metadata": {},
   "source": [
    "<hr style=\"border-top: 3px solid black;\">"
   ]
  },
  {
   "cell_type": "markdown",
   "metadata": {},
   "source": [
    "<div id=\"spss4\">\n",
    "</div>"
   ]
  },
  {
   "cell_type": "markdown",
   "metadata": {},
   "source": [
    "<div id=\"spss3\" style=\"font-size:16px; border:1px solid black; padding:5px\">\n",
    "<center><h3><font color=\"blue\">Step 4: Compare value to z-score for the selected level of significance α..</font></h3></center> \n",
    "    <ul>\n",
    "        <li>Level of significance &alpha; of 0.01 has a z-score = &plusmn;2.58</li><br>\n",
    "        <li>Skewness of 0.184 is within 2.58</li><br>\n",
    "        <li>Kurtosis of 0.273 is within 2.58</li><br>\n",
    "        <li>Both z-scores are within 2.58, and normally distributed.</li><br>\n",
    "        <li><mark>Engagement scores were normally distributed for NFL player heights with a skewness of 0.051 (standard error = 0.277) and kurtosis of -0.150 (standard error = 0.548).</mark></li><br>\n",
    "    </ul>\n",
    "</div>"
   ]
  },
  {
   "cell_type": "markdown",
   "metadata": {},
   "source": [
    "<hr style=\"border-top: 5px solid black;\">"
   ]
  }
 ],
 "metadata": {
  "kernelspec": {
   "display_name": "Python 3",
   "language": "python",
   "name": "python3"
  },
  "language_info": {
   "codemirror_mode": {
    "name": "ipython",
    "version": 3
   },
   "file_extension": ".py",
   "mimetype": "text/x-python",
   "name": "python",
   "nbconvert_exporter": "python",
   "pygments_lexer": "ipython3",
   "version": "3.8.2"
  }
 },
 "nbformat": 4,
 "nbformat_minor": 4
}

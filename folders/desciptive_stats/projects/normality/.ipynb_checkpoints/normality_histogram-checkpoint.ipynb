{
 "cells": [
  {
   "cell_type": "code",
   "execution_count": 1,
   "metadata": {},
   "outputs": [],
   "source": [
    "%%javascript\n",
    "IPython.OutputArea.prototype._should_scroll = function(lines) {\n",
    "    return false;\n",
    "}"
   ]
  },
  {
   "cell_type": "code",
   "execution_count": 2,
   "metadata": {},
   "outputs": [],
   "source": [
    "# to load images for this tutorial\n",
    "from IPython.display import Image\n",
    "import os\n",
    "path = os.getcwd()"
   ]
  },
  {
   "cell_type": "markdown",
   "metadata": {},
   "source": [
    "<hr style=\"border-top: 5px solid black;\">"
   ]
  },
  {
   "cell_type": "markdown",
   "metadata": {},
   "source": [
    "<div class=\"alert alert-block alert-info\" style=\"font-size:20px; border:1px solid black; padding:10px\">\n",
    "<center><h1>Post Goals:</h1></center>\n",
    "    <ol>\n",
    "        <li>Provide an Introduction to Testing for Normality.</li><br>\n",
    "        <li>Demonstrate how to test for Normality using <strong><u>Histograms</u></strong> in SPSS.</li><br>\n",
    "    </ol>\n",
    "</div>"
   ]
  },
  {
   "cell_type": "markdown",
   "metadata": {},
   "source": [
    "<hr style=\"border-top: 5px solid black;\">"
   ]
  },
  {
   "cell_type": "markdown",
   "metadata": {},
   "source": [
    "<div style=\"font-size:16px; border:1px solid black; padding:10px\">\n",
    "<center><h1><br><font color=\"blue\">Post Overview.</font></h1></center>\n",
    "    <ol>\n",
    "        <li><a href=\"#objective1\">Introduction to Testing for Normality.</a></li><br>\n",
    "        <li><a href=\"#objective2\">Demonstrate how to test for Normality using <strong><u>Histograms</u></strong> in SPSS.</a></li><br>\n",
    "    </ol>\n",
    "</div>"
   ]
  },
  {
   "cell_type": "markdown",
   "metadata": {},
   "source": [
    "<hr style=\"border-top: 5px solid black;\">"
   ]
  },
  {
   "cell_type": "markdown",
   "metadata": {},
   "source": [
    "<div id=\"objective1\" style=\"font-size:16px; border:1px solid black; padding:10px\"><center><h1><br><font color=\"blue\">Introduction to Testing for Normality.</font></h1></center>\n",
    "    <hr>\n",
    "    <ul><h4><u>Intro to Testing for Normaility</u></h4>\n",
    "        <li>In statistics, testing for normality is used to:\n",
    "            <ul>\n",
    "                <li>determine if a data set is modeled by a normal distribution.</li><br>\n",
    "                <li>compute how likely it is for a random variable underlying the data set to be normally distributed.</li><br>\n",
    "                <li>Testing for Normality is often used when analyzing the difference between groups using parametric tests.</li><br>\n",
    "                <li>A common assumption is that the dependent variable is approximately normally distributed for each group of the independent variable.</li>\n",
    "            </ul>\n",
    "        </li><br>\n",
    "    </ul>\n",
    "    <hr style=\"border-top: 2px solid black;\">\n",
    "    <ul><h4><u>Normal Distribution</u></h4>\n",
    "        <li>A normal distribution describes a distribution of data that resembles a <a href=\"#image1\">bell shaped symmetrical curve</a>, where half of the data falls before and after the mean.<br>\n",
    "        </li><br>  \n",
    "        <li>In a normal distribution, the mean, median and mode are generally equal.</li><br>\n",
    "        <li>The total area under the curve is <code>1</code>.</li><br>\n",
    "        <li>A normal distribution is part of probability theory, which is a type of continuous probability distribution for a real-value random variable.</li><br>\n",
    "        <li>The general form of its probability density function:\n",
    "            \\[f(x) = {\\frac{1}{\\sigma \\sqrt{2 \\pi}}e^{-\\frac{1}{2}(\\frac{x - \\mu}{\\sigma})^{2}}}\\]\n",
    "            <ul>\n",
    "                <li>where <strong>\\(\\mu \\)</strong> is the mean.</li>\n",
    "                <li>where <strong>\\(\\sigma \\)</strong> is the standard deviation.</li>\n",
    "                <li>where <strong>\\(\\sigma^{2} \\)</strong> is the variance of the distribution.</li>\n",
    "            </ul>\n",
    "        </li><br>\n",
    "        <li>A percentage of the data falls within a certain number of standard deviations from the mean, as illustrated in <a href=\"#image1\">Standard Normal Distribution Curve</a>.</li><br>\n",
    "        <li>Besides the percentages, many scores are derived from the normal distribution, such as percentile ranks, normal curve equivalents, and most commonly, <strong>t-scores</strong> and <strong>z-scores</strong>.</li><br>\n",
    "    </ul>\n",
    "    <hr style=\"border-top: 2px solid black;\">\n",
    "    <ul><h4><u>Numeric and Graphical Methods of assessment for Normality</u></h4>\n",
    "        <table>\n",
    "  <tr>\n",
    "    <th>Numerical methods</th>\n",
    "    <th>Graphical methods</th>\n",
    "  </tr>\n",
    "  <tr>\n",
    "    <td>Advantage: allows one to make an objective judgement of normality.</td>\n",
    "    <td>Advantage: allows one to make a judgement to assess whether the data is normaly distributed.</td>\n",
    "  </tr>\n",
    "  <tr>\n",
    "    <td>Disadvantage: May not detect violation of normality in small sample sizes.</td>\n",
    "    <td>Disadvantage: Inspecting graphs/plots comes at the expense of objectivity.</td>\n",
    "  </tr>\n",
    "  <tr>\n",
    "    <td>Disadvantage: Overly sensitive to large sample sizes, as small deviations from normality are detected.</td>\n",
    "    <td>Methods include (but not limited to): Histographs, Normal Q-Q plot.</td>\n",
    "  </tr>\n",
    "  <tr>\n",
    "      <td>Disadvantage: This method alone doesn't let you explore the data as graphical methods would.</td>\n",
    "      <td></td>\n",
    "  </tr>\n",
    "  <tr>\n",
    "      <td>Methods include (but not limited to): Skewness/Kurtosis, and Shapiro-Wilk Test.</td>\n",
    "      <td></td>\n",
    "  </tr>            \n",
    "</table>\n",
    "    </ul>\n",
    "     <hr style=\"border-top: 2px solid black;\">\n",
    "    <ul><h4><u>Testing for Normality Method Selection</u></h4>\n",
    "        <li>Generally, several methods are used concurrently to evaluate normality.</li><br> \n",
    "        <li>For those will little statistics background, graphical methods are the easiest to interpret.</li><br>\n",
    "        <li>Numeric methods are best when the sample size is small.</li><br>\n",
    "        <li>This post will focus on the graphical plot called a <strong>Histogram</strong>.</li><br>\n",
    "    </ul>\n",
    "    <hr style=\"border-top: 2px solid black;\">\n",
    "    <ul><h4><u>Histograms Defined</u></h4>\n",
    "        <li>A histogram is a graphical representation of the distribution of numerical data.</li><br>\n",
    "        <li>A histogram resembles a bar chart.</li><br>\n",
    "        <li>A histogram that is generated from data that is normalized resembles a bell shaped curve.</li><br>\n",
    "        <li>A histogram is constructed by:\n",
    "            <ol>\n",
    "                <li>Dividing the entire range of values into a series of intervals called <strong>Bin</strong>, or <strong>Buckets</strong>.</li>\n",
    "                <li>The height of each bar is the count of values that fall within each interval.</li>\n",
    "            </ol>\n",
    "        </li><br>\n",
    "        <li>The bins are consecutive, non-overlapping intervals, and typically equal in size.</li>\n",
    "        <li>Adjacent bins leave no gaps, and the bars of the histogram touch each other to indicate that the original variable is continuous data.</li>\n",
    "        <li>A histogram can be normalized to display relative frequencies, with the sum of the heights equaling 1.</li>\n",
    "    </ul>\n",
    "    <hr style=\"border-top: 2px solid black;\">\n",
    "    <ul><h4><u>Histograms Utility</u></h4>\n",
    "        <li>Histograms provide a crude density of the underline distribution of data.</li><br>\n",
    "        <li>Histograms are one of the most popular data visualization techniques used to inspect the distribution of the data.</li><br>\n",
    "        <li>Histograms are useful at identifying highly asymmetric data.</li><br>\n",
    "        <li>Histograms are useful at identifying normality when the sample size large.</li><br>\n",
    "        <li>If the data was normally distributed, it would have the bell shape curve, with most of the frenquency counts in the center, and symmetrical tails.</li><br>\n",
    "    </ul>\n",
    "    <hr style=\"border-top: 2px solid black;\">\n",
    "    <ul><h4><u>Mathematical Definitions</u></h4>\n",
    "        <li>General form<br>\n",
    "            \\[n = {\\Sigma_{i=1}^{k}m_{i}}.\\]\n",
    "            <ul>\n",
    "                <li><strong>\\(m_{i} \\)</strong> a function that counts the number of observations that fall into each of the bins.</li>\n",
    "                <li><strong>n</strong> is the total number of observations.</li>\n",
    "                <li><strong>k</strong> is the total number of bins.</li>\n",
    "            </ul>\n",
    "        </li><br>\n",
    "        <li>Selecting the number of bins is a limitation of a histogram, as the visual impression of the histograms is sensitive to the choice of breakpoints for the bars.</li><br>\n",
    "        <li>There is no \"best\" number of bins, and the different number of bins reveals different features of the data.</li><br>\n",
    "        <li>There are several mathematical methods to determine the number of bins, here are three common techniques:\n",
    "            <ul><br>\n",
    "                <li style=\"list-style-type: none;\"><br><center><strong>General form</strong></center>\n",
    "                    \\[k = {[\\frac{max\\ x - min\\ x}{h}]}\\]<br>\n",
    "                    <center>where <strong>h</strong> is the bin width.</center>\n",
    "                </li><br>\n",
    "                <li style=\"list-style-type: none;\"><center><strong>Square-root choice</strong></center>\n",
    "                    \\[k = {[\\sqrt{n}]}\\]<br>\n",
    "                    <center>where <strong>n</strong> is the number of data points.</center>\n",
    "                </li><br>\n",
    "                <li style=\"list-style-type: none;\"><center><strong>Sturges' formula</strong></center>\n",
    "                    \\[k = {[log_{2}n + 1]}\\]<br>\n",
    "                   <center> where <strong>n</strong> is the number of data points, and this is ideal for <strong>n &#62; 30.</strong></center>\n",
    "                </li><br>\n",
    "            </ul>\n",
    "        </li><br>\n",
    "        <li>The number of bins and bin size is automatically set by SPSS, but this can be changed.</li><br>\n",
    "    </ul>\n",
    "</div>"
   ]
  },
  {
   "cell_type": "markdown",
   "metadata": {},
   "source": [
    "<div id=\"image1\">\n",
    "</div>"
   ]
  },
  {
   "cell_type": "code",
   "execution_count": 3,
   "metadata": {},
   "outputs": [],
   "source": [
    "img = os.path.join(path, 'static/images/spss0.png')\n",
    "Image(filename=img, width=700) "
   ]
  },
  {
   "cell_type": "markdown",
   "metadata": {},
   "source": [
    "<hr style=\"border-top: 5px solid black;\">"
   ]
  },
  {
   "cell_type": "markdown",
   "metadata": {},
   "source": [
    "<div class=\"alert alert-block alert-info\" id=\"objective2\" style=\"font-size:16px; border:1px solid black; padding:10px\"><center><h1><br><font color=\"blue\">Demonstrate how to test for Normality using a Histogram.</font></h1></center>\n",
    "    <hr>\n",
    "    <ol><h4>Procedure</h4>\n",
    "        <li><a href=\"#spss1\">Set up your data in SPSS</a>.</li><br>\n",
    "        <li><a href=\"#spss2\">Carry out procedure to test for Normality using a Histogram</a>.</li><br> \n",
    "        <li><a href=\"#spss3\">Interpret result</a>.</li><br>\n",
    "    </ol>\n",
    "</div>"
   ]
  },
  {
   "cell_type": "markdown",
   "metadata": {},
   "source": [
    "<hr style=\"border-top: 3px solid black;\">"
   ]
  },
  {
   "cell_type": "markdown",
   "metadata": {},
   "source": [
    "<div id=\"spss1\">\n",
    "</div>"
   ]
  },
  {
   "cell_type": "markdown",
   "metadata": {},
   "source": [
    "<div id=\"spss1\" style=\"font-size:16px; border:1px solid black; padding:5px\">\n",
    "<center><h3><font color=\"blue\">Step 1: Data Set-Up</font></h3></center> \n",
    "    <ul>\n",
    "        <li>Data was artificially generated using <a href=\"https://numpy.org/doc/stable/reference/random/generated/numpy.random.normal.html\">numpy random.normal</a> class.</li><br>\n",
    "        <li>This method draws a random samples from a normal (Gaussian) distribution. An array of 50 instances with a mean of 74.5 and a sigma of 0.1 was imported into a pandas dataframe, exported into a csv file, and then imported into SPSS (Version 27).</li><br>\n",
    "        <li>The variable was prepared in the <code>Variable view</code>.</li><br>\n",
    "        <li>The data import confirmed in <code>data view</code>.</li><br>        \n",
    "    </ul>\n",
    "</div>"
   ]
  },
  {
   "cell_type": "code",
   "execution_count": 4,
   "metadata": {},
   "outputs": [],
   "source": [
    "img = os.path.join(path, 'static/images/spss1.png')\n",
    "Image(filename=img, width=600) "
   ]
  },
  {
   "cell_type": "code",
   "execution_count": 5,
   "metadata": {},
   "outputs": [],
   "source": [
    "img = os.path.join(path, 'static/images/spss2.png')\n",
    "Image(filename=img, width=150)"
   ]
  },
  {
   "cell_type": "markdown",
   "metadata": {},
   "source": [
    "<hr style=\"border-top: 3px solid black;\">"
   ]
  },
  {
   "cell_type": "markdown",
   "metadata": {},
   "source": [
    "<div id=\"spss3\">\n",
    "</div>"
   ]
  },
  {
   "cell_type": "markdown",
   "metadata": {},
   "source": [
    "<div id=\"spss3\" style=\"font-size:16px; border:1px solid black; padding:5px\">\n",
    "<center><h3><font color=\"blue\">Step 3: Carry out procedure to test for Normality using a Histogram.</font></h3></center> \n",
    "    <ul>\n",
    "        <li>From main menu <code>Analyze > Descriptive Statistics > Explore</code></li><br>\n",
    "        <li>In <code>Explore dialogue box</code>, transfer dependent variable to <code>Dependent List</code>.</li><br>\n",
    "        <li>Click <code>Plots</code> and <code>Explore: Plots Dialogue Box</code> will be presented</li><br>\n",
    "        <li><code>Explore: Plots Dialogue Box</code> select <code>None</code> in <code>Boxplots</code> area.</li><br>\n",
    "        <li><code>Explore: Plots Dialogue Box</code> uncheck <code>Stem-and-leaf</code> in the <code>Descriptive</code> area.</li><br>\n",
    "        <li><code>Explore: Plots Dialogue Box</code> check <code>Histogram</code> in the <code>Descriptive</code> area.</li><br>\n",
    "        <li><code>Explore: Plots Dialogue Box</code> check the <code>Normality plots with tests</code>.</li><br>\n",
    "        <li>Click <code>Continue</code> button in the <code>Explore dialogue box</code>.</li><br>\n",
    "        <li>Click <code>OK</code> button to generate the output.</li><br>\n",
    "    </ul>\n",
    "</div>"
   ]
  },
  {
   "cell_type": "code",
   "execution_count": 6,
   "metadata": {
    "scrolled": false
   },
   "outputs": [],
   "source": [
    "img = os.path.join(path, 'static/images/spss5.png')\n",
    "Image(filename=img, width=700) "
   ]
  },
  {
   "cell_type": "markdown",
   "metadata": {},
   "source": [
    "<hr style=\"border-top: 3px solid black;\">"
   ]
  },
  {
   "cell_type": "markdown",
   "metadata": {},
   "source": [
    "<div id=\"spss4\">\n",
    "</div>"
   ]
  },
  {
   "cell_type": "markdown",
   "metadata": {},
   "source": [
    "<div id=\"spss4\" style=\"font-size:16px; border:1px solid black; padding:5px\">\n",
    "<center><h3><font color=\"blue\">Step 4: Interpret result.</font></h3></center> \n",
    "    <ul><strong>Results</strong><br><br>\n",
    "        <li>\\(\\bar X = 74.497 \\)</li><br>\n",
    "        <li>\\(\\sigma = 0.113 \\)</li><br>\n",
    "        <li>N = 75 the sample size.</li><br>\n",
    "        <li><strong>Interpretation:</strong> the height of NFL players is approximately normally distributed, as assessed by visual inspection of the histograms.</li><br>\n",
    "    </ul>\n",
    "</div>"
   ]
  },
  {
   "cell_type": "markdown",
   "metadata": {},
   "source": [
    "<hr style=\"border-top: 5px solid black;\">"
   ]
  }
 ],
 "metadata": {
  "kernelspec": {
   "display_name": "Python 3",
   "language": "python",
   "name": "python3"
  },
  "language_info": {
   "codemirror_mode": {
    "name": "ipython",
    "version": 3
   },
   "file_extension": ".py",
   "mimetype": "text/x-python",
   "name": "python",
   "nbconvert_exporter": "python",
   "pygments_lexer": "ipython3",
   "version": "3.8.2"
  }
 },
 "nbformat": 4,
 "nbformat_minor": 4
}

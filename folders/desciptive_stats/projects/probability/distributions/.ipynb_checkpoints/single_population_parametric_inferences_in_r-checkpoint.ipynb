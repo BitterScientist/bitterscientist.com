{
 "cells": [
  {
   "cell_type": "markdown",
   "id": "e137da14",
   "metadata": {},
   "source": [
    "<hr style=\"border-top: 5px solid black;\">"
   ]
  },
  {
   "cell_type": "markdown",
   "id": "8aa62dff",
   "metadata": {},
   "source": [
    "<div class=\"alert alert-block alert-success\" style=\"font-size:20px; border:1px solid black; padding:10px\">\n",
    "<center><h1>Post Goals:</h1></center>\n",
    "    <hr style=\"border-top: 2px dashed black;\">\n",
    "    <ol>\n",
    "        <li><a href=\"#objective1\">Introduction to single population parameteric inferences.</a></li><br>\n",
    "        <li><a href=\"#objective2\">t-test on population mean</a></li><br>\n",
    "        <li><a href=\"#objective3\">\\(\\chi^2\\) on population variance</a></li><br>\n",
    "        <li><a href=\"#objective4\">z-test on a population proportion.</a></li><br>\n",
    "    </ol>\n",
    "</div>"
   ]
  },
  {
   "cell_type": "markdown",
   "id": "0737fcd3",
   "metadata": {},
   "source": [
    "<hr style=\"border-top: 5px solid black;\">"
   ]
  },
  {
   "cell_type": "markdown",
   "id": "3bf267d5",
   "metadata": {},
   "source": [
    "<div id=\"objective1\" class=\"alert alert-block alert-warning\" style=\"font-size:16px; border:1px solid black; padding:10px\"><center><h1><br><font color=\"blue\">Introduction to single population parameteric inferences.</font></h1></center><br>\n",
    "</div>\n",
    "<div style=\"font-size:16px; border:1px solid black; padding:10px\">\n",
    "    <ul><strong><u>The basics</u></strong>\n",
    "        <li>Parametric inferences is a branch of statistics that assumes the data comes from a probability distribution that has a fixed set of parameters.</li><br>\n",
    "        <li>Three important parameters include:\n",
    "            <ul>\n",
    "        <li>The population mean  𝜇  of a continuous variable.</li>\n",
    "         <li>The population variance of a continuous variable.</li>\n",
    "                <li>The population proportion  <em>p</em>  of a categorical variable with two levels.</li>\n",
    "            </ul>                \n",
    "        </li><br>\n",
    "        <li>This post will discuss the hypothesis test and confidence inverval for each method, as well as the assumptions that are needed for the statistical test to be valid.</li><br>\n",
    "        <li>The R programming language will be used to carry out these calculations.</li><br>\n",
    "    </ul>\n",
    "</div>"
   ]
  },
  {
   "cell_type": "markdown",
   "id": "f3ac464e",
   "metadata": {},
   "source": [
    "<hr style=\"border-top: 5px solid black;\">"
   ]
  },
  {
   "cell_type": "markdown",
   "id": "b71820f1",
   "metadata": {},
   "source": [
    "<div id=\"objective2\" class=\"alert alert-block alert-warning\" style=\"font-size:16px; border:1px solid black; padding:10px\"><center><h1><br><font color=\"blue\">t-test on population mean</font></h1></center><br>\n",
    "</div>\n",
    "<div style=\"font-size:16px; border:1px solid black; padding:10px\">\n",
    "    <ul><strong><u>The Basics</u></strong>\n",
    "        <li>A t-test on a pouplation mean is used when the pouplation variance $\\sigma^2$ is unknown and can also be used when the sample size is not \"large\"</li><br>\n",
    "        <li>\n",
    "            <ul>Assumptions:\n",
    "                <li>Random sample.</li><br>\n",
    "                <li>The sampled population is normally distributed</li><br>\n",
    "                <li>Rule of thumb, large sample size is $n\\ \\geq 30$</li><br>\n",
    "            </ul>                \n",
    "        </li><br>\n",
    "        <li>\n",
    "            <ul>Hypothesis test:<br>\n",
    "                <li>Null Hypothesis. $H_o:\\ \\mu = \\mu_0 $</li><br>\n",
    "                <li>Alternative Hypothesis 2 sided: $H_o:\\ \\mu \\neq \\mu_0 $</li><br>\n",
    "                <li>Alternative Hypothesis 1 sided lower tail: $H_o:\\ \\mu < \\mu_0 $</li><br>\n",
    "                <li>Alternative Hypothesis 1 sided upper tail: $H_o:\\ \\mu > \\mu_0 $</li><br>\n",
    "            </ul>                \n",
    "        </li><br>  \n",
    "        <li>\n",
    "            <ul>Hypothesis test values:<br>\n",
    "                <li>Parameter of interest. $ \\mu$</li><br>\n",
    "                <li>Point estimate. $\\bar{x}$</li><br>\n",
    "                <li>Standard error. $\\frac{s}{sqrt(n}$</li><br>\n",
    "                <li>Test statistic. $$t\\ =\\ \\frac{\\bar{x}-\\mu}{\\frac{s}{\\sqrt{n}}}$$</li><br>\n",
    "                <li>Null distribution: student's t</li><br>\n",
    "                <li>Degrees of freedom: $n\\ -\\ 1$</li><br>\n",
    "            </ul>                \n",
    "        </li><br>\n",
    "        <li>\n",
    "            <ul>Confidence intervals:<br><br>\n",
    "                <li>Calculated as $100(1- \\alpha)$</li><br>\n",
    "                <li>Two-sides: $$\\left(\\bar x-t_{df,\\alpha/2}\\cdot \\frac{s}{\\sqrt{n}},\\bar x+t_{df,\\alpha/2}\\cdot\\frac{s}{\\sqrt{n}}\\right)$$</li><br>\n",
    "                <li>Upper one-sided: $$\\left(-\\infty,\\bar x+t_{df,\\alpha}\\cdot\\frac{s}{\\sqrt{n}}\\right)$$</li><br>\n",
    "                <li>Lower one-sided: $$\\left(\\bar x-t_{df,\\alpha}\\cdot\\frac{s}{\\sqrt{n}},\\infty\\right)$$</li><br>\n",
    "            </ul>                \n",
    "        </li><br>          \n",
    "    </ul>\n",
    "</div>"
   ]
  },
  {
   "cell_type": "markdown",
   "id": "13729a50",
   "metadata": {},
   "source": [
    "## Example 1\n",
    "\n",
    " - UV radiation on an instrument measure at 70. A new instrument is used to take six additional readings of UV at 82, 69, 72, 71, 79, and 65\n",
    " - Does the new instrumen provide the reading expected\n",
    " - Sample mean $\\bar{x}=73$\n",
    " - Sample standard deviation of $s = 6.3560$.\n",
    " - $\\alpha = 0.1$\n",
    " - $H_0: \\mu = 70$\n",
    " - $H_a: \\mu \\neq 70$\n",
    " - df = n -1"
   ]
  },
  {
   "cell_type": "markdown",
   "id": "a9dd95fa",
   "metadata": {},
   "source": [
    "## Calculate the test statistic"
   ]
  },
  {
   "cell_type": "code",
   "execution_count": 1,
   "id": "3ec2b555",
   "metadata": {},
   "outputs": [
    {
     "data": {
      "text/html": [
       "73"
      ],
      "text/latex": [
       "73"
      ],
      "text/markdown": [
       "73"
      ],
      "text/plain": [
       "[1] 73"
      ]
     },
     "metadata": {},
     "output_type": "display_data"
    },
    {
     "data": {
      "text/html": [
       "6.35609943282828"
      ],
      "text/latex": [
       "6.35609943282828"
      ],
      "text/markdown": [
       "6.35609943282828"
      ],
      "text/plain": [
       "[1] 6.356099"
      ]
     },
     "metadata": {},
     "output_type": "display_data"
    },
    {
     "data": {
      "text/html": [
       "6"
      ],
      "text/latex": [
       "6"
      ],
      "text/markdown": [
       "6"
      ],
      "text/plain": [
       "[1] 6"
      ]
     },
     "metadata": {},
     "output_type": "display_data"
    },
    {
     "data": {
      "text/html": [
       "5"
      ],
      "text/latex": [
       "5"
      ],
      "text/markdown": [
       "5"
      ],
      "text/plain": [
       "[1] 5"
      ]
     },
     "metadata": {},
     "output_type": "display_data"
    }
   ],
   "source": [
    "mean_value <- mean(c(82, 69, 72, 71, 79, 65)); mean_value\n",
    "sd_value <- sd(c(82, 69, 72, 71, 79, 65)); sd_value\n",
    "n_value <- length(c(82, 69, 72, 71, 79, 65)); n_value\n",
    "degrees_freedom <- n_value -1; degrees_freedom"
   ]
  },
  {
   "cell_type": "markdown",
   "id": "1064f914",
   "metadata": {},
   "source": [
    "## Calculate the t statistic"
   ]
  },
  {
   "cell_type": "code",
   "execution_count": 2,
   "id": "b5234738",
   "metadata": {},
   "outputs": [
    {
     "data": {
      "text/html": [
       "1.15612873996209"
      ],
      "text/latex": [
       "1.15612873996209"
      ],
      "text/markdown": [
       "1.15612873996209"
      ],
      "text/plain": [
       "[1] 1.156129"
      ]
     },
     "metadata": {},
     "output_type": "display_data"
    }
   ],
   "source": [
    "# t statistic\n",
    "t = (mean_value - 70)/(sd_value/sqrt(n_value));t"
   ]
  },
  {
   "cell_type": "markdown",
   "id": "83ccfe95",
   "metadata": {},
   "source": [
    "## Calculate the pvalue, multiply by 2 since its a two sided test"
   ]
  },
  {
   "cell_type": "code",
   "execution_count": 3,
   "id": "d68be127",
   "metadata": {},
   "outputs": [
    {
     "data": {
      "text/html": [
       "0.299865175568864"
      ],
      "text/latex": [
       "0.299865175568864"
      ],
      "text/markdown": [
       "0.299865175568864"
      ],
      "text/plain": [
       "[1] 0.2998652"
      ]
     },
     "metadata": {},
     "output_type": "display_data"
    }
   ],
   "source": [
    "# two sided test\n",
    "2*pt(t, degrees_freedom, lower.tail=FALSE)"
   ]
  },
  {
   "cell_type": "markdown",
   "id": "9963d798",
   "metadata": {},
   "source": [
    "## Calculate 90% confidence interval"
   ]
  },
  {
   "cell_type": "code",
   "execution_count": 4,
   "id": "7af3e43f",
   "metadata": {},
   "outputs": [
    {
     "data": {
      "text/html": [
       "2.01504837333302"
      ],
      "text/latex": [
       "2.01504837333302"
      ],
      "text/markdown": [
       "2.01504837333302"
      ],
      "text/plain": [
       "[1] 2.015048"
      ]
     },
     "metadata": {},
     "output_type": "display_data"
    }
   ],
   "source": [
    "# t value at 90% and 5 degrees of freedom\n",
    "# since two sided, must divide by 2\n",
    "t_critical <- qt(0.1/2, 5, lower.tail=FALSE); t_critical"
   ]
  },
  {
   "cell_type": "code",
   "execution_count": 5,
   "id": "358040df",
   "metadata": {},
   "outputs": [
    {
     "data": {
      "text/html": [
       "78.2287819782054"
      ],
      "text/latex": [
       "78.2287819782054"
      ],
      "text/markdown": [
       "78.2287819782054"
      ],
      "text/plain": [
       "[1] 78.22878"
      ]
     },
     "metadata": {},
     "output_type": "display_data"
    },
    {
     "data": {
      "text/html": [
       "67.7712180217946"
      ],
      "text/latex": [
       "67.7712180217946"
      ],
      "text/markdown": [
       "67.7712180217946"
      ],
      "text/plain": [
       "[1] 67.77122"
      ]
     },
     "metadata": {},
     "output_type": "display_data"
    }
   ],
   "source": [
    "upper <- mean_value + t_critical * sd_value/sqrt(n_value); upper\n",
    "lower <- mean_value - t_critical * sd_value/sqrt(n_value); lower"
   ]
  },
  {
   "cell_type": "markdown",
   "id": "9f7d5625",
   "metadata": {},
   "source": [
    "## Using the <code>t.test(x, mu=MU0, alt=TYPE, conf.level=CL)</code> method"
   ]
  },
  {
   "cell_type": "code",
   "execution_count": 6,
   "id": "87302074",
   "metadata": {},
   "outputs": [
    {
     "data": {
      "text/plain": [
       "\n",
       "\tOne Sample t-test\n",
       "\n",
       "data:  measurements\n",
       "t = 1.1561, df = 5, p-value = 0.2999\n",
       "alternative hypothesis: true mean is not equal to 70\n",
       "90 percent confidence interval:\n",
       " 67.77122 78.22878\n",
       "sample estimates:\n",
       "mean of x \n",
       "       73 \n"
      ]
     },
     "metadata": {},
     "output_type": "display_data"
    }
   ],
   "source": [
    "measurements <- c(82, 69, 72, 71, 79, 65)\n",
    "t.test(measurements, mu=70, alt='t', conf.level=0.90)"
   ]
  },
  {
   "cell_type": "markdown",
   "id": "0cafc8fc",
   "metadata": {},
   "source": [
    "## Example 1<font color=\"red\"> p value is greater than alpha 0.1, do not reject $H_0$</font> The 90% two sided confidence interval is (67.77122,  78.22878)"
   ]
  },
  {
   "cell_type": "markdown",
   "id": "89864523",
   "metadata": {},
   "source": [
    "<hr style=\"border-top: 5px solid black;\">"
   ]
  },
  {
   "cell_type": "markdown",
   "id": "6291fe5b",
   "metadata": {},
   "source": [
    "<div id=\"objective3\" class=\"alert alert-block alert-warning\" style=\"font-size:16px; border:1px solid black; padding:10px\"><center><h1><br><font color=\"blue\">$\\chi^2$-test on population variance</font></h1></center><br>\n",
    "</div>\n",
    "<div style=\"font-size:16px; border:1px solid black; padding:10px\">\n",
    "    <ul><strong><u>The Basics</u></strong>\n",
    "        <li>Inference test about a population standard deviation (or variance $\\sigma^2$)</li><br>\n",
    "        <li>The $\\chi^2$ test has a sampling distribution of $$\\frac{(n-1)S^2}{\\sigma^2}$$</li><br>\n",
    "        <li>\n",
    "            <ul>Assumptions:\n",
    "                <li>Random sample.</li><br>\n",
    "                <li>The sampled population is normally distributed</li><br>\n",
    "                <li>Sample size is not as important as the t-test.</li><br>\n",
    "            </ul>                \n",
    "        </li><br>\n",
    "        <li>\n",
    "            <ul>Hypothesis test:<br>\n",
    "                <li>Null Hypothesis. $H_o:\\ \\sigma = \\sigma_0 $</li><br>\n",
    "                <li>Alternative Hypothesis 2 sided: $H_o:\\ \\sigma \\neq \\sigma_0 $</li><br>\n",
    "                <li>Alternative Hypothesis 1 sided lower tail: $H_o:\\ \\sigma < \\sigma_0 $</li><br>\n",
    "                <li>Alternative Hypothesis 1 sided upper tail: $H_o:\\ \\sigma > \\sigma_0 $</li><br>\n",
    "            </ul>                \n",
    "        </li><br>  \n",
    "        <li>\n",
    "            <ul>Hypothesis test values:<br>\n",
    "                <li>Parameter of interest. $ \\sigma^2$</li><br>\n",
    "                <li>Point estimate. $s^2$</li><br>\n",
    "                <li>Test statistic. $$x^2=\\frac{(n-1)s^2}{\\sigma_0^2}$$</li><br>\n",
    "                <li>Null distribution: $\\chi^2$ distribution</li><br>\n",
    "                <li>Degrees of freedom: $n\\ -\\ 1$</li><br>\n",
    "            </ul>                \n",
    "        </li><br>\n",
    "        <li>\n",
    "            <ul>Confidence intervals:<br><br>\n",
    "                <li>Calculated as $100(1- \\alpha)$</li><br>\n",
    "                <li>Two-sides: $$\\left(\\frac{(n-1)s^2}{\\chi^2_{df,\\alpha/2}},\\frac{(n-1)s^2}{\\chi^2_{df,1-\\alpha/2}}\\right)$$</li><br>\n",
    "                <li>Upper one-sided: $$\\left(0,\\frac{(n-1)s^2}{\\chi^2_{df,1-\\alpha}}\\right)$$</li><br>\n",
    "                <li>Lower one-sided: $$\\left(\\frac{(n-1)s^2}{\\chi^2_{df,\\alpha}},\\infty\\right)$$</li><br>\n",
    "            </ul>                \n",
    "        </li><br>          \n",
    "    </ul>\n",
    "</div>"
   ]
  },
  {
   "cell_type": "markdown",
   "id": "0b8a8b4c",
   "metadata": {},
   "source": [
    "## Example 2\n",
    "\n",
    " - Rings manufactured in a company were measured to confirm that each ring contains the same amount of gold and does not deviate more than $\\sigma$ = 0.2 g\n",
    " - $\\alpha = 0.01$\n",
    " - $H_0: \\sigma = 0.2$\n",
    " - $H_a: \\sigma \\geq 0.2$\n",
    " - n = 25\n",
    " - df = n -1 = 25 - 1 =24\n",
    " - s = 0.244 g"
   ]
  },
  {
   "cell_type": "code",
   "execution_count": 7,
   "id": "0b27fae8",
   "metadata": {},
   "outputs": [
    {
     "data": {
      "text/html": [
       "35.7216"
      ],
      "text/latex": [
       "35.7216"
      ],
      "text/markdown": [
       "35.7216"
      ],
      "text/plain": [
       "[1] 35.7216"
      ]
     },
     "metadata": {},
     "output_type": "display_data"
    }
   ],
   "source": [
    "# Test statistic\n",
    "exp2_df <- 24\n",
    "s <- 0.244\n",
    "pop_sigma <- 0.2\n",
    "chi_test <- (exp2_df*s^2)/pop_sigma^2;chi_test"
   ]
  },
  {
   "cell_type": "code",
   "execution_count": 8,
   "id": "e47b46e1",
   "metadata": {},
   "outputs": [
    {
     "data": {
      "text/html": [
       "42.9798201393516"
      ],
      "text/latex": [
       "42.9798201393516"
      ],
      "text/markdown": [
       "42.9798201393516"
      ],
      "text/plain": [
       "[1] 42.97982"
      ]
     },
     "metadata": {},
     "output_type": "display_data"
    }
   ],
   "source": [
    "# chi-critical value\n",
    "chi_critical <- qchisq(0.01, 24, lower.tail=FALSE); chi_critical"
   ]
  },
  {
   "cell_type": "markdown",
   "id": "f892309a",
   "metadata": {},
   "source": [
    "## calculate p value"
   ]
  },
  {
   "cell_type": "code",
   "execution_count": 9,
   "id": "beefd3a5",
   "metadata": {},
   "outputs": [
    {
     "data": {
      "text/html": [
       "0.0583944577216368"
      ],
      "text/latex": [
       "0.0583944577216368"
      ],
      "text/markdown": [
       "0.0583944577216368"
      ],
      "text/plain": [
       "[1] 0.05839446"
      ]
     },
     "metadata": {},
     "output_type": "display_data"
    }
   ],
   "source": [
    "# calculate p value\n",
    "chi_p_val <- pchisq(chi_test, 24, lower.tail=FALSE); chi_p_val"
   ]
  },
  {
   "cell_type": "markdown",
   "id": "2dac5aa1",
   "metadata": {},
   "source": [
    "# 99% confidence interval\n",
    "\n",
    " - will need to use lower one-sides, as we are going from the highest value to infinity\n",
    " - need to take the sqrt since this is for the variance, but we want standard deviation"
   ]
  },
  {
   "cell_type": "code",
   "execution_count": 10,
   "id": "87f3fe2a",
   "metadata": {},
   "outputs": [
    {
     "data": {
      "text/html": [
       "0.182332106869846"
      ],
      "text/latex": [
       "0.182332106869846"
      ],
      "text/markdown": [
       "0.182332106869846"
      ],
      "text/plain": [
       "[1] 0.1823321"
      ]
     },
     "metadata": {},
     "output_type": "display_data"
    }
   ],
   "source": [
    "lower <- sqrt((exp2_df*s^2)/chi_critical); lower"
   ]
  },
  {
   "cell_type": "markdown",
   "id": "a87046a0",
   "metadata": {},
   "source": [
    "## Example 2<font color=\"red\"> p value is greater than alpha 0.01 and test statistic is less than critical value, do not reject $H_0$</font>  The 99% one sided lower confidence interval is (-infinity, 0.1823)"
   ]
  },
  {
   "cell_type": "markdown",
   "id": "51922105",
   "metadata": {},
   "source": [
    "<hr style=\"border-top: 5px solid black;\">"
   ]
  },
  {
   "cell_type": "markdown",
   "id": "35431b23",
   "metadata": {},
   "source": [
    "<div id=\"objective4\" class=\"alert alert-block alert-warning\" style=\"font-size:16px; border:1px solid black; padding:10px\"><center><h1><br><font color=\"blue\">z-test on population proportion</font></h1></center><br>\n",
    "</div>\n",
    "<div style=\"font-size:16px; border:1px solid black; padding:10px\">\n",
    "    <ul><strong><u>The Basics</u></strong>\n",
    "        <li>Inference test where we have a categorical variable with two levels</li><br>\n",
    "        <li>The inference is about the proportion <em>p</em>, which is the population of success over the entire population.</li><br>\n",
    "        <li>\n",
    "            <ul>Assumptions:\n",
    "                <li>Random sample where data is binary.</li><br>\n",
    "                <li>Sample size n is “large enough” to invoke the Central Limit Theorem</li><br>\n",
    "                <li>The 𝑛𝑝 and 𝑛(1−𝑝) are at least 5</li><br>\n",
    "            </ul>                \n",
    "        </li><br>\n",
    "        <li>\n",
    "            <ul>Hypothesis test:<br>\n",
    "                <li>Null Hypothesis. $H_o:\\ p = p_0 $</li><br>\n",
    "                <li>Alternative Hypothesis 2 sided: $H_o:\\ p \\neq p_0 $</li><br>\n",
    "                <li>Alternative Hypothesis 1 sided lower tail: $H_o:\\ p < p_0 $</li><br>\n",
    "                <li>Alternative Hypothesis 1 sided upper tail: $H_o:\\ p > p_0 $</li><br>\n",
    "            </ul>                \n",
    "        </li><br>  \n",
    "        <li>\n",
    "            <ul>Hypothesis test values:<br>\n",
    "                <li>Parameter of interest. $p$</li><br>\n",
    "                <li>Point estimate. $\\hat{p}$</li><br>\n",
    "                <li>Standard error under null hypothesis. $$\\sqrt{p_0(1-p_0)/n}$$</li><br>\n",
    "                <li>Test statistic. $$z=\\frac{\\hat p-p_0}{\\sqrt{p_0(1-p_0)/n}}$$</li><br>\n",
    "                <li>Null distribution: standard normal distribution</li><br>\n",
    "                <li>Degrees of freedom: none</li><br>\n",
    "            </ul>                \n",
    "        </li><br>\n",
    "        <li>\n",
    "            <ul>Confidence intervals:<br><br>\n",
    "                <li>Calculated as $100(1- \\alpha)$</li><br>\n",
    "                <li>Two-sides: $$\\left(\\hat p-z_{\\alpha/2}\\sqrt{\\hat p(1-\\hat p)/n},\\hat p+z_{\\alpha/2}\\sqrt{\\hat p(1-\\hat p)/n}\\right)$$</li><br>\n",
    "                <li>Upper one-sided: $$\\left(0,\\hat p+z_{\\alpha}\\sqrt{\\hat p(1-\\hat p)/n}\\right)$$</li><br>\n",
    "                <li>Lower one-sided: $$\\left(\\hat p-z_{\\alpha}\\sqrt{\\hat p(1-\\hat p)/n},1\\right)$$</li><br>\n",
    "            </ul>                \n",
    "        </li><br>          \n",
    "    </ul>\n",
    "</div>"
   ]
  },
  {
   "cell_type": "markdown",
   "id": "24425f3b",
   "metadata": {},
   "source": [
    "## Example 3\n",
    "\n",
    " - 12% of Employees have been arriving late to work, and its believed to be due to the parking garage malfunctions preventing people from coming in.\n",
    " - A new system has been implemented but we need to determine if the proportion of employees running late has decreased.\n",
    " - $\\alpha = 0.05$\n",
    " - $H_0: p = 0.12$\n",
    " - $H_a: p \\leq 0.12$\n",
    " - n = 250\n",
    " - df = none for proportions\n",
    " - 22 out of 250 late with new system"
   ]
  },
  {
   "cell_type": "markdown",
   "id": "1abcc7d0",
   "metadata": {},
   "source": [
    "## Calculate test statistic"
   ]
  },
  {
   "cell_type": "code",
   "execution_count": 11,
   "id": "be4c5bc8",
   "metadata": {},
   "outputs": [
    {
     "data": {
      "text/html": [
       "-1.557"
      ],
      "text/latex": [
       "-1.557"
      ],
      "text/markdown": [
       "-1.557"
      ],
      "text/plain": [
       "[1] -1.557"
      ]
     },
     "metadata": {},
     "output_type": "display_data"
    }
   ],
   "source": [
    "p_hat <- 22/250\n",
    "p_val <- 0.12\n",
    "n_size <- 250\n",
    "z_value <- (p_hat - p_val)/(sqrt(p_val*(1-p_val)/n_size)); round(z_value,4)"
   ]
  },
  {
   "cell_type": "markdown",
   "id": "175d8611",
   "metadata": {},
   "source": [
    "## Calculate p value\n",
    "\n",
    " - one sides, lower tail"
   ]
  },
  {
   "cell_type": "code",
   "execution_count": 12,
   "id": "5ae505af",
   "metadata": {},
   "outputs": [
    {
     "data": {
      "text/html": [
       "0.0597354933858504"
      ],
      "text/latex": [
       "0.0597354933858504"
      ],
      "text/markdown": [
       "0.0597354933858504"
      ],
      "text/plain": [
       "[1] 0.05973549"
      ]
     },
     "metadata": {},
     "output_type": "display_data"
    }
   ],
   "source": [
    "p_test_val <- pnorm(z_value, lower.tail=TRUE); p_test_val"
   ]
  },
  {
   "cell_type": "markdown",
   "id": "d6665270",
   "metadata": {},
   "source": [
    "## Calculate confidence interval\n",
    "\n",
    " - This is an upper one-sided since"
   ]
  },
  {
   "cell_type": "code",
   "execution_count": 13,
   "id": "d48c862b",
   "metadata": {},
   "outputs": [
    {
     "data": {
      "text/html": [
       "1.64485362695147"
      ],
      "text/latex": [
       "1.64485362695147"
      ],
      "text/markdown": [
       "1.64485362695147"
      ],
      "text/plain": [
       "[1] 1.644854"
      ]
     },
     "metadata": {},
     "output_type": "display_data"
    }
   ],
   "source": [
    "# z critical\n",
    "z_upper <- qnorm(0.05, lower.tail=FALSE); z_upper"
   ]
  },
  {
   "cell_type": "code",
   "execution_count": 14,
   "id": "a872a953",
   "metadata": {},
   "outputs": [
    {
     "data": {
      "text/html": [
       "0.117471077038472"
      ],
      "text/latex": [
       "0.117471077038472"
      ],
      "text/markdown": [
       "0.117471077038472"
      ],
      "text/plain": [
       "[1] 0.1174711"
      ]
     },
     "metadata": {},
     "output_type": "display_data"
    }
   ],
   "source": [
    "upper_confidence <- p_hat + z_upper * sqrt(p_hat*(1 - p_hat)/n_size); upper_confidence"
   ]
  },
  {
   "cell_type": "markdown",
   "id": "95159674",
   "metadata": {},
   "source": [
    "## Example 3<font color=\"red\"> p value is greater than alpha 0.05 and test statistic is less than critical value, do not reject $H_0$</font>  The 95% one sided upper confidence interval is (0, 0.1174)"
   ]
  },
  {
   "cell_type": "markdown",
   "id": "5b799e79",
   "metadata": {},
   "source": [
    "<hr style=\"border-top: 5px solid black;\">"
   ]
  }
 ],
 "metadata": {
  "kernelspec": {
   "display_name": "R",
   "language": "R",
   "name": "ir"
  },
  "language_info": {
   "codemirror_mode": "r",
   "file_extension": ".r",
   "mimetype": "text/x-r-source",
   "name": "R",
   "pygments_lexer": "r",
   "version": "4.1.1"
  }
 },
 "nbformat": 4,
 "nbformat_minor": 5
}

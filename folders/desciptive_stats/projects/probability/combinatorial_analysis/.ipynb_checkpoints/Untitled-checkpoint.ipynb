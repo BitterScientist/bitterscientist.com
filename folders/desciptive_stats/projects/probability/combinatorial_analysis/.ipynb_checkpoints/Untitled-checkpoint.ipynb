{
 "cells": [
  {
   "cell_type": "code",
   "execution_count": 1,
   "id": "ee21d413",
   "metadata": {},
   "outputs": [
    {
     "data": {
      "application/javascript": [
       "IPython.OutputArea.prototype._should_scroll = function(lines) {\n",
       "    return false;\n",
       "}\n"
      ],
      "text/plain": [
       "<IPython.core.display.Javascript object>"
      ]
     },
     "metadata": {},
     "output_type": "display_data"
    }
   ],
   "source": [
    "%%javascript\n",
    "IPython.OutputArea.prototype._should_scroll = function(lines) {\n",
    "    return false;\n",
    "}"
   ]
  },
  {
   "cell_type": "markdown",
   "id": "14665edd",
   "metadata": {},
   "source": [
    "<hr style=\"border-top: 5px solid black;\">"
   ]
  },
  {
   "cell_type": "markdown",
   "id": "45a5eac4",
   "metadata": {},
   "source": [
    "<div class=\"alert alert-block alert-info\" style=\"font-size:20px; border:1px solid black; padding:10px\">\n",
    "<center><h1>Post Goals:</h1></center>\n",
    "    <hr style=\"border-top: 2px dashed black;\">\n",
    "    <ol>\n",
    "        <li>Provide an Introduction to Combinatorial Analysis.</li><br>\n",
    "        <li>Provide an Introduction to Permutations.</li><br>\n",
    "        <li>Demonstrate Hot to Perform Permutation Calculations Using Python.</li><br>\n",
    "    </ol>\n",
    "</div>"
   ]
  },
  {
   "cell_type": "markdown",
   "id": "4d722745",
   "metadata": {},
   "source": [
    "<hr style=\"border-top: 5px solid black;\">"
   ]
  },
  {
   "cell_type": "markdown",
   "id": "4be0d291",
   "metadata": {},
   "source": [
    "<div style=\"font-size:16px; border:1px solid black; padding:10px\">\n",
    "<center><h1><br><font color=\"blue\">Post Overview.</font></h1></center>\n",
    "    <ol>\n",
    "        <li><a href=\"#objective1\">Provide an Introduction to Combinatorial Analysis.</a></li><br>\n",
    "        <li><a href=\"#objective2\">Provide an Introduction to Permutations.</a></li><br>\n",
    "        <li><a href=\"#objective3\">Demonstrate Hot to Perform Permutation Calculations Using Python.</a></li><br>\n",
    "<!--         <li><a href=\"#objective4\">.</a></li><br> -->\n",
    "<!--         <li><a href=\"#objective5\">.</a></li><br> -->\n",
    "    </ol>\n",
    "</div>"
   ]
  },
  {
   "cell_type": "markdown",
   "id": "55397a75",
   "metadata": {},
   "source": [
    "<hr style=\"border-top: 5px solid black;\">"
   ]
  },
  {
   "cell_type": "markdown",
   "id": "875717c0",
   "metadata": {},
   "source": [
    "<div id=\"objective\" class=\"alert alert-block alert-warning\" style=\"font-size:16px; border:1px solid black; padding:10px\"><center><h1><br><font color=\"blue\">Provide an Introduction to Combinatorial Analysis.</font></h1></center><br>\n",
    "</div>\n",
    "<div style=\"font-size:16px; border:1px solid black; padding:10px\">\n",
    "    <ul><strong><u>The Basics</u></strong>\n",
    "        <li>Combinatorial analysis is a branch of mathematics devoted to the solution of problems of choosing and arranging elements of certain sets.</li><br>        \n",
    "        <li>Combinatorial analysis consists of a set of methods that are used to construct configurations of elements in a given set or configurations.</li><br> \n",
    "        <li>Combinatorial analysis is known for solving permutation and combinations problems.</li><br> \n",
    "        <li>Combinatorial analysis includes topics such as:\n",
    "            <ul><strong><u></u></strong>\n",
    "                <li>Enumeration</li>\n",
    "                <li>Generating Functions</li>\n",
    "                <li>Recurrence relations</li>\n",
    "                <li>Construction of bijections</li>\n",
    "                <li>Graph Theory</li>\n",
    "                <li>Network Algorithms</li>\n",
    "                <li>Extreme Combinations</li>              \n",
    "            </ul>\n",
    "        </li><br>\n",
    "        <li><mark>This post will focus on permutations</mark>.</li><br>     \n",
    "    </ul>\n",
    "    <hr style=\"border-top: 1px dashed black;\">\n",
    "    <ul><strong><u>Why is Combinatorial Analysis Import</u></strong>\n",
    "        <li>Combinatorics are important in computer science, where they are used to estimate the number of operations a computer algorithm will require.</li><br>        \n",
    "        <li>Combinatorics is useful in counting applications, especially when you need to calculate the number of ways to perform a finite sequence of operations.</li><br> \n",
    "        <li>Combinatorics is useful is helping determine how objects are arranged or selected..</li><br>\n",
    "        <li>This branch of mathematics also helps drawing. bijections (count the number of integral solutions to an equation with form \\(x_{1} + x_{2} + ... x_{n} = k \\).</li><br>\n",
    "        <li>Common applications include: \n",
    "            <ul><strong><u></u></strong>\n",
    "                <li>cellphone communication error correcting codes</li><br>\n",
    "                <li>Game programming -- polygon optimization</li><br>\n",
    "                <li>Website comment hierarchies</li><br>\n",
    "            </ul>\n",
    "        </li><br>\n",
    "    </ul>\n",
    "    <hr style=\"border-top: 1px dashed black;\">\n",
    "    <ul><strong><u>How is Combinatorial Analysis Relevant to Statistics?</u></strong>\n",
    "        <li>This branch of mathematics is used to calculate the number of possible outcomes in subsets from larger sets. This is the foundation of sampling in statistics.</li><br>        \n",
    "        <li>Combinatorics is useful designing research projects or studies in social sciences.</li><br> \n",
    "        <li>Combinatorics is also used in dealing with finite sets of possible events, for example if you have random variable with a finite domain, and you want to find the distribution of that that random variable, you need to find out all the possible outcomes that can sum up to a specific value.</li><br>\n",
    "        <li>Statistical methods that use combinatorial methods include non-parametric statistics, statistical distribution theory, and waiting time problems / queuing theory.</li><br>\n",
    "    </ul>    \n",
    "</div>"
   ]
  },
  {
   "cell_type": "markdown",
   "id": "c4898374",
   "metadata": {},
   "source": [
    "<hr style=\"border-top: 5px solid black;\">"
   ]
  },
  {
   "cell_type": "markdown",
   "id": "6d22ccbc",
   "metadata": {},
   "source": [
    "<div id=\"objective\" class=\"alert alert-block alert-warning\" style=\"font-size:16px; border:1px solid black; padding:10px\"><center><h1><br><font color=\"blue\">Provide an Introduction to Permutations.</font></h1></center><br>\n",
    "</div>\n",
    "<div style=\"font-size:16px; border:1px solid black; padding:10px\">\n",
    "    <ul><strong><u>The Basics</u></strong>\n",
    "        <li><strong>Permutation</strong> of a set is the arrangement of its members into sequences or linear order, or rearrangement of an already existing set of elements.</li><br>        \n",
    "        <li>Permutation is also used to changE the linear order of an ordered set.</li><br> \n",
    "        <li>Permutation is used in combinatorial problems where the order matters.</li><br>\n",
    "        <li>If the oder does not matter, than you would use a combination.</li><br>        \n",
    "        <li>Permutation is ordered combination and can be thought of as a combination padlock, where the order of the elements are important for the padlock to unlock.</li><br>        \n",
    "        <li>There are two types of permutation problems, those that allow repetition and those that do not.</li>\n",
    "     </ul>\n",
    "    <hr style=\"border-top: 1px dashed black;\">\n",
    "    <ul><mark><strong><u>Permutations with repetition</u></strong></mark><br><br>\n",
    "        <li>Using padlock example, the lock can have repeating integers or characters, such as 722271.</li><br>\n",
    "                <li>Permutations with repetition have no restrictions on how often an element can appear in an <em>n-tuple</em>.</li><br>\n",
    "                <li>Permutation with repetition can also be considered an ordered arrangements of <em>n</em> elements of a set \\(S\\), where the repetition is called an <em>n-tuple</em>.</li><br>\n",
    "                <li>If the set \\(S\\) has set \\(k\\) elements, the number of <em>n-tuple</em> over set \\(S\\) is set \\(k^{n}\\).</li><br>\n",
    "            <li>\n",
    "            <ul><strong><u>Common problems</u>:</strong>\n",
    "                <li>How many different arrangements are possible when elements of a collection of objects have repeated, indistinguishable objects?</li><br>\n",
    "                <li>How many potential orders are possible from a collection of objects within a set of objects. </li><br>\n",
    "                <li>How many different arrangements can be made from letters? (if there are repeat characters)</li><br>                \n",
    "            </ul>\n",
    "        </li><br>\n",
    "        <hr style=\"border-top: 0.5px dashed black;\">\n",
    "        <li>There are three common formulas used with permutations that allow repetition\n",
    "            <ol><strong><u></u></strong>\n",
    "                <li><strong>The Formula for computing permutations with repetition where all elements in the sequence are unique:</strong><br><br>\n",
    "                \\[n^{k}\\]<br>\n",
    "            where <em>n</em> is the total number of elements in a set<br>\n",
    "            and <em>k</em> is the number of elements selected from the set<br><br>\n",
    "                <ul><strong><u>Example</u></strong>\n",
    "                    <li>Determine the number of permutations that can be arranged from the 10 ribonucleic acid sequence <code>UACUGCCUAG</code> when the ribonucleic acids can be repeated.</li><br>\n",
    "                    <li>sequence length \\(n = 10\\)</li><br>\n",
    "                    <li>Number of elements selected from the set \\(k = 10\\)</li><br>\n",
    "                    <li>\\(10^{10} = 10000000000\\)</li><br>\n",
    "                </ul>\n",
    "                </li><br>\n",
    "                    <hr style=\"border-top: 0.5px dashed black;\">\n",
    "                <li><strong>The formula for computing the total number of permutations when the arrangement contains repetitive elements in the sequence is as follows:</strong><br>\n",
    "                \\[\\frac{n!}{n_{1}!n_{2}!...!n_{r}!}\\]<br>\n",
    "                where \\(n_{1}\\), \\(n_{2}\\), \\(n_{r}\\) are permutations of <em>n</em> objects where \\(n_{1}\\) are alike, \\(n_{2}\\) are alike and \\(n_{r}\\) are alike.<br><br>\n",
    "                <ul><strong><u>Example</u></strong>\n",
    "                    <li>An alphabetic combination lock with 6 positions can be opened with the word <code>mississippi</code>. How many different letter arrangements can be formed from the word <code>mississippi</code>.</li><br>\n",
    "                    <li>sequence length \\(n = 11\\)</li><br>\n",
    "                    <li>repeating characters: <code>[i, s, p]</code></li><br>\n",
    "                    <li>\\(n_{i} = 4\\), \\(n_{s} = 4\\), \\(n_{p} = 2\\)</li><br>\n",
    "                    <li>number of arrangements = \\(\\frac{11!}{4!*4!*2!}\\) = 34650</li><br>\n",
    "                </ul>\n",
    "                </li><br>\n",
    "                <hr style=\"border-top: 0.5px dashed black;\">\n",
    "                <li><strong>The formula for computing the number of different ordered arrangements for a sequences of elements with <em>n</em> objects, and repeated subsets of <em>n</em> objected:</strong><br><br>\n",
    "                    \\[\\frac{n!}{(n-r)!}\\]<br><br>\n",
    "                    where \\(n\\) is the number of elements in the set<br>\n",
    "                    \\(r\\) is a subset of all the elements and is number of elements you want ordered<br>\n",
    "                    There are no repetitions<br>\n",
    "                    Order matters<br><br>\n",
    "                    <ul><strong><u>Example</u></strong>\n",
    "                    <li>A tournament with four teams {A, B, C, D} with a total of 10 players.</li><br>\n",
    "                    <li>Team A has 4, Team B has 3, Team C has 2 and Team D has 1 player.</li><br>\n",
    "                    <li>The tournament will list the order in which the players will be placed but will only refer to their team letter {A, B, C, D}.</li><br>\n",
    "                    <li>How many outcomes are possible?</li><br>\n",
    "                    <li>Number of outcomes = \\(\\frac{10!}{4!3!2!1!}\\) = 12,600</li><br>\n",
    "                </ul>\n",
    "                </li><br>        \n",
    "            </ol>\n",
    "            </li><br>\n",
    "    </ul>\n",
    "    <hr style=\"border-top: 1px dashed black;\">\n",
    "    <ul><mark><strong><u>Permutation with no repetition</u></strong></mark><br><br>\n",
    "        <li>These permutation problems, the number of available choices are reduced each time.</li><br>\n",
    "        <li>\n",
    "            <ul><strong><u>Common problems</u>:</strong>\n",
    "                <li>How many different orders are possible?</li><br>\n",
    "                <li>How many rankings are possible (assuming no repetition)?</li><br>\n",
    "                <li>How many rankings are possible for different groups?</li><br>\n",
    "                <li>How many possible arrangements are possible of a collection of objects (from a set)?</li><br>\n",
    "                <li>How many ways can objects be positions or placed?</li><br>             \n",
    "            </ul>\n",
    "        </li><br>\n",
    "                <hr style=\"border-top: 0.5px dashed black;\">\n",
    "        <li>There are two common formulas used with permutations that allow repetition<br>\n",
    "            <ol>\n",
    "                <li><strong>The formula for computing the number of different ordered arrangements for a sequences of elements with <em>n</em> objects:</strong><br><br>\n",
    "            \\[n(n-1)(n-2)(n-3)...3*2*1 = n!\\]<br><br>\n",
    "                    <ul><strong><u>Example</u></strong>\n",
    "                        <li>At the start of a basketball game, players enter one by one into the court. How many different orders are possible of a team consisting of 10 players.</li><br>\n",
    "                        <li>sequence length \\(n = 10\\)</li><br>\n",
    "                        <li>There happens to be no repeating elements here since players are only counted once, and entering once.</li><br>\n",
    "                        <li>number of ordered arrangements = \\(n=10!\\) = 3,628,800</li><br>\n",
    "                    </ul>\n",
    "                </li><br>\n",
    "                <hr style=\"border-top: 0.5px dashed black;\">\n",
    "                <li><strong>The formula for computing the number of different ordered arrangements for a sequences of elements with <em>n</em> objects, although only the arrangement for a subset of <em>n</em> objects, refer to as <em>r</em>:</strong><br><br>\n",
    "                    \\[\\frac{n!}{(n-r)!}\\]<br><br>\n",
    "                    where \\(n\\) is the number of elements in the set<br>\n",
    "                    \\(r\\) is a subset of all the elements and is number of elements you want ordered<br>\n",
    "                    There are no repetitions<br>\n",
    "                    Order matters<br><br>\n",
    "                    <ul><strong><u>Example</u></strong>\n",
    "                        <li>A billiard players want to know out of the 16 billiard balls, for the first three billiard balls, what are the total number of possible arrangement. Example billiard balls {1, 2, 6}, or {3,12,13}, etc</li><br>\n",
    "                        <li>How many outcomes are possible?</li><br>\n",
    "                        <li>Number of outcomes = \\(\\frac{16!}{(16-3)!}\\) = 3,360 combinations of possible arrangements</li><br>\n",
    "                    </ul>\n",
    "                </li><br>\n",
    "            </ol>\n",
    "    <hr style=\"border-top: 1px dashed black;\">\n",
    "         <ul><strong><u>Applications</u></strong>\n",
    "        <li>Permutations are used in almost every branch of mathematics, and computer science.</li><br>        \n",
    "        <li>In computer science, permutations are used for analyzing sorting algorithms.</li><br> \n",
    "        <li>In biology, permutations are used to describe nucleic acid sequences.</li><br>\n",
    "        <li>In quantum physics, permutations are used to describe the states of particles.</li><br>        \n",
    "    </ul>\n",
    "<!--     <hr style=\"border-top: 1px dashed black;\">\n",
    "        <ul><strong><u>Mathematical Proof</u></strong>\n",
    "        <li>.</li><br>        \n",
    "        <li>.</li><br> \n",
    "        <li>.</li><br>\n",
    "        <li>.</li><br>        \n",
    "        <li>.</li><br>        \n",
    "        <li>.</li><br> \n",
    "        <li>.</li><br>\n",
    "    </ul>     -->\n",
    "</div>"
   ]
  },
  {
   "cell_type": "markdown",
   "id": "633b4a52",
   "metadata": {},
   "source": [
    "<hr style=\"border-top: 5px solid black;\">"
   ]
  },
  {
   "cell_type": "markdown",
   "id": "f6ac12cd",
   "metadata": {},
   "source": [
    "<div id=\"objective\" class=\"alert alert-block alert-warning\" style=\"font-size:16px; border:1px solid black; padding:10px\"><center><h1><br><font color=\"blue\">Demonstrate How to Perform Permutation Calculations Using Python.</font></h1></center><br>\n",
    "</div>\n",
    "<div style=\"font-size:16px; border:1px solid black; padding:10px\">\n",
    "    <ul><strong><u></u></strong>\n",
    "        <li>View Permutations using <a href=\"https://docs.python.org/3/library/itertools.html#itertools.permutations\">itertools and permutations</a>.</li><br>        \n",
    "        <li>Calculate total number of outcomes using Basic Principle of Countin.</li><br>\n",
    "        <li>Calculate permutations with repetition.</li><br> \n",
    "        <li>Calculate permutations without repetition.</li><br>\n",
    "<!--         <li>.</li><br>        \n",
    "        <li>.</li><br>        \n",
    "        <li>.</li><br> \n",
    "        <li>.</li><br> -->\n",
    "    </ul>\n",
    "</div>"
   ]
  },
  {
   "cell_type": "code",
   "execution_count": 2,
   "id": "3e7ad217",
   "metadata": {},
   "outputs": [],
   "source": [
    "import numpy as np # numpy library for scientific calculations\n",
    "from itertools import permutations # Return successive r length permutations of elements in the iterable."
   ]
  },
  {
   "cell_type": "markdown",
   "id": "ed402d16",
   "metadata": {},
   "source": [
    "<h1>View Permutations</h1>"
   ]
  },
  {
   "cell_type": "code",
   "execution_count": 3,
   "id": "ec9b6773",
   "metadata": {},
   "outputs": [
    {
     "name": "stdout",
     "output_type": "stream",
     "text": [
      "(1, 2, 3)\n",
      "(1, 3, 2)\n",
      "(2, 1, 3)\n",
      "(2, 3, 1)\n",
      "(3, 1, 2)\n",
      "(3, 2, 1)\n"
     ]
    }
   ],
   "source": [
    "# A Python program to print all\n",
    "# permutations using library function\n",
    "from itertools import permutations\n",
    " \n",
    "# Get all permutations of [1, 2, 3]\n",
    "perm = permutations([1, 2, 3])\n",
    " \n",
    "# Print the obtained permutations\n",
    "for i in list(perm):\n",
    "    print (i)"
   ]
  },
  {
   "cell_type": "markdown",
   "id": "12941154",
   "metadata": {},
   "source": [
    "<div style=\"font-size:16px; border:1px solid black; padding:10px\">\n",
    "    <h1>Basic principle of counting</h1>\n",
    "    <p>If a series of experiment is to be performed such that the first experiment results in any of \\(n_{1}\\) possible outcomes, and the second results in \\(n_{2}\\) possible outcomes, and so on.<br><br>\n",
    "        The total number of possible outcomes is \\((n_{1} * n_{2} * ... * n_{r}) \\), where r is the total number of experiments. </p>\n",
    "<ul><strong><u>Problem:</u><br> The DVM wants to know if 7-place license plates had 2 letters in the first 2 positions, and numbers in the last 5 positions,<br>\n",
    "    How many possible permutations (license plates) are possible?</strong><br><br>\n",
    "    <li><strong>Formula:</strong> \\(n_{alphabet}*n_{alphabet}*n_{number}*n_{number}*n_{number}*n_{number}*n_{number}\\).</li><br>\n",
    "    <li><strong>Process:</strong> The first two positions will use characters, and can take on 26 values and no restriction on repetition were placed in the problem statement.<br> \n",
    "        The numbers can take on any value between [0,9] and this is a total of n of 10.\n",
    "</ul><br>\n",
    "</div>"
   ]
  },
  {
   "cell_type": "code",
   "execution_count": 4,
   "id": "9d034437",
   "metadata": {},
   "outputs": [
    {
     "name": "stdout",
     "output_type": "stream",
     "text": [
      "The number of permutations is: 67600000\n"
     ]
    }
   ],
   "source": [
    "n_alphabet = 26\n",
    "r_alphabet = 2\n",
    "n_numbers = 10\n",
    "r_numbers = 5\n",
    "\n",
    "def repeat_permutations(n_1, r1, n_2, r2):\n",
    "    return (n_1**r1)*(n_2**r2)\n",
    "\n",
    "n_license = repeat_permutations(n_alphabet, r_alphabet, n_numbers, r_numbers)\n",
    "print(f'The number of permutations is: {n_license}')"
   ]
  },
  {
   "cell_type": "markdown",
   "id": "5a74067f",
   "metadata": {},
   "source": [
    "<hr style=\"border-top: 5px solid black;\">"
   ]
  },
  {
   "cell_type": "markdown",
   "id": "8195140c",
   "metadata": {},
   "source": [
    "<h1>Calculate permutations with repetition.</h1>"
   ]
  },
  {
   "cell_type": "markdown",
   "id": "9e41925a",
   "metadata": {},
   "source": [
    "<div style=\"font-size:16px; border:1px solid black; padding:10px\">\n",
    "<ul><strong><u>Problem:</u><br> A padlock has 4 slots, and each slot can take on any value between [0,9].<br>\n",
    "    How many password permutations are possible?</strong><br><br>\n",
    "    <li><strong>Formula:</strong> \\(n^{n}\\).</li><br>\n",
    "    <li><strong>Rationale:</strong> Each slot in the padlock can take on any value.<br> \n",
    "        The order of those numbers was not requested in the question.<br>\n",
    "        The values in each slot are independent from the other slots, so repetition is allowed.<br>\n",
    "        Each slot has n possible choices.<br>  \n",
    "        Slot one has n choices, slot 2 has n choices, and so on.</li>\n",
    "</ul><br>\n",
    "</div>"
   ]
  },
  {
   "cell_type": "code",
   "execution_count": 5,
   "id": "7e72ad9f",
   "metadata": {},
   "outputs": [],
   "source": [
    "def exponential_permutation(n, r):\n",
    "    if n == 1: return 1\n",
    "    else: return n**r"
   ]
  },
  {
   "cell_type": "code",
   "execution_count": 6,
   "id": "bd7a7376",
   "metadata": {},
   "outputs": [
    {
     "name": "stdout",
     "output_type": "stream",
     "text": [
      "The number of permutations is: 10000\n"
     ]
    }
   ],
   "source": [
    "n = 10 # total number of objects to select from (set size)\n",
    "r = 4 # number of slots\n",
    "print(f'The number of permutations is: {exponential_permutation(n, r)}')"
   ]
  },
  {
   "cell_type": "markdown",
   "id": "7908a300",
   "metadata": {},
   "source": [
    "<div style=\"font-size:16px; border:1px solid black; padding:10px\">\n",
    "<ul><strong><u>Problem:</u><br>A die is rolled four times. How many possible outcomes are possible.</strong><br><br>\n",
    "    <li><strong>Formula:</strong> \\(n^{n}\\).</li><br>\n",
    "    <li><strong>Rationale:</strong> Each roll of the die is independent of each other.<br> \n",
    "        The order of those numbers was not requested in the question and not relevant.<br>\n",
    "        Repetition is allowed.<br>\n",
    "        the number of outcomes per role \\(n \\) is {1,2,3,4,5,6} <br>\n",
    "        Each role has n possible choices.<br>  \n",
    "        Roll one has 6 possibilities, roll 2 has 6 possibilities, roll 3 has 6 possibilities and roll 4 has 6 possibilities.</li>\n",
    "</ul><br>\n",
    "</div>"
   ]
  },
  {
   "cell_type": "code",
   "execution_count": 7,
   "id": "e16a2381",
   "metadata": {},
   "outputs": [
    {
     "name": "stdout",
     "output_type": "stream",
     "text": [
      "The number of permutations is: 1296\n"
     ]
    }
   ],
   "source": [
    "n = 6 # total number of objects to select from (set size)\n",
    "r = 4 # number of die rolls\n",
    "print(f'The number of permutations is: {exponential_permutation(n, r)}')"
   ]
  },
  {
   "cell_type": "markdown",
   "id": "d57a5fdc",
   "metadata": {},
   "source": [
    "<div style=\"font-size:16px; border:1px solid black; padding:10px\">\n",
    "<ul><strong><u>Problem:</u><br>A band with four player has two players (Martha and Jay) that can play four instruments, while the other two players (Mario, Terrence) can only play 2 instruments.<br>\n",
    "    If the players were to select which instruments they will play, how many arrangements are possible?\n",
    "    </strong><br><br>\n",
    "    <li><strong>Formula:</strong> \\(n_{group 1}!*n_{group 2}!\\).</li><br>\n",
    "    <li><strong>Rationale:</strong> For a given instance, each player can only play one instrument. No repetition per instance.<br> \n",
    "        The order of those numbers was not requested in the question and not relevant.<br>\n",
    "        Repetition is not allowed.<br>\n",
    "        the number of instruments that 2 of the players that can play all instruments is \\(n_{all instruments} \\) is {1,2,3,4} <br>\n",
    "         the number of instruments that 2 of the players that can only play 2 instruments is \\(n_{2_instruments} \\) is {1,2} <br>\n",
    "        We would need to multiply both factorials<br>\n",
    "</ul><br>\n",
    "</div>"
   ]
  },
  {
   "cell_type": "code",
   "execution_count": 8,
   "id": "53c60ebc",
   "metadata": {},
   "outputs": [],
   "source": [
    "# A Python function to calculate factorial\n",
    "def factorial(n):\n",
    "    if n == 1: return 1\n",
    "    else: return n* factorial(n-1)"
   ]
  },
  {
   "cell_type": "code",
   "execution_count": 9,
   "id": "1fc01742",
   "metadata": {},
   "outputs": [],
   "source": [
    "# A Python function to calculate factorial\n",
    "def grouped_factorial(n1, n2):\n",
    "    return factorial(n1) * factorial(n2)"
   ]
  },
  {
   "cell_type": "code",
   "execution_count": 10,
   "id": "ff0ede0f",
   "metadata": {},
   "outputs": [
    {
     "name": "stdout",
     "output_type": "stream",
     "text": [
      "The number of permutations is: 4\n"
     ]
    }
   ],
   "source": [
    "n1 = 2 # total number of instruments that Mario and Terrence can play\n",
    "n2 = 2 # total number of instruments that Martha and Jay can play even though they could play all four\n",
    "print(f'The number of permutations is: {grouped_factorial(n1, n2)}')"
   ]
  },
  {
   "cell_type": "markdown",
   "id": "ce446c3a",
   "metadata": {},
   "source": [
    "<div style=\"font-size:16px; border:1px solid black; padding:10px\">\n",
    "<ul><strong><u>Problem:</u><br>A classroom has 12 students, 6 biology majors, 4 math majors, 1 political science, and 1 english major.<br>\n",
    "    If the TA was going to line the students up, how many possible arrangements are possible?\n",
    "    </strong><br><br>\n",
    "    <li><strong>Formula:</strong> \\(\\frac{n_{total}!}{n_{ps}!*n_{bm}!*n_{mm}!*n_{em}!}\\).</li><br>\n",
    "    <li><strong>Rationale:</strong> We want to know all the possible arrangements when elements of the total set has repeated objects. In this case, we have 6 biology, and 4 math. These are repeated elements.<br> \n",
    "        The order of those numbers was not requested in the question and not relevant.<br>\n",
    "        Repetition is allowed.<br>\n",
    "        We will need to divide the total factorial by the factorial of the smaller subset groups (majors).<br>\n",
    "</ul><br>\n",
    "</div>"
   ]
  },
  {
   "cell_type": "code",
   "execution_count": 11,
   "id": "9189339d",
   "metadata": {},
   "outputs": [],
   "source": [
    "# A Python function to calculate factorial\n",
    "def grouped_factorial(n1, n2, n3, n4):\n",
    "    nt = n1 + n2 + n3 + n4\n",
    "    total_arrangements = factorial(nt)/(factorial(n1) * factorial(n2) * factorial(n3) * factorial(n4))\n",
    "    return total_arrangements"
   ]
  },
  {
   "cell_type": "code",
   "execution_count": 12,
   "id": "0c205c57",
   "metadata": {},
   "outputs": [
    {
     "name": "stdout",
     "output_type": "stream",
     "text": [
      "The number of permutations is: 27720.0\n"
     ]
    }
   ],
   "source": [
    "n1 = 6 # biology\n",
    "n2 = 4 # math\n",
    "n3 = 1 # english\n",
    "n4 = 1 # poly science\n",
    "print(f'The number of permutations is: {grouped_factorial(n1, n2, n3, n4)}')"
   ]
  },
  {
   "cell_type": "markdown",
   "id": "55397a75",
   "metadata": {},
   "source": [
    "<hr style=\"border-top: 5px solid black;\">"
   ]
  },
  {
   "cell_type": "markdown",
   "id": "168c5140",
   "metadata": {},
   "source": [
    "<h1>Calculate permutations without repetition.</h1>"
   ]
  },
  {
   "cell_type": "markdown",
   "id": "ed477c0a",
   "metadata": {},
   "source": [
    "<div style=\"font-size:16px; border:1px solid black; padding:10px\">\n",
    "<ul><strong><u>Problem:</u><br>I have size 6 books. How many ways can I arrange the books in my bookshelf?<br>\n",
    "    </strong><br><br>\n",
    "    <li><strong>Formula:</strong> \\(n!\\).</li><br>\n",
    "    <li><strong>Rationale:</strong> We want to know all the possible arrangements of books.<br> \n",
    "        Each book is unique, and we aren't told the books are part of a subset category (such as 2 are math, 2 are history, and 2 are sci-fi) that we need to incorporate in our arrangements.<br>\n",
    "        Repetition is therefore not allowed.<br><br>\n",
    "</ul><br>\n",
    "</div>"
   ]
  },
  {
   "cell_type": "code",
   "execution_count": 13,
   "id": "3b171c4c",
   "metadata": {},
   "outputs": [
    {
     "name": "stdout",
     "output_type": "stream",
     "text": [
      "The number of book arrangements is: 720\n"
     ]
    }
   ],
   "source": [
    "n = 6 # total books\n",
    "print(f'The number of book arrangements is: {factorial(n)}')"
   ]
  },
  {
   "cell_type": "code",
   "execution_count": null,
   "id": "1a326abf",
   "metadata": {},
   "outputs": [],
   "source": []
  },
  {
   "cell_type": "code",
   "execution_count": null,
   "id": "efb6b5c1",
   "metadata": {},
   "outputs": [],
   "source": []
  },
  {
   "cell_type": "code",
   "execution_count": null,
   "id": "23afed1d",
   "metadata": {},
   "outputs": [],
   "source": []
  }
 ],
 "metadata": {
  "kernelspec": {
   "display_name": "Python 3 (ipykernel)",
   "language": "python",
   "name": "python3"
  },
  "language_info": {
   "codemirror_mode": {
    "name": "ipython",
    "version": 3
   },
   "file_extension": ".py",
   "mimetype": "text/x-python",
   "name": "python",
   "nbconvert_exporter": "python",
   "pygments_lexer": "ipython3",
   "version": "3.9.5"
  }
 },
 "nbformat": 4,
 "nbformat_minor": 5
}

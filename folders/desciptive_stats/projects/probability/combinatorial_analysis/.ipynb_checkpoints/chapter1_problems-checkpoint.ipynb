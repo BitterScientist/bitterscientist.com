{
 "cells": [
  {
   "cell_type": "code",
   "execution_count": 73,
   "metadata": {},
   "outputs": [
    {
     "data": {
      "application/javascript": [
       "IPython.OutputArea.prototype._should_scroll = function(lines) {\n",
       "    return false;\n",
       "}\n"
      ],
      "text/plain": [
       "<IPython.core.display.Javascript object>"
      ]
     },
     "metadata": {},
     "output_type": "display_data"
    }
   ],
   "source": [
    "%%javascript\n",
    "IPython.OutputArea.prototype._should_scroll = function(lines) {\n",
    "    return false;\n",
    "}"
   ]
  },
  {
   "cell_type": "markdown",
   "metadata": {},
   "source": [
    "<hr style=\"border-top: 5px solid black;\">"
   ]
  },
  {
   "cell_type": "code",
   "execution_count": 74,
   "metadata": {},
   "outputs": [],
   "source": [
    "import numpy as np"
   ]
  },
  {
   "cell_type": "markdown",
   "metadata": {},
   "source": [
    "# Formulas"
   ]
  },
  {
   "cell_type": "markdown",
   "metadata": {},
   "source": [
    "<ul style=\"list-style-type:none;\">\n",
    "    <li><strong>basic counting</strong> \\(n^{k}\\)<br>\n",
    "where n is the number of elements in a set<br>r is the number of instances</li><br>\n",
    "    <li><strong>The formula for computing the number of different ordered arrangements for a sequences of elements with <em>n</em> objects, and repeated subsets of <em>n</em> objected:</strong><br><br>\n",
    "\\[\\frac{n!}{n_{1}!n_{2}!...!n_{r}!}\\]<br>\n",
    "                where \\(n_{1}\\), \\(n_{2}\\), \\(n_{r}\\) are permutations of <em>n</em> objects where \\(n_{1}\\) are alike, \\(n_{2}\\) are alike and \\(n_{r}\\) are alike.<br><br>\n",
    "    </li><br>\n",
    "        <li><strong>Permutation equation </strong><br><br>\n",
    "\\[_{n}P_{r} = \\frac{n!}{(n - r)!}\\]<br>\n",
    "    </li><br>\n",
    "    <li><strong>Counting technique, the number of different arrangements of n objects using r\\(\\leq \\) n:</strong><br><br>\n",
    "\\[_{n}C_{r} = \\frac{n!}{r!(n - r)!}\\]<br>\n",
    "    </li>\n",
    "</ul>"
   ]
  },
  {
   "cell_type": "markdown",
   "metadata": {},
   "source": [
    "# Chapter 1 problems"
   ]
  },
  {
   "cell_type": "markdown",
   "metadata": {},
   "source": [
    "<h2>1a</h2>\n",
    " - How many different 7-place license plates are possible if the first 2 are letters and last 5 are numbers<br>\n",
    " - numbers can repeat<br>\n",
    " - We are not asked to provide a specific order or arrangement<br>\n",
    " - Solve problem using basic principles of counting<br>"
   ]
  },
  {
   "cell_type": "code",
   "execution_count": 3,
   "metadata": {},
   "outputs": [
    {
     "data": {
      "text/plain": [
       "67600000"
      ]
     },
     "execution_count": 3,
     "metadata": {},
     "output_type": "execute_result"
    }
   ],
   "source": [
    "n_letters = 26\n",
    "n_numbers = 10\n",
    "\n",
    "n_plates = (n_letters**2)*(n_numbers**5)\n",
    "n_plates"
   ]
  },
  {
   "cell_type": "markdown",
   "metadata": {},
   "source": [
    "<h2>1b</h2>\n",
    " - How many different 7-plate license plates are possible if the first 2 are letters and last 5 are numbers<br>\n",
    " - No letter or number can repeat<br>\n",
    " - We are not asked to provide a specific order or arrangement<br>\n",
    " - Solve problem using basic principles of counting<br>"
   ]
  },
  {
   "cell_type": "code",
   "execution_count": 4,
   "metadata": {},
   "outputs": [
    {
     "data": {
      "text/plain": [
       "19656000"
      ]
     },
     "execution_count": 4,
     "metadata": {},
     "output_type": "execute_result"
    }
   ],
   "source": [
    "n_plates = 26*25*10*9*8*7*6\n",
    "n_plates"
   ]
  },
  {
   "cell_type": "markdown",
   "metadata": {},
   "source": [
    "<h2>2</h2>\n",
    " - How many outcomes sequences are possible when a die is rolled four times<br>\n",
    " - Set is {1, 2, 3, 4, 5 6}<br>\n",
    " - Repetition? Yes <br>\n",
    " - Specific order? No<br>\n",
    " - Solve problem using basic principles of counting<br>"
   ]
  },
  {
   "cell_type": "code",
   "execution_count": 5,
   "metadata": {},
   "outputs": [
    {
     "data": {
      "text/plain": [
       "1296"
      ]
     },
     "execution_count": 5,
     "metadata": {},
     "output_type": "execute_result"
    }
   ],
   "source": [
    "n = 6\n",
    "r = 4\n",
    "\n",
    "n_outcomes = 6**4\n",
    "n_outcomes"
   ]
  },
  {
   "cell_type": "markdown",
   "metadata": {},
   "source": [
    "<h2>3</h2>\n",
    " - twenty workers to be assigned to 20 jobs<br>\n",
    " - n_workers = 20<br>\n",
    " - n_jobs = 20<br>\n",
    " - Arrangement? Yes, jobs<br>\n",
    " - Repetition? No <br>\n",
    " - Specific order? Yes, one job per person<br>\n",
    " - How many different assignments are possible<br>\n",
    " - Solve problem using factorial because once a position was assigned it is no longer available, so the numbers descent from 20 to 1<br>"
   ]
  },
  {
   "cell_type": "code",
   "execution_count": 6,
   "metadata": {},
   "outputs": [],
   "source": [
    "# A Python function to calculate factorial\n",
    "def factorial(n):\n",
    "    if n == 1: return 1\n",
    "    else: return n* factorial(n-1)"
   ]
  },
  {
   "cell_type": "code",
   "execution_count": 7,
   "metadata": {},
   "outputs": [
    {
     "data": {
      "text/plain": [
       "2432902008176640000"
      ]
     },
     "execution_count": 7,
     "metadata": {},
     "output_type": "execute_result"
    }
   ],
   "source": [
    "n_outcomes = np.math.factorial(20)\n",
    "n_outcomes"
   ]
  },
  {
   "cell_type": "markdown",
   "metadata": {},
   "source": [
    "<h2>4a</h2>\n",
    " - John, Jim, jay, Jack are in a band<br>\n",
    " - They can all play four instruments<br>\n",
    " - how many different arrangements are possible?<br>\n",
    " - Repetition? No, they can only use one instrument<br>\n",
    " - Specific order? No<br>\n",
    " - Solve problem using factorial because once a position was assigned it is no longer available, so the numbers descent from 4 to 1<br>\n",
    " - Problem type? Permutation<br>"
   ]
  },
  {
   "cell_type": "code",
   "execution_count": 8,
   "metadata": {},
   "outputs": [
    {
     "data": {
      "text/plain": [
       "24"
      ]
     },
     "execution_count": 8,
     "metadata": {},
     "output_type": "execute_result"
    }
   ],
   "source": [
    "n_outcomes = np.math.factorial(4)\n",
    "n_outcomes"
   ]
  },
  {
   "cell_type": "markdown",
   "metadata": {},
   "source": [
    "<h2>4b</h2>\n",
    " - John, Jim, jay, Jack are in a band<br>\n",
    " - John, Jim can play four instruments<br>\n",
    " - jay, Jack can play 2 instruments<br>\n",
    " - how many different arrangements are possible?<br>\n",
    " - Repetition? No, they can only use one instrument<br>\n",
    " - Specific order? No<br>\n",
    " - Solve problem using the product of factorials since we have two groups.<br>"
   ]
  },
  {
   "cell_type": "code",
   "execution_count": 9,
   "metadata": {},
   "outputs": [
    {
     "data": {
      "text/plain": [
       "4"
      ]
     },
     "execution_count": 9,
     "metadata": {},
     "output_type": "execute_result"
    }
   ],
   "source": [
    "n_jim_john = np.math.factorial(2)\n",
    "n_jay_jack = np.math.factorial(2)\n",
    "n_outcomes = n_jay_jack * n_jay_jack\n",
    "n_outcomes"
   ]
  },
  {
   "cell_type": "markdown",
   "metadata": {},
   "source": [
    "<h2>5a</h2>\n",
    " - Area code has three digits<br>\n",
    " - First digit is integer between [2,9], n1 = 8<br>\n",
    " - Second digit [0,1], n2 = 2<br>\n",
    " - Third digit [1,9], n3 = 9<br>\n",
    " - How many area codes are possible?\n",
    " - Repetition? Yes<br>\n",
    " - Specific order? No<br>\n",
    " - Solve problem using the basic counting roles and multiplying each.<br>"
   ]
  },
  {
   "cell_type": "code",
   "execution_count": 10,
   "metadata": {},
   "outputs": [
    {
     "data": {
      "text/plain": [
       "144"
      ]
     },
     "execution_count": 10,
     "metadata": {},
     "output_type": "execute_result"
    }
   ],
   "source": [
    "n_outcomes = 8 * 2 * 9\n",
    "n_outcomes"
   ]
  },
  {
   "cell_type": "markdown",
   "metadata": {},
   "source": [
    "<h2>5b</h2>\n",
    " - Area code has three digits<br>\n",
    " - Second digit [0,1], n2 = 2<br>\n",
    " - Third digit [1,9], n3 = 9<br>\n",
    " - How many area codes are possible if the first code starts with four?<br>\n",
    " - Repetition? Yes<br>\n",
    " - Arrangement? No<br>\n",
    " - Order matters? Yes<br>\n",
    " - Solve problem using the basic counting roles and multiplying each.<br>"
   ]
  },
  {
   "cell_type": "code",
   "execution_count": 11,
   "metadata": {},
   "outputs": [
    {
     "data": {
      "text/plain": [
       "18"
      ]
     },
     "execution_count": 11,
     "metadata": {},
     "output_type": "execute_result"
    }
   ],
   "source": [
    "n_outcomes = 1 * 2 * 9\n",
    "n_outcomes"
   ]
  },
  {
   "cell_type": "markdown",
   "metadata": {},
   "source": [
    "<h2>6</h2>\n",
    " - 1 man<br>\n",
    " - 1 man with 7 wives<br>\n",
    " - 1 wife has 7 sacks<br>\n",
    " - 1 sack has 7 cats<br>\n",
    " - 1 cat has 7 kittens<br>\n",
    " - 1 kitten has <br>\n",
    " - Order Important? No<br>\n",
    " - Repeat? No<br>\n",
    " - Arrangement? No<br>\n",
    " - Basic counting principle, just multiply<br>\n",
    " - How many kittens did the traveler have?<br>"
   ]
  },
  {
   "cell_type": "code",
   "execution_count": 12,
   "metadata": {},
   "outputs": [
    {
     "data": {
      "text/plain": [
       "2401"
      ]
     },
     "execution_count": 12,
     "metadata": {},
     "output_type": "execute_result"
    }
   ],
   "source": [
    "n_outcomes = 7**4\n",
    "n_outcomes"
   ]
  },
  {
   "cell_type": "markdown",
   "metadata": {},
   "source": [
    "<h2>7A</h2>\n",
    " - How many ways can 3 boys and 3 girls sit in a row?<br>\n",
    " - Arrangement? Yes<br>\n",
    " - Repeat? No<br>\n",
    " - This is a permutation problem<br>\n",
    " - We now use a factorial because as 1 child sits in a sit, the next chair has 5 kids that could sit there, and then the next chair has 4... n(n-1)(n-2)..(n-r)"
   ]
  },
  {
   "cell_type": "code",
   "execution_count": 13,
   "metadata": {},
   "outputs": [
    {
     "data": {
      "text/plain": [
       "720"
      ]
     },
     "execution_count": 13,
     "metadata": {},
     "output_type": "execute_result"
    }
   ],
   "source": [
    "nt = 3 + 3\n",
    "n_outcomes = np.math.factorial(nt)\n",
    "n_outcomes"
   ]
  },
  {
   "cell_type": "markdown",
   "metadata": {},
   "source": [
    "<h2>7b</h2>\n",
    " - How many ways can 3 boys and 3 girls sit in a row if the boys and girls need to sit next to each other?<br>\n",
    " - Arrangement? Yes<br>\n",
    " - Repeat? No<br>\n",
    " - This is a permutation problem<br>\n",
    " - Children seating is gender restricted and the boys and girls must swap positions making it 2 potential positions 1-(b-b-b-g-g-g), 2-(g-g-g-b-b-b)"
   ]
  },
  {
   "cell_type": "code",
   "execution_count": 14,
   "metadata": {},
   "outputs": [
    {
     "data": {
      "text/plain": [
       "72"
      ]
     },
     "execution_count": 14,
     "metadata": {},
     "output_type": "execute_result"
    }
   ],
   "source": [
    "number_times_genders_swap = 2 # of ways the groups can sit\n",
    "n_boy = 3 # number of ways the boys can sit in a chair\n",
    "n_girl = 3 # the number of ways the girls can sit in the chairs\n",
    "n_outcomes = np.math.factorial(number_times_genders_swap) * np.math.factorial(n_boy) * np.math.factorial(n_girl)\n",
    "n_outcomes"
   ]
  },
  {
   "cell_type": "markdown",
   "metadata": {},
   "source": [
    "<h2>7c</h2>\n",
    " - 3 boys and girls sit in a row<br>\n",
    " - How many seating arrangements are possible if the 3 boys must sit together?<br>\n",
    " - We only care about the boys<br>\n",
    " - Specific order? No<br>\n",
    " - Repeat? No<br>\n",
    " - Arrangement? Yes<br>\n",
    " - We have a permutation problem\n",
    " - Use factorials we will have permutations of how folks sit."
   ]
  },
  {
   "cell_type": "code",
   "execution_count": 15,
   "metadata": {},
   "outputs": [
    {
     "data": {
      "text/plain": [
       "144"
      ]
     },
     "execution_count": 15,
     "metadata": {},
     "output_type": "execute_result"
    }
   ],
   "source": [
    "n_boy = 3 # number of ways the boys can sit\n",
    "n_seats = 4 # number of seating arrangements, the 3 boys and the 3 girls are considered 1, total is 4\n",
    "n_outcomes = np.math.factorial(n_seats) * np.math.factorial(n_boy)\n",
    "n_outcomes"
   ]
  },
  {
   "cell_type": "markdown",
   "metadata": {},
   "source": [
    "<h2>7d</h2>\n",
    " - 3 boys and girls sit in a row. How many seating arrangements are possible if no two people of same sex are allowed to sit together?<br>\n",
    " - seating arrangements = 2<br>\n",
    " - Specific order? Yes<br>\n",
    " - Repeat elements? Yes<br>\n",
    " - We want an arrangement of instances<br>\n",
    " - Use basic counting"
   ]
  },
  {
   "cell_type": "code",
   "execution_count": 16,
   "metadata": {},
   "outputs": [
    {
     "data": {
      "text/plain": [
       "72"
      ]
     },
     "execution_count": 16,
     "metadata": {},
     "output_type": "execute_result"
    }
   ],
   "source": [
    "n_first = 6 # first person can be any of the 6 kids\n",
    "n_second = 3 # the second one can be male or female\n",
    "n_third = 2 # this one will be male or female but the group is smaller (n-1)\n",
    "n_fourth = 2 # this one will be male or female but the group is smaller (n-1)\n",
    "n_fifth = 1 # this one will be male or female but the group is smaller (n-2) last kid \n",
    "n_sixth = 1 # this one will be male or female but the group is smaller (n-2) last kid\n",
    "n_outcomes = n_first * n_second * n_third * n_fourth * n_fifth * n_sixth\n",
    "n_outcomes"
   ]
  },
  {
   "cell_type": "markdown",
   "metadata": {},
   "source": [
    "<h2>8a</h2>\n",
    " - How many different letter arrangements can be made from the letters: <strong>Fluke</strong><br>\n",
    " - Repeat elements? No<br>\n",
    " - Arrangement? Yes, therefore order is important<br>\n",
    " - Order important? Yes<br>\n",
    " - Use basic counting"
   ]
  },
  {
   "cell_type": "code",
   "execution_count": 17,
   "metadata": {},
   "outputs": [
    {
     "data": {
      "text/plain": [
       "120.0"
      ]
     },
     "execution_count": 17,
     "metadata": {},
     "output_type": "execute_result"
    }
   ],
   "source": [
    "# using the permutation formula\n",
    "n_count = np.math.factorial(5)/np.math.factorial(5-5)\n",
    "n_count"
   ]
  },
  {
   "cell_type": "code",
   "execution_count": 18,
   "metadata": {},
   "outputs": [
    {
     "data": {
      "text/plain": [
       "120"
      ]
     },
     "execution_count": 18,
     "metadata": {},
     "output_type": "execute_result"
    }
   ],
   "source": [
    "# just using the factorial\n",
    "n_count = np.math.factorial(5)\n",
    "n_count"
   ]
  },
  {
   "cell_type": "markdown",
   "metadata": {},
   "source": [
    "<h2>8b</h2>\n",
    " - How many different letter arrangements can be made from the letters: <strong>Propose</strong><br>\n",
    " - Arrangement? Yes<br>\n",
    " - Repeat elements? Yes<br>\n",
    " - Order important? Yes<br>\n",
    " - permutation problem"
   ]
  },
  {
   "cell_type": "code",
   "execution_count": 19,
   "metadata": {},
   "outputs": [
    {
     "data": {
      "text/plain": [
       "1260.0"
      ]
     },
     "execution_count": 19,
     "metadata": {},
     "output_type": "execute_result"
    }
   ],
   "source": [
    "n_p = np.math.factorial(2)\n",
    "n_o = np.math.factorial(2)\n",
    "n_t = len('propose')\n",
    "n_count = np.math.factorial(n_t)/(n_p*n_o)\n",
    "n_count"
   ]
  },
  {
   "cell_type": "markdown",
   "metadata": {},
   "source": [
    "<h2>8c</h2>\n",
    " - How many different letter arrangements can be made from the letters: <strong>Mississippi</strong><br>\n",
    " - Arrangement? Yes<br>\n",
    " - Repeat elements? Yes<br>\n",
    " - Order important? Yes<br>\n",
    " - This is a permutation problem"
   ]
  },
  {
   "cell_type": "code",
   "execution_count": 20,
   "metadata": {},
   "outputs": [
    {
     "name": "stdout",
     "output_type": "stream",
     "text": [
      "Counter({'i': 4, 's': 4, 'p': 2, 'M': 1})\n"
     ]
    }
   ],
   "source": [
    "import collections\n",
    "string = 'Mississippi'\n",
    "results = collections.Counter(string)\n",
    "print(results)"
   ]
  },
  {
   "cell_type": "code",
   "execution_count": 21,
   "metadata": {},
   "outputs": [
    {
     "data": {
      "text/plain": [
       "34650.0"
      ]
     },
     "execution_count": 21,
     "metadata": {},
     "output_type": "execute_result"
    }
   ],
   "source": [
    "n_i = np.math.factorial(4)\n",
    "n_s = np.math.factorial(4)\n",
    "n_p = np.math.factorial(2)\n",
    "n_M = np.math.factorial(1)\n",
    "n_t = len('Mississippi')\n",
    "\n",
    "n_count = np.math.factorial(n_t)/(n_i*n_s*n_p*n_M)\n",
    "n_count"
   ]
  },
  {
   "cell_type": "markdown",
   "metadata": {},
   "source": [
    "<h2>8d</h2>\n",
    " - How many different letter arrangements can be made from the letters: <strong>Arrange</strong><br>\n",
    " - Arrangement? Yes<br>\n",
    " - Repeat elements? Yes<br>\n",
    " - Order important? Yes<br>\n",
    " - This is a permutation problem"
   ]
  },
  {
   "cell_type": "code",
   "execution_count": 22,
   "metadata": {},
   "outputs": [
    {
     "name": "stdout",
     "output_type": "stream",
     "text": [
      "Counter({'a': 2, 'r': 2, 'n': 1, 'g': 1, 'e': 1})\n"
     ]
    }
   ],
   "source": [
    "results = collections.Counter('arrange')\n",
    "print(results)"
   ]
  },
  {
   "cell_type": "code",
   "execution_count": 23,
   "metadata": {},
   "outputs": [
    {
     "data": {
      "text/plain": [
       "1260.0"
      ]
     },
     "execution_count": 23,
     "metadata": {},
     "output_type": "execute_result"
    }
   ],
   "source": [
    "n_r = np.math.factorial(2)\n",
    "n_a = np.math.factorial(2)\n",
    "n_t = len('Arrange')\n",
    "\n",
    "n_count = np.math.factorial(n_t)/(n_r* n_a)\n",
    "n_count"
   ]
  },
  {
   "cell_type": "markdown",
   "metadata": {},
   "source": [
    "<h2>9</h2>\n",
    " - Child has 12 blocks, 6 black, 4 red, 1 white, 1 blue<br>\n",
    " - Child will put blocks in a line, how many arrangements are possible?<br>\n",
    " - Arrangement? Yes<br>\n",
    " - Order important? Yes<br>\n",
    " - Repeat elements? Yes<br>\n",
    " - Permutation with division"
   ]
  },
  {
   "cell_type": "code",
   "execution_count": 24,
   "metadata": {},
   "outputs": [
    {
     "data": {
      "text/plain": [
       "27720.0"
      ]
     },
     "execution_count": 24,
     "metadata": {},
     "output_type": "execute_result"
    }
   ],
   "source": [
    "n_b = np.math.factorial(6) # number of ways the black blocks can be positions\n",
    "n_r = np.math.factorial(4) # number of ways the red blocks can be positions\n",
    "n_w = np.math.factorial(1) # number of ways the white blocks can be positions\n",
    "n_bl = np.math.factorial(1) # number of ways the blue blocks can be positions\n",
    "\n",
    "n_t = np.math.factorial(12) # # number of ways all the blocks can be positions\n",
    "\n",
    "n_count = n_t/(n_b*n_r*n_w*n_bl)\n",
    "n_count"
   ]
  },
  {
   "cell_type": "markdown",
   "metadata": {},
   "source": [
    "<h2>10a</h2>\n",
    " - A row of 8 seats for 8 people<br>\n",
    " - How many ways can 8 people be seated if no restriction on seating arrangement:<br>\n",
    " - Arrangement? Yes but no restrictions<br>\n",
    " - Order important? Yes<br>\n",
    " - Repetition? No, no identical humans<br>\n",
    " - Use factorial formula, 8x7x6x5x4x3x2x1"
   ]
  },
  {
   "cell_type": "code",
   "execution_count": 25,
   "metadata": {},
   "outputs": [
    {
     "data": {
      "text/plain": [
       "40320"
      ]
     },
     "execution_count": 25,
     "metadata": {},
     "output_type": "execute_result"
    }
   ],
   "source": [
    "n_count = np.math.factorial(8)\n",
    "n_count"
   ]
  },
  {
   "cell_type": "markdown",
   "metadata": {},
   "source": [
    "<h2>10b</h2>\n",
    " - A row of 8 seats for 8 people (ABCDEFGH)<br>\n",
    " - How many ways can 8 people be seated if:<br>\n",
    " - Person A and B must sit together<br>\n",
    " - Arrangement problem? Yes<br>\n",
    " - Order important? Yes<br>\n",
    " - Repeated elements? No<br>\n",
    " - Permutation problem"
   ]
  },
  {
   "cell_type": "code",
   "execution_count": 26,
   "metadata": {},
   "outputs": [
    {
     "data": {
      "text/plain": [
       "10080"
      ]
     },
     "execution_count": 26,
     "metadata": {},
     "output_type": "execute_result"
    }
   ],
   "source": [
    "# AB will be a single group\n",
    "# This will create seven \"seats\" n=7\n",
    "num_positions = 7 # number of ways people can sit down\n",
    "num_ab_positions = 2 # number of ways that AB can sit next to each other\n",
    "\n",
    "n_count = np.math.factorial(num_ab_positions)*np.math.factorial(num_positions)\n",
    "n_count"
   ]
  },
  {
   "cell_type": "markdown",
   "metadata": {},
   "source": [
    "<h2>10c</h2>\n",
    " - A row of 8 seats for 8 people, 4 male and 4 female<br>\n",
    " - No 2 men or women can sit next to each other<br>\n",
    " - Specific order? Yes, A and B must sit together<br>\n",
    " - Arrangement important? Yes<br>\n",
    " - Order Important: Yes<br>\n",
    " - Repeat elements: No, dealing with people<br>\n",
    " - Permutation problem 8x7x6x5x4x3x2x1x4x3x2x1x3x2x1x3x2x1x2x1x2x1x1x1"
   ]
  },
  {
   "cell_type": "code",
   "execution_count": 27,
   "metadata": {},
   "outputs": [
    {
     "data": {
      "text/plain": [
       "1152"
      ]
     },
     "execution_count": 27,
     "metadata": {},
     "output_type": "execute_result"
    }
   ],
   "source": [
    "n_first = 8 # number of ways the first position can be seated, everyone has a chance\n",
    "n_second = 4 # number of ways the opposite sex can be seated in this position\n",
    "n_third = 3 # (n-1) of ways the opposite sex can be seated in this position\n",
    "n_fourth = 3 # (n-1) of ways the opposite sex can be seated in this position\n",
    "n_fifth = 2 # (n-2) of ways the opposite sex can be seated in this position\n",
    "n_sixth = 2 # (n-2) of ways the opposite sex can be seated in this position\n",
    "# position 7 and 8 don't contribute as they are each 1!\n",
    "\n",
    "n_count = n_first*n_second*n_third*n_fourth*n_fifth*n_sixth\n",
    "n_count"
   ]
  },
  {
   "cell_type": "markdown",
   "metadata": {},
   "source": [
    "<h2>10d</h2>\n",
    " - A row of 8 seats for 8 people<br>\n",
    " - there are 5 men and they must sit next to one another<br>\n",
    " - 3 females remaining<br>\n",
    " - Arrangement problem? Yes<br>\n",
    " - Order Important? Yes<br>\n",
    " - Repeat Element per instance? No, people not objects<br>\n",
    " - This is a permutation problem."
   ]
  },
  {
   "cell_type": "code",
   "execution_count": 28,
   "metadata": {},
   "outputs": [
    {
     "data": {
      "text/plain": [
       "2880"
      ]
     },
     "execution_count": 28,
     "metadata": {},
     "output_type": "execute_result"
    }
   ],
   "source": [
    "n_male = 5 # number of ways males can be seated in a row\n",
    "n_female = 3 # number of ways females can be seated in a row\n",
    "n_positions = 4 # number of places men can sit together as a group\n",
    "\n",
    "n_count = n_positions*np.math.factorial(5)*np.math.factorial(3)\n",
    "n_count"
   ]
  },
  {
   "cell_type": "markdown",
   "metadata": {},
   "source": [
    "<h2>10e</h2>\n",
    " - A row of 8 seats for 8 people<br>\n",
    " - Four married couples and each couple must sit together<br>\n",
    " - Arrangement requested? Yes<br>\n",
    " - Specific order? Yes<br>\n",
    " - c1-c2-c3-c4 x 2 as spouses can swap<br>\n",
    " - Repeat element per sequence? No, these are people<br>\n",
    " - This is a permutation problem<br>"
   ]
  },
  {
   "cell_type": "code",
   "execution_count": 29,
   "metadata": {},
   "outputs": [
    {
     "data": {
      "text/plain": [
       "384"
      ]
     },
     "execution_count": 29,
     "metadata": {},
     "output_type": "execute_result"
    }
   ],
   "source": [
    "n_couples = 4 # number of couples\n",
    "n_positions = np.math.factorial(4) # number of ways couples can be seated in a row\n",
    "n_couple1 = np.math.factorial(2) # number of was couple 1 can swap sides\n",
    "n_couple2 = np.math.factorial(2) # number of was couple 2 can swap sides\n",
    "n_couple3 = np.math.factorial(2) # number of was couple 3 can swap sides\n",
    "n_couple4 = np.math.factorial(2) # number of was couple 4 can swap sides\n",
    "\n",
    "\n",
    "n_count = n_positions * n_couple1* n_couple2*  n_couple3* n_couple4\n",
    "n_count"
   ]
  },
  {
   "cell_type": "markdown",
   "metadata": {},
   "source": [
    "<h2>11a</h2>\n",
    " - How many ways can 3 novels, 2 math books, and 1 chem book be arranged in a bookshelf<br>\n",
    " - if books are arranged in any order?<br>\n",
    " - Arrangement requested? Yes<br>\n",
    " - Order Important? Yes<br>\n",
    " - Elements repeat: Doesnt matter here but they can be arranged in any way<br>\n",
    " - Permutation problem."
   ]
  },
  {
   "cell_type": "code",
   "execution_count": 30,
   "metadata": {},
   "outputs": [
    {
     "data": {
      "text/plain": [
       "720"
      ]
     },
     "execution_count": 30,
     "metadata": {},
     "output_type": "execute_result"
    }
   ],
   "source": [
    "n_arrangements = np.math.factorial(6)\n",
    "n_arrangements"
   ]
  },
  {
   "cell_type": "markdown",
   "metadata": {},
   "source": [
    "<h2>11b</h2>\n",
    " - How many ways can 3 novels, 2 math books, and 1 chem book be arranged in a bookshelf<br>\n",
    " - if math are together and novels are together<br>\n",
    " - if books are arranged in any order?<br>\n",
    " - Arrangement requested? Yes<br>\n",
    " - Order Important? Yes<br>\n",
    " - Elements repeat: Doesnt matter here but they can be arranged in any way<br>\n",
    " - Permutation problem."
   ]
  },
  {
   "cell_type": "code",
   "execution_count": 31,
   "metadata": {},
   "outputs": [
    {
     "data": {
      "text/plain": [
       "72"
      ]
     },
     "execution_count": 31,
     "metadata": {},
     "output_type": "execute_result"
    }
   ],
   "source": [
    "# we will have three groups (or 3 positions for arrangement)\n",
    "\n",
    "n_positions = 3 # number of ways groups can be arranged\n",
    "n_novel = 3 # number of ways the novels can be arranged\n",
    "n_math = 2 # number of ways math books can be arranged\n",
    "n_chem = 1 # number of ways chem book can be arranged\n",
    "\n",
    "n_arrangements = np.math.factorial(n_positions)*np.math.factorial(n_novel)*np.math.factorial(n_math)*np.math.factorial(n_chem)\n",
    "n_arrangements"
   ]
  },
  {
   "cell_type": "markdown",
   "metadata": {},
   "source": [
    "<h2>11c</h2>\n",
    " - How many ways can 3 novels, 2 math books, and 1 chem book be arranged in a bookshelf<br>\n",
    " - Novels must be placed together<br>\n",
    " - Arrangement requested? Yes<br>\n",
    " - Order Important? Yes<br>\n",
    " - Elements repeat: Doesn't matter<br>\n",
    " - Permutation problem."
   ]
  },
  {
   "cell_type": "code",
   "execution_count": 32,
   "metadata": {},
   "outputs": [
    {
     "data": {
      "text/plain": [
       "144"
      ]
     },
     "execution_count": 32,
     "metadata": {},
     "output_type": "execute_result"
    }
   ],
   "source": [
    "n_groups = np.math.factorial(4) # number of groups, 3 novels = 1, 2 math and 1 chem books = 4 groups\n",
    "n_novels = np.math.factorial(3) # number of ways these books can be arranged\n",
    "\n",
    "n_arrangements = n_novels*n_groups\n",
    "n_arrangements"
   ]
  },
  {
   "cell_type": "markdown",
   "metadata": {},
   "source": [
    "<h2>12a</h2>\n",
    " - Five awards will be presented to 5 students from a class of 30<br>\n",
    " - How many different outcomes are possible if a student can receive any number of awards?<br>\n",
    " - Arrangement requested? No<br>\n",
    " - Order Important? No<br>\n",
    " - Elements repeat: Yes, single student can receive multiple awards<br>\n",
    " - This is a basic counting problem"
   ]
  },
  {
   "cell_type": "code",
   "execution_count": 33,
   "metadata": {},
   "outputs": [
    {
     "data": {
      "text/plain": [
       "24300000"
      ]
     },
     "execution_count": 33,
     "metadata": {},
     "output_type": "execute_result"
    }
   ],
   "source": [
    "n_students = 30\n",
    "n_winners = 5\n",
    "n_outcomes = n_students**n_winners\n",
    "n_outcomes"
   ]
  },
  {
   "cell_type": "markdown",
   "metadata": {},
   "source": [
    "<h2>12b</h2>\n",
    " - Five awards will be presented to 5 students from a class of 30<br>\n",
    " - How many different outcomes are possible if a student can receive only a single award?<br>\n",
    " - Arrangement requested? Yes (because you are arranging who wins, by setting conditions)<br>\n",
    " - Order Important? Yes have to keep track of who wins<br>\n",
    " - Elements repeat: No, single student can only receive single awards<br>\n",
    " - This is a permutation problem, see factorial example\n",
    " - For first award, 30 are eligible<br>\n",
    " - For second award, 29 are eligible<br>\n",
    " - For third award, 28 are eligible<br>\n",
    " - For fourth award, 27 are eligible<br> \n",
    " - For fifth award, 26 are eligible<br> "
   ]
  },
  {
   "cell_type": "code",
   "execution_count": 34,
   "metadata": {},
   "outputs": [
    {
     "data": {
      "text/plain": [
       "17100720.0"
      ]
     },
     "execution_count": 34,
     "metadata": {},
     "output_type": "execute_result"
    }
   ],
   "source": [
    "n_outcomes = np.math.factorial(30)/np.math.factorial(30-5)\n",
    "n_outcomes"
   ]
  },
  {
   "cell_type": "markdown",
   "metadata": {},
   "source": [
    "<h2>13</h2>\n",
    " - group of 20 people<br>\n",
    " - If everyone shakes hands with everyone else, how many hand shaken?<br>\n",
    " - Arrangement requested? Yes, arranging hand shakes<br>\n",
    " - Order Important? No, just need to keep track of who has shaken whose hand, only once<br>\n",
    " - Are objects distinct? Yes, hands on people are distinct.<br>\n",
    " - Elements repeat: No, once you shake hands that is counted<br>\n",
    " - This is a combination problem, no repetition is allowed, and order is not important."
   ]
  },
  {
   "cell_type": "code",
   "execution_count": 35,
   "metadata": {},
   "outputs": [
    {
     "data": {
      "text/plain": [
       "190.0"
      ]
     },
     "execution_count": 35,
     "metadata": {},
     "output_type": "execute_result"
    }
   ],
   "source": [
    "n_handshakes =  np.math.factorial(20)/(np.math.factorial(2)* np.math.factorial(20-2))\n",
    "n_handshakes"
   ]
  },
  {
   "cell_type": "markdown",
   "metadata": {},
   "source": [
    "<h2>14</h2>\n",
    " - How many 5-card poker hands are there?<br>\n",
    " - Number of cards = 52<br>\n",
    " - Once counts 5-card hands holding 5 cards<br>\n",
    " - Arrangement requested? Yes, arranging cards<br>\n",
    " - Order Important? No<br>\n",
    " - Are objects distinct? Yes, each card is unique.<br>\n",
    " - Elements repeat: No, once you have a hand, that is it<br>\n",
    " - This is a combination problem, no repetition is allowed, and order is not important. "
   ]
  },
  {
   "cell_type": "code",
   "execution_count": 36,
   "metadata": {},
   "outputs": [
    {
     "data": {
      "text/plain": [
       "2598960.0"
      ]
     },
     "execution_count": 36,
     "metadata": {},
     "output_type": "execute_result"
    }
   ],
   "source": [
    "n_hands =  np.math.factorial(52)/(np.math.factorial(5)* np.math.factorial(52-5))\n",
    "n_hands"
   ]
  },
  {
   "cell_type": "markdown",
   "metadata": {},
   "source": [
    "<h2>15</h2>\n",
    " - 22 dance students?<br>\n",
    " - men = 12<br>\n",
    " - women = 10<br> \n",
    " - If five men and five women are to be chosen, how many results are possible?<br>\n",
    " - Arrangement requested? Yes, arranging couples<br>\n",
    " - Order Important? No<br>\n",
    " - Are objects distinct? Yes, each couple is distinct.<br>\n",
    " - Elements repeat: No, once you form a couple that is it<br>\n",
    " - This is a combination problem, no repetition is allowed, and order is not important.  "
   ]
  },
  {
   "cell_type": "code",
   "execution_count": 37,
   "metadata": {},
   "outputs": [
    {
     "data": {
      "text/plain": [
       "23950080.0"
      ]
     },
     "execution_count": 37,
     "metadata": {},
     "output_type": "execute_result"
    }
   ],
   "source": [
    "n_men = np.math.factorial(12)/(np.math.factorial(5)* np.math.factorial(12-5)) # number of male combinations\n",
    "n_women = np.math.factorial(10)/(np.math.factorial(5)* np.math.factorial(10-5)) # number of female combinations\n",
    "n_paired_off = np.math.factorial(5)  # number of pairing combinations\n",
    "n_picks = n_men*n_women*n_paired_off # multiply them out\n",
    "n_picks"
   ]
  },
  {
   "cell_type": "markdown",
   "metadata": {},
   "source": [
    "<h2>16</h2>\n",
    " - Student has to sell 2 books from a collection of 6 math, 7 science, and 4 economic books?<br>\n",
    " - How many choices are possible? if both books are to be the same subject?<br>\n",
    " - Arrangement requested? Yes, arranging the books to sell<br>\n",
    " - Order Important? No<br>\n",
    " - Are objects distinct? Yes, each book is distinct.<br>\n",
    " - Elements repeat: No<br>\n",
    " - This is a combination problem, repetition is allowed"
   ]
  },
  {
   "cell_type": "code",
   "execution_count": 38,
   "metadata": {},
   "outputs": [
    {
     "data": {
      "text/plain": [
       "42.0"
      ]
     },
     "execution_count": 38,
     "metadata": {},
     "output_type": "execute_result"
    }
   ],
   "source": [
    "n_math = np.math.factorial(6)/(np.math.factorial(2)* np.math.factorial(4))\n",
    "n_sci = np.math.factorial(7)/(np.math.factorial(2)* np.math.factorial(5))\n",
    "n_eco = np.math.factorial(4)/(np.math.factorial(2)* np.math.factorial(2))\n",
    "n_comb = n_math+n_sci+n_eco # we add up all the choices, math books have 15 choices the other ones\n",
    "n_comb"
   ]
  },
  {
   "cell_type": "markdown",
   "metadata": {},
   "source": [
    "<h2>16b</h2>\n",
    " - Student has to sell 2 books from a collection of 6 math, 7 science, and 4 economic books?<br>\n",
    " - How many choices are possible? if both books are to be of different subject?<br>\n",
    " - Arrangement requested? Yes, arranging the books to sell<br>\n",
    " - Order Important? No<br>\n",
    " - Are objects distinct? Yes, each book is distinct.<br>\n",
    " - Elements repeat: No<br>\n",
    " - This is a combination problem, repetition is allowed"
   ]
  },
  {
   "cell_type": "code",
   "execution_count": 39,
   "metadata": {},
   "outputs": [
    {
     "data": {
      "text/plain": [
       "63.0"
      ]
     },
     "execution_count": 39,
     "metadata": {},
     "output_type": "execute_result"
    }
   ],
   "source": [
    "n_math = np.math.factorial(6)/(np.math.factorial(1)* np.math.factorial(5))\n",
    "n_sci = np.math.factorial(7)/(np.math.factorial(1)* np.math.factorial(6))\n",
    "n_eco = np.math.factorial(4)/(np.math.factorial(1)* np.math.factorial(3))\n",
    "\n",
    "n_opts = n_math*n_sci + n_sci+n_eco + n_eco+n_math\n",
    "n_opts"
   ]
  },
  {
   "cell_type": "markdown",
   "metadata": {},
   "source": [
    "<h2>17</h2>\n",
    " - 7 different gifts to 10 children?<br>\n",
    " - How many distinct results are possible if no child is to receive more than one gift?<br>\n",
    " - Arrangement requested? Yes, arranging the gifts distributed<br>\n",
    " - Order Important? Yes, once a kid gets a gift, must be removed from math<br>\n",
    " - Are objects distinct? Yes, child and gift distinct.<br>\n",
    " - Elements repeat: No no gift per kid<br>\n",
    " - Permutation problem since order is important"
   ]
  },
  {
   "cell_type": "code",
   "execution_count": 40,
   "metadata": {},
   "outputs": [
    {
     "data": {
      "text/plain": [
       "604800.0"
      ]
     },
     "execution_count": 40,
     "metadata": {},
     "output_type": "execute_result"
    }
   ],
   "source": [
    "n_opt = np.math.factorial(10)/np.math.factorial(10-7)\n",
    "n_opt"
   ]
  },
  {
   "cell_type": "markdown",
   "metadata": {},
   "source": [
    "<h2>19a</h2>\n",
    " - 8 women and 6 men, a committee of 3 men and 3 women is to be formed?<br>\n",
    " - How many different committees are possible if?<br>\n",
    " - 2 of the men refuse to serve together<br>\n",
    " - Arrangement requested? Yes, arranging the committees<br>\n",
    " - Order Important? Yes<br>\n",
    " - Are objects distinct? Yes, committees.<br>\n",
    " - Elements repeat: No two members in same committee<br>\n",
    " - Combination problem"
   ]
  },
  {
   "cell_type": "code",
   "execution_count": 41,
   "metadata": {},
   "outputs": [
    {
     "data": {
      "text/plain": [
       "896.0"
      ]
     },
     "execution_count": 41,
     "metadata": {},
     "output_type": "execute_result"
    }
   ],
   "source": [
    "# men will be counted as 4 because since we will remove the men that refuse to work together\n",
    "\n",
    "n_women_com = np.math.factorial(8)/(np.math.factorial(3) * np.math.factorial(8-3))\n",
    "n_4_men_com = np.math.factorial(4)/(np.math.factorial(3) * np.math.factorial(4-3))\n",
    "\n",
    "n_com_4_men = n_women_com*n_4_men_com\n",
    "\n",
    "# the two refused men can be any of the 6 men\n",
    "n_women_com = np.math.factorial(8)/(np.math.factorial(3) * np.math.factorial(8-3))\n",
    "\n",
    "# picking the two men that are happy to work with anyone\n",
    "two_ok_men = np.math.factorial(4)/(np.math.factorial(2) * np.math.factorial(4-2))\n",
    "\n",
    "# picking one of the two men that refuse to work together\n",
    "one_two_men = np.math.factorial(2)/(np.math.factorial(1) * np.math.factorial(2-1))\n",
    "\n",
    "prob_men_combo = n_women_com * two_ok_men * one_two_men\n",
    "\n",
    "# Combination exclude 2 problem men + Combination that takes the problem men\n",
    "n_possibilities = n_com_4_men + prob_men_combo\n",
    "n_possibilities"
   ]
  },
  {
   "cell_type": "markdown",
   "metadata": {},
   "source": [
    "<h2>19b</h2>\n",
    " - 8 women and 6 men, a committee of 3 men and 3 women is to be formed?<br>\n",
    " - How many different committees are possible if?<br>\n",
    " - 2 of the women refuse to serve together<br>\n",
    " - Arrangement requested? Yes, arranging the committees<br>\n",
    " - Order Important? Yes<br>\n",
    " - Are objects distinct? Yes, committees.<br>\n",
    " - Elements repeat: No two members in same committee<br>\n",
    " - Combination problem"
   ]
  },
  {
   "cell_type": "code",
   "execution_count": 42,
   "metadata": {},
   "outputs": [
    {
     "data": {
      "text/plain": [
       "1000.0"
      ]
     },
     "execution_count": 42,
     "metadata": {},
     "output_type": "execute_result"
    }
   ],
   "source": [
    "# Combination = combo without problem women + combo with problem women\n",
    "\n",
    "# Combination without problem women\n",
    "# there are 6 women, so we can get two combination\n",
    "n_women_com = np.math.factorial(6)/(np.math.factorial(3) * np.math.factorial(6-3))\n",
    "n_men_com = np.math.factorial(6)/(np.math.factorial(3) * np.math.factorial(6-3))\n",
    "\n",
    "two_com_women = n_women_com*n_men_com\n",
    "\n",
    "# Combination with problem women\n",
    "# Step 1: combination the two women that can work with anyone\n",
    "two_ok_women = np.math.factorial(6)/(np.math.factorial(2) * np.math.factorial(6-2))\n",
    "\n",
    "# Step 2: combination with the two crazies\n",
    "one_two_women = np.math.factorial(2)/(np.math.factorial(1) * np.math.factorial(2-1))\n",
    "\n",
    "# Step 3: calculation combination\n",
    "prob_women_combo = n_men_com * two_ok_women * one_two_women\n",
    "\n",
    "# Step 4: bring all together\n",
    "n_possibilities = two_com_women + prob_women_combo\n",
    "n_possibilities"
   ]
  },
  {
   "cell_type": "markdown",
   "metadata": {},
   "source": [
    "<h2>19c</h2>\n",
    " - 8 women and 6 men, a committee of 3 men and 3 women is to be formed?<br>\n",
    " - How many different committees are possible if?<br>\n",
    " - 1 and and 1 women refuse to work together<br>\n",
    " - Arrangement requested? Yes, arranging the committees<br>\n",
    " - Order Important? Yes<br>\n",
    " - Are objects distinct? Yes, committees.<br>\n",
    " - Elements repeat: No two members in same committee<br>\n",
    " - Combination problem"
   ]
  },
  {
   "cell_type": "code",
   "execution_count": 43,
   "metadata": {},
   "outputs": [
    {
     "data": {
      "text/plain": [
       "910.0"
      ]
     },
     "execution_count": 43,
     "metadata": {},
     "output_type": "execute_result"
    }
   ],
   "source": [
    "# Possible combinations for Men\n",
    "# Possible combination for women\n",
    "# Sum possible combinations\n",
    "\n",
    "# Combination without problem couple\n",
    "# men = 5\n",
    "# women = 7\n",
    "n_men1 = np.math.factorial(5)/(np.math.factorial(3) * np.math.factorial(5-3))\n",
    "n_women1 = np.math.factorial(7)/(np.math.factorial(3) * np.math.factorial(7-3))\n",
    "\n",
    "combo1 = n_men1 * n_women1\n",
    "\n",
    "# Problem man present, problem women is not present\n",
    "\n",
    "n_men2 = np.math.factorial(5)/(np.math.factorial(3) * np.math.factorial(5-3)) # okay men\n",
    "n_women2 = np.math.factorial(7)/(np.math.factorial(2) * np.math.factorial(7-2)) # okay women\n",
    "\n",
    "combo2 = n_men2 * n_women2\n",
    "\n",
    "# Problem women present, problem man is not present\n",
    "n_men3 = np.math.factorial(5)/(np.math.factorial(2) * np.math.factorial(5-2))\n",
    "n_women3 = np.math.factorial(7)/(np.math.factorial(3) * np.math.factorial(7-3)) # all ok ladies\n",
    "\n",
    "combo3 = n_men3 * n_women3\n",
    "\n",
    "\n",
    "# total up combinations\n",
    "n_possibilities = combo1 + combo2 +combo3\n",
    "n_possibilities"
   ]
  },
  {
   "cell_type": "markdown",
   "metadata": {},
   "source": [
    "<h2>20a</h2>\n",
    " - Friend has 8 friends<br>\n",
    " - Five friends invited to a party<br>\n",
    " - how many combinations if 2 of 8 friends are fighting and will not attend together<br>\n",
    " - Arrangement requested? Yes, arranging the committees<br>\n",
    " - Order Important? Yes<br>\n",
    " - Are objects distinct? Yes, committees.<br>\n",
    " - Elements repeat: No two members in same committee<br>\n",
    " - Combination problem"
   ]
  },
  {
   "cell_type": "markdown",
   "metadata": {},
   "source": [
    "<p>The total number of choices for inviting 5 out of 8 friends: \\(\\binom{8}{5}\\)<br>\n",
    "This combination includes the 2 friends that don't wanna see each other. so we need to subtract them.\n",
    "</p>\n",
    "<p>One way to subtract them is to use this expression \\(\\binom{8}{3}\\)<br>\n",
    "    we arrive at this from \\(\\binom{2B + 6G}{3G + 2B}\\)<br>\n",
    "    The 2B is the two bad friends we dont want so we omit them from the expression.<br>\n",
    "    6G are the good friends<br>\n",
    "    Why is the denominator 3 and not 5?<br>\n",
    "    3G is the three good friends<br>\n",
    "    and the 2B are the two bad friends, but since we dont want them and we plan to subtract this expression from the first one, we only have 3 here<br>\n",
    "    We are left with \\(\\binom{6}{5}\\) combination\n",
    "</p>\n",
    "<p>The base expression is: \\(\\binom{8}{5}\\) - \\(\\binom{6}{3}\\)<br></p>"
   ]
  },
  {
   "cell_type": "code",
   "execution_count": 44,
   "metadata": {},
   "outputs": [
    {
     "data": {
      "text/plain": [
       "36.0"
      ]
     },
     "execution_count": 44,
     "metadata": {},
     "output_type": "execute_result"
    }
   ],
   "source": [
    "all_invited = np.math.factorial(8)/(np.math.factorial(5) * np.math.factorial(8-5))\n",
    "no_drama_combo = np.math.factorial(6)/(np.math.factorial(3) * np.math.factorial(6-3))\n",
    "final_combinations = all_invited - no_drama_combo\n",
    "final_combinations"
   ]
  },
  {
   "cell_type": "markdown",
   "metadata": {},
   "source": [
    "<h2>20b</h2>\n",
    "<div>\n",
    " - Friend has 8 friends<br>\n",
    " - Five friends invited to a party<br>\n",
    " - how many combinations if 2 of 8 friends must attend together<br>\n",
    " - Possibility 1: 2 friends in all combination \\(\\binom{6}{3}\\)<br>\n",
    " - Possibility 2: any of the five friends excluding the 2 friends \\(\\binom{6}{5}\\)<br>\n",
    " - Arrangement requested? Yes, arranging the committees<br>\n",
    " - Order Important? No<br>\n",
    " - Are objects distinct? Yes, committees.<br>\n",
    " - Elements repeat: No two members in same committee<br>\n",
    " - Combination problem\n",
    "</div>    "
   ]
  },
  {
   "cell_type": "markdown",
   "metadata": {},
   "source": [
    "<p>Two of the 8 friends must go together:<br>\n",
    "    Combination that includes the 2 friends that must attend together: \\(\\binom{6}{3}\\) <br>\n",
    "    Combination of all remaining friends \\(\\binom{6}{5}\\). The Numerator is 6 because we subtract 2 from 8.<br>\n",
    "    The denominator is 5, because that is the limit of friends we can invite.\n",
    "    <br>\n",
    "    We can only pick 3 out of the 6 remaining friends\n",
    "    \\(\\binom{6}{3}\\) + \\(\\binom{6}{5}\\)<br></p>"
   ]
  },
  {
   "cell_type": "code",
   "execution_count": 45,
   "metadata": {},
   "outputs": [
    {
     "data": {
      "text/plain": [
       "20.0"
      ]
     },
     "execution_count": 45,
     "metadata": {},
     "output_type": "execute_result"
    }
   ],
   "source": [
    "# total possible ways to invite the two people\n",
    "two_friends_combo = np.math.factorial(6)/(np.math.factorial(3) * np.math.factorial(6-3))\n",
    "two_friends_combo"
   ]
  },
  {
   "cell_type": "code",
   "execution_count": 46,
   "metadata": {},
   "outputs": [
    {
     "data": {
      "text/plain": [
       "26.0"
      ]
     },
     "execution_count": 46,
     "metadata": {},
     "output_type": "execute_result"
    }
   ],
   "source": [
    "n_total = np.math.factorial(6)/(np.math.factorial(5) * np.math.factorial(6-5))\n",
    "\n",
    "combo = two_friends_combo + n_total\n",
    "combo"
   ]
  },
  {
   "cell_type": "markdown",
   "metadata": {},
   "source": [
    "<h2>21</h2>\n",
    "<div>\n",
    " - How many different path from A to B are posible?<br>\n",
    " - Possibility 1: 4 steps right \\(\\binom{7}{4}\\)<br>\n",
    " - Possibility 2: 3 steps up \\(\\binom{7}{3}\\)<br>\n",
    " - Arrangement requested? No<br>\n",
    " - Order Important? No<br>\n",
    " - Are objects distinct? Yes, committees.<br>\n",
    " - Combination important? Yes<br>\n",
    " - Combination problem<br>\n",
    "    \\(n_{up} = 3\\)<br>\n",
    "    \\(n_{right} = 4\\)<br>\n",
    "    \\(\\binom{n}{n_{up}!*n_{right}!} =  \\frac{7!}{4!*3!}\\)\n",
    "</div>    "
   ]
  },
  {
   "cell_type": "code",
   "execution_count": 47,
   "metadata": {},
   "outputs": [
    {
     "data": {
      "text/plain": [
       "35.0"
      ]
     },
     "execution_count": 47,
     "metadata": {},
     "output_type": "execute_result"
    }
   ],
   "source": [
    "n_paths = np.math.factorial(7)/(np.math.factorial(4) * np.math.factorial(3))\n",
    "n_paths"
   ]
  },
  {
   "cell_type": "markdown",
   "metadata": {},
   "source": [
    "<h2>22</h2>\n",
    "<div>\n",
    " - How many different path from A to B are possible?<br>\n",
    " - Must go through specific point<br>\n",
    " - Two possibilities, 1) A to midpoint + 2) midpoint to B\n",
    " - Two rights: \\(n_{1} = \\binom{4}{2}\\)<br>\n",
    " - Up two \\(\\binom{4}{2}\\)<br>\n",
    " - Arrangement requested? No<br>\n",
    " - Order Important? No<br>\n",
    " - Are objects distinct? Yes<br>\n",
    " - Combination important? Yes<br>\n",
    " - Combination set 1<br>\n",
    "    \\(n_{up} = 2\\)<br>\n",
    "    \\(n_{right} = 2\\)<br>\n",
    "    \\(\\binom{n}{n_{up}!*n_{right}!} =  \\frac{4!}{2!*2!}\\)\n",
    " - Combination set 2<br>\n",
    "    \\(n_{up} = 1\\)<br>\n",
    "    \\(n_{right} = 2\\)<br>\n",
    "    \\(\\binom{n}{n_{up}!*n_{right}!} =  \\frac{3!}{2!*3!}\\)    \n",
    "</div>    "
   ]
  },
  {
   "cell_type": "code",
   "execution_count": 48,
   "metadata": {},
   "outputs": [
    {
     "data": {
      "text/plain": [
       "18.0"
      ]
     },
     "execution_count": 48,
     "metadata": {},
     "output_type": "execute_result"
    }
   ],
   "source": [
    "n_paths1 = np.math.factorial(4)/(np.math.factorial(2) * np.math.factorial(4-2))\n",
    "n_paths2 = np.math.factorial(3)/(np.math.factorial(2) * np.math.factorial(3-2))\n",
    "n_paths = n_paths1 * n_paths2 # we multiply because the whole bath is one combination and we have to multiply, unlike other cases where we are adding the set of combinations.\n",
    "n_paths"
   ]
  },
  {
   "cell_type": "markdown",
   "metadata": {},
   "source": [
    "<h2>23</h2>\n",
    "<div>\n",
    " - 3 rooms<br>\n",
    " - each room has 2 beds<br>\n",
    " - Three identical twins to be assigned to each room<br>\n",
    " - how many assignments are possible<br>\n",
    " - Order important? Yes<br>\n",
    "</div>    "
   ]
  },
  {
   "cell_type": "code",
   "execution_count": 49,
   "metadata": {},
   "outputs": [
    {
     "data": {
      "text/plain": [
       "48"
      ]
     },
     "execution_count": 49,
     "metadata": {},
     "output_type": "execute_result"
    }
   ],
   "source": [
    "# number of ways to distribute the 3 pair of twins into 3 beds\n",
    "n_dist = np.math.factorial(3)\n",
    "n_beds1 = np.math.factorial(2) # two beds per room\n",
    "n_beds2 = np.math.factorial(2) # two beds per room\n",
    "n_beds3 = np.math.factorial(2) # two beds per room\n",
    "\n",
    "n_dist = n_dist*n_beds1*n_beds2*n_beds3\n",
    "n_dist"
   ]
  },
  {
   "cell_type": "markdown",
   "metadata": {},
   "source": [
    "<h2>24</h2>\n",
    "<div>\n",
    " - expand \\((3x^{2} + y)^{5}\\)<br>\n",
    " - Use \\((a + b)^{n}\\) = \\(\\Sigma_{x=0}^{n} \\binom{n}{x} (a)^{n-x} + (b)^{x}\\)<br>\n",
    " - a = \\(3x^{2}\\)<br>\n",
    " - b = \\(y\\)<br>    \n",
    " - n = 5\n",
    "</div>    "
   ]
  },
  {
   "cell_type": "markdown",
   "metadata": {},
   "source": [
    "<div>\n",
    "    \\((3x^{2} + y)^{5}\\) =  \\(\\Sigma_{x=0}^{5} \\binom{5}{x} (3x^{2})^{5-x} + (y)^{x}\\)<br>\n",
    "    \\(\\binom{5}{0} = \\frac{5!}{0!(5-0)!} = 1 * (3x^{2})^{5-0} + (y)^{0}\\)<br>\n",
    "    \\(\\binom{5}{1} = \\frac{5!}{1!(5-1)!} = \\frac{5!}{1!(4)!} = \\frac{5*4*3*2*1}{1(4*3*2*1)} = 5 * (3x^{2})^{5-1} * (y)^{1}\\)<br>\n",
    "    \\(\\binom{5}{2} = \\frac{5!}{2!(5-2)!} = \\frac{5!}{2!(3)!} = \\frac{5*4*3*2*1}{2*1(3*2*1)} = 10 * (3x^{2})^{5-2} * (y)^{2}\\)<br>\n",
    "    \\(\\binom{5}{3} = \\frac{5!}{3!(5-3)!} = \\frac{5!}{3!(2)!} = \\frac{5*4*3*2*1}{2*1(3*2*1)} = 10 * (3x^{2})^{5-3} * (y)^{3}\\)<br>\n",
    "    \\(\\binom{5}{4} = \\frac{5!}{4!(5-4)!} = \\frac{5!}{4!(1)!} = \\frac{5*4*3*2*1}{4*3*2*1} = 5 * (3x^{2})^{5-4} * (y)^{4}\\)<br>\n",
    "    \\(\\binom{5}{5} = \\frac{5!}{5!(5-5)!} = \\frac{5!}{5!(0)!} = \\frac{5*4*3*2*1}{5*4*3*2*1} = 1 *  (3x^{2})^{5-5} * (y)^{5}\\)<br>\n",
    "    \\(\\binom{5}{0} = \\frac{5!}{0!(5-0)!} = 1 * (3x^{2})^{5-0} * (y)^{0}\\)\n",
    "    <br><br><br>\n",
    "    1 * \\((3x^{2})^{5-0} * (y)^{0}\\) = \\((3x^{2})^5 \\)<br>\n",
    "    5 * \\((3x^{2})^{4} * (y)^{1}\\) = 5*\\((3x^{2})^4 * y\\)<br>\n",
    "    10 * \\((3x^{2})^{5-2} * (y)^{2}\\) = 10*\\((3x^{2})^3 * y^{2}\\) <br>\n",
    "    10 * \\((3x^{2})^{5-3} * (y)^{3}\\) = 10*\\((3x^{2})^2 * y^{3}\\) <br>\n",
    "    5 * \\((3x^{2})^{5-4} * (y)^{4}\\) = 5*\\((3x^{2})^1 * y^{4}\\) <br>\n",
    "    1 *  \\((3x^{2})^{5-5} * (y)^{5}\\) = \\((3x^{2})^0 * y^{5}\\) <br>  \n",
    "    <br><br><br>\n",
    "    \\((3x^{2})^5 \\)+<br>\n",
    "    5*\\((3x^{2})^4 * y\\)+<br>\n",
    "    10*\\((3x^{2})^3 * y^{2}\\)+ <br>\n",
    "    10*\\((3x^{2})^2 * y^{3}\\)+ <br>\n",
    "    5*\\((3x^{2})^1 * y^{4}\\)+ <br>\n",
    "    \\((3x^{2})^0 * y^{5}\\) <br>    \n",
    "</div>    "
   ]
  },
  {
   "cell_type": "markdown",
   "metadata": {},
   "source": [
    "<h2>25</h2>\n",
    "<div>\n",
    " - 4 players<br>\n",
    " - each player = 13 cards<br>\n",
    " - How many bridge deals are possible?<br>\n",
    " - Not basic counting principle because cards are unique<br>\n",
    " - Order important? No<br>\n",
    " - player 1: \\(13!\\)<br>\n",
    " - player 2: \\(13!\\) <br>\n",
    " - player 3: \\(13!\\)<br>\n",
    " - player 4: \\(13!\\) <br>\n",
    " - \\(\\frac{n!}{n_1!*n_2!*n_3!*n_4!}\\)\n",
    "</div>    "
   ]
  },
  {
   "cell_type": "code",
   "execution_count": 50,
   "metadata": {},
   "outputs": [
    {
     "data": {
      "text/plain": [
       "5.364473776548879e+28"
      ]
     },
     "execution_count": 50,
     "metadata": {},
     "output_type": "execute_result"
    }
   ],
   "source": [
    "total_card_poss = np.math.factorial(52)/(np.math.factorial(13)**4)\n",
    "total_card_poss"
   ]
  },
  {
   "cell_type": "markdown",
   "metadata": {},
   "source": [
    "<h2>27</h2>\n",
    "<div>\n",
    " - 12 people<br>\n",
    " - Divided into 3 committees<br>\n",
    " - committee a = 3<br>\n",
    " - committee b = 4<br>\n",
    " - committee c = 5<br>\n",
    "</div>    "
   ]
  },
  {
   "cell_type": "code",
   "execution_count": 51,
   "metadata": {},
   "outputs": [
    {
     "data": {
      "text/plain": [
       "27720.0"
      ]
     },
     "execution_count": 51,
     "metadata": {},
     "output_type": "execute_result"
    }
   ],
   "source": [
    "n_total = np.math.factorial(12)/(np.math.factorial(3)*np.math.factorial(4)*np.math.factorial(5))\n",
    "n_total"
   ]
  },
  {
   "cell_type": "markdown",
   "metadata": {},
   "source": [
    "<h2>28a</h2>\n",
    "<div>\n",
    " - 8 teachers<br>\n",
    " - Divided into 4 schools<br>\n",
    " - Order? No<br>\n",
    " - Repeat? Yes<br>\n",
    " - Combination? No<br>\n",
    " - Basic counting principle<br>    \n",
    "</div>    "
   ]
  },
  {
   "cell_type": "code",
   "execution_count": 52,
   "metadata": {},
   "outputs": [
    {
     "data": {
      "text/plain": [
       "65536"
      ]
     },
     "execution_count": 52,
     "metadata": {},
     "output_type": "execute_result"
    }
   ],
   "source": [
    "n_total = 4*4*4*4*4*4*4*4\n",
    "n_total"
   ]
  },
  {
   "cell_type": "markdown",
   "metadata": {},
   "source": [
    "<h2>28b</h2>\n",
    "<div>\n",
    " - 8 teachers<br>\n",
    " - Divided into 4 schools<br>\n",
    " - Each school receive 2 teachers<br>\n",
    " - Order? No<br>\n",
    " - Repeat? Yes<br>\n",
    " - Combination? Yes<br>\n",
    "    \\(\\binom{8}{2} \\)*\\(\\binom{6}{2} \\)*\\(\\binom{4}{2} \\)\\(\\binom{2}{2} \\)\n",
    "</div>    "
   ]
  },
  {
   "cell_type": "code",
   "execution_count": 53,
   "metadata": {},
   "outputs": [
    {
     "data": {
      "text/plain": [
       "2520.0"
      ]
     },
     "execution_count": 53,
     "metadata": {},
     "output_type": "execute_result"
    }
   ],
   "source": [
    "school_1 = np.math.factorial(8)/(np.math.factorial(2)*np.math.factorial(8-2))\n",
    "school_2 = np.math.factorial(6)/(np.math.factorial(2)*np.math.factorial(6-2))\n",
    "school_3 = np.math.factorial(4)/(np.math.factorial(2)*np.math.factorial(4-2))\n",
    "school_4 = np.math.factorial(2)/(np.math.factorial(2)*np.math.factorial(2-2))\n",
    "\n",
    "n_combo = school_1*school_2*school_3*school_4\n",
    "n_combo"
   ]
  },
  {
   "cell_type": "markdown",
   "metadata": {},
   "source": [
    "<h2>29a</h2>\n",
    "<div>\n",
    " - 10 lifters<br>\n",
    " - USA 3<br>\n",
    " - Russia 4<br>\n",
    " - China 2<br>\n",
    " - Canada 1<br>\n",
    "</div>    "
   ]
  },
  {
   "cell_type": "code",
   "execution_count": 54,
   "metadata": {},
   "outputs": [
    {
     "data": {
      "text/plain": [
       "12600.0"
      ]
     },
     "execution_count": 54,
     "metadata": {},
     "output_type": "execute_result"
    }
   ],
   "source": [
    "n_outcomes = np.math.factorial(10)/(np.math.factorial(3)*np.math.factorial(4)*np.math.factorial(2)*np.math.factorial(1))\n",
    "n_outcomes"
   ]
  },
  {
   "cell_type": "markdown",
   "metadata": {},
   "source": [
    "<h2>29b</h2>\n",
    "<div>\n",
    " - USA has 1 competitor in top 3 and 2 in bottom 3<br>\n",
    "    \\(3 * 3 * \\binom{7}{4,2,1} \\)\n",
    "</div>    "
   ]
  },
  {
   "cell_type": "code",
   "execution_count": 55,
   "metadata": {},
   "outputs": [
    {
     "data": {
      "text/plain": [
       "945.0"
      ]
     },
     "execution_count": 55,
     "metadata": {},
     "output_type": "execute_result"
    }
   ],
   "source": [
    "n_outcomes = 9 * np.math.factorial(7)/(np.math.factorial(4)*np.math.factorial(1)*np.math.factorial(2))\n",
    "n_outcomes"
   ]
  },
  {
   "cell_type": "markdown",
   "metadata": {},
   "source": [
    "<h2>30</h2>\n",
    "<div>\n",
    " - Delegates from 10 countries will be seated in a row<br>\n",
    " - Condition 1: How many arrangement if French and English seated next to each other<br>\n",
    " - Condition 2: How many arrangement if Russian and US delegates are not to be next to each other<br>   \n",
    " - Order important? No<br>\n",
    " - Combination problem<br>\n",
    "</div>    "
   ]
  },
  {
   "cell_type": "code",
   "execution_count": 56,
   "metadata": {},
   "outputs": [
    {
     "data": {
      "text/plain": [
       "564480"
      ]
     },
     "execution_count": 56,
     "metadata": {},
     "output_type": "execute_result"
    }
   ],
   "source": [
    "# Step 1: count all the possible arrangements where the French and English can sit together\n",
    "# We we group the french and english together then they are 1 unit and N_d = 10 - 1 = 9\n",
    "# The french and english delegates can interchange the seats among themselves so we multiple by 2!\n",
    "n_FE = np.math.factorial(9)*np.math.factorial(2)\n",
    "\n",
    "# Step 2: count all possible arrangements where French and English are grouped (1 unit) and Russia and US are excluded\n",
    "# and treated as 1 unit\n",
    "# N_d = 10 - 1 - 1 = 8\n",
    "n_RU = np.math.factorial(8)*np.math.factorial(2)*np.math.factorial(2)\n",
    "\n",
    "# total number of arrangements\n",
    "n_T = n_FE - n_RU\n",
    "n_T"
   ]
  },
  {
   "cell_type": "markdown",
   "metadata": {},
   "source": [
    "<h2>31a</h2>\n",
    "<div>\n",
    " - 8 identical blackboards are divided among 4 schools<br>\n",
    " - How many divisions are possible?<br>\n",
    " - Order important? No<br>\n",
    " - Combination problem<br>\n",
    "    Since the blackboards are identical, only the number of blackboards in a school is important<br>\n",
    "    How many are there non negative integer solutions to this equation: \\(x_{1} +x_{2} +x_{3}+x_{4}  = 8 \\)\n",
    "  \\(n = 8\\) the identical blackboards<br>\n",
    "    \\(r = 4 \\) the number of schools<br>\n",
    "    \\(\\binom{n + r -1}{r - 1} \\)<br>\n",
    "    \\(\\binom{8 + 4 -1}{4 - 1} \\)<br>\n",
    "    \\(\\binom{11}{3}\\)\n",
    "</div>    "
   ]
  },
  {
   "cell_type": "code",
   "execution_count": 57,
   "metadata": {},
   "outputs": [
    {
     "data": {
      "text/plain": [
       "165.0"
      ]
     },
     "execution_count": 57,
     "metadata": {},
     "output_type": "execute_result"
    }
   ],
   "source": [
    "n_total = np.math.factorial(11)/(np.math.factorial(3)*np.math.factorial(11-3))\n",
    "n_total"
   ]
  },
  {
   "cell_type": "markdown",
   "metadata": {},
   "source": [
    "<h2>31b</h2>\n",
    "<div>\n",
    " - 8 identical blackboards are divided among 4 schools<br>\n",
    " - How many divisions are possible if each school must receive at least 1 blackboard?<br>\n",
    " - Order important? No<br>\n",
    " - Combination problem<br>\n",
    "    \\(n = 8\\) the identical blackboards<br>\n",
    "    \\(r = 4 \\) the number of schools<br>\n",
    "    \\(\\binom{n - 1}{r - 1} \\)<br>\n",
    "    \\(\\binom{8 - 1}{4 - 1} \\)<br>\n",
    "    \\(\\binom{7}{3}\\)\n",
    "</div>    "
   ]
  },
  {
   "cell_type": "code",
   "execution_count": 58,
   "metadata": {},
   "outputs": [
    {
     "data": {
      "text/plain": [
       "35.0"
      ]
     },
     "execution_count": 58,
     "metadata": {},
     "output_type": "execute_result"
    }
   ],
   "source": [
    "n_total = np.math.factorial(7)/(np.math.factorial(3)*np.math.factorial(7-3))\n",
    "n_total"
   ]
  },
  {
   "cell_type": "markdown",
   "metadata": {},
   "source": [
    "<h2>32a</h2>\n",
    "<div>\n",
    " - Elevator at basement with 8 people<br>\n",
    " - Discharges everyone by the time it reaches 6th floor<br>\n",
    " - How many ways could the operator have perceived the people leaving the elevator if all the people look alike to him? Identical<br>\n",
    " - Order important? No<br>\n",
    " - Combination problem<br>\n",
    "    \\(n = 8\\) the number of people<br>\n",
    "    \\(r = 6 \\) the number of floors<br>\n",
    "    \\(\\binom{n + r - 1}{r - 1} \\)<br>\n",
    "    \\(\\binom{8 + 6 - 1}{6 - 1} \\)<br>\n",
    "    \\(\\binom{13}{5}\\)\n",
    "</div>    "
   ]
  },
  {
   "cell_type": "code",
   "execution_count": 59,
   "metadata": {},
   "outputs": [
    {
     "data": {
      "text/plain": [
       "1287.0"
      ]
     },
     "execution_count": 59,
     "metadata": {},
     "output_type": "execute_result"
    }
   ],
   "source": [
    "n_total = np.math.factorial(13)/(np.math.factorial(5)*np.math.factorial(13-5))\n",
    "n_total"
   ]
  },
  {
   "cell_type": "markdown",
   "metadata": {},
   "source": [
    "<h2>32b</h2>\n",
    "<div>\n",
    " - Elevator at basement with 8 people<br>\n",
    " - Discharges everyone by the time it reaches 6th floor<br>\n",
    " - How many ways could the operator have perceived the people leaving the elevator if 5 men and 3 women<br>\n",
    " - Order important? No<br>\n",
    " - Combination problem<br>\n",
    "    <strong>Men</strong><br>\n",
    "    \\(n = 5\\) the number of people<br>\n",
    "    \\(r = 6 \\) the number of floors<br>\n",
    "    \\(\\binom{n + r - 1}{r - 1} \\)<br>\n",
    "    \\(\\binom{5 + 6 - 1}{6 - 1} \\)<br>\n",
    "    \\(\\binom{10}{5}\\)<br><br>\n",
    "    <strong>Women</strong><br>\n",
    "    \\(y_{1} + y_{2} + y_{3} + y_{4} + y_{4} + y_{6} = 3\\)\n",
    "    \\(n = 3\\) the number of people<br>\n",
    "    \\(r = 6 \\) the number of floors<br>\n",
    "    \\(\\binom{n + r - 1}{r - 1} \\)<br>\n",
    "    \\(\\binom{3 + 6 - 1}{6 - 1} \\)<br>\n",
    "    \\(\\binom{8}{5}\\)<br><br>\n",
    "    <strong>Final: men x women</strong><br>\n",
    "</div>    "
   ]
  },
  {
   "cell_type": "code",
   "execution_count": 60,
   "metadata": {},
   "outputs": [
    {
     "data": {
      "text/plain": [
       "14112.0"
      ]
     },
     "execution_count": 60,
     "metadata": {},
     "output_type": "execute_result"
    }
   ],
   "source": [
    "n_men = np.math.factorial(10)/(np.math.factorial(5)*np.math.factorial(10-5))\n",
    "n_women = np.math.factorial(8)/(np.math.factorial(5)*np.math.factorial(8-5))\n",
    "n_total = n_men *n_women\n",
    "n_total"
   ]
  },
  {
   "cell_type": "markdown",
   "metadata": {},
   "source": [
    "<h2>33a</h2>\n",
    "<div>\n",
    " - 20,000 to be invested<br>\n",
    " - each investment must be integral in units of 1000<br>\n",
    " - min investment for each is 2000, 2000, 3000, 4000<br>\n",
    " - How many different investment strategies are available if an investment must be made in each opportunity?<br>\n",
    " - Order important? No<br>\n",
    " - Combination problem<br>\n",
    "    \\(2x_{1} + 2x_{2} + 3x_{3} + 4x_{4} = 20\\)<br>\n",
    "    r = \\(2 + 2 + 3 + 4 = 11\\)<br>\n",
    "    \\(n = 20\\) total available for investing<br>\n",
    "    \\(r = 4 \\) the number of investments<br>\n",
    "    \\(\\binom{n + r - 1}{r - 1} \\)<br>\n",
    "    \\(\\binom{(20 - 11) + 4 - 1}{4 - 1} \\)<br>\n",
    "    \\(\\binom{12}{3}\\)\n",
    "</div>    "
   ]
  },
  {
   "cell_type": "code",
   "execution_count": 61,
   "metadata": {},
   "outputs": [
    {
     "data": {
      "text/plain": [
       "220.0"
      ]
     },
     "execution_count": 61,
     "metadata": {},
     "output_type": "execute_result"
    }
   ],
   "source": [
    "n_4_total = np.math.factorial(12)/(np.math.factorial(3)*np.math.factorial(12-3))\n",
    "n_4_total"
   ]
  },
  {
   "cell_type": "markdown",
   "metadata": {},
   "source": [
    "<h2>33b</h2>\n",
    "<div>\n",
    " - 20,000 to be invested<br>\n",
    " - each investment must be integral in units of 1000<br>\n",
    " - min investment for each is 2000, 2000, 3000, 4000<br>\n",
    " - How many different investment strategies are available if investments must be made in at least 3 of the 4 opportunities?<br>\n",
    " - Order important? No<br>\n",
    " - Combination problem<br>\n",
    "</div>    "
   ]
  },
  {
   "cell_type": "markdown",
   "metadata": {},
   "source": [
    "<h2>Step 1</h2>\n",
    "<div>\n",
    "    Invest in 1, 2, 3<br>\n",
    "    \\(y_{1} + 2 + y_{2} + 2 + y_{3} + 3 = 20\\)<br>\n",
    "    \\(y_{1} + y_{2} + y_{3} = 13\\)<br>    \n",
    "    \\(n = 13\\) total available for investing<br>\n",
    "    \\(r = 3 \\) the number of investments<br>\n",
    "    \\(\\binom{n + r - 1}{r - 1} \\)<br>\n",
    "    \\(\\binom{13 + 3 - 1}{3 - 1} \\)<br>\n",
    "    \\(\\binom{15}{2}\\)\n",
    "</div>    "
   ]
  },
  {
   "cell_type": "code",
   "execution_count": 62,
   "metadata": {},
   "outputs": [
    {
     "data": {
      "text/plain": [
       "105.0"
      ]
     },
     "execution_count": 62,
     "metadata": {},
     "output_type": "execute_result"
    }
   ],
   "source": [
    "n_inv1 = np.math.factorial(15)/(np.math.factorial(2)*np.math.factorial(15-2))\n",
    "n_inv1"
   ]
  },
  {
   "cell_type": "markdown",
   "metadata": {},
   "source": [
    "<h2>Step 2</h2>\n",
    "<div>\n",
    "    Invest in 1, 2, 4<br>\n",
    "    \\(y_{1} + 2 + y_{2} + 2 + y_{4} + 4 = 20\\)<br>\n",
    "    \\(y_{1} + y_{2} + y_{4} = 12\\)<br>    \n",
    "    \\(n = 12\\) total available for investing<br>\n",
    "    \\(r = 3 \\) the number of investments<br>\n",
    "    \\(\\binom{n + r - 1}{r - 1} \\)<br>\n",
    "    \\(\\binom{12 + 3 - 1}{3 - 1} \\)<br>\n",
    "    \\(\\binom{14}{2}\\)\n",
    "</div>    "
   ]
  },
  {
   "cell_type": "code",
   "execution_count": 63,
   "metadata": {},
   "outputs": [
    {
     "data": {
      "text/plain": [
       "91.0"
      ]
     },
     "execution_count": 63,
     "metadata": {},
     "output_type": "execute_result"
    }
   ],
   "source": [
    "n_inv2 = np.math.factorial(14)/(np.math.factorial(2)*np.math.factorial(14-2))\n",
    "n_inv2"
   ]
  },
  {
   "cell_type": "markdown",
   "metadata": {},
   "source": [
    "<h2>Step 3</h2>\n",
    "<div>\n",
    "    Invest in 1, 3, 4<br>\n",
    "    \\(y_{1} + 2 + y_{3} + 3 + y_{4} + 4 = 20\\)<br>\n",
    "    \\(y_{1} + y_{3} + y_{4} = 11\\)<br>    \n",
    "    \\(n = 11\\) total available for investing<br>\n",
    "    \\(r = 3 \\) the number of investments<br>\n",
    "    \\(\\binom{n + r - 1}{r - 1} \\)<br>\n",
    "    \\(\\binom{11 + 3 - 1}{3 - 1} \\)<br>\n",
    "    \\(\\binom{13}{2}\\)\n",
    "</div>    "
   ]
  },
  {
   "cell_type": "code",
   "execution_count": 64,
   "metadata": {},
   "outputs": [
    {
     "data": {
      "text/plain": [
       "78.0"
      ]
     },
     "execution_count": 64,
     "metadata": {},
     "output_type": "execute_result"
    }
   ],
   "source": [
    "n_inv3 = np.math.factorial(13)/(np.math.factorial(2)*np.math.factorial(13-2))\n",
    "n_inv3"
   ]
  },
  {
   "cell_type": "markdown",
   "metadata": {},
   "source": [
    "<h2>Step 4</h2>\n",
    "<div>\n",
    "    Invest in 2, 3, 4<br>\n",
    "    \\(y_{2} + 2 + y_{3} + 3 + y_{4} + 4 = 20\\)<br>\n",
    "    \\(y_{2} + y_{3} + y_{4} = 11\\)<br>    \n",
    "    \\(n = 11\\) total available for investing<br>\n",
    "    \\(r = 3 \\) the number of investments<br>\n",
    "    \\(\\binom{n + r - 1}{r - 1} \\)<br>\n",
    "    \\(\\binom{11 + 3 - 1}{3 - 1} \\)<br>\n",
    "    \\(\\binom{13}{2}\\)\n",
    "</div>    "
   ]
  },
  {
   "cell_type": "code",
   "execution_count": 65,
   "metadata": {},
   "outputs": [
    {
     "data": {
      "text/plain": [
       "78.0"
      ]
     },
     "execution_count": 65,
     "metadata": {},
     "output_type": "execute_result"
    }
   ],
   "source": [
    "n_inv4 = np.math.factorial(13)/(np.math.factorial(2)*np.math.factorial(13-2))\n",
    "n_inv4"
   ]
  },
  {
   "cell_type": "code",
   "execution_count": 66,
   "metadata": {},
   "outputs": [
    {
     "data": {
      "text/plain": [
       "352.0"
      ]
     },
     "execution_count": 66,
     "metadata": {},
     "output_type": "execute_result"
    }
   ],
   "source": [
    "#Total number of investment opportunities if only three are made\n",
    "n_3_total = n_inv1 + n_inv2 + n_inv3 + n_inv4\n",
    "n_3_total"
   ]
  },
  {
   "cell_type": "code",
   "execution_count": 67,
   "metadata": {},
   "outputs": [
    {
     "data": {
      "text/plain": [
       "572.0"
      ]
     },
     "execution_count": 67,
     "metadata": {},
     "output_type": "execute_result"
    }
   ],
   "source": [
    "# total number if at least 3 investments are made\n",
    "n_Total = n_4_total + n_3_total\n",
    "n_Total"
   ]
  },
  {
   "cell_type": "markdown",
   "metadata": {},
   "source": [
    "<h2>34a</h2>\n",
    "<div>\n",
    " - 10 fish caught in a lake<br>\n",
    " - 5 distinct fish<br>\n",
    " - How many different outcomes are possible, where an outcome specifies the number of caught fish of each of the 5 types?<br>\n",
    " - Order important? No<br>\n",
    " - Combination problem<br>\n",
    "    \\(x_{1} + x_{2} + x_{3} + x_{4} + x_{5} = 10\\)<br>\n",
    "    n = 10<br>\n",
    "    r = 5<br>\n",
    "    \\(\\binom{n + r -1}{r}\\)<br>\n",
    "    \\(\\binom{10 + 5 - 1}{5 - 1} \\)<br>\n",
    "    \\(\\binom{14}{4}\\)    \n",
    "\n",
    "</div>    "
   ]
  },
  {
   "cell_type": "code",
   "execution_count": 68,
   "metadata": {},
   "outputs": [
    {
     "data": {
      "text/plain": [
       "1001.0"
      ]
     },
     "execution_count": 68,
     "metadata": {},
     "output_type": "execute_result"
    }
   ],
   "source": [
    "n_a = np.math.factorial(14)/(np.math.factorial(4)*np.math.factorial(14-4))\n",
    "n_a"
   ]
  },
  {
   "cell_type": "markdown",
   "metadata": {},
   "source": [
    "<h2>34b</h2>\n",
    "<div>\n",
    " - 10 fish caught in a lake<br>\n",
    " - 5 distinct fish<br>\n",
    " - How many different outcomes are possible, if three of the fish caught are trout?<br>\n",
    " - Order important? No<br>\n",
    " - Combination problem<br>\n",
    "    \\(x_{1} + 3 + x_{2} + x_{3} + x_{4} + x_{5} = 10\\)<br>\n",
    "    \\(x_{1} + x_{2} + x_{3} + x_{4} + x_{5} = 7\\)<br>\n",
    "    n = 7<br>\n",
    "    r = 5 - 1 = 4. We reduce by one because we already know that 1 group is trout<br> \n",
    "    \\(\\binom{n + r -1}{r}\\)<br>\n",
    "    \\(\\binom{7 + 4 - 1}{4 - 1} \\)<br>\n",
    "    \\(\\binom{10}{3}\\)\n",
    "</div>    "
   ]
  },
  {
   "cell_type": "code",
   "execution_count": 69,
   "metadata": {},
   "outputs": [
    {
     "data": {
      "text/plain": [
       "120.0"
      ]
     },
     "execution_count": 69,
     "metadata": {},
     "output_type": "execute_result"
    }
   ],
   "source": [
    "n_b = np.math.factorial(10)/(np.math.factorial(3)*np.math.factorial(10-3))\n",
    "n_b"
   ]
  },
  {
   "cell_type": "markdown",
   "metadata": {},
   "source": [
    "<h2>34b</h2>\n",
    "<div>\n",
    " - 10 fish caught in a lake<br>\n",
    " - 5 distinct fish<br>\n",
    " - How many different outcomes are possible, when at minimal, 2 of the fish caught are trout?<br>\n",
    " - Order important? No<br>\n",
    " - Combination problem<br>\n",
    "    step 1: if no trout<br>\n",
    "    step 2: if at least 1 trout<br>\n",
    "    step 3: add step 1 and step 2<br>\n",
    "    step 4: subtract from any trout<br>\n",
    "</div>    "
   ]
  },
  {
   "cell_type": "markdown",
   "metadata": {},
   "source": [
    "<div>\n",
    "    <h2>Step 1</h2>\n",
    "    \\(x_{1} + 0 + x_{2} + x_{3} + x_{4} + x_{5} = 10\\)<br>\n",
    "    \\(x_{2} + x_{3} + x_{4} + x_{5} = 10\\)<br>\n",
    "    n = 10<br>\n",
    "    r = 4<br>\n",
    "    \\(\\binom{n + r -1}{r}\\)<br>\n",
    "    \\(\\binom{10 + 4 - 1}{4 - 1} \\)<br>\n",
    "    \\(\\binom{13}{3}\\)<br>\n",
    "</div>"
   ]
  },
  {
   "cell_type": "code",
   "execution_count": 70,
   "metadata": {},
   "outputs": [
    {
     "data": {
      "text/plain": [
       "286.0"
      ]
     },
     "execution_count": 70,
     "metadata": {},
     "output_type": "execute_result"
    }
   ],
   "source": [
    "n_1 = np.math.factorial(13)/(np.math.factorial(3)*np.math.factorial(13-3))\n",
    "n_1"
   ]
  },
  {
   "cell_type": "markdown",
   "metadata": {},
   "source": [
    "<div>\n",
    "    <h2>Step 2</h2>\n",
    "    \\(x_{1} + 1 + 0 + x_{2} + x_{3} + x_{4} + x_{5} = 10\\)<br>\n",
    "    \\(x_{2} + x_{3} + x_{4} + x_{5} = 9\\)<br>\n",
    "    n = 9<br>\n",
    "    r = 4<br>\n",
    "    \\(\\binom{n + r -1}{r}\\)<br>\n",
    "    \\(\\binom{9 + 4 - 1}{4 - 1} \\)<br>\n",
    "    \\(\\binom{12}{3}\\)<br>\n",
    "</div>"
   ]
  },
  {
   "cell_type": "code",
   "execution_count": 71,
   "metadata": {},
   "outputs": [
    {
     "data": {
      "text/plain": [
       "220.0"
      ]
     },
     "execution_count": 71,
     "metadata": {},
     "output_type": "execute_result"
    }
   ],
   "source": [
    "n_2 = np.math.factorial(12)/(np.math.factorial(3)*np.math.factorial(12-3))\n",
    "n_2"
   ]
  },
  {
   "cell_type": "code",
   "execution_count": 72,
   "metadata": {},
   "outputs": [
    {
     "data": {
      "text/plain": [
       "495.0"
      ]
     },
     "execution_count": 72,
     "metadata": {},
     "output_type": "execute_result"
    }
   ],
   "source": [
    "n_total = n_a - n_1 - n_2\n",
    "n_total"
   ]
  },
  {
   "cell_type": "code",
   "execution_count": null,
   "metadata": {},
   "outputs": [],
   "source": []
  }
 ],
 "metadata": {
  "kernelspec": {
   "display_name": "Python 3",
   "language": "python",
   "name": "python3"
  },
  "language_info": {
   "codemirror_mode": {
    "name": "ipython",
    "version": 3
   },
   "file_extension": ".py",
   "mimetype": "text/x-python",
   "name": "python",
   "nbconvert_exporter": "python",
   "pygments_lexer": "ipython3",
   "version": "3.9.1"
  }
 },
 "nbformat": 4,
 "nbformat_minor": 5
}

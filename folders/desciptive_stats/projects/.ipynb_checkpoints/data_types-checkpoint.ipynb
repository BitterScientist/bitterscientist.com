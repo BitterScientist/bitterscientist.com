{
 "cells": [
  {
   "cell_type": "markdown",
   "metadata": {},
   "source": [
    "<div style=\"font-size:16px; border:1px solid black; padding:10px\">\n",
    "<center><h1><br><font color=\"blue\">Goal:</font> Overview of Data and Variable Types</h1></center>    \n",
    "    <ol>\n",
    "        <li><a href=\"#objective0\">Data and Variables Defined.</a></li><br>\n",
    "        <li><a href=\"#objective1\">Categorical Data.</a></li><br>\n",
    "        <li><a href=\"#objective2\">Continuous Data.</a></li><br>   \n",
    "        <li><a href=\"#objective3\">Independent Variables.</a></li><br>\n",
    "        <li><a href=\"#objective4\">Dependent Variables.</a></li><br>\n",
    "    </ol>\n",
    "</div>"
   ]
  },
  {
   "cell_type": "markdown",
   "metadata": {},
   "source": [
    "<hr style=\"border-top: 5px solid black;\">"
   ]
  },
  {
   "cell_type": "markdown",
   "metadata": {},
   "source": [
    "<div id=\"objective0\" style=\"font-size:16px; border:1px solid black; padding:10px\"><center><h1>Data and Variables Defined</h1></center>\n",
    "    <ul>\n",
    "        <li><strong><mark>Data:</mark></strong> are individual pieces of factual information recorded and used for the purpose of analysis.</li><br>\n",
    "        <li>Data is the raw information and building blocks which statistics are obtained.</li><br>\n",
    "        <li>Data is obtained from various sources, and includes the following:\n",
    "            <ul>\n",
    "                <li>interviews</li>\n",
    "                <li>questionnaires</li>\n",
    "                <li>observations</li>\n",
    "                <li>documents and records</li>\n",
    "                <li>focus groups</li>\n",
    "                <li>oral histories</li>\n",
    "                <li>user events</li>                \n",
    "            </ul>\n",
    "        </li>\n",
    "            <br>\n",
    "        <li>Data can be grouped as either:\n",
    "            <ul>\n",
    "                <li>Qualitative or Quantitative</li>\n",
    "                <li>Categorical or Continuous</li>\n",
    "                <li>Discrete or Continuous</li>  \n",
    "            </ul>\n",
    "        </li>\n",
    "        <br>\n",
    "        <li><strong><mark>Qualitative or Quantitative Data:</mark></strong>\n",
    "            <ul>\n",
    "                <li><strong>Qualitative data:</strong> is descriptive and conceptual and is usually represented as strings, or images that describe attributes or properties an object posesses using words, concepts, categories, and visuals.</li>\n",
    "                <li><strong>Quantitative data:</strong> is typically expressed as quantities, numbers, amounts, and ranges.  There is usually a measurement unit associated with this data type.</li>                \n",
    "            </ul>\n",
    "        </li>\n",
    "        <br> \n",
    "        <li><strong><mark>Categorical or Continuous:</mark></strong>\n",
    "            <ul>\n",
    "                <li><strong>Categorical data:</strong> is information that can be divided into groups.</li>\n",
    "                <li><strong>Continuous data:</strong> is information that can be measured on a coninuum or scale, and can take on almost any numeric value.</li>                \n",
    "            </ul>\n",
    "        </li>\n",
    "        <br>\n",
    "        <li><strong><mark>Discrete or Continuous:</mark></strong>\n",
    "            <ul>\n",
    "                <li><strong>Discrete data:</strong> is numeric information that contains finite values that have nothing in-between, such as integers.  This data type cannot be subdivided into smaller parts, and the values are never represented as fractions and decimals.</li>\n",
    "                <li><strong>Continuous data:</strong> is numeric information that can be measured on a scale, and whose values can take on any value, within a finite or infinite range of possible values.  This data type can be subdivided into smaller parts, such as fractions and decimals.</li>                \n",
    "            </ul>\n",
    "        </li>\n",
    "        <br>           \n",
    "        <li><strong><mark style=\" background-color: yellow; color: black;\">Why is it important to understand how data is classified?</mark></strong> The type of data used in a study determines the type of data visualizations and analysis available for researchers to perform.</li>\n",
    "    </ul>\n",
    "</div>"
   ]
  },
  {
   "cell_type": "markdown",
   "metadata": {},
   "source": [
    "<hr style=\"border-top: 5px solid black;\">"
   ]
  },
  {
   "cell_type": "markdown",
   "metadata": {},
   "source": [
    "<div id=\"objective1\" style=\"font-size:16px; border:1px solid black; padding:10px\">\n",
    "    <center><h1><strong>Categorical Data</strong></h1></center>\n",
    "    <ul>\n",
    "        <li>Categorical data is information consisting of counts of observations that can fall into different categories. These categories may be descriptive, and/or may have a natural order.</li><br>\n",
    "        <li>Categorical data is also known as qualitative or discrete variables.</li><br>\n",
    "        <li>Categorical data contain levels, which help explain the attributes or properties of the given category.  Levels also help explain how a variable should be measured, manipulated and controlled.</li><br>\n",
    "        <li>Example of levels include: On a scale from 1 to 5, rate how likely you are to recommend this product [1 = not likely, 5 = very likely].</li><br>\n",
    "        <li>Categorical data can be further organized into three types:\n",
    "            <ul>\n",
    "                <li><strong>Nominal</strong> data have two or more categories and do not have intrinsic order.</li>\n",
    "                <li><strong>Dichotomous</strong> data only have two categories and are either fixed or designed</li>\n",
    "                <li><strong>Ordinal</strong> data has two or more categories that are ordered or ranked.</li>\n",
    "            </ul>\n",
    "        </li>\n",
    "        <br>\n",
    "        <hr>\n",
    "        <li><strong style=\"text-decoration: underline;\">Examples of <font color=\"red\">Nominal Data</font> Use Cases</strong>\n",
    "            <ul>\n",
    "                <li><strong><em>Definition:</em></strong> data that has 2+ categories with no intrinsic order.</li><br>\n",
    "                <li><strong>General examples:</strong> zip codes, states, NFL player positions, movie genres, political. preferences, employment status, etc.</li><br>\n",
    "                <li><strong><em>Common Data Visualization Methods:</em></strong> Pie, donut, waffle, square pie bubble, and bar charts (stacked/grouped/horizontal/verticle). Frequency and Percent tables.</li><br>\n",
    "                <li><strong><em>Descriptive statistic:</em></strong> Only the mode is used when describing the central tendency. You cannot perform many of the standard statistical computations such as mean, median or standard deviation with nominal data/variables. </li><br>\n",
    "                <li><strong><em>Example Inferential statistic:</em></strong> Chi-square, Multinomial logistic regression.</li><br>\n",
    "                <li><strong><em>Machine Learning Example - Target Feature</em></strong> The <a href=\"https://archive.ics.uci.edu/ml/datasets/iris\">Iris Data set</a> Flower classes: Iris Setosa, Iris Versicolour, Iris Virginica</li>\n",
    "            </ul>\n",
    "        </li>    \n",
    "        <br>\n",
    "        <hr>\n",
    "        <li><strong style=\"text-decoration: underline;\">Examples of <font color=\"red\">Dichotomous Data</font> Use Cases</strong>\n",
    "            <ul>\n",
    "                <li><strong><em>Definition:</em></strong> data that only has two categories. Also known as binary.</li><br>\n",
    "                <li><strong>General examples:</strong> male or female, yes or no, present or absent, ocurred or did not occur, heads or tail, malignant or not malignant.</li><br>\n",
    "                <li><strong><em>Common Data Visualization Methods:</em></strong> Pie, donut, waffle, square pie bubble, and bar charts (stacked/grouped/horizontal/verticle).</li><br>\n",
    "                <li><strong><em>Descriptive statistic:</em></strong> Only the mode is used when describing the central tendency. You cannot perform many of the standard statistical computations such as mean, median or standard deviation with nominal data/variables.</li><br>\n",
    "                <li><strong><em>Example Inferential statistic:</em></strong> Binomial test, Binomial logistic regression.</li><br>\n",
    "                <li><strong><em>Machine Learning Example - Target Feature</em></strong> <a href=\"https://www.kaggle.com/uciml/pima-indians-diabetes-database\">Pima Diabetes Dataset</a>, is an individual in dataset diabetic or not.</li>\n",
    "            </ul>\n",
    "        </li>\n",
    "        <br>\n",
    "        <hr>        \n",
    "        <li><strong style=\"text-decoration: underline;\">Examples of <font color=\"red\">Ordinal Data</font> Use Cases</strong>\n",
    "            <ul>\n",
    "<li><strong><em>Definition:</em></strong> data that only has more than two categories with intrinsic ordering or rank.</li><br>\n",
    "                <li><strong>General examples:</strong> Age group (0-18, 19-34, 35-49, 50+), Income Level (Lower, Middle, Upper), Likert Scale (Strongly disagree, disagree, neutral, agree, strongly agree).</li><br>\n",
    "                <li><strong><em>Common Data Visualization Methods:</em></strong> Frequency tables, bar graphs.</li><br>\n",
    "                <li><strong><em>Descriptive statistic:</em></strong> Frequency distribution in numbers or percentages, mode or median to find central tendency, and range to indicate the variability.</li><br>\n",
    "                <li><strong><em>Example Inferential statistic:</em></strong> Non parametric tests only because there is no mean in ordinal data. Mean is only used for continuous data.\n",
    "                    <ul>\n",
    "                        <li><strong>Mood's median:</strong> compare medians. Example: How different are the median income levels of people in 2 neighbouring cities?</li>\n",
    "                        <li><strong>Mann-Whitney U test (Wilcoxon rank sum test)</strong> compare sum of rankings of scores. Example: How does perceived social status in one city differ from that in another?</li>\n",
    "                        <li><strong>Wilcoxon matched-pairs signed-rank test</strong> Compare magnitude and direction of difference between distributions of scores. Example: How similar are the distributions of income levels of Democrats and Republicans in the same city?</li>\n",
    "                        <li><strong>Kruskal–Wallis H test</strong> Compare mean rankings of scores. Example: How does perceived social status differ between Democrats, Republicans and Independents?</li>\n",
    "                        <li><strong>Spearman’s rho or rank correlation coefficien</strong> Correlate 2 variables. Example: Does income level correlate with perceived social status?</li>                      \n",
    "                    </ul>\n",
    "                </li><br>\n",
    "            </ul>\n",
    "        </li>\n",
    "        <br>        \n",
    "    </ul>\n",
    "</div>"
   ]
  },
  {
   "cell_type": "markdown",
   "metadata": {},
   "source": [
    "<hr style=\"border-top: 5px solid black;\">"
   ]
  },
  {
   "cell_type": "markdown",
   "metadata": {},
   "source": [
    "<div id=\"objective2\" style=\"font-size:16px; border:1px solid black; padding:10px\">\n",
    "    <center><h1><strong>Continuous Data</strong> </h1></center>\n",
    "    <ul>Continuous data:\n",
    "        <li>is information that can be measured on a continuum or scale.</li><br>\n",
    "        <li>Is also known as quantitative variables.</li><br>\n",
    "        <li>Can be classified as either <em>interval</em> or <em>ratio</em>.</li><br>\n",
    "        <li>Continues data can have almost any numeric value and can be subdivided into finer increments, depending on the measurement system.</li><br>\n",
    "        <li>Examples include: size of tumor, household prices in Houston, number of headlines with Covid-19 listed in New York Times between 2017-2021, time series.</li><br>\n",
    "    </ul>\n",
    "         <hr>\n",
    "    <li><strong style=\"text-decoration: underline;\">Examples of <font color=\"red\">Interval Data</font> Use Cases</strong>\n",
    "        <ul>\n",
    "            <li><strong><em>Definition:</em></strong> is a value that be be measured along a continuum and uses a numeric scale that has equal distance between adjacent values. The distance between these values is called the interval.  <font color=\"red\">Interval data has no true zero.</font></li><br>\n",
    "            <li><strong>General examples:</strong> Celsium and fahrenheit. They both have a zero value but this value is not a real zero.  Other examples: Credit Score (300 - 850), Standardized tests (GRE, GMAT, SAT), Psychological Inventories (Big Five personality trait test), </li><br>\n",
    "            <li><strong><em>Common Data Visualization Methods:</em></strong> Histograms, line charts, heat maps.</li><br>\n",
    "            <li><strong><em>Descriptive statistic:</em></strong> Frequency distribution table with numbers or presentages. Central tendency (mode, median, mean), Spread (range, standard deviation, and variance).</li><br>\n",
    "            <li><strong><em>Example Inferential statistic:</em></strong> data must meet requirements for each test described below.\n",
    "                <ul>\n",
    "                    <li><strong>T-test:</strong> compare medians. Example: What is the difference in the average SAT scores of students from 2 different high schools?</li>\n",
    "                    <li><strong>ANOVA</strong> What is the difference in the average SAT scores of students from 3 test prep programs?</li>\n",
    "                    <li><strong>Pearson’s r</strong> How are SAT scores and GPAs related?</li>\n",
    "                    <li><strong>Simple linear regression</strong> What is the effect of parental income on SAT scores?</li>\n",
    "                </ul>\n",
    "            <br>\n",
    "            <li><strong><em>Machine Learning Example - Target Feature</em></strong> The <a href=\"https://www.kaggle.com/netzone/default-credit-and-credit-score-prediction\"> Default Credit and Credit Score prediction</a>.</li>\n",
    "        </ul>\n",
    "    </li>\n",
    "        <br>\n",
    "        <hr>\n",
    "    <li><strong style=\"text-decoration: underline;\">Examples of <font color=\"red\">Ratio Data</font> Use Cases</strong>\n",
    "        <ul>\n",
    "            <li><strong><em>Definition:</em></strong> is a quantitative interval value that has a true zero and equal intervals between neighboring points.  Ratio data can represent discrete or continuous variables.  <mark>Discrete data</mark> is represented only with interger values while <mark>Continuous data</mark> can take on an infinite number of values.</li><br>\n",
    "            <li><strong>General examples:</strong> Speed in miles per hour, wing span of birds, number of television monitors owned per household in the US.</li><br>\n",
    "            <li><strong><em>Common Data Visualization Methods:</em></strong> </li><br>\n",
    "            <li><strong><em>Descriptive statistic:</em></strong> Frequency distribution table with numbers or presentages. Central tendency (mode, median, mean), Spread (range, standard deviation, and variance).</li><br>\n",
    "            <li><strong><em>Example Inferential statistic:</em></strong> data must meet requirements for each test described below.\n",
    "                <ul>\n",
    "                    <li><strong>T-test:</strong> compare medians. Example: What is the difference in the average SAT scores of students from 2 different high schools?</li>\n",
    "                    <li><strong>ANOVA</strong> What is the difference in the average SAT scores of students from 3 test prep programs?</li>\n",
    "                    <li><strong>Pearson’s r</strong> How are SAT scores and GPAs related?</li>\n",
    "                    <li><strong>Simple linear regression</strong> What is the effect of parental income on SAT scores?</li>\n",
    "                </ul>\n",
    "            </li>\n",
    "            <br>\n",
    "            <li><strong><em>Machine Learning Example - Target Feature</em></strong> The <a href=\"https://scikit-learn.org/stable/datasets/toy_dataset.html\">Boston House Price Dataset</a>.</li>\n",
    "        </ul>\n",
    "    </li>\n",
    "    <br>\n",
    "</div>"
   ]
  },
  {
   "cell_type": "markdown",
   "metadata": {},
   "source": [
    "<hr style=\"border-top: 5px solid black;\">"
   ]
  },
  {
   "cell_type": "markdown",
   "metadata": {},
   "source": [
    "<div id=\"objective3\" style=\"font-size:16px; border:1px solid black; padding:10px\">\n",
    "    <center><h1><strong>Independent Variables</strong></h1></center>\n",
    "    <ul>\n",
    "        <li>Is a label given to data as part of an experiment/analysis</li><br>\n",
    "        <li>Is also known as the experimental or predictor variable.</li><br>\n",
    "        <li>Is manipulated in an experiment in order to observe the effect it may have on the dependent variable.</li><br>\n",
    "        <li><strong>Example:</strong> A dataset that consists of customer service complaints via twitter consists of: <code>a) author, b) tweet time, c) tweet id, d) the tweet (complaint), e) escalate binary code</code> (complaint responded by person or automated system).  A data scientist wants use natural language processing machine learning to build a model that will help triage customer complaints to humans or an automated system.  This triage will be done using historical data, where staff read the tweet, and based on the language would either have a human respond, or an automated system.  The data scientist wants to automate. <em>The indepedent variable in this example would be the <code>tweet</code>, as this is the experimental variable we can to understand in order to predict the dependent variable</em>.</li><br>         \n",
    "    </ul>\n",
    "</div>"
   ]
  },
  {
   "cell_type": "markdown",
   "metadata": {},
   "source": [
    "<hr style=\"border-top: 5px solid black;\">"
   ]
  },
  {
   "cell_type": "markdown",
   "metadata": {},
   "source": [
    "<div id=\"objective4\" style=\"font-size:16px; border:1px solid black; padding:10px\">\n",
    "    <center><h1><strong>Dependent Variables</strong></h1></center>\n",
    "    <ul>\n",
    "        <li>Is a label given to data as part of an experiment/analysis</li><br>\n",
    "        <li>Dependent variables are also known as the outcome variable.</li><br>\n",
    "        <li>Dependent variables depend on independent variable(s).</li><br>\n",
    "        <li><strong>Example:</strong> A dataset that consists of customer service complaints via twitter consists of: <code>a) author, b) tweet time, c) tweet id, d) the tweet (complaint), e) escalate binary code</code> (complaint responded by person or automated system).  A data scientist wants use natural language processing machine learning to build a model that will help triage customer complaints to humans or an automated system.  This triage will be done using historical data, where staff read the tweet, and based on the language would either have a human respond, or an automated system.  The data scientist wants to automate.  The indepedent variable in this example would be the <code>tweet</code>, which the dependent variable would be the variable we want to predict, and this is dependent on the tweet data.</li><br>       \n",
    "    </ul>\n",
    "</div>"
   ]
  },
  {
   "cell_type": "markdown",
   "metadata": {},
   "source": [
    "<hr style=\"border-top: 5px solid black;\">"
   ]
  }
 ],
 "metadata": {
  "kernelspec": {
   "display_name": "Python 3",
   "language": "python",
   "name": "python3"
  },
  "language_info": {
   "codemirror_mode": {
    "name": "ipython",
    "version": 3
   },
   "file_extension": ".py",
   "mimetype": "text/x-python",
   "name": "python",
   "nbconvert_exporter": "python",
   "pygments_lexer": "ipython3",
   "version": "3.8.2"
  }
 },
 "nbformat": 4,
 "nbformat_minor": 4
}

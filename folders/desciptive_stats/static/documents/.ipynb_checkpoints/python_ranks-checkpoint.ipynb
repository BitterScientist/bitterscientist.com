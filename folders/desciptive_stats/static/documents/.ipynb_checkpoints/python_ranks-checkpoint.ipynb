{
 "cells": [
  {
   "cell_type": "markdown",
   "metadata": {},
   "source": [
    "### Generate a random list of numbers (n = 10)"
   ]
  },
  {
   "cell_type": "code",
   "execution_count": 18,
   "metadata": {},
   "outputs": [
    {
     "name": "stdout",
     "output_type": "stream",
     "text": [
      "[14, 6, 47, 68, 29, 80, 19, 26, 3, 37]\n"
     ]
    }
   ],
   "source": [
    "# # generate random integer values\n",
    "import random\n",
    "\n",
    "# generate some integers\n",
    "array = [random.randrange(1, 100, 1) for i in range(10)] \n",
    "  \n",
    "# print array\n",
    "print(array)"
   ]
  },
  {
   "cell_type": "markdown",
   "metadata": {},
   "source": [
    "### Calculate the Range using min() and max()"
   ]
  },
  {
   "cell_type": "code",
   "execution_count": 19,
   "metadata": {},
   "outputs": [
    {
     "name": "stdout",
     "output_type": "stream",
     "text": [
      "The min is 3, the max is 80, and the range is: 77\n"
     ]
    }
   ],
   "source": [
    "# Calculate \n",
    "array_range = max(array) - min(array)\n",
    "  \n",
    "# display \n",
    "print(f'The min is {min(array)}, the max is {max(array)}, and the range is: {array_range}')"
   ]
  }
 ],
 "metadata": {
  "kernelspec": {
   "display_name": "Python 3",
   "language": "python",
   "name": "python3"
  },
  "language_info": {
   "codemirror_mode": {
    "name": "ipython",
    "version": 3
   },
   "file_extension": ".py",
   "mimetype": "text/x-python",
   "name": "python",
   "nbconvert_exporter": "python",
   "pygments_lexer": "ipython3",
   "version": "3.7.4"
  }
 },
 "nbformat": 4,
 "nbformat_minor": 2
}

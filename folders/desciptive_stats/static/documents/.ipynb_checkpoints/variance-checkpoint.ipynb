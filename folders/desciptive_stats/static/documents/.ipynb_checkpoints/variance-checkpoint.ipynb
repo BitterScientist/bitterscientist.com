{
 "cells": [
  {
   "cell_type": "code",
   "execution_count": 2,
   "metadata": {},
   "outputs": [],
   "source": [
    "# Import dependencies\n",
    "import numpy as np\n",
    "import random\n",
    "\n",
    "# list comprehension to create a list of random numbers\n",
    "num_list = [random.randrange(1, 100, 1) for i in range(10)] "
   ]
  },
  {
   "cell_type": "code",
   "execution_count": 3,
   "metadata": {},
   "outputs": [],
   "source": [
    "# Converted number list into a 1d numpy array\n",
    "array = np.array(num_list)"
   ]
  },
  {
   "cell_type": "code",
   "execution_count": 4,
   "metadata": {},
   "outputs": [],
   "source": [
    "# Use the np.var(array) method\n",
    "variance = np.var(array)"
   ]
  },
  {
   "cell_type": "code",
   "execution_count": 5,
   "metadata": {},
   "outputs": [
    {
     "name": "stdout",
     "output_type": "stream",
     "text": [
      "the data for this array is [60 73 46 76  8 92 26 44 58  8]\n",
      "The variance for this dataset is: 728.0899999999999\n"
     ]
    }
   ],
   "source": [
    "print(f'The data for this array is {array}')\n",
    "print(f'The variance for this dataset is: {variance}')"
   ]
  }
 ],
 "metadata": {
  "kernelspec": {
   "display_name": "Python 3",
   "language": "python",
   "name": "python3"
  },
  "language_info": {
   "codemirror_mode": {
    "name": "ipython",
    "version": 3
   },
   "file_extension": ".py",
   "mimetype": "text/x-python",
   "name": "python",
   "nbconvert_exporter": "python",
   "pygments_lexer": "ipython3",
   "version": "3.7.4"
  }
 },
 "nbformat": 4,
 "nbformat_minor": 2
}

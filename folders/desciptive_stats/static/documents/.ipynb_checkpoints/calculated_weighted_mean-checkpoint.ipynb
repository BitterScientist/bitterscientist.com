{
 "cells": [
  {
   "cell_type": "markdown",
   "metadata": {},
   "source": [
    "# Calculate the Weighted Mean using Python"
   ]
  },
  {
   "cell_type": "markdown",
   "metadata": {},
   "source": [
    "### Using Numpy's .average() method"
   ]
  },
  {
   "cell_type": "code",
   "execution_count": 8,
   "metadata": {},
   "outputs": [],
   "source": [
    "# Notes\n",
    "# In this example, we will use the random\n",
    "# number generated to prepare a list\n",
    "import random\n",
    "import numpy as np\n",
    "\n",
    "# These are the numbers that will be multiplied by the weight factor\n",
    "values = [8, 2, 6, 6, 8]\n",
    "\n",
    "# Thease are the weights\n",
    "weights = [9, 1, 1, 10, 10]"
   ]
  },
  {
   "cell_type": "code",
   "execution_count": 9,
   "metadata": {},
   "outputs": [
    {
     "name": "stdout",
     "output_type": "stream",
     "text": [
      "The weighted mean using np.average() is: 7.096774193548387\n"
     ]
    }
   ],
   "source": [
    "weighted_mean = np.average(values, weights=weights)\n",
    "print(f'The weighted mean using np.average() is: {weighted_mean}')"
   ]
  },
  {
   "cell_type": "markdown",
   "metadata": {},
   "source": [
    "### Use a custom function #1"
   ]
  },
  {
   "cell_type": "code",
   "execution_count": 12,
   "metadata": {},
   "outputs": [
    {
     "name": "stdout",
     "output_type": "stream",
     "text": [
      "The weighted mean using custom function1 is: 7.096774193548387\n"
     ]
    }
   ],
   "source": [
    "values = [8, 2, 6, 6, 8]\n",
    "weights = [9, 1, 1, 10, 10]\n",
    "\n",
    "s = 0\n",
    "for x, y in zip(values, weights):\n",
    "    s += x * y\n",
    "\n",
    "weighted_mean1 = s / sum(weights)\n",
    "print(f'The weighted mean using custom function #1 is: {weighted_mean1}')"
   ]
  },
  {
   "cell_type": "markdown",
   "metadata": {},
   "source": [
    "### Use a custom function #2"
   ]
  },
  {
   "cell_type": "code",
   "execution_count": 13,
   "metadata": {},
   "outputs": [
    {
     "name": "stdout",
     "output_type": "stream",
     "text": [
      "The weighted mean using custom function1 is: 7.096774193548387\n"
     ]
    }
   ],
   "source": [
    "weighted_mean2 = sum(x * y for x, y in zip(values, weights)) / sum(weights)\n",
    "\n",
    "print(f'The weighted mean using custom function #2 is: {weighted_mean2}')"
   ]
  }
 ],
 "metadata": {
  "kernelspec": {
   "display_name": "Python 3",
   "language": "python",
   "name": "python3"
  },
  "language_info": {
   "codemirror_mode": {
    "name": "ipython",
    "version": 3
   },
   "file_extension": ".py",
   "mimetype": "text/x-python",
   "name": "python",
   "nbconvert_exporter": "python",
   "pygments_lexer": "ipython3",
   "version": "3.7.4"
  }
 },
 "nbformat": 4,
 "nbformat_minor": 2
}

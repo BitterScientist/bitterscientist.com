{
 "cells": [
  {
   "cell_type": "markdown",
   "metadata": {},
   "source": [
    "# Calculate the Median using Python"
   ]
  },
  {
   "cell_type": "markdown",
   "metadata": {},
   "source": [
    "### Generate an array of numbers\n",
    " - you will have your own array of number, this method is for illustrative purposes"
   ]
  },
  {
   "cell_type": "code",
   "execution_count": 13,
   "metadata": {},
   "outputs": [],
   "source": [
    "# Notes\n",
    "# In this example, we will use the random\n",
    "# number generated to prepare a list\n",
    "import random\n",
    "\n",
    "Start = 9\n",
    "Stop = 99\n",
    "limit = 10\n",
    "\n",
    "# This will generate a list of numbers\n",
    "RandomListOfIntegers = [random.randint(Start, Stop) for iter in range(limit)]"
   ]
  },
  {
   "cell_type": "markdown",
   "metadata": {},
   "source": [
    "### Using Numpy Library"
   ]
  },
  {
   "cell_type": "code",
   "execution_count": 14,
   "metadata": {},
   "outputs": [
    {
     "name": "stdout",
     "output_type": "stream",
     "text": [
      "The median using numpy is: 32.0\n"
     ]
    }
   ],
   "source": [
    "# Using numpy library\n",
    "# You need a 1 dimension array\n",
    "import numpy as np\n",
    "# We need an array of numbers, not a list\n",
    "array_int = np.asarray(RandomListOfIntegers)\n",
    "numpy_median = np.median(array_int)\n",
    "print(f'The median using numpy is: {numpy_median}')"
   ]
  },
  {
   "cell_type": "markdown",
   "metadata": {},
   "source": [
    "### Using the Statistics Library"
   ]
  },
  {
   "cell_type": "code",
   "execution_count": 15,
   "metadata": {},
   "outputs": [
    {
     "name": "stdout",
     "output_type": "stream",
     "text": [
      "The median using statistics is: 32.0\n"
     ]
    }
   ],
   "source": [
    "# Using statistics library\n",
    "import statistics as st\n",
    "stat_median = st.median(array_int)\n",
    "print(f'The median using statistics is: {stat_median}')"
   ]
  },
  {
   "cell_type": "markdown",
   "metadata": {},
   "source": [
    "### Using the Pandas Library"
   ]
  },
  {
   "cell_type": "code",
   "execution_count": 16,
   "metadata": {},
   "outputs": [],
   "source": [
    "# Using pandas library\n",
    "import pandas as pd\n",
    "df = pd.DataFrame({'values': array_int})"
   ]
  },
  {
   "cell_type": "markdown",
   "metadata": {},
   "source": [
    "#### Use .median() method"
   ]
  },
  {
   "cell_type": "code",
   "execution_count": 17,
   "metadata": {},
   "outputs": [
    {
     "name": "stdout",
     "output_type": "stream",
     "text": [
      "The median using pandas .median() method is: 32.0\n"
     ]
    }
   ],
   "source": [
    "# Using .median() method\n",
    "df_pandas_median = df['values'].median()\n",
    "print(f'The median using pandas .median() method is: {df_pandas_median}')"
   ]
  }
 ],
 "metadata": {
  "kernelspec": {
   "display_name": "Python 3",
   "language": "python",
   "name": "python3"
  },
  "language_info": {
   "codemirror_mode": {
    "name": "ipython",
    "version": 3
   },
   "file_extension": ".py",
   "mimetype": "text/x-python",
   "name": "python",
   "nbconvert_exporter": "python",
   "pygments_lexer": "ipython3",
   "version": "3.7.4"
  }
 },
 "nbformat": 4,
 "nbformat_minor": 2
}

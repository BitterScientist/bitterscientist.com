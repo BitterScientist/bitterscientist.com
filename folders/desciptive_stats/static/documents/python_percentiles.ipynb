{
 "cells": [
  {
   "cell_type": "markdown",
   "metadata": {},
   "source": [
    "### Generate a random list of numbers (n = 10)"
   ]
  },
  {
   "cell_type": "code",
   "execution_count": null,
   "metadata": {},
   "outputs": [],
   "source": [
    "# # generate random integer values\n",
    "import random\n",
    "\n",
    "# generate some integers\n",
    "num_list = [random.randrange(1, 100, 1) for i in range(10)] \n",
    "  "
   ]
  },
  {
   "cell_type": "markdown",
   "metadata": {},
   "source": [
    "### Use nympy"
   ]
  },
  {
   "cell_type": "code",
   "execution_count": null,
   "metadata": {},
   "outputs": [],
   "source": [
    "# Import dependencies\n",
    "import numpy as np\n",
    "\n",
    "# Convert random list into an array (or it wont work)\n",
    "array = np.array(num_list)\n",
    "\n",
    "percent_80 = np.percentile(array, 80)\n",
    "  \n",
    "# display the results\n",
    "print(f'The percentile for the array: {array} is {percent_80}')"
   ]
  }
 ],
 "metadata": {
  "kernelspec": {
   "display_name": "Python 3",
   "language": "python",
   "name": "python3"
  },
  "language_info": {
   "codemirror_mode": {
    "name": "ipython",
    "version": 3
   },
   "file_extension": ".py",
   "mimetype": "text/x-python",
   "name": "python",
   "nbconvert_exporter": "python",
   "pygments_lexer": "ipython3",
   "version": "3.7.4"
  }
 },
 "nbformat": 4,
 "nbformat_minor": 2
}

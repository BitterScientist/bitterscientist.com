{
 "cells": [
  {
   "cell_type": "markdown",
   "metadata": {},
   "source": [
    "### Generate a random list of numbers (n = 10)"
   ]
  },
  {
   "cell_type": "code",
   "execution_count": 1,
   "metadata": {},
   "outputs": [
    {
     "name": "stdout",
     "output_type": "stream",
     "text": [
      "[41, 34, 18, 7, 54, 1, 44, 62, 5, 42]\n"
     ]
    }
   ],
   "source": [
    "# # generate random integer values\n",
    "import random\n",
    "\n",
    "# generate some integers\n",
    "array = [random.randrange(1, 100, 1) for i in range(10)] \n",
    "  \n",
    "# print array\n",
    "print(array)"
   ]
  },
  {
   "cell_type": "markdown",
   "metadata": {},
   "source": [
    "### Prepare ranks using pandas series .rank() method"
   ]
  },
  {
   "cell_type": "code",
   "execution_count": 2,
   "metadata": {},
   "outputs": [
    {
     "name": "stdout",
     "output_type": "stream",
     "text": [
      "The ranking for the [41, 34, 18, 7, 54, 1, 44, 62, 5, 42] is 0     6.0\n",
      "1     5.0\n",
      "2     4.0\n",
      "3     3.0\n",
      "4     9.0\n",
      "5     1.0\n",
      "6     8.0\n",
      "7    10.0\n",
      "8     2.0\n",
      "9     7.0\n",
      "dtype: float64\n"
     ]
    }
   ],
   "source": [
    "# Import pandas\n",
    "import pandas as pd\n",
    "\n",
    "# convert array to pandas series\n",
    "array_series = pd.Series(array)\n",
    "\n",
    "# using .rank() method\n",
    "# ascending value default is True, low values (1) high values (N)\n",
    "ranking = array_series.rank()\n",
    "  \n",
    "# display the results\n",
    "print(f'The ranking for the array: {array} is {ranking}')"
   ]
  },
  {
   "cell_type": "code",
   "execution_count": null,
   "metadata": {},
   "outputs": [],
   "source": []
  }
 ],
 "metadata": {
  "kernelspec": {
   "display_name": "Python 3",
   "language": "python",
   "name": "python3"
  },
  "language_info": {
   "codemirror_mode": {
    "name": "ipython",
    "version": 3
   },
   "file_extension": ".py",
   "mimetype": "text/x-python",
   "name": "python",
   "nbconvert_exporter": "python",
   "pygments_lexer": "ipython3",
   "version": "3.7.4"
  }
 },
 "nbformat": 4,
 "nbformat_minor": 2
}

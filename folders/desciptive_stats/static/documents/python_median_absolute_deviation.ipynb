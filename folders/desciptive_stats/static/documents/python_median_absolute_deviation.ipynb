{
 "cells": [
  {
   "cell_type": "markdown",
   "metadata": {},
   "source": [
    "### Generate a random list of numbers (n = 100)"
   ]
  },
  {
   "cell_type": "code",
   "execution_count": 1,
   "metadata": {},
   "outputs": [],
   "source": [
    "# # generate random integer values\n",
    "from random import seed\n",
    "from random import randint\n",
    "# seed random number generator\n",
    "array = []\n",
    "# generate some integers\n",
    "for _ in range(100):\n",
    "    value = randint(0, 100)\n",
    "    array.append(value)"
   ]
  },
  {
   "cell_type": "markdown",
   "metadata": {},
   "source": [
    "### Calculate with Scipy"
   ]
  },
  {
   "cell_type": "code",
   "execution_count": 3,
   "metadata": {},
   "outputs": [
    {
     "name": "stdout",
     "output_type": "stream",
     "text": [
      "The MAD using scipy is: 36.323699999999995\n"
     ]
    }
   ],
   "source": [
    "# Import dependencies\n",
    "from scipy import stats \n",
    "  \n",
    "# calling the method \n",
    "median_mad = stats.median_absolute_deviation(array)\n",
    "  \n",
    "# display \n",
    "print(f'The MAD using scipy is: {median_mad}')"
   ]
  }
 ],
 "metadata": {
  "kernelspec": {
   "display_name": "Python 3",
   "language": "python",
   "name": "python3"
  },
  "language_info": {
   "codemirror_mode": {
    "name": "ipython",
    "version": 3
   },
   "file_extension": ".py",
   "mimetype": "text/x-python",
   "name": "python",
   "nbconvert_exporter": "python",
   "pygments_lexer": "ipython3",
   "version": "3.7.4"
  }
 },
 "nbformat": 4,
 "nbformat_minor": 2
}

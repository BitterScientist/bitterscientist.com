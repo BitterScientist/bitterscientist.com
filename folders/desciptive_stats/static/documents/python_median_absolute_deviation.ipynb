{
 "cells": [
  {
   "cell_type": "markdown",
   "metadata": {},
   "source": [
    "### Generate a random list of numbers"
   ]
  },
  {
   "cell_type": "code",
   "execution_count": 1,
   "metadata": {},
   "outputs": [],
   "source": [
    "# Import dependencies\n",
    "import pandas as pd\n",
    "import numpy as np\n",
    "\n",
    "import random\n",
    "\n",
    "# list comprehension to create a list of random numbers\n",
    "num_list = [random.randrange(1, 100, 1) for i in range(20)] \n",
    "\n",
    "### Calculate with Pandas and numpy\n",
    "\n",
    "array = np.array(num_list)"
   ]
  },
  {
   "cell_type": "markdown",
   "metadata": {},
   "source": [
    "### Calculate with Scipy"
   ]
  },
  {
   "cell_type": "code",
   "execution_count": 2,
   "metadata": {},
   "outputs": [
    {
     "name": "stdout",
     "output_type": "stream",
     "text": [
      "The MAD using scipy is: 45.2193\n"
     ]
    }
   ],
   "source": [
    "# Import dependencies\n",
    "from scipy import stats \n",
    "  \n",
    "# calling the method \n",
    "median_mad = stats.median_absolute_deviation(array)\n",
    "  \n",
    "# display \n",
    "print(f'The MAD using scipy is: {median_mad}')"
   ]
  }
 ],
 "metadata": {
  "kernelspec": {
   "display_name": "Python 3",
   "language": "python",
   "name": "python3"
  },
  "language_info": {
   "codemirror_mode": {
    "name": "ipython",
    "version": 3
   },
   "file_extension": ".py",
   "mimetype": "text/x-python",
   "name": "python",
   "nbconvert_exporter": "python",
   "pygments_lexer": "ipython3",
   "version": "3.7.4"
  }
 },
 "nbformat": 4,
 "nbformat_minor": 2
}

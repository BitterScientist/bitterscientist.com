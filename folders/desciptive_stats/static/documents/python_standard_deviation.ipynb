{
 "cells": [
  {
   "cell_type": "code",
   "execution_count": 1,
   "metadata": {},
   "outputs": [],
   "source": [
    "# Import dependencies\n",
    "import numpy as np\n",
    "import random\n",
    "\n",
    "# list comprehension to create a list of random numbers\n",
    "num_list = [random.randrange(1, 100, 1) for i in range(10)] "
   ]
  },
  {
   "cell_type": "code",
   "execution_count": 2,
   "metadata": {},
   "outputs": [],
   "source": [
    "# Converted array list into a 1d numpy array\n",
    "array = np.array(num_list)"
   ]
  },
  {
   "cell_type": "markdown",
   "metadata": {},
   "source": [
    "### Standard Deviation with Statistics module "
   ]
  },
  {
   "cell_type": "code",
   "execution_count": 3,
   "metadata": {},
   "outputs": [
    {
     "name": "stdout",
     "output_type": "stream",
     "text": [
      "Standard Deviation of sample is 32.01562118716424 \n"
     ]
    }
   ],
   "source": [
    "# importing Statistics module \n",
    "import statistics \n",
    "# Prints standard deviation \n",
    "# xbar is set to default value\n",
    "print(\"Standard Deviation of sample is % s \" % (statistics.stdev(array))) "
   ]
  },
  {
   "cell_type": "markdown",
   "metadata": {},
   "source": [
    "### Standard Deviation with Numpy module "
   ]
  },
  {
   "cell_type": "code",
   "execution_count": null,
   "metadata": {},
   "outputs": [],
   "source": [
    "# importing numpy module \n",
    "import numpy as np\n",
    "# Prints standard deviation \n",
    "# ddof = Delta Degrees of Freedom: the divisor used in the calculation is N - ddof, \n",
    "# where N represents the number of elements. By default, ddof is zero.\n",
    "print(\"Standard Deviation of sample is % s \" % (np.std(array, ddof = 1))) "
   ]
  }
 ],
 "metadata": {
  "kernelspec": {
   "display_name": "Python 3",
   "language": "python",
   "name": "python3"
  },
  "language_info": {
   "codemirror_mode": {
    "name": "ipython",
    "version": 3
   },
   "file_extension": ".py",
   "mimetype": "text/x-python",
   "name": "python",
   "nbconvert_exporter": "python",
   "pygments_lexer": "ipython3",
   "version": "3.7.4"
  }
 },
 "nbformat": 4,
 "nbformat_minor": 2
}

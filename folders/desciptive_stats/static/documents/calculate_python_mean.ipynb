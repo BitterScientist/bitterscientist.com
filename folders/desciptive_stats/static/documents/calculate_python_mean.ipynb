{
 "cells": [
  {
   "cell_type": "markdown",
   "metadata": {},
   "source": [
    "# Calculate the Arithmetic Mean using Python"
   ]
  },
  {
   "cell_type": "markdown",
   "metadata": {},
   "source": [
    "### Generate an array of numbers\n",
    " - you will have your own array of number, this method is for illustrative purposes"
   ]
  },
  {
   "cell_type": "code",
   "execution_count": 1,
   "metadata": {},
   "outputs": [
    {
     "name": "stdout",
     "output_type": "stream",
     "text": [
      "[78, 75, 12, 95, 80, 25, 88, 33, 23, 85]\n"
     ]
    }
   ],
   "source": [
    "# Notes\n",
    "# In this example, we will use the random\n",
    "# number generated to prepare a list\n",
    "import random\n",
    "\n",
    "Start = 9\n",
    "Stop = 99\n",
    "limit = 10\n",
    "\n",
    "# This will generate a list of numbers\n",
    "RandomListOfIntegers = [random.randint(Start, Stop) for iter in range(limit)]\n",
    "print(RandomListOfIntegers)\n",
    "\n",
    "# Must convert list into an array"
   ]
  },
  {
   "cell_type": "markdown",
   "metadata": {},
   "source": [
    "### Using Numpy Library"
   ]
  },
  {
   "cell_type": "code",
   "execution_count": 2,
   "metadata": {},
   "outputs": [
    {
     "name": "stdout",
     "output_type": "stream",
     "text": [
      "The mean using numpy is: 59.4\n"
     ]
    }
   ],
   "source": [
    "# Using numpy library\n",
    "# You need a 1 dimension array\n",
    "import numpy as np\n",
    "# We need an array of numbers, not a list\n",
    "array_int = np.asarray(RandomListOfIntegers)\n",
    "numpy_mean = array_int.mean()\n",
    "print(f'The mean using numpy is: {numpy_mean}')"
   ]
  },
  {
   "cell_type": "markdown",
   "metadata": {},
   "source": [
    "### Using the Statistics Library"
   ]
  },
  {
   "cell_type": "code",
   "execution_count": 6,
   "metadata": {},
   "outputs": [
    {
     "name": "stdout",
     "output_type": "stream",
     "text": [
      "The mean using statistics is: 59\n"
     ]
    }
   ],
   "source": [
    "# Using statistics library\n",
    "import statistics as st\n",
    "stat_mean = st.mean(array_int)\n",
    "print(f'The mean using statistics is: {stat_mean}')"
   ]
  },
  {
   "cell_type": "markdown",
   "metadata": {},
   "source": [
    "### Using the Pandas Library"
   ]
  },
  {
   "cell_type": "code",
   "execution_count": 9,
   "metadata": {},
   "outputs": [],
   "source": [
    "# Using pandas library\n",
    "import pandas as pd\n",
    "df = pd.DataFrame({'values': array_int})"
   ]
  },
  {
   "cell_type": "markdown",
   "metadata": {},
   "source": [
    "#### Use .describe() method"
   ]
  },
  {
   "cell_type": "code",
   "execution_count": 10,
   "metadata": {},
   "outputs": [
    {
     "name": "stdout",
     "output_type": "stream",
     "text": [
      "The mean using pandas .describe() method is: count    10.000000\n",
      "mean     59.400000\n",
      "std      31.983329\n",
      "min      12.000000\n",
      "25%      27.000000\n",
      "50%      76.500000\n",
      "75%      83.750000\n",
      "max      95.000000\n",
      "Name: values, dtype: float64\n"
     ]
    }
   ],
   "source": [
    "# Using describe()\n",
    "df_pandas_describe = df['values'].describe()\n",
    "print(f'The mean using pandas .describe() method is: {df_pandas_describe}')"
   ]
  },
  {
   "cell_type": "markdown",
   "metadata": {},
   "source": [
    "#### Use .mean() method"
   ]
  },
  {
   "cell_type": "code",
   "execution_count": 11,
   "metadata": {},
   "outputs": [
    {
     "name": "stdout",
     "output_type": "stream",
     "text": [
      "The mean using pandas .mean() method is: 59.4\n"
     ]
    }
   ],
   "source": [
    "# Using mean\n",
    "df_pandas_mean = df['values'].mean()\n",
    "print(f'The mean using pandas .mean() method is: {df_pandas_mean}')"
   ]
  }
 ],
 "metadata": {
  "kernelspec": {
   "display_name": "Python 3",
   "language": "python",
   "name": "python3"
  },
  "language_info": {
   "codemirror_mode": {
    "name": "ipython",
    "version": 3
   },
   "file_extension": ".py",
   "mimetype": "text/x-python",
   "name": "python",
   "nbconvert_exporter": "python",
   "pygments_lexer": "ipython3",
   "version": "3.7.4"
  }
 },
 "nbformat": 4,
 "nbformat_minor": 2
}

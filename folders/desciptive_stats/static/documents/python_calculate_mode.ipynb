{
 "cells": [
  {
   "cell_type": "code",
   "execution_count": 7,
   "metadata": {},
   "outputs": [
    {
     "name": "stdout",
     "output_type": "stream",
     "text": [
      "The mode for this array is: 19\n"
     ]
    }
   ],
   "source": [
    "# Method 1: Using the statistics library\n",
    "# import libraries\n",
    "import statistics\n",
    "array = [19, 21, 46, 19, 18, 19, 19, 2, 6, 98]\n",
    "sts_mode = statistics.mode(array)\n",
    "print(f'The mode for this array is: {sts_mode}')"
   ]
  },
  {
   "cell_type": "code",
   "execution_count": 8,
   "metadata": {},
   "outputs": [
    {
     "name": "stdout",
     "output_type": "stream",
     "text": [
      "Mode is / are: 19\n"
     ]
    }
   ],
   "source": [
    "# Option 2: Using defined function\n",
    "\n",
    "from collections import Counter\n",
    "  \n",
    "# list of elements to calculate mode \n",
    "array = [19, 21, 46, 19, 18, 19, 19, 2, 6, 98]\n",
    "n = len(array) \n",
    "  \n",
    "data = Counter(array) \n",
    "get_mode = dict(data) \n",
    "mode = [k for k, v in get_mode.items() if v == max(list(data.values()))] \n",
    "  \n",
    "if len(mode) == n: \n",
    "    get_mode = \"No mode found\"\n",
    "else: \n",
    "    get_mode = \"Mode is / are: \" + ', '.join(map(str, mode)) \n",
    "      \n",
    "print(get_mode) "
   ]
  }
 ],
 "metadata": {
  "kernelspec": {
   "display_name": "Python 3",
   "language": "python",
   "name": "python3"
  },
  "language_info": {
   "codemirror_mode": {
    "name": "ipython",
    "version": 3
   },
   "file_extension": ".py",
   "mimetype": "text/x-python",
   "name": "python",
   "nbconvert_exporter": "python",
   "pygments_lexer": "ipython3",
   "version": "3.7.4"
  }
 },
 "nbformat": 4,
 "nbformat_minor": 2
}

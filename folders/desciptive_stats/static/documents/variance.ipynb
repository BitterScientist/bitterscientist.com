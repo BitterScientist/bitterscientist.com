{
 "cells": [
  {
   "cell_type": "code",
   "execution_count": 4,
   "metadata": {},
   "outputs": [],
   "source": [
    "# # generate random integer values\n",
    "import numpy as np\n",
    "from random import seed\n",
    "from random import randint\n",
    "# seed random number generator\n",
    "array = []\n",
    "# generate some integers\n",
    "for _ in range(100):\n",
    "    value = randint(0, 100)\n",
    "    array.append(value)"
   ]
  },
  {
   "cell_type": "code",
   "execution_count": 5,
   "metadata": {},
   "outputs": [],
   "source": [
    "# Converted array list into a 1d numpy array\n",
    "array = np.array(array)"
   ]
  },
  {
   "cell_type": "code",
   "execution_count": 8,
   "metadata": {},
   "outputs": [],
   "source": [
    "# Use the np.var(array) method\n",
    "variance = np.var(array)"
   ]
  },
  {
   "cell_type": "code",
   "execution_count": 9,
   "metadata": {},
   "outputs": [
    {
     "name": "stdout",
     "output_type": "stream",
     "text": [
      "the data for this array is [ 42  64   0  97  76  11  17  42  49  66  82  23  73  95  67  59  18  19\n",
      "  51  30  28  11  29  88  35  94  88  86  19  93   8  54  35  81  92   0\n",
      "  22  71  45  83  11 100  54  72  30  88  66  79  55  35  91  71  86  98\n",
      "  48  39  14  96  46  68  56   4  44  83  31  22   5  21   2  40  94  11\n",
      "  66   2  72  20  94  88  67  75  56  24  77  50  74  50   4  87  62  31\n",
      "  28  53  46  65  71  57  48  78  32  22]\n",
      "The variance for this dataset is: 842.2596000000001\n"
     ]
    }
   ],
   "source": [
    "print(f'the data for this array is {array}')\n",
    "print(f'The variance for this dataset is: {variance}')"
   ]
  }
 ],
 "metadata": {
  "kernelspec": {
   "display_name": "Python 3",
   "language": "python",
   "name": "python3"
  },
  "language_info": {
   "codemirror_mode": {
    "name": "ipython",
    "version": 3
   },
   "file_extension": ".py",
   "mimetype": "text/x-python",
   "name": "python",
   "nbconvert_exporter": "python",
   "pygments_lexer": "ipython3",
   "version": "3.7.4"
  }
 },
 "nbformat": 4,
 "nbformat_minor": 2
}

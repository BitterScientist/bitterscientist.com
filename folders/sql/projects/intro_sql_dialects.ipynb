{
 "cells": [
  {
   "cell_type": "code",
   "execution_count": 1,
   "metadata": {},
   "outputs": [
    {
     "data": {
      "application/javascript": [
       "IPython.OutputArea.prototype._should_scroll = function(lines) {\n",
       "    return false;\n",
       "}\n"
      ],
      "text/plain": [
       "<IPython.core.display.Javascript object>"
      ]
     },
     "metadata": {},
     "output_type": "display_data"
    }
   ],
   "source": [
    "%%javascript\n",
    "IPython.OutputArea.prototype._should_scroll = function(lines) {\n",
    "    return false;\n",
    "}"
   ]
  },
  {
   "cell_type": "markdown",
   "metadata": {},
   "source": [
    "<hr style=\"border-top: 5px solid black;\">"
   ]
  },
  {
   "cell_type": "markdown",
   "metadata": {},
   "source": [
    "<div class=\"alert alert-block alert-info\" style=\"font-size:20px; border:1px solid black; padding:10px\">\n",
    "<center><h1>Post Goal: Dicuss and compare the most commonly used SQL dialects.</h1></center>\n",
    "<br>\n",
    "</div>"
   ]
  },
  {
   "cell_type": "markdown",
   "metadata": {},
   "source": [
    "<hr style=\"border-top: 5px solid black;\">"
   ]
  },
  {
   "cell_type": "markdown",
   "metadata": {},
   "source": [
    "<div style=\"font-size:16px; border:1px solid black; padding:10px;  background-color: #EBEBEB;\">\n",
    "<center><h1><br><font color=\"blue\">Post Overview.</font></h1></center>\n",
    "    <hr style=\"border-top: 2px dashed black;\">\n",
    "    <ol>\n",
    "        <li><a href=\"#objective1\">Introduction to Structured Query Language (SQL).</a></li><br>\n",
    "        <li><a href=\"#objective2\">The SQL Dialect Landscape.</a></li><br>\n",
    "        <li><a href=\"#objective3\">Comparison of SQL Dialects.</a></li><br>\n",
    "<!--         <li><a href=\"#objective4\">.</a></li><br> -->\n",
    "<!--         <li><a href=\"#objective5\">.</a></li><br> -->\n",
    "    </ol>\n",
    "</div>"
   ]
  },
  {
   "cell_type": "markdown",
   "metadata": {},
   "source": [
    "<hr style=\"border-top: 5px solid black;\">"
   ]
  },
  {
   "cell_type": "markdown",
   "metadata": {},
   "source": [
    "<div id=\"objective1\" class=\"alert alert-block alert-warning\" style=\"font-size:16px; border:1px solid black; padding:10px\"><center><h1><br><font color=\"blue\">Introduction to Structured Query Language (SQL).</font></h1>\n",
    "</center>\n",
    "    <br>\n",
    "</div>\n",
    "<div style=\"font-size:16px; border:1px solid black; padding:10px\">\n",
    "    <ul><strong><u>Structured Query Language (SQL)</u></strong>\n",
    "        <li>SQL is a domain specific language used to design, and manage data that is held in a relational database.</li><br>\n",
    "        <li>SQL activities are organized into 5 query types:\n",
    "            <ul>\n",
    "                <li>Data Definition Language</li>\n",
    "                <li>Data Manipulation Language</li>\n",
    "                <li>Data Control Language</li>\n",
    "                <li>Transaction Control Language</li>\n",
    "                <li>Data Query Language</li>\n",
    "            </ul>\n",
    "        </li><br>\n",
    "        <li>Unlike Java, C, or PHP, the language of SQL consists of a small library of words, and this is to make it simple, and efficient to read, and write..</li><br> \n",
    "        <li>It is the most popular database language today, and was initially developed by IBM, after Edgar Codd 1970s seminal publication on \"A relational model of data for large shared databanks\".</li><br>\n",
    "    </ul>\n",
    "    <hr style=\"border-top: 2px solid black;\">\n",
    "    <ul><strong><u>What's the big deal with Structured Query Language (SQL)?</u></strong>\n",
    "        <li>Relational databases are a ubiquitous element in our lives, and powers much of the technology we use on a daily basis.</li><br>                \n",
    "        <li>Since the 1970s, various companies have developed relational database management systems used to create, query, and manipulate data.</li><br>\n",
    "        <li>Having a basic understanding of the language used to design, access, and manage a relational database is essential for any analyst, data scientist, web and add developers, software engineers, and anyone with an interest in technology.</li><br> \n",
    "    </ul>\n",
    "    <hr style=\"border-top: 2px solid black;\">\n",
    "    <ul><strong><u>The advantages of SQL</u></strong>\n",
    "        <li>SQL is not a proprietary language, therefore it is used by all major Relational Database Management Systems (RDBMS). In other words, you just need to learn one SQL language to use all major database systems.</li><br>                \n",
    "        <li>Learning SQL is simple, the language consists of a small set of words, and all the statement used are descriptive and in English.</li><br>\n",
    "        <li>SQL is a powerful that allows users to conduct sophisticated database operations. That is the goal of these posts, to share with you these operations.</li><br> \n",
    "    </ul>    \n",
    "</div>"
   ]
  },
  {
   "cell_type": "markdown",
   "metadata": {},
   "source": [
    "<hr style=\"border-top: 5px solid black;\">"
   ]
  },
  {
   "cell_type": "markdown",
   "metadata": {},
   "source": [
    "<div id=\"objective2\" class=\"alert alert-block alert-warning\" style=\"font-size:16px; border:1px solid black; padding:10px\"><center><h1><br><font color=\"blue\">The SQL Dialect Landscape.</font></h1></center><br>\n",
    "</div>\n",
    "<div style=\"font-size:16px; border:1px solid black; padding:10px\">\n",
    "    <ul><strong><u>The Origin of SQL Standards and SQL Dialects</u></strong>\n",
    "        <li>Within the 15 years that Edgar Codd released is seminal publication on relational databases, various vendors developed their own version of SQL.</li><br>\n",
    "        <li>These SQL versions varied widely and were incompatible with each other.</li><br>\n",
    "        <li>As a result, there was a need to create standards to promote portability of database application programming.</li><br>\n",
    "        <li>In the late 1980s, The \"Database Language SQL\" become a standard of the American National Standard Institute (ANSI) in 1986 and the International Organization for Standardization (ISO) in 1987.</li><br> \n",
    "        <li>A 1990 Announcement for the standard of Database Language SQL can be found <a href=\"https://archive.org/details/federalinformati1271nati/page/n3/mode/2up\">here</a>.</li><br>\n",
    "        <li>Since then, the SQL standards have been revised multiple times but the core features of the standard have remained stable.</li><br>\n",
    "        <li>In many cases, a given database vendor’s user community pushed for new capabilities in the database before the ANSI committee was able to creates an applicable standard.</li><br>        \n",
    "        <li>As a result, several vendor specific SQL Dialect emereged.</li><br> \n",
    "        <li>An SQL dialect is a slightly different versions of SQL that was developed by specific vendors.</li><br>\n",
    "        <li>These \"slight\" differences include commands, and syntax, and although vendors maintain the basic requirements defined by ISO/ANSI, it is to a company's benefit to develop functionality that would differentiate their products.</li><br>\n",
    "        <li><a href=\"https://en.wikibooks.org/wiki/SQL_Dialects_Reference\">SQL Dialects Reference</a> provides a useful comparisons of the SQL variants.</li><br>\n",
    "    </ul>\n",
    "    <hr style=\"border-top: 2px solid black;\">\n",
    "    <center><strong><u>Summary of Some Major SQL Dialects</u></strong></center>\n",
    "    <table>\n",
    "        <tr>\n",
    "            <th>Dialect</th>\n",
    "            <th>Vendor</th>\n",
    "            <th>Cost</th>\n",
    "            <th>Usage</th>\n",
    "            <th>Language Written in</th>\n",
    "        </tr>\n",
    "        <tr>\n",
    "            <td><a href=\"https://www.mysql.com/\">MySQL</a></td>\n",
    "            <td>Oracle</td>\n",
    "            <td>Free and open-source software</td>\n",
    "            <td>Scalable, high performance, easy to use, high security, fast, high availability, runs on many operating systems, plenty of documentation, free, and great for web and data warehouse.</td>\n",
    "            <td>C, C++</td>\n",
    "        </tr>\n",
    "        <tr>\n",
    "            <td><a href=\"https://www.postgresql.org/\">PostgreSQL</a></td>\n",
    "            <td>UC Berkeley</td>\n",
    "            <td>Free and open-source software</td>\n",
    "            <td>Is a powerful, open source object-relational database system that uses and extends the SQL language combined, and was developed by a worldwide team of volunteers. Other features includes: predefined functions, number of interfaces, scalable, and supports JSON.</td>\n",
    "            <td>C</td>\n",
    "        </tr>        \n",
    "        <tr>\n",
    "            <td><a href=\"www.sqlite.org\">SQLite</a></td>\n",
    "            <td>D Richard Hipp</td>\n",
    "            <td>Free and open-source software</td>\n",
    "            <td>Contained in C library, is not a client–server database engine, and is embedded into the end program. Great for mobile application, highly scalable, no single point of failure, multi-DC replication, supports Atomicity, Consistency, Isolation, and Durability (ACID), supports MapReduce with Apache Hadoop, very quick installation and require no extra configuration.</td>\n",
    "            <td>C</td>\n",
    "        </tr>\n",
    "        <tr>\n",
    "            <td>Microsoft SQL Server</td>\n",
    "            <td>Microsoft</td>\n",
    "            <td>Not free</td>\n",
    "            <td>Built for the basic function of storing retrieving data as required by other applications. High performance, platform dependent, install different versions in the same machine, generates scripts for data movement, separate security privileges, maintain standby server, and supports SQL SEQUEL langauge.</td>\n",
    "            <td>C, C++</td>\n",
    "        </tr>\n",
    "        <tr>\n",
    "            <td>Oracle</td>\n",
    "            <td>Oracle Corporation</td>\n",
    "            <td>Not free</td>\n",
    "            <td>Popular among developers, easy to use, well-written documents, many features that include JSON from SQL.</td>\n",
    "            <td>Assembly language, C, C++</td>\n",
    "        </tr>\n",
    "        <tr>\n",
    "            <td>DB2</td>\n",
    "            <td>IBM</td>\n",
    "            <td>Not free</td>\n",
    "            <td>DB2 is designed to store, analyze and retrieve the data efficiently. Supports both SQL and NoSQL data models, can be hosted on the cloud, a physical server, or both.</td>\n",
    "            <td>Assembly language, C, C++</td>\n",
    "        </tr>\n",
    "        <tr>\n",
    "            <td>Microsoft Access</td>\n",
    "            <td>Microsoft</td>\n",
    "            <td>Not Free</td>\n",
    "            <td>Combines the relational Microsoft Jet Database Engine with a graphical user interface and software-development tools. Not a popular, hard to deploy, poor security, not a professional database, uses VBA not a pure language, and file-server application is inferior.</td>\n",
    "            <td>VBA</td>\n",
    "        </tr>\n",
    "        <tr>\n",
    "            <td>Teradata</td>\n",
    "            <td>Teradata Corporation</td>\n",
    "            <td>Not free</td>\n",
    "            <td>Is a popular Relational Database Management System (RDBMS) suitable for large data warehousing applications.</td>\n",
    "            <td>C, C++</td>\n",
    "        </tr>     \n",
    "    </table>   \n",
    "</div>"
   ]
  },
  {
   "cell_type": "markdown",
   "metadata": {},
   "source": [
    "<hr style=\"border-top: 5px solid black;\">"
   ]
  },
  {
   "cell_type": "markdown",
   "metadata": {},
   "source": [
    "<div id=\"objective3\" class=\"alert alert-block alert-warning\" style=\"font-size:16px; border:1px solid black; padding:10px\"><center><h1><br><font color=\"blue\">Comparison of SQL Dialects.</font></h1>\n",
    "</center><br>\n",
    "</div>\n",
    "<div style=\"font-size:16px; border:1px solid black; padding:10px\">    \n",
    "        <ul><strong><u>What's the Same and Differences?</u></strong>\n",
    "            <li>Most SQL Dialects share common syntax but there are some notable differences.</li><br>\n",
    "            <li>The example below provides a few examples that focus on:\n",
    "                <ul>\n",
    "                    <li>The column select statement syntax</li>\n",
    "                    <li>Whether filtering for data is case sensitive</li>\n",
    "                    <li>Whether single or double quotation marks are used</li>\n",
    "                    <li>The aliasing convention</li>\n",
    "                    <li>Window functions</li>\n",
    "                    <li>How code blocks are executed</li>\n",
    "                </ul>\n",
    "            </li><br>\n",
    "            <li>These are just a few example, and subject to change, please refer to vendor specific documentation.</li>\n",
    "        </ul>\n",
    "</div>"
   ]
  },
  {
   "cell_type": "code",
   "execution_count": 2,
   "metadata": {},
   "outputs": [
    {
     "data": {
      "text/html": [
       "<style  type=\"text/css\" >\n",
       "</style><table id=\"T_a0360948_9fc8_11eb_bcf2_3c7d0a04784d\" ><thead>    <tr>        <th class=\"col_heading level0 col0\" >Dialect</th>        <th class=\"col_heading level0 col1\" >Vendor</th>        <th class=\"col_heading level0 col2\" >SELECT</th>        <th class=\"col_heading level0 col3\" >Data Case Sensitivity</th>        <th class=\"col_heading level0 col4\" >Quotation Marks</th>        <th class=\"col_heading level0 col5\" >Aliasing</th>        <th class=\"col_heading level0 col6\" >Window Functions</th>        <th class=\"col_heading level0 col7\" >Execute</th>    </tr></thead><tbody>\n",
       "                <tr>\n",
       "                                <td id=\"T_a0360948_9fc8_11eb_bcf2_3c7d0a04784drow0_col0\" class=\"data row0 col0\" >MySQL</td>\n",
       "                        <td id=\"T_a0360948_9fc8_11eb_bcf2_3c7d0a04784drow0_col1\" class=\"data row0 col1\" >Oracle</td>\n",
       "                        <td id=\"T_a0360948_9fc8_11eb_bcf2_3c7d0a04784drow0_col2\" class=\"data row0 col2\" >SELECT COL1,COL2</td>\n",
       "                        <td id=\"T_a0360948_9fc8_11eb_bcf2_3c7d0a04784drow0_col3\" class=\"data row0 col3\" >No</td>\n",
       "                        <td id=\"T_a0360948_9fc8_11eb_bcf2_3c7d0a04784drow0_col4\" class=\"data row0 col4\" >Single or Double</td>\n",
       "                        <td id=\"T_a0360948_9fc8_11eb_bcf2_3c7d0a04784drow0_col5\" class=\"data row0 col5\" >Uses AS</td>\n",
       "                        <td id=\"T_a0360948_9fc8_11eb_bcf2_3c7d0a04784drow0_col6\" class=\"data row0 col6\" >Yes</td>\n",
       "                        <td id=\"T_a0360948_9fc8_11eb_bcf2_3c7d0a04784drow0_col7\" class=\"data row0 col7\" >End code block with ;</td>\n",
       "            </tr>\n",
       "            <tr>\n",
       "                                <td id=\"T_a0360948_9fc8_11eb_bcf2_3c7d0a04784drow1_col0\" class=\"data row1 col0\" >PostgresSQL</td>\n",
       "                        <td id=\"T_a0360948_9fc8_11eb_bcf2_3c7d0a04784drow1_col1\" class=\"data row1 col1\" >UC Berkeley</td>\n",
       "                        <td id=\"T_a0360948_9fc8_11eb_bcf2_3c7d0a04784drow1_col2\" class=\"data row1 col2\" >SELECT COL1,COL2</td>\n",
       "                        <td id=\"T_a0360948_9fc8_11eb_bcf2_3c7d0a04784drow1_col3\" class=\"data row1 col3\" >Yes</td>\n",
       "                        <td id=\"T_a0360948_9fc8_11eb_bcf2_3c7d0a04784drow1_col4\" class=\"data row1 col4\" >Single</td>\n",
       "                        <td id=\"T_a0360948_9fc8_11eb_bcf2_3c7d0a04784drow1_col5\" class=\"data row1 col5\" >Uses AS</td>\n",
       "                        <td id=\"T_a0360948_9fc8_11eb_bcf2_3c7d0a04784drow1_col6\" class=\"data row1 col6\" >Yes</td>\n",
       "                        <td id=\"T_a0360948_9fc8_11eb_bcf2_3c7d0a04784drow1_col7\" class=\"data row1 col7\" >End code block with ;</td>\n",
       "            </tr>\n",
       "            <tr>\n",
       "                                <td id=\"T_a0360948_9fc8_11eb_bcf2_3c7d0a04784drow2_col0\" class=\"data row2 col0\" >SQLite</td>\n",
       "                        <td id=\"T_a0360948_9fc8_11eb_bcf2_3c7d0a04784drow2_col1\" class=\"data row2 col1\" >D Richard Hipp</td>\n",
       "                        <td id=\"T_a0360948_9fc8_11eb_bcf2_3c7d0a04784drow2_col2\" class=\"data row2 col2\" >SELECT COL1,COL2</td>\n",
       "                        <td id=\"T_a0360948_9fc8_11eb_bcf2_3c7d0a04784drow2_col3\" class=\"data row2 col3\" >Yes</td>\n",
       "                        <td id=\"T_a0360948_9fc8_11eb_bcf2_3c7d0a04784drow2_col4\" class=\"data row2 col4\" >Single or Double</td>\n",
       "                        <td id=\"T_a0360948_9fc8_11eb_bcf2_3c7d0a04784drow2_col5\" class=\"data row2 col5\" >Uses AS</td>\n",
       "                        <td id=\"T_a0360948_9fc8_11eb_bcf2_3c7d0a04784drow2_col6\" class=\"data row2 col6\" >No. Subqueries instead</td>\n",
       "                        <td id=\"T_a0360948_9fc8_11eb_bcf2_3c7d0a04784drow2_col7\" class=\"data row2 col7\" >End code block with ;</td>\n",
       "            </tr>\n",
       "            <tr>\n",
       "                                <td id=\"T_a0360948_9fc8_11eb_bcf2_3c7d0a04784drow3_col0\" class=\"data row3 col0\" >Microsoft SQL Server</td>\n",
       "                        <td id=\"T_a0360948_9fc8_11eb_bcf2_3c7d0a04784drow3_col1\" class=\"data row3 col1\" >Oracle</td>\n",
       "                        <td id=\"T_a0360948_9fc8_11eb_bcf2_3c7d0a04784drow3_col2\" class=\"data row3 col2\" >Select COL1,COL2</td>\n",
       "                        <td id=\"T_a0360948_9fc8_11eb_bcf2_3c7d0a04784drow3_col3\" class=\"data row3 col3\" >Yes</td>\n",
       "                        <td id=\"T_a0360948_9fc8_11eb_bcf2_3c7d0a04784drow3_col4\" class=\"data row3 col4\" >Single</td>\n",
       "                        <td id=\"T_a0360948_9fc8_11eb_bcf2_3c7d0a04784drow3_col5\" class=\"data row3 col5\" >Uses = sign</td>\n",
       "                        <td id=\"T_a0360948_9fc8_11eb_bcf2_3c7d0a04784drow3_col6\" class=\"data row3 col6\" >Yes</td>\n",
       "                        <td id=\"T_a0360948_9fc8_11eb_bcf2_3c7d0a04784drow3_col7\" class=\"data row3 col7\" >Needs \"GO\" at end of code block</td>\n",
       "            </tr>\n",
       "            <tr>\n",
       "                                <td id=\"T_a0360948_9fc8_11eb_bcf2_3c7d0a04784drow4_col0\" class=\"data row4 col0\" >Oracle</td>\n",
       "                        <td id=\"T_a0360948_9fc8_11eb_bcf2_3c7d0a04784drow4_col1\" class=\"data row4 col1\" >Oracle</td>\n",
       "                        <td id=\"T_a0360948_9fc8_11eb_bcf2_3c7d0a04784drow4_col2\" class=\"data row4 col2\" >SELECT COL1,COL2</td>\n",
       "                        <td id=\"T_a0360948_9fc8_11eb_bcf2_3c7d0a04784drow4_col3\" class=\"data row4 col3\" >Yes, but can configured</td>\n",
       "                        <td id=\"T_a0360948_9fc8_11eb_bcf2_3c7d0a04784drow4_col4\" class=\"data row4 col4\" >Single or Double</td>\n",
       "                        <td id=\"T_a0360948_9fc8_11eb_bcf2_3c7d0a04784drow4_col5\" class=\"data row4 col5\" >Uses AS</td>\n",
       "                        <td id=\"T_a0360948_9fc8_11eb_bcf2_3c7d0a04784drow4_col6\" class=\"data row4 col6\" >Yes</td>\n",
       "                        <td id=\"T_a0360948_9fc8_11eb_bcf2_3c7d0a04784drow4_col7\" class=\"data row4 col7\" >End code block with ;</td>\n",
       "            </tr>\n",
       "            <tr>\n",
       "                                <td id=\"T_a0360948_9fc8_11eb_bcf2_3c7d0a04784drow5_col0\" class=\"data row5 col0\" >DB2</td>\n",
       "                        <td id=\"T_a0360948_9fc8_11eb_bcf2_3c7d0a04784drow5_col1\" class=\"data row5 col1\" >IBM</td>\n",
       "                        <td id=\"T_a0360948_9fc8_11eb_bcf2_3c7d0a04784drow5_col2\" class=\"data row5 col2\" >SELECT COL1,COL2</td>\n",
       "                        <td id=\"T_a0360948_9fc8_11eb_bcf2_3c7d0a04784drow5_col3\" class=\"data row5 col3\" >Yes</td>\n",
       "                        <td id=\"T_a0360948_9fc8_11eb_bcf2_3c7d0a04784drow5_col4\" class=\"data row5 col4\" >Single or Double</td>\n",
       "                        <td id=\"T_a0360948_9fc8_11eb_bcf2_3c7d0a04784drow5_col5\" class=\"data row5 col5\" >Uses AS</td>\n",
       "                        <td id=\"T_a0360948_9fc8_11eb_bcf2_3c7d0a04784drow5_col6\" class=\"data row5 col6\" >Yes</td>\n",
       "                        <td id=\"T_a0360948_9fc8_11eb_bcf2_3c7d0a04784drow5_col7\" class=\"data row5 col7\" >End code block with ;</td>\n",
       "            </tr>\n",
       "            <tr>\n",
       "                                <td id=\"T_a0360948_9fc8_11eb_bcf2_3c7d0a04784drow6_col0\" class=\"data row6 col0\" >Microsoft Access</td>\n",
       "                        <td id=\"T_a0360948_9fc8_11eb_bcf2_3c7d0a04784drow6_col1\" class=\"data row6 col1\" >Access</td>\n",
       "                        <td id=\"T_a0360948_9fc8_11eb_bcf2_3c7d0a04784drow6_col2\" class=\"data row6 col2\" >SELECT COL1,COL2</td>\n",
       "                        <td id=\"T_a0360948_9fc8_11eb_bcf2_3c7d0a04784drow6_col3\" class=\"data row6 col3\" >No</td>\n",
       "                        <td id=\"T_a0360948_9fc8_11eb_bcf2_3c7d0a04784drow6_col4\" class=\"data row6 col4\" >Double</td>\n",
       "                        <td id=\"T_a0360948_9fc8_11eb_bcf2_3c7d0a04784drow6_col5\" class=\"data row6 col5\" >Uses AS</td>\n",
       "                        <td id=\"T_a0360948_9fc8_11eb_bcf2_3c7d0a04784drow6_col6\" class=\"data row6 col6\" >No</td>\n",
       "                        <td id=\"T_a0360948_9fc8_11eb_bcf2_3c7d0a04784drow6_col7\" class=\"data row6 col7\" >End code block with ;</td>\n",
       "            </tr>\n",
       "            <tr>\n",
       "                                <td id=\"T_a0360948_9fc8_11eb_bcf2_3c7d0a04784drow7_col0\" class=\"data row7 col0\" >Teradata</td>\n",
       "                        <td id=\"T_a0360948_9fc8_11eb_bcf2_3c7d0a04784drow7_col1\" class=\"data row7 col1\" >Teradata Corporation</td>\n",
       "                        <td id=\"T_a0360948_9fc8_11eb_bcf2_3c7d0a04784drow7_col2\" class=\"data row7 col2\" >SELECT COL1,COL2</td>\n",
       "                        <td id=\"T_a0360948_9fc8_11eb_bcf2_3c7d0a04784drow7_col3\" class=\"data row7 col3\" >No</td>\n",
       "                        <td id=\"T_a0360948_9fc8_11eb_bcf2_3c7d0a04784drow7_col4\" class=\"data row7 col4\" >Single or Double</td>\n",
       "                        <td id=\"T_a0360948_9fc8_11eb_bcf2_3c7d0a04784drow7_col5\" class=\"data row7 col5\" >Uses AS</td>\n",
       "                        <td id=\"T_a0360948_9fc8_11eb_bcf2_3c7d0a04784drow7_col6\" class=\"data row7 col6\" >Yes</td>\n",
       "                        <td id=\"T_a0360948_9fc8_11eb_bcf2_3c7d0a04784drow7_col7\" class=\"data row7 col7\" >End code block with ;</td>\n",
       "            </tr>\n",
       "    </tbody></table>"
      ],
      "text/plain": [
       "<pandas.io.formats.style.Styler at 0x10aeedf70>"
      ]
     },
     "execution_count": 2,
     "metadata": {},
     "output_type": "execute_result"
    }
   ],
   "source": [
    "# Import dataframe using pandas\n",
    "import pandas as pd\n",
    "\n",
    "df = pd.read_csv(\"static/data/comparison_sql_dialects.csv\", index_col=None)\n",
    "df.style.hide_index()"
   ]
  },
  {
   "cell_type": "markdown",
   "metadata": {},
   "source": [
    "<hr style=\"border-top: 5px solid black;\">"
   ]
  }
 ],
 "metadata": {
  "kernelspec": {
   "display_name": "Python 3",
   "language": "python",
   "name": "python3"
  },
  "language_info": {
   "codemirror_mode": {
    "name": "ipython",
    "version": 3
   },
   "file_extension": ".py",
   "mimetype": "text/x-python",
   "name": "python",
   "nbconvert_exporter": "python",
   "pygments_lexer": "ipython3",
   "version": "3.8.2"
  }
 },
 "nbformat": 4,
 "nbformat_minor": 4
}

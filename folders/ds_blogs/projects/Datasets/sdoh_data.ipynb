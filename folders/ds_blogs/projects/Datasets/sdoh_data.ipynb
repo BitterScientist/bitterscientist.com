{
 "cells": [
  {
   "cell_type": "code",
   "execution_count": 1,
   "metadata": {},
   "outputs": [
    {
     "data": {
      "application/javascript": [
       "IPython.OutputArea.prototype._should_scroll = function(lines) {\n",
       "    return false;\n",
       "}\n"
      ],
      "text/plain": [
       "<IPython.core.display.Javascript object>"
      ]
     },
     "metadata": {},
     "output_type": "display_data"
    }
   ],
   "source": [
    "%%javascript\n",
    "IPython.OutputArea.prototype._should_scroll = function(lines) {\n",
    "    return false;\n",
    "}"
   ]
  },
  {
   "cell_type": "markdown",
   "metadata": {},
   "source": [
    "<hr style=\"border-top: 5px solid black;\">"
   ]
  },
  {
   "cell_type": "markdown",
   "metadata": {},
   "source": [
    "<div class=\"alert alert-block alert-info\" style=\"font-size:20px; border:1px solid black; padding:10px\">\n",
    "<center><h1>Post Goals:</h1></center>\n",
    "    <hr style=\"border-top: 2px dashed black;\">\n",
    "    <ol>\n",
    "        <li>Provide an overview of Federal Publically Available Datasets.</li><br>\n",
    "<!--         <li>.</li><br> -->\n",
    "    </ol>\n",
    "</div>"
   ]
  },
  {
   "cell_type": "markdown",
   "metadata": {},
   "source": [
    "<hr style=\"border-top: 5px solid black;\">"
   ]
  },
  {
   "cell_type": "markdown",
   "metadata": {},
   "source": [
    "<div style=\"font-size:16px; border:1px solid black; padding:10px\">\n",
    "<center><h1><br><font color=\"blue\">Post Overview.</font></h1></center>\n",
    "    <ol>\n",
    "        <li><a href=\"#objective1\">American Community Survey (ACS).</a></li><br>\n",
    "        <li><a href=\"#objective2\">American Health Resource Files.</a></li><br>\n",
    "        <li><a href=\"#objective3\">amfAR Opioid &#38; Health Indicatbors.</a></li><br>\n",
    "        <li><a href=\"#objective4\">US Census Bureau County Adjacency File (CAF).</a></li><br>\n",
    "        <li><a href=\"#objective5\">US Census County Business Patterns (CCBP).</a></li><br>\n",
    "        <li><a href=\"#objective6\">US Census Bureau TIGERweb and COVID-19 Demographic and Economic Resources.</a></li><br>        \n",
    "        <li><a href=\"#objective7\">Center of Disease Control and Prevention Interactive Atlas of Heart Disease and Stroke (CDC Atlas).</a></li><br>\n",
    "        <li><a href=\"#objective8\">Center of Disease Control and Prevention Wide-raning ONline Data for Epidemiologic Research (CDC WONDER).</a></li><br> \n",
    "        <li><a href=\"#objective9\">County Health Rankings (CHR).</a></li><br> \n",
    "        <li><a href=\"#objective10\">Civil Rights Data Collection (CRDC).</a></li><br>\n",
    "         <li><a href=\"#objective11\">Economic Research Services (ERS) Rural-Urban Commuting Area (RUCCA).</a></li><br> \n",
    "         <li><a href=\"#objective12\">Medical Advantage Penetration (MAP) Files.</a></li><br> \n",
    "         <li><a href=\"#objective13\">National Environmental Public Health Tracking Network (NEPHTN).</a></li><br>\n",
    "        <li><a href=\"#objective14\">National Center for Health Statistics (NCHS) Urban-Rural Classification Scheme.</a></li><br> \n",
    "        <li><a href=\"#objective15\">Nursing home Compare (NHC).</a></li><br> \n",
    "        <li><a href=\"#objective16\">Social Vulnerability Index (SVI).</a></li><br>\n",
    "        <li><a href=\"#objective17\">US Cancer Statistics (USCS).</a></li><br> \n",
    "    </ol>\n",
    "</div>"
   ]
  },
  {
   "cell_type": "markdown",
   "metadata": {},
   "source": [
    "<hr style=\"border-top: 5px solid black;\">"
   ]
  },
  {
   "cell_type": "markdown",
   "metadata": {},
   "source": [
    "<div id=\"objective1\" class=\"alert alert-block alert-warning\" style=\"font-size:16px; border:1px solid black; padding:10px\"><center><h1><br><font color=\"blue\">American Community Survey (ACS)</font></h1></center><br>\n",
    "</div>\n",
    "<div style=\"font-size:16px; border:1px solid black; padding:10px\">\n",
    "    <ul><strong><u>Sponsors</u></strong>\n",
    "        <li><strong>Source:</strong> Federal</li><br>   \n",
    "        <li><strong>Sponsors:</strong> US Census Bureau, c</li><br>   \n",
    "        <li><strong>US Census Bureau: is a federal government agency that provides current facts and figures about US population, places and economy</strong>.</li><br>\n",
    "        <li><strong>US Department of Commerce:</strong> is a federal agency focused on helping set industry standards and economic growth, as well as gathering economic and demographic data for business and government decision making.</li><br>    \n",
    "        <li><strong>ACS Impact</strong> Data is used determine how more than \\($\\)675 billion in federal and state funds are distributed on an annual basis.</li><br>\n",
    "<!--         <li><strong></strong>.</li><br> -->\n",
    "<!--         <li><strong></strong>.</li><br>    -->\n",
    "<!--         <li><strong></strong>.</li><br>    -->\n",
    "<!--         <li><strong></sstrong>.</li><br>         -->\n",
    "    </ul>\n",
    "    <hr style=\"border-top: 1px solid black;\">\n",
    "    <ul><strong><u>Data</u></strong>\n",
    "        <li><strong>Frequency:</strong> is an annual survey that is conducted every month.</li><br>\n",
    "        <li><strong>Data source</strong> survey sent to 3.5 million in all 50 states, the District of Columbia and Puerto Rico.</li><br>\n",
    "        <li><strong>Differences to decennial Census</strong> the ACS ask about education, employment, internet access and transportation.  ACS also provides current information to communities every year to help local and national leaders with information they may need for decision mak.</li><br>\n",
    "        <li>The data is displayed as 1-year, 3-year and 5-year estimates.</li><br> \n",
    "        <li>\n",
    "            <ul><strong><u>Social Data Subjects</u></strong>\n",
    "                <li>Ancestry.</li>      \n",
    "                <li>Citizenship Status.</li>\n",
    "                <li>Citizen Voting-Age Population.</li>\n",
    "                <li>Disability Status.</li>\n",
    "                <li>Educational Attainment.</li>        \n",
    "                <li>Fertility.</li> \n",
    "                <li>Granparents as Caregivers.</li>\n",
    "                <li>Language Spoken at Home.</li>\n",
    "                <li>Marital History and Status.</li>        \n",
    "                <li>Migration/Residence 1 year ago.</li>    \n",
    "                <li>Place of Birth.</li> \n",
    "                <li>School Enrollment.</li>\n",
    "                <li>Under gradudate field of degree.</li>\n",
    "                <li>Veteran Status, Period of Military Service.</li>        \n",
    "                <li>Year of Entry.</li> \n",
    "            </ul>\n",
    "        </li><br>   \n",
    "        <li><strong></strong>\n",
    "                        <ul><strong><u>Economics</u></strong>\n",
    "                <li>Ancestry.</li>      \n",
    "                <li>Citizen.</li>\n",
    "                <li>.</li>\n",
    "                <li>.</li>\n",
    "                <li>.</li>        \n",
    "                <li>.</li> \n",
    "                <li>.</li>\n",
    "                <li>.</li>\n",
    "                <li>.</li>        \n",
    "                <li>.</li>        \n",
    "                <li>.</li> \n",
    "                <li>.</li>                \n",
    "            </ul>\n",
    "            </li><br>\n",
    "    </ul>     \n",
    "</div>"
   ]
  },
  {
   "cell_type": "markdown",
   "metadata": {},
   "source": [
    "<hr style=\"border-top: 5px solid black;\">"
   ]
  },
  {
   "cell_type": "markdown",
   "metadata": {},
   "source": [
    "<div id=\"objective2\" class=\"alert alert-block alert-warning\" style=\"font-size:16px; border:1px solid black; padding:10px\"><center><h1><br><font color=\"blue\"></font></h1></center><br>\n",
    "</div>\n",
    "<div style=\"font-size:16px; border:1px solid black; padding:10px\">\n",
    "    <ul><strong><u>The Basics</u></strong>\n",
    "        <li><strong></strong>.</li><br>   \n",
    "        <li><strong></strong>.</li><br>   \n",
    "        <li><strong></strong>.</li><br>\n",
    "    </ul>\n",
    "    <hr style=\"border-top: 1px solid black;\">\n",
    "    <ul><strong><u>The Basics</u></strong>\n",
    "        <li><strong></strong>.</li><br>   \n",
    "        <li><strong></strong>.</li><br>   \n",
    "        <li><strong></strong>.</li><br>\n",
    "    </ul>     \n",
    "</div>"
   ]
  },
  {
   "cell_type": "markdown",
   "metadata": {},
   "source": [
    "<hr style=\"border-top: 5px solid black;\">"
   ]
  },
  {
   "cell_type": "markdown",
   "metadata": {},
   "source": [
    "<div id=\"objective3\" class=\"alert alert-block alert-warning\" style=\"font-size:16px; border:1px solid black; padding:10px\"><center><h1><br><font color=\"blue\"></font></h1></center><br>\n",
    "</div>\n",
    "<div style=\"font-size:16px; border:1px solid black; padding:10px\">\n",
    "    <ul><strong><u>The Basics</u></strong>\n",
    "        <li><strong></strong>.</li><br>   \n",
    "        <li><strong></strong>.</li><br>   \n",
    "        <li><strong></strong>.</li><br>\n",
    "    </ul>\n",
    "    <hr style=\"border-top: 1px solid black;\">\n",
    "    <ul><strong><u>The Basics</u></strong>\n",
    "        <li><strong></strong>.</li><br>   \n",
    "        <li><strong></strong>.</li><br>   \n",
    "        <li><strong></strong>.</li><br>\n",
    "    </ul>     \n",
    "</div>"
   ]
  },
  {
   "cell_type": "markdown",
   "metadata": {},
   "source": [
    "<hr style=\"border-top: 5px solid black;\">"
   ]
  },
  {
   "cell_type": "markdown",
   "metadata": {},
   "source": [
    "<div id=\"objective4\" class=\"alert alert-block alert-warning\" style=\"font-size:16px; border:1px solid black; padding:10px\"><center><h1><br><font color=\"blue\"></font></h1></center><br>\n",
    "</div>\n",
    "<div style=\"font-size:16px; border:1px solid black; padding:10px\">\n",
    "    <ul><strong><u>The Basics</u></strong>\n",
    "        <li><strong></strong>.</li><br>   \n",
    "        <li><strong></strong>.</li><br>   \n",
    "        <li><strong></strong>.</li><br>\n",
    "    </ul>\n",
    "    <hr style=\"border-top: 1px solid black;\">\n",
    "    <ul><strong><u>The Basics</u></strong>\n",
    "        <li><strong></strong>.</li><br>   \n",
    "        <li><strong></strong>.</li><br>   \n",
    "        <li><strong></strong>.</li><br>\n",
    "    </ul>     \n",
    "</div>"
   ]
  },
  {
   "cell_type": "markdown",
   "metadata": {},
   "source": [
    "<hr style=\"border-top: 5px solid black;\">"
   ]
  },
  {
   "cell_type": "markdown",
   "metadata": {},
   "source": [
    "<div id=\"objective5\" class=\"alert alert-block alert-warning\" style=\"font-size:16px; border:1px solid black; padding:10px\"><center><h1><br><font color=\"blue\"></font></h1></center><br>\n",
    "</div>\n",
    "<div style=\"font-size:16px; border:1px solid black; padding:10px\">\n",
    "    <ul><strong><u>The Basics</u></strong>\n",
    "        <li><strong></strong>.</li><br>   \n",
    "        <li><strong></strong>.</li><br>   \n",
    "        <li><strong></strong>.</li><br>\n",
    "    </ul>\n",
    "    <hr style=\"border-top: 1px solid black;\">\n",
    "    <ul><strong><u>The Basics</u></strong>\n",
    "        <li><strong></strong>.</li><br>   \n",
    "        <li><strong></strong>.</li><br>   \n",
    "        <li><strong></strong>.</li><br>\n",
    "    </ul>     \n",
    "</div>"
   ]
  },
  {
   "cell_type": "markdown",
   "metadata": {},
   "source": [
    "<hr style=\"border-top: 5px solid black;\">"
   ]
  },
  {
   "cell_type": "markdown",
   "metadata": {},
   "source": [
    "<div id=\"objective6\" class=\"alert alert-block alert-warning\" style=\"font-size:16px; border:1px solid black; padding:10px\"><center><h1><br><font color=\"blue\"></font></h1></center><br>\n",
    "</div>\n",
    "<div style=\"font-size:16px; border:1px solid black; padding:10px\">\n",
    "    <ul><strong><u>The Basics</u></strong>\n",
    "        <li><strong></strong>.</li><br>   \n",
    "        <li><strong></strong>.</li><br>   \n",
    "        <li><strong></strong>.</li><br>\n",
    "    </ul>\n",
    "    <hr style=\"border-top: 1px solid black;\">\n",
    "    <ul><strong><u>The Basics</u></strong>\n",
    "        <li><strong></strong>.</li><br>   \n",
    "        <li><strong></strong>.</li><br>   \n",
    "        <li><strong></strong>.</li><br>\n",
    "    </ul>     \n",
    "</div>"
   ]
  },
  {
   "cell_type": "markdown",
   "metadata": {},
   "source": [
    "<hr style=\"border-top: 5px solid black;\">"
   ]
  },
  {
   "cell_type": "markdown",
   "metadata": {},
   "source": [
    "<div id=\"objective7\" class=\"alert alert-block alert-warning\" style=\"font-size:16px; border:1px solid black; padding:10px\"><center><h1><br><font color=\"blue\"></font></h1></center><br>\n",
    "</div>\n",
    "<div style=\"font-size:16px; border:1px solid black; padding:10px\">\n",
    "    <ul><strong><u>The Basics</u></strong>\n",
    "        <li><strong></strong>.</li><br>   \n",
    "        <li><strong></strong>.</li><br>   \n",
    "        <li><strong></strong>.</li><br>\n",
    "    </ul>\n",
    "    <hr style=\"border-top: 1px solid black;\">\n",
    "    <ul><strong><u>The Basics</u></strong>\n",
    "        <li><strong></strong>.</li><br>   \n",
    "        <li><strong></strong>.</li><br>   \n",
    "        <li><strong></strong>.</li><br>\n",
    "    </ul>     \n",
    "</div>"
   ]
  },
  {
   "cell_type": "markdown",
   "metadata": {},
   "source": [
    "<hr style=\"border-top: 5px solid black;\">"
   ]
  },
  {
   "cell_type": "markdown",
   "metadata": {},
   "source": [
    "<div id=\"objective8\" class=\"alert alert-block alert-warning\" style=\"font-size:16px; border:1px solid black; padding:10px\"><center><h1><br><font color=\"blue\"></font></h1></center><br>\n",
    "</div>\n",
    "<div style=\"font-size:16px; border:1px solid black; padding:10px\">\n",
    "    <ul><strong><u>The Basics</u></strong>\n",
    "        <li><strong></strong>.</li><br>   \n",
    "        <li><strong></strong>.</li><br>   \n",
    "        <li><strong></strong>.</li><br>\n",
    "    </ul>\n",
    "    <hr style=\"border-top: 1px solid black;\">\n",
    "    <ul><strong><u>The Basics</u></strong>\n",
    "        <li><strong></strong>.</li><br>   \n",
    "        <li><strong></strong>.</li><br>   \n",
    "        <li><strong></strong>.</li><br>\n",
    "    </ul>     \n",
    "</div>"
   ]
  }
 ],
 "metadata": {
  "kernelspec": {
   "display_name": "Python 3",
   "language": "python",
   "name": "python3"
  },
  "language_info": {
   "codemirror_mode": {
    "name": "ipython",
    "version": 3
   },
   "file_extension": ".py",
   "mimetype": "text/x-python",
   "name": "python",
   "nbconvert_exporter": "python",
   "pygments_lexer": "ipython3",
   "version": "3.9.1"
  }
 },
 "nbformat": 4,
 "nbformat_minor": 4
}

{
 "cells": [
  {
   "cell_type": "markdown",
   "metadata": {},
   "source": [
    "# Import Dependencies"
   ]
  },
  {
   "cell_type": "code",
   "execution_count": 1,
   "metadata": {},
   "outputs": [],
   "source": [
    "# Data Manipulation Libraries: Standard dataframes and array libraries\n",
    "import pandas as pd\n",
    "import numpy as np\n",
    "# from datetime import datetime\n",
    "from datetime import datetime, timedelta\n",
    "\n",
    "# Data Visualization Libraries:\n",
    "import matplotlib.pyplot as plt\n",
    "import seaborn as sns\n",
    "import statsmodels.api as sm\n",
    "\n",
    "# Data analysis\n",
    "from scipy import stats\n",
    "from scipy.stats import skew \n",
    "\n",
    "from warnings import simplefilter\n",
    "# ignore all future warnings\n",
    "simplefilter(action='ignore', category=FutureWarning)\n",
    "\n",
    "# Displaying plots in jupter notebook\n",
    "%matplotlib inline\n",
    "# Displaying pandas columns and rows\n",
    "pd.set_option('display.max_rows', None)\n",
    "pd.set_option('display.max_columns', None)"
   ]
  },
  {
   "cell_type": "markdown",
   "metadata": {},
   "source": [
    "# Import data"
   ]
  },
  {
   "cell_type": "code",
   "execution_count": 2,
   "metadata": {},
   "outputs": [],
   "source": [
    "# import data using read_csv() method for \n",
    "# Phase 1: Baseline KPI analysis\n",
    "customers = pd.read_csv(\"static/data/customers.csv\")\n",
    "purchases = pd.read_csv(\"static/data/in_app_purchases.csv\")\n",
    "\n",
    "# Phase 2: A/B testing phase\n",
    "revenue = pd.read_csv(\"static/data/revenue.csv\")\n",
    "paywall_demo = pd.read_csv(\"static/data/user_demographics_paywall.csv\")\n",
    "\n",
    "# Phase 3: A/B testing analyis\n",
    "ab_results = pd.read_csv(\"static/data/ab_testing_results.csv\")"
   ]
  },
  {
   "cell_type": "markdown",
   "metadata": {},
   "source": [
    "# Data wranging\n",
    " - customer and purchases csv files"
   ]
  },
  {
   "cell_type": "markdown",
   "metadata": {},
   "source": [
    "### Change datatypes"
   ]
  },
  {
   "cell_type": "code",
   "execution_count": 3,
   "metadata": {},
   "outputs": [],
   "source": [
    "# Rename column date in the customers df\n",
    "customers.columns = ['date' if x=='reg_date' else x for x in customers.columns]"
   ]
  },
  {
   "cell_type": "code",
   "execution_count": 4,
   "metadata": {},
   "outputs": [],
   "source": [
    "# Convert price to currency format (without the $ sign as this would change it to a string object)\n",
    "purchases['price'] = purchases['price'].apply(lambda x: '{:.2f}'.format((x/100)))\n",
    "purchases['price'] = purchases['price'].astype('float')"
   ]
  },
  {
   "cell_type": "code",
   "execution_count": 5,
   "metadata": {},
   "outputs": [],
   "source": [
    "sku_dict = {'sku_eight_2099': 'sku_$0.99',\n",
    "            'sku_five_899':'sku_$8.99',\n",
    "            'sku_four_599':'sku_$5.99',\n",
    "            'sku_one_199' :'sku_$1.99',\n",
    "            'sku_seven_1499':'sku_$4.99',\n",
    "            'sku_six_1299':'sku_$2.99', \n",
    "            'sku_three_499':'sku_$4.99',\n",
    "            'sku_two_299':'sku_$2.99'}\n",
    "# Rename values in the column\n",
    "purchases['sku'].replace(sku_dict, inplace= True)"
   ]
  },
  {
   "cell_type": "code",
   "execution_count": 6,
   "metadata": {},
   "outputs": [],
   "source": [
    "# Change date columns from objects to datetime\n",
    "purchases['date'] = purchases['date'].astype('datetime64[ns]')\n",
    "customers[\"date\"] = customers[\"date\"].astype('datetime64[ns]')\n",
    "# Convert uid into an int\n",
    "customers['uid'] = customers['uid'].astype(int)"
   ]
  },
  {
   "cell_type": "code",
   "execution_count": 7,
   "metadata": {},
   "outputs": [],
   "source": [
    "# Rename values in the device feature of customers\n",
    "customers['device'].replace({'and':'android'}, inplace= True)\n",
    "\n",
    "# Update country names in the customers df\n",
    "customers['country'].replace({'BRA':'Brazil', 'CAN':'Canada', 'DEU': 'Germany', 'FRA':'France', 'TUR':'Turkey'}, inplace= True)"
   ]
  },
  {
   "cell_type": "code",
   "execution_count": 8,
   "metadata": {},
   "outputs": [],
   "source": [
    "# Change columns where unique values < 10 to category\n",
    "purchases[\"sku\"] = purchases[\"sku\"].astype('category')\n",
    "# Use a .apply() to change multiple columns in the customers df\n",
    "customer_cols = ['device', 'gender', 'country']\n",
    "customers[customer_cols] = customers[customer_cols].apply(lambda x: x.astype('category'))"
   ]
  },
  {
   "cell_type": "markdown",
   "metadata": {},
   "source": [
    "### First Subset: <font color=\"red\">customer_purchases</font> purchases and customers merged using .merge()"
   ]
  },
  {
   "cell_type": "code",
   "execution_count": 9,
   "metadata": {},
   "outputs": [],
   "source": [
    "# Merge on the 'uid'\n",
    "customer_purchases = purchases.merge(customers, on=['uid'], how='inner')"
   ]
  },
  {
   "cell_type": "code",
   "execution_count": 10,
   "metadata": {},
   "outputs": [],
   "source": [
    "# Update column names for clarity\n",
    "customer_purchases.columns = ['purchase_date' if x=='date_x' else x for x in customer_purchases.columns]\n",
    "customer_purchases.columns = ['registration_date' if x=='date_y' else x for x in customer_purchases.columns]"
   ]
  },
  {
   "cell_type": "code",
   "execution_count": 11,
   "metadata": {},
   "outputs": [],
   "source": [
    "# Add a lapse date column: the date that their 7-day free trial ended\n",
    "customer_purchases[\"week1_lapse_date\"] = customer_purchases['registration_date'] + timedelta(days=7)\n",
    "customer_purchases[\"week2_lapse_date\"] = customer_purchases['registration_date'] + timedelta(days=14)"
   ]
  },
  {
   "cell_type": "code",
   "execution_count": 12,
   "metadata": {},
   "outputs": [],
   "source": [
    "# Assign binary numbers to columns if user made a purchase during that period\n",
    "customer_purchases[\"purchase_dur_week1\"] = np.where(customer_purchases['purchase_date'] <= customer_purchases[\"week1_lapse_date\"], 1, 0)\n",
    "customer_purchases[\"purchase_dur_week2\"] = np.where(customer_purchases['purchase_date'] <= customer_purchases[\"week2_lapse_date\"], 1, 0)"
   ]
  },
  {
   "cell_type": "code",
   "execution_count": 13,
   "metadata": {},
   "outputs": [],
   "source": [
    "# Rearrange columns\n",
    "customer_purchases = customer_purchases[['uid','registration_date', 'week1_lapse_date', 'week2_lapse_date',\n",
    "       'purchase_dur_week1', 'purchase_dur_week2', 'gender', 'age','device', 'country', 'purchase_date', 'sku', 'price']]"
   ]
  },
  {
   "cell_type": "code",
   "execution_count": 14,
   "metadata": {},
   "outputs": [
    {
     "name": "stdout",
     "output_type": "stream",
     "text": [
      "The number of observations in the dataset is: 9006\n"
     ]
    }
   ],
   "source": [
    "print(f'The number of observations in the dataset is: {len(customer_purchases)}')"
   ]
  },
  {
   "cell_type": "markdown",
   "metadata": {},
   "source": [
    "## User Demographics\n",
    "\n",
    "### Univariate Dataframe <font color=\"red\">unique_users</font> Removed duplicate 'uid'\n",
    "- Country: Users by country\n",
    "- Age: Users by age\n",
    "- Gender: Gender demographics\n",
    "- Device: Device types used"
   ]
  },
  {
   "cell_type": "code",
   "execution_count": 15,
   "metadata": {},
   "outputs": [],
   "source": [
    "# Create df and drop duplicate rows, only interested in unique users\n",
    "unique_users = customer_purchases.drop_duplicates(subset='uid', keep='first')"
   ]
  },
  {
   "cell_type": "code",
   "execution_count": 22,
   "metadata": {},
   "outputs": [
    {
     "data": {
      "text/plain": [
       "(1322,)"
      ]
     },
     "execution_count": 22,
     "metadata": {},
     "output_type": "execute_result"
    }
   ],
   "source": [
    "# Number of unique users\n",
    "unique_users['country'].shape"
   ]
  },
  {
   "cell_type": "code",
   "execution_count": 21,
   "metadata": {},
   "outputs": [
    {
     "data": {
      "text/plain": [
       "USA        539\n",
       "Brazil     385\n",
       "Turkey     129\n",
       "Germany    126\n",
       "France      88\n",
       "Canada      55\n",
       "Name: country, dtype: int64"
      ]
     },
     "execution_count": 21,
     "metadata": {},
     "output_type": "execute_result"
    }
   ],
   "source": [
    "# Number of unique users by country\n",
    "unique_users['country'].value_counts()"
   ]
  },
  {
   "cell_type": "code",
   "execution_count": 24,
   "metadata": {},
   "outputs": [
    {
     "data": {
      "text/html": [
       "<div>\n",
       "<style scoped>\n",
       "    .dataframe tbody tr th:only-of-type {\n",
       "        vertical-align: middle;\n",
       "    }\n",
       "\n",
       "    .dataframe tbody tr th {\n",
       "        vertical-align: top;\n",
       "    }\n",
       "\n",
       "    .dataframe thead th {\n",
       "        text-align: right;\n",
       "    }\n",
       "</style>\n",
       "<table border=\"1\" class=\"dataframe\">\n",
       "  <thead>\n",
       "    <tr style=\"text-align: right;\">\n",
       "      <th></th>\n",
       "      <th>age</th>\n",
       "    </tr>\n",
       "  </thead>\n",
       "  <tbody>\n",
       "    <tr>\n",
       "      <th>count</th>\n",
       "      <td>1322.000000</td>\n",
       "    </tr>\n",
       "    <tr>\n",
       "      <th>mean</th>\n",
       "      <td>24.072617</td>\n",
       "    </tr>\n",
       "    <tr>\n",
       "      <th>std</th>\n",
       "      <td>9.555172</td>\n",
       "    </tr>\n",
       "    <tr>\n",
       "      <th>min</th>\n",
       "      <td>15.000000</td>\n",
       "    </tr>\n",
       "    <tr>\n",
       "      <th>25%</th>\n",
       "      <td>17.000000</td>\n",
       "    </tr>\n",
       "    <tr>\n",
       "      <th>50%</th>\n",
       "      <td>21.000000</td>\n",
       "    </tr>\n",
       "    <tr>\n",
       "      <th>75%</th>\n",
       "      <td>28.000000</td>\n",
       "    </tr>\n",
       "    <tr>\n",
       "      <th>max</th>\n",
       "      <td>75.000000</td>\n",
       "    </tr>\n",
       "  </tbody>\n",
       "</table>\n",
       "</div>"
      ],
      "text/plain": [
       "               age\n",
       "count  1322.000000\n",
       "mean     24.072617\n",
       "std       9.555172\n",
       "min      15.000000\n",
       "25%      17.000000\n",
       "50%      21.000000\n",
       "75%      28.000000\n",
       "max      75.000000"
      ]
     },
     "execution_count": 24,
     "metadata": {},
     "output_type": "execute_result"
    }
   ],
   "source": [
    "# Age descriptive statistics\n",
    "unique_users['age'].describe().to_frame()"
   ]
  },
  {
   "cell_type": "code",
   "execution_count": 64,
   "metadata": {},
   "outputs": [
    {
     "data": {
      "text/html": [
       "<style  type=\"text/css\" >\n",
       "</style><table id=\"T_791ece50_3294_11ea_abc1_acde48001122\" ><thead>    <tr>        <th class=\"blank level0\" ></th>        <th class=\"col_heading level0 col0\" >gender</th>        <th class=\"col_heading level0 col1\" >Percent</th>    </tr></thead><tbody>\n",
       "                <tr>\n",
       "                        <th id=\"T_791ece50_3294_11ea_abc1_acde48001122level0_row0\" class=\"row_heading level0 row0\" >F</th>\n",
       "                        <td id=\"T_791ece50_3294_11ea_abc1_acde48001122row0_col0\" class=\"data row0 col0\" >712</td>\n",
       "                        <td id=\"T_791ece50_3294_11ea_abc1_acde48001122row0_col1\" class=\"data row0 col1\" >53.86%</td>\n",
       "            </tr>\n",
       "            <tr>\n",
       "                        <th id=\"T_791ece50_3294_11ea_abc1_acde48001122level0_row1\" class=\"row_heading level0 row1\" >M</th>\n",
       "                        <td id=\"T_791ece50_3294_11ea_abc1_acde48001122row1_col0\" class=\"data row1 col0\" >610</td>\n",
       "                        <td id=\"T_791ece50_3294_11ea_abc1_acde48001122row1_col1\" class=\"data row1 col1\" >46.14%</td>\n",
       "            </tr>\n",
       "    </tbody></table>"
      ],
      "text/plain": [
       "<pandas.io.formats.style.Styler at 0x11b772c50>"
      ]
     },
     "execution_count": 64,
     "metadata": {},
     "output_type": "execute_result"
    }
   ],
   "source": [
    "# Age descriptive statistics\n",
    "format_dict = {'Percent': '{0:.2%}'}\n",
    "gender_demo = unique_users['gender'].value_counts().to_frame()\n",
    "gender_demo[\"Percent\"] = (gender_demo['gender']/unique_users['gender'].count())\n",
    "gender_demo.style.format(format_dict)"
   ]
  },
  {
   "cell_type": "code",
   "execution_count": 31,
   "metadata": {},
   "outputs": [
    {
     "name": "stdout",
     "output_type": "stream",
     "text": [
      "\n",
      "Skewness for data :  1.6899616122843457\n"
     ]
    }
   ],
   "source": [
    "# Determine the skeness of the age distribution\n",
    "print( '\\nSkewness for data : ', skew(unique_users['age'])) "
   ]
  },
  {
   "cell_type": "code",
   "execution_count": 67,
   "metadata": {},
   "outputs": [
    {
     "data": {
      "text/html": [
       "<style  type=\"text/css\" >\n",
       "</style><table id=\"T_aa8278f6_3295_11ea_abc1_acde48001122\" ><thead>    <tr>        <th class=\"blank level0\" ></th>        <th class=\"col_heading level0 col0\" >device</th>        <th class=\"col_heading level0 col1\" >Percent</th>    </tr></thead><tbody>\n",
       "                <tr>\n",
       "                        <th id=\"T_aa8278f6_3295_11ea_abc1_acde48001122level0_row0\" class=\"row_heading level0 row0\" >android</th>\n",
       "                        <td id=\"T_aa8278f6_3295_11ea_abc1_acde48001122row0_col0\" class=\"data row0 col0\" >790</td>\n",
       "                        <td id=\"T_aa8278f6_3295_11ea_abc1_acde48001122row0_col1\" class=\"data row0 col1\" >59.76%</td>\n",
       "            </tr>\n",
       "            <tr>\n",
       "                        <th id=\"T_aa8278f6_3295_11ea_abc1_acde48001122level0_row1\" class=\"row_heading level0 row1\" >iOS</th>\n",
       "                        <td id=\"T_aa8278f6_3295_11ea_abc1_acde48001122row1_col0\" class=\"data row1 col0\" >532</td>\n",
       "                        <td id=\"T_aa8278f6_3295_11ea_abc1_acde48001122row1_col1\" class=\"data row1 col1\" >40.24%</td>\n",
       "            </tr>\n",
       "    </tbody></table>"
      ],
      "text/plain": [
       "<pandas.io.formats.style.Styler at 0x11b6116d0>"
      ]
     },
     "execution_count": 67,
     "metadata": {},
     "output_type": "execute_result"
    }
   ],
   "source": [
    "# Age descriptive statistics\n",
    "format_dict = {'Percent': '{0:.2%}'}\n",
    "device_demo = unique_users['device'].value_counts().to_frame()\n",
    "device_demo[\"Percent\"] = device_demo['device']/unique_users['device'].count()\n",
    "device_demo.style.format(format_dict)"
   ]
  },
  {
   "cell_type": "markdown",
   "metadata": {},
   "source": [
    "### Figure 1. User demographics"
   ]
  },
  {
   "cell_type": "code",
   "execution_count": 17,
   "metadata": {},
   "outputs": [
    {
     "data": {
      "image/png": "[encoded data removed]",
      "text/plain": [
       "<Figure size 2520x2160 with 4 Axes>"
      ]
     },
     "metadata": {},
     "output_type": "display_data"
    }
   ],
   "source": [
    "# List of features\n",
    "customer_demo_list = ['country' , 'age', 'gender', 'device']\n",
    "# Test function\n",
    "fig = plt.figure(figsize=(35,30))\n",
    "# plt.rcParams.update({'font.size': 28})\n",
    "fig.subplots_adjust(hspace=1, wspace=0.2)\n",
    "for demo, num in zip(customer_demo_list, range(1,5)):\n",
    "    if demo == 'age':\n",
    "        ax = fig.add_subplot(2,2, num)\n",
    "        sns.distplot(unique_users[demo], kde=False, ax=ax, label=demo)\n",
    "        sns.set(font_scale=3)\n",
    "        ax.legend()\n",
    "        ax.set_ylabel('Counts')\n",
    "        ax.set_xlabel(demo.capitalize())\n",
    "        ax.set_title(f'Customers by {demo.capitalize()}')\n",
    "    else:\n",
    "        ax = fig.add_subplot(2,2, num)\n",
    "        sns.countplot(x=demo, data=unique_users, ax=ax)\n",
    "        sns.set(font_scale=3)\n",
    "        ax.set_ylabel('Counts')\n",
    "        ax.set_xlabel(demo.capitalize())\n",
    "        ax.set_title(f'Customers by {demo.capitalize()}')\n",
    "    \n",
    "plt.tight_layout()\n",
    "plt.savefig(\"static/images/figure1_user_demographics.png\", bbox_inches='tight')\n",
    "plt.show()"
   ]
  },
  {
   "cell_type": "markdown",
   "metadata": {},
   "source": [
    "## User Demographics\n",
    "\n",
    "### Multivariate\n",
    "- Age distribution by country\n",
    "- Age distribution by gender\n",
    "- Age distribution by device\n",
    "- Gender distribution by country\n",
    "- Gender distribution by device\n",
    "- Device distribution by country"
   ]
  },
  {
   "cell_type": "markdown",
   "metadata": {},
   "source": [
    "### Statistical tests to determine if ages between device types and genders differ"
   ]
  },
  {
   "cell_type": "code",
   "execution_count": 144,
   "metadata": {},
   "outputs": [],
   "source": [
    "# Items to be iterated over for \n",
    "category_list = [\"gender\", \"device\"]\n",
    "items = [genders, devices]\n",
    "genders = np.array(unique_users[\"gender\"].astype('str').unique())\n",
    "devices = np.array(unique_users[\"device\"].astype('str').unique())\n",
    "test_results = []"
   ]
  },
  {
   "cell_type": "code",
   "execution_count": 142,
   "metadata": {},
   "outputs": [],
   "source": [
    "# Function for Mann Whitney\n",
    "def cal_mannwhitney(categories, item):\n",
    "    for cat in categories:\n",
    "        for item in items:\n",
    "            x = unique_users[unique_users[cat] == item[0]][\"age\"].values\n",
    "            y = unique_users[unique_users[cat] == item[1]][\"age\"].values\n",
    "            ustat, pval = stats.mannwhitneyu(x, y)\n",
    "            if ustat != 0.00 and pval != 0.00:                  \n",
    "                test_results.append((round(ustat,4), round(pval, 4)))\n",
    "            else:\n",
    "                next\n",
    "    return test_results"
   ]
  },
  {
   "cell_type": "code",
   "execution_count": 143,
   "metadata": {},
   "outputs": [
    {
     "data": {
      "text/plain": [
       "[(208816.0, 0.1135), (199885.5, 0.0656)]"
      ]
     },
     "execution_count": 143,
     "metadata": {},
     "output_type": "execute_result"
    }
   ],
   "source": [
    "# Cal mann whitney for gender ages\n",
    "cal_mannwhitney(category_list, items)"
   ]
  },
  {
   "cell_type": "code",
   "execution_count": 68,
   "metadata": {},
   "outputs": [
    {
     "data": {
      "image/png": "[encoded data removed]",
      "text/plain": [
       "<Figure size 2520x2160 with 3 Axes>"
      ]
     },
     "metadata": {},
     "output_type": "display_data"
    }
   ],
   "source": [
    "customer_demo_list = ['gender', 'device', 'country']\n",
    "fig = plt.figure(figsize=(35,30))\n",
    "plt.rcParams.update({'font.size': 28})\n",
    "fig.subplots_adjust(hspace=1, wspace=0.2)\n",
    "for demo, num in zip(customer_demo_list, range(1,4)):\n",
    "    if num == 3:\n",
    "        ax = fig.add_subplot(212)\n",
    "        sns.boxplot(x=demo, y=\"age\", data=unique_users, medianprops={'color':'red', 'linewidth': 2.5}, sym='', ax=ax)\n",
    "        ax.set_ylabel('Age')\n",
    "        ax.set_xlabel(demo.capitalize())\n",
    "        ax.set_title(f\"Customer Ages by {demo.capitalize()}\")\n",
    "    else:\n",
    "        ax = fig.add_subplot(2,2, num)\n",
    "        sns.boxplot(x=demo, y=\"age\", data=unique_users, medianprops={'color':'red', 'linewidth': 2.5}, sym='', ax=ax)    \n",
    "        ax.set_ylabel('Age')\n",
    "        ax.set_xlabel(demo.capitalize())\n",
    "        ax.set_title(f\"Customer Ages by {demo.capitalize()}\")\n",
    "    \n",
    "plt.tight_layout()\n",
    "plt.savefig(\"static/images/figure2_user_demographics.png\", bbox_inches='tight')\n",
    "plt.show()"
   ]
  },
  {
   "cell_type": "markdown",
   "metadata": {},
   "source": [
    "Customers in France have the highest median age, while Germany has the youngest customers.\n",
    "Most customers appear to be under 30 years of age."
   ]
  },
  {
   "cell_type": "markdown",
   "metadata": {},
   "source": [
    "- Gender distribution by country\n",
    "- Gender distribution by device\n",
    "- Device distribution by country"
   ]
  },
  {
   "cell_type": "markdown",
   "metadata": {},
   "source": [
    "Men are generally older than females in all countried but brazil."
   ]
  },
  {
   "cell_type": "code",
   "execution_count": null,
   "metadata": {},
   "outputs": [],
   "source": [
    "customer_demo_list = ['country', 'device', 'age']\n",
    "fig = plt.figure(figsize=(22,18))\n",
    "# plt.rcParams.update({'font.size': 8})\n",
    "fig.subplots_adjust(hspace=1, wspace=0.2)\n",
    "for demo, num in zip(customer_demo_list, range(1,4)):\n",
    "    if num == 3:    \n",
    "        ax = fig.add_subplot(212)\n",
    "        sns.boxplot(x=\"country\", y=\"age\", hue=\"gender\", data=unique_users, ax=ax)\n",
    "        ax.set_ylabel('Age')\n",
    "        ax.set_xlabel('Country')\n",
    "        ax.set_title(\"Age of Customers by Gender and Country\")\n",
    "        ax.legend()  \n",
    "    else:\n",
    "        ax = fig.add_subplot(2,2, num)\n",
    "        sns.countplot(x=demo, hue='gender', data=unique_users, ax=ax)    \n",
    "        ax.set_ylabel('Counts')\n",
    "        ax.set_xlabel(demo.capitalize())\n",
    "        ax.set_title(f\"Number of Users by {demo.capitalize()}\")\n",
    "        ax.legend(loc='best')\n",
    "    \n",
    "plt.tight_layout()\n",
    "plt.savefig(\"static/images/plot_bivariate_gender_device_country.png\", bbox_inches='tight')\n",
    "plt.show()"
   ]
  },
  {
   "cell_type": "markdown",
   "metadata": {},
   "source": [
    "There are more female customers than male customers."
   ]
  },
  {
   "cell_type": "markdown",
   "metadata": {},
   "source": [
    "### Devices used by country"
   ]
  },
  {
   "cell_type": "code",
   "execution_count": null,
   "metadata": {},
   "outputs": [],
   "source": [
    "fig = plt.figure(figsize=(20,20))\n",
    "ax = sns.countplot(x=\"country\", hue=\"device\", data=unique_users)\n",
    "plt.tight_layout()\n",
    "plt.ylabel(\"Counts\")\n",
    "plt.xlabel(\"Country\")\n",
    "plt.title(\"Device Counts by Country\")\n",
    "plt.savefig(\"static/images/plot_count_device_country.png\", bbox_inches='tight')\n",
    "plt.show()"
   ]
  },
  {
   "cell_type": "markdown",
   "metadata": {},
   "source": [
    "Android is the dominant device type for all countries."
   ]
  },
  {
   "cell_type": "markdown",
   "metadata": {},
   "source": [
    "## Baseline Sales EDA Key performance index (KPI)\n",
    "- Sales by Country : What is the median price spent\n",
    "- Average Sales by Country: (how many purchases do people make)\n",
    "- Sales by Age: What is the median age of customers\n",
    "- Average Sales by Age: (how many purchases do people make) (dot plot)\n",
    "- Sales by Gender: What genders are a larger proportion of sales\n",
    "- Average Sales by Gender: How many purchases do men and women make\n",
    "- Sales by Device:\n",
    "- Average Sales by device:\n",
    "\n",
    "### SKU Sales by Demographic\n",
    "- Sku by country: which products are popular\n",
    "- Sku by age:\n",
    "- Sku by gender\n",
    "- Sku by device:\n",
    "\n",
    "\n",
    "### Multivariate Sales Analysis\n",
    " - Sales by country and gender (cat)\n",
    " - Sales by country and device (cat)\n",
    " - Sales by country and age (cont)\n",
    " \n",
    "### Multivariate Sales Analysis\n",
    " - Sales by country, gender, age (cat)\n",
    " - Sales by country, gender, device (cat)\n",
    " - Sales by country, age, device (cont)"
   ]
  },
  {
   "cell_type": "markdown",
   "metadata": {},
   "source": [
    "## Baseline Sales EDA Key performance index (KPI)\n",
    "- Sales by Country : What is the median price spent\n",
    "- Average Sales by Country: (how many purchases do people make)\n",
    "- Sales by Age: What is the median age of customers\n",
    "- Average Sales by Age: (how many purchases do people make) (dot plot)\n",
    "- Sales by Gender: What genders are a larger proportion of sales\n",
    "- Average Sales by Gender: How many purchases do men and women make\n",
    "- Sales by Device:\n",
    "- Average Sales by device:"
   ]
  },
  {
   "cell_type": "code",
   "execution_count": null,
   "metadata": {},
   "outputs": [],
   "source": [
    "sales_demo = ['country', 'gender', 'device', 'age']\n",
    "fig = plt.figure(figsize=(35,30))\n",
    "plt.rcParams.update({'font.size': 28})\n",
    "fig.subplots_adjust(hspace=1, wspace=0.2)\n",
    "for demo, num in zip(sales_demo, range(1,5)):\n",
    "    if demo == 'age':\n",
    "        ax = fig.add_subplot(2,2, num)\n",
    "        sns.boxplot(x=customer_purchases['price'], medianprops={'color':'red', 'linewidth': 2.5}, y=customer_purchases['age'], sym=\"\", ax=ax)\n",
    "        sns.set(font_scale=2)\n",
    "        ax.set_xlabel('Product Prices')\n",
    "        ax.set_ylabel('User Ages')\n",
    "        ax.set_title(f'Purchases by {demo.capitalize()}')\n",
    "    else:\n",
    "        ax = fig.add_subplot(2,2, num)\n",
    "        sns.boxplot(x=demo, y=\"price\", medianprops={'color':'red', 'linewidth': 2.5}, data=customer_purchases, ax=ax)\n",
    "        sns.set(font_scale=2)\n",
    "        ax.set_ylabel('Purchase Price')\n",
    "        ax.set_xlabel(demo.capitalize())\n",
    "        ax.set_title(f'Purchases by {demo.capitalize()}')\n",
    "    \n",
    "plt.tight_layout()\n",
    "plt.savefig(\"static/images/plot_mulivariate_sales_country_age_gender_device.png\", bbox_inches='tight')\n",
    "plt.show()"
   ]
  },
  {
   "cell_type": "markdown",
   "metadata": {},
   "source": [
    "Brazil and Turkey make the highest median purchases than other countries\n",
    "France and Canda made the lowest median purchases than other countries"
   ]
  },
  {
   "cell_type": "markdown",
   "metadata": {},
   "source": [
    "## Baseline Sales EDA Key performance index (KPI)\n",
    "### SKU Purchases by Demographic\n",
    "- Sku by country: which products are popular\n",
    "- Sku by gender\n",
    "- Sku by device:"
   ]
  },
  {
   "cell_type": "code",
   "execution_count": null,
   "metadata": {},
   "outputs": [],
   "source": [
    "sku_demo = ['gender', 'device', 'country']\n",
    "fig = plt.figure(figsize=(35,30))\n",
    "plt.rcParams.update({'font.size': 28})\n",
    "fig.subplots_adjust(hspace=1, wspace=0.2)\n",
    "for demo, num in zip(sku_demo, range(1,4)):\n",
    "    if num == 3:\n",
    "        ax = fig.add_subplot(212)\n",
    "        sns.set(font_scale=2)\n",
    "        sns.countplot(x=demo, hue=\"sku\", data=customer_purchases, ax=ax)\n",
    "        ax.set_ylabel('Number of Purchases by SKU', fontsize=28)\n",
    "        ax.set_xlabel(demo.capitalize(),  fontsize=28)\n",
    "        ax.set_title(f\"SKU Purchases by {demo.capitalize()}\",  fontsize=28)\n",
    "        ax.legend().set_visible(False)\n",
    "    else:\n",
    "        ax = fig.add_subplot(2,2, num)\n",
    "        sns.countplot(x=demo, hue=\"sku\", data=customer_purchases, ax=ax) \n",
    "        sns.set(font_scale=2)\n",
    "        ax.set_ylabel('Number of Purchases by SKU', fontsize=28)\n",
    "        ax.set_xlabel(demo.capitalize(),  fontsize=28)\n",
    "        ax.set_title(f\"SKU Purchases by {demo.capitalize()}\", fontsize=28)\n",
    "        ax.legend().set_visible(False)\n",
    "\n",
    "plt.legend(loc=\"upper left\", bbox_to_anchor=[0, 1], ncol=2, shadow=True, title=\"Legend\", fancybox=True)\n",
    "plt.tight_layout()\n",
    "plt.savefig(\"static/images/plot_mulivariate_sku_country_age_gender_device.png\", bbox_inches='tight')\n",
    "plt.show()"
   ]
  },
  {
   "cell_type": "markdown",
   "metadata": {},
   "source": [
    "The top 4 products for all countries are: sku_four_599, sku_one_199, sku_three_499, sku_two_299.\n",
    "Brazil has a higher proportion of their customers that purchase sku_eight_2099, and sku_five_899 than other countries. This may account for the higher median sale of prices."
   ]
  },
  {
   "cell_type": "markdown",
   "metadata": {},
   "source": [
    "## Baseline Sales EDA Key performance index (KPI)\n",
    "\n",
    "### Multivariate Sales Analysis\n",
    " - Sales by country and gender (cat)\n",
    " - Sales by country and device (cat)\n",
    " - Sales by country and age (cont)"
   ]
  },
  {
   "cell_type": "code",
   "execution_count": null,
   "metadata": {},
   "outputs": [],
   "source": [
    "sku_demo = ['gender', 'device', 'age']\n",
    "fig = plt.figure(figsize=(35,30))\n",
    "plt.rcParams.update({'font.size': 28})\n",
    "fig.subplots_adjust(hspace=1, wspace=0.2)\n",
    "for demo, num in zip(sku_demo, range(1,4)):\n",
    "    if num == 3:\n",
    "        ax = fig.add_subplot(212)\n",
    "        sns.boxplot(x=\"country\", y=\"age\", hue='price', data=customer_purchases, medianprops={'color':'red', 'linewidth': 3.5}, sym='', ax=ax)\n",
    "        sns.set(font_scale=2)\n",
    "        ax.set_ylabel('User Ages')\n",
    "        ax.set_xlabel('Country')\n",
    "        ax.set_title(f\"Product Purchases by {demo.capitalize()} and Country\")\n",
    "        ax.legend(loc='upper left')\n",
    "    else:\n",
    "        ax = fig.add_subplot(2,2, num)\n",
    "        sns.boxplot(x=\"country\", y=\"price\", hue=demo, data=customer_purchases, medianprops={'color':'red', 'linewidth': 3.5}, ax=ax) \n",
    "        sns.set(font_scale=2)\n",
    "        ax.set_ylabel('Purchase Price')\n",
    "        ax.set_xlabel(demo.capitalize())\n",
    "        ax.set_title(f\"Purchases by {demo.capitalize()}\")\n",
    "        ax.legend(loc=\"upper left\")\n",
    "\n",
    "plt.tight_layout()\n",
    "plt.savefig(\"static/images/plot_mulivariate_sales_by_gender_device_ages.png\", bbox_inches='tight')\n",
    "plt.show()"
   ]
  },
  {
   "cell_type": "markdown",
   "metadata": {},
   "source": [
    "In all countries, but Brazil, males make higher median purchases by price than females.\n",
    "Men in France spent more than other countries, while men in Canada spent the least.\n",
    "Bottomline: All there are more female customers by country, males are making bigger purchases than females in all but Brazil.\n",
    "Higher purchases are made in Android devices in all countries but Germany and the US, where iOS is higher."
   ]
  },
  {
   "cell_type": "markdown",
   "metadata": {},
   "source": [
    "## Baseline Sales EDA Key performance index (KPI)\n",
    "\n",
    "### Multivariate Purchase Analysis\n",
    " - Sales by gender, country, and device (x-axis)\n",
    " - Sale Counts by country, kpu, and gender (x-axis)\n",
    " - Proportion of sales by product (y-axis) and country and gender (x-axis)"
   ]
  },
  {
   "cell_type": "code",
   "execution_count": null,
   "metadata": {},
   "outputs": [],
   "source": [
    "# Sales by gender, country, and device\n",
    "g = sns.catplot(x=\"device\", y=\"price\",\n",
    "                hue=\"gender\", col=\"country\",\n",
    "                data=customer_purchases, kind=\"box\",\n",
    "                height=6, aspect=.5, medianprops={'color':'red', 'linewidth': 2.5});\n",
    "sns.set(rc={'figure.figsize':(15,20)})\n",
    "plt.rcParams.update({'font.size': 14})\n",
    "plt.savefig(\"static/images/plot_catplot_customer_purchases_country_price_gender.png\", bbox_inches='tight')\n",
    "plt.show()"
   ]
  },
  {
   "cell_type": "code",
   "execution_count": null,
   "metadata": {},
   "outputs": [],
   "source": [
    "g = sns.catplot(x=\"gender\",\n",
    "                hue=\"sku\", col=\"country\",\n",
    "                data=customer_purchases, kind=\"count\",\n",
    "                height=6, aspect=.5)\n",
    "sns.set(rc={'figure.figsize':(10,20)})\n",
    "plt.savefig(\"static/images/plot_catplot_gender_sku_country_price.png\", bbox_inches='tight')\n",
    "plt.show()"
   ]
  },
  {
   "cell_type": "code",
   "execution_count": null,
   "metadata": {},
   "outputs": [],
   "source": [
    "# Use the pivot_table method to plot the mix of products purchased by country and by gender\n",
    "sku_counts_by_gender_country = pd.pivot_table(customer_purchases, values='price', index=['country', 'gender'], columns=['sku'], aggfunc='count')\n",
    "# Counts as a Proportion\n",
    "sku_proportion_by_gender_country = sku_counts_by_gender_country.div(sku_counts_by_gender_country.sum(axis=1), axis=0)"
   ]
  },
  {
   "cell_type": "code",
   "execution_count": null,
   "metadata": {},
   "outputs": [],
   "source": [
    "ax = sku_proportion_by_gender_country.plot.bar(stacked=True, figsize=(15,10))\n",
    "plt.ylabel(\"Proportion\")\n",
    "plt.xlabel(\"Country and Gender\")\n",
    "plt.title(\"Proportion of SKU purchases by Country and Gender\")\n",
    "plt.legend(loc='upper right', bbox_to_anchor=(1.18, 1), ncol=1)\n",
    "plt.savefig(\"static/images/plot_stacked_bar_sku_purchases_country_price_gender.png\", bbox_inches='tight')\n",
    "plt.show()"
   ]
  },
  {
   "cell_type": "markdown",
   "metadata": {},
   "source": [
    "# Examine baseline KPI  \"purchases\" using groupby\n",
    " - dataset: customer_purchases\n",
    " - sort values by price, then groupby, and then review summary\n",
    "#### Evaluate the purchasing behaviors by country and speficially:\n",
    " - total transactions in this period\n",
    " - the sum of these transactions\n",
    " - the mean purchase by country\n",
    " - the median purchase by country\n",
    " - the standard deviation by country\n",
    " - the min purchase made (dollars)\n",
    " - the max purchase made (dollars)\n",
    " - the mean, and median age of purchases\n",
    " - the youngest and oldest customer"
   ]
  },
  {
   "cell_type": "code",
   "execution_count": null,
   "metadata": {},
   "outputs": [],
   "source": [
    "# Group data by country\n",
    "country_device_subset = customer_purchases.groupby(by=['country'], axis=0, as_index=False)"
   ]
  },
  {
   "cell_type": "code",
   "execution_count": null,
   "metadata": {},
   "outputs": [],
   "source": [
    "sku_purchases = customer_purchases.groupby('sku')['price'].agg({'price': 'max', 'count' : 'count'})\n",
    "sku_purchases"
   ]
  },
  {
   "cell_type": "code",
   "execution_count": null,
   "metadata": {},
   "outputs": [],
   "source": [
    "# Create a dictionary that will be used to aggregate the groupby object\n",
    "func_dic = {'price': ['count', 'sum', 'mean', 'median', 'std'], \n",
    "            'age': ['mean','median', 'std', 'min', 'max']}\n",
    "# Apply the dictionary, reset the index, assign to a new variable, and sort values by \n",
    "# the multi-level index using a tuple\n",
    "grouped = country_device_subset.agg(func_dic).reset_index(drop=True)\n",
    "# Drop index name from column\n",
    "grouped.columns = grouped.columns.droplevel(0)\n",
    "grouped.columns = [\"Country\", \"Nbr Purchases\", \"Purchase Sum\", \"Mean Purchase Price\", \"Median Purchase Price\", \"Purchase Price std\", 'Mean Age', 'Median Age', 'Age Std', 'Min Age', 'Max Age']\n",
    "grouped.sort_values('Nbr Purchases', ascending=False).style.hide_index()"
   ]
  },
  {
   "cell_type": "markdown",
   "metadata": {},
   "source": [
    "### Summary of results\n",
    " - USA had the highest number of purchases in terms of counts, and sum, made lots of smaller purchases (how can we get them to buy higher priced products?)\n",
    " - Brazil was the 2nd highest country with transaction counts although Brazil had higher mean purchases than US customers (some of these purchases were higher priced products)\n",
    " - Turkey had the highest mean purchases (they had fewer transactions, but spent more per transaction)\n",
    " - Canada has the lowest customer purchases in counts, sum, mean, median\n",
    " \n",
    "Customer Age Demographics\n",
    " - USA had the oldest mean age customers\n",
    " - Brazil had the oldest median age\n",
    " - Germany had the youngest mean and median customers"
   ]
  },
  {
   "cell_type": "markdown",
   "metadata": {},
   "source": [
    "# Examine KPI \"conversion rate\" a week after registering\n",
    " - dataset: need to create a dataframe that has subscription data"
   ]
  },
  {
   "cell_type": "code",
   "execution_count": null,
   "metadata": {},
   "outputs": [],
   "source": [
    "current_date = pd.to_datetime('2018-03-17')"
   ]
  },
  {
   "cell_type": "code",
   "execution_count": null,
   "metadata": {
    "scrolled": true
   },
   "outputs": [],
   "source": [
    "# Create cutoff date\n",
    "week1_cutoff = current_date - timedelta(days=7)\n",
    "week2_cutoff = current_date - timedelta(days=14)\n",
    "print(week1_cutoff, week2_cutoff)"
   ]
  },
  {
   "cell_type": "markdown",
   "metadata": {},
   "source": [
    "### Function to calculate the conversion rate for either the 1st week or 2nd week"
   ]
  },
  {
   "cell_type": "code",
   "execution_count": null,
   "metadata": {},
   "outputs": [],
   "source": [
    "def cal_conversion(time_frame, purchase_period, cutoff):\n",
    "    # Restrict users whose 7 day free trial lapsed  \n",
    "    users = customer_purchases[(customer_purchases[time_frame] <= cutoff)]\n",
    "    # Restrict users whose 7 day free trial 'lapsed' (ended)\n",
    "    # before 2018-03-10 and made a purchase before their their free trial ended\n",
    "    paying_users = customer_purchases[(customer_purchases[time_frame] <= cutoff) \n",
    "                                                     & (customer_purchases[purchase_period] == 1)]\n",
    "    # The total count of users in this period\n",
    "    total_users = len(users[\"uid\"].unique())\n",
    "    # The total count of users that paid in this period\n",
    "    total_paying_users = len(paying_users[\"uid\"].unique())\n",
    "    \n",
    "    # The ratio of users that paid in this period\n",
    "    conversion_rate = total_paying_users/total_users\n",
    "    \n",
    "    return round(conversion_rate, 3)"
   ]
  },
  {
   "cell_type": "code",
   "execution_count": null,
   "metadata": {},
   "outputs": [],
   "source": [
    "week1 = cal_conversion('week1_lapse_date', \"purchase_dur_week1\", week1_cutoff)\n",
    "week2 = cal_conversion('week2_lapse_date', \"purchase_dur_week2\", week2_cutoff)\n",
    "print(week1, week2)"
   ]
  },
  {
   "cell_type": "code",
   "execution_count": null,
   "metadata": {},
   "outputs": [],
   "source": [
    "def cal_conversion_cohort(time_frame, cutoff, demo, instance, purchase_period):\n",
    "    period = customer_purchases[(customer_purchases[time_frame] <= cutoff)]\n",
    "    \n",
    "    # Filter by demographic     \n",
    "    demographic_df = period.loc[period[demo] == instance]\n",
    "    \n",
    "    # Total number of users in period\n",
    "    total_unique_users = len(demographic_df[\"uid\"].unique())\n",
    "\n",
    "    # All purchases made by this demographic in this period\n",
    "    total_purchases = demographic_df.loc[demographic_df[purchase_period] == 1]\n",
    "    \n",
    "    # The number of paying users in this period\n",
    "    total_purchasing_unique_users = len(total_purchases[\"uid\"].unique())\n",
    "    \n",
    "    demo_conversion_rate = total_purchasing_unique_users/total_unique_users\n",
    "    \n",
    "    return round(demo_conversion_rate, 3)"
   ]
  },
  {
   "cell_type": "code",
   "execution_count": null,
   "metadata": {},
   "outputs": [],
   "source": [
    "# Gender converstion rate\n",
    "male_week1 = cal_conversion_cohort('week1_lapse_date', week1_cutoff, 'gender', 'M', 'purchase_dur_week1')\n",
    "female_week1 = cal_conversion_cohort('week1_lapse_date', week1_cutoff, 'gender', 'F', 'purchase_dur_week1')\n",
    "male_week2 = cal_conversion_cohort('week2_lapse_date', week2_cutoff, 'gender', 'M', 'purchase_dur_week2')\n",
    "female_week2 = cal_conversion_cohort('week2_lapse_date', week2_cutoff, 'gender', 'F', 'purchase_dur_week2')\n",
    "print(male_week1, female_week1, male_week2, female_week2)"
   ]
  },
  {
   "cell_type": "code",
   "execution_count": null,
   "metadata": {},
   "outputs": [],
   "source": [
    "android_week1 = cal_conversion_cohort('week1_lapse_date', week1_cutoff, 'device', 'android', 'purchase_dur_week1')\n",
    "iOS_week1 = cal_conversion_cohort('week1_lapse_date', week1_cutoff, 'device', 'iOS', 'purchase_dur_week1')\n",
    "android_week2 = cal_conversion_cohort('week2_lapse_date', week2_cutoff, 'device', 'android', 'purchase_dur_week2')\n",
    "iOS_week2 = cal_conversion_cohort('week2_lapse_date', week2_cutoff, 'device', 'iOS', 'purchase_dur_week2')\n",
    "print(android_week1, iOS_week1, android_week2, iOS_week2)"
   ]
  },
  {
   "cell_type": "code",
   "execution_count": null,
   "metadata": {},
   "outputs": [],
   "source": [
    "def cal_conversion_multi_cohort(time_frame, cutoff, demo1, instance1, demo2, instance2, purchase_period):\n",
    "    period = customer_purchases[(customer_purchases[time_frame] <= cutoff)]\n",
    "    \n",
    "    # Filter by demographic     \n",
    "    demographic_df = period.loc[(period[demo1] == instance1) & (period[demo2] == instance2)]\n",
    "    \n",
    "    # Total number of users in period\n",
    "    total_unique_users = len(demographic_df[\"uid\"].unique())\n",
    "\n",
    "    # All purchases made by this demographic in this period\n",
    "    total_purchases = demographic_df.loc[demographic_df[purchase_period] == 1]\n",
    "    \n",
    "    # The number of paying users in this period\n",
    "    total_purchasing_unique_users = len(total_purchases[\"uid\"].unique())\n",
    "    \n",
    "    demo_conversion_rate = total_purchasing_unique_users/total_unique_users\n",
    "    \n",
    "    return round(demo_conversion_rate, 3)"
   ]
  },
  {
   "cell_type": "code",
   "execution_count": null,
   "metadata": {},
   "outputs": [],
   "source": [
    "m_wk1_a = cal_conversion_multi_cohort('week1_lapse_date', week1_cutoff, 'device', 'android', 'gender', 'M', 'purchase_dur_week1')\n",
    "m_wk2_a = cal_conversion_multi_cohort('week2_lapse_date', week2_cutoff, 'device', 'android', 'gender', 'M', 'purchase_dur_week2')\n",
    "f_wk1_a = cal_conversion_multi_cohort('week1_lapse_date', week1_cutoff, 'device', 'android', 'gender', 'F', 'purchase_dur_week1')\n",
    "f_wk2_a = cal_conversion_multi_cohort('week2_lapse_date', week2_cutoff, 'device', 'android', 'gender', 'F', 'purchase_dur_week2')\n",
    "print(m_wk1_a, m_wk2_a, f_wk1_a, f_wk2_a)"
   ]
  },
  {
   "cell_type": "code",
   "execution_count": null,
   "metadata": {},
   "outputs": [],
   "source": [
    "m_wk1_iOS = cal_conversion_multi_cohort('week1_lapse_date', week1_cutoff, 'device', 'iOS', 'gender', 'M', 'purchase_dur_week1')\n",
    "m_wk2_iOS = cal_conversion_multi_cohort('week2_lapse_date', week2_cutoff, 'device', 'iOS', 'gender', 'M', 'purchase_dur_week2')\n",
    "f_wk1_iOS = cal_conversion_multi_cohort('week1_lapse_date', week1_cutoff, 'device', 'iOS', 'gender', 'F', 'purchase_dur_week1')\n",
    "f_wk2_iOS = cal_conversion_multi_cohort('week2_lapse_date', week2_cutoff, 'device', 'iOS', 'gender', 'F', 'purchase_dur_week2')\n",
    "print(m_wk1_iOS, m_wk2_iOS, f_wk1_iOS, f_wk2_iOS)"
   ]
  },
  {
   "cell_type": "markdown",
   "metadata": {},
   "source": [
    "### KPI: the average amount paid per purchase within a user's first 28 days\n",
    " - customer_purchases\n",
    " - this KPI can provide a sense of the popularity of different in-app purchase price points to users within their first month."
   ]
  },
  {
   "cell_type": "code",
   "execution_count": null,
   "metadata": {},
   "outputs": [],
   "source": [
    "max_purchase_date = current_date - timedelta(days=28)"
   ]
  },
  {
   "cell_type": "code",
   "execution_count": null,
   "metadata": {},
   "outputs": [],
   "source": [
    "# Filter to only include users who registered before our max date\n",
    "purchase_data_filt = customer_purchases[customer_purchases['registration_date'] < max_purchase_date]"
   ]
  },
  {
   "cell_type": "code",
   "execution_count": null,
   "metadata": {},
   "outputs": [],
   "source": [
    "# Filter to contain only purchases within the first 28 days of \n",
    "# registration\n",
    "purchase_data_filt = purchase_data_filt[(purchase_data_filt['purchase_date'] <=\n",
    "                                         purchase_data_filt['registration_date'] + \n",
    "                                         timedelta(days=28))]"
   ]
  },
  {
   "cell_type": "code",
   "execution_count": null,
   "metadata": {},
   "outputs": [],
   "source": [
    "# Output the mean price paid per purchase\n",
    "print(purchase_data_filt.price.mean())"
   ]
  },
  {
   "cell_type": "markdown",
   "metadata": {},
   "source": [
    "Interesting! Since our average price is 414 cents which is below $4.99 it seems that our purchasers tend towards the lower priced set of options."
   ]
  },
  {
   "cell_type": "markdown",
   "metadata": {},
   "source": [
    "### Average purchase price by cohort"
   ]
  },
  {
   "cell_type": "code",
   "execution_count": null,
   "metadata": {},
   "outputs": [],
   "source": [
    "# Set the max registration date to be one month before today\n",
    "max_reg_date = current_date - timedelta(days=28)"
   ]
  },
  {
   "cell_type": "code",
   "execution_count": null,
   "metadata": {},
   "outputs": [],
   "source": [
    "# Find the month 1 values:\n",
    "month1 = np.where((customer_purchases.registration_date < max_reg_date) &\n",
    "                    (customer_purchases.purchase_date < customer_purchases.registration_date + timedelta(days=28)),\n",
    "                  customer_purchases.price, \n",
    "                  np.NaN)"
   ]
  },
  {
   "cell_type": "code",
   "execution_count": null,
   "metadata": {},
   "outputs": [],
   "source": [
    "# Update the value in the DataFrame\n",
    "customer_purchases['month1'] = month1"
   ]
  },
  {
   "cell_type": "code",
   "execution_count": null,
   "metadata": {},
   "outputs": [],
   "source": [
    "# Group the data by gender and device \n",
    "purchase_data_upd = customer_purchases.groupby(by=['gender', 'device'], as_index=False)"
   ]
  },
  {
   "cell_type": "code",
   "execution_count": null,
   "metadata": {},
   "outputs": [],
   "source": [
    "# Aggregate the month1 and price data \n",
    "purchase_summary = purchase_data_upd.agg(\n",
    "                        {'month1': ['mean', 'median', 'std'],\n",
    "                        'price': ['mean', 'median','std']})"
   ]
  },
  {
   "cell_type": "code",
   "execution_count": null,
   "metadata": {},
   "outputs": [],
   "source": [
    "# Remove tuple in column header\n",
    "purchase_summary.columns = purchase_summary.columns.droplevel(0)"
   ]
  },
  {
   "cell_type": "code",
   "execution_count": null,
   "metadata": {},
   "outputs": [],
   "source": [
    "purchase_summary"
   ]
  },
  {
   "cell_type": "markdown",
   "metadata": {},
   "source": [
    "Great! This value seems relatively stable over the past 28 days. Congratulations on completing Chapter 1! In the next chapter, you'll explore and visualize customer behavior in more detail."
   ]
  },
  {
   "cell_type": "markdown",
   "metadata": {},
   "source": [
    "### Analysis of sales over time\n",
    " - Overview\n",
    " - Cohorts"
   ]
  },
  {
   "cell_type": "code",
   "execution_count": null,
   "metadata": {},
   "outputs": [],
   "source": [
    "# Group the data and aggregate first_week_purchases\n",
    "user_purchases = customer_purchases.groupby(by=['registration_date', 'uid']).agg({'purchase_dur_week1': ['sum']})"
   ]
  },
  {
   "cell_type": "code",
   "execution_count": null,
   "metadata": {},
   "outputs": [],
   "source": [
    "# Reset the indexes\n",
    "user_purchases.columns = user_purchases.columns.droplevel(level=1)\n",
    "user_purchases.reset_index(inplace=True)\n",
    "\n",
    "# Find the average number of purchases per day by first-week users\n",
    "user_purchases = user_purchases.groupby(by=['registration_date']).agg({'purchase_dur_week1': ['mean']})\n",
    "user_purchases.columns = user_purchases.columns.droplevel(level=1)\n",
    "user_purchases.reset_index(inplace=True)\n",
    "# Add 1st week lapse period\n",
    "user_purchases[\"week1_lapse_date\"] = user_purchases['registration_date'] + timedelta(days=7)"
   ]
  },
  {
   "cell_type": "code",
   "execution_count": null,
   "metadata": {},
   "outputs": [],
   "source": [
    "# Plot the emw mean of 1st week purchases for the entire dataset\n",
    "plt.figure(figsize=(8,8))\n",
    "plt.plot(user_purchases['registration_date'],user_purchases['purchase_dur_week1'].ewm(span=100).mean())\n",
    "plt.xticks(rotation=90)\n",
    "plt.ylabel(\"First Week Exponential Weighted Moving Mean Purchases\")\n",
    "plt.savefig(\"static/images/plot_first_wk_purchases_ewm.png\", bbox_inches='tight')\n",
    "plt.show()"
   ]
  },
  {
   "cell_type": "code",
   "execution_count": null,
   "metadata": {},
   "outputs": [],
   "source": [
    "### Plot the results\n",
    "upp = user_purchases.plot(figsize=(8,8), x='registration_date', y='purchase_dur_week1')\n",
    "upp.plot()\n",
    "plt.ylabel(\"Average First Week Purchases\")\n",
    "plt.xlabel(\"Registration Dates\")\n",
    "plt.savefig(\"static/images/plot_first_wk_purchases_timeseries.png\", bbox_inches='tight')\n",
    "plt.show()"
   ]
  },
  {
   "cell_type": "markdown",
   "metadata": {},
   "source": [
    "### Review first week purchase rate by country"
   ]
  },
  {
   "cell_type": "code",
   "execution_count": null,
   "metadata": {},
   "outputs": [],
   "source": [
    "# Create a groupby df for country, registration dates, and purchase summaries\n",
    "user_purchases_country = customer_purchases.groupby(by=['registration_date','country'], as_index=False)['purchase_dur_week1'].agg('mean')\n",
    "# Replace all na with 0\n",
    "user_purchases_country['purchase_dur_week1'].fillna(0, inplace=True)"
   ]
  },
  {
   "cell_type": "code",
   "execution_count": null,
   "metadata": {
    "scrolled": true
   },
   "outputs": [],
   "source": [
    "# Pivot the data\n",
    "country_pivot = pd.pivot_table(user_purchases_country, values=['purchase_dur_week1'], columns=['country'], index=['registration_date'])"
   ]
  },
  {
   "cell_type": "markdown",
   "metadata": {},
   "source": [
    "### Plot first week purchases by country summary"
   ]
  },
  {
   "cell_type": "code",
   "execution_count": null,
   "metadata": {},
   "outputs": [],
   "source": [
    "# Plot the average first week purchases for each country by registration date\n",
    "country_pivot.plot(figsize=(15,20), subplots=True, layout=(3, 2), sharex=False, sharey=False)\n",
    "plt.suptitle(\"Average Purchases within 1st Week of Subscription\", fontsize=16, y=1.01)\n",
    "plt.ylabel(\"Average First Week Purchases\")\n",
    "plt.xlabel(\"Registration Dates\")\n",
    "plt.tight_layout()\n",
    "plt.savefig(\"static/images/plot_first_wk_purchases_by_country.png\", bbox_inches='tight')\n",
    "plt.show()"
   ]
  },
  {
   "cell_type": "markdown",
   "metadata": {},
   "source": [
    "Brazil and USA have high recent purchases"
   ]
  },
  {
   "cell_type": "markdown",
   "metadata": {},
   "source": [
    "### Review first week purchase rate by device"
   ]
  },
  {
   "cell_type": "code",
   "execution_count": null,
   "metadata": {},
   "outputs": [],
   "source": [
    "# Create a groupby df for country, registration dates, and purchase summaries\n",
    "user_purchases_device = customer_purchases.groupby(by=['registration_date','device'], as_index=False)['purchase_dur_week1'].agg('mean')\n",
    "# Replace all na with 0\n",
    "user_purchases_device['purchase_dur_week1'].fillna(0, inplace=True)"
   ]
  },
  {
   "cell_type": "code",
   "execution_count": null,
   "metadata": {},
   "outputs": [],
   "source": [
    "# Pivot the data\n",
    "device_pivot = pd.pivot_table(user_purchases_device, values=['purchase_dur_week1'], columns=['device'], index=['registration_date'])"
   ]
  },
  {
   "cell_type": "code",
   "execution_count": null,
   "metadata": {},
   "outputs": [],
   "source": [
    "# Remove tuple in column header\n",
    "device_pivot.columns = device_pivot.columns.droplevel(0)"
   ]
  },
  {
   "cell_type": "code",
   "execution_count": null,
   "metadata": {},
   "outputs": [],
   "source": [
    "fig, ax = plt.subplots(figsize=(16,9), nrows=2, ncols=1, sharex=False)\n",
    "device_pivot['android'].plot(kind='line', legend=True, ax=ax[0], color='blue')\n",
    "ax[0].set_ylabel('Average First Week Purchases', fontsize=14)\n",
    "ax[0].set_title('Average Purchases in First Week by Device', color='black', fontsize=18)\n",
    "ax[0].tick_params(axis='both', which='both', labelsize=14)\n",
    "ax[0].set_xlabel('Dates', fontsize=14)\n",
    "leg = ax[0].legend()\n",
    "for text in leg.get_texts():\n",
    "    plt.setp(text, color = 'black')\n",
    "\n",
    "device_pivot['iOS'].plot(kind='line', legend=True, ax=ax[1], color='darkorange')\n",
    "ax[1].set_ylabel('Average First Week Purchases', fontsize=14)\n",
    "ax[1].tick_params(axis='both', which='both', labelsize=14)\n",
    "ax[1].set_xlabel('Dates', fontsize=14)\n",
    "leg = ax[1].legend()\n",
    "for text in leg.get_texts():\n",
    "    plt.setp(text, color = 'black')\n",
    "\n",
    "fig.tight_layout()\n",
    "\n",
    "plt.savefig(\"static/images/plot_first_wk_purchases_by_device.png\", bbox_inches='tight')\n",
    "plt.show()"
   ]
  },
  {
   "cell_type": "markdown",
   "metadata": {},
   "source": [
    "# Revenue\n",
    " - Review the revenue data for this app\n",
    " - dataset: revenue"
   ]
  },
  {
   "cell_type": "markdown",
   "metadata": {},
   "source": [
    "### Clean data"
   ]
  },
  {
   "cell_type": "code",
   "execution_count": null,
   "metadata": {},
   "outputs": [],
   "source": [
    "sku_dict = {'sku_eight_2099': 'sku_$0.99',\n",
    "            'sku_five_899':'sku_$8.99',\n",
    "            'sku_four_599':'sku_$5.99',\n",
    "            'sku_one_199' :'sku_$1.99',\n",
    "            'sku_seven_1499':'sku_$4.99',\n",
    "            'sku_six_1299':'sku_$2.99', \n",
    "            'sku_three_499':'sku_$4.99',\n",
    "            'sku_two_299':'sku_$2.99'}\n",
    "# Rename values in the column\n",
    "revenue['sku'].replace(sku_dict, inplace= True)"
   ]
  },
  {
   "cell_type": "code",
   "execution_count": null,
   "metadata": {},
   "outputs": [],
   "source": [
    "# Convert price to currency format (without the $ sign as this would change it to a string object)\n",
    "revenue['price'] = revenue['price'].apply(lambda x: '{:.2f}'.format((x/100)))"
   ]
  },
  {
   "cell_type": "code",
   "execution_count": null,
   "metadata": {},
   "outputs": [],
   "source": [
    "# Convert price to float\n",
    "revenue['price'] = revenue['price'].astype('float')"
   ]
  },
  {
   "cell_type": "code",
   "execution_count": null,
   "metadata": {},
   "outputs": [],
   "source": [
    "# Change date columns from objects to datetime\n",
    "revenue['date'] = revenue['date'].astype('datetime64[ns]')"
   ]
  },
  {
   "cell_type": "code",
   "execution_count": null,
   "metadata": {},
   "outputs": [],
   "source": [
    "# Group by daily purchases and aggregate (sum)\n",
    "daily_revenue = revenue.groupby('date')['price'].agg('sum')\n",
    "# Convert this groupby object into a dataframe\n",
    "daily_revenue_df = daily_revenue.to_frame()\n",
    "# Reset the date index into a column\n",
    "daily_revenue_df = daily_revenue_df.reset_index()"
   ]
  },
  {
   "cell_type": "code",
   "execution_count": null,
   "metadata": {},
   "outputs": [],
   "source": [
    "# Rename price to revenue\n",
    "daily_revenue_df = daily_revenue_df.rename(columns={'price':'revenue'})"
   ]
  },
  {
   "cell_type": "code",
   "execution_count": null,
   "metadata": {},
   "outputs": [],
   "source": [
    "# Compute 7_day_rev\n",
    "daily_revenue_df['7_day_rev'] = daily_revenue_df.revenue.rolling(window=7,center=False).mean()\n",
    "\n",
    "# Compute 28_day_rev\n",
    "daily_revenue_df['28_day_rev'] = daily_revenue_df.revenue.rolling(window=28,center=False).mean()\n",
    "    \n",
    "# Compute 365_day_rev\n",
    "daily_revenue_df['365_day_rev'] = daily_revenue_df.revenue.rolling(window=365,center=False).mean()"
   ]
  },
  {
   "cell_type": "code",
   "execution_count": null,
   "metadata": {},
   "outputs": [],
   "source": [
    "# Repalce na with 0\n",
    "daily_revenue_df = daily_revenue_df.fillna(0)"
   ]
  },
  {
   "cell_type": "code",
   "execution_count": null,
   "metadata": {},
   "outputs": [],
   "source": [
    "# Plot date, and revenue, along with the 3 rolling functions (in order)   \n",
    "# daily_revenue_df.plot(x='date', y=['revenue', '7_day_rev', '28_day_rev', '365_day_rev', ])\n",
    "\n",
    "daily_revenue_df.plot(x='date', y=['28_day_rev'], figsize=(8,8))\n",
    "plt.rcParams.update({'font.size': 28})\n",
    "plt.xlabel('Dates')\n",
    "plt.ylabel('Rolling Average')\n",
    "plt.title('Rolling 28 day Average for Revenue', color='black')\n",
    "plt.savefig(\"static/images/plot_rolling_revenue.png\", bbox_inches='tight')\n",
    "plt.show()"
   ]
  },
  {
   "cell_type": "markdown",
   "metadata": {},
   "source": [
    "Revenue is growing for the business!"
   ]
  },
  {
   "cell_type": "markdown",
   "metadata": {},
   "source": [
    "### Revenue for a specific product"
   ]
  },
  {
   "cell_type": "markdown",
   "metadata": {},
   "source": [
    "### SKU product earnings"
   ]
  },
  {
   "cell_type": "markdown",
   "metadata": {},
   "source": [
    "### Determine which products (SKU) are the top and bottom earners"
   ]
  },
  {
   "cell_type": "code",
   "execution_count": null,
   "metadata": {},
   "outputs": [],
   "source": [
    "revenue.groupby('sku')['price'].agg(['count','sum','mean'])"
   ]
  },
  {
   "cell_type": "code",
   "execution_count": null,
   "metadata": {},
   "outputs": [],
   "source": [
    "# Use groupby to aggregate and calculate the sum by sku\n",
    "sku_revenue = revenue.groupby('sku')['price'].agg(['count','sum','mean'])\n",
    "sku_revenue = sku_revenue.rename(columns={'count':'Volume', 'sum':'Total Revenue', 'mean':'Average Revenue'})"
   ]
  },
  {
   "cell_type": "code",
   "execution_count": null,
   "metadata": {},
   "outputs": [],
   "source": [
    "sku_revenue.sort_values(by=['Total Revenue'], ascending=False)"
   ]
  },
  {
   "cell_type": "markdown",
   "metadata": {},
   "source": [
    "The highest volume product is sku_two_299\n",
    "The highest earning product in revenue is sku_four_599\n",
    "The highest selling product by average is sku_five_899"
   ]
  },
  {
   "cell_type": "markdown",
   "metadata": {},
   "source": [
    "### Transform revenue data for plotting data"
   ]
  },
  {
   "cell_type": "code",
   "execution_count": null,
   "metadata": {},
   "outputs": [],
   "source": [
    "sku_rev_pivot = pd.pivot_table(revenue, values=['price'], columns=['sku'], index=['date'])\n",
    "sku_rev_pivot = sku_rev_pivot.fillna(0)"
   ]
  },
  {
   "cell_type": "markdown",
   "metadata": {},
   "source": [
    "### Visualize the ewm for each product sku"
   ]
  },
  {
   "cell_type": "code",
   "execution_count": null,
   "metadata": {},
   "outputs": [],
   "source": [
    "# Get a list of the columns from the pandas pivot table\n",
    "sku_array = np.asarray(sku_rev_pivot.columns.tolist())"
   ]
  },
  {
   "cell_type": "code",
   "execution_count": null,
   "metadata": {},
   "outputs": [],
   "source": [
    "# Test function\n",
    "fig = plt.figure(figsize=(35,30))\n",
    "fig.subplots_adjust(hspace=1, wspace=0.2)\n",
    "for sku, num in zip(sku_array, range(1,6)):\n",
    "    to_df = sku_rev_pivot['price'][sku[1]].to_frame().reset_index()\n",
    "    to_df.columns=['date','revenue']\n",
    "    to_df['medium_scale'] = to_df.revenue.ewm(span=100).mean()\n",
    "    ax = fig.add_subplot(2,3, num)\n",
    "    ax.plot(to_df['date'], to_df['medium_scale'], label=f'revenue for + {sku[1].capitalize()}')\n",
    "    ax.legend()\n",
    "\n",
    "    ax.set_title(sku[1].capitalize())\n",
    "    \n",
    "plt.tight_layout()\n",
    "plt.savefig(\"static/images/plot_all_sku_ewm_revenue.png\", bbox_inches='tight')\n",
    "plt.show()"
   ]
  },
  {
   "cell_type": "markdown",
   "metadata": {},
   "source": [
    "All products seem to increase in revenue with some sku driving growth"
   ]
  },
  {
   "cell_type": "markdown",
   "metadata": {},
   "source": [
    "### Revenue by gender and device"
   ]
  },
  {
   "cell_type": "markdown",
   "metadata": {},
   "source": [
    "### First Subset: <font color=\"red\">user_revenue</font> revenue and customers merged using .merge()"
   ]
  },
  {
   "cell_type": "code",
   "execution_count": null,
   "metadata": {},
   "outputs": [],
   "source": [
    "# Merge on the 'uid'\n",
    "user_revenue = revenue.merge(customers, on=['uid'], how='inner')"
   ]
  },
  {
   "cell_type": "code",
   "execution_count": null,
   "metadata": {},
   "outputs": [],
   "source": [
    "# Clean up data\n",
    "user_revenue['sku'] = user_revenue['sku'].astype('category')"
   ]
  },
  {
   "cell_type": "code",
   "execution_count": null,
   "metadata": {},
   "outputs": [],
   "source": [
    "# Rename columns\n",
    "user_revenue = user_revenue.rename(columns={'date_x' : 'revenue_date', 'date_y' : \"registration_date\", \"price\":\"revenue\"})"
   ]
  },
  {
   "cell_type": "code",
   "execution_count": null,
   "metadata": {},
   "outputs": [],
   "source": [
    "# Rearrange columns\n",
    "user_revenue = user_revenue[['registration_date', 'device',\n",
    "       'gender', 'country', 'age', 'revenue_date', 'uid', 'sku', 'revenue', ]]"
   ]
  },
  {
   "cell_type": "markdown",
   "metadata": {},
   "source": [
    "## Visualize the monthly revenue for one of the updated products and evaluate the results using emw()"
   ]
  },
  {
   "cell_type": "markdown",
   "metadata": {},
   "source": [
    "### Prepare data for visualization"
   ]
  },
  {
   "cell_type": "code",
   "execution_count": null,
   "metadata": {},
   "outputs": [],
   "source": [
    "# Make a list of product skus\n",
    "sku_array = np.asarray(user_revenue[\"sku\"].unique().tolist())"
   ]
  },
  {
   "cell_type": "code",
   "execution_count": null,
   "metadata": {},
   "outputs": [],
   "source": [
    "# Test function\n",
    "fig = plt.figure(figsize=(35,30))\n",
    "fig.subplots_adjust(hspace=1, wspace=0.2)\n",
    "for sku, num in zip(sku_array, range(1,9)):\n",
    "    # Subset data by sku\n",
    "    sku_df = user_revenue.loc[user_revenue['sku'] == sku]\n",
    "    grouped_sku_df = sku_df.groupby(['registration_date', 'device', 'gender'])['revenue'].sum().fillna(0).to_frame()\n",
    "    # Reset index so that we no longer have a multilevel df\n",
    "    grouped_sku_df.reset_index(inplace=True) \n",
    "    # Groupby month and sum revenue\n",
    "    month_sku_rev = grouped_sku_df.groupby([pd.Grouper(key='registration_date',freq='M'), 'gender', \"device\"]).agg({'revenue':'sum'})\n",
    "    # Reset index so that we no longer have a multilevel df\n",
    "    month_sku_rev.reset_index(inplace=True)\n",
    "    # Pivot user_revenue\n",
    "    pivoted_data = pd.pivot_table(month_sku_rev, values ='revenue', columns=['device', 'gender'], index='registration_date')\n",
    "    pivoted_data = pivoted_data[1:(len(pivoted_data) -1 )]\n",
    "\n",
    "    # Plot data\n",
    "    ax = fig.add_subplot(2,4, num)\n",
    "    ax.plot(pivoted_data.index,pivoted_data[('android', 'F')].ewm(span=100).mean(), label='android, F')\n",
    "    ax.plot(pivoted_data.index,pivoted_data[('android', 'M')].ewm(span=100).mean(), label='android, M')\n",
    "    ax.plot(pivoted_data.index,pivoted_data[('iOS', 'F')].ewm(span=100).mean(), label='iOS, F')\n",
    "    ax.plot(pivoted_data.index,pivoted_data[('iOS', 'M')].ewm(span=100).mean(), label='iOS, M')\n",
    "    ax.legend()\n",
    "    ax.set_title(sku)\n",
    "    \n",
    "plt.tight_layout()\n",
    "plt.savefig(\"static/images/plot_all_sku_device_gender_revenue.png\", bbox_inches='tight')\n",
    "plt.show()"
   ]
  },
  {
   "cell_type": "markdown",
   "metadata": {},
   "source": [
    "Higher proportion of revenue is obtained from android users\n",
    "Revenue from women come from sales of the more affordable sku products\n",
    "Revenue seems to drop after july 2017"
   ]
  },
  {
   "cell_type": "markdown",
   "metadata": {},
   "source": [
    "# A/B Testing\n",
    " - Test change to consumable purchase paywall\n",
    " - Goal: Increase revenue by increasing the purchase rate\n",
    " - Response variable: KPI or directly related to KPI\n",
    " - Factors (the type of variable we are changing) and variants particular changes that will be made)\n",
    " - experimental units: smallest unit you are measuring the change over\n",
    " - calculating experimental units\n",
    " - Paywall view to purchase conversion rate\n",
    " - more informative than overall revenue\n",
    " - directly related to test\n",
    " - experimental unit: paywall views"
   ]
  },
  {
   "cell_type": "markdown",
   "metadata": {},
   "source": [
    "### Experimental units: Revenue per user day\n",
    " - Dataset <font color=\"red\">user_revenue</font>"
   ]
  },
  {
   "cell_type": "code",
   "execution_count": null,
   "metadata": {},
   "outputs": [],
   "source": [
    "user_rev_df = user_revenue.copy()"
   ]
  },
  {
   "cell_type": "code",
   "execution_count": null,
   "metadata": {},
   "outputs": [],
   "source": [
    "# Extract the 'day'; value from the timestamp\n",
    "user_rev_df.revenue_date = user_rev_df.revenue_date.dt.floor('d')"
   ]
  },
  {
   "cell_type": "code",
   "execution_count": null,
   "metadata": {},
   "outputs": [],
   "source": [
    "# Replace the NaN price values with 0 \n",
    "user_rev_df.revenue = np.where(np.isnan(user_rev_df.revenue), 0, user_rev_df.revenue)"
   ]
  },
  {
   "cell_type": "code",
   "execution_count": null,
   "metadata": {},
   "outputs": [],
   "source": [
    "# Aggregate the data by 'uid' & 'revenue_date'\n",
    "purchase_data_agg = user_rev_df.groupby(by=['uid', 'revenue_date'], as_index=False)"
   ]
  },
  {
   "cell_type": "code",
   "execution_count": null,
   "metadata": {},
   "outputs": [],
   "source": [
    "# Sum aggregated data\n",
    "revenue_user_day = purchase_data_agg.sum()"
   ]
  },
  {
   "cell_type": "code",
   "execution_count": null,
   "metadata": {},
   "outputs": [],
   "source": [
    "# Calculate the final average\n",
    "revenue_user_day = revenue_user_day.revenue.mean()"
   ]
  },
  {
   "cell_type": "code",
   "execution_count": null,
   "metadata": {},
   "outputs": [],
   "source": [
    "print(f'The revenue per user-day, with user-day as the experimental unit is: ${round(revenue_user_day, 2)}')"
   ]
  },
  {
   "cell_type": "markdown",
   "metadata": {},
   "source": [
    "### Test Sensitivity\n",
    " - the minimal level of change we want to detect in our test\n",
    " - evaluate various sensitivity"
   ]
  },
  {
   "cell_type": "code",
   "execution_count": null,
   "metadata": {},
   "outputs": [],
   "source": [
    "# Calculate the total revenue per user over the entire dataset\n",
    "total_rev = user_revenue.groupby(by=['uid'], as_index=False).revenue.sum()\n",
    "total_rev.revenue = np.where(np.isnan(total_rev.revenue), 0, total_rev.revenue)"
   ]
  },
  {
   "cell_type": "code",
   "execution_count": null,
   "metadata": {},
   "outputs": [],
   "source": [
    "average_revenue = total_rev.revenue.mean()\n",
    "print(f'The average revenue is: ${round(average_revenue, 2)}')"
   ]
  },
  {
   "cell_type": "code",
   "execution_count": null,
   "metadata": {},
   "outputs": [],
   "source": [
    "# Test \n",
    "def eval_sensitivities(val):\n",
    "    val1 = val * 1.01 #(1% change in revenue)\n",
    "    val2 = val * 1.1 #(10% change in revenue)\n",
    "    val3 = val * 1.2 #(20% change in revenue)\n",
    "    sensitivities=[val1, val2, val3]\n",
    "    return(sensitivities)"
   ]
  },
  {
   "cell_type": "code",
   "execution_count": null,
   "metadata": {
    "scrolled": true
   },
   "outputs": [],
   "source": [
    "eval_sensitivities(average_revenue)"
   ]
  },
  {
   "cell_type": "markdown",
   "metadata": {},
   "source": [
    "#### Variability in revenue"
   ]
  },
  {
   "cell_type": "code",
   "execution_count": null,
   "metadata": {},
   "outputs": [],
   "source": [
    "revenue_variation = total_rev.revenue.std()\n",
    "print(f'The variability of revenue is: ${round(revenue_variation, 2)}')"
   ]
  },
  {
   "cell_type": "markdown",
   "metadata": {},
   "source": [
    "#### Compare revenue variability to revenue mean"
   ]
  },
  {
   "cell_type": "code",
   "execution_count": null,
   "metadata": {},
   "outputs": [],
   "source": [
    "revenue_variation/average_revenue"
   ]
  },
  {
   "cell_type": "markdown",
   "metadata": {},
   "source": [
    "Variation revenue is 70% of the mean"
   ]
  },
  {
   "cell_type": "markdown",
   "metadata": {},
   "source": [
    "#### Variability of purchases per user"
   ]
  },
  {
   "cell_type": "code",
   "execution_count": null,
   "metadata": {},
   "outputs": [],
   "source": [
    "# Calculate the total revenue per user over the entire dataset\n",
    "total_pur = user_revenue.groupby(by=['uid'], as_index=False).revenue.count()\n",
    "total_pur.revenue = np.where(np.isnan(total_pur.revenue), 0, total_pur.revenue)"
   ]
  },
  {
   "cell_type": "code",
   "execution_count": null,
   "metadata": {},
   "outputs": [],
   "source": [
    "average_pur = total_pur.revenue.mean()\n",
    "print(f'The average purchase is: {round(average_pur, 2)}')"
   ]
  },
  {
   "cell_type": "code",
   "execution_count": null,
   "metadata": {},
   "outputs": [],
   "source": [
    "pur_variability = total_pur.revenue.std()\n",
    "print(f'The purchase variability is: {round(pur_variability, 2)}')"
   ]
  },
  {
   "cell_type": "code",
   "execution_count": null,
   "metadata": {},
   "outputs": [],
   "source": [
    "pur_variability/average_pur"
   ]
  },
  {
   "cell_type": "markdown",
   "metadata": {},
   "source": [
    "Variation in purchases is 69% of the mean"
   ]
  }
 ],
 "metadata": {
  "kernelspec": {
   "display_name": "Python 3",
   "language": "python",
   "name": "python3"
  },
  "language_info": {
   "codemirror_mode": {
    "name": "ipython",
    "version": 3
   },
   "file_extension": ".py",
   "mimetype": "text/x-python",
   "name": "python",
   "nbconvert_exporter": "python",
   "pygments_lexer": "ipython3",
   "version": "3.7.6"
  }
 },
 "nbformat": 4,
 "nbformat_minor": 2
}

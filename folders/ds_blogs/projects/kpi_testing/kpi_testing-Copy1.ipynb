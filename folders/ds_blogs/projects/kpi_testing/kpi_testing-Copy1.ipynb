{
 "cells": [
  {
   "cell_type": "markdown",
   "metadata": {},
   "source": [
    "## Import Dependencies"
   ]
  },
  {
   "cell_type": "code",
   "execution_count": 1,
   "metadata": {},
   "outputs": [],
   "source": [
    "# Data Manipulation Libraries: Standard dataframes and array libraries\n",
    "import pandas as pd\n",
    "import numpy as np\n",
    "# from datetime import datetime\n",
    "from datetime import datetime, timedelta\n",
    "\n",
    "# Data Visualization Libraries:\n",
    "import matplotlib.pyplot as plt\n",
    "import seaborn as sns\n",
    "import statsmodels.api as sm\n",
    "\n",
    "# Data analysis\n",
    "from scipy import stats\n",
    "\n",
    "from warnings import simplefilter\n",
    "# ignore all future warnings\n",
    "simplefilter(action='ignore', category=FutureWarning)\n",
    "\n",
    "# Displaying plots in jupter notebook\n",
    "%matplotlib inline\n",
    "# Displaying pandas columns and rows\n",
    "pd.set_option('display.max_rows', None)\n",
    "pd.set_option('display.max_columns', None)"
   ]
  },
  {
   "cell_type": "markdown",
   "metadata": {},
   "source": [
    "### Import data"
   ]
  },
  {
   "cell_type": "code",
   "execution_count": 2,
   "metadata": {},
   "outputs": [],
   "source": [
    "# import data using read_csv() method for \n",
    "# Phase 1: Baseline KPI analysis\n",
    "customers = pd.read_csv(\"static/data/customers.csv\")\n",
    "purchases = pd.read_csv(\"static/data/in_app_purchases.csv\")\n",
    "\n",
    "# Phase 2: A/B testing phase\n",
    "revenue = pd.read_csv(\"static/data/revenue.csv\")\n",
    "paywall_demo = pd.read_csv(\"static/data/user_demographics_paywall.csv\")\n",
    "\n",
    "# Phase 3: A/B testing analyis\n",
    "ab_results = pd.read_csv(\"static/data/ab_testing_results.csv\")"
   ]
  },
  {
   "cell_type": "markdown",
   "metadata": {},
   "source": [
    "## Examine customer and app purchase information\n",
    " - datasets: customers and purchases\n",
    " - determine baseline key peformance index (converstion rates)\n",
    " - develop A/B plan: sample size, power, etc\n",
    " - analyze results\n",
    " - determine if campaign was successful"
   ]
  },
  {
   "cell_type": "markdown",
   "metadata": {},
   "source": [
    "### Data wranging"
   ]
  },
  {
   "cell_type": "markdown",
   "metadata": {},
   "source": [
    "### Change datatypes"
   ]
  },
  {
   "cell_type": "code",
   "execution_count": 3,
   "metadata": {},
   "outputs": [],
   "source": [
    "# Rename column date in the customers df\n",
    "customers.columns = ['date' if x=='reg_date' else x for x in customers.columns]"
   ]
  },
  {
   "cell_type": "code",
   "execution_count": 4,
   "metadata": {},
   "outputs": [],
   "source": [
    "# Convert price to currency format (without the $ sign as this would change it to a string object)\n",
    "purchases['price'] = purchases['price'].apply(lambda x: '{:.2f}'.format((x/100)))\n",
    "purchases['price'] = purchases['price'].astype('float')"
   ]
  },
  {
   "cell_type": "code",
   "execution_count": 5,
   "metadata": {},
   "outputs": [],
   "source": [
    "# Change date columns from objects to datetime\n",
    "purchases['date'] = purchases['date'].astype('datetime64[ns]')\n",
    "customers[\"date\"] = customers[\"date\"].astype('datetime64[ns]')\n",
    "# Convert uid into an int\n",
    "customers['uid'] = customers['uid'].astype(int)"
   ]
  },
  {
   "cell_type": "code",
   "execution_count": 6,
   "metadata": {},
   "outputs": [],
   "source": [
    "# Rename values in the device feature of customers\n",
    "customers['device'].replace({'and':'android'}, inplace= True)\n",
    "\n",
    "# Update country names in the customers df\n",
    "customers['country'].replace({'BRA':'Brazil', 'CAN':'Canada', 'DEU': 'Germany', 'FRA':'France', 'TUR':'Turkey'}, inplace= True)"
   ]
  },
  {
   "cell_type": "code",
   "execution_count": 7,
   "metadata": {},
   "outputs": [],
   "source": [
    "# Change columns where unique values < 10 to category\n",
    "purchases[\"sku\"] = purchases[\"sku\"].astype('category')\n",
    "# Use a .apply() to change multiple columns in the customers df\n",
    "customer_cols = ['device', 'gender', 'country']\n",
    "customers[customer_cols] = customers[customer_cols].apply(lambda x: x.astype('category'))"
   ]
  },
  {
   "cell_type": "markdown",
   "metadata": {},
   "source": [
    "### First Subset: <font color=\"red\">customer_purchases</font> purchases and customers merged using .merge()"
   ]
  },
  {
   "cell_type": "code",
   "execution_count": 8,
   "metadata": {},
   "outputs": [],
   "source": [
    "# Merge on the 'uid'\n",
    "customer_purchases = purchases.merge(customers, on=['uid'], how='inner')"
   ]
  },
  {
   "cell_type": "code",
   "execution_count": 9,
   "metadata": {},
   "outputs": [],
   "source": [
    "# Update column names for clarity\n",
    "customer_purchases.columns = ['purchase_date' if x=='date_x' else x for x in customer_purchases.columns]\n",
    "customer_purchases.columns = ['registration_date' if x=='date_y' else x for x in customer_purchases.columns]"
   ]
  },
  {
   "cell_type": "code",
   "execution_count": 10,
   "metadata": {},
   "outputs": [],
   "source": [
    "# Add a lapse date column: the date that their 7-day free trial ended\n",
    "customer_purchases[\"week1_lapse_date\"] = customer_purchases['registration_date'] + timedelta(days=7)\n",
    "customer_purchases[\"week2_lapse_date\"] = customer_purchases['registration_date'] + timedelta(days=14)"
   ]
  },
  {
   "cell_type": "code",
   "execution_count": 11,
   "metadata": {},
   "outputs": [],
   "source": [
    "# Assign binary numbers to columns if user made a purchase during that period\n",
    "customer_purchases[\"purchase_dur_week1\"] = np.where(customer_purchases['purchase_date'] <= customer_purchases[\"week1_lapse_date\"], 1, 0)\n",
    "customer_purchases[\"purchase_dur_week2\"] = np.where(customer_purchases['purchase_date'] <= customer_purchases[\"week2_lapse_date\"], 1, 0)"
   ]
  },
  {
   "cell_type": "code",
   "execution_count": 12,
   "metadata": {},
   "outputs": [],
   "source": [
    "# Rearrange columns\n",
    "customer_purchases = customer_purchases[['uid','registration_date', 'week1_lapse_date', 'week2_lapse_date',\n",
    "       'purchase_dur_week1', 'purchase_dur_week2', 'gender', 'age','device', 'country', 'purchase_date', 'sku', 'price']]"
   ]
  },
  {
   "cell_type": "code",
   "execution_count": 13,
   "metadata": {},
   "outputs": [
    {
     "name": "stdout",
     "output_type": "stream",
     "text": [
      "The number of observations in the dataset is: 9006\n"
     ]
    }
   ],
   "source": [
    "print(f'The number of observations in the dataset is: {len(customer_purchases)}')"
   ]
  },
  {
   "cell_type": "code",
   "execution_count": 14,
   "metadata": {},
   "outputs": [
    {
     "data": {
      "text/html": [
       "<div>\n",
       "<style scoped>\n",
       "    .dataframe tbody tr th:only-of-type {\n",
       "        vertical-align: middle;\n",
       "    }\n",
       "\n",
       "    .dataframe tbody tr th {\n",
       "        vertical-align: top;\n",
       "    }\n",
       "\n",
       "    .dataframe thead th {\n",
       "        text-align: right;\n",
       "    }\n",
       "</style>\n",
       "<table border=\"1\" class=\"dataframe\">\n",
       "  <thead>\n",
       "    <tr style=\"text-align: right;\">\n",
       "      <th></th>\n",
       "      <th>uid</th>\n",
       "      <th>registration_date</th>\n",
       "      <th>week1_lapse_date</th>\n",
       "      <th>week2_lapse_date</th>\n",
       "      <th>purchase_dur_week1</th>\n",
       "      <th>purchase_dur_week2</th>\n",
       "      <th>gender</th>\n",
       "      <th>age</th>\n",
       "      <th>device</th>\n",
       "      <th>country</th>\n",
       "      <th>purchase_date</th>\n",
       "      <th>sku</th>\n",
       "      <th>price</th>\n",
       "    </tr>\n",
       "  </thead>\n",
       "  <tbody>\n",
       "    <tr>\n",
       "      <th>0</th>\n",
       "      <td>41195147</td>\n",
       "      <td>2017-06-26</td>\n",
       "      <td>2017-07-03</td>\n",
       "      <td>2017-07-10</td>\n",
       "      <td>0</td>\n",
       "      <td>1</td>\n",
       "      <td>M</td>\n",
       "      <td>17</td>\n",
       "      <td>android</td>\n",
       "      <td>Brazil</td>\n",
       "      <td>2017-07-10</td>\n",
       "      <td>sku_three_499</td>\n",
       "      <td>4.99</td>\n",
       "    </tr>\n",
       "    <tr>\n",
       "      <th>1</th>\n",
       "      <td>41195147</td>\n",
       "      <td>2017-06-26</td>\n",
       "      <td>2017-07-03</td>\n",
       "      <td>2017-07-10</td>\n",
       "      <td>0</td>\n",
       "      <td>0</td>\n",
       "      <td>M</td>\n",
       "      <td>17</td>\n",
       "      <td>android</td>\n",
       "      <td>Brazil</td>\n",
       "      <td>2017-07-15</td>\n",
       "      <td>sku_three_499</td>\n",
       "      <td>4.99</td>\n",
       "    </tr>\n",
       "    <tr>\n",
       "      <th>2</th>\n",
       "      <td>41195147</td>\n",
       "      <td>2017-06-26</td>\n",
       "      <td>2017-07-03</td>\n",
       "      <td>2017-07-10</td>\n",
       "      <td>0</td>\n",
       "      <td>0</td>\n",
       "      <td>M</td>\n",
       "      <td>17</td>\n",
       "      <td>android</td>\n",
       "      <td>Brazil</td>\n",
       "      <td>2017-11-12</td>\n",
       "      <td>sku_four_599</td>\n",
       "      <td>5.99</td>\n",
       "    </tr>\n",
       "    <tr>\n",
       "      <th>3</th>\n",
       "      <td>91591874</td>\n",
       "      <td>2017-01-05</td>\n",
       "      <td>2017-01-12</td>\n",
       "      <td>2017-01-19</td>\n",
       "      <td>0</td>\n",
       "      <td>0</td>\n",
       "      <td>M</td>\n",
       "      <td>17</td>\n",
       "      <td>android</td>\n",
       "      <td>Turkey</td>\n",
       "      <td>2017-09-26</td>\n",
       "      <td>sku_two_299</td>\n",
       "      <td>2.99</td>\n",
       "    </tr>\n",
       "    <tr>\n",
       "      <th>4</th>\n",
       "      <td>91591874</td>\n",
       "      <td>2017-01-05</td>\n",
       "      <td>2017-01-12</td>\n",
       "      <td>2017-01-19</td>\n",
       "      <td>0</td>\n",
       "      <td>0</td>\n",
       "      <td>M</td>\n",
       "      <td>17</td>\n",
       "      <td>android</td>\n",
       "      <td>Turkey</td>\n",
       "      <td>2017-12-01</td>\n",
       "      <td>sku_four_599</td>\n",
       "      <td>5.99</td>\n",
       "    </tr>\n",
       "  </tbody>\n",
       "</table>\n",
       "</div>"
      ],
      "text/plain": [
       "        uid registration_date week1_lapse_date week2_lapse_date  \\\n",
       "0  41195147        2017-06-26       2017-07-03       2017-07-10   \n",
       "1  41195147        2017-06-26       2017-07-03       2017-07-10   \n",
       "2  41195147        2017-06-26       2017-07-03       2017-07-10   \n",
       "3  91591874        2017-01-05       2017-01-12       2017-01-19   \n",
       "4  91591874        2017-01-05       2017-01-12       2017-01-19   \n",
       "\n",
       "   purchase_dur_week1  purchase_dur_week2 gender  age   device country  \\\n",
       "0                   0                   1      M   17  android  Brazil   \n",
       "1                   0                   0      M   17  android  Brazil   \n",
       "2                   0                   0      M   17  android  Brazil   \n",
       "3                   0                   0      M   17  android  Turkey   \n",
       "4                   0                   0      M   17  android  Turkey   \n",
       "\n",
       "  purchase_date            sku  price  \n",
       "0    2017-07-10  sku_three_499   4.99  \n",
       "1    2017-07-15  sku_three_499   4.99  \n",
       "2    2017-11-12   sku_four_599   5.99  \n",
       "3    2017-09-26    sku_two_299   2.99  \n",
       "4    2017-12-01   sku_four_599   5.99  "
      ]
     },
     "execution_count": 14,
     "metadata": {},
     "output_type": "execute_result"
    }
   ],
   "source": [
    "customer_purchases.head()"
   ]
  },
  {
   "cell_type": "markdown",
   "metadata": {},
   "source": [
    "## User Demographics\n",
    "\n",
    "### Univariate\n",
    "- Country: Users by country\n",
    "- Age: Users by age\n",
    "- Gender: Gender demographics\n",
    "- Device: Device types used\n",
    "\n",
    "### Multivariate\n",
    "- Age distribution by country\n",
    "- Gender distribution by country\n",
    "- Device distribution by country"
   ]
  },
  {
   "cell_type": "code",
   "execution_count": 36,
   "metadata": {},
   "outputs": [],
   "source": [
    "customer_demo_list = ['country' , 'age', 'gender', 'device']"
   ]
  },
  {
   "cell_type": "code",
   "execution_count": 54,
   "metadata": {},
   "outputs": [
    {
     "data": {
      "image/png": "[encoded data removed]",
      "text/plain": [
       "<Figure size 2520x2160 with 4 Axes>"
      ]
     },
     "metadata": {
      "needs_background": "light"
     },
     "output_type": "display_data"
    }
   ],
   "source": [
    "# Test function\n",
    "fig = plt.figure(figsize=(35,30))\n",
    "fig.subplots_adjust(hspace=1, wspace=0.2)\n",
    "for demo, num in zip(customer_demo_list, range(1,5)):\n",
    "#     ax = fig.add_subplot(2,4, num)\n",
    "    if demo == 'age':\n",
    "        ax = fig.add_subplot(2,2, num)\n",
    "        sns.distplot(customer_purchases[demo], kde=False, ax=ax)\n",
    "#         ax.legend()\n",
    "        ax.set_title(f'Customers by {demo}')\n",
    "    else:\n",
    "        ax = fig.add_subplot(2,2, num)\n",
    "        sns.countplot(x=demo, data=customer_purchases, ax=ax)\n",
    "#         ax.legend()\n",
    "        ax.set_title(f'Customers by {demo}')\n",
    "    \n",
    "plt.tight_layout()\n",
    "plt.savefig(\"static/images/plot_univariate_country_age_gender_device.png\", bbox_inches='tight')\n",
    "plt.show()"
   ]
  },
  {
   "cell_type": "code",
   "execution_count": 16,
   "metadata": {},
   "outputs": [
    {
     "data": {
      "image/png": "[encoded data removed]",
      "text/plain": [
       "<Figure size 1008x720 with 1 Axes>"
      ]
     },
     "metadata": {
      "needs_background": "light"
     },
     "output_type": "display_data"
    }
   ],
   "source": [
    "fig = plt.figure(figsize=(14,10))\n",
    "plt.rcParams.update({'font.size': 22})\n",
    "ax = sns.countplot(x=\"country\", data=customer_purchases)\n",
    "plt.tight_layout()\n",
    "plt.ylabel(\"Number of Users\")\n",
    "plt.xlabel(\"Country\")\n",
    "plt.title(\"Number of Customers by Country\")\n",
    "plt.savefig(\"static/images/plot_country.png\", bbox_inches='tight')\n",
    "plt.show()"
   ]
  },
  {
   "cell_type": "code",
   "execution_count": 56,
   "metadata": {},
   "outputs": [
    {
     "data": {
      "image/png": "[encoded data removed]",
      "text/plain": [
       "<Figure size 1008x720 with 1 Axes>"
      ]
     },
     "metadata": {
      "needs_background": "light"
     },
     "output_type": "display_data"
    }
   ],
   "source": [
    "fig = plt.figure(figsize=(14,10))\n",
    "plt.rcParams.update({'font.size': 22})\n",
    "ax = sns.countplot(x=\"gender\", data=customer_purchases)\n",
    "plt.tight_layout()\n",
    "plt.ylabel(\"Number of Users\")\n",
    "plt.xlabel(\"Gender\")\n",
    "plt.title(\"Number of Users by Gender\")\n",
    "plt.savefig(\"static/images/plot_gender.png\", bbox_inches='tight')\n",
    "plt.show()"
   ]
  },
  {
   "cell_type": "code",
   "execution_count": 57,
   "metadata": {},
   "outputs": [
    {
     "data": {
      "image/png": "[encoded data removed]",
      "text/plain": [
       "<Figure size 1008x720 with 1 Axes>"
      ]
     },
     "metadata": {
      "needs_background": "light"
     },
     "output_type": "display_data"
    }
   ],
   "source": [
    "fig = plt.figure(figsize=(14,10))\n",
    "plt.rcParams.update({'font.size': 22})\n",
    "ax = sns.countplot(x=\"device\", data=customer_purchases)\n",
    "plt.tight_layout()\n",
    "plt.xlabel(\"Device Types\")\n",
    "plt.title(\"Counts of Users by Device Type\")\n",
    "plt.savefig(\"static/images/plot_devices.png\", bbox_inches='tight')\n",
    "plt.show()"
   ]
  },
  {
   "cell_type": "code",
   "execution_count": 58,
   "metadata": {},
   "outputs": [
    {
     "data": {
      "image/png": "[encoded data removed]",
      "text/plain": [
       "<Figure size 1008x720 with 1 Axes>"
      ]
     },
     "metadata": {
      "needs_background": "light"
     },
     "output_type": "display_data"
    }
   ],
   "source": [
    "fig = plt.figure(figsize=(14,10))\n",
    "plt.rcParams.update({'font.size': 22})\n",
    "ax = sns.distplot(customer_purchases[\"age\"], kde=False)\n",
    "plt.tight_layout()\n",
    "plt.ylabel(\"Counts\")\n",
    "plt.xlabel(\"User Ages\")\n",
    "plt.title(\"User's Age Distribution\")\n",
    "plt.savefig(\"static/images/plot_ages.png\", bbox_inches='tight')\n",
    "plt.show()"
   ]
  },
  {
   "cell_type": "markdown",
   "metadata": {},
   "source": [
    "## User Demographics\n",
    "\n",
    "### Multivariate\n",
    "- Age distribution by country\n",
    "- Age distribution by gender\n",
    "- Age distribution by device\n",
    "- Gender distribution by country\n",
    "- Gender distribution by device\n",
    "- Device distribution by country"
   ]
  },
  {
   "cell_type": "code",
   "execution_count": null,
   "metadata": {},
   "outputs": [],
   "source": [
    "# Test function\n",
    "customer_demo_list = ['country' , 'age', 'gender', 'device']\n",
    "fig = plt.figure(figsize=(35,30))\n",
    "plt.rcParams.update({'font.size': 14})\n",
    "fig.subplots_adjust(hspace=1, wspace=0.2)\n",
    "for demo, num in zip(customer_demo_list, range(1,5)):\n",
    "    ax = sns.boxplot(x=demo, y=\"age\", data=customer_purchases)    \n",
    "    plt.tight_layout()\n",
    "    plt.ylabel(\"Age\")\n",
    "    plt.xlabel(\"Country\")\n",
    "    plt.title(\"Customer Ages by Country\")\n",
    "    \n",
    "plt.tight_layout()\n",
    "plt.savefig(\"static/images/plot_univariate_country_age_gender_device.png\", bbox_inches='tight')\n",
    "plt.show()"
   ]
  },
  {
   "cell_type": "markdown",
   "metadata": {},
   "source": [
    "### Customer Ages by Country"
   ]
  },
  {
   "cell_type": "code",
   "execution_count": 59,
   "metadata": {},
   "outputs": [
    {
     "data": {
      "image/png": "[encoded data removed]",
      "text/plain": [
       "<Figure size 1008x720 with 1 Axes>"
      ]
     },
     "metadata": {
      "needs_background": "light"
     },
     "output_type": "display_data"
    }
   ],
   "source": [
    "fig = plt.figure(figsize=(14,10))\n",
    "plt.rcParams.update({'font.size': 22})\n",
    "ax = sns.boxplot(x=\"country\", y=\"age\", data=customer_purchases)    \n",
    "plt.tight_layout()\n",
    "plt.ylabel(\"Age\")\n",
    "plt.xlabel(\"Country\")\n",
    "plt.title(\"Customer Ages by Country\")\n",
    "plt.savefig(\"static/images/plot_box_ages_country.png\", bbox_inches='tight')\n",
    "plt.show()"
   ]
  },
  {
   "cell_type": "markdown",
   "metadata": {},
   "source": [
    "Customers in France have the highest median age, while Germany has the youngest customers.\n",
    "Most customers appear to be under 30 years of age."
   ]
  },
  {
   "cell_type": "markdown",
   "metadata": {},
   "source": [
    "### Gender by country"
   ]
  },
  {
   "cell_type": "code",
   "execution_count": null,
   "metadata": {},
   "outputs": [],
   "source": [
    "fig = plt.figure(figsize=(14,10))\n",
    "plt.rcParams.update({'font.size': 22})\n",
    "ax = sns.countplot(x=\"country\", hue=\"gender\", data=customer_purchases)\n",
    "plt.tight_layout()\n",
    "plt.ylabel(\"Counts\")\n",
    "plt.xlabel(\"Country\")\n",
    "plt.title(\"Number of Customers by Gender by Country\")\n",
    "plt.savefig(\"static/images/plot_count_gender_country.png\", bbox_inches='tight')\n",
    "plt.show()"
   ]
  },
  {
   "cell_type": "markdown",
   "metadata": {},
   "source": [
    "There are more female customers than male customers."
   ]
  },
  {
   "cell_type": "markdown",
   "metadata": {},
   "source": [
    "### Devices used by country"
   ]
  },
  {
   "cell_type": "code",
   "execution_count": null,
   "metadata": {},
   "outputs": [],
   "source": [
    "fig = plt.figure(figsize=(14,10))\n",
    "plt.rcParams.update({'font.size': 22})\n",
    "ax = sns.countplot(x=\"country\", hue=\"device\", data=customer_purchases)\n",
    "plt.tight_layout()\n",
    "plt.ylabel(\"Counts\")\n",
    "plt.xlabel(\"Country\")\n",
    "plt.title(\"Device Counts by Country\")\n",
    "plt.savefig(\"static/images/plot_count_device_country.png\", bbox_inches='tight')\n",
    "plt.show()"
   ]
  },
  {
   "cell_type": "markdown",
   "metadata": {},
   "source": [
    "Android is the dominant device type for all countries."
   ]
  },
  {
   "cell_type": "markdown",
   "metadata": {},
   "source": [
    "## Baseline Sales EDA Key performance index (KPI)\n",
    "- Sales by Country : What is the median price spent\n",
    "- Average Sales by Country: (how many purchases do people make)\n",
    "- Sales by Age: What is the median age of customers\n",
    "- Average Sales by Age: (how many purchases do people make) (dot plot)\n",
    "- Sales by Gender: What genders are a larger proportion of sales\n",
    "- Average Sales by Gender: How many purchases do men and women make\n",
    "- Sales by Device:\n",
    "- Average Sales by device:\n",
    "\n",
    "### SKU Sales by Demographic\n",
    "- Sku by country: which products are popular\n",
    "- Sku by age:\n",
    "- Sku by gender\n",
    "- Sku by device:\n",
    "\n",
    "\n",
    "### Multivariate Sales Analysis\n",
    " - Sales by country and gender (cat)\n",
    " - Sales by country and device (cat)\n",
    " - Sales by country and age (cont)\n",
    " \n",
    "### Multivariate Sales Analysis\n",
    " - Sales by country, gender, age (cat)\n",
    " - Sales by country, gender, device (cat)\n",
    " - Sales by country, age, device (cont)"
   ]
  },
  {
   "cell_type": "markdown",
   "metadata": {},
   "source": [
    "### Distribution of purchases by price by Country"
   ]
  },
  {
   "cell_type": "code",
   "execution_count": null,
   "metadata": {},
   "outputs": [],
   "source": [
    "fig = plt.figure(figsize=(14,10))\n",
    "plt.rcParams.update({'font.size': 22})\n",
    "ax = sns.boxplot(x=\"country\", y=\"price\", data=customer_purchases)    \n",
    "plt.tight_layout()\n",
    "plt.ylabel(\"Price\")\n",
    "plt.xlabel(\"Country\")\n",
    "plt.title(\"Distribution of Purchases (in Price) made by Country\")\n",
    "plt.savefig(\"static/images/plot_box_purchases_country_price.png\", bbox_inches='tight')\n",
    "plt.show()"
   ]
  },
  {
   "cell_type": "markdown",
   "metadata": {},
   "source": [
    "Brazil and Turkey make the highest median purchases than other countries\n",
    "France and Canda made the lowest median purchases than other countries"
   ]
  },
  {
   "cell_type": "markdown",
   "metadata": {},
   "source": [
    "### Product mix sales by country"
   ]
  },
  {
   "cell_type": "code",
   "execution_count": null,
   "metadata": {},
   "outputs": [],
   "source": [
    "fig = plt.figure(figsize=(14,10))\n",
    "plt.rcParams.update({'font.size': 22})\n",
    "ax = sns.countplot(x=\"country\", hue=\"sku\", data=customer_purchases)\n",
    "plt.tight_layout()\n",
    "plt.ylabel(\"Number of Purchases\")\n",
    "plt.xlabel(\"Country\")\n",
    "plt.title(\"Product Purchases by Device Types by Country\")\n",
    "plt.legend(loc='upper right', bbox_to_anchor=(1.15, 1), ncol=1)\n",
    "plt.savefig(\"static/images/plot_count_sku_country.png\", bbox_inches='tight')\n",
    "plt.show()"
   ]
  },
  {
   "cell_type": "markdown",
   "metadata": {},
   "source": [
    "The top 4 products for all countries are: sku_four_599, sku_one_199, sku_three_499, sku_two_299.\n",
    "Brazil has a higher proportion of their customers that purchase sku_eight_2099, and sku_five_899 than other countries. This may account for the higher median sale of prices."
   ]
  },
  {
   "cell_type": "markdown",
   "metadata": {},
   "source": [
    "## Baseline Price EDA with 3-variable Segmentation\n",
    "- Price by country and gender\n",
    "- Price by country and age\n",
    "- Price by country and device\n",
    "- Price by country and sku\n",
    "- sku counts by country and gender (stacked bar plot)"
   ]
  },
  {
   "cell_type": "markdown",
   "metadata": {},
   "source": [
    "### Price by country and gender"
   ]
  },
  {
   "cell_type": "code",
   "execution_count": null,
   "metadata": {},
   "outputs": [],
   "source": [
    "fig = plt.figure(figsize=(14,10))\n",
    "plt.rcParams.update({'font.size': 30})\n",
    "ax = sns.boxplot(x=\"country\", y=\"price\", hue=\"gender\", data=customer_purchases) \n",
    "plt.tight_layout()\n",
    "plt.ylabel(\"Sales\")\n",
    "plt.xlabel(\"Country\")\n",
    "plt.title(\"Purchases made by Country and Gender\")\n",
    "plt.legend(loc='upper right', bbox_to_anchor=(1.15, 1), ncol=1)\n",
    "plt.savefig(\"static/images/plot_box_customer_purchases_country_price_gender.png\", bbox_inches='tight')\n",
    "plt.show()"
   ]
  },
  {
   "cell_type": "markdown",
   "metadata": {},
   "source": [
    "In all countries, but Brazil, males make higher median purchases by price than females.\n",
    "\n",
    "Men in France spent more than other countries, while men in Canada spent the least.\n",
    "\n",
    "Bottomline: All there are more female customers by country, males are making bigger purchases than females in all but Brazil."
   ]
  },
  {
   "cell_type": "markdown",
   "metadata": {},
   "source": [
    "### Price by country and age"
   ]
  },
  {
   "cell_type": "code",
   "execution_count": null,
   "metadata": {},
   "outputs": [],
   "source": [
    "fig = plt.figure(figsize=(14,10))\n",
    "plt.rcParams.update({'font.size': 22})\n",
    "ax = sns.boxplot(x=\"country\", y=\"age\", hue=\"gender\", data=customer_purchases)    \n",
    "plt.tight_layout()\n",
    "plt.ylabel(\"Age\")\n",
    "plt.xlabel(\"Country\")\n",
    "plt.title(\"Age of Customers by Gender and Country\")\n",
    "plt.legend(loc='upper right', bbox_to_anchor=(1.15, 1), ncol=1)\n",
    "plt.savefig(\"static/images/plot_box_customer_purchases_country_price_age.png\", bbox_inches='tight')\n",
    "plt.show()"
   ]
  },
  {
   "cell_type": "markdown",
   "metadata": {},
   "source": [
    "Men are generally older than females in all countried but brazil."
   ]
  },
  {
   "cell_type": "markdown",
   "metadata": {},
   "source": [
    "### Price by country and device"
   ]
  },
  {
   "cell_type": "code",
   "execution_count": null,
   "metadata": {},
   "outputs": [],
   "source": [
    "fig = plt.figure(figsize=(14,10))\n",
    "plt.rcParams.update({'font.size': 22})\n",
    "ax = sns.boxplot(x=\"country\", y=\"price\", hue=\"device\", data=customer_purchases)    \n",
    "plt.tight_layout()\n",
    "plt.ylabel(\"Price\")\n",
    "plt.xlabel(\"Country\")\n",
    "plt.title(\"Prices by Country and Device type\")\n",
    "plt.legend(loc='upper right', bbox_to_anchor=(1.2, 1), ncol=1)\n",
    "plt.savefig(\"static/images/plot_box_customer_purchases_country_price_device.png\", bbox_inches='tight')\n",
    "plt.show()"
   ]
  },
  {
   "cell_type": "markdown",
   "metadata": {},
   "source": [
    "Higher purchases are made in Android devices in all countries but Germany and the US, where iOS is higher."
   ]
  },
  {
   "cell_type": "markdown",
   "metadata": {},
   "source": [
    "### Price by gender, country and device"
   ]
  },
  {
   "cell_type": "code",
   "execution_count": null,
   "metadata": {},
   "outputs": [],
   "source": [
    "g = sns.catplot(x=\"device\", y=\"price\",\n",
    "                hue=\"gender\", col=\"country\",\n",
    "                data=customer_purchases, kind=\"box\",\n",
    "                height=6, aspect=.5);\n",
    "sns.set(rc={'figure.figsize':(10,20)})\n",
    "plt.savefig(\"static/images/plot_catplot_customer_purchases_country_price_gender.png\", bbox_inches='tight')\n",
    "plt.show()"
   ]
  },
  {
   "cell_type": "markdown",
   "metadata": {},
   "source": [
    "### Price by country, gender and kpu"
   ]
  },
  {
   "cell_type": "code",
   "execution_count": null,
   "metadata": {},
   "outputs": [],
   "source": [
    "g = sns.catplot(x=\"gender\",\n",
    "                hue=\"sku\", col=\"country\",\n",
    "                data=customer_purchases, kind=\"count\",\n",
    "                height=6, aspect=.5)\n",
    "sns.set(rc={'figure.figsize':(10,20)})\n",
    "# plt.savefig(\"static/images/plot_catplot_customer_purchases_country_price_gender.png\", bbox_inches='tight')\n",
    "plt.show()"
   ]
  },
  {
   "cell_type": "code",
   "execution_count": null,
   "metadata": {},
   "outputs": [],
   "source": [
    "# Use the pivot_table method to plot the mix of products purchased by country and by gender\n",
    "sku_counts_by_gender_country = pd.pivot_table(customer_purchases, values='price', index=['country', 'gender'], columns=['sku'], aggfunc='count')"
   ]
  },
  {
   "cell_type": "code",
   "execution_count": null,
   "metadata": {},
   "outputs": [],
   "source": [
    "# Counts as a Proportion\n",
    "sku_proportion_by_gender_country = sku_counts_by_gender_country.div(sku_counts_by_gender_country.sum(axis=1), axis=0)"
   ]
  },
  {
   "cell_type": "markdown",
   "metadata": {},
   "source": [
    "### Proportion of Product mix sales by country and gender"
   ]
  },
  {
   "cell_type": "code",
   "execution_count": null,
   "metadata": {},
   "outputs": [],
   "source": [
    "ax = sku_proportion_by_gender_country.plot.bar(stacked=True, figsize=(15,10))\n",
    "plt.ylabel(\"Proportion\")\n",
    "plt.xlabel(\"Country and Gender\")\n",
    "plt.title(\"Proportion of SKU purchases by Country and Gender\")\n",
    "plt.legend(loc='upper right', bbox_to_anchor=(1.18, 1), ncol=1)\n",
    "plt.savefig(\"static/images/plot_stacked_bar_sku_purchases_country_price_gender.png\", bbox_inches='tight')\n",
    "plt.show()"
   ]
  },
  {
   "cell_type": "markdown",
   "metadata": {},
   "source": [
    "## Examine baseline KPI  \"purchases\" using groupby\n",
    " - dataset: customer_purchases\n",
    " - sort values by price, then groupby, and then review summary"
   ]
  },
  {
   "cell_type": "code",
   "execution_count": null,
   "metadata": {},
   "outputs": [],
   "source": [
    "country_device_subset = customer_purchases.groupby(by=['country'], axis=0, as_index=False)"
   ]
  },
  {
   "cell_type": "markdown",
   "metadata": {},
   "source": [
    "Evaluate the purchasing behaviors by country and speficially:\n",
    " - total transactions in this period\n",
    " - the sum of these transactions\n",
    " - the mean purchase by country\n",
    " - the median purchase by country\n",
    " - the standard deviation by country\n",
    " - the min purchase made (dollars)\n",
    " - the max purchase made (dollars)\n",
    " - the mean, and median age of purchases\n",
    " - the youngest and oldest customer"
   ]
  },
  {
   "cell_type": "code",
   "execution_count": null,
   "metadata": {},
   "outputs": [],
   "source": [
    "# Create a dictionary that will be used to aggregate the groupby object\n",
    "func_dic = {'price': ['count', 'sum', 'mean', 'median', 'std', 'min', 'max'], \n",
    "            'age': ['mean','median', 'std', 'min', 'max']}\n",
    "# Apply the dictionary, reset the index, assign to a new variable, and sort values by \n",
    "# the multi-level indexusing a tuple\n",
    "grouped = country_device_subset.agg(func_dic).reset_index(drop=True)\n",
    "grouped.sort_values(('price', 'count'), ascending=False).style.hide_index()"
   ]
  },
  {
   "cell_type": "markdown",
   "metadata": {},
   "source": [
    "### Summary of results\n",
    " - USA had the highest number of purchases in terms of counts, and sum, made lots of smaller purchases (how can we get them to buy higher priced products?)\n",
    " - Brazil was the 2nd highest country with transaction counts although Brazil had higher mean purchases than US customers (some of these purchases were higher priced products)\n",
    " - Turkey had the highest mean purchases (they had fewer transactions, but spent more per transaction)\n",
    " - Canada has the lowest customer purchases in counts, sum, mean, median\n",
    " \n",
    "Customer Age Demographics\n",
    " - USA had the oldest mean age customers\n",
    " - Brazil had the oldest median age\n",
    " - Germany had the youngest mean and median customers"
   ]
  },
  {
   "cell_type": "markdown",
   "metadata": {},
   "source": [
    "### Examine KPI \"conversion rate\" a week after the free trial ends\n",
    " - dataset: need to create a dataframe that has subscription data"
   ]
  },
  {
   "cell_type": "code",
   "execution_count": null,
   "metadata": {},
   "outputs": [],
   "source": [
    "current_date = pd.to_datetime('2018-03-17')"
   ]
  },
  {
   "cell_type": "code",
   "execution_count": null,
   "metadata": {
    "scrolled": true
   },
   "outputs": [],
   "source": [
    "# Create cutoff date\n",
    "week1_cutoff = current_date - timedelta(days=7)\n",
    "week2_cutoff = current_date - timedelta(days=14)\n",
    "print(week1_cutoff, week2_cutoff)"
   ]
  },
  {
   "cell_type": "markdown",
   "metadata": {},
   "source": [
    "### How many users made a purchase within 7 days of registering (KPI - 1 week converstion rate)"
   ]
  },
  {
   "cell_type": "code",
   "execution_count": null,
   "metadata": {},
   "outputs": [],
   "source": [
    "# Restrict users whose 7 day free trial 'lapsed' (ended)\n",
    "# before 2018-03-10\n",
    "total_users_week1_df = customer_purchases[(customer_purchases['week1_lapse_date'] <= week1_cutoff)]"
   ]
  },
  {
   "cell_type": "code",
   "execution_count": null,
   "metadata": {},
   "outputs": [],
   "source": [
    "# Restrict users whose 7 day free trial 'lapsed' (ended)\n",
    "# before 2018-03-10 and made a purchase before their their free trial ended\n",
    "total_paying_users_week1_df = customer_purchases[(customer_purchases['week1_lapse_date'] <= week1_cutoff) & (customer_purchases[\"purchase_dur_week1\"] == 'yes')]"
   ]
  },
  {
   "cell_type": "markdown",
   "metadata": {},
   "source": [
    "### Get the number of unique users"
   ]
  },
  {
   "cell_type": "code",
   "execution_count": null,
   "metadata": {},
   "outputs": [],
   "source": [
    "# The total count of users in this period\n",
    "total_users_week1 = len(total_users_week1_df[\"uid\"].unique())\n",
    "# The total count of users that paid in this period\n",
    "total_subscribers_week1 = len(total_paying_users_week1_df[\"uid\"].unique())"
   ]
  },
  {
   "cell_type": "markdown",
   "metadata": {},
   "source": [
    "### Calculate the converstion rate for this period"
   ]
  },
  {
   "cell_type": "code",
   "execution_count": null,
   "metadata": {},
   "outputs": [],
   "source": [
    "# The ratio of users that paid in this period\n",
    "week1_conversion_rate = total_subscribers_week1/total_users_week1\n",
    "week1_conversion_rate"
   ]
  },
  {
   "cell_type": "markdown",
   "metadata": {},
   "source": [
    "### How many users made a purchase within 14 days of registering (KPI - 2 week converstion rate)"
   ]
  },
  {
   "cell_type": "code",
   "execution_count": null,
   "metadata": {},
   "outputs": [],
   "source": [
    "# Filter for all users during this lapse period\n",
    "total_users_week2_df = customer_purchases[(customer_purchases['week2_lapse_date'] <= week2_cutoff)]\n",
    "# Filter for all users during this lapse period that made a purchase\n",
    "total_paying_users_week2_df = customer_purchases[(customer_purchases['week2_lapse_date'] <= week2_cutoff) & (customer_purchases[\"purchase_dur_week2\"] == 'yes')]"
   ]
  },
  {
   "cell_type": "markdown",
   "metadata": {},
   "source": [
    "### Get the number of unique users"
   ]
  },
  {
   "cell_type": "code",
   "execution_count": null,
   "metadata": {},
   "outputs": [],
   "source": [
    "# The total count of users in week1\n",
    "total_users_week2 = len(total_users_week2_df[\"uid\"].unique())\n",
    "# The total count of users that paid in this period\n",
    "total_subscribers_week2 = len(total_paying_users_week2_df[\"uid\"].unique())"
   ]
  },
  {
   "cell_type": "markdown",
   "metadata": {},
   "source": [
    "### Calculate the converstion rate for this period"
   ]
  },
  {
   "cell_type": "code",
   "execution_count": null,
   "metadata": {},
   "outputs": [],
   "source": [
    "# The ratio of users that paid in this period\n",
    "week2_conversion_rate = total_subscribers_week2/total_users_week2\n",
    "week2_conversion_rate"
   ]
  },
  {
   "cell_type": "markdown",
   "metadata": {},
   "source": [
    "### Cohort converstion rates by gender"
   ]
  },
  {
   "cell_type": "code",
   "execution_count": null,
   "metadata": {},
   "outputs": [],
   "source": [
    "male_week1_df = total_users_week1_df.loc[total_users_week1_df['gender'] == 'M']\n",
    "female_week1_df = total_users_week1_df.loc[total_users_week1_df['gender'] == 'F']"
   ]
  },
  {
   "cell_type": "code",
   "execution_count": null,
   "metadata": {},
   "outputs": [],
   "source": [
    "# Total number of males users in period\n",
    "total_male_users_week1 = len(male_week1_df[\"uid\"].unique())\n",
    "# All purchases made by males in this period\n",
    "total_male_purchases_week1 = male_week1_df.loc[male_week1_df[\"purchase_dur_week1\"] == 'yes' ]\n",
    "# The number of males users that made purchases\n",
    "total_paying_male_users_week1 = len(total_male_purchases_week1[\"uid\"].unique())"
   ]
  },
  {
   "cell_type": "code",
   "execution_count": null,
   "metadata": {},
   "outputs": [],
   "source": [
    "week1_male_conversion_rate = total_paying_male_users_week1/total_male_users_week1\n",
    "week1_male_conversion_rate"
   ]
  },
  {
   "cell_type": "code",
   "execution_count": null,
   "metadata": {},
   "outputs": [],
   "source": [
    "# Total number of males users in period\n",
    "total_female_users_week1 = len(female_week1_df[\"uid\"].unique())\n",
    "# All purchases made by males in this period\n",
    "total_female_purchases_week1 = female_week1_df.loc[female_week1_df[\"purchase_dur_week1\"] == 'yes' ]\n",
    "# The number of males users that made purchases\n",
    "total_paying_female_users_week1 = len(total_female_purchases_week1[\"uid\"].unique())"
   ]
  },
  {
   "cell_type": "code",
   "execution_count": null,
   "metadata": {},
   "outputs": [],
   "source": [
    "week1_female_conversion_rate = total_paying_female_users_week1/total_female_users_week1\n",
    "week1_female_conversion_rate"
   ]
  },
  {
   "cell_type": "markdown",
   "metadata": {},
   "source": [
    "### Cohort conversion rates by device"
   ]
  },
  {
   "cell_type": "code",
   "execution_count": null,
   "metadata": {},
   "outputs": [],
   "source": [
    "android_week1_df = total_users_week1_df.loc[total_users_week1_df['device'] == 'android']\n",
    "ios_week1_df = total_users_week1_df.loc[total_users_week1_df['device'] == 'iOS']"
   ]
  },
  {
   "cell_type": "code",
   "execution_count": null,
   "metadata": {},
   "outputs": [],
   "source": [
    "# Total number of males users in period\n",
    "total_android_users_week1 = len(android_week1_df[\"uid\"].unique())\n",
    "# All purchases made by males in this period\n",
    "total_android_purchases_week1 = android_week1_df.loc[android_week1_df[\"purchase_dur_week1\"] == 'yes' ]\n",
    "# The number of males users that made purchases\n",
    "total_paying_android_users_week1 = len(total_android_purchases_week1[\"uid\"].unique())"
   ]
  },
  {
   "cell_type": "code",
   "execution_count": null,
   "metadata": {},
   "outputs": [],
   "source": [
    "week1_android_conversion_rate = total_paying_android_users_week1/total_android_users_week1\n",
    "week1_android_conversion_rate"
   ]
  },
  {
   "cell_type": "code",
   "execution_count": null,
   "metadata": {},
   "outputs": [],
   "source": [
    "# Total number of males users in period\n",
    "total_iOS_users_week1 = len(ios_week1_df[\"uid\"].unique())\n",
    "# All purchases made by males in this period\n",
    "total_iOS_purchases_week1 = ios_week1_df.loc[ios_week1_df[\"purchase_dur_week1\"] == 'yes' ]\n",
    "# The number of males users that made purchases\n",
    "total_paying_iOS_users_week1 = len(total_iOS_purchases_week1[\"uid\"].unique())"
   ]
  },
  {
   "cell_type": "code",
   "execution_count": null,
   "metadata": {},
   "outputs": [],
   "source": [
    "week1_iOS_conversion_rate = total_paying_iOS_users_week1/total_iOS_users_week1\n",
    "week1_iOS_conversion_rate"
   ]
  },
  {
   "cell_type": "code",
   "execution_count": null,
   "metadata": {},
   "outputs": [],
   "source": [
    "male_android = total_users_week1_df.loc[(total_users_week1_df['device'] == 'android') & (total_users_week1_df['gender'] == 'M')]"
   ]
  },
  {
   "cell_type": "code",
   "execution_count": null,
   "metadata": {},
   "outputs": [],
   "source": [
    "# Total number of males users in period\n",
    "total_male_android_users_week1 = len(male_android[\"uid\"].unique())\n",
    "# All purchases made by males in this period\n",
    "total_male_android_purchases_week1 = male_android.loc[male_android[\"purchase_dur_week1\"] == 'yes' ]\n",
    "# The number of males users that made purchases\n",
    "total_paying_male_android_users_week1 = len(total_male_android_purchases_week1[\"uid\"].unique())"
   ]
  },
  {
   "cell_type": "code",
   "execution_count": null,
   "metadata": {},
   "outputs": [],
   "source": [
    "week1_male_android_conversion_rate = total_paying_male_android_users_week1/total_male_android_users_week1\n",
    "week1_male_android_conversion_rate"
   ]
  },
  {
   "cell_type": "code",
   "execution_count": null,
   "metadata": {},
   "outputs": [],
   "source": [
    "female_android = total_users_week1_df.loc[(total_users_week1_df['device'] == 'android') & (total_users_week1_df['gender'] == 'F')]"
   ]
  },
  {
   "cell_type": "code",
   "execution_count": null,
   "metadata": {},
   "outputs": [],
   "source": [
    "# Total number of males users in period\n",
    "total_female_android_users_week1 = len(female_android[\"uid\"].unique())\n",
    "# All purchases made by males in this period\n",
    "total_female_android_purchases_week1 = female_android.loc[female_android[\"purchase_dur_week1\"] == 'yes' ]\n",
    "# The number of males users that made purchases\n",
    "total_paying_female_android_users_week1 = len(total_female_android_purchases_week1[\"uid\"].unique())"
   ]
  },
  {
   "cell_type": "code",
   "execution_count": null,
   "metadata": {},
   "outputs": [],
   "source": [
    "week1_female_android_conversion_rate = total_paying_female_android_users_week1/total_female_android_users_week1\n",
    "week1_female_android_conversion_rate"
   ]
  },
  {
   "cell_type": "markdown",
   "metadata": {},
   "source": [
    "### KPI: the average amount paid per purchase within a user's first 28 days\n",
    " - customer_purchases\n",
    " - this KPI can provide a sense of the popularity of different in-app purchase price points to users within their first month."
   ]
  },
  {
   "cell_type": "code",
   "execution_count": null,
   "metadata": {},
   "outputs": [],
   "source": [
    "max_purchase_date = current_date - timedelta(days=28)"
   ]
  },
  {
   "cell_type": "code",
   "execution_count": null,
   "metadata": {},
   "outputs": [],
   "source": [
    "# Filter to only include users who registered before our max date\n",
    "purchase_data_filt = customer_purchases[customer_purchases['registration_date'] < max_purchase_date]"
   ]
  },
  {
   "cell_type": "code",
   "execution_count": null,
   "metadata": {},
   "outputs": [],
   "source": [
    "# Filter to contain only purchases within the first 28 days of \n",
    "# registration\n",
    "purchase_data_filt = purchase_data_filt[(purchase_data_filt['purchase_date'] <=\n",
    "                                         purchase_data_filt['registration_date'] + \n",
    "                                         timedelta(days=28))]"
   ]
  },
  {
   "cell_type": "code",
   "execution_count": null,
   "metadata": {},
   "outputs": [],
   "source": [
    "# Output the mean price paid per purchase\n",
    "print(purchase_data_filt.price.mean())"
   ]
  },
  {
   "cell_type": "markdown",
   "metadata": {},
   "source": [
    "Interesting! Since our average price is 414 cents which is below $4.99 it seems that our purchasers tend towards the lower priced set of options."
   ]
  },
  {
   "cell_type": "markdown",
   "metadata": {},
   "source": [
    "### Average purchase price by cohort"
   ]
  },
  {
   "cell_type": "code",
   "execution_count": null,
   "metadata": {},
   "outputs": [],
   "source": [
    "# Set the max registration date to be one month before today\n",
    "max_reg_date = current_date - timedelta(days=28)"
   ]
  },
  {
   "cell_type": "code",
   "execution_count": null,
   "metadata": {},
   "outputs": [],
   "source": [
    "# Find the month 1 values:\n",
    "month1 = np.where((customer_purchases.registration_date < max_reg_date) &\n",
    "                    (customer_purchases.purchase_date < customer_purchases.registration_date + timedelta(days=28)),\n",
    "                  customer_purchases.price, \n",
    "                  np.NaN)"
   ]
  },
  {
   "cell_type": "code",
   "execution_count": null,
   "metadata": {},
   "outputs": [],
   "source": [
    "# Update the value in the DataFrame\n",
    "customer_purchases['month1'] = month1"
   ]
  },
  {
   "cell_type": "code",
   "execution_count": null,
   "metadata": {},
   "outputs": [],
   "source": [
    "# Group the data by gender and device \n",
    "purchase_data_upd = customer_purchases.groupby(by=['gender', 'device'], as_index=False)"
   ]
  },
  {
   "cell_type": "code",
   "execution_count": null,
   "metadata": {},
   "outputs": [],
   "source": [
    "# Aggregate the month1 and price data \n",
    "purchase_summary = purchase_data_upd.agg(\n",
    "                        {'month1': ['mean', 'median', 'std'],\n",
    "                        'price': ['mean', 'median','std']})"
   ]
  },
  {
   "cell_type": "code",
   "execution_count": null,
   "metadata": {},
   "outputs": [],
   "source": [
    "# Examine the results \n",
    "print(purchase_summary)"
   ]
  },
  {
   "cell_type": "markdown",
   "metadata": {},
   "source": [
    "Great! This value seems relatively stable over the past 28 days. Congratulations on completing Chapter 1! In the next chapter, you'll explore and visualize customer behavior in more detail."
   ]
  },
  {
   "cell_type": "markdown",
   "metadata": {},
   "source": [
    "### Analysis of sales over time\n",
    " - Overview\n",
    " - Cohorts"
   ]
  },
  {
   "cell_type": "code",
   "execution_count": null,
   "metadata": {},
   "outputs": [],
   "source": [
    "# Group the data and aggregate first_week_purchases\n",
    "user_purchases = customer_purchases.groupby(by=['registration_date', 'uid']).agg({'purchase_dur_week1': ['sum']})"
   ]
  },
  {
   "cell_type": "code",
   "execution_count": null,
   "metadata": {},
   "outputs": [],
   "source": [
    "# Reset the indexes\n",
    "user_purchases.columns = user_purchases.columns.droplevel(level=1)\n",
    "user_purchases.reset_index(inplace=True)\n",
    "\n",
    "# Find the average number of purchases per day by first-week users\n",
    "user_purchases = user_purchases.groupby(by=['registration_date']).agg({'purchase_dur_week1': ['mean']})\n",
    "user_purchases.columns = user_purchases.columns.droplevel(level=1)\n",
    "user_purchases.reset_index(inplace=True)"
   ]
  },
  {
   "cell_type": "code",
   "execution_count": null,
   "metadata": {},
   "outputs": [],
   "source": [
    "### Plot the results\n",
    "upp = user_purchases.plot(x='registration_date', y='purchase_dur_week1')\n",
    "upp.plot(figsize=(10,5))\n",
    "# upp.set_xlim(pd.Timestamp('2017-06-01'), pd.Timestamp('2018-03-18'))\n",
    "# upp.set_ylim(0, 2.2)\n",
    "plt.ylabel(\"Average First Week Purchases\")\n",
    "plt.xlabel(\"Registration Dates\")\n",
    "plt.savefig(\"static/images/plot_first_wk_purchases_timeseries.png\", bbox_inches='tight')\n",
    "plt.show()"
   ]
  },
  {
   "cell_type": "markdown",
   "metadata": {},
   "source": [
    "### Review first week purchase rate by country"
   ]
  },
  {
   "cell_type": "code",
   "execution_count": null,
   "metadata": {},
   "outputs": [],
   "source": [
    "# Create a groupby df for country, registration dates, and purchase summaries\n",
    "user_purchases_country = customer_purchases.groupby(by=['registration_date','country'], as_index=False)['purchase_dur_week1'].agg('mean')\n",
    "# Replace all na with 0\n",
    "user_purchases_country['purchase_dur_week1'].fillna(0, inplace=True)"
   ]
  },
  {
   "cell_type": "code",
   "execution_count": null,
   "metadata": {
    "scrolled": true
   },
   "outputs": [],
   "source": [
    "# Pivot the data\n",
    "country_pivot = pd.pivot_table(user_purchases_country, values=['purchase_dur_week1'], columns=['country'], index=['registration_date'])"
   ]
  },
  {
   "cell_type": "markdown",
   "metadata": {},
   "source": [
    "### Plot first week purchases by country summary"
   ]
  },
  {
   "cell_type": "code",
   "execution_count": null,
   "metadata": {},
   "outputs": [],
   "source": [
    "# Plot the average first week purchases for each country by registration date\n",
    "country_pivot.plot(figsize=(15,20), subplots=True, layout=(3, 2))\n",
    "plt.ylabel(\"Average First Week Purchases\")\n",
    "plt.xlabel(\"Registration Dates\")\n",
    "plt.title('Average Purchases in First Week by Country')\n",
    "plt.savefig(\"static/images/plot_first_wk_purchases_by_country.png\", bbox_inches='tight')\n",
    "plt.show()"
   ]
  },
  {
   "cell_type": "markdown",
   "metadata": {},
   "source": [
    "Brazil and USA have high recent purchases"
   ]
  },
  {
   "cell_type": "markdown",
   "metadata": {},
   "source": [
    "### Review first week purchase rate by device"
   ]
  },
  {
   "cell_type": "code",
   "execution_count": null,
   "metadata": {},
   "outputs": [],
   "source": [
    "# Create a groupby df for country, registration dates, and purchase summaries\n",
    "user_purchases_device = customer_purchases.groupby(by=['registration_date','device'], as_index=False)['purchase_dur_week1'].agg('mean')\n",
    "# Replace all na with 0\n",
    "user_purchases_device['purchase_dur_week1'].fillna(0, inplace=True)\n",
    "user_purchases_device.head()"
   ]
  },
  {
   "cell_type": "code",
   "execution_count": null,
   "metadata": {},
   "outputs": [],
   "source": [
    "# Pivot the data\n",
    "device_pivot = pd.pivot_table(user_purchases_device, values=['purchase_dur_week1'], columns=['device'], index=['registration_date'])\n",
    "device_pivot.head(3)"
   ]
  },
  {
   "cell_type": "code",
   "execution_count": null,
   "metadata": {},
   "outputs": [],
   "source": [
    "# Plot the average first week purchases for each country by registration date\n",
    "device_pivot.plot(figsize=(16,9), title='Average Purchases in First Week by Device', subplots=True, layout=(2, 1))\n",
    "plt.ylabel(\"Average First Week Purchases\")\n",
    "plt.xlabel(\"Registration Dates\")\n",
    "plt.savefig(\"static/images/plot_first_wk_purchases_by_device.png\", bbox_inches='tight')\n",
    "plt.show()"
   ]
  },
  {
   "cell_type": "markdown",
   "metadata": {},
   "source": [
    "# Revenue\n",
    " - Review the revenue data for this app\n",
    " - dataset: revenue"
   ]
  },
  {
   "cell_type": "markdown",
   "metadata": {},
   "source": [
    "### Clean data"
   ]
  },
  {
   "cell_type": "code",
   "execution_count": null,
   "metadata": {},
   "outputs": [],
   "source": [
    "revenue.head()"
   ]
  },
  {
   "cell_type": "code",
   "execution_count": null,
   "metadata": {},
   "outputs": [],
   "source": [
    "# Convert price to currency format (without the $ sign as this would change it to a string object)\n",
    "revenue['price'] = revenue['price'].apply(lambda x: '{:.2f}'.format((x/100)))"
   ]
  },
  {
   "cell_type": "code",
   "execution_count": null,
   "metadata": {},
   "outputs": [],
   "source": [
    "# Convert price to float\n",
    "revenue['price'] = revenue['price'].astype('float')"
   ]
  },
  {
   "cell_type": "code",
   "execution_count": null,
   "metadata": {},
   "outputs": [],
   "source": [
    "# Change date columns from objects to datetime\n",
    "revenue['date'] = revenue['date'].astype('datetime64[ns]')"
   ]
  },
  {
   "cell_type": "code",
   "execution_count": null,
   "metadata": {},
   "outputs": [],
   "source": [
    "# Group by daily purchases and aggregate (sum)\n",
    "daily_revenue = revenue.groupby('date')['price'].agg('sum')\n",
    "# Convert this groupby object into a dataframe\n",
    "daily_revenue_df = daily_revenue.to_frame()\n",
    "# Reset the date index into a column\n",
    "daily_revenue_df = daily_revenue_df.reset_index()"
   ]
  },
  {
   "cell_type": "code",
   "execution_count": null,
   "metadata": {},
   "outputs": [],
   "source": [
    "# Rename price to revenue\n",
    "daily_revenue_df = daily_revenue_df.rename(columns={'price':'revenue'})"
   ]
  },
  {
   "cell_type": "code",
   "execution_count": null,
   "metadata": {},
   "outputs": [],
   "source": [
    "# Compute 7_day_rev\n",
    "daily_revenue_df['7_day_rev'] = daily_revenue_df.revenue.rolling(window=7,center=False).mean()\n",
    "\n",
    "# Compute 28_day_rev\n",
    "daily_revenue_df['28_day_rev'] = daily_revenue_df.revenue.rolling(window=28,center=False).mean()\n",
    "    \n",
    "# Compute 365_day_rev\n",
    "daily_revenue_df['365_day_rev'] = daily_revenue_df.revenue.rolling(window=365,center=False).mean()"
   ]
  },
  {
   "cell_type": "code",
   "execution_count": null,
   "metadata": {},
   "outputs": [],
   "source": [
    "# Repalce na with 0\n",
    "daily_revenue_df = daily_revenue_df.fillna(0)"
   ]
  },
  {
   "cell_type": "code",
   "execution_count": null,
   "metadata": {},
   "outputs": [],
   "source": [
    "# Plot date, and revenue, along with the 3 rolling functions (in order)   \n",
    "# daily_revenue_df.plot(x='date', y=['revenue', '7_day_rev', '28_day_rev', '365_day_rev', ])\n",
    "\n",
    "daily_revenue_df.plot(x='date', y=['28_day_rev', ])\n",
    "plt.savefig(\"static/images/plot_rolling_revenue.png\", bbox_inches='tight')\n",
    "plt.show()"
   ]
  },
  {
   "cell_type": "markdown",
   "metadata": {},
   "source": [
    "Revenue is growing for the business!"
   ]
  },
  {
   "cell_type": "markdown",
   "metadata": {},
   "source": [
    "### Revenue for a specific product"
   ]
  },
  {
   "cell_type": "markdown",
   "metadata": {},
   "source": [
    "### SKU product earnings"
   ]
  },
  {
   "cell_type": "markdown",
   "metadata": {},
   "source": [
    "### Determine which products (SKU) are the top and bottom earners"
   ]
  },
  {
   "cell_type": "code",
   "execution_count": null,
   "metadata": {},
   "outputs": [],
   "source": [
    "revenue.groupby('sku')['price'].agg(['count','sum','mean'])"
   ]
  },
  {
   "cell_type": "code",
   "execution_count": null,
   "metadata": {},
   "outputs": [],
   "source": [
    "# Use groupby to aggregate and calculate the sum by sku\n",
    "sku_revenue = revenue.groupby('sku')['price'].agg(['count','sum','mean'])\n",
    "sku_revenue = sku_revenue.rename(columns={'count':'Volume', 'sum':'Total Revenue', 'mean':'Average Revenue'})"
   ]
  },
  {
   "cell_type": "code",
   "execution_count": null,
   "metadata": {},
   "outputs": [],
   "source": [
    "sku_revenue.sort_values(by=['Total Revenue'], ascending=False)"
   ]
  },
  {
   "cell_type": "markdown",
   "metadata": {},
   "source": [
    "The highest volume product is sku_two_299\n",
    "The highest earning product in revenue is sku_four_599\n",
    "The highest selling product by average is sku_five_899"
   ]
  },
  {
   "cell_type": "markdown",
   "metadata": {},
   "source": [
    "### Transform revenue data for plotting data"
   ]
  },
  {
   "cell_type": "code",
   "execution_count": null,
   "metadata": {},
   "outputs": [],
   "source": [
    "sku_rev_pivot = pd.pivot_table(revenue, values=['price'], columns=['sku'], index=['date'])\n",
    "sku_rev_pivot = sku_rev_pivot.fillna(0)"
   ]
  },
  {
   "cell_type": "markdown",
   "metadata": {},
   "source": [
    "### Visualize the ewm for each product sku"
   ]
  },
  {
   "cell_type": "code",
   "execution_count": null,
   "metadata": {},
   "outputs": [],
   "source": [
    "# Get a list of the columns from the pandas pivot table\n",
    "sku_array = np.asarray(sku_rev_pivot.columns.tolist())"
   ]
  },
  {
   "cell_type": "code",
   "execution_count": null,
   "metadata": {},
   "outputs": [],
   "source": [
    "# Test function\n",
    "fig = plt.figure(figsize=(35,30))\n",
    "fig.subplots_adjust(hspace=1, wspace=0.2)\n",
    "for sku, num in zip(sku_array, range(1,11)):\n",
    "    to_df = sku_rev_pivot['price'][sku[1]].to_frame().reset_index()\n",
    "    to_df.columns=['date','revenue']\n",
    "    # Calculate 'small_scale'\n",
    "#     to_df[\"small_scale\"] = to_df.revenue.ewm(span=10).mean()\n",
    "    # Calculate 'medium_scale'\n",
    "    to_df['medium_scale'] = to_df.revenue.ewm(span=100).mean()\n",
    "    # Calculate 'large_scale'\n",
    "#     to_df['large_scale'] = to_df.revenue.ewm(span=500).mean()\n",
    "    ax = fig.add_subplot(2,4, num)\n",
    "#     ax.plot(to_df['date'], to_df['small_scale'], label='small_scale')\n",
    "    ax.plot(to_df['date'], to_df['medium_scale'], label=f'revenue for + {sku[1]}')\n",
    "#     ax.plot(to_df['date'], to_df['large_scale'], label='large_scale')\n",
    "    ax.legend()\n",
    "    ax.set_title(sku[1])\n",
    "    \n",
    "plt.tight_layout()\n",
    "plt.savefig(\"static/images/plot_all_sku_ewm_revenue.png\", bbox_inches='tight')\n",
    "plt.show()"
   ]
  },
  {
   "cell_type": "markdown",
   "metadata": {},
   "source": [
    "All products seem to increase in revenue with some sku driving growth"
   ]
  },
  {
   "cell_type": "markdown",
   "metadata": {},
   "source": [
    "### Revenue by gender and device"
   ]
  },
  {
   "cell_type": "markdown",
   "metadata": {},
   "source": [
    "### First Subset: <font color=\"red\">user_revenue</font> revenue and customers merged using .merge()"
   ]
  },
  {
   "cell_type": "code",
   "execution_count": null,
   "metadata": {},
   "outputs": [],
   "source": [
    "# Merge on the 'uid'\n",
    "user_revenue = revenue.merge(customers, on=['uid'], how='inner')"
   ]
  },
  {
   "cell_type": "code",
   "execution_count": null,
   "metadata": {},
   "outputs": [],
   "source": [
    "# Clean up data\n",
    "user_revenue['sku'] = user_revenue['sku'].astype('category')"
   ]
  },
  {
   "cell_type": "code",
   "execution_count": null,
   "metadata": {},
   "outputs": [],
   "source": [
    "# Rename columns\n",
    "user_revenue = user_revenue.rename(columns={'date_x' : 'revenue_date', 'date_y' : \"registration_date\", \"price\":\"revenue\"})"
   ]
  },
  {
   "cell_type": "code",
   "execution_count": null,
   "metadata": {},
   "outputs": [],
   "source": [
    "# Rearrange columns\n",
    "user_revenue = user_revenue[['registration_date', 'device',\n",
    "       'gender', 'country', 'age', 'revenue_date', 'uid', 'sku', 'revenue', ]]"
   ]
  },
  {
   "cell_type": "markdown",
   "metadata": {},
   "source": [
    "## Visualize the monthly revenue for one of the updated products and evaluate the results using emw()"
   ]
  },
  {
   "cell_type": "markdown",
   "metadata": {},
   "source": [
    "### Prepare data for visualization"
   ]
  },
  {
   "cell_type": "code",
   "execution_count": null,
   "metadata": {},
   "outputs": [],
   "source": [
    "# Make a list of product skus\n",
    "sku_array = np.asarray(user_revenue[\"sku\"].unique().tolist())"
   ]
  },
  {
   "cell_type": "code",
   "execution_count": null,
   "metadata": {},
   "outputs": [],
   "source": [
    "# Test function\n",
    "fig = plt.figure(figsize=(35,30))\n",
    "fig.subplots_adjust(hspace=1, wspace=0.2)\n",
    "for sku, num in zip(sku_array, range(1,9)):\n",
    "    # Subset data by sku\n",
    "    sku_df = user_revenue.loc[user_revenue['sku'] == sku]\n",
    "    grouped_sku_df = sku_df.groupby(['registration_date', 'device', 'gender'])['revenue'].sum().fillna(0).to_frame()\n",
    "    # Reset index so that we no longer have a multilevel df\n",
    "    grouped_sku_df.reset_index(inplace=True) \n",
    "    # Groupby month and sum revenue\n",
    "    month_sku_rev = grouped_sku_df.groupby([pd.Grouper(key='registration_date',freq='M'), 'gender', \"device\"]).agg({'revenue':'sum'})\n",
    "    # Reset index so that we no longer have a multilevel df\n",
    "    month_sku_rev.reset_index(inplace=True)\n",
    "    # Pivot user_revenue\n",
    "    pivoted_data = pd.pivot_table(month_sku_rev, values ='revenue', columns=['device', 'gender'], index='registration_date')\n",
    "    pivoted_data = pivoted_data[1:(len(pivoted_data) -1 )]\n",
    "\n",
    "    # Plot data\n",
    "    ax = fig.add_subplot(2,4, num)\n",
    "    ax.plot(pivoted_data.index,pivoted_data[('android', 'F')].ewm(span=100).mean(), label='android, F')\n",
    "    ax.plot(pivoted_data.index,pivoted_data[('android', 'M')].ewm(span=100).mean(), label='android, M')\n",
    "    ax.plot(pivoted_data.index,pivoted_data[('iOS', 'F')].ewm(span=100).mean(), label='iOS, F')\n",
    "    ax.plot(pivoted_data.index,pivoted_data[('iOS', 'M')].ewm(span=100).mean(), label='iOS, M')\n",
    "    ax.legend()\n",
    "    ax.set_title(sku)\n",
    "    \n",
    "plt.tight_layout()\n",
    "plt.savefig(\"static/images/plot_all_sku_device_gender_revenue.png\", bbox_inches='tight')\n",
    "plt.show()"
   ]
  },
  {
   "cell_type": "markdown",
   "metadata": {},
   "source": [
    "Higher proportion of revenue is obtained from android users\n",
    "Revenue from women come from sales of the more affordable sku products\n",
    "Revenue seems to drop after july 2017"
   ]
  },
  {
   "cell_type": "markdown",
   "metadata": {},
   "source": [
    "# A/B Testing\n",
    " - Test change to consumable purchase paywall\n",
    " - Goal: Increase revenue by increasing the purchase rate\n",
    " - Response variable: KPI or directly related to KPI\n",
    " - Factors (the type of variable we are changing) and variants particular changes that will be made)\n",
    " - experimental units: smallest unit you are measuring the change over\n",
    " - calculating experimental units\n",
    " - Paywall view to purchase conversion rate\n",
    " - more informative than overall revenue\n",
    " - directly related to test\n",
    " - experimental unit: paywall views"
   ]
  },
  {
   "cell_type": "markdown",
   "metadata": {},
   "source": [
    "### Experimental units: Revenue per user day\n",
    " - Dataset <font color=\"red\">user_revenue</font>"
   ]
  },
  {
   "cell_type": "code",
   "execution_count": null,
   "metadata": {},
   "outputs": [],
   "source": [
    "user_rev_df = user_revenue.copy()"
   ]
  },
  {
   "cell_type": "code",
   "execution_count": null,
   "metadata": {},
   "outputs": [],
   "source": [
    "# Extract the 'day'; value from the timestamp\n",
    "user_rev_df.revenue_date = user_rev_df.revenue_date.dt.floor('d')"
   ]
  },
  {
   "cell_type": "code",
   "execution_count": null,
   "metadata": {},
   "outputs": [],
   "source": [
    "# Replace the NaN price values with 0 \n",
    "user_rev_df.revenue = np.where(np.isnan(user_rev_df.revenue), 0, user_rev_df.revenue)"
   ]
  },
  {
   "cell_type": "code",
   "execution_count": null,
   "metadata": {},
   "outputs": [],
   "source": [
    "# Aggregate the data by 'uid' & 'revenue_date'\n",
    "purchase_data_agg = user_rev_df.groupby(by=['uid', 'revenue_date'], as_index=False)"
   ]
  },
  {
   "cell_type": "code",
   "execution_count": null,
   "metadata": {},
   "outputs": [],
   "source": [
    "# Sum aggregated data\n",
    "revenue_user_day = purchase_data_agg.sum()"
   ]
  },
  {
   "cell_type": "code",
   "execution_count": null,
   "metadata": {},
   "outputs": [],
   "source": [
    "# Calculate the final average\n",
    "revenue_user_day = revenue_user_day.revenue.mean()"
   ]
  },
  {
   "cell_type": "code",
   "execution_count": null,
   "metadata": {},
   "outputs": [],
   "source": [
    "print(f'The revenue per user-day, with user-day as the experimental unit is: ${round(revenue_user_day, 2)}')"
   ]
  },
  {
   "cell_type": "markdown",
   "metadata": {},
   "source": [
    "### Test Sensitivity\n",
    " - the minimal level of change we want to detect in our test\n",
    " - evaluate various sensitivity"
   ]
  },
  {
   "cell_type": "code",
   "execution_count": null,
   "metadata": {},
   "outputs": [],
   "source": [
    "# Calculate the total revenue per user over the entire dataset\n",
    "total_rev = user_revenue.groupby(by=['uid'], as_index=False).revenue.sum()\n",
    "total_rev.revenue = np.where(np.isnan(total_rev.revenue), 0, total_rev.revenue)"
   ]
  },
  {
   "cell_type": "code",
   "execution_count": null,
   "metadata": {},
   "outputs": [],
   "source": [
    "average_revenue = total_rev.revenue.mean()\n",
    "print(f'The average revenue is: ${round(average_revenue, 2)}')"
   ]
  },
  {
   "cell_type": "code",
   "execution_count": null,
   "metadata": {},
   "outputs": [],
   "source": [
    "# Test \n",
    "def eval_sensitivities(val):\n",
    "    val1 = val * 1.01 #(1% change in revenue)\n",
    "    val2 = val * 1.1 #(10% change in revenue)\n",
    "    val3 = val * 1.2 #(20% change in revenue)\n",
    "    sensitivities=[val1, val2, val3]\n",
    "    return(sensitivities)"
   ]
  },
  {
   "cell_type": "code",
   "execution_count": null,
   "metadata": {
    "scrolled": true
   },
   "outputs": [],
   "source": [
    "eval_sensitivities(average_revenue)"
   ]
  },
  {
   "cell_type": "markdown",
   "metadata": {},
   "source": [
    "#### Variability in revenue"
   ]
  },
  {
   "cell_type": "code",
   "execution_count": null,
   "metadata": {},
   "outputs": [],
   "source": [
    "revenue_variation = total_rev.revenue.std()\n",
    "print(f'The variability of revenue is: ${round(revenue_variation, 2)}')"
   ]
  },
  {
   "cell_type": "markdown",
   "metadata": {},
   "source": [
    "#### Compare revenue variability to revenue mean"
   ]
  },
  {
   "cell_type": "code",
   "execution_count": null,
   "metadata": {},
   "outputs": [],
   "source": [
    "revenue_variation/average_revenue"
   ]
  },
  {
   "cell_type": "markdown",
   "metadata": {},
   "source": [
    "Variation revenue is 70% of the mean"
   ]
  },
  {
   "cell_type": "markdown",
   "metadata": {},
   "source": [
    "#### Variability of purchases per user"
   ]
  },
  {
   "cell_type": "code",
   "execution_count": null,
   "metadata": {},
   "outputs": [],
   "source": [
    "# Calculate the total revenue per user over the entire dataset\n",
    "total_pur = user_revenue.groupby(by=['uid'], as_index=False).revenue.count()\n",
    "total_pur.revenue = np.where(np.isnan(total_pur.revenue), 0, total_pur.revenue)"
   ]
  },
  {
   "cell_type": "code",
   "execution_count": null,
   "metadata": {},
   "outputs": [],
   "source": [
    "average_pur = total_pur.revenue.mean()\n",
    "print(f'The average purchase is: {round(average_pur, 2)}')"
   ]
  },
  {
   "cell_type": "code",
   "execution_count": null,
   "metadata": {},
   "outputs": [],
   "source": [
    "pur_variability = total_pur.revenue.std()\n",
    "print(f'The purchase variability is: {round(pur_variability, 2)}')"
   ]
  },
  {
   "cell_type": "code",
   "execution_count": null,
   "metadata": {},
   "outputs": [],
   "source": [
    "pur_variability/average_pur"
   ]
  },
  {
   "cell_type": "markdown",
   "metadata": {},
   "source": [
    "Variation in purchases is 69% of the mean"
   ]
  },
  {
   "cell_type": "markdown",
   "metadata": {},
   "source": [
    "# A/B Testing Analysis"
   ]
  },
  {
   "cell_type": "code",
   "execution_count": null,
   "metadata": {},
   "outputs": [],
   "source": [
    "# Update datatypes\n",
    "ab_results[['country', 'gender', 'device', 'group'] ]= ab_results[['country', 'gender', 'device', 'group']].astype('category')\n",
    "ab_results['date'] = ab_results['date'].astype('datetime64[ns]')"
   ]
  },
  {
   "cell_type": "code",
   "execution_count": null,
   "metadata": {},
   "outputs": [],
   "source": [
    "ab_results.head()"
   ]
  },
  {
   "cell_type": "code",
   "execution_count": null,
   "metadata": {},
   "outputs": [],
   "source": [
    "# Group the data by test versus control\n",
    "test_result_grpd = ab_results.groupby(by=[\"group\"], as_index=False)"
   ]
  },
  {
   "cell_type": "code",
   "execution_count": null,
   "metadata": {},
   "outputs": [],
   "source": [
    "test_result_grpd.head()"
   ]
  },
  {
   "cell_type": "code",
   "execution_count": null,
   "metadata": {},
   "outputs": [],
   "source": [
    "# Count the unique users in each group\n",
    "number_unique_users = test_result_grpd.uid.count()\n",
    "number_unique_users"
   ]
  },
  {
   "cell_type": "markdown",
   "metadata": {},
   "source": [
    "Groups are comparable"
   ]
  },
  {
   "cell_type": "code",
   "execution_count": null,
   "metadata": {},
   "outputs": [],
   "source": [
    "# Group by demographic breakdown\n",
    "ab_results_demo = ab_results.groupby(by=['country', 'gender', 'device', 'group'], as_index=False)\n",
    "# Count unique users\n",
    "ab_results_demo.uid.count()"
   ]
  },
  {
   "cell_type": "markdown",
   "metadata": {},
   "source": [
    "Grouping within country appear comparable."
   ]
  },
  {
   "cell_type": "markdown",
   "metadata": {},
   "source": [
    "### Confirming random assignment"
   ]
  },
  {
   "cell_type": "code",
   "execution_count": null,
   "metadata": {},
   "outputs": [],
   "source": [
    "# Confirm the size the groups are similar by grouping by \n",
    "# group and aggregating to find the number of unique uid in each with \n",
    "# the pd.Series.nunique() method\n",
    "results = ab_results.groupby('group').agg({'uid': pd.Series.nunique}) \n",
    "print(results)"
   ]
  },
  {
   "cell_type": "code",
   "execution_count": null,
   "metadata": {},
   "outputs": [],
   "source": [
    "# Find the overall number of unique users using \"len\" and \"unique\"\n",
    "unique_users = len(ab_results.uid.unique()) \n",
    "\n",
    "# Find the percentage in each group\n",
    "unique_users_results = results / unique_users * 100\n",
    "print(unique_users_results)"
   ]
  },
  {
   "cell_type": "code",
   "execution_count": null,
   "metadata": {},
   "outputs": [],
   "source": [
    "# Find the unique users in each group, by device and gender\n",
    "results_by_demo = ab_results.groupby(by=['group', 'device', 'gender']).agg({'uid': pd.Series.nunique}) \n",
    "\n",
    "# Find the overall number of unique users using \"len\" and \"unique\"\n",
    "unique_users_in_demo = len(ab_results.uid.unique())\n",
    "\n",
    "# Find the percentage in each group\n",
    "percent_by_group = results_by_demo / unique_users_in_demo * 100\n",
    "print(percent_by_group)"
   ]
  },
  {
   "cell_type": "markdown",
   "metadata": {},
   "source": [
    "Values confirm our results are truly random across cohorts."
   ]
  },
  {
   "cell_type": "markdown",
   "metadata": {},
   "source": [
    "### Test and Control conversion rates"
   ]
  },
  {
   "cell_type": "code",
   "execution_count": null,
   "metadata": {},
   "outputs": [],
   "source": [
    "# Find the count of paywall viewers and purchases in each group\n",
    "test_results_summary = ab_results.groupby(by=['group'], as_index=False).agg({'purchases': ['count','sum']})"
   ]
  },
  {
   "cell_type": "code",
   "execution_count": null,
   "metadata": {},
   "outputs": [],
   "source": [
    "# Calculate the paywall conversion rate by group\n",
    "test_results_summary[\"conv\"] = (test_results_summary.purchases['sum']/\n",
    "                               test_results_summary.purchases['count'])"
   ]
  },
  {
   "cell_type": "code",
   "execution_count": null,
   "metadata": {},
   "outputs": [],
   "source": [
    "test_results_summary.columns"
   ]
  },
  {
   "cell_type": "code",
   "execution_count": null,
   "metadata": {},
   "outputs": [],
   "source": [
    "# Control size and conversion\n",
    "ctr_conversion = test_results_summary[('conv','')][0]\n",
    "ctr_size = test_results_summary[('purchases', 'count')][0]"
   ]
  },
  {
   "cell_type": "code",
   "execution_count": null,
   "metadata": {},
   "outputs": [],
   "source": [
    "# test size and conversion\n",
    "test_conversion = test_results_summary[('conv','')][1]\n",
    "test_size = test_results_summary[('purchases', 'count')][1]"
   ]
  },
  {
   "cell_type": "code",
   "execution_count": null,
   "metadata": {},
   "outputs": [],
   "source": [
    "print(ctr_conversion, ctr_size)\n",
    "print(test_conversion, test_size)"
   ]
  },
  {
   "cell_type": "markdown",
   "metadata": {},
   "source": [
    "Does not seem significant"
   ]
  },
  {
   "cell_type": "markdown",
   "metadata": {},
   "source": [
    "### P value for ab test"
   ]
  },
  {
   "cell_type": "code",
   "execution_count": null,
   "metadata": {},
   "outputs": [],
   "source": [
    "# p value function\n",
    "def get_pvalue(con_conv, test_conv, con_size, test_size):  \n",
    "    lift =  - abs(test_conv - con_conv)\n",
    "\n",
    "    scale_one = con_conv * (1 - con_conv) * (1 / con_size)\n",
    "    scale_two = test_conv * (1 - test_conv) * (1 / test_size)\n",
    "    scale_val = (scale_one + scale_two)**0.5\n",
    "\n",
    "    p_value = 2 * stats.norm.cdf(lift, loc = 0, scale = scale_val )\n",
    "\n",
    "    return p_value"
   ]
  },
  {
   "cell_type": "code",
   "execution_count": null,
   "metadata": {},
   "outputs": [],
   "source": [
    "# Compute the p-value\n",
    "p_value = get_pvalue(4.53635533921509, 4.552461309784034, 23009, 22874)\n",
    "print(p_value)\n",
    "# Check for statistical significance\n",
    "if p_value >= 0.05:\n",
    "    print(\"Not Significant\")\n",
    "else:\n",
    "    print(\"Significant Result\")"
   ]
  },
  {
   "cell_type": "code",
   "execution_count": null,
   "metadata": {},
   "outputs": [],
   "source": [
    "# Compute the confidence interval\n",
    "def get_ci(test_conv, con_conv, test_size, con_size, ci):\n",
    "    sd = ((test_conv * (1 - test_conv)) / test_size + (con_conv * (1 - con_conv)) / con_size)**0.5\n",
    "\n",
    "    lift = test_conv - con_conv\n",
    "    val = stats.norm.isf((1 - ci) / 2)\n",
    "    \n",
    "    lwr_bnd = lift - val * sd\n",
    "    upr_bnd = lift + val * sd\n",
    "    \n",
    "    return((lwr_bnd, upr_bnd))"
   ]
  },
  {
   "cell_type": "code",
   "execution_count": null,
   "metadata": {},
   "outputs": [],
   "source": [
    "# Compute the confidence interval\n",
    "get_ci(4.552461309784034, 4.53635533921509, 22874, 23009, 0.95)"
   ]
  },
  {
   "cell_type": "markdown",
   "metadata": {},
   "source": [
    "### Visualize results"
   ]
  },
  {
   "cell_type": "code",
   "execution_count": null,
   "metadata": {},
   "outputs": [],
   "source": []
  }
 ],
 "metadata": {
  "kernelspec": {
   "display_name": "Python 3",
   "language": "python",
   "name": "python3"
  },
  "language_info": {
   "codemirror_mode": {
    "name": "ipython",
    "version": 3
   },
   "file_extension": ".py",
   "mimetype": "text/x-python",
   "name": "python",
   "nbconvert_exporter": "python",
   "pygments_lexer": "ipython3",
   "version": "3.7.6"
  }
 },
 "nbformat": 4,
 "nbformat_minor": 2
}

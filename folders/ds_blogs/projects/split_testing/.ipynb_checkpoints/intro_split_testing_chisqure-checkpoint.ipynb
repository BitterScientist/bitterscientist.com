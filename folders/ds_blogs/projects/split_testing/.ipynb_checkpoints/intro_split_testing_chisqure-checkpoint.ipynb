{
 "cells": [
  {
   "cell_type": "code",
   "execution_count": 1,
   "metadata": {},
   "outputs": [],
   "source": [
    "%%javascript\n",
    "IPython.OutputArea.prototype._should_scroll = function(lines) {\n",
    "    return false;\n",
    "}"
   ]
  },
  {
   "cell_type": "markdown",
   "metadata": {},
   "source": [
    "<hr style=\"border-top: 5px solid black;\">"
   ]
  },
  {
   "cell_type": "markdown",
   "metadata": {},
   "source": [
    "<div class=\"alert alert-block alert-info\" style=\"font-size:20px; border:1px solid black; padding:10px\">\n",
    "<center><h1>Post Goals:</h1></center>\n",
    "    <hr style=\"border-top: 2px dashed black;\">\n",
    "    <ol>\n",
    "        <li>Introduction to A/B Testing.</li><br>\n",
    "        <li>Demonstrate how to carry out an A/B test using \\(\\chi^{2} \\) test statistic in Python.</li><br>\n",
    "    </ol>\n",
    "</div>"
   ]
  },
  {
   "cell_type": "markdown",
   "metadata": {},
   "source": [
    "<hr style=\"border-top: 5px solid black;\">"
   ]
  },
  {
   "cell_type": "markdown",
   "metadata": {},
   "source": [
    "<div style=\"font-size:16px; border:1px solid black; padding:10px\">\n",
    "<center><h1><br><font color=\"blue\">Post Overview.</font></h1></center>\n",
    "    <ol>\n",
    "        <li><a href=\"#objective1\">Introduction to A/B Testing.</a></li><br>\n",
    "        <li><a href=\"#objective2\">Example Case Details.</a></li><br>\n",
    "        <li><a href=\"#objective3\">Introduction to \\(\\chi^{2} \\) Test for Association.</a></li><br>\n",
    "        <li><a href=\"#objective4\">Conducting an A/B Test using \\(\\chi^{2} \\) test statistic Python..</a></li><br>\n",
    "<!--         <li><a href=\"#objective5\">.</a></li><br> -->\n",
    "    </ol>\n",
    "</div>"
   ]
  },
  {
   "cell_type": "markdown",
   "metadata": {},
   "source": [
    "<hr style=\"border-top: 5px solid black;\">"
   ]
  },
  {
   "cell_type": "markdown",
   "metadata": {},
   "source": [
    "<div id=\"objective\" class=\"alert alert-block alert-warning\" style=\"font-size:16px; border:1px solid black; padding:10px\"><center><h1><br><font color=\"blue\">Introduction to A/B Testing.</font></h1></center><br>\n",
    "</div>\n",
    "<div style=\"font-size:16px; border:1px solid black; padding:10px\">\n",
    "    <ul><strong><u>What is A/B Testing?</u></strong>\n",
    "        <li>A/B testing is also called split testing, bucket testing, and split-run testing.</li><br>\n",
    "        <li>A/B testing refers to a randomized experimental technique used to compare the affects of a user's behavior to two versions of a single variable (A and B).</li><br>\n",
    "        <li>A/B testing is used to determine whether a version brings improvements to a chosen business metric.</li><br> \n",
    "        <li>A/B testing is commonly conducted on online, mobile, application software and by large social media sites.</li><br>\n",
    "        <li>A/B testing are useful at understanding how online features affect user engagement and satisfaction.</li><br> \n",
    "        <li>A/B testing in web development has been routinely conducted since the 2000s, and since then A/B testing is used in more complex experiments, and is an essential knowhow for any data scientist.</li><br>\n",
    "        <li><mark>The goal of A/B testing is to challenge an existing version of a web feature (A) with a new one (B), by randomly splitting traffic and comparing metrics on each of the splits.</mark></li><br>\n",
    "    </ul>\n",
    "    <hr style=\"border-top: 2px solid black;\">\n",
    "    <ul><strong><u>A/B Test Case Example </u></strong>\n",
    "        <li><img src=\"projects/split_testing/static/images/intro_ab_test/example01.png\" style=\"width: 75%;  height: auto;\"></li><br>\n",
    "        <li>A company is currently using version A of a landing page (control).</li><br>\n",
    "        <li>The company is considering a new landing page arrangement (treatment) and want test if the new layout increases key business metrics.</li><br>\n",
    "        <li>The metrics the company will test include:\n",
    "            <ul>\n",
    "                <li>Average time spent on landing page.</li>\n",
    "                <li>Conversion rate (proportion of sessions that result in a transaction).</li>\n",
    "            </ul>\n",
    "        </li><br>\n",
    "        <li>Using an A/B test will help the company make an informed decision based on empirical data and statistical testing.</li><br>\n",
    "    </ul>\n",
    "    <hr style=\"border-top: 2px solid black;\">\n",
    "        <ul><strong><u>Common Business Metrics Tested</u></strong>\n",
    "            <li><strong>Engagement metrics:</strong> are a set of variables that include time spent on a site, unique visitors, page views, page/scroll depth, number of people who visit a page, and click-through rate, to name a few. Some of these are calculated using averages.</li><br>\n",
    "            <li><strong>Conversion Rates:</strong> measures how many visitors performed a desired action, and includes making a purchase, signing up for an email list, filling out a form, completing a survey, subscribing to a service, or adding a comment or review.<br>\n",
    "                \\[Conversion\\ Rate = {\\frac{Action\\ completed}{Site\\ Visitors} }\\]\n",
    "            </li><br>\n",
    "            <li><strong>Average Time Spent (Session Duration):</strong> is measures that describes the average time visitors spent on the website as a whole (Average Session/Time spent), or the average time visitors spent on a specific page (Average time on page).<br>\n",
    "                \\[Average\\ Time = {\\frac{\\Sigma(Time\\ spent\\ by\\ visitor)}{Total\\ Number\\ of\\ Visitors)} }\\]\n",
    "            </li><br>\n",
    "            <li><strong>Bounce Rates:</strong> is a type of engagement metric that measures how many visitors enter the landing page but leave without continuing to view other pages in the same site.<br>\n",
    "                \\[Bounce\\ Rate = R_{b}\\ = {\\frac{T_{v}}{T_{e}} } \\]\n",
    "                \\[T_{v} = Total\\ one\\ page\\ visits\\]\n",
    "                \\[T_{e} = Total\\ entrance\\ visits\\]\n",
    "            </li><br>\n",
    "            <li><strong>Exit Rates:</strong> is a type of engagement metric that measures the number of times visitors have left a site from a single page. The page's exit rate indicates how often visitors exit from it after visiting any number of pages.<br>\n",
    "                \\[Exit\\ Rate = R_{e}\\ = {\\frac{T_{exits}}{T_{views}} } \\]\n",
    "                \\[T_{exits} = Total\\ exits\\ from\\ page\\]\n",
    "                \\[T_{views} = Total\\ visits\\ to\\ page\\]\n",
    "            </li>\n",
    "    </ul>\n",
    "    <hr style=\"border-top: 2px solid black;\">\n",
    "        <ul><strong><u>Common test statistics</u></strong>\n",
    "        <li>A/B Testing includes statistical hypothesis testing.</li><br> \n",
    "        <li>The test metric typically dictates which test statistics to use.</li><br>     \n",
    "    </ul>\n",
    "    <table>\n",
    "        <tr>\n",
    "            <th>Metric</th>\n",
    "            <th>Assumed Distribution</th>\n",
    "            <th>Standard Test</th>\n",
    "            <th>Alternative Test</th>\n",
    "        </tr>\n",
    "        <tr>\n",
    "            <td>Conversion Rate</td>\n",
    "            <td>Gaussian or Binomial</td>\n",
    "            <td>Z-test</td>\n",
    "            <td>Chi-squared test</td>\n",
    "        </tr>\n",
    "        <tr>\n",
    "            <td>Average Revenue per user</td>\n",
    "            <td>Gaussian</td>\n",
    "            <td>Welch's t-test (unpaired t-test)</td>\n",
    "            <td>Student's t-test</td>\n",
    "        </tr>        \n",
    "        <tr>\n",
    "            <td>Time spent on website</td>\n",
    "            <td>Gaussian</td>\n",
    "            <td>Z-test</td>\n",
    "            <td>Chi-squared test</td>\n",
    "        </tr> \n",
    "        <tr>\n",
    "            <td>Number of each product purchased</td>\n",
    "            <td>Multinomial</td>\n",
    "            <td>Chi-squared test</td>\n",
    "            <td></td>\n",
    "        </tr>        \n",
    "</table>\n",
    "    <br>\n",
    "</div>"
   ]
  },
  {
   "cell_type": "markdown",
   "metadata": {},
   "source": [
    "<hr style=\"border-top: 5px solid black;\">"
   ]
  },
  {
   "cell_type": "markdown",
   "metadata": {},
   "source": [
    "<div id=\"objective2\" class=\"alert alert-block alert-warning\" style=\"font-size:16px; border:1px solid black; padding:10px\"><center><h1><br><font color=\"blue\">Case Details</font></h1></center><br>\n",
    "</div>\n",
    "<div style=\"font-size:16px; border:1px solid black; padding:10px\">\n",
    "    <ul><h2><u>This post will demonstrate how to conduct an A/B test:</u></h2>      \n",
    "        <li>using python</li><br>\n",
    "        <li>will evaluate the affects of the A/B test on conversion rate.</li><br>\n",
    "        <li>use the \\(\\chi^{2} \\) test statistics to determine significance.</li><br>     \n",
    "    </ul>\n",
    "    <hr style=\"border-top: 2px solid black;\">\n",
    "    <ul><strong><u>Chi-Square Test for Association Assumptions</u></strong>\n",
    "        <li>Three assumptions must be met to conduct a chi-square test for association:\n",
    "            <ol>\n",
    "                <li>You have categorical variables that are either nominal or ordinal. In our example we have nominal and binary categories (converted or not converted). Ordinal just refers to categorical data that has order (cold, warm, hot).</li>\n",
    "                <li>You have independence of observations. This means that there is no relationship between the observations in the group and between the categories in the group.  In other words, you need to have different participants in each group.  We do not have a user that visited both landing pages. They were either directed to version A or version B.</li>\n",
    "                <li>All cells should have expected counts greater than five.</li>\n",
    "            </ol>\n",
    "        </li><br>\n",
    "    </ul>\n",
    "    <hr style=\"border-top: 2px solid black;\">\n",
    "    <ul><h2><u>The Data:</u></h2>      \n",
    "        <li>The company in this example provided the following data for the analysis.</li><br>\n",
    "    </ul>\n",
    "    <table><strong>The traffic split for this test:</strong>\n",
    "        <tr>\n",
    "            <th>Version</th>\n",
    "            <th>Traffic split</th>\n",
    "        </tr>\n",
    "        <tr>\n",
    "            <td>Landing A</td>\n",
    "            <td>Landing B</td>\n",
    "        </tr>\n",
    "        <tr>\n",
    "            <td>6000</td>\n",
    "            <td>4000</td>\n",
    "        </tr>        \n",
    "</table>\n",
    "    <br>\n",
    "        <table><strong>Summary after 7 days of A/B testing:</strong>\n",
    "        <tr>\n",
    "            <th>Version</th>\n",
    "            <th>Number of sessions</th>\n",
    "            <th>Converted</th>\n",
    "            <th>Non Converted</th>\n",
    "            <th>Conversion Rate (%)</th>          \n",
    "        </tr>\n",
    "        <tr>\n",
    "            <th>A</th>\n",
    "            <th>6000</th>\n",
    "            <th>90</th>\n",
    "            <th>5910</th>\n",
    "            <th>1.51</th>\n",
    "        </tr>\n",
    "        <tr>\n",
    "            <th>B</th>\n",
    "            <th>4000</th>\n",
    "            <th>80</th>\n",
    "            <th>3920</th>\n",
    "            <th>2.02</th>\n",
    "        </tr>        \n",
    "</table>\n",
    "<br>\n",
    "</div>"
   ]
  },
  {
   "cell_type": "markdown",
   "metadata": {},
   "source": [
    "<div id=\"objective3\" class=\"alert alert-block alert-warning\" style=\"font-size:16px; border:1px solid black; padding:10px\"><center><h1><br><font color=\"blue\">Introduction to \\(\\chi^{2} \\) Test for Association.</font></h1></center><br>\n",
    "</div>\n",
    "<div style=\"font-size:16px; border:1px solid black; padding:10px\">\n",
    "    <ul><strong><u>\\(\\chi^{2} \\) Test for Association:</u></strong>   \n",
    "        <li><strong>Test Statistic Selection:</strong> In this example we will use the \\(\\chi^{2} \\) Test for Association.</li><br>\n",
    "        <li><strong>Test Statistic Selection Rationale:</strong> The Chi-square tests for association between two nominal (categorical) variables, to determine if they are statistically independent. In other words, this test allows us to determine if the our variables conversion, and landing page version, are statistically independent.</li><br>\n",
    "    </ul>\n",
    "    <hr style=\"border-top: 2px solid black;\">\n",
    "    <ul><strong><u>Assumptions for using Chi-Square Test for Association</u></strong>\n",
    "        <li>Three assumptions must be met to conduct a chi-square test for association:\n",
    "            <ol><br>\n",
    "                <li>You have categorical variables that are either nominal or ordinal. In our example we have nominal and binary categories (converted or not converted). Ordinal just refers to categorical data that has order (cold, warm, hot).</li><br>\n",
    "                <li>You have independence of observations. This means that there is no relationship between the observations in the group and between the categories in the group.  In other words, you need to have different participants in each group.  We do not have a user that visited both landing pages. They were either directed to version A or version B.</li><br>\n",
    "                <li>All cells should have expected counts greater than five.</li>\n",
    "            </ol>\n",
    "        </li><br>\n",
    "    </ul>\n",
    "    <hr style=\"border-top: 2px solid black;\">\n",
    "    <ul><strong><u>Hypothetical \\(\\chi^{2} \\) Example:</u></strong>   \n",
    "        <li>\n",
    "            <ul><strong><u>Example:</u></strong> Exercise and Heart Disease.\n",
    "                <li><strong>Tested association:</strong> Determine if there is an association between exercise and the presence of heart disease.</li>\n",
    "                <li><strong>Data types:</strong> Both variables are categorical (aka nominal) and binomial.</li>\n",
    "                <li><strong>Variable 1 (exercise):</strong> yes or no (binomial)</li>\n",
    "                <li><strong>Variable 2 (presence of heart disease):</strong> yes or no (binomial)</li>\n",
    "                <li><strong>Data aggregated values: </strong> Counts</li>\n",
    "                <li><strong>Data presentation: </strong> typically a frequency table that aggregates (counts) the number of individuals that fall in each bucket or cell.</li>\n",
    "            </ul>\n",
    "        </li><br>\n",
    "    </ul>\n",
    "    <ul><strong><u>This Post \\(\\chi^{2} \\) Example:</u></strong>   \n",
    "        <li>\n",
    "            <ul><strong><u>This post example:</u></strong> Website landing version and customer conversion (in this case, make a purchase).\n",
    "                <li><strong>Tested association:</strong> Determine if there is an association between the web page landing version and visitor purchase.</li>\n",
    "                <li><strong>Data types:</strong> Both variables are categorical (aka nominal) and binomial.</li>\n",
    "                <li><strong>Variable 1 (website landing):</strong> version A or version B (binomial)</li>\n",
    "                <li><strong>Variable 2 (made a purchase and converted):</strong> yes or no (binomial)</li>\n",
    "                <li><strong>Data aggregated values: </strong> Counts</li>\n",
    "                <li><strong>Data presentation: </strong> typically a frequency table that aggregates (counts) the number of individuals that fall in each bucket or cell as illustrated below.</li>\n",
    "            </ul>\n",
    "        </li><br>\n",
    "    </ul>\n",
    "    <hr style=\"border-top: 2px solid black;\">\n",
    "    <ul><strong><u>Understanding Chi-Square Test for Association Assumptions</u></strong>\n",
    "         <li>Chi-square test for association between two nominal variables by by comparing the observed frequencies to the frequencies we would expect if there was no association between the two nominal variables.</li><br>\n",
    "        <li>This means we would have our data frequency table, and we would then determine calculate an estimator from our pooled observations, and calculate an expected frequency table. This process will be demonstrated in the next section of this post.</li><br>\n",
    "        <li>The expected frequencies are predicated on there being no association.</li><br>\n",
    "        <li>The greater the association between the two categories, the greater the observed frequencies will differ from the expected frequencies.</li><br>\n",
    "        <li>The less the two categories are associated, the closer the observed frequencies will be to the expected frequencies.</li><br>\n",
    "        <li><mark>Chi-square test produces a statistic based on the overall \"amount\" of difference between the expected and observed frequencies and is described as:</mark>\n",
    "            \\[\\chi_{2} = \\Sigma\\frac{(\\mathit{f}_{observed} - \\mathit{f}_{expected})^{2}}{\\mathit{f}_{expected}} \\]<br>\n",
    "            \\(\\mathit{f}_{observed} \\) is the observed frequency from the observed counts in the cells<br>\n",
    "            \\(\\mathit{f}_{expected} \\) is the expected frequency if NO relationship existed between the two categories (converted not converted).\n",
    "            </li><br>\n",
    "        <li>The larger the difference between the observed frequencies to the expected frequencies, will result in a larger test statistic.</li><br>\n",
    "        <li>The larger the test statistic, the greater the association and the more likely a statistically significant result.</li>\n",
    "    </ul>\n",
    "</div>"
   ]
  },
  {
   "cell_type": "markdown",
   "metadata": {},
   "source": [
    "<hr style=\"border-top: 5px solid black;\">"
   ]
  },
  {
   "cell_type": "markdown",
   "metadata": {},
   "source": [
    "<div id=\"objective4\" class=\"alert alert-block alert-warning\" style=\"font-size:16px; border:1px solid black; padding:10px\"><center><h1><br><font color=\"blue\">Conducting an A/B Test using Python - Process Overview</font></h1></center><br>\n",
    "</div>\n",
    "<div style=\"font-size:16px; border:1px solid black; padding:10px\">\n",
    "    <ol><strong><u></u></strong>\n",
    "        <li><a href=\"#step1\">State the Null Hypotheis \\(H_{o} \\)</a>.</li><br>        \n",
    "        <li><a href=\"#step2\">State the Alternative Hypotheis \\(H_{a} \\)</a>.</li><br> \n",
    "        <li><a href=\"#step3\">Select a Significance Level \\(\\alpha \\)</a>.</li><br>\n",
    "        <li><a href=\"#step4\">Model \\(H_{o} \\) using Binomial Distribution \\(B(1,p)\\) and \\(\\chi^{2}\\) test</a>.</li><br>        \n",
    "        <li><a href=\"#step5\">Determine the likelyhood of \\(H_{o} \\) by calculating the p-value according to the \\( \\chi^{2}\\) law</a>.</li><br>\n",
    "        <li><a href=\"#step6\">Interpret results</a>.</li><br>\n",
    "    </ol>\n",
    "</div>"
   ]
  },
  {
   "cell_type": "markdown",
   "metadata": {},
   "source": [
    "<hr style=\"border-top: 2px solid black;\">"
   ]
  },
  {
   "cell_type": "markdown",
   "metadata": {},
   "source": [
    "<div id=\"step1\" style=\"background-color: #ABEBC6; font-size:16px; border:1px solid black; padding:10px\"><center><h1><br><font color=\"blue\">State the Null Hypothesis \\(H_{o} \\)</font></h1></center><br>\n",
    "</div>\n",
    "<div style=\"font-size:16px; border:1px solid black; padding:10px\">\n",
    "    <ul><strong><u>Null Hypothesis</u></strong>\n",
    "        <li>Is a statistical hypothesis that assumes that the observation from the data is due to a chance factor and proposes no significant difference exists between a set of given observations.</li><br>\n",
    "        <li>In this example we are using the Chi-Square test for association.</li><br>\n",
    "        <li>Chi-Square test for independence, also called Pearson's chi-square test or the chi-square test of association, and is used to discover if there is a relationship between two categorical variables.</li><br>\n",
    "        <li style=\"list-style-type: none;\"><mark>In this example, the Null Hypothesis \\(H_{o} \\) states that the conversion rates for the landing page A and B are the same.</mark></li><br>\n",
    "    </ul>\n",
    "</div>"
   ]
  },
  {
   "cell_type": "markdown",
   "metadata": {},
   "source": [
    "<hr style=\"border-top: 2px solid black;\">"
   ]
  },
  {
   "cell_type": "markdown",
   "metadata": {},
   "source": [
    "<div id=\"step2\" style=\"background-color: #ABEBC6; font-size:16px; border:1px solid black; padding:10px\"><center><h1><br><font color=\"blue\">State the Alternative Hypotheis \\(H_{a} \\)</font></h1></center><br>\n",
    "</div>\n",
    "<div style=\"font-size:16px; border:1px solid black; padding:10px\">\n",
    "    <ul><strong><u>Alternative Hypothesis</u></strong>\n",
    "        <li>Is a statistical hypothesis that assumes that the observation from the data is due to a chance factor and proposes that there is a significant difference between a set of given observations.</li><br>        \n",
    "        <li><mark>In this example, the Alternative Hypothesis \\(H_{a} \\) states that there <strong>is a difference</strong> in the conversation rates between visitors that were directed to landing page A versus landing page B.</mark></li><br>\n",
    "    </ul>\n",
    "</div>"
   ]
  },
  {
   "cell_type": "markdown",
   "metadata": {},
   "source": [
    "<hr style=\"border-top: 2px solid black;\">"
   ]
  },
  {
   "cell_type": "markdown",
   "metadata": {},
   "source": [
    "<div id=\"step3\" style=\"background-color: #ABEBC6; font-size:16px; border:1px solid black; padding:10px\"><center><h1><br><font color=\"blue\">Select a Significance Level \\(\\alpha \\)</font></h1></center><br>\n",
    "</div>\n",
    "<div style=\"font-size:16px; border:1px solid black; padding:10px\">\n",
    "    <ul><strong><u>Levels of Significance \\(\\alpha \\)</u></strong>\n",
    "        <li>is a value in a given hypothesis test for which a P-value less than or equal to is is considered statistically significant.</li><br>        \n",
    "        <li>\\(\\alpha \\) is usually 0.1, 0.05, or 0.01.</li><br> \n",
    "        <li>This value corresponds to the probability of observing such an extreme value by chance.</li><br>\n",
    "        <li>In this example, we will use a level of significance \\(\\alpha \\) at 0.05 with an upper tailed test.</li><br>\n",
    "        <li>An upper tailed test is used because our alternative hypothesis states that visitors will spend more time on the landing page of version B than version A. This means we are only interested in testing a single direction, greater than, which is a sided upper tailed test.</li><br>\n",
    "        <li>As illustrated in the matplotlib plot below, the \\(\\alpha \\) at 0.05 (upper tailed test) of the point in the probability distribution function, is the point in which any point beyond that threshold would suggest we reject the Null Hypothesis in favor of the Alternative Hypothesis.</li><br>     \n",
    "        <li>The position of the \\(\\alpha \\) at 0.05 in the probability distribution curve is obtained from the z score table, which indicates that at an upper tail with a level of significance of 0.05, the value would be <code>1.645</code></li><br>\n",
    "        <li>A test statistic is the model that is used to calculate the p-value.  The p-value used.</li><br>        \n",
    "    </ul>\n",
    "</div>"
   ]
  },
  {
   "cell_type": "markdown",
   "metadata": {},
   "source": [
    "<hr style=\"border-top: 2px solid black;\">"
   ]
  },
  {
   "cell_type": "markdown",
   "metadata": {},
   "source": [
    "<div id=\"step4\" style=\"background-color: #ABEBC6; font-size:16px; border:1px solid black; padding:10px\"><center><h1><br><font color=\"blue\">Model \\(H_{o} \\) using Binomial Distribution \\(B(1,p)\\) and \\(\\chi^{2}\\) test</font></h1></center><br>\n",
    "</div>\n",
    "<div style=\"font-size:16px; border:1px solid black; padding:10px\">\n",
    "    <ul><strong><u>Modeling the \\(H_{o} \\) using \\(\\chi^{2}\\) test</u></strong>\n",
    "        <li>To reiterate the hypothesis\n",
    "            <ul>\n",
    "                <li>\\(H_{o} \\): No difference in conversion rates between landing page versions.</li>\n",
    "                <li>\\(H_{a} \\): There is a difference in the conversion rates between landing page versions.</li>\n",
    "            </ul>\n",
    "            </li><br>        \n",
    "        <li>\\(\\chi^{2}\\) test compares the distribution of multinomial outcomes, but this also allows for binary cases, such as in this example (converted or did not convert).</li>\n",
    "    </ul>\n",
    "    <hr style=\"border-top: 2px solid black;\">\n",
    "    <ul><strong><u>Calculate and estimator.</u></strong>\n",
    "        <li>Derive the estimator for the convertion rate using the formula:\n",
    "        \\[\\hat{p} = \\frac{O_{A1} + O_{B1}}{O_{A0}+O_{A1}+O_{B0}+O_{B1}} \\]<br>\n",
    "            \\(O_{A0} \\): Web landing version A, no conversion<br>\n",
    "            \\(O_{A1} \\): Web landing version A, with conversion<br>\n",
    "            \\(O_{B0} \\): Web landing version B, no conversion<br>\n",
    "            \\(O_{B1} \\): Web landing version B, with conversion\n",
    "        </li><br>\n",
    "    </ul>\n",
    "    <hr style=\"border-top: 2px solid black;\">\n",
    "    <ul><strong><u>Calculate theoretical outcomes table.</u></strong>\n",
    "        <li>Multiply the column with the number of instances in the observed contingency (frequency) table with the derived estimator \\(\\hat{p} \\).</li><br>\n",
    "        <li>This will give you the expected theoretical conversion and non conversion counts by landing page if \\(H_{0} \\) is true.</li><br>\n",
    "    </ul>\n",
    "    <hr style=\"border-top: 2px solid black;\">\n",
    "    <ul><strong><u>Calculate the squared relative distance between the theoretical and observed distributions.</u></strong><br><br>\n",
    "        <li> \\[D = \\Sigma_{landing\\ page\\ version\\ \\in\\{A,B\\},conversion\\in\\{0,1\\}} \\frac{(Observed_{version,conversion} - Theoretical_{version,conversion})^{2}}{Theoretical_{version,conversion}} \\]</li><br>\n",
    "        <li><strong>D</strong> represents the relative distance between the theoretical and the observed distribution, and according to Pearson's theorem, the \\(H_{0} \\) follows a \\(\\chi^{2} \\) probability law with a single degree of freedom.</li><br>\n",
    "    </ul>    \n",
    "</div>"
   ]
  },
  {
   "cell_type": "code",
   "execution_count": 2,
   "metadata": {},
   "outputs": [
    {
     "data": {
      "image/png": "[encoded data removed]",
      "text/plain": [
       "<Figure size 360x270 with 1 Axes>"
      ]
     },
     "metadata": {
      "needs_background": "light"
     },
     "output_type": "display_data"
    }
   ],
   "source": [
    "import numpy as np\n",
    "from scipy.stats import chi2\n",
    "from matplotlib import pyplot as plt\n",
    "\n",
    "#------------------------------------------------------------\n",
    "# Define the distribution parameters to be plotted\n",
    "k = 1\n",
    "mu = 0\n",
    "x = np.linspace(-1, 20, 1000)\n",
    "\n",
    "#------------------------------------------------------------\n",
    "# plot the distributions\n",
    "fig, ax = plt.subplots(figsize=(5, 3.75))\n",
    "dist = chi2(k, mu)\n",
    "plt.plot(x, dist.pdf(x), c='blue',\n",
    "             label=r'$k=%i$' % k)\n",
    "\n",
    "plt.xlim(0, 5)\n",
    "plt.ylim(0, 1)\n",
    "\n",
    "plt.xlabel('$D$')\n",
    "plt.ylabel(r'$p(D|k)$')\n",
    "plt.title(r'$\\chi^2\\ \\mathrm{Distribution}$')\n",
    "\n",
    "plt.legend()\n",
    "plt.show()"
   ]
  },
  {
   "cell_type": "markdown",
   "metadata": {},
   "source": [
    "<hr style=\"border-top: 2px solid black;\">"
   ]
  },
  {
   "cell_type": "markdown",
   "metadata": {},
   "source": [
    "<div id=\"step5\" style=\"background-color: #ABEBC6; font-size:16px; border:1px solid black; padding:10px\"><center><h1><br><font color=\"blue\">Determine the likelihood of \\(H_{o} \\) by calculating the p-value according to the \\( \\chi^{2}\\) law</font></h1></center><br>\n",
    "</div>\n",
    "<div style=\"font-size:16px; border:1px solid black; padding:10px\">\n",
    "    <ul><strong><u>Pythonic process for determining the likelihood.</u></strong><br>\n",
    "        <br>This step consists in computing the observed distance between the observed and theoretical and deriving its corresponding p-value according to the \\(\\chi^{2} \\) law.\n",
    "        <ol>\n",
    "            <li>Import the dependencies <code><a href=\"https://numpy.org/\">numpy</a></code> (used for scientific calculations) and <code>scipy</code> (open-source software for mathematics, science, and engineering).  <code>scipy</code> has <a href=\"https://docs.scipy.org/doc/scipy/reference/generated/scipy.stats.chi.html\">chi square</a> methods that we can import and use for our testing.</li>\n",
    "            <li>Save the observed and theoretical contingency tables into numpy arrays.</li><br>\n",
    "            <li>Calculate the relative distance using numpy \\(np.sum(np.square\\frac{T-O}{T}) \\). This is the same formula we described in a prior section.</li><br>\n",
    "            <li>use the <code>chi2.sf()</code> to return the p-value using the survival function. This method takes four parameters, the distance, the degrees of freedom, the loc and scale. We use the default values for the last two parameters, but need to specific the first two.</li><br>\n",
    "            <li>Compare returned p-value to the level of significance by inspecting values and plotting data.</li><br>\n",
    "        </ol>\n",
    "    </ul>\n",
    "</div>"
   ]
  },
  {
   "cell_type": "code",
   "execution_count": 3,
   "metadata": {},
   "outputs": [
    {
     "name": "stdout",
     "output_type": "stream",
     "text": [
      "distance d: 3.590449404583807\n",
      "p-value: 0.05811252579106675\n"
     ]
    }
   ],
   "source": [
    "# Code to calculate the p-value for our test\n",
    "import numpy as np\n",
    "from scipy.stats import chi2\n",
    "\n",
    "T = np.array([102, 68, 5898, 3932])\n",
    "O = np.array([90, 80, 5910, 3920])\n",
    "\n",
    "D = np.sum(np.square(T-O)/T)\n",
    "\n",
    "pvalue = chi2.sf(D, df=1)\n",
    "\n",
    "print(\"distance d: {0}\\np-value: {1}\".format(D,pvalue))"
   ]
  },
  {
   "cell_type": "code",
   "execution_count": 4,
   "metadata": {},
   "outputs": [
    {
     "data": {
      "image/png": "[encoded data removed]",
      "text/plain": [
       "<Figure size 936x360 with 1 Axes>"
      ]
     },
     "metadata": {
      "needs_background": "light"
     },
     "output_type": "display_data"
    }
   ],
   "source": [
    "plt.figure(figsize=(13,5)) # figure size\n",
    "\n",
    "# Plot the result of our hypothesis test\n",
    "d = np.arange(0, 5, 0.1)\n",
    "plt.plot(d, chi2.pdf(d, df=1))\n",
    "plt.vlines(D, 0, 0.15, colors=\"black\", linestyle=\"dashed\")\n",
    "plt.fill_between(d[d>D], chi2.pdf(d[d>D], df=1))\n",
    "plt.text(D, 0.21, r'D (3.59), Accept $H_{0}$:''\\n'r'$p\\ value (0.058)\\ > \\alpha\\ (0.05)$', fontsize=10, ha='right')\n",
    "\n",
    "# area where Null Hypothesis would be rejected\n",
    "d_sig = 3.84 # this is the point in which a result would be significant at an alpha of 0.05 with degree of freedom = 1 \n",
    "plt.vlines(d[d>d_sig][0], 0, 0.15, colors=\"red\", linestyle=\"dashed\")\n",
    "plt.fill_between(d[d>d_sig], chi2.pdf(d[d>d_sig], df=1), color=\"red\")\n",
    "plt.arrow(x=d[d>d_sig][0], y=0.15, dx=1, dy=0, shape='full', head_length= 0.1, head_width=0.05, length_includes_head=True, color=\"red\", linestyle='dashed')\n",
    "plt.text(d_sig, 0.21, r'D(3.84), Point to Reject $H_{0}$:''\\n'r'$p\\ value\\ < \\alpha\\ (0.05)$', fontsize=10)\n",
    "\n",
    "# area to accept the Null Hypothesis\n",
    "plt.text(1, 0.02, r'Accept $H_{0}:\\ p\\ value > \\alpha\\ (0.05)$', fontsize=10)\n",
    "plt.arrow(x=d[d>d_sig][0], y=0, dx=-3.8, dy=0, shape='full', head_length= 0.05, head_width=0.01, length_includes_head=True, linestyle='--')\n",
    "plt.show()"
   ]
  },
  {
   "cell_type": "markdown",
   "metadata": {},
   "source": [
    "<hr style=\"border-top: 2px solid black;\">"
   ]
  },
  {
   "cell_type": "markdown",
   "metadata": {},
   "source": [
    "<div id=\"step6\" style=\"background-color: #ABEBC6; font-size:16px; border:1px solid black; padding:10px\"><center><h1><br><font color=\"blue\">Interpret results</font></h1></center><br>\n",
    "</div>\n",
    "<div style=\"font-size:16px; border:1px solid black; padding:10px\">\n",
    "    <ul><strong><u>Which hypothesis is support by the data?</u></strong>\n",
    "        <li>By comparing the p-value to the level of significance \\(\\alpha \\), we can determine if there is evidence to reject or support the null hypothesis.</li><br>   \n",
    "        <li>If the \\(p-value > \\alpha \\): we accept the null hypothesis, and the mean time visitors spent on landing page A or B are the same. This would suggest that the difference in the landing page layout does not affect the time visitors spend viewing the page.</li><br>\n",
    "        <li>If the \\(p-value < \\alpha \\): we reject the null hypothesis, and the mean time visitors spent on landing page A is less than landing page B. This would suggest that the landing page layout for B does affect the amount of time visitors spend on this page, as compared to landing page A.</li><br>\n",
    "        <li><mark>Since our \\(p-value (0.058) > \\alpha (0.05) \\) we accept the Null Hypothesis \\(H_{0} \\) and conclude that the conversion rate between our two versions of the landing page is the same.</mark></li><br> \n",
    "        <li>From the the plot we also see that the threshold \\(\\alpha =0.05 \\) of statistical significant in the <strong>D</strong> axis is 3.84 (DF =1).  Our result is 3.59 and does not reach this treshhold (red dashed line).</li><br>\n",
    "    </ul>\n",
    "</div>"
   ]
  },
  {
   "cell_type": "markdown",
   "metadata": {},
   "source": [
    "<hr style=\"border-top: 5px solid black;\">"
   ]
  }
 ],
 "metadata": {
  "kernelspec": {
   "display_name": "Python 3",
   "language": "python",
   "name": "python3"
  },
  "language_info": {
   "codemirror_mode": {
    "name": "ipython",
    "version": 3
   },
   "file_extension": ".py",
   "mimetype": "text/x-python",
   "name": "python",
   "nbconvert_exporter": "python",
   "pygments_lexer": "ipython3",
   "version": "3.8.2"
  }
 },
 "nbformat": 4,
 "nbformat_minor": 4
}

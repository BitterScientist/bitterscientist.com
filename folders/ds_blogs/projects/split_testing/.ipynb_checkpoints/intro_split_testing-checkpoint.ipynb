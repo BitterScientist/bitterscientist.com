{
 "cells": [
  {
   "cell_type": "code",
   "execution_count": 1,
   "metadata": {},
   "outputs": [
    {
     "data": {
      "application/javascript": [
       "IPython.OutputArea.prototype._should_scroll = function(lines) {\n",
       "    return false;\n",
       "}\n"
      ],
      "text/plain": [
       "<IPython.core.display.Javascript object>"
      ]
     },
     "metadata": {},
     "output_type": "display_data"
    }
   ],
   "source": [
    "%%javascript\n",
    "IPython.OutputArea.prototype._should_scroll = function(lines) {\n",
    "    return false;\n",
    "}"
   ]
  },
  {
   "cell_type": "markdown",
   "metadata": {},
   "source": [
    "<hr style=\"border-top: 5px solid black;\">"
   ]
  },
  {
   "cell_type": "markdown",
   "metadata": {},
   "source": [
    "<div class=\"alert alert-block alert-info\" style=\"font-size:20px; border:1px solid black; padding:10px\">\n",
    "<center><h1>Post Goals:</h1></center>\n",
    "    <hr style=\"border-top: 2px dashed black;\">\n",
    "    <ol>\n",
    "        <li>Introduction to A/B Testing.</li><br>\n",
    "        <li>Demonstrate how to carry out an A/B test using Python.</li><br>\n",
    "    </ol>\n",
    "</div>"
   ]
  },
  {
   "cell_type": "markdown",
   "metadata": {},
   "source": [
    "<hr style=\"border-top: 5px solid black;\">"
   ]
  },
  {
   "cell_type": "markdown",
   "metadata": {},
   "source": [
    "<div style=\"font-size:16px; border:1px solid black; padding:10px\">\n",
    "<center><h1><br><font color=\"blue\">Post Overview.</font></h1></center>\n",
    "    <ol>\n",
    "        <li><a href=\"#objective1\">Introduction to A/B Testing.</a></li><br>\n",
    "        <li><a href=\"#objective2\">Example Case Details.</a></li><br>\n",
    "        <li><a href=\"#objective3\">Conducting an A/B Test using Python.</a></li><br>\n",
    "<!--         <li><a href=\"#objective4\">.</a></li><br> -->\n",
    "<!--         <li><a href=\"#objective5\">.</a></li><br> -->\n",
    "    </ol>\n",
    "</div>"
   ]
  },
  {
   "cell_type": "markdown",
   "metadata": {},
   "source": [
    "<hr style=\"border-top: 5px solid black;\">"
   ]
  },
  {
   "cell_type": "markdown",
   "metadata": {},
   "source": [
    "<div id=\"objective\" class=\"alert alert-block alert-warning\" style=\"font-size:16px; border:1px solid black; padding:10px\"><center><h1><br><font color=\"blue\">Introduction to A/B Testing.</font></h1></center><br>\n",
    "</div>\n",
    "<div style=\"font-size:16px; border:1px solid black; padding:10px\">\n",
    "    <ul><strong><u>What is A/B Testing?</u></strong>\n",
    "        <li>A/B testing is also called split testing, bucket testing, and split-run testing.</li><br>\n",
    "        <li>A/B testing refers to a randomized experimental technique used to compare the affects of a user's behavior to two versions of a single variable (A and B).</li><br>\n",
    "        <li>A/B testing is used to determine whether a version brings improvements to a chosen business metric.</li><br> \n",
    "        <li>A/B testing is commonly conducted on online, mobile, application software and by large social media sites.</li><br>\n",
    "        <li>A/B testing are useful at understanding how online features affect user engagement and satisfaction.</li><br> \n",
    "        <li>A/B testing in web development has been routinely conducted since the 2000s, and since then A/B testing is used in more complex experiments, and is an essential knowhow for any data scientist.</li><br>\n",
    "        <li><mark>The goal of A/B testing is to challenge an existing version of a web feature (A) with a new one (B), by randomly splitting traffic and comparing metrics on each of the splits.</mark></li><br>\n",
    "    </ul>\n",
    "    <hr style=\"border-top: 2px solid black;\">\n",
    "    <ul><strong><u>A/B Test Case Example </u></strong>\n",
    "        <li><img src=\"projects/split_testing/static/images/intro_ab_test/example01.png\"></li><br>\n",
    "        <li>A company is currently using version A of a landing page (control).</li><br>\n",
    "        <li>The company is considering a new landing page arrangement (treatment) and want test if the new layout increases key business metrics.</li><br>\n",
    "        <li>The metrics the company will test include:\n",
    "            <ul>\n",
    "                <li>Average time spent on landing page.</li>\n",
    "                <li>Conversion rate (proportion of sessions that result in a transaction).</li>\n",
    "            </ul>\n",
    "        </li><br>\n",
    "        <li>Using an A/B test will help the company make an informed decision based on empirical data and statistical testing.</li><br>\n",
    "    </ul>\n",
    "    <hr style=\"border-top: 2px solid black;\">\n",
    "        <ul><strong><u>Common Business Metrics Tested</u></strong>\n",
    "            <li><strong>Engagement metrics:</strong> are a set of variables that include time spent on a site, unique visitors, page views, page/scroll depth, number of people who visit a page, and click-through rate, to name a few. Some of these are calculated using averages.</li><br>\n",
    "            <li><strong>Conversion Rates:</strong> measures how many visitors performed a desired action, and includes making a purchase, signing up for an email list, filling out a form, completing a survey, subscribing to a service, or adding a comment or review.<br>\n",
    "                \\[Conversion\\ Rate = {\\frac{Action\\ completed}{Site\\ Visitors} }\\]\n",
    "            </li><br>\n",
    "            <li><strong>Average Time Spent (Session Duration):</strong> is measures that describes the average time visitors spent on the website as a whole (Average Session/Time spent), or the average time visitors spent on a specific page (Average time on page).<br>\n",
    "                \\[Average\\ Time = {\\frac{\\Sigma(Time\\ spent\\ by\\ visitor)}{Total\\ Number\\ of\\ Visitors)} }\\]\n",
    "            </li><br>\n",
    "            <li><strong>Bounce Rates:</strong> is a type of engagement metric that measures how many visitors enter the landing page but leave without continuing to view other pages in the same site.<br>\n",
    "                \\[Bounce\\ Rate = R_{b}\\ = {\\frac{T_{v}}{T_{e}} } \\]\n",
    "                \\[T_{v} = Total\\ one\\ page\\ visits\\]\n",
    "                \\[T_{e} = Total\\ entrance\\ visits\\]\n",
    "            </li><br>\n",
    "            <li><strong>Exit Rates:</strong> is a type of engagement metric that measures the number of times visitors have left a site from a single page. The page's exit rate indicates how often visitors exit from it after visiting any number of pages.<br>\n",
    "                \\[Exit\\ Rate = R_{e}\\ = {\\frac{T_{exits}}{T_{views}} } \\]\n",
    "                \\[T_{exits} = Total\\ exits\\ from\\ page\\]\n",
    "                \\[T_{views} = Total\\ visits\\ to\\ page\\]\n",
    "            </li>\n",
    "    </ul>\n",
    "    <hr style=\"border-top: 2px solid black;\">\n",
    "        <ul><strong><u>Common test statistics</u></strong>\n",
    "        <li>A/B Testing includes statistical hypothesis testing.</li><br> \n",
    "        <li>The test metric typically dictactes which test statistics to use.</li><br>     \n",
    "    </ul>\n",
    "    <table>\n",
    "        <tr>\n",
    "            <th>Metric</th>\n",
    "            <th>Assumed Distribution</th>\n",
    "            <th>Standard Test</th>\n",
    "            <th>Alternative Test</th>\n",
    "        </tr>\n",
    "        <tr>\n",
    "            <td>Conversion Rate</td>\n",
    "            <td>Average Revenue per user</td>\n",
    "            <td>Time spent on website</td>\n",
    "            <td>Number of each product purchased</td>\n",
    "        </tr>\n",
    "        <tr>\n",
    "            <td>Gaussian or Binomial</td>\n",
    "            <td>Gaussian</td>\n",
    "            <td>Gaussian</td>\n",
    "            <td>Multinomial</td>\n",
    "        </tr>        \n",
    "        <tr>\n",
    "            <td>Z-test</td>\n",
    "            <td>Welch's t-test (unpaired t-test)</td>\n",
    "            <td>Z-test</td>\n",
    "            <td>Chi-squared test</td>\n",
    "        </tr> \n",
    "        <tr>\n",
    "            <td>Chi-squared test</td>\n",
    "            <td>Student's t-test</td>\n",
    "            <td>t-test</td>\n",
    "            <td></td>\n",
    "        </tr>        \n",
    "</table>\n",
    "    <br>\n",
    "</div>"
   ]
  },
  {
   "cell_type": "markdown",
   "metadata": {},
   "source": [
    "<hr style=\"border-top: 5px solid black;\">"
   ]
  },
  {
   "cell_type": "markdown",
   "metadata": {},
   "source": [
    "<div id=\"objective2\" class=\"alert alert-block alert-warning\" style=\"font-size:16px; border:1px solid black; padding:10px\"><center><h1><br><font color=\"blue\">Case Details</font></h1></center><br>\n",
    "</div>\n",
    "<div style=\"font-size:16px; border:1px solid black; padding:10px\">\n",
    "    <ul><h2><u>This post will demonstrate how to conduct an A/B test:</u></h2>      \n",
    "        <li>using python</li><br>\n",
    "        <li>will evaluate the affects of the A/B test on Average Time spent on the landing page.</li><br>\n",
    "        <li>the Z-test test statistics will be used to determine significance.</li><br>       \n",
    "    </ul>\n",
    "    <hr style=\"border-top: 2px solid black;\">\n",
    "    <ul><h2><u>The Data:</u></h2>      \n",
    "        <li>The company in this example provided the following data for the analysis.</li><br>\n",
    "    </ul>\n",
    "    <table><strong>The traffic split for this test:</strong>\n",
    "        <tr>\n",
    "            <th>Version</th>\n",
    "            <th>Traffic split</th>\n",
    "        </tr>\n",
    "        <tr>\n",
    "            <td>Landing A</td>\n",
    "            <td>Landing B</td>\n",
    "        </tr>\n",
    "        <tr>\n",
    "            <td>6000</td>\n",
    "            <td>4000</td>\n",
    "        </tr>        \n",
    "</table>\n",
    "    <br>\n",
    "        <table><strong>Summary after 7 days of A/B testing:</strong>\n",
    "        <tr>\n",
    "            <th>Version</th>\n",
    "            <th>Number of sessions</th>\n",
    "            <th>Average Time on Landing (seconds)</th>\n",
    "            <th>Standard Devision of Time on Landing (seconds)</th>\n",
    "            <th>Conversion Rate (%)</th>          \n",
    "        </tr>\n",
    "        <tr>\n",
    "            <th>A</th>\n",
    "            <th>6000</th>\n",
    "            <th>59</th>\n",
    "            <th>39</th>\n",
    "            <th>1.51</th>\n",
    "        </tr>\n",
    "        <tr>\n",
    "            <th>B</th>\n",
    "            <th>4000</th>\n",
    "            <th>61</th>\n",
    "            <th>44</th>\n",
    "            <th>2.02</th>\n",
    "        </tr>        \n",
    "</table>\n",
    "    <br>\n",
    "</div>"
   ]
  },
  {
   "cell_type": "markdown",
   "metadata": {},
   "source": [
    "<hr style=\"border-top: 5px solid black;\">"
   ]
  },
  {
   "cell_type": "markdown",
   "metadata": {},
   "source": [
    "<div id=\"objective3\" class=\"alert alert-block alert-warning\" style=\"font-size:16px; border:1px solid black; padding:10px\"><center><h1><br><font color=\"blue\">Conducting an A/B Test using Python - Process Overview</font></h1></center><br>\n",
    "</div>\n",
    "<div style=\"font-size:16px; border:1px solid black; padding:10px\">\n",
    "    <ol><strong><u></u></strong>\n",
    "        <li><a href=\"#step1\">State the Null Hypotheis \\(H_{o} \\)</a>.</li><br>        \n",
    "        <li><a href=\"#step2\">State the Alternative Hypotheis \\(H_{a} \\)</a>.</li><br> \n",
    "        <li><a href=\"#step3\">Select a Significance Level \\(\\alpha \\)</a>.</li><br>\n",
    "        <li><a href=\"#step4\">Model \\(H_{o} \\) with Central Limits Theorem</a>.</li><br>        \n",
    "        <li><a href=\"#step5\">Determine the likelyhood of \\(H_{o} \\) by calculating the p-value using the Z-test statistics</a>.</li><br>\n",
    "        <li><a href=\"#step6\">Interpret results</a>.</li><br>\n",
    "    </ol>\n",
    "</div>"
   ]
  },
  {
   "cell_type": "markdown",
   "metadata": {},
   "source": [
    "<hr style=\"border-top: 2px solid black;\">"
   ]
  },
  {
   "cell_type": "markdown",
   "metadata": {},
   "source": [
    "<div id=\"step1\" style=\"background-color: #ABEBC6; font-size:16px; border:1px solid black; padding:10px\"><center><h1><br><font color=\"blue\">State the Null Hypotheis \\(H_{o} \\)</font></h1></center><br>\n",
    "</div>\n",
    "<div style=\"font-size:16px; border:1px solid black; padding:10px\">\n",
    "    <ul><strong><u>Null Hypothesis</u></strong>\n",
    "        <li>Is a statistical hypothesis that assumes that the observation from the data is due to a chance factor and proposes no significant difference exists between a set of given observations.</li><br>        \n",
    "        <li>The Null Hypothesis \\(H_{o} \\) states that the two populations that are compared have the same mean.</li><br>\n",
    "        <li><mark>In this example, the Null Hypothesis \\(H_{o} \\) states that there is <strong>no difference</strong> in the average time visitors spent on either version (A or B) of the landing page and is expresses as follows:</mark></li><br>\n",
    "        <li>Null Hypotheis \\(H_{o}: \\mu_{A} = \\mu_{B} \\):<br>\n",
    "            Where \\(\\mu_{A} \\) is the mean time visitors spent in landing page version A<br>\n",
    "            and \\(\\mu_{B} \\) is the mean time visitors spent in landing page version B\n",
    "            </li><br>\n",
    "    </ul>\n",
    "</div>"
   ]
  },
  {
   "cell_type": "markdown",
   "metadata": {},
   "source": [
    "<hr style=\"border-top: 2px solid black;\">"
   ]
  },
  {
   "cell_type": "markdown",
   "metadata": {},
   "source": [
    "<div id=\"step2\" style=\"background-color: #ABEBC6; font-size:16px; border:1px solid black; padding:10px\"><center><h1><br><font color=\"blue\">State the Alternative Hypotheis \\(H_{a} \\)</font></h1></center><br>\n",
    "</div>\n",
    "<div style=\"font-size:16px; border:1px solid black; padding:10px\">\n",
    "    <ul><strong><u>Alternative Hypothesis</u></strong>\n",
    "        <li>Is a statistical hypothesis that assumes that the observation from the data is due to a chance factor and proposes that there is a significant difference between a set of given observations.</li><br>        \n",
    "        <li>The Alternative Hypothesis \\(H_{a} \\) states that the two populations that are compared have different means. In this example, company wants to test if Version B has a higher mean.</li><br>\n",
    "        <li><mark>In this example, the Alternative Hypothesis \\(H_{a} \\) states that there <strong>is a difference</strong> in the average time visitors spent between version (A or B) of the landing page, and specifically, the average time spent on landing page version B will be greater than landing page version A, and is expressed as follows:</mark></li><br>\n",
    "        <li>The Alternative Hypotheis \\(H_{A} \\):<br>\n",
    "            \\[H_{A}: \\mu_{A} < \\mu_{B} \\]<br>\n",
    "            Where \\(\\mu_{A} \\) is the mean time visitors spent in landing page version A<br>\n",
    "            and \\(\\mu_{B} \\) is the mean time visitors spent in landing page version B\n",
    "            </li><br>\n",
    "    </ul>\n",
    "</div>"
   ]
  },
  {
   "cell_type": "markdown",
   "metadata": {},
   "source": [
    "<hr style=\"border-top: 2px solid black;\">"
   ]
  },
  {
   "cell_type": "markdown",
   "metadata": {},
   "source": [
    "<div id=\"step3\" style=\"background-color: #ABEBC6; font-size:16px; border:1px solid black; padding:10px\"><center><h1><br><font color=\"blue\">Select a Significance Level \\(\\alpha \\)</font></h1></center><br>\n",
    "</div>\n",
    "<div style=\"font-size:16px; border:1px solid black; padding:10px\">\n",
    "    <ul><strong><u>Levels of Significance \\(\\alpha \\)</u></strong>\n",
    "        <li>is a value in a given hypothesis test for which a P-value less than or equal to is is considered statistically significant.</li><br>        \n",
    "        <li>\\(\\alpha \\) is usually 0.1, 0.05, or 0.01.</li><br> \n",
    "        <li>This value corresponds to the probability of observing such an extreme value by chance.</li><br>\n",
    "        <li>In this example, we will use a level of significance \\(\\alpha \\) at 0.05 with an upper tailed test.</li><br>\n",
    "        <li>An upper tailed test is used because our alternative hypothesis states that visitors will spend more time on the landing page of version B than version A. This means we are only interested in testing a single direction, greater than, which is a sided upper tailed test.</li><br>\n",
    "        <li>As illustrated in the matplotlib plot below, the \\(\\alpha \\) at 0.05 (upper tailed test) of the point in the probability distribution function, is the point in which any point beyond that threshold would suggest we reject the Null Hypothesis in favor of the Alternative Hypothesis.</li><br>     \n",
    "        <li>The position of the \\(\\alpha \\) at 0.05 in the probability distribution curve is obtained from the z score table, which indicates that at an upper tail with a level of significance of 0.05, the value would be <code>1.645</code></li><br>\n",
    "        <li>A test statistic is the model that is used to calculate the p-value.  The p-value used.</li><br>        \n",
    "    </ul>\n",
    "</div>"
   ]
  },
  {
   "cell_type": "code",
   "execution_count": 2,
   "metadata": {},
   "outputs": [
    {
     "data": {
      "image/png": "[encoded data removed]",
      "text/plain": [
       "<Figure size 720x360 with 1 Axes>"
      ]
     },
     "metadata": {
      "needs_background": "light"
     },
     "output_type": "display_data"
    }
   ],
   "source": [
    "import matplotlib.pyplot as plt\n",
    "import numpy as np\n",
    "from scipy.stats import norm\n",
    "\n",
    "z = np.arange(-3, 3, 0.1)\n",
    "Z = 1.645 # upper-tailed test where alpha = 0.05\n",
    "\n",
    "plt.figure(figsize=(10,5)) # figure size\n",
    "plt.plot(z, norm.pdf(z)) # plots the z curve using normal probability distribution\n",
    "# fills in area where Z-test is 0.05 and above\n",
    "plt.fill_between(z[z>Z], norm.pdf(z[z>Z]), color=\"red\") \n",
    "\n",
    "# Plots area where Null Hypothesis is accepted\n",
    "plt.text(-1, 0.02, r'Accept $H_{0}:\\ p\\ value > \\alpha\\ (0.05)$', fontsize=10)\n",
    "plt.text(-0.3, 0.17, r'1 - $\\alpha$ = 0.95', fontsize=10)\n",
    "plt.arrow(x=z[z>Z][0], y=0, dx=-4, dy=0, shape='full', head_length= 0.05, head_width=0.01, length_includes_head=True, linestyle='--')\n",
    "\n",
    "# Plots area where Null Hypothesis should. be rejected\n",
    "plt.vlines(z[z>Z][0], 0, 0.15, colors=\"black\", linestyle=\"dashed\")\n",
    "plt.text(1.75, 0.098, r'Reject $H_{0}$:''\\n'r'$p\\ value < \\alpha\\ (0.05)$', fontsize=10)\n",
    "plt.text(1.75, 0.17, r'$\\alpha$ = 0.05, Z-test = 1.645', fontsize=10)\n",
    "plt.arrow(x=z[z>Z][0], y=0.15, dx=1, dy=0, shape='full', head_length= 0.05, head_width=0.01, length_includes_head=True, color=\"red\", linestyle='--')\n",
    "\n",
    "plt.show()"
   ]
  },
  {
   "cell_type": "markdown",
   "metadata": {},
   "source": [
    "<hr style=\"border-top: 2px solid black;\">"
   ]
  },
  {
   "cell_type": "markdown",
   "metadata": {},
   "source": [
    "<div id=\"step4\" style=\"background-color: #ABEBC6; font-size:16px; border:1px solid black; padding:10px\"><center><h1><br><font color=\"blue\">Model \\(H_{o} \\) with Central Limits Theorem</font></h1></center><br>\n",
    "</div>\n",
    "<div style=\"font-size:16px; border:1px solid black; padding:10px\">\n",
    "    <ul><strong><u>Modeling the \\(H_{o} \\) using the Z-test statistic</u></strong>\n",
    "        <li>To reiterate the hypothesis\n",
    "            <ul>\n",
    "                <li>\\(H_{o}: \\mu_{a} = \\mu_{B} \\) = the mean time visitors spend on landing page version A and B are the same.</li>\n",
    "                <li>\\(H_{a}: \\mu_{a} < \\mu_{B} \\) = the mean time visitors spend on landing page version B is greater than version A.</li>\n",
    "            </ul>\n",
    "            </li><br>        \n",
    "        <li>The Z-test uses the Central Limit Theorem (CLT) to test the hypothesis, and CLT will be briefly discussed to explain our \\(H_{o} \\) modeling.</li><br> \n",
    "    </ul>\n",
    "    <hr style=\"border-top: 2px solid black;\">\n",
    "    <ul><strong><u>Central Limits Theorem</u></strong>\n",
    "        <li>The central limits theorem is a statistical theory that states that given a sufficiently large sample size from a population with a finite level of variance, the mean of all the samples from the same population will be approximately equal to the mean of the population.</li><br>\n",
    "        <li>Moreover, when you sample a population many times, the distribution of the means of all the samples are normally distributed, regardlesss of the population distribution.</li><br>\n",
    "        <li>Normally distributed just means that if you plot the probability distribution, it will be symmetric about the mean, and give you that bell shaped curve.</li><br>\n",
    "        <li>The highest frequency value will be the population mean.</li><br>        \n",
    "        <li><strong>Why does this matter?</strong> it helps us accurately predict characteristics of a population, and we can compare two populations, such as the population of visitors for landing page version A and landing page version B.</li><br> \n",
    "        <li>The following section will bridge CLT and our hypothesis testing using the Z-test.</li><br>\n",
    "    </ul>\n",
    "    <hr style=\"border-top: 2px solid black;\">\n",
    "    <ul><strong><u>Central Limits Theorem (CTL) and Hypothesis Testing</u></strong>\n",
    "        <li>CTL states that for a given a random variable <strong>X</strong> (example time spent viewing landing page) with a given mean \\(\\mu \\) and a finite variance \\(\\sigma^{2} \\), the sampling of \\(X_{1},...X_{n} ~ X \\), <strong>n</strong> times will result in the following approximatation of the average:<br>\n",
    "        \\[\\mu{(n,X)} =  \\frac{1}{n}\\Sigma_{i=1}^{n}X_{i} \\sim \\mathcal{N}(\\mu,\\,\\frac{\\sigma^{2}}{n}) \\]<br>\n",
    "        </li>\n",
    "        <li>With this in mind, we can model the time spent for each client session <strong>i</strong> as the following:\n",
    "            <ul>\n",
    "                <li>for <strong>\\(a_{i} \\)</strong> of random variable <strong>\\(A_{i} \\sim\\ A \\)</strong>, if the client session belongs to the version wher we split the client to landing page version A</li>\n",
    "                <li>for <strong>\\(b_{i} \\)</strong> of random variable <strong>\\(B_{i} \\sim\\ B \\)</strong>, else</li>\n",
    "            </ul>\n",
    "        </li><br>\n",
    "        <li>We then use the approximation provided by the central limits theorem to derive:\n",
    "            <ul style=\"list-style-type:none;\">\n",
    "                <li>\n",
    "                 \\[\\mu{(n_{A},A)} \\sim \\mathcal{N}(\\mu_{A},\\,\\frac{\\sigma^{2}_{A}}{n_{A}}) \\]\n",
    "                    <br>\n",
    "                </li>\n",
    "                <li>\n",
    "                 \\[\\mu{(n_{B},B)} \\sim \\mathcal{N}(\\mu_{B},\\,\\frac{\\sigma^{2}_{B}}{n_{B}}) \\]\n",
    "                    <br>\n",
    "                </li>\n",
    "            </ul>\n",
    "        </li><br>\n",
    "        <li>Then we can approximate the difference between version A and version B:\n",
    "         \\[\\mu{(n_{B},B)} - \\mu{(n_{A},A)} \\sim \\mathcal{N}(\\mu_{B} - \\mu_{A},\\,\\frac{\\sigma^{2}_{B}}{n_{B}} + \\frac{\\sigma^{2}_{A}}{n_{A}})) \\]\n",
    "        </li><br>\n",
    "        <li>Recall that the Null Hypothesis states \\(H_{o}: \\mu_{a} = \\mu_{b} \\). Which means we have equality of the true means and therefore the model, \\(H_{o}: \\mu_{a} = \\mu_{b} = 0 \\) and the above formula can be simplified:\n",
    "            <ul style=\"list-style-type:none;\"><br>\n",
    "                <li>\\[\\mu{(n_{B},B)} - \\mu{(n_{A},A)} \\sim \\mathcal{N}(0,\\,\\frac{\\sigma^{2}_{B}}{n_{B}} + \\frac{\\sigma^{2}_{A}}{n_{A}})) \\]</li><br><br>\n",
    "                <li>\\[\\Leftrightarrow \\frac{\\mu{(n_{B},B)} - \\mu{(n_{A},A)}}{\\sqrt{\\frac{\\sigma_{B}^{2}}{n_{B}} + \\frac{\\sigma_{A}^{2}}{n_{A}}}} \\sim \\mathcal{N}(0,1) \\]</li>\n",
    "            </ul>\n",
    "        </li><br>     \n",
    "    </ul>\n",
    "</div>"
   ]
  },
  {
   "cell_type": "markdown",
   "metadata": {},
   "source": [
    "<hr style=\"border-top: 2px solid black;\">"
   ]
  },
  {
   "cell_type": "markdown",
   "metadata": {},
   "source": [
    "<div id=\"step5\" style=\"background-color: #ABEBC6; font-size:16px; border:1px solid black; padding:10px\"><center><h1><br><font color=\"blue\">Determine the likelyhood of \\(H_{o} \\) by calculating the p-value using the Z-test statistics</font></h1></center><br>\n",
    "</div>\n",
    "<div style=\"font-size:16px; border:1px solid black; padding:10px\">\n",
    "    <ul><strong><u>Mathematical Intuition</u></strong>\n",
    "        <li>Since we do not know the true mean and variance for version A and version B, we must introduce empirical estimators:\n",
    "            <ul style=\"list-style-type:none;\"><strong>Version A:</strong>\n",
    "                <li>\\(\\hat{\\mu}_{A} = \\frac{1}{n_{A}}\\Sigma_{i}a_{i} \\)</li>\n",
    "                <li>\\(\\hat{\\sigma}_{A} = \\frac{1}{n_{A}}\\Sigma_{i}(\\hat{\\mu}_{A} - a_{i})^{2} \\)</li>\n",
    "            </ul><br>\n",
    "            <ul style=\"list-style-type:none;\"><strong>Version B:</strong>\n",
    "                <li>\\(\\hat{\\mu}_{B} = \\frac{1}{n_{B}}\\Sigma_{i}b_{i} \\)</li>\n",
    "                <li>\\(\\hat{\\sigma}_{B} = \\frac{1}{n_{B}}\\Sigma_{i}(\\hat{\\mu}_{B} - b_{i})^{2} \\)</li>\n",
    "            </ul>\n",
    "        </li><br>        \n",
    "        <li>Our samples will then generate the following test statistic <strong>Z</strong>, which needs to be tested against the reduced central normal distribution:\n",
    "        \\[Z = \\frac{\\hat{\\mu}_{B} - \\hat{\\mu}_{A}} {\\sqrt{\\frac{\\hat{\\sigma}_{B}^{2}}{n_{B}} + \\frac{\\hat{\\sigma}_{A}^{2}}{n_{A}} }} \\]\n",
    "        </li><br> \n",
    "        <li><strong>Z</strong> represents the number of standard deviations the observed difference of the means is away from <code>0</code>.</li><br>\n",
    "        <li>We are using <code>0</code> because of our Null Hypothesis \\(H_{0}: \\mu_{A} - \\mu_{B} = 0\\).</li><br>        \n",
    "        <li>The higher the Z number, the less likely that \\(H_{0}: \\mu_{A} - \\mu_{B} = 0\\) , and that means the less likely the Null Hypothesis is true, and that the Alternative Hypothesis may be true.</li><br>        \n",
    "        <li>From this formula you can also see that more samples are needed to prove a smaller difference.</li><br> \n",
    "        <li>Hopefully in this section provided a link between CTL and the hypothesis testing in our A/B test.</li><br>\n",
    "    </ul>\n",
    "    <hr style=\"border-top: 2px solid black;\">\n",
    "    <ol><strong><u>Calculate Z test statistics in Python</u></strong><br>\n",
    "        There are several methods to calculate the z test statistics, in this example we will manually calculate the p-value.<br><br>\n",
    "        <li>Import dependencies (<a href=\"https://numpy.org/\">numpy</a> and <a href=\"https://docs.scipy.org/doc/scipy/reference/stats.html\">scipy</a>.stats).\n",
    "            <br><strong>numpy</strong> is used for scientific computing.\n",
    "            <br><strong>scipy</strong> is a library that contains a large number of probability distributions and statistical functions. We will use scipy <a href=\"https://docs.scipy.org/doc/scipy/reference/generated/scipy.stats.norm.html\">norm</a> to obtain a p-value from our corresponding Z test statistic.\n",
    "        </li><br>\n",
    "        <li>Assign A/B testing values to variables.</li><br>\n",
    "        <li>Calcualte the Z test statistics using the formula:\n",
    "        \\[Z = \\frac{\\hat{\\mu}_{B} - \\hat{\\mu}_{A}} {\\sqrt{\\frac{\\hat{\\sigma}_{B}^{2}}{n_{B}} + \\frac{\\hat{\\sigma}_{A}^{2}}{n_{A}} }} \\]\n",
    "        </li><br>\n",
    "        <li>Then use the <code>norm.sf(Z)</code> method with our Z test statistics value  to return the survival function. This function is defined as <code>1 - cdf</code> and will return the p-value for that Z test statistic.</li><br>\n",
    "        <li>Evaluate p-value</li>\n",
    "    </ol>\n",
    "</div>"
   ]
  },
  {
   "cell_type": "code",
   "execution_count": 3,
   "metadata": {},
   "outputs": [
    {
     "name": "stdout",
     "output_type": "stream",
     "text": [
      "Z-score: 2.328890038958328\n",
      "p-value: 0.009932445885041307\n"
     ]
    }
   ],
   "source": [
    "import numpy as np\n",
    "from scipy.stats import norm\n",
    "\n",
    "mu_B = 61\n",
    "mu_A = 59\n",
    "\n",
    "std_B = 44\n",
    "std_A = 39\n",
    "\n",
    "n_B = 4000\n",
    "n_A = 6000\n",
    "\n",
    "Z = (mu_B - mu_A)/np.sqrt(std_B**2/n_B + std_A**2/n_A)\n",
    "pvalue = norm.sf(Z)\n",
    "\n",
    "print(\"Z-score: {0}\\np-value: {1}\".format(Z,pvalue))"
   ]
  },
  {
   "cell_type": "markdown",
   "metadata": {},
   "source": [
    "<hr style=\"border-top: 2px solid black;\">"
   ]
  },
  {
   "cell_type": "markdown",
   "metadata": {},
   "source": [
    "<div id=\"step6\" style=\"background-color: #ABEBC6; font-size:16px; border:1px solid black; padding:10px\"><center><h1><br><font color=\"blue\">Interpret results</font></h1></center><br>\n",
    "</div>\n",
    "<div style=\"font-size:16px; border:1px solid black; padding:10px\">\n",
    "    <ul><strong><u>Which hypothesis is support by the data?</u></strong>\n",
    "        <li>By comparing the p-value to the level of signifiance \\(\\alpha \\), we can determine if there is evidence to reject or support the null hypothesis.</li><br>   \n",
    "        <li>If the \\(p-value > \\alpha \\): we accept the null hypothesis, and the mean time visitors spent on landing page A or B are the same. This would suggest that the difference in the landing page layout does not affect the time visitors spend viewing the page.</li><br>\n",
    "        <li>If the \\(p-value < \\alpha \\): we reject the null hypothesis, and the mean time visitors spent on landing page A is less than landing page B. This would suggest that the landing page layout for B does affect the amount of time visitors spend on this page, as compared to landing page A.</li><br>\n",
    "        <li><mark>Since \\(p-value (0.01) < \\alpha (0.05) \\) we can conclude that the mean time visitors spend on the two versions of the landing page is not the same, and that the landing page version B has visitors that remain on that page longer than those that visit landing page version A.</mark></li><br> \n",
    "        <li>The plot below summarizes our findings.</li><br>\n",
    "    </ul>\n",
    "</div>"
   ]
  },
  {
   "cell_type": "code",
   "execution_count": 4,
   "metadata": {},
   "outputs": [
    {
     "data": {
      "image/png": "[encoded data removed]",
      "text/plain": [
       "<Figure size 936x360 with 1 Axes>"
      ]
     },
     "metadata": {
      "needs_background": "light"
     },
     "output_type": "display_data"
    }
   ],
   "source": [
    "plt.figure(figsize=(13,5)) # figure size\n",
    "plt.plot(z, norm.pdf(z)) # plots the z curve using normal probability distribution\n",
    "# fills in area where Z-test is 0.05 and above\n",
    "plt.fill_between(z[z>Z], norm.pdf(z[z>Z]), color=\"red\") \n",
    "\n",
    "# Plots area where Null Hypothesis is accepted\n",
    "plt.text(-1, 0.02, r'Accept $H_{0}:\\ p\\ value > \\alpha\\ (0.05)$', fontsize=10)\n",
    "plt.text(-0.3, 0.17, r'1 - $\\alpha$ = 0.95', fontsize=10)\n",
    "plt.arrow(x=z[z>Z][0], y=0, dx=-5, dy=0, shape='full', head_length= 0.05, head_width=0.01, length_includes_head=True, linestyle='--')\n",
    "\n",
    "# Plots area where Null Hypothesis should be rejected\n",
    "plt.vlines(z[z>Z][0], 0, 0.15, colors=\"black\", linestyle=\"dashed\")\n",
    "plt.text(Z*1.05, 0.07, f'The Z-test statistic: {np.round(Z,3)}')\n",
    "plt.text(Z*1.05, 0.098, r'Reject $H_{0}$:''\\n'r'$p\\ value\\ (0.01) < \\alpha\\ (0.05)$', fontsize=10)\n",
    "plt.text(Z*1.05, 0.17, r'$\\alpha$ = 0.05, Z-test = 1.645', fontsize=10)\n",
    "plt.arrow(x=z[z>Z][0], y=0.15, dx=1, dy=0, shape='full', head_length= 0.05, head_width=0.01, length_includes_head=True, color=\"red\", linestyle='--')\n",
    "\n",
    "plt.show()"
   ]
  },
  {
   "cell_type": "markdown",
   "metadata": {},
   "source": [
    "<hr style=\"border-top: 5px solid black;\">"
   ]
  }
 ],
 "metadata": {
  "kernelspec": {
   "display_name": "Python 3",
   "language": "python",
   "name": "python3"
  },
  "language_info": {
   "codemirror_mode": {
    "name": "ipython",
    "version": 3
   },
   "file_extension": ".py",
   "mimetype": "text/x-python",
   "name": "python",
   "nbconvert_exporter": "python",
   "pygments_lexer": "ipython3",
   "version": "3.8.2"
  }
 },
 "nbformat": 4,
 "nbformat_minor": 4
}

{
 "cells": [
  {
   "cell_type": "code",
   "execution_count": 1,
   "id": "d6ca8b49",
   "metadata": {},
   "outputs": [],
   "source": [
    "import pandas as pd\n",
    "import pyreadstat\n",
    "pd.options.display.max_seq_items = None\n",
    "pd.options.mode.chained_assignment = None  # default='warn'"
   ]
  },
  {
   "cell_type": "code",
   "execution_count": 2,
   "id": "40c1f5d2",
   "metadata": {},
   "outputs": [],
   "source": [
    "# usecols\n",
    "usecols = ['PersonID', 'Electronic_SelfHealthInfo', 'Electronic_HealthInfoSE',\n",
    "       'Electronic_BuyMedicine', 'Electronic_HCPSearch',\n",
    "       'Electronic_TalkDoctor', 'Electronic_TrackedHealthCosts',\n",
    "       'Electronic_TestResults', 'HaveDevice_Tablet', 'HaveDevice_SmartPh',\n",
    "       'HaveDevice_CellPh', 'TabletHealthWellnessApps', 'Tablet_AchieveGoal',\n",
    "       'Tablet_MakeDecision', 'Tablet_DiscussionsHCP', 'OtherDevTrackHealth',\n",
    "       'SharedHealthDeviceInfo', 'MedConditions_Diabetes', 'MedConditions_HighBP',\n",
    "       'MedConditions_HeartCondition', 'MedConditions_LungDisease',\n",
    "       'MedConditions_Arthritis', 'MedConditions_Depression', 'Height_Feet',\n",
    "       'Height_Inches', 'Weight','Fruit', 'Vegetables',\n",
    "          'HowLongModerateExerciseMn', 'HowLongModerateExerciseHr',\n",
    "           'Smoke100', 'SmokeNow',\n",
    "           'Age', 'OccupationStatus', 'OccupationStatus_OS',\n",
    "           'MaritalStatus', 'Education', \n",
    "           'NotHisp', 'Mexican', 'PuertoRican', 'Cuban', 'OthHisp',\n",
    "       'Hisp_Cat', 'White', 'Black', 'AmerInd', 'AsInd', 'Chinese', 'Filipino',\n",
    "       'Japanese', 'Korean', 'Vietnamese', 'OthAsian', 'Hawaiian', 'Guamanian',\n",
    "       'Samoan', 'OthPacIsl', 'Race_Cat2', 'SexualOrientation',\n",
    "       'SexualOrientation_OS', 'TotalHousehold', 'R_HHAdults', 'HHAdults_Num',\n",
    "       'SelfGender', 'SelfAge', 'SelfMOB', 'IncomeRanges'\n",
    "          ]"
   ]
  },
  {
   "cell_type": "code",
   "execution_count": 3,
   "id": "83405353",
   "metadata": {},
   "outputs": [
    {
     "data": {
      "text/plain": [
       "(3285, 67)"
      ]
     },
     "execution_count": 3,
     "metadata": {},
     "output_type": "execute_result"
    }
   ],
   "source": [
    "df = pd.read_spss('SPSS/hints5_cycle1_public.sav', usecols=usecols)\n",
    "df.shape"
   ]
  },
  {
   "cell_type": "code",
   "execution_count": 4,
   "id": "a01f6ee2",
   "metadata": {},
   "outputs": [
    {
     "data": {
      "text/plain": [
       "(1254, 67)"
      ]
     },
     "execution_count": 4,
     "metadata": {},
     "output_type": "execute_result"
    }
   ],
   "source": [
    "# filter for men\n",
    "men_df = df[df['SelfGender'] == \"Male\"]\n",
    "men_df.shape"
   ]
  },
  {
   "cell_type": "code",
   "execution_count": 5,
   "id": "4702b666",
   "metadata": {},
   "outputs": [
    {
     "data": {
      "text/plain": [
       "(1254, 68)"
      ]
     },
     "execution_count": 5,
     "metadata": {},
     "output_type": "execute_result"
    }
   ],
   "source": [
    "men_df[\"eHealth_Score\"] = None\n",
    "men_df[\"eHealth_Score\"] = men_df[['Electronic_SelfHealthInfo', 'Electronic_HealthInfoSE',\n",
    "                                  'Electronic_BuyMedicine', 'Electronic_HCPSearch',\n",
    "       'Electronic_TalkDoctor', 'Electronic_TrackedHealthCosts',\n",
    "       'Electronic_TestResults']].eq('Yes').sum(axis=1)\n",
    "men_df.shape"
   ]
  },
  {
   "cell_type": "code",
   "execution_count": 6,
   "id": "4c060049",
   "metadata": {},
   "outputs": [
    {
     "data": {
      "text/html": [
       "<div>\n",
       "<style scoped>\n",
       "    .dataframe tbody tr th:only-of-type {\n",
       "        vertical-align: middle;\n",
       "    }\n",
       "\n",
       "    .dataframe tbody tr th {\n",
       "        vertical-align: top;\n",
       "    }\n",
       "\n",
       "    .dataframe thead th {\n",
       "        text-align: right;\n",
       "    }\n",
       "</style>\n",
       "<table border=\"1\" class=\"dataframe\">\n",
       "  <thead>\n",
       "    <tr style=\"text-align: right;\">\n",
       "      <th></th>\n",
       "      <th>PersonID</th>\n",
       "      <th>Electronic_SelfHealthInfo</th>\n",
       "      <th>Electronic_HealthInfoSE</th>\n",
       "      <th>Electronic_BuyMedicine</th>\n",
       "      <th>Electronic_HCPSearch</th>\n",
       "      <th>Electronic_TalkDoctor</th>\n",
       "      <th>Electronic_TrackedHealthCosts</th>\n",
       "      <th>Electronic_TestResults</th>\n",
       "      <th>HaveDevice_Tablet</th>\n",
       "      <th>HaveDevice_SmartPh</th>\n",
       "      <th>...</th>\n",
       "      <th>SexualOrientation</th>\n",
       "      <th>SexualOrientation_OS</th>\n",
       "      <th>TotalHousehold</th>\n",
       "      <th>R_HHAdults</th>\n",
       "      <th>HHAdults_Num</th>\n",
       "      <th>SelfGender</th>\n",
       "      <th>SelfAge</th>\n",
       "      <th>SelfMOB</th>\n",
       "      <th>IncomeRanges</th>\n",
       "      <th>eHealth_Score</th>\n",
       "    </tr>\n",
       "  </thead>\n",
       "  <tbody>\n",
       "    <tr>\n",
       "      <th>2</th>\n",
       "      <td>60000011-01</td>\n",
       "      <td>Yes</td>\n",
       "      <td>No</td>\n",
       "      <td>No</td>\n",
       "      <td>No</td>\n",
       "      <td>No</td>\n",
       "      <td>Yes</td>\n",
       "      <td>Yes</td>\n",
       "      <td>No</td>\n",
       "      <td>No</td>\n",
       "      <td>...</td>\n",
       "      <td>Heterosexual, or straight</td>\n",
       "      <td>Inapplicable, coded 1, 2, or 3 in SexualOrient...</td>\n",
       "      <td>1.0</td>\n",
       "      <td>1.0</td>\n",
       "      <td>1.0</td>\n",
       "      <td>Male</td>\n",
       "      <td>72.0</td>\n",
       "      <td>December</td>\n",
       "      <td>$20,000 to $34,999</td>\n",
       "      <td>3</td>\n",
       "    </tr>\n",
       "  </tbody>\n",
       "</table>\n",
       "<p>1 rows × 68 columns</p>\n",
       "</div>"
      ],
      "text/plain": [
       "      PersonID Electronic_SelfHealthInfo Electronic_HealthInfoSE  \\\n",
       "2  60000011-01                       Yes                      No   \n",
       "\n",
       "  Electronic_BuyMedicine Electronic_HCPSearch Electronic_TalkDoctor  \\\n",
       "2                     No                   No                    No   \n",
       "\n",
       "  Electronic_TrackedHealthCosts Electronic_TestResults HaveDevice_Tablet  \\\n",
       "2                           Yes                    Yes                No   \n",
       "\n",
       "  HaveDevice_SmartPh  ...          SexualOrientation  \\\n",
       "2                 No  ...  Heterosexual, or straight   \n",
       "\n",
       "                                SexualOrientation_OS TotalHousehold  \\\n",
       "2  Inapplicable, coded 1, 2, or 3 in SexualOrient...            1.0   \n",
       "\n",
       "  R_HHAdults HHAdults_Num SelfGender SelfAge   SelfMOB        IncomeRanges  \\\n",
       "2        1.0          1.0       Male    72.0  December  $20,000 to $34,999   \n",
       "\n",
       "  eHealth_Score  \n",
       "2             3  \n",
       "\n",
       "[1 rows x 68 columns]"
      ]
     },
     "execution_count": 6,
     "metadata": {},
     "output_type": "execute_result"
    }
   ],
   "source": [
    "men_df.head(1)"
   ]
  },
  {
   "cell_type": "code",
   "execution_count": null,
   "id": "2000b826",
   "metadata": {},
   "outputs": [],
   "source": []
  }
 ],
 "metadata": {
  "kernelspec": {
   "display_name": "Python 3 (ipykernel)",
   "language": "python",
   "name": "python3"
  },
  "language_info": {
   "codemirror_mode": {
    "name": "ipython",
    "version": 3
   },
   "file_extension": ".py",
   "mimetype": "text/x-python",
   "name": "python",
   "nbconvert_exporter": "python",
   "pygments_lexer": "ipython3",
   "version": "3.9.5"
  }
 },
 "nbformat": 4,
 "nbformat_minor": 5
}

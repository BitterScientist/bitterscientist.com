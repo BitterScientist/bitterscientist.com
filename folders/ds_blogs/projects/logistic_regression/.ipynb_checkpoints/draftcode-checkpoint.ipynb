{
 "cells": [
  {
   "cell_type": "markdown",
   "metadata": {},
   "source": [
    "# mean for weight and heigh by position\n",
    "position_df = nfl_df.groupby('Position')[[\"Height_in\", \"Weight_lbs\"]].agg([\"mean\"])\n",
    "position_df\n",
    "\n",
    "position_df.reset_index(inplace=True) # make index position a column\n",
    "position_df.columns = position_df.columns.droplevel() # drop the multilevel index\n",
    "position_df.columns = [\"position\", \"height\", \"weight\"] # rename columns"
   ]
  },
  {
   "cell_type": "code",
   "execution_count": 15,
   "metadata": {},
   "outputs": [],
   "source": [
    "# instantiate a dataframe\n",
    "result_df = pd.DataFrame()\n",
    "\n",
    "# Add a column with the test predictions\n",
    "result_df['test_y'] = test_y.flatten()\n",
    "\n",
    "# Add a column with predicted values\n",
    "result_df['logreg_pred'] = logreg_pred\n",
    "\n",
    "#The column below will tell us whether each prediction made by our Logistic Regression model was correct.\n",
    "result_df['logreg_correct'] = result_df['logreg_pred'] == result_df['test_y']"
   ]
  },
  {
   "cell_type": "code",
   "execution_count": 18,
   "metadata": {
    "scrolled": true
   },
   "outputs": [
    {
     "data": {
      "image/png": "[encoded data removed]",
      "text/plain": [
       "<Figure size 720x360 with 1 Axes>"
      ]
     },
     "metadata": {
      "needs_background": "light"
     },
     "output_type": "display_data"
    }
   ],
   "source": [
    "plt.figure(figsize=(10, 5))\n",
    "sns.countplot(x=result_df['logreg_correct'], order=[True,False])\n",
    "plt.title('Logistic Regression')\n",
    "plt.xlabel(\"Prediction\")\n",
    "plt.ylabel(\"Count\")\n",
    "plt.savefig(\"static/images/bar_model_verification.png\", bbox_inches='tight')\n",
    "plt.show()"
   ]
  },
  {
   "cell_type": "code",
   "execution_count": null,
   "metadata": {},
   "outputs": [],
   "source": []
  }
 ],
 "metadata": {
  "kernelspec": {
   "display_name": "Python 3",
   "language": "python",
   "name": "python3"
  },
  "language_info": {
   "codemirror_mode": {
    "name": "ipython",
    "version": 3
   },
   "file_extension": ".py",
   "mimetype": "text/x-python",
   "name": "python",
   "nbconvert_exporter": "python",
   "pygments_lexer": "ipython3",
   "version": "3.8.2"
  }
 },
 "nbformat": 4,
 "nbformat_minor": 4
}

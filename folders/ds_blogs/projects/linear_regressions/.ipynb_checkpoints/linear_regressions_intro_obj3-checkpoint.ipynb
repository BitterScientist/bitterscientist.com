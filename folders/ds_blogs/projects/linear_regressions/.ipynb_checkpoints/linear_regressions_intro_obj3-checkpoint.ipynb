{
 "cells": [
  {
   "cell_type": "markdown",
   "metadata": {},
   "source": [
    "<div style=\"border:2px solid black; padding:10px\">\n",
    "    \n",
    "# <font color=\"blue\">Objective: </font>Describe the process used to calculate the theta best.\n",
    "</div>"
   ]
  },
  {
   "cell_type": "markdown",
   "metadata": {},
   "source": [
    "# Import Dependencies"
   ]
  },
  {
   "cell_type": "code",
   "execution_count": 1,
   "metadata": {},
   "outputs": [],
   "source": [
    "# Python ≥3.5 is required\n",
    "import sys\n",
    "assert sys.version_info >= (3, 5)\n",
    "\n",
    "# Scikit-Learn ≥0.20 is required\n",
    "import sklearn\n",
    "assert sklearn.__version__ >= \"0.20\"\n",
    "\n",
    "import pandas as pd\n",
    "import numpy as np\n",
    "\n",
    "# Load data\n",
    "%store -r X\n",
    "%store -r y"
   ]
  },
  {
   "cell_type": "markdown",
   "metadata": {},
   "source": [
    "<hr style=\"border-top: 2px solid black;\">"
   ]
  },
  {
   "cell_type": "markdown",
   "metadata": {},
   "source": [
    "# Linear regression using the Normal Equation\n",
    "\n",
    " - Linear Regression Modeling using Cost Function\n",
    " - Cost function measures the distance between the linear model's prediction and the training examples.\n",
    " - It measures how bad the model is at predicting.\n",
    " - The linear model finds the best parameters that make the model fit best to the data.\n",
    " - Normal Equation is an analytical approach to Linear Regression with a Least Square Cost Function. "
   ]
  },
  {
   "cell_type": "markdown",
   "metadata": {},
   "source": [
    "# Normal Equation\n",
    "<img src=\"static/images/normal_equation.png\" alt=\"html\" class=\"background-pic\" width=\"25%\" height=\"10%\">\n",
    "\n",
    " - Hat theta (theta_best) is the value of the theta parameter that minimizes the cost function\n",
    " - y is the vector of the target we are to predict"
   ]
  },
  {
   "cell_type": "markdown",
   "metadata": {},
   "source": [
    "<hr style=\"border-top: 2px solid black;\">"
   ]
  },
  {
   "cell_type": "markdown",
   "metadata": {},
   "source": [
    "# The theta_best can be calcualted in two steps. The following code will explain these steps more carefully, and show you what the data should look like at each step. This will help you troubleshoot your own projects using this model.\n",
    "\n",
    " - Step 1: <code>X_b = np.c_[np.ones((len(X), 1)), X]</code>\n",
    " - Step 2: <code>theta_best = np.linalg.inv(X_b.T.dot(X_b).dot(X_b.T).dot(y)</code>"
   ]
  },
  {
   "cell_type": "markdown",
   "metadata": {},
   "source": [
    "# Explain the theta_best calculation of The Normal Equation in 5 Steps\n",
    "\n",
    " - Step 1: Create a 2D Array  <code>X_b</code> from <code>X</code>\n",
    "  - <code>X_b</code> will containing two values per instance <code>1, and GDP per country</code>\n",
    " - Step 2: Create a new Matrix <code>X_b_transposed</code>\n",
    "  - <code>X_b_transposed</code> is the Transposed Matrix of <code>X_b</code>\n",
    " - Step 3: Create a new Matrix <code>mm</code>\n",
    "  - mm is obtained by multiplying <code>X_b_transposed</code> by <code>X_b</code>\n",
    " - Step 4: Create a new Matrix <code>inv_matrix</code>\n",
    "  - This matrix is the inverse of the <code>mm</code> matrix\n",
    " - Step 5: Calculte the optimal parameter Theta_best $\\hat{\\theta}$\n",
    "  - theta_best = <code>inv_matrix.dot(X_b.T).dot(y)</code>"
   ]
  },
  {
   "cell_type": "markdown",
   "metadata": {},
   "source": [
    "# Reminder: the <CODE>X</CODE> is a stacked array with the GDP per capita for each country\n",
    "\n",
    " - This is our 'independent variable'"
   ]
  },
  {
   "cell_type": "code",
   "execution_count": 2,
   "metadata": {},
   "outputs": [
    {
     "data": {
      "text/plain": [
       "array([[ 50961.87],\n",
       "       [ 43724.03],\n",
       "       [ 40106.63],\n",
       "       [ 43331.96],\n",
       "       [ 17256.92],\n",
       "       [ 52114.17],\n",
       "       [ 41973.99],\n",
       "       [ 37675.01],\n",
       "       [ 40996.51],\n",
       "       [ 18064.29],\n",
       "       [ 12239.89],\n",
       "       [ 50854.58],\n",
       "       [ 51350.74],\n",
       "       [ 29866.58],\n",
       "       [ 32485.55],\n",
       "       [ 27195.2 ],\n",
       "       [101994.09],\n",
       "       [  9009.28],\n",
       "       [ 43603.12],\n",
       "       [ 37044.89],\n",
       "       [ 74822.11],\n",
       "       [ 12495.33],\n",
       "       [ 19121.59],\n",
       "       [ 15991.74],\n",
       "       [ 25864.72],\n",
       "       [ 49866.27],\n",
       "       [ 80675.31],\n",
       "       [  9437.37],\n",
       "       [ 43770.69],\n",
       "       [ 55805.2 ],\n",
       "       [  8670.  ],\n",
       "       [ 13340.91],\n",
       "       [ 17288.08],\n",
       "       [ 35343.34],\n",
       "       [ 13618.57],\n",
       "       [  9054.91],\n",
       "       [ 20732.48],\n",
       "       [  5694.57],\n",
       "       [  6083.51],\n",
       "       [ 14210.28]])"
      ]
     },
     "execution_count": 2,
     "metadata": {},
     "output_type": "execute_result"
    }
   ],
   "source": [
    "X"
   ]
  },
  {
   "cell_type": "code",
   "execution_count": 3,
   "metadata": {},
   "outputs": [
    {
     "data": {
      "text/plain": [
       "(40, 1)"
      ]
     },
     "execution_count": 3,
     "metadata": {},
     "output_type": "execute_result"
    }
   ],
   "source": [
    "X.shape"
   ]
  },
  {
   "cell_type": "markdown",
   "metadata": {},
   "source": [
    "<div style=\"border:1px solid black; padding:10px\">\n",
    "    \n",
    "<font color=\"blue\">Note:</font><br>\n",
    " - 40 is the number of GDPs \n",
    " - 1 is the number of 'columns' in this X array\n",
    "\n",
    "</div>"
   ]
  },
  {
   "cell_type": "markdown",
   "metadata": {},
   "source": [
    "<hr style=\"border-top: 2px solid black;\">"
   ]
  },
  {
   "cell_type": "markdown",
   "metadata": {},
   "source": [
    "# Step 1: Create a 2D Array <code>X_b</code> that contains  <code>1</code> and  <code>X</code> per instance. The X contains the GDP per country\n",
    "\n",
    "Use numpy's np.c_ and np.ones()\n",
    " - np.c_ : Translates slice objects to concatenation along the second axis.\n",
    " - Documentation as of 5/15/20:\n",
    "  - https://numpy.org/devdocs/reference/generated/numpy.c_.html\n",
    " - np.ones(): Return a new array of given shape and type, filled with ones.\n",
    " - Documentation as of 5/15/20:\n",
    "  - https://numpy.org/devdocs/reference/generated/numpy.ones.html"
   ]
  },
  {
   "cell_type": "code",
   "execution_count": 4,
   "metadata": {},
   "outputs": [
    {
     "data": {
      "text/plain": [
       "array([[1.0000000e+00, 5.0961870e+04],\n",
       "       [1.0000000e+00, 4.3724030e+04],\n",
       "       [1.0000000e+00, 4.0106630e+04],\n",
       "       [1.0000000e+00, 4.3331960e+04],\n",
       "       [1.0000000e+00, 1.7256920e+04],\n",
       "       [1.0000000e+00, 5.2114170e+04],\n",
       "       [1.0000000e+00, 4.1973990e+04],\n",
       "       [1.0000000e+00, 3.7675010e+04],\n",
       "       [1.0000000e+00, 4.0996510e+04],\n",
       "       [1.0000000e+00, 1.8064290e+04],\n",
       "       [1.0000000e+00, 1.2239890e+04],\n",
       "       [1.0000000e+00, 5.0854580e+04],\n",
       "       [1.0000000e+00, 5.1350740e+04],\n",
       "       [1.0000000e+00, 2.9866580e+04],\n",
       "       [1.0000000e+00, 3.2485550e+04],\n",
       "       [1.0000000e+00, 2.7195200e+04],\n",
       "       [1.0000000e+00, 1.0199409e+05],\n",
       "       [1.0000000e+00, 9.0092800e+03],\n",
       "       [1.0000000e+00, 4.3603120e+04],\n",
       "       [1.0000000e+00, 3.7044890e+04],\n",
       "       [1.0000000e+00, 7.4822110e+04],\n",
       "       [1.0000000e+00, 1.2495330e+04],\n",
       "       [1.0000000e+00, 1.9121590e+04],\n",
       "       [1.0000000e+00, 1.5991740e+04],\n",
       "       [1.0000000e+00, 2.5864720e+04],\n",
       "       [1.0000000e+00, 4.9866270e+04],\n",
       "       [1.0000000e+00, 8.0675310e+04],\n",
       "       [1.0000000e+00, 9.4373700e+03],\n",
       "       [1.0000000e+00, 4.3770690e+04],\n",
       "       [1.0000000e+00, 5.5805200e+04],\n",
       "       [1.0000000e+00, 8.6700000e+03],\n",
       "       [1.0000000e+00, 1.3340910e+04],\n",
       "       [1.0000000e+00, 1.7288080e+04],\n",
       "       [1.0000000e+00, 3.5343340e+04],\n",
       "       [1.0000000e+00, 1.3618570e+04],\n",
       "       [1.0000000e+00, 9.0549100e+03],\n",
       "       [1.0000000e+00, 2.0732480e+04],\n",
       "       [1.0000000e+00, 5.6945700e+03],\n",
       "       [1.0000000e+00, 6.0835100e+03],\n",
       "       [1.0000000e+00, 1.4210280e+04]])"
      ]
     },
     "execution_count": 4,
     "metadata": {},
     "output_type": "execute_result"
    }
   ],
   "source": [
    "# add x0 = 1 to each instance, \n",
    "# and then it also adds the GPD from the X array\n",
    "# np.c_ creates the stacked 2d array out of those values\n",
    "X_b = np.c_[np.ones((40, 1)), X]\n",
    "X_b"
   ]
  },
  {
   "cell_type": "code",
   "execution_count": 5,
   "metadata": {},
   "outputs": [
    {
     "data": {
      "text/plain": [
       "(40, 2)"
      ]
     },
     "execution_count": 5,
     "metadata": {},
     "output_type": "execute_result"
    }
   ],
   "source": [
    "X_b.shape"
   ]
  },
  {
   "cell_type": "markdown",
   "metadata": {},
   "source": [
    "<div style=\"border:1px solid black; padding:10px\">\n",
    "    \n",
    "<font color=\"blue\">Note:</font><br>\n",
    " - 40 is the number of GDPs, this did not change\n",
    " - 2 is the number of 'columns' in this X_b 2d array, the 1st column is the 1 we added used np.ones(), and the other value is the GDP\n",
    "\n",
    "</div>"
   ]
  },
  {
   "cell_type": "markdown",
   "metadata": {},
   "source": [
    "<hr style=\"border-top: 2px solid black;\">"
   ]
  },
  {
   "cell_type": "markdown",
   "metadata": {},
   "source": [
    "# Step 2: Create a new Matrix <code>X_b_transposed</code> by transposing <code>X_b</code>"
   ]
  },
  {
   "cell_type": "markdown",
   "metadata": {},
   "source": [
    "## Matrix transpose using numpy .T attribute.\n",
    "\n",
    " - Documentation as of 5/15/20: https://numpy.org/devdocs/reference/generated/numpy.ndarray.T.html\n",
    " \n",
    "## Matrix transpose Example\n",
    "The transpose of a matrix $M$ is a matrix noted $M^T$ such that the $i^{th}$ row in $M^T$ is equal to the $i^{th}$ column in $M$:\n",
    "\n",
    "$ Xb^T =\n",
    "\\begin{bmatrix}\n",
    "  1 & 5.09 \\\\\n",
    "  1 & 4.37 \n",
    "\\end{bmatrix}^T =\n",
    "\\begin{bmatrix}\n",
    "  1 & 1 \\\\\n",
    "  5.09 & 4.37\n",
    "\\end{bmatrix}$"
   ]
  },
  {
   "cell_type": "code",
   "execution_count": 6,
   "metadata": {},
   "outputs": [],
   "source": [
    "X_b_transposed = X_b.T"
   ]
  },
  {
   "cell_type": "markdown",
   "metadata": {},
   "source": [
    "### Inspect transposition"
   ]
  },
  {
   "cell_type": "code",
   "execution_count": 7,
   "metadata": {},
   "outputs": [
    {
     "data": {
      "text/plain": [
       "array([[1.0000000e+00, 1.0000000e+00, 1.0000000e+00, 1.0000000e+00,\n",
       "        1.0000000e+00, 1.0000000e+00, 1.0000000e+00, 1.0000000e+00,\n",
       "        1.0000000e+00, 1.0000000e+00, 1.0000000e+00, 1.0000000e+00,\n",
       "        1.0000000e+00, 1.0000000e+00, 1.0000000e+00, 1.0000000e+00,\n",
       "        1.0000000e+00, 1.0000000e+00, 1.0000000e+00, 1.0000000e+00,\n",
       "        1.0000000e+00, 1.0000000e+00, 1.0000000e+00, 1.0000000e+00,\n",
       "        1.0000000e+00, 1.0000000e+00, 1.0000000e+00, 1.0000000e+00,\n",
       "        1.0000000e+00, 1.0000000e+00, 1.0000000e+00, 1.0000000e+00,\n",
       "        1.0000000e+00, 1.0000000e+00, 1.0000000e+00, 1.0000000e+00,\n",
       "        1.0000000e+00, 1.0000000e+00, 1.0000000e+00, 1.0000000e+00],\n",
       "       [5.0961870e+04, 4.3724030e+04, 4.0106630e+04, 4.3331960e+04,\n",
       "        1.7256920e+04, 5.2114170e+04, 4.1973990e+04, 3.7675010e+04,\n",
       "        4.0996510e+04, 1.8064290e+04, 1.2239890e+04, 5.0854580e+04,\n",
       "        5.1350740e+04, 2.9866580e+04, 3.2485550e+04, 2.7195200e+04,\n",
       "        1.0199409e+05, 9.0092800e+03, 4.3603120e+04, 3.7044890e+04,\n",
       "        7.4822110e+04, 1.2495330e+04, 1.9121590e+04, 1.5991740e+04,\n",
       "        2.5864720e+04, 4.9866270e+04, 8.0675310e+04, 9.4373700e+03,\n",
       "        4.3770690e+04, 5.5805200e+04, 8.6700000e+03, 1.3340910e+04,\n",
       "        1.7288080e+04, 3.5343340e+04, 1.3618570e+04, 9.0549100e+03,\n",
       "        2.0732480e+04, 5.6945700e+03, 6.0835100e+03, 1.4210280e+04]])"
      ]
     },
     "execution_count": 7,
     "metadata": {},
     "output_type": "execute_result"
    }
   ],
   "source": [
    "X_b_transposed"
   ]
  },
  {
   "cell_type": "code",
   "execution_count": 8,
   "metadata": {},
   "outputs": [
    {
     "data": {
      "text/plain": [
       "(2, 40)"
      ]
     },
     "execution_count": 8,
     "metadata": {},
     "output_type": "execute_result"
    }
   ],
   "source": [
    "X_b_transposed.shape"
   ]
  },
  {
   "cell_type": "markdown",
   "metadata": {},
   "source": [
    "<div style=\"border:1px solid black; padding:10px\">\n",
    "    \n",
    "<font color=\"blue\">Note:</font><br>\n",
    " - The X<code>X_b</code>b had a shape of (40, 2)\n",
    " - The transposed <code>X_b_transposed</code> has a shape of (2, 40), so now there are two 'rows' and 40 'instances'\n",
    " - The 1's have been 'separated' from the GPD data in this 2D transpossed array\n",
    "\n",
    "</div>"
   ]
  },
  {
   "cell_type": "markdown",
   "metadata": {},
   "source": [
    "<hr style=\"border-top: 2px solid black;\">"
   ]
  },
  {
   "cell_type": "markdown",
   "metadata": {},
   "source": [
    "# Step 3: Create a new Matrix <code>mm</code> by Multiplying the transposed maxtrix  <code>X_b_transposed</code> by <code>X_b</code>\n",
    "\n",
    " - Use the dot product (scalar product) of two vectors approach\n",
    " - Documentation as of 5/15/20: https://numpy.org/devdocs/reference/generated/numpy.dot.html"
   ]
  },
  {
   "cell_type": "code",
   "execution_count": 9,
   "metadata": {},
   "outputs": [],
   "source": [
    "# Matrix multiplication (mm)\n",
    "mm = X_b_transposed.dot(X_b)"
   ]
  },
  {
   "cell_type": "code",
   "execution_count": 10,
   "metadata": {},
   "outputs": [
    {
     "data": {
      "text/plain": [
       "array([[4.00000000e+01, 1.31373628e+06],\n",
       "       [1.31373628e+06, 6.19433521e+10]])"
      ]
     },
     "execution_count": 10,
     "metadata": {},
     "output_type": "execute_result"
    }
   ],
   "source": [
    "# Print values of mm\n",
    "mm"
   ]
  },
  {
   "cell_type": "code",
   "execution_count": 11,
   "metadata": {},
   "outputs": [
    {
     "data": {
      "text/plain": [
       "(2, 2)"
      ]
     },
     "execution_count": 11,
     "metadata": {},
     "output_type": "execute_result"
    }
   ],
   "source": [
    "mm.shape"
   ]
  },
  {
   "cell_type": "markdown",
   "metadata": {},
   "source": [
    "<div style=\"border:1px solid black; padding:10px\">\n",
    "    \n",
    "<font color=\"blue\">Note:</font><br>\n",
    " - <code>mm</code> is now 2 by 2\n",
    " - Matrix multiplication will reduce the matrix shape\n",
    "\n",
    "</div>"
   ]
  },
  {
   "cell_type": "markdown",
   "metadata": {},
   "source": [
    "<hr style=\"border-top: 2px solid black;\">"
   ]
  },
  {
   "cell_type": "markdown",
   "metadata": {},
   "source": [
    "# Step 4: Compute the inverse of the matrix using <code>np.linalg.inv(a)</code>\n",
    "\n",
    " - Compute the (multiplicative) inverse of a matrix.\n",
    " - Documentation as of 5/15/20: https://numpy.org/doc/1.18/reference/generated/numpy.linalg.inv.html"
   ]
  },
  {
   "cell_type": "code",
   "execution_count": 12,
   "metadata": {},
   "outputs": [],
   "source": [
    "inv_matrix = np.linalg.inv(mm)"
   ]
  },
  {
   "cell_type": "code",
   "execution_count": 13,
   "metadata": {},
   "outputs": [
    {
     "data": {
      "text/plain": [
       "array([[ 8.23899871e-02, -1.74738227e-06],\n",
       "       [-1.74738227e-06,  5.32034411e-11]])"
      ]
     },
     "execution_count": 13,
     "metadata": {},
     "output_type": "execute_result"
    }
   ],
   "source": [
    "# Print output\n",
    "inv_matrix"
   ]
  },
  {
   "cell_type": "markdown",
   "metadata": {},
   "source": [
    "<hr style=\"border-top: 2px solid black;\">"
   ]
  },
  {
   "cell_type": "markdown",
   "metadata": {},
   "source": [
    "# Step 5: Calculate Theta_best by multiplying the inverse matrix <code>X_b.T</code> to the predictor vector <code>y</code> using the <code>.dot()</code> method"
   ]
  },
  {
   "cell_type": "code",
   "execution_count": 14,
   "metadata": {},
   "outputs": [],
   "source": [
    "theta_best = inv_matrix.dot(X_b.T).dot(y)"
   ]
  },
  {
   "cell_type": "code",
   "execution_count": 15,
   "metadata": {},
   "outputs": [
    {
     "data": {
      "text/plain": [
       "array([[5.72408174e+00],\n",
       "       [2.46904428e-05]])"
      ]
     },
     "execution_count": 15,
     "metadata": {},
     "output_type": "execute_result"
    }
   ],
   "source": [
    "theta_best"
   ]
  },
  {
   "cell_type": "code",
   "execution_count": 16,
   "metadata": {},
   "outputs": [
    {
     "name": "stdout",
     "output_type": "stream",
     "text": [
      "The intercept for the normal equation is [5.72408174], \n",
      "and the coefficient is: [2.46904428e-05] \n"
     ]
    }
   ],
   "source": [
    "intercept, line_coef = theta_best[0], theta_best[1]\n",
    "print('The intercept for the normal equation is {}, \\nand the coefficient is: {} '.format(intercept, line_coef))"
   ]
  },
  {
   "cell_type": "markdown",
   "metadata": {},
   "source": [
    "<hr style=\"border-top: 2px solid black;\">"
   ]
  }
 ],
 "metadata": {
  "kernelspec": {
   "display_name": "Python 3",
   "language": "python",
   "name": "python3"
  },
  "language_info": {
   "codemirror_mode": {
    "name": "ipython",
    "version": 3
   },
   "file_extension": ".py",
   "mimetype": "text/x-python",
   "name": "python",
   "nbconvert_exporter": "python",
   "pygments_lexer": "ipython3",
   "version": "3.7.6"
  }
 },
 "nbformat": 4,
 "nbformat_minor": 2
}

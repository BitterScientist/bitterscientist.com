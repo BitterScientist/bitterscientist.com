{
 "cells": [
  {
   "cell_type": "markdown",
   "metadata": {},
   "source": [
    "<div style=\"border:2px solid black; padding:10px\">\n",
    "    \n",
    "# <font color=\"blue\">Objective: </font>Data extraction, transformation, loading, and exploring pipeline\n",
    "</div>"
   ]
  },
  {
   "cell_type": "markdown",
   "metadata": {},
   "source": [
    "# Import Dependencies"
   ]
  },
  {
   "cell_type": "code",
   "execution_count": 1,
   "metadata": {},
   "outputs": [],
   "source": [
    "# Python ≥3.5 is required\n",
    "import sys\n",
    "assert sys.version_info >= (3, 5)\n",
    "\n",
    "# Scikit-Learn ≥0.20 is required\n",
    "import sklearn\n",
    "assert sklearn.__version__ >= \"0.20\"\n",
    "\n",
    "import pandas as pd\n",
    "import numpy as np\n",
    "\n",
    "# To plot pretty figures directly within Jupyter\n",
    "%matplotlib inline\n",
    "import matplotlib as mpl\n",
    "import matplotlib.pyplot as plt\n",
    "mpl.rc('axes', labelsize=14)\n",
    "mpl.rc('xtick', labelsize=12)\n",
    "mpl.rc('ytick', labelsize=12)"
   ]
  },
  {
   "cell_type": "markdown",
   "metadata": {},
   "source": [
    "<hr style=\"border-top: 2px solid black;\">"
   ]
  },
  {
   "cell_type": "markdown",
   "metadata": {},
   "source": [
    "# Import Data\n",
    "\n",
    " - Better Life Index data from the Organisation for Economic Co-operation and Development (OECD) website\n",
    " - Website: https://stats.oecd.org/index.aspx?DataSetCode=BLI\n",
    " - Gross domestic product (GDP) per capita in 2015 from the International Monetary Fund\n",
    " - Website: https://homl.info/5"
   ]
  },
  {
   "cell_type": "code",
   "execution_count": 2,
   "metadata": {},
   "outputs": [],
   "source": [
    "better_life_index_file =\"bli_oecd.csv\"\n",
    "# Only import necessary columns from bli dataset\n",
    "bli_df = pd.read_csv(better_life_index_file, usecols=['LOCATION', 'Country', 'Indicator', 'Inequality', 'Value'])\n",
    "gdp_file = 'gdp_data.csv'\n",
    "dfp_df = pd.read_csv(gdp_file)"
   ]
  },
  {
   "cell_type": "markdown",
   "metadata": {},
   "source": [
    "<hr style=\"border-top: 2px solid black;\">"
   ]
  },
  {
   "cell_type": "markdown",
   "metadata": {},
   "source": [
    "# Inspect Dataframes"
   ]
  },
  {
   "cell_type": "code",
   "execution_count": 3,
   "metadata": {},
   "outputs": [
    {
     "name": "stdout",
     "output_type": "stream",
     "text": [
      "The shape for the Better Life Index dataframes is: (2369, 5)\n",
      "The shape for the GDP dataframes is: (189, 2)\n"
     ]
    }
   ],
   "source": [
    "print('The shape for the {} dataframes is: {}'.format('Better Life Index', bli_df.shape))\n",
    "print('The shape for the {} dataframes is: {}'.format('GDP', dfp_df.shape))"
   ]
  },
  {
   "cell_type": "markdown",
   "metadata": {},
   "source": [
    "<div style=\"border:1px solid black; padding:10px\">\n",
    "<font color=\"blue\">Note:</font><br>\n",
    "There are more countries listed in the BLI dataframe thant here are in the gdp country dataframe\n",
    "</div>"
   ]
  },
  {
   "cell_type": "markdown",
   "metadata": {},
   "source": [
    "<div style=\"border:1px solid black; padding:10px\">\n",
    "<font color=\"blue\">Note:</font><br>\n",
    " - Only care about Indicator = \"Life satisfaction\" and Inequality = \"Total\"\n",
    " - Will filter for those conditions\n",
    "</div>"
   ]
  },
  {
   "cell_type": "code",
   "execution_count": 4,
   "metadata": {},
   "outputs": [],
   "source": [
    "# Update dataframe\n",
    "bli_df = bli_df[bli_df.Indicator.str.contains('Life satisfaction') & bli_df.Inequality.str.contains('Total')]"
   ]
  },
  {
   "cell_type": "code",
   "execution_count": 5,
   "metadata": {},
   "outputs": [
    {
     "name": "stdout",
     "output_type": "stream",
     "text": [
      "The number of unique values in the Indicator column is 1, \n",
      "and the number of unique values in the Inequality column is 1 \n",
      "      \n"
     ]
    }
   ],
   "source": [
    "# Inspect data\n",
    "print('''The number of unique values in the Indicator column is {}, \\nand the number of unique values in the Inequality column is {} \n",
    "      '''.format(len(bli_df.Indicator.unique()), len(bli_df.Inequality.unique())))"
   ]
  },
  {
   "cell_type": "markdown",
   "metadata": {},
   "source": [
    "<div style=\"border:1px solid black; padding:10px\">\n",
    "<font color=\"blue\">Note:</font><br>\n",
    "Successfully filtered BLI data.\n",
    "</div>"
   ]
  },
  {
   "cell_type": "markdown",
   "metadata": {},
   "source": [
    "# Merge Dataframes using <code>Dataframe.merge()</code>\n",
    " - Documentation as of 5/16/20: https://pandas.pydata.org/pandas-docs/stable/reference/api/pandas.DataFrame.merge.html"
   ]
  },
  {
   "cell_type": "code",
   "execution_count": 6,
   "metadata": {},
   "outputs": [],
   "source": [
    "df = bli_df.merge(dfp_df, how=\"left\", on=\"Country\")"
   ]
  },
  {
   "cell_type": "code",
   "execution_count": 7,
   "metadata": {},
   "outputs": [],
   "source": [
    "# Clean data, drop uncessary columns\n",
    "not_needed = ['Indicator', 'Inequality']\n",
    "# Drop columns that are not necessary\n",
    "df.drop(not_needed, axis=1, inplace=True)\n",
    "# Drop row with missing value\n",
    "df.dropna(inplace=True)"
   ]
  },
  {
   "cell_type": "markdown",
   "metadata": {},
   "source": [
    "<hr style=\"border-top: 2px solid black;\">"
   ]
  },
  {
   "cell_type": "markdown",
   "metadata": {},
   "source": [
    "# Visualize the Data"
   ]
  },
  {
   "cell_type": "markdown",
   "metadata": {},
   "source": [
    "### Prepare Data for plotting and linear regression\n",
    "\n",
    " - np.c_ method translates slice objects to concatenation along the second axis.\n",
    " - Stack 1-D arrays as columns into a 2-D array.\n",
    " - Documentation as of 5/16/20: https://numpy.org/devdocs/reference/generated/numpy.c_.html\n",
    " - This is important for matrix calculations"
   ]
  },
  {
   "cell_type": "code",
   "execution_count": 8,
   "metadata": {},
   "outputs": [],
   "source": [
    "# Translates slice objects to concatenation along the second axis.\n",
    "# Data for plotting\n",
    "X = np.c_[df[\"GDP\"]]\n",
    "y = np.c_[df[\"Value\"]]\n",
    "labels = df.Country\n",
    "# To mark US datapoint\n",
    "us_data = df[df.Country == 'United States']"
   ]
  },
  {
   "cell_type": "code",
   "execution_count": 9,
   "metadata": {},
   "outputs": [
    {
     "data": {
      "image/png": "[encoded data removed]",
      "text/plain": [
       "<Figure size 576x576 with 1 Axes>"
      ]
     },
     "metadata": {
      "needs_background": "light"
     },
     "output_type": "display_data"
    }
   ],
   "source": [
    "fig, axes = plt.subplots(1,1, figsize=(8,8))\n",
    "axes.set_xlabel('GDP per capita (USD)', fontsize = 14)\n",
    "axes.set_ylabel('Life Satisfaction', fontsize = 14)\n",
    "axes.set_ylim(2, 10)\n",
    "plt.scatter(X, y, axes=axes)\n",
    "plt.scatter(us_data.GDP, us_data.Value, color='red', axes=axes)\n",
    "\n",
    "# zip joins x and y coordinates in pairs\n",
    "for xs, ys, label in zip(X,y,labels):\n",
    "    \n",
    "    plt.annotate(label, # this is the text\n",
    "                 (xs,ys), # this is the point to label\n",
    "                 textcoords=\"offset points\", # how to position the text\n",
    "                 xytext=(0,10), # distance from text to points (x,y)\n",
    "                 ha='center') # horizontal alignment can be left, right or center\n",
    "\n",
    "\n",
    "plt.show()"
   ]
  },
  {
   "cell_type": "markdown",
   "metadata": {},
   "source": [
    "<div style=\"border:1px solid black; padding:10px\">\n",
    "<font color=\"blue\">Note:</font><br>\n",
    "There seems to be a trend, as GPD increases, so does the life satisfaction score.<br>\n",
    "The US is in red.<br>\n",
    "</div>"
   ]
  },
  {
   "cell_type": "markdown",
   "metadata": {},
   "source": [
    "<hr style=\"border-top: 2px solid black;\">"
   ]
  },
  {
   "cell_type": "code",
   "execution_count": 10,
   "metadata": {},
   "outputs": [
    {
     "name": "stdout",
     "output_type": "stream",
     "text": [
      "Stored 'df' (DataFrame)\n",
      "Stored 'X' (ndarray)\n",
      "Stored 'y' (ndarray)\n"
     ]
    }
   ],
   "source": [
    "# Store data\n",
    "%store df\n",
    "%store X\n",
    "%store y"
   ]
  }
 ],
 "metadata": {
  "kernelspec": {
   "display_name": "Python 3",
   "language": "python",
   "name": "python3"
  },
  "language_info": {
   "codemirror_mode": {
    "name": "ipython",
    "version": 3
   },
   "file_extension": ".py",
   "mimetype": "text/x-python",
   "name": "python",
   "nbconvert_exporter": "python",
   "pygments_lexer": "ipython3",
   "version": "3.8.5"
  }
 },
 "nbformat": 4,
 "nbformat_minor": 2
}

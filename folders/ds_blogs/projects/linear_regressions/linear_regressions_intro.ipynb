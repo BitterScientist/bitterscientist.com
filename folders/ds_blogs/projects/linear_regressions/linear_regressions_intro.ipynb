{
 "cells": [
  {
   "cell_type": "markdown",
   "metadata": {},
   "source": [
    "<div style=\"border:2px solid black; padding:10px\">\n",
    "    \n",
    "# <font color=\"blue\">Objective: </font>Provide an Introduction to the Linear Regression Normal Equation\n",
    "</div>"
   ]
  },
  {
   "cell_type": "markdown",
   "metadata": {},
   "source": [
    "# Import Dependencies"
   ]
  },
  {
   "cell_type": "code",
   "execution_count": 1,
   "metadata": {},
   "outputs": [],
   "source": [
    "# Python ≥3.5 is required\n",
    "import sys\n",
    "assert sys.version_info >= (3, 5)\n",
    "\n",
    "# Scikit-Learn ≥0.20 is required\n",
    "import sklearn\n",
    "assert sklearn.__version__ >= \"0.20\"\n",
    "\n",
    "import pandas as pd\n",
    "import numpy as np\n",
    "\n",
    "# To plot pretty figures directly within Jupyter\n",
    "%matplotlib inline\n",
    "import matplotlib as mpl\n",
    "import matplotlib.pyplot as plt\n",
    "mpl.rc('axes', labelsize=14)\n",
    "mpl.rc('xtick', labelsize=12)\n",
    "mpl.rc('ytick', labelsize=12)\n",
    "\n",
    "# Linear regression\n",
    "from sklearn.linear_model import LinearRegression"
   ]
  },
  {
   "cell_type": "markdown",
   "metadata": {},
   "source": [
    "<hr style=\"border-top: 2px solid black;\">"
   ]
  },
  {
   "cell_type": "markdown",
   "metadata": {},
   "source": [
    "# Import Data\n",
    "\n",
    " - Better Life Index data from the Organisation for Economic Co-operation and Development (OECD) website\n",
    " - Website: https://stats.oecd.org/index.aspx?DataSetCode=BLI\n",
    " - Gross domestic product (GDP) per capita in 2015 from the International Monetary Fund\n",
    " - Website: https://homl.info/5"
   ]
  },
  {
   "cell_type": "code",
   "execution_count": 2,
   "metadata": {},
   "outputs": [],
   "source": [
    "better_life_index_file =\"bli_oecd.csv\"\n",
    "# Only import necessary columns from bli dataset\n",
    "bli_df = pd.read_csv(better_life_index_file, usecols=['LOCATION', 'Country', 'Indicator', 'Inequality', 'Value'])\n",
    "gdp_file = 'gdp_data.csv'\n",
    "dfp_df = pd.read_csv(gdp_file)"
   ]
  },
  {
   "cell_type": "markdown",
   "metadata": {},
   "source": [
    "<hr style=\"border-top: 2px solid black;\">"
   ]
  },
  {
   "cell_type": "markdown",
   "metadata": {},
   "source": [
    "# Inspect Dataframes"
   ]
  },
  {
   "cell_type": "code",
   "execution_count": 3,
   "metadata": {},
   "outputs": [
    {
     "name": "stdout",
     "output_type": "stream",
     "text": [
      "The shape for the Better Life Index dataframes is: (2369, 5)\n",
      "The shape for the GDP dataframes is: (189, 2)\n"
     ]
    }
   ],
   "source": [
    "print('The shape for the {} dataframes is: {}'.format('Better Life Index', bli_df.shape))\n",
    "print('The shape for the {} dataframes is: {}'.format('GDP', dfp_df.shape))"
   ]
  },
  {
   "cell_type": "markdown",
   "metadata": {},
   "source": [
    "<div style=\"border:1px solid black; padding:10px\">\n",
    "<font color=\"blue\">Note:</font><br>\n",
    "There are more countries listed in the BLI dataframe thant here are in the gdp country dataframe\n",
    "</div>"
   ]
  },
  {
   "cell_type": "markdown",
   "metadata": {},
   "source": [
    "<div style=\"border:1px solid black; padding:10px\">\n",
    "<font color=\"blue\">Note:</font><br>\n",
    " - Only care about Indicator = \"Life satisfaction\" and Inequality = \"Total\"\n",
    " - Will filter for those conditions\n",
    "</div>"
   ]
  },
  {
   "cell_type": "code",
   "execution_count": 4,
   "metadata": {},
   "outputs": [],
   "source": [
    "# Update dataframe\n",
    "bli_df = bli_df[bli_df.Indicator.str.contains('Life satisfaction') & bli_df.Inequality.str.contains('Total')]"
   ]
  },
  {
   "cell_type": "code",
   "execution_count": 5,
   "metadata": {},
   "outputs": [
    {
     "name": "stdout",
     "output_type": "stream",
     "text": [
      "The number of unique values in the Indicator column is 1, \n",
      "and the number of unique values in the Inequality column is 1 \n",
      "      \n"
     ]
    }
   ],
   "source": [
    "# Inspect data\n",
    "print('''The number of unique values in the Indicator column is {}, \\nand the number of unique values in the Inequality column is {} \n",
    "      '''.format(len(bli_df.Indicator.unique()), len(bli_df.Inequality.unique())))"
   ]
  },
  {
   "cell_type": "markdown",
   "metadata": {},
   "source": [
    "<div style=\"border:1px solid black; padding:10px\">\n",
    "<font color=\"blue\">Note:</font><br>\n",
    "Successfully filtered BLI data.\n",
    "</div>"
   ]
  },
  {
   "cell_type": "markdown",
   "metadata": {},
   "source": [
    "# Merge Dataframes using <code>Dataframe.merge()</code>\n",
    " - Documentation as of 5/16/20: https://pandas.pydata.org/pandas-docs/stable/reference/api/pandas.DataFrame.merge.html"
   ]
  },
  {
   "cell_type": "code",
   "execution_count": 6,
   "metadata": {},
   "outputs": [],
   "source": [
    "df = bli_df.merge(dfp_df, how=\"left\", on=\"Country\")"
   ]
  },
  {
   "cell_type": "code",
   "execution_count": 7,
   "metadata": {},
   "outputs": [],
   "source": [
    "# Clean data, drop uncessary columns\n",
    "not_needed = ['Indicator', 'Inequality']\n",
    "# Drop columns that are not necessary\n",
    "df.drop(not_needed, axis=1, inplace=True)\n",
    "# Drop row with missing value\n",
    "df.dropna(inplace=True)"
   ]
  },
  {
   "cell_type": "markdown",
   "metadata": {},
   "source": [
    "<hr style=\"border-top: 2px solid black;\">"
   ]
  },
  {
   "cell_type": "markdown",
   "metadata": {},
   "source": [
    "# Visualize the Data"
   ]
  },
  {
   "cell_type": "markdown",
   "metadata": {},
   "source": [
    "### Prepare Data for plotting and linear regression\n",
    "\n",
    " - np.c_ method translates slice objects to concatenation along the second axis.\n",
    " - Stack 1-D arrays as columns into a 2-D array.\n",
    " - Documentation as of 5/16/20: https://numpy.org/devdocs/reference/generated/numpy.c_.html\n",
    " - This is important for matrix calculations"
   ]
  },
  {
   "cell_type": "code",
   "execution_count": null,
   "metadata": {},
   "outputs": [],
   "source": [
    "# Translates slice objects to concatenation along the second axis.\n",
    "# Data for plotting\n",
    "X = np.c_[df[\"GDP\"]]\n",
    "y = np.c_[df[\"Value\"]]\n",
    "labels = df.Country\n",
    "# To mark US datapoint\n",
    "us_data = df[df.Country == 'United States']"
   ]
  },
  {
   "cell_type": "code",
   "execution_count": 14,
   "metadata": {},
   "outputs": [
    {
     "data": {
      "image/png": "[encoded data removed]",
      "text/plain": [
       "<Figure size 576x576 with 1 Axes>"
      ]
     },
     "metadata": {
      "needs_background": "light"
     },
     "output_type": "display_data"
    }
   ],
   "source": [
    "fig, axes = plt.subplots(1,1, figsize=(8,8))\n",
    "axes.set_xlabel('GDP per capita (USD)', fontsize = 14)\n",
    "axes.set_ylabel('Life Satisfaction', fontsize = 14)\n",
    "axes.set_ylim(2, 10)\n",
    "plt.scatter(X, y, axes=axes)\n",
    "plt.scatter(us_data.GDP, us_data.Value, color='red', axes=axes)\n",
    "\n",
    "# zip joins x and y coordinates in pairs\n",
    "for xs, ys, label in zip(X,y,labels):\n",
    "    \n",
    "    plt.annotate(label, # this is the text\n",
    "                 (xs,ys), # this is the point to label\n",
    "                 textcoords=\"offset points\", # how to position the text\n",
    "                 xytext=(0,10), # distance from text to points (x,y)\n",
    "                 ha='center') # horizontal alignment can be left, right or center\n",
    "\n",
    "\n",
    "plt.show()"
   ]
  },
  {
   "cell_type": "markdown",
   "metadata": {},
   "source": [
    "<div style=\"border:1px solid black; padding:10px\">\n",
    "<font color=\"blue\">Note:</font><br>\n",
    "There seems to be a trend, as GPD increases, so does the life satisfaction score.<br>\n",
    "The US is in red.<br>\n",
    "</div>"
   ]
  },
  {
   "cell_type": "markdown",
   "metadata": {},
   "source": [
    "<hr style=\"border-top: 5px solid red;\">"
   ]
  },
  {
   "cell_type": "markdown",
   "metadata": {},
   "source": [
    "# Linear regression using the Normal Equation\n",
    "\n",
    " - Linear Regression Modeling using Cost Function\n",
    " - Cost function measures the distance between the linear model's prediction and the training examples.\n",
    " - It measures how bad the model is at predicting.\n",
    " - The linear model finds the best parameters that make the model fit best to the data.\n",
    " - Normal Equation is an analytical approach to Linear Regression with a Least Square Cost Function. "
   ]
  },
  {
   "cell_type": "markdown",
   "metadata": {},
   "source": [
    "# Normal Equation $\\hat{\\theta}$ = ($X^TX$)$^-$$^1$ $X^T$ y\n",
    "\n",
    " - $\\hat{\\theta}$ is the value of the $\\theta$ parameter that minimizes the cost function\n",
    " - y is the vector of the target we are to predict"
   ]
  },
  {
   "cell_type": "markdown",
   "metadata": {},
   "source": [
    "# Calcuate the the theta_best $\\hat{\\theta}$ in two steps\n",
    "\n",
    " - Step 1: <code>X_b = np.c_[np.ones((len(X), 1)), X]</code>\n",
    " - Step 2: <code>theta_best = inv_matrix.dot(X_b.T).dot(y)</code>"
   ]
  },
  {
   "cell_type": "code",
   "execution_count": 64,
   "metadata": {},
   "outputs": [],
   "source": [
    "# add x0 = 1 to each instance, there are 41 instances\n",
    "X_b = np.c_[np.ones((40, 1)), X]\n",
    "theta_best = inv_matrix.dot(X_b.T).dot(y)"
   ]
  },
  {
   "cell_type": "code",
   "execution_count": 65,
   "metadata": {},
   "outputs": [
    {
     "data": {
      "text/plain": [
       "array([[5.72408174e+00],\n",
       "       [2.46904428e-05]])"
      ]
     },
     "execution_count": 65,
     "metadata": {},
     "output_type": "execute_result"
    }
   ],
   "source": [
    "# The theta_best is the $\\hat{\\theta}$\n",
    "theta_best"
   ]
  },
  {
   "cell_type": "markdown",
   "metadata": {},
   "source": [
    "# Extract the Intercept and the Regression Coefficient from <code>theta_best</code> $\\hat{\\theta}$"
   ]
  },
  {
   "cell_type": "code",
   "execution_count": 66,
   "metadata": {},
   "outputs": [],
   "source": [
    "intercept, line_coef = theta_best[0], theta_best[1]"
   ]
  },
  {
   "cell_type": "code",
   "execution_count": 68,
   "metadata": {},
   "outputs": [
    {
     "name": "stdout",
     "output_type": "stream",
     "text": [
      "The intercept for the normal equation is [5.72408174], \n",
      "and the coefficient is: [2.46904428e-05] \n"
     ]
    }
   ],
   "source": [
    "print('The intercept for the normal equation is {}, \\nand the coefficient is: {} '.format(intercept, line_coef))"
   ]
  },
  {
   "cell_type": "markdown",
   "metadata": {},
   "source": [
    "<hr style=\"border-top: 2px solid black;\">"
   ]
  },
  {
   "cell_type": "markdown",
   "metadata": {},
   "source": [
    "# Make a prediction using the optimal parameter <strong>$\\hat{\\theta}$</strong>"
   ]
  },
  {
   "cell_type": "code",
   "execution_count": 31,
   "metadata": {},
   "outputs": [
    {
     "data": {
      "text/plain": [
       "[[22587]]"
      ]
     },
     "execution_count": 31,
     "metadata": {},
     "output_type": "execute_result"
    }
   ],
   "source": [
    "# The life satistication for Cyprus using GDP per capita\n",
    "X_new = [[22587]]\n",
    "X_new"
   ]
  },
  {
   "cell_type": "code",
   "execution_count": 32,
   "metadata": {},
   "outputs": [
    {
     "data": {
      "text/plain": [
       "array([[1.0000e+00, 2.2587e+04]])"
      ]
     },
     "execution_count": 32,
     "metadata": {},
     "output_type": "execute_result"
    }
   ],
   "source": [
    "# Matrix prepration\n",
    "X_new_b = np.c_[np.ones(1), X_new]\n",
    "X_new_b"
   ]
  },
  {
   "cell_type": "code",
   "execution_count": 33,
   "metadata": {},
   "outputs": [
    {
     "data": {
      "text/plain": [
       "array([[6.28176477]])"
      ]
     },
     "execution_count": 33,
     "metadata": {},
     "output_type": "execute_result"
    }
   ],
   "source": [
    "# Use matrix multiplication to obtain predicted life satisfaction score\n",
    "y_predict = X_new_b.dot(theta_best)\n",
    "y_predict"
   ]
  },
  {
   "cell_type": "markdown",
   "metadata": {},
   "source": [
    "<div style=\"border:1px solid black; padding:10px\">\n",
    "    \n",
    "<font color=\"blue\">Note:</font><br>\n",
    " - Cyprus had a GPD per captia of $22,587 in 2015\n",
    " - The predicted life satisfaction value is 6.28\n",
    "\n",
    "</div>"
   ]
  },
  {
   "cell_type": "markdown",
   "metadata": {},
   "source": [
    "<hr style=\"border-top: 2px solid black;\">"
   ]
  },
  {
   "cell_type": "markdown",
   "metadata": {},
   "source": [
    "# Plot prediction"
   ]
  },
  {
   "cell_type": "code",
   "execution_count": 63,
   "metadata": {},
   "outputs": [
    {
     "data": {
      "image/png": "[encoded data removed]",
      "text/plain": [
       "<Figure size 576x576 with 1 Axes>"
      ]
     },
     "metadata": {
      "needs_background": "light"
     },
     "output_type": "display_data"
    }
   ],
   "source": [
    "fig, axes = plt.subplots(1,1, figsize=(8,8))\n",
    "axes.set_xlabel('GDP per capita (USD)', fontsize = 14)\n",
    "axes.set_ylabel('Life Satisfaction', fontsize = 14)\n",
    "axes.set_ylim(2, 10)\n",
    "\n",
    "# Plot the data\n",
    "plt.scatter(X, y, axes=axes)\n",
    "\n",
    "# Plot the linear regression line\n",
    "plt.plot(X, theta_best[0] + theta_best[1]*X, \"r\")\n",
    "plt.text(5000, 9.1, r\"$\\theta_0 = 5.72$\", fontsize=15, color=\"g\")\n",
    "plt.text(5000, 8.8, r\"$\\theta_1 = -2 \\times 10^{-5}$\", fontsize=15, color=\"g\")\n",
    "\n",
    "# Plot the predicted point for Cyprus\n",
    "plt.scatter(X_new, y_predict, color='red', axes=axes)\n",
    "plt.text(25000, 5.0, \"Cyprus Life Satisfication \\nPrediction = 6.28\", fontsize=14, color=\"r\")\n",
    "# Vertical line to help pin point prediction\n",
    "plt.plot([X_new[0], X_new[0]], [0, y_predict[0]], \"r--\")\n",
    "\n",
    "# Add the labels of each country\n",
    "for xs, ys, label in zip(X,y,labels):\n",
    "    plt.annotate(label, # this is the text\n",
    "                 (xs,ys), # this is the point to label\n",
    "                 textcoords=\"offset points\", # how to position the text\n",
    "                 xytext=(0,10), # distance from text to points (x,y)\n",
    "                 ha='center') # horizontal alignment can be left, right or center\n",
    "\n",
    "plt.show()"
   ]
  },
  {
   "cell_type": "markdown",
   "metadata": {},
   "source": [
    "<div style=\"border:1px solid black; padding:10px\">\n",
    "    \n",
    "<font color=\"blue\">Note:</font><br>\n",
    "- Here we see that as GPD per capita increases, so does the Life Satisfaction Score.\n",
    "\n",
    "</div>"
   ]
  },
  {
   "cell_type": "markdown",
   "metadata": {},
   "source": [
    "<hr style=\"border-top: 5px solid red;\">"
   ]
  },
  {
   "cell_type": "markdown",
   "metadata": {},
   "source": [
    "# Breaking Down The Normal Equation\n",
    "\n",
    " - Step 1: Create a 2D Array  <code>X_b</code> from <code>X</code>\n",
    "  - <code>X_b</code> will containing two values per instance <code>1, and GDP per country</code>\n",
    " - Step 2: Create a new Matrix <code>X_b_transposed</code>\n",
    "  - <code>X_b_transposed</code> is the Transposed Matrix of <code>X_b</code>\n",
    " - Step 3: Create a new Matrix <code>mm</code>\n",
    "  - mm is obtained by multiplying <code>X_b_transposed</code> by <code>X_b</code>\n",
    " - Step 4: Create a new Matrix <code>inv_matrix</code>\n",
    "  - This matrix is the inverse of the <code>mm</code> matrix\n",
    " - Step 5: Calculte the optimal parameter Theta_best $\\hat{\\theta}$\n",
    "  - theta_best = <code>inv_matrix.dot(X_b.T).dot(y)</code>"
   ]
  },
  {
   "cell_type": "markdown",
   "metadata": {},
   "source": [
    "# Reminder: the <CODE>X</CODE> is a stacked array with the GDP per capita for each country\n",
    "\n",
    " - This is our 'independent variable'"
   ]
  },
  {
   "cell_type": "code",
   "execution_count": 74,
   "metadata": {},
   "outputs": [
    {
     "data": {
      "text/plain": [
       "array([[ 50961.87],\n",
       "       [ 43724.03],\n",
       "       [ 40106.63],\n",
       "       [ 43331.96],\n",
       "       [ 17256.92],\n",
       "       [ 52114.17],\n",
       "       [ 41973.99],\n",
       "       [ 37675.01],\n",
       "       [ 40996.51],\n",
       "       [ 18064.29],\n",
       "       [ 12239.89],\n",
       "       [ 50854.58],\n",
       "       [ 51350.74],\n",
       "       [ 29866.58],\n",
       "       [ 32485.55],\n",
       "       [ 27195.2 ],\n",
       "       [101994.09],\n",
       "       [  9009.28],\n",
       "       [ 43603.12],\n",
       "       [ 37044.89],\n",
       "       [ 74822.11],\n",
       "       [ 12495.33],\n",
       "       [ 19121.59],\n",
       "       [ 15991.74],\n",
       "       [ 25864.72],\n",
       "       [ 49866.27],\n",
       "       [ 80675.31],\n",
       "       [  9437.37],\n",
       "       [ 43770.69],\n",
       "       [ 55805.2 ],\n",
       "       [  8670.  ],\n",
       "       [ 13340.91],\n",
       "       [ 17288.08],\n",
       "       [ 35343.34],\n",
       "       [ 13618.57],\n",
       "       [  9054.91],\n",
       "       [ 20732.48],\n",
       "       [  5694.57],\n",
       "       [  6083.51],\n",
       "       [ 14210.28]])"
      ]
     },
     "execution_count": 74,
     "metadata": {},
     "output_type": "execute_result"
    }
   ],
   "source": [
    "X"
   ]
  },
  {
   "cell_type": "code",
   "execution_count": 79,
   "metadata": {},
   "outputs": [
    {
     "data": {
      "text/plain": [
       "(40, 1)"
      ]
     },
     "execution_count": 79,
     "metadata": {},
     "output_type": "execute_result"
    }
   ],
   "source": [
    "X.shape"
   ]
  },
  {
   "cell_type": "markdown",
   "metadata": {},
   "source": [
    "<div style=\"border:1px solid black; padding:10px\">\n",
    "    \n",
    "<font color=\"blue\">Note:</font><br>\n",
    " - 40 is the number of GDPs \n",
    " - 1 is the number of 'columns' in this X array\n",
    "\n",
    "</div>"
   ]
  },
  {
   "cell_type": "markdown",
   "metadata": {},
   "source": [
    "# Step 1: Create a 2D Array <code>X_b</code> that contains  <code>1</code> and  <code>X</code> per instance. The X contains the GDP per country\n",
    "\n",
    "Use numpy's np.c_ and np.ones()\n",
    " - np.c_ : Translates slice objects to concatenation along the second axis.\n",
    " - Documentation as of 5/15/20:\n",
    "  - https://numpy.org/devdocs/reference/generated/numpy.c_.html\n",
    " - np.ones(): Return a new array of given shape and type, filled with ones.\n",
    " - Documentation as of 5/15/20:\n",
    "  - https://numpy.org/devdocs/reference/generated/numpy.ones.html"
   ]
  },
  {
   "cell_type": "code",
   "execution_count": 77,
   "metadata": {},
   "outputs": [
    {
     "data": {
      "text/plain": [
       "array([[1.0000000e+00, 5.0961870e+04],\n",
       "       [1.0000000e+00, 4.3724030e+04],\n",
       "       [1.0000000e+00, 4.0106630e+04],\n",
       "       [1.0000000e+00, 4.3331960e+04],\n",
       "       [1.0000000e+00, 1.7256920e+04],\n",
       "       [1.0000000e+00, 5.2114170e+04],\n",
       "       [1.0000000e+00, 4.1973990e+04],\n",
       "       [1.0000000e+00, 3.7675010e+04],\n",
       "       [1.0000000e+00, 4.0996510e+04],\n",
       "       [1.0000000e+00, 1.8064290e+04],\n",
       "       [1.0000000e+00, 1.2239890e+04],\n",
       "       [1.0000000e+00, 5.0854580e+04],\n",
       "       [1.0000000e+00, 5.1350740e+04],\n",
       "       [1.0000000e+00, 2.9866580e+04],\n",
       "       [1.0000000e+00, 3.2485550e+04],\n",
       "       [1.0000000e+00, 2.7195200e+04],\n",
       "       [1.0000000e+00, 1.0199409e+05],\n",
       "       [1.0000000e+00, 9.0092800e+03],\n",
       "       [1.0000000e+00, 4.3603120e+04],\n",
       "       [1.0000000e+00, 3.7044890e+04],\n",
       "       [1.0000000e+00, 7.4822110e+04],\n",
       "       [1.0000000e+00, 1.2495330e+04],\n",
       "       [1.0000000e+00, 1.9121590e+04],\n",
       "       [1.0000000e+00, 1.5991740e+04],\n",
       "       [1.0000000e+00, 2.5864720e+04],\n",
       "       [1.0000000e+00, 4.9866270e+04],\n",
       "       [1.0000000e+00, 8.0675310e+04],\n",
       "       [1.0000000e+00, 9.4373700e+03],\n",
       "       [1.0000000e+00, 4.3770690e+04],\n",
       "       [1.0000000e+00, 5.5805200e+04],\n",
       "       [1.0000000e+00, 8.6700000e+03],\n",
       "       [1.0000000e+00, 1.3340910e+04],\n",
       "       [1.0000000e+00, 1.7288080e+04],\n",
       "       [1.0000000e+00, 3.5343340e+04],\n",
       "       [1.0000000e+00, 1.3618570e+04],\n",
       "       [1.0000000e+00, 9.0549100e+03],\n",
       "       [1.0000000e+00, 2.0732480e+04],\n",
       "       [1.0000000e+00, 5.6945700e+03],\n",
       "       [1.0000000e+00, 6.0835100e+03],\n",
       "       [1.0000000e+00, 1.4210280e+04]])"
      ]
     },
     "execution_count": 77,
     "metadata": {},
     "output_type": "execute_result"
    }
   ],
   "source": [
    "# add x0 = 1 to each instance, \n",
    "# and then it also adds the GPD from the X array\n",
    "# np.c_ creates the stacked 2d array out of those values\n",
    "X_b = np.c_[np.ones((40, 1)), X]\n",
    "X_b"
   ]
  },
  {
   "cell_type": "code",
   "execution_count": 78,
   "metadata": {},
   "outputs": [
    {
     "data": {
      "text/plain": [
       "(40, 2)"
      ]
     },
     "execution_count": 78,
     "metadata": {},
     "output_type": "execute_result"
    }
   ],
   "source": [
    "X_b.shape"
   ]
  },
  {
   "cell_type": "markdown",
   "metadata": {},
   "source": [
    "<div style=\"border:1px solid black; padding:10px\">\n",
    "    \n",
    "<font color=\"blue\">Note:</font><br>\n",
    " - 40 is the number of GDPs, this did not change\n",
    " - 2 is the number of 'columns' in this X_b 2d array, the 1st column is the 1 we added used np.ones(), and the other value is the GDP\n",
    "\n",
    "</div>"
   ]
  },
  {
   "cell_type": "markdown",
   "metadata": {},
   "source": [
    "<hr style=\"border-top: 2px solid black;\">"
   ]
  },
  {
   "cell_type": "markdown",
   "metadata": {},
   "source": [
    "# Step 2: Create a new Matrix <code>X_b_transposed</code> by transposing <code>X_b</code>"
   ]
  },
  {
   "cell_type": "markdown",
   "metadata": {},
   "source": [
    "## Matrix transpose using numpy .T attribute.\n",
    "\n",
    " - Documentation as of 5/15/20: https://numpy.org/devdocs/reference/generated/numpy.ndarray.T.html\n",
    " \n",
    "## Matrix transpose Example\n",
    "The transpose of a matrix $M$ is a matrix noted $M^T$ such that the $i^{th}$ row in $M^T$ is equal to the $i^{th}$ column in $M$:\n",
    "\n",
    "$ Xb^T =\n",
    "\\begin{bmatrix}\n",
    "  1 & 5.09 \\\\\n",
    "  1 & 4.37 \n",
    "\\end{bmatrix}^T =\n",
    "\\begin{bmatrix}\n",
    "  1 & 1 \\\\\n",
    "  5.09 & 4.37\n",
    "\\end{bmatrix}$"
   ]
  },
  {
   "cell_type": "code",
   "execution_count": 82,
   "metadata": {},
   "outputs": [],
   "source": [
    "X_b_transposed = X_b.T"
   ]
  },
  {
   "cell_type": "markdown",
   "metadata": {},
   "source": [
    "### Inspect transposition"
   ]
  },
  {
   "cell_type": "code",
   "execution_count": 93,
   "metadata": {},
   "outputs": [
    {
     "data": {
      "text/plain": [
       "array([[1.0000000e+00, 1.0000000e+00, 1.0000000e+00, 1.0000000e+00,\n",
       "        1.0000000e+00, 1.0000000e+00, 1.0000000e+00, 1.0000000e+00,\n",
       "        1.0000000e+00, 1.0000000e+00, 1.0000000e+00, 1.0000000e+00,\n",
       "        1.0000000e+00, 1.0000000e+00, 1.0000000e+00, 1.0000000e+00,\n",
       "        1.0000000e+00, 1.0000000e+00, 1.0000000e+00, 1.0000000e+00,\n",
       "        1.0000000e+00, 1.0000000e+00, 1.0000000e+00, 1.0000000e+00,\n",
       "        1.0000000e+00, 1.0000000e+00, 1.0000000e+00, 1.0000000e+00,\n",
       "        1.0000000e+00, 1.0000000e+00, 1.0000000e+00, 1.0000000e+00,\n",
       "        1.0000000e+00, 1.0000000e+00, 1.0000000e+00, 1.0000000e+00,\n",
       "        1.0000000e+00, 1.0000000e+00, 1.0000000e+00, 1.0000000e+00],\n",
       "       [5.0961870e+04, 4.3724030e+04, 4.0106630e+04, 4.3331960e+04,\n",
       "        1.7256920e+04, 5.2114170e+04, 4.1973990e+04, 3.7675010e+04,\n",
       "        4.0996510e+04, 1.8064290e+04, 1.2239890e+04, 5.0854580e+04,\n",
       "        5.1350740e+04, 2.9866580e+04, 3.2485550e+04, 2.7195200e+04,\n",
       "        1.0199409e+05, 9.0092800e+03, 4.3603120e+04, 3.7044890e+04,\n",
       "        7.4822110e+04, 1.2495330e+04, 1.9121590e+04, 1.5991740e+04,\n",
       "        2.5864720e+04, 4.9866270e+04, 8.0675310e+04, 9.4373700e+03,\n",
       "        4.3770690e+04, 5.5805200e+04, 8.6700000e+03, 1.3340910e+04,\n",
       "        1.7288080e+04, 3.5343340e+04, 1.3618570e+04, 9.0549100e+03,\n",
       "        2.0732480e+04, 5.6945700e+03, 6.0835100e+03, 1.4210280e+04]])"
      ]
     },
     "execution_count": 93,
     "metadata": {},
     "output_type": "execute_result"
    }
   ],
   "source": [
    "X_b_transposed"
   ]
  },
  {
   "cell_type": "code",
   "execution_count": 94,
   "metadata": {},
   "outputs": [
    {
     "data": {
      "text/plain": [
       "(2, 40)"
      ]
     },
     "execution_count": 94,
     "metadata": {},
     "output_type": "execute_result"
    }
   ],
   "source": [
    "X_b_transposed.shape"
   ]
  },
  {
   "cell_type": "markdown",
   "metadata": {},
   "source": [
    "<div style=\"border:1px solid black; padding:10px\">\n",
    "    \n",
    "<font color=\"blue\">Note:</font><br>\n",
    " - The X<code>X_b</code>b had a shape of (40, 2)\n",
    " - The transposed <code>X_b_transposed</code> has a shape of (2, 40), so now there are two 'rows' and 40 'instances'\n",
    " - The 1's have been 'separated' from the GPD data in this 2D transpossed array\n",
    "\n",
    "</div>"
   ]
  },
  {
   "cell_type": "markdown",
   "metadata": {},
   "source": [
    "<hr style=\"border-top: 2px solid black;\">"
   ]
  },
  {
   "cell_type": "markdown",
   "metadata": {},
   "source": [
    "# Step 3: Create a new Matrix <code>mm</code> by Multiplying the transposed maxtrix  <code>X_b_transposed</code> by <code>X_b</code>\n",
    "\n",
    " - Use the dot product (scalar product) of two vectors approach\n",
    " - Documentation as of 5/15/20: https://numpy.org/devdocs/reference/generated/numpy.dot.html"
   ]
  },
  {
   "cell_type": "code",
   "execution_count": 95,
   "metadata": {},
   "outputs": [],
   "source": [
    "# Matrix multiplication (mm)\n",
    "mm = X_b_transposed.dot(X_b)"
   ]
  },
  {
   "cell_type": "code",
   "execution_count": 96,
   "metadata": {},
   "outputs": [
    {
     "data": {
      "text/plain": [
       "array([[4.00000000e+01, 1.31373628e+06],\n",
       "       [1.31373628e+06, 6.19433521e+10]])"
      ]
     },
     "execution_count": 96,
     "metadata": {},
     "output_type": "execute_result"
    }
   ],
   "source": [
    "# Print values of mm\n",
    "mm"
   ]
  },
  {
   "cell_type": "code",
   "execution_count": 97,
   "metadata": {},
   "outputs": [
    {
     "data": {
      "text/plain": [
       "(2, 2)"
      ]
     },
     "execution_count": 97,
     "metadata": {},
     "output_type": "execute_result"
    }
   ],
   "source": [
    "mm.shape"
   ]
  },
  {
   "cell_type": "markdown",
   "metadata": {},
   "source": [
    "<div style=\"border:1px solid black; padding:10px\">\n",
    "    \n",
    "<font color=\"blue\">Note:</font><br>\n",
    " - <code>mm</code> is now 2 by 2\n",
    " - Matrix multiplication will reduce the matrix shape\n",
    "\n",
    "</div>"
   ]
  },
  {
   "cell_type": "markdown",
   "metadata": {},
   "source": [
    "<hr style=\"border-top: 2px solid black;\">"
   ]
  },
  {
   "cell_type": "markdown",
   "metadata": {},
   "source": [
    "# Step 4: Compute the inverse of the matrix using <code>np.linalg.inv(a)</code>\n",
    "\n",
    " - Compute the (multiplicative) inverse of a matrix.\n",
    " - Documentation as of 5/15/20: https://numpy.org/doc/1.18/reference/generated/numpy.linalg.inv.html"
   ]
  },
  {
   "cell_type": "code",
   "execution_count": 99,
   "metadata": {},
   "outputs": [],
   "source": [
    "inv_matrix = np.linalg.inv(mm)"
   ]
  },
  {
   "cell_type": "code",
   "execution_count": 100,
   "metadata": {},
   "outputs": [
    {
     "data": {
      "text/plain": [
       "array([[ 8.23899871e-02, -1.74738227e-06],\n",
       "       [-1.74738227e-06,  5.32034411e-11]])"
      ]
     },
     "execution_count": 100,
     "metadata": {},
     "output_type": "execute_result"
    }
   ],
   "source": [
    "# Print output\n",
    "inv_matrix"
   ]
  },
  {
   "cell_type": "markdown",
   "metadata": {},
   "source": [
    "<hr style=\"border-top: 2px solid black;\">"
   ]
  },
  {
   "cell_type": "markdown",
   "metadata": {},
   "source": [
    "# Step 5: Calculate Theta_best <strong>$\\hat{\\theta}$</strong> by multiplying the inverse matrix <code>X_b.T</code> to the predictor vector <code>y</code> using the <code>.dot()</code> method"
   ]
  },
  {
   "cell_type": "code",
   "execution_count": 101,
   "metadata": {},
   "outputs": [],
   "source": [
    "theta_best = inv_matrix.dot(X_b.T).dot(y)"
   ]
  },
  {
   "cell_type": "code",
   "execution_count": 102,
   "metadata": {},
   "outputs": [
    {
     "data": {
      "text/plain": [
       "array([[5.72408174e+00],\n",
       "       [2.46904428e-05]])"
      ]
     },
     "execution_count": 102,
     "metadata": {},
     "output_type": "execute_result"
    }
   ],
   "source": [
    "theta_best"
   ]
  },
  {
   "cell_type": "code",
   "execution_count": 103,
   "metadata": {},
   "outputs": [
    {
     "name": "stdout",
     "output_type": "stream",
     "text": [
      "The intercept for the normal equation is [5.72408174], \n",
      "and the coefficient is: [2.46904428e-05] \n"
     ]
    }
   ],
   "source": [
    "intercept, line_coef = theta_best[0], theta_best[1]\n",
    "print('The intercept for the normal equation is {}, \\nand the coefficient is: {} '.format(intercept, line_coef))"
   ]
  },
  {
   "cell_type": "markdown",
   "metadata": {},
   "source": [
    "<hr style=\"border-top: 5px solid red;\">"
   ]
  },
  {
   "cell_type": "markdown",
   "metadata": {},
   "source": [
    "# Perform Linear Regression using Scikit-Learn"
   ]
  },
  {
   "cell_type": "code",
   "execution_count": 69,
   "metadata": {},
   "outputs": [
    {
     "data": {
      "text/plain": [
       "(array([5.72408174]), array([[2.46904428e-05]]))"
      ]
     },
     "execution_count": 69,
     "metadata": {},
     "output_type": "execute_result"
    }
   ],
   "source": [
    "from sklearn.linear_model import LinearRegression\n",
    "lin_reg = LinearRegression()\n",
    "lin_reg.fit(X, y)\n",
    "lin_reg.intercept_, lin_reg.coef_"
   ]
  },
  {
   "cell_type": "markdown",
   "metadata": {},
   "source": [
    "<div style=\"border:1px solid black; padding:10px\">\n",
    "    \n",
    "<font color=\"blue\">Note:</font><br>\n",
    "- We get the same intercept and coef values using SciKit-Learn Linear Regression as we did with the normal function calculation.\n",
    "\n",
    "</div>"
   ]
  },
  {
   "cell_type": "markdown",
   "metadata": {},
   "source": [
    "# Predict Cyprus Life Satisfaction Score from Scikit-Learn Model"
   ]
  },
  {
   "cell_type": "code",
   "execution_count": 70,
   "metadata": {},
   "outputs": [
    {
     "data": {
      "text/plain": [
       "array([[6.28176477]])"
      ]
     },
     "execution_count": 70,
     "metadata": {},
     "output_type": "execute_result"
    }
   ],
   "source": [
    "lin_reg.predict(X_new)"
   ]
  },
  {
   "cell_type": "markdown",
   "metadata": {},
   "source": [
    "<hr style=\"border-top: 5px solid red;\">"
   ]
  }
 ],
 "metadata": {
  "kernelspec": {
   "display_name": "Python 3",
   "language": "python",
   "name": "python3"
  },
  "language_info": {
   "codemirror_mode": {
    "name": "ipython",
    "version": 3
   },
   "file_extension": ".py",
   "mimetype": "text/x-python",
   "name": "python",
   "nbconvert_exporter": "python",
   "pygments_lexer": "ipython3",
   "version": "3.7.6"
  }
 },
 "nbformat": 4,
 "nbformat_minor": 2
}

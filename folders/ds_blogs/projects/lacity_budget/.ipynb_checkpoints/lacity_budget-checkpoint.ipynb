{
 "cells": [
  {
   "cell_type": "markdown",
   "metadata": {},
   "source": [
    "<h1>Data</h1>\n",
    "<a href=\"https://controllerdata.lacity.org/Budget/City-Budget-and-Expenditures/uyzw-yi8n\">LA Controller</a>\n",
    "\n",
    " - Data acquired via API on 1/30/21\n",
    " - 35.3k columns\n",
    " - data filtered for 'budget_fiscal_year', 'department_name', 'fund_name', 'account_name', 'total_expenditures', 'total_budget', 'account_group_name', 'department' out of 17 total features\n",
    " - 282632 instances returned"
   ]
  },
  {
   "cell_type": "markdown",
   "metadata": {},
   "source": [
    "# Import Dependencies"
   ]
  },
  {
   "cell_type": "code",
   "execution_count": 1,
   "metadata": {},
   "outputs": [],
   "source": [
    "import os\n",
    "import pandas as pd\n",
    "from sodapy import Socrata\n",
    "\n",
    "# Import keys\n",
    "%store -r APPTOKEN\n",
    "%store -r KEYID\n",
    "%store -r KEYSECRET"
   ]
  },
  {
   "cell_type": "code",
   "execution_count": 5,
   "metadata": {},
   "outputs": [
    {
     "data": {
      "text/html": [
       "<div>\n",
       "<style scoped>\n",
       "    .dataframe tbody tr th:only-of-type {\n",
       "        vertical-align: middle;\n",
       "    }\n",
       "\n",
       "    .dataframe tbody tr th {\n",
       "        vertical-align: top;\n",
       "    }\n",
       "\n",
       "    .dataframe thead th {\n",
       "        text-align: right;\n",
       "    }\n",
       "</style>\n",
       "<table border=\"1\" class=\"dataframe\">\n",
       "  <thead>\n",
       "    <tr style=\"text-align: right;\">\n",
       "      <th></th>\n",
       "      <th>budget_fiscal_year</th>\n",
       "      <th>department_name</th>\n",
       "      <th>fund_name</th>\n",
       "      <th>account_name</th>\n",
       "      <th>total_expenditures</th>\n",
       "      <th>total_budget</th>\n",
       "      <th>account_group_name</th>\n",
       "      <th>department</th>\n",
       "    </tr>\n",
       "  </thead>\n",
       "  <tbody>\n",
       "    <tr>\n",
       "      <th>0</th>\n",
       "      <td>2021</td>\n",
       "      <td>AGING</td>\n",
       "      <td>GENERAL FUND (GENERAL BUDGET)</td>\n",
       "      <td>TRAVEL</td>\n",
       "      <td>NaN</td>\n",
       "      <td>8650</td>\n",
       "      <td>EXPENSES</td>\n",
       "      <td>2</td>\n",
       "    </tr>\n",
       "    <tr>\n",
       "      <th>1</th>\n",
       "      <td>2021</td>\n",
       "      <td>AGING</td>\n",
       "      <td>GENERAL FUND (GENERAL BUDGET)</td>\n",
       "      <td>SALARIES AS NEEDED</td>\n",
       "      <td>49621.15</td>\n",
       "      <td>164038</td>\n",
       "      <td>SALARIES AND BENEFITS</td>\n",
       "      <td>2</td>\n",
       "    </tr>\n",
       "    <tr>\n",
       "      <th>2</th>\n",
       "      <td>2021</td>\n",
       "      <td>AGING</td>\n",
       "      <td>OMBUDSMAN INITIATIVE PROGRAM F</td>\n",
       "      <td>SNF QUALITY AND ACCOUNTABILITY</td>\n",
       "      <td>NaN</td>\n",
       "      <td>151335</td>\n",
       "      <td>NaN</td>\n",
       "      <td>2</td>\n",
       "    </tr>\n",
       "    <tr>\n",
       "      <th>3</th>\n",
       "      <td>2021</td>\n",
       "      <td>AGING</td>\n",
       "      <td>GENERAL FUND (GENERAL BUDGET)</td>\n",
       "      <td>OVERTIME GENERAL</td>\n",
       "      <td>28523.71</td>\n",
       "      <td>38900</td>\n",
       "      <td>SALARIES AND BENEFITS</td>\n",
       "      <td>2</td>\n",
       "    </tr>\n",
       "    <tr>\n",
       "      <th>4</th>\n",
       "      <td>2021</td>\n",
       "      <td>AGING</td>\n",
       "      <td>AREA PLAN FOR THE AGING TIT 7</td>\n",
       "      <td>SOCIAL SERVICES III B</td>\n",
       "      <td>970662</td>\n",
       "      <td>3477687</td>\n",
       "      <td>NaN</td>\n",
       "      <td>2</td>\n",
       "    </tr>\n",
       "  </tbody>\n",
       "</table>\n",
       "</div>"
      ],
      "text/plain": [
       "  budget_fiscal_year department_name                       fund_name  \\\n",
       "0               2021           AGING   GENERAL FUND (GENERAL BUDGET)   \n",
       "1               2021           AGING   GENERAL FUND (GENERAL BUDGET)   \n",
       "2               2021           AGING  OMBUDSMAN INITIATIVE PROGRAM F   \n",
       "3               2021           AGING   GENERAL FUND (GENERAL BUDGET)   \n",
       "4               2021           AGING   AREA PLAN FOR THE AGING TIT 7   \n",
       "\n",
       "                     account_name total_expenditures total_budget  \\\n",
       "0                          TRAVEL                NaN         8650   \n",
       "1              SALARIES AS NEEDED           49621.15       164038   \n",
       "2  SNF QUALITY AND ACCOUNTABILITY                NaN       151335   \n",
       "3                OVERTIME GENERAL           28523.71        38900   \n",
       "4           SOCIAL SERVICES III B             970662      3477687   \n",
       "\n",
       "      account_group_name department  \n",
       "0               EXPENSES          2  \n",
       "1  SALARIES AND BENEFITS          2  \n",
       "2                    NaN          2  \n",
       "3  SALARIES AND BENEFITS          2  \n",
       "4                    NaN          2  "
      ]
     },
     "execution_count": 5,
     "metadata": {},
     "output_type": "execute_result"
    }
   ],
   "source": [
    "# Example authenticated client (needed for non-public datasets):\n",
    "client = Socrata(\"data.lacity.org\",\n",
    "                 APPTOKEN,\n",
    "                 username=KEYID,\n",
    "                 password=KEYSECRET)\n",
    "\n",
    "# First 2000 results, returned as JSON from API / converted to Python list of\n",
    "# dictionaries by sodapy.\n",
    "results = client.get(\"uyzw-yi8n\", limit=40000)\n",
    "\n",
    "# Convert to pandas DataFrame\n",
    "columns = ['budget_fiscal_year', 'department_name', 'fund_name', 'account_name',\n",
    "       'total_expenditures', 'total_budget', 'account_group_name', 'department']\n",
    "results_df = pd.DataFrame.from_records(results, columns=columns)\n",
    "results_df.head(5)"
   ]
  },
  {
   "cell_type": "code",
   "execution_count": 11,
   "metadata": {},
   "outputs": [],
   "source": [
    "results_df.to_csv(\"labudgetdata.csv\")"
   ]
  }
 ],
 "metadata": {
  "kernelspec": {
   "display_name": "Python 3",
   "language": "python",
   "name": "python3"
  },
  "language_info": {
   "codemirror_mode": {
    "name": "ipython",
    "version": 3
   },
   "file_extension": ".py",
   "mimetype": "text/x-python",
   "name": "python",
   "nbconvert_exporter": "python",
   "pygments_lexer": "ipython3",
   "version": "3.8.2"
  }
 },
 "nbformat": 4,
 "nbformat_minor": 4
}

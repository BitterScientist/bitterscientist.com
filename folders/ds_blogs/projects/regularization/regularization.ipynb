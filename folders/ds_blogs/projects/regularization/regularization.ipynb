{
 "cells": [
  {
   "cell_type": "markdown",
   "metadata": {},
   "source": [
    "<div style=\"font-size:16px; border:1px solid black; padding:10px\">\n",
    "    <center><h1>Problem with overfitted machine learning models.</h1></center>\n",
    "<ul>\n",
    "<li>Overfitting in machine learning describes a model that has learned the features, noise, and patters of the training data.</li><br>    \n",
    "<li>The problem with an overfit model is that it does not generalize well with new data.</li><br>\n",
    "<li>Regularization is a method used to reduce model overfitting, and improve how it generalizes with new data.</li><br>\n",
    "<li>Regularization constrains the model, and in linear regression, involves adjusting the weights of the model.</li><br>\n",
    "<li>The three most common methods of linear model regularization include:<br>\n",
    "    <ul>\n",
    "        <li>Ridge Regression</li>\n",
    "        <li>Lasso Regression</li>\n",
    "        <li>Elastic Net Regression</li>\n",
    "    </ul>            \n",
    "    </li><br> \n",
    "</ul>\n",
    "</div>"
   ]
  },
  {
   "cell_type": "markdown",
   "metadata": {},
   "source": [
    "<hr style=\"border-top: 3px solid Black;\">"
   ]
  },
  {
   "cell_type": "markdown",
   "metadata": {},
   "source": [
    "<div style=\"font-size:16px; border:1px solid black; padding:10px\">\n",
    "    <center><h1>Goals</h1></center>\n",
    "<ul>\n",
    "<li>To describe the three most common regularization of linear models:<br>\n",
    "    <ul>\n",
    "        <li>Ridge Regression</li>\n",
    "        <li>Lasso Regression</li>\n",
    "        <li>Elastic Net Regression</li>\n",
    "    </ul>            \n",
    "    </li><br> \n",
    "</ul>\n",
    "</div>"
   ]
  },
  {
   "cell_type": "markdown",
   "metadata": {},
   "source": [
    "<hr style=\"border-top: 3px solid Black;\">"
   ]
  },
  {
   "cell_type": "markdown",
   "metadata": {},
   "source": [
    "<h1> Import Data</h1>\n",
    "\n",
    "<a href=\"https://scikit-learn.org/stable/datasets/index.html\">Documentation</a>\n",
    "\n",
    "<ul>\n",
    "    <li>Instances: 506</li>\n",
    "    <li>Attributes: 13</li>\n",
    "    <li>Creators: Harrison, D. and Rubinfeld, D.L.</li>   \n",
    "</ul>\n",
    "\n",
    "<strong>References</strong>\n",
    "\n",
    "<li>Belsley, Kuh & Welsch, ‘Regression diagnostics: Identifying Influential Data and Sources of Collinearity’, Wiley, 1980. 244-261.</li>\n",
    "\n",
    "<li>Quinlan,R. (1993). Combining Instance-Based and Model-Based Learning. In Proceedings on the Tenth International Conference of Machine Learning, 236-243, University of Massachusetts, Amherst. Morgan Kaufmann.</li>"
   ]
  },
  {
   "cell_type": "markdown",
   "metadata": {},
   "source": [
    "<hr style=\"border-top: 3px solid Black;\">"
   ]
  },
  {
   "cell_type": "markdown",
   "metadata": {},
   "source": [
    "<h1>Import Dependencies</h1>"
   ]
  },
  {
   "cell_type": "code",
   "execution_count": 1,
   "metadata": {},
   "outputs": [],
   "source": [
    "# Scikit-Learn ≥0.20 is required\n",
    "import sklearn\n",
    "assert sklearn.__version__ >= \"0.20\"\n",
    "# Linear regresison module\n",
    "from sklearn.linear_model import LinearRegression\n",
    "from sklearn.preprocessing import PolynomialFeatures\n",
    "\n",
    "# Math and dataframe modules\n",
    "import numpy as np\n",
    "import pandas as pd\n",
    "\n",
    "# to make this notebook's output stable across runs\n",
    "np.random.seed(42)\n",
    "\n",
    "# Data Visualization\n",
    "import matplotlib.pyplot as plt\n",
    "import seaborn as sns\n",
    "\n",
    "# to load images for this tutorial\n",
    "from IPython.display import Image\n",
    "import os\n",
    "path = os.getcwd()\n",
    "\n",
    "# Formats plots and uses seaborn theme\n",
    "plt.style.use('seaborn')\n",
    "plt.rc('font', size=14)\n",
    "plt.rc('figure', titlesize=18)\n",
    "plt.rc('axes', labelsize=15)\n",
    "plt.rc('axes', titlesize=18)"
   ]
  },
  {
   "cell_type": "markdown",
   "metadata": {},
   "source": [
    "<hr style=\"border-top: 3px solid Black;\">\n",
    "<h1> Import Data</h1>"
   ]
  },
  {
   "cell_type": "code",
   "execution_count": 2,
   "metadata": {},
   "outputs": [],
   "source": [
    "from sklearn.datasets import load_boston\n",
    "boston = load_boston()\n",
    "X = pd.DataFrame(boston.data, columns=boston.feature_names)\n",
    "y = pd.DataFrame(boston.target)"
   ]
  },
  {
   "cell_type": "markdown",
   "metadata": {},
   "source": [
    "<h1>Create dataframe from X, y</h1>"
   ]
  },
  {
   "cell_type": "code",
   "execution_count": 3,
   "metadata": {
    "scrolled": true
   },
   "outputs": [
    {
     "data": {
      "text/html": [
       "<div>\n",
       "<style scoped>\n",
       "    .dataframe tbody tr th:only-of-type {\n",
       "        vertical-align: middle;\n",
       "    }\n",
       "\n",
       "    .dataframe tbody tr th {\n",
       "        vertical-align: top;\n",
       "    }\n",
       "\n",
       "    .dataframe thead th {\n",
       "        text-align: right;\n",
       "    }\n",
       "</style>\n",
       "<table border=\"1\" class=\"dataframe\">\n",
       "  <thead>\n",
       "    <tr style=\"text-align: right;\">\n",
       "      <th></th>\n",
       "      <th>CRIM</th>\n",
       "      <th>ZN</th>\n",
       "      <th>INDUS</th>\n",
       "      <th>CHAS</th>\n",
       "      <th>NOX</th>\n",
       "      <th>RM</th>\n",
       "      <th>AGE</th>\n",
       "      <th>DIS</th>\n",
       "      <th>RAD</th>\n",
       "      <th>TAX</th>\n",
       "      <th>PTRATIO</th>\n",
       "      <th>B</th>\n",
       "      <th>LSTAT</th>\n",
       "      <th>0</th>\n",
       "    </tr>\n",
       "  </thead>\n",
       "  <tbody>\n",
       "    <tr>\n",
       "      <th>0</th>\n",
       "      <td>0.00632</td>\n",
       "      <td>18.0</td>\n",
       "      <td>2.31</td>\n",
       "      <td>0.0</td>\n",
       "      <td>0.538</td>\n",
       "      <td>6.575</td>\n",
       "      <td>65.2</td>\n",
       "      <td>4.0900</td>\n",
       "      <td>1.0</td>\n",
       "      <td>296.0</td>\n",
       "      <td>15.3</td>\n",
       "      <td>396.90</td>\n",
       "      <td>4.98</td>\n",
       "      <td>24.0</td>\n",
       "    </tr>\n",
       "    <tr>\n",
       "      <th>1</th>\n",
       "      <td>0.02731</td>\n",
       "      <td>0.0</td>\n",
       "      <td>7.07</td>\n",
       "      <td>0.0</td>\n",
       "      <td>0.469</td>\n",
       "      <td>6.421</td>\n",
       "      <td>78.9</td>\n",
       "      <td>4.9671</td>\n",
       "      <td>2.0</td>\n",
       "      <td>242.0</td>\n",
       "      <td>17.8</td>\n",
       "      <td>396.90</td>\n",
       "      <td>9.14</td>\n",
       "      <td>21.6</td>\n",
       "    </tr>\n",
       "    <tr>\n",
       "      <th>2</th>\n",
       "      <td>0.02729</td>\n",
       "      <td>0.0</td>\n",
       "      <td>7.07</td>\n",
       "      <td>0.0</td>\n",
       "      <td>0.469</td>\n",
       "      <td>7.185</td>\n",
       "      <td>61.1</td>\n",
       "      <td>4.9671</td>\n",
       "      <td>2.0</td>\n",
       "      <td>242.0</td>\n",
       "      <td>17.8</td>\n",
       "      <td>392.83</td>\n",
       "      <td>4.03</td>\n",
       "      <td>34.7</td>\n",
       "    </tr>\n",
       "    <tr>\n",
       "      <th>3</th>\n",
       "      <td>0.03237</td>\n",
       "      <td>0.0</td>\n",
       "      <td>2.18</td>\n",
       "      <td>0.0</td>\n",
       "      <td>0.458</td>\n",
       "      <td>6.998</td>\n",
       "      <td>45.8</td>\n",
       "      <td>6.0622</td>\n",
       "      <td>3.0</td>\n",
       "      <td>222.0</td>\n",
       "      <td>18.7</td>\n",
       "      <td>394.63</td>\n",
       "      <td>2.94</td>\n",
       "      <td>33.4</td>\n",
       "    </tr>\n",
       "    <tr>\n",
       "      <th>4</th>\n",
       "      <td>0.06905</td>\n",
       "      <td>0.0</td>\n",
       "      <td>2.18</td>\n",
       "      <td>0.0</td>\n",
       "      <td>0.458</td>\n",
       "      <td>7.147</td>\n",
       "      <td>54.2</td>\n",
       "      <td>6.0622</td>\n",
       "      <td>3.0</td>\n",
       "      <td>222.0</td>\n",
       "      <td>18.7</td>\n",
       "      <td>396.90</td>\n",
       "      <td>5.33</td>\n",
       "      <td>36.2</td>\n",
       "    </tr>\n",
       "  </tbody>\n",
       "</table>\n",
       "</div>"
      ],
      "text/plain": [
       "      CRIM    ZN  INDUS  CHAS    NOX     RM   AGE     DIS  RAD    TAX  \\\n",
       "0  0.00632  18.0   2.31   0.0  0.538  6.575  65.2  4.0900  1.0  296.0   \n",
       "1  0.02731   0.0   7.07   0.0  0.469  6.421  78.9  4.9671  2.0  242.0   \n",
       "2  0.02729   0.0   7.07   0.0  0.469  7.185  61.1  4.9671  2.0  242.0   \n",
       "3  0.03237   0.0   2.18   0.0  0.458  6.998  45.8  6.0622  3.0  222.0   \n",
       "4  0.06905   0.0   2.18   0.0  0.458  7.147  54.2  6.0622  3.0  222.0   \n",
       "\n",
       "   PTRATIO       B  LSTAT     0  \n",
       "0     15.3  396.90   4.98  24.0  \n",
       "1     17.8  396.90   9.14  21.6  \n",
       "2     17.8  392.83   4.03  34.7  \n",
       "3     18.7  394.63   2.94  33.4  \n",
       "4     18.7  396.90   5.33  36.2  "
      ]
     },
     "execution_count": 3,
     "metadata": {},
     "output_type": "execute_result"
    }
   ],
   "source": [
    "# create dataframe from X, y for easier plot handling\n",
    "dataframe = pd.concat([X, y], axis=1)\n",
    "dataframe.head()"
   ]
  },
  {
   "cell_type": "markdown",
   "metadata": {},
   "source": [
    "<hr style=\"border-top: 5px solid RED;\">"
   ]
  },
  {
   "cell_type": "markdown",
   "metadata": {},
   "source": [
    "<h1><strong>Introduction:</strong></h1><h1>Control Overfitting of Linear Regressions using <font color=\"red\"><strong><em>Regularization</em></strong></font>.</h1>"
   ]
  },
  {
   "cell_type": "markdown",
   "metadata": {},
   "source": [
    "<div style=\"font-size:16px; border:1px solid black; padding:10px\">\n",
    "    <center><h1>Problem with overfitted machine learning models.</h1></center>\n",
    "<ul>\n",
    "    <li>Overfitting in machine learning describes a model that has learned the training data so well (including the noise in the data) that it only \"knows\" the training data, and cannot generalize well to new data.</li><br>    \n",
    "    <li>The meme below is a funny and abstract way to think of overfitting. If your bed adjusted to how you slept once, then it would be a terrible bed to sleep in because you will not always sleep in the same position.</li><br>\n",
    "    <li>Overfitted models are similar, in that they learn all the nuance and variation in the training data, and as a result, cannot properly adjust to new data.</li><br>\n",
    "    <li>As a sult, <strong><em>overfit models</em></strong>:\n",
    "    <ul>\n",
    "        <li>have low accuracy</li>\n",
    "        <li>are \"too\" complex for their own good</li>\n",
    "        <li>have high variance (aka too sensitive to small variations in the training data)</li>\n",
    "    </ul>\n",
    "    </li><br>\n",
    "    <li>There are several approaches that can be used to avoid overfitting:\n",
    "    <ul>\n",
    "        <li>Cross validation</li>\n",
    "        <li>Regularization</li>\n",
    "    </ul>\n",
    "    </li><br>\n",
    "</ul>\n",
    "    <center><h1>The goal of this post is to demonstrate how to avoid overfitting by using <font color=\"red\"><strong><em>Regularization</em></strong></font>.</h1></center>\n",
    "</div>"
   ]
  },
  {
   "cell_type": "code",
   "execution_count": null,
   "metadata": {},
   "outputs": [],
   "source": []
  },
  {
   "cell_type": "code",
   "execution_count": 12,
   "metadata": {},
   "outputs": [
    {
     "data": {
      "image/png": "[encoded data removed]",
      "text/plain": [
       "<Figure size 576x396 with 1 Axes>"
      ]
     },
     "metadata": {},
     "output_type": "display_data"
    }
   ],
   "source": [
    "# Linear Regression Model\n",
    "lin_x = np.c_[dataframe[\"LSTAT\"]]\n",
    "lin_y = np.c_[y]\n",
    "model = LinearRegression()\n",
    "model.fit(lin_x, lin_y)\n",
    "\n",
    "# predict y from the data\n",
    "x_new = np.linspace(lin_x.min(), lin_x.max(), 200)\n",
    "y_new = model.predict(x_new[:, np.newaxis])\n",
    "\n",
    "\n",
    "plt.plot(X['LSTAT'], y.values, \"b.\")\n",
    "plt.plot(x_new, y_new, \"r-\")\n",
    "plt.xlabel(\"$x_1$ - % Lower Status of The Population\", fontsize=18)\n",
    "plt.ylabel(\"$y$ - Housing Price\", rotation=90, fontsize=18)\n",
    "plt.show()"
   ]
  },
  {
   "cell_type": "code",
   "execution_count": 14,
   "metadata": {},
   "outputs": [
    {
     "data": {
      "image/png": "[encoded data removed]",
      "text/plain": [
       "<Figure size 576x396 with 1 Axes>"
      ]
     },
     "metadata": {},
     "output_type": "display_data"
    }
   ],
   "source": [
    "poly_features = PolynomialFeatures(degree=2, include_bias=False)\n",
    "X_poly = poly_features.fit_transform(np.c_[dataframe[\"LSTAT\"]])\n",
    "lin_reg = LinearRegression()\n",
    "lin_reg.fit(X_poly, y)\n",
    "lin_reg.intercept_, lin_reg.coef_\n",
    "\n",
    "# plot\n",
    "X_new=np.linspace(0, 40, 100).reshape(100, 1)\n",
    "X_new_poly = poly_features.transform(X_new)\n",
    "y_new = lin_reg.predict(X_new_poly)\n",
    "plt.plot(X['LSTAT'], y.values, \"b.\")\n",
    "plt.plot(X_new, y_new, \"r-\", linewidth=2, label=\"Predictions\")\n",
    "plt.xlabel(\"$x_1$\", fontsize=18)\n",
    "plt.ylabel(\"$y$\", rotation=0, fontsize=18)\n",
    "plt.legend(loc=\"upper right\", fontsize=14)\n",
    "plt.show()"
   ]
  },
  {
   "cell_type": "code",
   "execution_count": 25,
   "metadata": {},
   "outputs": [
    {
     "data": {
      "image/png": "[encoded data removed]",
      "text/plain": [
       "<Figure size 576x396 with 1 Axes>"
      ]
     },
     "metadata": {},
     "output_type": "display_data"
    }
   ],
   "source": [
    "poly_features = PolynomialFeatures(degree=10, include_bias=False)\n",
    "X_poly = poly_features.fit_transform(np.c_[dataframe[\"LSTAT\"]])\n",
    "lin_reg = LinearRegression()\n",
    "lin_reg.fit(X_poly, y)\n",
    "lin_reg.intercept_, lin_reg.coef_\n",
    "\n",
    "# plot\n",
    "X_new=np.linspace(0, 40, 100).reshape(100, 1)\n",
    "X_new_poly = poly_features.transform(X_new)\n",
    "y_new = lin_reg.predict(X_new_poly)\n",
    "plt.plot(X['LSTAT'], y.values, \"b.\")\n",
    "plt.plot(X_new, y_new, \"r-\", linewidth=2, label=\"Predictions\")\n",
    "plt.xlabel(\"$x_1$\", fontsize=18)\n",
    "plt.ylabel(\"$y$\", rotation=0, fontsize=18)\n",
    "plt.legend(loc=\"upper right\", fontsize=14)\n",
    "plt.show()"
   ]
  },
  {
   "cell_type": "markdown",
   "metadata": {},
   "source": [
    "<div style=\"font-size:14px; border:1px solid black; padding:10px\">\n",
    "    <center>Comment:</center>\n",
    "<ul>\n",
    "<li>Overfitting in machine learning describes a model that has learned the features, noise, and patters of the training data.</li><br>    \n",
    "<li></li><br>\n",
    "<li></li><br>\n",
    "<li>O</li><br>\n",
    "<li> <font color=\"red\"><strong><em></em></strong></font>.</li><br>    \n",
    "</ul>\n",
    "</div>"
   ]
  },
  {
   "cell_type": "code",
   "execution_count": null,
   "metadata": {},
   "outputs": [],
   "source": [
    "image = os.path.join(path, 'images/reg_meme.png')\n",
    "Image(filename=image)"
   ]
  },
  {
   "cell_type": "markdown",
   "metadata": {},
   "source": [
    "<hr style=\"border-top: 3px solid Black;\">"
   ]
  },
  {
   "cell_type": "markdown",
   "metadata": {},
   "source": [
    "<div style=\"font-size:16px; border:1px solid black; padding:10px\">\n",
    "    <center><h1>Regularization</h1></center>\n",
    "<ul>\n",
    "    <li>is a form of regression that can <strong><em>regulate</em></strong> the magnitude of the coefficent of estimates. This will be discussed below.</li><br>    \n",
    "    <li>Regulation of the coefficient of estimates discourages a model from learning the training data too well.</li><br>\n",
    "    <li>Regularization prevents complex models from being developed.</li><br>\n",
    "    <li>Preventing complex models also avoids the risk of overfitting.</li><br> \n",
    "</ul>\n",
    "</div>"
   ]
  },
  {
   "cell_type": "markdown",
   "metadata": {},
   "source": [
    "<div style=\"font-size:16px; border:1px solid black; padding:10px\">\n",
    "    <center><h1>Mathematical Intuition of Regularization</h1></center>\n",
    "<ul>\n",
    "    <li></li><br>    \n",
    "    <li></li><br>\n",
    "    <li></li><br>\n",
    "    <li></li><br> \n",
    "</ul>\n",
    "</div>"
   ]
  },
  {
   "cell_type": "code",
   "execution_count": null,
   "metadata": {},
   "outputs": [],
   "source": [
    "image = os.path.join(path, 'images/simple_lin_reg_example.png')\n",
    "Image(filename=image)"
   ]
  },
  {
   "cell_type": "code",
   "execution_count": null,
   "metadata": {},
   "outputs": [],
   "source": [
    "image = os.path.join(path, 'images/reg_rss_latex.png')\n",
    "Image(filename=image)"
   ]
  },
  {
   "cell_type": "code",
   "execution_count": null,
   "metadata": {},
   "outputs": [],
   "source": []
  },
  {
   "cell_type": "markdown",
   "metadata": {},
   "source": [
    "<hr style=\"border-top: 3px solid Black;\">"
   ]
  },
  {
   "cell_type": "markdown",
   "metadata": {},
   "source": [
    "<h1>Evaluate Data Analysis</h1>"
   ]
  },
  {
   "cell_type": "code",
   "execution_count": null,
   "metadata": {},
   "outputs": [],
   "source": [
    "# Linear Regression Model\n",
    "lin_x = np.c_[dataframe[\"LSTAT\"]]\n",
    "lin_y = np.c_[y]\n",
    "model = LinearRegression()\n",
    "model.fit(lin_x, lin_y)\n",
    "\n",
    "# predict y from the data\n",
    "x_new = np.linspace(lin_x.min(), lin_x.max(), 200)\n",
    "y_new = model.predict(x_new[:, np.newaxis])\n",
    "\n",
    "\n",
    "plt.plot(X['LSTAT'], y.values, \"b.\")\n",
    "plt.plot(x_new, y_new, \"r-\")\n",
    "plt.xlabel(\"$x_1$ - % Lower Status of The Population\", fontsize=18)\n",
    "plt.ylabel(\"$y$ - Housing Price\", rotation=90, fontsize=18)\n",
    "plt.show()"
   ]
  },
  {
   "cell_type": "markdown",
   "metadata": {},
   "source": [
    "<div style=\"font-size:14px; border:1px solid black; padding:10px\">\n",
    "    <center><h1>Standard liner regression does not fit the data properly.</h1></center>\n",
    "<ul>\n",
    "<li>Linear models are typically considered for data that scatters in a single direction (correlate).</li><br>    \n",
    "<li>In many cases, data will be more complex than a straight line, calling for a more nuanced approach.</li><br>\n",
    "<li>Linear models can be used to fit nonlinear data.</li><br>\n",
    "<li>One method is to add new features that contains the powers of the original features.</li><br>\n",
    "<li>A linear model can then be trained on this new extended data, and this technique is called <font color=\"red\"><strong><em>Polynomial regression</em></strong></font>.</li><br>    \n",
    "</ul>\n",
    "</div>"
   ]
  },
  {
   "cell_type": "markdown",
   "metadata": {},
   "source": [
    "<hr style=\"border-top: 3px solid Black;\">"
   ]
  },
  {
   "cell_type": "markdown",
   "metadata": {},
   "source": [
    "<h1>Generating polynomial features using sklearn <code>PolynomialFeatures()</code></h1>"
   ]
  },
  {
   "cell_type": "code",
   "execution_count": null,
   "metadata": {},
   "outputs": [],
   "source": [
    "poly_features = PolynomialFeatures(degree=2, include_bias=False)\n",
    "X_poly = poly_features.fit_transform(np.c_[dataframe[\"LSTAT\"]])"
   ]
  },
  {
   "cell_type": "markdown",
   "metadata": {},
   "source": [
    "<h1>Linear Regression on Transformed Data</h1>"
   ]
  },
  {
   "cell_type": "code",
   "execution_count": null,
   "metadata": {},
   "outputs": [],
   "source": [
    "lin_reg = LinearRegression()\n",
    "lin_reg.fit(X_poly, y)\n",
    "lin_reg.intercept_, lin_reg.coef_"
   ]
  },
  {
   "cell_type": "code",
   "execution_count": null,
   "metadata": {},
   "outputs": [],
   "source": [
    "image = os.path.join(path, 'images/poly_equation.png')\n",
    "Image(filename=image)"
   ]
  },
  {
   "cell_type": "markdown",
   "metadata": {},
   "source": [
    "<h1>Plot Data with Linear Regression Curve that used Transformed Data</h1>"
   ]
  },
  {
   "cell_type": "code",
   "execution_count": null,
   "metadata": {
    "scrolled": true
   },
   "outputs": [],
   "source": [
    "X_new=np.linspace(0, 40, 100).reshape(100, 1)\n",
    "X_new_poly = poly_features.transform(X_new)\n",
    "y_new = lin_reg.predict(X_new_poly)\n",
    "plt.plot(X['LSTAT'], y.values, \"b.\")\n",
    "plt.plot(X_new, y_new, \"r-\", linewidth=2, label=\"Predictions\")\n",
    "plt.xlabel(\"$x_1$\", fontsize=18)\n",
    "plt.ylabel(\"$y$\", rotation=0, fontsize=18)\n",
    "plt.legend(loc=\"upper right\", fontsize=14)\n",
    "plt.show()"
   ]
  },
  {
   "cell_type": "markdown",
   "metadata": {},
   "source": [
    "<div style=\"font-size:16px; border:1px solid black; padding:10px\">\n",
    "        <center><h3>Comments.</h3></center>\n",
    "<ul>\n",
    "    <li>Using the transformed data allowed the linear regression model to learn the data better.</li><br>      \n",
    "    <li>The prediction curve now more closely fits the shape of the data.</li><br>\n",
    "    <li>Improved learning may yield better predictions.</li><br>\n",
    "    <li>The current red line provides a good estimate, but higher dimensional models can be developed that allow the red curve to oscillate around each point</li><br>\n",
    "    <li>High dimensional polynomial regression can improve how the algorithm learns the data, but it increases the variance (make it less generalizable to new data).</li><br>\n",
    "</ul>\n",
    "</div>"
   ]
  },
  {
   "cell_type": "markdown",
   "metadata": {},
   "source": [
    "<hr style=\"border-top: 3px solid Black;\">"
   ]
  }
 ],
 "metadata": {
  "kernelspec": {
   "display_name": "Python 3",
   "language": "python",
   "name": "python3"
  },
  "language_info": {
   "codemirror_mode": {
    "name": "ipython",
    "version": 3
   },
   "file_extension": ".py",
   "mimetype": "text/x-python",
   "name": "python",
   "nbconvert_exporter": "python",
   "pygments_lexer": "ipython3",
   "version": "3.9.1"
  }
 },
 "nbformat": 4,
 "nbformat_minor": 4
}

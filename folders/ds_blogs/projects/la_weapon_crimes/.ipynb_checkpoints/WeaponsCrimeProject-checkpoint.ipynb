{
 "cells": [
  {
   "cell_type": "markdown",
   "metadata": {},
   "source": [
    "## Import Dependencies"
   ]
  },
  {
   "cell_type": "code",
   "execution_count": 1,
   "metadata": {},
   "outputs": [],
   "source": [
    "# Data Manipulation Libraries: Standard dataframes and array libraries\n",
    "import pandas as pd\n",
    "import numpy as np\n",
    "import sqlite3 #for querying data \n",
    "from datetime import datetime\n",
    "\n",
    "\n",
    "# Data Visualization Libraries:\n",
    "import matplotlib.pyplot as plt\n",
    "import seaborn as sns\n",
    "import statsmodels.api as sm\n",
    "\n",
    "# Data Analysis: Statistics and Machine Learning Libraries\n",
    "from scipy import stats\n",
    "\n",
    "# Displaying plots in jupter notebook\n",
    "%matplotlib inline\n",
    "# Displaying pandas columns and rows\n",
    "pd.set_option('display.max_rows', None)\n",
    "pd.set_option('display.max_columns', None)"
   ]
  },
  {
   "cell_type": "markdown",
   "metadata": {},
   "source": [
    "## Import Dataset\n",
    " - Data downloaded from https://data.lacity.org/resource/63jg-8b9z.json on 12/3/19"
   ]
  },
  {
   "cell_type": "code",
   "execution_count": 2,
   "metadata": {},
   "outputs": [],
   "source": [
    "# import data using read_csv() method\n",
    "df = pd.read_csv(\"/Users/trinitycisneros/Documents/Coding/bitterscientist.com/Crime_Data_from_2010_to_Present.csv\")"
   ]
  },
  {
   "cell_type": "markdown",
   "metadata": {},
   "source": [
    "## Filter Dataset"
   ]
  },
  {
   "cell_type": "code",
   "execution_count": 3,
   "metadata": {},
   "outputs": [],
   "source": [
    "# This study will evaluate trends in weapon related crimes, and as such, will use the following features\n",
    "weapon_crime_df = df[['Date Rptd', 'Vict Age', 'Vict Sex', 'Vict Descent', 'Crm Cd 1', 'Weapon Used Cd', 'Weapon Desc', 'Status', 'Status Desc', 'AREA NAME' , 'LAT', 'LON']]\n",
    "# Renamed columns\n",
    "weapon_crime_df.columns = [\"Date_Reported\", \"Vict_Age\", \"Vict_Sex\", \"Vict_Desc\", \"Crime_Code\", \"Weapon_Code\", \"Weapon_Desc\", \"Status\", \"Status_Desc\", \"Area_Name\", \"Lat\", \"Lng\"]"
   ]
  },
  {
   "cell_type": "markdown",
   "metadata": {},
   "source": [
    "## Omit all records missing data"
   ]
  },
  {
   "cell_type": "code",
   "execution_count": 4,
   "metadata": {},
   "outputs": [],
   "source": [
    "weapon_crime_df = weapon_crime_df.dropna(how='any', subset=['Weapon_Desc', 'Vict_Sex', 'Vict_Desc', 'Crime_Code', 'Status']).copy()"
   ]
  },
  {
   "cell_type": "markdown",
   "metadata": {},
   "source": [
    "## Update Column Datatypes"
   ]
  },
  {
   "cell_type": "code",
   "execution_count": 5,
   "metadata": {},
   "outputs": [],
   "source": [
    "# Create lists for categorical and int columns\n",
    "cat_col = ['Vict_Sex', 'Vict_Desc', 'Weapon_Desc', 'Status', 'Status_Desc', 'Area_Name']\n",
    "int_col = ['Vict_Age', 'Weapon_Code', 'Crime_Code']\n",
    "string_col = ['Date_Reported']"
   ]
  },
  {
   "cell_type": "code",
   "execution_count": 6,
   "metadata": {},
   "outputs": [],
   "source": [
    "# Convert events column into int using a for loop\n",
    "for col in int_col:\n",
    "    weapon_crime_df[col] = weapon_crime_df[col].astype('int64')"
   ]
  },
  {
   "cell_type": "code",
   "execution_count": 7,
   "metadata": {},
   "outputs": [],
   "source": [
    "# Convert events column into category using a for loop\n",
    "for col in cat_col:\n",
    "    weapon_crime_df[col] = weapon_crime_df[col].astype('category')"
   ]
  },
  {
   "cell_type": "code",
   "execution_count": 8,
   "metadata": {},
   "outputs": [],
   "source": [
    "# Convert events column into category using a for loop\n",
    "for col in string_col:\n",
    "    weapon_crime_df[col] = weapon_crime_df[col].astype('str')"
   ]
  },
  {
   "cell_type": "code",
   "execution_count": 9,
   "metadata": {},
   "outputs": [],
   "source": [
    "# Convert date_reported column into a datetime column\n",
    "weapon_crime_df['Date_Reported'] =  pd.to_datetime(weapon_crime_df['Date_Reported'], format='%m/%d/%Y %I:%M:%S %p')"
   ]
  },
  {
   "cell_type": "markdown",
   "metadata": {},
   "source": [
    "## Relabel categorical data"
   ]
  },
  {
   "cell_type": "code",
   "execution_count": 10,
   "metadata": {},
   "outputs": [],
   "source": [
    "descent_dict = {'A' : 'Other Asian', 'B' : 'Black', 'C' : 'Chinese', 'D' : 'Cambodian', 'F' : 'Filipino', 'G' : 'Guamanian', 'H' : 'Hispanic/Latin/Mexican', 'I' : 'American Indian/Alaskan Native', 'J' : 'Japanese', 'K' : 'Korean', 'L' : 'Laotian', 'O' : 'Other', 'P' : 'Pacific Islander', 'S': 'Samoan', 'U': 'Hawaiian', 'V': 'Vietnamese', 'W': 'White', 'X': 'Unknown', 'Z':'Asian Indian'}"
   ]
  },
  {
   "cell_type": "code",
   "execution_count": 11,
   "metadata": {},
   "outputs": [],
   "source": [
    "weapon_crime_df['Vict_Desc'].replace(descent_dict, inplace= True)"
   ]
  },
  {
   "cell_type": "markdown",
   "metadata": {},
   "source": [
    "## Filter out 2019 values (as it is incomplete)"
   ]
  },
  {
   "cell_type": "code",
   "execution_count": 12,
   "metadata": {},
   "outputs": [],
   "source": [
    "end_year = '2019-01-01'\n",
    "mask = weapon_crime_df['Date_Reported'] < end_year\n",
    "weapon_df = weapon_crime_df.loc[mask]"
   ]
  },
  {
   "cell_type": "code",
   "execution_count": 13,
   "metadata": {},
   "outputs": [
    {
     "data": {
      "text/plain": [
       "129"
      ]
     },
     "execution_count": 13,
     "metadata": {},
     "output_type": "execute_result"
    }
   ],
   "source": [
    "# Number of unique crime codes\n",
    "crimes = weapon_df['Crime_Code'].unique()\n",
    "len(crimes)"
   ]
  },
  {
   "cell_type": "code",
   "execution_count": 14,
   "metadata": {},
   "outputs": [
    {
     "data": {
      "text/plain": [
       "624    170812\n",
       "626     96159\n",
       "230     81631\n",
       "210     75130\n",
       "930     44077\n",
       "236     12419\n",
       "761     12083\n",
       "220     10743\n",
       "310      9857\n",
       "860      9718\n",
       "121      8837\n",
       "812      7637\n",
       "627      7588\n",
       "330      6795\n",
       "740      6681\n",
       "350      6393\n",
       "745      6351\n",
       "623      4167\n",
       "440      3631\n",
       "753      3185\n",
       "625      2706\n",
       "110      2502\n",
       "946      2313\n",
       "251      2265\n",
       "956      2258\n",
       "437      1878\n",
       "928      1872\n",
       "910      1633\n",
       "341      1590\n",
       "235      1496\n",
       "901      1458\n",
       "815      1455\n",
       "231      1452\n",
       "810      1386\n",
       "813      1162\n",
       "820      1140\n",
       "900      1078\n",
       "755      1024\n",
       "320      1012\n",
       "821      1009\n",
       "122      1001\n",
       "420       850\n",
       "237       838\n",
       "647       819\n",
       "442       746\n",
       "351       655\n",
       "886       636\n",
       "920       595\n",
       "888       573\n",
       "940       568\n",
       "434       552\n",
       "763       540\n",
       "331       487\n",
       "648       418\n",
       "943       360\n",
       "622       287\n",
       "850       255\n",
       "903       235\n",
       "250       230\n",
       "520       227\n",
       "760       224\n",
       "762       208\n",
       "410       174\n",
       "450       165\n",
       "480       156\n",
       "756       152\n",
       "441       147\n",
       "805       128\n",
       "354       125\n",
       "822       118\n",
       "902       110\n",
       "662       105\n",
       "922        82\n",
       "343        72\n",
       "510        62\n",
       "933        58\n",
       "649        57\n",
       "474        52\n",
       "661        51\n",
       "352        50\n",
       "932        48\n",
       "664        46\n",
       "438        41\n",
       "421        34\n",
       "435        33\n",
       "951        31\n",
       "921        30\n",
       "806        24\n",
       "485        24\n",
       "451        24\n",
       "443        24\n",
       "924        18\n",
       "436        17\n",
       "890        14\n",
       "954        14\n",
       "439        13\n",
       "931        13\n",
       "668        12\n",
       "814        11\n",
       "433        11\n",
       "666        10\n",
       "944        10\n",
       "475         9\n",
       "840         9\n",
       "880         8\n",
       "471         7\n",
       "353         6\n",
       "660         6\n",
       "942         5\n",
       "113         5\n",
       "452         5\n",
       "347         4\n",
       "950         4\n",
       "870         4\n",
       "949         4\n",
       "234         4\n",
       "830         4\n",
       "444         3\n",
       "882         3\n",
       "865         2\n",
       "652         1\n",
       "345         1\n",
       "952         1\n",
       "446         1\n",
       "653         1\n",
       "670         1\n",
       "473         1\n",
       "111         1\n",
       "884         1\n",
       "Name: Crime_Code, dtype: int64"
      ]
     },
     "execution_count": 14,
     "metadata": {},
     "output_type": "execute_result"
    }
   ],
   "source": [
    "# List of crime codes and counts in dataset\n",
    "weapon_df[\"Crime_Code\"].value_counts()"
   ]
  },
  {
   "cell_type": "markdown",
   "metadata": {},
   "source": [
    "### Research Questions\n",
    "### What are the top 10 crimes involving weapons\n",
    "### What are the top 10 weapons reported in crimes\n",
    "### What are general features of the all victims\n",
    "### How have weapon related crimes changed over the reporting period\n",
    " - What are the victim profiles\n",
    " - What was the crime reported\n",
    "### In the past year, where were these crimes committed?\n",
    "### In the past year, are there regional differences in weapon usage accross the city?\n",
    "### How does a regions annual household income affect weapon related crimes?"
   ]
  },
  {
   "cell_type": "markdown",
   "metadata": {},
   "source": [
    "## What are the top 10 crimes involving weapons"
   ]
  },
  {
   "cell_type": "code",
   "execution_count": 19,
   "metadata": {},
   "outputs": [
    {
     "data": {
      "text/plain": [
       "624    170812\n",
       "626     96159\n",
       "230     81631\n",
       "210     75130\n",
       "930     44077\n",
       "236     12419\n",
       "761     12083\n",
       "220     10743\n",
       "310      9857\n",
       "860      9718\n",
       "121      8837\n",
       "812      7637\n",
       "627      7588\n",
       "330      6795\n",
       "740      6681\n",
       "350      6393\n",
       "745      6351\n",
       "623      4167\n",
       "440      3631\n",
       "753      3185\n",
       "625      2706\n",
       "110      2502\n",
       "946      2313\n",
       "251      2265\n",
       "956      2258\n",
       "437      1878\n",
       "928      1872\n",
       "910      1633\n",
       "341      1590\n",
       "235      1496\n",
       "901      1458\n",
       "815      1455\n",
       "231      1452\n",
       "810      1386\n",
       "813      1162\n",
       "820      1140\n",
       "900      1078\n",
       "755      1024\n",
       "320      1012\n",
       "821      1009\n",
       "122      1001\n",
       "420       850\n",
       "237       838\n",
       "647       819\n",
       "442       746\n",
       "351       655\n",
       "886       636\n",
       "920       595\n",
       "888       573\n",
       "940       568\n",
       "434       552\n",
       "763       540\n",
       "331       487\n",
       "648       418\n",
       "943       360\n",
       "622       287\n",
       "850       255\n",
       "903       235\n",
       "250       230\n",
       "520       227\n",
       "760       224\n",
       "762       208\n",
       "410       174\n",
       "450       165\n",
       "480       156\n",
       "756       152\n",
       "441       147\n",
       "805       128\n",
       "354       125\n",
       "822       118\n",
       "902       110\n",
       "662       105\n",
       "922        82\n",
       "343        72\n",
       "510        62\n",
       "933        58\n",
       "649        57\n",
       "474        52\n",
       "661        51\n",
       "352        50\n",
       "932        48\n",
       "664        46\n",
       "438        41\n",
       "421        34\n",
       "435        33\n",
       "951        31\n",
       "921        30\n",
       "806        24\n",
       "485        24\n",
       "451        24\n",
       "443        24\n",
       "924        18\n",
       "436        17\n",
       "890        14\n",
       "954        14\n",
       "439        13\n",
       "931        13\n",
       "668        12\n",
       "814        11\n",
       "433        11\n",
       "666        10\n",
       "944        10\n",
       "475         9\n",
       "840         9\n",
       "880         8\n",
       "471         7\n",
       "353         6\n",
       "660         6\n",
       "942         5\n",
       "113         5\n",
       "452         5\n",
       "347         4\n",
       "950         4\n",
       "870         4\n",
       "949         4\n",
       "234         4\n",
       "830         4\n",
       "444         3\n",
       "882         3\n",
       "865         2\n",
       "652         1\n",
       "345         1\n",
       "952         1\n",
       "446         1\n",
       "653         1\n",
       "670         1\n",
       "473         1\n",
       "111         1\n",
       "884         1\n",
       "Name: Crime_Code, dtype: int64"
      ]
     },
     "execution_count": 19,
     "metadata": {},
     "output_type": "execute_result"
    }
   ],
   "source": [
    "weapon_df['Crime_Code'].value_counts()"
   ]
  },
  {
   "cell_type": "code",
   "execution_count": 15,
   "metadata": {},
   "outputs": [],
   "source": [
    "# Get the top 10 crimes\n",
    "wc_top_10 = weapon_df['Crime_Code'].value_counts()[0:10]"
   ]
  },
  {
   "cell_type": "code",
   "execution_count": 20,
   "metadata": {},
   "outputs": [],
   "source": [
    "# To rename the crime codes with their crime description prepare a list of crimes\n",
    "index_ = ['Battery - misdemeanor', 'Spousal/Cohab Abuse - Simple Assault', 'Assault with a Deadly Weapon', 'Robbery', 'Criminal Threats', 'Spousal beating', 'Brandishing', 'Robbery - attempted', 'Assault on Firefighter or Peace Officer With Deadly Weapon', 'Gang Related']"
   ]
  },
  {
   "cell_type": "code",
   "execution_count": 21,
   "metadata": {},
   "outputs": [],
   "source": [
    "# Set the index \n",
    "wc_top_10.index = index_"
   ]
  },
  {
   "cell_type": "code",
   "execution_count": 22,
   "metadata": {},
   "outputs": [],
   "source": [
    "# Prepare a dataframe\n",
    "wc_top_10_df = pd.DataFrame(wc_top_10)"
   ]
  },
  {
   "cell_type": "code",
   "execution_count": 23,
   "metadata": {},
   "outputs": [
    {
     "data": {
      "text/html": [
       "<div>\n",
       "<style scoped>\n",
       "    .dataframe tbody tr th:only-of-type {\n",
       "        vertical-align: middle;\n",
       "    }\n",
       "\n",
       "    .dataframe tbody tr th {\n",
       "        vertical-align: top;\n",
       "    }\n",
       "\n",
       "    .dataframe thead th {\n",
       "        text-align: right;\n",
       "    }\n",
       "</style>\n",
       "<table border=\"1\" class=\"dataframe\">\n",
       "  <thead>\n",
       "    <tr style=\"text-align: right;\">\n",
       "      <th></th>\n",
       "      <th>Total Count</th>\n",
       "    </tr>\n",
       "  </thead>\n",
       "  <tbody>\n",
       "    <tr>\n",
       "      <th>Battery - misdemeanor</th>\n",
       "      <td>170812</td>\n",
       "    </tr>\n",
       "    <tr>\n",
       "      <th>Spousal/Cohab Abuse - Simple Assault</th>\n",
       "      <td>96159</td>\n",
       "    </tr>\n",
       "    <tr>\n",
       "      <th>Assault with a Deadly Weapon</th>\n",
       "      <td>81631</td>\n",
       "    </tr>\n",
       "    <tr>\n",
       "      <th>Robbery</th>\n",
       "      <td>75130</td>\n",
       "    </tr>\n",
       "    <tr>\n",
       "      <th>Criminal Threats</th>\n",
       "      <td>44077</td>\n",
       "    </tr>\n",
       "    <tr>\n",
       "      <th>Spousal beating</th>\n",
       "      <td>12419</td>\n",
       "    </tr>\n",
       "    <tr>\n",
       "      <th>Brandishing</th>\n",
       "      <td>12083</td>\n",
       "    </tr>\n",
       "    <tr>\n",
       "      <th>Robbery - attempted</th>\n",
       "      <td>10743</td>\n",
       "    </tr>\n",
       "    <tr>\n",
       "      <th>Assault on Firefighter or Peace Officer With Deadly Weapon</th>\n",
       "      <td>9857</td>\n",
       "    </tr>\n",
       "    <tr>\n",
       "      <th>Gang Related</th>\n",
       "      <td>9718</td>\n",
       "    </tr>\n",
       "  </tbody>\n",
       "</table>\n",
       "</div>"
      ],
      "text/plain": [
       "                                                    Total Count\n",
       "Battery - misdemeanor                                    170812\n",
       "Spousal/Cohab Abuse - Simple Assault                      96159\n",
       "Assault with a Deadly Weapon                              81631\n",
       "Robbery                                                   75130\n",
       "Criminal Threats                                          44077\n",
       "Spousal beating                                           12419\n",
       "Brandishing                                               12083\n",
       "Robbery - attempted                                       10743\n",
       "Assault on Firefighter or Peace Officer With De...         9857\n",
       "Gang Related                                               9718"
      ]
     },
     "execution_count": 23,
     "metadata": {},
     "output_type": "execute_result"
    }
   ],
   "source": [
    "# Rename column\n",
    "wc_top_10_df.columns=[\"Total Count\"]\n",
    "wc_top_10_df"
   ]
  },
  {
   "cell_type": "markdown",
   "metadata": {},
   "source": [
    "## What are the top 10 weapons reported in crimes"
   ]
  },
  {
   "cell_type": "code",
   "execution_count": 24,
   "metadata": {},
   "outputs": [
    {
     "data": {
      "text/plain": [
       "79"
      ]
     },
     "execution_count": 24,
     "metadata": {},
     "output_type": "execute_result"
    }
   ],
   "source": [
    "# Total number of unique weapons\n",
    "len(weapon_df[\"Weapon_Code\"].unique())"
   ]
  },
  {
   "cell_type": "code",
   "execution_count": 25,
   "metadata": {},
   "outputs": [
    {
     "data": {
      "text/plain": [
       "STRONG-ARM (HANDS, FIST, FEET OR BODILY FORCE)    382711\n",
       "VERBAL THREAT                                      52204\n",
       "UNKNOWN WEAPON/OTHER WEAPON                        50293\n",
       "HAND GUN                                           30272\n",
       "SEMI-AUTOMATIC PISTOL                              11789\n",
       "KNIFE WITH BLADE 6INCHES OR LESS                   11339\n",
       "OTHER KNIFE                                         8482\n",
       "UNKNOWN FIREARM                                     7019\n",
       "VEHICLE                                             6435\n",
       "REVOLVER                                            5241\n",
       "BOTTLE                                              4524\n",
       "STICK                                               4025\n",
       "ROCK/THROWN OBJECT                                  3977\n",
       "BLUNT INSTRUMENT                                    3868\n",
       "CLUB/BAT                                            3853\n",
       "FOLDING KNIFE                                       3766\n",
       "MACE/PEPPER SPRAY                                   3427\n",
       "KITCHEN KNIFE                                       3384\n",
       "SIMULATED GUN                                       3258\n",
       "KNIFE WITH BLADE OVER 6 INCHES IN LENGTH            3008\n",
       "BELT FLAILING INSTRUMENT/CHAIN                      2368\n",
       "AIR PISTOL/REVOLVER/RIFLE/BB GUN                    2290\n",
       "OTHER CUTTING INSTRUMENT                            1991\n",
       "PIPE/METAL PIPE                                     1734\n",
       "PHYSICAL PRESENCE                                   1583\n",
       "SCREWDRIVER                                         1436\n",
       "UNKNOWN TYPE CUTTING INSTRUMENT                     1240\n",
       "HAMMER                                              1235\n",
       "SHOTGUN                                             1127\n",
       "MACHETE                                              974\n",
       "SCISSORS                                             957\n",
       "RIFLE                                                785\n",
       "OTHER FIREARM                                        776\n",
       "CONCRETE BLOCK/BRICK                                 739\n",
       "FIXED OBJECT                                         715\n",
       "STUN GUN                                             573\n",
       "SWITCH BLADE                                         501\n",
       "BOARD                                                496\n",
       "BOMB THREAT                                          482\n",
       "FIRE                                                 421\n",
       "CAUSTIC CHEMICAL/POISON                              411\n",
       "GLASS                                                388\n",
       "BRASS KNUCKLES                                       382\n",
       "TIRE IRON                                            333\n",
       "DEMAND NOTE                                          291\n",
       "SCALDING LIQUID                                      278\n",
       "TOY GUN                                              274\n",
       "AXE                                                  273\n",
       "RAZOR BLADE                                          206\n",
       "AUTOMATIC WEAPON/SUB-MACHINE GUN                     182\n",
       "RAZOR                                                173\n",
       "SWORD                                                165\n",
       "ASSAULT WEAPON/UZI/AK47/ETC                          163\n",
       "ICE PICK                                             158\n",
       "EXPLOXIVE DEVICE                                     148\n",
       "SAWED OFF RIFLE/SHOTGUN                              143\n",
       "HECKLER & KOCH 93 SEMIAUTOMATIC ASSAULT RIFLE        129\n",
       "LIQUOR/DRUGS                                         120\n",
       "DIRK/DAGGER                                          118\n",
       "STARTER PISTOL/REVOLVER                              101\n",
       "SEMI-AUTOMATIC RIFLE                                  88\n",
       "CLEAVER                                               74\n",
       "ROPE/LIGATURE                                         72\n",
       "BLACKJACK                                             61\n",
       "BOWIE KNIFE                                           56\n",
       "STRAIGHT RAZOR                                        50\n",
       "DOG/ANIMAL (SIC ANIMAL ON)                            35\n",
       "SYRINGE                                               32\n",
       "MARTIAL ARTS WEAPONS                                  31\n",
       "BOW AND ARROW                                         23\n",
       "UNK TYPE SEMIAUTOMATIC ASSAULT RIFLE                  21\n",
       "UZI SEMIAUTOMATIC ASSAULT RIFLE                       19\n",
       "RELIC FIREARM                                         14\n",
       "HECKLER & KOCH 91 SEMIAUTOMATIC ASSAULT RIFLE         14\n",
       "MAC-10 SEMIAUTOMATIC ASSAULT WEAPON                   10\n",
       "ANTIQUE FIREARM                                        9\n",
       "MAC-11 SEMIAUTOMATIC ASSAULT WEAPON                    7\n",
       "M1-1 SEMIAUTOMATIC ASSAULT RIFLE                       3\n",
       "M-14 SEMIAUTOMATIC ASSAULT RIFLE                       1\n",
       "Name: Weapon_Desc, dtype: int64"
      ]
     },
     "execution_count": 25,
     "metadata": {},
     "output_type": "execute_result"
    }
   ],
   "source": [
    "weapon_df['Weapon_Desc'].value_counts()"
   ]
  },
  {
   "cell_type": "code",
   "execution_count": 26,
   "metadata": {},
   "outputs": [],
   "source": [
    "# Get the top 10 crimes\n",
    "# Dataset: Original Weapon DF\n",
    "weapon_top_10 = weapon_df['Weapon_Desc'].value_counts()[0:10]"
   ]
  },
  {
   "cell_type": "code",
   "execution_count": 27,
   "metadata": {},
   "outputs": [],
   "source": [
    "# Extract just the categories and store them in a list\n",
    "# Dataset: the filtered original weapon df from above\n",
    "top_10_weapons = list(weapon_top_10.index.values.tolist())"
   ]
  },
  {
   "cell_type": "code",
   "execution_count": 28,
   "metadata": {},
   "outputs": [
    {
     "data": {
      "text/html": [
       "<div>\n",
       "<style scoped>\n",
       "    .dataframe tbody tr th:only-of-type {\n",
       "        vertical-align: middle;\n",
       "    }\n",
       "\n",
       "    .dataframe tbody tr th {\n",
       "        vertical-align: top;\n",
       "    }\n",
       "\n",
       "    .dataframe thead th {\n",
       "        text-align: right;\n",
       "    }\n",
       "</style>\n",
       "<table border=\"1\" class=\"dataframe\">\n",
       "  <thead>\n",
       "    <tr style=\"text-align: right;\">\n",
       "      <th></th>\n",
       "      <th>Total Count</th>\n",
       "    </tr>\n",
       "  </thead>\n",
       "  <tbody>\n",
       "    <tr>\n",
       "      <th>STRONG-ARM (HANDS, FIST, FEET OR BODILY FORCE)</th>\n",
       "      <td>382711</td>\n",
       "    </tr>\n",
       "    <tr>\n",
       "      <th>VERBAL THREAT</th>\n",
       "      <td>52204</td>\n",
       "    </tr>\n",
       "    <tr>\n",
       "      <th>UNKNOWN WEAPON/OTHER WEAPON</th>\n",
       "      <td>50293</td>\n",
       "    </tr>\n",
       "    <tr>\n",
       "      <th>HAND GUN</th>\n",
       "      <td>30272</td>\n",
       "    </tr>\n",
       "    <tr>\n",
       "      <th>SEMI-AUTOMATIC PISTOL</th>\n",
       "      <td>11789</td>\n",
       "    </tr>\n",
       "    <tr>\n",
       "      <th>KNIFE WITH BLADE 6INCHES OR LESS</th>\n",
       "      <td>11339</td>\n",
       "    </tr>\n",
       "    <tr>\n",
       "      <th>OTHER KNIFE</th>\n",
       "      <td>8482</td>\n",
       "    </tr>\n",
       "    <tr>\n",
       "      <th>UNKNOWN FIREARM</th>\n",
       "      <td>7019</td>\n",
       "    </tr>\n",
       "    <tr>\n",
       "      <th>VEHICLE</th>\n",
       "      <td>6435</td>\n",
       "    </tr>\n",
       "    <tr>\n",
       "      <th>REVOLVER</th>\n",
       "      <td>5241</td>\n",
       "    </tr>\n",
       "  </tbody>\n",
       "</table>\n",
       "</div>"
      ],
      "text/plain": [
       "                                                Total Count\n",
       "STRONG-ARM (HANDS, FIST, FEET OR BODILY FORCE)       382711\n",
       "VERBAL THREAT                                         52204\n",
       "UNKNOWN WEAPON/OTHER WEAPON                           50293\n",
       "HAND GUN                                              30272\n",
       "SEMI-AUTOMATIC PISTOL                                 11789\n",
       "KNIFE WITH BLADE 6INCHES OR LESS                      11339\n",
       "OTHER KNIFE                                            8482\n",
       "UNKNOWN FIREARM                                        7019\n",
       "VEHICLE                                                6435\n",
       "REVOLVER                                               5241"
      ]
     },
     "execution_count": 28,
     "metadata": {},
     "output_type": "execute_result"
    }
   ],
   "source": [
    "# Create a small dataframe that will just contain summary data\n",
    "# Using the filtered database weapon_top_10\n",
    "weapon_top_10_df = pd.DataFrame(weapon_top_10)\n",
    "weapon_top_10_df.columns=[\"Total Count\"]\n",
    "weapon_top_10_df"
   ]
  },
  {
   "cell_type": "markdown",
   "metadata": {},
   "source": [
    "## How have the top 10 weapons reported in crimes changed over time\n",
    " - Create a dataframe that has grouped data by weapon, and then aggregate by year, and count the number of events within each weapon category\n",
    " - generate line plots for each weapon category"
   ]
  },
  {
   "cell_type": "code",
   "execution_count": 55,
   "metadata": {},
   "outputs": [],
   "source": [
    "annual_crimes = weapon_df[['Date_Reported', 'Crime_Code']].copy()"
   ]
  },
  {
   "cell_type": "code",
   "execution_count": 56,
   "metadata": {},
   "outputs": [],
   "source": [
    "annual_crimes['Year'] = annual_crimes['Date_Reported'].dt.year"
   ]
  },
  {
   "cell_type": "code",
   "execution_count": null,
   "metadata": {},
   "outputs": [],
   "source": [
    "df.groupby([df.index.date, 'action']).count().plot(kind='bar')"
   ]
  },
  {
   "cell_type": "code",
   "execution_count": 65,
   "metadata": {},
   "outputs": [
    {
     "data": {
      "image/png": "[encoded data removed]",
      "text/plain": [
       "<Figure size 432x288 with 1 Axes>"
      ]
     },
     "metadata": {
      "needs_background": "light"
     },
     "output_type": "display_data"
    }
   ],
   "source": [
    "ax = annual_crimes.groupby('Year')['Crime_Code'].count().plot(kind='bar')\n",
    "ax.set_ylabel(\"Count\")\n",
    "plt.title(\"Total Weapon Related Crimes Reported in LA (2010 - 2018)\")\n",
    "plt.savefig(\"static/images/plot_total_crimes_bar.png\", bbox_inches='tight')\n",
    "plt.show()"
   ]
  },
  {
   "cell_type": "code",
   "execution_count": 29,
   "metadata": {},
   "outputs": [],
   "source": [
    "# Group dataframe by weapon, and downsample to just show years\n",
    "grouped = weapon_df.groupby('Weapon_Desc').resample('Y', on = \"Date_Reported\").count()\n",
    "# Group by the crime_code column, but the values in each column are the same, \n",
    "# as it is aggregated by .count()\n",
    "grouped_df = grouped[['Crime_Code']]\n",
    "# Then convert index values to columns using the .reset_index()\n",
    "all_weapons_df = grouped_df.reset_index()\n",
    "# Reduce the date column to just the year (omit the month and last day of the month)\n",
    "all_weapons_df['Date_Reported'] = all_weapons_df['Date_Reported'].dt.year\n",
    "# Rename columns\n",
    "all_weapons_df.rename(columns={'Weapon_Desc': 'Weapon','Date_Reported':'Year', 'Crime_Code': 'Annual_Total'}, inplace=True)"
   ]
  },
  {
   "cell_type": "markdown",
   "metadata": {},
   "source": [
    "### Prepare data for plotting\n",
    " - Filter the all_weapons_df to only the top 10 weapons reported in crimes\n",
    " - use the top_10_weapons list generated above and convert that into an array\n",
    " - then use a for loop to filter the database and then create a new dataframe with just \n",
    " - the top 10 weapons"
   ]
  },
  {
   "cell_type": "code",
   "execution_count": 30,
   "metadata": {},
   "outputs": [],
   "source": [
    "# Convert top_10_weapons list into an array\n",
    "array = np.asarray(top_10_weapons)"
   ]
  },
  {
   "cell_type": "code",
   "execution_count": 31,
   "metadata": {},
   "outputs": [],
   "source": [
    "# Create a dataframe that only contains the top 10 weapons\n",
    "frames = []\n",
    "for value in array:\n",
    "    temp_df = all_weapons_df.loc[all_weapons_df[\"Weapon\"] == value]\n",
    "    frames.append(temp_df)"
   ]
  },
  {
   "cell_type": "code",
   "execution_count": 32,
   "metadata": {},
   "outputs": [],
   "source": [
    "# Concatenate the filtered dataframe\n",
    "top10weapons = pd.concat(frames, axis=0)\n",
    "# Convert the Weapon column from category to object, otherwise, the plots will contain\n",
    "# every weapon category, when we just want the top 10 in the array generated above.\n",
    "top10weapons = top10weapons.astype({'Weapon': 'str'})"
   ]
  },
  {
   "cell_type": "markdown",
   "metadata": {},
   "source": [
    "### Display weapon related crimes in LA between 2010 - 2018 (Aggregated Plot)"
   ]
  },
  {
   "cell_type": "code",
   "execution_count": 48,
   "metadata": {},
   "outputs": [
    {
     "data": {
      "image/png": "[encoded data removed]",
      "text/plain": [
       "<Figure size 432x288 with 1 Axes>"
      ]
     },
     "metadata": {
      "needs_background": "light"
     },
     "output_type": "display_data"
    }
   ],
   "source": [
    "sns.lineplot(x=\"Year\", y=\"Annual_Total\", hue=\"Weapon\", data=top10weapons)\n",
    "plt.legend(loc='upper right', bbox_to_anchor=(1, -0.15), ncol=1)\n",
    "plt.title(\"Top 10 Weapons Reported \\n Crimes in LA (2010 - 2018) \")\n",
    "plt.savefig(\"static/images/combined_top_weapons_line_plots.png\", bbox_inches='tight')\n",
    "plt.show()"
   ]
  },
  {
   "cell_type": "markdown",
   "metadata": {},
   "source": [
    "### Display weapon related crimes in LA between 2010 - 2018 (Individual Plots)"
   ]
  },
  {
   "cell_type": "code",
   "execution_count": null,
   "metadata": {},
   "outputs": [],
   "source": [
    "fig = plt.figure(figsize=(20,10))\n",
    "fig.subplots_adjust(hspace=0.8, wspace=0.2)\n",
    "for c,num in zip(array, range(1,10)):\n",
    "    df0=top10weapons[top10weapons['Weapon']==c]\n",
    "    ax = fig.add_subplot(5,5, num)\n",
    "    ax.plot(df0['Year'], df0['Annual_Total'])\n",
    "    ax.set_title(c)\n",
    "\n",
    "plt.tight_layout()\n",
    "plt.savefig(\"static/images/top_weapons_line_plots.png\", bbox_inches='tight')\n",
    "plt.show()"
   ]
  },
  {
   "cell_type": "markdown",
   "metadata": {},
   "source": [
    "## What are general features of the all victims\n",
    " - Age\n",
    " - Sex\n",
    " - Age by Sex"
   ]
  },
  {
   "cell_type": "markdown",
   "metadata": {},
   "source": [
    "### Descriptive statistics of ALL victim ages\n",
    " - Create a subset that only include the Victim Age"
   ]
  },
  {
   "cell_type": "code",
   "execution_count": null,
   "metadata": {},
   "outputs": [],
   "source": [
    "# Descriptive statistics for victim age for all sexes\n",
    "weapon_df[['Vict_Age']].describe()"
   ]
  },
  {
   "cell_type": "markdown",
   "metadata": {},
   "source": [
    "### Descriptive statistics of victim ages by Sex"
   ]
  },
  {
   "cell_type": "code",
   "execution_count": null,
   "metadata": {},
   "outputs": [],
   "source": [
    "# Find out what is the age descriptive statistics by sex\n",
    "vict_age_by_sex = weapon_df.groupby('Vict_Sex')['Vict_Age'].describe()\n",
    "# Drop non M or F categories\n",
    "vic_age_by_sex = vict_age_by_sex.drop(['H', 'N', 'X'])\n",
    "vic_age_by_sex"
   ]
  },
  {
   "cell_type": "markdown",
   "metadata": {},
   "source": [
    "## Visualize distribution of the ages of victims in weapon related crimes"
   ]
  },
  {
   "cell_type": "code",
   "execution_count": null,
   "metadata": {},
   "outputs": [],
   "source": [
    "# Plot all the victim age for all victims\n",
    "sns.distplot(weapon_df[['Vict_Age']], bins=10, kde=False).set_title('Ages of Crime Victims \\n in LA County (2010 - Present)')\n",
    "plt.savefig(\"static/images/plot_vict_age_all_histogram.png\", bbox_inches='tight')\n",
    "plt.show()"
   ]
  },
  {
   "cell_type": "markdown",
   "metadata": {},
   "source": [
    "## Visualize distribution of the ages of victims of weapon related crimes filtered for either Female or Male."
   ]
  },
  {
   "cell_type": "code",
   "execution_count": null,
   "metadata": {},
   "outputs": [],
   "source": [
    "# Subset data by victim sex for only known sexes\n",
    "all_F_age_data = weapon_df.loc[weapon_df[\"Vict_Sex\"] == \"F\"][['Vict_Age']]\n",
    "# array with the female data\n",
    "female_data = all_F_age_data['Vict_Age'].values\n",
    "all_M_age_data = weapon_df.loc[weapon_df[\"Vict_Sex\"] == \"M\"][['Vict_Age']]\n",
    "# array with the male data\n",
    "male_data = all_F_age_data['Vict_Age'].values"
   ]
  },
  {
   "cell_type": "code",
   "execution_count": null,
   "metadata": {},
   "outputs": [],
   "source": [
    "# Plot all the victim age for all victims\n",
    "fig1, axs1 = plt.subplots(ncols=2, sharex=True, sharey=True, figsize=(20, 10))\n",
    "sns.distplot(all_F_age_data, bins=10, kde=False, color='tab:blue', ax=axs1[0]).set_title('Ages of Female Crime Victims \\n in LA County (2010 - Present)')\n",
    "sns.distplot(all_M_age_data, bins=10, kde=False, color='tab:blue', ax=axs1[1]).set_title('Ages of Male Crime Victims \\n in LA County (2010 - Present)')\n",
    "fig1.savefig(\"static/images/plot_vict_age_by_sex_histograms.png\", bbox_inches='tight')\n",
    "plt.show()"
   ]
  },
  {
   "cell_type": "markdown",
   "metadata": {},
   "source": [
    "## Determine if there is a difference in the mean number of crimes between male and female"
   ]
  },
  {
   "cell_type": "markdown",
   "metadata": {},
   "source": [
    "### Test for normality and equal variance\n",
    " - cannot use a shapiro-wilk test because the p value will not be accurate with N > 5000"
   ]
  },
  {
   "cell_type": "code",
   "execution_count": null,
   "metadata": {},
   "outputs": [],
   "source": [
    "import scipy.stats as stats\n",
    "left = -1.8\n",
    "fig = plt.figure(figsize=(8,8))\n",
    "\n",
    "# qq plot for female victims\n",
    "ax = fig.add_subplot(2, 2, 1)\n",
    "sm.graphics.qqplot(female_data, line='s', ax=ax)\n",
    "top = ax.get_ylim()[1] * 0.75\n",
    "ax.title.set_text('Ages of Female Victims QQ Plot')\n",
    "\n",
    "# qq plot for male victims\n",
    "ax = fig.add_subplot(2, 2, 3)\n",
    "sm.graphics.qqplot(male_data, line='s', ax=ax)\n",
    "top = ax.get_ylim()[1] * 0.75\n",
    "ax.title.set_text(\"Ages of Male Victims QQ Plot\")\n",
    "\n",
    "fig.tight_layout()\n",
    "fig.savefig(\"static/images/plot_vict_age_by_sex_qq_plots.png\", bbox_inches='tight')\n",
    "plt.show()"
   ]
  },
  {
   "cell_type": "code",
   "execution_count": null,
   "metadata": {},
   "outputs": [],
   "source": [
    "# Test for equal variance\n",
    "# scipy.stats.bartlett because I know the samples are normally distributed\n",
    "barlette_result = stats.bartlett(female_data, male_data)\n",
    "if barlette_result[1] >= 0.05:\n",
    "    print(\"Do not reject the null hypothesis, all the input samples are from populations with equal variances.\")\n",
    "else:\n",
    "    print(\"Reject the null hypothesis, the samples do not have equal variance\")"
   ]
  },
  {
   "cell_type": "markdown",
   "metadata": {},
   "source": [
    "### t-test for two indepedent samples"
   ]
  },
  {
   "cell_type": "code",
   "execution_count": null,
   "metadata": {},
   "outputs": [],
   "source": [
    "vict_sex_t_test = stats.ttest_ind(female_data,male_data)\n",
    "if vict_sex_t_test[1] >= 0.05:\n",
    "    print(f\"The p values is {vict_sex_t_test[1]}. Do not reject the null hypothesis.\")\n",
    "else:\n",
    "    print(f\"The p values is {vict_sex_t_test[1]}. Reject the null hypothesis, the samples significantly different.\")"
   ]
  },
  {
   "cell_type": "markdown",
   "metadata": {},
   "source": [
    "## <font color='red'>No significant difference in the mean age of victims by sex.</font>"
   ]
  },
  {
   "cell_type": "markdown",
   "metadata": {},
   "source": [
    "## Explore the ethnic/racial makeup of victims of weapon related crimes"
   ]
  },
  {
   "cell_type": "code",
   "execution_count": null,
   "metadata": {},
   "outputs": [],
   "source": [
    "# Get the top 10 victims of weapon related crimes by their descendant category\n",
    "top10_vict_desc = weapon_df['Vict_Desc'].value_counts()[0:10]\n",
    "top10_vict_desc_df = pd.DataFrame(top10_vict_desc)\n",
    "top10_vict_desc_df.columns=[\"Total_Count\"]\n",
    "top10_vict_desc_df"
   ]
  },
  {
   "cell_type": "markdown",
   "metadata": {},
   "source": [
    "### Prepare victim ethnic data for visualization"
   ]
  },
  {
   "cell_type": "code",
   "execution_count": null,
   "metadata": {},
   "outputs": [],
   "source": [
    "# Make a list of the top 10 victim descent\n",
    "# This will be the axist category for the bar plot\n",
    "desc_cat = list(top10_vict_desc_df.index.values.tolist()) "
   ]
  },
  {
   "cell_type": "code",
   "execution_count": null,
   "metadata": {},
   "outputs": [],
   "source": [
    "# Prepare a list of the number of victims per descent category (in descending order)\n",
    "# This will be the height value for the bar plot\n",
    "vic_desc_values = top10_vict_desc.values.tolist()"
   ]
  },
  {
   "cell_type": "code",
   "execution_count": null,
   "metadata": {},
   "outputs": [],
   "source": [
    "# plt.rcdefaults()\n",
    "plt.style.use('ggplot')\n",
    "fig, ax = plt.subplots()\n",
    "plt.rc('axes', titlesize=22)\n",
    "plt.rc('ytick', labelsize=22)\n",
    "\n",
    "# Example data\n",
    "y = desc_cat\n",
    "y_pos = np.arange(len(desc_cat))\n",
    "\n",
    "ax.barh(y_pos, vic_desc_values, align='center', color='blue', alpha = 0.7)\n",
    "ax.set_yticks(y_pos)\n",
    "ax.set_yticklabels(y)\n",
    "ax.invert_yaxis()  # labels read top-to-bottom\n",
    "ax.set_xlabel('Total Count')\n",
    "ax.set_title(\"Total Victims in Weapons Related Crimes (2010 - 2018)\")\n",
    "plt.savefig(\"static/images/plot_all_crimes_by_vict_desc.png\", bbox_inches='tight') \n",
    "\n",
    "plt.show()"
   ]
  },
  {
   "cell_type": "markdown",
   "metadata": {},
   "source": [
    "## <Font color='red'>The majority of victims of weapon related crimes are Hispanic, Black, and White individuals</Font>"
   ]
  },
  {
   "cell_type": "markdown",
   "metadata": {},
   "source": [
    "## What crimes were the weapons used?\n",
    " - Data: List of the top 10 crimes by count: wc_top_10_df (need to get the index) \n",
    " - Filter weapon_df by the names on this list\n",
    " - Aggregate data"
   ]
  },
  {
   "cell_type": "code",
   "execution_count": null,
   "metadata": {},
   "outputs": [],
   "source": [
    "# Step 1: Create a dataframe that contains only a subset of columns\n",
    "prep_crime_df_1 = weapon_df[['Date_Reported', 'Crime_Code', 'Weapon_Desc']].copy()"
   ]
  },
  {
   "cell_type": "code",
   "execution_count": null,
   "metadata": {},
   "outputs": [],
   "source": [
    "# Step 2: Filter out rows that do not contain the top to crime codes"
   ]
  },
  {
   "cell_type": "code",
   "execution_count": null,
   "metadata": {},
   "outputs": [],
   "source": [
    "# Extract the index (crime codes)\n",
    "top_10_crime_codes = list(weapon_df['Crime_Code'].value_counts()[0:9].index.values.tolist())\n",
    "crime_array = np.asarray(top_10_crime_codes)"
   ]
  },
  {
   "cell_type": "code",
   "execution_count": null,
   "metadata": {},
   "outputs": [],
   "source": [
    "# Create a dataframe that only contains the top 10 weapons\n",
    "crime_frames = []\n",
    "for value in crime_array:\n",
    "    temp_df = prep_crime_df_1.loc[prep_crime_df_1[\"Crime_Code\"] == value]\n",
    "    crime_frames.append(temp_df)"
   ]
  },
  {
   "cell_type": "code",
   "execution_count": null,
   "metadata": {},
   "outputs": [],
   "source": [
    "# Concatenate the filtered dataframe\n",
    "top10crimes_by_weapon = pd.concat(crime_frames, axis=0)"
   ]
  },
  {
   "cell_type": "code",
   "execution_count": null,
   "metadata": {},
   "outputs": [],
   "source": [
    "# Rename columns\n",
    "top10crimes_by_weapon.rename(columns={'Weapon_Desc': 'Weapon','Date_Reported':'Year'}, inplace=True)"
   ]
  },
  {
   "cell_type": "code",
   "execution_count": null,
   "metadata": {},
   "outputs": [],
   "source": [
    "# Drop the month and day in the year column\n",
    "top10crimes_by_weapon['Year'] = top10crimes_by_weapon['Year'].dt.year"
   ]
  },
  {
   "cell_type": "code",
   "execution_count": null,
   "metadata": {},
   "outputs": [],
   "source": [
    "# Convert the Weapon column from category to object, otherwise, the plots will contain\n",
    "# every weapon category, when we just want the top 10 in the array generated above.\n",
    "top10crimes_by_weapon = top10crimes_by_weapon.astype({'Weapon': 'str'})"
   ]
  },
  {
   "cell_type": "code",
   "execution_count": null,
   "metadata": {},
   "outputs": [],
   "source": [
    "# Dictionary of crime codes and their text description (ucr reporting dictionary available online)\n",
    "crimes_dict = {624 : 'Battery - misdemeanor', 626 : 'Spousal/Cohab Abuse - Simple Assault', 230 : 'Assault with a Deadly Weapon', 210 : 'Robbery', 930 : 'Criminal Threats', 236 : 'Spousal beating', 761 : 'Brandishing', 220 : 'Robbery - attempted', 310 :  'Assault on Firefighter or Peace Officer With Deadly Weapon'}"
   ]
  },
  {
   "cell_type": "code",
   "execution_count": null,
   "metadata": {},
   "outputs": [],
   "source": [
    "# Replace crime codes with crime description\n",
    "top10crimes_by_weapon['Crime_Code'].replace(crimes_dict, inplace= True)"
   ]
  },
  {
   "cell_type": "markdown",
   "metadata": {},
   "source": [
    "### Filter database by top 10 weapon! Otherwise we get everything\n",
    " - Use the array list that contains the top 10 weapons\n",
    " - Use the top10crimes_by_weapon dataframe"
   ]
  },
  {
   "cell_type": "code",
   "execution_count": null,
   "metadata": {},
   "outputs": [],
   "source": [
    "# Create a dataframe that only contains the top 10 weapons\n",
    "new_frames = []\n",
    "for value in array:\n",
    "    temp_df = top10crimes_by_weapon.loc[top10crimes_by_weapon[\"Weapon\"] == value]\n",
    "    new_frames.append(temp_df)"
   ]
  },
  {
   "cell_type": "code",
   "execution_count": null,
   "metadata": {},
   "outputs": [],
   "source": [
    "# Concatenate the filtered dataframe\n",
    "top10crimes_weapons_df = pd.concat(new_frames, axis=0)"
   ]
  },
  {
   "cell_type": "code",
   "execution_count": null,
   "metadata": {},
   "outputs": [],
   "source": [
    "# Create a pivot table to summarize the counts of each event\n",
    "weapon_crime_table = pd.pivot_table(top10crimes_weapons_df, values='Year', index=['Crime_Code'], columns=['Weapon'], aggfunc='count')\n",
    "weapon_crime_table"
   ]
  },
  {
   "cell_type": "code",
   "execution_count": null,
   "metadata": {},
   "outputs": [],
   "source": [
    "plt.style.use('tableau-colorblind10')\n",
    "weapon_crime_table.plot.barh(stacked=True, figsize=(20,17))\n",
    "plt.rcParams.update({'axes.titlesize': 30})\n",
    "plt.rcParams.update({'axes.labelsize': 40})\n",
    "plt.rcParams.update({'ytick.labelsize': 40})\n",
    "plt.rcParams.update({'xtick.labelsize': 15})\n",
    "plt.rcParams.update({'xtick.labelsize': 15})\n",
    "plt.rc('legend',**{'fontsize':20})\n",
    "plt.legend(loc='upper right', bbox_to_anchor=(1.6, 1), ncol=1)\n",
    "plt.title(\"Proportion of Weapons Reported \\n in Top 10 Crimes (2010 - 2018)\")\n",
    "plt.savefig(\"static/images/plot_weapon_crime_pivot_barh.png\", bbox_inches='tight') \n",
    "plt.show()"
   ]
  },
  {
   "cell_type": "markdown",
   "metadata": {},
   "source": [
    "## Get data for leaflet javascript mapping\n",
    " - Entire dataset from 2010 - 2019\n",
    " - The file that will be saved for website will be 2019 only"
   ]
  },
  {
   "cell_type": "code",
   "execution_count": null,
   "metadata": {},
   "outputs": [],
   "source": [
    "# Create a dataframe that only contains the top 10 weapons\n",
    "crime_loc_frames = []\n",
    "for value in crime_array:\n",
    "    temp_df = weapon_crime_df.loc[weapon_crime_df[\"Crime_Code\"] == value]\n",
    "    crime_loc_frames.append(temp_df)"
   ]
  },
  {
   "cell_type": "code",
   "execution_count": null,
   "metadata": {},
   "outputs": [],
   "source": [
    "# Create subset dataframe with to 10 crimes\n",
    "crime_location_df = pd.concat(crime_loc_frames, axis=0, ignore_index = True)"
   ]
  },
  {
   "cell_type": "code",
   "execution_count": null,
   "metadata": {},
   "outputs": [],
   "source": [
    "# Change the date reported column to year\n",
    "crime_location_df['Year'] = crime_location_df['Date_Reported'].dt.year"
   ]
  },
  {
   "cell_type": "code",
   "execution_count": null,
   "metadata": {},
   "outputs": [],
   "source": [
    "# Replace crime codes with text description\n",
    "crime_location_df['Crime_Code'].replace(crimes_dict, inplace=True)"
   ]
  },
  {
   "cell_type": "code",
   "execution_count": null,
   "metadata": {},
   "outputs": [],
   "source": [
    "_2019_crime_lo_df = crime_location_df.loc[crime_location_df['Year'] == 2019]"
   ]
  },
  {
   "cell_type": "code",
   "execution_count": null,
   "metadata": {},
   "outputs": [],
   "source": [
    "_2019_crime_lo_df.to_csv(\"static/js/crime_map_data.csv\", index=False)"
   ]
  },
  {
   "cell_type": "markdown",
   "metadata": {},
   "source": [
    "## What areas have the highest incidents of weapon related crimes"
   ]
  },
  {
   "cell_type": "code",
   "execution_count": null,
   "metadata": {},
   "outputs": [],
   "source": [
    "# Group crimes by area and count events per area\n",
    "area_crimes = crime_location_df.groupby(\"Area_Name\")[\"Crime_Code\"].agg('count')"
   ]
  },
  {
   "cell_type": "code",
   "execution_count": null,
   "metadata": {},
   "outputs": [],
   "source": [
    "# Convert \n",
    "area_crime_df = pd.DataFrame(area_crimes)\n",
    "area_crime_df.columns = [\"Total Crimes\"]"
   ]
  },
  {
   "cell_type": "code",
   "execution_count": null,
   "metadata": {},
   "outputs": [],
   "source": [
    "area_crime_df"
   ]
  },
  {
   "cell_type": "markdown",
   "metadata": {},
   "source": [
    "### Create a pivot table for areas and count all the crimes"
   ]
  },
  {
   "cell_type": "code",
   "execution_count": null,
   "metadata": {},
   "outputs": [],
   "source": [
    "# Create a pivot table to summarize the counts of each event in an area\n",
    "area_crime_table = pd.pivot_table(crime_location_df, values='Year', index=['Area_Name'], columns=['Crime_Code'], aggfunc='count')\n",
    "area_crime_table"
   ]
  },
  {
   "cell_type": "code",
   "execution_count": null,
   "metadata": {},
   "outputs": [],
   "source": [
    "plt.style.use('tableau-colorblind10')\n",
    "area_crime_table.plot.barh(stacked=True, figsize=(20,17))\n",
    "plt.rcParams.update({'axes.titlesize': 30})\n",
    "plt.rcParams.update({'axes.labelsize': 40})\n",
    "plt.rcParams.update({'ytick.labelsize': 40})\n",
    "plt.rcParams.update({'xtick.labelsize': 15})\n",
    "plt.rcParams.update({'xtick.labelsize': 15})\n",
    "plt.rc('legend',**{'fontsize':20})\n",
    "plt.legend(loc='upper right', bbox_to_anchor=(1.65, 1), ncol=1)\n",
    "plt.title(\"Proportion of Crimes Reported (2010 - 2019)\")\n",
    "plt.savefig(\"static/images/plot_crime_area_pivot_barh.png\", bbox_inches='tight') \n",
    "plt.show()"
   ]
  },
  {
   "cell_type": "code",
   "execution_count": null,
   "metadata": {},
   "outputs": [],
   "source": []
  }
 ],
 "metadata": {
  "kernelspec": {
   "display_name": "Python 3",
   "language": "python",
   "name": "python3"
  },
  "language_info": {
   "codemirror_mode": {
    "name": "ipython",
    "version": 3
   },
   "file_extension": ".py",
   "mimetype": "text/x-python",
   "name": "python",
   "nbconvert_exporter": "python",
   "pygments_lexer": "ipython3",
   "version": "3.7.4"
  }
 },
 "nbformat": 4,
 "nbformat_minor": 2
}

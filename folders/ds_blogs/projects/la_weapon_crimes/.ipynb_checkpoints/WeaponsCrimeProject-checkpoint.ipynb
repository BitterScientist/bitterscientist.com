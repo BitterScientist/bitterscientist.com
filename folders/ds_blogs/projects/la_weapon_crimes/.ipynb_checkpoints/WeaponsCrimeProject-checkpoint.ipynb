{
 "cells": [
  {
   "cell_type": "markdown",
   "metadata": {},
   "source": [
    "## Import Dependencies"
   ]
  },
  {
   "cell_type": "code",
   "execution_count": 1,
   "metadata": {},
   "outputs": [],
   "source": [
    "# Data Manipulation Libraries: Standard dataframes and array libraries\n",
    "import pandas as pd\n",
    "import numpy as np\n",
    "import sqlite3 #for querying data \n",
    "import datetime\n",
    "\n",
    "# Data Visualization Libraries:\n",
    "import matplotlib.pyplot as plt\n",
    "import matplotlib.lines as mlines\n",
    "import seaborn as sns\n",
    "\n",
    "# Data Analysis: Statistics and Machine Learning Libraries\n",
    "from scipy import stats\n",
    "import scikit_posthocs as sp\n",
    "from sklearn import svm\n",
    "from sklearn.model_selection import train_test_split\n",
    "from sklearn.linear_model import LogisticRegression\n",
    "from sklearn.svm import LinearSVC\n",
    "from sklearn import metrics\n",
    "from sklearn.metrics import confusion_matrix, classification_report\n",
    "\n",
    "# Displaying plots in jupter notebook\n",
    "%matplotlib inline\n",
    "# Displaying pandas columns and rows\n",
    "pd.set_option('display.max_rows', None)\n",
    "pd.set_option('display.max_columns', None)"
   ]
  },
  {
   "cell_type": "markdown",
   "metadata": {},
   "source": [
    "## Import Dataset\n",
    " - Data downloaded from https://data.lacity.org/resource/63jg-8b9z.json on 12/3/19"
   ]
  },
  {
   "cell_type": "code",
   "execution_count": 2,
   "metadata": {},
   "outputs": [],
   "source": [
    "# import data using read_csv() method\n",
    "df = pd.read_csv(\"/Users/trinitycisneros/Documents/Coding/bitterscientist.com/Crime_Data_from_2010_to_Present.csv\")"
   ]
  },
  {
   "cell_type": "markdown",
   "metadata": {},
   "source": [
    "## Filter Dataset"
   ]
  },
  {
   "cell_type": "code",
   "execution_count": 3,
   "metadata": {},
   "outputs": [],
   "source": [
    "# This study will evaluate trends in weapon related crimes, and as such, will use the following features\n",
    "weapon_crime_df = df[['Date Rptd', 'Vict Age', 'Vict Sex', 'Vict Descent', 'Crm Cd 1', 'Weapon Used Cd', 'Weapon Desc', 'Status', 'AREA NAME' , 'LAT', 'LON']]\n",
    "# Renamed columns\n",
    "weapon_crime_df.columns = [\"Date_Reported\", \"Vict_Age\", \"Vict_Sex\", \"Vict_Desc\", \"Crime_Code\", \"Weapon_Code\", \"Weapon_Desc\", \"Status\", \"Area_Name\", \"Lat\", \"Lng\"]"
   ]
  },
  {
   "cell_type": "markdown",
   "metadata": {},
   "source": [
    "## Omit all records missing data"
   ]
  },
  {
   "cell_type": "code",
   "execution_count": 4,
   "metadata": {},
   "outputs": [],
   "source": [
    "weapon_crime_df = weapon_crime_df.dropna(how='any', subset=['Weapon_Desc', 'Vict_Sex', 'Vict_Desc', 'Crime_Code', 'Status']).copy()"
   ]
  },
  {
   "cell_type": "code",
   "execution_count": 6,
   "metadata": {},
   "outputs": [
    {
     "data": {
      "text/plain": [
       "Date_Reported    0\n",
       "Vict_Age         0\n",
       "Vict_Sex         0\n",
       "Vict_Desc        0\n",
       "Crime_Code       0\n",
       "Weapon_Code      0\n",
       "Weapon_Desc      0\n",
       "Status           0\n",
       "Area_Name        0\n",
       "Lat              0\n",
       "Lng              0\n",
       "dtype: int64"
      ]
     },
     "execution_count": 6,
     "metadata": {},
     "output_type": "execute_result"
    }
   ],
   "source": [
    "# Determine how many rows have missing values (as this would affect downstream analysis)\n",
    "weapon_crime_df.isnull().sum()"
   ]
  },
  {
   "cell_type": "markdown",
   "metadata": {},
   "source": [
    "## Update Column Datatypes"
   ]
  },
  {
   "cell_type": "code",
   "execution_count": 7,
   "metadata": {},
   "outputs": [],
   "source": [
    "# Create lists for categorical and int columns\n",
    "cat_col = ['Vict_Sex', 'Vict_Desc', 'Weapon_Desc', 'Status', 'Area_Name']\n",
    "int_col = ['Vict_Age', 'Weapon_Code', 'Crime_Code']"
   ]
  },
  {
   "cell_type": "code",
   "execution_count": 8,
   "metadata": {},
   "outputs": [],
   "source": [
    "# Convert events column into int using a for loop\n",
    "for col in int_col:\n",
    "    weapon_crime_df[col] = weapon_crime_df[col].astype('int64')"
   ]
  },
  {
   "cell_type": "code",
   "execution_count": 9,
   "metadata": {},
   "outputs": [],
   "source": [
    "# Convert events column into category using a for loop\n",
    "for col in cat_col:\n",
    "    weapon_crime_df[col] = weapon_crime_df[col].astype('category')"
   ]
  },
  {
   "cell_type": "markdown",
   "metadata": {},
   "source": [
    "### Research Questions\n",
    "### What are the top 10 crimes involving weapons\n",
    "### What are the top 10 weapons reported in crimes\n",
    "### What are general features of the all victims\n",
    "### How have weapon related crimes changed over the reporting period\n",
    " - What are the victim profiles\n",
    " - What was the crime reported\n",
    "### In the past year, where were these crimes committed?\n",
    "### In the past year, are there regional differences in weapon usage accross the city?\n",
    "### How does a regions annual household income affect weapon related crimes?"
   ]
  },
  {
   "cell_type": "markdown",
   "metadata": {},
   "source": [
    "## What are the top 10 crimes involving weapons"
   ]
  },
  {
   "cell_type": "code",
   "execution_count": 58,
   "metadata": {},
   "outputs": [],
   "source": [
    "# Get the top 10 crimes\n",
    "wc_top_10 = weapon_crime_df['Crime_Code'].value_counts()[0:9]"
   ]
  },
  {
   "cell_type": "code",
   "execution_count": 65,
   "metadata": {},
   "outputs": [],
   "source": [
    "# To rename the crime codes with their crime description prepare a list of crimes\n",
    "index_ = ['Battery - misdemeanor', 'Spousal/Cohab Abuse - Simple Assault', 'Assault with a Deadly Weapon', 'Robbery', 'Criminal Threats', 'Spousal beating', 'Brandishing', 'Robbery - attempted', 'Assault on Firefighter or Peace Officer With Deadly Weapon']"
   ]
  },
  {
   "cell_type": "code",
   "execution_count": 66,
   "metadata": {},
   "outputs": [],
   "source": [
    "# Set the index \n",
    "wc_top_10.index = index_"
   ]
  },
  {
   "cell_type": "code",
   "execution_count": 67,
   "metadata": {},
   "outputs": [],
   "source": [
    "# Prepare a dataframe\n",
    "wc_top_10_df = pd.DataFrame(wc_top_10)"
   ]
  },
  {
   "cell_type": "code",
   "execution_count": 68,
   "metadata": {},
   "outputs": [
    {
     "data": {
      "text/html": [
       "<div>\n",
       "<style scoped>\n",
       "    .dataframe tbody tr th:only-of-type {\n",
       "        vertical-align: middle;\n",
       "    }\n",
       "\n",
       "    .dataframe tbody tr th {\n",
       "        vertical-align: top;\n",
       "    }\n",
       "\n",
       "    .dataframe thead th {\n",
       "        text-align: right;\n",
       "    }\n",
       "</style>\n",
       "<table border=\"1\" class=\"dataframe\">\n",
       "  <thead>\n",
       "    <tr style=\"text-align: right;\">\n",
       "      <th></th>\n",
       "      <th>Total Count</th>\n",
       "    </tr>\n",
       "  </thead>\n",
       "  <tbody>\n",
       "    <tr>\n",
       "      <th>Battery - misdemeanor</th>\n",
       "      <td>188920</td>\n",
       "    </tr>\n",
       "    <tr>\n",
       "      <th>Spousal/Cohab Abuse - Simple Assault</th>\n",
       "      <td>107657</td>\n",
       "    </tr>\n",
       "    <tr>\n",
       "      <th>Assault with a Deadly Weapon</th>\n",
       "      <td>91803</td>\n",
       "    </tr>\n",
       "    <tr>\n",
       "      <th>Robbery</th>\n",
       "      <td>83030</td>\n",
       "    </tr>\n",
       "    <tr>\n",
       "      <th>Criminal Threats</th>\n",
       "      <td>48813</td>\n",
       "    </tr>\n",
       "    <tr>\n",
       "      <th>Spousal beating</th>\n",
       "      <td>15151</td>\n",
       "    </tr>\n",
       "    <tr>\n",
       "      <th>Brandishing</th>\n",
       "      <td>14637</td>\n",
       "    </tr>\n",
       "    <tr>\n",
       "      <th>Robbery - attempted</th>\n",
       "      <td>11880</td>\n",
       "    </tr>\n",
       "    <tr>\n",
       "      <th>Assault on Firefighter or Peace Officer With Deadly Weapon</th>\n",
       "      <td>10934</td>\n",
       "    </tr>\n",
       "  </tbody>\n",
       "</table>\n",
       "</div>"
      ],
      "text/plain": [
       "                                                    Total Count\n",
       "Battery - misdemeanor                                    188920\n",
       "Spousal/Cohab Abuse - Simple Assault                     107657\n",
       "Assault with a Deadly Weapon                              91803\n",
       "Robbery                                                   83030\n",
       "Criminal Threats                                          48813\n",
       "Spousal beating                                           15151\n",
       "Brandishing                                               14637\n",
       "Robbery - attempted                                       11880\n",
       "Assault on Firefighter or Peace Officer With De...        10934"
      ]
     },
     "execution_count": 68,
     "metadata": {},
     "output_type": "execute_result"
    }
   ],
   "source": [
    "# Rename column\n",
    "wc_top_10_df.columns=[\"Total Count\"]\n",
    "wc_top_10_df"
   ]
  },
  {
   "cell_type": "markdown",
   "metadata": {},
   "source": [
    "## What are the top 10 weapons reported in crimes"
   ]
  },
  {
   "cell_type": "code",
   "execution_count": 70,
   "metadata": {},
   "outputs": [
    {
     "data": {
      "text/plain": [
       "Index(['Date_Reported', 'Vict_Age', 'Vict_Sex', 'Vict_Desc', 'Crime_Code',\n",
       "       'Weapon_Code', 'Weapon_Desc', 'Status', 'Area_Name', 'Lat', 'Lng'],\n",
       "      dtype='object')"
      ]
     },
     "execution_count": 70,
     "metadata": {},
     "output_type": "execute_result"
    }
   ],
   "source": [
    "weapon_crime_df"
   ]
  },
  {
   "cell_type": "code",
   "execution_count": 73,
   "metadata": {},
   "outputs": [],
   "source": [
    "# Get the top 10 crimes\n",
    "weapon_top_10 = weapon_crime_df['Weapon_Desc'].value_counts()[0:9]"
   ]
  },
  {
   "cell_type": "code",
   "execution_count": 77,
   "metadata": {},
   "outputs": [
    {
     "data": {
      "text/html": [
       "<div>\n",
       "<style scoped>\n",
       "    .dataframe tbody tr th:only-of-type {\n",
       "        vertical-align: middle;\n",
       "    }\n",
       "\n",
       "    .dataframe tbody tr th {\n",
       "        vertical-align: top;\n",
       "    }\n",
       "\n",
       "    .dataframe thead th {\n",
       "        text-align: right;\n",
       "    }\n",
       "</style>\n",
       "<table border=\"1\" class=\"dataframe\">\n",
       "  <thead>\n",
       "    <tr style=\"text-align: right;\">\n",
       "      <th></th>\n",
       "      <th>Total Count</th>\n",
       "    </tr>\n",
       "  </thead>\n",
       "  <tbody>\n",
       "    <tr>\n",
       "      <th>STRONG-ARM (HANDS, FIST, FEET OR BODILY FORCE)</th>\n",
       "      <td>426874</td>\n",
       "    </tr>\n",
       "    <tr>\n",
       "      <th>VERBAL THREAT</th>\n",
       "      <td>58216</td>\n",
       "    </tr>\n",
       "    <tr>\n",
       "      <th>UNKNOWN WEAPON/OTHER WEAPON</th>\n",
       "      <td>56890</td>\n",
       "    </tr>\n",
       "    <tr>\n",
       "      <th>HAND GUN</th>\n",
       "      <td>33834</td>\n",
       "    </tr>\n",
       "    <tr>\n",
       "      <th>SEMI-AUTOMATIC PISTOL</th>\n",
       "      <td>12815</td>\n",
       "    </tr>\n",
       "    <tr>\n",
       "      <th>KNIFE WITH BLADE 6INCHES OR LESS</th>\n",
       "      <td>12746</td>\n",
       "    </tr>\n",
       "    <tr>\n",
       "      <th>OTHER KNIFE</th>\n",
       "      <td>9706</td>\n",
       "    </tr>\n",
       "    <tr>\n",
       "      <th>UNKNOWN FIREARM</th>\n",
       "      <td>7850</td>\n",
       "    </tr>\n",
       "    <tr>\n",
       "      <th>VEHICLE</th>\n",
       "      <td>7176</td>\n",
       "    </tr>\n",
       "  </tbody>\n",
       "</table>\n",
       "</div>"
      ],
      "text/plain": [
       "                                                Total Count\n",
       "STRONG-ARM (HANDS, FIST, FEET OR BODILY FORCE)       426874\n",
       "VERBAL THREAT                                         58216\n",
       "UNKNOWN WEAPON/OTHER WEAPON                           56890\n",
       "HAND GUN                                              33834\n",
       "SEMI-AUTOMATIC PISTOL                                 12815\n",
       "KNIFE WITH BLADE 6INCHES OR LESS                      12746\n",
       "OTHER KNIFE                                            9706\n",
       "UNKNOWN FIREARM                                        7850\n",
       "VEHICLE                                                7176"
      ]
     },
     "execution_count": 77,
     "metadata": {},
     "output_type": "execute_result"
    }
   ],
   "source": [
    "weapon_top_10_df = pd.DataFrame(weapon_top_10)\n",
    "weapon_top_10_df.columns=[\"Total Count\"]\n",
    "weapon_top_10_df"
   ]
  },
  {
   "cell_type": "markdown",
   "metadata": {},
   "source": [
    "## What are general features of the all victims\n",
    " - Age\n",
    " - Sex\n",
    " - Age by Sex"
   ]
  },
  {
   "cell_type": "code",
   "execution_count": 78,
   "metadata": {},
   "outputs": [
    {
     "data": {
      "text/plain": [
       "Index(['Date_Reported', 'Vict_Age', 'Vict_Sex', 'Vict_Desc', 'Crime_Code',\n",
       "       'Weapon_Code', 'Weapon_Desc', 'Status', 'Area_Name', 'Lat', 'Lng'],\n",
       "      dtype='object')"
      ]
     },
     "execution_count": 78,
     "metadata": {},
     "output_type": "execute_result"
    }
   ],
   "source": [
    "weapon_crime_df.columns"
   ]
  },
  {
   "cell_type": "code",
   "execution_count": 81,
   "metadata": {},
   "outputs": [
    {
     "data": {
      "text/html": [
       "<div>\n",
       "<style scoped>\n",
       "    .dataframe tbody tr th:only-of-type {\n",
       "        vertical-align: middle;\n",
       "    }\n",
       "\n",
       "    .dataframe tbody tr th {\n",
       "        vertical-align: top;\n",
       "    }\n",
       "\n",
       "    .dataframe thead th {\n",
       "        text-align: right;\n",
       "    }\n",
       "</style>\n",
       "<table border=\"1\" class=\"dataframe\">\n",
       "  <thead>\n",
       "    <tr style=\"text-align: right;\">\n",
       "      <th></th>\n",
       "      <th>Vict_Age</th>\n",
       "    </tr>\n",
       "  </thead>\n",
       "  <tbody>\n",
       "    <tr>\n",
       "      <th>count</th>\n",
       "      <td>704416.000000</td>\n",
       "    </tr>\n",
       "    <tr>\n",
       "      <th>mean</th>\n",
       "      <td>33.096876</td>\n",
       "    </tr>\n",
       "    <tr>\n",
       "      <th>std</th>\n",
       "      <td>16.755117</td>\n",
       "    </tr>\n",
       "    <tr>\n",
       "      <th>min</th>\n",
       "      <td>-9.000000</td>\n",
       "    </tr>\n",
       "    <tr>\n",
       "      <th>25%</th>\n",
       "      <td>22.000000</td>\n",
       "    </tr>\n",
       "    <tr>\n",
       "      <th>50%</th>\n",
       "      <td>31.000000</td>\n",
       "    </tr>\n",
       "    <tr>\n",
       "      <th>75%</th>\n",
       "      <td>45.000000</td>\n",
       "    </tr>\n",
       "    <tr>\n",
       "      <th>max</th>\n",
       "      <td>99.000000</td>\n",
       "    </tr>\n",
       "  </tbody>\n",
       "</table>\n",
       "</div>"
      ],
      "text/plain": [
       "            Vict_Age\n",
       "count  704416.000000\n",
       "mean       33.096876\n",
       "std        16.755117\n",
       "min        -9.000000\n",
       "25%        22.000000\n",
       "50%        31.000000\n",
       "75%        45.000000\n",
       "max        99.000000"
      ]
     },
     "execution_count": 81,
     "metadata": {},
     "output_type": "execute_result"
    }
   ],
   "source": [
    "# Descriptive statistics for victim age for all sexes\n",
    "weapon_crime_df[['Vict_Age']].describe()"
   ]
  },
  {
   "cell_type": "code",
   "execution_count": 124,
   "metadata": {},
   "outputs": [
    {
     "data": {
      "text/html": [
       "<div>\n",
       "<style scoped>\n",
       "    .dataframe tbody tr th:only-of-type {\n",
       "        vertical-align: middle;\n",
       "    }\n",
       "\n",
       "    .dataframe tbody tr th {\n",
       "        vertical-align: top;\n",
       "    }\n",
       "\n",
       "    .dataframe thead th {\n",
       "        text-align: right;\n",
       "    }\n",
       "</style>\n",
       "<table border=\"1\" class=\"dataframe\">\n",
       "  <thead>\n",
       "    <tr style=\"text-align: right;\">\n",
       "      <th></th>\n",
       "      <th>count</th>\n",
       "      <th>mean</th>\n",
       "      <th>std</th>\n",
       "      <th>min</th>\n",
       "      <th>25%</th>\n",
       "      <th>50%</th>\n",
       "      <th>75%</th>\n",
       "      <th>max</th>\n",
       "    </tr>\n",
       "    <tr>\n",
       "      <th>Vict_Sex</th>\n",
       "      <th></th>\n",
       "      <th></th>\n",
       "      <th></th>\n",
       "      <th></th>\n",
       "      <th></th>\n",
       "      <th></th>\n",
       "      <th></th>\n",
       "      <th></th>\n",
       "    </tr>\n",
       "  </thead>\n",
       "  <tbody>\n",
       "    <tr>\n",
       "      <th>F</th>\n",
       "      <td>360786.0</td>\n",
       "      <td>33.071001</td>\n",
       "      <td>15.220637</td>\n",
       "      <td>-8.0</td>\n",
       "      <td>22.0</td>\n",
       "      <td>30.0</td>\n",
       "      <td>43.0</td>\n",
       "      <td>99.0</td>\n",
       "    </tr>\n",
       "    <tr>\n",
       "      <th>M</th>\n",
       "      <td>333823.0</td>\n",
       "      <td>34.004113</td>\n",
       "      <td>17.674571</td>\n",
       "      <td>-8.0</td>\n",
       "      <td>22.0</td>\n",
       "      <td>33.0</td>\n",
       "      <td>47.0</td>\n",
       "      <td>99.0</td>\n",
       "    </tr>\n",
       "  </tbody>\n",
       "</table>\n",
       "</div>"
      ],
      "text/plain": [
       "             count       mean        std  min   25%   50%   75%   max\n",
       "Vict_Sex                                                             \n",
       "F         360786.0  33.071001  15.220637 -8.0  22.0  30.0  43.0  99.0\n",
       "M         333823.0  34.004113  17.674571 -8.0  22.0  33.0  47.0  99.0"
      ]
     },
     "execution_count": 124,
     "metadata": {},
     "output_type": "execute_result"
    }
   ],
   "source": [
    "# Find out what is the age descriptive statistics by sex\n",
    "vict_age_by_sex = weapon_crime_df.groupby('Vict_Sex')['Vict_Age'].describe()\n",
    "# Drop non M or F categories\n",
    "vic_age_by_sex = vict_age_by_sex.drop(['H', 'N', 'X'])\n",
    "vic_age_by_sex"
   ]
  },
  {
   "cell_type": "markdown",
   "metadata": {},
   "source": [
    "## Visualize distribution of data for victim age"
   ]
  },
  {
   "cell_type": "code",
   "execution_count": 115,
   "metadata": {},
   "outputs": [
    {
     "data": {
      "image/png": "[encoded data removed]",
      "text/plain": [
       "<Figure size 432x288 with 1 Axes>"
      ]
     },
     "metadata": {
      "needs_background": "light"
     },
     "output_type": "display_data"
    }
   ],
   "source": [
    "# Plot all the victim age for all victims\n",
    "sns.distplot(weapon_crime_df[['Vict_Age']], bins=10, kde=False).set_title('Ages of Crime Victims \\n in LA County (2010 - Present)')\n",
    "plt.savefig(\"static/images/vict_age_all_histogram.png\", bbox_inches='tight')\n",
    "plt.show()"
   ]
  },
  {
   "cell_type": "code",
   "execution_count": 103,
   "metadata": {},
   "outputs": [],
   "source": [
    "# Subset data by victim sex for only known sexes\n",
    "all_F_age_data = weapon_crime_df.loc[weapon_crime_df[\"Vict_Sex\"] == \"F\"][['Vict_Age']]\n",
    "all_M_age_data = weapon_crime_df.loc[weapon_crime_df[\"Vict_Sex\"] == \"M\"][['Vict_Age']]"
   ]
  },
  {
   "cell_type": "code",
   "execution_count": 116,
   "metadata": {},
   "outputs": [
    {
     "data": {
      "image/png": "[encoded data removed]",
      "text/plain": [
       "<Figure size 1440x720 with 2 Axes>"
      ]
     },
     "metadata": {
      "needs_background": "light"
     },
     "output_type": "display_data"
    }
   ],
   "source": [
    "# Plot all the victim age for all victims\n",
    "fig1, axs1 = plt.subplots(ncols=2, sharex=True, sharey=True, figsize=(20, 10))\n",
    "sns.distplot(all_F_age_data, bins=10, kde=False, color='tab:blue', ax=axs1[0]).set_title('Ages of Female Crime Victims \\n in LA County (2010 - Present)')\n",
    "sns.distplot(all_M_age_data, bins=10, kde=False, color='tab:blue', ax=axs1[1]).set_title('Ages of Male Crime Victims \\n in LA County (2010 - Present)')\n",
    "fig1.savefig(\"static/images/vict_age_by_sex_histograms.png\", bbox_inches='tight')\n",
    "plt.show()"
   ]
  },
  {
   "cell_type": "code",
   "execution_count": null,
   "metadata": {},
   "outputs": [],
   "source": [
    "# Dataset: All batted events for Bregman, Rendon, and Soto\n",
    "# Selected only the to 10 batting events\n",
    "order = batted_events_df.events.value_counts().index[:10]\n",
    "\n",
    "sns.set(rc={'figure.figsize':(25,15)})\n",
    "sns.set(font_scale=1.5)\n",
    "result_events = sns.countplot(x='events', hue = \"batter\", data=batted_events_df, order=order)\n",
    "result_events.set_xticklabels(result_events.get_xticklabels(), rotation=45)\n",
    "fig = result_events.get_figure()\n",
    "fig.savefig(\"static/images/batter_event_bar_plots.png\", bbox_inches='tight') "
   ]
  },
  {
   "cell_type": "code",
   "execution_count": 141,
   "metadata": {},
   "outputs": [],
   "source": [
    "descent_dict = {'A' : 'Other Asian', 'B' : 'Black', 'C' : 'Chinese', 'D' : 'Cambodian', 'F' : 'Filipino', 'G' : 'Guamanian', 'H' : 'Hispanic/Latin/Mexican', 'I' : 'American Indian/Alaskan Native', 'J' : 'Japanese', 'K' : 'Korean', 'L' : 'Laotian', 'O' : 'Other', 'P' : 'Pacific Islander', 'S': 'Samoan', 'U': 'Hawaiian', 'V': 'Vietnamese', 'W': 'White', 'X': 'Unknown', 'Z':'Asian Indian'}"
   ]
  },
  {
   "cell_type": "code",
   "execution_count": null,
   "metadata": {},
   "outputs": [],
   "source": [
    "weapon_crime_df['Vict_Desc'].replace(descent_dict, , inplace= True)"
   ]
  },
  {
   "cell_type": "code",
   "execution_count": 138,
   "metadata": {},
   "outputs": [
    {
     "data": {
      "text/plain": [
       "H    333313\n",
       "B    168582\n",
       "W    123302\n",
       "O     47720\n",
       "X     14416\n",
       "A     12706\n",
       "K      3074\n",
       "F       633\n",
       "I       220\n",
       "C       145\n",
       "Name: Vict_Desc, dtype: int64"
      ]
     },
     "execution_count": 138,
     "metadata": {},
     "output_type": "execute_result"
    }
   ],
   "source": [
    "order = weapon_crime_df['Vict_Desc'].value_counts()[:10]\n",
    "order"
   ]
  },
  {
   "cell_type": "code",
   "execution_count": 140,
   "metadata": {},
   "outputs": [
    {
     "data": {
      "image/png": "[encoded data removed]",
      "text/plain": [
       "<Figure size 432x288 with 1 Axes>"
      ]
     },
     "metadata": {
      "needs_background": "light"
     },
     "output_type": "display_data"
    }
   ],
   "source": [
    "sns.countplot(x=\"Vict_Desc\", data=weapon_crime_df)\n",
    "plt.show()"
   ]
  },
  {
   "cell_type": "markdown",
   "metadata": {},
   "source": [
    "## How have weapon related crimes changed over the reporting period\n",
    " - What are the victim profiles\n",
    " - What was the crime reported"
   ]
  },
  {
   "cell_type": "markdown",
   "metadata": {},
   "source": [
    "## In the past year, where were these crimes committed?"
   ]
  },
  {
   "cell_type": "markdown",
   "metadata": {},
   "source": [
    "## In the past year, are there regional differences in weapon usage accross the city?"
   ]
  },
  {
   "cell_type": "markdown",
   "metadata": {},
   "source": [
    "## How does a regions annual household income affect weapon related crimes?"
   ]
  }
 ],
 "metadata": {
  "kernelspec": {
   "display_name": "Python 3",
   "language": "python",
   "name": "python3"
  },
  "language_info": {
   "codemirror_mode": {
    "name": "ipython",
    "version": 3
   },
   "file_extension": ".py",
   "mimetype": "text/x-python",
   "name": "python",
   "nbconvert_exporter": "python",
   "pygments_lexer": "ipython3",
   "version": "3.7.4"
  }
 },
 "nbformat": 4,
 "nbformat_minor": 2
}

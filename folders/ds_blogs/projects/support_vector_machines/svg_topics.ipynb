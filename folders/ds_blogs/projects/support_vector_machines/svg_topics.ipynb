{
 "cells": [
  {
   "cell_type": "markdown",
   "metadata": {},
   "source": [
    "<div style=\"font-size:16px; border:1px solid black; padding:10px\">\n",
    "<center><h1><br><font color=\"blue\">Introduction to Support Vector Machines (SVM).</font></h1></center>\n",
    "    <ol>\n",
    "        <li><a href=\"#objective1\">Introduction to SVM Classification.</a></li><br>\n",
    "        <li><a href=\"#objective2\">Mathematical Intuition to SVM Classification.</a></li><br>\n",
    "        <li><a href=\"#objective3\">Demonstrate how to perform Linear SVM Classification.</a></li><br>   \n",
    "        <li><a href=\"#objective4\">Demonstrate how to perform NonLinear SVM Classification.</a></li><br>\n",
    "        <li><a href=\"#objective5\">Demonstrate how to perform Polynomial Kernel SVM Classification.</a></li><br>\n",
    "        <li><a href=\"#objective6\">Demonstrate how to perform Gaussian RBF Kernel SVM Classification.</a></li><br>\n",
    "    </ol>\n",
    "</div>"
   ]
  },
  {
   "cell_type": "markdown",
   "metadata": {},
   "source": [
    "<hr style=\"border-top: 5px solid black;\">"
   ]
  },
  {
   "cell_type": "markdown",
   "metadata": {},
   "source": [
    "<div id=\"objective1\" style=\"font-size:16px; border:1px solid black; padding:10px\">\n",
    "<center><h1><br><font color=\"blue\">Introduction to Support Vector Machines</font></h1></center>\n",
    "    <hr>\n",
    "    <ul><h4></h4>\n",
    "        <li>Support Vector Machines are powerful Machine Learning Models capable of performing\n",
    "            <ul>\n",
    "        <li>Linear classification</li>\n",
    "        <li>Nonlinear classification</li>\n",
    "        <li>Regression</li>\n",
    "        <li>Outlier detection</li>\n",
    "            </ul>\n",
    "        </li>\n",
    "        <li>SVM is one of the most popular machine learning models and are well suited for classification of complex datasets that are small and medium sized.</li>\n",
    "        <li>The SVM classifier uses the <strong><em>largest margin classification</em></strong> to build decision boundaries, and this is based on <strong><em>support vectors</em></strong>.\n",
    "        <ul>\n",
    "            <li>The <strong><em>Largest Margin Classifier</em></strong> also known as the maximal margin classifier, is the optimal hyperplane with the maximum distances between data that have been classified into distict groups.</li>\n",
    "            <li><strong><em>Support vectors</em></strong> are the data points at the edge of a data grouping.</li>\n",
    "        </ul>\n",
    "        </li>\n",
    "        <li>SVM are sensitive to feature scales, and feature scaling is recommended to help improve the decision boundaries.</li>\n",
    "    <hr>\n",
    "    <ul><h4>Support Vector Machines Classification can be categorized as either:</h4>\n",
    "        <li><mark>Hard margin classification</mark>: </li>\n",
    "        <li><mark>Soft margin classification</mark>: </li>\n",
    "        <li><mark></mark>: .</li>\n",
    "        <li><mark></mark>: .</li>\n",
    "        <li><mark></mark>: .</li>\n",
    "    </ul>\n",
    "    </ul>        \n",
    "</div>"
   ]
  },
  {
   "cell_type": "markdown",
   "metadata": {},
   "source": [
    "<hr style=\"border-top: 5px solid black;\">"
   ]
  },
  {
   "cell_type": "markdown",
   "metadata": {},
   "source": [
    "<div id=\"objective2\" style=\"font-size:16px; border:1px solid black; padding:10px\">\n",
    "<center><h1><br><font color=\"blue\">Mathematical Intuition to SVM Classification.</font></h1></center>\n",
    "    <hr>\n",
    "    <ul><h4></h4>\n",
    "        <li>.</li>\n",
    "        <li>.</li>\n",
    "        <li>.</li>\n",
    "        <li>.</li>\n",
    "        <li>.</li>\n",
    "        <li>.</li>\n",
    "        \n",
    "    <hr>\n",
    "    <ul><h4></h4>\n",
    "                <li>.</li>\n",
    "                <li>.</li>\n",
    "               <li>.</li>\n",
    "                <li>.</li>\n",
    "               <li>.</li>\n",
    "    </ul>\n",
    "    </ul>        \n",
    "</div>"
   ]
  },
  {
   "cell_type": "markdown",
   "metadata": {},
   "source": [
    "<hr style=\"border-top: 5px solid black;\">"
   ]
  },
  {
   "cell_type": "markdown",
   "metadata": {},
   "source": [
    "<div id=\"objective3\" style=\"font-size:16px; border:1px solid black; padding:10px\">\n",
    "<center><h1><br><font color=\"blue\">Demonstrate how to perform Linear SVM Classification.</font></h1></center>\n",
    "    <hr>\n",
    "    <ul><h4></h4>\n",
    "        <li>.</li>\n",
    "        <li>.</li>\n",
    "        <li>.</li>\n",
    "        <li>.</li>\n",
    "        <li>.</li>\n",
    "        <li>.</li>\n",
    "        \n",
    "    <hr>\n",
    "    <ul><h4></h4>\n",
    "                <li>.</li>\n",
    "                <li>.</li>\n",
    "               <li>.</li>\n",
    "                <li>.</li>\n",
    "               <li>.</li>\n",
    "    </ul>\n",
    "    </ul>        \n",
    "</div>"
   ]
  },
  {
   "cell_type": "markdown",
   "metadata": {},
   "source": [
    "<hr style=\"border-top: 5px solid black;\">"
   ]
  },
  {
   "cell_type": "markdown",
   "metadata": {},
   "source": [
    "<div id=\"objective3\" style=\"font-size:16px; border:1px solid black; padding:10px\">\n",
    "<center><h1><br><font color=\"blue\">Demonstrate how to perform NonLinear SVM Classification.</font></h1></center>\n",
    "    <hr>\n",
    "    <ul><h4></h4>\n",
    "        <li>.</li>\n",
    "        <li>.</li>\n",
    "        <li>.</li>\n",
    "        <li>.</li>\n",
    "        <li>.</li>\n",
    "        <li>.</li>\n",
    "        \n",
    "    <hr>\n",
    "    <ul><h4></h4>\n",
    "                <li>.</li>\n",
    "                <li>.</li>\n",
    "               <li>.</li>\n",
    "                <li>.</li>\n",
    "               <li>.</li>\n",
    "    </ul>\n",
    "    </ul>        \n",
    "</div>"
   ]
  },
  {
   "cell_type": "markdown",
   "metadata": {},
   "source": [
    "<hr style=\"border-top: 5px solid black;\">"
   ]
  },
  {
   "cell_type": "markdown",
   "metadata": {},
   "source": [
    "<div id=\"objective3\" style=\"font-size:16px; border:1px solid black; padding:10px\">\n",
    "<center><h1><br><font color=\"blue\">.</font></h1></center>\n",
    "    <hr>\n",
    "    <ul><h4></h4>\n",
    "        <li>.</li>\n",
    "        <li>.</li>\n",
    "        <li>.</li>\n",
    "        <li>.</li>\n",
    "        <li>.</li>\n",
    "        <li>.</li>\n",
    "        \n",
    "    <hr>\n",
    "    <ul><h4></h4>\n",
    "                <li>.</li>\n",
    "                <li>.</li>\n",
    "               <li>.</li>\n",
    "                <li>.</li>\n",
    "               <li>.</li>\n",
    "    </ul>\n",
    "    </ul>        \n",
    "</div>"
   ]
  },
  {
   "cell_type": "markdown",
   "metadata": {},
   "source": [
    "<hr style=\"border-top: 5px solid black;\">"
   ]
  },
  {
   "cell_type": "markdown",
   "metadata": {},
   "source": [
    "<div id=\"objective3\" style=\"font-size:16px; border:1px solid black; padding:10px\">\n",
    "<center><h1><br><font color=\"blue\">.</font></h1></center>\n",
    "    <hr>\n",
    "    <ul><h4></h4>\n",
    "        <li>.</li>\n",
    "        <li>.</li>\n",
    "        <li>.</li>\n",
    "        <li>.</li>\n",
    "        <li>.</li>\n",
    "        <li>.</li>\n",
    "        \n",
    "    <hr>\n",
    "    <ul><h4></h4>\n",
    "                <li>.</li>\n",
    "                <li>.</li>\n",
    "               <li>.</li>\n",
    "                <li>.</li>\n",
    "               <li>.</li>\n",
    "    </ul>\n",
    "    </ul>        \n",
    "</div>"
   ]
  },
  {
   "cell_type": "markdown",
   "metadata": {},
   "source": [
    "<hr style=\"border-top: 5px solid black;\">"
   ]
  }
 ],
 "metadata": {
  "kernelspec": {
   "display_name": "Python 3",
   "language": "python",
   "name": "python3"
  },
  "language_info": {
   "codemirror_mode": {
    "name": "ipython",
    "version": 3
   },
   "file_extension": ".py",
   "mimetype": "text/x-python",
   "name": "python",
   "nbconvert_exporter": "python",
   "pygments_lexer": "ipython3",
   "version": "3.8.2"
  }
 },
 "nbformat": 4,
 "nbformat_minor": 4
}

{
 "cells": [
  {
   "cell_type": "code",
   "execution_count": 1,
   "metadata": {},
   "outputs": [
    {
     "data": {
      "application/javascript": [
       "IPython.OutputArea.prototype._should_scroll = function(lines) {\n",
       "    return false;\n",
       "}\n"
      ],
      "text/plain": [
       "<IPython.core.display.Javascript object>"
      ]
     },
     "metadata": {},
     "output_type": "display_data"
    }
   ],
   "source": [
    "%%javascript\n",
    "IPython.OutputArea.prototype._should_scroll = function(lines) {\n",
    "    return false;\n",
    "}"
   ]
  },
  {
   "cell_type": "markdown",
   "metadata": {},
   "source": [
    "<div class=\"alert alert-block alert-info\" style=\"font-size:20px; border:1px solid black; padding:10px\">\n",
    "<center><h1>Post Goals:</h1></center>\n",
    "    <ol>\n",
    "        <li>Provide a Concise Introduction to Polynomial Kernel Support Vector Machine Classification.</li><br>\n",
    "        <li>Demonstrate how to perform Polynomial Kernel using Python's Sklean library.</li><br>\n",
    "    </ol>\n",
    "</div>"
   ]
  },
  {
   "cell_type": "markdown",
   "metadata": {},
   "source": [
    "<hr style=\"border-top: 5px solid black;\">"
   ]
  },
  {
   "cell_type": "code",
   "execution_count": 2,
   "metadata": {},
   "outputs": [],
   "source": [
    "# to load images for this tutorial\n",
    "from IPython.display import Image\n",
    "import os\n",
    "path = os.getcwd()\n",
    "\n",
    "# Math libraries\n",
    "import numpy as np\n",
    "\n",
    "# Data visualization module\n",
    "import matplotlib as mpl\n",
    "import matplotlib.pyplot as plt\n",
    "mpl.rc('axes', labelsize=14)\n",
    "mpl.rc('xtick', labelsize=12)\n",
    "mpl.rc('ytick', labelsize=12)\n",
    "import pandas as pd\n",
    "import seaborn as sns\n",
    "\n",
    "# SVM and Other Key ML modules\n",
    "from sklearn.svm import SVC\n",
    "from sklearn.preprocessing import StandardScaler\n",
    "from sklearn.pipeline import Pipeline\n",
    "from sklearn.preprocessing import PolynomialFeatures\n",
    "from sklearn.svm import LinearSVC"
   ]
  },
  {
   "cell_type": "markdown",
   "metadata": {},
   "source": [
    "<div style=\"font-size:16px; border:1px solid black; padding:10px\">\n",
    "<center><h1><br><font color=\"blue\">Post Overview.</font></h1></center>\n",
    "    <ol>\n",
    "        <li><a href=\"#objective1\">Introduction to Nonlinear Suppor Vector Machine (SVM) Classification.</a></li><br>\n",
    "        <li><a href=\"#objective2\">Introduction to Polynomial Kernel in SVM Classification.</a></li><br>\n",
    "        <li><a href=\"#objective3\">Mathematic Intuition of Kernel Functions.</a></li><br>           \n",
    "        <li><a href=\"#objective4\">Demonstrate how to carry out Polynomial Kernel SVM classification using <code>SVC(kernel=\"poly\")</code> using the <code>make_moons</code> dataset.</a></li><br>\n",
    "        <li><a href=\"#objective5\">Demonstrate how to carry out Polynomial Kernel SVM classification using <code>SVC(kernel=\"poly\")</code> using 2020-2021 NFL player data.</a></li><br>\n",
    "        <li><a href=\"#objective6\">Provide a detailed overview of the methods invoked during Polynomial Kernel SVM classification.</a></li><br>\n",
    "    </ol>\n",
    "</div>"
   ]
  },
  {
   "cell_type": "markdown",
   "metadata": {},
   "source": [
    "<hr style=\"border-top: 5px solid black;\">"
   ]
  },
  {
   "cell_type": "markdown",
   "metadata": {},
   "source": [
    "<div id=\"objective1\" style=\"font-size:16px; border:1px solid black; padding:10px\">\n",
    "<center><h1><br><font color=\"blue\">Introduction to Nonlinear Suppor Vector Machine (SVM) Classification</font></h1></center>\n",
    "    <hr>\n",
    "    <ul><h4></h4>\n",
    "        <li>Support Vector Machine algorithm is a powerful supervised Machine Learning Models capable of performing\n",
    "            <ul>\n",
    "        <li>Linear classification</li>\n",
    "        <li><font color=\"red\">Nonlinear classification</font></li>\n",
    "        <li>Regression</li>\n",
    "        <li>Outlier detection</li>\n",
    "            </ul>\n",
    "        </li><br>\n",
    "        <li>SVM is one of the most popular machine learning models and is well suited for classification of complex datasets that are small and medium sized.</li><br>\n",
    "        <li>Like logistic regression, support vector machines were designed for binary classification and do not natively support classification tasks with more than two classes.</li><br>\n",
    "        <li>In this algorithm, data is plotted in n-dimensional space (where n is number of features you have). Then, we perform classification by finding a decision boundary (aka hyperplane in 3d+) that best differentiates the two classes.</li><br>     \n",
    "        <li><mark style=\"background-color: yellow;\">The objective of the support vector machine algorithm is to find a hyperplane in an N-dimensional space(N — the number of features) that distinctly classifies the data points.</mark></li><br>\n",
    "        <li>Decision boundaries are used in SVM to help sort data into categories for classification.</li><br>     \n",
    "        <li>Although linear SVM classification is generally efficient and works in many cases, most datasets are not linearly separable.</li><br>\n",
    "        <li>Nonlinear SVM classification are methods used to work with nonlinear data and includes:\n",
    "            <ul>\n",
    "                <li>Polynomial Features</li>\n",
    "                <li>Polynomial Kernel</li>\n",
    "                <li>Similarity Features</li>\n",
    "                <li>Gaussian RBF Kernel</li>  \n",
    "            </ul>\n",
    "        </li><br>\n",
    "        <li>SVM is popular because of the Kernel functions, which helps solve nonlinearity, especially for complex datasets.</li><br>        \n",
    "        <li>The method used to handle nonlinearity depends on the size of the dataset, it's complexity, and the computational resources available.</li><br>\n",
    "        <li><font color=\"red\">This post will focus on Nonlinear SVM Classification using polynomial kernel.</font></li><br>\n",
    "    </ul>\n",
    "</div>"
   ]
  },
  {
   "cell_type": "markdown",
   "metadata": {},
   "source": [
    "<hr style=\"border-top: 5px solid black;\">"
   ]
  },
  {
   "cell_type": "markdown",
   "metadata": {},
   "source": [
    "<div id=\"objective2\" style=\"font-size:16px; border:1px solid black; padding:10px\">\n",
    "<center><h1><br><font color=\"blue\">Introduction to Polynomial Kernel in SVM Classification</font></h1></center>\n",
    "    <hr>\n",
    "    <ul><h4>Why Polynomial Kernel is popular.</h4>\n",
    "        <li>Improved performance over using polynomial features to transform nonlinear data.</li><br>        \n",
    "        <li>The use of polynomial features works well in cases with low polynomial degrees are used.</li><br>\n",
    "        <li>Using high degrees of polynomial creates a huge number of features and makes the model run too slow.</li><br>\n",
    "        <li>On the otherhand, <strong>Polynomial Kernel</strong> is part of a suite of mathematical kernel tricks developed to help add many polynomial features without actually having to add them. In otherwords, it makes it possible to work with extremely complex data without sacrificing performance.</li><br>\n",
    "        <li>The <strong>Kernel</strong> part refers to <strong>Kernelization</strong>, which is a technique used to design efficient algorithms.</li><br>\n",
    "        <li>Kernel functions take in data and transforms it into the required form.</li>\n",
    "        <li>There are several different kernel functions, the most popular functions include:\n",
    "            <ul>\n",
    "                <li><font color=\"red\">Polynomial Kernel</font></li>\n",
    "                <li>Gaussian Kernel</li>\n",
    "                <li>Gaussian Radial Basis Function (RBF)</li>\n",
    "                <li>Laplace Radial Basis Function</li>\n",
    "                <li>Hyperbolic Tangent Kernel</li>\n",
    "                <li>Sigmoid Kernel</li>\n",
    "                <li>Anova Radial Basis Kernel</li>\n",
    "                <li>Linear spline kernel in 1d</li>\n",
    "            </ul>\n",
    "        </li><br>\n",
    "        <li>This post will focus on <font color=\"red\">Polynomial Kernel</font>.</li><br>\n",
    "        <li>The goal of polynomial kernel is to create a function that maps nonlinear data into a high-dimensional space, thereby making the remapped data linearly separable.</li><br>\n",
    "        <li>Linear SVM can then be applied to remapped nonlinear data, and classification performed.</li><br>\n",
    "    </ul>\n",
    "</div>"
   ]
  },
  {
   "cell_type": "markdown",
   "metadata": {},
   "source": [
    "<div id=\"objective3\" style=\"font-size:16px; border:1px solid black; padding:10px\"><center><h1><br><font color=\"blue\">Mathematic Intuition of Kernel Functions</font></h1></center>\n",
    "    <ul><h4>Kernel Trick</h4>\n",
    "        <li>Kernel functions use a <em>trick</em>, which is a method to compute the dot product of two vectors <strong>x</strong> and  <strong>y</strong> in some feature space.</li><br>\n",
    "        <li>The general dot product formula is described <a href=\"#equation1\">in equation 1</a>.</li><br>\n",
    "        <li>Applying the kernel trick just means to replace the docut product of the two vectors.</li><br>\n",
    "    </ul>\n",
    "    <hr>\n",
    "    <ul><h4>Polynomial Kernel</h4>\n",
    "        <li>The <a href=\"#equation2\">general polynomial kernel</a> is defined as: <br>\n",
    "            <strong><math>K(X<sub>1</sub>, X<sub>2</sub> = (<em>a</em> + X<sub>1</sub><sup>T</sup>X<sub>2</sub>)<sup>b</sup>)</math></strong><br>\n",
    "        </li><br>\n",
    "        <li>In this method, we simply calculate the dot product by increasing the power of the kernel</li><br>\n",
    "        <li>Example:<br><br>\n",
    "            <ul style=\"list-style-type: none;\">We can represent X in 2-dimensional space such that:\n",
    "                <li><strong><math>X<sub>a</sub> = (a<sub>1</sub>, a<sub>2</sub>)</math></strong></li>\n",
    "                <li><strong><math>X<sub>b</sub> = (b<sub>1</sub>, b<sub>2</sub>)</math></strong></li><br>\n",
    "                <li>If we are to map data into a higher dimension, such as the 6th dimension Z-space, then:\n",
    "                </li>\n",
    "                <li><strong><math>Z<sub>a</sub> = &Phi;(X<sub>a</sub> = (1, a<sub>1</sub>, a<sub>2</sub>, a<sub>1</sub><sup>2</sup>, a<sub>2</sub><sup>2</sup>, a<sub>1</sub> * a<sub>2</sub>)</math></strong></li>\n",
    "                <li><strong><math>Z<sub>b</sub> = &Phi;(X<sub>b</sub> = (1, b<sub>1</sub>, b<sub>2</sub>, b<sub>1</sub><sup>2</sup>, b<sub>2</sub><sup>2</sup>, b<sub>1</sub> * b<sub>2</sub>)</math></strong></li><br>\n",
    "                <li>This is a dual SVM and we would use the dot product of the transposed <strong>Z<sub>a</sub><sup>T</sup></strong> and <strong>Z<sub>b</sub></strong></li><br>\n",
    "                <li><strong>Method 1:</strong> The traditional method would use the following form:</li>\n",
    "                <li><strong>Z<sub>a</sub><sup>T</sup>Z<sub>b</sub> = 1 + a<sub>1</sub>b<sub>1</sub> + a<sub>2</sub>b<sub>2</sub> + a<sub>1</sub><sup>2</sup>b<sub>1</sub><sup>2</sup> + a<sub>2</sub><sup>2</sup>b<sub>2</sub><sup>2</sup> + a<sub>1</sub>b<sub>1</sub>a<sub>2</sub>b<sub>2</sub></strong></li><br>\n",
    "                <li>This method will take a long time to perform on each data point, especially if using a large dataset.</li><br>\n",
    "                <li><strong>Method 2:</strong> Using the kernel trick:</li>\n",
    "                <li><strong>Z<sub>a</sub><sup>T</sup>Z<sub>b</sub> = K(X<sub>a</sub>, X<sub>b</sub>) = = (<em>a</em> + X<sub>1</sub><sup>T</sup>X<sub>2</sub>)<sup>b</sup>)</strong></li><br>\n",
    "                <li>Only the dot product is calculated by increasing the value of the power. This is much easier!</li><br>\n",
    "            </ul>\n",
    "        </li>\n",
    "    </ul>\n",
    "</div>"
   ]
  },
  {
   "cell_type": "markdown",
   "metadata": {},
   "source": [
    "<div id=\"equation1\">\n",
    "</div>"
   ]
  },
  {
   "cell_type": "code",
   "execution_count": 3,
   "metadata": {},
   "outputs": [
    {
     "data": {
      "image/png": "[encoded data removed]",
      "text/plain": [
       "<IPython.core.display.Image object>"
      ]
     },
     "execution_count": 3,
     "metadata": {},
     "output_type": "execute_result"
    }
   ],
   "source": [
    "img = os.path.join(path, 'static/images/polykernel/equation1.png')\n",
    "Image(filename=img) "
   ]
  },
  {
   "cell_type": "markdown",
   "metadata": {},
   "source": [
    "<div id=\"equation2\">\n",
    "</div>"
   ]
  },
  {
   "cell_type": "code",
   "execution_count": 4,
   "metadata": {},
   "outputs": [
    {
     "data": {
      "image/png": "[encoded data removed]",
      "text/plain": [
       "<IPython.core.display.Image object>"
      ]
     },
     "execution_count": 4,
     "metadata": {},
     "output_type": "execute_result"
    }
   ],
   "source": [
    "img = os.path.join(path, 'static/images/polykernel/equation2.png')\n",
    "Image(filename=img) "
   ]
  },
  {
   "cell_type": "markdown",
   "metadata": {},
   "source": [
    "<hr style=\"border-top: 5px solid black;\">"
   ]
  },
  {
   "cell_type": "markdown",
   "metadata": {},
   "source": [
    "<div id=\"objective4\" style=\"font-size:16px; border:1px solid black; padding:10px\">\n",
    "<center><h1><br><font color=\"blue\">Demonstrate how to carry out Polynomial Kernel SVM classification using <code>SVC(kernel=\"poly\")</code> and the <code>make_moons</code> dataset.</font></h1></center>\n",
    "    <ul>\n",
    "        <li>The <a href=\"https://scikit-learn.org/stable/modules/generated/sklearn.datasets.make_moons.html\"><code>make_moons</code></a> dataset is a toy dataset use in binary classification problems.</li><br>\n",
    "        <li>The dataset uses <a href=\"random sample generators that can be used to build artificial datasets of controlled size and complexity.\">Generated datasets</a>, which in this case, is used to make two interleaving half circles.</li><br>\n",
    "        <li>Sklearn Generated datasets have single label and multilabel datasets.</li><br>\n",
    "        <li>There are two datasets for the single label cases.\n",
    "            <ol>\n",
    "                <li><a href=\"https://scikit-learn.org/stable/modules/generated/sklearn.datasets.make_blobs.html#sklearn.datasets.make_blobs\"><code>make_blobs</code></a></li>\n",
    "                <li><a href=\"https://scikit-learn.org/stable/modules/generated/sklearn.datasets.make_classification.html#sklearn.datasets.make_classification\"><code>make_classification</code></a></li>\n",
    "                <li><a href=\"https://scikit-learn.org/stable/modules/generated/sklearn.datasets.make_blobs.html#sklearn.datasets.make_blobs\"><code>make_blobs</code></a></li>\n",
    "                <li><a href=\"https://scikit-learn.org/stable/modules/generated/sklearn.datasets.make_circles.html#sklearn.datasets.make_circles\"><code>make_circles</code></a></li> \n",
    "                <li><a href=\"https://scikit-learn.org/stable/modules/generated/sklearn.datasets.make_moons.html#sklearn.datasets.make_moons\"><code>make_moons</code></a></li>                 \n",
    "            </ol>\n",
    "        </li><br>\n",
    "        <li>Both <code>make_circles</code> and <code>make_moons</code> generate 2d binary classification datasets that are challenging to certain algorithms (e.g. centroid-based clustering or linear classification), including optional Gaussian noise, and are great for visualisation .</li><br>\n",
    "        <li><code>make_circles</code> produces Gaussian data with a spherical decision boundary for binary classification, while <code>make_moons</code> produces two interleaving half circles.</li><br>\n",
    "        <li>This post will use <code>make_moons</code> to illustrate the principle of polynomial kernel in SVM classificaiton.</li><br>\n",
    "        <hr>\n",
    "        <li><h2>The <code>make_moons</code> dataset explained</h2></li><br>\n",
    "        <li><strong><code>sklearn.datasets.make_moons(n_samples=100, *, shuffle=True, noise=None, random_state=None)</code></strong> Parameters Explained:\n",
    "            <ul>\n",
    "                <li><strong><code>n_samples (int or tuple of shape (2,), dtype=int, default=100)</code></strong>: If int, the total number of points generated. If two-element tuple, number of points in each of two moons.</li>\n",
    "                <li><strong><code>shuffle (bool, default=True)</code></strong>: Whether to shuffle the samples</li>\n",
    "                <li><strong><code>noise (float, default=None)</code></strong>: Standard deviation of Gaussian noise added to the data./li>\n",
    "                <li><strong><code>random_state (int, RandomState instance or None, default=None)</code></strong>: Determines random number generation for dataset shuffling and noise. Pass an int for reproducible output across multiple function calls</li>\n",
    "            </ul>\n",
    "        </li><br>\n",
    "        <li>What this class returns:\n",
    "            <ul>\n",
    "                <li><strong><code>X (ndarray of shape (n_samples, 2))</code></strong>: The generated samples.</li>\n",
    "                <li><strong><code>y ndarray of shape (n_samples,)</code></strong>: The integer labels (0 or 1) for class membership of each sample.</li>\n",
    "            </ul>\n",
    "        </li><br>\n",
    "        <li><strong>Import Data</strong> <code>from sklearn.datasets import make_moons</code></li><br>\n",
    "        <li><strong>Visualize sample dataset</strong> using custom function <code>plot_dataset()</code></li><br> \n",
    "        <li>A sample of 100 data points classified into two groups was generated from <code>make_moons</code> </li><br>\n",
    "        <li>As can see in <a href=\"#plot1\">Make moons data example</a>, the data contains two classes that swirl together (look like crescent moons), and would not be linearly separable using standard linear SVM classification. The data would need to be transformed.</li>\n",
    "    </ul>\n",
    "</div>"
   ]
  },
  {
   "cell_type": "markdown",
   "metadata": {},
   "source": [
    "<div id=\"plot1\">\n",
    "</div>"
   ]
  },
  {
   "cell_type": "code",
   "execution_count": 5,
   "metadata": {},
   "outputs": [
    {
     "data": {
      "image/png": "[encoded data removed]",
      "text/plain": [
       "<Figure size 432x288 with 1 Axes>"
      ]
     },
     "metadata": {
      "needs_background": "light"
     },
     "output_type": "display_data"
    }
   ],
   "source": [
    "from sklearn.datasets import make_moons\n",
    "X, y = make_moons(n_samples=100, noise=0.15, random_state=42)\n",
    "\n",
    "def plot_dataset(X, y, axes):\n",
    "    plt.plot(X[:, 0][y==0], X[:, 1][y==0], \"bs\")\n",
    "    plt.plot(X[:, 0][y==1], X[:, 1][y==1], \"g^\")\n",
    "    plt.axis(axes)\n",
    "    plt.grid(True, which='both')\n",
    "    plt.xlabel(r\"$x_1$\", fontsize=20)\n",
    "    plt.ylabel(r\"$x_2$\", fontsize=20, rotation=0)\n",
    "\n",
    "plot_dataset(X, y, [-1.5, 2.5, -1, 1.5])\n",
    "plt.show()"
   ]
  },
  {
   "cell_type": "markdown",
   "metadata": {},
   "source": [
    "<div style=\"font-size:16px; border:1px solid black; padding:10px\">\n",
    "<center><h1><br><font color=\"blue\">Polynomial Kernel on Moons Dataset</font></h1></center>\n",
    "<ul><h2>Methods Overiew</h2>\n",
    "        <li><strong>Moon Data</strong>: A sample of 100 data points classified into two groups was generated from <code>make_moons</code>.</li><br>\n",
    "        <li><strong>Polynomial Kernel</strong> steps:\n",
    "            <ol>\n",
    "                <li>The first step is to use Sklearn <code>Pipeline</code>, which assemble several steps that can be cross-validated together while setting different parameters. It makes it easier to code.</li>\n",
    "                <li>The second step is to standarize the feature data using <code>StandardScaler</code> method. Linear SVM is sensitive to feature scaling, so this is a standard step you should include in your workflow.</li>\n",
    "                <li>The third step is to pass the standardized data to the <code>SVM()</code> method.</li>\n",
    "                <li>The fourth step is to train our data with this model.</li>\n",
    "                <li>Finally, we evaluate the performance of our model by plotting the data using a custom function.</li>\n",
    "            </ol>\n",
    "    </li><br>\n",
    "    </ul>\n",
    "</div>    "
   ]
  },
  {
   "cell_type": "code",
   "execution_count": 6,
   "metadata": {},
   "outputs": [
    {
     "data": {
      "text/plain": [
       "Pipeline(steps=[('scaler', StandardScaler()),\n",
       "                ('svm_clf', SVC(C=5, coef0=1, kernel='poly'))])"
      ]
     },
     "execution_count": 6,
     "metadata": {},
     "output_type": "execute_result"
    }
   ],
   "source": [
    "from sklearn.svm import SVC\n",
    "\n",
    "poly_kernel_svm_clf = Pipeline([\n",
    "        (\"scaler\", StandardScaler()),\n",
    "        (\"svm_clf\", SVC(kernel=\"poly\", degree=3, coef0=1, C=5))\n",
    "    ])\n",
    "poly_kernel_svm_clf.fit(X, y)"
   ]
  },
  {
   "cell_type": "markdown",
   "metadata": {},
   "source": [
    "<div style=\"font-size:16px; border:1px solid black; padding:10px\">\n",
    "<center><h1><br><font color=\"blue\">Code Explained</font></h1></center>\n",
    "    <li>For detailed information on the methods used, and in particular, the parameters and attributes, please see <a href=\"#objective6\">Objective 6</a> of this post.</li>\n",
    "    <ul><strong>Sklearn <code>Pipeline()</code></strong>\n",
    "        <li><strong>Explanation of our code <code>Pipeline([(\"scaler\", StandardScaler()), (\"svm_clf\", SVC(kernel=\"poly\", degree=3, coef0=1, C=5))])</code>:</strong>:\n",
    "            <ul>\n",
    "                <li>the steps parameter is: <code>[(\"scaler\", StandardScaler()), (\"svm_clf\", SVC(kernel=\"poly\", degree=3, coef0=1, C=5))]</code>.  This is a list with tuples, as described above. Each tupple contains the name in each step, and the second element in the tuple is the transform method.</li>\n",
    "                <li>The steps will be performed according to their idex in the list of steps. First \"scaler\", then \"svm_clf\".</li>              \n",
    "            </ul>\n",
    "        </li>\n",
    "    </ul>\n",
    "    <hr>\n",
    "    <ul><strong>Sklearn <code>StandardScaler()</code></strong>\n",
    "        <li><strong>Explanation of our code <code>StandardScaler()</code>: </strong>. Use default settings.</li>\n",
    "    </ul>\n",
    "    <hr>\n",
    "    <ul><strong>Sklearn <code>SVC()</code></strong>\n",
    "        <li><strong>Explanation of our code <code>SVC(kernel=\"poly\", degree=3, coef0=1, C=5)</code>:</strong> method.\n",
    "            <ol>Parameters in order of apperance\n",
    "                <li><code>kernel=\"poly\"</code> specifies the polynomial kernel <code>(&#947; &lt;x, x'&gt; + r)<sup>d</sup></code></li>\n",
    "                <li><code>degree=3</code>, this is the default value and it means using the 'poly' kernel.</li>\n",
    "                <li><code>coef0=1</code> this specfies the independent term in the kernel function. This is important for both poly and sigmoid kernels.</li>\n",
    "                <li><code>C=5</code> this is the regularization term, the default is 1.0, but this is set to 5. The larger the C value, the regularization is reduced (tolerates more margin violations and misclassifications).</li>                  \n",
    "            </ol>\n",
    "        </li>\n",
    "    </ul>\n",
    "</div>    "
   ]
  },
  {
   "cell_type": "code",
   "execution_count": 7,
   "metadata": {},
   "outputs": [],
   "source": [
    "def plot_predictions(clf, axes):\n",
    "    x0s = np.linspace(axes[0], axes[1], 100)\n",
    "    x1s = np.linspace(axes[2], axes[3], 100)\n",
    "    x0, x1 = np.meshgrid(x0s, x1s)\n",
    "    X = np.c_[x0.ravel(), x1.ravel()]\n",
    "    y_pred = clf.predict(X).reshape(x0.shape)\n",
    "    y_decision = clf.decision_function(X).reshape(x0.shape)\n",
    "    plt.contourf(x0, x1, y_pred, cmap=plt.cm.brg, alpha=0.2)\n",
    "    plt.contourf(x0, x1, y_decision, cmap=plt.cm.brg, alpha=0.1)"
   ]
  },
  {
   "cell_type": "code",
   "execution_count": 8,
   "metadata": {},
   "outputs": [
    {
     "data": {
      "image/png": "[encoded data removed]",
      "text/plain": [
       "<Figure size 720x360 with 1 Axes>"
      ]
     },
     "metadata": {
      "needs_background": "light"
     },
     "output_type": "display_data"
    }
   ],
   "source": [
    "fig, axes = plt.subplots(figsize=(10, 5))\n",
    "\n",
    "plot_predictions(poly_kernel_svm_clf, [-1.5, 2.45, -1, 1.5])\n",
    "plot_dataset(X, y, [-1.5, 2.4, -1, 1.5])\n",
    "plt.title(r\"$d=3, r=1, C=5$\", fontsize=18)\n",
    "\n",
    "plt.show()"
   ]
  },
  {
   "cell_type": "markdown",
   "metadata": {},
   "source": [
    "<div style=\"font-size:16px; border:1px solid black; padding:10px\">\n",
    "<center><h2><br><font color=\"blue\">Comments</font></h2></center>\n",
    "    <ul>\n",
    "        <li><code>d=3</code> represents the third-degree polynomial kernel</li><br>\n",
    "        <li><code>r=1</code> represents the hyperparameter coef0, which controls how much a model is influenced by high degree polynomials versus low-degree polynomials.</li><br>        \n",
    "        <li>Notice that the non linear data can now be distinguished, and most of the classes are well classified.</li><br>\n",
    "        <li>We see that there are minor misclassifications but that is because we set the <code>C</code> regulariation term is set to 5, which tolerates these errors in favor of a model that generalization to new data.</li><br>\n",
    "        <li>This model would need to be evaluated using untrained data, but the point here is sto demonstrate how this can be accomplished using a series of steps.</li>\n",
    "    </ul>\n",
    "</div>"
   ]
  },
  {
   "cell_type": "markdown",
   "metadata": {},
   "source": [
    "<hr style=\"border-top: 5px solid black;\">"
   ]
  },
  {
   "cell_type": "markdown",
   "metadata": {},
   "source": [
    "<div id=\"objective5\" style=\"font-size:16px; border:1px solid black; padding:10px\">\n",
    "<center><h1><br><font color=\"blue\">Demonstrate how to carry out Polynomial Kernel SVM classification using <code>SVC(kernel=\"poly\")</code> using 2020-2021 NFL player data.</font></h1></center>\n",
    "    <ul>\n",
    "        <li>NFL data was obtained from <a href=\"https://sportsdata.io/\">SportDataIO</a> and loaded into Pandas dataframe. A guide to making an API call to SportDataIO can be obtained in <a href=\"https://trinidadcisneros.com/folders/python/python_sportsdataio_api.html\">A quick and easy guide to make a SportsDataIO API call and load data to Pandas.</a> post.</li>\n",
    "        <li>The data consists of players, their weights, heights, and position.</li>\n",
    "        <li>The goal is to classify players' position based on their weight and height.</li>\n",
    "        <li>There are various positions, but two were selected for this example.</li>\n",
    "        <li>The same methods used in the moons dataset were applied to this dataset.</li>     \n",
    "    </ul>\n",
    "</div>"
   ]
  },
  {
   "cell_type": "code",
   "execution_count": 9,
   "metadata": {},
   "outputs": [],
   "source": [
    "# Files\n",
    "nfl_file = 'static/data/nfl_df.csv'\n",
    "nfl_abbreviation_file = 'static/data/nfl_abbr.csv'\n",
    "\n",
    "# Import into pandas dataframe\n",
    "nfl_df = pd.read_csv(nfl_file)\n",
    "nfl_abbr = pd.read_csv(nfl_abbreviation_file)\n",
    "\n",
    "# Merge dataframes\n",
    "merged_df = nfl_df.merge(nfl_abbr, on ='Position')\n",
    "\n",
    "# Rearrange columns\n",
    "merged_df = merged_df[['PlayerID', 'ShortName', 'Team', 'Position', 'Position Title', 'Height_in', 'Weight_lbs', 'PhotoUrl']]\n",
    "\n",
    "# Dataframe 1 (Offensive Lineman and Cornerback)\n",
    "group=['Punter', 'Inside Linebacker']\n",
    "df = merged_df.loc[merged_df['Position Title'].isin(group)].reset_index(drop=True)\n",
    "df[\"target\"] = np.where(df['Position Title'] == 'Punter', 1, 0)  # add target column\n",
    "# remove a group of outliers\n",
    "df = df[df['Height_in'] > 65]"
   ]
  },
  {
   "cell_type": "code",
   "execution_count": 10,
   "metadata": {},
   "outputs": [
    {
     "data": {
      "image/png": "[encoded data removed]",
      "text/plain": [
       "<Figure size 432x288 with 1 Axes>"
      ]
     },
     "metadata": {
      "needs_background": "light"
     },
     "output_type": "display_data"
    }
   ],
   "source": [
    "# plot actual nfl player data\n",
    "sns.scatterplot(x='Height_in',y='Weight_lbs', data=df, hue='Position Title')\n",
    "plt.xlabel(\"Height (inches)\")\n",
    "plt.ylabel(\"Weight (lbs)\")\n",
    "plt.title('NFL Player Weight and Height')\n",
    "plt.legend(loc='center left', bbox_to_anchor=(1.0, 0.93))\n",
    "plt.show()"
   ]
  },
  {
   "cell_type": "code",
   "execution_count": 11,
   "metadata": {},
   "outputs": [],
   "source": [
    "# Prepare parameters\n",
    "X = df[['Height_in','Weight_lbs']].to_numpy()  # converts to 2d numpy array\n",
    "y = df.target.to_numpy()"
   ]
  },
  {
   "cell_type": "code",
   "execution_count": 12,
   "metadata": {},
   "outputs": [
    {
     "data": {
      "text/plain": [
       "Pipeline(steps=[('scaler', StandardScaler()),\n",
       "                ('svm_clf', SVC(C=5, coef0=1, kernel='poly'))])"
      ]
     },
     "execution_count": 12,
     "metadata": {},
     "output_type": "execute_result"
    }
   ],
   "source": [
    "poly_kernel_svm_clf = Pipeline([\n",
    "        (\"scaler\", StandardScaler()),\n",
    "        (\"svm_clf\", SVC(kernel=\"poly\", degree=3, coef0=1, C=5))\n",
    "    ])\n",
    "\n",
    "poly_kernel_svm_clf.fit(X, y)"
   ]
  },
  {
   "cell_type": "code",
   "execution_count": 13,
   "metadata": {},
   "outputs": [
    {
     "name": "stdout",
     "output_type": "stream",
     "text": [
      "test1: [0]\n",
      "test2: [1]\n"
     ]
    }
   ],
   "source": [
    "# Outside Linebacker test\n",
    "test1= poly_kernel_svm_clf.predict([[74, 240]])\n",
    "\n",
    "# Offensive punter test\n",
    "test2= poly_kernel_svm_clf.predict([[74, 210]])\n",
    "\n",
    "print(f'test1: {test1}\\ntest2: {test2}')"
   ]
  },
  {
   "cell_type": "markdown",
   "metadata": {},
   "source": [
    "<h2>Comparison of PolynomialFeatures and LinearSVC versus Polynomial Kernel</h2>\n",
    "\n",
    " - Conduct Nonlinear SVM Classification using PolynomialFeatures and LinearSVC with same nfl player data.\n",
    " - Compare the model from PolynomialFeatures and LinearSVC to Polynomial Kernel using graphical method."
   ]
  },
  {
   "cell_type": "code",
   "execution_count": 14,
   "metadata": {},
   "outputs": [
    {
     "data": {
      "text/plain": [
       "Pipeline(steps=[('poly_features', PolynomialFeatures(degree=3)),\n",
       "                ('scaler', StandardScaler()),\n",
       "                ('svm_clf',\n",
       "                 LinearSVC(C=10, loss='hinge', max_iter=10000,\n",
       "                           random_state=42))])"
      ]
     },
     "execution_count": 14,
     "metadata": {},
     "output_type": "execute_result"
    }
   ],
   "source": [
    "# for comparison, we will also perform a polynomial features, which does not use the kernel trick\n",
    "polynomial_svm_clf = Pipeline([\n",
    "        (\"poly_features\", PolynomialFeatures(degree=3)),\n",
    "        (\"scaler\", StandardScaler()),\n",
    "        (\"svm_clf\", LinearSVC(C=10, loss=\"hinge\", max_iter = 10000, random_state=42))\n",
    "    ])\n",
    "\n",
    "polynomial_svm_clf.fit(X, y)"
   ]
  },
  {
   "cell_type": "code",
   "execution_count": 15,
   "metadata": {},
   "outputs": [],
   "source": [
    "def plot_predictions(clf, axes):\n",
    "    x0s = np.linspace(axes[0], axes[1], 100)\n",
    "    x1s = np.linspace(axes[2], axes[3], 100)\n",
    "    x0, x1 = np.meshgrid(x0s, x1s)\n",
    "    X = np.c_[x0.ravel(), x1.ravel()]\n",
    "    y_pred = clf.predict(X).reshape(x0.shape)\n",
    "    y_decision = clf.decision_function(X).reshape(x0.shape)\n",
    "    plt.contourf(x0, x1, y_pred, cmap=plt.cm.brg, alpha=0.2)\n",
    "    plt.contourf(x0, x1, y_decision, cmap=plt.cm.brg, alpha=0.1)"
   ]
  },
  {
   "cell_type": "code",
   "execution_count": 16,
   "metadata": {},
   "outputs": [
    {
     "data": {
      "image/png": "[encoded data removed]",
      "text/plain": [
       "<Figure size 756x288 with 2 Axes>"
      ]
     },
     "metadata": {
      "needs_background": "light"
     },
     "output_type": "display_data"
    }
   ],
   "source": [
    "fig, axes = plt.subplots(ncols=2, figsize=(10.5, 4), sharey=True)\n",
    "\n",
    "plt.sca(axes[0])\n",
    "plot_predictions(poly_kernel_svm_clf, [70, 80, 175, 275])\n",
    "plot_dataset(X, y, [70, 80, 175, 275])\n",
    "plt.title(r\"Polynomial Kernel\", fontsize=18)\n",
    "plt.ylabel(\"NFL Player Weight (Lbs)\", rotation=90)\n",
    "plt.xlabel(\"NFL Player Height (Inches)\")\n",
    "\n",
    "plt.sca(axes[1])\n",
    "plot_predictions(polynomial_svm_clf, [70, 80, 175, 275])\n",
    "plot_dataset(X, y, [70, 80, 175, 275])\n",
    "plt.title(r\"PolynomialFeatures and LinearSVC\", fontsize=18)\n",
    "plt.ylabel(\"\")\n",
    "plt.xlabel(\"NFL Player Height (Inches)\")\n",
    "\n",
    "plt.show()\n"
   ]
  },
  {
   "cell_type": "markdown",
   "metadata": {},
   "source": [
    "<div style=\"font-size:16px; border:1px solid black; padding:10px\">\n",
    "<center><h2><br><font color=\"blue\">Comments</font></h2></center>\n",
    "    <ul>\n",
    "        <li>Here we see that using that Polynomial Kernel outperforms the PolynomialFeatures and LinearSVC method by reducing the number of misclassifications. The green triangles on the top left area are an example of this improvement.</li><br>\n",
    "        <li>The hyperparameters can be improved to fit the data, but this may affect how well the data generalizes to new data.</li><br>        \n",
    "    </ul>\n",
    "</div>"
   ]
  },
  {
   "cell_type": "markdown",
   "metadata": {},
   "source": [
    "<hr style=\"border-top: 5px solid black;\">"
   ]
  },
  {
   "cell_type": "markdown",
   "metadata": {},
   "source": [
    "<div style=\"font-size:16px; border:1px solid black; padding:10px\">\n",
    "<center><h2><br><font color=\"blue\">Final Thoughts</font></h2></center>\n",
    "    <ul>\n",
    " <li><mark style=\"background-color: yellow;\">The objective of this post is to discuss nonlinear support vector machine classification, which seeks to a) transform nonlinear data into a linear format, and b) identify a hyperplane in an N-dimensional space(N — the number of features) that distinctly classifies the data points.</mark></li><br>\n",
    "        <li>This post also discussed the mathematical intuition of Polynomial Kernel, and the Sklearn methods in details, such as the hyperparameters used to train a model</li>\n",
    "        <li>This post also used dummy and real data to demonstrate how to perform Polynomial Kernel</li>\n",
    "        <li>We used Polynomial Kernel and compared this method to using PolynomialFeatures and LinearSVC.</li><br>\n",
    "<li>We were able to confirm graphically that Polynomial Kernel preforms better at classifying NFL players than PolynomialFeatures and LinearSVC.</li><br>\n",
    "        <li>This post scratches the surface of this topic, but I hope it provides an introduction to this material, and sample code to being your own analysis</li>\n",
    "    </ul>\n",
    "</div>"
   ]
  },
  {
   "cell_type": "markdown",
   "metadata": {},
   "source": [
    "<hr style=\"border-top: 5px solid black;\">"
   ]
  },
  {
   "cell_type": "markdown",
   "metadata": {},
   "source": [
    "<div id=\"objective6\" style=\"font-size:16px; border:1px solid black; padding:10px\">\n",
    "<center><h1><br><font color=\"blue\">Methods Explained</font></h1></center>\n",
    "    <ul><strong>Sklearn <code>Pipeline()</code></strong>\n",
    "        <li><code>class sklearn.pipeline.Pipeline(steps, *, memory=None, verbose=False)</code></li><br>\n",
    "        <li><strong>Purpose:</strong> <a href=\"https://scikit-learn.org/stable/modules/generated/sklearn.pipeline.Pipeline.html\">Pipeline</a> assemble several steps that can be cross-validated together while setting different parameters. It makes it easier to code.</li><br>\n",
    "        <li>\n",
    "            <ul><strong>Parameters:</strong>\n",
    "                <li><strong><code>steps</code> (list):</strong> List of (name, transform) tuples (implementing fit/transform) that are chained, in the order in which they are chained, with the last object an estimator.</li>\n",
    "                <li><strong><code>memory</code> (str or object with the joblib.Memory interface, default=None):</strong> Used to cache the fitted transformers of the pipeline. By default, no caching is performed. If a string is given, it is the path to the caching directory. Enabling caching triggers a clone of the transformers before fitting. Therefore, the transformer instance given to the pipeline cannot be inspected directly. Use the attribute named_steps or steps to inspect estimators within the pipeline. Caching the transformers is advantageous when fitting is time consuming.</li>\n",
    "            </ul><br>\n",
    "        </li>\n",
    "        <li>\n",
    "                        <ul><strong>Attributes:</strong>\n",
    "                <li><strong><code>named_steps</code> (<a href=\"https://scikit-learn.org/stable/modules/generated/sklearn.utils.Bunch.html#sklearn.utils.Bunch\">Bunch</a> def Container object exposing keys as attributes):</strong> Dictionary-like object, with the following attributes. Read-only attribute to access any step parameter by user given name. Keys are step names and values are steps parameters.</li>       \n",
    "            </ul>\n",
    "        </li><br>\n",
    "    </ul><br>\n",
    "    <hr>\n",
    "    <ul><strong>Sklearn <code>StandardScaler()</code></strong>\n",
    "        <li><code>class sklearn.preprocessing.StandardScaler(*, copy=True, with_mean=True, with_std=True)</code></li><br>\n",
    "        <li><strong>Purpose:</strong> <a href=\"https://scikit-learn.org/stable/modules/generated/sklearn.preprocessing.StandardScaler.html\">StandardScaler</a> standardizes the features by removing the mean and scaling to unit variance <code>z = (x - u) / s</code>.</li>\n",
    "        <li>Linear SVM is sensitive to feature scaling, so this is a standard step you should include in your workflow.</li><br>\n",
    "        <li>\n",
    "            <ul><strong>Parameters:</strong>\n",
    "                <li><strong><code>copy</code> (bool, default =True):</strong> If False, try to avoid a copy and do inplace scaling instead. This is not guaranteed to always work inplace; e.g. if the data is not a NumPy array or scipy.sparse CSR matrix, a copy may still be returned.</li>\n",
    "                <li><strong><code>with_mean</code> (bool, default =True):</strong> If True, center the data before scaling. This does not work (and will raise an exception) when attempted on sparse matrices, because centering them entails building a dense matrix which in common use cases is likely to be too large to fit in memory.</li>\n",
    "                <li><strong><code>with_std</code> (bool, default =True):</strong> If True, scale the data to unit variance (or equivalently, unit standard deviation).</li>\n",
    "            </ul>\n",
    "        </li><br>\n",
    "        <li>\n",
    "            <ul><strong>Attributes:</strong>\n",
    "                <li><strong><code>scale_</code> (ndarray of shape (n_features,) or None):</strong> </li>\n",
    "                <li><strong><code>mean_</code> (ndarray of shape (n_features, ) or None):</strong> The mean value for each feature in the training set. Equal to None when with_mean=False</li> \n",
    "                <li><strong><code>var_</code> (ndarray of shape (n_features, ) or None):</strong> The variance for each feature in the training set. Used to compute scale_. Equal to None when with_std=False.</li>\n",
    "                <li><strong><code>n_samples_seen_</code> (int or ndarray of shape (n_features,) ):</strong> The number of samples processed by the estimator for each feature. If there are no missing samples, the n_samples_seen will be an integer, otherwise it will be an array of dtype int. If sample_weights are used it will be a float (if no missing data) or an array of dtype float that sums the weights seen so far. Will be reset on new calls to fit, but increments across partial_fit calls.</li>             \n",
    "            </ul>\n",
    "        </li><br>\n",
    "    </ul><br>\n",
    "    <hr>\n",
    "    <ul><strong>Sklearn <code>SVC()</code></strong>\n",
    "        <li><code>class sklearn.svm.SVC(*, C=1.0, kernel='rbf', degree=3, gamma='scale', coef0=0.0, shrinking=True, probability=False, tol=0.001, cache_size=200, class_weight=None, verbose=False, max_iter=- 1, decision_function_shape='ovr', break_ties=False, random_state=None)</code></li><br>\n",
    "        <li><strong>Purpose:</strong> <a href=\"https://scikit-learn.org/stable/modules/generated/sklearn.svm.SVC.html\">SVC</a> performs C-Support Vector Classification.</li><br>\n",
    "        <li><strong>Parameters</strong>\n",
    "            <ul>\n",
    "                <li><strong><code>C</code> (float, default=1.0):</strong> Regularization parameter. The strength of the regularization is inversely proportional to C. Must be strictly positive. The penalty is a squared l2 penalty.</li>\n",
    "                <li><strong><code>kernel</code> {‘linear’, ‘poly’, ‘rbf’, ‘sigmoid’, ‘precomputed’}, default=’rbf’:</strong> Specifies the kernel type to be used in the algorithm. It must be one of ‘linear’, ‘poly’, ‘rbf’, ‘sigmoid’, ‘precomputed’ or a callable. If none is given, ‘rbf’ will be used. If a callable is given it is used to pre-compute the kernel matrix from data matrices; that matrix should be an array of shape (n_samples, n_samples).</li>\n",
    "                <li><strong><code>degrees</code> (int, default=3):</strong> Degree of the polynomial kernel function (‘poly’). Ignored by all other kernels.</li>\n",
    "                <li><strong><code>gamma</code> {‘scale’, ‘auto’} or float, default=’scale’:</strong> Kernel coefficient for ‘rbf’, ‘poly’ and ‘sigmoid’.\n",
    "                    <ul>\n",
    "                    <li>if gamma='scale' (default) is passed then it uses the equation 1 / (n_features * X.var()) as the value of gamma.</li>\n",
    "                    <li>if gamma = ‘auto’, then it use the equation 1 / n_features.</li>                        \n",
    "                    </ul>\n",
    "                </li>\n",
    "                <li><strong><code>coef0</code> (float, default=0.0):</strong> Independent term in kernel function. It is only significant in ‘poly’ and ‘sigmoid’.</li>\n",
    "                <li><strong><code>shrinking</code> (bool, default=True):</strong> Whether to use the shrinking heuristic.</li>\n",
    "                <li><strong><code>probability</code> (bool, default=False):</strong> Whether to enable probability estimates. This must be enabled prior to calling fit, will slow down that method as it internally uses 5-fold cross-validation, and predict_proba may be inconsistent with predict.</li>\n",
    "                <li><strong><code>tol</code> (float, default=1e-3):</strong> Tolerance for stopping criterion.</li>   \n",
    "                <li><strong><code>cache_size</code> (float, default=200):</strong> Specify the size of the kernel cache (in MB).</li>\n",
    "                <li><strong><code>class_weight</code> (dict or ‘balanced’, default=None):</strong> Set the parameter C of class i to class_weight[i]*C for SVC. If not given, all classes are supposed to have weight one. The “balanced” mode uses the values of y to automatically adjust weights inversely proportional to class frequencies in the input data as n_samples / (n_classes * np.bincount(y))</li>\n",
    "                <li><strong><code>max_iter</code> (int, default=-1):</strong> Hard limit on iterations within solver, or -1 for no limit.</li>\n",
    "                <li><strong><code>decision_function_shape</code> {‘ovo’, ‘ovr’}, default=’ovr’:</strong> Whether to return a one-vs-rest (‘ovr’) decision function of shape (n_samples, n_classes) as all other classifiers, or the original one-vs-one (‘ovo’) decision function of libsvm which has shape (n_samples, n_classes * (n_classes - 1) / 2). However, one-vs-one (‘ovo’) is always used as multi-class strategy. The parameter is ignored for binary classification.</li>\n",
    "                <li><strong><code>random_state</code> (int, RandomState instance or None, default=None):</strong> Controls the pseudo random number generation for shuffling the data for probability estimates. Ignored when probability is False. Pass an int for reproducible output across multiple function calls. </li>              \n",
    "            </ul>\n",
    "        </li><br>\n",
    "        <li>\n",
    "            <ul><strong>Attributes:</strong>\n",
    "                <li><strong><code>class_weight_</code> (ndarray of shape (n_classes,)):</strong> Multipliers of parameter C for each class. Computed based on the class_weight parameter.</li>\n",
    "                <li><strong><code>classes_</code> (ndarray of shape (n_classes,)):</strong> The classes labels.</li>\n",
    "                <li><strong><code>coef_</code> (ndarray of shape (n_classes * (n_classes - 1) / 2, n_features)):</strong> Weights assigned to the features (coefficients in the primal problem). This is only available in the case of a linear kernel. coef_ is a read only property derived from dual_coef_ and support_vector_ attributes.</li>\n",
    "                <li><strong><code>fit_status_</code> (int):</strong> 0 if correctly fitted, 1 otherwise (will raise warning)</li>\n",
    "                <li><strong><code>intercept_</code> (ndarray of shape (n_classes * (n_classes - 1) / 2,)):</strong> Constants in decision function.</li>\n",
    "                <li><strong><code>support_</code> (ndarray of shape (n_SV)):</strong> Indices of support vectors.</li>\n",
    "                <li><strong><code>support_vectors_</code> (ndarray of shape (n_SV, n_features)):</strong> Support vectors.</li>\n",
    "                <li><strong><code>n_support_</code> (ndarray of shape (n_classes,), dtype=int32):</strong> Number of support vectors for each class.</li>\n",
    "                <li><strong><code>probA_</code> (ndarray of shape (n_classes * (n_classes - 1) / 2)):</strong> </li>\n",
    "                <li><strong><code>probB_</code> (ndarray of shape (n_classes * (n_classes - 1) / 2)):</strong> If probability=True, it corresponds to the parameters learned in Platt scaling to produce probability estimates from decision values. If probability=False, it’s an empty array.</li>\n",
    "                <li><strong><code>shape_fit_</code> (tuple of int of shape (n_dimensions_of_X,)):</strong> Array dimensions of training vector X.</li>                \n",
    "            </ul>            \n",
    "        </li><br>\n",
    "    </ul>\n",
    "</div>    "
   ]
  }
 ],
 "metadata": {
  "kernelspec": {
   "display_name": "Python 3",
   "language": "python",
   "name": "python3"
  },
  "language_info": {
   "codemirror_mode": {
    "name": "ipython",
    "version": 3
   },
   "file_extension": ".py",
   "mimetype": "text/x-python",
   "name": "python",
   "nbconvert_exporter": "python",
   "pygments_lexer": "ipython3",
   "version": "3.8.2"
  }
 },
 "nbformat": 4,
 "nbformat_minor": 4
}

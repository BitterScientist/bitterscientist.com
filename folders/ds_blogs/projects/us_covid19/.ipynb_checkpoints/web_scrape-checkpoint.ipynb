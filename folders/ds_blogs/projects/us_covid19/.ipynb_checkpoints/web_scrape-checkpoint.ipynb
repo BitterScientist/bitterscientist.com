{
 "cells": [
  {
   "cell_type": "markdown",
   "metadata": {},
   "source": [
    "<h1>Import Dependencies</h1>"
   ]
  },
  {
   "cell_type": "code",
   "execution_count": 1,
   "metadata": {},
   "outputs": [],
   "source": [
    "import requests\n",
    "import lxml.html as lh\n",
    "import pandas as pd"
   ]
  },
  {
   "cell_type": "markdown",
   "metadata": {},
   "source": [
    "<h1>Get Website Data</h1>"
   ]
  },
  {
   "cell_type": "code",
   "execution_count": 2,
   "metadata": {},
   "outputs": [],
   "source": [
    "# Store website in a url variable\n",
    "url = \"https://www.worldometers.info/coronavirus/country/us/\""
   ]
  },
  {
   "cell_type": "code",
   "execution_count": 3,
   "metadata": {},
   "outputs": [],
   "source": [
    "# Use the request method on the url\n",
    "req = requests.get(url)"
   ]
  },
  {
   "cell_type": "code",
   "execution_count": 4,
   "metadata": {},
   "outputs": [],
   "source": [
    "# Store the contents of the website using the html lxml.html parser lh\n",
    "doc = lh.fromstring(req.content)"
   ]
  },
  {
   "cell_type": "markdown",
   "metadata": {},
   "source": [
    "<h1>Get Table Data</h1>"
   ]
  },
  {
   "cell_type": "code",
   "execution_count": 5,
   "metadata": {},
   "outputs": [],
   "source": [
    "#Parse data that is stored between HTML table row tags <tr>..</tr>\n",
    "tr_elements = doc.xpath('//tr')"
   ]
  },
  {
   "cell_type": "code",
   "execution_count": 6,
   "metadata": {},
   "outputs": [
    {
     "data": {
      "text/plain": [
       "[15, 15, 15, 15, 15, 15, 15, 15, 15, 15]"
      ]
     },
     "execution_count": 6,
     "metadata": {},
     "output_type": "execute_result"
    }
   ],
   "source": [
    "# Confirm that you are gathering tabular data\n",
    "# You can do that by inspecting the length of \n",
    "# the rows by using a list comprehension\n",
    "# make sure that each row has the same number of columns\n",
    "[len(T) for T in tr_elements[:10]]"
   ]
  },
  {
   "cell_type": "markdown",
   "metadata": {},
   "source": [
    "<h1>Get Table Header Data</h1>"
   ]
  },
  {
   "cell_type": "code",
   "execution_count": 7,
   "metadata": {},
   "outputs": [
    {
     "name": "stdout",
     "output_type": "stream",
     "text": [
      "1 #\n",
      "2 USAState\n",
      "3 TotalCases\n",
      "4 NewCases\n",
      "5 TotalDeaths\n",
      "6 NewDeaths\n",
      "7 TotalRecovered\n",
      "8 ActiveCases\n",
      "9 Tot Cases/1M pop\n",
      "10 Deaths/1M pop\n",
      "11 TotalTests\n",
      "12 Tests/\n",
      "1M pop\n",
      "\n",
      "13 Population\n",
      "14 Source\n",
      "15 Projections\n"
     ]
    }
   ],
   "source": [
    "#Create empty list\n",
    "table_data=[]\n",
    "i=0\n",
    "#For each row, store each first element (header) and an empty list\n",
    "for t in tr_elements[0]:\n",
    "    i+=1\n",
    "\n",
    "    #lxlm text_content() method extracts text values\n",
    "    name=t.text_content()\n",
    "    #Check you are gathering the header information with print statement\n",
    "    #This is optional   \n",
    "    print (i,name) \n",
    "    \n",
    "    #use the List .append() method to add the text from each row\n",
    "    #into the empty list col you created\n",
    "    table_data.append((name,[]))"
   ]
  },
  {
   "cell_type": "markdown",
   "metadata": {},
   "source": [
    "<h1>Get Table Data</h1>"
   ]
  },
  {
   "cell_type": "code",
   "execution_count": 8,
   "metadata": {},
   "outputs": [],
   "source": [
    "# The header data was stored in the first row \n",
    "# From above code(index 0 = tr_elements[0])\n",
    "# data is stored on the second row onwards\n",
    "# Use a for loop to iterate through the remaining tr elements\n",
    "# Make sure that each row is tabular, if not break out\n",
    "# For tabular data (row with equal columms) \n",
    "# Store the data into your table_data list.\n",
    "for j in range(1,len(tr_elements)):\n",
    "    \n",
    "    #T is our j'th row\n",
    "    T=tr_elements[j]\n",
    "    \n",
    "    #Count the number of columns in the table and assign to variable\n",
    "    #In this example, we have 28 columns with data     \n",
    "    col_nbr = 15\n",
    "    \n",
    "    #If row is not of size 28 (# columns), \n",
    "    #the //tr data is not from our table \n",
    "    if len(T)!=col_nbr:\n",
    "        break\n",
    "    \n",
    "    #i is the index of our column\n",
    "    i=0\n",
    "    \n",
    "    #Iterate through each element of the row\n",
    "    #This for loop uses the lxlm .iterchildren() method\n",
    "    for t in T.iterchildren():\n",
    "        #This code uses the lxlm .text_content() method         \n",
    "        data=t.text_content() \n",
    "        \n",
    "        #Check if row is empty\n",
    "        if i>0:\n",
    "        #Convert any numerical value to integers\n",
    "            try:\n",
    "                data=int(data)\n",
    "            except:\n",
    "                pass\n",
    "        #Append the data to the empty list of the i'th column\n",
    "        table_data[i][1].append(data)\n",
    "        #Increment i for the next column\n",
    "        i+=1"
   ]
  },
  {
   "cell_type": "code",
   "execution_count": 9,
   "metadata": {},
   "outputs": [
    {
     "data": {
      "text/plain": [
       "[64, 64, 64, 64, 64, 64, 64, 64, 64, 64, 64, 64, 64, 64, 64]"
      ]
     },
     "execution_count": 9,
     "metadata": {},
     "output_type": "execute_result"
    }
   ],
   "source": [
    "# Quality control - confirm that you gathered columns with equal rows\n",
    "[len(C) for (title,C) in table_data]"
   ]
  },
  {
   "cell_type": "markdown",
   "metadata": {},
   "source": [
    "<h1>Add Data to Dataframe</h1>"
   ]
  },
  {
   "cell_type": "code",
   "execution_count": 10,
   "metadata": {},
   "outputs": [],
   "source": [
    "# Create the dataframe\n",
    "Dict={title:column for (title,column) in table_data}\n",
    "df=pd.DataFrame(Dict)"
   ]
  },
  {
   "cell_type": "markdown",
   "metadata": {},
   "source": [
    "<h1>Drop Unnecesary Columns and remove substrings and commas</h1>"
   ]
  },
  {
   "cell_type": "code",
   "execution_count": 11,
   "metadata": {},
   "outputs": [],
   "source": [
    "df.drop(columns=['#', 'Source', 'Projections'], inplace=True)\n",
    "df.columns = df.columns.str.replace('\\n','')\n",
    "df = df.replace(',','', regex=True)"
   ]
  },
  {
   "cell_type": "code",
   "execution_count": 12,
   "metadata": {},
   "outputs": [],
   "source": [
    "for column in df:\n",
    "    df[column]= df[column].astype(str)\n",
    "    df[column] = df[column].map(lambda x: x.lstrip('\\n'))"
   ]
  },
  {
   "cell_type": "code",
   "execution_count": 13,
   "metadata": {},
   "outputs": [
    {
     "data": {
      "text/html": [
       "<div>\n",
       "<style scoped>\n",
       "    .dataframe tbody tr th:only-of-type {\n",
       "        vertical-align: middle;\n",
       "    }\n",
       "\n",
       "    .dataframe tbody tr th {\n",
       "        vertical-align: top;\n",
       "    }\n",
       "\n",
       "    .dataframe thead th {\n",
       "        text-align: right;\n",
       "    }\n",
       "</style>\n",
       "<table border=\"1\" class=\"dataframe\">\n",
       "  <thead>\n",
       "    <tr style=\"text-align: right;\">\n",
       "      <th></th>\n",
       "      <th>USAState</th>\n",
       "      <th>TotalCases</th>\n",
       "      <th>NewCases</th>\n",
       "      <th>TotalDeaths</th>\n",
       "      <th>NewDeaths</th>\n",
       "      <th>TotalRecovered</th>\n",
       "      <th>ActiveCases</th>\n",
       "      <th>Tot Cases/1M pop</th>\n",
       "      <th>Deaths/1M pop</th>\n",
       "      <th>TotalTests</th>\n",
       "      <th>Tests/1M pop</th>\n",
       "      <th>Population</th>\n",
       "    </tr>\n",
       "  </thead>\n",
       "  <tbody>\n",
       "    <tr>\n",
       "      <th>0</th>\n",
       "      <td>USA Total</td>\n",
       "      <td>22837347</td>\n",
       "      <td>+134084</td>\n",
       "      <td>382637</td>\n",
       "      <td>+1154</td>\n",
       "      <td>13444039</td>\n",
       "      <td>9010671</td>\n",
       "      <td>68994</td>\n",
       "      <td>1156</td>\n",
       "      <td>270944916</td>\n",
       "      <td>818558</td>\n",
       "      <td></td>\n",
       "    </tr>\n",
       "    <tr>\n",
       "      <th>1</th>\n",
       "      <td>California</td>\n",
       "      <td>2676896</td>\n",
       "      <td></td>\n",
       "      <td>29682</td>\n",
       "      <td></td>\n",
       "      <td>1113950</td>\n",
       "      <td>1533264</td>\n",
       "      <td>67749</td>\n",
       "      <td>751</td>\n",
       "      <td>35826824</td>\n",
       "      <td>906728</td>\n",
       "      <td>39512223</td>\n",
       "    </tr>\n",
       "    <tr>\n",
       "      <th>2</th>\n",
       "      <td>Texas</td>\n",
       "      <td>1961165</td>\n",
       "      <td></td>\n",
       "      <td>30527</td>\n",
       "      <td></td>\n",
       "      <td>1574684</td>\n",
       "      <td>355954</td>\n",
       "      <td>67636</td>\n",
       "      <td>1053</td>\n",
       "      <td>16816301</td>\n",
       "      <td>579955</td>\n",
       "      <td>28995881</td>\n",
       "    </tr>\n",
       "    <tr>\n",
       "      <th>3</th>\n",
       "      <td>Florida</td>\n",
       "      <td>1477010</td>\n",
       "      <td>+12313</td>\n",
       "      <td>22920</td>\n",
       "      <td>106</td>\n",
       "      <td>768664</td>\n",
       "      <td>685426</td>\n",
       "      <td>68769</td>\n",
       "      <td>1067</td>\n",
       "      <td>16715694</td>\n",
       "      <td>778280</td>\n",
       "      <td>21477737</td>\n",
       "    </tr>\n",
       "    <tr>\n",
       "      <th>4</th>\n",
       "      <td>New York</td>\n",
       "      <td>1164957</td>\n",
       "      <td>+12743</td>\n",
       "      <td>39588</td>\n",
       "      <td>141</td>\n",
       "      <td>492692</td>\n",
       "      <td>632677</td>\n",
       "      <td>59884</td>\n",
       "      <td>2035</td>\n",
       "      <td>27321002</td>\n",
       "      <td>1404422</td>\n",
       "      <td>19453561</td>\n",
       "    </tr>\n",
       "  </tbody>\n",
       "</table>\n",
       "</div>"
      ],
      "text/plain": [
       "      USAState TotalCases NewCases TotalDeaths NewDeaths TotalRecovered  \\\n",
       "0    USA Total   22837347  +134084      382637     +1154       13444039   \n",
       "1  California    2676896               29682                   1113950    \n",
       "2       Texas    1961165                30527                  1574684    \n",
       "3     Florida    1477010   +12313       22920        106        768664    \n",
       "4    New York    1164957   +12743       39588        141        492692    \n",
       "\n",
       "  ActiveCases Tot Cases/1M pop Deaths/1M pop TotalTests Tests/1M pop  \\\n",
       "0     9010671            68994          1156  270944916       818558   \n",
       "1    1533264             67749           751  35826824        906728   \n",
       "2     355954             67636          1053  16816301        579955   \n",
       "3     685426             68769          1067  16715694        778280   \n",
       "4     632677             59884          2035  27321002       1404422   \n",
       "\n",
       "  Population  \n",
       "0             \n",
       "1  39512223   \n",
       "2  28995881   \n",
       "3  21477737   \n",
       "4  19453561   "
      ]
     },
     "execution_count": 13,
     "metadata": {},
     "output_type": "execute_result"
    }
   ],
   "source": [
    "df.head()"
   ]
  },
  {
   "cell_type": "markdown",
   "metadata": {},
   "source": [
    "<h1>Convert Columns to Integers and Replace NaN with Zero</h1>"
   ]
  },
  {
   "cell_type": "code",
   "execution_count": 14,
   "metadata": {},
   "outputs": [],
   "source": [
    "int_cols = df.columns[1:] # get the columns to be converted to int"
   ]
  },
  {
   "cell_type": "code",
   "execution_count": 15,
   "metadata": {},
   "outputs": [],
   "source": [
    "df[int_cols] = df[int_cols].apply(pd.to_numeric, errors='coerce') # use .to_numeric to convert and coerce NaN"
   ]
  },
  {
   "cell_type": "code",
   "execution_count": 16,
   "metadata": {},
   "outputs": [],
   "source": [
    "df.fillna(0, inplace=True) # convert NaN to zero"
   ]
  },
  {
   "cell_type": "code",
   "execution_count": 17,
   "metadata": {},
   "outputs": [
    {
     "data": {
      "text/html": [
       "<div>\n",
       "<style scoped>\n",
       "    .dataframe tbody tr th:only-of-type {\n",
       "        vertical-align: middle;\n",
       "    }\n",
       "\n",
       "    .dataframe tbody tr th {\n",
       "        vertical-align: top;\n",
       "    }\n",
       "\n",
       "    .dataframe thead th {\n",
       "        text-align: right;\n",
       "    }\n",
       "</style>\n",
       "<table border=\"1\" class=\"dataframe\">\n",
       "  <thead>\n",
       "    <tr style=\"text-align: right;\">\n",
       "      <th></th>\n",
       "      <th>USAState</th>\n",
       "      <th>TotalCases</th>\n",
       "      <th>NewCases</th>\n",
       "      <th>TotalDeaths</th>\n",
       "      <th>NewDeaths</th>\n",
       "      <th>TotalRecovered</th>\n",
       "      <th>ActiveCases</th>\n",
       "      <th>Tot Cases/1M pop</th>\n",
       "      <th>Deaths/1M pop</th>\n",
       "      <th>TotalTests</th>\n",
       "      <th>Tests/1M pop</th>\n",
       "      <th>Population</th>\n",
       "    </tr>\n",
       "  </thead>\n",
       "  <tbody>\n",
       "    <tr>\n",
       "      <th>0</th>\n",
       "      <td>USA Total</td>\n",
       "      <td>22837347</td>\n",
       "      <td>134084.0</td>\n",
       "      <td>382637.0</td>\n",
       "      <td>1154.0</td>\n",
       "      <td>13444039.0</td>\n",
       "      <td>9010671.0</td>\n",
       "      <td>68994.0</td>\n",
       "      <td>1156.0</td>\n",
       "      <td>270944916.0</td>\n",
       "      <td>818558.0</td>\n",
       "      <td>0.0</td>\n",
       "    </tr>\n",
       "    <tr>\n",
       "      <th>1</th>\n",
       "      <td>California</td>\n",
       "      <td>2676896</td>\n",
       "      <td>0.0</td>\n",
       "      <td>29682.0</td>\n",
       "      <td>0.0</td>\n",
       "      <td>1113950.0</td>\n",
       "      <td>1533264.0</td>\n",
       "      <td>67749.0</td>\n",
       "      <td>751.0</td>\n",
       "      <td>35826824.0</td>\n",
       "      <td>906728.0</td>\n",
       "      <td>39512223.0</td>\n",
       "    </tr>\n",
       "    <tr>\n",
       "      <th>2</th>\n",
       "      <td>Texas</td>\n",
       "      <td>1961165</td>\n",
       "      <td>0.0</td>\n",
       "      <td>30527.0</td>\n",
       "      <td>0.0</td>\n",
       "      <td>1574684.0</td>\n",
       "      <td>355954.0</td>\n",
       "      <td>67636.0</td>\n",
       "      <td>1053.0</td>\n",
       "      <td>16816301.0</td>\n",
       "      <td>579955.0</td>\n",
       "      <td>28995881.0</td>\n",
       "    </tr>\n",
       "    <tr>\n",
       "      <th>3</th>\n",
       "      <td>Florida</td>\n",
       "      <td>1477010</td>\n",
       "      <td>12313.0</td>\n",
       "      <td>22920.0</td>\n",
       "      <td>106.0</td>\n",
       "      <td>768664.0</td>\n",
       "      <td>685426.0</td>\n",
       "      <td>68769.0</td>\n",
       "      <td>1067.0</td>\n",
       "      <td>16715694.0</td>\n",
       "      <td>778280.0</td>\n",
       "      <td>21477737.0</td>\n",
       "    </tr>\n",
       "    <tr>\n",
       "      <th>4</th>\n",
       "      <td>New York</td>\n",
       "      <td>1164957</td>\n",
       "      <td>12743.0</td>\n",
       "      <td>39588.0</td>\n",
       "      <td>141.0</td>\n",
       "      <td>492692.0</td>\n",
       "      <td>632677.0</td>\n",
       "      <td>59884.0</td>\n",
       "      <td>2035.0</td>\n",
       "      <td>27321002.0</td>\n",
       "      <td>1404422.0</td>\n",
       "      <td>19453561.0</td>\n",
       "    </tr>\n",
       "  </tbody>\n",
       "</table>\n",
       "</div>"
      ],
      "text/plain": [
       "      USAState  TotalCases  NewCases  TotalDeaths  NewDeaths  TotalRecovered  \\\n",
       "0    USA Total    22837347  134084.0     382637.0     1154.0      13444039.0   \n",
       "1  California      2676896       0.0      29682.0        0.0       1113950.0   \n",
       "2       Texas      1961165       0.0      30527.0        0.0       1574684.0   \n",
       "3     Florida      1477010   12313.0      22920.0      106.0        768664.0   \n",
       "4    New York      1164957   12743.0      39588.0      141.0        492692.0   \n",
       "\n",
       "   ActiveCases  Tot Cases/1M pop  Deaths/1M pop   TotalTests  Tests/1M pop  \\\n",
       "0    9010671.0           68994.0         1156.0  270944916.0      818558.0   \n",
       "1    1533264.0           67749.0          751.0   35826824.0      906728.0   \n",
       "2     355954.0           67636.0         1053.0   16816301.0      579955.0   \n",
       "3     685426.0           68769.0         1067.0   16715694.0      778280.0   \n",
       "4     632677.0           59884.0         2035.0   27321002.0     1404422.0   \n",
       "\n",
       "   Population  \n",
       "0         0.0  \n",
       "1  39512223.0  \n",
       "2  28995881.0  \n",
       "3  21477737.0  \n",
       "4  19453561.0  "
      ]
     },
     "execution_count": 17,
     "metadata": {},
     "output_type": "execute_result"
    }
   ],
   "source": [
    "df.head() # inspect data"
   ]
  },
  {
   "cell_type": "markdown",
   "metadata": {},
   "source": [
    "<h1>Calculate Case Fatality Death Rate</h1>"
   ]
  },
  {
   "cell_type": "code",
   "execution_count": 18,
   "metadata": {},
   "outputs": [],
   "source": [
    "df['cfdr'] = (df['TotalDeaths'] / df['TotalCases'] *100).round(2)"
   ]
  },
  {
   "cell_type": "markdown",
   "metadata": {},
   "source": [
    "<h1>Save Dataframe to CSV</h1>"
   ]
  },
  {
   "cell_type": "code",
   "execution_count": 19,
   "metadata": {},
   "outputs": [],
   "source": [
    "df.to_csv(\"data/covid_state_level_data.csv\", encoding='utf-8', index=False)"
   ]
  }
 ],
 "metadata": {
  "kernelspec": {
   "display_name": "Python 3",
   "language": "python",
   "name": "python3"
  },
  "language_info": {
   "codemirror_mode": {
    "name": "ipython",
    "version": 3
   },
   "file_extension": ".py",
   "mimetype": "text/x-python",
   "name": "python",
   "nbconvert_exporter": "python",
   "pygments_lexer": "ipython3",
   "version": "3.8.2"
  }
 },
 "nbformat": 4,
 "nbformat_minor": 4
}

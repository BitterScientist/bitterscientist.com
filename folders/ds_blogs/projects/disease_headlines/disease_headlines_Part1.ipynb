{
 "cells": [
  {
   "cell_type": "markdown",
   "metadata": {},
   "source": [
    "<div style=\"border:2px solid black; padding:10px\">\n",
    "    \n",
    "# <font color=\"blue\">Objective: </font>Extract City and Country Information from News Headlines\n",
    "</div>"
   ]
  },
  {
   "cell_type": "markdown",
   "metadata": {},
   "source": [
    "# Import Dependencies"
   ]
  },
  {
   "cell_type": "code",
   "execution_count": 1,
   "metadata": {},
   "outputs": [],
   "source": [
    "import re\n",
    "import unidecode\n",
    "import pandas as pd\n",
    "\n",
    "# Geolocation information\n",
    "from geonamescache import GeonamesCache\n",
    "\n",
    "# ignore all future warnings\n",
    "from warnings import simplefilter\n",
    "simplefilter(action='ignore', category=FutureWarning)\n",
    "\n",
    "# Displaying pandas columns and rows\n",
    "pd.set_option('display.max_rows', None)\n",
    "pd.set_option('display.max_columns', None)"
   ]
  },
  {
   "cell_type": "markdown",
   "metadata": {},
   "source": [
    "<hr style=\"border-top: 2px solid black;\">"
   ]
  },
  {
   "cell_type": "markdown",
   "metadata": {},
   "source": [
    "# Import Data"
   ]
  },
  {
   "cell_type": "code",
   "execution_count": 2,
   "metadata": {},
   "outputs": [],
   "source": [
    "file = \"data/headlines.txt\""
   ]
  },
  {
   "cell_type": "code",
   "execution_count": 3,
   "metadata": {},
   "outputs": [
    {
     "name": "stdout",
     "output_type": "stream",
     "text": [
      "650 headines have been loaded\n"
     ]
    }
   ],
   "source": [
    "headline_file = open(file,'r')\n",
    "headlines = [line.strip()\n",
    "             for line in headline_file.readlines()]\n",
    "num_headlines = len(headlines)\n",
    "print(f\"{num_headlines} headines have been loaded\")"
   ]
  },
  {
   "cell_type": "markdown",
   "metadata": {},
   "source": [
    "<hr style=\"border-top: 2px solid black;\">"
   ]
  },
  {
   "cell_type": "markdown",
   "metadata": {},
   "source": [
    "# Function to great regexes for matching"
   ]
  },
  {
   "cell_type": "code",
   "execution_count": 4,
   "metadata": {},
   "outputs": [],
   "source": [
    "def data_to_regex(name):\n",
    "    # ASCII transliterations of Unicode text\n",
    "    decoded_name = unidecode.unidecode(name)\n",
    "    # If the name is not already in ASCII characters, then it will convert it\n",
    "    if name != decoded_name:\n",
    "        regex = fr'\\b({name}|{decoded_name})\\b'\n",
    "    # if it is already in ASCII characters, then it\n",
    "    # returns it as a regular expression pattern objects, which can be used for pattern matching\n",
    "    # flags=re.IGNORECASE ignores case    \n",
    "    else:\n",
    "        regex = fr'\\b{name}\\b'\n",
    "    return re.compile(regex, flags=re.IGNORECASE)"
   ]
  },
  {
   "cell_type": "markdown",
   "metadata": {},
   "source": [
    "<hr style=\"border-top: 2px solid black;\">"
   ]
  },
  {
   "cell_type": "markdown",
   "metadata": {},
   "source": [
    "# Create lists that contain city and country names using <code>GeonamesCache()</code>"
   ]
  },
  {
   "cell_type": "code",
   "execution_count": 5,
   "metadata": {},
   "outputs": [],
   "source": [
    "# Instantiate GeonamesCache()\n",
    "gc = GeonamesCache()"
   ]
  },
  {
   "cell_type": "markdown",
   "metadata": {},
   "source": [
    "## Create lists that contain Country and City information from <code>gc</code>"
   ]
  },
  {
   "cell_type": "code",
   "execution_count": 6,
   "metadata": {},
   "outputs": [],
   "source": [
    "# Use a list comprehension to create a list that contains contries inforation from <code>gc.get_countries().values()</code>\n",
    "countries = [country['name'] for country in gc.get_countries().values()]"
   ]
  },
  {
   "cell_type": "code",
   "execution_count": 7,
   "metadata": {},
   "outputs": [],
   "source": [
    "# Use a list comprehension to create a list that contains city inforation from <code>gc.get_countries().values()</code>\n",
    "cities = [city['name'] for city in gc.get_cities().values()]"
   ]
  },
  {
   "cell_type": "markdown",
   "metadata": {},
   "source": [
    "## Use a Dictionary Comprehension and the <code>data_to_regex()</code> function to map country and city names to regexes"
   ]
  },
  {
   "cell_type": "code",
   "execution_count": 8,
   "metadata": {},
   "outputs": [],
   "source": [
    "# This dictionary comprehension will iterate through the countries list, \n",
    "# Assign this value as the element, and then feed the same element to the <code>name_to_regex()</code>\n",
    "# The output is the key\n",
    "country_to_name = {data_to_regex(name) : name for name in countries}"
   ]
  },
  {
   "cell_type": "code",
   "execution_count": 9,
   "metadata": {},
   "outputs": [],
   "source": [
    "# This dictionary comprehension will iterate through the cities list, \n",
    "# Assign this value as the element, and then feed the same element to the <code>name_to_regex()</code>\n",
    "# The output is the key\n",
    "city_to_name = {data_to_regex(name): name for name in cities}"
   ]
  },
  {
   "cell_type": "markdown",
   "metadata": {},
   "source": [
    "<hr style=\"border-top: 2px solid black;\">"
   ]
  },
  {
   "cell_type": "markdown",
   "metadata": {},
   "source": [
    "# Create Dataframe from Extracted Locations in Headlines"
   ]
  },
  {
   "cell_type": "markdown",
   "metadata": {},
   "source": [
    "### Function that will compare each headline and will either return the name of the country or city, or if it is not present, it will return none"
   ]
  },
  {
   "cell_type": "code",
   "execution_count": 10,
   "metadata": {},
   "outputs": [],
   "source": [
    "# Function takes in a string, and a dictionary to compare\n",
    "def get_data_in_text(text, dictionary):\n",
    "    # iterate through each key and value pair in the dictionary (name of the country or city, and the regex object)\n",
    "    for regex, name in sorted(dictionary.items(),\n",
    "                              key=lambda x: x[1]):\n",
    "    # each individual regex object is used to see if it matches with the text\n",
    "    # if it is found, then it will return the text\n",
    "        if regex.search(text):\n",
    "            return name\n",
    "    # if it is not found, then None will be returned\n",
    "    return None"
   ]
  },
  {
   "cell_type": "code",
   "execution_count": 11,
   "metadata": {},
   "outputs": [],
   "source": [
    "# Creates a list of matched countries that has either the country name or none for headlines without countries\n",
    "matched_countries = [get_data_in_text(headline, country_to_name)\n",
    "                     for headline in headlines]"
   ]
  },
  {
   "cell_type": "code",
   "execution_count": 12,
   "metadata": {},
   "outputs": [],
   "source": [
    "# Creates a list of matched cities that has the names of cities in headlines or 'none' if missing\n",
    "matched_cities = [get_data_in_text(headline, city_to_name)\n",
    "                  for headline in headlines]"
   ]
  },
  {
   "cell_type": "code",
   "execution_count": 13,
   "metadata": {},
   "outputs": [],
   "source": [
    "# Create a pandas dataframe with this information\n",
    "data = {'Headline': headlines, 'City': matched_cities,\n",
    "        'Country': matched_countries}"
   ]
  },
  {
   "cell_type": "code",
   "execution_count": 14,
   "metadata": {},
   "outputs": [
    {
     "data": {
      "text/html": [
       "<div>\n",
       "<style scoped>\n",
       "    .dataframe tbody tr th:only-of-type {\n",
       "        vertical-align: middle;\n",
       "    }\n",
       "\n",
       "    .dataframe tbody tr th {\n",
       "        vertical-align: top;\n",
       "    }\n",
       "\n",
       "    .dataframe thead th {\n",
       "        text-align: right;\n",
       "    }\n",
       "</style>\n",
       "<table border=\"1\" class=\"dataframe\">\n",
       "  <thead>\n",
       "    <tr style=\"text-align: right;\">\n",
       "      <th></th>\n",
       "      <th>Headline</th>\n",
       "      <th>City</th>\n",
       "      <th>Country</th>\n",
       "    </tr>\n",
       "  </thead>\n",
       "  <tbody>\n",
       "    <tr>\n",
       "      <th>0</th>\n",
       "      <td>Zika Outbreak Hits Miami</td>\n",
       "      <td>Miami</td>\n",
       "      <td>None</td>\n",
       "    </tr>\n",
       "    <tr>\n",
       "      <th>1</th>\n",
       "      <td>Could Zika Reach New York City?</td>\n",
       "      <td>New York City</td>\n",
       "      <td>None</td>\n",
       "    </tr>\n",
       "    <tr>\n",
       "      <th>2</th>\n",
       "      <td>First Case of Zika in Miami Beach</td>\n",
       "      <td>Miami</td>\n",
       "      <td>None</td>\n",
       "    </tr>\n",
       "    <tr>\n",
       "      <th>3</th>\n",
       "      <td>Mystery Virus Spreads in Recife, Brazil</td>\n",
       "      <td>Recife</td>\n",
       "      <td>Brazil</td>\n",
       "    </tr>\n",
       "    <tr>\n",
       "      <th>4</th>\n",
       "      <td>Dallas man comes down with case of Zika</td>\n",
       "      <td>Dallas</td>\n",
       "      <td>None</td>\n",
       "    </tr>\n",
       "  </tbody>\n",
       "</table>\n",
       "</div>"
      ],
      "text/plain": [
       "                                  Headline           City Country\n",
       "0                 Zika Outbreak Hits Miami          Miami    None\n",
       "1          Could Zika Reach New York City?  New York City    None\n",
       "2        First Case of Zika in Miami Beach          Miami    None\n",
       "3  Mystery Virus Spreads in Recife, Brazil         Recife  Brazil\n",
       "4  Dallas man comes down with case of Zika         Dallas    None"
      ]
     },
     "execution_count": 14,
     "metadata": {},
     "output_type": "execute_result"
    }
   ],
   "source": [
    "df = pd.DataFrame(data)\n",
    "df.head()"
   ]
  },
  {
   "cell_type": "markdown",
   "metadata": {},
   "source": [
    "<hr style=\"border-top: 2px solid black;\">"
   ]
  },
  {
   "cell_type": "markdown",
   "metadata": {},
   "source": [
    "# Evaluate Data"
   ]
  },
  {
   "cell_type": "code",
   "execution_count": 15,
   "metadata": {
    "scrolled": true
   },
   "outputs": [
    {
     "data": {
      "text/html": [
       "<div>\n",
       "<style scoped>\n",
       "    .dataframe tbody tr th:only-of-type {\n",
       "        vertical-align: middle;\n",
       "    }\n",
       "\n",
       "    .dataframe tbody tr th {\n",
       "        vertical-align: top;\n",
       "    }\n",
       "\n",
       "    .dataframe thead th {\n",
       "        text-align: right;\n",
       "    }\n",
       "</style>\n",
       "<table border=\"1\" class=\"dataframe\">\n",
       "  <thead>\n",
       "    <tr style=\"text-align: right;\">\n",
       "      <th></th>\n",
       "      <th>Headline</th>\n",
       "      <th>City</th>\n",
       "      <th>Country</th>\n",
       "    </tr>\n",
       "  </thead>\n",
       "  <tbody>\n",
       "    <tr>\n",
       "      <th>count</th>\n",
       "      <td>650</td>\n",
       "      <td>619</td>\n",
       "      <td>15</td>\n",
       "    </tr>\n",
       "    <tr>\n",
       "      <th>unique</th>\n",
       "      <td>647</td>\n",
       "      <td>510</td>\n",
       "      <td>10</td>\n",
       "    </tr>\n",
       "    <tr>\n",
       "      <th>top</th>\n",
       "      <td>Spanish Flu Spreading through Madrid</td>\n",
       "      <td>Of</td>\n",
       "      <td>Brazil</td>\n",
       "    </tr>\n",
       "    <tr>\n",
       "      <th>freq</th>\n",
       "      <td>2</td>\n",
       "      <td>45</td>\n",
       "      <td>3</td>\n",
       "    </tr>\n",
       "  </tbody>\n",
       "</table>\n",
       "</div>"
      ],
      "text/plain": [
       "                                    Headline City Country\n",
       "count                                    650  619      15\n",
       "unique                                   647  510      10\n",
       "top     Spanish Flu Spreading through Madrid   Of  Brazil\n",
       "freq                                       2   45       3"
      ]
     },
     "execution_count": 15,
     "metadata": {},
     "output_type": "execute_result"
    }
   ],
   "source": [
    "df.describe()"
   ]
  },
  {
   "cell_type": "markdown",
   "metadata": {},
   "source": [
    "<div style=\"border:1px solid black; padding:10px\">\n",
    "<font color=\"blue\">Note:</font><br>\n",
    "There seems to be an error with in the City top value. Of is not a city.\n",
    "</div>"
   ]
  },
  {
   "cell_type": "markdown",
   "metadata": {},
   "source": [
    "## Evaluate the <code>Of</code> error in the dataset"
   ]
  },
  {
   "cell_type": "code",
   "execution_count": 16,
   "metadata": {},
   "outputs": [
    {
     "data": {
      "text/html": [
       "<div>\n",
       "<style scoped>\n",
       "    .dataframe tbody tr th:only-of-type {\n",
       "        vertical-align: middle;\n",
       "    }\n",
       "\n",
       "    .dataframe tbody tr th {\n",
       "        vertical-align: top;\n",
       "    }\n",
       "\n",
       "    .dataframe thead th {\n",
       "        text-align: right;\n",
       "    }\n",
       "</style>\n",
       "<table border=\"1\" class=\"dataframe\">\n",
       "  <thead>\n",
       "    <tr style=\"text-align: right;\">\n",
       "      <th></th>\n",
       "      <th>Headline</th>\n",
       "      <th>City</th>\n",
       "      <th>Country</th>\n",
       "    </tr>\n",
       "  </thead>\n",
       "  <tbody>\n",
       "    <tr>\n",
       "      <th>53</th>\n",
       "      <td>Case of Measles Reported in Vancouver</td>\n",
       "      <td>Of</td>\n",
       "      <td>None</td>\n",
       "    </tr>\n",
       "    <tr>\n",
       "      <th>74</th>\n",
       "      <td>Authorities are Worried about the Spread of Br...</td>\n",
       "      <td>Of</td>\n",
       "      <td>None</td>\n",
       "    </tr>\n",
       "    <tr>\n",
       "      <th>80</th>\n",
       "      <td>Authorities are Worried about the Spread of Ma...</td>\n",
       "      <td>Of</td>\n",
       "      <td>None</td>\n",
       "    </tr>\n",
       "    <tr>\n",
       "      <th>84</th>\n",
       "      <td>Rochester authorities confirmed the spread of ...</td>\n",
       "      <td>Of</td>\n",
       "      <td>None</td>\n",
       "    </tr>\n",
       "    <tr>\n",
       "      <th>109</th>\n",
       "      <td>Tokyo Encounters Severe Symptoms of Meningitis</td>\n",
       "      <td>Of</td>\n",
       "      <td>None</td>\n",
       "    </tr>\n",
       "  </tbody>\n",
       "</table>\n",
       "</div>"
      ],
      "text/plain": [
       "                                              Headline City Country\n",
       "53               Case of Measles Reported in Vancouver   Of    None\n",
       "74   Authorities are Worried about the Spread of Br...   Of    None\n",
       "80   Authorities are Worried about the Spread of Ma...   Of    None\n",
       "84   Rochester authorities confirmed the spread of ...   Of    None\n",
       "109     Tokyo Encounters Severe Symptoms of Meningitis   Of    None"
      ]
     },
     "execution_count": 16,
     "metadata": {},
     "output_type": "execute_result"
    }
   ],
   "source": [
    "df[df[\"City\"]=='Of'].head()"
   ]
  },
  {
   "cell_type": "markdown",
   "metadata": {},
   "source": [
    "<div style=\"border:1px solid black; padding:10px\">\n",
    "<font color=\"blue\">Note:</font><br>\n",
    "There are 45 (7%) instances that have 'Of' listed as a City. This is a mistake. <br>\n",
    "    These headlines have real cities that are not captured.\n",
    "    Some headline may have more than one city listed.\n",
    "</div>"
   ]
  },
  {
   "cell_type": "markdown",
   "metadata": {},
   "source": [
    "<hr style=\"border-top: 2px solid black;\">"
   ]
  },
  {
   "cell_type": "markdown",
   "metadata": {},
   "source": [
    "# Fix Erroneaous City Output\n",
    "\n",
    " - Create a function that returns a set containing all the cities listed in a headline.\n",
    " - Apply function to city column and create a new column that contains all the cities found in a given headline\n",
    " - Create a new column that contains the count of the number of cities counted in a headline\n",
    " - Determine the number of headlines with more than one city"
   ]
  },
  {
   "cell_type": "code",
   "execution_count": 17,
   "metadata": {},
   "outputs": [],
   "source": [
    "# The headlines will be a parameter\n",
    "def get_cities_in_headline(headline):\n",
    "    # Create an empty set (sets do not contain duplicates)\n",
    "    cities_in_headline = set()\n",
    "    # Iterate through each city_to_name dictionary that was created earlier\n",
    "    for regex, name in city_to_name.items():\n",
    "    # Use regex.search() to find all instances in the headline that match        \n",
    "        match = regex.search(headline)\n",
    "    # if there is a match (True)   \n",
    "        if match:\n",
    "                # then it will check if the first index character is uppercase      \n",
    "            if headline[match.start()].isupper():\n",
    "                # If it is uppercase, it will add the name to the set\n",
    "                cities_in_headline.add(name)\n",
    "    #  Return the set\n",
    "    return list(cities_in_headline)"
   ]
  },
  {
   "cell_type": "code",
   "execution_count": 18,
   "metadata": {},
   "outputs": [],
   "source": [
    "# Apply the get_cities_in_headline(headline) to the df and create a new column\n",
    "df['Cities'] = df['Headline'].apply(get_cities_in_headline)"
   ]
  },
  {
   "cell_type": "code",
   "execution_count": 19,
   "metadata": {},
   "outputs": [],
   "source": [
    "# Then create a new column that counts the number of cities listed in each headline\n",
    "df['Num_cities'] = df['Cities'].apply(len)"
   ]
  },
  {
   "cell_type": "code",
   "execution_count": 20,
   "metadata": {},
   "outputs": [],
   "source": [
    "# Filter dataframe for those headlines with more than 1 city\n",
    "df_multiple_cities = df[df.Num_cities > 1]"
   ]
  },
  {
   "cell_type": "code",
   "execution_count": 21,
   "metadata": {},
   "outputs": [
    {
     "name": "stdout",
     "output_type": "stream",
     "text": [
      "69 headlines match multiple cities\n"
     ]
    }
   ],
   "source": [
    "num_rows, _ = df_multiple_cities.shape\n",
    "print(f\"{num_rows} headlines match multiple cities\")"
   ]
  },
  {
   "cell_type": "markdown",
   "metadata": {},
   "source": [
    "# Update the City column that contains more than 1 entry, and restrict that entry to the name of the city that has the longest name.\n",
    "\n",
    " - This will remove the 'Of' or incomplete cities\n",
    " - Create a function that returns the longest name in the cities"
   ]
  },
  {
   "cell_type": "code",
   "execution_count": 22,
   "metadata": {},
   "outputs": [],
   "source": [
    "# Function takes in the cities parameter (this column has either just a city, or cities listed)\n",
    "def get_longest_city(cities):\n",
    "    if cities:\n",
    "        return max(cities, key=len)\n",
    "# if there is not city in cities (some headlines only have countries), then return none\n",
    "    return None"
   ]
  },
  {
   "cell_type": "code",
   "execution_count": 23,
   "metadata": {},
   "outputs": [],
   "source": [
    "# Apply the get_longest_city function to the cities column and assign output to the city column\n",
    "df['City'] = df['Cities'].apply(get_longest_city)"
   ]
  },
  {
   "cell_type": "markdown",
   "metadata": {},
   "source": [
    "# Evaluate the Country Data"
   ]
  },
  {
   "cell_type": "code",
   "execution_count": 24,
   "metadata": {},
   "outputs": [
    {
     "name": "stdout",
     "output_type": "stream",
     "text": [
      "             City    Country                                           Headline\n",
      "           Recife     Brazil            Mystery Virus Spreads in Recife, Brazil\n",
      " Ho Chi Minh City    Vietnam     Zika cases in Vietnam's Ho Chi Minh City surge\n",
      "          Bangkok   Thailand                     Thailand-Zika Virus in Bangkok\n",
      "       Piracicaba     Brazil                Zika outbreak in Piracicaba, Brazil\n",
      "            Klang   Malaysia                   Zika surfaces in Klang, Malaysia\n",
      "   Guatemala City  Guatemala  Rumors about Meningitis spreading in Guatemala...\n",
      "      Belize City     Belize                 Belize City under threat from Zika\n",
      "         Campinas     Brazil                   Student sick in Campinas, Brazil\n",
      "      Mexico City     Mexico               Zika outbreak spreads to Mexico City\n",
      "    Kota Kinabalu   Malaysia           New Zika Case in Kota Kinabalu, Malaysia\n",
      "      Johor Bahru   Malaysia                 Zika reaches Johor Bahru, Malaysia\n",
      "        Hong Kong  Hong Kong                    Norovirus Exposure in Hong Kong\n",
      "      Panama City     Panama                    Outbreak of Zika in Panama City\n",
      "        Singapore  Singapore                  Zika cases in Singapore reach 393\n",
      "      Panama City     Panama             Panama City’s first Zika related death\n"
     ]
    }
   ],
   "source": [
    "# create a countries dataframe that filters out all instances in the original dataframe that had None for country\n",
    "df_countries = df[df.Country.notnull()][['City',\n",
    "                                         'Country',\n",
    "                                         'Headline']]\n",
    "print(df_countries.to_string(index=False))"
   ]
  },
  {
   "cell_type": "markdown",
   "metadata": {},
   "source": [
    "# Identify Instances with no data (no country or city name)"
   ]
  },
  {
   "cell_type": "code",
   "execution_count": 25,
   "metadata": {},
   "outputs": [
    {
     "name": "stdout",
     "output_type": "stream",
     "text": [
      "39\n",
      "[['Louisiana Zika cases up to 26']\n",
      " ['Zika infects pregnant woman in Cebu']\n",
      " ['Spanish Flu Sighted in Antigua']\n",
      " ['Zika case reported in Oton']\n",
      " ['Hillsborough uses innovative trap against Zika 20 minutes ago']\n",
      " ['Maka City Experiences Influenza Outbreak']\n",
      " ['West Nile Virus Outbreak in Saint Johns']\n",
      " ['Malaria Exposure in Sussex']\n",
      " ['Greenwich Establishes Zika Task Force']\n",
      " ['Will West Nile Virus vaccine help Parsons?']]\n"
     ]
    }
   ],
   "source": [
    "df_unmatched = df[df.City.isnull()]\n",
    "num_unmatched = len(df_unmatched)\n",
    "print(f\"{num_unmatched}\")\n",
    "print(df_unmatched.head(10)[['Headline']].values)"
   ]
  },
  {
   "cell_type": "markdown",
   "metadata": {},
   "source": [
    "<div style=\"border:1px solid black; padding:10px\">\n",
    "<font color=\"blue\">Note:</font><br>\n",
    "There are 39 (6-7%) instances that have a city that could not be matched to the GeoNamesCache.<br>\n",
    "These instances will be dropped in this analysis.\n",
    "</div>"
   ]
  },
  {
   "cell_type": "code",
   "execution_count": 26,
   "metadata": {},
   "outputs": [],
   "source": [
    "df = df[~df.City.isnull()][['City', 'Headline', 'Country']]"
   ]
  },
  {
   "cell_type": "markdown",
   "metadata": {},
   "source": [
    "<hr style=\"border-top: 2px solid black;\">"
   ]
  },
  {
   "cell_type": "markdown",
   "metadata": {},
   "source": [
    "# Get and Assign the Latitude and Longitude to each instance in dataframe using <code>get_cities_by_name(city)</code>\n",
    "\n",
    " - method can be used to return the coordinates of the city input"
   ]
  },
  {
   "cell_type": "code",
   "execution_count": 27,
   "metadata": {},
   "outputs": [],
   "source": [
    "# Create two empty lists for the coodinates\n",
    "latitudes, longitudes = [], []"
   ]
  },
  {
   "cell_type": "code",
   "execution_count": 28,
   "metadata": {},
   "outputs": [],
   "source": [
    "# Use a for loop to iterate through each value of the city column (each city)\n",
    "for city_name in df.City.values:\n",
    "    # Get the city with the largest population size\n",
    "    city = max(gc.get_cities_by_name(city_name),\n",
    "              key=lambda x: list(x.values())[0]['population'])\n",
    "    # Get the first instance of this list\n",
    "    city = list(city.values())[0]\n",
    "    # Extracts the coordinates and appends to list\n",
    "    latitudes.append(city['latitude'])\n",
    "    longitudes.append(city['longitude'])"
   ]
  },
  {
   "cell_type": "code",
   "execution_count": 29,
   "metadata": {},
   "outputs": [],
   "source": [
    "# Use the dataframe.assign() method to create two new columns and add the values there\n",
    "df = df.assign(Latitude=latitudes, Longitude=longitudes)"
   ]
  },
  {
   "cell_type": "markdown",
   "metadata": {},
   "source": [
    "# Inspect Data"
   ]
  },
  {
   "cell_type": "code",
   "execution_count": 30,
   "metadata": {},
   "outputs": [
    {
     "data": {
      "text/html": [
       "<div>\n",
       "<style scoped>\n",
       "    .dataframe tbody tr th:only-of-type {\n",
       "        vertical-align: middle;\n",
       "    }\n",
       "\n",
       "    .dataframe tbody tr th {\n",
       "        vertical-align: top;\n",
       "    }\n",
       "\n",
       "    .dataframe thead th {\n",
       "        text-align: right;\n",
       "    }\n",
       "</style>\n",
       "<table border=\"1\" class=\"dataframe\">\n",
       "  <thead>\n",
       "    <tr style=\"text-align: right;\">\n",
       "      <th></th>\n",
       "      <th>City</th>\n",
       "      <th>Headline</th>\n",
       "      <th>Country</th>\n",
       "      <th>Latitude</th>\n",
       "      <th>Longitude</th>\n",
       "    </tr>\n",
       "  </thead>\n",
       "  <tbody>\n",
       "    <tr>\n",
       "      <th>0</th>\n",
       "      <td>Miami</td>\n",
       "      <td>Zika Outbreak Hits Miami</td>\n",
       "      <td>None</td>\n",
       "      <td>25.77427</td>\n",
       "      <td>-80.19366</td>\n",
       "    </tr>\n",
       "    <tr>\n",
       "      <th>1</th>\n",
       "      <td>New York City</td>\n",
       "      <td>Could Zika Reach New York City?</td>\n",
       "      <td>None</td>\n",
       "      <td>40.71427</td>\n",
       "      <td>-74.00597</td>\n",
       "    </tr>\n",
       "    <tr>\n",
       "      <th>2</th>\n",
       "      <td>Miami Beach</td>\n",
       "      <td>First Case of Zika in Miami Beach</td>\n",
       "      <td>None</td>\n",
       "      <td>25.79065</td>\n",
       "      <td>-80.13005</td>\n",
       "    </tr>\n",
       "    <tr>\n",
       "      <th>3</th>\n",
       "      <td>Recife</td>\n",
       "      <td>Mystery Virus Spreads in Recife, Brazil</td>\n",
       "      <td>Brazil</td>\n",
       "      <td>-8.05389</td>\n",
       "      <td>-34.88111</td>\n",
       "    </tr>\n",
       "    <tr>\n",
       "      <th>4</th>\n",
       "      <td>Dallas</td>\n",
       "      <td>Dallas man comes down with case of Zika</td>\n",
       "      <td>None</td>\n",
       "      <td>32.78306</td>\n",
       "      <td>-96.80667</td>\n",
       "    </tr>\n",
       "  </tbody>\n",
       "</table>\n",
       "</div>"
      ],
      "text/plain": [
       "            City                                 Headline Country  Latitude  \\\n",
       "0          Miami                 Zika Outbreak Hits Miami    None  25.77427   \n",
       "1  New York City          Could Zika Reach New York City?    None  40.71427   \n",
       "2    Miami Beach        First Case of Zika in Miami Beach    None  25.79065   \n",
       "3         Recife  Mystery Virus Spreads in Recife, Brazil  Brazil  -8.05389   \n",
       "4         Dallas  Dallas man comes down with case of Zika    None  32.78306   \n",
       "\n",
       "   Longitude  \n",
       "0  -80.19366  \n",
       "1  -74.00597  \n",
       "2  -80.13005  \n",
       "3  -34.88111  \n",
       "4  -96.80667  "
      ]
     },
     "execution_count": 30,
     "metadata": {},
     "output_type": "execute_result"
    }
   ],
   "source": [
    "df.head()"
   ]
  },
  {
   "cell_type": "code",
   "execution_count": 31,
   "metadata": {},
   "outputs": [
    {
     "name": "stdout",
     "output_type": "stream",
     "text": [
      "Stored 'df' (DataFrame)\n",
      "Stored 'gc' (GeonamesCache)\n",
      "Stored 'headlines' (list)\n"
     ]
    }
   ],
   "source": [
    "# Store variables\n",
    "%store df\n",
    "%store gc\n",
    "%store headlines"
   ]
  },
  {
   "cell_type": "markdown",
   "metadata": {},
   "source": [
    "<hr style=\"border-top: 2px solid black;\">"
   ]
  }
 ],
 "metadata": {
  "kernelspec": {
   "display_name": "Python 3",
   "language": "python",
   "name": "python3"
  },
  "language_info": {
   "codemirror_mode": {
    "name": "ipython",
    "version": 3
   },
   "file_extension": ".py",
   "mimetype": "text/x-python",
   "name": "python",
   "nbconvert_exporter": "python",
   "pygments_lexer": "ipython3",
   "version": "3.7.6"
  }
 },
 "nbformat": 4,
 "nbformat_minor": 2
}

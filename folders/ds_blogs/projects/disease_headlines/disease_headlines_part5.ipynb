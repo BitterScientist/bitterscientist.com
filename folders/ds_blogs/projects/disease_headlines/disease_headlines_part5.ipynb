{
 "cells": [
  {
   "cell_type": "markdown",
   "metadata": {},
   "source": [
    "<div style=\"border:2px solid black; padding:10px\">\n",
    "    \n",
    "# <font color=\"blue\">Objective: </font>Extract the headlines that represent the most central location in the cluster\n",
    "</div>"
   ]
  },
  {
   "cell_type": "markdown",
   "metadata": {},
   "source": [
    "# Import Dependencies"
   ]
  },
  {
   "cell_type": "code",
   "execution_count": 1,
   "metadata": {},
   "outputs": [
    {
     "name": "stdout",
     "output_type": "stream",
     "text": [
      "Importing Jupyter notebook from disease_headlines_part3.ipynb\n"
     ]
    }
   ],
   "source": [
    "import pandas as pd\n",
    "from collections import Counter\n",
    "\n",
    "# Geolocation information\n",
    "from geonamescache import GeonamesCache\n",
    "\n",
    "# ignore all future warnings\n",
    "from warnings import simplefilter\n",
    "simplefilter(action='ignore', category=FutureWarning)\n",
    "\n",
    "\n",
    "# Import data\n",
    "%store -r gc\n",
    "%store -r largest_group\n",
    "%store -r sorted_groups\n",
    "\n",
    "# Import functions from other jupyter notebook\n",
    "import nbimporter\n",
    "from disease_headlines_part3 import great_circle_distance"
   ]
  },
  {
   "cell_type": "markdown",
   "metadata": {},
   "source": [
    "<hr style=\"border-top: 2px solid black;\">"
   ]
  },
  {
   "cell_type": "markdown",
   "metadata": {},
   "source": [
    "### Extract the headlines that represent the most central location in the cluster\n",
    "\n",
    " - This assumes that these would be the most represenative headlines\n",
    " - Mitigates having to read each headline individually"
   ]
  },
  {
   "cell_type": "markdown",
   "metadata": {},
   "source": [
    "### Function to get the estimated center of a cluster"
   ]
  },
  {
   "cell_type": "code",
   "execution_count": 2,
   "metadata": {},
   "outputs": [],
   "source": [
    "# Computing cluster centrality\n",
    "# This function essentially just gives us the average coordinate per cluster\n",
    "# This function takes a grouped dataframe as a parameter\n",
    "# It then outputs the dataframe with a new column containing \n",
    "# the estimated distance to the central coordinate\n",
    "def compute_centrality(group):\n",
    "    group_coords = group[['Latitude', 'Longitude']].values\n",
    "    center = group_coords.mean(axis=0)\n",
    "    distance_to_center = [great_circle_distance(center, coord)\n",
    "                          for coord in group_coords]\n",
    "    group['Distance_to_center'] = distance_to_center"
   ]
  },
  {
   "cell_type": "markdown",
   "metadata": {},
   "source": [
    "### Function that prints out 5 headlines that are near the center of the cluster"
   ]
  },
  {
   "cell_type": "code",
   "execution_count": 3,
   "metadata": {},
   "outputs": [
    {
     "name": "stdout",
     "output_type": "stream",
     "text": [
      "Mad Cow Disease Disastrous to Brussels\n",
      "Scientists in Paris to look for answers\n",
      "More Livestock in Fontainebleau are infected with Mad Cow Disease\n",
      "Mad Cow Disease Hits Rotterdam\n",
      "Contaminated Meat Brings Trouble for Bonn Farmers\n"
     ]
    }
   ],
   "source": [
    "# Finding the central headlines in largest cluster\n",
    "# Function takes in a grouped dataframe\n",
    "#  Applies the function that computes the estimated center coordinates\n",
    "# It then sorts the dataframe by the distance to the center\n",
    "# Returns new dataframe\n",
    "def sort_by_centrality(group):\n",
    "    compute_centrality(group)\n",
    "    return group.sort_values(by=['Distance_to_center'], ascending=True)\n",
    "\n",
    "# This code applies these functions on the largest_group data that \n",
    "# was extracted earlier.\n",
    "# It then prints out the 5 headlines closest to the estimated center of the\n",
    "# Cluster\n",
    "largest_group = sort_by_centrality(largest_group)\n",
    "for headline in largest_group.Headline.values[:5]:\n",
    "    print(headline)"
   ]
  },
  {
   "cell_type": "markdown",
   "metadata": {},
   "source": [
    "<div style=\"border:1px solid black; padding:10px\">\n",
    "<font color=\"blue\">Note:</font><br>\n",
    "The headlines nearest to the center of the largest cluster focus on mad cow disease, which was an issue during this time.<br>\n",
    "Appears these are countries in Europe, will need to confirm.\n",
    "</div>"
   ]
  },
  {
   "cell_type": "markdown",
   "metadata": {},
   "source": [
    "### Confirm these mad cow headlines are clustered in Europe"
   ]
  },
  {
   "cell_type": "code",
   "execution_count": 4,
   "metadata": {},
   "outputs": [
    {
     "name": "stdout",
     "output_type": "stream",
     "text": [
      "[('United Kingdom', 19), ('France', 7), ('Germany', 6)]\n"
     ]
    }
   ],
   "source": [
    "# Function takes in a grouped dataframe, and then gets the country code\n",
    "# For each country name, and returns the top 3 most frequent country names\n",
    "def top_countries(group):\n",
    "    countries = [gc.get_countries()[Country_code]['name']\n",
    "                 for Country_code in group.Country_code.values]\n",
    "    return Counter(countries).most_common(3)\n",
    "\n",
    "\n",
    "print(top_countries(largest_group))"
   ]
  },
  {
   "cell_type": "markdown",
   "metadata": {},
   "source": [
    "<div style=\"border:1px solid black; padding:10px\">\n",
    "<font color=\"blue\">Note:</font><br>\n",
    "UK has the highest number of headlines in Europe, followed by France and then germany</div>"
   ]
  },
  {
   "cell_type": "markdown",
   "metadata": {},
   "source": [
    "### Analyze the next four largest top non-us cluster using the <code>sorted_groups</code> dataframe"
   ]
  },
  {
   "cell_type": "code",
   "execution_count": 5,
   "metadata": {},
   "outputs": [
    {
     "name": "stdout",
     "output_type": "stream",
     "text": [
      "[('Philippines', 15)]\n",
      "Zika afflicts patient in Calamba\n",
      "Hepatitis E re-emerges in Santa Rosa\n",
      "Batangas Tourism Takes a Hit as Virus Spreads\n",
      "More Zika patients reported in Indang\n",
      "Spreading Zika reaches Bacoor\n",
      "\n",
      "\n",
      "[('El Salvador', 3), ('Honduras', 2), ('Nicaragua', 2)]\n",
      "Zika arrives in Tegucigalpa\n",
      "Santa Barbara tests new cure for Hepatitis C\n",
      "Zika Reported in Ilopango\n",
      "More Zika cases in Soyapango\n",
      "Zika worries in San Salvador\n",
      "\n",
      "\n",
      "[('Thailand', 5), ('Cambodia', 3), ('Vietnam', 2)]\n",
      "More Zika patients reported in Chanthaburi\n",
      "Thailand-Zika Virus in Bangkok\n",
      "Zika case reported in Phetchabun\n",
      "Zika arrives in Udon Thani\n",
      "More Zika patients reported in Kampong Speu\n",
      "\n",
      "\n",
      "[('Spain', 8), ('Portugal', 2), ('Morocco', 1)]\n",
      "Spanish flu spreading in Madrid\n",
      "Rabies Hits Madrid\n",
      "Spanish Flu Spreading through Madrid\n",
      "Spanish Flu Spreading through Madrid\n",
      "Zika Troubles come to Jaen\n",
      "\n",
      "\n"
     ]
    }
   ],
   "source": [
    "# extracts the clustered groups from the top sorted clusters\n",
    "for _, group in sorted_groups[1:5]:\n",
    "    sorted_group = sort_by_centrality(group)\n",
    "    print(top_countries(sorted_group))\n",
    "    for headline in sorted_group.Headline.values[:5]:\n",
    "        print(headline)\n",
    "    print('\\n')"
   ]
  },
  {
   "cell_type": "markdown",
   "metadata": {},
   "source": [
    "<div style=\"border:1px solid black; padding:10px\">\n",
    "<font color=\"blue\">Note:</font><br>\n",
    "Madcow seems to be a concern in Europe while Zika in Southeast Asia and in Central America.</div>"
   ]
  }
 ],
 "metadata": {
  "kernelspec": {
   "display_name": "Python 3",
   "language": "python",
   "name": "python3"
  },
  "language_info": {
   "codemirror_mode": {
    "name": "ipython",
    "version": 3
   },
   "file_extension": ".py",
   "mimetype": "text/x-python",
   "name": "python",
   "nbconvert_exporter": "python",
   "pygments_lexer": "ipython3",
   "version": "3.7.6"
  }
 },
 "nbformat": 4,
 "nbformat_minor": 2
}

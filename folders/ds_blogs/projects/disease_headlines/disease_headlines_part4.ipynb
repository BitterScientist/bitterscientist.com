{
 "cells": [
  {
   "cell_type": "markdown",
   "metadata": {},
   "source": [
    "<div style=\"border:2px solid black; padding:10px\">\n",
    "    \n",
    "# <font color=\"blue\">Objective: </font>Compare US data to the rest of the world\n",
    "</div>"
   ]
  },
  {
   "cell_type": "markdown",
   "metadata": {},
   "source": [
    "# Import Dependencies"
   ]
  },
  {
   "cell_type": "code",
   "execution_count": 1,
   "metadata": {},
   "outputs": [
    {
     "name": "stdout",
     "output_type": "stream",
     "text": [
      "Importing Jupyter notebook from disease_headlines_part3.ipynb\n"
     ]
    }
   ],
   "source": [
    "import pandas as pd\n",
    "\n",
    "# DBSCAN: A Clustering Algorithm for Grouping Data Based on Spatial Density\n",
    "from sklearn.cluster import DBSCAN\n",
    "\n",
    "# ignore all future warnings\n",
    "from warnings import simplefilter\n",
    "simplefilter(action='ignore', category=FutureWarning)\n",
    "\n",
    "# Displaying pandas columns and rows\n",
    "pd.set_option('display.max_rows', None)\n",
    "pd.set_option('display.max_columns', None)\n",
    "\n",
    "# Import data\n",
    "%store -r df\n",
    "%store -r gc\n",
    "\n",
    "# Import functions from other jupyter notebook\n",
    "import nbimporter\n",
    "from disease_headlines_part3 import great_circle_distance"
   ]
  },
  {
   "cell_type": "markdown",
   "metadata": {},
   "source": [
    "<hr style=\"border-top: 2px solid black;\">"
   ]
  },
  {
   "cell_type": "markdown",
   "metadata": {},
   "source": [
    "# Compare US data to the rest of the world\n",
    "\n",
    "- re-cluster US cities by modifying epsilon parameter"
   ]
  },
  {
   "cell_type": "code",
   "execution_count": 2,
   "metadata": {},
   "outputs": [],
   "source": [
    "#  This function will map a country code to a city\n",
    "def get_country_code(city_name):\n",
    "    city = max(gc.get_cities_by_name(city_name),\n",
    "               key=lambda x: list(x.values())[0]['population'])\n",
    "    return list(city.values())[0]['countrycode']\n",
    "\n",
    "# Apply the country code a new column in the entire dataframe\n",
    "# This country code will then be used to filter out US\n",
    "df['Country_code'] = df.City.apply(get_country_code)"
   ]
  },
  {
   "cell_type": "code",
   "execution_count": 3,
   "metadata": {},
   "outputs": [],
   "source": [
    "# Separate US data from other countries\n",
    "us_df = df[df.Country_code == 'US']\n",
    "df_not_us = df[df.Country_code != 'US']"
   ]
  },
  {
   "cell_type": "markdown",
   "metadata": {},
   "source": [
    "### Re-clustering function"
   ]
  },
  {
   "cell_type": "code",
   "execution_count": 4,
   "metadata": {},
   "outputs": [],
   "source": [
    "# Re-clustering function that takes in a dataframe and the eps: \n",
    "# The eps defines the distance between clusters\n",
    "def re_cluster(input_df, eps):\n",
    "    input_coord = input_df[['Latitude', 'Longitude']].values\n",
    "    dbscan = DBSCAN(eps=eps, min_samples=3,\n",
    "                    metric=great_circle_distance)\n",
    "    clusters = dbscan.fit_predict(input_coord)\n",
    "    input_df = input_df.assign(Cluster=clusters)\n",
    "    return input_df[input_df.Cluster > -1]"
   ]
  },
  {
   "cell_type": "code",
   "execution_count": 5,
   "metadata": {},
   "outputs": [],
   "source": [
    "# Apply function to US filtered data and all other countries\n",
    "# Reduce the disntace (eps) for the US so to get a tighter density\n",
    "df_not_us = re_cluster(df_not_us, 250)\n",
    "us_df = re_cluster(us_df, 125)"
   ]
  },
  {
   "cell_type": "markdown",
   "metadata": {},
   "source": [
    "### Evaluate grouped data\n",
    " - Determine how many clusters are in the non-us countries and US\n",
    " - Find the largest cluster (nbr of headlines)"
   ]
  },
  {
   "cell_type": "code",
   "execution_count": 6,
   "metadata": {},
   "outputs": [
    {
     "name": "stdout",
     "output_type": "stream",
     "text": [
      "31 Non-US have been clusters detected\n"
     ]
    }
   ],
   "source": [
    "# Group the non US dataset by the cluster\n",
    "groups = df_not_us.groupby('Cluster')\n",
    "num_groups = len(groups)\n",
    "print(f\"{num_groups} Non-US have been clusters detected\")"
   ]
  },
  {
   "cell_type": "markdown",
   "metadata": {},
   "source": [
    "### Return the data from the largest cluster <code>largest_group</code>"
   ]
  },
  {
   "cell_type": "code",
   "execution_count": 7,
   "metadata": {},
   "outputs": [
    {
     "name": "stdout",
     "output_type": "stream",
     "text": [
      "Largest cluster contains 51 headlines\n"
     ]
    }
   ],
   "source": [
    "sorted_groups = sorted(groups, key=lambda x: len(x[1]),\n",
    "                       reverse=True)\n",
    "group_id, largest_group = sorted_groups[0]\n",
    "group_size = len(largest_group)\n",
    "print(f\"Largest cluster contains {group_size} headlines\")"
   ]
  },
  {
   "cell_type": "markdown",
   "metadata": {},
   "source": [
    "<div style=\"border:1px solid black; padding:10px\">\n",
    "<font color=\"blue\">Note:</font><br>\n",
    "There are 31 clusters of headlines outside the US. <br>\n",
    "The largest cluster contains 51 headlines.<br>\n",
    "</div>"
   ]
  },
  {
   "cell_type": "code",
   "execution_count": 8,
   "metadata": {},
   "outputs": [
    {
     "name": "stdout",
     "output_type": "stream",
     "text": [
      "Stored 'df_not_us' (DataFrame)\n",
      "Stored 'us_df' (DataFrame)\n",
      "Stored 'groups' (DataFrameGroupBy)\n",
      "Stored 'largest_group' (DataFrame)\n",
      "Stored 'sorted_groups' (list)\n"
     ]
    }
   ],
   "source": [
    "# Store variables\n",
    "%store df_not_us\n",
    "%store us_df\n",
    "%store groups\n",
    "%store largest_group\n",
    "%store sorted_groups"
   ]
  }
 ],
 "metadata": {
  "kernelspec": {
   "display_name": "Python 3",
   "language": "python",
   "name": "python3"
  },
  "language_info": {
   "codemirror_mode": {
    "name": "ipython",
    "version": 3
   },
   "file_extension": ".py",
   "mimetype": "text/x-python",
   "name": "python",
   "nbconvert_exporter": "python",
   "pygments_lexer": "ipython3",
   "version": "3.7.6"
  }
 },
 "nbformat": 4,
 "nbformat_minor": 2
}

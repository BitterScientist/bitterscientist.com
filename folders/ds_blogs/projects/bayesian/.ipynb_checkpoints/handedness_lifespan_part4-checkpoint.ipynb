{
 "cells": [
  {
   "cell_type": "markdown",
   "metadata": {},
   "source": [
    "<hr style=\"border-top: 3px solid black;\">"
   ]
  },
  {
   "cell_type": "markdown",
   "metadata": {},
   "source": [
    "# Import Dependencies"
   ]
  },
  {
   "cell_type": "code",
   "execution_count": 1,
   "metadata": {},
   "outputs": [
    {
     "name": "stdout",
     "output_type": "stream",
     "text": [
      "Importing Jupyter notebook from handedness_lifespan_part3.ipynb\n"
     ]
    }
   ],
   "source": [
    "import pandas as pd\n",
    "import numpy as np\n",
    "\n",
    "# To plot pretty figures directly within Jupyter\n",
    "%matplotlib inline\n",
    "import matplotlib as mpl\n",
    "import matplotlib.pyplot as plt\n",
    "mpl.rc('axes', labelsize=14)\n",
    "mpl.rc('xtick', labelsize=12)\n",
    "mpl.rc('ytick', labelsize=12)\n",
    "\n",
    "# load data\n",
    "%store -r study_year\n",
    "%store -r lefthanded_data\n",
    "%store -r death_distribution_data\n",
    "\n",
    "import nbimporter\n",
    "from handedness_lifespan_part3 import P_dying_LH_given_A, P_Left_Handed"
   ]
  },
  {
   "cell_type": "markdown",
   "metadata": {},
   "source": [
    "<hr style=\"border-top: 3px solid black;\">"
   ]
  },
  {
   "cell_type": "markdown",
   "metadata": {},
   "source": [
    "# Create a Function to Calculate the Probability of Dying while Left-Handed <code>P (A | LH)</code> and Right-Handed <code>P (A | RH)</code>"
   ]
  },
  {
   "cell_type": "markdown",
   "metadata": {},
   "source": [
    "<ul>What we have so far:\n",
    "    <li>P(A)</li>\n",
    "        <li>P(LH)</li>\n",
    "        <li>P(A)</li>\n",
    "    <li>P(LH | A)</li>\n",
    "</ul>\n",
    "\n",
    "<p><strong>Next Steps</strong><br>\n",
    "Use Bayes' rule to get the probability of being age A at death (in the study year) given that you're:\n",
    "    <ul>\n",
    "        <li><code>P(A | LH)</code> left-handed</li>\n",
    "        <li><code>P(A | RH)</code>right-handed</li>  \n",
    "</ul>        \n",
    "</p>"
   ]
  },
  {
   "cell_type": "markdown",
   "metadata": {},
   "source": [
    "## Probability of being age A at death (in the study year) given that you're P(A | LH) left-handed"
   ]
  },
  {
   "cell_type": "markdown",
   "metadata": {},
   "source": [
    "<p>$$P(A | LH) = \\frac{P(LH|A) P(A)}{P(LH)}$$</p>"
   ]
  },
  {
   "cell_type": "code",
   "execution_count": 2,
   "metadata": {},
   "outputs": [],
   "source": [
    "def Prob_Age_given_lh(lefthanded_data, ages_of_death, death_distribution_data, study_year = 1990):\n",
    "    Prob_Age = death_distribution_data['Total_Deaths'][ages_of_death] / np.sum(death_distribution_data['Total_Deaths'])\n",
    "    # use P_lh function to get probability of left-handedness overall\n",
    "    P_left = P_Left_Handed(lefthanded_data, death_distribution_data, study_year)\n",
    "    # use P_lh_given_A to get probability of left-handedness for a certain age\n",
    "    P_lh_A = P_dying_LH_given_A(lefthanded_data, death_distribution_data['Age_At_Death'][ages_of_death],study_year)\n",
    "    return P_lh_A*Prob_Age/P_left"
   ]
  },
  {
   "cell_type": "markdown",
   "metadata": {},
   "source": [
    "<strong>Goal</strong><br>\n",
    "Calculate the probability of being age A at death (in the study year) given that you're either left handed.\n",
    "<br><br>\n",
    "<strong>Process</strong>\n",
    "<ol>\n",
    "    <li><code>Prob_Age = death_distribution_data['Total_Deaths'][ages_of_death] / np.sum(death_distribution_data['Total_Deaths'])</code> this code will return an array of probabilities (the proportion) or people that died at each age from 0 - 120.<br>\n",
    "</li><br>\n",
    "    <li>Evoke the function that calculates the probability that a person who died in our particular study year is left-handed <br>\n",
    "        <code>P_left = P_Left_Handed(death_distribution_data)</code>\n",
    "</li><br>\n",
    "    <li>Evoke the function that calculates the probability that a left handed person died at a specific age.<br>\n",
    "        <code>P_lh_A = P_dying_LH_given_A(death_distribution_data['Age_At_Death'],study_year)</code><br>\n",
    "    </li>\n",
    "    <li>Multiply the probability of dying at a given age by the probability of being left-handed at a given age<br>\n",
    "        <code>P_lh_A*Prob_Age</code>\n",
    "    </li>\n",
    "    <li>Finally, divide the previous calculation by the probability of being left handed, and return this value</li>\n",
    "    </ol>"
   ]
  },
  {
   "cell_type": "markdown",
   "metadata": {},
   "source": [
    "## Process Step 1: <br><br><strong><font color=\"red\">Code:</font></strong><code>Prob_Age = death_distribution_data['Total_Deaths'][ages_of_death] / np.sum(death_distribution_data['Total_Deaths'])</code><br><br><strong><font color=\"red\">What it does</font></strong>: returns an array that contains the total number of people that died for each age between 0 - 120"
   ]
  },
  {
   "cell_type": "code",
   "execution_count": 3,
   "metadata": {},
   "outputs": [
    {
     "data": {
      "text/plain": [
       "0        0\n",
       "1        1\n",
       "2        2\n",
       "3        3\n",
       "4        4\n",
       "      ... \n",
       "115    115\n",
       "117    117\n",
       "118    118\n",
       "119    119\n",
       "120    120\n",
       "Name: Age_At_Death, Length: 120, dtype: int64"
      ]
     },
     "execution_count": 3,
     "metadata": {},
     "output_type": "execute_result"
    }
   ],
   "source": [
    "# This code will return an array that contains the ages between 0 - 120\n",
    "ages_of_death = death_distribution_data.Age_At_Death\n",
    "ages_of_death"
   ]
  },
  {
   "cell_type": "code",
   "execution_count": 4,
   "metadata": {},
   "outputs": [
    {
     "data": {
      "text/plain": [
       "0      27937.0\n",
       "1       1989.0\n",
       "2       1376.0\n",
       "3       1046.0\n",
       "4        838.0\n",
       "        ...   \n",
       "115        3.0\n",
       "117        3.0\n",
       "118        1.0\n",
       "119        2.0\n",
       "120        1.0\n",
       "Name: Total_Deaths, Length: 120, dtype: float64"
      ]
     },
     "execution_count": 4,
     "metadata": {},
     "output_type": "execute_result"
    }
   ],
   "source": [
    "# This code will then return the total deaths for each age and stores it into an array named ages_of_death\n",
    "death_distribution_data['Total_Deaths'][ages_of_death]"
   ]
  },
  {
   "cell_type": "code",
   "execution_count": 5,
   "metadata": {},
   "outputs": [
    {
     "name": "stdout",
     "output_type": "stream",
     "text": [
      "The total number of deaths in this dataset is: 2391043.0\n"
     ]
    }
   ],
   "source": [
    "# This code sums up all the deaths\n",
    "print('The total number of deaths in this dataset is: {}'.format(np.sum(death_distribution_data['Total_Deaths'])))"
   ]
  },
  {
   "cell_type": "code",
   "execution_count": 6,
   "metadata": {},
   "outputs": [
    {
     "data": {
      "text/plain": [
       "0      1.168402e-02\n",
       "1      8.318546e-04\n",
       "2      5.754811e-04\n",
       "3      4.374660e-04\n",
       "4      3.504747e-04\n",
       "           ...     \n",
       "115    1.254683e-06\n",
       "117    1.254683e-06\n",
       "118    4.182275e-07\n",
       "119    8.364551e-07\n",
       "120    4.182275e-07\n",
       "Name: Total_Deaths, Length: 120, dtype: float64"
      ]
     },
     "execution_count": 6,
     "metadata": {},
     "output_type": "execute_result"
    }
   ],
   "source": [
    "# This code will divide the total number of deaths at each age, by the total number of people that died in the dataset, \n",
    "# and save the ratio into the array `Prob_Age`\n",
    "ages_of_death = death_distribution_data.Age_At_Death\n",
    "Prob_Age = death_distribution_data['Total_Deaths'][ages_of_death] / np.sum(death_distribution_data['Total_Deaths'])\n",
    "Prob_Age"
   ]
  },
  {
   "cell_type": "markdown",
   "metadata": {},
   "source": [
    "## Visualize the probability of dying at given age from <code>Prob_Age</code>"
   ]
  },
  {
   "cell_type": "code",
   "execution_count": 7,
   "metadata": {},
   "outputs": [
    {
     "data": {
      "image/png": "[encoded data removed]",
      "text/plain": [
       "<Figure size 576x576 with 1 Axes>"
      ]
     },
     "metadata": {
      "needs_background": "light"
     },
     "output_type": "display_data"
    }
   ],
   "source": [
    "Prob_Age_dict = {\"Prob_dying_by_age\" : Prob_Age, 'Age': death_distribution_data.Age_At_Death}\n",
    "fig, ax = plt.subplots(figsize=(8,8))\n",
    "ax.plot('Age', 'Prob_dying_by_age', data = Prob_Age_dict, marker='o') # plot 'Both Sexes' vs. 'Age'\n",
    "ax.set_xlabel('Age at Death') \n",
    "ax.set_ylabel('Probability of Dying at a Given Age')\n",
    "plt.show()"
   ]
  },
  {
   "cell_type": "markdown",
   "metadata": {},
   "source": [
    "## Process Step 2: <br><br><strong><font color=\"red\">Code:</font></strong><code>P_left = P_Left_Handed(death_distribution_data)</code><br><br><strong><font color=\"red\">What it does</font></strong>: calculates the probability that a person who died in our particular study year is left-handed."
   ]
  },
  {
   "cell_type": "code",
   "execution_count": 8,
   "metadata": {},
   "outputs": [
    {
     "data": {
      "text/plain": [
       "0.07766387615350638"
      ]
     },
     "execution_count": 8,
     "metadata": {},
     "output_type": "execute_result"
    }
   ],
   "source": [
    "P_left = P_Left_Handed(lefthanded_data, death_distribution_data, study_year=1990)\n",
    "P_left"
   ]
  },
  {
   "cell_type": "markdown",
   "metadata": {},
   "source": [
    "## Process Step 3: <br><br><strong><font color=\"red\">Code:</font></strong><code>P_lh_A = P_dying_LH_given_A(death_distribution_data['Age_At_Death'][ages_of_death],study_year)</code><br><br><strong><font color=\"red\">What it does</font></strong>: calculates the probability that a left handed person died at a specific age."
   ]
  },
  {
   "cell_type": "code",
   "execution_count": 9,
   "metadata": {},
   "outputs": [
    {
     "data": {
      "text/plain": [
       "array([0.13090615, 0.13090615, 0.13090615, 0.13090615, 0.13090615,\n",
       "       0.13090615, 0.13090615, 0.13090615, 0.13090615, 0.13090615,\n",
       "       0.124578  , 0.13231817, 0.1317876 , 0.12535093, 0.13364605,\n",
       "       0.13081958, 0.13103212, 0.13023483, 0.13453279, 0.13476138,\n",
       "       0.13758695, 0.13755217, 0.13401601, 0.13149261, 0.12868653,\n",
       "       0.12717081, 0.12210316, 0.13257706, 0.12744987, 0.12802655,\n",
       "       0.13086048, 0.12945637, 0.12969764, 0.125059  , 0.12811728,\n",
       "       0.12925186, 0.13089713, 0.13005413, 0.12463253, 0.12584601,\n",
       "       0.12266167, 0.12708746, 0.12119368, 0.12214977, 0.12579418,\n",
       "       0.12039146, 0.11946389, 0.11876431, 0.11545791, 0.10867741,\n",
       "       0.10607883, 0.10492997, 0.100238  , 0.10137892, 0.10019225,\n",
       "       0.10095186, 0.09576935, 0.0999348 , 0.09214568, 0.09096888,\n",
       "       0.08766035, 0.08550735, 0.08322044, 0.07580706, 0.07517361,\n",
       "       0.07748125, 0.0774286 , 0.07433365, 0.07336605, 0.0741282 ,\n",
       "       0.06709916, 0.07079239, 0.07081722, 0.06667784, 0.06165137,\n",
       "       0.06848461, 0.07364236, 0.0549534 , 0.06514281, 0.05188046,\n",
       "       0.06497902, 0.05983845, 0.06112551, 0.0607187 , 0.0614287 ,\n",
       "       0.07194713, 0.04870168, 0.06007159, 0.06007159, 0.06007159,\n",
       "       0.06007159, 0.06007159, 0.06007159, 0.06007159, 0.06007159,\n",
       "       0.06007159, 0.06007159, 0.06007159, 0.06007159, 0.06007159,\n",
       "       0.06007159, 0.06007159, 0.06007159, 0.06007159, 0.06007159,\n",
       "       0.06007159, 0.06007159, 0.06007159, 0.06007159, 0.06007159,\n",
       "       0.06007159, 0.06007159, 0.06007159, 0.06007159, 0.06007159,\n",
       "       0.06007159, 0.06007159, 0.06007159, 0.06007159, 0.06007159])"
      ]
     },
     "execution_count": 9,
     "metadata": {},
     "output_type": "execute_result"
    }
   ],
   "source": [
    "ages_of_death = death_distribution_data.Age_At_Death\n",
    "P_lh_A = P_dying_LH_given_A(lefthanded_data, death_distribution_data['Age_At_Death'][ages_of_death],study_year)\n",
    "P_lh_A"
   ]
  },
  {
   "cell_type": "markdown",
   "metadata": {},
   "source": [
    "## Process Step 4: <br><br><strong><font color=\"red\">Code:</font></strong><code>P_lh_A*Prob_Age</code><br><br><strong><font color=\"red\">What it does</font></strong>: multiply the probability that a left handed person died at a specific age, by the probability of dying at a given age"
   ]
  },
  {
   "cell_type": "code",
   "execution_count": 10,
   "metadata": {},
   "outputs": [
    {
     "data": {
      "text/plain": [
       "0      1.969397e-02\n",
       "1      1.402130e-03\n",
       "2      9.700006e-04\n",
       "3      7.373697e-04\n",
       "4      5.907417e-04\n",
       "           ...     \n",
       "115    9.704740e-07\n",
       "117    9.704740e-07\n",
       "118    3.234913e-07\n",
       "119    6.469827e-07\n",
       "120    3.234913e-07\n",
       "Name: Total_Deaths, Length: 120, dtype: float64"
      ]
     },
     "execution_count": 10,
     "metadata": {},
     "output_type": "execute_result"
    }
   ],
   "source": [
    "P_lh_A*Prob_Age/P_left"
   ]
  },
  {
   "cell_type": "markdown",
   "metadata": {},
   "source": [
    "## Process Step 5: <br><br><strong><font color=\"red\">Code:</font></strong><code>P_lh_A*Prob_Age/P_left</code><br><br><strong><font color=\"red\">What it does</font></strong>: divide each instance by the probability of being left handed"
   ]
  },
  {
   "cell_type": "code",
   "execution_count": 11,
   "metadata": {},
   "outputs": [
    {
     "data": {
      "text/plain": [
       "0      1.969397e-02\n",
       "1      1.402130e-03\n",
       "2      9.700006e-04\n",
       "3      7.373697e-04\n",
       "4      5.907417e-04\n",
       "           ...     \n",
       "115    9.704740e-07\n",
       "117    9.704740e-07\n",
       "118    3.234913e-07\n",
       "119    6.469827e-07\n",
       "120    3.234913e-07\n",
       "Name: Total_Deaths, Length: 120, dtype: float64"
      ]
     },
     "execution_count": 11,
     "metadata": {},
     "output_type": "execute_result"
    }
   ],
   "source": [
    "P_lh_A*Prob_Age/P_left"
   ]
  },
  {
   "cell_type": "markdown",
   "metadata": {},
   "source": [
    "## <font color=\"red\">Putting it all together</font> to calculate the probability of being age A at death (in the study year) given that you're  <font color=\"red\">left handed</font>."
   ]
  },
  {
   "cell_type": "code",
   "execution_count": 12,
   "metadata": {},
   "outputs": [
    {
     "data": {
      "text/plain": [
       "0      1.969397e-02\n",
       "1      1.402130e-03\n",
       "2      9.700006e-04\n",
       "3      7.373697e-04\n",
       "4      5.907417e-04\n",
       "           ...     \n",
       "115    9.704740e-07\n",
       "117    9.704740e-07\n",
       "118    3.234913e-07\n",
       "119    6.469827e-07\n",
       "120    3.234913e-07\n",
       "Name: Total_Deaths, Length: 120, dtype: float64"
      ]
     },
     "execution_count": 12,
     "metadata": {},
     "output_type": "execute_result"
    }
   ],
   "source": [
    "ages_of_death = death_distribution_data.Age_At_Death\n",
    "Prob_Age_given_lh(lefthanded_data, ages_of_death, death_distribution_data, study_year = 1990)"
   ]
  },
  {
   "cell_type": "markdown",
   "metadata": {},
   "source": [
    "<div style=\"border:1px solid black; padding:10px\">\n",
    "<font color=\"blue\">Note:</font><br>\n",
    "\n",
    "This function will return an array with 120 elements, each element represents an age, and the probability of\n",
    "being age A (0 - 120) at death (in the study year) given that you're left handed.\n",
    "</div>"
   ]
  },
  {
   "cell_type": "markdown",
   "metadata": {},
   "source": [
    "<hr style=\"border-top: 3px solid black;\">"
   ]
  },
  {
   "cell_type": "markdown",
   "metadata": {},
   "source": [
    "## Probability of being age A at death (in the study year) given that you're P(A | RH) right-handed"
   ]
  },
  {
   "cell_type": "code",
   "execution_count": 13,
   "metadata": {},
   "outputs": [],
   "source": [
    "def Prob_Age_given_rh(lefthanded_data, ages_of_death, death_distribution_data, study_year = 1990):\n",
    "    P_A = death_distribution_data['Total_Deaths'][ages_of_death] / np.sum(death_distribution_data['Total_Deaths'])\n",
    "    P_right = 1 - P_Left_Handed(lefthanded_data, death_distribution_data)\n",
    "    P_rh_A = 1 - P_dying_LH_given_A(lefthanded_data, death_distribution_data['Age_At_Death'][ages_of_death],study_year)\n",
    "    return P_rh_A*P_A/P_right"
   ]
  },
  {
   "cell_type": "markdown",
   "metadata": {},
   "source": [
    "<strong>Goal</strong><br>\n",
    "Calculate the probability of being age A at death (in the study year) given that you're either right handed.\n",
    "<br><br>\n",
    "<strong>Process</strong> will be same as for the function that calculates left handed, although\n",
    "<ol>\n",
    "    <li><code>P_right = 1 - P_Left_Handed(death_distribution_data)</code> this code will just get the right handed data by subtracting the left handed data by 1.<br>\n",
    "</li><br>\n",
    "    <li>Calculates the probability that a person who died in our particular study year is right-handed by subtracting the left handed data by 1<br>\n",
    "        <code>P_rh_A = 1 - P_dying_LH_given_A(death_distribution_data['Age_At_Death'][ages_of_death],study_year)</code>\n",
    "    </ol>"
   ]
  },
  {
   "cell_type": "code",
   "execution_count": 14,
   "metadata": {},
   "outputs": [
    {
     "name": "stdout",
     "output_type": "stream",
     "text": [
      "The probability of dying in this study as right handed is: 0.9223361238464937\n"
     ]
    }
   ],
   "source": [
    "# right handed death probability\n",
    "P_right = 1- P_Left_Handed(lefthanded_data, death_distribution_data)\n",
    "print('The probability of dying in this study as right handed is: {}'.format(P_right))"
   ]
  },
  {
   "cell_type": "code",
   "execution_count": 15,
   "metadata": {},
   "outputs": [
    {
     "name": "stdout",
     "output_type": "stream",
     "text": [
      "The probability of a right handed person dying at a given age is: [0.86909385 0.86909385 0.86909385 0.86909385 0.86909385 0.86909385\n",
      " 0.86909385 0.86909385 0.86909385 0.86909385 0.875422   0.86768183\n",
      " 0.8682124  0.87464907 0.86635395 0.86918042 0.86896788 0.86976517\n",
      " 0.86546721 0.86523862 0.86241305 0.86244783 0.86598399 0.86850739\n",
      " 0.87131347 0.87282919 0.87789684 0.86742294 0.87255013 0.87197345\n",
      " 0.86913952 0.87054363 0.87030236 0.874941   0.87188272 0.87074814\n",
      " 0.86910287 0.86994587 0.87536747 0.87415399 0.87733833 0.87291254\n",
      " 0.87880632 0.87785023 0.87420582 0.87960854 0.88053611 0.88123569\n",
      " 0.88454209 0.89132259 0.89392117 0.89507003 0.899762   0.89862108\n",
      " 0.89980775 0.89904814 0.90423065 0.9000652  0.90785432 0.90903112\n",
      " 0.91233965 0.91449265 0.91677956 0.92419294 0.92482639 0.92251875\n",
      " 0.9225714  0.92566635 0.92663395 0.9258718  0.93290084 0.92920761\n",
      " 0.92918278 0.93332216 0.93834863 0.93151539 0.92635764 0.9450466\n",
      " 0.93485719 0.94811954 0.93502098 0.94016155 0.93887449 0.9392813\n",
      " 0.9385713  0.92805287 0.95129832 0.93992841 0.93992841 0.93992841\n",
      " 0.93992841 0.93992841 0.93992841 0.93992841 0.93992841 0.93992841\n",
      " 0.93992841 0.93992841 0.93992841 0.93992841 0.93992841 0.93992841\n",
      " 0.93992841 0.93992841 0.93992841 0.93992841 0.93992841 0.93992841\n",
      " 0.93992841 0.93992841 0.93992841 0.93992841 0.93992841 0.93992841\n",
      " 0.93992841 0.93992841 0.93992841 0.93992841 0.93992841 0.93992841]\n"
     ]
    }
   ],
   "source": [
    "P_rh_A = 1 - P_dying_LH_given_A(lefthanded_data, death_distribution_data['Age_At_Death'],study_year)\n",
    "print('The probability of a right handed person dying at a given age is: {}'.format(P_rh_A))"
   ]
  },
  {
   "cell_type": "markdown",
   "metadata": {},
   "source": [
    "## <font color=\"red\">Putting it all together</font> to calculate the probability of being age A at death (in the study year) given that you're <font color=\"red\">right handed</font>."
   ]
  },
  {
   "cell_type": "code",
   "execution_count": 16,
   "metadata": {},
   "outputs": [
    {
     "data": {
      "text/plain": [
       "0      1.100956e-02\n",
       "1      7.838354e-04\n",
       "2      5.422612e-04\n",
       "3      4.122131e-04\n",
       "4      3.302434e-04\n",
       "           ...     \n",
       "115    1.278614e-06\n",
       "117    1.278614e-06\n",
       "118    4.262046e-07\n",
       "119    8.524093e-07\n",
       "120    4.262046e-07\n",
       "Name: Total_Deaths, Length: 120, dtype: float64"
      ]
     },
     "execution_count": 16,
     "metadata": {},
     "output_type": "execute_result"
    }
   ],
   "source": [
    "ages_of_death = death_distribution_data.Age_At_Death\n",
    "Prob_Age_given_rh(lefthanded_data, ages_of_death, death_distribution_data, study_year = 1990)"
   ]
  },
  {
   "cell_type": "markdown",
   "metadata": {},
   "source": [
    "<hr style=\"border-top: 3px solid black;\">"
   ]
  },
  {
   "cell_type": "markdown",
   "metadata": {},
   "source": [
    "# Plotting the Distributions of Conditional Probabilities\n",
    "\n",
    "<p>Now that we have functions to calculate the probability of being age A at death given that you're left-handed or right-handed, let's plot these probabilities for a range of ages of death from 6 to 120. </p>\n",
    "\n",
    "<p>Notice that the left-handed distribution has a bump below age 70: of the pool of deceased people, left-handed people are more likely to be younger. </p>"
   ]
  },
  {
   "cell_type": "code",
   "execution_count": 17,
   "metadata": {},
   "outputs": [],
   "source": [
    "# Ages at death\n",
    "ages_of_death = death_distribution_data.Age_At_Death\n",
    "# calculate the probability of being left- or right-handed for each \n",
    "left_handed_probability = Prob_Age_given_lh(lefthanded_data, ages_of_death, death_distribution_data, study_year = 1990)\n",
    "right_handed_probability = Prob_Age_given_rh(lefthanded_data, ages_of_death, death_distribution_data, study_year = 1990)"
   ]
  },
  {
   "cell_type": "code",
   "execution_count": 18,
   "metadata": {},
   "outputs": [
    {
     "data": {
      "text/plain": [
       "Text(0, 0.5, 'Probability of being age A at death')"
      ]
     },
     "execution_count": 18,
     "metadata": {},
     "output_type": "execute_result"
    },
    {
     "data": {
      "image/png": "[encoded data removed]",
      "text/plain": [
       "<Figure size 432x288 with 1 Axes>"
      ]
     },
     "metadata": {
      "needs_background": "light"
     },
     "output_type": "display_data"
    }
   ],
   "source": [
    "# create a plot of the two probabilities vs. age\n",
    "fig, ax = plt.subplots() # create figure and axis objects\n",
    "ax.plot(ages_of_death, left_handed_probability, label = \"Left-handed\")\n",
    "ax.plot(ages_of_death, right_handed_probability, label = \"Right-handed\")\n",
    "# ax.plot(left_handed_probability, right_handed_probability, label = 'Probabilities')\n",
    "ax.legend() # add a legend\n",
    "ax.set_xlabel(\"Age at death\")\n",
    "ax.set_ylabel(r\"Probability of being age A at death\")"
   ]
  },
  {
   "cell_type": "code",
   "execution_count": 19,
   "metadata": {},
   "outputs": [
    {
     "name": "stdout",
     "output_type": "stream",
     "text": [
      "Stored 'left_handed_probability' (Series)\n",
      "Stored 'right_handed_probability' (Series)\n",
      "Stored 'ages_of_death' (Series)\n"
     ]
    }
   ],
   "source": [
    "# store data\n",
    "%store left_handed_probability\n",
    "%store right_handed_probability\n",
    "%store ages_of_death"
   ]
  }
 ],
 "metadata": {
  "kernelspec": {
   "display_name": "Python 3",
   "language": "python",
   "name": "python3"
  },
  "language_info": {
   "codemirror_mode": {
    "name": "ipython",
    "version": 3
   },
   "file_extension": ".py",
   "mimetype": "text/x-python",
   "name": "python",
   "nbconvert_exporter": "python",
   "pygments_lexer": "ipython3",
   "version": "3.7.6"
  }
 },
 "nbformat": 4,
 "nbformat_minor": 2
}

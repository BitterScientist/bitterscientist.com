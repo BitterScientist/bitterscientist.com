{
 "cells": [
  {
   "cell_type": "markdown",
   "metadata": {},
   "source": [
    "### Claim:\n",
    "April 4, 1991\n",
    "N Engl J Med 1991; 324:998\n",
    "DOI: 10.1056/NEJM199104043241418\n",
    "\n",
    "### Data Sources\n",
    "\n",
    "<strong>Death numbers</strong>\n",
    "https://www.cdc.gov/nchs/nvss/mortality_tables.htm\n",
    " - United States from the year 1999 \n",
    " \n",
    "<strong>Rates of handedness</strong>\n",
    " - Neuropsychologia. 1992 Jul;30(7):601-8. doi: 10.1016/0028-3932(92)90065-t.\n"
   ]
  },
  {
   "cell_type": "markdown",
   "metadata": {},
   "source": [
    "<div style=\"border:2px solid black; padding:10px\">\n",
    "    \n",
    "# <font color=\"blue\">Objective: </font>Test claims made in article using bayesian statistics.\n",
    "\n",
    "<strong>Specifically calculate the difference between these two values:</strong><br>\n",
    "<center>\n",
    "<img src=\"static/images/bayes_ave_equations.png\">\n",
    "</center>\n",
    "</div>\n"
   ]
  },
  {
   "cell_type": "markdown",
   "metadata": {},
   "source": [
    "<hr style=\"border-top: 2px solid black;\">"
   ]
  },
  {
   "cell_type": "markdown",
   "metadata": {},
   "source": [
    "# Import Dependencies"
   ]
  },
  {
   "cell_type": "code",
   "execution_count": 1,
   "metadata": {},
   "outputs": [],
   "source": [
    "import pandas as pd\n",
    "import numpy as np\n",
    "\n",
    "# To plot pretty figures directly within Jupyter\n",
    "%matplotlib inline\n",
    "import matplotlib as mpl\n",
    "import matplotlib.pyplot as plt\n",
    "mpl.rc('axes', labelsize=14)\n",
    "mpl.rc('xtick', labelsize=12)\n",
    "mpl.rc('ytick', labelsize=12)"
   ]
  },
  {
   "cell_type": "markdown",
   "metadata": {},
   "source": [
    "# Load Data"
   ]
  },
  {
   "cell_type": "code",
   "execution_count": 2,
   "metadata": {},
   "outputs": [],
   "source": [
    "# load the data\n",
    "file = \"handedness/lefthanded_data.csv\"\n",
    "# Rename columns so they are meaningful\n",
    "names = ['Age', 'Male_LH_Rate', 'Female_LH_Rate']\n",
    "lefthanded_data = pd.read_csv(file, names=names, header=0)"
   ]
  },
  {
   "cell_type": "markdown",
   "metadata": {},
   "source": [
    "<hr style=\"border-top: 2px solid black;\">"
   ]
  },
  {
   "cell_type": "markdown",
   "metadata": {},
   "source": [
    "# Inspect Data"
   ]
  },
  {
   "cell_type": "code",
   "execution_count": 3,
   "metadata": {},
   "outputs": [
    {
     "data": {
      "text/html": [
       "<div>\n",
       "<style scoped>\n",
       "    .dataframe tbody tr th:only-of-type {\n",
       "        vertical-align: middle;\n",
       "    }\n",
       "\n",
       "    .dataframe tbody tr th {\n",
       "        vertical-align: top;\n",
       "    }\n",
       "\n",
       "    .dataframe thead th {\n",
       "        text-align: right;\n",
       "    }\n",
       "</style>\n",
       "<table border=\"1\" class=\"dataframe\">\n",
       "  <thead>\n",
       "    <tr style=\"text-align: right;\">\n",
       "      <th></th>\n",
       "      <th>Age</th>\n",
       "      <th>Male_LH_Rate</th>\n",
       "      <th>Female_LH_Rate</th>\n",
       "    </tr>\n",
       "  </thead>\n",
       "  <tbody>\n",
       "    <tr>\n",
       "      <th>0</th>\n",
       "      <td>10</td>\n",
       "      <td>12.717558</td>\n",
       "      <td>12.198041</td>\n",
       "    </tr>\n",
       "    <tr>\n",
       "      <th>1</th>\n",
       "      <td>11</td>\n",
       "      <td>15.318830</td>\n",
       "      <td>11.144804</td>\n",
       "    </tr>\n",
       "  </tbody>\n",
       "</table>\n",
       "</div>"
      ],
      "text/plain": [
       "   Age  Male_LH_Rate  Female_LH_Rate\n",
       "0   10     12.717558       12.198041\n",
       "1   11     15.318830       11.144804"
      ]
     },
     "execution_count": 3,
     "metadata": {},
     "output_type": "execute_result"
    }
   ],
   "source": [
    "lefthanded_data.head(2)"
   ]
  },
  {
   "cell_type": "code",
   "execution_count": 4,
   "metadata": {},
   "outputs": [
    {
     "data": {
      "text/plain": [
       "Age                 int64\n",
       "Male_LH_Rate      float64\n",
       "Female_LH_Rate    float64\n",
       "dtype: object"
      ]
     },
     "execution_count": 4,
     "metadata": {},
     "output_type": "execute_result"
    }
   ],
   "source": [
    "lefthanded_data.dtypes"
   ]
  },
  {
   "cell_type": "code",
   "execution_count": 5,
   "metadata": {},
   "outputs": [
    {
     "data": {
      "text/plain": [
       "(77, 3)"
      ]
     },
     "execution_count": 5,
     "metadata": {},
     "output_type": "execute_result"
    }
   ],
   "source": [
    "lefthanded_data.shape"
   ]
  },
  {
   "cell_type": "code",
   "execution_count": 6,
   "metadata": {},
   "outputs": [
    {
     "data": {
      "text/html": [
       "<div>\n",
       "<style scoped>\n",
       "    .dataframe tbody tr th:only-of-type {\n",
       "        vertical-align: middle;\n",
       "    }\n",
       "\n",
       "    .dataframe tbody tr th {\n",
       "        vertical-align: top;\n",
       "    }\n",
       "\n",
       "    .dataframe thead th {\n",
       "        text-align: right;\n",
       "    }\n",
       "</style>\n",
       "<table border=\"1\" class=\"dataframe\">\n",
       "  <thead>\n",
       "    <tr style=\"text-align: right;\">\n",
       "      <th></th>\n",
       "      <th>Age</th>\n",
       "      <th>Male_LH_Rate</th>\n",
       "      <th>Female_LH_Rate</th>\n",
       "    </tr>\n",
       "  </thead>\n",
       "  <tbody>\n",
       "    <tr>\n",
       "      <th>count</th>\n",
       "      <td>77.000000</td>\n",
       "      <td>77.000000</td>\n",
       "      <td>77.000000</td>\n",
       "    </tr>\n",
       "    <tr>\n",
       "      <th>mean</th>\n",
       "      <td>48.000000</td>\n",
       "      <td>11.549122</td>\n",
       "      <td>9.120522</td>\n",
       "    </tr>\n",
       "    <tr>\n",
       "      <th>std</th>\n",
       "      <td>22.371857</td>\n",
       "      <td>3.138912</td>\n",
       "      <td>2.505480</td>\n",
       "    </tr>\n",
       "    <tr>\n",
       "      <th>min</th>\n",
       "      <td>10.000000</td>\n",
       "      <td>4.885999</td>\n",
       "      <td>4.680948</td>\n",
       "    </tr>\n",
       "    <tr>\n",
       "      <th>25%</th>\n",
       "      <td>29.000000</td>\n",
       "      <td>8.562868</td>\n",
       "      <td>6.604398</td>\n",
       "    </tr>\n",
       "    <tr>\n",
       "      <th>50%</th>\n",
       "      <td>48.000000</td>\n",
       "      <td>12.717558</td>\n",
       "      <td>9.892073</td>\n",
       "    </tr>\n",
       "    <tr>\n",
       "      <th>75%</th>\n",
       "      <td>67.000000</td>\n",
       "      <td>14.209302</td>\n",
       "      <td>11.368353</td>\n",
       "    </tr>\n",
       "    <tr>\n",
       "      <th>max</th>\n",
       "      <td>86.000000</td>\n",
       "      <td>15.546784</td>\n",
       "      <td>12.872166</td>\n",
       "    </tr>\n",
       "  </tbody>\n",
       "</table>\n",
       "</div>"
      ],
      "text/plain": [
       "             Age  Male_LH_Rate  Female_LH_Rate\n",
       "count  77.000000     77.000000       77.000000\n",
       "mean   48.000000     11.549122        9.120522\n",
       "std    22.371857      3.138912        2.505480\n",
       "min    10.000000      4.885999        4.680948\n",
       "25%    29.000000      8.562868        6.604398\n",
       "50%    48.000000     12.717558        9.892073\n",
       "75%    67.000000     14.209302       11.368353\n",
       "max    86.000000     15.546784       12.872166"
      ]
     },
     "execution_count": 6,
     "metadata": {},
     "output_type": "execute_result"
    }
   ],
   "source": [
    "lefthanded_data.describe()"
   ]
  },
  {
   "cell_type": "markdown",
   "metadata": {},
   "source": [
    "# Visualize data"
   ]
  },
  {
   "cell_type": "code",
   "execution_count": 7,
   "metadata": {},
   "outputs": [
    {
     "data": {
      "image/png": "[encoded data removed]",
      "text/plain": [
       "<Figure size 360x360 with 1 Axes>"
      ]
     },
     "metadata": {
      "needs_background": "light"
     },
     "output_type": "display_data"
    }
   ],
   "source": [
    "lefthanded_data.boxplot(column=['Male_LH_Rate', 'Female_LH_Rate'], by=None, ax=None, fontsize=14, rot=0, grid=True, figsize=(5,5))\n",
    "plt.ylabel('Rate of Left Handedness')\n",
    "plt.show()"
   ]
  },
  {
   "cell_type": "markdown",
   "metadata": {},
   "source": [
    "<div style=\"border:1px solid black; padding:10px\">\n",
    "<font color=\"blue\">Note:</font><br>\n",
    " - No missing data<br>\n",
    " - No need to change datatypes<br>\n",
    " - The rate of left handed female's in study appear lower than males.\n",
    "</div>"
   ]
  },
  {
   "cell_type": "markdown",
   "metadata": {},
   "source": [
    "<hr style=\"border-top: 3px solid black;\">"
   ]
  },
  {
   "cell_type": "markdown",
   "metadata": {},
   "source": [
    "# Compare male and female left-handedness rates vs. age"
   ]
  },
  {
   "cell_type": "code",
   "execution_count": 8,
   "metadata": {},
   "outputs": [
    {
     "data": {
      "image/png": "[encoded data removed]",
      "text/plain": [
       "<Figure size 720x576 with 1 Axes>"
      ]
     },
     "metadata": {
      "needs_background": "light"
     },
     "output_type": "display_data"
    }
   ],
   "source": [
    "# Data to be plotted\n",
    "male = lefthanded_data['Male_LH_Rate'].values\n",
    "female = lefthanded_data['Female_LH_Rate'].values\n",
    "age = lefthanded_data['Age'].values\n",
    "\n",
    "# Code to generate figure\n",
    "fig, ax = plt.subplots(figsize=(10,8)) # create figure and axis objects\n",
    "ax.plot(age, male, marker = 'o', label='male') # plot \"Female\" vs. \"Age\"\n",
    "ax.plot(age, female, marker = 'x', label='female') # plot \"Male\" vs. \"Age\"\n",
    "ax.legend() # add a legend\n",
    "ax.set_xlabel('Age')\n",
    "ax.set_ylabel('Left Handed Rate')\n",
    "plt.show()"
   ]
  },
  {
   "cell_type": "markdown",
   "metadata": {},
   "source": [
    "<div style=\"border:1px solid black; padding:10px\">\n",
    "<font color=\"blue\">Note:</font><br>\n",
    "\n",
    " - The rate of left handedness drops around age 30 for both males and females\n",
    " - The difference in the rate for left handedness between M and F seems to drop after age 70\n",
    " - Could be less men in sample after 70, as women generaly outlive men\n",
    "</div>"
   ]
  },
  {
   "cell_type": "markdown",
   "metadata": {},
   "source": [
    "<hr style=\"border-top: 3px solid black;\">"
   ]
  },
  {
   "cell_type": "markdown",
   "metadata": {},
   "source": [
    "# Rates of left-handedness over time"
   ]
  },
  {
   "cell_type": "code",
   "execution_count": 9,
   "metadata": {},
   "outputs": [],
   "source": [
    "# Create a column that includes the birth year\n",
    "# Year that the study was conducted\n",
    "study_year = 1986\n",
    "lefthanded_data['Birth_Year'] = study_year - lefthanded_data['Age']\n",
    "# create a new column for the average of male and female\n",
    "lefthanded_data['Mean_Rate_Left_Handed'] = lefthanded_data[['Male_LH_Rate', 'Female_LH_Rate']].mean(axis=1)"
   ]
  },
  {
   "cell_type": "code",
   "execution_count": 10,
   "metadata": {},
   "outputs": [
    {
     "data": {
      "text/html": [
       "<div>\n",
       "<style scoped>\n",
       "    .dataframe tbody tr th:only-of-type {\n",
       "        vertical-align: middle;\n",
       "    }\n",
       "\n",
       "    .dataframe tbody tr th {\n",
       "        vertical-align: top;\n",
       "    }\n",
       "\n",
       "    .dataframe thead th {\n",
       "        text-align: right;\n",
       "    }\n",
       "</style>\n",
       "<table border=\"1\" class=\"dataframe\">\n",
       "  <thead>\n",
       "    <tr style=\"text-align: right;\">\n",
       "      <th></th>\n",
       "      <th>Age</th>\n",
       "      <th>Male_LH_Rate</th>\n",
       "      <th>Female_LH_Rate</th>\n",
       "      <th>Birth_Year</th>\n",
       "      <th>Mean_Rate_Left_Handed</th>\n",
       "    </tr>\n",
       "  </thead>\n",
       "  <tbody>\n",
       "    <tr>\n",
       "      <th>0</th>\n",
       "      <td>10</td>\n",
       "      <td>12.717558</td>\n",
       "      <td>12.198041</td>\n",
       "      <td>1976</td>\n",
       "      <td>12.457800</td>\n",
       "    </tr>\n",
       "    <tr>\n",
       "      <th>1</th>\n",
       "      <td>11</td>\n",
       "      <td>15.318830</td>\n",
       "      <td>11.144804</td>\n",
       "      <td>1975</td>\n",
       "      <td>13.231817</td>\n",
       "    </tr>\n",
       "    <tr>\n",
       "      <th>2</th>\n",
       "      <td>12</td>\n",
       "      <td>14.808281</td>\n",
       "      <td>11.549240</td>\n",
       "      <td>1974</td>\n",
       "      <td>13.178760</td>\n",
       "    </tr>\n",
       "  </tbody>\n",
       "</table>\n",
       "</div>"
      ],
      "text/plain": [
       "   Age  Male_LH_Rate  Female_LH_Rate  Birth_Year  Mean_Rate_Left_Handed\n",
       "0   10     12.717558       12.198041        1976              12.457800\n",
       "1   11     15.318830       11.144804        1975              13.231817\n",
       "2   12     14.808281       11.549240        1974              13.178760"
      ]
     },
     "execution_count": 10,
     "metadata": {},
     "output_type": "execute_result"
    }
   ],
   "source": [
    "# Inspect new columns\n",
    "lefthanded_data.head(3)"
   ]
  },
  {
   "cell_type": "markdown",
   "metadata": {},
   "source": [
    "## Plot the rates of left-handedness over time"
   ]
  },
  {
   "cell_type": "code",
   "execution_count": 11,
   "metadata": {},
   "outputs": [
    {
     "data": {
      "image/png": "[encoded data removed]",
      "text/plain": [
       "<Figure size 720x576 with 1 Axes>"
      ]
     },
     "metadata": {
      "needs_background": "light"
     },
     "output_type": "display_data"
    }
   ],
   "source": [
    "birth_year = lefthanded_data['Birth_Year'].values\n",
    "mean_1h = lefthanded_data['Mean_Rate_Left_Handed'].values\n",
    "# create a plot of the 'Mean_lh' column vs. 'Birth_year'\n",
    "fig, ax = plt.subplots(figsize=(10,8))\n",
    "ax.plot(birth_year, mean_1h, marker = 'o') # plot 'Mean_lh' vs. 'Birth_year'\n",
    "ax.set_xlabel('Birth Year') # set the x label for the plot\n",
    "ax.set_ylabel('Mean Rate of Left Handedness') # set the y label for the plot\n",
    "plt.show()"
   ]
  },
  {
   "cell_type": "markdown",
   "metadata": {},
   "source": [
    "<div style=\"border:1px solid black; padding:10px\">\n",
    "<font color=\"blue\">Note:</font><br>\n",
    "    \n",
    " - The mean rate of individuals that are left handed increases between 1910 - 1950s\n",
    " - The mean rate of left handedness plateaus around 12-14%\n",
    "</div>"
   ]
  },
  {
   "cell_type": "markdown",
   "metadata": {},
   "source": [
    "<hr style=\"border-top: 3px solid black;\">"
   ]
  },
  {
   "cell_type": "markdown",
   "metadata": {},
   "source": [
    "# When do people normally die?\n",
    "\n",
    "<p>\n",
    "Since death is part of the probability we intend to estimate, we will need to get data that gives us:\n",
    "\n",
    " - The number of people that died in a given year\n",
    " - How old they were when they died\n",
    " \n",
    "<strong>What we will calculate from this data</strong><br>\n",
    "\n",
    " - Distribution of ages at death\n",
    " - Normalize the numbers to the total number who dies to get a probability distribution of dying at a given age.\n",
    "</p>"
   ]
  },
  {
   "cell_type": "code",
   "execution_count": 12,
   "metadata": {},
   "outputs": [],
   "source": [
    "# Death distribution data for the United States in 1999\n",
    "death_file = \"handedness/death_data.csv\"\n",
    "\n",
    "# load death distribution data\n",
    "death_distribution_data = pd.read_csv(death_file)"
   ]
  },
  {
   "cell_type": "code",
   "execution_count": 13,
   "metadata": {},
   "outputs": [
    {
     "data": {
      "text/html": [
       "<div>\n",
       "<style scoped>\n",
       "    .dataframe tbody tr th:only-of-type {\n",
       "        vertical-align: middle;\n",
       "    }\n",
       "\n",
       "    .dataframe tbody tr th {\n",
       "        vertical-align: top;\n",
       "    }\n",
       "\n",
       "    .dataframe thead th {\n",
       "        text-align: right;\n",
       "    }\n",
       "</style>\n",
       "<table border=\"1\" class=\"dataframe\">\n",
       "  <thead>\n",
       "    <tr style=\"text-align: right;\">\n",
       "      <th></th>\n",
       "      <th>Age_At_Death</th>\n",
       "      <th>Total_Deaths</th>\n",
       "      <th>Nbr_Male_Deaths</th>\n",
       "      <th>Nbr_Female_Deaths</th>\n",
       "    </tr>\n",
       "  </thead>\n",
       "  <tbody>\n",
       "    <tr>\n",
       "      <th>0</th>\n",
       "      <td>0</td>\n",
       "      <td>27937.0</td>\n",
       "      <td>15646.0</td>\n",
       "      <td>12291.0</td>\n",
       "    </tr>\n",
       "    <tr>\n",
       "      <th>1</th>\n",
       "      <td>1</td>\n",
       "      <td>1989.0</td>\n",
       "      <td>1103.0</td>\n",
       "      <td>886.0</td>\n",
       "    </tr>\n",
       "    <tr>\n",
       "      <th>2</th>\n",
       "      <td>2</td>\n",
       "      <td>1376.0</td>\n",
       "      <td>797.0</td>\n",
       "      <td>579.0</td>\n",
       "    </tr>\n",
       "  </tbody>\n",
       "</table>\n",
       "</div>"
      ],
      "text/plain": [
       "   Age_At_Death  Total_Deaths  Nbr_Male_Deaths  Nbr_Female_Deaths\n",
       "0             0       27937.0          15646.0            12291.0\n",
       "1             1        1989.0           1103.0              886.0\n",
       "2             2        1376.0            797.0              579.0"
      ]
     },
     "execution_count": 13,
     "metadata": {},
     "output_type": "execute_result"
    }
   ],
   "source": [
    "# Inspect data\n",
    "death_distribution_data.head(3)"
   ]
  },
  {
   "cell_type": "code",
   "execution_count": 14,
   "metadata": {},
   "outputs": [
    {
     "data": {
      "text/html": [
       "<div>\n",
       "<style scoped>\n",
       "    .dataframe tbody tr th:only-of-type {\n",
       "        vertical-align: middle;\n",
       "    }\n",
       "\n",
       "    .dataframe tbody tr th {\n",
       "        vertical-align: top;\n",
       "    }\n",
       "\n",
       "    .dataframe thead th {\n",
       "        text-align: right;\n",
       "    }\n",
       "</style>\n",
       "<table border=\"1\" class=\"dataframe\">\n",
       "  <thead>\n",
       "    <tr style=\"text-align: right;\">\n",
       "      <th></th>\n",
       "      <th>Age_At_Death</th>\n",
       "      <th>Total_Deaths</th>\n",
       "      <th>Nbr_Male_Deaths</th>\n",
       "      <th>Nbr_Female_Deaths</th>\n",
       "    </tr>\n",
       "  </thead>\n",
       "  <tbody>\n",
       "    <tr>\n",
       "      <th>count</th>\n",
       "      <td>125.000000</td>\n",
       "      <td>120.000000</td>\n",
       "      <td>115.000000</td>\n",
       "      <td>120.000000</td>\n",
       "    </tr>\n",
       "    <tr>\n",
       "      <th>mean</th>\n",
       "      <td>62.000000</td>\n",
       "      <td>19925.358333</td>\n",
       "      <td>10218.982609</td>\n",
       "      <td>10132.166667</td>\n",
       "    </tr>\n",
       "    <tr>\n",
       "      <th>std</th>\n",
       "      <td>36.228442</td>\n",
       "      <td>23523.773527</td>\n",
       "      <td>11183.006921</td>\n",
       "      <td>13081.181052</td>\n",
       "    </tr>\n",
       "    <tr>\n",
       "      <th>min</th>\n",
       "      <td>0.000000</td>\n",
       "      <td>1.000000</td>\n",
       "      <td>1.000000</td>\n",
       "      <td>1.000000</td>\n",
       "    </tr>\n",
       "    <tr>\n",
       "      <th>25%</th>\n",
       "      <td>31.000000</td>\n",
       "      <td>1733.250000</td>\n",
       "      <td>1067.000000</td>\n",
       "      <td>816.250000</td>\n",
       "    </tr>\n",
       "    <tr>\n",
       "      <th>50%</th>\n",
       "      <td>62.000000</td>\n",
       "      <td>8933.500000</td>\n",
       "      <td>5401.000000</td>\n",
       "      <td>3708.500000</td>\n",
       "    </tr>\n",
       "    <tr>\n",
       "      <th>75%</th>\n",
       "      <td>93.000000</td>\n",
       "      <td>31112.500000</td>\n",
       "      <td>15576.000000</td>\n",
       "      <td>14745.500000</td>\n",
       "    </tr>\n",
       "    <tr>\n",
       "      <th>max</th>\n",
       "      <td>124.000000</td>\n",
       "      <td>73039.000000</td>\n",
       "      <td>36020.000000</td>\n",
       "      <td>42335.000000</td>\n",
       "    </tr>\n",
       "  </tbody>\n",
       "</table>\n",
       "</div>"
      ],
      "text/plain": [
       "       Age_At_Death  Total_Deaths  Nbr_Male_Deaths  Nbr_Female_Deaths\n",
       "count    125.000000    120.000000       115.000000         120.000000\n",
       "mean      62.000000  19925.358333     10218.982609       10132.166667\n",
       "std       36.228442  23523.773527     11183.006921       13081.181052\n",
       "min        0.000000      1.000000         1.000000           1.000000\n",
       "25%       31.000000   1733.250000      1067.000000         816.250000\n",
       "50%       62.000000   8933.500000      5401.000000        3708.500000\n",
       "75%       93.000000  31112.500000     15576.000000       14745.500000\n",
       "max      124.000000  73039.000000     36020.000000       42335.000000"
      ]
     },
     "execution_count": 14,
     "metadata": {},
     "output_type": "execute_result"
    }
   ],
   "source": [
    "death_distribution_data.describe()"
   ]
  },
  {
   "cell_type": "markdown",
   "metadata": {},
   "source": [
    "<div style=\"border:1px solid black; padding:10px\">\n",
    "<font color=\"blue\">Note:</font><br>\n",
    "    \n",
    " - Will drop missing values\n",
    " - Missing values for number of male deaths\n",
    " - 62 is the mean age of death\n",
    "</div>"
   ]
  },
  {
   "cell_type": "code",
   "execution_count": 15,
   "metadata": {},
   "outputs": [],
   "source": [
    "# drop NaN values from the `Total_Deaths` column\n",
    "death_distribution_data.dropna(subset=['Total_Deaths'], inplace=True)"
   ]
  },
  {
   "cell_type": "markdown",
   "metadata": {},
   "source": [
    "# Visualize number of people that died by age"
   ]
  },
  {
   "cell_type": "code",
   "execution_count": 16,
   "metadata": {},
   "outputs": [
    {
     "data": {
      "image/png": "[encoded data removed]",
      "text/plain": [
       "<Figure size 576x576 with 1 Axes>"
      ]
     },
     "metadata": {
      "needs_background": "light"
     },
     "output_type": "display_data"
    }
   ],
   "source": [
    "# plot number of people who died as a function of age\n",
    "fig, ax = plt.subplots(figsize=(8,8))\n",
    "ax.plot('Age_At_Death', 'Total_Deaths', data = death_distribution_data, marker='o') # plot 'Both Sexes' vs. 'Age'\n",
    "ax.set_xlabel('Age at Death') \n",
    "ax.set_ylabel('Total Deaths')\n",
    "plt.show()"
   ]
  },
  {
   "cell_type": "markdown",
   "metadata": {},
   "source": [
    "<hr style=\"border-top: 2px solid black;\">"
   ]
  },
  {
   "cell_type": "markdown",
   "metadata": {},
   "source": [
    "# Applying Bayes' rule\n",
    "\n",
    "<Strong>Why are we using Bayes' rule</Strong>\n",
    "\n",
    "In this scenario we want to test the claims that left-handed people die earlier than right-handed people.\n",
    "\n",
    "<p>\n",
    "There are two scenarios:\n",
    "<ol>\n",
    "    <li>The probability of dying at a certain age given that you're left-handed</li>\n",
    "    <li>The Probability of being left-handed given that you died at a certain age.</li>\n",
    "<ol>\n",
    "    \n",
    "These probabilities are not equal, and a result, we can use Bayes' Rule to update our beliefs about these conditional probabilities."
   ]
  },
  {
   "cell_type": "markdown",
   "metadata": {},
   "source": [
    "# Building a model to test these probabilities"
   ]
  },
  {
   "cell_type": "markdown",
   "metadata": {},
   "source": [
    "<p><strong>First, lets list the two events we care about: </strong>\n",
    "<ul>\n",
    "    <li>left-handedness (LH)</li>\n",
    "    <li>dying at a given age (A)</li>\n",
    "</ul>\n",
    "</p>\n",
    "<p>    \n",
    "<strong>We can then construct conditional statements that we want to calculate:</strong>\n",
    "\n",
    " - <font color=\"red\">The probability of dying at age A given that you're left-handed: <code>P(A | LH)</code></font>\n",
    " - The probability of dying at age A for right-handed people: <code>P(A | RH)</code>\n",
    " - The probability of being left-handed given that you died at a given age: <code>P(LH | A)</code>\n",
    " - The overall probability of dying at age A: <code>P(A)</code>\n",
    " - The overall probability of being left-handed: <code>P(LH)</code>\n",
    "</p>\n",
    "\n",
    "<p>\n",
    "    <strong>Using the terms above, we can put this together into the following equation to calculate: </strong> \n",
    "<br><br><strong>The probability of dying at age A given that you're left-handed<code><font color=\"red\">P(A | LH)</font></code>:</strong><br>\n",
    "$$P(A | LH) = \\frac{P(LH | A) P(A)}{P(LH)}$$\n",
    "<p>\n",
    "\n",
    "\n",
    "<p>\n",
    "<strong>Special Consideration for calculating P(LH | A): </strong>    \n",
    "\n",
    " - <code>P(LH | A)</code> is the probability of being left-handed given that you died at a given age \n",
    " - The calculation requires that we include ages that people died outside of the original data\n",
    " - Since we do not have this data, we will extrapolate\n",
    " - Why? because we can see that the rates appear flat in the early 1900s and late 1900s\n",
    "</p>\n",
    "\n",
    "<p>\n",
    "<strong>Finally: </strong>   <br> \n",
    "    With this information we can then use the following formula to test the claims made:\n",
    "<p>$$\\text{Average age of left-handed people at death} = \\sum_A A P(A | LH)$$</p>\n",
    "<p>$$\\text{Average age of right-handed people at death} = \\sum_A A P(A | RH)$$</p>    \n",
    "</p>\n",
    "    \n",
    " "
   ]
  },
  {
   "cell_type": "markdown",
   "metadata": {},
   "source": [
    "# Next Steps: Calculate each quantity in the equation\n",
    "\n",
    "<p>\n",
    "<ol>\n",
    "    <li>Create a function to calculate <code>P(LH | A)</code>\n",
    "    <li>Create a function to calculate <code>P(LH)</code> \n",
    "    <li>Create a function to calculate <code>P(A | LH)</code>\n",
    "    <li>If you are wondering about <code>P(A)</code>, we already have this data, it is from the <code>death_distribution_data</code> we analyzed</li>\n",
    "    <li>If you are wondering about <code>P(A | RH)</code>, this is just 1 - <code>P(A | LH)</code></li>    \n",
    "</ol>        \n",
    "</p>   "
   ]
  },
  {
   "cell_type": "markdown",
   "metadata": {},
   "source": [
    "<hr style=\"border-top: 2px solid black;\">"
   ]
  },
  {
   "cell_type": "markdown",
   "metadata": {},
   "source": [
    "# Step 1: Create a function to calculate the probability of being left-handed given that you died at a given age P(LH | A).\n",
    "\n",
    "<br>\n",
    "<br>\n",
    "\n",
    "<strong>Data needed</strong>\n",
    " - <code>lefthanded_data</code>\n",
    "  - <code>Mean_Rate_Left_Handed</code>\n",
    "  - <code>Birth_Year</code>\n",
    " - <code>death_distribution_data</code>\n",
    "  - <code>ages_of_death</code>    \n",
    "\n",
    "<strong>Goal</strong><br>\n",
    "Create an <strong>array</strong> that contains the probability that a left handed person died at a specific age.\n",
    "<br><br>\n",
    "<strong>Process</strong>\n",
    "<ol>\n",
    "    <li>Segment the <code>lefthanded_data['Mean_Rate_Left_Handed']</code> series into 3 groups based on when they were born (1900 to 1976): <br>\n",
    "        early_1900s_rate: 6.00<br>\n",
    "        late_1900s_rate: 13.09<br>\n",
    "        middle_rates: 4.87 - 13.75<br><br>\n",
    "            <strong>Why segment</strong> the <code>lefthanded_data['Mean_Rate_Left_Handed']</code> series contains the rates that individuals with left handedness (mean) were born, we can use this information to determine, what proportion of these individuals may have died in that same period, by referencing our death data <code>death_distribution_data.ages_of_death</code></li><br>\n",
    "<li>Asign the following variables to these ages:<br>\n",
    "        <code>youngest_age</code>: 14<br>\n",
    "        <code>oldest_age</code>: 90\n",
    "</li><br>\n",
    "    <li>Create an array with the same length of <code>death_distribution_data.Age_At_Death</code>, which is 120 elements. This will be used to contain the probabilities of death data, and will be generated using this following code:<br>\n",
    "        <code>np.zeros(ages_of_death.shape)</code>\n",
    "    </li>\n",
    "   </ol> "
   ]
  },
  {
   "cell_type": "code",
   "execution_count": 17,
   "metadata": {},
   "outputs": [],
   "source": [
    "def P_dying_LH_given_A(ages_of_death, study_year = 1990):    \n",
    "    # Left handed data\n",
    "    # Create conditional age segments to be used in next code block\n",
    "    early_1900s_rate = lefthanded_data['Mean_Rate_Left_Handed'].tail(10).mean()\n",
    "    late_1900s_rate = lefthanded_data['Mean_Rate_Left_Handed'].head(10).mean()\n",
    "    middle_rates = lefthanded_data.loc[lefthanded_data['Birth_Year'].isin(study_year - ages_of_death)]['Mean_Rate_Left_Handed']\n",
    "    youngest_age = study_year - 1986 + 10 # the youngest age is 10\n",
    "    oldest_age = study_year - 1986 + 86 # the oldest age is 86\n",
    "    \n",
    "    # Date: Death data and Left Handed data\n",
    "    # This code will calculate to the rate of left handed people that died\n",
    "    # in a given age segment from above\n",
    "    # 1. create an empty array to store the results\n",
    "    P_return = np.zeros(ages_of_death.shape) \n",
    "    # 2. the function will go through each age of death and will assign a value\n",
    "    # from below to the P_return based on the age group    \n",
    "    P_return[ages_of_death > oldest_age] = early_1900s_rate / 100\n",
    "    P_return[ages_of_death < youngest_age] = late_1900s_rate / 100\n",
    "    P_return[np.logical_and((ages_of_death <= oldest_age), (ages_of_death >= youngest_age))] = middle_rates / 100\n",
    "    \n",
    "    return P_return"
   ]
  },
  {
   "cell_type": "markdown",
   "metadata": {},
   "source": [
    "# Output for each <code>P_return</code> in function"
   ]
  },
  {
   "cell_type": "markdown",
   "metadata": {},
   "source": [
    "### Output for <code>P_return = np.zeros(death_distribution_data.Age_At_Death.shape)</code>"
   ]
  },
  {
   "cell_type": "code",
   "execution_count": 18,
   "metadata": {},
   "outputs": [
    {
     "data": {
      "text/plain": [
       "array([0., 0., 0., 0., 0., 0., 0., 0., 0., 0., 0., 0., 0., 0., 0., 0., 0.,\n",
       "       0., 0., 0., 0., 0., 0., 0., 0., 0., 0., 0., 0., 0., 0., 0., 0., 0.,\n",
       "       0., 0., 0., 0., 0., 0., 0., 0., 0., 0., 0., 0., 0., 0., 0., 0., 0.,\n",
       "       0., 0., 0., 0., 0., 0., 0., 0., 0., 0., 0., 0., 0., 0., 0., 0., 0.,\n",
       "       0., 0., 0., 0., 0., 0., 0., 0., 0., 0., 0., 0., 0., 0., 0., 0., 0.,\n",
       "       0., 0., 0., 0., 0., 0., 0., 0., 0., 0., 0., 0., 0., 0., 0., 0., 0.,\n",
       "       0., 0., 0., 0., 0., 0., 0., 0., 0., 0., 0., 0., 0., 0., 0., 0., 0.,\n",
       "       0.])"
      ]
     },
     "execution_count": 18,
     "metadata": {},
     "output_type": "execute_result"
    }
   ],
   "source": [
    "P_return = np.zeros(death_distribution_data.Age_At_Death.shape)\n",
    "P_return"
   ]
  },
  {
   "cell_type": "markdown",
   "metadata": {},
   "source": [
    "<div style=\"border:1px solid black; padding:10px\">\n",
    "<font color=\"blue\">Note:</font><br>\n",
    "    \n",
    " - This code creates an array with zeros that has the number of elements in <code>death_distribution_data.Age_At_Death.shape</code>\n",
    " - the <code>.shape</code> returns a tuple that provides the length of elements for the row, and columns. Since this is a 1D array, only the number of elements in the row was returned. Yu would get the same thing if you used.\n",
    "</div>"
   ]
  },
  {
   "cell_type": "markdown",
   "metadata": {},
   "source": [
    "## Output for each <code>P_return[death_distribution_data.Age_At_Death &#60; youngest_age] &#61; late_1900s_rate &#47; 100</code> in function"
   ]
  },
  {
   "cell_type": "code",
   "execution_count": 19,
   "metadata": {},
   "outputs": [
    {
     "data": {
      "text/plain": [
       "array([0.13090615, 0.13090615, 0.13090615, 0.13090615, 0.13090615,\n",
       "       0.13090615, 0.13090615, 0.13090615, 0.13090615, 0.13090615,\n",
       "       0.        , 0.        , 0.        , 0.        , 0.        ,\n",
       "       0.        , 0.        , 0.        , 0.        , 0.        ,\n",
       "       0.        , 0.        , 0.        , 0.        , 0.        ,\n",
       "       0.        , 0.        , 0.        , 0.        , 0.        ,\n",
       "       0.        , 0.        , 0.        , 0.        , 0.        ,\n",
       "       0.        , 0.        , 0.        , 0.        , 0.        ,\n",
       "       0.        , 0.        , 0.        , 0.        , 0.        ,\n",
       "       0.        , 0.        , 0.        , 0.        , 0.        ,\n",
       "       0.        , 0.        , 0.        , 0.        , 0.        ,\n",
       "       0.        , 0.        , 0.        , 0.        , 0.        ,\n",
       "       0.        , 0.        , 0.        , 0.        , 0.        ,\n",
       "       0.        , 0.        , 0.        , 0.        , 0.        ,\n",
       "       0.        , 0.        , 0.        , 0.        , 0.        ,\n",
       "       0.        , 0.        , 0.        , 0.        , 0.        ,\n",
       "       0.        , 0.        , 0.        , 0.        , 0.        ,\n",
       "       0.        , 0.        , 0.        , 0.        , 0.        ,\n",
       "       0.        , 0.        , 0.        , 0.        , 0.        ,\n",
       "       0.        , 0.        , 0.        , 0.        , 0.        ,\n",
       "       0.        , 0.        , 0.        , 0.        , 0.        ,\n",
       "       0.        , 0.        , 0.        , 0.        , 0.        ,\n",
       "       0.        , 0.        , 0.        , 0.        , 0.        ,\n",
       "       0.        , 0.        , 0.        , 0.        , 0.        ])"
      ]
     },
     "execution_count": 19,
     "metadata": {},
     "output_type": "execute_result"
    }
   ],
   "source": [
    "late_1900s_rate = lefthanded_data['Mean_Rate_Left_Handed'].head(10).mean()\n",
    "youngest_age = study_year - 1986 + 10\n",
    "study_year = 1990\n",
    "P_return = np.zeros(death_distribution_data.Age_At_Death.shape) \n",
    "P_return[death_distribution_data.Age_At_Death < youngest_age] = late_1900s_rate / 100\n",
    "P_return"
   ]
  },
  {
   "cell_type": "markdown",
   "metadata": {},
   "source": [
    "<div style=\"border:1px solid black; padding:10px\">\n",
    "<font color=\"blue\">Note:</font><br>\n",
    "\n",
    "<ol>\n",
    "    <li>get the percent of left handedness in the most recent instances for left handedness dataset: <code>late_1900s_rate = lefthanded_data['Mean_Rate_Left_Handed'].head(10).mean()</code> = 13.096\n",
    "    </li><br>\n",
    "<li>Convert the lefthanded rate into a decimal by dividing by a 100, and add that value to all elements of the array whose age in the <code>death_distribution_data.Age_At_Death </code> array is less than the <code>youngest_age </code><br>\n",
    "    This code will add the lefthandedness rate to that index <code>P_return &#91;death_distribution_data.Age_At_Death&lt; youngest_age &#93; = late_1900s_rate &#47;100</code>\n",
    "</li><br>\n",
    "    <li>The remaining elements are left at zero since their <code>death_distribution_data.Age_At_Death</code> value is greater than <code>youngest_age </code>\n",
    "</ol>\n",
    "\n",
    "</div>"
   ]
  },
  {
   "cell_type": "markdown",
   "metadata": {},
   "source": [
    "## Output for each <code>P_return[np.logical_and((death_distribution_data.Age_At_Death &#60;&#61; oldest_age), (death_distribution_data.Age_At_Death &#62;&#61; youngest_age))] &#61; middle_rates &#47; 100</code> in function"
   ]
  },
  {
   "cell_type": "code",
   "execution_count": 20,
   "metadata": {},
   "outputs": [],
   "source": [
    "youngest_age = study_year - 1986 + 10 # the youngest age is 10\n",
    "oldest_age = study_year - 1986 + 86 # the oldest age is 86\n",
    "ages_of_death = death_distribution_data.Age_At_Death\n",
    "middle_rates = lefthanded_data.loc[lefthanded_data['Birth_Year'].isin(study_year - ages_of_death)]['Mean_Rate_Left_Handed']"
   ]
  },
  {
   "cell_type": "code",
   "execution_count": 21,
   "metadata": {},
   "outputs": [
    {
     "name": "stdout",
     "output_type": "stream",
     "text": [
      "The youngest age is: 14\n",
      "The oldest age: 90\n"
     ]
    }
   ],
   "source": [
    "print('The youngest age is: {}\\nThe oldest age: {}'.format(youngest_age, oldest_age))"
   ]
  },
  {
   "cell_type": "code",
   "execution_count": 22,
   "metadata": {},
   "outputs": [
    {
     "data": {
      "text/plain": [
       "array([0.        , 0.        , 0.        , 0.        , 0.        ,\n",
       "       0.        , 0.        , 0.        , 0.        , 0.        ,\n",
       "       0.        , 0.        , 0.        , 0.        , 0.124578  ,\n",
       "       0.13231817, 0.1317876 , 0.12535093, 0.13364605, 0.13081958,\n",
       "       0.13103212, 0.13023483, 0.13453279, 0.13476138, 0.13758695,\n",
       "       0.13755217, 0.13401601, 0.13149261, 0.12868653, 0.12717081,\n",
       "       0.12210316, 0.13257706, 0.12744987, 0.12802655, 0.13086048,\n",
       "       0.12945637, 0.12969764, 0.125059  , 0.12811728, 0.12925186,\n",
       "       0.13089713, 0.13005413, 0.12463253, 0.12584601, 0.12266167,\n",
       "       0.12708746, 0.12119368, 0.12214977, 0.12579418, 0.12039146,\n",
       "       0.11946389, 0.11876431, 0.11545791, 0.10867741, 0.10607883,\n",
       "       0.10492997, 0.100238  , 0.10137892, 0.10019225, 0.10095186,\n",
       "       0.09576935, 0.0999348 , 0.09214568, 0.09096888, 0.08766035,\n",
       "       0.08550735, 0.08322044, 0.07580706, 0.07517361, 0.07748125,\n",
       "       0.0774286 , 0.07433365, 0.07336605, 0.0741282 , 0.06709916,\n",
       "       0.07079239, 0.07081722, 0.06667784, 0.06165137, 0.06848461,\n",
       "       0.07364236, 0.0549534 , 0.06514281, 0.05188046, 0.06497902,\n",
       "       0.05983845, 0.06112551, 0.0607187 , 0.0614287 , 0.07194713,\n",
       "       0.04870168, 0.        , 0.        , 0.        , 0.        ,\n",
       "       0.        , 0.        , 0.        , 0.        , 0.        ,\n",
       "       0.        , 0.        , 0.        , 0.        , 0.        ,\n",
       "       0.        , 0.        , 0.        , 0.        , 0.        ,\n",
       "       0.        , 0.        , 0.        , 0.        , 0.        ,\n",
       "       0.        , 0.        , 0.        , 0.        , 0.        ])"
      ]
     },
     "execution_count": 22,
     "metadata": {},
     "output_type": "execute_result"
    }
   ],
   "source": [
    "P_return = np.zeros(death_distribution_data.Age_At_Death.shape) \n",
    "P_return[np.logical_and((death_distribution_data.Age_At_Death <= oldest_age), (death_distribution_data.Age_At_Death >= youngest_age))] = middle_rates / 100\n",
    "P_return"
   ]
  },
  {
   "cell_type": "markdown",
   "metadata": {},
   "source": [
    "<div style=\"border:1px solid black; padding:10px\">\n",
    "<font color=\"blue\">Note:</font><br>\n",
    "\n",
    "<ol>\n",
    "    <li>Get median rate of left handed individuals born between <strong>1976</strong> and <strong>1990</strong> using this code:\n",
    "        <code>middle_rates = lefthanded_data.loc[lefthanded_data['Birth_Year'].isin(study_year - ages_of_death)]['Mean_Rate_Left_Handed']</code>\n",
    "    </li>  <br>      \n",
    "    <li>Convert the these values into a decimal by dividing by 100\n",
    "    </li><br>\n",
    "<li>Then add these rates into the array we created for people that died between the ages of <strong>14</strong> and <strong>90</strong>. That is what this code does:<br>\n",
    "    <code>P_return[np.logical_and((death_distribution_data.Age_At_Death &#60;&#61; oldest_age), (death_distribution_data.Age_At_Death &#62;&#61; youngest_age))] &#61; middle_rates &#47; 100</code>\n",
    "</li><br>\n",
    "</ol>\n",
    "\n",
    "</div>"
   ]
  },
  {
   "cell_type": "code",
   "execution_count": 23,
   "metadata": {},
   "outputs": [
    {
     "data": {
      "text/plain": [
       "array([0.        , 0.        , 0.        , 0.        , 0.        ,\n",
       "       0.        , 0.        , 0.        , 0.        , 0.        ,\n",
       "       0.        , 0.        , 0.        , 0.        , 0.        ,\n",
       "       0.        , 0.        , 0.        , 0.        , 0.        ,\n",
       "       0.        , 0.        , 0.        , 0.        , 0.        ,\n",
       "       0.        , 0.        , 0.        , 0.        , 0.        ,\n",
       "       0.        , 0.        , 0.        , 0.        , 0.        ,\n",
       "       0.        , 0.        , 0.        , 0.        , 0.        ,\n",
       "       0.        , 0.        , 0.        , 0.        , 0.        ,\n",
       "       0.        , 0.        , 0.        , 0.        , 0.        ,\n",
       "       0.        , 0.        , 0.        , 0.        , 0.        ,\n",
       "       0.        , 0.        , 0.        , 0.        , 0.        ,\n",
       "       0.        , 0.        , 0.        , 0.        , 0.        ,\n",
       "       0.        , 0.        , 0.        , 0.        , 0.        ,\n",
       "       0.        , 0.        , 0.        , 0.        , 0.        ,\n",
       "       0.        , 0.        , 0.        , 0.        , 0.        ,\n",
       "       0.        , 0.        , 0.        , 0.        , 0.        ,\n",
       "       0.        , 0.        , 0.        , 0.        , 0.        ,\n",
       "       0.        , 0.06007159, 0.06007159, 0.06007159, 0.06007159,\n",
       "       0.06007159, 0.06007159, 0.06007159, 0.06007159, 0.06007159,\n",
       "       0.06007159, 0.06007159, 0.06007159, 0.06007159, 0.06007159,\n",
       "       0.06007159, 0.06007159, 0.06007159, 0.06007159, 0.06007159,\n",
       "       0.06007159, 0.06007159, 0.06007159, 0.06007159, 0.06007159,\n",
       "       0.06007159, 0.06007159, 0.06007159, 0.06007159, 0.06007159])"
      ]
     },
     "execution_count": 23,
     "metadata": {},
     "output_type": "execute_result"
    }
   ],
   "source": [
    "early_1900s_rate = lefthanded_data['Mean_Rate_Left_Handed'].tail(10).mean()\n",
    "P_return = np.zeros(death_distribution_data.Age_At_Death.shape) \n",
    "P_return[death_distribution_data.Age_At_Death > oldest_age] = early_1900s_rate / 100\n",
    "P_return"
   ]
  },
  {
   "cell_type": "markdown",
   "metadata": {},
   "source": [
    "<div style=\"border:1px solid black; padding:10px\">\n",
    "<font color=\"blue\">Note:</font><br>\n",
    "\n",
    "<ol>\n",
    "    <li>This code does the same type of operation, it gets the percent of individuals that were left handed in the early 1900s, and converts it into a decimal.<br>\n",
    "        <code>early_1900s_rate &#47; 100</code>\n",
    "    </li> <br>      \n",
    "    <li>It then stores this rate into all indexes of the array where the age of death is greater than 90<br>\n",
    "        <code>death_distribution_data.Age_At_Death > oldest_age</code>\n",
    "</li>\n",
    "</ol>\n",
    "\n",
    "</div>"
   ]
  },
  {
   "cell_type": "markdown",
   "metadata": {},
   "source": [
    "## Visualize the probability of being left handed and dying at a given age"
   ]
  },
  {
   "cell_type": "code",
   "execution_count": 24,
   "metadata": {},
   "outputs": [
    {
     "data": {
      "image/png": "[encoded data removed]",
      "text/plain": [
       "<Figure size 576x576 with 1 Axes>"
      ]
     },
     "metadata": {
      "needs_background": "light"
     },
     "output_type": "display_data"
    }
   ],
   "source": [
    "# plot the probability of being left handed and dying at a given age\n",
    "data = P_dying_LH_given_A(death_distribution_data.Age_At_Death, study_year = 1990)\n",
    "data_dict = {\"Prob_Dying_LH_Age\" : data, 'Age': death_distribution_data.Age_At_Death}\n",
    "data_df = pd.DataFrame(data_dict)\n",
    "fig, ax = plt.subplots(figsize=(8,8))\n",
    "ax.plot('Age', 'Prob_Dying_LH_Age', data = data_df, marker='o') # plot 'Both Sexes' vs. 'Age'\n",
    "ax.set_xlabel('Age at Death') \n",
    "ax.set_ylabel('Probability of being left-handed\\n given that you died at a given age ')\n",
    "plt.show()"
   ]
  },
  {
   "cell_type": "markdown",
   "metadata": {},
   "source": [
    "<hr style=\"border-top: 2px solid black;\">"
   ]
  },
  {
   "cell_type": "markdown",
   "metadata": {},
   "source": [
    "# Step 2: Create a function to Calculate the overall probability of left-handedness\n",
    "\n",
    " - P(LH) is the probability that a person who died in our particular study year is left-handed\n",
    " - This is the average left-handedness in the population of deceased people, and we can calculate it by summing up all of the left-handedness probabilities for each age, weighted with the number of deceased people at each age\n",
    " - Then divided by the total number of deceased people to get a probability\n",
    " \n",
    " In equation form, this is what we're calculating, where N(A) is the number of people who died at age A (given by the dataframe <code>death_distribution_data</code>):</p>\n",
    "<p><img src=\"https://i.imgur.com/gBIWykY.png\" alt=\"equation\" width=\"220\"></p>\n",
    "<!--- $$P(LH) = \\frac{\\sum_{\\text{A}} P(LH | A) N(A)}{\\sum_{\\text{A}} N(A)}$$ --> "
   ]
  },
  {
   "cell_type": "code",
   "execution_count": 25,
   "metadata": {},
   "outputs": [],
   "source": [
    "def P_Left_Handed(death_distribution_data, study_year = 1990):\n",
    "    p_list = death_distribution_data['Total_Deaths']*P_dying_LH_given_A(death_distribution_data['Age_At_Death'], study_year)\n",
    "    p = np.sum(p_list)\n",
    "    return p/np.sum(death_distribution_data['Total_Deaths'])"
   ]
  },
  {
   "cell_type": "markdown",
   "metadata": {},
   "source": [
    "<strong>Goal</strong><br>\n",
    "Calculate the overall probability of being left-handed if you died in the study year.\n",
    "<br><br>\n",
    "<strong>Process</strong>\n",
    "<ol>\n",
    "    <li><code>p_list</code> this code will get the total number of left handed people that died for each age (0 - 120) in this study, and save it in an array<br>\n",
    "        <em>How?</em><br>\n",
    "        For each age, multiple the total number of deaths from this array <code>death_distribution_data['Total_Deaths']</code> to the array that has the same number of elements, and contains the probability (ratio) of peole that were left handed that died at the given age.<br>\n",
    "        <em>Example</em> total number of people that died at age zero times all the left handed people that died at age zero. This value is then stored in an array, and the calculation is carried out for each age until you finish age 120.\n",
    "</li><br>\n",
    "    <li>Sum up all the left handed people that died between the age of 0 - 120 using np.sum()<br>\n",
    "        <code>p = np.sum(p_list)</code>\n",
    "</li><br>\n",
    "    <li>Divide the total number of left handed people that died by all the people that died in the same time period<br>\n",
    "        <code>p/np.sum(death_distribution_data['Total_Deaths'])</code><br>\n",
    "        This will return a single value, and represents the 'Overall probability of being left-handed if you died in the study year.\n",
    "    </li>\n",
    "    </ol>"
   ]
  },
  {
   "cell_type": "markdown",
   "metadata": {},
   "source": [
    "### Process Step 1: Get an array that contains the total number of left handed people that died for ages 0 - 120"
   ]
  },
  {
   "cell_type": "code",
   "execution_count": 26,
   "metadata": {},
   "outputs": [
    {
     "data": {
      "text/plain": [
       "0      27937.0\n",
       "1       1989.0\n",
       "2       1376.0\n",
       "3       1046.0\n",
       "4        838.0\n",
       "        ...   \n",
       "115        3.0\n",
       "117        3.0\n",
       "118        1.0\n",
       "119        2.0\n",
       "120        1.0\n",
       "Name: Total_Deaths, Length: 120, dtype: float64"
      ]
     },
     "execution_count": 26,
     "metadata": {},
     "output_type": "execute_result"
    }
   ],
   "source": [
    "# REMINDER what death_distribution_data['Total_Deaths'] returns (a series)\n",
    "# Total death gives us the total number of people that died at a given age\n",
    "# The range of ages are 0 - 120. This includes left handed and right handed people.\n",
    "death_distribution_data['Total_Deaths']"
   ]
  },
  {
   "cell_type": "code",
   "execution_count": 27,
   "metadata": {},
   "outputs": [
    {
     "data": {
      "text/plain": [
       "array([0.13090615, 0.13090615, 0.13090615, 0.13090615, 0.13090615,\n",
       "       0.13090615, 0.13090615, 0.13090615, 0.13090615, 0.13090615,\n",
       "       0.13090615, 0.13090615, 0.13090615, 0.13090615, 0.124578  ,\n",
       "       0.13231817, 0.1317876 , 0.12535093, 0.13364605, 0.13081958,\n",
       "       0.13103212, 0.13023483, 0.13453279, 0.13476138, 0.13758695,\n",
       "       0.13755217, 0.13401601, 0.13149261, 0.12868653, 0.12717081,\n",
       "       0.12210316, 0.13257706, 0.12744987, 0.12802655, 0.13086048,\n",
       "       0.12945637, 0.12969764, 0.125059  , 0.12811728, 0.12925186,\n",
       "       0.13089713, 0.13005413, 0.12463253, 0.12584601, 0.12266167,\n",
       "       0.12708746, 0.12119368, 0.12214977, 0.12579418, 0.12039146,\n",
       "       0.11946389, 0.11876431, 0.11545791, 0.10867741, 0.10607883,\n",
       "       0.10492997, 0.100238  , 0.10137892, 0.10019225, 0.10095186,\n",
       "       0.09576935, 0.0999348 , 0.09214568, 0.09096888, 0.08766035,\n",
       "       0.08550735, 0.08322044, 0.07580706, 0.07517361, 0.07748125,\n",
       "       0.0774286 , 0.07433365, 0.07336605, 0.0741282 , 0.06709916,\n",
       "       0.07079239, 0.07081722, 0.06667784, 0.06165137, 0.06848461,\n",
       "       0.07364236, 0.0549534 , 0.06514281, 0.05188046, 0.06497902,\n",
       "       0.05983845, 0.06112551, 0.0607187 , 0.0614287 , 0.07194713,\n",
       "       0.04870168, 0.06007159, 0.06007159, 0.06007159, 0.06007159,\n",
       "       0.06007159, 0.06007159, 0.06007159, 0.06007159, 0.06007159,\n",
       "       0.06007159, 0.06007159, 0.06007159, 0.06007159, 0.06007159,\n",
       "       0.06007159, 0.06007159, 0.06007159, 0.06007159, 0.06007159,\n",
       "       0.06007159, 0.06007159, 0.06007159, 0.06007159, 0.06007159,\n",
       "       0.06007159, 0.06007159, 0.06007159, 0.06007159, 0.06007159])"
      ]
     },
     "execution_count": 27,
     "metadata": {},
     "output_type": "execute_result"
    }
   ],
   "source": [
    "# Gives us all the probabilities of a left handed person dying \n",
    "# at every given age between 0 - 120\n",
    "P_dying_LH_given_A(death_distribution_data['Age_At_Death'], study_year)"
   ]
  },
  {
   "cell_type": "code",
   "execution_count": 28,
   "metadata": {},
   "outputs": [
    {
     "data": {
      "text/plain": [
       "0      3657.124980\n",
       "1       260.372323\n",
       "2       180.126856\n",
       "3       136.927828\n",
       "4       109.699350\n",
       "          ...     \n",
       "115       0.180215\n",
       "117       0.180215\n",
       "118       0.060072\n",
       "119       0.120143\n",
       "120       0.060072\n",
       "Name: Total_Deaths, Length: 120, dtype: float64"
      ]
     },
     "execution_count": 28,
     "metadata": {},
     "output_type": "execute_result"
    }
   ],
   "source": [
    "# Multiply the total number of people that died at each each between 0 - 120  \n",
    "# by the probability that that person that died was left handed\n",
    "# p_list in this example is the total number of people that \n",
    "p_list = death_distribution_data['Total_Deaths']*P_dying_LH_given_A(death_distribution_data['Age_At_Death'], study_year)\n",
    "p_list"
   ]
  },
  {
   "cell_type": "markdown",
   "metadata": {},
   "source": [
    "## Visualize the Number of left handed people that died at a given age from <code>p_list</code>"
   ]
  },
  {
   "cell_type": "code",
   "execution_count": 29,
   "metadata": {},
   "outputs": [
    {
     "data": {
      "image/png": "[encoded data removed]",
      "text/plain": [
       "<Figure size 576x576 with 1 Axes>"
      ]
     },
     "metadata": {
      "needs_background": "light"
     },
     "output_type": "display_data"
    }
   ],
   "source": [
    "p_list_dict = {\"Total_LH_Death_Age\" : p_list, 'Age': death_distribution_data.Age_At_Death}\n",
    "data_df = pd.DataFrame(p_list_dict)\n",
    "fig, ax = plt.subplots(figsize=(8,8))\n",
    "ax.plot('Age', 'Total_LH_Death_Age', data = data_df, marker='o') # plot 'Both Sexes' vs. 'Age'\n",
    "ax.set_xlabel('Age at Death') \n",
    "ax.set_ylabel('Total number of left handed people\\nthat died for each age (0 - 120)')\n",
    "plt.show()"
   ]
  },
  {
   "cell_type": "markdown",
   "metadata": {},
   "source": [
    "### Process Step 2: Sum up all the number of left handed people that died in this period"
   ]
  },
  {
   "cell_type": "code",
   "execution_count": 30,
   "metadata": {},
   "outputs": [
    {
     "data": {
      "text/plain": [
       "185697.66742970835"
      ]
     },
     "execution_count": 30,
     "metadata": {},
     "output_type": "execute_result"
    }
   ],
   "source": [
    "# Sum up the total number of left handed people that died of 0 - 120\n",
    "p = np.sum(p_list)\n",
    "p"
   ]
  },
  {
   "cell_type": "code",
   "execution_count": 31,
   "metadata": {},
   "outputs": [
    {
     "data": {
      "text/plain": [
       "2391043.0"
      ]
     },
     "execution_count": 31,
     "metadata": {},
     "output_type": "execute_result"
    }
   ],
   "source": [
    "# To total number of deaths in the death_distribution_data dataset\n",
    "total_deaths = np.sum(death_distribution_data['Total_Deaths'])\n",
    "total_deaths"
   ]
  },
  {
   "cell_type": "markdown",
   "metadata": {},
   "source": [
    "### Process Step 3: Return the overall probability of being left-handed if you died in the study year"
   ]
  },
  {
   "cell_type": "code",
   "execution_count": 32,
   "metadata": {},
   "outputs": [
    {
     "data": {
      "text/plain": [
       "0.07766387615350638"
      ]
     },
     "execution_count": 32,
     "metadata": {},
     "output_type": "execute_result"
    }
   ],
   "source": [
    "# Finally, get the ratio of left handed people that died from everyone that died\n",
    "# Divide all the left handed people that died the total number of people that died\n",
    "print_return = p/np.sum(death_distribution_data['Total_Deaths'])\n",
    "print_return"
   ]
  },
  {
   "cell_type": "markdown",
   "metadata": {},
   "source": [
    "# Evoke the function to Calculate the overall probability of left-handedness"
   ]
  },
  {
   "cell_type": "code",
   "execution_count": 33,
   "metadata": {},
   "outputs": [
    {
     "name": "stdout",
     "output_type": "stream",
     "text": [
      "The overall probability of left-handedness is: 0.0777\n"
     ]
    }
   ],
   "source": [
    "# Calculate the probability of left handedness\n",
    "print('The overall probability of left-handedness is: {}'.format(np.around(P_Left_Handed(death_distribution_data, study_year = 1990),4)))"
   ]
  },
  {
   "cell_type": "markdown",
   "metadata": {},
   "source": [
    "<hr style=\"border-top: 4px solid black;\">"
   ]
  },
  {
   "cell_type": "markdown",
   "metadata": {},
   "source": [
    "# Create a Function to Calculate the Probability of Dying while Left-Handed <code>P (A | LH)</code> and Right-Handed <code>P (A | RH)</code>"
   ]
  },
  {
   "cell_type": "markdown",
   "metadata": {},
   "source": [
    "<ul>What we have so far:\n",
    "    <li>P(A)</li>\n",
    "        <li>P(LH)</li>\n",
    "        <li>P(A)</li>\n",
    "    <li>P(LH | A)</li>\n",
    "</ul>\n",
    "\n",
    "<p><strong>Next Steps</strong><br>\n",
    "Use Bayes' rule to get the probability of being age A at death (in the study year) given that you're:\n",
    "    <ul>\n",
    "        <li><code>P(A | LH)</code> left-handed</li>\n",
    "        <li><code>P(A | RH)</code>right-handed</li>  \n",
    "</ul>        \n",
    "</p>"
   ]
  },
  {
   "cell_type": "markdown",
   "metadata": {},
   "source": [
    "## Probability of being age A at death (in the study year) given that you're P(A | LH) left-handed"
   ]
  },
  {
   "cell_type": "markdown",
   "metadata": {},
   "source": [
    "<p>$$P(A | LH) = \\frac{P(LH|A) P(A)}{P(LH)}$$</p>"
   ]
  },
  {
   "cell_type": "code",
   "execution_count": 34,
   "metadata": {},
   "outputs": [],
   "source": [
    "def Prob_Age_given_lh(ages_of_death, death_distribution_data, study_year = 1990):\n",
    "    Prob_Age = death_distribution_data['Total_Deaths'][ages_of_death] / np.sum(death_distribution_data['Total_Deaths'])\n",
    "    # use P_lh function to get probability of left-handedness overall\n",
    "    P_left = P_Left_Handed(death_distribution_data)\n",
    "    # use P_lh_given_A to get probability of left-handedness for a certain age\n",
    "    P_lh_A = P_dying_LH_given_A(death_distribution_data['Age_At_Death'][ages_of_death],study_year)\n",
    "    return P_lh_A*Prob_Age/P_left"
   ]
  },
  {
   "cell_type": "markdown",
   "metadata": {},
   "source": [
    "<strong>Goal</strong><br>\n",
    "Calculate the probability of being age A at death (in the study year) given that you're either left handed.\n",
    "<br><br>\n",
    "<strong>Process</strong>\n",
    "<ol>\n",
    "    <li><code>Prob_Age = death_distribution_data['Total_Deaths'][ages_of_death] / np.sum(death_distribution_data['Total_Deaths'])</code> this code will return an array of probabilities (the proportion) or people that died at each age from 0 - 120.<br>\n",
    "</li><br>\n",
    "    <li>Evoke the function that calculates the probability that a person who died in our particular study year is left-handed <br>\n",
    "        <code>P_left = P_Left_Handed(death_distribution_data)</code>\n",
    "</li><br>\n",
    "    <li>Evoke the function that calculates the probability that a left handed person died at a specific age.<br>\n",
    "        <code>P_lh_A = P_dying_LH_given_A(death_distribution_data['Age_At_Death'],study_year)</code><br>\n",
    "    </li>\n",
    "    <li>Multiply the probability of dying at a given age by the probability of being left-handed at a given age<br>\n",
    "        <code>P_lh_A*Prob_Age</code>\n",
    "    </li>\n",
    "    <li>Finally, divide the previous calculation by the probability of being left handed, and return this value</li>\n",
    "    </ol>"
   ]
  },
  {
   "cell_type": "markdown",
   "metadata": {},
   "source": [
    "## Process Step 1: <br><br><strong><font color=\"red\">Code:</font></strong><code>Prob_Age = death_distribution_data['Total_Deaths'][ages_of_death] / np.sum(death_distribution_data['Total_Deaths'])</code><br><br><strong><font color=\"red\">What it does</font></strong>: returns an array that contains the total number of people that died for each age between 0 - 120"
   ]
  },
  {
   "cell_type": "code",
   "execution_count": 35,
   "metadata": {},
   "outputs": [
    {
     "data": {
      "text/plain": [
       "0        0\n",
       "1        1\n",
       "2        2\n",
       "3        3\n",
       "4        4\n",
       "      ... \n",
       "115    115\n",
       "117    117\n",
       "118    118\n",
       "119    119\n",
       "120    120\n",
       "Name: Age_At_Death, Length: 120, dtype: int64"
      ]
     },
     "execution_count": 35,
     "metadata": {},
     "output_type": "execute_result"
    }
   ],
   "source": [
    "# This code will return an array that contains the ages between 0 - 120\n",
    "ages_of_death = death_distribution_data.Age_At_Death\n",
    "ages_of_death"
   ]
  },
  {
   "cell_type": "code",
   "execution_count": 36,
   "metadata": {},
   "outputs": [
    {
     "data": {
      "text/plain": [
       "0      27937.0\n",
       "1       1989.0\n",
       "2       1376.0\n",
       "3       1046.0\n",
       "4        838.0\n",
       "        ...   \n",
       "115        3.0\n",
       "117        3.0\n",
       "118        1.0\n",
       "119        2.0\n",
       "120        1.0\n",
       "Name: Total_Deaths, Length: 120, dtype: float64"
      ]
     },
     "execution_count": 36,
     "metadata": {},
     "output_type": "execute_result"
    }
   ],
   "source": [
    "# This code will then return the total deaths for each age and stores it into an array named ages_of_death\n",
    "death_distribution_data['Total_Deaths'][ages_of_death]"
   ]
  },
  {
   "cell_type": "code",
   "execution_count": 37,
   "metadata": {},
   "outputs": [
    {
     "name": "stdout",
     "output_type": "stream",
     "text": [
      "The total number of deaths in this dataset is: 2391043.0\n"
     ]
    }
   ],
   "source": [
    "# This code sums up all the deaths\n",
    "print('The total number of deaths in this dataset is: {}'.format(np.sum(death_distribution_data['Total_Deaths'])))"
   ]
  },
  {
   "cell_type": "code",
   "execution_count": 38,
   "metadata": {},
   "outputs": [
    {
     "data": {
      "text/plain": [
       "0      1.168402e-02\n",
       "1      8.318546e-04\n",
       "2      5.754811e-04\n",
       "3      4.374660e-04\n",
       "4      3.504747e-04\n",
       "           ...     \n",
       "115    1.254683e-06\n",
       "117    1.254683e-06\n",
       "118    4.182275e-07\n",
       "119    8.364551e-07\n",
       "120    4.182275e-07\n",
       "Name: Total_Deaths, Length: 120, dtype: float64"
      ]
     },
     "execution_count": 38,
     "metadata": {},
     "output_type": "execute_result"
    }
   ],
   "source": [
    "# This code will divide the total number of deaths at each age, by the total number of people that died in the dataset, \n",
    "# and save the ratio into the array `Prob_Age`\n",
    "ages_of_death = death_distribution_data.Age_At_Death\n",
    "Prob_Age = death_distribution_data['Total_Deaths'][ages_of_death] / np.sum(death_distribution_data['Total_Deaths'])\n",
    "Prob_Age"
   ]
  },
  {
   "cell_type": "markdown",
   "metadata": {},
   "source": [
    "## Visualize the probability of dying at given age from <code>Prob_Age</code>"
   ]
  },
  {
   "cell_type": "code",
   "execution_count": 39,
   "metadata": {},
   "outputs": [
    {
     "data": {
      "image/png": "[encoded data removed]",
      "text/plain": [
       "<Figure size 576x576 with 1 Axes>"
      ]
     },
     "metadata": {
      "needs_background": "light"
     },
     "output_type": "display_data"
    }
   ],
   "source": [
    "Prob_Age_dict = {\"Prob_dying_by_age\" : Prob_Age, 'Age': death_distribution_data.Age_At_Death}\n",
    "fig, ax = plt.subplots(figsize=(8,8))\n",
    "ax.plot('Age', 'Prob_dying_by_age', data = Prob_Age_dict, marker='o') # plot 'Both Sexes' vs. 'Age'\n",
    "ax.set_xlabel('Age at Death') \n",
    "ax.set_ylabel('Probability of Dying at a Given Age')\n",
    "plt.show()"
   ]
  },
  {
   "cell_type": "markdown",
   "metadata": {},
   "source": [
    "## Process Step 2: <br><br><strong><font color=\"red\">Code:</font></strong><code>P_left = P_Left_Handed(death_distribution_data)</code><br><br><strong><font color=\"red\">What it does</font></strong>: calculates the probability that a person who died in our particular study year is left-handed."
   ]
  },
  {
   "cell_type": "code",
   "execution_count": 40,
   "metadata": {},
   "outputs": [
    {
     "data": {
      "text/plain": [
       "0.07766387615350638"
      ]
     },
     "execution_count": 40,
     "metadata": {},
     "output_type": "execute_result"
    }
   ],
   "source": [
    "P_left = P_Left_Handed(death_distribution_data, study_year = 1990)\n",
    "P_left"
   ]
  },
  {
   "cell_type": "markdown",
   "metadata": {},
   "source": [
    "## Process Step 3: <br><br><strong><font color=\"red\">Code:</font></strong><code>P_lh_A = P_dying_LH_given_A(death_distribution_data['Age_At_Death'][ages_of_death],study_year)</code><br><br><strong><font color=\"red\">What it does</font></strong>: calculates the probability that a left handed person died at a specific age."
   ]
  },
  {
   "cell_type": "code",
   "execution_count": 41,
   "metadata": {},
   "outputs": [
    {
     "data": {
      "text/plain": [
       "array([0.13090615, 0.13090615, 0.13090615, 0.13090615, 0.13090615,\n",
       "       0.13090615, 0.13090615, 0.13090615, 0.13090615, 0.13090615,\n",
       "       0.13090615, 0.13090615, 0.13090615, 0.13090615, 0.124578  ,\n",
       "       0.13231817, 0.1317876 , 0.12535093, 0.13364605, 0.13081958,\n",
       "       0.13103212, 0.13023483, 0.13453279, 0.13476138, 0.13758695,\n",
       "       0.13755217, 0.13401601, 0.13149261, 0.12868653, 0.12717081,\n",
       "       0.12210316, 0.13257706, 0.12744987, 0.12802655, 0.13086048,\n",
       "       0.12945637, 0.12969764, 0.125059  , 0.12811728, 0.12925186,\n",
       "       0.13089713, 0.13005413, 0.12463253, 0.12584601, 0.12266167,\n",
       "       0.12708746, 0.12119368, 0.12214977, 0.12579418, 0.12039146,\n",
       "       0.11946389, 0.11876431, 0.11545791, 0.10867741, 0.10607883,\n",
       "       0.10492997, 0.100238  , 0.10137892, 0.10019225, 0.10095186,\n",
       "       0.09576935, 0.0999348 , 0.09214568, 0.09096888, 0.08766035,\n",
       "       0.08550735, 0.08322044, 0.07580706, 0.07517361, 0.07748125,\n",
       "       0.0774286 , 0.07433365, 0.07336605, 0.0741282 , 0.06709916,\n",
       "       0.07079239, 0.07081722, 0.06667784, 0.06165137, 0.06848461,\n",
       "       0.07364236, 0.0549534 , 0.06514281, 0.05188046, 0.06497902,\n",
       "       0.05983845, 0.06112551, 0.0607187 , 0.0614287 , 0.07194713,\n",
       "       0.04870168, 0.06007159, 0.06007159, 0.06007159, 0.06007159,\n",
       "       0.06007159, 0.06007159, 0.06007159, 0.06007159, 0.06007159,\n",
       "       0.06007159, 0.06007159, 0.06007159, 0.06007159, 0.06007159,\n",
       "       0.06007159, 0.06007159, 0.06007159, 0.06007159, 0.06007159,\n",
       "       0.06007159, 0.06007159, 0.06007159, 0.06007159, 0.06007159,\n",
       "       0.06007159, 0.06007159, 0.06007159, 0.06007159, 0.06007159])"
      ]
     },
     "execution_count": 41,
     "metadata": {},
     "output_type": "execute_result"
    }
   ],
   "source": [
    "ages_of_death = death_distribution_data.Age_At_Death\n",
    "P_lh_A = P_dying_LH_given_A(death_distribution_data['Age_At_Death'][ages_of_death],study_year)\n",
    "P_lh_A"
   ]
  },
  {
   "cell_type": "markdown",
   "metadata": {},
   "source": [
    "## Process Step 4: <br><br><strong><font color=\"red\">Code:</font></strong><code>P_lh_A*Prob_Age</code><br><br><strong><font color=\"red\">What it does</font></strong>: multiply the probability that a left handed person died at a specific age, by the probability of dying at a given age"
   ]
  },
  {
   "cell_type": "code",
   "execution_count": 42,
   "metadata": {},
   "outputs": [
    {
     "data": {
      "text/plain": [
       "0      1.969397e-02\n",
       "1      1.402130e-03\n",
       "2      9.700006e-04\n",
       "3      7.373697e-04\n",
       "4      5.907417e-04\n",
       "           ...     \n",
       "115    9.704740e-07\n",
       "117    9.704740e-07\n",
       "118    3.234913e-07\n",
       "119    6.469827e-07\n",
       "120    3.234913e-07\n",
       "Name: Total_Deaths, Length: 120, dtype: float64"
      ]
     },
     "execution_count": 42,
     "metadata": {},
     "output_type": "execute_result"
    }
   ],
   "source": [
    "P_lh_A*Prob_Age/P_left"
   ]
  },
  {
   "cell_type": "markdown",
   "metadata": {},
   "source": [
    "## Process Step 5: <br><br><strong><font color=\"red\">Code:</font></strong><code>P_lh_A*Prob_Age/P_left</code><br><br><strong><font color=\"red\">What it does</font></strong>: divide each instance by the probability of being left handed"
   ]
  },
  {
   "cell_type": "code",
   "execution_count": 43,
   "metadata": {},
   "outputs": [
    {
     "data": {
      "text/plain": [
       "0      1.969397e-02\n",
       "1      1.402130e-03\n",
       "2      9.700006e-04\n",
       "3      7.373697e-04\n",
       "4      5.907417e-04\n",
       "           ...     \n",
       "115    9.704740e-07\n",
       "117    9.704740e-07\n",
       "118    3.234913e-07\n",
       "119    6.469827e-07\n",
       "120    3.234913e-07\n",
       "Name: Total_Deaths, Length: 120, dtype: float64"
      ]
     },
     "execution_count": 43,
     "metadata": {},
     "output_type": "execute_result"
    }
   ],
   "source": [
    "P_lh_A*Prob_Age/P_left"
   ]
  },
  {
   "cell_type": "markdown",
   "metadata": {},
   "source": [
    "## <font color=\"red\">Putting it all together</font> to calculate the probability of being age A at death (in the study year) given that you're  <font color=\"red\">left handed</font>."
   ]
  },
  {
   "cell_type": "code",
   "execution_count": 44,
   "metadata": {},
   "outputs": [
    {
     "data": {
      "text/plain": [
       "0      1.969397e-02\n",
       "1      1.402130e-03\n",
       "2      9.700006e-04\n",
       "3      7.373697e-04\n",
       "4      5.907417e-04\n",
       "           ...     \n",
       "115    9.704740e-07\n",
       "117    9.704740e-07\n",
       "118    3.234913e-07\n",
       "119    6.469827e-07\n",
       "120    3.234913e-07\n",
       "Name: Total_Deaths, Length: 120, dtype: float64"
      ]
     },
     "execution_count": 44,
     "metadata": {},
     "output_type": "execute_result"
    }
   ],
   "source": [
    "ages_of_death = death_distribution_data.Age_At_Death\n",
    "Prob_Age_given_lh(ages_of_death, death_distribution_data, study_year = 1990)"
   ]
  },
  {
   "cell_type": "markdown",
   "metadata": {},
   "source": [
    "<div style=\"border:1px solid black; padding:10px\">\n",
    "<font color=\"blue\">Note:</font><br>\n",
    "\n",
    "This function will return an array with 120 elements, each element represents an age, and the probability of\n",
    "being age A (0 - 120) at death (in the study year) given that you're left handed.\n",
    "</div>"
   ]
  },
  {
   "cell_type": "markdown",
   "metadata": {},
   "source": [
    "<hr style=\"border-top: 3px solid black;\">"
   ]
  },
  {
   "cell_type": "markdown",
   "metadata": {},
   "source": [
    "## Probability of being age A at death (in the study year) given that you're P(A | RH) right-handed"
   ]
  },
  {
   "cell_type": "code",
   "execution_count": 45,
   "metadata": {},
   "outputs": [],
   "source": [
    "def Prob_Age_given_rh(ages_of_death, death_distribution_data, study_year = 1990):\n",
    "    P_A = death_distribution_data['Total_Deaths'][ages_of_death] / np.sum(death_distribution_data['Total_Deaths'])\n",
    "    P_right = 1 - P_Left_Handed(death_distribution_data)\n",
    "    P_rh_A = 1 - P_dying_LH_given_A(death_distribution_data['Age_At_Death'][ages_of_death],study_year)\n",
    "    return P_rh_A*P_A/P_right"
   ]
  },
  {
   "cell_type": "markdown",
   "metadata": {},
   "source": [
    "<strong>Goal</strong><br>\n",
    "Calculate the probability of being age A at death (in the study year) given that you're either right handed.\n",
    "<br><br>\n",
    "<strong>Process</strong> will be same as for the function that calculates left handed, although\n",
    "<ol>\n",
    "    <li><code>P_right = 1 - P_Left_Handed(death_distribution_data)</code> this code will just get the right handed data by subtracting the left handed data by 1.<br>\n",
    "</li><br>\n",
    "    <li>Calculates the probability that a person who died in our particular study year is right-handed by subtracting the left handed data by 1<br>\n",
    "        <code>P_rh_A = 1 - P_dying_LH_given_A(death_distribution_data['Age_At_Death'][ages_of_death],study_year)</code>\n",
    "    </ol>"
   ]
  },
  {
   "cell_type": "code",
   "execution_count": 46,
   "metadata": {},
   "outputs": [
    {
     "name": "stdout",
     "output_type": "stream",
     "text": [
      "The probability of dying in this study as right handed is: 0.9223361238464937\n"
     ]
    }
   ],
   "source": [
    "# right handed death probability\n",
    "P_right = 1- P_Left_Handed(death_distribution_data)\n",
    "print('The probability of dying in this study as right handed is: {}'.format(P_right))"
   ]
  },
  {
   "cell_type": "code",
   "execution_count": 47,
   "metadata": {},
   "outputs": [
    {
     "name": "stdout",
     "output_type": "stream",
     "text": [
      "The probability of a right handed person dying at a given age is: [0.86909385 0.86909385 0.86909385 0.86909385 0.86909385 0.86909385\n",
      " 0.86909385 0.86909385 0.86909385 0.86909385 0.86909385 0.86909385\n",
      " 0.86909385 0.86909385 0.875422   0.86768183 0.8682124  0.87464907\n",
      " 0.86635395 0.86918042 0.86896788 0.86976517 0.86546721 0.86523862\n",
      " 0.86241305 0.86244783 0.86598399 0.86850739 0.87131347 0.87282919\n",
      " 0.87789684 0.86742294 0.87255013 0.87197345 0.86913952 0.87054363\n",
      " 0.87030236 0.874941   0.87188272 0.87074814 0.86910287 0.86994587\n",
      " 0.87536747 0.87415399 0.87733833 0.87291254 0.87880632 0.87785023\n",
      " 0.87420582 0.87960854 0.88053611 0.88123569 0.88454209 0.89132259\n",
      " 0.89392117 0.89507003 0.899762   0.89862108 0.89980775 0.89904814\n",
      " 0.90423065 0.9000652  0.90785432 0.90903112 0.91233965 0.91449265\n",
      " 0.91677956 0.92419294 0.92482639 0.92251875 0.9225714  0.92566635\n",
      " 0.92663395 0.9258718  0.93290084 0.92920761 0.92918278 0.93332216\n",
      " 0.93834863 0.93151539 0.92635764 0.9450466  0.93485719 0.94811954\n",
      " 0.93502098 0.94016155 0.93887449 0.9392813  0.9385713  0.92805287\n",
      " 0.95129832 0.93992841 0.93992841 0.93992841 0.93992841 0.93992841\n",
      " 0.93992841 0.93992841 0.93992841 0.93992841 0.93992841 0.93992841\n",
      " 0.93992841 0.93992841 0.93992841 0.93992841 0.93992841 0.93992841\n",
      " 0.93992841 0.93992841 0.93992841 0.93992841 0.93992841 0.93992841\n",
      " 0.93992841 0.93992841 0.93992841 0.93992841 0.93992841 0.93992841]\n"
     ]
    }
   ],
   "source": [
    "P_rh_A = 1 - P_dying_LH_given_A(death_distribution_data['Age_At_Death'],study_year)\n",
    "print('The probability of a right handed person dying at a given age is: {}'.format(P_rh_A))"
   ]
  },
  {
   "cell_type": "markdown",
   "metadata": {},
   "source": [
    "## <font color=\"red\">Putting it all together</font> to calculate the probability of being age A at death (in the study year) given that you're <font color=\"red\">right handed</font>."
   ]
  },
  {
   "cell_type": "code",
   "execution_count": 48,
   "metadata": {},
   "outputs": [
    {
     "data": {
      "text/plain": [
       "0      1.100956e-02\n",
       "1      7.838354e-04\n",
       "2      5.422612e-04\n",
       "3      4.122131e-04\n",
       "4      3.302434e-04\n",
       "           ...     \n",
       "115    1.278614e-06\n",
       "117    1.278614e-06\n",
       "118    4.262046e-07\n",
       "119    8.524093e-07\n",
       "120    4.262046e-07\n",
       "Name: Total_Deaths, Length: 120, dtype: float64"
      ]
     },
     "execution_count": 48,
     "metadata": {},
     "output_type": "execute_result"
    }
   ],
   "source": [
    "ages_of_death = death_distribution_data.Age_At_Death\n",
    "Prob_Age_given_rh(ages_of_death, death_distribution_data, study_year = 1990)"
   ]
  },
  {
   "cell_type": "markdown",
   "metadata": {},
   "source": [
    "<hr style=\"border-top: 3px solid black;\">"
   ]
  },
  {
   "cell_type": "markdown",
   "metadata": {},
   "source": [
    "# Plotting the Distributions of Conditional Probabilities\n",
    "\n",
    "<p>Now that we have functions to calculate the probability of being age A at death given that you're left-handed or right-handed, let's plot these probabilities for a range of ages of death from 6 to 120. </p>\n",
    "\n",
    "<p>Notice that the left-handed distribution has a bump below age 70: of the pool of deceased people, left-handed people are more likely to be younger. </p>"
   ]
  },
  {
   "cell_type": "code",
   "execution_count": 49,
   "metadata": {},
   "outputs": [],
   "source": [
    "# Ages at death\n",
    "ages_of_death = death_distribution_data.Age_At_Death\n",
    "# calculate the probability of being left- or right-handed for each \n",
    "left_handed_probability = Prob_Age_given_lh(ages_of_death, death_distribution_data, study_year = 1990)\n",
    "right_handed_probability = Prob_Age_given_rh(ages_of_death, death_distribution_data, study_year = 1990)"
   ]
  },
  {
   "cell_type": "code",
   "execution_count": 50,
   "metadata": {},
   "outputs": [
    {
     "data": {
      "text/plain": [
       "Text(0, 0.5, 'Probability of being age A at death')"
      ]
     },
     "execution_count": 50,
     "metadata": {},
     "output_type": "execute_result"
    },
    {
     "data": {
      "image/png": "[encoded data removed]",
      "text/plain": [
       "<Figure size 432x288 with 1 Axes>"
      ]
     },
     "metadata": {
      "needs_background": "light"
     },
     "output_type": "display_data"
    }
   ],
   "source": [
    "# create a plot of the two probabilities vs. age\n",
    "fig, ax = plt.subplots() # create figure and axis objects\n",
    "ax.plot(ages_of_death, left_handed_probability, label = \"Left-handed\")\n",
    "ax.plot(ages_of_death, right_handed_probability, label = \"Right-handed\")\n",
    "# ax.plot(left_handed_probability, right_handed_probability, label = 'Probabilities')\n",
    "ax.legend() # add a legend\n",
    "ax.set_xlabel(\"Age at death\")\n",
    "ax.set_ylabel(r\"Probability of being age A at death\")"
   ]
  },
  {
   "cell_type": "markdown",
   "metadata": {},
   "source": [
    "<hr style=\"border-top: 3px solid black;\">"
   ]
  },
  {
   "cell_type": "markdown",
   "metadata": {},
   "source": [
    "# <font color=\"red\">Final Test:</font> Age of left and right-handers at death\n",
    "\n",
    "<p>\n",
    "    <strong>Goal:</strong><br>\n",
    "    Compare these results with the results from the original study.<br>\n",
    "    Original study suggest that left-handed people were nine years younger at death on average.<br>\n",
    "    <br>\n",
    "    <strong>Process:</strong><br>\n",
    "    <ol>\n",
    "        <li>Calculate the mean of these probability distributions</li>\n",
    "        <li>Weight the probability distribution by age</li>\n",
    "        <li>Summing over the result</li>        \n",
    "    </ol>\n",
    "</p>\n",
    "\n",
    "<center>\n",
    "<img src=\"static/images/bayes_ave_equations.png\">\n",
    "</center>"
   ]
  },
  {
   "cell_type": "code",
   "execution_count": 51,
   "metadata": {},
   "outputs": [
    {
     "name": "stdout",
     "output_type": "stream",
     "text": [
      "The average age for left-handers is :67.26\n",
      "The average age for right-handers is: 72.8\n",
      "The difference in average ages is 5.5 years.\n"
     ]
    }
   ],
   "source": [
    "# calculate average ages for left-handed and right-handed groups\n",
    "# use np.array so that two arrays can be multiplied\n",
    "average_lh_age =  np.round(np.nansum(ages_of_death*np.array(left_handed_probability)),2)\n",
    "average_rh_age =  np.round(np.nansum(ages_of_death*np.array(right_handed_probability)),2)\n",
    "\n",
    "# print the average ages for each group\n",
    "print('The average age for left-handers is :{}\\nThe average age for right-handers is: {}'.format(average_lh_age, average_rh_age))\n",
    "\n",
    "# print the difference between the average ages\n",
    "print(\"The difference in average ages is \" + str(round(average_rh_age - average_lh_age, 1)) + \" years.\")"
   ]
  },
  {
   "cell_type": "markdown",
   "metadata": {},
   "source": [
    "<div style=\"border:1px solid black; padding:10px\">\n",
    "<font color=\"blue\">Note:</font><br>\n",
    "\n",
    " - There is an age gap between left-handed and right-handed people.\n",
    " - Reported rates of left-handedness were ~3-6% in the early 1900s and then increased to 10-13% in the late 1990s.\n",
    " - Right handed inviduals outnumber left handed individuals at a majority of ages, including older people in study.\n",
    " - Left-handed study was suggest that the US death data will have more right-handed deaths.\n",
    " - The numbers in this study are less than the study published, this may be due to the death data taking the entire US population into account, rather than just California.\n",
    " - Extrapolations used on younger and older age groups may not reflect the actual rates in those ages.\n",
    "</div>"
   ]
  }
 ],
 "metadata": {
  "kernelspec": {
   "display_name": "Python 3",
   "language": "python",
   "name": "python3"
  },
  "language_info": {
   "codemirror_mode": {
    "name": "ipython",
    "version": 3
   },
   "file_extension": ".py",
   "mimetype": "text/x-python",
   "name": "python",
   "nbconvert_exporter": "python",
   "pygments_lexer": "ipython3",
   "version": "3.7.6"
  }
 },
 "nbformat": 4,
 "nbformat_minor": 2
}

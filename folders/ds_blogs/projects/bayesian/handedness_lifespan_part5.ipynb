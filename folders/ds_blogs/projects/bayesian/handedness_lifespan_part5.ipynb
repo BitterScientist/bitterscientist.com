{
 "cells": [
  {
   "cell_type": "markdown",
   "metadata": {},
   "source": [
    "<hr style=\"border-top: 3px solid black;\">"
   ]
  },
  {
   "cell_type": "markdown",
   "metadata": {},
   "source": [
    "# Import Dependencies"
   ]
  },
  {
   "cell_type": "code",
   "execution_count": 1,
   "metadata": {},
   "outputs": [],
   "source": [
    "import pandas as pd\n",
    "import numpy as np\n",
    "\n",
    "# load data\n",
    "%store -r left_handed_probability\n",
    "%store -r right_handed_probability\n",
    "%store -r ages_of_death"
   ]
  },
  {
   "cell_type": "markdown",
   "metadata": {},
   "source": [
    "# <font color=\"red\">Final Test:</font> Age of left and right-handers at death\n",
    "\n",
    "<p>\n",
    "    <strong>Goal:</strong><br>\n",
    "    Compare these results with the results from the original study.<br>\n",
    "    Original study suggest that left-handed people were nine years younger at death on average.<br>\n",
    "    <br>\n",
    "    <strong>Process:</strong><br>\n",
    "    <ol>\n",
    "        <li>Calculate the mean of these probability distributions</li>\n",
    "        <li>Weight the probability distribution by age</li>\n",
    "        <li>Summing over the result</li>        \n",
    "    </ol>\n",
    "</p>\n",
    "\n",
    "<center>\n",
    "<img src=\"static/images/bayes_ave_equations.png\">\n",
    "</center>"
   ]
  },
  {
   "cell_type": "code",
   "execution_count": 2,
   "metadata": {},
   "outputs": [
    {
     "name": "stdout",
     "output_type": "stream",
     "text": [
      "The average age for left-handers is :67.26\n",
      "The average age for right-handers is: 72.8\n",
      "The difference in average ages is 5.5 years.\n"
     ]
    }
   ],
   "source": [
    "# calculate average ages for left-handed and right-handed groups\n",
    "# use np.array so that two arrays can be multiplied\n",
    "average_lh_age =  np.round(np.nansum(ages_of_death*np.array(left_handed_probability)),2)\n",
    "average_rh_age =  np.round(np.nansum(ages_of_death*np.array(right_handed_probability)),2)\n",
    "\n",
    "# print the average ages for each group\n",
    "print('The average age for left-handers is :{}\\nThe average age for right-handers is: {}'.format(average_lh_age, average_rh_age))\n",
    "\n",
    "# print the difference between the average ages\n",
    "print(\"The difference in average ages is \" + str(round(average_rh_age - average_lh_age, 1)) + \" years.\")"
   ]
  },
  {
   "cell_type": "markdown",
   "metadata": {},
   "source": [
    "<div style=\"border:1px solid black; padding:10px\">\n",
    "<font color=\"blue\">Note:</font><br>\n",
    "\n",
    " - There is an age gap between left-handed and right-handed people.\n",
    " - Reported rates of left-handedness were ~3-6% in the early 1900s and then increased to 10-13% in the late 1990s.\n",
    " - Right handed inviduals outnumber left handed individuals at a majority of ages, including older people in study.\n",
    " - Left-handed study was suggest that the US death data will have more right-handed deaths.\n",
    " - The numbers in this study are less than the study published, this may be due to the death data taking the entire US population into account, rather than just California.\n",
    " - Extrapolations used on younger and older age groups may not reflect the actual rates in those ages.\n",
    "</div>"
   ]
  }
 ],
 "metadata": {
  "kernelspec": {
   "display_name": "Python 3",
   "language": "python",
   "name": "python3"
  },
  "language_info": {
   "codemirror_mode": {
    "name": "ipython",
    "version": 3
   },
   "file_extension": ".py",
   "mimetype": "text/x-python",
   "name": "python",
   "nbconvert_exporter": "python",
   "pygments_lexer": "ipython3",
   "version": "3.7.6"
  }
 },
 "nbformat": 4,
 "nbformat_minor": 2
}

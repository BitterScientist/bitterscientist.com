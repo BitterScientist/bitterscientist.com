{
 "cells": [
  {
   "cell_type": "markdown",
   "metadata": {},
   "source": [
    "# Project Overview"
   ]
  },
  {
   "cell_type": "markdown",
   "metadata": {},
   "source": [
    "### Step 1: Identify the top 2019 home run batter for the Washington Nationals, and the Houston Astros\n",
    " - Home run data for the 2019 season\n",
    "\n",
    "#### Methodology\n",
    " - Extract 2019 team statistics from baseball-reference.com (Web Scraping > pandas > csv)\n",
    " - Clean data in pandas\n",
    " - analyze data using pandas, visualize data with matplotlib"
   ]
  },
  {
   "cell_type": "markdown",
   "metadata": {},
   "source": [
    "### Step 2: Characterzie the players performance for the 2019 season and determine which of these two outperformed the other.\n",
    "\n",
    "#### Compare players 2019 Statcast data for:\n",
    " - Ball Events\n",
    " - launch speed and launch angle\n",
    " - home runs by pitch velocity\n",
    " - home runs by pitch location\n",
    " - player home run zones\n",
    "\n",
    "#### Methodology\n",
    " - Extract 2019 team Statcast data as a csv from https://baseballsavant.mlb.com/statcast_search\n",
    " - Clean data in pandas\n",
    " - analyze data using pandas, visualize data with matplotlib and seaborn"
   ]
  },
  {
   "cell_type": "markdown",
   "metadata": {},
   "source": [
    "# STEP 1 - Data Extracting Phase"
   ]
  },
  {
   "cell_type": "markdown",
   "metadata": {},
   "source": [
    "### Step 1 Study Design\n",
    " - Extract 2019 team statistics from baseball-reference.com (Web Scraping > pandas > csv)\n",
    " - Clean data in pandas\n",
    " - analyze data using pandas, visualize data with matplotlib"
   ]
  },
  {
   "cell_type": "markdown",
   "metadata": {},
   "source": [
    "To compare the top home run scoring players for the 2019 World Series teams, we must first identify these players. <br>\n",
    "<strong>Data source:</strong> Baseball_reference.com<br>\n",
    "<strong>Data extraction method:</strong> Web Scraping using the python libraries: requests, lxml.html, pandas.<br>\n",
    "<strong>Rationale for Methodology and Study Assumptions</strong><br>\n",
    " - All batter statistics will be gathered in case we want to carry out additional analysis. Just looking at who are the top home run scorers is not enough.\n",
    " - We will assume that the data is not available in a downloadable format, thereby necessitating the use of this web scraping method."
   ]
  },
  {
   "cell_type": "markdown",
   "metadata": {},
   "source": [
    "## Gathering HTML Table Data"
   ]
  },
  {
   "cell_type": "markdown",
   "metadata": {},
   "source": [
    "<img src=\"static/images/baseball_ref_landing.png\">"
   ]
  },
  {
   "cell_type": "markdown",
   "metadata": {},
   "source": [
    "### Import Python Libraries"
   ]
  },
  {
   "cell_type": "code",
   "execution_count": 1,
   "metadata": {},
   "outputs": [],
   "source": [
    "import requests\n",
    "import lxml.html as lh\n",
    "import pandas as pd"
   ]
  },
  {
   "cell_type": "code",
   "execution_count": 2,
   "metadata": {},
   "outputs": [],
   "source": [
    "# Store website in url variables\n",
    "hou_url = \"https://www.baseball-reference.com/teams/HOU/2019.shtml\"\n",
    "wsn_url= \"https://www.baseball-reference.com/teams/WSN/2019.shtml#all_team_batting\""
   ]
  },
  {
   "cell_type": "markdown",
   "metadata": {},
   "source": [
    "### Request HTML"
   ]
  },
  {
   "cell_type": "code",
   "execution_count": 3,
   "metadata": {},
   "outputs": [],
   "source": [
    "# Use the request method on the url\n",
    "req_hou = requests.get(hou_url)\n",
    "req_wsn = requests.get(wsn_url)"
   ]
  },
  {
   "cell_type": "markdown",
   "metadata": {},
   "source": [
    "### Store DOM"
   ]
  },
  {
   "cell_type": "code",
   "execution_count": 4,
   "metadata": {},
   "outputs": [],
   "source": [
    "# Store the contents of the website using the html lxml.html parser lh\n",
    "doc_hou = lh.fromstring(req_hou.content)\n",
    "doc_wsn = lh.fromstring(req_wsn.content)"
   ]
  },
  {
   "cell_type": "markdown",
   "metadata": {},
   "source": [
    "### Parse HTML"
   ]
  },
  {
   "cell_type": "code",
   "execution_count": 5,
   "metadata": {},
   "outputs": [],
   "source": [
    "#Parse data that is stored between HTML table row tags <tr>..</tr>\n",
    "tr_hou_elements = doc_hou.xpath('//tr')\n",
    "tr_wsn_elements = doc_wsn.xpath('//tr')"
   ]
  },
  {
   "cell_type": "markdown",
   "metadata": {},
   "source": [
    "##### Quality control\n",
    " - Confirm that you are gathering tabular data\n",
    " - You can do that by inspecting the length of \n",
    " - the rows by using a list comprehension\n",
    " - make sure that each row has the same number of columns"
   ]
  },
  {
   "cell_type": "code",
   "execution_count": 6,
   "metadata": {},
   "outputs": [
    {
     "data": {
      "text/plain": [
       "[28, 28, 28, 28, 28, 28, 28, 28, 28, 28]"
      ]
     },
     "execution_count": 6,
     "metadata": {},
     "output_type": "execute_result"
    }
   ],
   "source": [
    "# Inspect the astros data\n",
    "[len(T) for T in tr_hou_elements[:10]]"
   ]
  },
  {
   "cell_type": "code",
   "execution_count": 7,
   "metadata": {},
   "outputs": [
    {
     "data": {
      "text/plain": [
       "[28, 28, 28, 28, 28, 28, 28, 28, 28, 28]"
      ]
     },
     "execution_count": 7,
     "metadata": {},
     "output_type": "execute_result"
    }
   ],
   "source": [
    "# Inspect the nationals data\n",
    "[len(T) for T in tr_wsn_elements[:10]]"
   ]
  },
  {
   "cell_type": "markdown",
   "metadata": {},
   "source": [
    "### Extract Header Data from HTML tr elements"
   ]
  },
  {
   "cell_type": "markdown",
   "metadata": {},
   "source": [
    "##### Save the header row\n",
    "###### Variales:\n",
    " - variables storing the table row html data: tr_hou_elements and tr_wsn_elements\n",
    " - Empty lists that will be used to store tr extracted data: hou_table_data, wsn_table_data"
   ]
  },
  {
   "cell_type": "code",
   "execution_count": 8,
   "metadata": {},
   "outputs": [],
   "source": [
    "# Extract Houston Astros html tr data and store in a list\n",
    "#Create empty list\n",
    "hou_table_data=[]\n",
    "i=0\n",
    "#For each row, store each first element (header) and an empty list\n",
    "for t in tr_hou_elements[0]:\n",
    "    i+=1\n",
    "\n",
    "    #lxlm text_content() method extracts text values\n",
    "    name=t.text_content()\n",
    "    #Check you are gathering the header information with print statement\n",
    "    #This is optional   \n",
    "#     print (i,name) \n",
    "    \n",
    "    #use the List .append() method to add the text from each row\n",
    "    #into the empty list col you created\n",
    "    hou_table_data.append((name,[]))"
   ]
  },
  {
   "cell_type": "code",
   "execution_count": 9,
   "metadata": {},
   "outputs": [],
   "source": [
    "#Create empty list\n",
    "wsn_table_data=[]\n",
    "i=0\n",
    "#For each row, store each first element (header) and an empty list\n",
    "for t in tr_wsn_elements[0]:\n",
    "    i+=1\n",
    "\n",
    "    #lxlm text_content() method extracts text values\n",
    "    name=t.text_content()\n",
    "    #Check you are gathering the header information with print statement\n",
    "    #This is optional   \n",
    "#     print (i,name) \n",
    "    \n",
    "    #use the List .append() method to add the text from each row\n",
    "    #into the empty list col you created\n",
    "    wsn_table_data.append((name,[]))"
   ]
  },
  {
   "cell_type": "markdown",
   "metadata": {},
   "source": [
    "### Extract Table Body Data from all other HTML tr elements"
   ]
  },
  {
   "cell_type": "markdown",
   "metadata": {},
   "source": [
    "##### Save the data rows\n",
    "\n",
    "###### Variales:\n",
    " - variables storing the table row html data: tr_hou_elements and tr_wsn_elements\n",
    " - The new lists created that have the header row data: hou_table_data, wsn_table_data\n",
    " - The header data was stored in the first row \n",
    " - From above code(index 0 = tr_elements[0])\n",
    " - data is stored on the second row onwards \n",
    " - Use a for loop to eterate through the reamining tr elements\n",
    " - Make sure that each row is tabular, if not break out\n",
    " - For tabular data (row with equal columms) \n",
    " - Store the data into your table_data list."
   ]
  },
  {
   "cell_type": "code",
   "execution_count": 10,
   "metadata": {},
   "outputs": [],
   "source": [
    "# Extract the Houston Astros Data\n",
    "for j in range(1,len(tr_hou_elements)):\n",
    "    \n",
    "    #T is our j'th row\n",
    "    T=tr_hou_elements[j]\n",
    "    \n",
    "    #Count the number of columns in the table and assign to variable\n",
    "    #In this example, we have 28 columns with data     \n",
    "    col_nbr = 28\n",
    "    \n",
    "    #If row is not of size 28 (# columns), \n",
    "    #the //tr data is not from our table \n",
    "    if len(T)!=col_nbr:\n",
    "        break\n",
    "    \n",
    "    #i is the index of our column\n",
    "    i=0\n",
    "    \n",
    "    #Iterate through each element of the row\n",
    "    #This for loop uses the lxlm .iterchildren() method\n",
    "    for t in T.iterchildren():\n",
    "        #This code uses the lxlm .text_content() method         \n",
    "        data=t.text_content() \n",
    "        \n",
    "        #Check if row is empty\n",
    "        if i>0:\n",
    "        #Convert any numerical value to integers\n",
    "            try:\n",
    "                data=int(data)\n",
    "            except:\n",
    "                pass\n",
    "        #Append the data to the empty list of the i'th column\n",
    "        hou_table_data[i][1].append(data)\n",
    "        #Increment i for the next column\n",
    "        i+=1"
   ]
  },
  {
   "cell_type": "code",
   "execution_count": 11,
   "metadata": {},
   "outputs": [],
   "source": [
    "# Extract the Washington Nationals Data\n",
    "for j in range(1,len(tr_wsn_elements)):\n",
    "    \n",
    "    #T is our j'th row\n",
    "    T=tr_hou_elements[j]\n",
    "    \n",
    "    #Count the number of columns in the table and assign to variable\n",
    "    #In this example, we have 28 columns with data     \n",
    "    col_nbr = 28\n",
    "    \n",
    "    #If row is not of size 28 (# columns), \n",
    "    #the //tr data is not from our table \n",
    "    if len(T)!=col_nbr:\n",
    "        break\n",
    "    \n",
    "    #i is the index of our column\n",
    "    i=0\n",
    "    \n",
    "    #Iterate through each element of the row\n",
    "    #This for loop uses the lxlm .iterchildren() method\n",
    "    for t in T.iterchildren():\n",
    "        #This code uses the lxlm .text_content() method         \n",
    "        data=t.text_content() \n",
    "        \n",
    "        #Check if row is empty\n",
    "        if i>0:\n",
    "        #Convert any numerical value to integers\n",
    "            try:\n",
    "                data=int(data)\n",
    "            except:\n",
    "                pass\n",
    "        #Append the data to the empty list of the i'th column\n",
    "        wsn_table_data[i][1].append(data)\n",
    "        #Increment i for the next column\n",
    "        i+=1"
   ]
  },
  {
   "cell_type": "code",
   "execution_count": 12,
   "metadata": {},
   "outputs": [
    {
     "data": {
      "text/plain": [
       "[52,\n",
       " 52,\n",
       " 52,\n",
       " 52,\n",
       " 52,\n",
       " 52,\n",
       " 52,\n",
       " 52,\n",
       " 52,\n",
       " 52,\n",
       " 52,\n",
       " 52,\n",
       " 52,\n",
       " 52,\n",
       " 52,\n",
       " 52,\n",
       " 52,\n",
       " 52,\n",
       " 52,\n",
       " 52,\n",
       " 52,\n",
       " 52,\n",
       " 52,\n",
       " 52,\n",
       " 52,\n",
       " 52,\n",
       " 52,\n",
       " 52]"
      ]
     },
     "execution_count": 12,
     "metadata": {},
     "output_type": "execute_result"
    }
   ],
   "source": [
    "# Quality control - confirm that you gathered columns with equal rows\n",
    "[len(C) for (title,C) in hou_table_data]"
   ]
  },
  {
   "cell_type": "code",
   "execution_count": 13,
   "metadata": {},
   "outputs": [
    {
     "data": {
      "text/plain": [
       "[52,\n",
       " 52,\n",
       " 52,\n",
       " 52,\n",
       " 52,\n",
       " 52,\n",
       " 52,\n",
       " 52,\n",
       " 52,\n",
       " 52,\n",
       " 52,\n",
       " 52,\n",
       " 52,\n",
       " 52,\n",
       " 52,\n",
       " 52,\n",
       " 52,\n",
       " 52,\n",
       " 52,\n",
       " 52,\n",
       " 52,\n",
       " 52,\n",
       " 52,\n",
       " 52,\n",
       " 52,\n",
       " 52,\n",
       " 52,\n",
       " 52]"
      ]
     },
     "execution_count": 13,
     "metadata": {},
     "output_type": "execute_result"
    }
   ],
   "source": [
    "# Quality control - confirm that you gathered columns with equal rows\n",
    "[len(C) for (title,C) in wsn_table_data]"
   ]
  },
  {
   "cell_type": "markdown",
   "metadata": {},
   "source": [
    "### Save data into a pandas dataframe"
   ]
  },
  {
   "cell_type": "code",
   "execution_count": 14,
   "metadata": {},
   "outputs": [],
   "source": [
    "# Create the dataframe for the houston astros\n",
    "Dict={title:column for (title,column) in hou_table_data}\n",
    "hou_df=pd.DataFrame(Dict)"
   ]
  },
  {
   "cell_type": "code",
   "execution_count": 15,
   "metadata": {},
   "outputs": [],
   "source": [
    "# Create the dataframe for the washington nationals\n",
    "Dict={title:column for (title,column) in wsn_table_data}\n",
    "wsn_df=pd.DataFrame(Dict)"
   ]
  },
  {
   "cell_type": "code",
   "execution_count": 16,
   "metadata": {},
   "outputs": [
    {
     "data": {
      "text/html": [
       "<div>\n",
       "<style scoped>\n",
       "    .dataframe tbody tr th:only-of-type {\n",
       "        vertical-align: middle;\n",
       "    }\n",
       "\n",
       "    .dataframe tbody tr th {\n",
       "        vertical-align: top;\n",
       "    }\n",
       "\n",
       "    .dataframe thead th {\n",
       "        text-align: right;\n",
       "    }\n",
       "</style>\n",
       "<table border=\"1\" class=\"dataframe\">\n",
       "  <thead>\n",
       "    <tr style=\"text-align: right;\">\n",
       "      <th></th>\n",
       "      <th>Rk</th>\n",
       "      <th>Pos</th>\n",
       "      <th>Name</th>\n",
       "      <th>Age</th>\n",
       "      <th>G</th>\n",
       "      <th>PA</th>\n",
       "      <th>AB</th>\n",
       "      <th>R</th>\n",
       "      <th>H</th>\n",
       "      <th>2B</th>\n",
       "      <th>...</th>\n",
       "      <th>OBP</th>\n",
       "      <th>SLG</th>\n",
       "      <th>OPS</th>\n",
       "      <th>OPS+</th>\n",
       "      <th>TB</th>\n",
       "      <th>GDP</th>\n",
       "      <th>HBP</th>\n",
       "      <th>SH</th>\n",
       "      <th>SF</th>\n",
       "      <th>IBB</th>\n",
       "    </tr>\n",
       "  </thead>\n",
       "  <tbody>\n",
       "    <tr>\n",
       "      <th>0</th>\n",
       "      <td>1</td>\n",
       "      <td>C</td>\n",
       "      <td>Robinson Chirinos</td>\n",
       "      <td>35</td>\n",
       "      <td>114</td>\n",
       "      <td>437</td>\n",
       "      <td>366</td>\n",
       "      <td>57</td>\n",
       "      <td>87</td>\n",
       "      <td>22</td>\n",
       "      <td>...</td>\n",
       "      <td>.347</td>\n",
       "      <td>.443</td>\n",
       "      <td>.790</td>\n",
       "      <td>105</td>\n",
       "      <td>162</td>\n",
       "      <td>11</td>\n",
       "      <td>13</td>\n",
       "      <td>2</td>\n",
       "      <td>5</td>\n",
       "      <td>1</td>\n",
       "    </tr>\n",
       "    <tr>\n",
       "      <th>1</th>\n",
       "      <td>2</td>\n",
       "      <td>1B</td>\n",
       "      <td>Yuli Gurriel</td>\n",
       "      <td>35</td>\n",
       "      <td>144</td>\n",
       "      <td>612</td>\n",
       "      <td>564</td>\n",
       "      <td>85</td>\n",
       "      <td>168</td>\n",
       "      <td>40</td>\n",
       "      <td>...</td>\n",
       "      <td>.343</td>\n",
       "      <td>.541</td>\n",
       "      <td>.884</td>\n",
       "      <td>126</td>\n",
       "      <td>305</td>\n",
       "      <td>12</td>\n",
       "      <td>5</td>\n",
       "      <td>0</td>\n",
       "      <td>6</td>\n",
       "      <td>2</td>\n",
       "    </tr>\n",
       "    <tr>\n",
       "      <th>2</th>\n",
       "      <td>3</td>\n",
       "      <td>2B</td>\n",
       "      <td>Jose Altuve</td>\n",
       "      <td>29</td>\n",
       "      <td>124</td>\n",
       "      <td>548</td>\n",
       "      <td>500</td>\n",
       "      <td>89</td>\n",
       "      <td>149</td>\n",
       "      <td>27</td>\n",
       "      <td>...</td>\n",
       "      <td>.353</td>\n",
       "      <td>.550</td>\n",
       "      <td>.903</td>\n",
       "      <td>131</td>\n",
       "      <td>275</td>\n",
       "      <td>19</td>\n",
       "      <td>3</td>\n",
       "      <td>1</td>\n",
       "      <td>3</td>\n",
       "      <td>0</td>\n",
       "    </tr>\n",
       "    <tr>\n",
       "      <th>3</th>\n",
       "      <td>4</td>\n",
       "      <td>SS</td>\n",
       "      <td>Carlos Correa</td>\n",
       "      <td>24</td>\n",
       "      <td>75</td>\n",
       "      <td>321</td>\n",
       "      <td>280</td>\n",
       "      <td>42</td>\n",
       "      <td>78</td>\n",
       "      <td>16</td>\n",
       "      <td>...</td>\n",
       "      <td>.358</td>\n",
       "      <td>.568</td>\n",
       "      <td>.926</td>\n",
       "      <td>137</td>\n",
       "      <td>159</td>\n",
       "      <td>8</td>\n",
       "      <td>2</td>\n",
       "      <td>0</td>\n",
       "      <td>4</td>\n",
       "      <td>0</td>\n",
       "    </tr>\n",
       "    <tr>\n",
       "      <th>4</th>\n",
       "      <td>5</td>\n",
       "      <td>3B</td>\n",
       "      <td>Alex Bregman</td>\n",
       "      <td>25</td>\n",
       "      <td>156</td>\n",
       "      <td>690</td>\n",
       "      <td>554</td>\n",
       "      <td>122</td>\n",
       "      <td>164</td>\n",
       "      <td>37</td>\n",
       "      <td>...</td>\n",
       "      <td>.423</td>\n",
       "      <td>.592</td>\n",
       "      <td>1.015</td>\n",
       "      <td>162</td>\n",
       "      <td>328</td>\n",
       "      <td>9</td>\n",
       "      <td>9</td>\n",
       "      <td>0</td>\n",
       "      <td>8</td>\n",
       "      <td>2</td>\n",
       "    </tr>\n",
       "  </tbody>\n",
       "</table>\n",
       "<p>5 rows × 28 columns</p>\n",
       "</div>"
      ],
      "text/plain": [
       "  Rk Pos               Name Age    G   PA   AB    R    H  2B  ...   OBP   SLG  \\\n",
       "0  1   C  Robinson Chirinos  35  114  437  366   57   87  22  ...  .347  .443   \n",
       "1  2  1B       Yuli Gurriel  35  144  612  564   85  168  40  ...  .343  .541   \n",
       "2  3  2B        Jose Altuve  29  124  548  500   89  149  27  ...  .353  .550   \n",
       "3  4  SS      Carlos Correa  24   75  321  280   42   78  16  ...  .358  .568   \n",
       "4  5  3B       Alex Bregman  25  156  690  554  122  164  37  ...  .423  .592   \n",
       "\n",
       "     OPS OPS+   TB GDP HBP SH SF IBB  \n",
       "0   .790  105  162  11  13  2  5   1  \n",
       "1   .884  126  305  12   5  0  6   2  \n",
       "2   .903  131  275  19   3  1  3   0  \n",
       "3   .926  137  159   8   2  0  4   0  \n",
       "4  1.015  162  328   9   9  0  8   2  \n",
       "\n",
       "[5 rows x 28 columns]"
      ]
     },
     "execution_count": 16,
     "metadata": {},
     "output_type": "execute_result"
    }
   ],
   "source": [
    "# Inspect houston astros dataframe\n",
    "hou_df.head()"
   ]
  },
  {
   "cell_type": "code",
   "execution_count": 17,
   "metadata": {},
   "outputs": [
    {
     "data": {
      "text/html": [
       "<div>\n",
       "<style scoped>\n",
       "    .dataframe tbody tr th:only-of-type {\n",
       "        vertical-align: middle;\n",
       "    }\n",
       "\n",
       "    .dataframe tbody tr th {\n",
       "        vertical-align: top;\n",
       "    }\n",
       "\n",
       "    .dataframe thead th {\n",
       "        text-align: right;\n",
       "    }\n",
       "</style>\n",
       "<table border=\"1\" class=\"dataframe\">\n",
       "  <thead>\n",
       "    <tr style=\"text-align: right;\">\n",
       "      <th></th>\n",
       "      <th>Rk</th>\n",
       "      <th>Pos</th>\n",
       "      <th>Name</th>\n",
       "      <th>Age</th>\n",
       "      <th>G</th>\n",
       "      <th>PA</th>\n",
       "      <th>AB</th>\n",
       "      <th>R</th>\n",
       "      <th>H</th>\n",
       "      <th>2B</th>\n",
       "      <th>...</th>\n",
       "      <th>OBP</th>\n",
       "      <th>SLG</th>\n",
       "      <th>OPS</th>\n",
       "      <th>OPS+</th>\n",
       "      <th>TB</th>\n",
       "      <th>GDP</th>\n",
       "      <th>HBP</th>\n",
       "      <th>SH</th>\n",
       "      <th>SF</th>\n",
       "      <th>IBB</th>\n",
       "    </tr>\n",
       "  </thead>\n",
       "  <tbody>\n",
       "    <tr>\n",
       "      <th>0</th>\n",
       "      <td>1</td>\n",
       "      <td>C</td>\n",
       "      <td>Robinson Chirinos</td>\n",
       "      <td>35</td>\n",
       "      <td>114</td>\n",
       "      <td>437</td>\n",
       "      <td>366</td>\n",
       "      <td>57</td>\n",
       "      <td>87</td>\n",
       "      <td>22</td>\n",
       "      <td>...</td>\n",
       "      <td>.347</td>\n",
       "      <td>.443</td>\n",
       "      <td>.790</td>\n",
       "      <td>105</td>\n",
       "      <td>162</td>\n",
       "      <td>11</td>\n",
       "      <td>13</td>\n",
       "      <td>2</td>\n",
       "      <td>5</td>\n",
       "      <td>1</td>\n",
       "    </tr>\n",
       "    <tr>\n",
       "      <th>1</th>\n",
       "      <td>2</td>\n",
       "      <td>1B</td>\n",
       "      <td>Yuli Gurriel</td>\n",
       "      <td>35</td>\n",
       "      <td>144</td>\n",
       "      <td>612</td>\n",
       "      <td>564</td>\n",
       "      <td>85</td>\n",
       "      <td>168</td>\n",
       "      <td>40</td>\n",
       "      <td>...</td>\n",
       "      <td>.343</td>\n",
       "      <td>.541</td>\n",
       "      <td>.884</td>\n",
       "      <td>126</td>\n",
       "      <td>305</td>\n",
       "      <td>12</td>\n",
       "      <td>5</td>\n",
       "      <td>0</td>\n",
       "      <td>6</td>\n",
       "      <td>2</td>\n",
       "    </tr>\n",
       "    <tr>\n",
       "      <th>2</th>\n",
       "      <td>3</td>\n",
       "      <td>2B</td>\n",
       "      <td>Jose Altuve</td>\n",
       "      <td>29</td>\n",
       "      <td>124</td>\n",
       "      <td>548</td>\n",
       "      <td>500</td>\n",
       "      <td>89</td>\n",
       "      <td>149</td>\n",
       "      <td>27</td>\n",
       "      <td>...</td>\n",
       "      <td>.353</td>\n",
       "      <td>.550</td>\n",
       "      <td>.903</td>\n",
       "      <td>131</td>\n",
       "      <td>275</td>\n",
       "      <td>19</td>\n",
       "      <td>3</td>\n",
       "      <td>1</td>\n",
       "      <td>3</td>\n",
       "      <td>0</td>\n",
       "    </tr>\n",
       "    <tr>\n",
       "      <th>3</th>\n",
       "      <td>4</td>\n",
       "      <td>SS</td>\n",
       "      <td>Carlos Correa</td>\n",
       "      <td>24</td>\n",
       "      <td>75</td>\n",
       "      <td>321</td>\n",
       "      <td>280</td>\n",
       "      <td>42</td>\n",
       "      <td>78</td>\n",
       "      <td>16</td>\n",
       "      <td>...</td>\n",
       "      <td>.358</td>\n",
       "      <td>.568</td>\n",
       "      <td>.926</td>\n",
       "      <td>137</td>\n",
       "      <td>159</td>\n",
       "      <td>8</td>\n",
       "      <td>2</td>\n",
       "      <td>0</td>\n",
       "      <td>4</td>\n",
       "      <td>0</td>\n",
       "    </tr>\n",
       "    <tr>\n",
       "      <th>4</th>\n",
       "      <td>5</td>\n",
       "      <td>3B</td>\n",
       "      <td>Alex Bregman</td>\n",
       "      <td>25</td>\n",
       "      <td>156</td>\n",
       "      <td>690</td>\n",
       "      <td>554</td>\n",
       "      <td>122</td>\n",
       "      <td>164</td>\n",
       "      <td>37</td>\n",
       "      <td>...</td>\n",
       "      <td>.423</td>\n",
       "      <td>.592</td>\n",
       "      <td>1.015</td>\n",
       "      <td>162</td>\n",
       "      <td>328</td>\n",
       "      <td>9</td>\n",
       "      <td>9</td>\n",
       "      <td>0</td>\n",
       "      <td>8</td>\n",
       "      <td>2</td>\n",
       "    </tr>\n",
       "  </tbody>\n",
       "</table>\n",
       "<p>5 rows × 28 columns</p>\n",
       "</div>"
      ],
      "text/plain": [
       "  Rk Pos               Name Age    G   PA   AB    R    H  2B  ...   OBP   SLG  \\\n",
       "0  1   C  Robinson Chirinos  35  114  437  366   57   87  22  ...  .347  .443   \n",
       "1  2  1B       Yuli Gurriel  35  144  612  564   85  168  40  ...  .343  .541   \n",
       "2  3  2B        Jose Altuve  29  124  548  500   89  149  27  ...  .353  .550   \n",
       "3  4  SS      Carlos Correa  24   75  321  280   42   78  16  ...  .358  .568   \n",
       "4  5  3B       Alex Bregman  25  156  690  554  122  164  37  ...  .423  .592   \n",
       "\n",
       "     OPS OPS+   TB GDP HBP SH SF IBB  \n",
       "0   .790  105  162  11  13  2  5   1  \n",
       "1   .884  126  305  12   5  0  6   2  \n",
       "2   .903  131  275  19   3  1  3   0  \n",
       "3   .926  137  159   8   2  0  4   0  \n",
       "4  1.015  162  328   9   9  0  8   2  \n",
       "\n",
       "[5 rows x 28 columns]"
      ]
     },
     "execution_count": 17,
     "metadata": {},
     "output_type": "execute_result"
    }
   ],
   "source": [
    "# Inspect washtingon nationals dataframe\n",
    "wsn_df.head()"
   ]
  },
  {
   "cell_type": "markdown",
   "metadata": {},
   "source": [
    "### Save dataframe to csv file"
   ]
  },
  {
   "cell_type": "code",
   "execution_count": 18,
   "metadata": {},
   "outputs": [],
   "source": [
    "hou_df.to_csv(\"2019_houston_astros\", encoding='utf-8', index=False)"
   ]
  },
  {
   "cell_type": "code",
   "execution_count": 19,
   "metadata": {},
   "outputs": [],
   "source": [
    "wsn_df.to_csv(\"2019_houston_astros\", encoding='utf-8', index=False)"
   ]
  }
 ],
 "metadata": {
  "kernelspec": {
   "display_name": "Python 3",
   "language": "python",
   "name": "python3"
  },
  "language_info": {
   "codemirror_mode": {
    "name": "ipython",
    "version": 3
   },
   "file_extension": ".py",
   "mimetype": "text/x-python",
   "name": "python",
   "nbconvert_exporter": "python",
   "pygments_lexer": "ipython3",
   "version": "3.7.4"
  }
 },
 "nbformat": 4,
 "nbformat_minor": 2
}

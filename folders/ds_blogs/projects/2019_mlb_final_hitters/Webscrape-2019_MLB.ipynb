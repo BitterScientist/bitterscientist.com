{
 "cells": [
  {
   "cell_type": "code",
   "execution_count": 25,
   "metadata": {},
   "outputs": [],
   "source": [
    "# Import libraries\n",
    "import pandas as pd\n",
    "import requests\n",
    "import lxml.html as lh"
   ]
  },
  {
   "cell_type": "code",
   "execution_count": 26,
   "metadata": {},
   "outputs": [],
   "source": [
    "# Website with data I want to scrape\n",
    "url = \"https://www.baseball-reference.com/teams/WSN/2019.shtml#all_team_batting\""
   ]
  },
  {
   "cell_type": "code",
   "execution_count": 27,
   "metadata": {},
   "outputs": [],
   "source": [
    "# Method 1 beautiful soup to pandas\n",
    "page = requests.get(url)"
   ]
  },
  {
   "cell_type": "code",
   "execution_count": 28,
   "metadata": {},
   "outputs": [],
   "source": [
    "# Method 2 - \n",
    "#Store the contents of the website under doc\n",
    "doc = lh.fromstring(page.content)"
   ]
  },
  {
   "cell_type": "code",
   "execution_count": 29,
   "metadata": {},
   "outputs": [],
   "source": [
    "#Parse data that are stored between <tr>..</tr> of HTML\n",
    "tr_elements = doc.xpath('//tr')"
   ]
  },
  {
   "cell_type": "code",
   "execution_count": 30,
   "metadata": {},
   "outputs": [
    {
     "data": {
      "text/plain": [
       "[28, 28, 28, 28, 28, 28, 28, 28, 28, 28, 28, 28]"
      ]
     },
     "execution_count": 30,
     "metadata": {},
     "output_type": "execute_result"
    }
   ],
   "source": [
    "#Check the length of the first 12 rows\n",
    "[len(T) for T in tr_elements[:12]]"
   ]
  },
  {
   "cell_type": "code",
   "execution_count": 31,
   "metadata": {},
   "outputs": [
    {
     "name": "stdout",
     "output_type": "stream",
     "text": [
      "1 Rk\n",
      "2 Pos\n",
      "3 Name\n",
      "4 Age\n",
      "5 G\n",
      "6 PA\n",
      "7 AB\n",
      "8 R\n",
      "9 H\n",
      "10 2B\n",
      "11 3B\n",
      "12 HR\n",
      "13 RBI\n",
      "14 SB\n",
      "15 CS\n",
      "16 BB\n",
      "17 SO\n",
      "18 BA\n",
      "19 OBP\n",
      "20 SLG\n",
      "21 OPS\n",
      "22 OPS+\n",
      "23 TB\n",
      "24 GDP\n",
      "25 HBP\n",
      "26 SH\n",
      "27 SF\n",
      "28 IBB\n"
     ]
    }
   ],
   "source": [
    "tr_elements = doc.xpath('//tr')\n",
    "#Create empty list\n",
    "col=[]\n",
    "i=0\n",
    "#For each row, store each first element (header) and an empty list\n",
    "for t in tr_elements[0]:\n",
    "    i+=1\n",
    "    name=t.text_content()\n",
    "    print (i,name)\n",
    "    col.append((name,[]))"
   ]
  },
  {
   "cell_type": "code",
   "execution_count": 32,
   "metadata": {},
   "outputs": [],
   "source": [
    "#Since out first row is the header, data is stored on the second row onwards\n",
    "for j in range(1,len(tr_elements)):\n",
    "    #T is our j'th row\n",
    "    T=tr_elements[j]\n",
    "    \n",
    "    #If row is not of size 28 (# columns), the //tr data is not from our table \n",
    "    if len(T)!=28:\n",
    "        break\n",
    "    \n",
    "    #i is the index of our column\n",
    "    i=0\n",
    "    \n",
    "    #Iterate through each element of the row\n",
    "    for t in T.iterchildren():\n",
    "        data=t.text_content() \n",
    "        #Check if row is empty\n",
    "        if i>0:\n",
    "        #Convert any numerical value to integers\n",
    "            try:\n",
    "                data=int(data)\n",
    "            except:\n",
    "                pass\n",
    "        #Append the data to the empty list of the i'th column\n",
    "        col[i][1].append(data)\n",
    "        #Increment i for the next column\n",
    "        i+=1"
   ]
  },
  {
   "cell_type": "code",
   "execution_count": 33,
   "metadata": {},
   "outputs": [
    {
     "data": {
      "text/plain": [
       "[57,\n",
       " 57,\n",
       " 57,\n",
       " 57,\n",
       " 57,\n",
       " 57,\n",
       " 57,\n",
       " 57,\n",
       " 57,\n",
       " 57,\n",
       " 57,\n",
       " 57,\n",
       " 57,\n",
       " 57,\n",
       " 57,\n",
       " 57,\n",
       " 57,\n",
       " 57,\n",
       " 57,\n",
       " 57,\n",
       " 57,\n",
       " 57,\n",
       " 57,\n",
       " 57,\n",
       " 57,\n",
       " 57,\n",
       " 57,\n",
       " 57]"
      ]
     },
     "execution_count": 33,
     "metadata": {},
     "output_type": "execute_result"
    }
   ],
   "source": [
    "# Check length of each column is equal\n",
    "[len(C) for (title,C) in col]"
   ]
  },
  {
   "cell_type": "code",
   "execution_count": 20,
   "metadata": {},
   "outputs": [],
   "source": [
    "# Create the dataframe\n",
    "Dict={title:column for (title,column) in col}\n",
    "df=pd.DataFrame(Dict)"
   ]
  },
  {
   "cell_type": "code",
   "execution_count": 21,
   "metadata": {},
   "outputs": [
    {
     "data": {
      "text/html": [
       "<div>\n",
       "<style scoped>\n",
       "    .dataframe tbody tr th:only-of-type {\n",
       "        vertical-align: middle;\n",
       "    }\n",
       "\n",
       "    .dataframe tbody tr th {\n",
       "        vertical-align: top;\n",
       "    }\n",
       "\n",
       "    .dataframe thead th {\n",
       "        text-align: right;\n",
       "    }\n",
       "</style>\n",
       "<table border=\"1\" class=\"dataframe\">\n",
       "  <thead>\n",
       "    <tr style=\"text-align: right;\">\n",
       "      <th></th>\n",
       "      <th>Rk</th>\n",
       "      <th>Pos</th>\n",
       "      <th>Name</th>\n",
       "      <th>Age</th>\n",
       "      <th>G</th>\n",
       "      <th>PA</th>\n",
       "      <th>AB</th>\n",
       "      <th>R</th>\n",
       "      <th>H</th>\n",
       "      <th>2B</th>\n",
       "      <th>...</th>\n",
       "      <th>OBP</th>\n",
       "      <th>SLG</th>\n",
       "      <th>OPS</th>\n",
       "      <th>OPS+</th>\n",
       "      <th>TB</th>\n",
       "      <th>GDP</th>\n",
       "      <th>HBP</th>\n",
       "      <th>SH</th>\n",
       "      <th>SF</th>\n",
       "      <th>IBB</th>\n",
       "    </tr>\n",
       "  </thead>\n",
       "  <tbody>\n",
       "    <tr>\n",
       "      <th>0</th>\n",
       "      <td>1</td>\n",
       "      <td>C</td>\n",
       "      <td>Yan Gomes</td>\n",
       "      <td>31</td>\n",
       "      <td>97</td>\n",
       "      <td>358</td>\n",
       "      <td>314</td>\n",
       "      <td>36</td>\n",
       "      <td>70</td>\n",
       "      <td>16</td>\n",
       "      <td>...</td>\n",
       "      <td>.316</td>\n",
       "      <td>.389</td>\n",
       "      <td>.704</td>\n",
       "      <td>78</td>\n",
       "      <td>122</td>\n",
       "      <td>7</td>\n",
       "      <td>5</td>\n",
       "      <td>0</td>\n",
       "      <td>1</td>\n",
       "      <td>6</td>\n",
       "    </tr>\n",
       "    <tr>\n",
       "      <th>1</th>\n",
       "      <td>2</td>\n",
       "      <td>1B</td>\n",
       "      <td>Matt Adams*</td>\n",
       "      <td>30</td>\n",
       "      <td>111</td>\n",
       "      <td>333</td>\n",
       "      <td>310</td>\n",
       "      <td>42</td>\n",
       "      <td>70</td>\n",
       "      <td>14</td>\n",
       "      <td>...</td>\n",
       "      <td>.276</td>\n",
       "      <td>.465</td>\n",
       "      <td>.741</td>\n",
       "      <td>83</td>\n",
       "      <td>144</td>\n",
       "      <td>7</td>\n",
       "      <td>2</td>\n",
       "      <td>0</td>\n",
       "      <td>1</td>\n",
       "      <td>1</td>\n",
       "    </tr>\n",
       "    <tr>\n",
       "      <th>2</th>\n",
       "      <td>3</td>\n",
       "      <td>2B</td>\n",
       "      <td>Brian Dozier</td>\n",
       "      <td>32</td>\n",
       "      <td>135</td>\n",
       "      <td>482</td>\n",
       "      <td>416</td>\n",
       "      <td>54</td>\n",
       "      <td>99</td>\n",
       "      <td>20</td>\n",
       "      <td>...</td>\n",
       "      <td>.340</td>\n",
       "      <td>.430</td>\n",
       "      <td>.771</td>\n",
       "      <td>95</td>\n",
       "      <td>179</td>\n",
       "      <td>11</td>\n",
       "      <td>4</td>\n",
       "      <td>0</td>\n",
       "      <td>1</td>\n",
       "      <td>2</td>\n",
       "    </tr>\n",
       "    <tr>\n",
       "      <th>3</th>\n",
       "      <td>4</td>\n",
       "      <td>SS</td>\n",
       "      <td>Trea Turner</td>\n",
       "      <td>26</td>\n",
       "      <td>122</td>\n",
       "      <td>569</td>\n",
       "      <td>521</td>\n",
       "      <td>96</td>\n",
       "      <td>155</td>\n",
       "      <td>37</td>\n",
       "      <td>...</td>\n",
       "      <td>.353</td>\n",
       "      <td>.497</td>\n",
       "      <td>.850</td>\n",
       "      <td>113</td>\n",
       "      <td>259</td>\n",
       "      <td>10</td>\n",
       "      <td>3</td>\n",
       "      <td>0</td>\n",
       "      <td>2</td>\n",
       "      <td>2</td>\n",
       "    </tr>\n",
       "    <tr>\n",
       "      <th>4</th>\n",
       "      <td>5</td>\n",
       "      <td>3B</td>\n",
       "      <td>Anthony Rendon</td>\n",
       "      <td>29</td>\n",
       "      <td>146</td>\n",
       "      <td>646</td>\n",
       "      <td>545</td>\n",
       "      <td>117</td>\n",
       "      <td>174</td>\n",
       "      <td>44</td>\n",
       "      <td>...</td>\n",
       "      <td>.412</td>\n",
       "      <td>.598</td>\n",
       "      <td>1.010</td>\n",
       "      <td>153</td>\n",
       "      <td>326</td>\n",
       "      <td>13</td>\n",
       "      <td>12</td>\n",
       "      <td>0</td>\n",
       "      <td>9</td>\n",
       "      <td>8</td>\n",
       "    </tr>\n",
       "  </tbody>\n",
       "</table>\n",
       "<p>5 rows × 28 columns</p>\n",
       "</div>"
      ],
      "text/plain": [
       "  Rk Pos            Name Age    G   PA   AB    R    H  2B  ...   OBP   SLG  \\\n",
       "0  1   C       Yan Gomes  31   97  358  314   36   70  16  ...  .316  .389   \n",
       "1  2  1B     Matt Adams*  30  111  333  310   42   70  14  ...  .276  .465   \n",
       "2  3  2B    Brian Dozier  32  135  482  416   54   99  20  ...  .340  .430   \n",
       "3  4  SS     Trea Turner  26  122  569  521   96  155  37  ...  .353  .497   \n",
       "4  5  3B  Anthony Rendon  29  146  646  545  117  174  44  ...  .412  .598   \n",
       "\n",
       "     OPS OPS+   TB GDP HBP SH SF IBB  \n",
       "0   .704   78  122   7   5  0  1   6  \n",
       "1   .741   83  144   7   2  0  1   1  \n",
       "2   .771   95  179  11   4  0  1   2  \n",
       "3   .850  113  259  10   3  0  2   2  \n",
       "4  1.010  153  326  13  12  0  9   8  \n",
       "\n",
       "[5 rows x 28 columns]"
      ]
     },
     "execution_count": 21,
     "metadata": {},
     "output_type": "execute_result"
    }
   ],
   "source": [
    "df.head()"
   ]
  },
  {
   "cell_type": "code",
   "execution_count": 24,
   "metadata": {},
   "outputs": [],
   "source": [
    "df.to_csv(\"2019_washington_nationals\", encoding='utf-8', index=False)"
   ]
  }
 ],
 "metadata": {
  "kernelspec": {
   "display_name": "Python 3",
   "language": "python",
   "name": "python3"
  },
  "language_info": {
   "codemirror_mode": {
    "name": "ipython",
    "version": 3
   },
   "file_extension": ".py",
   "mimetype": "text/x-python",
   "name": "python",
   "nbconvert_exporter": "python",
   "pygments_lexer": "ipython3",
   "version": "3.7.4"
  }
 },
 "nbformat": 4,
 "nbformat_minor": 2
}

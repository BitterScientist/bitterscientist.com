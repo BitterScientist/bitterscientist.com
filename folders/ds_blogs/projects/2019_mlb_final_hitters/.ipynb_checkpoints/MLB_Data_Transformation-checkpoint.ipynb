{
 "cells": [
  {
   "cell_type": "markdown",
   "metadata": {},
   "source": [
    "# Data Transformation using Python Pandas"
   ]
  },
  {
   "cell_type": "markdown",
   "metadata": {},
   "source": [
    "### Import dependencies"
   ]
  },
  {
   "cell_type": "code",
   "execution_count": 1,
   "metadata": {},
   "outputs": [],
   "source": [
    "import pandas as pd\n",
    "import matplotlib\n",
    "import matplotlib.pyplot as plt\n",
    "import numpy as np\n",
    "%matplotlib inline"
   ]
  },
  {
   "cell_type": "code",
   "execution_count": 2,
   "metadata": {},
   "outputs": [],
   "source": [
    "# Display all columns (pandas will collapse some columns if we don't set this option)\n",
    "pd.set_option('display.max_columns', None)"
   ]
  },
  {
   "cell_type": "code",
   "execution_count": 3,
   "metadata": {},
   "outputs": [],
   "source": [
    "nationals_df = pd.read_csv(\"2019_washington_nationals\")\n",
    "astros_df = pd.read_csv(\"2019_houston_astros\")"
   ]
  },
  {
   "cell_type": "code",
   "execution_count": 4,
   "metadata": {},
   "outputs": [],
   "source": [
    "# Delete non player roles using df index and .drop method\n",
    "nationals = nationals_df.drop([8,22,52,53,54,55,56])"
   ]
  },
  {
   "cell_type": "code",
   "execution_count": 5,
   "metadata": {},
   "outputs": [
    {
     "name": "stdout",
     "output_type": "stream",
     "text": [
      "<class 'pandas.core.frame.DataFrame'>\n",
      "Int64Index: 50 entries, 0 to 51\n",
      "Data columns (total 28 columns):\n",
      "Rk      50 non-null object\n",
      "Pos     50 non-null object\n",
      "Name    50 non-null object\n",
      "Age     50 non-null object\n",
      "G       50 non-null object\n",
      "PA      50 non-null object\n",
      "AB      50 non-null object\n",
      "R       50 non-null object\n",
      "H       50 non-null object\n",
      "2B      50 non-null object\n",
      "3B      50 non-null object\n",
      "HR      50 non-null object\n",
      "RBI     50 non-null object\n",
      "SB      50 non-null object\n",
      "CS      50 non-null object\n",
      "BB      50 non-null object\n",
      "SO      50 non-null object\n",
      "BA      36 non-null object\n",
      "OBP     36 non-null object\n",
      "SLG     36 non-null object\n",
      "OPS     36 non-null object\n",
      "OPS+    36 non-null object\n",
      "TB      50 non-null object\n",
      "GDP     50 non-null object\n",
      "HBP     50 non-null object\n",
      "SH      50 non-null object\n",
      "SF      50 non-null object\n",
      "IBB     50 non-null object\n",
      "dtypes: object(28)\n",
      "memory usage: 11.3+ KB\n"
     ]
    }
   ],
   "source": [
    "# Use the info method to inspect the datatypes for each column\n",
    "nationals.info()"
   ]
  },
  {
   "cell_type": "markdown",
   "metadata": {},
   "source": [
    "#### Relabel columns for readibility"
   ]
  },
  {
   "cell_type": "code",
   "execution_count": null,
   "metadata": {},
   "outputs": [],
   "source": [
    "# Step 1: Create a dictionary the key is the original name, and the value is the new name\n",
    "nat_col_names = {\"Rk\":\"Rank\", \"Pos\":\"Position\",\"G\":\"Games_Played\", \"PA\":\"Plate_Apperance\", \"AB\":\"At_Bat\", \"R\":\"Runs\", \"H\":\"Hits\", \"SB\":\"Stolen_Bases\",\"CS\":\"Caugt_Stealing\",\"BB\":\"Base_Balls\", \"SO\":\"Strike_Outs\",\"BA\":\"Hits_at_Bat\", \"TB\":\"Total_Bases\", \"HBP\":\"Hits_by_Pitch\"}"
   ]
  },
  {
   "cell_type": "code",
   "execution_count": null,
   "metadata": {},
   "outputs": [],
   "source": [
    "# Step 2: use the rename method and the dictionary name to assign the new column names to the dataframe\n",
    "nationals = nationals.rename(columns=nat_col_names)"
   ]
  },
  {
   "cell_type": "markdown",
   "metadata": {},
   "source": [
    "# Memory Reduction"
   ]
  },
  {
   "cell_type": "code",
   "execution_count": null,
   "metadata": {},
   "outputs": [],
   "source": [
    "# Inspect current data types for each column using dtypes\n",
    "nationals.dtypes"
   ]
  },
  {
   "cell_type": "markdown",
   "metadata": {},
   "source": [
    "#### Find memory usage with memory_usage method"
   ]
  },
  {
   "cell_type": "code",
   "execution_count": null,
   "metadata": {},
   "outputs": [],
   "source": [
    "nationals_mem = nationals.memory_usage(deep=True)\n",
    "nationals_mem"
   ]
  },
  {
   "cell_type": "markdown",
   "metadata": {},
   "source": [
    "#### Reduce memory usage by changing datatypes"
   ]
  },
  {
   "cell_type": "code",
   "execution_count": null,
   "metadata": {},
   "outputs": [],
   "source": [
    "# Convert columns that are categorical using astype method\n",
    "nationals[\"Position\"] = nationals[\"Position\"].astype('category')"
   ]
  },
  {
   "cell_type": "markdown",
   "metadata": {},
   "source": [
    "#### Astype method only works on a single column, to change multiple columns in one code block, use a for loop."
   ]
  },
  {
   "cell_type": "markdown",
   "metadata": {},
   "source": [
    "#### Step1: Create lists of columns by the final data type"
   ]
  },
  {
   "cell_type": "code",
   "execution_count": null,
   "metadata": {},
   "outputs": [],
   "source": [
    "# These columns are categorical and strings\n",
    "non_num_cols = ['Position','Name']"
   ]
  },
  {
   "cell_type": "code",
   "execution_count": null,
   "metadata": {},
   "outputs": [],
   "source": [
    "# These columns have missin values, and decimals\n",
    "float_cols = ['Hits_at_Bat','OBP','SLG','OPS','OPS+']"
   ]
  },
  {
   "cell_type": "code",
   "execution_count": null,
   "metadata": {},
   "outputs": [],
   "source": [
    "# Combine all non integer columns into a single list\n",
    "non_int_cols = non_num_cols + float_cols"
   ]
  },
  {
   "cell_type": "code",
   "execution_count": null,
   "metadata": {},
   "outputs": [],
   "source": [
    "# Use a list comprehension to generate a list of columns that contains integer values\n",
    "# int_cols = [\"Age\",\"Base_Balls\", \"Games_Played\", \"Plate_Apperance\",\"At_Bat\",\"Runs\",\"Hits\",\"2B\",\"Strike_Outs\"]\n",
    "int_cols = [col for col in nationals.columns if col not in non_int_cols]"
   ]
  },
  {
   "cell_type": "markdown",
   "metadata": {},
   "source": [
    "#### Step2: Use a for loop to change the data types of multiple columns"
   ]
  },
  {
   "cell_type": "code",
   "execution_count": null,
   "metadata": {},
   "outputs": [],
   "source": [
    "# Convert into integer\n",
    "for col in int_cols:\n",
    "    nationals[col] = nationals[col].astype('int64')"
   ]
  },
  {
   "cell_type": "code",
   "execution_count": null,
   "metadata": {},
   "outputs": [],
   "source": [
    "# Converts columns into floats\n",
    "for col in float_cols:\n",
    "    nationals[col] = nationals[col].astype('float')"
   ]
  },
  {
   "cell_type": "code",
   "execution_count": null,
   "metadata": {},
   "outputs": [],
   "source": [
    "# Confirm datatype changes\n",
    "nationals.dtypes"
   ]
  },
  {
   "cell_type": "code",
   "execution_count": null,
   "metadata": {},
   "outputs": [],
   "source": [
    "updated_nationals_mem = nationals.memory_usage(deep=True)"
   ]
  },
  {
   "cell_type": "code",
   "execution_count": null,
   "metadata": {},
   "outputs": [],
   "source": [
    "mem_df = pd.concat([nationals_mem, updated_nationals_mem], axis=1)"
   ]
  },
  {
   "cell_type": "code",
   "execution_count": null,
   "metadata": {},
   "outputs": [],
   "source": [
    "mem_df.columns = ['Pre Change', 'Post Change']"
   ]
  },
  {
   "cell_type": "code",
   "execution_count": null,
   "metadata": {},
   "outputs": [],
   "source": [
    "mem_df['Absolute Change'] = mem_df['Post Change'] - mem_df['Pre Change']\n",
    "mem_df[\"Percent Change\"] = ((mem_df['Post Change'] - mem_df['Pre Change'])/mem_df['Pre Change'])"
   ]
  },
  {
   "cell_type": "code",
   "execution_count": null,
   "metadata": {},
   "outputs": [],
   "source": [
    "format_dict = {'Percent Change':'{:.2%}'}\n",
    "mem_df.style.format(format_dict)."
   ]
  },
  {
   "cell_type": "code",
   "execution_count": null,
   "metadata": {},
   "outputs": [],
   "source": [
    "def color_negative_red(val):\n",
    "    color = 'red' if val < 0 else 'black'\n",
    "    return 'color: %s' % color\n",
    "\n",
    "mem_df.style.applymap(color_negative_red)"
   ]
  },
  {
   "cell_type": "code",
   "execution_count": null,
   "metadata": {},
   "outputs": [],
   "source": [
    "mem_df"
   ]
  },
  {
   "cell_type": "markdown",
   "metadata": {},
   "source": [
    "#### Data to plot"
   ]
  },
  {
   "cell_type": "code",
   "execution_count": null,
   "metadata": {},
   "outputs": [],
   "source": [
    "# Labels: Prepare a list of column name labels\n",
    "labels = list(nationals.columns.values)\n",
    "\n",
    "# Data values\n",
    "post_memory = list(updated_nationals_mem.values)\n",
    "post_memory = post_memory[1:] #omits the index value because the labels list does not include \"index\"\n",
    "pre_memory = list(nationals_mem.values)\n",
    "pre_memory = pre_memory[1:] #omits the index value because the labels list does not include \"index\""
   ]
  },
  {
   "cell_type": "markdown",
   "metadata": {},
   "source": [
    "#### Prepare plots"
   ]
  },
  {
   "cell_type": "code",
   "execution_count": null,
   "metadata": {},
   "outputs": [],
   "source": [
    "# the label locations\n",
    "x = np.arange(len(labels))\n",
    "\n",
    "# the width of the bars\n",
    "width = 0.35  "
   ]
  },
  {
   "cell_type": "code",
   "execution_count": null,
   "metadata": {},
   "outputs": [],
   "source": [
    "# Confirm that the number of labels and values are equal\n",
    "len(labels) == len(pre_memory)\n",
    "print(len(labels), len(post_memory))"
   ]
  },
  {
   "cell_type": "code",
   "execution_count": null,
   "metadata": {},
   "outputs": [],
   "source": [
    "# Creates just a figure and only one subplot\n",
    "fig, ax = plt.subplots()\n",
    "# Code for the bars, one per group\n",
    "rects1 = ax.bar(x - width/2, pre_memory, width, label='Pre Dtype Change') \n",
    "rects2 = ax.bar(x + width/2, post_memory, width, label='Post Dtype Change')\n",
    "\n",
    "# Add some text for labels, title and custom x-axis tick labels, etc.\n",
    "ax.set_ylabel('Memory (bytes)')\n",
    "ax.set_title('Impact of Data Types on Memory')\n",
    "\n",
    "# To set the legend box outside of the plot\n",
    "chartBox = ax.get_position()\n",
    "ax.set_position([chartBox.x0, chartBox.y0, chartBox.width*0.6, chartBox.height])\n",
    "# bboxbbox_to_anchor anchors legend box, bboxbbox_to_anchor(x, y)\n",
    "ax.legend(loc='upper center', bbox_to_anchor=(1.2, 1), shadow=False, ncol=1)\n",
    "\n",
    "fig.tight_layout()\n",
    "plt.show()"
   ]
  },
  {
   "cell_type": "code",
   "execution_count": null,
   "metadata": {},
   "outputs": [],
   "source": []
  }
 ],
 "metadata": {
  "kernelspec": {
   "display_name": "Python 3",
   "language": "python",
   "name": "python3"
  },
  "language_info": {
   "codemirror_mode": {
    "name": "ipython",
    "version": 3
   },
   "file_extension": ".py",
   "mimetype": "text/x-python",
   "name": "python",
   "nbconvert_exporter": "python",
   "pygments_lexer": "ipython3",
   "version": "3.7.4"
  }
 },
 "nbformat": 4,
 "nbformat_minor": 2
}

{
 "cells": [
  {
   "cell_type": "markdown",
   "metadata": {},
   "source": [
    "# Import Libraries"
   ]
  },
  {
   "cell_type": "code",
   "execution_count": 1,
   "metadata": {},
   "outputs": [],
   "source": [
    "# Data Manipulation Libraries: Standard dataframes and array libraries\n",
    "import pandas as pd\n",
    "import numpy as np\n",
    "import sqlite3 #for querying data \n",
    "\n",
    "# Data Visualization Libraries:\n",
    "import matplotlib.pyplot as plt\n",
    "import matplotlib.lines as mlines\n",
    "import seaborn as sns\n",
    "\n",
    "# Data Analysis: Statistics and Machine Learning Libraries\n",
    "from scipy import stats\n",
    "import scikit_posthocs as sp\n",
    "from sklearn import svm\n",
    "from sklearn.model_selection import train_test_split\n",
    "from sklearn.linear_model import LogisticRegression\n",
    "from sklearn.svm import LinearSVC\n",
    "from sklearn import metrics\n",
    "from sklearn.metrics import confusion_matrix, classification_report\n",
    "\n",
    "# Displaying plots in jupter notebook\n",
    "%matplotlib inline"
   ]
  },
  {
   "cell_type": "markdown",
   "metadata": {},
   "source": [
    "# Update Jupyter Notebook Display Settings"
   ]
  },
  {
   "cell_type": "code",
   "execution_count": 2,
   "metadata": {},
   "outputs": [],
   "source": [
    "# Display all columns (pandas will collapse some columns if we don't set this option)\n",
    "pd.set_option('display.max_columns', None)"
   ]
  },
  {
   "cell_type": "markdown",
   "metadata": {},
   "source": [
    "# Load Data and Prepare for Analysis"
   ]
  },
  {
   "cell_type": "markdown",
   "metadata": {},
   "source": [
    "###  Step a: Import data using .read_csv()"
   ]
  },
  {
   "cell_type": "code",
   "execution_count": null,
   "metadata": {},
   "outputs": [],
   "source": [
    "# use the .read_csv() method\n",
    "# We use individual file imports rather than the whole databse because the database is a very large file\n",
    "# This is a subset\n",
    "bregman = pd.read_csv('static/documents/bregman')\n",
    "rendon = pd.read_csv('static/documents/rendon')\n",
    "soto = pd.read_csv('static/documents/soto')"
   ]
  },
  {
   "cell_type": "markdown",
   "metadata": {},
   "source": [
    "### Step b: Use .concat() method to combine player dataframes"
   ]
  },
  {
   "cell_type": "code",
   "execution_count": null,
   "metadata": {},
   "outputs": [],
   "source": [
    "# Create a list of databases\n",
    "team = [bregman, rendon, soto]\n",
    "# Use the .concat() method and pass the list of dataframes\n",
    "result = pd.concat(team)"
   ]
  },
  {
   "cell_type": "markdown",
   "metadata": {},
   "source": [
    "### Step c: Replace Batter ID's with Player Last Name"
   ]
  },
  {
   "cell_type": "code",
   "execution_count": null,
   "metadata": {},
   "outputs": [],
   "source": [
    "# Option 1:\n",
    "result['batter'].replace({608324: 'Bregman', 543685: 'Rendon', 665742: 'Soto'}, inplace= True)"
   ]
  },
  {
   "cell_type": "markdown",
   "metadata": {},
   "source": [
    "### Step d: Delete rows in the 'events' table with missing values\n",
    " - we are only interested in batter events and must omit rows that lack this key feature."
   ]
  },
  {
   "cell_type": "code",
   "execution_count": null,
   "metadata": {},
   "outputs": [],
   "source": [
    "# Use the .dropna() method to omit any rows where the column 'events' has a missing value\n",
    "results = result.dropna(how='any', subset=['events'])"
   ]
  },
  {
   "cell_type": "markdown",
   "metadata": {},
   "source": [
    "### Step e: Inspect data by using the .pivot_table() method"
   ]
  },
  {
   "cell_type": "code",
   "execution_count": null,
   "metadata": {
    "scrolled": true
   },
   "outputs": [],
   "source": [
    "# Use the .pivot_table() method to display a summary table\n",
    "# The batter names are used as the index\n",
    "pivot = results.pivot_table(index=\"batter\", columns='events', aggfunc='size', fill_value=0)\n",
    "pivot"
   ]
  },
  {
   "cell_type": "markdown",
   "metadata": {},
   "source": [
    "### Plot Entire Season and World Series Home Run Total by player\n",
    " - Use individual dataframes\n",
    " - Use matplotlib .bar() as a data vis option"
   ]
  },
  {
   "cell_type": "code",
   "execution_count": null,
   "metadata": {},
   "outputs": [],
   "source": [
    "# data to plot\n",
    "# replace batter id with name\n",
    "plt.style.use('ggplot')\n",
    "\n",
    "# Store player names in array 'x'\n",
    "# Store homerun values in array home_run\n",
    "x = pivot.home_run.index.values\n",
    "home_runs = pivot.home_run.values\n",
    "\n",
    "# Use a list comprehension to create a list of playe positions\n",
    "x_pos = [i for i, _ in enumerate(x)]\n",
    "\n",
    "# Create plot and labels\n",
    "plt.bar(x_pos, home_runs, color='blue', alpha = 0.7)\n",
    "plt.xlabel(\"Players\")\n",
    "plt.ylabel(\"Home Runs\")\n",
    "plt.title(\"Total Home Runs (Including World Series)\")\n",
    "plt.xticks(x_pos, x)\n",
    "\n",
    "plt.savefig(\"static/images/total_home_runs.png\", bbox_inches='tight') \n",
    "plt.show()\n"
   ]
  },
  {
   "cell_type": "markdown",
   "metadata": {},
   "source": [
    "Soto made more Home Runs than Rendon, when counting playoffs and world series."
   ]
  },
  {
   "cell_type": "markdown",
   "metadata": {},
   "source": [
    "# Objective 1: Evaluate Player Batting Events"
   ]
  },
  {
   "cell_type": "code",
   "execution_count": null,
   "metadata": {
    "scrolled": true
   },
   "outputs": [],
   "source": [
    "order = result.events.value_counts().index\n",
    "\n",
    "sns.set(rc={'figure.figsize':(25,15)})\n",
    "sns.set(font_scale=1.5)\n",
    "result_events = sns.countplot(x='events', hue = \"batter\", data=result, order=order)\n",
    "result_events.set_xticklabels(result_events.get_xticklabels(), rotation=45)\n",
    "fig = result_events.get_figure()\n",
    "fig.savefig(\"static/images/batter_event_bar_plots.png\", bbox_inches='tight') "
   ]
  },
  {
   "cell_type": "code",
   "execution_count": null,
   "metadata": {},
   "outputs": [],
   "source": [
    "# Determine the number of batted events per player\n",
    "results.groupby('batter')['events'].agg('count')"
   ]
  },
  {
   "cell_type": "code",
   "execution_count": null,
   "metadata": {},
   "outputs": [],
   "source": [
    "# Home run rate\n",
    "print(f'Bregman HR rate {45/765 * 100}, Rendon HR Rate {37/711* 100}, Soto HR Rate {39/730* 100}')"
   ]
  },
  {
   "cell_type": "markdown",
   "metadata": {},
   "source": [
    "# Objective 2: Determine which player had the highest hit distance"
   ]
  },
  {
   "cell_type": "markdown",
   "metadata": {},
   "source": [
    "## Obj 2 Step 1: Clean Data"
   ]
  },
  {
   "cell_type": "code",
   "execution_count": null,
   "metadata": {},
   "outputs": [],
   "source": [
    "# Clearn up data by removing an NaN\n",
    "# Use the .dropna() method to omit any rows where the column 'events' has a missing value\n",
    "results_hd = results.dropna(how='any', subset=['hit_distance_sc'])"
   ]
  },
  {
   "cell_type": "code",
   "execution_count": null,
   "metadata": {},
   "outputs": [],
   "source": [
    "# Filter by player and only for home run events\n",
    "bregman_hd = results_hd[(results_hd[\"batter\"] == \"Bregman\") & (results_hd[\"events\"] == \"home_run\")]\n",
    "rendon_hd = results_hd[(results_hd[\"batter\"] == \"Rendon\") & (results_hd[\"events\"] == \"home_run\")]\n",
    "soto_hd = results_hd[(results_hd[\"batter\"] == \"Soto\") & (results_hd[\"events\"] == \"home_run\")]"
   ]
  },
  {
   "cell_type": "code",
   "execution_count": null,
   "metadata": {},
   "outputs": [],
   "source": [
    "# Combine filtered data\n",
    "frames = [bregman_hd, rendon_hd, soto_hd]\n",
    "filterd_hd = pd.concat(frames)"
   ]
  },
  {
   "cell_type": "markdown",
   "metadata": {},
   "source": [
    "## Obj 2 Step 2: Aggregate Descriptive Statistics"
   ]
  },
  {
   "cell_type": "code",
   "execution_count": null,
   "metadata": {},
   "outputs": [],
   "source": [
    "bregman_hd_metrics = bregman_hd[[\"hit_distance_sc\"]].describe()\n",
    "bregman_hd_metrics = bregman_hd_metrics.rename(columns={\"hit_distance_sc\" : \"Bregman Hit Distance\"})\n",
    "rendon_hd_metrics = rendon_hd[[\"hit_distance_sc\"]].describe()\n",
    "rendon_hd_metrics = rendon_hd_metrics.rename(columns={\"hit_distance_sc\" : \"Rendon Hit Distance\"})\n",
    "soto_hd_metrics = soto_hd[[\"hit_distance_sc\"]].describe()\n",
    "soto_hd_metrics = soto_hd_metrics.rename(columns={\"hit_distance_sc\" : \"Soto Hit Distance\"})\n",
    "frames = [bregman_hd_metrics,rendon_hd_metrics,soto_hd_metrics]\n",
    "hd_stats = pd.concat(frames, axis = 1)\n",
    "hd_stats"
   ]
  },
  {
   "cell_type": "markdown",
   "metadata": {},
   "source": [
    "## Obj 2 Step 3: Visualize Hit Distance "
   ]
  },
  {
   "cell_type": "code",
   "execution_count": null,
   "metadata": {},
   "outputs": [],
   "source": [
    "sns.set(font_scale=2)\n",
    "ax = sns.boxplot(x=\"batter\", y=\"hit_distance_sc\", data=filterd_hd)\n",
    "ax.set(xlabel='Player', ylabel='Hit Distance (ft)')\n",
    "plt.savefig(\"static/images/hit_distance_boxplot.png\", bbox_inches='tight')\n",
    "plt.show()"
   ]
  },
  {
   "cell_type": "markdown",
   "metadata": {},
   "source": [
    " Soto seems to have the longest hit distances, but need to confirm if this is statistically significant"
   ]
  },
  {
   "cell_type": "markdown",
   "metadata": {},
   "source": [
    "## Obj 2 Step 4: Determine if there is a statistical difference in the hit distance between players"
   ]
  },
  {
   "cell_type": "markdown",
   "metadata": {},
   "source": [
    "### Obj2 Step 4a: Determine if the data is normally distrbuted using graphical approaches"
   ]
  },
  {
   "cell_type": "code",
   "execution_count": null,
   "metadata": {},
   "outputs": [],
   "source": [
    "fig1, axs1 = plt.subplots(ncols=3, sharex=True, sharey=True, figsize=(20, 10))\n",
    "sns.distplot(bregman_hd[\"hit_distance_sc\"], color='tab:blue', ax=axs1[0]).set_title('Alex Bregman \\n Hit Distance, 2019')\n",
    "sns.distplot(rendon_hd[\"hit_distance_sc\"], color='tab:blue', ax=axs1[1]).set_title('Anthony Rendon \\n Hit Distance, 2019')\n",
    "sns.distplot(soto_hd[\"hit_distance_sc\"], color='tab:blue', ax=axs1[2]).set_title('Juan Soto \\n Hit Distance, 2019')\n",
    "fig1.savefig(\"static/images/hit_distance_distplot.png\", bbox_inches='tight')"
   ]
  },
  {
   "cell_type": "markdown",
   "metadata": {},
   "source": [
    "The curves appear normally distributed, but need to follow up with a shapiro-wilk test."
   ]
  },
  {
   "cell_type": "markdown",
   "metadata": {},
   "source": [
    "### Obj2 Step 4b:  Determine if the data is normally distrbuted using Shapiro-Wilk Test"
   ]
  },
  {
   "cell_type": "code",
   "execution_count": null,
   "metadata": {},
   "outputs": [],
   "source": [
    "# Use the scipy.stats.shapiro test for normality\n",
    "# The Shapiro-Wilk test tests the null hypothesis that the data was drawn from a normal distribution.\n",
    "# Bregman\n",
    "breg_sw_test = [stats.shapiro(bregman_hd[\"hit_distance_sc\"])[0], stats.shapiro(bregman_hd[\"hit_distance_sc\"])[1]]\n",
    "rendon_sw_test = [stats.shapiro(rendon_hd[\"hit_distance_sc\"])[0], stats.shapiro(rendon_hd[\"hit_distance_sc\"])[1]]\n",
    "soto_sw_test = [stats.shapiro(soto_hd[\"hit_distance_sc\"])[0], stats.shapiro(soto_hd[\"hit_distance_sc\"])[1]]\n",
    "Shapiro_Wilk_df = pd.DataFrame({\"bregman\": breg_sw_test, \"rendon\": rendon_sw_test, \"soto\": soto_sw_test}, index = [\"W\", \"p-value\"])"
   ]
  },
  {
   "cell_type": "code",
   "execution_count": null,
   "metadata": {},
   "outputs": [],
   "source": [
    "# The p-value for the test does not reject the Ho. Data is normally distributed\n",
    "Shapiro_Wilk_df"
   ]
  },
  {
   "cell_type": "markdown",
   "metadata": {},
   "source": [
    "The p-values for all the players Shapiro-Wilk test are above 0.05, which suggest that we cannot reject the null hypothesis that the samples came from a normal distribution."
   ]
  },
  {
   "cell_type": "markdown",
   "metadata": {},
   "source": [
    "### Obj2 Step 4c: Test for equal variance  using the Barlette's test"
   ]
  },
  {
   "cell_type": "code",
   "execution_count": null,
   "metadata": {},
   "outputs": [],
   "source": [
    "# Test for equal variance\n",
    "# scipy.stats.bartlett because I know the samples are normally distributed\n",
    "barlette_result = stats.bartlett(bregman_hd[\"hit_distance_sc\"], rendon_hd[\"hit_distance_sc\"], soto_hd[\"hit_distance_sc\"])\n",
    "if barlette_result[1] >= 0.05:\n",
    "    print(\"Do not reject the null hypothesis, the all input samples are from populations with equal variances.\")\n",
    "else:\n",
    "    print(\"Reject the null hypothesis, the samples do not have equal variance\")"
   ]
  },
  {
   "cell_type": "markdown",
   "metadata": {},
   "source": [
    "The home run distance data is parametric and we can use an ANOVA to determine if there is a difference in the hit distance between players."
   ]
  },
  {
   "cell_type": "markdown",
   "metadata": {},
   "source": [
    "### Obj2 Step 4d: Conduct an ANOVA Test for Variance"
   ]
  },
  {
   "cell_type": "code",
   "execution_count": null,
   "metadata": {},
   "outputs": [],
   "source": [
    "# The conditions to test an ANOVA have been met\n",
    "anova_hd = stats.f_oneway(bregman_hd[\"hit_distance_sc\"], rendon_hd[\"hit_distance_sc\"], soto_hd[\"hit_distance_sc\"])\n",
    "if anova_hd[1] >= 0.05:\n",
    "    print(f\"The p-value is: {anova_hd[1]}. Do not reject the null hypothesis, no difference in hit distance amongst batters.\")\n",
    "else:\n",
    "    print(f\"The p-value is: {anova_hd[1]}. Reject the null hypothesis, there is a difference in the hit distance amongs batters.\")"
   ]
  },
  {
   "cell_type": "markdown",
   "metadata": {},
   "source": [
    "### Obj2 Step 4e: Conduct a Post hoc test using Tukey's to determine which variables differ significantly"
   ]
  },
  {
   "cell_type": "code",
   "execution_count": null,
   "metadata": {},
   "outputs": [],
   "source": [
    "import scikit_posthocs as sp\n",
    "sp.posthoc_tukey(filterd_hd, val_col='hit_distance_sc', group_col='batter')"
   ]
  },
  {
   "cell_type": "markdown",
   "metadata": {},
   "source": [
    "There is a difference in the hit distance between \n",
    " - Bregman and Rendon\n",
    " - Bregman and Soto\n",
    " - Rendon and Bregman\n",
    " - Soto and Bregman<br>\n",
    "This suggets that Both Rendon and Soto have a higher hit distance than Bregman, but no difference between Soto and Rendon."
   ]
  },
  {
   "cell_type": "markdown",
   "metadata": {},
   "source": [
    "# Objective 3: Determine the impact of launch speed and launch angle on Home Runs"
   ]
  },
  {
   "cell_type": "markdown",
   "metadata": {},
   "source": [
    "## Obj 3 Step 1: Use Support Vector Machines to predict home runs using launch speed and launch angles"
   ]
  },
  {
   "cell_type": "markdown",
   "metadata": {},
   "source": [
    "### Obj 3 Step 1a: Prepare MLB 2019 Season Data for Analysis"
   ]
  },
  {
   "cell_type": "code",
   "execution_count": 8,
   "metadata": {},
   "outputs": [],
   "source": [
    "# Connect to the database using the .connect() method\n",
    "# This will only connect to the website data, once you save the data as either a csv or db, \n",
    "# you will need to reconnect with the correct filepath\n",
    "conn = sqlite3.connect('/Users/trinitycisneros/Documents/Coding/bitterscientist.com/statcast.db')\n",
    "season2019_df = pd.read_sql_query(\"SELECT batter, events, launch_angle, launch_speed, release_speed FROM statcast;\", conn)\n",
    "season2019_df.to_csv('/Users/trinitycisneros/Documents/Coding/bitterscientist.com/season2019_logreg')\n",
    "conn.close() "
   ]
  },
  {
   "cell_type": "markdown",
   "metadata": {},
   "source": [
    "#### Clean data (remove nan, and change datatypes)"
   ]
  },
  {
   "cell_type": "code",
   "execution_count": 9,
   "metadata": {},
   "outputs": [],
   "source": [
    "# Drop any rows that have missing values, as we can't use this data in the analysis\n",
    "season2019_df = season2019_df.dropna(how='any')"
   ]
  },
  {
   "cell_type": "code",
   "execution_count": 16,
   "metadata": {},
   "outputs": [],
   "source": [
    "# Will change datatypes columns\n",
    "float_cols = ['launch_angle','launch_speed', 'release_speed']\n",
    "cat_col = ['events']\n",
    "int_col = ['batter']"
   ]
  },
  {
   "cell_type": "code",
   "execution_count": 17,
   "metadata": {},
   "outputs": [],
   "source": [
    "# Converts columns into floats\n",
    "for col in float_cols:\n",
    "    season2019_df[col] = season2019_df[col].astype('float')"
   ]
  },
  {
   "cell_type": "code",
   "execution_count": 18,
   "metadata": {},
   "outputs": [],
   "source": [
    "# Convert events column into category\n",
    "for col in cat_col:\n",
    "    season2019_df[col] = season2019_df[col].astype('category')"
   ]
  },
  {
   "cell_type": "code",
   "execution_count": 19,
   "metadata": {},
   "outputs": [],
   "source": [
    "# Convert events column into category\n",
    "for col in int_col:\n",
    "    season2019_df[col] = season2019_df[col].astype('int64')"
   ]
  },
  {
   "cell_type": "code",
   "execution_count": 20,
   "metadata": {},
   "outputs": [],
   "source": [
    "season2019_df['batter'].replace({608324: 'Bregman', 543685: 'Rendon', 665742: 'Soto'}, inplace= True)"
   ]
  },
  {
   "cell_type": "code",
   "execution_count": 23,
   "metadata": {},
   "outputs": [],
   "source": [
    "# Prepare data for analysis, use .get_dummies() to get binary array for each event\n",
    "subset_df = season2019_df[['launch_angle', 'launch_speed', 'events']].copy()\n",
    "dummy_df = pd.get_dummies(subset_df)"
   ]
  },
  {
   "cell_type": "code",
   "execution_count": 24,
   "metadata": {},
   "outputs": [],
   "source": [
    "# Create new dataframe \n",
    "dummy_df = dummy_df[['launch_angle', 'launch_speed', 'events_home_run']].copy()"
   ]
  },
  {
   "cell_type": "markdown",
   "metadata": {},
   "source": [
    "### Obj 3 Step 1b: Plot all events and examine which ones are home runs"
   ]
  },
  {
   "cell_type": "code",
   "execution_count": null,
   "metadata": {},
   "outputs": [],
   "source": [
    "# Plot all events\n",
    "ax = sns.scatterplot(x=\"launch_speed\", y=\"launch_angle\", hue=\"events_home_run\", data=dummy_df)\n",
    "ax.legend(loc='center left', bbox_to_anchor=(1, 0.90), ncol=1)\n",
    "plt.savefig(\"static/images/events_home_run.png\", bbox_inches='tight')"
   ]
  },
  {
   "cell_type": "markdown",
   "metadata": {},
   "source": [
    "### Obj 3 Step 1c: Prepare Variables for Analysis"
   ]
  },
  {
   "cell_type": "code",
   "execution_count": null,
   "metadata": {},
   "outputs": [],
   "source": [
    "# Assign predictor variables to X and target variable to y\n",
    "X = dummy_df[['launch_angle', 'launch_speed']]\n",
    "y = dummy_df['events_home_run']"
   ]
  },
  {
   "cell_type": "code",
   "execution_count": null,
   "metadata": {},
   "outputs": [],
   "source": [
    "# X_train, X_test, y_train, y_test = train_test_split(\n",
    "X_train, X_test, y_train, y_test = train_test_split(X, y, stratify=y, test_size=0.3, random_state=42)"
   ]
  },
  {
   "cell_type": "code",
   "execution_count": null,
   "metadata": {},
   "outputs": [],
   "source": [
    "svc = svm.SVC(kernel='rbf', gamma=1).fit(X_train, y_train)"
   ]
  },
  {
   "cell_type": "code",
   "execution_count": null,
   "metadata": {},
   "outputs": [],
   "source": [
    "print(\"Accuracy on trainig set: {:.2f}\".format(svc.score(X_train, y_train)))\n",
    "print(\"Accuracy on test set: {:.2f}\".format(svc.score(X_test, y_test)))"
   ]
  },
  {
   "cell_type": "code",
   "execution_count": null,
   "metadata": {},
   "outputs": [],
   "source": [
    "import matplotlib.gridspec as gridspec\n",
    "from mlxtend.plotting import plot_decision_regions\n",
    "import itertools"
   ]
  },
  {
   "cell_type": "code",
   "execution_count": null,
   "metadata": {},
   "outputs": [],
   "source": [
    "# Plotting decision regions\n",
    "plot_decision_regions(X[:100], y.values[:100], clf=svc, legend=2, X_highlight=X_test.values[:100])\n",
    "\n",
    "# Adding axes annotations\n",
    "plt.xlabel('Launch Angle')\n",
    "plt.ylabel('Launch Speed [mph]')\n",
    "plt.title('SVM on Batted Events')\n",
    "plt.legend(loc='center left', bbox_to_anchor=(1, 0.90), ncol=1)\n",
    "plt.savefig(\"static/images/svg_batted_events.png\", bbox_inches='tight')\n",
    "plt.show()"
   ]
  },
  {
   "cell_type": "markdown",
   "metadata": {},
   "source": [
    "### Obj 3 Step 1d: Evaluate the Performance of the Model"
   ]
  },
  {
   "cell_type": "code",
   "execution_count": null,
   "metadata": {},
   "outputs": [],
   "source": [
    "# Obtain the predictation value for the testing data set\n",
    "y_pred = svc.predict(X_test)"
   ]
  },
  {
   "cell_type": "code",
   "execution_count": null,
   "metadata": {},
   "outputs": [],
   "source": [
    "# Prepare a confusion matrix (tn, fp, fn, tp)\n",
    "cm = confusion_matrix(y_test, y_pred)"
   ]
  },
  {
   "cell_type": "code",
   "execution_count": null,
   "metadata": {},
   "outputs": [],
   "source": [
    "# In the binary case, we can extract true positives, etc as follows:\n",
    "cm_unravel = cm.ravel()\n",
    "tn, fp, fn, tp = cm_unravel\n",
    "print(tn, fp, fn, tp)"
   ]
  },
  {
   "cell_type": "code",
   "execution_count": null,
   "metadata": {},
   "outputs": [],
   "source": [
    "from mlxtend.plotting import plot_confusion_matrix\n",
    "\n",
    "\n",
    "fig, ax = plot_confusion_matrix(conf_mat=cm,\n",
    "                                show_absolute=True,\n",
    "                                show_normed=True,\n",
    "                                colorbar=True)\n",
    "\n",
    "plt.savefig(\"static/images/svg_confusion_matrix.png\", bbox_inches='tight')\n",
    "plt.show()"
   ]
  },
  {
   "cell_type": "code",
   "execution_count": null,
   "metadata": {},
   "outputs": [],
   "source": [
    "# Prepare a classification report\n",
    "report = classification_report(y_test, y_pred, output_dict=True)\n",
    "\n",
    "cr_df = pd.DataFrame(report).transpose()"
   ]
  },
  {
   "cell_type": "code",
   "execution_count": null,
   "metadata": {},
   "outputs": [],
   "source": [
    "cr_df"
   ]
  },
  {
   "cell_type": "markdown",
   "metadata": {},
   "source": [
    "## Obj 3 Step 2: Assess the Launch Speed and Launch Angle for each player\n",
    " - These two variables have been reported to play an important role in home run events\n",
    " - This data uses the results dataframe that combines all players and drops any missing event"
   ]
  },
  {
   "cell_type": "markdown",
   "metadata": {},
   "source": [
    "### Alex Bregman batted events by launch speed and launch angle"
   ]
  },
  {
   "cell_type": "code",
   "execution_count": null,
   "metadata": {},
   "outputs": [],
   "source": [
    "# Alex Bregman\n",
    "fig1, axs1 = plt.subplots(ncols=1, sharex=True, sharey=True, figsize=(10, 10))\n",
    "sns.set(font_scale=1.25)\n",
    "sns.scatterplot(x=\"launch_speed\", y=\"launch_angle\", hue=\"events\", data= results[results[\"batter\"] == \"Bregman\"]).set_title('Alex Bregman\\nBatter Events, 2019')\n",
    "plt.legend(loc='upper right', bbox_to_anchor=(1.45, 1), ncol=1)\n",
    "fig1.savefig(\"static/images/bregman_events_angle_speed.png\", bbox_inches='tight')\n",
    "plt.show()"
   ]
  },
  {
   "cell_type": "markdown",
   "metadata": {},
   "source": [
    "The home runs appear clustered between 20-40 angles and above 90 mph "
   ]
  },
  {
   "cell_type": "markdown",
   "metadata": {},
   "source": [
    "### Athony Rendon batted events by launch speed and launch angle"
   ]
  },
  {
   "cell_type": "code",
   "execution_count": null,
   "metadata": {},
   "outputs": [],
   "source": [
    "# Anthony Rendon\n",
    "fig1, axs1 = plt.subplots(ncols=1, sharex=True, sharey=True, figsize=(10, 10))\n",
    "sns.set(font_scale=1.25)\n",
    "sns.scatterplot(x=\"launch_speed\", y=\"launch_angle\", hue=\"events\", data= results[results[\"batter\"] == \"Rendon\"]).set_title('Anthony Rendon\\nBatter Events, 2019')\n",
    "plt.legend(loc='upper right', bbox_to_anchor=(1.45, 1), ncol=1)\n",
    "fig1.savefig(\"static/images/rendon_events_angle_speed.png\", bbox_inches='tight')\n",
    "plt.show()"
   ]
  },
  {
   "cell_type": "markdown",
   "metadata": {},
   "source": [
    "The home runs appear clustered between 20-40 angles and above 95 mph "
   ]
  },
  {
   "cell_type": "markdown",
   "metadata": {},
   "source": [
    "### Juan Soto batted events by launch speed and launch angle"
   ]
  },
  {
   "cell_type": "code",
   "execution_count": null,
   "metadata": {},
   "outputs": [],
   "source": [
    "# Juan Soto\n",
    "fig1, axs1 = plt.subplots(ncols=1, sharex=True, sharey=True, figsize=(10, 10))\n",
    "sns.set(font_scale=1.25)\n",
    "sns.scatterplot(x=\"launch_speed\", y=\"launch_angle\", hue=\"events\", data= results[results[\"batter\"] == \"Soto\"]).set_title('Juan Soto\\nBatter Events, 2019')\n",
    "plt.legend(loc='upper right', bbox_to_anchor=(1.45, 1), ncol=1)\n",
    "fig1.savefig(\"static/images/soto_events_angle_speed.png\", bbox_inches='tight')\n",
    "plt.show()"
   ]
  },
  {
   "cell_type": "markdown",
   "metadata": {},
   "source": [
    "The home runs appear clustered between 20-40 angles and above 100 mph "
   ]
  },
  {
   "cell_type": "markdown",
   "metadata": {},
   "source": [
    "## Obj 3 Step 3: Evaluate Home Run Data\n",
    " - To focus on the launch angle and speed in home run activity\n",
    " - Data used here is the original dataframe that was imported from CSV\n",
    " - this data does not have any event filtered, but thats because a home run is an event"
   ]
  },
  {
   "cell_type": "markdown",
   "metadata": {},
   "source": [
    "### Obj 3 Step 3a: Filter data by player and by home runs\n",
    " - use this method because we don't have to go through a series of filters using the combined results dataframe"
   ]
  },
  {
   "cell_type": "code",
   "execution_count": 9,
   "metadata": {},
   "outputs": [
    {
     "ename": "NameError",
     "evalue": "name 'bregman' is not defined",
     "output_type": "error",
     "traceback": [
      "\u001b[0;31m---------------------------------------------------------------------------\u001b[0m",
      "\u001b[0;31mNameError\u001b[0m                                 Traceback (most recent call last)",
      "\u001b[0;32m<ipython-input-9-198b8d05f16c>\u001b[0m in \u001b[0;36m<module>\u001b[0;34m\u001b[0m\n\u001b[1;32m      1\u001b[0m \u001b[0;31m# Filter to include home runs only\u001b[0m\u001b[0;34m\u001b[0m\u001b[0;34m\u001b[0m\u001b[0;34m\u001b[0m\u001b[0m\n\u001b[0;32m----> 2\u001b[0;31m \u001b[0mbregman_hr\u001b[0m \u001b[0;34m=\u001b[0m \u001b[0mbregman\u001b[0m\u001b[0;34m[\u001b[0m\u001b[0mbregman\u001b[0m\u001b[0;34m[\u001b[0m\u001b[0;34m\"events\"\u001b[0m\u001b[0;34m]\u001b[0m \u001b[0;34m==\u001b[0m \u001b[0;34m\"home_run\"\u001b[0m\u001b[0;34m]\u001b[0m\u001b[0;34m\u001b[0m\u001b[0;34m\u001b[0m\u001b[0m\n\u001b[0m\u001b[1;32m      3\u001b[0m \u001b[0mrendon_hr\u001b[0m \u001b[0;34m=\u001b[0m \u001b[0mrendon\u001b[0m\u001b[0;34m[\u001b[0m\u001b[0mrendon\u001b[0m\u001b[0;34m[\u001b[0m\u001b[0;34m\"events\"\u001b[0m\u001b[0;34m]\u001b[0m \u001b[0;34m==\u001b[0m \u001b[0;34m\"home_run\"\u001b[0m\u001b[0;34m]\u001b[0m\u001b[0;34m\u001b[0m\u001b[0;34m\u001b[0m\u001b[0m\n\u001b[1;32m      4\u001b[0m \u001b[0msoto_hr\u001b[0m \u001b[0;34m=\u001b[0m \u001b[0msoto\u001b[0m\u001b[0;34m[\u001b[0m\u001b[0msoto\u001b[0m\u001b[0;34m[\u001b[0m\u001b[0;34m\"events\"\u001b[0m\u001b[0;34m]\u001b[0m \u001b[0;34m==\u001b[0m \u001b[0;34m\"home_run\"\u001b[0m\u001b[0;34m]\u001b[0m\u001b[0;34m\u001b[0m\u001b[0;34m\u001b[0m\u001b[0m\n",
      "\u001b[0;31mNameError\u001b[0m: name 'bregman' is not defined"
     ]
    }
   ],
   "source": [
    "# Filter to include home runs only\n",
    "bregman_hr = bregman[bregman[\"events\"] == \"home_run\"]\n",
    "rendon_hr = rendon[rendon[\"events\"] == \"home_run\"]\n",
    "soto_hr = soto[soto[\"events\"] == \"home_run\"]"
   ]
  },
  {
   "cell_type": "markdown",
   "metadata": {},
   "source": [
    "### Obj 3 Step 3b: Compare the descriptive statistics for speed and launch angle\n",
    " -  Combine descriptive statistics by player into a single dataframe"
   ]
  },
  {
   "cell_type": "code",
   "execution_count": null,
   "metadata": {},
   "outputs": [],
   "source": [
    "bregman_hr_metrics = bregman_hr[[\"launch_speed\", \"launch_angle\"]].describe()\n",
    "bregman_hr_metrics = bregman_hr_metrics.rename(columns={\"launch_speed\" : \"Bregman Speed\", \"launch_angle\": \"Bregman Angle\"})\n",
    "rendon_hr_metrics = rendon_hr[[\"launch_speed\", \"launch_angle\"]].describe()\n",
    "rendon_hr_metrics = rendon_hr_metrics.rename(columns={\"launch_speed\" : \"Rendon Speed\", \"launch_angle\": \"Rendon Angle\"})\n",
    "soto_hr_metrics = soto_hr[[\"launch_speed\", \"launch_angle\"]].describe()\n",
    "soto_hr_metrics = soto_hr_metrics.rename(columns={\"launch_speed\" : \"Soto Speed\", \"launch_angle\": \"Soto Angle\"})\n",
    "frames = [bregman_hr_metrics,rendon_hr_metrics,soto_hr_metrics]\n",
    "hr_stats = pd.concat(frames, axis = 1)\n",
    "hr_stats"
   ]
  },
  {
   "cell_type": "markdown",
   "metadata": {},
   "source": [
    "### Obj 3 Step 3c:  Visualize the launch angle and launch speed for home runs by player"
   ]
  },
  {
   "cell_type": "code",
   "execution_count": null,
   "metadata": {},
   "outputs": [],
   "source": [
    "# Create a figure with three scatter plots of launch speed vs. launch angle, one for each player's home runs\n",
    "fig1, axs1 = plt.subplots(ncols=3, sharex=True, sharey=True, figsize=(10, 5))\n",
    "sns.set(font_scale=1)\n",
    "sns.regplot(x=bregman_hr[\"launch_speed\"], y=bregman_hr[\"launch_angle\"], fit_reg=False, color='tab:blue', data=bregman_hr, ax=axs1[0]).set_title('Alex Bregman\\nHome Runs, 2019')\n",
    "sns.regplot(x=rendon_hr[\"launch_speed\"], y=rendon_hr[\"launch_angle\"], fit_reg=False, color='tab:blue', data=rendon_hr, ax=axs1[1]).set_title('Anthony Rendon\\nHome Runs, 2019')\n",
    "sns.regplot(x=soto_hr[\"launch_speed\"], y=soto_hr[\"launch_angle\"], fit_reg=False, color='tab:blue', data=soto_hr, ax=axs1[2]).set_title('Juan Soto\\nHome Runs, 2019')\n",
    "fig1.savefig(\"static/images/angle_speed.png\", bbox_inches='tight')"
   ]
  },
  {
   "cell_type": "markdown",
   "metadata": {},
   "source": [
    "## Obj 3 Step 4: Conduct statistical analysis to determine if launch speed and launch angle differs among players\n",
    " - does speed explain the difference in the difference in home runs?"
   ]
  },
  {
   "cell_type": "markdown",
   "metadata": {},
   "source": [
    "### Obj 3 Step 4a: test for normality using Shapiro-Wilk Test"
   ]
  },
  {
   "cell_type": "markdown",
   "metadata": {},
   "source": [
    "#### Determine if player launch_speed data for home runs is normally distributed using Shapiro-Wilk Test"
   ]
  },
  {
   "cell_type": "code",
   "execution_count": 50,
   "metadata": {},
   "outputs": [],
   "source": [
    "breg_hr_data = season2019_df[(season2019_df['batter'] == \"Bregman\") & (season2019_df['events'] == \"home_run\")]\n",
    "rendon_hr_data = season2019_df[(season2019_df['batter'] == \"Rendon\") & (season2019_df['events'] == \"home_run\")]\n",
    "soto_hr_data = season2019_df[(season2019_df['batter'] == \"Soto\") & (season2019_df['events'] == \"home_run\")]"
   ]
  },
  {
   "cell_type": "code",
   "execution_count": 35,
   "metadata": {},
   "outputs": [],
   "source": [
    "breg_speed_data = season2019_df[(season2019_df['batter'] == \"Bregman\") & (season2019_df['events'] == \"home_run\")][\"launch_speed\"]\n",
    "rendon_speed_data = season2019_df[(season2019_df['batter'] == \"Rendon\") & (season2019_df['events'] == \"home_run\")][\"launch_speed\"]\n",
    "soto_speed_data = season2019_df[(season2019_df['batter'] == \"Soto\") & (season2019_df['events'] == \"home_run\")][\"launch_speed\"]"
   ]
  },
  {
   "cell_type": "code",
   "execution_count": 36,
   "metadata": {},
   "outputs": [],
   "source": [
    "player_speed_data = [breg_speed_data, rendon_speed_data, soto_speed_data]\n",
    "speed_sw_data = []\n",
    "for player in player_speed_data:\n",
    "    speed_sw_data.append([stats.shapiro(player)[0], stats.shapiro(player)[1]])"
   ]
  },
  {
   "cell_type": "code",
   "execution_count": 37,
   "metadata": {},
   "outputs": [],
   "source": [
    "col_names = [\"W\", \"p-value\"]\n",
    "Shapiro_Wilk_speed_df = pd.DataFrame(speed_sw_data, columns=col_names, index = [\"Bregman\", \"Rendon\", \"Soto\"])"
   ]
  },
  {
   "cell_type": "code",
   "execution_count": 38,
   "metadata": {},
   "outputs": [
    {
     "data": {
      "text/html": [
       "<div>\n",
       "<style scoped>\n",
       "    .dataframe tbody tr th:only-of-type {\n",
       "        vertical-align: middle;\n",
       "    }\n",
       "\n",
       "    .dataframe tbody tr th {\n",
       "        vertical-align: top;\n",
       "    }\n",
       "\n",
       "    .dataframe thead th {\n",
       "        text-align: right;\n",
       "    }\n",
       "</style>\n",
       "<table border=\"1\" class=\"dataframe\">\n",
       "  <thead>\n",
       "    <tr style=\"text-align: right;\">\n",
       "      <th></th>\n",
       "      <th>W</th>\n",
       "      <th>p-value</th>\n",
       "    </tr>\n",
       "  </thead>\n",
       "  <tbody>\n",
       "    <tr>\n",
       "      <th>Bregman</th>\n",
       "      <td>0.962949</td>\n",
       "      <td>0.188131</td>\n",
       "    </tr>\n",
       "    <tr>\n",
       "      <th>Rendon</th>\n",
       "      <td>0.929155</td>\n",
       "      <td>0.021095</td>\n",
       "    </tr>\n",
       "    <tr>\n",
       "      <th>Soto</th>\n",
       "      <td>0.963570</td>\n",
       "      <td>0.234140</td>\n",
       "    </tr>\n",
       "  </tbody>\n",
       "</table>\n",
       "</div>"
      ],
      "text/plain": [
       "                W   p-value\n",
       "Bregman  0.962949  0.188131\n",
       "Rendon   0.929155  0.021095\n",
       "Soto     0.963570  0.234140"
      ]
     },
     "execution_count": 38,
     "metadata": {},
     "output_type": "execute_result"
    }
   ],
   "source": [
    "Shapiro_Wilk_speed_df"
   ]
  },
  {
   "cell_type": "markdown",
   "metadata": {},
   "source": [
    "The launch speed for Anthony Rendon does not seem to follow a normal distribution, as the p-value < 0.05"
   ]
  },
  {
   "cell_type": "markdown",
   "metadata": {},
   "source": [
    "## Obj3 Step 6: Compute the Kruskal-Wallis H-test for independent samples (Launch Speed)"
   ]
  },
  {
   "cell_type": "code",
   "execution_count": 55,
   "metadata": {},
   "outputs": [],
   "source": [
    "kruskal_wallis_h = stats.kruskal(breg_speed_data, rendon_speed_data, soto_speed_data)"
   ]
  },
  {
   "cell_type": "code",
   "execution_count": 56,
   "metadata": {},
   "outputs": [
    {
     "name": "stdout",
     "output_type": "stream",
     "text": [
      "The p value is : KruskalResult(statistic=37.89374383774891, pvalue=5.908511379634394e-09) Reject the null hypothesis, there is a difference in the launch speed amongs batters.\n"
     ]
    }
   ],
   "source": [
    "if kruskal_wallis_h[1] >= 0.05:\n",
    "    print(f\"The p value is : {kruskal_wallis_h}. Do not reject the null hypothesis, no difference in the launch speed amongst batters.\")\n",
    "else:\n",
    "    print(f\"The p value is : {kruskal_wallis_h} Reject the null hypothesis, there is a difference in the launch speed amongs batters.\")"
   ]
  },
  {
   "cell_type": "markdown",
   "metadata": {},
   "source": [
    "## Obj3 Step 7 Post hoc test using scikit-posthocs 0.6.1"
   ]
  },
  {
   "cell_type": "code",
   "execution_count": 57,
   "metadata": {},
   "outputs": [],
   "source": [
    "# Data Subset: Filtered by Player and home runs\n",
    "breg_data = season2019_df[(season2019_df['batter'] == \"Bregman\") & (season2019_df['events'] == \"home_run\")]\n",
    "rendon_data = season2019_df[(season2019_df['batter'] == \"Rendon\") & (season2019_df['events'] == \"home_run\")]\n",
    "soto_data = season2019_df[(season2019_df['batter'] == \"Soto\") & (season2019_df['events'] == \"home_run\")]\n",
    "player_data = pd.concat([breg_data, rendon_data, soto_data])"
   ]
  },
  {
   "cell_type": "code",
   "execution_count": 59,
   "metadata": {},
   "outputs": [
    {
     "data": {
      "text/html": [
       "<div>\n",
       "<style scoped>\n",
       "    .dataframe tbody tr th:only-of-type {\n",
       "        vertical-align: middle;\n",
       "    }\n",
       "\n",
       "    .dataframe tbody tr th {\n",
       "        vertical-align: top;\n",
       "    }\n",
       "\n",
       "    .dataframe thead th {\n",
       "        text-align: right;\n",
       "    }\n",
       "</style>\n",
       "<table border=\"1\" class=\"dataframe\">\n",
       "  <thead>\n",
       "    <tr style=\"text-align: right;\">\n",
       "      <th></th>\n",
       "      <th>Bregman</th>\n",
       "      <th>Rendon</th>\n",
       "      <th>Soto</th>\n",
       "    </tr>\n",
       "  </thead>\n",
       "  <tbody>\n",
       "    <tr>\n",
       "      <th>Bregman</th>\n",
       "      <td>-1.000000e+00</td>\n",
       "      <td>0.055580</td>\n",
       "      <td>4.137971e-09</td>\n",
       "    </tr>\n",
       "    <tr>\n",
       "      <th>Rendon</th>\n",
       "      <td>5.558021e-02</td>\n",
       "      <td>-1.000000</td>\n",
       "      <td>1.326007e-04</td>\n",
       "    </tr>\n",
       "    <tr>\n",
       "      <th>Soto</th>\n",
       "      <td>4.137971e-09</td>\n",
       "      <td>0.000133</td>\n",
       "      <td>-1.000000e+00</td>\n",
       "    </tr>\n",
       "  </tbody>\n",
       "</table>\n",
       "</div>"
      ],
      "text/plain": [
       "              Bregman    Rendon          Soto\n",
       "Bregman -1.000000e+00  0.055580  4.137971e-09\n",
       "Rendon   5.558021e-02 -1.000000  1.326007e-04\n",
       "Soto     4.137971e-09  0.000133 -1.000000e+00"
      ]
     },
     "execution_count": 59,
     "metadata": {},
     "output_type": "execute_result"
    }
   ],
   "source": [
    "dunn = sp.posthoc_dunn(player_data, val_col=\"launch_speed\", group_col='batter', p_adjust = 'holm')\n",
    "dunn"
   ]
  },
  {
   "cell_type": "markdown",
   "metadata": {},
   "source": [
    "There is no difference in the launch angle between players<br>\n",
    "The launch speed between \n",
    " - Bregman's launch speed is significantly lower than Soto\n",
    " - Bregam is almost slower than Soto, but not significantly different\n",
    " - Rendon and Soto is significantly different<br>\n",
    "<br>"
   ]
  },
  {
   "cell_type": "markdown",
   "metadata": {},
   "source": [
    "### Obj 3 Step 4b: test the launch angle for normality using Shapiro-Wilk Test"
   ]
  },
  {
   "cell_type": "code",
   "execution_count": 30,
   "metadata": {},
   "outputs": [],
   "source": [
    "breg_angle_data = season2019_df[(season2019_df['batter'] == \"Bregman\") & (season2019_df['events'] == \"home_run\")][\"launch_angle\"]\n",
    "rendon_angle_data = season2019_df[(season2019_df['batter'] == \"Rendon\") & (season2019_df['events'] == \"home_run\")][\"launch_angle\"]\n",
    "soto_angle_data = season2019_df[(season2019_df['batter'] == \"Soto\") & (season2019_df['events'] == \"home_run\")][\"launch_angle\"]"
   ]
  },
  {
   "cell_type": "code",
   "execution_count": 31,
   "metadata": {},
   "outputs": [],
   "source": [
    "player_angle_data = [breg_angle_data, rendon_angle_data, soto_angle_data]\n",
    "angle_sw_data = []\n",
    "for player in player_angle_data:\n",
    "    angle_sw_data.append([stats.shapiro(player)[0], stats.shapiro(player)[1]])"
   ]
  },
  {
   "cell_type": "code",
   "execution_count": 33,
   "metadata": {},
   "outputs": [],
   "source": [
    "col_names = [\"W\", \"p-value\"]\n",
    "Shapiro_Wilk_angle_df = pd.DataFrame(angle_sw_data, columns=col_names, index = [\"Bregman\", \"Rendon\", \"Soto\"])"
   ]
  },
  {
   "cell_type": "code",
   "execution_count": 34,
   "metadata": {},
   "outputs": [
    {
     "data": {
      "text/html": [
       "<div>\n",
       "<style scoped>\n",
       "    .dataframe tbody tr th:only-of-type {\n",
       "        vertical-align: middle;\n",
       "    }\n",
       "\n",
       "    .dataframe tbody tr th {\n",
       "        vertical-align: top;\n",
       "    }\n",
       "\n",
       "    .dataframe thead th {\n",
       "        text-align: right;\n",
       "    }\n",
       "</style>\n",
       "<table border=\"1\" class=\"dataframe\">\n",
       "  <thead>\n",
       "    <tr style=\"text-align: right;\">\n",
       "      <th></th>\n",
       "      <th>W</th>\n",
       "      <th>p-value</th>\n",
       "    </tr>\n",
       "  </thead>\n",
       "  <tbody>\n",
       "    <tr>\n",
       "      <th>Bregman</th>\n",
       "      <td>0.977233</td>\n",
       "      <td>0.556867</td>\n",
       "    </tr>\n",
       "    <tr>\n",
       "      <th>Rendon</th>\n",
       "      <td>0.949418</td>\n",
       "      <td>0.092423</td>\n",
       "    </tr>\n",
       "    <tr>\n",
       "      <th>Soto</th>\n",
       "      <td>0.967549</td>\n",
       "      <td>0.314806</td>\n",
       "    </tr>\n",
       "  </tbody>\n",
       "</table>\n",
       "</div>"
      ],
      "text/plain": [
       "                W   p-value\n",
       "Bregman  0.977233  0.556867\n",
       "Rendon   0.949418  0.092423\n",
       "Soto     0.967549  0.314806"
      ]
     },
     "execution_count": 34,
     "metadata": {},
     "output_type": "execute_result"
    }
   ],
   "source": [
    "Shapiro_Wilk_angle_df"
   ]
  },
  {
   "cell_type": "markdown",
   "metadata": {},
   "source": [
    "The Shapiro-Wilk test confirms that the launch angle is normally distributed"
   ]
  },
  {
   "cell_type": "markdown",
   "metadata": {},
   "source": [
    "### Obj 3 Step 4c: determine if samples have equal variance using Barlette's test"
   ]
  },
  {
   "cell_type": "code",
   "execution_count": 43,
   "metadata": {},
   "outputs": [
    {
     "name": "stdout",
     "output_type": "stream",
     "text": [
      "The barlette p-value is 0.62237719654274: Do not reject the null hypothesis, all the input samples are from a populations with equal variances.\n"
     ]
    }
   ],
   "source": [
    "# Test for equal variance\n",
    "# scipy.stats.bartlett because I know the samples are normally distributed\n",
    "barlette_angle = stats.bartlett(breg_angle_data, rendon_angle_data, soto_angle_data)\n",
    "if barlette_angle[1] >= 0.05:\n",
    "    print(f\"The barlette p-value is {barlette_angle[1]}: Do not reject the null hypothesis, all the input samples are from a populations with equal variances.\")\n",
    "else:\n",
    "    print(f\"The barlette p-value is {barlette_angle[1]}: Reject the null hypothesis, the samples do not have equal variance\")"
   ]
  },
  {
   "cell_type": "markdown",
   "metadata": {},
   "source": [
    "### Obj 3 Step 4d: Conduct an ANOVA to determine if there is a significant difference in the launch angle between players"
   ]
  },
  {
   "cell_type": "code",
   "execution_count": 46,
   "metadata": {},
   "outputs": [
    {
     "name": "stdout",
     "output_type": "stream",
     "text": [
      "The p-value is: 0.41437333792221487. Do not reject the null hypothesis, no difference in launch angle amongst batters.\n"
     ]
    }
   ],
   "source": [
    "# The conditions to test an ANOVA have been met\n",
    "anova_angle = stats.f_oneway(breg_angle_data, rendon_angle_data, soto_angle_data)\n",
    "if anova_angle[1] >= 0.05:\n",
    "    print(f\"The p-value is: {anova_angle[1]}. Do not reject the null hypothesis, no difference in launch angle amongst batters.\")\n",
    "else:\n",
    "    print(f\"The p-value is: {anova_angle[1]}. Reject the null hypothesis, there is a difference in the launch angle amongs batters.\")"
   ]
  },
  {
   "cell_type": "markdown",
   "metadata": {},
   "source": [
    "### Obj 3 Step 4e: Calculate the Pearson Correlation for those conditions that are normally distributed"
   ]
  },
  {
   "cell_type": "code",
   "execution_count": 48,
   "metadata": {},
   "outputs": [
    {
     "data": {
      "text/plain": [
       "(-0.29682099191607325, 0.07442844842924008)"
      ]
     },
     "execution_count": 48,
     "metadata": {},
     "output_type": "execute_result"
    }
   ],
   "source": [
    "# Calculate pearson coefficient and p-value Bregman\n",
    "bregman_pearson = stats.pearsonr(rendon_speed_data, rendon_angle_data)\n",
    "bregman_pearson"
   ]
  },
  {
   "cell_type": "code",
   "execution_count": 49,
   "metadata": {},
   "outputs": [
    {
     "data": {
      "text/plain": [
       "(-0.23057481229180574, 0.15789071633961643)"
      ]
     },
     "execution_count": 49,
     "metadata": {},
     "output_type": "execute_result"
    }
   ],
   "source": [
    "# Calculate pearson coefficient and p-value Soto\n",
    "soto_pearson = stats.pearsonr(soto_speed_data, soto_angle_data)\n",
    "soto_pearson"
   ]
  },
  {
   "cell_type": "markdown",
   "metadata": {},
   "source": [
    "### Obj 3 Step 4f: Calculate the Spearman R for those conditions that are not normally distributed"
   ]
  },
  {
   "cell_type": "code",
   "execution_count": null,
   "metadata": {},
   "outputs": [],
   "source": [
    "bregman_spearmanr = stats.spearmanr(bregman_hr[\"launch_speed\"], bregman_hr[\"launch_angle\"])\n",
    "rendon_spearmanr = stats.spearmanr(rendon_hr[\"launch_speed\"], rendon_hr[\"launch_angle\"])\n",
    "soto_spearmanr = stats.spearmanr(soto_hr[\"launch_speed\"], soto_hr[\"launch_angle\"])\n",
    "player_spearmanr = pd.DataFrame({\"bregman\": bregman_spearmanr, \"rendon\": rendon_spearmanr, \"soto\": soto_spearmanr}, index = [\"rho\", \"p-value\"])"
   ]
  },
  {
   "cell_type": "code",
   "execution_count": null,
   "metadata": {},
   "outputs": [],
   "source": [
    "player_spearmanr"
   ]
  },
  {
   "cell_type": "markdown",
   "metadata": {},
   "source": [
    "The p value for breman suggest that it is statistically significant"
   ]
  },
  {
   "cell_type": "markdown",
   "metadata": {},
   "source": [
    "## Obj 3 Step 5: Visualize Launch Speed vs Launch Angle in Home Run Events"
   ]
  },
  {
   "cell_type": "markdown",
   "metadata": {},
   "source": [
    "### Obj 3 Step 5a: Alex Bregman plot"
   ]
  },
  {
   "cell_type": "code",
   "execution_count": 52,
   "metadata": {
    "scrolled": true
   },
   "outputs": [
    {
     "data": {
      "image/png": "[encoded data removed]",
      "text/plain": [
       "<Figure size 432x432 with 3 Axes>"
      ]
     },
     "metadata": {
      "needs_background": "light"
     },
     "output_type": "display_data"
    }
   ],
   "source": [
    "# Bregman\n",
    "sns.jointplot(x='launch_speed',y='launch_angle',data=breg_hr_data, kind='reg')\n",
    "plt.savefig(\"static/images/bregman_join_plot_angle_speed.png\", bbox_inches='tight')\n",
    "plt.show()"
   ]
  },
  {
   "cell_type": "markdown",
   "metadata": {},
   "source": [
    "### Obj 3 Step 5a: Anthony Rendon plot"
   ]
  },
  {
   "cell_type": "code",
   "execution_count": 53,
   "metadata": {},
   "outputs": [
    {
     "data": {
      "image/png": "[encoded data removed]",
      "text/plain": [
       "<Figure size 432x432 with 3 Axes>"
      ]
     },
     "metadata": {
      "needs_background": "light"
     },
     "output_type": "display_data"
    }
   ],
   "source": [
    "# Rendon\n",
    "sns.jointplot(x='launch_speed',y='launch_angle',data=rendon_hr_data, kind='reg')\n",
    "plt.savefig(\"static/images/rendon_join_plot_angle_speed.png\", bbox_inches='tight')\n",
    "plt.show()"
   ]
  },
  {
   "cell_type": "markdown",
   "metadata": {},
   "source": [
    "### Obj 3 Step 5a: Juan Soto plot"
   ]
  },
  {
   "cell_type": "code",
   "execution_count": 54,
   "metadata": {},
   "outputs": [
    {
     "data": {
      "image/png": "[encoded data removed]",
      "text/plain": [
       "<Figure size 432x432 with 3 Axes>"
      ]
     },
     "metadata": {
      "needs_background": "light"
     },
     "output_type": "display_data"
    }
   ],
   "source": [
    "# Soto\n",
    "sns.jointplot(x='launch_speed',y='launch_angle',data=soto_hr_data, kind='reg')\n",
    "plt.savefig(\"static/images/soto_join_plot_angle_speed.png\", bbox_inches='tight')\n",
    "plt.show()"
   ]
  },
  {
   "cell_type": "markdown",
   "metadata": {},
   "source": [
    "# Objective 4: Determine the impact of pitch velocity on Home Runs"
   ]
  },
  {
   "cell_type": "markdown",
   "metadata": {},
   "source": [
    "### Obj 4 Step 4a: Summary Statistics for the pitch velocity \"release_speed\" for each event that results in a home run"
   ]
  },
  {
   "cell_type": "code",
   "execution_count": 8,
   "metadata": {},
   "outputs": [],
   "source": [
    "# Connect to the database using the .connect() method\n",
    "# This will only connect to the website data, once you save the data as either a csv or db, \n",
    "# you will need to reconnect with the correct filepath\n",
    "conn = sqlite3.connect('/Users/trinitycisneros/Documents/Coding/bitterscientist.com/statcast.db')\n",
    "season2019_rs_df = pd.read_sql_query(\"SELECT batter, release_speed, events FROM statcast;\", conn)\n",
    "conn.close() "
   ]
  },
  {
   "cell_type": "code",
   "execution_count": 9,
   "metadata": {},
   "outputs": [],
   "source": [
    "# Pitch speeds for all events\n",
    "season2019_rs_df = season2019_rs_df.dropna(how='any').copy()"
   ]
  },
  {
   "cell_type": "code",
   "execution_count": 10,
   "metadata": {},
   "outputs": [],
   "source": [
    "# Replace batter ID with player name\n",
    "season2019_rs_df['batter'].replace({608324: 'Bregman', 543685: 'Rendon', 665742: 'Soto'}, inplace= True)"
   ]
  },
  {
   "cell_type": "code",
   "execution_count": 11,
   "metadata": {},
   "outputs": [
    {
     "data": {
      "text/plain": [
       "count    187528.000000\n",
       "mean         88.793753\n",
       "std           5.832647\n",
       "min          51.500000\n",
       "25%          84.600000\n",
       "50%          89.800000\n",
       "75%          93.500000\n",
       "max         104.300000\n",
       "Name: release_speed, dtype: float64"
      ]
     },
     "execution_count": 11,
     "metadata": {},
     "output_type": "execute_result"
    }
   ],
   "source": [
    "# Summary statistics for all pitching events in the 2019 season + world series\n",
    "season2019_rs_df['release_speed'].describe()"
   ]
  },
  {
   "cell_type": "code",
   "execution_count": 13,
   "metadata": {},
   "outputs": [],
   "source": [
    "# Subset entire dataset for players only\n",
    "player_df = season2019_rs_df.loc[(season2019_rs_df['batter'] == 'Bregman') | (season2019_rs_df['batter'] == 'Rendon') | (season2019_rs_df['batter'] == 'Soto')]"
   ]
  },
  {
   "cell_type": "code",
   "execution_count": 59,
   "metadata": {},
   "outputs": [
    {
     "data": {
      "text/html": [
       "<div>\n",
       "<style scoped>\n",
       "    .dataframe tbody tr th:only-of-type {\n",
       "        vertical-align: middle;\n",
       "    }\n",
       "\n",
       "    .dataframe tbody tr th {\n",
       "        vertical-align: top;\n",
       "    }\n",
       "\n",
       "    .dataframe thead th {\n",
       "        text-align: right;\n",
       "    }\n",
       "</style>\n",
       "<table border=\"1\" class=\"dataframe\">\n",
       "  <thead>\n",
       "    <tr style=\"text-align: right;\">\n",
       "      <th></th>\n",
       "      <th>count</th>\n",
       "      <th>mean</th>\n",
       "      <th>std</th>\n",
       "      <th>min</th>\n",
       "      <th>25%</th>\n",
       "      <th>50%</th>\n",
       "      <th>75%</th>\n",
       "      <th>max</th>\n",
       "    </tr>\n",
       "    <tr>\n",
       "      <th>batter</th>\n",
       "      <th></th>\n",
       "      <th></th>\n",
       "      <th></th>\n",
       "      <th></th>\n",
       "      <th></th>\n",
       "      <th></th>\n",
       "      <th></th>\n",
       "      <th></th>\n",
       "    </tr>\n",
       "  </thead>\n",
       "  <tbody>\n",
       "    <tr>\n",
       "      <th>Bregman</th>\n",
       "      <td>749.0</td>\n",
       "      <td>89.310013</td>\n",
       "      <td>5.668896</td>\n",
       "      <td>69.8</td>\n",
       "      <td>85.300</td>\n",
       "      <td>90.5</td>\n",
       "      <td>93.8</td>\n",
       "      <td>100.1</td>\n",
       "    </tr>\n",
       "    <tr>\n",
       "      <th>Rendon</th>\n",
       "      <td>711.0</td>\n",
       "      <td>89.854993</td>\n",
       "      <td>5.498450</td>\n",
       "      <td>72.7</td>\n",
       "      <td>86.300</td>\n",
       "      <td>90.9</td>\n",
       "      <td>94.0</td>\n",
       "      <td>99.8</td>\n",
       "    </tr>\n",
       "    <tr>\n",
       "      <th>Soto</th>\n",
       "      <td>730.0</td>\n",
       "      <td>88.870274</td>\n",
       "      <td>5.844168</td>\n",
       "      <td>69.0</td>\n",
       "      <td>84.825</td>\n",
       "      <td>89.9</td>\n",
       "      <td>93.1</td>\n",
       "      <td>101.4</td>\n",
       "    </tr>\n",
       "  </tbody>\n",
       "</table>\n",
       "</div>"
      ],
      "text/plain": [
       "         count       mean       std   min     25%   50%   75%    max\n",
       "batter                                                              \n",
       "Bregman  749.0  89.310013  5.668896  69.8  85.300  90.5  93.8  100.1\n",
       "Rendon   711.0  89.854993  5.498450  72.7  86.300  90.9  94.0   99.8\n",
       "Soto     730.0  88.870274  5.844168  69.0  84.825  89.9  93.1  101.4"
      ]
     },
     "execution_count": 59,
     "metadata": {},
     "output_type": "execute_result"
    }
   ],
   "source": [
    "# Summary statistics for all pitching events for Bregman, Rendon, Soto\n",
    "player_stats = player_df.groupby([\"batter\"])[\"release_speed\"].describe()\n",
    "player_stats"
   ]
  },
  {
   "cell_type": "code",
   "execution_count": 91,
   "metadata": {},
   "outputs": [
    {
     "data": {
      "text/html": [
       "<div>\n",
       "<style scoped>\n",
       "    .dataframe tbody tr th:only-of-type {\n",
       "        vertical-align: middle;\n",
       "    }\n",
       "\n",
       "    .dataframe tbody tr th {\n",
       "        vertical-align: top;\n",
       "    }\n",
       "\n",
       "    .dataframe thead th {\n",
       "        text-align: right;\n",
       "    }\n",
       "</style>\n",
       "<table border=\"1\" class=\"dataframe\">\n",
       "  <thead>\n",
       "    <tr style=\"text-align: right;\">\n",
       "      <th></th>\n",
       "      <th>count</th>\n",
       "      <th>mean</th>\n",
       "      <th>std</th>\n",
       "      <th>min</th>\n",
       "      <th>25%</th>\n",
       "      <th>50%</th>\n",
       "      <th>75%</th>\n",
       "      <th>max</th>\n",
       "    </tr>\n",
       "    <tr>\n",
       "      <th>batter</th>\n",
       "      <th></th>\n",
       "      <th></th>\n",
       "      <th></th>\n",
       "      <th></th>\n",
       "      <th></th>\n",
       "      <th></th>\n",
       "      <th></th>\n",
       "      <th></th>\n",
       "    </tr>\n",
       "  </thead>\n",
       "  <tbody>\n",
       "    <tr>\n",
       "      <th>Bregman</th>\n",
       "      <td>42.0</td>\n",
       "      <td>88.995238</td>\n",
       "      <td>5.341551</td>\n",
       "      <td>78.1</td>\n",
       "      <td>84.575</td>\n",
       "      <td>90.4</td>\n",
       "      <td>92.925</td>\n",
       "      <td>97.2</td>\n",
       "    </tr>\n",
       "    <tr>\n",
       "      <th>Rendon</th>\n",
       "      <td>37.0</td>\n",
       "      <td>89.135135</td>\n",
       "      <td>6.290434</td>\n",
       "      <td>76.7</td>\n",
       "      <td>84.300</td>\n",
       "      <td>91.8</td>\n",
       "      <td>94.400</td>\n",
       "      <td>96.9</td>\n",
       "    </tr>\n",
       "    <tr>\n",
       "      <th>Soto</th>\n",
       "      <td>39.0</td>\n",
       "      <td>90.279487</td>\n",
       "      <td>6.136439</td>\n",
       "      <td>73.2</td>\n",
       "      <td>88.550</td>\n",
       "      <td>91.3</td>\n",
       "      <td>94.050</td>\n",
       "      <td>100.1</td>\n",
       "    </tr>\n",
       "  </tbody>\n",
       "</table>\n",
       "</div>"
      ],
      "text/plain": [
       "         count       mean       std   min     25%   50%     75%    max\n",
       "batter                                                                \n",
       "Bregman   42.0  88.995238  5.341551  78.1  84.575  90.4  92.925   97.2\n",
       "Rendon    37.0  89.135135  6.290434  76.7  84.300  91.8  94.400   96.9\n",
       "Soto      39.0  90.279487  6.136439  73.2  88.550  91.3  94.050  100.1"
      ]
     },
     "execution_count": 91,
     "metadata": {},
     "output_type": "execute_result"
    }
   ],
   "source": [
    "# Summary statistics for home run pitches for Bregman, Rendon, Soto\n",
    "player_df.loc[(player_df['events'] == 'home_run')].groupby([\"batter\"])[\"release_speed\"].describe()"
   ]
  },
  {
   "cell_type": "markdown",
   "metadata": {},
   "source": [
    "### Obj 4 Step 4b: Visualize distribution of pitch velocity for batted home run, by player"
   ]
  },
  {
   "cell_type": "code",
   "execution_count": 92,
   "metadata": {},
   "outputs": [
    {
     "data": {
      "image/png": "[encoded data removed]",
      "text/plain": [
       "<Figure size 1080x540 with 3 Axes>"
      ]
     },
     "metadata": {
      "needs_background": "light"
     },
     "output_type": "display_data"
    }
   ],
   "source": [
    "# Create a boxplot that describes the pitch velocity of each player's home runs\n",
    "fig1, axs1 = plt.subplots(ncols=3, sharex=True, sharey=True, figsize=(15, 7.5))\n",
    "sns.boxplot(player_df.loc[(player_df['batter'] == 'Bregman') & (player_df['events'] == 'home_run')][\"release_speed\"], color='tab:blue', ax=axs1[0]).set_title('Alex Bregman \\n Home Runs, 2019')\n",
    "sns.boxplot(player_df.loc[(player_df['batter'] == 'Rendon')  & (player_df['events'] == 'home_run')][\"release_speed\"], color='tab:blue', ax=axs1[1]).set_title('Anthony Rendon \\n Home Runs, 2019')\n",
    "sns.boxplot(player_df.loc[(player_df['batter'] == 'Soto')  & (player_df['events'] == 'home_run')][\"release_speed\"], color='tab:blue', ax=axs1[2]).set_title('Juan Soto \\n Home Runs, 2019')\n",
    "fig1.savefig(\"static/images/release_speed.png\", bbox_inches='tight')\n",
    "plt.show()"
   ]
  },
  {
   "cell_type": "markdown",
   "metadata": {},
   "source": [
    "### Obj 4 Step 4c: Determine if the release_speed differes for all batted events between players (in other words, did any player have to hit the ball against faster, or slower pitches)"
   ]
  },
  {
   "cell_type": "code",
   "execution_count": 82,
   "metadata": {},
   "outputs": [
    {
     "data": {
      "image/png": "[encoded data removed]",
      "text/plain": [
       "<Figure size 1440x720 with 3 Axes>"
      ]
     },
     "metadata": {
      "needs_background": "light"
     },
     "output_type": "display_data"
    }
   ],
   "source": [
    "# Determine if the pitches follow a normal distribution\n",
    "fig1, axs1 = plt.subplots(ncols=3, sharex=True, sharey=True, figsize=(20, 10))\n",
    "sns.distplot(player_df.loc[(season2019_rs_df['batter'] == 'Bregman')][\"release_speed\"], color='tab:blue', ax=axs1[0]).set_title('Alex Bregman \\n Pitch Velocities at Plate, 2019')\n",
    "sns.distplot(player_df.loc[(season2019_rs_df['batter'] == 'Rendon')][\"release_speed\"], color='tab:blue', ax=axs1[1]).set_title('Anthony Rendon \\n Pitch Velocities at Plate, 2019')\n",
    "sns.distplot(player_df.loc[(season2019_rs_df['batter'] == 'Soto')][\"release_speed\"], color='tab:blue', ax=axs1[2]).set_title('Juan Soto \\n Pitch Velocities at Plate, 2019')\n",
    "fig1.savefig(\"static/images/at_plate_pitch_velocities_distplot.png\", bbox_inches='tight')\n",
    "plt.show()"
   ]
  },
  {
   "cell_type": "code",
   "execution_count": 87,
   "metadata": {},
   "outputs": [],
   "source": [
    "players = [\"Bregman\", \"Rendon\", \"Soto\"]\n",
    "rs_shapiro_wilk = []\n",
    "for player in players:\n",
    "    rs_shapiro_wilk.append(stats.shapiro(player_df.loc[(player_df['batter'] == player)][\"release_speed\"]))"
   ]
  },
  {
   "cell_type": "code",
   "execution_count": 88,
   "metadata": {},
   "outputs": [
    {
     "data": {
      "text/html": [
       "<div>\n",
       "<style scoped>\n",
       "    .dataframe tbody tr th:only-of-type {\n",
       "        vertical-align: middle;\n",
       "    }\n",
       "\n",
       "    .dataframe tbody tr th {\n",
       "        vertical-align: top;\n",
       "    }\n",
       "\n",
       "    .dataframe thead th {\n",
       "        text-align: right;\n",
       "    }\n",
       "</style>\n",
       "<table border=\"1\" class=\"dataframe\">\n",
       "  <thead>\n",
       "    <tr style=\"text-align: right;\">\n",
       "      <th></th>\n",
       "      <th>batter</th>\n",
       "      <th>W</th>\n",
       "      <th>p-value</th>\n",
       "    </tr>\n",
       "  </thead>\n",
       "  <tbody>\n",
       "    <tr>\n",
       "      <th>0</th>\n",
       "      <td>Bregman</td>\n",
       "      <td>0.957133</td>\n",
       "      <td>5.675651e-14</td>\n",
       "    </tr>\n",
       "    <tr>\n",
       "      <th>1</th>\n",
       "      <td>Rendon</td>\n",
       "      <td>0.956773</td>\n",
       "      <td>1.309184e-13</td>\n",
       "    </tr>\n",
       "    <tr>\n",
       "      <th>2</th>\n",
       "      <td>Soto</td>\n",
       "      <td>0.972610</td>\n",
       "      <td>1.873673e-10</td>\n",
       "    </tr>\n",
       "  </tbody>\n",
       "</table>\n",
       "</div>"
      ],
      "text/plain": [
       "    batter         W       p-value\n",
       "0  Bregman  0.957133  5.675651e-14\n",
       "1   Rendon  0.956773  1.309184e-13\n",
       "2     Soto  0.972610  1.873673e-10"
      ]
     },
     "execution_count": 88,
     "metadata": {},
     "output_type": "execute_result"
    }
   ],
   "source": [
    "# Create a dataframe with the shapiro wilk test results\n",
    "rs_shapiro_wilk_df = pd.DataFrame(rs_shapiro_wilk, columns =['W', 'p-value'])\n",
    "rs_shapiro_wilk_df[\"batter\"] = [\"Bregman\", \"Rendon\", \"Soto\"]\n",
    "rs_shapiro_wilk_df = rs_shapiro_wilk_df[[\"batter\", \"W\", \"p-value\"]]\n",
    "rs_shapiro_wilk_df"
   ]
  },
  {
   "cell_type": "code",
   "execution_count": 86,
   "metadata": {},
   "outputs": [
    {
     "data": {
      "text/plain": [
       "LeveneResult(statistic=1.9196973697833695, pvalue=0.14689837262837688)"
      ]
     },
     "execution_count": 86,
     "metadata": {},
     "output_type": "execute_result"
    }
   ],
   "source": [
    "# Test for equal variance, since the data is not normally distributed, will use a Leven's test\n",
    "bregman = player_df.loc[(player_df['batter'] == 'Bregman')][\"release_speed\"]\n",
    "rendon = player_df.loc[(player_df['batter'] == 'Rendon')][\"release_speed\"]\n",
    "soto = player_df.loc[(player_df['batter'] == 'Soto')][\"release_speed\"]\n",
    "stats.levene(bregman, rendon, soto)\n",
    "# No significant difference in variance"
   ]
  },
  {
   "cell_type": "markdown",
   "metadata": {},
   "source": [
    "### Obj 4 Step 4c2: Compute the Kruskal-Wallis H-test for independent samples"
   ]
  },
  {
   "cell_type": "code",
   "execution_count": 89,
   "metadata": {},
   "outputs": [
    {
     "data": {
      "text/plain": [
       "KruskalResult(statistic=11.371302631364896, pvalue=0.003394321754529458)"
      ]
     },
     "execution_count": 89,
     "metadata": {},
     "output_type": "execute_result"
    }
   ],
   "source": [
    "bregman = player_df.loc[(player_df['batter'] == 'Bregman')][\"release_speed\"]\n",
    "rendon = player_df.loc[(player_df['batter'] == 'Rendon')][\"release_speed\"]\n",
    "soto = player_df.loc[(player_df['batter'] == 'Soto')][\"release_speed\"]\n",
    "stats.kruskal(bregman, rendon, soto)"
   ]
  },
  {
   "cell_type": "markdown",
   "metadata": {},
   "source": [
    "### Obj 4 Step 4d: Conduct a post hoc test to determine which players here significantly different"
   ]
  },
  {
   "cell_type": "code",
   "execution_count": 90,
   "metadata": {},
   "outputs": [
    {
     "data": {
      "text/html": [
       "<div>\n",
       "<style scoped>\n",
       "    .dataframe tbody tr th:only-of-type {\n",
       "        vertical-align: middle;\n",
       "    }\n",
       "\n",
       "    .dataframe tbody tr th {\n",
       "        vertical-align: top;\n",
       "    }\n",
       "\n",
       "    .dataframe thead th {\n",
       "        text-align: right;\n",
       "    }\n",
       "</style>\n",
       "<table border=\"1\" class=\"dataframe\">\n",
       "  <thead>\n",
       "    <tr style=\"text-align: right;\">\n",
       "      <th></th>\n",
       "      <th>Bregman</th>\n",
       "      <th>Rendon</th>\n",
       "      <th>Soto</th>\n",
       "    </tr>\n",
       "  </thead>\n",
       "  <tbody>\n",
       "    <tr>\n",
       "      <th>Bregman</th>\n",
       "      <td>-1.000000</td>\n",
       "      <td>0.176891</td>\n",
       "      <td>0.176891</td>\n",
       "    </tr>\n",
       "    <tr>\n",
       "      <th>Rendon</th>\n",
       "      <td>0.176891</td>\n",
       "      <td>-1.000000</td>\n",
       "      <td>0.002238</td>\n",
       "    </tr>\n",
       "    <tr>\n",
       "      <th>Soto</th>\n",
       "      <td>0.176891</td>\n",
       "      <td>0.002238</td>\n",
       "      <td>-1.000000</td>\n",
       "    </tr>\n",
       "  </tbody>\n",
       "</table>\n",
       "</div>"
      ],
      "text/plain": [
       "          Bregman    Rendon      Soto\n",
       "Bregman -1.000000  0.176891  0.176891\n",
       "Rendon   0.176891 -1.000000  0.002238\n",
       "Soto     0.176891  0.002238 -1.000000"
      ]
     },
     "execution_count": 90,
     "metadata": {},
     "output_type": "execute_result"
    }
   ],
   "source": [
    "dunn = sp.posthoc_dunn(player_df, val_col=\"release_speed\", group_col='batter', p_adjust = 'holm')\n",
    "dunn"
   ]
  },
  {
   "cell_type": "markdown",
   "metadata": {},
   "source": [
    "There is a difference in the pitch velocities that Soto and Rendon encountered on the plate."
   ]
  },
  {
   "cell_type": "markdown",
   "metadata": {},
   "source": [
    "### Obj 4 Step 5: Are the pitch velocities for home run events statistically significant?"
   ]
  },
  {
   "cell_type": "code",
   "execution_count": 14,
   "metadata": {},
   "outputs": [
    {
     "data": {
      "image/png": "[encoded data removed]",
      "text/plain": [
       "<Figure size 1440x720 with 3 Axes>"
      ]
     },
     "metadata": {
      "needs_background": "light"
     },
     "output_type": "display_data"
    }
   ],
   "source": [
    "# Plot density plots for pitch speeds that were hit and were home runs\n",
    "bregman_hr = player_df.loc[(player_df['batter'] == 'Bregman') & (player_df['events'] == 'home_run')][\"release_speed\"]\n",
    "rendon_hr = player_df.loc[(player_df['batter'] == 'Rendon') & (player_df['events'] == 'home_run')][\"release_speed\"]\n",
    "soto_hr = player_df.loc[(player_df['batter'] == 'Soto') & (player_df['events'] == 'home_run')][\"release_speed\"]\n",
    "\n",
    "\n",
    "# Determine if the pitches follow a normal distribution\n",
    "fig1, axs1 = plt.subplots(ncols=3, sharex=True, sharey=True, figsize=(20, 10))\n",
    "sns.distplot(bregman_hr, color='tab:blue', ax=axs1[0]).set_title('Alex Bregman Home Runs \\n Pitch Velocities at Plate, 2019')\n",
    "sns.distplot(rendon_hr, color='tab:blue', ax=axs1[1]).set_title('Anthony Rendon Home Runs \\n Pitch Velocities at Plate, 2019')\n",
    "sns.distplot(soto_hr, color='tab:blue', ax=axs1[2]).set_title('Juan Soto Home Runs \\n Pitch Velocities at Plate, 2019')\n",
    "fig1.savefig(\"static/images/hr_at_plate_pitch_velocities_distplot.png\", bbox_inches='tight')\n",
    "plt.show()"
   ]
  },
  {
   "cell_type": "code",
   "execution_count": 16,
   "metadata": {},
   "outputs": [
    {
     "data": {
      "text/plain": [
       "KruskalResult(statistic=1.243546069564417, pvalue=0.536991488451557)"
      ]
     },
     "execution_count": 16,
     "metadata": {},
     "output_type": "execute_result"
    }
   ],
   "source": [
    "# Kruskal H-Test Home Run Pitch Speeds\n",
    "stats.kruskal(bregman_hr, rendon_hr, soto_hr)"
   ]
  },
  {
   "cell_type": "markdown",
   "metadata": {},
   "source": [
    "# Obj 5: Determine the Player's Pitch Locations"
   ]
  },
  {
   "cell_type": "markdown",
   "metadata": {},
   "source": [
    "### Obj 5 Step 1: Functions to assign the x and y coordinate for the pitch location"
   ]
  },
  {
   "cell_type": "code",
   "execution_count": null,
   "metadata": {},
   "outputs": [],
   "source": [
    "def assign_x_coord(row):\n",
    "    \"\"\"\n",
    "    Assigns an x-coordinate to Statcast's strike zone numbers. Zones 11, 12, 13,\n",
    "    and 14 are ignored for plotting simplicity.\n",
    "    \"\"\"\n",
    "    # Left third of strike zone\n",
    "    if row.zone in [1, 4, 7]:\n",
    "        return 1\n",
    "    # Middle third of strike zone\n",
    "    if row.zone in [2, 5, 8]:\n",
    "        return 2\n",
    "    # Right third of strike zone\n",
    "    if row.zone in [3, 6, 9]:\n",
    "        return 3"
   ]
  },
  {
   "cell_type": "code",
   "execution_count": null,
   "metadata": {},
   "outputs": [],
   "source": [
    "def assign_y_coord(row):\n",
    "    \"\"\"\n",
    "    Assigns a y-coordinate to Statcast's strike zone numbers. Zones 11, 12, 13,\n",
    "    and 14 are ignored for plotting simplicity.\n",
    "    \"\"\"\n",
    "    # Upper third of strike zone\n",
    "    if row.zone in [1, 2, 3]:\n",
    "        return 3\n",
    "    # Middle third of strike zone\n",
    "    if row.zone in [4, 5, 6]:\n",
    "        return 2\n",
    "    # Lower third of strike zone\n",
    "    if row.zone in [7, 8, 9]:\n",
    "        return 1"
   ]
  },
  {
   "cell_type": "markdown",
   "metadata": {},
   "source": [
    "### Obj 5 Step 2a:  Alex Bregman's home run zone"
   ]
  },
  {
   "cell_type": "code",
   "execution_count": null,
   "metadata": {},
   "outputs": [],
   "source": [
    "# Zones 11, 12, 13, and 14 are to be ignored for plotting simplicity\n",
    "bregman_strikes_hr = bregman_hr.copy().loc[bregman_hr.zone <= 9]\n",
    "\n",
    "# Assign Cartesian coordinates to pitches in the strike zone for Judge home runs\n",
    "bregman_strikes_hr['zone_x'] = bregman_strikes_hr.apply(assign_x_coord, axis=1)\n",
    "bregman_strikes_hr['zone_y'] = bregman_strikes_hr.apply(assign_y_coord, axis=1)\n",
    "\n",
    "# Plot Judge's home run zone as a 2D histogram with a colorbar\n",
    "plt.hist2d(bregman_strikes_hr['zone_x'], bregman_strikes_hr['zone_y'], bins = 3, cmap='Blues')\n",
    "plt.title('Alex Bregman Home Runs on\\n Pitches in the Strike Zone, 2019')\n",
    "plt.gca().get_xaxis().set_visible(False)\n",
    "plt.gca().get_yaxis().set_visible(False)\n",
    "cb = plt.colorbar()\n",
    "cb.set_label('Counts in Bin')\n",
    "\n",
    "plt.savefig(\"static/images/bregman_hr_zone.png\", bbox_inches='tight')"
   ]
  },
  {
   "cell_type": "markdown",
   "metadata": {},
   "source": [
    "### Obj 5 Step 2b:  Anthony Rendons home run zone"
   ]
  },
  {
   "cell_type": "code",
   "execution_count": null,
   "metadata": {},
   "outputs": [],
   "source": [
    "# Zones 11, 12, 13, and 14 are to be ignored for plotting simplicity\n",
    "rendon_strike_hr = rendon_hr.copy().loc[rendon_hr.zone <= 9]\n",
    "\n",
    "# Assign Cartesian coordinates to pitches in the strike zone for Stanton home runs\n",
    "rendon_strike_hr['zone_x'] = rendon_strike_hr.apply(assign_x_coord, axis=1)\n",
    "rendon_strike_hr['zone_y'] = rendon_strike_hr.apply(assign_y_coord, axis=1)\n",
    "\n",
    "# Plot Stanton's home run zone as a 2D histogram with a colorbar\n",
    "plt.hist2d(rendon_strike_hr['zone_x'], rendon_strike_hr['zone_y'], bins = 3, cmap='Blues')\n",
    "plt.title('Anthony Rendon Home Runs on\\n Pitches in the Strike Zone, 2019')\n",
    "plt.gca().get_xaxis().set_visible(False)\n",
    "plt.gca().get_yaxis().set_visible(False)\n",
    "cb = plt.colorbar()\n",
    "cb.set_label('Counts in Bin')\n",
    "# Save file\n",
    "plt.savefig(\"static/images/rendon_hr_zone.png\", bbox_inches='tight')"
   ]
  },
  {
   "cell_type": "markdown",
   "metadata": {},
   "source": [
    "### ### Obj 5 Step 2c:  Juan Soto's home run zone"
   ]
  },
  {
   "cell_type": "code",
   "execution_count": null,
   "metadata": {},
   "outputs": [],
   "source": [
    "# Zones 11, 12, 13, and 14 are to be ignored for plotting simplicity\n",
    "soto_strike_hr = soto_hr.copy().loc[soto_hr.zone <= 9]\n",
    "\n",
    "# Assign Cartesian coordinates to pitches in the strike zone for Stanton home runs\n",
    "soto_strike_hr['zone_x'] = soto_strike_hr.apply(assign_x_coord, axis=1)\n",
    "soto_strike_hr['zone_y'] = soto_strike_hr.apply(assign_y_coord, axis=1)\n",
    "\n",
    "# Plot Stanton's home run zone as a 2D histogram with a colorbar\n",
    "plt.hist2d(soto_strike_hr['zone_x'], soto_strike_hr['zone_y'], bins = 3, cmap='Blues')\n",
    "plt.title('Jose Soto Home Runs on\\n Pitches in the Strike Zone, 2019')\n",
    "plt.gca().get_xaxis().set_visible(False)\n",
    "plt.gca().get_yaxis().set_visible(False)\n",
    "cb = plt.colorbar()\n",
    "cb.set_label('Counts in Bin')\n",
    "# Save file\n",
    "plt.savefig(\"static/images/soto_hr_zone.png\", bbox_inches='tight')"
   ]
  },
  {
   "cell_type": "code",
   "execution_count": null,
   "metadata": {},
   "outputs": [],
   "source": []
  }
 ],
 "metadata": {
  "kernelspec": {
   "display_name": "Python 3",
   "language": "python",
   "name": "python3"
  },
  "language_info": {
   "codemirror_mode": {
    "name": "ipython",
    "version": 3
   },
   "file_extension": ".py",
   "mimetype": "text/x-python",
   "name": "python",
   "nbconvert_exporter": "python",
   "pygments_lexer": "ipython3",
   "version": "3.7.4"
  }
 },
 "nbformat": 4,
 "nbformat_minor": 2
}

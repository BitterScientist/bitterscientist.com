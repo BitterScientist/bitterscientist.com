{
 "cells": [
  {
   "cell_type": "markdown",
   "metadata": {},
   "source": [
    "### Import variables from Step 1 Transformation Step\n",
    "More info on \"Stores variables, aliases and macros in IPython’s database.\" Follow the link: <a href=\"https://ipython.org/ipython-doc/rel-0.12/config/extensions/storemagic.html\">IPython Documentation</a> "
   ]
  },
  {
   "cell_type": "code",
   "execution_count": 1,
   "metadata": {},
   "outputs": [],
   "source": [
    "%store -r nationals\n",
    "%store -r astros"
   ]
  },
  {
   "cell_type": "markdown",
   "metadata": {},
   "source": [
    "### Import Libraries"
   ]
  },
  {
   "cell_type": "code",
   "execution_count": 2,
   "metadata": {},
   "outputs": [],
   "source": [
    "import pandas as pd\n",
    "import numpy as np\n",
    "import matplotlib.pyplot as plt\n",
    "import matplotlib.lines as mlines\n",
    "import seaborn as sns\n",
    "%matplotlib inline"
   ]
  },
  {
   "cell_type": "code",
   "execution_count": 3,
   "metadata": {},
   "outputs": [],
   "source": [
    "# Display all columns (pandas will collapse some columns if we don't set this option)\n",
    "pd.set_option('display.max_columns', None)"
   ]
  },
  {
   "cell_type": "markdown",
   "metadata": {},
   "source": [
    "### Determine which player had the highest HR scores for each team\n",
    "\n",
    "<Strong>Method</Strong>\n",
    " - Sort home run values for each team\n",
    " - Store player names and their home run values in lists\n",
    " - Use a scatter plot to visualize the home run hits by team"
   ]
  },
  {
   "cell_type": "code",
   "execution_count": 4,
   "metadata": {},
   "outputs": [],
   "source": [
    "# Sort the dataframe by the home runs column using the .sort_values() method\n",
    "astros = astros.sort_values(by=['HR'])\n",
    "nationals  = nationals.sort_values(by=['HR'])"
   ]
  },
  {
   "cell_type": "code",
   "execution_count": 5,
   "metadata": {},
   "outputs": [],
   "source": [
    "# Prepare a list for each team that has a) player name, and b) the home runs\n",
    "# This general code will create a list of the data needed for 2d plotting: dataframe.column.values\n",
    "astros_players = astros.Name.values\n",
    "astros_home_runs = astros.HR.values\n",
    "nationals_players = nationals.Name.values\n",
    "nationals_home_runs = nationals.HR.values"
   ]
  },
  {
   "cell_type": "markdown",
   "metadata": {},
   "source": [
    "# Exploratory Data Analysis"
   ]
  },
  {
   "cell_type": "markdown",
   "metadata": {},
   "source": [
    "### Use pandas plotting methods to visualize the home run data"
   ]
  },
  {
   "cell_type": "markdown",
   "metadata": {},
   "source": [
    "### Question 1: What is the batter home run distribution for both teams?"
   ]
  },
  {
   "cell_type": "markdown",
   "metadata": {},
   "source": [
    "<strong>Method:</strong> \n",
    " - Use pandas .plot() method to view the HR distribution for the Astros and Nationals.\n",
    "Use \n",
    "will use a horizontal boxplot to compare the HR distribution for the astros and nationals\n",
    " - Which team has the highest number of players with more home runs?\n",
    " - Which team has the highest average home runs?\n",
    " - Variables\n",
    " - x will be the homerunds\n",
    " - y will be the categories: Nationals, Astros"
   ]
  },
  {
   "cell_type": "markdown",
   "metadata": {},
   "source": [
    "#### Box Plot to compare both teams"
   ]
  },
  {
   "cell_type": "code",
   "execution_count": 6,
   "metadata": {
    "scrolled": true
   },
   "outputs": [
    {
     "data": {
      "image/png": "[encoded data removed]",
      "text/plain": [
       "<Figure size 432x288 with 1 Axes>"
      ]
     },
     "metadata": {
      "needs_background": "light"
     },
     "output_type": "display_data"
    }
   ],
   "source": [
    "astros.HR.plot(kind='hist', title=\"Home Runs by Astros (orange) and Nationals (blue)\")\n",
    "nationals.HR.plot(kind='hist')\n",
    "plt.show()"
   ]
  },
  {
   "cell_type": "markdown",
   "metadata": {},
   "source": [
    "<strong>Observation</strong>\n",
    "It appears as if the Nationals had more batters hit home runs > 20."
   ]
  },
  {
   "cell_type": "code",
   "execution_count": 7,
   "metadata": {},
   "outputs": [],
   "source": [
    "# Store homeruns by team into a series\n",
    "astros_series = astros['HR'].values\n",
    "nationals_series = nationals['HR'].values"
   ]
  },
  {
   "cell_type": "code",
   "execution_count": 8,
   "metadata": {},
   "outputs": [
    {
     "data": {
      "image/png": "[encoded data removed]",
      "text/plain": [
       "<Figure size 432x288 with 1 Axes>"
      ]
     },
     "metadata": {
      "needs_background": "light"
     },
     "output_type": "display_data"
    }
   ],
   "source": [
    "_ = sns.swarmplot(data=[astros_series, nationals_series])\n",
    "_ = plt.xlabel('Team')\n",
    "_ = plt.ylabel('Number of Home Runs')\n",
    "plt.show()"
   ]
  },
  {
   "cell_type": "code",
   "execution_count": 9,
   "metadata": {},
   "outputs": [
    {
     "data": {
      "image/png": "[encoded data removed]",
      "text/plain": [
       "<Figure size 432x288 with 1 Axes>"
      ]
     },
     "metadata": {
      "needs_background": "light"
     },
     "output_type": "display_data"
    }
   ],
   "source": [
    "# Create a figure instance\n",
    "teams = [astros_home_runs, nationals_home_runs]\n",
    "fig1, ax1 = plt.subplots()\n",
    "ax1.set_title('Home Runs Box Plots')\n",
    "ax1.boxplot(teams)\n",
    "plt.show()"
   ]
  },
  {
   "cell_type": "markdown",
   "metadata": {},
   "source": [
    "### Determine if there is a difference in the mean of homeruns between both teams"
   ]
  },
  {
   "cell_type": "markdown",
   "metadata": {},
   "source": [
    "#### Are the HR batting for the Astros and Nationals Different?"
   ]
  },
  {
   "cell_type": "code",
   "execution_count": 10,
   "metadata": {},
   "outputs": [],
   "source": [
    "def ecdf(data):\n",
    "    \"\"\"Compute ECDF for a one-dimensional array of measurements.\"\"\"\n",
    "    # Number of data points: n\n",
    "    n = len(data)\n",
    "\n",
    "    # x-data for the ECDF: x\n",
    "    x = np.sort(data)\n",
    "\n",
    "    # y-data for the ECDF: y\n",
    "    y = np.arange(1, n+1) / n\n",
    "\n",
    "    return x, y"
   ]
  },
  {
   "cell_type": "code",
   "execution_count": 11,
   "metadata": {},
   "outputs": [
    {
     "data": {
      "image/png": "[encoded data removed]",
      "text/plain": [
       "<Figure size 432x288 with 1 Axes>"
      ]
     },
     "metadata": {
      "needs_background": "light"
     },
     "output_type": "display_data"
    }
   ],
   "source": [
    "# Plot the Cummulative distribution Function for both teams\n",
    "x_ast , y_ast = ecdf(astros_series)\n",
    "x_nat , y_nat = ecdf(nationals_series)\n",
    "_ = plt.plot(x_ast, y_ast, marker = '.', linestyle=\"none\")\n",
    "_ = plt.plot(x_nat, y_nat, marker = '.', linestyle=\"none\")\n",
    "plt.margins(0.02)\n",
    "_ = plt.legend(('Astros', 'Nationals'), loc='lower right')\n",
    "_ = plt.xlabel(\"Number of Homeruns\")\n",
    "_ = plt.ylabel('CDF')\n",
    "plt.show()"
   ]
  },
  {
   "cell_type": "markdown",
   "metadata": {},
   "source": [
    "### compere data to normal probability distribution function"
   ]
  },
  {
   "cell_type": "code",
   "execution_count": 12,
   "metadata": {},
   "outputs": [],
   "source": [
    "# To Generate theoretical ecdf for these teams, must calculate mean, std\n",
    "astros_mean = np.mean(astros_series)\n",
    "nationals_mean = np.mean(nationals_series)\n",
    "astros_std = np.std(astros_series)\n",
    "nationals_std = np.std(nationals_series)\n",
    "astros_norm = np.random.normal(astros_mean, astros_std, size=10000)\n",
    "nationals_norm = np.random.normal(nationals_mean, nationals_std, size=10000)"
   ]
  },
  {
   "cell_type": "code",
   "execution_count": 13,
   "metadata": {},
   "outputs": [],
   "source": [
    "# use the ecdf function to return the theoretical x and y for their normal pdf\n",
    "ast_x_theor, ast_y_theor = ecdf(astros_norm)\n",
    "nat_x_theor, anat_y_theor = ecdf(nationals_norm)"
   ]
  },
  {
   "cell_type": "code",
   "execution_count": 14,
   "metadata": {},
   "outputs": [
    {
     "data": {
      "image/png": "[encoded data removed]",
      "text/plain": [
       "<Figure size 432x288 with 1 Axes>"
      ]
     },
     "metadata": {
      "needs_background": "light"
     },
     "output_type": "display_data"
    }
   ],
   "source": [
    "# Plot the Cummulative distribution Function for both teams\n",
    "x_ast , y_ast = ecdf(astros_series)\n",
    "x_nat , y_nat = ecdf(nationals_series)\n",
    "_ = plt.plot(x_ast, y_ast, marker = '.', linestyle=\"none\")\n",
    "_ = plt.plot(ast_x_theor, ast_y_theor)\n",
    "_ = plt.plot(x_nat, y_nat, marker = '.', linestyle=\"none\")\n",
    "_ = plt.plot(nat_x_theor, anat_y_theor)\n",
    "plt.margins(0.02)\n",
    "_ = plt.legend(('Astros', 'Nationals'), loc='lower right')\n",
    "_ = plt.xlabel(\"Number of Homeruns\")\n",
    "_ = plt.ylabel('CDF')\n",
    "plt.show()"
   ]
  },
  {
   "cell_type": "code",
   "execution_count": 15,
   "metadata": {},
   "outputs": [],
   "source": [
    "from scipy.stats import ttest_ind\n"
   ]
  }
 ],
 "metadata": {
  "kernelspec": {
   "display_name": "Python 3",
   "language": "python",
   "name": "python3"
  },
  "language_info": {
   "codemirror_mode": {
    "name": "ipython",
    "version": 3
   },
   "file_extension": ".py",
   "mimetype": "text/x-python",
   "name": "python",
   "nbconvert_exporter": "python",
   "pygments_lexer": "ipython3",
   "version": "3.7.4"
  }
 },
 "nbformat": 4,
 "nbformat_minor": 2
}

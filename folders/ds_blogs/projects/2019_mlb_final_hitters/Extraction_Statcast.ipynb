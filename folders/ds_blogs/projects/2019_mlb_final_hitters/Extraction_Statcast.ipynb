{
 "cells": [
  {
   "cell_type": "markdown",
   "metadata": {},
   "source": [
    "# Background: Extracting Data from baseballsavant.mlb.com"
   ]
  },
  {
   "cell_type": "markdown",
   "metadata": {},
   "source": [
    "<strong>Websites</strong>\n",
    " - baseballsavant.mlb.com: https://baseballsavant.mlb.com/statcast_search \n",
    " - baseballsavant.mlb.com documentation: https://baseballsavant.mlb.com/csv-docs\n",
    " - baseballsavant.mlb.com webscraping tool: Github Alan R Kessler https://github.com/alanrkessler/savantscraper\n",
    "<hr  style=\"height:1px;border:none;color:#333;background-color:#333;\">\n",
    "<strong>Baseballsavant Information taken from website</strong><br>\"\"\n",
    "<strong>What is BaseballSavant?</strong>\n",
    " - BaseballSavant is a site dedicated to providing player matchups, Statcast metrics, and advanced statistics in a simple and easy-to-view way.<br>\n",
    "<strong>What is Statcast?</strong>\n",
    " - Statcast is a state-of-the-art tracking technology, capable of measuring previously unquantifiable aspects of the game. Set up in all 30 Major League ballparks, Statcast collects data using a series of high-resolution optical cameras along with radar equipment. The technology precisely tracks the location and movements of the ball and every player on the field, resulting in an unparalleled amount of information covering everything from the pitcher to the batter to baserunners and defensive players. Visit MLB.com's glossary for more information.\"\"\n",
    "<hr  style=\"height:1px;border:none;color:#333;background-color:#333;\">"
   ]
  },
  {
   "cell_type": "markdown",
   "metadata": {},
   "source": [
    "### How to extract data from baseballsavant.mlb.com"
   ]
  },
  {
   "cell_type": "markdown",
   "metadata": {},
   "source": [
    " - Several options are available for data gathering, although download of search results into a csv is currently unavailable.\n",
    " - To this end, others have developed tools to gather data from this website. One of those tools for python is <a href=\"https://github.com/alanrkessler/savantscrapersavantscraper.\"> Github Alan R Kessler .</a>\n",
    " - Step 1: Download or clone repository.\n",
    " - Step 2: Save file in directory you intend to down csv file\n",
    " - Step 3: Activate a python environment that has the following libraries installed\n",
    " <ul>\n",
    "    <li>import os</li>\n",
    "    <li>sleep</li>\n",
    "    <li>urllib.error import HTTPError</li>\n",
    "    <li>sqlite3</li>\n",
    "    <li>pandas as pd</li>\n",
    "    <li>tqdm</li>\n",
    " </ul>\n",
    " - Step 4: run savantscraper.py in MAC terminal use: <code>python savantscaper.py</code>\n",
    " - Step 5: open jupter notebook, and use the following as an example.\n",
    " <hr  style=\"height:1px;border:none;color:#333;background-color:#333;\">"
   ]
  },
  {
   "cell_type": "markdown",
   "metadata": {},
   "source": [
    "# Extracting Data via Webscraping"
   ]
  },
  {
   "cell_type": "markdown",
   "metadata": {},
   "source": [
    "### Jupyter Notebook Step 1: Import Basic Libraries"
   ]
  },
  {
   "cell_type": "code",
   "execution_count": 1,
   "metadata": {},
   "outputs": [],
   "source": [
    "import sqlite3 #for querying data \n",
    "import pandas as pd #for manipulating database and exporting as a csv.\n",
    "import savantscraper #will import the savantscraper function that you will invoke to gather the data you want"
   ]
  },
  {
   "cell_type": "markdown",
   "metadata": {},
   "source": [
    "### Jupyter Notebook Step 2:  Invocation Webscraping Function\n"
   ]
  },
  {
   "cell_type": "markdown",
   "metadata": {},
   "source": [
    "<code>database_import('baseball_savant', (2017, 2018), teams=['STL', 'COL'])</code>\n",
    "- First parameter: 'baseball_savant' do not change.\n",
    "- Second parameter: a year interval tupple, the first index is the start of the season year, and the second index is the end of the season year. Exaple for the 2019 MLB season, the tupple would be (2018, 2019)\n",
    "- Third parameter: is optional, you can select a single team, or omit all together, and it will gather all teams.\n",
    "\n",
    "Running this code may take some time."
   ]
  },
  {
   "cell_type": "markdown",
   "metadata": {},
   "source": [
    "### Will webscrape all data for the MLB season 2019.."
   ]
  },
  {
   "cell_type": "code",
   "execution_count": null,
   "metadata": {},
   "outputs": [],
   "source": [
    "# Invoke function\n",
    "savantscraper.database_import('baseball_savant',\n",
    "                              (2019, 2020))"
   ]
  },
  {
   "cell_type": "markdown",
   "metadata": {},
   "source": [
    "### Jupyter Notebook Step 3: Connect to database using .connect() method"
   ]
  },
  {
   "cell_type": "code",
   "execution_count": 2,
   "metadata": {},
   "outputs": [],
   "source": [
    "# Connect to the database using the .connect() method\n",
    "# This will only connect to the website data, once you save the data as either a csv or db, \n",
    "# you will need to reconnect with the correct filepath\n",
    "conn = sqlite3.connect('static/documents/baseball_savant.db')"
   ]
  },
  {
   "cell_type": "markdown",
   "metadata": {},
   "source": [
    "### Jupyter Notebook Step 4: Save data to a pandas dataframe\n",
    "Use pandas <code>pd.read_sql_query()</code> method and run an SQL command to gather the rows from the statcast table that was scraped in step 2."
   ]
  },
  {
   "cell_type": "markdown",
   "metadata": {},
   "source": [
    "<strong>How the sql command works</strong><br>\n",
    "<code>SELECT * </code> will get us all the rows<br>\n",
    "<code>FROM statcast;</code> will indicate from where all the rows should be selected.<br>\n",
    "<code>database_import()</code> only provided a single table option 'statcast'<br>"
   ]
  },
  {
   "cell_type": "code",
   "execution_count": null,
   "metadata": {},
   "outputs": [],
   "source": [
    "df = pd.read_sql_query(\"SELECT * FROM statcast;\", conn)"
   ]
  },
  {
   "cell_type": "markdown",
   "metadata": {},
   "source": [
    "### Jupyter Notebook Step 5: Use pandas .to_csv() to save sql query output into a csv file"
   ]
  },
  {
   "cell_type": "markdown",
   "metadata": {},
   "source": [
    "How the code works\n",
    "<code>first parameter: filepath</code> is the location that the file will be saved<br>\n",
    "<code>second parameter: encoding</code> encoding='utf-8'is the encoding to use in the output file. This is not needed as 'utf-8' is the default.\n",
    "<code>third parameter: index</code>  Write row names (index), default is 'True', but we did not want this action here, so set as 'False'."
   ]
  },
  {
   "cell_type": "code",
   "execution_count": null,
   "metadata": {},
   "outputs": [],
   "source": [
    "df.to_csv(\"/Volumes/Elements/Downloads/statcast_2019_file\", encoding='utf-8', index=False)"
   ]
  },
  {
   "cell_type": "markdown",
   "metadata": {},
   "source": [
    "### Jupyter Notebook Step 6: close connection with .close() The pandas dataframe is available in this notebook as df, and a csv file has been saved in the indicated filepath."
   ]
  },
  {
   "cell_type": "code",
   "execution_count": 3,
   "metadata": {},
   "outputs": [],
   "source": [
    "# Close connection when finished\n",
    "conn.close()"
   ]
  },
  {
   "cell_type": "markdown",
   "metadata": {},
   "source": [
    "### The CSV was loaded into an sqlite db and using the same connection method as above.\n",
    " - You can use the standard pandas import method if you'd like\n",
    " <code>df = pd.read_csv (r'Path where the CSV file is stored\\File name.csv')</code>"
   ]
  },
  {
   "cell_type": "markdown",
   "metadata": {},
   "source": [
    "### Filter data for top top home run batters in the MLB Houston Astros and Washington Nationals"
   ]
  },
  {
   "cell_type": "markdown",
   "metadata": {},
   "source": [
    "<img src=\"static/images/alex_bregman_astros.png\" >\n",
    "<div align=\"middle\">\n",
    " - Third baseman / Shortstop<br>\n",
    " - Houston Atros since 2016<br>\n",
    " - Homeruns: 41<br>\n",
    " - BatterID: 608324\n",
    "</div>\n",
    "<h3>Note: I had to inspect the player page on baseballsavant.mlb.com to get their batter ID!</h3>"
   ]
  },
  {
   "cell_type": "code",
   "execution_count": 4,
   "metadata": {},
   "outputs": [],
   "source": [
    "# Connection to my local db copy\n",
    "conn = sqlite3.connect('static/documents/statcast.db')\n",
    "# The batter id for this player was obtained by inspecting the player page on baseballsavant (looking through the HTML code)\n",
    "bregman = pd.read_sql_query(\"SELECT * FROM statcast WHERE batter = '608324';\", conn)\n",
    "conn.close()"
   ]
  },
  {
   "cell_type": "markdown",
   "metadata": {},
   "source": [
    "<table align=\"middle\">\n",
    "<tr>\n",
    "    <td> <img src=\"static/images/anthony_rendon_nationals.png\" alt=\"Drawing\" style=\"width: 250px;\"/> \n",
    "    </td>\n",
    "    <td> <img src=\"static/images/juan_soto_nationals.png\" alt=\"Drawing\" style=\"width: 250px;\"/> </td>\n",
    "   </tr>\n",
    "     <tr>\n",
    "    <td> Third baseman<br>Nationals since 2013<br>Homeruns:34<br>Player ID:543685\n",
    "    </td>\n",
    "    <td> Outfielder<br>Nationals since 2018<br>Homeruns:34<br>Player ID:665742\n",
    "    </td>\n",
    "   </tr>\n",
    "</table>"
   ]
  },
  {
   "cell_type": "code",
   "execution_count": 5,
   "metadata": {},
   "outputs": [],
   "source": [
    "# Connection to my local db copy\n",
    "conn = sqlite3.connect('static/documents/statcast.db')\n",
    "# The batter id for this player was obtained by inspecting the player page on baseballsavant (looking through the HTML code)\n",
    "rendon = pd.read_sql_query(\"SELECT * FROM statcast WHERE batter = '543685';\", conn)\n",
    "soto = pd.read_sql_query(\"SELECT * FROM statcast WHERE batter = '665742';\", conn)\n",
    "conn.close()"
   ]
  },
  {
   "cell_type": "markdown",
   "metadata": {},
   "source": [
    "### Optional: Save filtered data into csv files"
   ]
  },
  {
   "cell_type": "code",
   "execution_count": 6,
   "metadata": {},
   "outputs": [],
   "source": [
    "# Load Alex Bregman's Data\n",
    "bregman.to_csv('static/documents/bregman')\n",
    "\n",
    "# Load Anthony Rendon's Data\n",
    "rendon.to_csv('static/documents/rendon')\n",
    "\n",
    "# Load Juan Soto's Data\n",
    "soto.to_csv('static/documents/soto')"
   ]
  },
  {
   "cell_type": "code",
   "execution_count": null,
   "metadata": {},
   "outputs": [],
   "source": []
  }
 ],
 "metadata": {
  "kernelspec": {
   "display_name": "Python 3",
   "language": "python",
   "name": "python3"
  },
  "language_info": {
   "codemirror_mode": {
    "name": "ipython",
    "version": 3
   },
   "file_extension": ".py",
   "mimetype": "text/x-python",
   "name": "python",
   "nbconvert_exporter": "python",
   "pygments_lexer": "ipython3",
   "version": "3.7.4"
  }
 },
 "nbformat": 4,
 "nbformat_minor": 2
}

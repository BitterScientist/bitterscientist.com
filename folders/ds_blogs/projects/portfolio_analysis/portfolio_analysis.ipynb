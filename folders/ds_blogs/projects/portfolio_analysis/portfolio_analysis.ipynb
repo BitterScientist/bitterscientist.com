{
 "cells": [
  {
   "cell_type": "markdown",
   "metadata": {},
   "source": [
    "# Import Dependencies"
   ]
  },
  {
   "cell_type": "code",
   "execution_count": 1,
   "metadata": {},
   "outputs": [],
   "source": [
    "# Data Manipulation Libraries: Standard dataframes and array libraries\n",
    "import pandas as pd\n",
    "import numpy as np\n",
    "# from datetime import datetime\n",
    "from datetime import datetime, timedelta\n",
    "\n",
    "# Data Visualization Libraries:\n",
    "import matplotlib.pyplot as plt\n",
    "import seaborn as sns\n",
    "import statsmodels.api as sm\n",
    "\n",
    "# Data analysis\n",
    " \n",
    "\n",
    "from warnings import simplefilter\n",
    "# ignore all future warnings\n",
    "simplefilter(action='ignore', category=FutureWarning)\n",
    "\n",
    "# Displaying plots in jupter notebook\n",
    "%matplotlib inline\n",
    "# Displaying pandas columns and rows\n",
    "pd.set_option('display.max_rows', None)\n",
    "pd.set_option('display.max_columns', None)"
   ]
  },
  {
   "cell_type": "markdown",
   "metadata": {},
   "source": [
    "# Objectives\n",
    "\n",
    " - Calculate Portfolio weights\n",
    " - Calculate Portfolio returns"
   ]
  },
  {
   "cell_type": "markdown",
   "metadata": {},
   "source": [
    "# Import data"
   ]
  },
  {
   "cell_type": "code",
   "execution_count": 2,
   "metadata": {},
   "outputs": [],
   "source": [
    "# Import pd.read_csv()\n",
    "portfolio_df = pd.read_csv(\"static/data/small_pf.csv\")\n",
    "returns_df =  pd.read_csv(\"static/data/factors_pf_returns.csv\")"
   ]
  },
  {
   "cell_type": "markdown",
   "metadata": {},
   "source": [
    "# Transform Data"
   ]
  },
  {
   "cell_type": "code",
   "execution_count": 3,
   "metadata": {},
   "outputs": [],
   "source": [
    "portfolio_df['date'] = portfolio_df['date'].astype('datetime64[ns]')\n",
    "returns_df['date'] = returns_df['date'].astype('datetime64[ns]')"
   ]
  },
  {
   "cell_type": "markdown",
   "metadata": {},
   "source": [
    "### Calculate returns from pricing data"
   ]
  },
  {
   "cell_type": "code",
   "execution_count": 4,
   "metadata": {},
   "outputs": [
    {
     "data": {
      "text/plain": [
       "Timedelta('1180 days 00:00:00')"
      ]
     },
     "execution_count": 4,
     "metadata": {},
     "output_type": "execute_result"
    }
   ],
   "source": [
    "portofolio_time = portfolio_df['date'].max() - portfolio_df['date'].min()\n",
    "portofolio_time"
   ]
  },
  {
   "cell_type": "code",
   "execution_count": 5,
   "metadata": {},
   "outputs": [
    {
     "data": {
      "text/html": [
       "<div>\n",
       "<style scoped>\n",
       "    .dataframe tbody tr th:only-of-type {\n",
       "        vertical-align: middle;\n",
       "    }\n",
       "\n",
       "    .dataframe tbody tr th {\n",
       "        vertical-align: top;\n",
       "    }\n",
       "\n",
       "    .dataframe thead th {\n",
       "        text-align: right;\n",
       "    }\n",
       "</style>\n",
       "<table border=\"1\" class=\"dataframe\">\n",
       "  <thead>\n",
       "    <tr style=\"text-align: right;\">\n",
       "      <th></th>\n",
       "      <th>date</th>\n",
       "      <th>GE</th>\n",
       "      <th>JPM</th>\n",
       "      <th>MSFT</th>\n",
       "      <th>PG</th>\n",
       "    </tr>\n",
       "  </thead>\n",
       "  <tbody>\n",
       "    <tr>\n",
       "      <th>0</th>\n",
       "      <td>2015-01-02</td>\n",
       "      <td>25.06</td>\n",
       "      <td>62.49</td>\n",
       "      <td>46.760</td>\n",
       "      <td>90.44</td>\n",
       "    </tr>\n",
       "    <tr>\n",
       "      <th>1</th>\n",
       "      <td>2015-01-05</td>\n",
       "      <td>24.60</td>\n",
       "      <td>60.55</td>\n",
       "      <td>46.325</td>\n",
       "      <td>90.01</td>\n",
       "    </tr>\n",
       "    <tr>\n",
       "      <th>2</th>\n",
       "      <td>2015-01-06</td>\n",
       "      <td>24.07</td>\n",
       "      <td>58.98</td>\n",
       "      <td>45.650</td>\n",
       "      <td>89.60</td>\n",
       "    </tr>\n",
       "    <tr>\n",
       "      <th>3</th>\n",
       "      <td>2015-01-07</td>\n",
       "      <td>24.08</td>\n",
       "      <td>59.07</td>\n",
       "      <td>46.230</td>\n",
       "      <td>90.07</td>\n",
       "    </tr>\n",
       "    <tr>\n",
       "      <th>4</th>\n",
       "      <td>2015-01-08</td>\n",
       "      <td>24.37</td>\n",
       "      <td>60.39</td>\n",
       "      <td>47.590</td>\n",
       "      <td>91.10</td>\n",
       "    </tr>\n",
       "    <tr>\n",
       "      <th>5</th>\n",
       "      <td>2015-01-09</td>\n",
       "      <td>24.03</td>\n",
       "      <td>59.34</td>\n",
       "      <td>47.190</td>\n",
       "      <td>90.25</td>\n",
       "    </tr>\n",
       "    <tr>\n",
       "      <th>6</th>\n",
       "      <td>2015-01-12</td>\n",
       "      <td>23.98</td>\n",
       "      <td>58.83</td>\n",
       "      <td>46.600</td>\n",
       "      <td>89.92</td>\n",
       "    </tr>\n",
       "    <tr>\n",
       "      <th>7</th>\n",
       "      <td>2015-01-13</td>\n",
       "      <td>23.86</td>\n",
       "      <td>58.84</td>\n",
       "      <td>46.355</td>\n",
       "      <td>90.30</td>\n",
       "    </tr>\n",
       "    <tr>\n",
       "      <th>8</th>\n",
       "      <td>2015-01-14</td>\n",
       "      <td>23.78</td>\n",
       "      <td>56.81</td>\n",
       "      <td>45.955</td>\n",
       "      <td>89.99</td>\n",
       "    </tr>\n",
       "    <tr>\n",
       "      <th>9</th>\n",
       "      <td>2015-01-15</td>\n",
       "      <td>23.58</td>\n",
       "      <td>54.99</td>\n",
       "      <td>45.480</td>\n",
       "      <td>89.86</td>\n",
       "    </tr>\n",
       "  </tbody>\n",
       "</table>\n",
       "</div>"
      ],
      "text/plain": [
       "        date     GE    JPM    MSFT     PG\n",
       "0 2015-01-02  25.06  62.49  46.760  90.44\n",
       "1 2015-01-05  24.60  60.55  46.325  90.01\n",
       "2 2015-01-06  24.07  58.98  45.650  89.60\n",
       "3 2015-01-07  24.08  59.07  46.230  90.07\n",
       "4 2015-01-08  24.37  60.39  47.590  91.10\n",
       "5 2015-01-09  24.03  59.34  47.190  90.25\n",
       "6 2015-01-12  23.98  58.83  46.600  89.92\n",
       "7 2015-01-13  23.86  58.84  46.355  90.30\n",
       "8 2015-01-14  23.78  56.81  45.955  89.99\n",
       "9 2015-01-15  23.58  54.99  45.480  89.86"
      ]
     },
     "execution_count": 5,
     "metadata": {},
     "output_type": "execute_result"
    }
   ],
   "source": [
    "# Portfolio prices\n",
    "portfolio_df.head(10)"
   ]
  },
  {
   "cell_type": "code",
   "execution_count": 6,
   "metadata": {},
   "outputs": [],
   "source": [
    "# Make date column index and then use the pct_change() on dataframe\n",
    "pf_returns = portfolio_df.set_index('date').pct_change()"
   ]
  },
  {
   "cell_type": "code",
   "execution_count": 15,
   "metadata": {},
   "outputs": [
    {
     "data": {
      "text/html": [
       "<div>\n",
       "<style scoped>\n",
       "    .dataframe tbody tr th:only-of-type {\n",
       "        vertical-align: middle;\n",
       "    }\n",
       "\n",
       "    .dataframe tbody tr th {\n",
       "        vertical-align: top;\n",
       "    }\n",
       "\n",
       "    .dataframe thead th {\n",
       "        text-align: right;\n",
       "    }\n",
       "</style>\n",
       "<table border=\"1\" class=\"dataframe\">\n",
       "  <thead>\n",
       "    <tr style=\"text-align: right;\">\n",
       "      <th></th>\n",
       "      <th>GE</th>\n",
       "      <th>JPM</th>\n",
       "      <th>MSFT</th>\n",
       "      <th>PG</th>\n",
       "    </tr>\n",
       "    <tr>\n",
       "      <th>date</th>\n",
       "      <th></th>\n",
       "      <th></th>\n",
       "      <th></th>\n",
       "      <th></th>\n",
       "    </tr>\n",
       "  </thead>\n",
       "  <tbody>\n",
       "    <tr>\n",
       "      <th>2015-01-02</th>\n",
       "      <td>NaN</td>\n",
       "      <td>NaN</td>\n",
       "      <td>NaN</td>\n",
       "      <td>NaN</td>\n",
       "    </tr>\n",
       "    <tr>\n",
       "      <th>2015-01-05</th>\n",
       "      <td>-0.018356</td>\n",
       "      <td>-0.031045</td>\n",
       "      <td>-0.009303</td>\n",
       "      <td>-0.004755</td>\n",
       "    </tr>\n",
       "    <tr>\n",
       "      <th>2015-01-06</th>\n",
       "      <td>-0.021545</td>\n",
       "      <td>-0.025929</td>\n",
       "      <td>-0.014571</td>\n",
       "      <td>-0.004555</td>\n",
       "    </tr>\n",
       "    <tr>\n",
       "      <th>2015-01-07</th>\n",
       "      <td>0.000415</td>\n",
       "      <td>0.001526</td>\n",
       "      <td>0.012705</td>\n",
       "      <td>0.005246</td>\n",
       "    </tr>\n",
       "    <tr>\n",
       "      <th>2015-01-08</th>\n",
       "      <td>0.012043</td>\n",
       "      <td>0.022346</td>\n",
       "      <td>0.029418</td>\n",
       "      <td>0.011436</td>\n",
       "    </tr>\n",
       "  </tbody>\n",
       "</table>\n",
       "</div>"
      ],
      "text/plain": [
       "                  GE       JPM      MSFT        PG\n",
       "date                                              \n",
       "2015-01-02       NaN       NaN       NaN       NaN\n",
       "2015-01-05 -0.018356 -0.031045 -0.009303 -0.004755\n",
       "2015-01-06 -0.021545 -0.025929 -0.014571 -0.004555\n",
       "2015-01-07  0.000415  0.001526  0.012705  0.005246\n",
       "2015-01-08  0.012043  0.022346  0.029418  0.011436"
      ]
     },
     "execution_count": 15,
     "metadata": {},
     "output_type": "execute_result"
    }
   ],
   "source": [
    "pf_returns.head()"
   ]
  },
  {
   "cell_type": "code",
   "execution_count": 16,
   "metadata": {},
   "outputs": [],
   "source": [
    "# Weights\n",
    "weights = np.array([.5, .2, .2, .1])"
   ]
  },
  {
   "cell_type": "code",
   "execution_count": 17,
   "metadata": {},
   "outputs": [
    {
     "data": {
      "text/plain": [
       "GE     -0.000675\n",
       "JPM     0.000769\n",
       "MSFT    0.000907\n",
       "PG     -0.000144\n",
       "dtype: float64"
      ]
     },
     "execution_count": 17,
     "metadata": {},
     "output_type": "execute_result"
    }
   ],
   "source": [
    "# Calcualte average return for each stock\n",
    "# This will \n",
    "meanDailyReturns = pf_returns.mean()\n",
    "meanDailyReturns"
   ]
  },
  {
   "cell_type": "code",
   "execution_count": 10,
   "metadata": {
    "scrolled": true
   },
   "outputs": [
    {
     "data": {
      "text/plain": [
       "0.0006721870091821165"
      ]
     },
     "execution_count": 10,
     "metadata": {},
     "output_type": "execute_result"
    }
   ],
   "source": [
    "# Calculate the portfolio return\n",
    "pf_return = np.sum(meanDailyReturns*weights)\n",
    "pf_return"
   ]
  },
  {
   "cell_type": "markdown",
   "metadata": {},
   "source": [
    "# Calculate cumulative returns"
   ]
  },
  {
   "cell_type": "code",
   "execution_count": 18,
   "metadata": {},
   "outputs": [],
   "source": [
    "# Calculate daily portfolio returns\n",
    "pf_returns['Portfolio']= pf_returns.dot(weights)"
   ]
  },
  {
   "cell_type": "code",
   "execution_count": 19,
   "metadata": {},
   "outputs": [
    {
     "name": "stdout",
     "output_type": "stream",
     "text": [
      "                  GE       JPM      MSFT        PG  Portfolio\n",
      "date                                                         \n",
      "2018-03-21  0.553871  1.836134  1.977759  0.851835   0.974287\n",
      "2018-03-22  0.532721  1.759482  1.920231  0.844870   0.941086\n",
      "2018-03-23  0.521548  1.712434  1.864414  0.839341   0.920097\n",
      "2018-03-26  0.514366  1.765242  2.005560  0.844870   0.933974\n",
      "2018-03-27  0.536313  1.730997  1.913388  0.860128   0.943378\n"
     ]
    }
   ],
   "source": [
    "# Calculate cumulative returns\n",
    "daily_cum_ret=(1+pf_returns).cumprod()\n",
    "print (daily_cum_ret.tail())"
   ]
  },
  {
   "cell_type": "code",
   "execution_count": 39,
   "metadata": {},
   "outputs": [
    {
     "data": {
      "image/png": "[encoded data removed]",
      "text/plain": [
       "<Figure size 720x432 with 1 Axes>"
      ]
     },
     "metadata": {
      "needs_background": "light"
     },
     "output_type": "display_data"
    }
   ],
   "source": [
    "# Plot the portfolio cumulative returns only\n",
    "fig, ax = plt.subplots(figsize=(10,6))\n",
    "ax.plot(daily_cum_ret.index, daily_cum_ret.Portfolio, color='purple', label=\"portfolio\")\n",
    "ax.set_ylabel('Portfolio Return')\n",
    "plt.legend()\n",
    "plt.show()"
   ]
  },
  {
   "cell_type": "code",
   "execution_count": null,
   "metadata": {},
   "outputs": [],
   "source": []
  }
 ],
 "metadata": {
  "kernelspec": {
   "display_name": "Python 3",
   "language": "python",
   "name": "python3"
  },
  "language_info": {
   "codemirror_mode": {
    "name": "ipython",
    "version": 3
   },
   "file_extension": ".py",
   "mimetype": "text/x-python",
   "name": "python",
   "nbconvert_exporter": "python",
   "pygments_lexer": "ipython3",
   "version": "3.7.6"
  }
 },
 "nbformat": 4,
 "nbformat_minor": 2
}

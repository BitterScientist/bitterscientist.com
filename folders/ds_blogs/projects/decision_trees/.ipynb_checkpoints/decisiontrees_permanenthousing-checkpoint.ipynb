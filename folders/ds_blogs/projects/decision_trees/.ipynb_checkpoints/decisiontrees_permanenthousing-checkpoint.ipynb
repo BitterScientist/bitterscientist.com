{
 "cells": [
  {
   "cell_type": "code",
   "execution_count": 1,
   "metadata": {},
   "outputs": [
    {
     "data": {
      "application/javascript": [
       "IPython.OutputArea.prototype._should_scroll = function(lines) {\n",
       "    return false;\n",
       "}\n"
      ],
      "text/plain": [
       "<IPython.core.display.Javascript object>"
      ]
     },
     "metadata": {},
     "output_type": "display_data"
    }
   ],
   "source": [
    "%%javascript\n",
    "IPython.OutputArea.prototype._should_scroll = function(lines) {\n",
    "    return false;\n",
    "}"
   ]
  },
  {
   "cell_type": "code",
   "execution_count": 2,
   "metadata": {},
   "outputs": [
    {
     "data": {
      "text/html": [
       "<style>.container { width:80% !important; }</style>"
      ],
      "text/plain": [
       "<IPython.core.display.HTML object>"
      ]
     },
     "metadata": {},
     "output_type": "display_data"
    }
   ],
   "source": [
    "from IPython.core.display import display, HTML\n",
    "display(HTML(\"<style>.container { width:80% !important; }</style>\"))"
   ]
  },
  {
   "cell_type": "markdown",
   "metadata": {},
   "source": [
    "<hr style=\"border-top: 5px solid black;\">"
   ]
  },
  {
   "cell_type": "markdown",
   "metadata": {},
   "source": [
    "<h2 style=\"color:blue;\">Decision Trees, Machine learning, Classification</h2>"
   ]
  },
  {
   "cell_type": "markdown",
   "metadata": {},
   "source": [
    "<hr style=\"border-top: 5px solid black;\">"
   ]
  },
  {
   "cell_type": "markdown",
   "metadata": {},
   "source": [
    "<div class=\"alert alert-block alert-info\" style=\"font-size:20px; border:1px solid black; padding:10px\">\n",
    "<center><h1>Post Goals:</h1></center>\n",
    "    <hr style=\"border-top: 2px dashed black;\">\n",
    "    <ol>\n",
    "        <li>Provide a brief introduction to Decision Tree.</li><br>\n",
    "        <li>Demonstrate how to train and visualize a decision tree using python.</li><br>\n",
    "        <li>Build a decision tree using LAHSA 2020 Housing Inventory Count that has been encoded and target feature artificially included.</li><br>\n",
    "    </ol>\n",
    "</div>"
   ]
  },
  {
   "cell_type": "markdown",
   "metadata": {},
   "source": [
    "<hr style=\"border-top: 5px solid black;\">"
   ]
  },
  {
   "cell_type": "markdown",
   "metadata": {},
   "source": [
    "<div id=\"objective\" class=\"alert alert-block alert-warning\" style=\"font-size:16px; border:1px solid black; padding:10px\"><center><h1><br><font color=\"blue\">Brief Introduction to Decision Trees Classification.</font></h1></center><br>\n",
    "</div>\n",
    "<div style=\"font-size:16px; border:1px solid black; padding:10px\">\n",
    "    <ul><strong><u>Basic Description of Decision Trees</u></strong>\n",
    "        <li>Is an algorithm that is part of the family of supervised machine learning models.</li><br> \n",
    "        <li>Decision trees are versatile machine learning algorithms that can carry out classification and regression.</li><br>\n",
    "        <li>This post will focus on classification.</li><br>\n",
    "        <li>Decision trees can fit complex datasets, and are a fundamental component of the Random Forest machine learning algorithm.</li><br> \n",
    "        <li>Decision trees are also a non-parametric supervised learning method, and the goal is to create a model that predicts a target variable value by learning simple decision rules that the algorithm infers from the features of the data.</li><br>\n",
    "        <li>Decision trees essentially allow us to run a series of <strong>if/elif/else</strong> tests on a data point, and each node of this tree represents a condition of an attribute to test.</li><br>        \n",
    "        <li>An observation travels through each stage to reach a leaf node.</li><br> \n",
    "        <li>The leaf contains the final proposed classification.</li><br>\n",
    "        <li>The image below is a good illustration of these concepts.</li><br>\n",
    "        <li style=\"list-style-type: none;\"><img src=\"static/images/image1.png\"></li><br>\n",
    "        <li>In this example we have a dataset with four predictor features and one target feature.</li><br>\n",
    "        <li>The predictor and target features are nominal, with the target and final classification being binomial (play golf, do not play golf).</li><br>        \n",
    "    </ul>\n",
    "<hr style=\"border-top: 2px solid black;\">    \n",
    "    <ul><strong><u>Advantages</u></strong>\n",
    "        <li>Decision trees are easy to interpret and understand.</li><br>        \n",
    "        <li>Minimal data prep is needed, and decision trees do not need data to be normalization, dummy variables created, or blank values removed.</li><br>        \n",
    "        <li>This method can handle both numeric and categorical data, although Sci-kit learn does not currently support categorical variables.</li><br> \n",
    "        <li>Decision trees can handle multi-output problems, and uses a white box model, where the explanation can be explained by boolean logic.</li><br>\n",
    "        <li>Decision trees perform well even if its assumptions are violated.</li><br>\n",
    "    </ul> \n",
    "    <hr style=\"border-top: 2px solid black;\">\n",
    "    <ul><strong><u>Disadvantages</u></strong>\n",
    "        <li>Prone to over-complex trees that do not generalize well to new data.</li><br> \n",
    "        <li>To prevent model overfitting requires minimizing the number of samples required at a leaf node, or setting the maximum depth of the tree.</li><br>        \n",
    "        <li>Small variations in the data can result in unstable trees where a new tree can be generated. Ensembles are generally used to mitigate this problem.</li><br> \n",
    "        <li>Decision trees are not good at extrapolation.</li><br>\n",
    "        <li>Decision tree learners can result in biased trees if some classes dominate, to avoid this the dataset needs to be balanced prior to fitting a decision tree model.</li><br>     \n",
    "    </ul>\n",
    "</div>"
   ]
  },
  {
   "cell_type": "markdown",
   "metadata": {},
   "source": [
    "<hr style=\"border-top: 5px solid black;\">"
   ]
  },
  {
   "cell_type": "markdown",
   "metadata": {},
   "source": [
    "<div class=\"alert alert-block alert-warning\" style=\"font-size:16px; border:1px solid black; padding:10px;\"><center><h1><br><font color=\"blue\">Demonstrate how to train and visualize a decision tree using python.</font></h1></center><br>\n",
    "    </div>\n",
    "<div style=\"font-size:16px; border:1px solid black; padding:10px\">\n",
    "    <ol>\n",
    "        <li><a href=\"#objective1\">Import Dependencies.</a></li><br>\n",
    "        <li><a href=\"#objective2\">Load Data.</a></li><br>\n",
    "        <li><a href=\"#objective3\">Make Predictions.</a></li><br>\n",
    "<!--         <li><a href=\"#objective4\">Estimate Class Probabilities.</a></li><br> -->\n",
    "<!--         <li><a href=\"#objective5\">.</a></li><br> -->\n",
    "    </ol>\n",
    "</div>"
   ]
  },
  {
   "cell_type": "markdown",
   "metadata": {},
   "source": [
    "<hr style=\"border-top: 5px solid black;\">"
   ]
  },
  {
   "cell_type": "markdown",
   "metadata": {},
   "source": [
    "<h1>Import Dependencies</h1>"
   ]
  },
  {
   "cell_type": "code",
   "execution_count": 3,
   "metadata": {},
   "outputs": [],
   "source": [
    "# Python ≥3.5 is required\n",
    "import sys\n",
    "assert sys.version_info >= (3, 5)\n",
    "\n",
    "# Scikit-Learn ≥0.20 is required\n",
    "import sklearn\n",
    "assert sklearn.__version__ >= \"0.20\"\n",
    "\n",
    "# Data set\n",
    "from sklearn.datasets import load_iris\n",
    "\n",
    "# Decision tree\n",
    "from sklearn.tree import DecisionTreeClassifier\n",
    "\n",
    "\n",
    "# Common imports\n",
    "import numpy as np\n",
    "import pandas as pd\n",
    "\n",
    "# to make this notebook's output stable across runs\n",
    "np.random.seed(42)\n",
    "\n",
    "# To plot pretty figures\n",
    "%matplotlib inline\n",
    "import matplotlib as mpl\n",
    "import matplotlib.pyplot as plt\n",
    "mpl.rc('axes', labelsize=14)\n",
    "mpl.rc('xtick', labelsize=12)\n",
    "mpl.rc('ytick', labelsize=12)"
   ]
  },
  {
   "cell_type": "markdown",
   "metadata": {},
   "source": [
    "<div style=\"font-size:16px; border:1px solid black; padding:10px\">\n",
    "<center><h1><br><font color=\"blue\">Packages Explained</font></h1></center><br>\n",
    "<hr style=\"border-top:2px solid black;\">\n",
    "    <ul>\n",
    "        <li><strong><code><a href=\"https://docs.python.org/3/library/sys.html\">sys</a></code> module provides access to variables used or maintained by the interpreter and to functions that interact strongly with the interpreter.</strong></li><br>\n",
    "        <li><strong><code><a href=\"https://scikit-learn.org/stable/\">scikit-learn</a></code> module provides Simple and efficient tools for predictive data analysis. Package will be used to invoke decision tree classifier. The <code>assert sklearn.__version__ >= \"0.20\"</code> ensures we use a more recent version.</strong></li><br>\n",
    "        <li><strong><code><a href=\"https://scikit-learn.org/stable/auto_examples/datasets/plot_iris_dataset.html\">from sklearn.datasets import load_iris</a></code> loads a standard machine learning dataset that is used in classification problems.</strong></li><br>\n",
    "        <li><strong><code><a href=\"https://scikit-learn.org/stable/modules/generated/sklearn.tree.DecisionTreeClassifier.html\">from sklearn.tree import DecisionTreeClassifier</a></code> imports the decision tree classifier.</strong></li><br>\n",
    "        <li><strong><code><a href=\"https://numpy.org/\">numpy</a></code> is a fundamental package for scientific computing with Python.</strong></li><br>\n",
    "<!--         <li><strong><code><a href=\"https://docs.python.org/3/library/os.html\">os</a></code> module provides a portable way to use operating system dependent functionality.</strong></li> -->\n",
    "        <li><strong><code><a href=\"https://matplotlib.org/\">matplotlib</a></code> is a comprehensive library for creating static, animated, and interactive visualizations in python.</strong></li><br>\n",
    "        <li><strong><code><a href=\"https://matplotlib.org/\">import matplotlib as mpl</a></code> used to customize global plot parameters.</strong></li><br>\n",
    "        <li><strong><code><a href=\"https://matplotlib.org/\">import matplotlib.pyplot as plt</a></code> used to import pyplot as plt and used in the code to generate graphics.</strong></li><br>     \n",
    "    </ul>\n",
    "</div>    "
   ]
  },
  {
   "cell_type": "markdown",
   "metadata": {},
   "source": [
    "<hr style=\"border-top:4px solid black;\">"
   ]
  },
  {
   "cell_type": "markdown",
   "metadata": {},
   "source": [
    "<div style=\"font-size:16px; border:1px solid black; padding:10px\">\n",
    "<center><h1><br><font color=\"blue\">Load Data</font></h1></center><br>\n",
    "<hr style=\"border-top:2px solid black;\">\n",
    "    <ul>\n",
    "        <li><strong><code><a href=\"https://www.lahsa.org/documents?id=4659-2020-housing-inventory-count.xlsx&ref=hc\">2020 Housing Inventory Count</a></code></strong> </li><br>\n",
    "        <li>Project information as reflected on January 22nd, 2020.</li><br><br>    \n",
    "        <li>Data represents the LA Continuum of care housing inventory count, which is a point in time inventory of the service projects dedicated to serving the homeless and formerly homeless persons.</li><br>\n",
    "        <li>Data collection is a HUD requirement and is used in the annual application process to determine fedral funding for homeless services throughout the country.</li><br>\n",
    "        <li>Nominal string data was converted into numeric values.</li><br>\n",
    "        <li>Percent housing was randomly assigned using an excel formula <code>rand()*100</code>, success is > 70.</li><br>\n",
    "        <li>Nested Excel Formula <math>\\(=IF(AND(CB2>70,CA2>40\\%,BZ2>30,BQ2>30,Q2=\"C\"),1,0) \\)</math> was used to assign a site as successful or unsuccessful at placing greater than 70%% of their previous reporting period participants into permanent housing.</li><br>\n",
    "    </ul>\n",
    "</div>    "
   ]
  },
  {
   "cell_type": "code",
   "execution_count": 4,
   "metadata": {},
   "outputs": [
    {
     "data": {
      "text/html": [
       "<div>\n",
       "<style scoped>\n",
       "    .dataframe tbody tr th:only-of-type {\n",
       "        vertical-align: middle;\n",
       "    }\n",
       "\n",
       "    .dataframe tbody tr th {\n",
       "        vertical-align: top;\n",
       "    }\n",
       "\n",
       "    .dataframe thead th {\n",
       "        text-align: right;\n",
       "    }\n",
       "</style>\n",
       "<table border=\"1\" class=\"dataframe\">\n",
       "  <thead>\n",
       "    <tr style=\"text-align: right;\">\n",
       "      <th></th>\n",
       "      <th>Organization Name</th>\n",
       "      <th>Project Name</th>\n",
       "      <th>City</th>\n",
       "      <th>ZIP</th>\n",
       "      <th>SPA</th>\n",
       "      <th>SD</th>\n",
       "      <th>CD</th>\n",
       "      <th>HMIS-Participating</th>\n",
       "      <th>Inventory Type</th>\n",
       "      <th>Target Pop.</th>\n",
       "      <th>...</th>\n",
       "      <th>Total Seasonal Beds</th>\n",
       "      <th>Overflow Beds</th>\n",
       "      <th>Individual Household Counted as Domestic Violence Victim</th>\n",
       "      <th>Family Household Members Counted as Domestic Violence Victim</th>\n",
       "      <th>Youth Household Members Counted as Domestic Violence Victim</th>\n",
       "      <th>PIT Count</th>\n",
       "      <th>Total Beds</th>\n",
       "      <th>Utilization Rate</th>\n",
       "      <th>Percent Permanent Housing</th>\n",
       "      <th>Permanent Housing &gt; 70%</th>\n",
       "    </tr>\n",
       "  </thead>\n",
       "  <tbody>\n",
       "    <tr>\n",
       "      <th>0</th>\n",
       "      <td>Step Up on Second</td>\n",
       "      <td>Homeless Program HACLA Section 8</td>\n",
       "      <td>Santa Monica</td>\n",
       "      <td>90401</td>\n",
       "      <td>5</td>\n",
       "      <td>3</td>\n",
       "      <td>0</td>\n",
       "      <td>1</td>\n",
       "      <td>1</td>\n",
       "      <td>3</td>\n",
       "      <td>...</td>\n",
       "      <td>0</td>\n",
       "      <td>0</td>\n",
       "      <td>0.0</td>\n",
       "      <td>0.0</td>\n",
       "      <td>0.0</td>\n",
       "      <td>20.0</td>\n",
       "      <td>40</td>\n",
       "      <td>0.50</td>\n",
       "      <td>69.125289</td>\n",
       "      <td>0</td>\n",
       "    </tr>\n",
       "    <tr>\n",
       "      <th>2</th>\n",
       "      <td>City of Pomona</td>\n",
       "      <td>CA0462 Shelter Plus Care</td>\n",
       "      <td>Pomona</td>\n",
       "      <td>91766</td>\n",
       "      <td>3</td>\n",
       "      <td>1</td>\n",
       "      <td>0</td>\n",
       "      <td>1</td>\n",
       "      <td>1</td>\n",
       "      <td>3</td>\n",
       "      <td>...</td>\n",
       "      <td>0</td>\n",
       "      <td>0</td>\n",
       "      <td>0.0</td>\n",
       "      <td>0.0</td>\n",
       "      <td>0.0</td>\n",
       "      <td>117.0</td>\n",
       "      <td>145</td>\n",
       "      <td>0.81</td>\n",
       "      <td>73.286160</td>\n",
       "      <td>1</td>\n",
       "    </tr>\n",
       "    <tr>\n",
       "      <th>3</th>\n",
       "      <td>Coalition for Responsible Community Development</td>\n",
       "      <td>Broadway Apartments</td>\n",
       "      <td>Los Angeles</td>\n",
       "      <td>90037</td>\n",
       "      <td>6</td>\n",
       "      <td>2</td>\n",
       "      <td>9</td>\n",
       "      <td>1</td>\n",
       "      <td>1</td>\n",
       "      <td>3</td>\n",
       "      <td>...</td>\n",
       "      <td>0</td>\n",
       "      <td>0</td>\n",
       "      <td>0.0</td>\n",
       "      <td>0.0</td>\n",
       "      <td>0.0</td>\n",
       "      <td>5.0</td>\n",
       "      <td>16</td>\n",
       "      <td>0.31</td>\n",
       "      <td>77.041278</td>\n",
       "      <td>0</td>\n",
       "    </tr>\n",
       "  </tbody>\n",
       "</table>\n",
       "<p>3 rows × 70 columns</p>\n",
       "</div>"
      ],
      "text/plain": [
       "                                 Organization Name  \\\n",
       "0                                Step Up on Second   \n",
       "2                                   City of Pomona   \n",
       "3  Coalition for Responsible Community Development   \n",
       "\n",
       "                       Project Name          City    ZIP  SPA  SD  CD  \\\n",
       "0  Homeless Program HACLA Section 8  Santa Monica  90401    5   3   0   \n",
       "2          CA0462 Shelter Plus Care        Pomona  91766    3   1   0   \n",
       "3               Broadway Apartments   Los Angeles  90037    6   2   9   \n",
       "\n",
       "   HMIS-Participating  Inventory Type  Target Pop.  ...  Total Seasonal Beds  \\\n",
       "0                   1               1            3  ...                    0   \n",
       "2                   1               1            3  ...                    0   \n",
       "3                   1               1            3  ...                    0   \n",
       "\n",
       "   Overflow Beds  Individual Household Counted as Domestic Violence Victim  \\\n",
       "0              0                                                0.0          \n",
       "2              0                                                0.0          \n",
       "3              0                                                0.0          \n",
       "\n",
       "   Family Household Members Counted as Domestic Violence Victim  \\\n",
       "0                                                0.0              \n",
       "2                                                0.0              \n",
       "3                                                0.0              \n",
       "\n",
       "   Youth Household Members Counted as Domestic Violence Victim  PIT Count  \\\n",
       "0                                                0.0                 20.0   \n",
       "2                                                0.0                117.0   \n",
       "3                                                0.0                  5.0   \n",
       "\n",
       "   Total Beds  Utilization Rate  Percent Permanent Housing  \\\n",
       "0          40              0.50                  69.125289   \n",
       "2         145              0.81                  73.286160   \n",
       "3          16              0.31                  77.041278   \n",
       "\n",
       "   Permanent Housing > 70%  \n",
       "0                        0  \n",
       "2                        1  \n",
       "3                        0  \n",
       "\n",
       "[3 rows x 70 columns]"
      ]
     },
     "execution_count": 4,
     "metadata": {},
     "output_type": "execute_result"
    }
   ],
   "source": [
    "file = 'static/data/2021_hic_prac.xlsx'\n",
    "placement_data = pd.read_excel(file, sheet_name=\"data\", index_col=False) # loads data\n",
    "placement_data = placement_data.dropna() # drop rows/instances with missing values \"NA\"\n",
    "placement_data.head(3) # display first 3 rows/instances"
   ]
  },
  {
   "cell_type": "code",
   "execution_count": 5,
   "metadata": {},
   "outputs": [],
   "source": [
    "X = placement_data.iloc[:,4:-1].to_numpy()\n",
    "y = np.array(placement_data['Permanent Housing > 70%']) # saves the target feature to y variable"
   ]
  },
  {
   "cell_type": "markdown",
   "metadata": {},
   "source": [
    "<hr style=\"border-top:4px solid black;\">"
   ]
  },
  {
   "cell_type": "markdown",
   "metadata": {},
   "source": [
    "<h1>Instantiate and Train DecisionTreeClassifier Model</h1>"
   ]
  },
  {
   "cell_type": "code",
   "execution_count": 6,
   "metadata": {},
   "outputs": [
    {
     "data": {
      "text/plain": [
       "DecisionTreeClassifier(max_depth=4, random_state=42)"
      ]
     },
     "execution_count": 6,
     "metadata": {},
     "output_type": "execute_result"
    }
   ],
   "source": [
    "tree_clf = DecisionTreeClassifier(max_depth=4, random_state=42) #instaiates the model\n",
    "tree_clf.fit(X, y) # trains model on data"
   ]
  },
  {
   "cell_type": "markdown",
   "metadata": {},
   "source": [
    "<hr style=\"border-top:4px solid black;\">"
   ]
  },
  {
   "cell_type": "markdown",
   "metadata": {},
   "source": [
    "<h1>Visualize Decision Tree using Graphviz and Skelearn Tree</h1>"
   ]
  },
  {
   "cell_type": "code",
   "execution_count": 7,
   "metadata": {},
   "outputs": [
    {
     "data": {
      "image/svg+xml": [
       "<?xml version=\"1.0\" encoding=\"UTF-8\" standalone=\"no\"?>\n",
       "<!DOCTYPE svg PUBLIC \"-//W3C//DTD SVG 1.1//EN\"\n",
       " \"http://www.w3.org/Graphics/SVG/1.1/DTD/svg11.dtd\">\n",
       "<!-- Generated by graphviz version 2.47.3 (20210619.1520)\n",
       " -->\n",
       "<!-- Title: Tree Pages: 1 -->\n",
       "<svg width=\"562pt\" height=\"433pt\"\n",
       " viewBox=\"0.00 0.00 562.00 433.00\" xmlns=\"http://www.w3.org/2000/svg\" xmlns:xlink=\"http://www.w3.org/1999/xlink\">\n",
       "<g id=\"graph0\" class=\"graph\" transform=\"scale(1 1) rotate(0) translate(4 429)\">\n",
       "<title>Tree</title>\n",
       "<polygon fill=\"white\" stroke=\"transparent\" points=\"-4,4 -4,-429 558,-429 558,4 -4,4\"/>\n",
       "<!-- 0 -->\n",
       "<g id=\"node1\" class=\"node\">\n",
       "<title>0</title>\n",
       "<path fill=\"#eb9e66\" stroke=\"black\" d=\"M313.5,-425C313.5,-425 78.5,-425 78.5,-425 72.5,-425 66.5,-419 66.5,-413 66.5,-413 66.5,-354 66.5,-354 66.5,-348 72.5,-342 78.5,-342 78.5,-342 313.5,-342 313.5,-342 319.5,-342 325.5,-348 325.5,-354 325.5,-354 325.5,-413 325.5,-413 325.5,-419 319.5,-425 313.5,-425\"/>\n",
       "<text text-anchor=\"middle\" x=\"196\" y=\"-409.8\" font-family=\"Helvetica,sans-Serif\" font-size=\"14.00\">Percent Permanent Housing &lt;= 70.458</text>\n",
       "<text text-anchor=\"middle\" x=\"196\" y=\"-394.8\" font-family=\"Helvetica,sans-Serif\" font-size=\"14.00\">gini = 0.303</text>\n",
       "<text text-anchor=\"middle\" x=\"196\" y=\"-379.8\" font-family=\"Helvetica,sans-Serif\" font-size=\"14.00\">samples = 392</text>\n",
       "<text text-anchor=\"middle\" x=\"196\" y=\"-364.8\" font-family=\"Helvetica,sans-Serif\" font-size=\"14.00\">value = [319, 73]</text>\n",
       "<text text-anchor=\"middle\" x=\"196\" y=\"-349.8\" font-family=\"Helvetica,sans-Serif\" font-size=\"14.00\">class = Improvements Needed</text>\n",
       "</g>\n",
       "<!-- 1 -->\n",
       "<g id=\"node2\" class=\"node\">\n",
       "<title>1</title>\n",
       "<path fill=\"#e58139\" stroke=\"black\" d=\"M194,-298.5C194,-298.5 12,-298.5 12,-298.5 6,-298.5 0,-292.5 0,-286.5 0,-286.5 0,-242.5 0,-242.5 0,-236.5 6,-230.5 12,-230.5 12,-230.5 194,-230.5 194,-230.5 200,-230.5 206,-236.5 206,-242.5 206,-242.5 206,-286.5 206,-286.5 206,-292.5 200,-298.5 194,-298.5\"/>\n",
       "<text text-anchor=\"middle\" x=\"103\" y=\"-283.3\" font-family=\"Helvetica,sans-Serif\" font-size=\"14.00\">gini = 0.0</text>\n",
       "<text text-anchor=\"middle\" x=\"103\" y=\"-268.3\" font-family=\"Helvetica,sans-Serif\" font-size=\"14.00\">samples = 276</text>\n",
       "<text text-anchor=\"middle\" x=\"103\" y=\"-253.3\" font-family=\"Helvetica,sans-Serif\" font-size=\"14.00\">value = [276, 0]</text>\n",
       "<text text-anchor=\"middle\" x=\"103\" y=\"-238.3\" font-family=\"Helvetica,sans-Serif\" font-size=\"14.00\">class = Improvements Needed</text>\n",
       "</g>\n",
       "<!-- 0&#45;&gt;1 -->\n",
       "<g id=\"edge1\" class=\"edge\">\n",
       "<title>0&#45;&gt;1</title>\n",
       "<path fill=\"none\" stroke=\"black\" d=\"M163.73,-341.91C154.7,-330.54 144.87,-318.18 135.81,-306.77\"/>\n",
       "<polygon fill=\"black\" stroke=\"black\" points=\"138.33,-304.32 129.36,-298.67 132.85,-308.67 138.33,-304.32\"/>\n",
       "<text text-anchor=\"middle\" x=\"126.52\" y=\"-319.81\" font-family=\"Helvetica,sans-Serif\" font-size=\"14.00\">True</text>\n",
       "</g>\n",
       "<!-- 2 -->\n",
       "<g id=\"node3\" class=\"node\">\n",
       "<title>2</title>\n",
       "<path fill=\"#aed7f4\" stroke=\"black\" d=\"M344,-306C344,-306 236,-306 236,-306 230,-306 224,-300 224,-294 224,-294 224,-235 224,-235 224,-229 230,-223 236,-223 236,-223 344,-223 344,-223 350,-223 356,-229 356,-235 356,-235 356,-294 356,-294 356,-300 350,-306 344,-306\"/>\n",
       "<text text-anchor=\"middle\" x=\"290\" y=\"-290.8\" font-family=\"Helvetica,sans-Serif\" font-size=\"14.00\">PIT Count &lt;= 27.5</text>\n",
       "<text text-anchor=\"middle\" x=\"290\" y=\"-275.8\" font-family=\"Helvetica,sans-Serif\" font-size=\"14.00\">gini = 0.467</text>\n",
       "<text text-anchor=\"middle\" x=\"290\" y=\"-260.8\" font-family=\"Helvetica,sans-Serif\" font-size=\"14.00\">samples = 116</text>\n",
       "<text text-anchor=\"middle\" x=\"290\" y=\"-245.8\" font-family=\"Helvetica,sans-Serif\" font-size=\"14.00\">value = [43, 73]</text>\n",
       "<text text-anchor=\"middle\" x=\"290\" y=\"-230.8\" font-family=\"Helvetica,sans-Serif\" font-size=\"14.00\">class = Successful</text>\n",
       "</g>\n",
       "<!-- 0&#45;&gt;2 -->\n",
       "<g id=\"edge2\" class=\"edge\">\n",
       "<title>0&#45;&gt;2</title>\n",
       "<path fill=\"none\" stroke=\"black\" d=\"M228.61,-341.91C235.83,-332.92 243.55,-323.32 250.99,-314.05\"/>\n",
       "<polygon fill=\"black\" stroke=\"black\" points=\"253.91,-316.01 257.44,-306.02 248.45,-311.62 253.91,-316.01\"/>\n",
       "<text text-anchor=\"middle\" x=\"260.15\" y=\"-327.17\" font-family=\"Helvetica,sans-Serif\" font-size=\"14.00\">False</text>\n",
       "</g>\n",
       "<!-- 3 -->\n",
       "<g id=\"node4\" class=\"node\">\n",
       "<title>3</title>\n",
       "<path fill=\"#e58139\" stroke=\"black\" d=\"M276,-179.5C276,-179.5 94,-179.5 94,-179.5 88,-179.5 82,-173.5 82,-167.5 82,-167.5 82,-123.5 82,-123.5 82,-117.5 88,-111.5 94,-111.5 94,-111.5 276,-111.5 276,-111.5 282,-111.5 288,-117.5 288,-123.5 288,-123.5 288,-167.5 288,-167.5 288,-173.5 282,-179.5 276,-179.5\"/>\n",
       "<text text-anchor=\"middle\" x=\"185\" y=\"-164.3\" font-family=\"Helvetica,sans-Serif\" font-size=\"14.00\">gini = 0.0</text>\n",
       "<text text-anchor=\"middle\" x=\"185\" y=\"-149.3\" font-family=\"Helvetica,sans-Serif\" font-size=\"14.00\">samples = 42</text>\n",
       "<text text-anchor=\"middle\" x=\"185\" y=\"-134.3\" font-family=\"Helvetica,sans-Serif\" font-size=\"14.00\">value = [42, 0]</text>\n",
       "<text text-anchor=\"middle\" x=\"185\" y=\"-119.3\" font-family=\"Helvetica,sans-Serif\" font-size=\"14.00\">class = Improvements Needed</text>\n",
       "</g>\n",
       "<!-- 2&#45;&gt;3 -->\n",
       "<g id=\"edge3\" class=\"edge\">\n",
       "<title>2&#45;&gt;3</title>\n",
       "<path fill=\"none\" stroke=\"black\" d=\"M253.57,-222.91C243.17,-211.32 231.84,-198.7 221.45,-187.11\"/>\n",
       "<polygon fill=\"black\" stroke=\"black\" points=\"224.05,-184.77 214.77,-179.67 218.84,-189.45 224.05,-184.77\"/>\n",
       "</g>\n",
       "<!-- 4 -->\n",
       "<g id=\"node5\" class=\"node\">\n",
       "<title>4</title>\n",
       "<path fill=\"#3c9ee5\" stroke=\"black\" d=\"M472,-187C472,-187 318,-187 318,-187 312,-187 306,-181 306,-175 306,-175 306,-116 306,-116 306,-110 312,-104 318,-104 318,-104 472,-104 472,-104 478,-104 484,-110 484,-116 484,-116 484,-175 484,-175 484,-181 478,-187 472,-187\"/>\n",
       "<text text-anchor=\"middle\" x=\"395\" y=\"-171.8\" font-family=\"Helvetica,sans-Serif\" font-size=\"14.00\">Year&#45;Round Beds &lt;= 30.0</text>\n",
       "<text text-anchor=\"middle\" x=\"395\" y=\"-156.8\" font-family=\"Helvetica,sans-Serif\" font-size=\"14.00\">gini = 0.027</text>\n",
       "<text text-anchor=\"middle\" x=\"395\" y=\"-141.8\" font-family=\"Helvetica,sans-Serif\" font-size=\"14.00\">samples = 74</text>\n",
       "<text text-anchor=\"middle\" x=\"395\" y=\"-126.8\" font-family=\"Helvetica,sans-Serif\" font-size=\"14.00\">value = [1, 73]</text>\n",
       "<text text-anchor=\"middle\" x=\"395\" y=\"-111.8\" font-family=\"Helvetica,sans-Serif\" font-size=\"14.00\">class = Successful</text>\n",
       "</g>\n",
       "<!-- 2&#45;&gt;4 -->\n",
       "<g id=\"edge4\" class=\"edge\">\n",
       "<title>2&#45;&gt;4</title>\n",
       "<path fill=\"none\" stroke=\"black\" d=\"M326.43,-222.91C334.65,-213.74 343.46,-203.93 351.93,-194.49\"/>\n",
       "<polygon fill=\"black\" stroke=\"black\" points=\"354.56,-196.8 358.64,-187.02 349.35,-192.13 354.56,-196.8\"/>\n",
       "</g>\n",
       "<!-- 5 -->\n",
       "<g id=\"node6\" class=\"node\">\n",
       "<title>5</title>\n",
       "<path fill=\"#e58139\" stroke=\"black\" d=\"M392,-68C392,-68 210,-68 210,-68 204,-68 198,-62 198,-56 198,-56 198,-12 198,-12 198,-6 204,0 210,0 210,0 392,0 392,0 398,0 404,-6 404,-12 404,-12 404,-56 404,-56 404,-62 398,-68 392,-68\"/>\n",
       "<text text-anchor=\"middle\" x=\"301\" y=\"-52.8\" font-family=\"Helvetica,sans-Serif\" font-size=\"14.00\">gini = 0.0</text>\n",
       "<text text-anchor=\"middle\" x=\"301\" y=\"-37.8\" font-family=\"Helvetica,sans-Serif\" font-size=\"14.00\">samples = 1</text>\n",
       "<text text-anchor=\"middle\" x=\"301\" y=\"-22.8\" font-family=\"Helvetica,sans-Serif\" font-size=\"14.00\">value = [1, 0]</text>\n",
       "<text text-anchor=\"middle\" x=\"301\" y=\"-7.8\" font-family=\"Helvetica,sans-Serif\" font-size=\"14.00\">class = Improvements Needed</text>\n",
       "</g>\n",
       "<!-- 4&#45;&gt;5 -->\n",
       "<g id=\"edge5\" class=\"edge\">\n",
       "<title>4&#45;&gt;5</title>\n",
       "<path fill=\"none\" stroke=\"black\" d=\"M360,-103.73C352.25,-94.7 344.03,-85.12 336.27,-76.08\"/>\n",
       "<polygon fill=\"black\" stroke=\"black\" points=\"338.76,-73.61 329.59,-68.3 333.44,-78.17 338.76,-73.61\"/>\n",
       "</g>\n",
       "<!-- 6 -->\n",
       "<g id=\"node7\" class=\"node\">\n",
       "<title>6</title>\n",
       "<path fill=\"#399de5\" stroke=\"black\" d=\"M542,-68C542,-68 434,-68 434,-68 428,-68 422,-62 422,-56 422,-56 422,-12 422,-12 422,-6 428,0 434,0 434,0 542,0 542,0 548,0 554,-6 554,-12 554,-12 554,-56 554,-56 554,-62 548,-68 542,-68\"/>\n",
       "<text text-anchor=\"middle\" x=\"488\" y=\"-52.8\" font-family=\"Helvetica,sans-Serif\" font-size=\"14.00\">gini = 0.0</text>\n",
       "<text text-anchor=\"middle\" x=\"488\" y=\"-37.8\" font-family=\"Helvetica,sans-Serif\" font-size=\"14.00\">samples = 73</text>\n",
       "<text text-anchor=\"middle\" x=\"488\" y=\"-22.8\" font-family=\"Helvetica,sans-Serif\" font-size=\"14.00\">value = [0, 73]</text>\n",
       "<text text-anchor=\"middle\" x=\"488\" y=\"-7.8\" font-family=\"Helvetica,sans-Serif\" font-size=\"14.00\">class = Successful</text>\n",
       "</g>\n",
       "<!-- 4&#45;&gt;6 -->\n",
       "<g id=\"edge6\" class=\"edge\">\n",
       "<title>4&#45;&gt;6</title>\n",
       "<path fill=\"none\" stroke=\"black\" d=\"M429.63,-103.73C437.3,-94.7 445.43,-85.12 453.11,-76.08\"/>\n",
       "<polygon fill=\"black\" stroke=\"black\" points=\"455.91,-78.19 459.72,-68.3 450.58,-73.66 455.91,-78.19\"/>\n",
       "</g>\n",
       "</g>\n",
       "</svg>\n"
      ],
      "text/plain": [
       "<graphviz.files.Source at 0x13486b670>"
      ]
     },
     "execution_count": 7,
     "metadata": {},
     "output_type": "execute_result"
    }
   ],
   "source": [
    "from graphviz import Source\n",
    "from sklearn.tree import export_graphviz\n",
    "features = np.array(placement_data.iloc[:,4:-1].columns)\n",
    "export_graphviz(\n",
    "        tree_clf,\n",
    "        out_file=\"static/images/2020_HIC.dot\",\n",
    "        feature_names=features,\n",
    "        class_names=[\"Improvements Needed\", \"Successful\"],\n",
    "        rounded=True,\n",
    "        filled=True\n",
    "    )\n",
    "\n",
    "Source.from_file(\"static/images/2020_HIC.dot\")"
   ]
  },
  {
   "cell_type": "markdown",
   "metadata": {},
   "source": [
    "<div style=\"font-size:16px; border:1px solid black; padding:10px\">\n",
    "<center><h1><br><font color=\"blue\">Code Explained</font></h1></center>\n",
    "    <ul><strong><u>Imported Packages Explained:</u></strong>\n",
    "        <li><strong><code><a href=\"https://pypi.org/project/graphviz/#description\">graphviz</a></code></strong> package facilitates the creation and rendering of graph descriptions in the DOT language of the graphviz graph drawing software. The <code>import source</code> code is used for Verbatim DOT source code string to be rendered by Graphviz.</li><br>\n",
    "    <li>We use graphviz to aid in the rendering of our decision tree.</li>\n",
    "    <li><strong><code><a href=\"https://scikit-learn.org/stable/modules/generated/sklearn.tree.export_graphviz.html\">sklearn.tree.export_graphviz</a></code></strong> Export a decision tree in DOT format.</li><br>\n",
    "    <li>The function code <code>sklearn.tree.export_graphviz(decision_tree, out_file=None, *, max_depth=None, feature_names=None, class_names=None, label='all', filled=False, leaves_parallel=False, impurity=True, node_ids=False, proportion=False, rotate=False, rounded=False, special_characters=False, precision=3)</code> code is used for Verbatim DOT source code string to be rendered by Graphviz.</li><br>\n",
    "    </ul>\n",
    "    <hr style=\"border-top:2px solid black;\">\n",
    "    <ul><strong><u>Code Block Explained:</u></strong>\n",
    "        <li><strong><code>tree_clf</code> parameter</strong>: The first parameter is the decision tree that we instantiated earlier and trained with our iris dataset. This will be exported using GraphViz.</li><br>\n",
    "        <li><strong><code>out_file</code> parameter</strong>: Handle or name of the output file. If None, the result is returned as a string. Here we are saving the file in a nested subfolder.</li><br>\n",
    "        <li><strong><code>feature_names</code> parameter</strong>: Names of each of the features. This is extracted using the <code>feature_names</code> attribute for the iris dataset we loaded from sklearn.</li><br>\n",
    "        <li><strong><code>class_names</code> parameter</strong>: This is the target labels that are obtained from the iris dataset using the <code>target_names</code> attribute.</li><br>\n",
    "        <li><strong><code>rounded</code> parameter</strong>: When set to True, draw node boxes with rounded corners and use Helvetica fonts instead of Times-Roman. This is used for styling.</li><br>\n",
    "        <li><strong><code>filled</code> parameter</strong>: When set to True, paint nodes to indicate majority class for classification, extremity of values for regression, or purity of node for multi-output.</li><br>\n",
    "        <li><strong><code>Source.from_file(\"static/images/2020_HIC.dot\")</code></strong>: uses the graphviz <code>from_file</code> class method to return an instance with the source string read from the given file and displays it in the jupyter notebook.</li><br>\n",
    "<!--         <li><strong><code></code></strong>: .</li><br>         -->\n",
    "    </ul>\n",
    "</div>    "
   ]
  },
  {
   "cell_type": "markdown",
   "metadata": {},
   "source": [
    "<hr style=\"border-top: 5px solid black;\">"
   ]
  }
 ],
 "metadata": {
  "kernelspec": {
   "display_name": "Python 3 (ipykernel)",
   "language": "python",
   "name": "python3"
  },
  "language_info": {
   "codemirror_mode": {
    "name": "ipython",
    "version": 3
   },
   "file_extension": ".py",
   "mimetype": "text/x-python",
   "name": "python",
   "nbconvert_exporter": "python",
   "pygments_lexer": "ipython3",
   "version": "3.9.5"
  }
 },
 "nbformat": 4,
 "nbformat_minor": 4
}

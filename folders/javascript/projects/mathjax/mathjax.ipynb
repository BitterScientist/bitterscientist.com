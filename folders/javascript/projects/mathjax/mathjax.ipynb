{
 "cells": [
  {
   "cell_type": "code",
   "execution_count": 1,
   "metadata": {},
   "outputs": [],
   "source": [
    "%%javascript\n",
    "IPython.OutputArea.prototype._should_scroll = function(lines) {\n",
    "    return false;\n",
    "}"
   ]
  },
  {
   "cell_type": "markdown",
   "metadata": {},
   "source": [
    "<hr style=\"border-top: 5px solid black;\">"
   ]
  },
  {
   "cell_type": "markdown",
   "metadata": {},
   "source": [
    "<div class=\"alert alert-block alert-info\" style=\"font-size:20px; border:1px solid black; padding:10px\">\n",
    "<center><h1>Post Goals:</h1></center>\n",
    "    <ol>\n",
    "        <li><a href=\"#objective1\">Brief Introduction to Javascript MathJax.</a></li><br>\n",
    "        <li><a href=\"#objective2\">Demonstrate how to use MathJax in Dynamic Content, such as HTML exported Jupyter Notebook Embedded in Website Post.</a></li><br>\n",
    "    </ol>\n",
    "</div>"
   ]
  },
  {
   "cell_type": "markdown",
   "metadata": {},
   "source": [
    "<hr style=\"border-top: 5px solid black;\">"
   ]
  },
  {
   "cell_type": "markdown",
   "metadata": {},
   "source": [
    "<div id=\"objective1\" style=\"font-size:16px; border:1px solid black; padding:10px\"><center><h1><br><font color=\"blue\">Brief Introduction to Javascript MathJax.</font></h1></center>\n",
    "    <hr style=\"border-top: 2px solid black;\">\n",
    "    <ul><h4><u>What is MathJax</u></h4>\n",
    "        <li>Displaying math online is restricted to the available alphanumeric characters and symbols in HTML.</li><br>\n",
    "        <li>HTML restricts the symbols and characters that can be used, and even those available cannot properly capture complex mathematical expressions.</li><br>\n",
    "        <li><mark><a href=\"https://www.mathjax.org/\">MathJax</a> is a JavaScript solution that displays mathematics on the web.</mark></li><br>\n",
    "        <li>MathJax is an open source JavaScript display engine for mathematics that works virtually all browsers, and the devices that display them.</li><br>        \n",
    "        <li>MathJax renders maths online by detecting specific delimiters, and either MathML or LaTex.</li><br>\n",
    "    </ul>\n",
    "    <hr style=\"border-top: 2px solid black;\">\n",
    "    <ul><h4><u>How does MathJax Work?</u></h4>\n",
    "        <li>MathML and LaTex are markup languages that describe mathematical notation.</li><br>\n",
    "        <li>MathJax detects MathML and LaTex and converts this into CSS and web fonts or SVG to render mathematics.</li><br>\n",
    "        <li>Math to be displayed online are entered in MathML as MathML tags, and wrap TeX in:<br><br>\n",
    "            <ul><strong>Delimeters/Tags</strong>\n",
    "                <li>dollar...dollar</li>\n",
    "                <li>double dollar...double dollar</li>\n",
    "                <li>(or <span>&#92;</span>(...<span>&#92;</span>)</li>\n",
    "                <li><span>&#92;</span>[...<span>&#92;</span>])</li>\n",
    "                <li>AsciiMath in `...` delimiters</li>\n",
    "            </ul>\n",
    "        </li><br>\n",
    "    </ul>\n",
    "        <hr style=\"border-top: 2px solid black;\">\n",
    "    <ul><h4><u>Examples</u></h4>\n",
    "        <li><strong>HTML version</strong> ax^2 + bx + c = 0 &#8594; <strong>MathJax</strong> \\(ax^2 + bx + c = 0\\)</li><br>\n",
    "        <li><strong>HTML version</strong> r = Sxy/SxSy &#8594; <strong>MathJax</strong> \n",
    "            \\(r = \\frac{S_{xy}}{S_{x}S_{y}} \\)</li><br>\n",
    "    </ul>\n",
    "    <hr style=\"border-top: 2px solid black;\">\n",
    "    <ul><h4><u>MathJax on Dynamic Content</u></h4>\n",
    "        <li>MathJax web integration is simple and includes\n",
    "            <ul>\n",
    "                <li>Plugins for Content Management System (like Wordpress, Moodle, or Drupal).</li><br>\n",
    "                <li>If writing your own HTML, you can include MathJax by adding this snippet to your page. In the head, or body of your HTML document.</li><br>\n",
    "                <li>You can also download MathJax locally.</li><br>                \n",
    "            </ul>\n",
    "            </li>     \n",
    "        <li>Once MathJax is implement, it will typeset as soon as the page load.</li><br> \n",
    "        <li>If your page contains mathematics that will appear after the page has been typeset by MathJax, then it will not be typset. In otherwords, it will look like junk.</li><br>\n",
    "        <li>To ensure all mathematics is properly typeset, you need to tell MathJax to loook for mathematics again, and typeset any new content that is produced.</li><br> \n",
    "        <li>MathJax will look for unprocessed mathematics on the page, and then typset it, while leaving leaving any math that was already typset unchanged.</li><br>\n",
    "        <li>Case examples include having a webpage where users can type in math notation, and it is returned as a MathJax object, or when a webpage loads content that has mathematics.</li><br>\n",
    "        <li>This post will use the second example.</li><br>\n",
    "        <li>On this website, many blog posts load HTML versions of Jupyter Notebooks that contain mathematics.</li><br>\n",
    "        <li>Without instruction MathJax via <code>MathJax.typset()</code> and/or <code>MathJax.typesetPromise()</code>, any mathematics in the jupyter notebook is not typeset.</li><br>\n",
    "        <li><Mark>This post will show how to load dynamic content, and then instruct MathJax to typeset new mathematics using <code>MathJax.typesetPromise()</code>.</Mark></li><br>        \n",
    "    </ul>\n",
    "</div>"
   ]
  },
  {
   "cell_type": "markdown",
   "metadata": {},
   "source": [
    "<hr style=\"border-top: 5px solid black;\">"
   ]
  },
  {
   "cell_type": "markdown",
   "metadata": {},
   "source": [
    "<div id=\"objective\" class=\"alert alert-block alert-info\" style=\"font-size:16px; border:1px solid black; padding:10px\"><center><h1><br><font color=\"blue\">Demonstrate how to use MathJax in Dynamic Content, such as HTML exported Jupyter Notebook Embedded in Website Post.</font></h1></center>\n",
    "    <hr style=\"border-top: 2px solid black;\">\n",
    "    <ul><h4><u>Procedure</u></h4><br>\n",
    "        <li><a href=\"#step1\">Prepare HTML File.</a></li><br> \n",
    "        <li><a href=\"#step2\">Prepare Javascript File.</a></li><br>        \n",
    "        <li><a href=\"#step3\">Add Javascript Reference to Area with Dynamic Content.</a></li><br> \n",
    "    </ul>\n",
    "</div>"
   ]
  },
  {
   "cell_type": "markdown",
   "metadata": {},
   "source": [
    "<hr style=\"border-top: 5px solid black;\">"
   ]
  },
  {
   "cell_type": "markdown",
   "metadata": {},
   "source": [
    "<div id=\"step1\" style=\"font-size:16px; border:1px solid black; padding:10px\"><center><h1><br><font color=\"blue\">Prepare HTML File.</font></h1></center>\n",
    "    <hr style=\"border-top: 2px solid black;\">\n",
    "    <ul>\n",
    "        <li>The dynamic content is loaded in the div with the <code>id=\"jnotebook\"</code></li><br>\n",
    "        <li>It is dynamic because a jupyter notebook saved as an HTML is loaded using <a href=\"https://www.w3schools.com/howto/howto_html_include.asp\">w3-include-html attribute.</a></li><br>\n",
    "    </ul>\n",
    "    <div>\n",
    "        <iframe width=\"100%\" height=\"300\" src=\"//jsfiddle.net/trinidadcisneros/xcdfqgny/2/embedded/html/dark/\" allowfullscreen=\"allowfullscreen\" allowpaymentrequest frameborder=\"0\"></iframe>\n",
    "    </div>\n",
    "</div>"
   ]
  },
  {
   "cell_type": "markdown",
   "metadata": {},
   "source": [
    "<hr style=\"border-top: 5px solid black;\">"
   ]
  },
  {
   "cell_type": "markdown",
   "metadata": {},
   "source": [
    "<div id=\"step2\" style=\"font-size:16px; border:1px solid black; padding:10px\"><center><h1><br><font color=\"blue\">Prepare Javascript File.</font></h1></center>\n",
    "    <hr style=\"border-top: 2px solid black;\">\n",
    "    <ul>\n",
    "        <li>A javascript file is prepared that contains the links to the MathJax resources.</li><br>\n",
    "        <li>The first link is for the latest version of MathJax.</li><br>\n",
    "        <li>The second link ensures MathJax renders on various browsers.</li><br>\n",
    "        <li>There is a configuration block is saved in the MathJax variable.</li><br>\n",
    "        <li>The final code is a function that instructs MathJax to check the dynamic content area. Specifically, it has MathJax wait 500 ms, and then check for new content using the <code>setTimeout()</code> and <code>typesetPromise()</code>.</li><br>\n",
    "    </ul>\n",
    "    <div>\n",
    "       <iframe width=\"100%\" height=\"300\" src=\"//jsfiddle.net/trinidadcisneros/Le7t85q3/embedded/js/dark/\" allowfullscreen=\"allowfullscreen\" allowpaymentrequest frameborder=\"0\"></iframe>\n",
    "    </div>\n",
    "</div>"
   ]
  },
  {
   "cell_type": "markdown",
   "metadata": {},
   "source": [
    "<hr style=\"border-top: 5px solid black;\">"
   ]
  },
  {
   "cell_type": "markdown",
   "metadata": {},
   "source": [
    "<div id=\"step3\" style=\"font-size:16px; border:1px solid black; padding:10px\"><center><h1><br><font color=\"blue\">Add Javascript Reference to Area with Dynamic Content.</font></h1></center>\n",
    "    <hr style=\"border-top: 2px solid black;\">\n",
    "    <ul>\n",
    "        <li>Javascript code is loaded specifically to the content area by including it within the div element where the jupyter notebook will be loaded.</li><br>\n",
    "    </ul>\n",
    "    <div>\n",
    "        <iframe width=\"100%\" height=\"300\" src=\"//jsfiddle.net/trinidadcisneros/vgquhzLp/1/embedded/html/dark/\" allowfullscreen=\"allowfullscreen\" allowpaymentrequest frameborder=\"0\"></iframe>\n",
    "    </div>\n",
    "</div>"
   ]
  },
  {
   "cell_type": "markdown",
   "metadata": {},
   "source": [
    "<hr style=\"border-top: 5px solid black;\">"
   ]
  }
 ],
 "metadata": {
  "kernelspec": {
   "display_name": "Python 3",
   "language": "python",
   "name": "python3"
  },
  "language_info": {
   "codemirror_mode": {
    "name": "ipython",
    "version": 3
   },
   "file_extension": ".py",
   "mimetype": "text/x-python",
   "name": "python",
   "nbconvert_exporter": "python",
   "pygments_lexer": "ipython3",
   "version": "3.8.2"
  }
 },
 "nbformat": 4,
 "nbformat_minor": 4
}

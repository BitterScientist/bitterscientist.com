{
 "cells": [
  {
   "cell_type": "markdown",
   "id": "e137da14",
   "metadata": {},
   "source": [
    "<hr style=\"border-top: 5px solid black;\">"
   ]
  },
  {
   "cell_type": "markdown",
   "id": "8aa62dff",
   "metadata": {},
   "source": [
    "<div class=\"alert alert-block alert-success\" style=\"font-size:20px; border:1px solid black; padding:10px\">\n",
    "<center><h1>Post Goals:</h1></center>\n",
    "    <hr style=\"border-top: 2px dashed black;\">\n",
    "    <ol>\n",
    "        <li><a href=\"#objective1\">One-Way ANOVA in R</a></li><br>\n",
    "        <li><a href=\"#objective2\">ANOVA as a General Linear Model</a></li><br>\n",
    "    </ol>\n",
    "</div>"
   ]
  },
  {
   "cell_type": "markdown",
   "id": "0737fcd3",
   "metadata": {},
   "source": [
    "<hr style=\"border-top: 5px solid black;\">"
   ]
  },
  {
   "cell_type": "markdown",
   "id": "3bf267d5",
   "metadata": {},
   "source": [
    "<div id=\"objective1\" class=\"alert alert-block alert-warning\" style=\"font-size:16px; border:1px solid black; padding:10px\"><center><h1><br><font color=\"blue\">One-Way ANOVA in R.</font></h1></center><br>\n",
    "</div>\n",
    "<div style=\"font-size:16px; border:1px solid black; padding:10px\">\n",
    "    <ul><strong><u>Method overview</u></strong>\n",
    "        <li>This example will use a small dataset comparing the protein content in four types of grain.</li><br>\n",
    "        <li>Load Data</li><br>\n",
    "        <li>Make sure independent variable is a factor</li><br>\n",
    "        <li>apply the <code>aov</code> method on the data</li><br>  \n",
    "        <li>apply the <code>anova</code> method on the aov</li><br>       \n",
    "    </ul>\n",
    "</div>"
   ]
  },
  {
   "cell_type": "markdown",
   "id": "151d31de",
   "metadata": {},
   "source": [
    "## Load Data"
   ]
  },
  {
   "cell_type": "code",
   "execution_count": 1,
   "id": "33069be6",
   "metadata": {},
   "outputs": [
    {
     "name": "stdout",
     "output_type": "stream",
     "text": [
      "'data.frame':\t24 obs. of  2 variables:\n",
      " $ grain  : chr  \"Wheat\" \"Wheat\" \"Wheat\" \"Wheat\" ...\n",
      " $ thiamin: num  5.2 4.5 6 6.1 6.7 5.8 6.5 8 6.1 7.5 ...\n"
     ]
    }
   ],
   "source": [
    "grain.data <- read.csv(\"static/data/thiamin.csv\")\n",
    "str(grain.data)"
   ]
  },
  {
   "cell_type": "markdown",
   "id": "45cc55d4",
   "metadata": {},
   "source": [
    "## Convert to factor"
   ]
  },
  {
   "cell_type": "code",
   "execution_count": 2,
   "id": "30508159",
   "metadata": {},
   "outputs": [
    {
     "data": {
      "text/html": [
       "<style>\n",
       ".list-inline {list-style: none; margin:0; padding: 0}\n",
       ".list-inline>li {display: inline-block}\n",
       ".list-inline>li:not(:last-child)::after {content: \"\\00b7\"; padding: 0 .5ex}\n",
       "</style>\n",
       "<ol class=list-inline><li>'Barley'</li><li>'Maize'</li><li>'Oat'</li><li>'Wheat'</li></ol>\n"
      ],
      "text/latex": [
       "\\begin{enumerate*}\n",
       "\\item 'Barley'\n",
       "\\item 'Maize'\n",
       "\\item 'Oat'\n",
       "\\item 'Wheat'\n",
       "\\end{enumerate*}\n"
      ],
      "text/markdown": [
       "1. 'Barley'\n",
       "2. 'Maize'\n",
       "3. 'Oat'\n",
       "4. 'Wheat'\n",
       "\n",
       "\n"
      ],
      "text/plain": [
       "[1] \"Barley\" \"Maize\"  \"Oat\"    \"Wheat\" "
      ]
     },
     "metadata": {},
     "output_type": "display_data"
    }
   ],
   "source": [
    "grain.data$grain <- factor(grain.data$grain)\n",
    "attach(grain.data)\n",
    "levels(grain.data$grain)"
   ]
  },
  {
   "cell_type": "markdown",
   "id": "249c387e",
   "metadata": {},
   "source": [
    "## Apply aov method\n",
    " \n",
    " - The parameter: response variable ~ independent variable"
   ]
  },
  {
   "cell_type": "code",
   "execution_count": 3,
   "id": "faa3817d",
   "metadata": {},
   "outputs": [
    {
     "data": {
      "text/plain": [
       "Call:\n",
       "   aov(formula = thiamin ~ grain)\n",
       "\n",
       "Terms:\n",
       "                    grain Residuals\n",
       "Sum of Squares   8.983333 15.136667\n",
       "Deg. of Freedom         3        20\n",
       "\n",
       "Residual standard error: 0.8699617\n",
       "Estimated effects may be unbalanced"
      ]
     },
     "metadata": {},
     "output_type": "display_data"
    }
   ],
   "source": [
    "grain.aov <- aov(thiamin~grain)\n",
    "grain.aov"
   ]
  },
  {
   "cell_type": "markdown",
   "id": "bf4ae015",
   "metadata": {},
   "source": [
    "## Apply the ANOVA method"
   ]
  },
  {
   "cell_type": "code",
   "execution_count": 4,
   "id": "313e53fc",
   "metadata": {},
   "outputs": [
    {
     "data": {
      "text/html": [
       "<table class=\"dataframe\">\n",
       "<caption>A anova: 2 × 5</caption>\n",
       "<thead>\n",
       "\t<tr><th></th><th scope=col>Df</th><th scope=col>Sum Sq</th><th scope=col>Mean Sq</th><th scope=col>F value</th><th scope=col>Pr(&gt;F)</th></tr>\n",
       "\t<tr><th></th><th scope=col>&lt;int&gt;</th><th scope=col>&lt;dbl&gt;</th><th scope=col>&lt;dbl&gt;</th><th scope=col>&lt;dbl&gt;</th><th scope=col>&lt;dbl&gt;</th></tr>\n",
       "</thead>\n",
       "<tbody>\n",
       "\t<tr><th scope=row>grain</th><td> 3</td><td> 8.983333</td><td>2.9944444</td><td>3.956544</td><td>0.02293421</td></tr>\n",
       "\t<tr><th scope=row>Residuals</th><td>20</td><td>15.136667</td><td>0.7568333</td><td>      NA</td><td>        NA</td></tr>\n",
       "</tbody>\n",
       "</table>\n"
      ],
      "text/latex": [
       "A anova: 2 × 5\n",
       "\\begin{tabular}{r|lllll}\n",
       "  & Df & Sum Sq & Mean Sq & F value & Pr(>F)\\\\\n",
       "  & <int> & <dbl> & <dbl> & <dbl> & <dbl>\\\\\n",
       "\\hline\n",
       "\tgrain &  3 &  8.983333 & 2.9944444 & 3.956544 & 0.02293421\\\\\n",
       "\tResiduals & 20 & 15.136667 & 0.7568333 &       NA &         NA\\\\\n",
       "\\end{tabular}\n"
      ],
      "text/markdown": [
       "\n",
       "A anova: 2 × 5\n",
       "\n",
       "| <!--/--> | Df &lt;int&gt; | Sum Sq &lt;dbl&gt; | Mean Sq &lt;dbl&gt; | F value &lt;dbl&gt; | Pr(&gt;F) &lt;dbl&gt; |\n",
       "|---|---|---|---|---|---|\n",
       "| grain |  3 |  8.983333 | 2.9944444 | 3.956544 | 0.02293421 |\n",
       "| Residuals | 20 | 15.136667 | 0.7568333 |       NA |         NA |\n",
       "\n"
      ],
      "text/plain": [
       "          Df Sum Sq    Mean Sq   F value  Pr(>F)    \n",
       "grain      3  8.983333 2.9944444 3.956544 0.02293421\n",
       "Residuals 20 15.136667 0.7568333       NA         NA"
      ]
     },
     "metadata": {},
     "output_type": "display_data"
    }
   ],
   "source": [
    "anova(grain.aov)"
   ]
  },
  {
   "cell_type": "markdown",
   "id": "e429cca5",
   "metadata": {},
   "source": [
    "## The f value is less than 0.05 alpha, reject the null hypothesis"
   ]
  },
  {
   "cell_type": "markdown",
   "id": "f3ac464e",
   "metadata": {},
   "source": [
    "<hr style=\"border-top: 5px solid black;\">"
   ]
  },
  {
   "cell_type": "markdown",
   "id": "b71820f1",
   "metadata": {},
   "source": [
    "<div id=\"objective2\" class=\"alert alert-block alert-warning\" style=\"font-size:16px; border:1px solid black; padding:10px\"><center><h1><br><font color=\"blue\">ANOVA as a General Linear Model.</font></h1></center><br>\n",
    "</div>\n",
    "<div style=\"font-size:16px; border:1px solid black; padding:10px\">\n",
    "    <ul><strong><u>The run down</u></strong>\n",
    "        <li>A linear model with no independent variables</li><br>\n",
    "        <li>Using the grain data in this post, suppose we just samples grain and plotted their protein content and used this linear model $$y_j=\\mu+\\varepsilon_j,\\quad j=1,2,\\dotsc$$</li><br>\n",
    "        <li>𝜇 the model coefficient and is some unknown constant which has to be estimated that contributes to the deterministic component to the model </li><br>\n",
    "        <li>$\\varepsilon_j$ is the error terms in the model and the standard assumption in the linear model is that $\\varepsilon_j$ is normally distributed ∼𝖭(0,𝜎)</li><br>\n",
    "        <li>$\\varepsilon_j$ as the the error terms is a random variables and contributes a random component to the model.</li><br>\n",
    "        <li>𝑦𝑗 is the observed resposne, and is the sum of the deterministic component and a random component.</li><br>\n",
    "        <li>The $\\varepsilon_j$ represents the variability that may explain why a response will deviate from the mean.</li><br>\n",
    "        <li>Some of these reasons may be the type of grain, the soil type, the usage of the fertilizer, the skill of the planters, and perhaps pest etc.</li><br>\n",
    "        <li>A linear model does not have an independent variables (explanatory variables)</li><br>\n",
    "        <li>We can create a model that fits the data and can help explain the data.</li><br>\n",
    "        <li>The predicted value $𝑦̂_𝑗$ is the fitted value (or predicted value) of $𝑦̂_𝑗$, and is the point estimate for the mean of $𝑦̂_𝑗$ under the model</li><br>    \n",
    "        <li>The difference between the real observed value and the predicted value can be modeled using this expression, $𝑒_𝑗$=$𝑦_𝑗$−$𝑦̂_𝑗$ where  $𝑒_𝑗$ is the residual</li><br>    \n",
    "        <li>In general linear models, the sum of squares of residuals (deviations of the observed value to the fitted values) is called the <strong>Error sum of squares or residual sum of squares</strong>, and is denoted using <strong>SSE</strong>.</li><br>    \n",
    "        <li>The degrees of freedom for this SSE is N - k, where k is the number of model coefficients that must be estimated.</li><br>\n",
    "        <li>The mean square of error $$MSE=\\frac{SSE}{df_e}$$</li><br>    \n",
    "        <li>The point estimate for the variance $\\hat{\\sigma}$ is the is the $$\\sqrt{MSE}={\\frac{SSE}{df_e}}$$</li><br> \n",
    "        <li>This model can be implemented in r using <code>aov(thiamin~1)</code>, as illustrated below.</li><br>   \n",
    "        <li>The residual standard error is just the sample standard deviation</li><br>\n",
    "        <li>The linear model with graint type as an independent variable would be modeled as such:\n",
    "        $$y_j=\\begin{cases}\\mu_1+\\varepsilon_j,&\\text{if $x_j=1$}\\\\\\mu_2+\\varepsilon_j,&\\text{if $x_j=2$}\\\\\\mu_3+\\varepsilon_j,&\\text{if $x_j=3$}\\\\\\mu_4+\\varepsilon_j,&\\text{if $x_j=4$}\\end{cases}$$\n",
    "        </li><br>\n",
    "        <li>There are four model coefficients $\\mu_1, \\mu_2, \\mu_3, \\mu_4$</li><br>\n",
    "        <li>There are four point estimates for $\\hat{\\mu_1} = \\bar{y_1} ... \\hat{\\mu_4} = \\bar{y_4} $</li><br>\n",
    "        <li>There are fitted values of the response variable $\\hat{y}_j$ for each of the point estimates</li><br>\n",
    "        <li>The example below will illustrate this in R</li><br> \n",
    "        <li>The SST is the total observed variability in the sample</li><br> \n",
    "        <li>The SSB is the total amount of variability in the response variable that can be explain by the observations in the independent variable.</li><br>         \n",
    "        <li>The SSE is the amount of observed variability that is left unexplained by the independent variable.\n",
    "        </li><br>\n",
    "        <li>$$R^2=\\frac{SSB}{SST}=\\frac{SST-SSE}{SST}=1-\\frac{SSE}{SST}$$</li><br> \n",
    "    </ul>\n",
    "</div>"
   ]
  },
  {
   "cell_type": "markdown",
   "id": "2e397233",
   "metadata": {},
   "source": [
    "## no independent variables in the model "
   ]
  },
  {
   "cell_type": "code",
   "execution_count": 5,
   "id": "7db7ae29",
   "metadata": {},
   "outputs": [
    {
     "data": {
      "text/plain": [
       "Call:\n",
       "   aov(formula = thiamin ~ 1)\n",
       "\n",
       "Terms:\n",
       "                Residuals\n",
       "Sum of Squares      24.12\n",
       "Deg. of Freedom        23\n",
       "\n",
       "Residual standard error: 1.024058"
      ]
     },
     "metadata": {},
     "output_type": "display_data"
    }
   ],
   "source": [
    "aov(thiamin~1)"
   ]
  },
  {
   "cell_type": "markdown",
   "id": "c986be1f",
   "metadata": {},
   "source": [
    "## independent variables in the model "
   ]
  },
  {
   "cell_type": "code",
   "execution_count": 6,
   "id": "e7a28cde",
   "metadata": {},
   "outputs": [
    {
     "data": {
      "text/html": [
       "<table class=\"dataframe\">\n",
       "<caption>A data.frame: 24 × 4</caption>\n",
       "<thead>\n",
       "\t<tr><th></th><th scope=col>Ind. Var.</th><th scope=col>Observed</th><th scope=col>Fitted</th><th scope=col>Residual</th></tr>\n",
       "\t<tr><th></th><th scope=col>&lt;fct&gt;</th><th scope=col>&lt;dbl&gt;</th><th scope=col>&lt;dbl&gt;</th><th scope=col>&lt;dbl&gt;</th></tr>\n",
       "</thead>\n",
       "<tbody>\n",
       "\t<tr><th scope=row>1</th><td>Wheat </td><td>5.2</td><td>5.716667</td><td>-0.51666667</td></tr>\n",
       "\t<tr><th scope=row>2</th><td>Wheat </td><td>4.5</td><td>5.716667</td><td>-1.21666667</td></tr>\n",
       "\t<tr><th scope=row>3</th><td>Wheat </td><td>6.0</td><td>5.716667</td><td> 0.28333333</td></tr>\n",
       "\t<tr><th scope=row>4</th><td>Wheat </td><td>6.1</td><td>5.716667</td><td> 0.38333333</td></tr>\n",
       "\t<tr><th scope=row>5</th><td>Wheat </td><td>6.7</td><td>5.716667</td><td> 0.98333333</td></tr>\n",
       "\t<tr><th scope=row>6</th><td>Wheat </td><td>5.8</td><td>5.716667</td><td> 0.08333333</td></tr>\n",
       "\t<tr><th scope=row>7</th><td>Barley</td><td>6.5</td><td>6.600000</td><td>-0.10000000</td></tr>\n",
       "\t<tr><th scope=row>8</th><td>Barley</td><td>8.0</td><td>6.600000</td><td> 1.40000000</td></tr>\n",
       "\t<tr><th scope=row>9</th><td>Barley</td><td>6.1</td><td>6.600000</td><td>-0.50000000</td></tr>\n",
       "\t<tr><th scope=row>10</th><td>Barley</td><td>7.5</td><td>6.600000</td><td> 0.90000000</td></tr>\n",
       "\t<tr><th scope=row>11</th><td>Barley</td><td>5.9</td><td>6.600000</td><td>-0.70000000</td></tr>\n",
       "\t<tr><th scope=row>12</th><td>Barley</td><td>5.6</td><td>6.600000</td><td>-1.00000000</td></tr>\n",
       "\t<tr><th scope=row>13</th><td>Maize </td><td>5.8</td><td>5.500000</td><td> 0.30000000</td></tr>\n",
       "\t<tr><th scope=row>14</th><td>Maize </td><td>4.7</td><td>5.500000</td><td>-0.80000000</td></tr>\n",
       "\t<tr><th scope=row>15</th><td>Maize </td><td>6.4</td><td>5.500000</td><td> 0.90000000</td></tr>\n",
       "\t<tr><th scope=row>16</th><td>Maize </td><td>4.9</td><td>5.500000</td><td>-0.60000000</td></tr>\n",
       "\t<tr><th scope=row>17</th><td>Maize </td><td>6.0</td><td>5.500000</td><td> 0.50000000</td></tr>\n",
       "\t<tr><th scope=row>18</th><td>Maize </td><td>5.2</td><td>5.500000</td><td>-0.30000000</td></tr>\n",
       "\t<tr><th scope=row>19</th><td>Oat   </td><td>8.3</td><td>6.983333</td><td> 1.31666667</td></tr>\n",
       "\t<tr><th scope=row>20</th><td>Oat   </td><td>6.1</td><td>6.983333</td><td>-0.88333333</td></tr>\n",
       "\t<tr><th scope=row>21</th><td>Oat   </td><td>7.8</td><td>6.983333</td><td> 0.81666667</td></tr>\n",
       "\t<tr><th scope=row>22</th><td>Oat   </td><td>7.0</td><td>6.983333</td><td> 0.01666667</td></tr>\n",
       "\t<tr><th scope=row>23</th><td>Oat   </td><td>5.5</td><td>6.983333</td><td>-1.48333333</td></tr>\n",
       "\t<tr><th scope=row>24</th><td>Oat   </td><td>7.2</td><td>6.983333</td><td> 0.21666667</td></tr>\n",
       "</tbody>\n",
       "</table>\n"
      ],
      "text/latex": [
       "A data.frame: 24 × 4\n",
       "\\begin{tabular}{r|llll}\n",
       "  & Ind. Var. & Observed & Fitted & Residual\\\\\n",
       "  & <fct> & <dbl> & <dbl> & <dbl>\\\\\n",
       "\\hline\n",
       "\t1 & Wheat  & 5.2 & 5.716667 & -0.51666667\\\\\n",
       "\t2 & Wheat  & 4.5 & 5.716667 & -1.21666667\\\\\n",
       "\t3 & Wheat  & 6.0 & 5.716667 &  0.28333333\\\\\n",
       "\t4 & Wheat  & 6.1 & 5.716667 &  0.38333333\\\\\n",
       "\t5 & Wheat  & 6.7 & 5.716667 &  0.98333333\\\\\n",
       "\t6 & Wheat  & 5.8 & 5.716667 &  0.08333333\\\\\n",
       "\t7 & Barley & 6.5 & 6.600000 & -0.10000000\\\\\n",
       "\t8 & Barley & 8.0 & 6.600000 &  1.40000000\\\\\n",
       "\t9 & Barley & 6.1 & 6.600000 & -0.50000000\\\\\n",
       "\t10 & Barley & 7.5 & 6.600000 &  0.90000000\\\\\n",
       "\t11 & Barley & 5.9 & 6.600000 & -0.70000000\\\\\n",
       "\t12 & Barley & 5.6 & 6.600000 & -1.00000000\\\\\n",
       "\t13 & Maize  & 5.8 & 5.500000 &  0.30000000\\\\\n",
       "\t14 & Maize  & 4.7 & 5.500000 & -0.80000000\\\\\n",
       "\t15 & Maize  & 6.4 & 5.500000 &  0.90000000\\\\\n",
       "\t16 & Maize  & 4.9 & 5.500000 & -0.60000000\\\\\n",
       "\t17 & Maize  & 6.0 & 5.500000 &  0.50000000\\\\\n",
       "\t18 & Maize  & 5.2 & 5.500000 & -0.30000000\\\\\n",
       "\t19 & Oat    & 8.3 & 6.983333 &  1.31666667\\\\\n",
       "\t20 & Oat    & 6.1 & 6.983333 & -0.88333333\\\\\n",
       "\t21 & Oat    & 7.8 & 6.983333 &  0.81666667\\\\\n",
       "\t22 & Oat    & 7.0 & 6.983333 &  0.01666667\\\\\n",
       "\t23 & Oat    & 5.5 & 6.983333 & -1.48333333\\\\\n",
       "\t24 & Oat    & 7.2 & 6.983333 &  0.21666667\\\\\n",
       "\\end{tabular}\n"
      ],
      "text/markdown": [
       "\n",
       "A data.frame: 24 × 4\n",
       "\n",
       "| <!--/--> | Ind. Var. &lt;fct&gt; | Observed &lt;dbl&gt; | Fitted &lt;dbl&gt; | Residual &lt;dbl&gt; |\n",
       "|---|---|---|---|---|\n",
       "| 1 | Wheat  | 5.2 | 5.716667 | -0.51666667 |\n",
       "| 2 | Wheat  | 4.5 | 5.716667 | -1.21666667 |\n",
       "| 3 | Wheat  | 6.0 | 5.716667 |  0.28333333 |\n",
       "| 4 | Wheat  | 6.1 | 5.716667 |  0.38333333 |\n",
       "| 5 | Wheat  | 6.7 | 5.716667 |  0.98333333 |\n",
       "| 6 | Wheat  | 5.8 | 5.716667 |  0.08333333 |\n",
       "| 7 | Barley | 6.5 | 6.600000 | -0.10000000 |\n",
       "| 8 | Barley | 8.0 | 6.600000 |  1.40000000 |\n",
       "| 9 | Barley | 6.1 | 6.600000 | -0.50000000 |\n",
       "| 10 | Barley | 7.5 | 6.600000 |  0.90000000 |\n",
       "| 11 | Barley | 5.9 | 6.600000 | -0.70000000 |\n",
       "| 12 | Barley | 5.6 | 6.600000 | -1.00000000 |\n",
       "| 13 | Maize  | 5.8 | 5.500000 |  0.30000000 |\n",
       "| 14 | Maize  | 4.7 | 5.500000 | -0.80000000 |\n",
       "| 15 | Maize  | 6.4 | 5.500000 |  0.90000000 |\n",
       "| 16 | Maize  | 4.9 | 5.500000 | -0.60000000 |\n",
       "| 17 | Maize  | 6.0 | 5.500000 |  0.50000000 |\n",
       "| 18 | Maize  | 5.2 | 5.500000 | -0.30000000 |\n",
       "| 19 | Oat    | 8.3 | 6.983333 |  1.31666667 |\n",
       "| 20 | Oat    | 6.1 | 6.983333 | -0.88333333 |\n",
       "| 21 | Oat    | 7.8 | 6.983333 |  0.81666667 |\n",
       "| 22 | Oat    | 7.0 | 6.983333 |  0.01666667 |\n",
       "| 23 | Oat    | 5.5 | 6.983333 | -1.48333333 |\n",
       "| 24 | Oat    | 7.2 | 6.983333 |  0.21666667 |\n",
       "\n"
      ],
      "text/plain": [
       "   Ind. Var. Observed Fitted   Residual   \n",
       "1  Wheat     5.2      5.716667 -0.51666667\n",
       "2  Wheat     4.5      5.716667 -1.21666667\n",
       "3  Wheat     6.0      5.716667  0.28333333\n",
       "4  Wheat     6.1      5.716667  0.38333333\n",
       "5  Wheat     6.7      5.716667  0.98333333\n",
       "6  Wheat     5.8      5.716667  0.08333333\n",
       "7  Barley    6.5      6.600000 -0.10000000\n",
       "8  Barley    8.0      6.600000  1.40000000\n",
       "9  Barley    6.1      6.600000 -0.50000000\n",
       "10 Barley    7.5      6.600000  0.90000000\n",
       "11 Barley    5.9      6.600000 -0.70000000\n",
       "12 Barley    5.6      6.600000 -1.00000000\n",
       "13 Maize     5.8      5.500000  0.30000000\n",
       "14 Maize     4.7      5.500000 -0.80000000\n",
       "15 Maize     6.4      5.500000  0.90000000\n",
       "16 Maize     4.9      5.500000 -0.60000000\n",
       "17 Maize     6.0      5.500000  0.50000000\n",
       "18 Maize     5.2      5.500000 -0.30000000\n",
       "19 Oat       8.3      6.983333  1.31666667\n",
       "20 Oat       6.1      6.983333 -0.88333333\n",
       "21 Oat       7.8      6.983333  0.81666667\n",
       "22 Oat       7.0      6.983333  0.01666667\n",
       "23 Oat       5.5      6.983333 -1.48333333\n",
       "24 Oat       7.2      6.983333  0.21666667"
      ]
     },
     "metadata": {},
     "output_type": "display_data"
    }
   ],
   "source": [
    "# store aov model object in a variable\n",
    "grain.aov <- aov(thiamin~grain) \n",
    "\n",
    "# obtain fitted values from model\n",
    "grain.fit <- fitted.values(grain.aov) \n",
    "\n",
    "# obtain residuals from model\n",
    "grain.res <- residuals(grain.aov) \n",
    "\n",
    "# observed values\n",
    "grain.obs <- thiamin\n",
    "\n",
    "# independent variable\n",
    "grain.ind <- grain \n",
    "\n",
    "# combine vectors into a new data frame\n",
    "grain.table <- data.frame(grain.ind, grain.obs, grain.fit, grain.res) \n",
    "\n",
    "# descriptive column names\n",
    "colnames(grain.table) <- c('Ind. Var.', 'Observed', 'Fitted', 'Residual') \n",
    "grain.table "
   ]
  },
  {
   "cell_type": "markdown",
   "id": "45cd57d2",
   "metadata": {},
   "source": [
    "## Calcualt ethe SSE which is the sume of residuals squared"
   ]
  },
  {
   "cell_type": "code",
   "execution_count": 7,
   "id": "92a7dd89",
   "metadata": {},
   "outputs": [
    {
     "data": {
      "text/html": [
       "15.1366666666667"
      ],
      "text/latex": [
       "15.1366666666667"
      ],
      "text/markdown": [
       "15.1366666666667"
      ],
      "text/plain": [
       "[1] 15.13667"
      ]
     },
     "metadata": {},
     "output_type": "display_data"
    }
   ],
   "source": [
    "sum(grain.res^2)"
   ]
  },
  {
   "cell_type": "markdown",
   "id": "377beb98",
   "metadata": {},
   "source": [
    "<hr style=\"border-top: 5px solid black;\">"
   ]
  }
 ],
 "metadata": {
  "kernelspec": {
   "display_name": "R",
   "language": "R",
   "name": "ir"
  },
  "language_info": {
   "codemirror_mode": "r",
   "file_extension": ".r",
   "mimetype": "text/x-r-source",
   "name": "R",
   "pygments_lexer": "r",
   "version": "4.1.1"
  }
 },
 "nbformat": 4,
 "nbformat_minor": 5
}

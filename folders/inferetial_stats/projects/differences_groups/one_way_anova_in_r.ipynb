{
 "cells": [
  {
   "cell_type": "markdown",
   "id": "e137da14",
   "metadata": {},
   "source": [
    "<hr style=\"border-top: 5px solid black;\">"
   ]
  },
  {
   "cell_type": "markdown",
   "id": "8aa62dff",
   "metadata": {},
   "source": [
    "<div class=\"alert alert-block alert-success\" style=\"font-size:20px; border:1px solid black; padding:10px\">\n",
    "<center><h1>Post Goals:</h1></center>\n",
    "    <hr style=\"border-top: 2px dashed black;\">\n",
    "    <ol>\n",
    "        <li><a href=\"#objective1\">Introduction to One-Way ANOVA.</a></li><br>\n",
    "        <li><a href=\"#objective2\">Data Structure, Assumptions and Hypothesis.</a></li><br>\n",
    "        <li><a href=\"#objective3\">Sources of Variability.</a></li><br>\n",
    "        <li><a href=\"#objective4\">ANOVA Table and F-test.</a></li><br>        \n",
    "    </ol>\n",
    "</div>"
   ]
  },
  {
   "cell_type": "markdown",
   "id": "0737fcd3",
   "metadata": {},
   "source": [
    "<hr style=\"border-top: 5px solid black;\">"
   ]
  },
  {
   "cell_type": "markdown",
   "id": "3bf267d5",
   "metadata": {},
   "source": [
    "<div id=\"objective1\" class=\"alert alert-block alert-warning\" style=\"font-size:16px; border:1px solid black; padding:10px\"><center><h1><br><font color=\"blue\">Introduction to One-Way ANOVA.</font></h1></center><br>\n",
    "</div>\n",
    "<div style=\"font-size:16px; border:1px solid black; padding:10px\">\n",
    "    <ul><strong><u>The basics</u></strong>\n",
    "        <li>This goal of this procedure is to find statistically significant differences between multiple population means.</li><br>\n",
    "        <li>The independent variable is a categorical variable that takes two or more values. </li><br>\n",
    "        <li>The response (dependent) variable is numerical.</li><br>\n",
    "        <li>The independent variable defines the group (subpopulations).</li><br>  \n",
    "        <li>            \n",
    "            <ul>Examples:\n",
    "                <li>Annual gross income of americans based on their political party.</li>\n",
    "                <li>Bupropion XL prescription rates based on state.</li>\n",
    "            </ul>\n",
    "        </li><br>       \n",
    "    </ul>\n",
    "</div>"
   ]
  },
  {
   "cell_type": "markdown",
   "id": "f3ac464e",
   "metadata": {},
   "source": [
    "<hr style=\"border-top: 5px solid black;\">"
   ]
  },
  {
   "cell_type": "markdown",
   "id": "b71820f1",
   "metadata": {},
   "source": [
    "<div id=\"objective2\" class=\"alert alert-block alert-warning\" style=\"font-size:16px; border:1px solid black; padding:10px\"><center><h1><br><font color=\"blue\">Data Structure, Assumptions and Hypothesis.</font></h1></center><br>\n",
    "</div>\n",
    "<div style=\"font-size:16px; border:1px solid black; padding:10px\">\n",
    "    <ul><strong><u>The basics on the Data Structure</u></strong>\n",
    "        <li>The independent variable is categorical and each category is called a level.</li><br>\n",
    "        <li>The data for an ANOVA analysis typically contains a column for the independent variable and then a column with its corresponding numeric dependent variable value.</li><br>\n",
    "        <li>When each category has equal number of instances, then this is called a balanced design.</li><br>\n",
    "        <li>When each category has unequal number of instances, then this is an unbalanced design.</li><br>\n",
    "        <li>            \n",
    "            <ul>Assumptions\n",
    "                <li>Samples for each cateogry are randomly selected from their respective populations.</li><br>\n",
    "                <li>The samples are independent of one another.</li><br>\n",
    "                <li>The populations are normally distributed.</li><br>\n",
    "                <li>The population for all the categories have the same population variance (homoscedasticity).</li><br>\n",
    "                <li>$$\\sigma_1=\\sigma_2=\\sigma_3=\\sigma_4=\\sigma$$ where $\\sigma$ represents the standard deviation of all the categorical populations.</li><br>\n",
    "                <li>Leves test is a common test used to determine if the data have equal population variances (homoscedasticity).</li><br>\n",
    "                 <li>Boxplots are also used to evaluate variance.</li><br>\n",
    "            </ul>\n",
    "        </li><br>\n",
    "        <li>Hypothesis test:$$\\begin{aligned} &H_0\\colon\\mu_1=\\mu_2=\\mu_3=\\mu_4\\\\ \\text{against }&H_a\\colon\\text{there exists some difference in the $\\mu_j$'s}\\end{aligned}$$ \n",
    "        </li><br>\n",
    "        <li>Rejecting the $H_0$ does not reveal which difference exists, so a post hoc test would need to be completed.</li><br>\n",
    "        <li>The F-Distribution is used to determine if a there is sufficient evidence to accept or reject the null hypothesis.</li><br>         \n",
    "        <li>The R programming language will be used to carry out these calculations.</li><br>\n",
    "    </ul>\n",
    "</div>"
   ]
  },
  {
   "cell_type": "markdown",
   "id": "4c5eb695",
   "metadata": {},
   "source": [
    "## Load Data"
   ]
  },
  {
   "cell_type": "code",
   "execution_count": 1,
   "id": "fc030f82",
   "metadata": {},
   "outputs": [
    {
     "name": "stdout",
     "output_type": "stream",
     "text": [
      "'data.frame':\t24 obs. of  2 variables:\n",
      " $ grain  : chr  \"Wheat\" \"Wheat\" \"Wheat\" \"Wheat\" ...\n",
      " $ thiamin: num  5.2 4.5 6 6.1 6.7 5.8 6.5 8 6.1 7.5 ...\n"
     ]
    }
   ],
   "source": [
    "grain.data <- read.csv(\"static/data/thiamin.csv\")\n",
    "str(grain.data)"
   ]
  },
  {
   "cell_type": "markdown",
   "id": "40b3eab3",
   "metadata": {},
   "source": [
    "## Inspect the categorical data"
   ]
  },
  {
   "cell_type": "code",
   "execution_count": 2,
   "id": "29f85fa6",
   "metadata": {},
   "outputs": [
    {
     "data": {
      "text/html": [
       "<style>\n",
       ".list-inline {list-style: none; margin:0; padding: 0}\n",
       ".list-inline>li {display: inline-block}\n",
       ".list-inline>li:not(:last-child)::after {content: \"\\00b7\"; padding: 0 .5ex}\n",
       "</style>\n",
       "<ol class=list-inline><li>'Barley'</li><li>'Maize'</li><li>'Oat'</li><li>'Wheat'</li></ol>\n"
      ],
      "text/latex": [
       "\\begin{enumerate*}\n",
       "\\item 'Barley'\n",
       "\\item 'Maize'\n",
       "\\item 'Oat'\n",
       "\\item 'Wheat'\n",
       "\\end{enumerate*}\n"
      ],
      "text/markdown": [
       "1. 'Barley'\n",
       "2. 'Maize'\n",
       "3. 'Oat'\n",
       "4. 'Wheat'\n",
       "\n",
       "\n"
      ],
      "text/plain": [
       "[1] \"Barley\" \"Maize\"  \"Oat\"    \"Wheat\" "
      ]
     },
     "metadata": {},
     "output_type": "display_data"
    }
   ],
   "source": [
    "grain.data$grain <- factor(grain.data$grain)\n",
    "attach(grain.data)\n",
    "levels(grain.data$grain)"
   ]
  },
  {
   "cell_type": "markdown",
   "id": "b0d9eeda",
   "metadata": {},
   "source": [
    "## Obtain summary statistics"
   ]
  },
  {
   "cell_type": "code",
   "execution_count": 3,
   "id": "27fd4c07",
   "metadata": {},
   "outputs": [
    {
     "data": {
      "text/html": [
       "<table class=\"dataframe\">\n",
       "<caption>A data.frame: 4 × 2</caption>\n",
       "<thead>\n",
       "\t<tr><th scope=col>grain</th><th scope=col>thiamin</th></tr>\n",
       "\t<tr><th scope=col>&lt;fct&gt;</th><th scope=col>&lt;dbl&gt;</th></tr>\n",
       "</thead>\n",
       "<tbody>\n",
       "\t<tr><td>Barley</td><td>6.600000</td></tr>\n",
       "\t<tr><td>Maize </td><td>5.500000</td></tr>\n",
       "\t<tr><td>Oat   </td><td>6.983333</td></tr>\n",
       "\t<tr><td>Wheat </td><td>5.716667</td></tr>\n",
       "</tbody>\n",
       "</table>\n"
      ],
      "text/latex": [
       "A data.frame: 4 × 2\n",
       "\\begin{tabular}{ll}\n",
       " grain & thiamin\\\\\n",
       " <fct> & <dbl>\\\\\n",
       "\\hline\n",
       "\t Barley & 6.600000\\\\\n",
       "\t Maize  & 5.500000\\\\\n",
       "\t Oat    & 6.983333\\\\\n",
       "\t Wheat  & 5.716667\\\\\n",
       "\\end{tabular}\n"
      ],
      "text/markdown": [
       "\n",
       "A data.frame: 4 × 2\n",
       "\n",
       "| grain &lt;fct&gt; | thiamin &lt;dbl&gt; |\n",
       "|---|---|\n",
       "| Barley | 6.600000 |\n",
       "| Maize  | 5.500000 |\n",
       "| Oat    | 6.983333 |\n",
       "| Wheat  | 5.716667 |\n",
       "\n"
      ],
      "text/plain": [
       "  grain  thiamin \n",
       "1 Barley 6.600000\n",
       "2 Maize  5.500000\n",
       "3 Oat    6.983333\n",
       "4 Wheat  5.716667"
      ]
     },
     "metadata": {},
     "output_type": "display_data"
    },
    {
     "data": {
      "text/html": [
       "<table class=\"dataframe\">\n",
       "<caption>A data.frame: 4 × 2</caption>\n",
       "<thead>\n",
       "\t<tr><th scope=col>grain</th><th scope=col>thiamin</th></tr>\n",
       "\t<tr><th scope=col>&lt;fct&gt;</th><th scope=col>&lt;dbl&gt;</th></tr>\n",
       "</thead>\n",
       "<tbody>\n",
       "\t<tr><td>Barley</td><td>0.9507891</td></tr>\n",
       "\t<tr><td>Maize </td><td>0.6693280</td></tr>\n",
       "\t<tr><td>Oat   </td><td>1.0419533</td></tr>\n",
       "\t<tr><td>Wheat </td><td>0.7678976</td></tr>\n",
       "</tbody>\n",
       "</table>\n"
      ],
      "text/latex": [
       "A data.frame: 4 × 2\n",
       "\\begin{tabular}{ll}\n",
       " grain & thiamin\\\\\n",
       " <fct> & <dbl>\\\\\n",
       "\\hline\n",
       "\t Barley & 0.9507891\\\\\n",
       "\t Maize  & 0.6693280\\\\\n",
       "\t Oat    & 1.0419533\\\\\n",
       "\t Wheat  & 0.7678976\\\\\n",
       "\\end{tabular}\n"
      ],
      "text/markdown": [
       "\n",
       "A data.frame: 4 × 2\n",
       "\n",
       "| grain &lt;fct&gt; | thiamin &lt;dbl&gt; |\n",
       "|---|---|\n",
       "| Barley | 0.9507891 |\n",
       "| Maize  | 0.6693280 |\n",
       "| Oat    | 1.0419533 |\n",
       "| Wheat  | 0.7678976 |\n",
       "\n"
      ],
      "text/plain": [
       "  grain  thiamin  \n",
       "1 Barley 0.9507891\n",
       "2 Maize  0.6693280\n",
       "3 Oat    1.0419533\n",
       "4 Wheat  0.7678976"
      ]
     },
     "metadata": {},
     "output_type": "display_data"
    },
    {
     "data": {
      "text/html": [
       "<table class=\"dataframe\">\n",
       "<caption>A data.frame: 4 × 2</caption>\n",
       "<thead>\n",
       "\t<tr><th scope=col>grain</th><th scope=col>thiamin</th></tr>\n",
       "\t<tr><th scope=col>&lt;fct&gt;</th><th scope=col>&lt;int&gt;</th></tr>\n",
       "</thead>\n",
       "<tbody>\n",
       "\t<tr><td>Barley</td><td>6</td></tr>\n",
       "\t<tr><td>Maize </td><td>6</td></tr>\n",
       "\t<tr><td>Oat   </td><td>6</td></tr>\n",
       "\t<tr><td>Wheat </td><td>6</td></tr>\n",
       "</tbody>\n",
       "</table>\n"
      ],
      "text/latex": [
       "A data.frame: 4 × 2\n",
       "\\begin{tabular}{ll}\n",
       " grain & thiamin\\\\\n",
       " <fct> & <int>\\\\\n",
       "\\hline\n",
       "\t Barley & 6\\\\\n",
       "\t Maize  & 6\\\\\n",
       "\t Oat    & 6\\\\\n",
       "\t Wheat  & 6\\\\\n",
       "\\end{tabular}\n"
      ],
      "text/markdown": [
       "\n",
       "A data.frame: 4 × 2\n",
       "\n",
       "| grain &lt;fct&gt; | thiamin &lt;int&gt; |\n",
       "|---|---|\n",
       "| Barley | 6 |\n",
       "| Maize  | 6 |\n",
       "| Oat    | 6 |\n",
       "| Wheat  | 6 |\n",
       "\n"
      ],
      "text/plain": [
       "  grain  thiamin\n",
       "1 Barley 6      \n",
       "2 Maize  6      \n",
       "3 Oat    6      \n",
       "4 Wheat  6      "
      ]
     },
     "metadata": {},
     "output_type": "display_data"
    }
   ],
   "source": [
    "aggregate(thiamin~grain, FUN=mean) # obtain sample means for each sample defined by 'grain'\n",
    "aggregate(thiamin~grain, FUN=sd) # obtain sample st. devs. for each sample defined by 'grain'\n",
    "aggregate(thiamin~grain, FUN=length) # obtain sample sizes for each sample defined by 'grain'"
   ]
  },
  {
   "cell_type": "markdown",
   "id": "a8da5fd8",
   "metadata": {},
   "source": [
    "## Calculate test statistics"
   ]
  },
  {
   "cell_type": "code",
   "execution_count": 4,
   "id": "f4fffa06",
   "metadata": {},
   "outputs": [
    {
     "data": {
      "text/html": [
       "6.2"
      ],
      "text/latex": [
       "6.2"
      ],
      "text/markdown": [
       "6.2"
      ],
      "text/plain": [
       "[1] 6.2"
      ]
     },
     "metadata": {},
     "output_type": "display_data"
    },
    {
     "data": {
      "text/html": [
       "1.04869565217391"
      ],
      "text/latex": [
       "1.04869565217391"
      ],
      "text/markdown": [
       "1.04869565217391"
      ],
      "text/plain": [
       "[1] 1.048696"
      ]
     },
     "metadata": {},
     "output_type": "display_data"
    }
   ],
   "source": [
    "ybar <- mean(thiamin); ybar\n",
    "var.y <- var(thiamin); var.y"
   ]
  },
  {
   "cell_type": "markdown",
   "id": "00a2739c",
   "metadata": {},
   "source": [
    "## Evaluate Variance using BoxPlot"
   ]
  },
  {
   "cell_type": "code",
   "execution_count": 5,
   "id": "948ae05a",
   "metadata": {},
   "outputs": [
    {
     "data": {
      "image/png": "[encoded data removed]",
      "text/plain": [
       "plot without title"
      ]
     },
     "metadata": {
      "image/png": {
       "height": 420,
       "width": 420
      }
     },
     "output_type": "display_data"
    }
   ],
   "source": [
    "boxplot(thiamin~grain)"
   ]
  },
  {
   "cell_type": "markdown",
   "id": "6f636c6a",
   "metadata": {},
   "source": [
    "<hr style=\"border-top: 5px solid black;\">"
   ]
  },
  {
   "cell_type": "markdown",
   "id": "ab082559",
   "metadata": {},
   "source": [
    "<div id=\"objective3\" class=\"alert alert-block alert-warning\" style=\"font-size:16px; border:1px solid black; padding:10px\"><center><h1><br><font color=\"blue\">Sources of Variability.</font></h1></center><br>\n",
    "</div>\n",
    "<div style=\"font-size:16px; border:1px solid black; padding:10px\">\n",
    "    <ul><strong><u>The basics</u></strong>\n",
    "        <li>The ANOVA relies on the F-test.</li><br>\n",
    "        <li>The F-test tests the partition, or decomposition, of the total variability. </li><br>\n",
    "        <li>The variability in a sample can be tested using the sample variance, the sample standard deviation, the sample inerquartile range, the sample range.</li><br>\n",
    "        <li>In the ANOVA, the variability will be represented as the <strong>sums of square deviations</strong>.</li><br>\n",
    "        <li><strong>The Total sums of squares SST</strong>: represents the total variability among all the observations without splitting the data into groups.</li><br> \n",
    "        <li><strong>The Total sums of squares SST</strong>: in the ANOVA is also concerned with the sum of square deviations of each observation in the sample from the overall mean</li><br>\n",
    "        <li>The SST measures deviations of all observations from the overall mean $\\bar{y}$</li><br>\n",
    "        <li>The degrees of freedom for the SST is 𝑁−1 </li><br>\n",
    "        <li>The total sum of squares is defined as $$SST=\\sum_{i,j}(y_{i,j}-\\bar y)^2$$</li><br>\n",
    "        <li><strong>Mean of square deviations</strong>: The overall sample variance is just the sum of square deviations divided by the degrees of freedom and is defined as: $$s^2=\\frac{SST}{N-1}\\quad\\Leftrightarrow\\quad SST=(N-1)s^2$$</li><br>\n",
    "        <li>The $s^2$ is also the mean of square deviations.</li><br>\n",
    "        <li><strong>The sum of square deviations within the ith sample</strong>: $$SS_i=\\sum_{j=1}^{n_i}(y_{i,j}-\\bar y_i)^2$$</li><br>\n",
    "        <li><strong>The sample variance of the ith sample</strong>: is the sum of all thd square deviations of each observation from their respective group mean and is defined as $$s_i^2=\\frac{SS_i}{n_i-1}\\quad\\Leftrightarrow\\quad SS_i=(n_i-1)s_i^2$$</li><br>\n",
    "        <li><strong>The between groups sum of square deviations</strong>: is the variability between the sample means around the Y (response) variable. $$SSB=\\sum_{i,j}(\\bar y_i-\\bar y)^2=\\sum_i n_i(\\bar y_i-\\bar y)^2$$</li><br>\n",
    "        <li><strong>The within group sum of square SSW</strong>: is the variability between the sample means around the Y (response) variable. $$SSW=SS_1+SS_2+\\dotsb+SS_k=(n_1-1)s_1^2+(n_2-1)s_2^2+\\dotsb+(n_k-1)s_k^2$$</li><br>\n",
    "        <li>The decomposition of the SST is $$SST=SSW+SSB$$</li><br>\n",
    "        <li>The variability in the sample can be split into the variability between groups <strong>SSB</strong> and the variability in observations within each sample <strong>SSW</strong>.</li><br>\n",
    "        <li>The <strong>SSB</strong> is the variability explained by the presence of the independent variable.</li><br>\n",
    "        <li>The <strong>SSW</strong> is the variability that is left unexplained by the presence of the independent variable.</li><br>        \n",
    "        <li>The degrees of freedom for each of these sum of square deviations is $$df_T=N-1,\\quad df_B=k-1,\\quad df_W=N-k$$.</li><br>          \n",
    "    </ul>\n",
    "</div>"
   ]
  },
  {
   "cell_type": "markdown",
   "id": "f2d4b6f8",
   "metadata": {},
   "source": [
    "## Calculate Total Sum of Squares"
   ]
  },
  {
   "cell_type": "code",
   "execution_count": 6,
   "id": "e1664139",
   "metadata": {},
   "outputs": [
    {
     "data": {
      "text/html": [
       "24.12"
      ],
      "text/latex": [
       "24.12"
      ],
      "text/markdown": [
       "24.12"
      ],
      "text/plain": [
       "[1] 24.12"
      ]
     },
     "metadata": {},
     "output_type": "display_data"
    }
   ],
   "source": [
    "y <- thiamin # so we don't have to keep typing out 'thiamin'\n",
    "SST <- sum( (y-ybar)^2 ); SST"
   ]
  },
  {
   "cell_type": "markdown",
   "id": "ee4ad56f",
   "metadata": {},
   "source": [
    "## Calculate the mean of square deviations"
   ]
  },
  {
   "cell_type": "code",
   "execution_count": 7,
   "id": "0d2fd0e2",
   "metadata": {},
   "outputs": [
    {
     "data": {
      "text/html": [
       "24"
      ],
      "text/latex": [
       "24"
      ],
      "text/markdown": [
       "24"
      ],
      "text/plain": [
       "[1] 24"
      ]
     },
     "metadata": {},
     "output_type": "display_data"
    },
    {
     "data": {
      "text/html": [
       "1.04869565217391"
      ],
      "text/latex": [
       "1.04869565217391"
      ],
      "text/markdown": [
       "1.04869565217391"
      ],
      "text/plain": [
       "[1] 1.048696"
      ]
     },
     "metadata": {},
     "output_type": "display_data"
    },
    {
     "data": {
      "text/html": [
       "1.04869565217391"
      ],
      "text/latex": [
       "1.04869565217391"
      ],
      "text/markdown": [
       "1.04869565217391"
      ],
      "text/plain": [
       "[1] 1.048696"
      ]
     },
     "metadata": {},
     "output_type": "display_data"
    }
   ],
   "source": [
    "N <- length(y); N\n",
    "SST/(N-1) # same as var(y)\n",
    "var(y)"
   ]
  },
  {
   "cell_type": "markdown",
   "id": "b9806fb4",
   "metadata": {},
   "source": [
    "## Calculate SST"
   ]
  },
  {
   "cell_type": "code",
   "execution_count": 8,
   "id": "400b5ca2",
   "metadata": {},
   "outputs": [
    {
     "data": {
      "text/html": [
       "24.12"
      ],
      "text/latex": [
       "24.12"
      ],
      "text/markdown": [
       "24.12"
      ],
      "text/plain": [
       "[1] 24.12"
      ]
     },
     "metadata": {},
     "output_type": "display_data"
    },
    {
     "data": {
      "text/html": [
       "24"
      ],
      "text/latex": [
       "24"
      ],
      "text/markdown": [
       "24"
      ],
      "text/plain": [
       "[1] 24"
      ]
     },
     "metadata": {},
     "output_type": "display_data"
    },
    {
     "data": {
      "text/html": [
       "23"
      ],
      "text/latex": [
       "23"
      ],
      "text/markdown": [
       "23"
      ],
      "text/plain": [
       "[1] 23"
      ]
     },
     "metadata": {},
     "output_type": "display_data"
    }
   ],
   "source": [
    "SST <- sum( (y-ybar)^2 ); SST\n",
    "N <- length(y); N\n",
    "dfT <- N-1; dfT"
   ]
  },
  {
   "cell_type": "markdown",
   "id": "1da8919d",
   "metadata": {},
   "source": [
    "## Calcualte the SSB"
   ]
  },
  {
   "cell_type": "code",
   "execution_count": 9,
   "id": "800144cb",
   "metadata": {},
   "outputs": [
    {
     "data": {
      "text/html": [
       "8.98333333333333"
      ],
      "text/latex": [
       "8.98333333333333"
      ],
      "text/markdown": [
       "8.98333333333333"
      ],
      "text/plain": [
       "[1] 8.983333"
      ]
     },
     "metadata": {},
     "output_type": "display_data"
    }
   ],
   "source": [
    "means <- aggregate(thiamin~grain, FUN=mean)[,2]\n",
    "k <- 4\n",
    "dfB <- k-1\n",
    "SSB <- sum( 6*(means-ybar)^2 );SSB"
   ]
  },
  {
   "cell_type": "markdown",
   "id": "e9eb932b",
   "metadata": {},
   "source": [
    "## Calculate the SSW"
   ]
  },
  {
   "cell_type": "code",
   "execution_count": 10,
   "id": "1f389b00",
   "metadata": {},
   "outputs": [
    {
     "data": {
      "text/html": [
       "15.1366666666667"
      ],
      "text/latex": [
       "15.1366666666667"
      ],
      "text/markdown": [
       "15.1366666666667"
      ],
      "text/plain": [
       "[1] 15.13667"
      ]
     },
     "metadata": {},
     "output_type": "display_data"
    }
   ],
   "source": [
    "dfW <- N-k\n",
    "SSW <- SST-SSB\n",
    "SSW"
   ]
  },
  {
   "cell_type": "markdown",
   "id": "502194a6",
   "metadata": {},
   "source": [
    "## Calculate SSW using vars"
   ]
  },
  {
   "cell_type": "code",
   "execution_count": 11,
   "id": "f7d821a2",
   "metadata": {},
   "outputs": [
    {
     "data": {
      "text/html": [
       "15.1366666666667"
      ],
      "text/latex": [
       "15.1366666666667"
      ],
      "text/markdown": [
       "15.1366666666667"
      ],
      "text/plain": [
       "[1] 15.13667"
      ]
     },
     "metadata": {},
     "output_type": "display_data"
    }
   ],
   "source": [
    "vars <- aggregate(thiamin~grain, FUN=var)[,2]\n",
    "sum( 5*vars ) # same as SSW"
   ]
  },
  {
   "cell_type": "markdown",
   "id": "b5e4d7a8",
   "metadata": {},
   "source": [
    "<hr style=\"border-top: 5px solid black;\">"
   ]
  },
  {
   "cell_type": "markdown",
   "id": "b1196223",
   "metadata": {},
   "source": [
    "<div id=\"objective4\" class=\"alert alert-block alert-warning\" style=\"font-size:16px; border:1px solid black; padding:10px\"><center><h1><br><font color=\"blue\">ANOVA Table and F-test.</font></h1></center><br>\n",
    "</div>\n",
    "<div style=\"font-size:16px; border:1px solid black; padding:10px\">\n",
    "    <ul><strong><u>The basics</u></strong>\n",
    "        <li>The ANOVA test the null hypothesis that the population means of all of the sampled groups are equal, against the alternative hypothesis that at least one group has a poulation mean different than the others.</li><br>\n",
    "        <li>We need to calculate the mean square deviations from the sum of square deviations\n",
    "            $$\\begin{aligned} s^2 = MST&=\\frac{SST}{df_T}=\\frac{\\sum_{i,j}(y_{i,j}-\\bar y)^2}{N-1}\\\\ MSB&=\\frac{SSB}{df_B}=\\frac{\\sum_in_i(\\bar y_i-\\bar y)^2}{k-1}\\\\ MSW&=\\frac{SSW}{df_W}=\\frac{\\sum_{i,j}(y_{i,j}-\\bar y_i)^2}{N-k} \\end{aligned}$$\n",
    "        </li><br>\n",
    "        <li>The MSW in a balanced design is just the average of all the sample variances: $$\\begin{aligned} MSW&=\\frac{SSW}{df_W}=\\frac{(n-1)s_1^2+(n-1)s_2^2+\\dotsb+(n-1)s_k^2}{N-k}\\\\ &=\\frac{(n-1)s_1^2+(n-1)s_2^2+\\dotsb+(n-1)s_k^2}{n\\cdot k-k}\\\\ &=\\frac{s_1^2+s_2^2+\\dotsb+s_k^2}{k} \\end{aligned}$$</li><br>\n",
    "        <li>The MSW is also the pooled sample variance and is the overall sample $s^2$</li><br>\n",
    "        <li>The MSW is also the best point estimate for the $\\sigma^2$.</li><br>\n",
    "        <li>The F test statistic can then be calculated using the following formula: $$ F=\\frac{MSB}{MSW} $$</li><br>\n",
    "        <li>The critical value for is obtained using the R command <code>qf</code></li><br>        \n",
    "    </ul>\n",
    "</div>"
   ]
  },
  {
   "cell_type": "markdown",
   "id": "17260e92",
   "metadata": {},
   "source": [
    "## Calculate Mean Square Deviations"
   ]
  },
  {
   "cell_type": "code",
   "execution_count": 12,
   "id": "d6144cd2",
   "metadata": {},
   "outputs": [
    {
     "data": {
      "text/html": [
       "0.756833333333333"
      ],
      "text/latex": [
       "0.756833333333333"
      ],
      "text/markdown": [
       "0.756833333333333"
      ],
      "text/plain": [
       "[1] 0.7568333"
      ]
     },
     "metadata": {},
     "output_type": "display_data"
    },
    {
     "data": {
      "text/html": [
       "2.99444444444444"
      ],
      "text/latex": [
       "2.99444444444444"
      ],
      "text/markdown": [
       "2.99444444444444"
      ],
      "text/plain": [
       "[1] 2.994444"
      ]
     },
     "metadata": {},
     "output_type": "display_data"
    }
   ],
   "source": [
    "MSW <- SSW / dfW; MSW\n",
    "MSB <- SSB / dfB; MSB"
   ]
  },
  {
   "cell_type": "markdown",
   "id": "d43803f6",
   "metadata": {},
   "source": [
    "## Calculate the F.statistic"
   ]
  },
  {
   "cell_type": "code",
   "execution_count": 13,
   "id": "fb5c940f",
   "metadata": {},
   "outputs": [
    {
     "data": {
      "text/html": [
       "3.95654407986493"
      ],
      "text/latex": [
       "3.95654407986493"
      ],
      "text/markdown": [
       "3.95654407986493"
      ],
      "text/plain": [
       "[1] 3.956544"
      ]
     },
     "metadata": {},
     "output_type": "display_data"
    }
   ],
   "source": [
    "f.stat <- MSB/MSW; f.stat"
   ]
  },
  {
   "cell_type": "markdown",
   "id": "3f459449",
   "metadata": {},
   "source": [
    "## Determine if this is significance at $\\alpha = 0.05$"
   ]
  },
  {
   "cell_type": "code",
   "execution_count": 14,
   "id": "7075dd20",
   "metadata": {},
   "outputs": [
    {
     "data": {
      "text/html": [
       "3.09839121214078"
      ],
      "text/latex": [
       "3.09839121214078"
      ],
      "text/markdown": [
       "3.09839121214078"
      ],
      "text/plain": [
       "[1] 3.098391"
      ]
     },
     "metadata": {},
     "output_type": "display_data"
    }
   ],
   "source": [
    " f.crit <- qf(0.05, dfB, dfW, lower.tail=FALSE); f.crit"
   ]
  },
  {
   "cell_type": "code",
   "execution_count": 15,
   "id": "b992e5b4",
   "metadata": {},
   "outputs": [
    {
     "data": {
      "text/html": [
       "0.0229342124924422"
      ],
      "text/latex": [
       "0.0229342124924422"
      ],
      "text/markdown": [
       "0.0229342124924422"
      ],
      "text/plain": [
       "[1] 0.02293421"
      ]
     },
     "metadata": {},
     "output_type": "display_data"
    }
   ],
   "source": [
    "pf(f.stat, dfB, dfW, lower.tail=FALSE)"
   ]
  },
  {
   "cell_type": "markdown",
   "id": "1801a341",
   "metadata": {},
   "source": [
    "## Reject $H_0$"
   ]
  },
  {
   "cell_type": "markdown",
   "id": "377beb98",
   "metadata": {},
   "source": [
    "<hr style=\"border-top: 5px solid black;\">"
   ]
  }
 ],
 "metadata": {
  "kernelspec": {
   "display_name": "R",
   "language": "R",
   "name": "ir"
  },
  "language_info": {
   "codemirror_mode": "r",
   "file_extension": ".r",
   "mimetype": "text/x-r-source",
   "name": "R",
   "pygments_lexer": "r",
   "version": "4.1.1"
  }
 },
 "nbformat": 4,
 "nbformat_minor": 5
}

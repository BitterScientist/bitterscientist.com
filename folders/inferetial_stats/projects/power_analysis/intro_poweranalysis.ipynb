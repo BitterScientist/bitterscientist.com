{
 "cells": [
  {
   "cell_type": "code",
   "execution_count": 1,
   "id": "56274ba8",
   "metadata": {},
   "outputs": [
    {
     "data": {
      "application/javascript": [
       "IPython.OutputArea.prototype._should_scroll = function(lines) {\n",
       "    return false;\n",
       "}\n"
      ],
      "text/plain": [
       "<IPython.core.display.Javascript object>"
      ]
     },
     "metadata": {},
     "output_type": "display_data"
    }
   ],
   "source": [
    "%%javascript\n",
    "IPython.OutputArea.prototype._should_scroll = function(lines) {\n",
    "    return false;\n",
    "}"
   ]
  },
  {
   "cell_type": "markdown",
   "id": "59fca12b",
   "metadata": {},
   "source": [
    "<hr style=\"border-top: 5px solid black;\">"
   ]
  },
  {
   "cell_type": "markdown",
   "id": "6a18ebb2",
   "metadata": {},
   "source": [
    "<div class=\"alert alert-block alert-info\" style=\"font-size:20px; border:1px solid black; padding:10px\">\n",
    "<center><h1>Post Goals:</h1></center>\n",
    "    <hr style=\"border-top: 2px dashed black;\">\n",
    "    <ol>\n",
    "        <li>Provide an introduction to power analysis.</li><br>\n",
    "        <li>Demonstrate how to perform a power analysis for a T-Test for two Independent Groups using Python.</li><br>\n",
    "    </ol>\n",
    "</div>"
   ]
  },
  {
   "cell_type": "markdown",
   "id": "659714f9",
   "metadata": {},
   "source": [
    "<hr style=\"border-top: 5px solid black;\">"
   ]
  },
  {
   "cell_type": "markdown",
   "id": "32d2f204",
   "metadata": {},
   "source": [
    "<div style=\"font-size:16px; border:1px solid black; padding:10px\">\n",
    "<center><h1><br><font color=\"blue\">Post Overview.</font></h1></center>\n",
    "    <ol>\n",
    "        <li><a href=\"#objective1\">Introduction to power analysis.</a></li><br>\n",
    "        <li><a href=\"#objective2\">Introduction to power analysis.</a></li><br>\n",
    "        <li><a href=\"#objective3\">Demonstrate how to perform a power analysis on a T-test for two independent samples using Python.</a></li><br>\n",
    "        <li><a href=\"#objective4\">Python code explained.</a></li><br>\n",
    "        <li><a href=\"#objective5\">Special considerations.</a></li><br>\n",
    "<!--         <li><a href=\"#objective6\">.</a></li><br> -->\n",
    "    </ol>\n",
    "</div>"
   ]
  },
  {
   "cell_type": "markdown",
   "id": "3257e00b",
   "metadata": {},
   "source": [
    "<hr style=\"border-top: 5px solid black;\">"
   ]
  },
  {
   "cell_type": "markdown",
   "id": "945a4290",
   "metadata": {},
   "source": [
    "<div id=\"objective1\" class=\"alert alert-block alert-warning\" style=\"font-size:16px; border:1px solid black; padding:10px\"><center><h1><br><font color=\"blue\">Introduction to Power Analysis.</font></h1></center><br>\n",
    "</div>\n",
    "<div style=\"font-size:16px; border:1px solid black; padding:10px\">\n",
    "    <ul><strong><u>Motivation</u></strong>\n",
    "        <li>During a study design, one of the key questions is <em>\"what is the optimal sample size needed to state statistical significance?\"</em></li><br>        \n",
    "        <li>An adequate sample size is essential to draw confident conclusions from the analysis.</li><br> \n",
    "        <li>One common used method to determine the sample size is using a <strong>power analysis</strong>.</li><br> \n",
    "        <li>A <strong>Power analysis</strong> is a method used to estimate the sample size needed to capture a specific effect at the desired significance level, and statistical power.</li><br>\n",
    "        <li><strong>Power analysis</strong> depends on four related variables:\n",
    "            <ul>\n",
    "                <li><strong><u>Effect size</u>:</strong> is the quantitative measure of the strength of a phenomenon and emphasizes the difference or relationship.</li><br>\n",
    "                <li><strong><u>Sample size</u>:</strong> is the total number of instances in the study.</li><br>\n",
    "                <li><strong><u>Level of Significance \\(\\alpha \\)</u>:</strong> is the probability of rejecting the null hypothesis when the null hypothesis is true.</li><br>\n",
    "                <li><strong><u>Statistical Power</u>:</strong> is the probability of rejecting the null hypothesis when it is false.</li><br>\n",
    "            </ul></li><br>\n",
    "    </ul>\n",
    "    <hr style=\"border-top: 2px dashed black;\">\n",
    "    <ul><strong><u>Reasons to perform a power analysis</u></strong>\n",
    "        <li>To determine the number of trials or samples needed to get an effect of a certain size. This will help avoid incorrectly rejecting the null hypothesis.</li><br>\n",
    "        <li>To find the power of a given effect ans sample size.  This is useful when there are budget constraints and you want to determine the if a specific size is enough to detect an effect.</li><br>\n",
    "        <li>To validate your research.</li><br>\n",
    "    </ul>\n",
    "    <hr style=\"border-top: 2px dashed black;\">\n",
    "    <ul><strong><u>Example Case</u></strong>\n",
    "        <li>An exercise scientist wants to compare two different diets A and B on muscle growth.  The scientist hypothesizes that diet A (group 1) will be better than diet B (Group 2) in muscle growth.</li><br>\n",
    "        <li>The scientist wants to recruit a random sample of weight trainers and assign them to either of the two diets.</li><br>\n",
    "        <li>At the end of the 12 week experiment, the muscle mass will be measured by MRI scan.</li><br>\n",
    "        <li>The scientist expects the average difference in muscle mass measured between the two groups to be around 10 mm, and a standard deviation of muscle mass distribution for diet A to be 15 mm and 20 mm for diet B. </li><br>\n",
    "        <li>The scientist now wants to know how many subjects are needed in each group (assuming equal sized groups).</li><br>\n",
    "        <li>In this example, the power analysis will be specific for a t-test for two independent groups with common variance.</li><br>\n",
    "        <li>The power analysis formula used will depend on the statistical model.</li><br>\n",
    "        <li>The following section will define the variables used in a power analysis, and provide examples.</li><br>\n",
    "    </ul>\n",
    "    <hr style=\"border-top: 2px dashed black;\">\n",
    "    <ul><strong><u>Effect Size</u>:</strong> is the quantitative measure of the strength of a phenomenon and emphasizes the difference or relationship.\n",
    "        <li>\n",
    "            <ul><strong><u>Model Specific Examples</u></strong>\n",
    "                <li>The correlation between two variables \\(r^{2}\\)</li>\n",
    "                <li>The regression coefficient in a regression (\\(B_{0},\\ B_{2},\\ B_{3}\\))</li>\n",
    "                <li>The mean difference in t tests (Cohen's D)</li>\n",
    "                <li>The mean difference in ANOVA (use \\(\\eta\\))</li>\n",
    "            </ul>\n",
    "        </li>\n",
    "    </ul>\n",
    "    <ul><strong><u>Sample Size</u></strong>\n",
    "        <li>is the number of instances in a subset taken from a population, and is used to learn more about the population.</li>\n",
    "    </ul>\n",
    "    <ul><strong><u>Level of Significance \\(\\alpha\\)</u></strong>\n",
    "        <li>is a measure of the strength of the evidence that must be present in the sample before you can reject the null hypothesis and decide if the effect you observe is statistically significant.</li>\n",
    "        <li>The level of significance is the probability of rejecting the null hypothesis when it is true.</li>\n",
    "        <li>Common level of significance are 0.05 and 0.01.  An alpha of 0.05 indicates a 5% risk of stating a difference exists when in fact, there is no difference.</li>\n",
    "    </ul>\n",
    "    <ul><strong><u>Statistical Power</u></strong>\n",
    "        <li>is the probability that the test correctly rejects the null hypothesis.</li><br>\n",
    "    </ul>    \n",
    "</div>"
   ]
  },
  {
   "cell_type": "markdown",
   "id": "76329918",
   "metadata": {},
   "source": [
    "<hr style=\"border-top: 5px solid black;\">"
   ]
  },
  {
   "cell_type": "markdown",
   "id": "57f9c8f8",
   "metadata": {},
   "source": [
    "<div id=\"objective2\" class=\"alert alert-block alert-warning\" style=\"font-size:16px; border:1px solid black; padding:10px\"><center><h1><br><font color=\"blue\">Mathematic Intuition for T-test two independent sample Power Analysis</font></h1></center><br>\n",
    "</div>\n",
    "<div style=\"font-size:16px; border:1px solid black; padding:10px\">\n",
    "    <ul><strong><u>Two-test for independent samples</u></strong>\n",
    "        <li>A statistical test that compares the means of a continuous outcome variable between two independent groups.</li><br>\n",
    "        <li>This is a parametric test and the data needs to follow a normal distribution.</li><br>\n",
    "        <li>The null hypothesis \\(H_{0}: \\mu_{1} - \\mu_{2} \\)</li><br>\n",
    "        <li>Where \\(\\mu_{1}\\) and \\(\\mu_{2}\\) are the means of the two independent groups.</li><br>\n",
    "        <li>The formula for determining the sample sizes that ensures the test has a specific power is:\n",
    "            \\[sample\\ size = n_{i}= 2(\\frac{Z_{1-\\frac{\\alpha}{2}} + Z_{1-\\beta}}{|\\frac{\\mu_{1} = \\mu_{2}}{\\sigma}|})^{2} \\]\n",
    "            <ul style=\"list-style: none;\">\n",
    "                <li>where \\(n_{i}\\) is the sample size required in each group (i=1,2)</li>\n",
    "                <li> \\(\\alpha\\) is the selected level of significance</li>\n",
    "                <li>\\(Z_{1-\\frac{\\alpha}{2}}\\) is the value from the standard normal distribution holding 1 - \\(\\frac{\\alpha}{2}\\) below it.</li>\n",
    "                <li>1-\\(\\beta\\) is the selected power and \\(Z_{1-\\beta}\\) is the value from the normal distribution holding 1 - \\(\\beta \\) below it.</li>\n",
    "            </ul>\n",
    "        </li><br>\n",
    "        <li>The effect size is defined as \\(ES =|\\frac{\\mu_{1} = \\mu_{2}}{\\sigma}|^{2} \\)</li><br>\n",
    "        <ul style=\"list-style: none;\">\n",
    "                <li>where \\(|\\frac{\\mu_{1} = \\mu_{2}}{\\sigma}|^{2} \\) is the absolute value of the difference in the means between the two groups expected under the alternative hypothesis \\(H_{a} \\)</li>\n",
    "                <li>\\(\\sigma\\) is the standard deviation of the outcome of interest</li>\n",
    "            </ul>\n",
    "        <li>Since we are performing a test of hypothesis comparing the means of two independent groups, we will use the pooled estimate \\(S_{p}\\)\n",
    "         \\[S_{p} = \\sqrt{\\frac{(n_{1}-1)S_{1}^{2} + (n_{2}-1)S_{2}^{2}}{(n_{1}+n_{2}-2)}} \\]\n",
    "        </li><br>\n",
    "        <li>Note: the formula above generates sample size estimates for samples of equal size</li><br>\n",
    "    </ul>\n",
    "</div>"
   ]
  },
  {
   "cell_type": "markdown",
   "id": "aa61da9a",
   "metadata": {},
   "source": [
    "<hr style=\"border-top: 5px solid black;\">"
   ]
  },
  {
   "cell_type": "markdown",
   "id": "b3d962ae",
   "metadata": {},
   "source": [
    "<div id=\"objective3\" class=\"alert alert-block alert-warning\" style=\"font-size:16px; border:1px solid black; padding:10px\"><center><h1><br><font color=\"blue\">Demonstrate how to perform a power analysis on a T-test for two independent samples using Python.</font></h1></center><br>\n",
    "</div>\n",
    "<div style=\"font-size:16px; border:1px solid black; padding:10px\">\n",
    "    <ul><strong><u></u></strong>\n",
    "        <li>Import dependencies.</li><br>        \n",
    "        <li>Assign variables with their estimated values.</li><br>\n",
    "        <li>Instantiate the power module.</li><br>        \n",
    "        <li>Calculate estimated sample size by applying data to model.</li><br>        \n",
    "        <li>Visualize the various effect sizes using model.</li><br> \n",
    "    </ul>\n",
    "</div>"
   ]
  },
  {
   "cell_type": "code",
   "execution_count": 2,
   "id": "7fd684dd",
   "metadata": {},
   "outputs": [],
   "source": [
    "import numpy as np\n",
    "from statsmodels.stats.power import TTestIndPower\n",
    "import matplotlib.pyplot as plt"
   ]
  },
  {
   "cell_type": "code",
   "execution_count": 3,
   "id": "54849101",
   "metadata": {},
   "outputs": [],
   "source": [
    "# Variables\n",
    "effect_size = 0.9\n",
    "alpha_signifiance = 0.05\n",
    "power = 0.9"
   ]
  },
  {
   "cell_type": "code",
   "execution_count": 4,
   "id": "0e2650d9",
   "metadata": {},
   "outputs": [
    {
     "name": "stdout",
     "output_type": "stream",
     "text": [
      "sample size: 27.0\n"
     ]
    }
   ],
   "source": [
    "power_obj = TTestIndPower()\n",
    "sample_size = np.ceil(power_obj.solve_power(effect_size=effect_size, alpha=alpha_signifiance, power = power))\n",
    "print(f\"sample size: {sample_size}\")"
   ]
  },
  {
   "cell_type": "code",
   "execution_count": 5,
   "id": "35c0493f",
   "metadata": {},
   "outputs": [
    {
     "data": {
      "image/png": "[encoded data removed]",
      "text/plain": [
       "<Figure size 432x288 with 1 Axes>"
      ]
     },
     "metadata": {
      "needs_background": "light"
     },
     "output_type": "display_data"
    }
   ],
   "source": [
    "power_obj.plot_power(nobs=np.arange(10,100), effect_size=[0.2, 0.5, 0.8], alpha=0.05)\n",
    "plt.show()"
   ]
  },
  {
   "cell_type": "markdown",
   "id": "4bf6015f",
   "metadata": {},
   "source": [
    "<hr style=\"border-top: 5px solid black;\">"
   ]
  },
  {
   "cell_type": "markdown",
   "id": "d4a445c2",
   "metadata": {},
   "source": [
    "<div id=\"objective4\" class=\"alert alert-block alert-warning\" style=\"font-size:16px; border:1px solid black; padding:10px\"><center><h1><br><font color=\"blue\">Python code explained.</font></h1></center><br>\n",
    "</div>\n",
    "<div style=\"font-size:16px; border:1px solid black; padding:10px\">\n",
    "    <ul><strong><u>Dependencies</u></strong>\n",
    "        <li><code>import <a href=\"https://numpy.org/\">numpy</a> as np</code> is a fundamental package for scientific computer used in python.</li><br>        \n",
    "        <li><code><a href=\"https://www.statsmodels.org/stable/stats.html?highlight=power#module-statsmodels.stats.power\">statsmodels.stats.power</a></code>  is a power module that implements power and sample size calculations for t-test, normal based tests, F-tests and Chisquare goodness of fit test.</li><br> \n",
    "        <li><code>TTestIndPower</code> is the Statistical Power calculations for t-test for two independent sample.</li><br>\n",
    "        <li><code>import <a href=\"https://matplotlib.org/\">matplotlib</a>.pyplot as plt</code> is a comprehensive library for creating static, animated, and interactive visualizations in Python.</li><br>        \n",
    "    </ul>\n",
    "    <ul><strong><u>Variable Assignment</u></strong>\n",
    "        <li>There are three variables we need in this example\n",
    "            <ol>\n",
    "                <li><strong>Effect Size</strong>: <em>is the quantified magnitude of a result present in the population.</em> In this example we want to see an effect size of 0.90 (90%).</li>\n",
    "                <li><strong>Level of significance \\(\\alpha\\)</strong>: <em>is the the probability of rejecting the null hypothesis when it is true</em>.  in this example we set this to 0.05 (5%).</li>\n",
    "                <li><strong>Power \\(\\alpha\\)</strong>: <em>is the the probability of defecting an effect, given that the there exist a true effect.</em>.  in this example we set this to 0.9 (90%).</li>\n",
    "            </ol>\n",
    "        </li><br>        \n",
    "    </ul>\n",
    "    <ul><strong><u>Instantiate the Model</u></strong>\n",
    "        <li><code>power_obj = TTestIndPower()</code>instantiate the T-test for independent samples, and saves to the variable <code>power_obj</code>.</li><br>        \n",
    "        <li><code>sample_size = np.ceil(power_obj.<a href=\"https://www.statsmodels.org/stable/generated/statsmodels.stats.power.TTestPower.solve_power.html\">solve_power</a>(effect_size=effect_size, alpha=alpha_signifiance, power = power))</code>: solves the parameter of the power of a one sample t-test.\n",
    "        <ul><strong>Parameters:</strong>\n",
    "                <li><strong><code>effect_size</code> float:</strong> standardized effect size, mean divided by the standard deviation. effect size has to be positive.</li>\n",
    "                <li><strong><code>alpha</code> float or interval (0,1):</strong> significance level, e.g. 0.05, is the probability of a type I error, that is wrong rejections if the Null Hypothesis is true.</li>\n",
    "                <li><strong><code>power</code> float or interval (0,1):</strong> power of the test, e.g. 0.8, is one minus the probability of a type II error. Power is the probability that the test correctly rejects the Null Hypothesis if the Alternative Hypothesis is true.</li>\n",
    "                <li><strong><code>alternative</code> str ('two-sided' default or 'one-sided'):</strong> power of the test, e.g. 0.8, is one minus the probability of a type II error. Power is the probability that the test correctly rejects the Null Hypothesis if the Alternative Hypothesis is true.</li>              \n",
    "            </ul><br>\n",
    "        </li><br> \n",
    "        <li><code>np.<a href=\"https://numpy.org/doc/stable/reference/generated/numpy.ceil.html\">ceil()</a></code>, returns the ceiling of the input element-wise. In this example, it rounded our sample size to a floating int. Sample must be a discrete number. The results were saved to the variable <code>sample_size</code>.</li><br>\n",
    "    </ul>\n",
    "    <ul><strong><u>Plot power curves</u></strong>\n",
    "        <li>This step is intended to demonstrate how varying the effect and sample size changes the power of the experiment.</li><br>        \n",
    "        <li><code><a href=\"https://www.statsmodels.org/stable/generated/statsmodels.stats.power.TTestPower.plot_power.html\">plot_power()</a></code> This step uses the plot_power method that plots the power with a number of observations or effect sizes on the a-axis.\n",
    "        <ul><strong>Parameters:</strong>\n",
    "                <li><strong><code>dep_var</code> {‘nobs’, ‘effect_size’, ‘alpha’}:</strong> This specifies which variable is used for the horizontal axis. If dep_var=’nobs’ (default), then one curve is created for each value of effect_size. If dep_var=’effect_size’ or alpha, then one curve is created for each value of nobs.</li>\n",
    "                <li><strong><code>nobs</code> {scalar, array_like}:</strong> specifies the values of the number of observations in the plot. In this example we went from 10 to 100</li>\n",
    "                <li><strong><code>alpha</code> {float, array_like}:</strong> The significance level (type I error) used in the power calculation. Can only be more than a scalar, if dep_var='alpha'.</li>            \n",
    "            </ul><br>\n",
    "        </li><br> \n",
    "        <li>The plot_power method returns a figure.</li><br>\n",
    "    </ul>     \n",
    "</div>"
   ]
  },
  {
   "cell_type": "markdown",
   "id": "ab558eab",
   "metadata": {},
   "source": [
    "<hr style=\"border-top: 5px solid black;\">"
   ]
  },
  {
   "cell_type": "markdown",
   "id": "b8e63310",
   "metadata": {},
   "source": [
    "<div id=\"objective5\" class=\"alert alert-block alert-warning\" style=\"font-size:16px; border:1px solid black; padding:10px\"><center><h1><br><font color=\"blue\">Special considerations.</font></h1></center><br>\n",
    "</div>\n",
    "<div style=\"font-size:16px; border:1px solid black; padding:10px\">\n",
    "    <ul>\n",
    "        <li>The test used assumes normality.</li><br>        \n",
    "        <li>If the distribution is skewed and the sample size is small, then you may not be able to calculate the power.</li><br> \n",
    "        <li>Calculating the sample size using a power analysis requires several assumptions about the model be made.</li><br>\n",
    "        <li>The formula used to calculate power also depends on the statistical model, the one used in this example is for t-test for two independent samples.</li><br>        \n",
    "        <li>The larger the effect size, the higher the power for a given sample size.</li><br>        \n",
    "        <li>The larger the effect size, the smaller the sample size needed to achieve a given level of power.</li><br> \n",
    "        <li>an accurate estimate of effect size is key to a good power analysis.</li><br>\n",
    "        <li>Good estimates of effect size often come from the existing literature or pilot studies.</li>\n",
    "    </ul>\n",
    "</div>"
   ]
  },
  {
   "cell_type": "markdown",
   "id": "ded13881",
   "metadata": {},
   "source": [
    "<hr style=\"border-top: 5px solid black;\">"
   ]
  }
 ],
 "metadata": {
  "kernelspec": {
   "display_name": "Python 3 (ipykernel)",
   "language": "python",
   "name": "python3"
  },
  "language_info": {
   "codemirror_mode": {
    "name": "ipython",
    "version": 3
   },
   "file_extension": ".py",
   "mimetype": "text/x-python",
   "name": "python",
   "nbconvert_exporter": "python",
   "pygments_lexer": "ipython3",
   "version": "3.9.5"
  }
 },
 "nbformat": 4,
 "nbformat_minor": 5
}

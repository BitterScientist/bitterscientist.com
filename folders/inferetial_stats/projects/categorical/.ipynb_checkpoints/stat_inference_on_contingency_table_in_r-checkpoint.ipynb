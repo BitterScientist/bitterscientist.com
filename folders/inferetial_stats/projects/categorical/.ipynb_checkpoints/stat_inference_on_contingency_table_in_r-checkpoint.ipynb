{
 "cells": [
  {
   "cell_type": "markdown",
   "metadata": {},
   "source": [
    "<hr style=\"border-top: 5px solid black;\">"
   ]
  },
  {
   "cell_type": "markdown",
   "metadata": {},
   "source": [
    "<div class=\"alert alert-block alert-info\" style=\"font-size:16px; border:1px solid black; padding:10px\">\n",
    "<center><h1><br><font color=\"blue\">Inference on Contingency Table.</font></h1></center>\n",
    "    <ol>\n",
    "        <li><a href=\"#objective1\">Introduction to Contingency Tables and the test for homogeneity of population proportions</a></li><br>\n",
    "        <li><a href=\"#objective2\">Test for Independence Between Two Categorical Variables.</a></li><br>\n",
    "        <li><a href=\"#objective3\">Pearson’s χ2 Test on a Two-Dimensional Contingency Table.</a></li><br>\n",
    "        <li><a href=\"#objective4\">Fisher's Exact Test.</a></li><br>\n",
    "    </ol>\n",
    "</div>"
   ]
  },
  {
   "cell_type": "markdown",
   "metadata": {},
   "source": [
    "<hr style=\"border-top: 5px solid black;\">"
   ]
  },
  {
   "cell_type": "markdown",
   "metadata": {},
   "source": [
    "<div id=\"objective1\" class=\"alert alert-block alert-warning\" style=\"font-size:16px; border:1px solid black; padding:10px\"><center><h1><br><font color=\"blue\">Introduction to Contingency Tables and the test for homogeneity of population proportions.</font></h1></center><br>\n",
    "</div>\n",
    "<div style=\"font-size:16px; border:1px solid black; padding:10px\">\n",
    "    <ul><strong><u>The Basics:</u></strong>\n",
    "        <li>A contingency table is a join summary table of two categorical variables and the observed frequencies for each combination of level from the data sampled.</li><br>\n",
    "        <ul>\n",
    "<hr style=\"border-bottom: 2px solid black;\">      \n",
    "        </ul><strong><u>Test for Homogeneity of Population Proportions:</u></strong>\n",
    "        <li>The inference on contingency table is an analogue of a one-way ANOVA procedure with the exception that the response variables are not numeric, but categorical with $k$ levels.</li><br>\n",
    "        <li>An example includes individuals trying to lose weight and we have two levels, male and female, and in each level, we have strategies that individuals in those subgroups use to lose weight: phamaceutical, exercise, diet, pray, diet + exercise, diet + exercise + phamaceutical intervention.  The $k$ for weight loss strategy would be $k=6$</li><br>\n",
    "        <li>The null hypothesis in this example would be: each k level population of the response variable will have the same proportion (the weight loss strategie have equal proportion of people using them as a weight intervention.</li><br>\n",
    "        <li>The alternative hypothesis in this example would be: there exist some differnce in the population proportions between at least two of the groups (Not all of the strategies have the same proportion of individuals using them, there exist a differnce in at least two of the strategies).</li><br>        \n",
    "        <li>The hypothesis for the example above could be generalized as $$\\begin{aligned} &H_0\\colon p_{1j}=p_{2j}=\\dotsb=p_{rj}\\text{ for }j=1,2,\\dotsc,k\\\\ \\text{against }&H_a\\colon p_{i_1j}\\ne p_{i_2j}\\text{ for some populations $i_1$ and $i_2$ and some level $j$}\\end{aligned}$$.</li><br>\n",
    "        <li>The contingency table organizes the observed frequencies for each of these categories among the $r$ populations.</li><br>\n",
    "        <li>$r$ refers to the population groups (male or female in example above)</li><br>\n",
    "        <li>$k$ is the number of levels in the in the response variable (weight loss category), which would be 6 in this example.</li><br>\n",
    "        <li>The expected frequencies for each level is calculated.</li><br>        \n",
    "        <li>The test statistic for this hypothesis test is the  $$x^2=\\sum_{i,j}\\frac{(O_{ij}-E_{ij})^2}{E_{ij}}$$</li><br>\n",
    "    </ul>\n",
    "</div>"
   ]
  },
  {
   "cell_type": "markdown",
   "metadata": {},
   "source": [
    "<hr style=\"border-top: 5px solid black;\">"
   ]
  },
  {
   "cell_type": "markdown",
   "metadata": {},
   "source": [
    "<div id=\"objective2\" class=\"alert alert-block alert-warning\" style=\"font-size:16px; border:1px solid black; padding:10px\"><center><h1><br><font color=\"blue\">Test for Independence Between Two Categorical Variables.</font></h1></center><br>\n",
    "</div>\n",
    "<div style=\"font-size:16px; border:1px solid black; padding:10px\">\n",
    "    <ul><strong><u>The Basics:</u></strong>\n",
    "        <li>Another contingency based inference test is the Pearson’s $\\chi^2$ test for independence.</li><br>\n",
    "        <li>This test is similar to the test for homogeneity of population proportion, although this method doesn't \"splitting\" up the larger $r$ population, instead we are sampling from the single population and observing variables.</li><br>\n",
    "        <li>An example would be that the pouplation is all the adults  incarcerated in the US and we observe two variables, violent or non violent criminals, and level of education (no elementary, elementary, middle, high school, high school not graduate, undergrad, graduate, post graduate).</li><br>\n",
    "        <li>The hypothesis can be teted to determine if the variables are independent or not using this general form $$\\begin{aligned} &H_0\\colon\\text{Two variables are independent}\\\\ \\text{against }&H_a\\colon\\text{Two variables are dependent}\\end{aligned}$$</li><br>\n",
    "        <li>In the example discussed in this section, if the variables were independent, then the level of education of the inmate would not be associated with the type of criminal (violent or non violent).  If they were dependent, then perhaps less education is associated with violent crimes while more education with non violent crimes.</li><br>     \n",
    "    </ul>\n",
    "</div>\n",
    "</div>"
   ]
  },
  {
   "cell_type": "markdown",
   "metadata": {},
   "source": [
    "<hr style=\"border-top: 5px solid black;\">"
   ]
  },
  {
   "cell_type": "markdown",
   "metadata": {},
   "source": [
    "<div id=\"objective3\" class=\"alert alert-block alert-warning\" style=\"font-size:16px; border:1px solid black; padding:10px\"><center><h1><br><font color=\"blue\">Pearson’s χ2 Test on a Two-Dimensional Contingency Table.</font></h1></center><br>\n",
    "</div>\n",
    "<div style=\"font-size:16px; border:1px solid black; padding:10px\">\n",
    "    <ul><strong><u>The Basics:</u></strong>\n",
    "        <li>The test statistic for a contingency tbale that contains two categorical variables with $r$ (rows) levels and $c$ (column) levels.</li><br>\n",
    "        <li>The general formula is $$\\begin{aligned} &H_0\\colon\\text{Two variables are independent}\\\\ \\text{against }&H_a\\colon\\text{Two variables are dependent}\\end{aligned}$$</li><br>\n",
    "        <li>$O_{ij}$ is the observed frequency for each row, column combination.</li><br>\n",
    "        <li>$E_{ij}$ is the expected frequency for each row, column combination.</li><br>\n",
    "        <li><strong>Degrees of Freedom:</strong> is (𝑟−1)(𝑐−1)</li><br>\n",
    "        <li>These are upper-tailed test and the p-value for the $\\chi^2$ test is the area to the right of the observed test statistic at the corresponding degrees of freedom.</li><br>\n",
    "        <li>The Pearson $\\chi^2$ test in R is performed using the <code>chisq.test(CONT.TABLE)</code> function if using a table object.</li><br>\n",
    "        <li>The Pearson $\\chi^2$ test in R is performed using the <code>chisq.test(CATVAR1, CATVAR2)</code> function if using raw data.</li><br>\n",
    "        <li>The example below will demonstrate how to use this function using a hypothetical data.</li><br>\n",
    "    </ul>       \n",
    "</div>"
   ]
  },
  {
   "cell_type": "markdown",
   "metadata": {},
   "source": [
    "# Example - comparing education level and violent or non violent prison offenders\n",
    "\n",
    " - Vectors corredpond to education level (college degree, high school degree, no high school degree)\n",
    " - This example will demonstrate that we have a pvalue less than 0.05 level of significance and we can reject the null hypothesis of independent between variable, although it does not tell us what kind of relationship exists. "
   ]
  },
  {
   "cell_type": "code",
   "execution_count": 1,
   "metadata": {},
   "outputs": [
    {
     "data": {
      "text/html": [
       "<table class=\"dataframe\">\n",
       "<caption>A matrix: 2 × 3 of type dbl</caption>\n",
       "<thead>\n",
       "\t<tr><th></th><th scope=col>College</th><th scope=col>High school</th><th scope=col>Below High School</th></tr>\n",
       "</thead>\n",
       "<tbody>\n",
       "\t<tr><th scope=row>violent_offenders</th><td>  71</td><td> 154</td><td> 398</td></tr>\n",
       "\t<tr><th scope=row>non_violent_offenders</th><td>4992</td><td>2808</td><td>2737</td></tr>\n",
       "</tbody>\n",
       "</table>\n"
      ],
      "text/latex": [
       "A matrix: 2 × 3 of type dbl\n",
       "\\begin{tabular}{r|lll}\n",
       "  & College & High school & Below High School\\\\\n",
       "\\hline\n",
       "\tviolent\\_offenders &   71 &  154 &  398\\\\\n",
       "\tnon\\_violent\\_offenders & 4992 & 2808 & 2737\\\\\n",
       "\\end{tabular}\n"
      ],
      "text/markdown": [
       "\n",
       "A matrix: 2 × 3 of type dbl\n",
       "\n",
       "| <!--/--> | College | High school | Below High School |\n",
       "|---|---|---|---|\n",
       "| violent_offenders |   71 |  154 |  398 |\n",
       "| non_violent_offenders | 4992 | 2808 | 2737 |\n",
       "\n"
      ],
      "text/plain": [
       "                      College High school Below High School\n",
       "violent_offenders       71     154         398             \n",
       "non_violent_offenders 4992    2808        2737             "
      ]
     },
     "metadata": {},
     "output_type": "display_data"
    }
   ],
   "source": [
    "violent_offenders <- c(71, 154, 398)\n",
    "non_violent_offenders <- c(4992, 2808, 2737)\n",
    "\n",
    "# bind vectors into table\n",
    "offender.tab <- rbind(violent_offenders, non_violent_offenders)\n",
    "colnames(offender.tab) <- c(\"College\", \"High school\", \"Below High School\")\n",
    "offender.tab"
   ]
  },
  {
   "cell_type": "code",
   "execution_count": 2,
   "metadata": {},
   "outputs": [
    {
     "data": {
      "text/plain": [
       "\n",
       "\tPearson's Chi-squared test\n",
       "\n",
       "data:  offender.tab\n",
       "X-squared = 469.59, df = 2, p-value < 2.2e-16\n"
      ]
     },
     "metadata": {},
     "output_type": "display_data"
    }
   ],
   "source": [
    "# Perform test on table\n",
    "chisq.test(offender.tab)"
   ]
  },
  {
   "cell_type": "markdown",
   "metadata": {},
   "source": [
    "<hr style=\"border-top: 5px solid black;\">"
   ]
  },
  {
   "cell_type": "markdown",
   "metadata": {},
   "source": [
    "<div id=\"objective4\" class=\"alert alert-block alert-warning\" style=\"font-size:16px; border:1px solid black; padding:10px\"><center><h1><br><font color=\"blue\">Fisher's Exact Test.</font></h1></center><br>\n",
    "</div>\n",
    "<div style=\"font-size:16px; border:1px solid black; padding:10px\">\n",
    "    <ul><strong><u>The Basics:</u></strong>\n",
    "        <li>This test is used when the cell frequencies are less than 5.</li><br>\n",
    "        <li>This method is computationally intensive so this method should only be performed if the cell frequencies are small.</li><br>\n",
    "        <li>In R, the function is the <code>fisher.test(cat1, cat2)</code></li><br>\n",
    "        <li>The example below will demonstrate how to perform this procedure using a hypothethical dataset from the R MASS pacakge of survey data with two categories, fold (which is what hand an individuals uses to fold their hand) and clap (is the hand an individual places on top when they are asked to clap)</li><br>\n",
    "    </ul>      \n",
    "</div>"
   ]
  },
  {
   "cell_type": "markdown",
   "metadata": {},
   "source": [
    "# Load MASS data"
   ]
  },
  {
   "cell_type": "code",
   "execution_count": 3,
   "metadata": {},
   "outputs": [
    {
     "name": "stdout",
     "output_type": "stream",
     "text": [
      "'data.frame':\t237 obs. of  12 variables:\n",
      " $ Sex   : Factor w/ 2 levels \"Female\",\"Male\": 1 2 2 2 2 1 2 1 2 2 ...\n",
      " $ Wr.Hnd: num  18.5 19.5 18 18.8 20 18 17.7 17 20 18.5 ...\n",
      " $ NW.Hnd: num  18 20.5 13.3 18.9 20 17.7 17.7 17.3 19.5 18.5 ...\n",
      " $ W.Hnd : Factor w/ 2 levels \"Left\",\"Right\": 2 1 2 2 2 2 2 2 2 2 ...\n",
      " $ Fold  : Factor w/ 3 levels \"L on R\",\"Neither\",..: 3 3 1 3 2 1 1 3 3 3 ...\n",
      " $ Pulse : int  92 104 87 NA 35 64 83 74 72 90 ...\n",
      " $ Clap  : Factor w/ 3 levels \"Left\",\"Neither\",..: 1 1 2 2 3 3 3 3 3 3 ...\n",
      " $ Exer  : Factor w/ 3 levels \"Freq\",\"None\",..: 3 2 2 2 3 3 1 1 3 3 ...\n",
      " $ Smoke : Factor w/ 4 levels \"Heavy\",\"Never\",..: 2 4 3 2 2 2 2 2 2 2 ...\n",
      " $ Height: num  173 178 NA 160 165 ...\n",
      " $ M.I   : Factor w/ 2 levels \"Imperial\",\"Metric\": 2 1 NA 2 2 1 1 2 2 2 ...\n",
      " $ Age   : num  18.2 17.6 16.9 20.3 23.7 ...\n"
     ]
    }
   ],
   "source": [
    "library('MASS')\n",
    "attach(survey)\n",
    "str(survey)"
   ]
  },
  {
   "cell_type": "markdown",
   "metadata": {},
   "source": [
    "# Perform Fisher Test to determine if hand that is folded is independent of hand that is placed on top after clapping\n",
    "\n",
    " - Yes i acknowledge how silly this hypothesis is in this example\n",
    " - The p-value is greater than a 0.05 level of significance, so there is not enough evidence to reject the Null Hypothesis and we can conclude that the two variables are independent of each other."
   ]
  },
  {
   "cell_type": "code",
   "execution_count": 4,
   "metadata": {},
   "outputs": [
    {
     "data": {
      "text/plain": [
       "\n",
       "\tFisher's Exact Test for Count Data\n",
       "\n",
       "data:  Fold and Clap\n",
       "p-value = 0.1639\n",
       "alternative hypothesis: two.sided\n"
      ]
     },
     "metadata": {},
     "output_type": "display_data"
    }
   ],
   "source": [
    "fisher.test(Fold,Clap)"
   ]
  },
  {
   "cell_type": "markdown",
   "metadata": {},
   "source": [
    "<hr style=\"border-top: 5px solid black;\">"
   ]
  }
 ],
 "metadata": {
  "kernelspec": {
   "display_name": "R",
   "language": "R",
   "name": "ir"
  },
  "language_info": {
   "codemirror_mode": "r",
   "file_extension": ".r",
   "mimetype": "text/x-r-source",
   "name": "R",
   "pygments_lexer": "r",
   "version": "4.1.1"
  }
 },
 "nbformat": 4,
 "nbformat_minor": 4
}

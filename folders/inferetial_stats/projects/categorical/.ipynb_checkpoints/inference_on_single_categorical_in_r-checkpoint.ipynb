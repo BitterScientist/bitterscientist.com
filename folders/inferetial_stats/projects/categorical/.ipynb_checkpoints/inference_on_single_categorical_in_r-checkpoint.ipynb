{
 "cells": [
  {
   "cell_type": "markdown",
   "metadata": {},
   "source": [
    "<hr style=\"border-top: 5px solid black;\">"
   ]
  },
  {
   "cell_type": "markdown",
   "metadata": {},
   "source": [
    "<div class=\"alert alert-block alert-info\" style=\"font-size:16px; border:1px solid black; padding:10px\">\n",
    "<center><h1><br><font color=\"blue\">Inference on Single Categorical Variable.</font></h1></center>\n",
    "    <ol>\n",
    "        <li><a href=\"#objective1\">Introduction to Single Variable Categorical Inference.</a></li><br>\n",
    "        <li><a href=\"#objective2\">Goodness-of-Fit Test.</a></li><br>\n",
    "        <li><a href=\"#objective3\">Pearson $\\chi^2$ test example in R.</a></li><br>\n",
    "        <li><a href=\"#objective4\">Exact Test</a></li><br>\n",
    "    </ol>\n",
    "</div>"
   ]
  },
  {
   "cell_type": "markdown",
   "metadata": {},
   "source": [
    "<hr style=\"border-top: 5px solid black;\">"
   ]
  },
  {
   "cell_type": "markdown",
   "metadata": {},
   "source": [
    "<div id=\"objective1\" class=\"alert alert-block alert-warning\" style=\"font-size:16px; border:1px solid black; padding:10px\"><center><h1><br><font color=\"blue\">Introduction to Single Variable Categorical Inference.</font></h1></center><br>\n",
    "</div>\n",
    "<div style=\"font-size:16px; border:1px solid black; padding:10px\">\n",
    "    <ul><strong><u>The Basics:</u></strong>\n",
    "        <li>Categorical inferences are common in statistics, and includes single population propotion $p$, or the difference between two population proportions $p_1 - p_2$, which used <strong>binomial categorical data</strong> of <em>success</em> or <em>failure</em>.</li><br>\n",
    "        <li>Data can be coerced into taking two values, as if done with the <strong>sign test</strong>, which makes inferences on the population median.</li><br>\n",
    "        <li>We can also coerce data into two values when we classify households above or below the federal poverty line, or when we stratefy individuals as either blue eyed or brown eyed.</li><br>        \n",
    "        <li>All these conditions are dealing with binomial data, and these methods are useful but restrictive to only two levels.</li><br>\n",
    "        <li>This post will consider multinomial data (categorical data with more than two levels) and use R programming to perform inferences and this datatype.</li><br>\n",
    "    </ul>\n",
    "</div>"
   ]
  },
  {
   "cell_type": "markdown",
   "metadata": {},
   "source": [
    "<hr style=\"border-top: 5px solid black;\">"
   ]
  },
  {
   "cell_type": "markdown",
   "metadata": {},
   "source": [
    "<div id=\"objective2\" class=\"alert alert-block alert-warning\" style=\"font-size:16px; border:1px solid black; padding:10px\"><center><h1><br><font color=\"blue\">Goodness-of-Fit Test.</font></h1></center><br>\n",
    "</div>\n",
    "<div style=\"font-size:16px; border:1px solid black; padding:10px\">\n",
    "    <ul><strong><u>The Basics:</u></strong>\n",
    "        <li>The goodness-of-fit test is a large-sample hypothesis test that falls under the umbrella of the <strong>Pearson $\\chi^2$ test</strong>.</li><br>\n",
    "        <li>This means that these test are always upper-tailed.</li><br>\n",
    "        <li>In R programming, we use the method <code>pchisq(chi.statistic, df, lower.tail=FALSE) to find the p-value associated with the $\\chi^2$ test statistic</code>.</li><br> \n",
    "    </ul>\n",
    "    <hr>\n",
    "    <ul><strong><u>Assumptions:</u></strong>\n",
    "        <li>We have a single categocial variable with levels (subgroups) lebels as $1, 2, 3 .. k$</li><br>\n",
    "        <li>The categorical variable will have k levels (groups).</li><br>\n",
    "        <li>The population will have population proporitions for each level and is denoted as $p_1, p_2, p_3 .. p_k$</li><br>\n",
    "        <li>The sum of $p_1, p_2, p_3 .. p_k = 1$</li><br>        \n",
    "        <li>In this test, we are seeking evidence that the population proportion deviates from the population proportions, as expressed with:\n",
    "        $$\\begin{aligned}&H_0\\colon p_1=(p_1)_0,p_2=(p_2)_0,\\dotsb, p_k=(p_k)_0\\\\\\text{against }&H_a\\colon\\text{some deviation from the null proportions exists}\\end{aligned}$$\n",
    "        </li><br>\n",
    "        <li>Where the $(p_j)_0$ expression in the hypothesis is a population proportion.</li><br>\n",
    "        <li>The observed sample is randomly selected from the population.</li><br> \n",
    "        <li>The sample size is large enough to invoke the large sample approximation, whereby we have at least five sampling units within each category.</li><br>         \n",
    "    </ul>\n",
    "    <hr>\n",
    "    <ul><strong><u>Testing Notation</u></strong>\n",
    "     <li>The hypothesis is tested by sampling from the population and classying each sampling unit into its respective level (subgroup), and we then perform the <strong>Pearson $\\chi^2$ test</strong>.</li><br>\n",
    "     <li>The test involves the following notation:\n",
    "        <ul>\n",
    "             <li>$n$ is the overall sample size</li><br> \n",
    "             <li>$O_j$ is the observed count of each level in the sample</li><br>\n",
    "             <li>$E_j$ is the expected counts under the null hypothesis, and is expressed as $$E_j=N\\cdot(p_j)_0,\\quad j=1,2,\\dotsc,k$$</li><br>        \n",
    "             <li>The test statistic is defined as $$\\chi^2_{k-1}$$</li><br> \n",
    "             <li>If each level has at least 5 sampling units, then we can assert that $x^2$ (the point estimate for) $\\chi^2$ has a  $\\chi^2$ distribution with $k - 1 $ degrees of freedom.</li><br>\n",
    "     <li>The degrees of freedom is: $k - 1 $.</li><br> \n",
    "         </ul>\n",
    "        </li><br>         \n",
    "    </ul>\n",
    "</div>"
   ]
  },
  {
   "cell_type": "markdown",
   "metadata": {},
   "source": [
    "<hr style=\"border-top: 5px solid black;\">"
   ]
  },
  {
   "cell_type": "markdown",
   "metadata": {},
   "source": [
    "<div id=\"objective3\" class=\"alert alert-block alert-warning\" style=\"font-size:16px; border:1px solid black; padding:10px\"><center><h1><br><font color=\"blue\">Example in R.</font></h1></center><br>\n",
    "</div>\n",
    "<div style=\"font-size:16px; border:1px solid black; padding:10px\">\n",
    "    <ul><strong><u>The Basics:</u></strong>\n",
    "        <li>The following example will perform the <strong>Pearson $\\chi^2$ test</strong> using a flower dataset that has 381 observations of flower phenotype.</li><br>\n",
    "        <li>I will demonstrate how to \"manually\" calculate the values needed to perform the <strong>Pearson $\\chi^2$ test</strong> in R, and then use the build in functions to perform the same calculations in less steps.</li><br>      \n",
    "    </ul>       \n",
    "</div>"
   ]
  },
  {
   "cell_type": "markdown",
   "metadata": {},
   "source": [
    "## Load Data"
   ]
  },
  {
   "cell_type": "code",
   "execution_count": 1,
   "metadata": {},
   "outputs": [
    {
     "name": "stdout",
     "output_type": "stream",
     "text": [
      "'data.frame':\t381 obs. of  1 variable:\n",
      " $ phenotype: chr  \"Purple/Long\" \"Purple/Long\" \"Purple/Long\" \"Purple/Long\" ...\n"
     ]
    }
   ],
   "source": [
    "pheno.tab <- read.csv('static/data/flower.phenotype.csv')\n",
    "attach(pheno.tab)\n",
    "str(pheno.tab)"
   ]
  },
  {
   "cell_type": "markdown",
   "metadata": {},
   "source": [
    "# \"Manual Calculations\" on Cell Frequencies in R\n",
    "\n",
    " - Test the hypothesis that the sampling proportions is equal to the population proportion\n",
    " - The populatio proportion is $p_1 = \\frac {9}{16}$, $p_2 = \\frac {3}{16}$, $p_3 = \\frac {3}{16}$, $p_4 = \\frac {1}{16}$\n",
    " - Create a vector that contains the count for each level in the sample of 381 observations\n",
    " - Create a vector with the populatio proportion\n",
    " - use <code>chisq.test(obs, p= prop)</code> to get the association test statistic and p-value\n",
    " - The p.value is less than 0.01 and 0.05, so we can reject the $H_0$ in favor of the alternative hypothesis that the sampling proportion is different than the population proportion"
   ]
  },
  {
   "cell_type": "code",
   "execution_count": 2,
   "metadata": {},
   "outputs": [
    {
     "data": {
      "text/html": [
       "381"
      ],
      "text/latex": [
       "381"
      ],
      "text/markdown": [
       "381"
      ],
      "text/plain": [
       "[1] 381"
      ]
     },
     "metadata": {},
     "output_type": "display_data"
    },
    {
     "data": {
      "text/plain": [
       "\n",
       "\tChi-squared test for given probabilities\n",
       "\n",
       "data:  obs\n",
       "X-squared = 134.73, df = 3, p-value < 2.2e-16\n"
      ]
     },
     "metadata": {},
     "output_type": "display_data"
    }
   ],
   "source": [
    "# number of sampling units\n",
    "n_size = length(pheno.tab$phenotype) ; n_size\n",
    "obs <- c(284, 21, 21, 55)\n",
    "prop <- c(9, 3, 3, 1)/16\n",
    "chisq.test(obs, p=prop)"
   ]
  },
  {
   "cell_type": "markdown",
   "metadata": {},
   "source": [
    "## Perform Calculation with the actual Data"
   ]
  },
  {
   "cell_type": "code",
   "execution_count": 3,
   "metadata": {
    "scrolled": true
   },
   "outputs": [
    {
     "data": {
      "text/html": [
       "<table class=\"dataframe\">\n",
       "<caption>A data.frame: 6 × 1</caption>\n",
       "<thead>\n",
       "\t<tr><th></th><th scope=col>phenotype</th></tr>\n",
       "\t<tr><th></th><th scope=col>&lt;chr&gt;</th></tr>\n",
       "</thead>\n",
       "<tbody>\n",
       "\t<tr><th scope=row>1</th><td>Purple/Long</td></tr>\n",
       "\t<tr><th scope=row>2</th><td>Purple/Long</td></tr>\n",
       "\t<tr><th scope=row>3</th><td>Purple/Long</td></tr>\n",
       "\t<tr><th scope=row>4</th><td>Purple/Long</td></tr>\n",
       "\t<tr><th scope=row>5</th><td>Purple/Long</td></tr>\n",
       "\t<tr><th scope=row>6</th><td>Red/Long   </td></tr>\n",
       "</tbody>\n",
       "</table>\n"
      ],
      "text/latex": [
       "A data.frame: 6 × 1\n",
       "\\begin{tabular}{r|l}\n",
       "  & phenotype\\\\\n",
       "  & <chr>\\\\\n",
       "\\hline\n",
       "\t1 & Purple/Long\\\\\n",
       "\t2 & Purple/Long\\\\\n",
       "\t3 & Purple/Long\\\\\n",
       "\t4 & Purple/Long\\\\\n",
       "\t5 & Purple/Long\\\\\n",
       "\t6 & Red/Long   \\\\\n",
       "\\end{tabular}\n"
      ],
      "text/markdown": [
       "\n",
       "A data.frame: 6 × 1\n",
       "\n",
       "| <!--/--> | phenotype &lt;chr&gt; |\n",
       "|---|---|\n",
       "| 1 | Purple/Long |\n",
       "| 2 | Purple/Long |\n",
       "| 3 | Purple/Long |\n",
       "| 4 | Purple/Long |\n",
       "| 5 | Purple/Long |\n",
       "| 6 | Red/Long    |\n",
       "\n"
      ],
      "text/plain": [
       "  phenotype  \n",
       "1 Purple/Long\n",
       "2 Purple/Long\n",
       "3 Purple/Long\n",
       "4 Purple/Long\n",
       "5 Purple/Long\n",
       "6 Red/Long   "
      ]
     },
     "metadata": {},
     "output_type": "display_data"
    }
   ],
   "source": [
    "# view data\n",
    "head(pheno.tab)"
   ]
  },
  {
   "cell_type": "code",
   "execution_count": 4,
   "metadata": {},
   "outputs": [
    {
     "data": {
      "text/plain": [
       "phenotype\n",
       " Purple/Long Purple/Round     Red/Long    Red/Round \n",
       "         284           21           21           55 "
      ]
     },
     "metadata": {},
     "output_type": "display_data"
    }
   ],
   "source": [
    "# Use the table method to organize the data by levels and counts\n",
    "flowers.tab <- table(phenotype)\n",
    "flowers.tab"
   ]
  },
  {
   "cell_type": "code",
   "execution_count": 5,
   "metadata": {},
   "outputs": [
    {
     "data": {
      "text/plain": [
       "\n",
       "\tChi-squared test for given probabilities\n",
       "\n",
       "data:  flowers.tab\n",
       "X-squared = 134.73, df = 3, p-value < 2.2e-16\n"
      ]
     },
     "metadata": {},
     "output_type": "display_data"
    }
   ],
   "source": [
    "# perform the test on the table object\n",
    "chisq.test(flowers.tab, p=prop)"
   ]
  },
  {
   "cell_type": "markdown",
   "metadata": {},
   "source": [
    "<hr style=\"border-top: 5px solid black;\">"
   ]
  },
  {
   "cell_type": "markdown",
   "metadata": {},
   "source": [
    "<div id=\"objective4\" class=\"alert alert-block alert-warning\" style=\"font-size:16px; border:1px solid black; padding:10px\"><center><h1><br><font color=\"blue\">Exact Test.</font></h1></center><br>\n",
    "</div>\n",
    "<div style=\"font-size:16px; border:1px solid black; padding:10px\">\n",
    "    <ul><strong><u>The Basics:</u></strong>\n",
    "        <li>The exact test is used when the sampled data does not have a \"large\" enough sample size to suppose that the data comes from a $\\chi^2$ distribution. (Meaning we dont have 5 sampling units for each categorical level-sub group).</li><br>\n",
    "        <li>In the exact test, the p-values are calcualted directly from the multinomial distribution.</li><br>\n",
    "        <li>This method is calculation intensive, so this test is only recommended when the sample size is small.</li><br>\n",
    "        <li>This method also requires the <code>install.packages('EMT')</code> and that you load the <code>library('EMT')</code> library, which will let us use the <code>multinomial.test</code> function.</li><br>\n",
    "        <li>I will use a hypothetical example of students that have a single undergraduate major with four levels (biology, math, computer science, english) and will test the hypothesis $$\\begin{aligned}&H_0\\colon p_1=0.41,\\ p_2=0.32,\\ p_3=0.15,\\ p_4=0.12\\\\\\text{against }&H_a\\colon\\text{some deviation from these proportions exists}\\end{aligned}$$</li><br>\n",
    "    </ul>       \n",
    "</div>"
   ]
  },
  {
   "cell_type": "markdown",
   "metadata": {},
   "source": [
    "# Install and Load Library"
   ]
  },
  {
   "cell_type": "code",
   "execution_count": 6,
   "metadata": {},
   "outputs": [
    {
     "name": "stdout",
     "output_type": "stream",
     "text": [
      "\n",
      "The downloaded binary packages are in\n",
      "\t/var/folders/0d/xqmptt6x035b25m88r2ffc9m0000gn/T//RtmpQn6FQp/downloaded_packages\n"
     ]
    }
   ],
   "source": [
    "install.packages('EMT')\n",
    "library('EMT')"
   ]
  },
  {
   "cell_type": "code",
   "execution_count": 7,
   "metadata": {},
   "outputs": [
    {
     "name": "stdout",
     "output_type": "stream",
     "text": [
      "'data.frame':\t23 obs. of  9 variables:\n",
      " $ siblings: int  3 1 3 3 1 3 3 2 0 1 ...\n",
      " $ distance: int  926 538 308 986 397 420 395 26 97 5426 ...\n",
      " $ bday    : int  298 45 67 298 156 104 281 289 144 164 ...\n",
      " $ hand    : chr  \"right\" \"left\" \"right\" \"right\" ...\n",
      " $ eye     : chr  \"blue\" \"brown\" \"brown\" \"hazel\" ...\n",
      " $ credits : int  87 73 91 59 66 71 82 69 62 68 ...\n",
      " $ band    : chr  \"Elvis Presley\" \"The Beatles\" \"Nirvana\" \"Prince\" ...\n",
      " $ parking : int  2 4 3 4 3 3 3 1 4 3 ...\n",
      " $ major   : chr  \"math\" \"biology\" \"biology\" \"computer science\" ...\n"
     ]
    }
   ],
   "source": [
    "class.survey <- read.csv('static/data/class.survey.csv')\n",
    "attach(class.survey)\n",
    "str(class.survey)"
   ]
  },
  {
   "cell_type": "markdown",
   "metadata": {},
   "source": [
    "# Get frequency of majors"
   ]
  },
  {
   "cell_type": "code",
   "execution_count": 8,
   "metadata": {},
   "outputs": [
    {
     "data": {
      "text/plain": [
       "major\n",
       "         biology computer science          english             math \n",
       "               6                4                2               11 "
      ]
     },
     "metadata": {},
     "output_type": "display_data"
    },
    {
     "data": {
      "text/html": [
       "4"
      ],
      "text/latex": [
       "4"
      ],
      "text/markdown": [
       "4"
      ],
      "text/plain": [
       "[1] 4"
      ]
     },
     "metadata": {},
     "output_type": "display_data"
    }
   ],
   "source": [
    "obs_majors <- table(major)\n",
    "obs_majors\n",
    "\n",
    "# Length of data\n",
    "n <- length(obs_majors); n"
   ]
  },
  {
   "cell_type": "markdown",
   "metadata": {},
   "source": [
    "# Get vector with null hypothesis proportions"
   ]
  },
  {
   "cell_type": "code",
   "execution_count": 9,
   "metadata": {},
   "outputs": [
    {
     "data": {
      "text/html": [
       "<style>\n",
       ".list-inline {list-style: none; margin:0; padding: 0}\n",
       ".list-inline>li {display: inline-block}\n",
       ".list-inline>li:not(:last-child)::after {content: \"\\00b7\"; padding: 0 .5ex}\n",
       "</style>\n",
       "<ol class=list-inline><li>0.41</li><li>0.15</li><li>0.12</li><li>0.32</li></ol>\n"
      ],
      "text/latex": [
       "\\begin{enumerate*}\n",
       "\\item 0.41\n",
       "\\item 0.15\n",
       "\\item 0.12\n",
       "\\item 0.32\n",
       "\\end{enumerate*}\n"
      ],
      "text/markdown": [
       "1. 0.41\n",
       "2. 0.15\n",
       "3. 0.12\n",
       "4. 0.32\n",
       "\n",
       "\n"
      ],
      "text/plain": [
       "[1] 0.41 0.15 0.12 0.32"
      ]
     },
     "metadata": {},
     "output_type": "display_data"
    }
   ],
   "source": [
    "null.prop <- c(0.41, 0.15, 0.12, 0.32); null.prop"
   ]
  },
  {
   "cell_type": "markdown",
   "metadata": {},
   "source": [
    "# Calculate Expected Values"
   ]
  },
  {
   "cell_type": "code",
   "execution_count": 10,
   "metadata": {},
   "outputs": [
    {
     "data": {
      "text/html": [
       "<style>\n",
       ".list-inline {list-style: none; margin:0; padding: 0}\n",
       ".list-inline>li {display: inline-block}\n",
       ".list-inline>li:not(:last-child)::after {content: \"\\00b7\"; padding: 0 .5ex}\n",
       "</style>\n",
       "<ol class=list-inline><li>1.64</li><li>0.6</li><li>0.48</li><li>1.28</li></ol>\n"
      ],
      "text/latex": [
       "\\begin{enumerate*}\n",
       "\\item 1.64\n",
       "\\item 0.6\n",
       "\\item 0.48\n",
       "\\item 1.28\n",
       "\\end{enumerate*}\n"
      ],
      "text/markdown": [
       "1. 1.64\n",
       "2. 0.6\n",
       "3. 0.48\n",
       "4. 1.28\n",
       "\n",
       "\n"
      ],
      "text/plain": [
       "[1] 1.64 0.60 0.48 1.28"
      ]
     },
     "metadata": {},
     "output_type": "display_data"
    }
   ],
   "source": [
    "expected <- n*null.prop ; expected"
   ]
  },
  {
   "cell_type": "code",
   "execution_count": 11,
   "metadata": {},
   "outputs": [
    {
     "data": {
      "text/html": [
       "<table class=\"dataframe\">\n",
       "<caption>A matrix: 2 × 4 of type dbl</caption>\n",
       "<thead>\n",
       "\t<tr><th></th><th scope=col>biology</th><th scope=col>computer science</th><th scope=col>english</th><th scope=col>math</th></tr>\n",
       "</thead>\n",
       "<tbody>\n",
       "\t<tr><th scope=row>obs_majors</th><td>6.00</td><td>4.0</td><td>2.00</td><td>11.00</td></tr>\n",
       "\t<tr><th scope=row>expected</th><td>1.64</td><td>0.6</td><td>0.48</td><td> 1.28</td></tr>\n",
       "</tbody>\n",
       "</table>\n"
      ],
      "text/latex": [
       "A matrix: 2 × 4 of type dbl\n",
       "\\begin{tabular}{r|llll}\n",
       "  & biology & computer science & english & math\\\\\n",
       "\\hline\n",
       "\tobs\\_majors & 6.00 & 4.0 & 2.00 & 11.00\\\\\n",
       "\texpected & 1.64 & 0.6 & 0.48 &  1.28\\\\\n",
       "\\end{tabular}\n"
      ],
      "text/markdown": [
       "\n",
       "A matrix: 2 × 4 of type dbl\n",
       "\n",
       "| <!--/--> | biology | computer science | english | math |\n",
       "|---|---|---|---|---|\n",
       "| obs_majors | 6.00 | 4.0 | 2.00 | 11.00 |\n",
       "| expected | 1.64 | 0.6 | 0.48 |  1.28 |\n",
       "\n"
      ],
      "text/plain": [
       "           biology computer science english math \n",
       "obs_majors 6.00    4.0              2.00    11.00\n",
       "expected   1.64    0.6              0.48     1.28"
      ]
     },
     "metadata": {},
     "output_type": "display_data"
    }
   ],
   "source": [
    "# Use <code>rbind()</code> to combine obs and expected into single table\n",
    "rbind(obs_majors, expected)"
   ]
  },
  {
   "cell_type": "markdown",
   "metadata": {},
   "source": [
    "# Visualize comparison with bar chart"
   ]
  },
  {
   "cell_type": "code",
   "execution_count": 12,
   "metadata": {},
   "outputs": [
    {
     "data": {
      "image/png": "[encoded data removed]",
      "text/plain": [
       "plot without title"
      ]
     },
     "metadata": {
      "image/png": {
       "height": 420,
       "width": 420
      }
     },
     "output_type": "display_data"
    }
   ],
   "source": [
    "barplot(rbind(obs_majors,expected), beside=TRUE, legend.text=TRUE)"
   ]
  },
  {
   "cell_type": "markdown",
   "metadata": {},
   "source": [
    "# Perform multinomial test using <code>multinomial.test(obs, null.prop, useChi=True)</code>\n",
    "\n",
    " - the obs has to be a vector but we have a table, so use <code>as.vector(obs)</code> to convert\n",
    " - based on thest, do not reject null hypothesis"
   ]
  },
  {
   "cell_type": "code",
   "execution_count": 13,
   "metadata": {},
   "outputs": [
    {
     "name": "stdout",
     "output_type": "stream",
     "text": [
      "\n",
      " The model includes 2600 different events.\n",
      "\n",
      "\n",
      " Exact Multinomial Test, Chisquare\n",
      "\n",
      "    Events    chi2Obs    p.value\n",
      "      2600     3.3448     0.3401\n"
     ]
    }
   ],
   "source": [
    "multinomial.test( as.vector(obs_majors), null.prop, useChisq=TRUE )"
   ]
  },
  {
   "cell_type": "markdown",
   "metadata": {},
   "source": [
    "<hr style=\"border-top: 5px solid black;\">"
   ]
  }
 ],
 "metadata": {
  "kernelspec": {
   "display_name": "R",
   "language": "R",
   "name": "ir"
  },
  "language_info": {
   "codemirror_mode": "r",
   "file_extension": ".r",
   "mimetype": "text/x-r-source",
   "name": "R",
   "pygments_lexer": "r",
   "version": "4.1.1"
  }
 },
 "nbformat": 4,
 "nbformat_minor": 4
}

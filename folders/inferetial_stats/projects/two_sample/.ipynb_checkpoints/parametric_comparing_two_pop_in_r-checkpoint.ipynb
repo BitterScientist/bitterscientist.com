{
 "cells": [
  {
   "cell_type": "markdown",
   "id": "e137da14",
   "metadata": {},
   "source": [
    "<hr style=\"border-top: 5px solid black;\">"
   ]
  },
  {
   "cell_type": "markdown",
   "id": "8aa62dff",
   "metadata": {},
   "source": [
    "<div class=\"alert alert-block alert-success\" style=\"font-size:20px; border:1px solid black; padding:10px\">\n",
    "<center><h1>Post Goals:</h1></center>\n",
    "    <hr style=\"border-top: 2px dashed black;\">\n",
    "    <ol>\n",
    "        <li><a href=\"#objective1\">Introduction to two population parameteric inferences.</a></li><br>\n",
    "        <li><a href=\"#objective2\">Pooled t-test</a></li><br>\n",
    "        <li><a href=\"#objective3\">Welch t-test</a></li><br>\n",
    "    </ol>\n",
    "</div>"
   ]
  },
  {
   "cell_type": "markdown",
   "id": "0737fcd3",
   "metadata": {},
   "source": [
    "<hr style=\"border-top: 5px solid black;\">"
   ]
  },
  {
   "cell_type": "markdown",
   "id": "3bf267d5",
   "metadata": {},
   "source": [
    "<div id=\"objective1\" class=\"alert alert-block alert-warning\" style=\"font-size:16px; border:1px solid black; padding:10px\"><center><h1><br><font color=\"blue\">Introduction to two population parameteric inferences.</font></h1></center><br>\n",
    "</div>\n",
    "<div style=\"font-size:16px; border:1px solid black; padding:10px\">\n",
    "    <ul><strong><u>The basics</u></strong>\n",
    "        <li>This post will describe statistical methods to compare a single categorical variable with two levels.</li><br>\n",
    "        <li>The two levels can be thought of as two populations.</li><br>\n",
    "        <li>The categorical variable is the independent variable.</li><br>\n",
    "        <li>The numeric variable we are interested in the comparison, is the response variable, and is commonly called the dependent variable.</li><br>\n",
    "       <li>Example: Compare veteran administration expenses for congressional districts led by republican or democrats. The independent variable is the political party (categorical), and the response variable is the numeric variable (the expenditures in dollars).</li><br>        \n",
    "        <li>            \n",
    "            <ul>Assumptions\n",
    "                <li>Data comes for a random sample</li>\n",
    "                <li>Data comes from a normal pouplation</li>\n",
    "            </ul>\n",
    "        </li><br>\n",
    "        <li>The R programming language will be used to carry out these calculations.</li><br>\n",
    "        <li>\n",
    "            <ul>Important mathematical notations\n",
    "                <li>The first level of the categorical variable is denoted as: 𝑥1,1,𝑥1,2,𝑥1,3,…,𝑥1,𝑛1</li>\n",
    "                <li>The second level of the categorical variable is denoted as: 𝑥2,1,𝑥2,2,𝑥2,3,…,𝑥2,𝑛2</li>\n",
    "                <li>There are two statistical population, the first $\\mu_1$, $\\sigma_1$ and the second population $\\mu_2$, $\\sigma_2$</li>\n",
    "                <li>The difference between these two populations is: $$\\mathsf{E}(\\bar X_1-\\bar X_2)=\\mu_1-\\mu_2$$</li>   \n",
    "                <li>The variance is: $$\\mathsf{Var}(\\bar X_1-\\bar X_2)=\\mathsf{Var}(\\bar X_1)+\\mathsf{Var}(\\bar X_2)=\\tfrac{\\sigma_1^2}{n_1}+\\tfrac{\\sigma_2^2}{n_2}$$</li>\n",
    "                <li>The standard error of $\\bar X_1-\\bar X_2$ is: $$\\sigma_{\\bar x_1-\\bar x_2}=\\textsf{SE}_{\\bar x_1-\\bar x_2}=\\sqrt{\\tfrac{\\sigma_1^2}{n_1}+\\tfrac{\\sigma_2^2}{n_2}}$$</li>\n",
    "                <li>We can then use the z-test for making inferences on $\\mu_1 - \\mu_2$ via the statistics: $$z=\\frac{\\bar x_1-\\bar x_2-(\\mu_1-\\mu_2)}{\\sqrt{\\sigma_1^2/n_1+\\sigma_2^2/n_2}}$$</li>\n",
    "                <li>Since we don't know the true population $\\sigma$, we can use the standard error from the t-statistic, with a certain number of degrees of freedom associated with it.</li>  \n",
    "            </ul>                \n",
    "        </li><br>        \n",
    "    </ul>\n",
    "</div>"
   ]
  },
  {
   "cell_type": "markdown",
   "id": "f3ac464e",
   "metadata": {},
   "source": [
    "<hr style=\"border-top: 5px solid black;\">"
   ]
  },
  {
   "cell_type": "markdown",
   "id": "b71820f1",
   "metadata": {},
   "source": [
    "<div id=\"objective2\" class=\"alert alert-block alert-warning\" style=\"font-size:16px; border:1px solid black; padding:10px\"><center><h1><br><font color=\"blue\">Pooled t-tes</font></h1></center><br>\n",
    "</div>\n",
    "<div style=\"font-size:16px; border:1px solid black; padding:10px\">\n",
    "    <ul><strong><u>The Basics</u></strong>\n",
    "        <li>This is a classical way of estimated the standard error between $\\bar X_1-\\bar X_2$, and it assumes that $\\sigma_1-\\sigma_2$, which means that the two populations have the same $\\sigma$.</li><br>\n",
    "        <li>This test is robust when the sample size is larger than 30.</li><br>  \n",
    "        <li>\n",
    "            <ul>Assumptions:\n",
    "                <li>Random sample.</li><br>\n",
    "                <li>The two samples are sampled independently of one another</li><br>\n",
    "                <li>The two populations are normally distributed</li><br>\n",
    "                <li>The two population variances are the same and must be confirmed with a hypothesis test (homgeneity of variances)</li><br>\n",
    "            </ul>                \n",
    "        </li><br>\n",
    "        <li>\n",
    "            <ul>Hypothesis test:<br>\n",
    "                <li>Null Hypothesis. $H_o:\\ \\mu_1 = \\mu_2 $</li><br>\n",
    "                <li>Alternative Hypothesis 2 sided: $H_o:\\ \\mu_1 \\neq \\mu_2 $</li><br>\n",
    "                <li>Alternative Hypothesis 1 sided lower tail: $H_o:\\ \\mu_1 < \\mu_2 $</li><br>\n",
    "                <li>Alternative Hypothesis 1 sided upper tail: $H_o:\\ \\mu_1 > \\mu_2 $</li><br>\n",
    "            </ul>                \n",
    "        </li><br>  \n",
    "        <li>\n",
    "            <ul>Hypothesis test values:<br>\n",
    "                <li>Parameter of interest. \\mu_1 = \\mu_2</li><br>\n",
    "                <li>Point estimate. $\\bar{x_1} - \\bar{x_2}$</li><br>\n",
    "                <li>Standard error under $H_0$: $$\\widehat{\\mathsf{SE}}=\\sqrt{\\frac{s_p^2}{n_1}+\\frac{s_p^2}{n_2}}=s_p\\sqrt{\\frac1{n_1}+\\frac1{n_2}}$$</li><br>\n",
    "                <li>Test statistic. $$t=\\frac{\\bar x_1-\\bar x_2}{\\widehat{\\mathsf{SE}}}$$</li><br>\n",
    "                <li>Null distribution: student's t distribution</li><br>\n",
    "                <li>Degrees of freedom: $$df=n_1+n_2-2$$</li><br>\n",
    "                <li>The pooled sample variance: $$s_p^2=\\frac{(n_1-1)s_1^2+(n_2-1)s_2^2}{n_1+n_2-2}$$</li><br>\n",
    "            </ul>                \n",
    "        </li><br>\n",
    "        <li>\n",
    "            <ul>Confidence intervals:<br><br>\n",
    "                <li>Calculated as $100(1- \\alpha)$</li><br>\n",
    "                <li>Two-sides: $$\\left(\\bar x_1-\\bar x_2-t_{df,\\alpha/2}\\cdot\\widehat{\\mathsf{SE}}, \\bar x_1-\\bar x_2+t_{df,\\alpha/2}\\cdot\\widehat{\\mathsf{SE}}\\right)$$</li><br>\n",
    "                <li>Upper one-sided: $$\\left(-\\infty, \\bar x_1-\\bar x_2+t_{df,\\alpha}\\cdot\\widehat{\\mathsf{SE}}_{\\bar X_1-\\bar X_2}\\right)$$</li><br>\n",
    "                <li>Lower one-sided: $$\\left(\\bar x_1+\\bar x_2-t_{df,\\alpha}\\cdot\\widehat{\\mathsf{SE}}_{\\bar X_1-\\bar X_2},\\infty\\right)$$</li><br>\n",
    "            </ul>                \n",
    "        </li><br>          \n",
    "    </ul>\n",
    "</div>"
   ]
  },
  {
   "cell_type": "markdown",
   "id": "13729a50",
   "metadata": {},
   "source": [
    "## Example 1 Calculate with Pooled t-test\n",
    "\n",
    " - Wombat's are endangered, and in the wild, and sarcoptic mange is a big threat to their survival. Two types of treatments are used in the field, and biologists want to determine which treatment is most effective at protecting the wombats, as measured in hair length in the back.  Measurements were made, and the heir mean between these two groups compared.\n",
    " - Sample means $\\bar{x}_1=0.035 \\bar{x}_2=0.340$\n",
    " - Sample standard deviations $\\sigma_1=1.046 \\sigma_2=0.690$\n",
    " - Sample sizes $n_1=53 n_2=51$ \n",
    " - Are they different? two sided test\n",
    " - $\\alpha = 0.1$"
   ]
  },
  {
   "cell_type": "markdown",
   "id": "a9dd95fa",
   "metadata": {},
   "source": [
    "## Calculate parameters"
   ]
  },
  {
   "cell_type": "code",
   "execution_count": 1,
   "id": "3ec2b555",
   "metadata": {},
   "outputs": [
    {
     "data": {
      "text/html": [
       "0.889475677234716"
      ],
      "text/latex": [
       "0.889475677234716"
      ],
      "text/markdown": [
       "0.889475677234716"
      ],
      "text/plain": [
       "[1] 0.8894757"
      ]
     },
     "metadata": {},
     "output_type": "display_data"
    },
    {
     "data": {
      "text/html": [
       "0.174472797083754"
      ],
      "text/latex": [
       "0.174472797083754"
      ],
      "text/markdown": [
       "0.174472797083754"
      ],
      "text/plain": [
       "[1] 0.1744728"
      ]
     },
     "metadata": {},
     "output_type": "display_data"
    },
    {
     "data": {
      "text/html": [
       "102"
      ],
      "text/latex": [
       "102"
      ],
      "text/markdown": [
       "102"
      ],
      "text/plain": [
       "[1] 102"
      ]
     },
     "metadata": {},
     "output_type": "display_data"
    },
    {
     "data": {
      "text/html": [
       "0.305"
      ],
      "text/latex": [
       "0.305"
      ],
      "text/markdown": [
       "0.305"
      ],
      "text/plain": [
       "[1] 0.305"
      ]
     },
     "metadata": {},
     "output_type": "display_data"
    }
   ],
   "source": [
    "# pooled sample, value between both standard deviations\n",
    "n1_1 = 53\n",
    "n2_1 = 51\n",
    "m1_1 = 0.035\n",
    "m2_1 = 0.340\n",
    "sp1 <- sqrt((52*1.046^2+50*0.69^2)/(52+50));sp1\n",
    "se1 <- sp1 * sqrt((1/n1_1 )+ (1/n2_1)); se1\n",
    "df1 <- n1_1 + n2_1 - 2; df1\n",
    "point_estimate <- m2_1 - m1_1; point_estimate"
   ]
  },
  {
   "cell_type": "markdown",
   "id": "20b75ecc",
   "metadata": {},
   "source": [
    "# Calculate critical value $t_{102, 0.05}$"
   ]
  },
  {
   "cell_type": "code",
   "execution_count": 2,
   "id": "1fc5ec21",
   "metadata": {},
   "outputs": [
    {
     "data": {
      "text/html": [
       "1.65992997597032"
      ],
      "text/latex": [
       "1.65992997597032"
      ],
      "text/markdown": [
       "1.65992997597032"
      ],
      "text/plain": [
       "[1] 1.65993"
      ]
     },
     "metadata": {},
     "output_type": "display_data"
    }
   ],
   "source": [
    "t_critical <- qt(0.1/2, 102, lower.tail=FALSE); t_critical"
   ]
  },
  {
   "cell_type": "markdown",
   "id": "1064f914",
   "metadata": {},
   "source": [
    "## Calculate the t statistic"
   ]
  },
  {
   "cell_type": "code",
   "execution_count": 3,
   "id": "b5234738",
   "metadata": {},
   "outputs": [
    {
     "data": {
      "text/html": [
       "1.74812351895515"
      ],
      "text/latex": [
       "1.74812351895515"
      ],
      "text/markdown": [
       "1.74812351895515"
      ],
      "text/plain": [
       "[1] 1.748124"
      ]
     },
     "metadata": {},
     "output_type": "display_data"
    }
   ],
   "source": [
    "# t statistic\n",
    "t_test_statitic <- point_estimate/se1; t_test_statitic"
   ]
  },
  {
   "cell_type": "markdown",
   "id": "83ccfe95",
   "metadata": {},
   "source": [
    "## Calculate the pvalue, multiply by 2 since its a two sided test"
   ]
  },
  {
   "cell_type": "code",
   "execution_count": 4,
   "id": "d68be127",
   "metadata": {},
   "outputs": [
    {
     "data": {
      "text/html": [
       "0.0834515807952184"
      ],
      "text/latex": [
       "0.0834515807952184"
      ],
      "text/markdown": [
       "0.0834515807952184"
      ],
      "text/plain": [
       "[1] 0.08345158"
      ]
     },
     "metadata": {},
     "output_type": "display_data"
    }
   ],
   "source": [
    "# two sided test\n",
    "2 * pt(t_test_statitic, df1, lower.tail=FALSE)"
   ]
  },
  {
   "cell_type": "markdown",
   "id": "9963d798",
   "metadata": {},
   "source": [
    "## Calculate 90% confidence interval 2 sides"
   ]
  },
  {
   "cell_type": "code",
   "execution_count": 5,
   "id": "358040df",
   "metadata": {
    "scrolled": true
   },
   "outputs": [
    {
     "data": {
      "text/html": [
       "0.594612625870711"
      ],
      "text/latex": [
       "0.594612625870711"
      ],
      "text/markdown": [
       "0.594612625870711"
      ],
      "text/plain": [
       "[1] 0.5946126"
      ]
     },
     "metadata": {},
     "output_type": "display_data"
    },
    {
     "data": {
      "text/html": [
       "0.0153873741292891"
      ],
      "text/latex": [
       "0.0153873741292891"
      ],
      "text/markdown": [
       "0.0153873741292891"
      ],
      "text/plain": [
       "[1] 0.01538737"
      ]
     },
     "metadata": {},
     "output_type": "display_data"
    }
   ],
   "source": [
    "upper <- point_estimate + t_critical * se1; upper\n",
    "lower <- point_estimate - t_critical * se1; lower"
   ]
  },
  {
   "cell_type": "markdown",
   "id": "376055ba",
   "metadata": {},
   "source": [
    "## Example 1<font color=\"red\"> p value is greater than alpha 0.1, do not reject $H_0$</font> The 90% two sided confidence interval is (0.01538,  0.5946)"
   ]
  },
  {
   "cell_type": "markdown",
   "id": "618e80b1",
   "metadata": {},
   "source": [
    "<hr style=\"border-top: 5px solid black;\">"
   ]
  },
  {
   "cell_type": "markdown",
   "id": "9f7d5625",
   "metadata": {},
   "source": [
    "## Example 2, Use the <code>t.test(x, mu=MU0, alt=TYPE, conf.level=CL, var.equal=TRUE)</code> method\n",
    "\n",
    " - Social scientist wants to determine if children with no siblings have more screentime than children with  siblings."
   ]
  },
  {
   "cell_type": "code",
   "execution_count": 6,
   "id": "eca7636f",
   "metadata": {},
   "outputs": [],
   "source": [
    "data <- read.csv(\"data/screentime.csv\")\n",
    "attach(data)"
   ]
  },
  {
   "cell_type": "code",
   "execution_count": 7,
   "id": "87302074",
   "metadata": {
    "scrolled": true
   },
   "outputs": [
    {
     "name": "stdout",
     "output_type": "stream",
     "text": [
      "'data.frame':\t92 obs. of  2 variables:\n",
      " $ minutes: int  568 479 791 881 1026 599 857 826 845 537 ...\n",
      " $ only   : chr  \"yes\" \"yes\" \"yes\" \"yes\" ...\n"
     ]
    }
   ],
   "source": [
    "str(data)"
   ]
  },
  {
   "cell_type": "code",
   "execution_count": 8,
   "id": "5cc89d39",
   "metadata": {},
   "outputs": [
    {
     "data": {
      "text/plain": [
       "\n",
       "\tTwo Sample t-test\n",
       "\n",
       "data:  minutes by only\n",
       "t = -1.6349, df = 90, p-value = 0.05279\n",
       "alternative hypothesis: true difference in means between group no and group yes is less than 0\n",
       "95 percent confidence interval:\n",
       "     -Inf 1.655339\n",
       "sample estimates:\n",
       " mean in group no mean in group yes \n",
       "         718.2459          818.0968 \n"
      ]
     },
     "metadata": {},
     "output_type": "display_data"
    }
   ],
   "source": [
    "# determine if children with siblings watch more TV than those without siblings\n",
    "t.test(minutes~only, alt='l', conf.level=.95, var.equal=TRUE)"
   ]
  },
  {
   "cell_type": "markdown",
   "id": "0cafc8fc",
   "metadata": {},
   "source": [
    "## Example 2<font color=\"red\"> p value is greater than alpha, do not reject $H_0$</font> The 90% two sided confidence interval is (718.2 min,  818.09 min) per week"
   ]
  },
  {
   "cell_type": "markdown",
   "id": "89864523",
   "metadata": {},
   "source": [
    "<hr style=\"border-top: 5px solid black;\">"
   ]
  },
  {
   "cell_type": "markdown",
   "id": "6291fe5b",
   "metadata": {},
   "source": [
    "<div id=\"objective3\" class=\"alert alert-block alert-warning\" style=\"font-size:16px; border:1px solid black; padding:10px\"><center><h1><br><font color=\"blue\">Welch t-test</font></h1></center><br>\n",
    "</div>\n",
    "<div style=\"font-size:16px; border:1px solid black; padding:10px\">\n",
    "    <ul><strong><u>The Basics</u></strong>\n",
    "        <li>A test to make inferences about $\\mu_1 - \\mu_2$ but does not assume that the two population have equal variances</li><br>\n",
    "        <li>\n",
    "            <ul>The weltch test is also called:\n",
    "                <li>non-pooled t-test</li><br>\n",
    "                <li>Satterthwaite t-test</li><br>\n",
    "                <li>Welch-Satterthwaite t-test</li><br>\n",
    "            </ul> \n",
    "        </li><br>\n",
    "<li>\n",
    "            <ul>Hypothesis test:<br>\n",
    "                <li>Null Hypothesis. $H_o:\\ \\mu_1 = \\mu_2 $</li><br>\n",
    "                <li>Alternative Hypothesis 2 sided: $H_o:\\ \\mu_1 \\neq \\mu_2 $</li><br>\n",
    "                <li>Alternative Hypothesis 1 sided lower tail: $H_o:\\ \\mu_1 < \\mu_2 $</li><br>\n",
    "                <li>Alternative Hypothesis 1 sided upper tail: $H_o:\\ \\mu_1 > \\mu_2 $</li><br>\n",
    "            </ul>                \n",
    "        </li><br>  \n",
    "        <li>\n",
    "            <ul>Hypothesis test values:<br>\n",
    "                <li>Parameter of interest. \\mu_1 = \\mu_2</li><br>\n",
    "                <li>Point estimate. $\\bar{x_1} - \\bar{x_2}$</li><br>\n",
    "                <li>Standard error under $H_0$: $$\\widehat{\\mathsf{se}}=\\sqrt{\\frac{s_1^2}{n_1}+\\frac{s_2^2}{n_2}}$$</li><br>\n",
    "                <li>Test statistic. $$t=\\frac{\\bar x_1-\\bar x_2}{\\widehat{\\mathsf{SE}}}$$</li><br>\n",
    "                <li>Null distribution: student's t distribution</li><br>\n",
    "                <li>Degrees of freedom: $$df=\\frac{(s_1^2/n_1+s_2^2/n_2)^2}{\\frac{(s_1^2/n_1)^2}{n_1-1}+\\frac{(s_2^2/n_2)^2}{n_2-1}}$$</li><br>\n",
    "            </ul>                \n",
    "        </li><br>\n",
    "        <li>\n",
    "            <ul>Confidence intervals:<br><br>\n",
    "                <li>Calculated as $100(1- \\alpha)$</li><br>\n",
    "                <li>Two-sides: $$\\left(\\bar x_1-\\bar x_2-t_{df,\\alpha/2}\\cdot\\widehat{\\mathsf{SE}}, \\bar x_1-\\bar x_2+t_{df,\\alpha/2}\\cdot\\widehat{\\mathsf{SE}}\\right)$$</li><br>\n",
    "                <li>Upper one-sided: $$\\left(-\\infty, \\bar x_1-\\bar x_2+t_{df,\\alpha}\\cdot\\widehat{\\mathsf{SE}}\\right)$$</li><br>\n",
    "                <li>Lower one-sided: $$\\left(\\bar x_1+\\bar x_2-t_{df,\\alpha}\\cdot\\widehat{\\mathsf{SE}},\\infty\\right)$$</li><br>\n",
    "            </ul>                \n",
    "        </li><br>       \n",
    "    </ul>\n",
    "</div>"
   ]
  },
  {
   "cell_type": "markdown",
   "id": "0b8a8b4c",
   "metadata": {},
   "source": [
    "## Example 3 Calculate with Weltch t-test\n",
    "\n",
    " - Wombat's are endangered, and in the wild, and sarcoptic mange is a big threat to their survival. Two types of treatments are used in the field, and biologists want to determine which treatment is most effective at protecting the wombats, as measured in hair length in the back.  Measurements were made, and the heir mean between these two groups compared.\n",
    " - Sample means $\\bar{x}_1=0.035 \\bar{x}_2=0.340$\n",
    " - Sample standard deviations $\\sigma_1=1.046 \\sigma_2=0.690$\n",
    " - Sample sizes $n_1=53 n_2=51$ \n",
    " - Are they different? two sided test\n",
    " - $\\alpha = 0.1$"
   ]
  },
  {
   "cell_type": "code",
   "execution_count": 9,
   "id": "0b27fae8",
   "metadata": {},
   "outputs": [
    {
     "data": {
      "text/html": [
       "0.173144425930651"
      ],
      "text/latex": [
       "0.173144425930651"
      ],
      "text/markdown": [
       "0.173144425930651"
      ],
      "text/plain": [
       "[1] 0.1731444"
      ]
     },
     "metadata": {},
     "output_type": "display_data"
    },
    {
     "data": {
      "text/html": [
       "90.4312108656671"
      ],
      "text/latex": [
       "90.4312108656671"
      ],
      "text/markdown": [
       "90.4312108656671"
      ],
      "text/plain": [
       "[1] 90.43121"
      ]
     },
     "metadata": {},
     "output_type": "display_data"
    },
    {
     "data": {
      "text/html": [
       "-0.305"
      ],
      "text/latex": [
       "-0.305"
      ],
      "text/markdown": [
       "-0.305"
      ],
      "text/plain": [
       "[1] -0.305"
      ]
     },
     "metadata": {},
     "output_type": "display_data"
    }
   ],
   "source": [
    "# pooled sample, value between both standard deviations\n",
    "n1_2 = 53\n",
    "n2_2 = 51\n",
    "m1_2 = 0.035\n",
    "m2_2 = 0.340\n",
    "s1_2 = 1.046\n",
    "s2_2 = .690\n",
    "se2 <- sqrt((s1_2^2/n1_2 )+ (s2_2^2/n2_2)); se2\n",
    "df2 <- ((1.046^2)/53+(0.69^2)/51)^2/(((1.046^2/53)^2/52)+(((0.69^2/51)^2)/50)); df2\n",
    "point_estimate2 <- m1_2 - m2_1; point_estimate2"
   ]
  },
  {
   "cell_type": "markdown",
   "id": "168dc926",
   "metadata": {},
   "source": [
    "# Calculate critical value $t_{90, 0.05}$"
   ]
  },
  {
   "cell_type": "code",
   "execution_count": 10,
   "id": "e47b46e1",
   "metadata": {},
   "outputs": [
    {
     "data": {
      "text/html": [
       "1.66187866414746"
      ],
      "text/latex": [
       "1.66187866414746"
      ],
      "text/markdown": [
       "1.66187866414746"
      ],
      "text/plain": [
       "[1] 1.661879"
      ]
     },
     "metadata": {},
     "output_type": "display_data"
    }
   ],
   "source": [
    "t_critical2 <- qt(0.1/2, df2, lower.tail=FALSE); t_critical2"
   ]
  },
  {
   "cell_type": "markdown",
   "id": "a18720d8",
   "metadata": {},
   "source": [
    "## Calculate the t statistic"
   ]
  },
  {
   "cell_type": "code",
   "execution_count": 11,
   "id": "67406342",
   "metadata": {},
   "outputs": [
    {
     "data": {
      "text/html": [
       "-1.76153519445183"
      ],
      "text/latex": [
       "-1.76153519445183"
      ],
      "text/markdown": [
       "-1.76153519445183"
      ],
      "text/plain": [
       "[1] -1.761535"
      ]
     },
     "metadata": {},
     "output_type": "display_data"
    }
   ],
   "source": [
    "# t statistic\n",
    "t_test_statitic2 <- point_estimate2/se2; t_test_statitic2"
   ]
  },
  {
   "cell_type": "markdown",
   "id": "52a052c1",
   "metadata": {},
   "source": [
    "## Calculate the pvalue, multiply by 2 since its a two sided test"
   ]
  },
  {
   "cell_type": "code",
   "execution_count": 12,
   "id": "b0098ff7",
   "metadata": {},
   "outputs": [
    {
     "data": {
      "text/html": [
       "0.0815276554607785"
      ],
      "text/latex": [
       "0.0815276554607785"
      ],
      "text/markdown": [
       "0.0815276554607785"
      ],
      "text/plain": [
       "[1] 0.08152766"
      ]
     },
     "metadata": {},
     "output_type": "display_data"
    }
   ],
   "source": [
    "# two sided test\n",
    "2 * pt(t_test_statitic2, df2)"
   ]
  },
  {
   "cell_type": "markdown",
   "id": "dc77e5b7",
   "metadata": {},
   "source": [
    "## Calculate 90% confidence interval 2 sides"
   ]
  },
  {
   "cell_type": "code",
   "execution_count": 13,
   "id": "1be0d692",
   "metadata": {},
   "outputs": [
    {
     "data": {
      "text/html": [
       "0.592407622774461"
      ],
      "text/latex": [
       "0.592407622774461"
      ],
      "text/markdown": [
       "0.592407622774461"
      ],
      "text/plain": [
       "[1] 0.5924076"
      ]
     },
     "metadata": {},
     "output_type": "display_data"
    },
    {
     "data": {
      "text/html": [
       "0.0175923772255392"
      ],
      "text/latex": [
       "0.0175923772255392"
      ],
      "text/markdown": [
       "0.0175923772255392"
      ],
      "text/plain": [
       "[1] 0.01759238"
      ]
     },
     "metadata": {},
     "output_type": "display_data"
    }
   ],
   "source": [
    "upper <- point_estimate + t_critical * se2; upper\n",
    "lower <- point_estimate - t_critical * se2; lower"
   ]
  },
  {
   "cell_type": "markdown",
   "id": "69c772f9",
   "metadata": {},
   "source": [
    "## Example 3 <font color=\"red\"> p value is greater than alpha, do not reject $H_0$</font> The 90% two sided confidence interval is (0.01759,  0.5924)"
   ]
  },
  {
   "cell_type": "markdown",
   "id": "3f04f335",
   "metadata": {},
   "source": [
    "<hr style=\"border-top: 5px solid black;\">"
   ]
  },
  {
   "cell_type": "markdown",
   "id": "c73ea904",
   "metadata": {},
   "source": [
    "## Example 4, Use the <code>t.test(x, mu=MU0, alt=TYPE, conf.level=CL)</code> method with Weltch method\n",
    "\n",
    " - Social scientist wants to determine if children with no siblings have more screentime than children with  siblings."
   ]
  },
  {
   "cell_type": "code",
   "execution_count": 14,
   "id": "f86caa38",
   "metadata": {},
   "outputs": [],
   "source": [
    "# Evaluate if data has equal variances with boxplot"
   ]
  },
  {
   "cell_type": "code",
   "execution_count": 15,
   "id": "630844f4",
   "metadata": {},
   "outputs": [
    {
     "data": {
      "image/png": "[encoded data removed]",
      "text/plain": [
       "plot without title"
      ]
     },
     "metadata": {
      "image/png": {
       "height": 420,
       "width": 420
      }
     },
     "output_type": "display_data"
    }
   ],
   "source": [
    "boxplot(minutes~only)"
   ]
  },
  {
   "cell_type": "code",
   "execution_count": 16,
   "id": "e83b585a",
   "metadata": {},
   "outputs": [
    {
     "data": {
      "text/plain": [
       "\n",
       "\tWelch Two Sample t-test\n",
       "\n",
       "data:  minutes by only\n",
       "t = -1.8663, df = 84.153, p-value = 0.03274\n",
       "alternative hypothesis: true difference in means between group no and group yes is less than 0\n",
       "90 percent confidence interval:\n",
       "      -Inf -30.74327\n",
       "sample estimates:\n",
       " mean in group no mean in group yes \n",
       "         718.2459          818.0968 \n"
      ]
     },
     "metadata": {},
     "output_type": "display_data"
    }
   ],
   "source": [
    "# determine if children with siblings watch more TV than those without siblings\n",
    "t.test(minutes~only, alt='l', conf.level=.90)"
   ]
  },
  {
   "cell_type": "markdown",
   "id": "14b4ccbe",
   "metadata": {},
   "source": [
    "## Example 4 <font color=\"red\"> p value is less than alpha, reject $H_0$</font> The 95% two sided confidence interval is (718.2 min,  818.09 min) per week."
   ]
  },
  {
   "cell_type": "markdown",
   "id": "5b799e79",
   "metadata": {},
   "source": [
    "<hr style=\"border-top: 5px solid black;\">"
   ]
  }
 ],
 "metadata": {
  "kernelspec": {
   "display_name": "R",
   "language": "R",
   "name": "ir"
  },
  "language_info": {
   "codemirror_mode": "r",
   "file_extension": ".r",
   "mimetype": "text/x-r-source",
   "name": "R",
   "pygments_lexer": "r",
   "version": "4.1.1"
  }
 },
 "nbformat": 4,
 "nbformat_minor": 5
}

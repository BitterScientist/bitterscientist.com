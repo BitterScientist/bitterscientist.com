{
 "cells": [
  {
   "cell_type": "markdown",
   "id": "e137da14",
   "metadata": {},
   "source": [
    "<hr style=\"border-top: 5px solid black;\">"
   ]
  },
  {
   "cell_type": "markdown",
   "id": "8aa62dff",
   "metadata": {},
   "source": [
    "<div class=\"alert alert-block alert-success\" style=\"font-size:20px; border:1px solid black; padding:10px\">\n",
    "<center><h1>Post Goals:</h1></center>\n",
    "    <hr style=\"border-top: 2px dashed black;\">\n",
    "    <ol>\n",
    "        <li><a href=\"#objective1\">Introduction to nonparametric procedures on two population.</a></li><br>\n",
    "        <li><a href=\"#objective2\">Sign Test</a></li><br>\n",
    "        <li><a href=\"#objective3\">Wilcoxon Signed Rank Test</a></li><br>\n",
    "        <li><a href=\"#objective4\">Wilcoxon-Mann-Whitney Rank Sum Test</a></li><br>        \n",
    "    </ol>\n",
    "</div>"
   ]
  },
  {
   "cell_type": "markdown",
   "id": "0737fcd3",
   "metadata": {},
   "source": [
    "<hr style=\"border-top: 5px solid black;\">"
   ]
  },
  {
   "cell_type": "markdown",
   "id": "3bf267d5",
   "metadata": {},
   "source": [
    "<div id=\"objective1\" class=\"alert alert-block alert-warning\" style=\"font-size:16px; border:1px solid black; padding:10px\"><center><h1><br><font color=\"blue\">Introduction to nonparametric procedures on two population.</font></h1></center><br>\n",
    "</div>\n",
    "<div style=\"font-size:16px; border:1px solid black; padding:10px\">\n",
    "    <ul><strong><u>The basics</u></strong>\n",
    "        <li>Not all inference tests that compare two samples have populations drawn from normal distributions.</li><br>\n",
    "        <li>In this post I will dive into a few nonparametric procedures that can be used when data is not normally distributed.</li><br>\n",
    "        <li>The sign test (median test) allows us to perform a hypothesis test on a population median, and consider the number of events that fall below and above.  We use this test in lieu of the t-test for a single population mean.</li><br>\n",
    "        <li>The sign test can be used when the assumptions of normality fail a paired t-test, since the paired test is a hypothesis test on a single sample (the differences) between the two sample populations.</li><br>\n",
    "        <li>Another more powerful test is the Wilcoxon signed rank test and can be used for making inferences on a single population median, or in a paired/dependent sampling scheme.</li><br>\n",
    "        <li>The final test that will be discussed here is the Mann-Whitney U-test, which is the analogue of the two-sample t-test, although this test finds the difference in the median between two populations that are sampled independently from each other.</li><br>\n",
    "        <li>The Mann-Whitney U-test is also called the Wilcoxon rank sum test and the  Wilcoxon-Mann-Whitney test. </li><br>        \n",
    "    </ul>\n",
    "</div>"
   ]
  },
  {
   "cell_type": "markdown",
   "id": "f3ac464e",
   "metadata": {},
   "source": [
    "<hr style=\"border-top: 5px solid black;\">"
   ]
  },
  {
   "cell_type": "markdown",
   "id": "b71820f1",
   "metadata": {},
   "source": [
    "<div id=\"objective2\" class=\"alert alert-block alert-warning\" style=\"font-size:16px; border:1px solid black; padding:10px\"><center><h1><br><font color=\"blue\">Sign Test</font></h1></center><br>\n",
    "</div>\n",
    "<div style=\"font-size:16px; border:1px solid black; padding:10px\">\n",
    "    <ul><strong><u>The Basics</u></strong>\n",
    "        <li>Use this test if you are interested in deciding if the median of the population is different in a paired sampling scheme is 0 or not.</li><br>\n",
    "        <li>\n",
    "            <ul>Assumptions:\n",
    "                <li>The difference comes from a random sample.</li><br>\n",
    "                <li>The difference is continous</li><br>\n",
    "            </ul>                \n",
    "        </li><br>\n",
    "        <li>\n",
    "            <ul>Hypothesis test:<br>\n",
    "                <li>Null Hypothesis. $H_o: \\tilde{\\mu_{D}} = 0 $</li><br>\n",
    "                <li>Alternative Hypothesis 2 sided: $H_a: \\tilde{\\mu_D} \\neq 0 $</li><br>\n",
    "                <li>Alternative Hypothesis 1 sided lower tail: $H_a: \\tilde{\\mu_D} < 0 $</li><br>\n",
    "                <li>Alternative Hypothesis 1 sided upper tail: $H_a: \\tilde{\\mu_D} > 0 $</li><br>\n",
    "            </ul>                \n",
    "        </li><br>  \n",
    "        <li>R method: <code>binom.test(x, n, p=P0, alt=TYPE, conf.level=CL)</code></li><br>\n",
    "    </ul>\n",
    "</div>"
   ]
  },
  {
   "cell_type": "markdown",
   "id": "fe95898a",
   "metadata": {},
   "source": [
    "# Example 1: cholesterol levels using Sign Test\n",
    "\n",
    " - Is the median after treatment 0"
   ]
  },
  {
   "cell_type": "code",
   "execution_count": 1,
   "id": "62cd8a6f",
   "metadata": {},
   "outputs": [
    {
     "data": {
      "text/html": [
       "<table class=\"dataframe\">\n",
       "<caption>A data.frame: 15 × 3</caption>\n",
       "<thead>\n",
       "\t<tr><th scope=col>subj</th><th scope=col>before</th><th scope=col>after</th></tr>\n",
       "\t<tr><th scope=col>&lt;int&gt;</th><th scope=col>&lt;int&gt;</th><th scope=col>&lt;int&gt;</th></tr>\n",
       "</thead>\n",
       "<tbody>\n",
       "\t<tr><td> 1</td><td>265</td><td>258</td></tr>\n",
       "\t<tr><td> 2</td><td>240</td><td>234</td></tr>\n",
       "\t<tr><td> 3</td><td>258</td><td>245</td></tr>\n",
       "\t<tr><td> 4</td><td>295</td><td>286</td></tr>\n",
       "\t<tr><td> 5</td><td>251</td><td>239</td></tr>\n",
       "\t<tr><td> 6</td><td>245</td><td>235</td></tr>\n",
       "\t<tr><td> 7</td><td>287</td><td>280</td></tr>\n",
       "\t<tr><td> 8</td><td>314</td><td>301</td></tr>\n",
       "\t<tr><td> 9</td><td>260</td><td>248</td></tr>\n",
       "\t<tr><td>10</td><td>279</td><td>268</td></tr>\n",
       "\t<tr><td>11</td><td>283</td><td>264</td></tr>\n",
       "\t<tr><td>12</td><td>240</td><td>228</td></tr>\n",
       "\t<tr><td>13</td><td>238</td><td>234</td></tr>\n",
       "\t<tr><td>14</td><td>225</td><td>216</td></tr>\n",
       "\t<tr><td>15</td><td>247</td><td>237</td></tr>\n",
       "</tbody>\n",
       "</table>\n"
      ],
      "text/latex": [
       "A data.frame: 15 × 3\n",
       "\\begin{tabular}{lll}\n",
       " subj & before & after\\\\\n",
       " <int> & <int> & <int>\\\\\n",
       "\\hline\n",
       "\t  1 & 265 & 258\\\\\n",
       "\t  2 & 240 & 234\\\\\n",
       "\t  3 & 258 & 245\\\\\n",
       "\t  4 & 295 & 286\\\\\n",
       "\t  5 & 251 & 239\\\\\n",
       "\t  6 & 245 & 235\\\\\n",
       "\t  7 & 287 & 280\\\\\n",
       "\t  8 & 314 & 301\\\\\n",
       "\t  9 & 260 & 248\\\\\n",
       "\t 10 & 279 & 268\\\\\n",
       "\t 11 & 283 & 264\\\\\n",
       "\t 12 & 240 & 228\\\\\n",
       "\t 13 & 238 & 234\\\\\n",
       "\t 14 & 225 & 216\\\\\n",
       "\t 15 & 247 & 237\\\\\n",
       "\\end{tabular}\n"
      ],
      "text/markdown": [
       "\n",
       "A data.frame: 15 × 3\n",
       "\n",
       "| subj &lt;int&gt; | before &lt;int&gt; | after &lt;int&gt; |\n",
       "|---|---|---|\n",
       "|  1 | 265 | 258 |\n",
       "|  2 | 240 | 234 |\n",
       "|  3 | 258 | 245 |\n",
       "|  4 | 295 | 286 |\n",
       "|  5 | 251 | 239 |\n",
       "|  6 | 245 | 235 |\n",
       "|  7 | 287 | 280 |\n",
       "|  8 | 314 | 301 |\n",
       "|  9 | 260 | 248 |\n",
       "| 10 | 279 | 268 |\n",
       "| 11 | 283 | 264 |\n",
       "| 12 | 240 | 228 |\n",
       "| 13 | 238 | 234 |\n",
       "| 14 | 225 | 216 |\n",
       "| 15 | 247 | 237 |\n",
       "\n"
      ],
      "text/plain": [
       "   subj before after\n",
       "1   1   265    258  \n",
       "2   2   240    234  \n",
       "3   3   258    245  \n",
       "4   4   295    286  \n",
       "5   5   251    239  \n",
       "6   6   245    235  \n",
       "7   7   287    280  \n",
       "8   8   314    301  \n",
       "9   9   260    248  \n",
       "10 10   279    268  \n",
       "11 11   283    264  \n",
       "12 12   240    228  \n",
       "13 13   238    234  \n",
       "14 14   225    216  \n",
       "15 15   247    237  "
      ]
     },
     "metadata": {},
     "output_type": "display_data"
    }
   ],
   "source": [
    "cholesterol <- read.csv('data/cholesterol.paired.csv')\n",
    "attach(cholesterol)\n",
    "cholesterol"
   ]
  },
  {
   "cell_type": "markdown",
   "id": "1994a65a",
   "metadata": {},
   "source": [
    "## Calculations"
   ]
  },
  {
   "cell_type": "code",
   "execution_count": 2,
   "id": "c66959a1",
   "metadata": {},
   "outputs": [
    {
     "data": {
      "text/html": [
       "15"
      ],
      "text/latex": [
       "15"
      ],
      "text/markdown": [
       "15"
      ],
      "text/plain": [
       "[1] 15"
      ]
     },
     "metadata": {},
     "output_type": "display_data"
    },
    {
     "data": {
      "text/plain": [
       "\n",
       "\tExact binomial test\n",
       "\n",
       "data:  15 and 15\n",
       "number of successes = 15, number of trials = 15, p-value = 3.052e-05\n",
       "alternative hypothesis: true probability of success is greater than 0.5\n",
       "95 percent confidence interval:\n",
       " 0.8189637 1.0000000\n",
       "sample estimates:\n",
       "probability of success \n",
       "                     1 \n"
      ]
     },
     "metadata": {},
     "output_type": "display_data"
    }
   ],
   "source": [
    "diff <- before - after\n",
    "sum(diff > 0)\n",
    "binom.test(x=15, n=15, alt='g')"
   ]
  },
  {
   "cell_type": "markdown",
   "id": "909f3908",
   "metadata": {},
   "source": [
    "## Example 1 Result<br>  <font color=\"red\"> Reject $H_0$</font> <br>The p value is less than the alpha level, the result suggest the differences are positive, cholesterol is down due to intervention"
   ]
  },
  {
   "cell_type": "markdown",
   "id": "89864523",
   "metadata": {},
   "source": [
    "<hr style=\"border-top: 5px solid black;\">"
   ]
  },
  {
   "cell_type": "markdown",
   "id": "6291fe5b",
   "metadata": {},
   "source": [
    "<div id=\"objective3\" class=\"alert alert-block alert-warning\" style=\"font-size:16px; border:1px solid black; padding:10px\"><center><h1><br><font color=\"blue\">Wilcoxon Signed Rank Test</font></h1></center><br>\n",
    "</div>\n",
    "<div style=\"font-size:16px; border:1px solid black; padding:10px\">\n",
    "    <ul><strong><u>The Basics</u></strong>\n",
    "        <li>Use the Wilcoxon Signed Rank Test on a paired sampling scheme or a single sample, but its similar to a paired t-test for data that is not normally distributed.</li><br>\n",
    "        <li>The Wilcoxon signed rank test is a test for the population median, with the assumption that the differences have a symmetric distribution.</li>\n",
    "        <li>\n",
    "            <ul>Assumptions:\n",
    "                <li>The differences comes from a random sample.</li><br>\n",
    "                <li>The differences is either numeric or ordinal</li><br>\n",
    "                <li>The differences is symmetric</li><br>                \n",
    "            </ul>                \n",
    "        </li><br>\n",
    "        <li>\n",
    "            <ul>Hypothesis test:<br>\n",
    "                <li>Null Hypothesis. $H_o: \\tilde{\\mu_{D}} = 0 $</li><br>\n",
    "                <li>Alternative Hypothesis 2 sided: $H_a: \\tilde{\\mu_D} \\neq 0 $</li><br>\n",
    "                <li>Alternative Hypothesis 1 sided lower tail: $H_a: \\tilde{\\mu_D} < 0 $</li><br>\n",
    "                <li>Alternative Hypothesis 1 sided upper tail: $H_a: \\tilde{\\mu_D} > 0 $</li><br>\n",
    "            </ul>                \n",
    "        </li><br>  \n",
    "        <li>R method: <code>wilcox.test(before, after, paired=TRUE, alt=TYPE, conf.level=CL)</code></li><br>\n",
    "    </ul>\n",
    "</div>"
   ]
  },
  {
   "cell_type": "markdown",
   "id": "c8c0cd5f",
   "metadata": {},
   "source": [
    "# Example 2: cholesterol levels using the Wilcox test\n",
    "\n",
    " - Check if the difference between the paired sample is symmetric\n",
    " - If yes, perform the test"
   ]
  },
  {
   "cell_type": "code",
   "execution_count": 3,
   "id": "07827ddb",
   "metadata": {},
   "outputs": [
    {
     "data": {
      "image/png": "[encoded data removed]",
      "text/plain": [
       "Plot with title “Histogram of diff”"
      ]
     },
     "metadata": {
      "image/png": {
       "height": 420,
       "width": 420
      }
     },
     "output_type": "display_data"
    }
   ],
   "source": [
    "# Check if difference is symmetric\n",
    "hist(diff)"
   ]
  },
  {
   "cell_type": "code",
   "execution_count": 4,
   "id": "3f11a384",
   "metadata": {},
   "outputs": [
    {
     "name": "stderr",
     "output_type": "stream",
     "text": [
      "Warning message in wilcox.test.default(cholesterol$before, cholesterol$after, paired = TRUE, :\n",
      "“cannot compute exact p-value with ties”\n"
     ]
    },
    {
     "data": {
      "text/plain": [
       "\n",
       "\tWilcoxon signed rank test with continuity correction\n",
       "\n",
       "data:  cholesterol$before and cholesterol$after\n",
       "V = 120, p-value = 0.0003561\n",
       "alternative hypothesis: true location shift is greater than 0\n"
      ]
     },
     "metadata": {},
     "output_type": "display_data"
    }
   ],
   "source": [
    "wilcox.test(cholesterol$before,cholesterol$after,paired=TRUE,alt='g')"
   ]
  },
  {
   "cell_type": "markdown",
   "id": "7eea8fd0",
   "metadata": {},
   "source": [
    "## Example 2 Result<br>  <font color=\"red\"> Reject $H_0$</font> <br>The p value is less than the alpha level, the result suggest the differences are positive, cholesterol is down due to intervention"
   ]
  },
  {
   "cell_type": "markdown",
   "id": "abd7ea50",
   "metadata": {},
   "source": [
    "<hr style=\"border-top: 5px solid black;\">"
   ]
  },
  {
   "cell_type": "markdown",
   "id": "59b6e26a",
   "metadata": {},
   "source": [
    "<div id=\"objective4\" class=\"alert alert-block alert-warning\" style=\"font-size:16px; border:1px solid black; padding:10px\"><center><h1><br><font color=\"blue\">Wilcoxon-Mann-Whitney Rank Sum Test</font></h1></center><br>\n",
    "</div>\n",
    "<div style=\"font-size:16px; border:1px solid black; padding:10px\">\n",
    "    <ul><strong><u>The Basics</u></strong>\n",
    "        <li>Use this test when you have two independent samples whose data is not normally distributed.</li><br>\n",
    "        <li>The Wilcoxon signed rank test is a test for the population median, with the assumption that the differences have a symmetric distribution.</li>\n",
    "        <li>\n",
    "            <ul>Assumptions:\n",
    "                <li>Random sample with same variable from populations</li><br>\n",
    "                <li>The samples are independent form one another.</li><br>\n",
    "                <li>The data is either numeric or ordinal</li><br>\n",
    "                <li>The two populations curves have the same \"shape\".</li><br>                \n",
    "            </ul>                \n",
    "        </li><br>\n",
    "        <li>\n",
    "            <ul>Hypothesis test:<br>\n",
    "                <li>Null Hypothesis. $H_o: \\tilde{\\mu_1} = \\tilde{\\mu_2} $</li><br>\n",
    "                <li>Alternative Hypothesis 2 sided: $H_a: \\tilde{\\mu_1} \\neq \\tilde{\\mu_2} $</li><br>\n",
    "                <li>Alternative Hypothesis 1 sided lower tail: $H_a: \\tilde{\\mu_1} < \\tilde{\\mu_2} $</li><br>\n",
    "                <li>Alternative Hypothesis 1 sided upper tail: $H_a: \\tilde{\\mu_1} > \\tilde{\\mu_2} $</li><br>\n",
    "            </ul>                \n",
    "        </li><br>  \n",
    "        <li>R method: <code>wilcox.test(chol~group, alt='g')</code></li><br>\n",
    "    </ul>\n",
    "</div>"
   ]
  },
  {
   "cell_type": "markdown",
   "id": "5b43c52e",
   "metadata": {},
   "source": [
    "# Example 3: cholesterol levels using the Wilcoxon-Mann-Whitney Rank Sum Test\n",
    "\n",
    " - This is a test that has two independent samples that either received treatment or did not\n",
    " - Need to check that the two samples have the same \"shape\", will use a boxplot"
   ]
  },
  {
   "cell_type": "code",
   "execution_count": 5,
   "id": "0117cc80",
   "metadata": {},
   "outputs": [],
   "source": [
    "# Load Data\n",
    "cholesterol_exp2 <- read.csv('data/cholesterol.csv')"
   ]
  },
  {
   "cell_type": "code",
   "execution_count": 6,
   "id": "09dbc06c",
   "metadata": {},
   "outputs": [
    {
     "data": {
      "image/png": "[encoded data removed]",
      "text/plain": [
       "plot without title"
      ]
     },
     "metadata": {
      "image/png": {
       "height": 420,
       "width": 420
      }
     },
     "output_type": "display_data"
    }
   ],
   "source": [
    "# Box plot\n",
    "boxplot(cholesterol_exp2$chol~cholesterol_exp2$group)"
   ]
  },
  {
   "cell_type": "code",
   "execution_count": 7,
   "id": "4527cfde",
   "metadata": {},
   "outputs": [
    {
     "name": "stderr",
     "output_type": "stream",
     "text": [
      "Warning message in wilcox.test.default(x = c(298L, 279L, 256L, 242L, 289L, 264L, :\n",
      "“cannot compute exact p-value with ties”\n"
     ]
    },
    {
     "data": {
      "text/plain": [
       "\n",
       "\tWilcoxon rank sum test with continuity correction\n",
       "\n",
       "data:  cholesterol_exp2$chol by cholesterol_exp2$group\n",
       "W = 148, p-value = 0.073\n",
       "alternative hypothesis: true location shift is greater than 0\n"
      ]
     },
     "metadata": {},
     "output_type": "display_data"
    }
   ],
   "source": [
    "# peform test\n",
    "wilcox.test(cholesterol_exp2$chol~cholesterol_exp2$group, alt='g')"
   ]
  },
  {
   "cell_type": "markdown",
   "id": "6e182cff",
   "metadata": {},
   "source": [
    "## Example 3 Result<br>  <font color=\"red\"> Accept $H_0$</font> <br>The p value is greater than the alpha level, the result suggest the two groups are not different."
   ]
  },
  {
   "cell_type": "markdown",
   "id": "12344138",
   "metadata": {},
   "source": [
    "<hr style=\"border-top: 5px solid black;\">"
   ]
  }
 ],
 "metadata": {
  "kernelspec": {
   "display_name": "R",
   "language": "R",
   "name": "ir"
  },
  "language_info": {
   "codemirror_mode": "r",
   "file_extension": ".r",
   "mimetype": "text/x-r-source",
   "name": "R",
   "pygments_lexer": "r",
   "version": "4.1.1"
  }
 },
 "nbformat": 4,
 "nbformat_minor": 5
}

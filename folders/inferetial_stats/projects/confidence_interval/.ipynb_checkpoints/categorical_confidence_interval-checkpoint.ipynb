{
 "cells": [
  {
   "cell_type": "code",
   "execution_count": 1,
   "metadata": {},
   "outputs": [],
   "source": [
    "%%javascript\n",
    "IPython.OutputArea.prototype._should_scroll = function(lines) {\n",
    "    return false;\n",
    "}"
   ]
  },
  {
   "cell_type": "markdown",
   "metadata": {},
   "source": [
    "<center style=\"font-size:18px;\"><h1>Calculating <font color=\"red\"><strong><em>Confidence Intervals</em></strong></font><br> for Categorical Data.</h1></center>"
   ]
  },
  {
   "cell_type": "markdown",
   "metadata": {},
   "source": [
    "<div style=\"font-size:16px; border:1px solid black; padding:10px\">\n",
    "    <center><h1>Prequel to Confidence Intervals: <br><font color=\"blue\">Categorical Data</font></h1></center>\n",
    "<ul>\n",
    "    <li>Before we get into confidence interval, it's important to understand what is <strong>Categorical Data</strong></li><br>\n",
    "    <li><mark><strong>Categorical Data:</strong> Data that can be divided into groups.</mark></li><br>\n",
    "    <li>Examples include: <em>race, sex, age groups, sports teams, educational level, income groups, preferences, heads or tails</em>, and the list can go on.</li><br>    \n",
    "    <li><mark>How can numeric variables like <em>age groups, and income groups</em> be categorical?!</mark></li><br>\n",
    "    <li>The example variables above are grouped and not discrete.  For example, the 'Age Group' may data where the age of each instance is grouped into an age range, such as 1-10, 11-20 and 21-30.  Each range is a group, and individuals who fall into a specific bin is counted in that bin.  This makes this variable categorical.</li><br>\n",
    "    <li>Analysis of categorical data generally involves the use of data tables.</li><br>\n",
    "    <li>A common example is a <strong>two-way table</strong>, which represents categorical data by counting the number of observations that fall into each group for two variables.  A unique category is in the rows, and the other category is the column, and the actual data inside the table are instances that contain a combination of these groups in each category.</li><br>\n",
    "    <li>The total for each category is called the <strong>marginal distribution</strong>.</li><br>\n",
    "    <li>Segmented bar graphs are a common graphical tool used to analyze categorical data.</li><br>\n",
    "    <li>Analysis of categorical data usualy involves proportions (how much of this group from the entire category).</li><br> \n",
    "    <li>Categorical data can be analyzed using single parameters, comparing two parameters, or investigating the potential relationship between two or more categorical variables (such as the two-way table).</li>\n",
    "    </ul>\n",
    "</div>"
   ]
  },
  {
   "cell_type": "markdown",
   "metadata": {},
   "source": [
    "<div style=\"font-size:16px; border:1px solid black; padding:10px\">\n",
    "<center><h1><br><font color=\"blue\">Why Confidence Intervals Matter</font></h1></center>    \n",
    "    <ul>\n",
    "        <li>Confidence intervals is a mathematical method to quantify the certainty (or uncertainty) of an estimate.  This is important because you rarely ever have the entire population of data to work with, so you need to calculate the probability that your value is within an acceptable range.</li><br>\n",
    "        <li><mark><strong>Confidence Interval:</strong> A range computed using sample statistics to estimate an unknown population parameter with a stated level of confidence</mark></li><br>\n",
    "        <li>Confidence intervals is a way of acknowledging uncertainty, and providing a range of potential values rather than a single point estimate.  It's a way to be \"safe\".</li><br>\n",
    "    <li>In these cases we can use the sample data that we do have to construct a confidence interval to estimate the population parameter with a stated level of confidence.</li><br>\n",
    "    <li>At the center of a confidence interval is the sample statistic, such as a sample mean or sample proportion. AKA point estimate.</li><br>\n",
    "    <li><strong>Sample proportion:</strong> is the parameter that is used when calculating the confidence interval for categorical data.</li><br>\n",
    "    <li>The width of the confidence interval is determined by the margin of error.</li><br>\n",
    "    <li>The margin of error is the amount that is subtracted from and added to the point estimate to construct the confidence interval.</li><br>\n",
    "    <li>This informaiton is visualized in the image below.</li><br>        \n",
    "    <li><strong>Margin of Error:</strong> Half of the width of a confidence interval; equal to the multiplier times the standard error</li><br>\n",
    "        <li>Confidence intervals are usually expressed as high percentages: <em>90% or 95%</em></li><br>\n",
    "        <li>This percentage suggest that the 90% or 95% range contains the sampling distribution of the sample.</li><br>   \n",
    "    <li>Confidence intervals are similar to frequency tables, histograms, boxplots, and standard errors. These tools help you understand the potential error in your sample estimate.</li><br>        \n",
    "</ul>\n",
    "</div>"
   ]
  },
  {
   "cell_type": "code",
   "execution_count": 2,
   "metadata": {},
   "outputs": [],
   "source": [
    "# to load images for this tutorial\n",
    "from IPython.display import Image\n",
    "import os\n",
    "path = os.getcwd()\n",
    "\n",
    "meme = os.path.join(path, 'confidence_interval.png')\n",
    "Image(filename=meme) "
   ]
  },
  {
   "cell_type": "markdown",
   "metadata": {},
   "source": [
    "<div style=\"font-size:16px; border:1px solid black; padding:10px\">\n",
    "<center><h1><br><font color=\"blue\">Post Goals</font></h1></center>    \n",
    "    <ol>\n",
    "        <li>Demonstrate how to calculate the Confidence Intervals and Significance Tests for a Single Proportion</li><br>\n",
    "        <li>Demonstrate how to Compare two Proportions</li><br>\n",
    "</ol>\n",
    "</div>"
   ]
  },
  {
   "cell_type": "markdown",
   "metadata": {},
   "source": [
    "<div style=\"font-size:16px; border:1px solid black; padding:10px\">\n",
    "    <center><h1><br>Part 1:<br><font color=\"blue\">Calculate the Confidence Intervals and Significance Tests for a Single Proportion</font></h1></center>    \n",
    "    <ul>\n",
    "        <li>The formula and common z-score values are depicted below</li><br>       \n",
    "</ul>\n",
    "</div>"
   ]
  },
  {
   "cell_type": "code",
   "execution_count": 3,
   "metadata": {},
   "outputs": [],
   "source": [
    "# to load images for this tutorial\n",
    "from IPython.display import Image\n",
    "import os\n",
    "path = os.getcwd()\n",
    "\n",
    "meme = os.path.join(path, 'ci_proportion.png')\n",
    "Image(filename=meme) "
   ]
  },
  {
   "cell_type": "code",
   "execution_count": 4,
   "metadata": {},
   "outputs": [],
   "source": [
    "# to load images for this tutorial\n",
    "from IPython.display import Image\n",
    "import os\n",
    "path = os.getcwd()\n",
    "\n",
    "meme = os.path.join(path, 'zvalueci.png')\n",
    "Image(filename=meme) "
   ]
  },
  {
   "cell_type": "markdown",
   "metadata": {},
   "source": [
    "<hr style=\"border-top: 5px solid black;\">"
   ]
  },
  {
   "cell_type": "markdown",
   "metadata": {},
   "source": [
    "<div style=\"font-size:16px; border:1px solid black; padding:10px\">\n",
    "<center><h1><br><font color=\"blue\">Example</font></h1></center>    \n",
    "    <ul>\n",
    "        <li>An online poll <a href=\"https://racedayct.com/2021/01/racedayct-daily-poll-who-will-win-the-super-bowl/\">Super Bowl LV Winner</a> asked readers to select who they think will win the 2021 Super bowl, the Kansas City Chiefs, or the Tampa Bay Buccanears.</li><br>\n",
    "        <li>Kansas City: 70 votes</li><br>\n",
    "        <li>Tampa Bay: 93 votes</li><br>\n",
    "        <li><strong>Questions:</strong> What is a 95% confidence interval for the proportion? Is the proportion of those that favor Kansas City Chiefs to win the Super Bowl significantly different from 0.5?</li><br>\n",
    "        <li>Python numpy will be used in the calculation</li>\n",
    "</ul>\n",
    "</div>"
   ]
  },
  {
   "cell_type": "code",
   "execution_count": 5,
   "metadata": {},
   "outputs": [],
   "source": [
    "# import python dependencies\n",
    "import pandas as pd\n",
    "import numpy as np"
   ]
  },
  {
   "cell_type": "code",
   "execution_count": 6,
   "metadata": {},
   "outputs": [
    {
     "name": "stdout",
     "output_type": "stream",
     "text": [
      "The sample proportion for kansas city winning is 0.4294478527607362\n"
     ]
    }
   ],
   "source": [
    "total_votes = 70+93\n",
    "\n",
    "# calculate the proportion for each\n",
    "favor_kansas_proportion = 70 /total_votes\n",
    "favor_tampa_proportion = 93 /total_votes\n",
    "print(f'The sample proportion for kansas city winning is {favor_kansas_proportion}')"
   ]
  },
  {
   "cell_type": "code",
   "execution_count": 7,
   "metadata": {},
   "outputs": [],
   "source": [
    "# find the z-score value from table\n",
    "z_val = 1.96"
   ]
  },
  {
   "cell_type": "code",
   "execution_count": 8,
   "metadata": {},
   "outputs": [
    {
     "name": "stdout",
     "output_type": "stream",
     "text": [
      "The standard error for kansas city is: 0.039\n"
     ]
    }
   ],
   "source": [
    "# calculate the standard error\n",
    "s_p = np.sqrt((favor_kansas_proportion * (1 - favor_kansas_proportion))/total_votes)\n",
    "print(f'The standard error for kansas city is: {s_p.round(3)}')"
   ]
  },
  {
   "cell_type": "code",
   "execution_count": 9,
   "metadata": {},
   "outputs": [
    {
     "name": "stdout",
     "output_type": "stream",
     "text": [
      "The confidence interval for the proportion of pollster that favored Kansas City Chiefs\n",
      "Lower: 0.353\n",
      "Upper: 0.505\n"
     ]
    }
   ],
   "source": [
    "# put it all together\n",
    "ci_upper = favor_kansas_proportion + 1.96 * s_p\n",
    "ci_lower = favor_kansas_proportion - 1.96 * s_p\n",
    "print(f'The confidence interval for the proportion of pollster that favored Kansas City Chiefs\\nLower: {ci_lower.round(3)}\\nUpper: {ci_upper.round(3)}')"
   ]
  },
  {
   "cell_type": "code",
   "execution_count": 10,
   "metadata": {},
   "outputs": [
    {
     "data": {
      "image/png": "[encoded data removed]",
      "text/plain": [
       "<IPython.core.display.Image object>"
      ]
     },
     "execution_count": 10,
     "metadata": {},
     "output_type": "execute_result"
    }
   ],
   "source": [
    "# to load images for this tutorial\n",
    "from IPython.display import Image\n",
    "import os\n",
    "path = os.getcwd()\n",
    "\n",
    "meme = os.path.join(path, 'hypo_cat.png')\n",
    "Image(filename=meme) "
   ]
  },
  {
   "cell_type": "markdown",
   "metadata": {},
   "source": [
    "<h2>We want to test the one-sided hypothesis Ha: p > 0.5 against the null hypothesis that p = 0.5</h2>"
   ]
  },
  {
   "cell_type": "code",
   "execution_count": 11,
   "metadata": {},
   "outputs": [
    {
     "name": "stdout",
     "output_type": "stream",
     "text": [
      "The test statistic z = -1.8014990349723012\n"
     ]
    }
   ],
   "source": [
    "p_0 = 0.5\n",
    "z_numerator = favor_kansas_proportion - p_0\n",
    "z_denominator = np.sqrt((p_0 * (1 - p_0))/total_votes)\n",
    "z = z_numerator/z_denominator\n",
    "print(f'The test statistic z = {z}')"
   ]
  },
  {
   "cell_type": "markdown",
   "metadata": {},
   "source": [
    "<h2>Get the z value from a table such as <a href=\"http://www.z-table.com/\">z-table</a></h2>"
   ]
  },
  {
   "cell_type": "code",
   "execution_count": 12,
   "metadata": {},
   "outputs": [
    {
     "name": "stdout",
     "output_type": "stream",
     "text": [
      "The P(Z>-1.8014990349723012) = 1 - P(Z < -1.8014990349723012) = 0.9649\n"
     ]
    }
   ],
   "source": [
    "# the z value for Z at -1.801 is 0.0351\n",
    "z_val = 0.0351\n",
    "print(f'The P(Z>{z}) = 1 - P(Z < {z}) = {1 - z_val}')"
   ]
  },
  {
   "cell_type": "markdown",
   "metadata": {},
   "source": [
    "<div style=\"font-size:16px; border:1px solid black; padding:10px\">\n",
    "<center><h1><br><font color=\"blue\">Conclusion</font></h1></center>    \n",
    "    <ul>\n",
    "        <li>Because the probability P(Z > 0.0351) = 1 - P(Z less than 0.0351) = 1 - 0.0351 = 0.9649m the results are not significant. We cannot conclude that more than 50% of pollsters favor the Kansas City Chiefs to win the Super Bowl.</li>\n",
    "</ul>\n",
    "</div>"
   ]
  },
  {
   "cell_type": "markdown",
   "metadata": {},
   "source": [
    "<hr style=\"border-top: 5px solid black;\">"
   ]
  },
  {
   "cell_type": "markdown",
   "metadata": {},
   "source": [
    "<div style=\"font-size:16px; border:1px solid black; padding:10px\">\n",
    "    <center><h1><br>Part 2:<br><font color=\"blue\">Comparing Two Proportions</font></h1></center>    \n",
    "    <ul><strong>Motivation:</strong>\n",
    "        <li>In many cases, analyst, scientist, or researchers are interested in gather data for two populations in order to compare them. </li><br>\n",
    "        <li>Confidence intervals and tests of significance are useful statistical tools to compare the difference between two population parameters.</li><br>        \n",
    "        <li>A confidence interval for the difference between two means will specify a range of values where the difference between the mean of the population exists.</li><br>\n",
    "        <li>Examples</li><br>\n",
    "        <ul>\n",
    "            <li>Company that wants to estimate the differnece in the mean number of downloads of a specific app.</li><br>\n",
    "            <li>A researcher who wants to estimate the difference in efficacy between two Covid-19 vaccines in individuals that receivd them.</li><br>\n",
    "            <li>For categorical data, the comparison of two proportions involves analyzing the difference between their sample proportions..</li><br>            \n",
    "        </ul>\n",
    "        <li>The formula that can be used are described below.</li><br>\n",
    "        <li>The first image describes the standard error of the difference.</li><br>\n",
    "    </ul>\n",
    "</div>"
   ]
  },
  {
   "cell_type": "code",
   "execution_count": 13,
   "metadata": {},
   "outputs": [
    {
     "data": {
      "image/png": "[encoded data removed]",
      "text/plain": [
       "<IPython.core.display.Image object>"
      ]
     },
     "execution_count": 13,
     "metadata": {},
     "output_type": "execute_result"
    }
   ],
   "source": [
    "# to load images for this tutorial\n",
    "from IPython.display import Image\n",
    "import os\n",
    "path = os.getcwd()\n",
    "\n",
    "meme = os.path.join(path, 'standarderror_difference.png')\n",
    "Image(filename=meme) "
   ]
  },
  {
   "cell_type": "code",
   "execution_count": 14,
   "metadata": {},
   "outputs": [
    {
     "data": {
      "image/png": "[encoded data removed]",
      "text/plain": [
       "<IPython.core.display.Image object>"
      ]
     },
     "execution_count": 14,
     "metadata": {},
     "output_type": "execute_result"
    }
   ],
   "source": [
    "# to load images for this tutorial\n",
    "from IPython.display import Image\n",
    "import os\n",
    "path = os.getcwd()\n",
    "\n",
    "meme = os.path.join(path, 'proportion_hypotest.png')\n",
    "Image(filename=meme) "
   ]
  },
  {
   "cell_type": "markdown",
   "metadata": {},
   "source": [
    "<div style=\"font-size:16px; border:1px solid black; padding:10px\">\n",
    "<center><h1><br><font color=\"blue\">Example</font></h1></center>    \n",
    "    <ul>\n",
    "        <li>An online poll asked male and female football enthusiast whether footwork, decision making, or throwing ability was the most important quality in a great quarterback.</li><br>\n",
    "        <li>Question 1: Is throwing ability more important to women or men?</li><br>\n",
    "        <li>Question 2: What is the confidence inteval for this difference?</li><br>\n",
    "        <li><strong>Data:</strong> \n",
    "            <ul>\n",
    "                <li>169 women and 166 men were included in the survey</li>\n",
    "                <li>58 women ranked throwing ability as the most important</li>\n",
    "                <li>40 men ranked throwing ability as the most important</li>\n",
    "            </ul>\n",
    "        </li><br>\n",
    "        <li>Python numpy will be used in the calculation</li>        \n",
    "</ul>\n",
    "</div>"
   ]
  },
  {
   "cell_type": "markdown",
   "metadata": {},
   "source": [
    "<h3>Part 1 of this example: Calculate the confidence interval for two proportions (yeah we'll begin with this first)</h3>"
   ]
  },
  {
   "cell_type": "code",
   "execution_count": 15,
   "metadata": {},
   "outputs": [],
   "source": [
    "# get the proportions for each sex and assign over values to variables\n",
    "male_proportion = 40/166\n",
    "female_proportion = 58/169\n",
    "male_pop = 166\n",
    "female_pop = 169\n",
    "women_throwing = 58\n",
    "men_throwing = 40\n",
    "z_95 = 1.96 # this is the z-score value for 95% confidence interval"
   ]
  },
  {
   "cell_type": "code",
   "execution_count": 16,
   "metadata": {},
   "outputs": [
    {
     "name": "stdout",
     "output_type": "stream",
     "text": [
      "The standard error of the difference sd: 0.0494\n"
     ]
    }
   ],
   "source": [
    "# calculate the sd\n",
    "sd = np.sqrt((male_proportion*(1 - male_proportion)/male_pop) + (female_proportion*(1 - female_proportion)/female_pop))\n",
    "print(f'The standard error of the difference sd: {sd.round(4)}')"
   ]
  },
  {
   "cell_type": "code",
   "execution_count": 17,
   "metadata": {},
   "outputs": [
    {
     "name": "stdout",
     "output_type": "stream",
     "text": [
      "The confidence interval for the difference in these two proportions is:\n",
      "(0.0055,0.199)\n"
     ]
    }
   ],
   "source": [
    "# now calculate the 95% confidence interval as described above CI = p1 - p2 + z*sd\n",
    "ci_95_upper = (female_proportion - male_proportion + z_95 * sd).round(4)\n",
    "ci_95_lower = (female_proportion - male_proportion - z_95 * sd).round(4)\n",
    "print(f'The confidence interval for the difference in these two proportions is:\\n({ci_95_lower},{ci_95_upper})')"
   ]
  },
  {
   "cell_type": "markdown",
   "metadata": {},
   "source": [
    "<div style=\"font-size:16px; border:1px solid black; padding:10px\">\n",
    "<center><h3><br><font color=\"blue\">Conclusion</font></h3></center>    \n",
    "    <ul>\n",
    "        <li>The confidence interval for the difference in the two proportions of women and men that rank throwing ability as the most important quarterback trait is (0.0055,0.199).</li>\n",
    "        <li>Because the confidence interval is very close to 0, it indicates that the difference in the proportions is not highly significant.</li>\n",
    "        <li><strong>Next step</strong>: Test the null hypothesis that H0: p1 = p2 against one of the alternative hypothesis</li>\n",
    "</ul>\n",
    "</div>"
   ]
  },
  {
   "cell_type": "markdown",
   "metadata": {},
   "source": [
    "<h3>Part 2 of this example: Hypothesis testing! Is the proportion of men and women that ranked throwing skills as the top quarterback skill significantly different?</h3>"
   ]
  },
  {
   "cell_type": "code",
   "execution_count": 18,
   "metadata": {},
   "outputs": [
    {
     "name": "stdout",
     "output_type": "stream",
     "text": [
      "The pooled estimate or p hat is 0.2925\n"
     ]
    }
   ],
   "source": [
    "# To test the difference of the proportions of women and men who rated throwing ability most important, \n",
    "# compute the pooled estimate\n",
    "# (x1 + x2)/(n1 + n2) where x1 and x2 are the number of individuals that ranked throwing ability first\n",
    "p_hat = round((men_throwing + women_throwing)/(male_pop + female_pop),4)\n",
    "print(f'The pooled estimate or p hat is {p_hat}')"
   ]
  },
  {
   "cell_type": "code",
   "execution_count": 19,
   "metadata": {},
   "outputs": [
    {
     "name": "stdout",
     "output_type": "stream",
     "text": [
      "The pooled standard error is 0.0497\n"
     ]
    }
   ],
   "source": [
    "# calculate the pooled standard error (pse) aka sp from formula in images above. use p_hat here\n",
    "sp = np.sqrt(p_hat* (1-p_hat) * (1/male_pop + 1/female_pop)).round(4)\n",
    "print(f'The pooled standard error is {sp}')"
   ]
  },
  {
   "cell_type": "code",
   "execution_count": 20,
   "metadata": {},
   "outputs": [
    {
     "name": "stdout",
     "output_type": "stream",
     "text": [
      "The test statistic z: 2.05697\n",
      "The corresponding z-score (looked online) is: 0.9798\n"
     ]
    }
   ],
   "source": [
    "# calculate the test statistic z = (p_hat1 - p_hat2)/sp where p_hat are the proportions\n",
    "z_test_statistic = round((female_proportion - male_proportion)/sp,5)\n",
    "print(f'The test statistic z: {z_test_statistic}\\nThe corresponding z-score (looked online) is: 0.9798')\n",
    "Z_score = 0.9798"
   ]
  },
  {
   "cell_type": "code",
   "execution_count": 21,
   "metadata": {},
   "outputs": [
    {
     "name": "stdout",
     "output_type": "stream",
     "text": [
      "The p_value is: 0.0404\n"
     ]
    }
   ],
   "source": [
    "# Since this is a two-sided hypothesis, we are interested in the probability 2P(Z > 2)\n",
    "# p_val = 2(1 - Z_score)\n",
    "p_val = round(2 * (1 - Z_score),4)\n",
    "print(f'The p_value is: {p_val}')"
   ]
  },
  {
   "cell_type": "markdown",
   "metadata": {},
   "source": [
    "<div style=\"font-size:16px; border:1px solid black; padding:10px\">\n",
    "<center><h3><br><font color=\"blue\">Conclusion</font></h3></center>    \n",
    "    <ul>\n",
    "        <li>The p-value for this 2-sided hypothesis is 0.0404.</li>\n",
    "        <li>This value is significant at the 0.05 level but not significant at the 0.01 level</li>\n",
    "        <li>This suggest that there is a significant (but not highly) difference in the proportion of men and women who rates throwing ability as the most important quality in football quarterbacks.</li>\n",
    "</ul>\n",
    "</div>"
   ]
  }
 ],
 "metadata": {
  "kernelspec": {
   "display_name": "Python 3",
   "language": "python",
   "name": "python3"
  },
  "language_info": {
   "codemirror_mode": {
    "name": "ipython",
    "version": 3
   },
   "file_extension": ".py",
   "mimetype": "text/x-python",
   "name": "python",
   "nbconvert_exporter": "python",
   "pygments_lexer": "ipython3",
   "version": "3.8.2"
  }
 },
 "nbformat": 4,
 "nbformat_minor": 4
}

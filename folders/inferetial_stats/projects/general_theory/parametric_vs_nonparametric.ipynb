{
 "cells": [
  {
   "cell_type": "code",
   "execution_count": 1,
   "metadata": {},
   "outputs": [
    {
     "data": {
      "application/javascript": [
       "IPython.OutputArea.prototype._should_scroll = function(lines) {\n",
       "    return false;\n",
       "}\n"
      ],
      "text/plain": [
       "<IPython.core.display.Javascript object>"
      ]
     },
     "metadata": {},
     "output_type": "display_data"
    }
   ],
   "source": [
    "%%javascript\n",
    "IPython.OutputArea.prototype._should_scroll = function(lines) {\n",
    "    return false;\n",
    "}"
   ]
  },
  {
   "cell_type": "code",
   "execution_count": 2,
   "metadata": {},
   "outputs": [],
   "source": [
    "# to load images for this tutorial\n",
    "from IPython.display import Image\n",
    "import os\n",
    "path = os.getcwd()"
   ]
  },
  {
   "cell_type": "markdown",
   "metadata": {},
   "source": [
    "<hr style=\"border-top: 5px solid black;\">"
   ]
  },
  {
   "cell_type": "markdown",
   "metadata": {},
   "source": [
    "<div class=\"alert alert-block alert-info\" style=\"font-size:16px; border:1px solid black; padding:10px\">\n",
    "<center><h1><br><font color=\"blue\">Post Overview.</font></h1></center>\n",
    "    <ol>\n",
    "        <li><a href=\"#objective1\">Primer on Parametric Tests</a></li><br>\n",
    "        <li><a href=\"#objective2\">Primer on Nonparametric Tests</a></li><br>\n",
    "        <li><a href=\"#objective3\">Advantages and Disadvantages of Parametric Tests</a></li><br>\n",
    "        <li><a href=\"#objective4\">Advantages and Disadvantages of Nonparametric Tests</a></li><br>\n",
    "        <li><a href=\"#objective5\">Comparison of Parametric vs Nonparametric Tests</a></li><br>\n",
    "    </ol>\n",
    "</div>"
   ]
  },
  {
   "cell_type": "markdown",
   "metadata": {},
   "source": [
    "<hr style=\"border-top: 5px solid black;\">"
   ]
  },
  {
   "cell_type": "markdown",
   "metadata": {},
   "source": [
    "<div id=\"objective1\" class=\"alert alert-block alert-warning\" style=\"font-size:16px; border:1px solid black; padding:10px\"><center><h1><br><font color=\"blue\">Primer on Parametric Tests.</font></h1></center><br>\n",
    "</div>\n",
    "<div style=\"font-size:16px; border:1px solid black; padding:10px\">\n",
    "    <ul><strong><u>Parametric Tests</u></strong>\n",
    "        <li>is a branch of statistics which assumes that data comes from a population that can be model by a probability distribution that has a fix set of parameters.</li><br>        \n",
    "        <li>A probability distribution function is a mathematical function that gives the probability of events of different possible outcomes for a given experiment.</li><br> \n",
    "        <li>Parametric statistics are the most commonly used methods in statistics.</li><br>\n",
    "        <li>Parametric statistics was first mentioned by R.A. Fisher in his 1925 publication \"Statistical Methods for Research Workers\". This created the foundation of modern statistics.</li><br>        \n",
    "        <li>The term parametric refers to the set of parameters that define aspects of a population.</li><br>\n",
    "        <li>Parameters are any summary numbers that describe an entire population, such as the mean, percentage, standard deviation, and median.</li><br>\n",
    "        <li>A parameter is different from a statistic, which refers to aspects of a sample, for example, a sample mean is a statistic, while a population mean is a parameter.</li><br>\n",
    "        <li>A parametric test is a mathematical model that makes assumption about population parameters and the distribution that the data originated.</li><br>        \n",
    "        <li>Example parametric tests include a Student's T test and ANOVA, which assume the data comes from a normal distribution.</li><br> \n",
    "        <li>Parametric data is data that is assumed to be drawn from a particular distribution.</li><br>\n",
    "        <li>Parametric equations are used to find functions that describe curves.</li><br>\n",
    "    </ul>\n",
    "    <hr style=\"border-top: 2px solid black;\">\n",
    "    <ul><strong><u>Example</u></strong>\n",
    "        <li>The normal family of distributions are parameterized by the mean and standard deviation.</li><br>\n",
    "        <li>If the mean and standard deviation are known, and if the distribution is normal, then the probability of any future observation in a given range can be known.</li><br> \n",
    "    </ul>\n",
    "</div>"
   ]
  },
  {
   "cell_type": "markdown",
   "metadata": {},
   "source": [
    "<hr style=\"border-top: 5px solid black;\">"
   ]
  },
  {
   "cell_type": "markdown",
   "metadata": {},
   "source": [
    "<div id=\"objective2\" class=\"alert alert-block alert-warning\" style=\"font-size:16px; border:1px solid black; padding:10px\"><center><h1><br><font color=\"blue\">Primer on Nonparametric Tests</font></h1></center><br>\n",
    "</div>\n",
    "<div style=\"font-size:16px; border:1px solid black; padding:10px\">\n",
    "    <ul><strong><u>Nonparametric Tests</u></strong>\n",
    "        <li>Is a branch of statistics that is not based only on parameters of probability distributions.</li><br>\n",
    "        <li>Nonparametric tests are also called distribution-free tests and make no assumption about the underlying distribution of the data.</li><br> \n",
    "        <li>Nonparametric tests do not completely lack parameters, it just means that the number and nature of these parameters are more flexible and not fixed in advance.</li><br>\n",
    "        <li>Nonparametric tests are used when the assumptions of parametric tests are violated, such as when the population data does not have a normal distribution.</li><br>\n",
    "        <li>Nonparametric tests are generally used when the data is nominal or ordinal in scale.</li><br>        \n",
    "        <li>Nonparametric tests are widely used for studying populations that take on a ranked order, but can also be used when no clear numerical interpretation is available in a ranking.</li><br>        \n",
    "        <li>Nonparametric tests make fewer assumptions than a parametric tests, making their applicability wider and robust than parametric tests.</li><br> \n",
    "        <li>Nonparametric models do not have an a priori specified structure and instead this is determine from the data.</li><br>\n",
    "    </ul>\n",
    "    <hr style=\"border-top: 2px solid black;\">\n",
    "    <ul><strong><u>Conditions for using Nonparametric test</u></strong>\n",
    "        <li>Nonparametric tests are generally used when the data is nominal or ordinal in scale.</li><br>        \n",
    "        <li>One or more assumptions of a parametric test has been violated.</li><br> \n",
    "        <li>The sample size is not large enough to run a parametric test.</li><br>\n",
    "        <li>The data has outliers that cannot be removed.</li><br>        \n",
    "        <li>You want to test for the median rather than the mean.</li><br>        \n",
    "    </ul>\n",
    "</div>"
   ]
  },
  {
   "cell_type": "markdown",
   "metadata": {},
   "source": [
    "<div id=\"objective3\" class=\"alert alert-block alert-warning\" style=\"font-size:16px; border:1px solid black; padding:10px\"><center><h1><br><font color=\"blue\">Advantages and Disadvantages of Parametric Tests</font></h1></center><br>\n",
    "</div>\n",
    "<div style=\"font-size:16px; border:1px solid black; padding:10px\">\n",
    "    <ul><strong><u>Advantages</u></strong>\n",
    "        <li>Parametric tests can provide trustworthy and reliable results (for some tests) even when the data is skewed, not normally distributed, and the sample size meets the requirements for the analysis.</li><br>        \n",
    "        <li>Parametric tests can provide trustworthy and reliable results event when the groups have different amounts of variability.</li><br> \n",
    "        <li>Parametric test have greater statistical power, and is more likely to detect an effect if it exists.</li><br>\n",
    "        <li>Parametric test provide more information about a population, such as parameters and confidence intervals.</li><br>        \n",
    "    </ul>\n",
    "    <hr style=\"border-top: 2px solid black;\">\n",
    "    <ul><strong><u>Disadvantages</u></strong>\n",
    "        <li>Parametric tests can analyze only continuous data and are sensitive to outliers.</li><br>        \n",
    "        <li>Parametric tests do not perform as well with small sample sizes.</li><br> \n",
    "        <li>Parametric tests make several assumptions that limit their applicability and make them less robust than non-parametric tests that makes fewer assumption.</li><br>\n",
    "        <li>Parametric tests are harder to use than nonparametric tests.</li><br>        \n",
    "        <li>Parametric tests are not ideal for ranked data.</li><br>\n",
    "    </ul>\n",
    "</div>"
   ]
  },
  {
   "cell_type": "markdown",
   "metadata": {},
   "source": [
    "<hr style=\"border-top: 5px solid black;\">"
   ]
  },
  {
   "cell_type": "markdown",
   "metadata": {},
   "source": [
    "<div id=\"objective4\" class=\"alert alert-block alert-warning\" style=\"font-size:16px; border:1px solid black; padding:10px\"><center><h1><br><font color=\"blue\">Advantages and Disadvantages of Nonparametric Tests</font></h1></center><br>\n",
    "</div>\n",
    "<div style=\"font-size:16px; border:1px solid black; padding:10px\">\n",
    "    <ul><strong><u>Advantages</u></strong>\n",
    "        <li>Nonparametric tests that use the median make it better for some areas of study.</li><br>        \n",
    "        <li>Unlike the mean, the median is less sensitive to extreme values. In cases with extreme values, parametric tests may yield significant differences, but that would not be the case for a test that relies on the median.</li><br> \n",
    "        <li>Whether to use a parametric or nonparametric model depends on the study and the type of difference is more important to detect.</li><br>\n",
    "        <li>Nonparametric tests are valid even when the data sample size is small and not normally distributed.</li><br>        \n",
    "        <li>Nonparametric tests can analyze nominal, ordinal, interval, ranked, and data with outliers.</li><br>        \n",
    "        <li>Nonparametric tests are not sensitive to outliers.</li><br> \n",
    "        <li>Nonparametric tests make fewer assumptions that increase their applicability.</li><br>\n",
    "    </ul>\n",
    "    <hr style=\"border-top: 2px solid black;\">\n",
    "    <ul><strong><u>Disadvantages</u></strong>\n",
    "        <li>Nonparametric tests generally have less power than a parametric test if the assumptions have not been violated.</li><br>        \n",
    "        <li>Nonparametric tests are more labor intensive to calculate by hand.</li><br> \n",
    "        <li>Critical values for many nonparametric tests aren't always included in the computer software packages.</li><br>\n",
    "    </ul>\n",
    "</div>"
   ]
  },
  {
   "cell_type": "markdown",
   "metadata": {},
   "source": [
    "<hr style=\"border-top: 5px solid black;\">"
   ]
  },
  {
   "cell_type": "markdown",
   "metadata": {},
   "source": [
    "<div id=\"objective5\" class=\"alert alert-block alert-warning\" style=\"font-size:16px; border:1px solid black; padding:10px\"><center><h1><br><font color=\"blue\">Comparison of Parametric vs Nonparametric Tests</font></h1></center><br>\n",
    "</div>\n",
    "<div style=\"font-size:16px; border:1px solid black; padding:10px\">\n",
    "    <ul><strong><u>What to consider when deciding between Parametric and Nonparametric Tests</u></strong>\n",
    "        <li>Deciding between the type of test to use can boil down to whether the mean or median is a better measure of central tendency for the data in your study.</li><br>        \n",
    "        <li>If the mean is a better measure and the sample size is large enough, then a parametric test may be a better more powerful option.</li><br> \n",
    "        <li>If the median is a better measure, then a nonparametric test may be a better more option.</li><br>\n",
    "        <li>If the sample size is small, then a nonparametric test may be a better option although the the chance of detecting an effect will be lower.</li><br>        \n",
    "    </ul>\n",
    "    <hr style=\"border-top: 2px solid black;\">\n",
    "        <table style=\"width:100%; text-align:center; vertical-align:middle;\">\n",
    "            <tr><center><strong>Nonparametric and Parametric Tests Alternatives</strong></center>\n",
    "            <th style =\"text-align:center; vertical-align:middle;\">Parametric</th>\n",
    "            <th style =\"text-align:center; vertical-align:middle;\">NonParametric</th>\n",
    "          </tr>\n",
    "          <tr style =\"text-align:center; vertical-align:middle;\">\n",
    "            <td style =\"text-align:center; vertical-align:middle;\">One-sample Z-test</td>\n",
    "            <td style =\"text-align:center; vertical-align:middle;\">1-sample sign test</td>\n",
    "          </tr>\n",
    "          <tr>\n",
    "            <td style =\"text-align:center; vertical-align:middle;\">One-sample t-test</td>\n",
    "            <td style =\"text-align:center; vertical-align:middle;\">1-sample sign test</td>\n",
    "          </tr>\n",
    "          <tr>\n",
    "            <td style =\"text-align:center; vertical-align:middle;\">Two-way ANOVA</td>\n",
    "            <td style =\"text-align:center; vertical-align:middle;\">Friendman test</td>\n",
    "          </tr>\n",
    "          <tr>\n",
    "            <td style =\"text-align:center; vertical-align:middle;\">One-way ANOVA</td>\n",
    "            <td style =\"text-align:center; vertical-align:middle;\">Kruskal-Wallis test or Mood’s Median test</td>\n",
    "          </tr>\n",
    "          <tr>\n",
    "            <td style =\"text-align:center; vertical-align:middle;\">Independent samples t-test</td>\n",
    "            <td style =\"text-align:center; vertical-align:middle;\">Mann-Whitney test</td>\n",
    "          </tr>\n",
    "          <tr>\n",
    "            <td style =\"text-align:center; vertical-align:middle;\">Correlation Coefficient</td>\n",
    "            <td style =\"text-align:center; vertical-align:middle;\">Spearman Rank Correlation</td>\n",
    "          </tr>            \n",
    "        </table>\n",
    "</div>"
   ]
  },
  {
   "cell_type": "markdown",
   "metadata": {},
   "source": [
    "<hr style=\"border-top: 5px solid black;\">"
   ]
  }
 ],
 "metadata": {
  "kernelspec": {
   "display_name": "Python 3",
   "language": "python",
   "name": "python3"
  },
  "language_info": {
   "codemirror_mode": {
    "name": "ipython",
    "version": 3
   },
   "file_extension": ".py",
   "mimetype": "text/x-python",
   "name": "python",
   "nbconvert_exporter": "python",
   "pygments_lexer": "ipython3",
   "version": "3.8.2"
  }
 },
 "nbformat": 4,
 "nbformat_minor": 4
}

{
 "cells": [
  {
   "cell_type": "markdown",
   "metadata": {},
   "source": [
    "<hr style=\"border-top: 5px solid black;\">"
   ]
  },
  {
   "cell_type": "markdown",
   "metadata": {},
   "source": [
    "<div class=\"alert alert-block alert-info\" style=\"font-size:16px; border:1px solid black; padding:10px\">\n",
    "<center><h1><br><font color=\"blue\">Statistical Inference with Simple Linear Regression in R</font></h1></center>\n",
    "    <ol>\n",
    "        <li><a href=\"#objective1\">Introduction to Statistical Inference for Simple Linear Regression.</a></li><br>\n",
    "        <li><a href=\"#objective2\">Perform a t-test on the slope parameter.</a></li><br>\n",
    "        <li><a href=\"#objective3\">Estimate variability of the error term.</a></li><br>\n",
    "        <li><a href=\"#objective4\">Perform an F-test of Model Fit</a></li><br>\n",
    "        <li><a href=\"#objective5\">Perform Confidene and Prediction Intervals</a></li><br>        \n",
    "    </ol>\n",
    "</div>"
   ]
  },
  {
   "cell_type": "markdown",
   "metadata": {},
   "source": [
    "<hr style=\"border-top: 5px solid black;\">"
   ]
  },
  {
   "cell_type": "markdown",
   "metadata": {},
   "source": [
    "<div id=\"objective1\" class=\"alert alert-block alert-warning\" style=\"font-size:16px; border:1px solid black; padding:10px\"><center><h1><br><font color=\"blue\">Introduction to Simple Linear Regression.</font></h1></center><br>\n",
    "</div>\n",
    "<div style=\"font-size:16px; border:1px solid black; padding:10px\">\n",
    "    <ul><strong><u>The Basics:</u></strong>\n",
    "        <li>A similar linear gression can be obtained from a set of paired data (x, y) using this formula $$\\hat\\mu_{y|x}=\\hat\\beta_0+\\hat\\beta_1x$$.</li><br><br>\n",
    "        <li>The issue though is determining if the point estimates (the parameters for the slope, intercept and error) are useful.</li><br>\n",
    "        <li>This post will discuss the inference test that can be performe on simple linear regression and determine if:<br> <br>\n",
    "        $$H_0\\colon y=\\beta_0+\\varepsilon\\quad\\text{against}\\quad H_a\\colon y=\\beta_0+\\beta_1x+\\varepsilon$$\n",
    "        </li><br>\n",
    "        <li>The null hypothesis suggest that x does not belong to the linear model, and we are looking for evidene to prove that it does, and we specifically test this hypohtesis with this expression:<br><br>\n",
    "            $$H_0\\colon\\beta_1=0\\quad\\text{against}\\quad H_a\\colon\\beta_1\\ne0$$.\n",
    "        </li><br>\n",
    "        <li>To this this last hypothesis we would need:\n",
    "            <ul>\n",
    "                <li>A point estimate for $\\beta_1$</li><br>\n",
    "                <li>The standard error of the point estimate $\\widehat{\\mathsf{SE}}_{\\hat\\beta_1}$</li><br>\n",
    "                <li>The degrees of freedom associated with the standard error.</li><br>\n",
    "                <li>Confirmation that the sampling distribution for the $\\hat \\beta_1$ is approximately normals</li><br>\n",
    "                <li></li><br>\n",
    "            </ul>\n",
    "        </li><br>\n",
    "        <li>We can then use the t-statistic $$t=\\frac{\\hat\\beta_1-\\beta_1}{\\widehat{\\mathsf{SE}}_{\\hat\\beta_1}}$$</li><br>\n",
    "        <li>The post will use R to demonstrate how to perform the calculations needed to test for inference on a simple linear model.</li><br>\n",
    "        <li>The R library MASS will be used, specifically the dataset Rubber to demonstrate such calcuation. The rubber dataset compares the tire rubber loss (grams) bsed on the tensile and hardness properties.</li><br>      \n",
    "    </ul>\n",
    "</div>"
   ]
  },
  {
   "cell_type": "markdown",
   "metadata": {},
   "source": [
    "<hr style=\"border-top: 5px solid black;\">"
   ]
  },
  {
   "cell_type": "markdown",
   "metadata": {},
   "source": [
    "<div id=\"objective2\" class=\"alert alert-block alert-warning\" style=\"font-size:16px; border:1px solid black; padding:10px\"><center><h1><br><font color=\"blue\">Perform a t-test on the slope parameter.</font></h1></center><br>\n",
    "</div>\n",
    "<div style=\"font-size:16px; border:1px solid black; padding:10px\">\n",
    "    <ul><strong><u>The Basics:</u></strong>\n",
    "        <li>\n",
    "            <ul>Hypothesis test:<br>\n",
    "                <li>$$H_0\\colon\\beta_1=0\\quad\\text{against}\\quad H_a\\colon\\beta_1\\ne0,$$</li><br>\n",
    "            </ul>                \n",
    "        </li><br>  \n",
    "        <li>\n",
    "            <ul>Hypothesis test values:<br>\n",
    "                <li>Parameter of interest. $\\beta_1$</li><br>\n",
    "                <li>Point estimate. $$\\hat\\beta_1=\\frac{SS_{xy}}{SS_{xx}}$$</li><br>\n",
    "                <li>Standard error under $H_0$: $$\\widehat{\\mathsf{SE}}=\\frac{\\hat\\sigma}{\\sqrt{SS_{xx}}}$$</li><br>\n",
    "                <li>Test statistic. $$t=\\frac{\\hat\\beta_1-0}{\\widehat{\\mathsf{SE}}}$$</li><br>\n",
    "                <li>Null distribution: student's t distribution</li><br>\n",
    "                <li>Degrees of freedom: $$df=n-2$$</li><br>\n",
    "                <li>The residualstandard error, variance: $$\\sigma=\\sqrt(MSE)$$</li><br>\n",
    "            </ul>                \n",
    "        </li><br>\n",
    "        <li>\n",
    "            <ul>Confidence intervals: You can perform a one-sided test but that isn't common, so it wont be presented here.<br><br>\n",
    "                <li>Calculated as $100(1- \\alpha)$</li><br>\n",
    "                <li>Two-sides: $$\\hat\\beta_1\\pm t_{df,\\alpha/2}\\cdot\\widehat{\\mathsf{SE}}_{\\hat\\beta_1}$$</li><br>\n",
    "            </ul>                \n",
    "        </li><br>          \n",
    "        <li>The following code will demonstrate these principles and calculations using R programming.</li><br>     \n",
    "    </ul>\n",
    "</div>"
   ]
  },
  {
   "cell_type": "markdown",
   "metadata": {},
   "source": [
    "## Load Data"
   ]
  },
  {
   "cell_type": "code",
   "execution_count": 1,
   "metadata": {},
   "outputs": [
    {
     "name": "stdout",
     "output_type": "stream",
     "text": [
      "'data.frame':\t30 obs. of  3 variables:\n",
      " $ loss: int  372 206 175 154 136 112 55 45 221 166 ...\n",
      " $ hard: int  45 55 61 66 71 71 81 86 53 60 ...\n",
      " $ tens: int  162 233 232 231 231 237 224 219 203 189 ...\n"
     ]
    }
   ],
   "source": [
    "library('MASS')\n",
    "attach(Rubber)\n",
    "str(Rubber)"
   ]
  },
  {
   "cell_type": "markdown",
   "metadata": {},
   "source": [
    "# Perform Linear Regression Model"
   ]
  },
  {
   "cell_type": "code",
   "execution_count": 2,
   "metadata": {},
   "outputs": [
    {
     "data": {
      "text/html": [
       "<style>\n",
       ".dl-inline {width: auto; margin:0; padding: 0}\n",
       ".dl-inline>dt, .dl-inline>dd {float: none; width: auto; display: inline-block}\n",
       ".dl-inline>dt::after {content: \":\\0020\"; padding-right: .5ex}\n",
       ".dl-inline>dt:not(:first-of-type) {padding-left: .5ex}\n",
       "</style><dl class=dl-inline><dt>(Intercept)</dt><dd>550.415129151291</dd><dt>hard</dt><dd>-5.33655307141306</dd></dl>\n"
      ],
      "text/latex": [
       "\\begin{description*}\n",
       "\\item[(Intercept)] 550.415129151291\n",
       "\\item[hard] -5.33655307141306\n",
       "\\end{description*}\n"
      ],
      "text/markdown": [
       "(Intercept)\n",
       ":   550.415129151291hard\n",
       ":   -5.33655307141306\n",
       "\n"
      ],
      "text/plain": [
       "(Intercept)        hard \n",
       " 550.415129   -5.336553 "
      ]
     },
     "metadata": {},
     "output_type": "display_data"
    }
   ],
   "source": [
    "loss.lm <- lm(loss~hard)\n",
    "coefficients(loss.lm)"
   ]
  },
  {
   "cell_type": "markdown",
   "metadata": {},
   "source": [
    "# Obtain a summary that provides key information\n",
    "\n",
    " - Statistics on the set of residuals, $\\epsilon_j = y_j−\\hat{y_𝑗}$\n",
    " - The point estimates, the standard error, the associated t-statistic, and associated p-value (for a two-tailed t-test) associated with both model parameters $\\beta_0$ and $\\beta_1$ (labeled hard in this example for the explanatory variable)\n",
    " - The residual standard error, $\\hat \\sigma = \\sqrt{MSE} = 60.52$ with degrees of freedom = n -  2 = 28 in this example\n",
    " - a Multiple R-squared, which is our coefficient of determination which is our coefficient of determination 0.5442 and is interpreted as the proportion of the observed variability in the response (y) variable that can be explained by the presence of the explanatory variable (x) in the model."
   ]
  },
  {
   "cell_type": "code",
   "execution_count": 3,
   "metadata": {},
   "outputs": [
    {
     "data": {
      "text/plain": [
       "\n",
       "Call:\n",
       "lm(formula = loss ~ hard)\n",
       "\n",
       "Residuals:\n",
       "   Min     1Q Median     3Q    Max \n",
       "-86.15 -46.77 -19.49  54.27 111.49 \n",
       "\n",
       "Coefficients:\n",
       "            Estimate Std. Error t value Pr(>|t|)    \n",
       "(Intercept) 550.4151    65.7867   8.367 4.22e-09 ***\n",
       "hard         -5.3366     0.9229  -5.782 3.29e-06 ***\n",
       "---\n",
       "Signif. codes:  0 ‘***’ 0.001 ‘**’ 0.01 ‘*’ 0.05 ‘.’ 0.1 ‘ ’ 1\n",
       "\n",
       "Residual standard error: 60.52 on 28 degrees of freedom\n",
       "Multiple R-squared:  0.5442,\tAdjusted R-squared:  0.5279 \n",
       "F-statistic: 33.43 on 1 and 28 DF,  p-value: 3.294e-06\n"
      ]
     },
     "metadata": {},
     "output_type": "display_data"
    }
   ],
   "source": [
    "summary(loss.lm)"
   ]
  },
  {
   "cell_type": "markdown",
   "metadata": {},
   "source": [
    "# Verify the standard error of $\\hat \\beta_1$\n",
    "\n",
    " - Which should be the same value reported in the std. error column for the slope (explanatory variable row header)"
   ]
  },
  {
   "cell_type": "code",
   "execution_count": 4,
   "metadata": {},
   "outputs": [
    {
     "data": {
      "text/html": [
       "0.922935656843799"
      ],
      "text/latex": [
       "0.922935656843799"
      ],
      "text/markdown": [
       "0.922935656843799"
      ],
      "text/plain": [
       "[1] 0.9229357"
      ]
     },
     "metadata": {},
     "output_type": "display_data"
    }
   ],
   "source": [
    "SS.xx <- sum( (hard-mean(hard))^2 )\n",
    "sigma.hat <- 60.52 # the residual standard error reported from the summary\n",
    "SE.b1.hat <- sigma.hat/sqrt(SS.xx) ; SE.b1.hat"
   ]
  },
  {
   "cell_type": "markdown",
   "metadata": {},
   "source": [
    "# Verify the test statistic t\n",
    "\n",
    " - This should be the the t-value in the hard header row in the summary table"
   ]
  },
  {
   "cell_type": "code",
   "execution_count": 5,
   "metadata": {},
   "outputs": [
    {
     "data": {
      "text/html": [
       "-5.78220156565387"
      ],
      "text/latex": [
       "-5.78220156565387"
      ],
      "text/markdown": [
       "-5.78220156565387"
      ],
      "text/plain": [
       "[1] -5.782202"
      ]
     },
     "metadata": {},
     "output_type": "display_data"
    }
   ],
   "source": [
    "b1.hat <- -5.3366\n",
    "t <- b1.hat/SE.b1.hat; t"
   ]
  },
  {
   "cell_type": "markdown",
   "metadata": {},
   "source": [
    "# Verify the p-value with two tailed test\n",
    "\n",
    " - Since the p-value is less than the level of significance, we can rejec the Null hypothesis in favor for the alternative hypothesis that $\\beta_1 \\neq 0$"
   ]
  },
  {
   "cell_type": "code",
   "execution_count": 6,
   "metadata": {},
   "outputs": [
    {
     "data": {
      "text/html": [
       "3.29364393664094e-06"
      ],
      "text/latex": [
       "3.29364393664094e-06"
      ],
      "text/markdown": [
       "3.29364393664094e-06"
      ],
      "text/plain": [
       "[1] 3.293644e-06"
      ]
     },
     "metadata": {},
     "output_type": "display_data"
    }
   ],
   "source": [
    "p.value <- 2*pt(t, df=28); p.value"
   ]
  },
  {
   "cell_type": "markdown",
   "metadata": {},
   "source": [
    "# Calculate the 95% confidence interval on the slope $\\beta_1$\n",
    "\n",
    " - Confidence interval suggest that a single unit increase in the rubber hardness will decrease the abrasion loss anywhere between 3.44 and 7.22 grams per hours"
   ]
  },
  {
   "cell_type": "code",
   "execution_count": 7,
   "metadata": {},
   "outputs": [
    {
     "data": {
      "text/html": [
       "<style>\n",
       ".list-inline {list-style: none; margin:0; padding: 0}\n",
       ".list-inline>li {display: inline-block}\n",
       ".list-inline>li:not(:last-child)::after {content: \"\\00b7\"; padding: 0 .5ex}\n",
       "</style>\n",
       "<ol class=list-inline><li>-7.22714799089632</li><li>-3.44605200910368</li></ol>\n"
      ],
      "text/latex": [
       "\\begin{enumerate*}\n",
       "\\item -7.22714799089632\n",
       "\\item -3.44605200910368\n",
       "\\end{enumerate*}\n"
      ],
      "text/markdown": [
       "1. -7.22714799089632\n",
       "2. -3.44605200910368\n",
       "\n",
       "\n"
      ],
      "text/plain": [
       "[1] -7.227148 -3.446052"
      ]
     },
     "metadata": {},
     "output_type": "display_data"
    }
   ],
   "source": [
    "t.crit <- qt(0.025, 28, lower.tail=FALSE) # t-value for the confidence interval\n",
    "b1.hat + c(-1,1)*t.crit*SE.b1.hat"
   ]
  },
  {
   "cell_type": "markdown",
   "metadata": {},
   "source": [
    "# Calculate confidence interval using R method <code>confint( loss.lm, level=confidence interval as decima )</code> default is .95"
   ]
  },
  {
   "cell_type": "code",
   "execution_count": 8,
   "metadata": {},
   "outputs": [
    {
     "data": {
      "text/html": [
       "<table class=\"dataframe\">\n",
       "<caption>A matrix: 2 × 2 of type dbl</caption>\n",
       "<thead>\n",
       "\t<tr><th></th><th scope=col>2.5 %</th><th scope=col>97.5 %</th></tr>\n",
       "</thead>\n",
       "<tbody>\n",
       "\t<tr><th scope=row>(Intercept)</th><td>415.657238</td><td>685.173020</td></tr>\n",
       "\t<tr><th scope=row>hard</th><td> -7.227115</td><td> -3.445991</td></tr>\n",
       "</tbody>\n",
       "</table>\n"
      ],
      "text/latex": [
       "A matrix: 2 × 2 of type dbl\n",
       "\\begin{tabular}{r|ll}\n",
       "  & 2.5 \\% & 97.5 \\%\\\\\n",
       "\\hline\n",
       "\t(Intercept) & 415.657238 & 685.173020\\\\\n",
       "\thard &  -7.227115 &  -3.445991\\\\\n",
       "\\end{tabular}\n"
      ],
      "text/markdown": [
       "\n",
       "A matrix: 2 × 2 of type dbl\n",
       "\n",
       "| <!--/--> | 2.5 % | 97.5 % |\n",
       "|---|---|---|\n",
       "| (Intercept) | 415.657238 | 685.173020 |\n",
       "| hard |  -7.227115 |  -3.445991 |\n",
       "\n"
      ],
      "text/plain": [
       "            2.5 %      97.5 %    \n",
       "(Intercept) 415.657238 685.173020\n",
       "hard         -7.227115  -3.445991"
      ]
     },
     "metadata": {},
     "output_type": "display_data"
    }
   ],
   "source": [
    " confint( loss.lm )"
   ]
  },
  {
   "cell_type": "markdown",
   "metadata": {},
   "source": [
    "<hr style=\"border-top: 5px solid black;\">"
   ]
  },
  {
   "cell_type": "markdown",
   "metadata": {},
   "source": [
    "<div id=\"objective3\" class=\"alert alert-block alert-warning\" style=\"font-size:16px; border:1px solid black; padding:10px\"><center><h1><br><font color=\"blue\">Estimating and Interpreting Parameters.</font></h1></center><br>\n",
    "</div>\n",
    "<div style=\"font-size:16px; border:1px solid black; padding:10px\">\n",
    "    <ul><strong><u>The Basics:</u></strong>\n",
    "        <li>The next step is to calculate the point estimate for $\\sigma^2$ using the following formula $$\\hat\\sigma^2=\\frac{SSE}{n-2}\\quad\\text{where}\\quad SSE=\\sum_{j=1}^ne_j^2=\\sum_{j=1}^n(y_j-\\hat y_j)^2=\\sum_{j=1}^n(y_j-\\hat\\beta_0-\\hat\\beta_1x_j)^2$$</li><br>\n",
    "        <li>The SSE is the error sum of squares or the residual sum of squares.</li><br>\n",
    "        <li>This formula is one way to estimate the standard error of $\\hat{\\beta_1}$ and perform a hypothesis test on the $\\beta_1$</li><br>\n",
    "        <li>Another way to partition the SST total variability observed in the response Y is as follows: $$\\begin{aligned} SSR&=\\sum_{j=1}^n(\\text{fitted}-\\bar y)^2\\\\ &=\\sum_{j=1}^n(\\hat y_j-\\bar y)^2\\\\ &=\\sum_{j=1}^n(\\hat\\beta_0+\\hat\\beta_1x_j-\\bar y)^2\\\\ &=\\frac{SS_{xy}^2}{SS_{xx}}\\end{aligned}$$</li><br>\n",
    "        <li>The SSR is similar to the SSB (between groups sum of squares)</li><br>\n",
    "        <li>The SSR is the regression sum of squares or model sum of squares and this is the amount of variability observed in the response y that can be explained by the presence of x in the linear model.</li><br>\n",
    "        <li>SST = SSR + SSE</li><br>\n",
    "        <li>The SST is the sum of square deviations of the observed response $y_j$ from the overall mean $\\bar y$ and it has a degrees of freedom n - 1. This is the measurement of variability in the model in the resposne y when we do not have an explanatory variable in the model.</li><br>\n",
    "        <li>The SSR is the gression sum of squares and is the sum of square deviations of the fitted values of the response $$\\hat y_j=\\hat\\beta_0+\\hat\\beta_1x_j$$ from the overall sample mean $\\bar y$.s</li><br>        \n",
    "        <li>The SSE is the error sum of squares and is the sum of square deviations of the observed response $y_j$ from the predicted (fitted) value of the response $\\hats{y_j}$</li><br>\n",
    "        <li>The degrees of freedom for the total sst is $$df_T=df_E+df_R$$</li><br>\n",
    "        <li>The degrees of freedom for the SSR is 1</li><br>\n",
    "        <li>The degrees of freedom for the SST is n - 1</li><br>        \n",
    "        <li>The degrees of freedom for the SSE is n - 2</li><br>\n",
    "    </ul>\n",
    "</div>"
   ]
  },
  {
   "cell_type": "markdown",
   "metadata": {},
   "source": [
    "<hr style=\"border-top: 5px solid black;\">"
   ]
  },
  {
   "cell_type": "markdown",
   "metadata": {},
   "source": [
    "<div id=\"objective4\" class=\"alert alert-block alert-warning\" style=\"font-size:16px; border:1px solid black; padding:10px\"><center><h1><br><font color=\"blue\">Perform an F-test of Model Fit.</font></h1></center><br>\n",
    "</div>\n",
    "<div style=\"font-size:16px; border:1px solid black; padding:10px\">\n",
    "    <ul><strong><u>The Basics:</u></strong>\n",
    "        <li>The F-test for the simple linear model is similar to the F-test for the ANOVA table.</li><br>\n",
    "        <li>The source of variability for\n",
    "            <ul>Regression\n",
    "                <li>$df_R$ = 1</li><br>\n",
    "                <li>SSR</li><br>\n",
    "                <li>MSR = $$\\frac{SSR}{df_R}$$</li><br>\n",
    "                <li>F = $$\\frac{MSR}{MSE}$$</li><br>\n",
    "            </ul>\n",
    "        </li><br>\n",
    "        <li>The source of variability for\n",
    "           <ul>Error\n",
    "                <li>$df_E$ = n - 2</li><br>\n",
    "                <li>SSE</li><br>\n",
    "                <li>MSe = $$\\frac{SSE}{df_E}$$</li><br>\n",
    "            </ul> \n",
    "        </li><br>\n",
    "        <li>The source of variability for\n",
    "           <ul>Total\n",
    "                <li>$df_E$ = n - 1</li><br>\n",
    "                <li>SST</li><br>\n",
    "            </ul> \n",
    "        </li><br>\n",
    "        <li>The next section will demonstrate how to perform these calculations in R programming.</li><br>  \n",
    "    </ul>\n",
    "</div>"
   ]
  },
  {
   "cell_type": "markdown",
   "metadata": {},
   "source": [
    "# Calculate values manually"
   ]
  },
  {
   "cell_type": "code",
   "execution_count": 9,
   "metadata": {},
   "outputs": [
    {
     "data": {
      "text/html": [
       "<style>\n",
       ".list-inline {list-style: none; margin:0; padding: 0}\n",
       ".list-inline>li {display: inline-block}\n",
       ".list-inline>li:not(:last-child)::after {content: \"\\00b7\"; padding: 0 .5ex}\n",
       "</style>\n",
       "<ol class=list-inline><li>372</li><li>206</li><li>175</li><li>154</li><li>136</li><li>112</li><li>55</li><li>45</li><li>221</li><li>166</li><li>164</li><li>113</li><li>82</li><li>32</li><li>228</li><li>196</li><li>128</li><li>97</li><li>64</li><li>249</li><li>219</li><li>186</li><li>155</li><li>114</li><li>341</li><li>340</li><li>283</li><li>267</li><li>215</li><li>148</li></ol>\n"
      ],
      "text/latex": [
       "\\begin{enumerate*}\n",
       "\\item 372\n",
       "\\item 206\n",
       "\\item 175\n",
       "\\item 154\n",
       "\\item 136\n",
       "\\item 112\n",
       "\\item 55\n",
       "\\item 45\n",
       "\\item 221\n",
       "\\item 166\n",
       "\\item 164\n",
       "\\item 113\n",
       "\\item 82\n",
       "\\item 32\n",
       "\\item 228\n",
       "\\item 196\n",
       "\\item 128\n",
       "\\item 97\n",
       "\\item 64\n",
       "\\item 249\n",
       "\\item 219\n",
       "\\item 186\n",
       "\\item 155\n",
       "\\item 114\n",
       "\\item 341\n",
       "\\item 340\n",
       "\\item 283\n",
       "\\item 267\n",
       "\\item 215\n",
       "\\item 148\n",
       "\\end{enumerate*}\n"
      ],
      "text/markdown": [
       "1. 372\n",
       "2. 206\n",
       "3. 175\n",
       "4. 154\n",
       "5. 136\n",
       "6. 112\n",
       "7. 55\n",
       "8. 45\n",
       "9. 221\n",
       "10. 166\n",
       "11. 164\n",
       "12. 113\n",
       "13. 82\n",
       "14. 32\n",
       "15. 228\n",
       "16. 196\n",
       "17. 128\n",
       "18. 97\n",
       "19. 64\n",
       "20. 249\n",
       "21. 219\n",
       "22. 186\n",
       "23. 155\n",
       "24. 114\n",
       "25. 341\n",
       "26. 340\n",
       "27. 283\n",
       "28. 267\n",
       "29. 215\n",
       "30. 148\n",
       "\n",
       "\n"
      ],
      "text/plain": [
       " [1] 372 206 175 154 136 112  55  45 221 166 164 113  82  32 228 196 128  97  64\n",
       "[20] 249 219 186 155 114 341 340 283 267 215 148"
      ]
     },
     "metadata": {},
     "output_type": "display_data"
    },
    {
     "data": {
      "text/html": [
       "175.433333333333"
      ],
      "text/latex": [
       "175.433333333333"
      ],
      "text/markdown": [
       "175.433333333333"
      ],
      "text/plain": [
       "[1] 175.4333"
      ]
     },
     "metadata": {},
     "output_type": "display_data"
    },
    {
     "data": {
      "text/html": [
       "<style>\n",
       ".dl-inline {width: auto; margin:0; padding: 0}\n",
       ".dl-inline>dt, .dl-inline>dd {float: none; width: auto; display: inline-block}\n",
       ".dl-inline>dt::after {content: \":\\0020\"; padding-right: .5ex}\n",
       ".dl-inline>dt:not(:first-of-type) {padding-left: .5ex}\n",
       "</style><dl class=dl-inline><dt>1</dt><dd>310.270240937704</dd><dt>2</dt><dd>256.904710223573</dd><dt>3</dt><dd>224.885391795094</dd><dt>4</dt><dd>198.202626438029</dd><dt>5</dt><dd>171.519861080964</dd><dt>6</dt><dd>171.519861080964</dd><dt>7</dt><dd>118.154330366833</dd><dt>8</dt><dd>91.4715650097678</dd><dt>9</dt><dd>267.577816366399</dd><dt>10</dt><dd>230.221944866507</dd><dt>11</dt><dd>208.875732580855</dd><dt>12</dt><dd>187.529520295203</dd><dt>13</dt><dd>128.827436509659</dd><dt>14</dt><dd>118.154330366833</dd><dt>15</dt><dd>251.56815715216</dd><dt>16</dt><dd>187.529520295203</dd><dt>17</dt><dd>150.173648795311</dd><dt>18</dt><dd>107.481224224007</dd><dt>19</dt><dd>80.7984588669416</dd><dt>20</dt><dd>235.55849793792</dd><dt>21</dt><dd>171.519861080964</dd><dt>22</dt><dd>123.490883438246</dd><dt>23</dt><dd>112.81777729542</dd><dt>24</dt><dd>75.4619057955286</dd><dt>25</dt><dd>278.250922509225</dd><dt>26</dt><dd>235.55849793792</dd><dt>27</dt><dd>203.539179509442</dd><dt>28</dt><dd>155.510201866725</dd><dt>29</dt><dd>118.154330366833</dd><dt>30</dt><dd>91.4715650097678</dd></dl>\n"
      ],
      "text/latex": [
       "\\begin{description*}\n",
       "\\item[1] 310.270240937704\n",
       "\\item[2] 256.904710223573\n",
       "\\item[3] 224.885391795094\n",
       "\\item[4] 198.202626438029\n",
       "\\item[5] 171.519861080964\n",
       "\\item[6] 171.519861080964\n",
       "\\item[7] 118.154330366833\n",
       "\\item[8] 91.4715650097678\n",
       "\\item[9] 267.577816366399\n",
       "\\item[10] 230.221944866507\n",
       "\\item[11] 208.875732580855\n",
       "\\item[12] 187.529520295203\n",
       "\\item[13] 128.827436509659\n",
       "\\item[14] 118.154330366833\n",
       "\\item[15] 251.56815715216\n",
       "\\item[16] 187.529520295203\n",
       "\\item[17] 150.173648795311\n",
       "\\item[18] 107.481224224007\n",
       "\\item[19] 80.7984588669416\n",
       "\\item[20] 235.55849793792\n",
       "\\item[21] 171.519861080964\n",
       "\\item[22] 123.490883438246\n",
       "\\item[23] 112.81777729542\n",
       "\\item[24] 75.4619057955286\n",
       "\\item[25] 278.250922509225\n",
       "\\item[26] 235.55849793792\n",
       "\\item[27] 203.539179509442\n",
       "\\item[28] 155.510201866725\n",
       "\\item[29] 118.154330366833\n",
       "\\item[30] 91.4715650097678\n",
       "\\end{description*}\n"
      ],
      "text/markdown": [
       "1\n",
       ":   310.2702409377042\n",
       ":   256.9047102235733\n",
       ":   224.8853917950944\n",
       ":   198.2026264380295\n",
       ":   171.5198610809646\n",
       ":   171.5198610809647\n",
       ":   118.1543303668338\n",
       ":   91.47156500976789\n",
       ":   267.57781636639910\n",
       ":   230.22194486650711\n",
       ":   208.87573258085512\n",
       ":   187.52952029520313\n",
       ":   128.82743650965914\n",
       ":   118.15433036683315\n",
       ":   251.5681571521616\n",
       ":   187.52952029520317\n",
       ":   150.17364879531118\n",
       ":   107.48122422400719\n",
       ":   80.798458866941620\n",
       ":   235.5584979379221\n",
       ":   171.51986108096422\n",
       ":   123.49088343824623\n",
       ":   112.8177772954224\n",
       ":   75.461905795528625\n",
       ":   278.25092250922526\n",
       ":   235.5584979379227\n",
       ":   203.53917950944228\n",
       ":   155.51020186672529\n",
       ":   118.15433036683330\n",
       ":   91.4715650097678\n",
       "\n"
      ],
      "text/plain": [
       "        1         2         3         4         5         6         7         8 \n",
       "310.27024 256.90471 224.88539 198.20263 171.51986 171.51986 118.15433  91.47157 \n",
       "        9        10        11        12        13        14        15        16 \n",
       "267.57782 230.22194 208.87573 187.52952 128.82744 118.15433 251.56816 187.52952 \n",
       "       17        18        19        20        21        22        23        24 \n",
       "150.17365 107.48122  80.79846 235.55850 171.51986 123.49088 112.81778  75.46191 \n",
       "       25        26        27        28        29        30 \n",
       "278.25092 235.55850 203.53918 155.51020 118.15433  91.47157 "
      ]
     },
     "metadata": {},
     "output_type": "display_data"
    },
    {
     "data": {
      "text/html": [
       "<style>\n",
       ".dl-inline {width: auto; margin:0; padding: 0}\n",
       ".dl-inline>dt, .dl-inline>dd {float: none; width: auto; display: inline-block}\n",
       ".dl-inline>dt::after {content: \":\\0020\"; padding-right: .5ex}\n",
       ".dl-inline>dt:not(:first-of-type) {padding-left: .5ex}\n",
       "</style><dl class=dl-inline><dt>1</dt><dd>61.7297590622959</dd><dt>2</dt><dd>-50.9047102235728</dd><dt>3</dt><dd>-49.8853917950944</dd><dt>4</dt><dd>-44.202626438029</dd><dt>5</dt><dd>-35.5198610809637</dd><dt>6</dt><dd>-59.5198610809637</dd><dt>7</dt><dd>-63.1543303668331</dd><dt>8</dt><dd>-46.4715650097678</dd><dt>9</dt><dd>-46.5778163663989</dd><dt>10</dt><dd>-64.2219448665074</dd><dt>11</dt><dd>-44.8757325808552</dd><dt>12</dt><dd>-74.5295202952029</dd><dt>13</dt><dd>-46.8274365096592</dd><dt>14</dt><dd>-86.1543303668331</dd><dt>15</dt><dd>-23.5681571521597</dd><dt>16</dt><dd>8.47047970479709</dd><dt>17</dt><dd>-22.1736487953115</dd><dt>18</dt><dd>-10.481224224007</dd><dt>19</dt><dd>-16.7984588669416</dd><dt>20</dt><dd>13.4415020620795</dd><dt>21</dt><dd>47.4801389190363</dd><dt>22</dt><dd>62.5091165617539</dd><dt>23</dt><dd>42.18222270458</dd><dt>24</dt><dd>38.5380942044714</dd><dt>25</dt><dd>62.749077490775</dd><dt>26</dt><dd>104.44150206208</dd><dt>27</dt><dd>79.4608204905579</dd><dt>28</dt><dd>111.489798133275</dd><dt>29</dt><dd>96.8456696331669</dd><dt>30</dt><dd>56.5284349902322</dd></dl>\n"
      ],
      "text/latex": [
       "\\begin{description*}\n",
       "\\item[1] 61.7297590622959\n",
       "\\item[2] -50.9047102235728\n",
       "\\item[3] -49.8853917950944\n",
       "\\item[4] -44.202626438029\n",
       "\\item[5] -35.5198610809637\n",
       "\\item[6] -59.5198610809637\n",
       "\\item[7] -63.1543303668331\n",
       "\\item[8] -46.4715650097678\n",
       "\\item[9] -46.5778163663989\n",
       "\\item[10] -64.2219448665074\n",
       "\\item[11] -44.8757325808552\n",
       "\\item[12] -74.5295202952029\n",
       "\\item[13] -46.8274365096592\n",
       "\\item[14] -86.1543303668331\n",
       "\\item[15] -23.5681571521597\n",
       "\\item[16] 8.47047970479709\n",
       "\\item[17] -22.1736487953115\n",
       "\\item[18] -10.481224224007\n",
       "\\item[19] -16.7984588669416\n",
       "\\item[20] 13.4415020620795\n",
       "\\item[21] 47.4801389190363\n",
       "\\item[22] 62.5091165617539\n",
       "\\item[23] 42.18222270458\n",
       "\\item[24] 38.5380942044714\n",
       "\\item[25] 62.749077490775\n",
       "\\item[26] 104.44150206208\n",
       "\\item[27] 79.4608204905579\n",
       "\\item[28] 111.489798133275\n",
       "\\item[29] 96.8456696331669\n",
       "\\item[30] 56.5284349902322\n",
       "\\end{description*}\n"
      ],
      "text/markdown": [
       "1\n",
       ":   61.72975906229592\n",
       ":   -50.90471022357283\n",
       ":   -49.88539179509444\n",
       ":   -44.2026264380295\n",
       ":   -35.51986108096376\n",
       ":   -59.51986108096377\n",
       ":   -63.15433036683318\n",
       ":   -46.47156500976789\n",
       ":   -46.577816366398910\n",
       ":   -64.221944866507411\n",
       ":   -44.875732580855212\n",
       ":   -74.529520295202913\n",
       ":   -46.827436509659214\n",
       ":   -86.154330366833115\n",
       ":   -23.568157152159716\n",
       ":   8.4704797047970917\n",
       ":   -22.173648795311518\n",
       ":   -10.48122422400719\n",
       ":   -16.798458866941620\n",
       ":   13.441502062079521\n",
       ":   47.480138919036322\n",
       ":   62.509116561753923\n",
       ":   42.1822227045824\n",
       ":   38.538094204471425\n",
       ":   62.74907749077526\n",
       ":   104.4415020620827\n",
       ":   79.460820490557928\n",
       ":   111.48979813327529\n",
       ":   96.845669633166930\n",
       ":   56.5284349902322\n",
       "\n"
      ],
      "text/plain": [
       "        1         2         3         4         5         6         7         8 \n",
       " 61.72976 -50.90471 -49.88539 -44.20263 -35.51986 -59.51986 -63.15433 -46.47157 \n",
       "        9        10        11        12        13        14        15        16 \n",
       "-46.57782 -64.22194 -44.87573 -74.52952 -46.82744 -86.15433 -23.56816   8.47048 \n",
       "       17        18        19        20        21        22        23        24 \n",
       "-22.17365 -10.48122 -16.79846  13.44150  47.48014  62.50912  42.18222  38.53809 \n",
       "       25        26        27        28        29        30 \n",
       " 62.74908 104.44150  79.46082 111.48980  96.84567  56.52843 "
      ]
     },
     "metadata": {},
     "output_type": "display_data"
    },
    {
     "data": {
      "text/html": [
       "225011.366666667"
      ],
      "text/latex": [
       "225011.366666667"
      ],
      "text/markdown": [
       "225011.366666667"
      ],
      "text/plain": [
       "[1] 225011.4"
      ]
     },
     "metadata": {},
     "output_type": "display_data"
    }
   ],
   "source": [
    "# y variables\n",
    "y <- loss;y\n",
    "\n",
    "# overall sample mean for response\n",
    "ybar <- mean(y);ybar\n",
    "\n",
    "# the fitted (predicted) response values\n",
    "y.hat <- fitted.values(loss.lm);y.hat\n",
    "\n",
    "# the residuals (error from predicted to actual values)\n",
    "res <- residuals(loss.lm);res\n",
    "\n",
    "# the sum of square total \n",
    "SST <- sum( (y-ybar)^2 ); SST"
   ]
  },
  {
   "cell_type": "markdown",
   "metadata": {},
   "source": [
    "# Calculate the source of variability"
   ]
  },
  {
   "cell_type": "code",
   "execution_count": 10,
   "metadata": {},
   "outputs": [
    {
     "data": {
      "text/html": [
       "122455.037168078"
      ],
      "text/latex": [
       "122455.037168078"
      ],
      "text/markdown": [
       "122455.037168078"
      ],
      "text/plain": [
       "[1] 122455"
      ]
     },
     "metadata": {},
     "output_type": "display_data"
    },
    {
     "data": {
      "text/html": [
       "102556.329498589"
      ],
      "text/latex": [
       "102556.329498589"
      ],
      "text/markdown": [
       "102556.329498589"
      ],
      "text/plain": [
       "[1] 102556.3"
      ]
     },
     "metadata": {},
     "output_type": "display_data"
    },
    {
     "data": {
      "text/html": [
       "225011.366666667"
      ],
      "text/latex": [
       "225011.366666667"
      ],
      "text/markdown": [
       "225011.366666667"
      ],
      "text/plain": [
       "[1] 225011.4"
      ]
     },
     "metadata": {},
     "output_type": "display_data"
    }
   ],
   "source": [
    "SSR <- sum( (y.hat - ybar)^2 ); SSR\n",
    "SSE <- sum( (y-y.hat)^2 ); SSE\n",
    "# confirm sse + ssr = sst\n",
    "SSE+SSR "
   ]
  },
  {
   "cell_type": "markdown",
   "metadata": {},
   "source": [
    "# Calcualte the Measn Square Deviations"
   ]
  },
  {
   "cell_type": "code",
   "execution_count": 11,
   "metadata": {},
   "outputs": [
    {
     "data": {
      "text/html": [
       "122455.037168078"
      ],
      "text/latex": [
       "122455.037168078"
      ],
      "text/markdown": [
       "122455.037168078"
      ],
      "text/plain": [
       "[1] 122455"
      ]
     },
     "metadata": {},
     "output_type": "display_data"
    },
    {
     "data": {
      "text/html": [
       "3662.72605352104"
      ],
      "text/latex": [
       "3662.72605352104"
      ],
      "text/markdown": [
       "3662.72605352104"
      ],
      "text/plain": [
       "[1] 3662.726"
      ]
     },
     "metadata": {},
     "output_type": "display_data"
    },
    {
     "data": {
      "text/html": [
       "33.4327589283833"
      ],
      "text/latex": [
       "33.4327589283833"
      ],
      "text/markdown": [
       "33.4327589283833"
      ],
      "text/plain": [
       "[1] 33.43276"
      ]
     },
     "metadata": {},
     "output_type": "display_data"
    },
    {
     "data": {
      "text/html": [
       "3.29448862412988e-06"
      ],
      "text/latex": [
       "3.29448862412988e-06"
      ],
      "text/markdown": [
       "3.29448862412988e-06"
      ],
      "text/plain": [
       "[1] 3.294489e-06"
      ]
     },
     "metadata": {},
     "output_type": "display_data"
    }
   ],
   "source": [
    "df.R <- 1\n",
    "df.E <- length(loss)-2\n",
    "MSR <- SSR/df.R; MSR\n",
    "\n",
    "# estimate for sigma^2 \n",
    "MSE <- SSE/df.E; MSE\n",
    "F.stat <- MSR/MSE; F.stat\n",
    "\n",
    "# p-value\n",
    "pf(F.stat, df.R, df.E, lower.tail=FALSE)"
   ]
  },
  {
   "cell_type": "markdown",
   "metadata": {},
   "source": [
    "# Calculate using ANOVA table\n",
    "\n",
    " - This does all the calculations for us and should be the same as our manual calculations"
   ]
  },
  {
   "cell_type": "code",
   "execution_count": 12,
   "metadata": {},
   "outputs": [
    {
     "data": {
      "text/html": [
       "<table class=\"dataframe\">\n",
       "<caption>A anova: 2 × 5</caption>\n",
       "<thead>\n",
       "\t<tr><th></th><th scope=col>Df</th><th scope=col>Sum Sq</th><th scope=col>Mean Sq</th><th scope=col>F value</th><th scope=col>Pr(&gt;F)</th></tr>\n",
       "\t<tr><th></th><th scope=col>&lt;int&gt;</th><th scope=col>&lt;dbl&gt;</th><th scope=col>&lt;dbl&gt;</th><th scope=col>&lt;dbl&gt;</th><th scope=col>&lt;dbl&gt;</th></tr>\n",
       "</thead>\n",
       "<tbody>\n",
       "\t<tr><th scope=row>hard</th><td> 1</td><td>122455.0</td><td>122455.037</td><td>33.43276</td><td>3.294489e-06</td></tr>\n",
       "\t<tr><th scope=row>Residuals</th><td>28</td><td>102556.3</td><td>  3662.726</td><td>      NA</td><td>          NA</td></tr>\n",
       "</tbody>\n",
       "</table>\n"
      ],
      "text/latex": [
       "A anova: 2 × 5\n",
       "\\begin{tabular}{r|lllll}\n",
       "  & Df & Sum Sq & Mean Sq & F value & Pr(>F)\\\\\n",
       "  & <int> & <dbl> & <dbl> & <dbl> & <dbl>\\\\\n",
       "\\hline\n",
       "\thard &  1 & 122455.0 & 122455.037 & 33.43276 & 3.294489e-06\\\\\n",
       "\tResiduals & 28 & 102556.3 &   3662.726 &       NA &           NA\\\\\n",
       "\\end{tabular}\n"
      ],
      "text/markdown": [
       "\n",
       "A anova: 2 × 5\n",
       "\n",
       "| <!--/--> | Df &lt;int&gt; | Sum Sq &lt;dbl&gt; | Mean Sq &lt;dbl&gt; | F value &lt;dbl&gt; | Pr(&gt;F) &lt;dbl&gt; |\n",
       "|---|---|---|---|---|---|\n",
       "| hard |  1 | 122455.0 | 122455.037 | 33.43276 | 3.294489e-06 |\n",
       "| Residuals | 28 | 102556.3 |   3662.726 |       NA |           NA |\n",
       "\n"
      ],
      "text/plain": [
       "          Df Sum Sq   Mean Sq    F value  Pr(>F)      \n",
       "hard       1 122455.0 122455.037 33.43276 3.294489e-06\n",
       "Residuals 28 102556.3   3662.726       NA           NA"
      ]
     },
     "metadata": {},
     "output_type": "display_data"
    }
   ],
   "source": [
    "anova( loss.lm )"
   ]
  },
  {
   "cell_type": "markdown",
   "metadata": {},
   "source": [
    "# Again we are testing this hypothesis $$H_0\\colon\\beta_1=0\\quad\\text{against}\\quad H_a\\colon\\beta_1\\ne0$$\n",
    "\n",
    " - we have a t value and the $t^2$ is the same value as the F-statistic"
   ]
  },
  {
   "cell_type": "code",
   "execution_count": 13,
   "metadata": {},
   "outputs": [
    {
     "data": {
      "text/html": [
       "-5.78220156565387"
      ],
      "text/latex": [
       "-5.78220156565387"
      ],
      "text/markdown": [
       "-5.78220156565387"
      ],
      "text/plain": [
       "[1] -5.782202"
      ]
     },
     "metadata": {},
     "output_type": "display_data"
    },
    {
     "data": {
      "text/html": [
       "33.4338549458501"
      ],
      "text/latex": [
       "33.4338549458501"
      ],
      "text/markdown": [
       "33.4338549458501"
      ],
      "text/plain": [
       "[1] 33.43385"
      ]
     },
     "metadata": {},
     "output_type": "display_data"
    }
   ],
   "source": [
    "t;\n",
    "f_val <- t^2; f_val"
   ]
  },
  {
   "cell_type": "markdown",
   "metadata": {},
   "source": [
    "<hr style=\"border-top: 5px solid black;\">"
   ]
  },
  {
   "cell_type": "markdown",
   "metadata": {},
   "source": [
    "<div id=\"objective5\" class=\"alert alert-block alert-warning\" style=\"font-size:16px; border:1px solid black; padding:10px\"><center><h1><br><font color=\"blue\">Perform Confidene and Prediction Intervals.</font></h1></center><br>\n",
    "</div>\n",
    "<div style=\"font-size:16px; border:1px solid black; padding:10px\">\n",
    "    <ul><strong><u>The Basics:</u></strong>\n",
    "        <li>The last two inferences we want to make with simple linear regression pertain to the confidence and prediction intervals.</li><br>\n",
    "        <li>The confidence interval acts on the mean of the resposne y to some value in the explanatory variable x $$\\mu_{y|x}=\\beta_0+\\beta_1x$$</li><br>\n",
    "        <li>a prediction interval acts on an individual obseration of the response y given some value of x and has a larger interval associated with it.</li><br>\n",
    "        <li>The following section will demonstrate how to calculate these intervals and plot them.</li><br>     \n",
    "    </ul>\n",
    "</div>"
   ]
  },
  {
   "cell_type": "markdown",
   "metadata": {},
   "source": [
    "# Use the <code>predict( name.of.linear.model, new.data.set, interval=TYPE)</code> method to obtain the confidence interval for $\\mu_{y|x}$ in R programming"
   ]
  },
  {
   "cell_type": "code",
   "execution_count": 14,
   "metadata": {},
   "outputs": [
    {
     "data": {
      "text/html": [
       "<table class=\"dataframe\">\n",
       "<caption>A data.frame: 3 × 1</caption>\n",
       "<thead>\n",
       "\t<tr><th scope=col>hard</th></tr>\n",
       "\t<tr><th scope=col>&lt;dbl&gt;</th></tr>\n",
       "</thead>\n",
       "<tbody>\n",
       "\t<tr><td>50</td></tr>\n",
       "\t<tr><td>60</td></tr>\n",
       "\t<tr><td>74</td></tr>\n",
       "</tbody>\n",
       "</table>\n"
      ],
      "text/latex": [
       "A data.frame: 3 × 1\n",
       "\\begin{tabular}{l}\n",
       " hard\\\\\n",
       " <dbl>\\\\\n",
       "\\hline\n",
       "\t 50\\\\\n",
       "\t 60\\\\\n",
       "\t 74\\\\\n",
       "\\end{tabular}\n"
      ],
      "text/markdown": [
       "\n",
       "A data.frame: 3 × 1\n",
       "\n",
       "| hard &lt;dbl&gt; |\n",
       "|---|\n",
       "| 50 |\n",
       "| 60 |\n",
       "| 74 |\n",
       "\n"
      ],
      "text/plain": [
       "  hard\n",
       "1 50  \n",
       "2 60  \n",
       "3 74  "
      ]
     },
     "metadata": {},
     "output_type": "display_data"
    }
   ],
   "source": [
    "# create values to predict using our previous tire model\n",
    "new.tires <- data.frame( hard=c(50, 60, 74) )\n",
    "new.tires"
   ]
  },
  {
   "cell_type": "code",
   "execution_count": 15,
   "metadata": {},
   "outputs": [
    {
     "data": {
      "text/html": [
       "<style>\n",
       ".dl-inline {width: auto; margin:0; padding: 0}\n",
       ".dl-inline>dt, .dl-inline>dd {float: none; width: auto; display: inline-block}\n",
       ".dl-inline>dt::after {content: \":\\0020\"; padding-right: .5ex}\n",
       ".dl-inline>dt:not(:first-of-type) {padding-left: .5ex}\n",
       "</style><dl class=dl-inline><dt>1</dt><dd>283.587475580638</dd><dt>2</dt><dd>230.221944866507</dd><dt>3</dt><dd>155.510201866725</dd></dl>\n"
      ],
      "text/latex": [
       "\\begin{description*}\n",
       "\\item[1] 283.587475580638\n",
       "\\item[2] 230.221944866507\n",
       "\\item[3] 155.510201866725\n",
       "\\end{description*}\n"
      ],
      "text/markdown": [
       "1\n",
       ":   283.5874755806382\n",
       ":   230.2219448665073\n",
       ":   155.510201866725\n",
       "\n"
      ],
      "text/plain": [
       "       1        2        3 \n",
       "283.5875 230.2219 155.5102 "
      ]
     },
     "metadata": {},
     "output_type": "display_data"
    }
   ],
   "source": [
    "# apply the prediction model to get fitted y values\n",
    "predict(loss.lm, new.tires, interval='none')"
   ]
  },
  {
   "cell_type": "markdown",
   "metadata": {},
   "source": [
    "# Get the confidence interval\n",
    "\n",
    " - Matrix corresponds to each predicted value, so we had three values for hardness and we are getting the fitted value and thei associated lower and upper confidence values for 95%\n",
    " - Note that the further the x is from the $\\bar{x}$ the larger the standard error for $\\mu_{y|x}$"
   ]
  },
  {
   "cell_type": "code",
   "execution_count": 16,
   "metadata": {},
   "outputs": [
    {
     "data": {
      "text/html": [
       "<table class=\"dataframe\">\n",
       "<caption>A matrix: 3 × 3 of type dbl</caption>\n",
       "<thead>\n",
       "\t<tr><th></th><th scope=col>fit</th><th scope=col>lwr</th><th scope=col>upr</th></tr>\n",
       "</thead>\n",
       "<tbody>\n",
       "\t<tr><th scope=row>1</th><td>283.5875</td><td>239.0862</td><td>328.0887</td></tr>\n",
       "\t<tr><th scope=row>2</th><td>230.2219</td><td>200.4054</td><td>260.0385</td></tr>\n",
       "\t<tr><th scope=row>3</th><td>155.5102</td><td>131.8014</td><td>179.2190</td></tr>\n",
       "</tbody>\n",
       "</table>\n"
      ],
      "text/latex": [
       "A matrix: 3 × 3 of type dbl\n",
       "\\begin{tabular}{r|lll}\n",
       "  & fit & lwr & upr\\\\\n",
       "\\hline\n",
       "\t1 & 283.5875 & 239.0862 & 328.0887\\\\\n",
       "\t2 & 230.2219 & 200.4054 & 260.0385\\\\\n",
       "\t3 & 155.5102 & 131.8014 & 179.2190\\\\\n",
       "\\end{tabular}\n"
      ],
      "text/markdown": [
       "\n",
       "A matrix: 3 × 3 of type dbl\n",
       "\n",
       "| <!--/--> | fit | lwr | upr |\n",
       "|---|---|---|---|\n",
       "| 1 | 283.5875 | 239.0862 | 328.0887 |\n",
       "| 2 | 230.2219 | 200.4054 | 260.0385 |\n",
       "| 3 | 155.5102 | 131.8014 | 179.2190 |\n",
       "\n"
      ],
      "text/plain": [
       "  fit      lwr      upr     \n",
       "1 283.5875 239.0862 328.0887\n",
       "2 230.2219 200.4054 260.0385\n",
       "3 155.5102 131.8014 179.2190"
      ]
     },
     "metadata": {},
     "output_type": "display_data"
    }
   ],
   "source": [
    " predict(loss.lm, new.tires, interval='confidence')"
   ]
  },
  {
   "cell_type": "markdown",
   "metadata": {},
   "source": [
    "# Calculate the Prediction Interval!\n",
    "\n",
    " - Uses same R method but the interval parameter changes <code>predict(loss.lm, new.tires, interval='prediction')</code>"
   ]
  },
  {
   "cell_type": "code",
   "execution_count": 17,
   "metadata": {},
   "outputs": [
    {
     "data": {
      "text/html": [
       "<table class=\"dataframe\">\n",
       "<caption>A matrix: 3 × 3 of type dbl</caption>\n",
       "<thead>\n",
       "\t<tr><th></th><th scope=col>fit</th><th scope=col>lwr</th><th scope=col>upr</th></tr>\n",
       "</thead>\n",
       "<tbody>\n",
       "\t<tr><th scope=row>1</th><td>283.5875</td><td>151.87166</td><td>415.3033</td></tr>\n",
       "\t<tr><th scope=row>2</th><td>230.2219</td><td>102.71616</td><td>357.7277</td></tr>\n",
       "\t<tr><th scope=row>3</th><td>155.5102</td><td> 29.29292</td><td>281.7275</td></tr>\n",
       "</tbody>\n",
       "</table>\n"
      ],
      "text/latex": [
       "A matrix: 3 × 3 of type dbl\n",
       "\\begin{tabular}{r|lll}\n",
       "  & fit & lwr & upr\\\\\n",
       "\\hline\n",
       "\t1 & 283.5875 & 151.87166 & 415.3033\\\\\n",
       "\t2 & 230.2219 & 102.71616 & 357.7277\\\\\n",
       "\t3 & 155.5102 &  29.29292 & 281.7275\\\\\n",
       "\\end{tabular}\n"
      ],
      "text/markdown": [
       "\n",
       "A matrix: 3 × 3 of type dbl\n",
       "\n",
       "| <!--/--> | fit | lwr | upr |\n",
       "|---|---|---|---|\n",
       "| 1 | 283.5875 | 151.87166 | 415.3033 |\n",
       "| 2 | 230.2219 | 102.71616 | 357.7277 |\n",
       "| 3 | 155.5102 |  29.29292 | 281.7275 |\n",
       "\n"
      ],
      "text/plain": [
       "  fit      lwr       upr     \n",
       "1 283.5875 151.87166 415.3033\n",
       "2 230.2219 102.71616 357.7277\n",
       "3 155.5102  29.29292 281.7275"
      ]
     },
     "metadata": {},
     "output_type": "display_data"
    }
   ],
   "source": [
    "predict(loss.lm, new.tires, interval='prediction')"
   ]
  },
  {
   "cell_type": "markdown",
   "metadata": {},
   "source": [
    "# Plot confidence and prediction intervals"
   ]
  },
  {
   "cell_type": "code",
   "execution_count": 18,
   "metadata": {},
   "outputs": [
    {
     "data": {
      "image/png": "[encoded data removed]",
      "text/plain": [
       "plot without title"
      ]
     },
     "metadata": {
      "image/png": {
       "height": 420,
       "width": 420
      }
     },
     "output_type": "display_data"
    }
   ],
   "source": [
    "x1 <- min(hard)\n",
    "\n",
    "# range of x values in the observed sample\n",
    "x2 <- max(hard) \n",
    "\n",
    "# Vector of 200 x values equally spaced between the min and max\n",
    "x <- seq(x1, x2, l=200) \n",
    "\n",
    "# data frame with the given x values\n",
    "new.tires <- data.frame( hard=x ) \n",
    "\n",
    "# Confidence and prediction intervals off of data\n",
    "conf.int <- predict(loss.lm, new.tires, interval='confidence')\n",
    "pred.int <- predict(loss.lm, new.tires, interval='prediction')\n",
    "\n",
    "# create the scatter plot\n",
    "plot(loss~hard) \n",
    "\n",
    "# add the regression line\n",
    "abline(loss.lm) \n",
    "\n",
    "# Add confidence interval bounds\n",
    "lines(x, conf.int[,2], col='blue') \n",
    "lines(x, conf.int[,3], col='blue') \n",
    "\n",
    "# Add prediction interval bounds\n",
    "lines(x, pred.int[,2], col='red') \n",
    "lines(x, pred.int[,3], col='red') \n",
    "\n",
    "# add legend\n",
    "legend('topright', lty=1, col=c('blue', 'red'), legend=c('95% Confidence band', '95% Prediction band'))"
   ]
  },
  {
   "cell_type": "markdown",
   "metadata": {},
   "source": [
    "<hr style=\"border-top: 5px solid black;\">"
   ]
  }
 ],
 "metadata": {
  "kernelspec": {
   "display_name": "R",
   "language": "R",
   "name": "ir"
  },
  "language_info": {
   "codemirror_mode": "r",
   "file_extension": ".r",
   "mimetype": "text/x-r-source",
   "name": "R",
   "pygments_lexer": "r",
   "version": "4.1.1"
  }
 },
 "nbformat": 4,
 "nbformat_minor": 4
}

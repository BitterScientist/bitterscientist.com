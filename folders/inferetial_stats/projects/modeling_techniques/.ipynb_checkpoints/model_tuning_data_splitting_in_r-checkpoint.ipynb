{
 "cells": [
  {
   "cell_type": "markdown",
   "id": "181952c9",
   "metadata": {},
   "source": [
    "<hr style=\"border-top: 5px solid black;\">"
   ]
  },
  {
   "cell_type": "markdown",
   "id": "fc12f221",
   "metadata": {},
   "source": [
    "<h2 style=\"color:blue;\">Keywords: R programming, Model Tuning, Data Splitting, AppliedPredictiveModeling</h2>"
   ]
  },
  {
   "cell_type": "markdown",
   "id": "a10189d6",
   "metadata": {},
   "source": [
    "<hr style=\"border-top: 5px solid black;\">"
   ]
  },
  {
   "cell_type": "markdown",
   "id": "ac73fefc",
   "metadata": {},
   "source": [
    "<div class=\"alert alert-block alert-info\" style=\"font-size:20px; border:1px solid black; padding:10px\">\n",
    "<center><h1>Post Goals:</h1></center><br>\n",
    "    <hr style=\"border-top: 2px dashed black;\"><br>\n",
    "    <p style=\"font-size:22px;\">\n",
    "        Discuss model tuning and data splitting using the AppliedPredictiveModeling R library. \n",
    "    </p><br><br>\n",
    "</div>"
   ]
  },
  {
   "cell_type": "markdown",
   "id": "4c00ecf0",
   "metadata": {},
   "source": [
    "<hr style=\"border-top: 5px solid black;\">"
   ]
  },
  {
   "cell_type": "markdown",
   "id": "2b605ad5",
   "metadata": {},
   "source": [
    "<div class=\"alert alert-block alert-success\" style=\"font-size:20px; border:1px solid black; padding:10px\">\n",
    "<center><h1>Post Outline:</h1></center>\n",
    "    <hr style=\"border-top: 2px dashed black;\">\n",
    "    <ol>\n",
    "        <li><a href=\"#objective1\">Introduction to Model Tuning.</a></li><br>\n",
    "        <li><a href=\"#objective2\">Data Splitting.</a></li><br>\n",
    "        <li><a href=\"#objective3\">Demonstrate how to perform these Model Tuning and Data Splitting using the <code>caret</code> and <code>AppliedPredictiveModeling</code> R packages.</a></li><br>\n",
    "<!--         <li><a href=\"#objective4\">z-test on a population proportion.</a></li><br> -->\n",
    "    </ol>\n",
    "</div>"
   ]
  },
  {
   "cell_type": "markdown",
   "id": "ed9cb5d7",
   "metadata": {},
   "source": [
    "<hr style=\"border-top: 5px solid black;\">"
   ]
  },
  {
   "cell_type": "markdown",
   "id": "fcf6b5c5",
   "metadata": {},
   "source": [
    "<div id=\"objective1\" class=\"alert alert-block alert-warning\" style=\"font-size:16px; border:1px solid black; padding:10px\"><center><h1><br><font color=\"blue\">Introduction to Model Tuning.</font></h1></center><br>\n",
    "</div>\n",
    "<div style=\"font-size:16px; border:1px solid black; padding:10px\">\n",
    "    <ul><strong><u>The basics</u></strong>\n",
    "        <li>Some predictive models typically have important parameters that have to be specified during the training procedure</li><br>\n",
    "        <li>Parameters that cannot be obtained using an analytic formula are called tuning parameters.</li><br>\n",
    "        <li>Tuning parameters control model complexity and how well it can generalize to new data.</li><br>\n",
    "        <li>Model tuning is the process of searching for the optimal parameters values and generally involves testing the model performance across various parameter values.</li><br>\n",
    "        <li>There are several methods for model turning.</li><br>\n",
    "    </ul>\n",
    "</div>"
   ]
  },
  {
   "cell_type": "markdown",
   "id": "bb88474c",
   "metadata": {},
   "source": [
    "<hr style=\"border-top: 5px solid black;\">"
   ]
  },
  {
   "cell_type": "markdown",
   "id": "8adf0be6",
   "metadata": {},
   "source": [
    "<div id=\"objective2\" class=\"alert alert-block alert-warning\" style=\"font-size:16px; border:1px solid black; padding:10px\"><center><h1><br><font color=\"blue\">Data Splitting.</font></h1></center><br>\n",
    "</div>\n",
    "<div style=\"font-size:16px; border:1px solid black; padding:10px\">\n",
    "    <ul><strong><u>The basics</u></strong>\n",
    "        <li>Training a predictive model usually involves splitting the data into two groups, a training and test set.</li><br>\n",
    "        <li>The training set is used to train the model, while the test (or validation) set is used to determine the performance of the model.</li><br>\n",
    "        <li>When the number of instances is small, resampling methods such as cross-validation can be used.</li><br>\n",
    "        <li>When the data is split, there are several methods, such as nonrandom, random, and stratified random sampling.</li><br>\n",
    "    </ul>\n",
    "</div>"
   ]
  },
  {
   "cell_type": "markdown",
   "id": "e02d09b1",
   "metadata": {},
   "source": [
    "<hr style=\"border-top: 5px solid black;\">"
   ]
  },
  {
   "cell_type": "markdown",
   "id": "6e6c7332",
   "metadata": {},
   "source": [
    "<div id=\"objective3\" class=\"alert alert-block alert-warning\" style=\"font-size:16px; border:1px solid black; padding:10px\"><center><h1><br><font color=\"blue\">Demonstrate how to perform these Model Tuning and Data Splitting using the <code>caret</code> and <code>AppliedPredictiveModeling</code> R packages.</font></h1></center><br>\n",
    "</div>\n",
    "<div style=\"font-size:16px; border:1px solid black; padding:10px\">\n",
    "    <ul><strong><u>AppliedPredictiveModeling package</u></strong>\n",
    "        <li>The data is provided by and consist of measurements taken from individual cells using a high content screen for cancer.</li><br>\n",
    "        <li>The data consists of 2019 rows and 116 columns. Each row is an instance and the 116 are features/measurements taken for each cell.</li><br>\n",
    "        <li>The objective is to use predictive modeling to examine cell characteristics in order to understand the effects of disease on the size, shape and characteristics of cells.</li><br>\n",
    "        <li>In the example below, a classification predictive model using caret will be used to classify cells as either poorly segmented or well-segmented.</li><br>\n",
    "    </ul>\n",
    "<hr style=\"border-top: 2px solid black;\">\n",
    "    <ul><strong><u>caret Package</u></strong>\n",
    "        <li>The caret package contains a set of functions used in the complex regression and classification model training problems.</li><br>\n",
    "        <li>caret stands for Classification and REgression Training.</li><br>\n",
    "        <li>caret package utilizes up to 32 packages but only loads packages as needed, or prompts the user to install it.</li><br>\n",
    "        <li>caret is powerful package as almost every step of the process can be customized.</li><br>                \n",
    "    </ul>  \n",
    "</div>"
   ]
  },
  {
   "cell_type": "markdown",
   "id": "b48a9cd9",
   "metadata": {},
   "source": [
    "# Install and Load Data"
   ]
  },
  {
   "cell_type": "code",
   "execution_count": null,
   "id": "c966d680",
   "metadata": {},
   "outputs": [],
   "source": [
    "# install packages\n",
    "install.packages(c(\"caret\", \"corrplot\", \"e1071\", \"lattice\", \"AppliedPredictiveModeling\"))"
   ]
  },
  {
   "cell_type": "code",
   "execution_count": null,
   "id": "67a913c9",
   "metadata": {},
   "outputs": [],
   "source": [
    "# Load the library\n",
    "library(AppliedPredictiveModeling)\n",
    "set.seed(1)\n",
    "library(caret)"
   ]
  },
  {
   "cell_type": "markdown",
   "id": "a6fb040d",
   "metadata": {},
   "source": [
    "# Inspect the Dataset Dimensions"
   ]
  },
  {
   "cell_type": "code",
   "execution_count": null,
   "id": "def4eb49",
   "metadata": {},
   "outputs": [],
   "source": [
    "# Load and inspect the data and print out the predictors, classes\n",
    "data(twoClassData)\n",
    "str(predictors)\n",
    "str(classes)\n",
    "nrow(predictors)"
   ]
  },
  {
   "cell_type": "markdown",
   "id": "a521561a",
   "metadata": {},
   "source": [
    "# Use the createDataPartition function that splits the data \n",
    "\n",
    " - training (80% of data) and test (20%)\n",
    " - slits the classes, which are Predictor A and Predictor B"
   ]
  },
  {
   "cell_type": "code",
   "execution_count": null,
   "id": "e924a8c0",
   "metadata": {},
   "outputs": [],
   "source": [
    "trainingRows <- createDataPartition(classes, p = .80, list= FALSE)\n",
    "head(trainingRows)\n",
    "nrow(trainingRows)"
   ]
  },
  {
   "cell_type": "markdown",
   "id": "b6fb51d4",
   "metadata": {},
   "source": [
    "# Subset the training data into predictor and class vectors"
   ]
  },
  {
   "cell_type": "code",
   "execution_count": null,
   "id": "a8ef73da",
   "metadata": {},
   "outputs": [],
   "source": [
    "trainPredictors <- predictors[trainingRows, ]\n",
    "trainClasses <- classes[trainingRows]"
   ]
  },
  {
   "cell_type": "markdown",
   "id": "3295ce58",
   "metadata": {},
   "source": [
    "# Subset the test data into predictor and class vectors\n",
    "\n",
    " - The negative sign will return the test set instances"
   ]
  },
  {
   "cell_type": "code",
   "execution_count": null,
   "id": "0e4a04ff",
   "metadata": {},
   "outputs": [],
   "source": [
    "# Do the same for the test set using negative integers.\n",
    "testPredictors <- predictors[-trainingRows, ]\n",
    "testClasses <- classes[-trainingRows]\n",
    "str(trainPredictors)\n",
    "str(testPredictors)"
   ]
  },
  {
   "cell_type": "markdown",
   "id": "a7e6f60f",
   "metadata": {},
   "source": [
    "<hr style=\"border-top: 5px solid black;\">"
   ]
  },
  {
   "cell_type": "markdown",
   "id": "293b71fd",
   "metadata": {},
   "source": [
    "# Resampling Procedure with createDataPartition\n",
    "\n",
    " - The caret package has functions for data splitting\n",
    " - The function createDataPartition can be used generate multiple splits using the times parameter"
   ]
  },
  {
   "cell_type": "code",
   "execution_count": null,
   "id": "595825e7",
   "metadata": {},
   "outputs": [],
   "source": [
    "set.seed(1)\n",
    "repeatedSplits <- createDataPartition(trainClasses, p = .80, times = 3)\n",
    "str(repeatedSplits)\n",
    "repeatedSplits$Resample1"
   ]
  },
  {
   "cell_type": "markdown",
   "id": "aa2232aa",
   "metadata": {},
   "source": [
    "# Resampling Procedure with To create indicators for 10-fold cross-validation  using createFolds and createMultiFolds\n",
    "\n",
    " - createFolds (for k-fold cross-validation)\n",
    " - createMultiFolds (for repeated cross-validation)"
   ]
  },
  {
   "cell_type": "code",
   "execution_count": null,
   "id": "8c714db4",
   "metadata": {},
   "outputs": [],
   "source": [
    "set.seed(1)\n",
    "cvSplits <- createFolds(trainClasses, k = 10, returnTrain = TRUE)\n",
    "str(cvSplits)\n",
    "cvSplits"
   ]
  },
  {
   "cell_type": "code",
   "execution_count": null,
   "id": "5a9ee98d",
   "metadata": {},
   "outputs": [],
   "source": [
    "# Get the first set of row numbers from the list.\n",
    "fold1 <- cvSplits[[1]]\n",
    "length(fold1)\n",
    "# or\n",
    "fold11=cvSplits$Fold01\n",
    "length(fold11)"
   ]
  },
  {
   "cell_type": "code",
   "execution_count": null,
   "id": "423c6f6d",
   "metadata": {},
   "outputs": [],
   "source": [
    "## To get the first 90% of the data (the fold):\n",
    "cvPredictors1 <- trainPredictors[fold1,]\n",
    "cvClasses1 <- trainClasses[fold1]\n",
    "nrow(trainPredictors)\n",
    "nrow(cvPredictors1)"
   ]
  },
  {
   "cell_type": "markdown",
   "id": "fc268085",
   "metadata": {},
   "source": [
    "<hr style=\"border-top: 5px solid black;\">"
   ]
  }
 ],
 "metadata": {
  "kernelspec": {
   "display_name": "R",
   "language": "R",
   "name": "ir"
  },
  "language_info": {
   "codemirror_mode": "r",
   "file_extension": ".r",
   "mimetype": "text/x-r-source",
   "name": "R",
   "pygments_lexer": "r",
   "version": "4.1.1"
  }
 },
 "nbformat": 4,
 "nbformat_minor": 5
}

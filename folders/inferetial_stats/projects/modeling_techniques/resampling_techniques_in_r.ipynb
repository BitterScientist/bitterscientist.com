{
 "cells": [
  {
   "cell_type": "markdown",
   "id": "181952c9",
   "metadata": {},
   "source": [
    "<hr style=\"border-top: 5px solid black;\">"
   ]
  },
  {
   "cell_type": "markdown",
   "id": "fc12f221",
   "metadata": {},
   "source": [
    "<h2 style=\"color:blue;\">Keywords: R programming, Model Tuning, Resampling Techniques, k-fold CV, LOOCV, Bootstrap,   AppliedPredictiveModeling</h2>"
   ]
  },
  {
   "cell_type": "markdown",
   "id": "a10189d6",
   "metadata": {},
   "source": [
    "<hr style=\"border-top: 5px solid black;\">"
   ]
  },
  {
   "cell_type": "markdown",
   "id": "ac73fefc",
   "metadata": {},
   "source": [
    "<div class=\"alert alert-block alert-info\" style=\"font-size:20px; border:1px solid black; padding:10px\">\n",
    "<center><h1>Post Goals:</h1></center><br>\n",
    "    <hr style=\"border-top: 2px dashed black;\"><br>\n",
    "    <p style=\"font-size:22px;\">\n",
    "        Discuss some key resampling techniques used in model prediction using the the R programming and the  AppliedPredictiveModeling library. \n",
    "    </p><br><br>\n",
    "</div>"
   ]
  },
  {
   "cell_type": "markdown",
   "id": "4c00ecf0",
   "metadata": {},
   "source": [
    "<hr style=\"border-top: 5px solid black;\">"
   ]
  },
  {
   "cell_type": "markdown",
   "id": "2b605ad5",
   "metadata": {},
   "source": [
    "<div class=\"alert alert-block alert-success\" style=\"font-size:20px; border:1px solid black; padding:10px\">\n",
    "<center><h1>Post Outline:</h1></center>\n",
    "    <hr style=\"border-top: 2px dashed black;\">\n",
    "    <ol>\n",
    "        <li><a href=\"#objective1\">Introduction to Predictive Modeling Resampling Techniques.</a></li><br>\n",
    "        <li><a href=\"#objective2\">k-Fold Cross Validation.</a></li><br>\n",
    "        <li><a href=\"#objective3\">Leave-one-Out Cross Validation (LOOCV).</a></li><br>\n",
    "        <li><a href=\"#objective4\">Bootstrap Resampling Method.</a></li><br>\n",
    "        <li><a href=\"#objective5\">Demonstrate how to perform k-Fold CV, LOOCV, and Bootstrapping resampling using the <code>caret</code> and <code>AppliedPredictiveModeling</code> R packages.</a></li><br>\n",
    "<!--         <li><a href=\"#objective4\">z-test on a population proportion.</a></li><br> -->\n",
    "    </ol>\n",
    "</div>"
   ]
  },
  {
   "cell_type": "markdown",
   "id": "817e769b",
   "metadata": {},
   "source": [
    "<hr style=\"border-top: 5px solid black;\">"
   ]
  },
  {
   "cell_type": "markdown",
   "id": "fcf6b5c5",
   "metadata": {},
   "source": [
    "<div id=\"objective1\" class=\"alert alert-block alert-warning\" style=\"font-size:16px; border:1px solid black; padding:10px\"><center><h1><br><font color=\"blue\">Introduction to Predictive Modeling Resampling Techniques.</font></h1></center><br>\n",
    "</div>\n",
    "<div style=\"font-size:16px; border:1px solid black; padding:10px\">\n",
    "    <ul><strong><u>The basics</u></strong>\n",
    "        <li>Resampling is a method used in model performance evaluation.</li><br>\n",
    "        <li>Resampling involves using samples from the data to fit a model, and the remaining data is used to evaluate the efficacy and performance of the model.</li><br>\n",
    "        <li>This process is conducted many times and the metrics used to test model performance is aggregated and summarized.</li><br>\n",
    "        <li>This post will provide a brief introduction to some common resampling techniques:\n",
    "            <ul><br>\n",
    "                <li>k-fold cross-validation</li><br>\n",
    "                <li>Leave-one-Out Cross Validation</li><br>\n",
    "                <li>Bootstrapping</li><br>\n",
    "            </ul>\n",
    "        </li><br>\n",
    "<!--         <li></li><br> -->\n",
    "    </ul>\n",
    "</div>"
   ]
  },
  {
   "cell_type": "markdown",
   "id": "bb88474c",
   "metadata": {},
   "source": [
    "<hr style=\"border-top: 5px solid black;\">"
   ]
  },
  {
   "cell_type": "markdown",
   "id": "8adf0be6",
   "metadata": {},
   "source": [
    "<div id=\"objective2\" class=\"alert alert-block alert-warning\" style=\"font-size:16px; border:1px solid black; padding:10px\"><center><h1><br><font color=\"blue\">k-Fold Cross Validation.</font></h1></center><br>\n",
    "</div>\n",
    "<div style=\"font-size:16px; border:1px solid black; padding:10px\">\n",
    "    <ul><strong><u>The basics</u></strong>\n",
    "        <li>Is a data partitioning strategy that splits the data into a specified (k) number of roughly equal size groups.</li><br>\n",
    "        <li>All but the first partition data set is used to build the predictive model.</li><br>\n",
    "        <li>The cross validation refers to the the process of using the partition data to the model.</li><br>        \n",
    "        <li>The first partition dataset used to test the model's performance is called the first fold.</li><br>\n",
    "        <li>The mean and standard error are generally used to estimate the performance of the model</li><br>\n",
    "        <li>There is no hard rule on the number of partitions used, and the decision depends on the model complexity, the size of the dataset, and the computational resources available.</li><br>\n",
    "        <li>Common k partitions include 3, 5, or 10.</li><br>        \n",
    "    </ul>\n",
    "</div>"
   ]
  },
  {
   "cell_type": "markdown",
   "id": "3c751e7f",
   "metadata": {},
   "source": [
    "<hr style=\"border-top: 5px solid black;\">"
   ]
  },
  {
   "cell_type": "markdown",
   "id": "9cf707f8",
   "metadata": {},
   "source": [
    "<div id=\"objective3\" class=\"alert alert-block alert-warning\" style=\"font-size:16px; border:1px solid black; padding:10px\"><center><h1><br><font color=\"blue\">Leave-one-Out Cross Validation (LOOCV).</font></h1></center><br>\n",
    "</div>\n",
    "<div style=\"font-size:16px; border:1px solid black; padding:10px\">\n",
    "    <ul><strong><u>The basics</u></strong>\n",
    "        <li>Is a configuration of the k-Fold cross-validation, where k is the set of number of partitions used to split the dataset.</li><br>\n",
    "        <li>Leave-one-out cross validation (LOOCV) is considered an extreme version of the k-fold cross validation and is computationally heavy.</li><br>\n",
    "        <li>LOOCV requires that the predictive model be performed and evluated multiple times for each training set.</li><br>\n",
    "        <li>Each row of data is used in model creation, and this creates a more robust estimate of the model performance.</li><br>\n",
    "        <li>This method is ideal for smaller datasets and should not be used on larger datasets.</li><br>        \n",
    "    </ul>\n",
    "</div>"
   ]
  },
  {
   "cell_type": "markdown",
   "id": "d04bde00",
   "metadata": {},
   "source": [
    "<hr style=\"border-top: 5px solid black;\">"
   ]
  },
  {
   "cell_type": "markdown",
   "id": "85ffa4d1",
   "metadata": {},
   "source": [
    "<div id=\"objective4\" class=\"alert alert-block alert-warning\" style=\"font-size:16px; border:1px solid black; padding:10px\"><center><h1><br><font color=\"blue\">Bootstrap Resampling Method.</font></h1></center><br>\n",
    "</div>\n",
    "<div style=\"font-size:16px; border:1px solid black; padding:10px\">\n",
    "    <ul><strong><u>The basics</u></strong>\n",
    "        <li>Bootstrap is a resampling technique by constructing many samples from the same dataset.</li><br>\n",
    "        <li>Resampling involves drawing a random sample from the data (with replacement), and is used to build the model.</li><br>\n",
    "        <li>The data that is not sampled is referred to as the \"out-of-bag\" data.</li><br>\n",
    "        <li>The performance of the model is tested the \"out-of-bag\" data.</li><br>\n",
    "        <li>This is performed multiple times and the performance metrics are aggregated.</li><br>\n",
    "        <li>The key parameters of bootstrap resampling is the sample size, the number of repititions.</li><br>\n",
    "    </ul>\n",
    "</div>"
   ]
  },
  {
   "cell_type": "markdown",
   "id": "a86823e0",
   "metadata": {},
   "source": [
    "<hr style=\"border-top: 5px solid black;\">"
   ]
  },
  {
   "cell_type": "markdown",
   "id": "f5f1af09",
   "metadata": {},
   "source": [
    "<div id=\"objective4\" class=\"alert alert-block alert-warning\" style=\"font-size:16px; border:1px solid black; padding:10px\"><center><h1><br><font color=\"blue\">Demonstrate how to perform k-Fold CV resampling using the <code>caret</code> and <code>AppliedPredictiveModeling</code> R packages.</font></h1></center><br>\n",
    "</div>\n",
    "<div style=\"font-size:16px; border:1px solid black; padding:10px\">\n",
    "    <ul><strong><u>AppliedPredictiveModeling package</u></strong>\n",
    "        <li>The data is provided by and consist of measurements taken from individual cells using a high content screen for cancer.</li><br>\n",
    "        <li>The data consists of 2019 rows and 116 columns. Each row is an instance and the 116 are features/measurements taken for each cell.</li><br>\n",
    "        <li>The objective is to use predictive modeling to examine cell characteristics in order to understand the effects of disease on the size, shape and characteristics of cells.</li><br>\n",
    "        <li>In the example below, a classification predictive model using caret will be used to classify cells as either poorly segmented or well-segmented.</li><br>\n",
    "    </ul>\n",
    "<hr style=\"border-top: 2px solid black;\">\n",
    "    <ul><strong><u>caret Package</u></strong>\n",
    "        <li>The caret package contains a set of functions used in the complex regression and classification model training problems.</li><br>\n",
    "        <li>caret stands for Classification and REgression Training.</li><br>\n",
    "        <li>caret package utilizes up to 32 packages but only loads packages as needed, or prompts the user to install it.</li><br>\n",
    "        <li>caret is powerful package as almost every step of the process can be customized.</li><br>\n",
    "    </ul>  \n",
    "</div>"
   ]
  },
  {
   "cell_type": "markdown",
   "id": "b48a9cd9",
   "metadata": {},
   "source": [
    "# Install and Load Data"
   ]
  },
  {
   "cell_type": "code",
   "execution_count": null,
   "id": "c966d680",
   "metadata": {},
   "outputs": [],
   "source": [
    "# install packages\n",
    "install.packages(c(\"caret\", \"corrplot\", \"e1071\", \"lattice\", \"AppliedPredictiveModeling\"))"
   ]
  },
  {
   "cell_type": "code",
   "execution_count": null,
   "id": "67a913c9",
   "metadata": {},
   "outputs": [],
   "source": [
    "# Load the library\n",
    "library(AppliedPredictiveModeling)\n",
    "set.seed(1)\n",
    "library(caret)"
   ]
  },
  {
   "cell_type": "markdown",
   "id": "a6fb040d",
   "metadata": {},
   "source": [
    "# Inspect the Dataset Dimensions"
   ]
  },
  {
   "cell_type": "code",
   "execution_count": null,
   "id": "def4eb49",
   "metadata": {},
   "outputs": [],
   "source": [
    "# Load and inspect the data and print out the predictors, classes\n",
    "data(twoClassData)\n",
    "str(predictors)\n",
    "str(classes)\n",
    "nrow(predictors)"
   ]
  },
  {
   "cell_type": "markdown",
   "id": "a521561a",
   "metadata": {},
   "source": [
    "# Use the createDataPartition function that splits the data \n",
    "\n",
    " - training (80% of data) and test (20%)\n",
    " - slits the classes, which are Predictor A and Predictor B"
   ]
  },
  {
   "cell_type": "code",
   "execution_count": null,
   "id": "e924a8c0",
   "metadata": {},
   "outputs": [],
   "source": [
    "trainingRows <- createDataPartition(classes, p = .80, list= FALSE)\n",
    "head(trainingRows)\n",
    "nrow(trainingRows)"
   ]
  },
  {
   "cell_type": "markdown",
   "id": "b6fb51d4",
   "metadata": {},
   "source": [
    "# Subset the training data into predictor and class vectors"
   ]
  },
  {
   "cell_type": "code",
   "execution_count": null,
   "id": "a8ef73da",
   "metadata": {},
   "outputs": [],
   "source": [
    "trainPredictors <- predictors[trainingRows, ]\n",
    "trainClasses <- classes[trainingRows]"
   ]
  },
  {
   "cell_type": "markdown",
   "id": "d21ff8a4",
   "metadata": {},
   "source": [
    "# Subset the test data into predictor and class vectors\n",
    "\n",
    " - The negative sign will return the test set instances"
   ]
  },
  {
   "cell_type": "code",
   "execution_count": null,
   "id": "aa467c16",
   "metadata": {},
   "outputs": [],
   "source": [
    "# Do the same for the test set using negative integers.\n",
    "testPredictors <- predictors[-trainingRows, ]\n",
    "testClasses <- classes[-trainingRows]\n",
    "str(trainPredictors)\n",
    "str(testPredictors)"
   ]
  },
  {
   "cell_type": "markdown",
   "id": "9dc58304",
   "metadata": {},
   "source": [
    "<hr style=\"border-top: 5px solid black;\">"
   ]
  },
  {
   "cell_type": "markdown",
   "id": "293b71fd",
   "metadata": {},
   "source": [
    "# Resampling Procedure with createDataPartition\n",
    "\n",
    " - The caret package has functions for data splitting\n",
    " - The function createDataPartition can be used generate multiple splits using the times parameter"
   ]
  },
  {
   "cell_type": "code",
   "execution_count": null,
   "id": "595825e7",
   "metadata": {},
   "outputs": [],
   "source": [
    "set.seed(1)\n",
    "repeatedSplits <- createDataPartition(trainClasses, p = .80, times = 3)\n",
    "str(repeatedSplits)\n",
    "repeatedSplits$Resample1"
   ]
  },
  {
   "cell_type": "markdown",
   "id": "51cef8c1",
   "metadata": {},
   "source": [
    "<h1>Resampling Procedure with to create indicators for <font color=\"blue\">k-Fold Validation</font> with 10-fold cross-validation using createFolds and createMultiFolds</h1>\n",
    "\n",
    " - createFolds (for k-fold cross-validation)\n",
    " - createMultiFolds (for repeated cross-validation)"
   ]
  },
  {
   "cell_type": "code",
   "execution_count": null,
   "id": "1f290af3",
   "metadata": {},
   "outputs": [],
   "source": [
    "set.seed(1)\n",
    "cvSplits <- createFolds(trainClasses, k = 10, returnTrain = TRUE)\n",
    "str(cvSplits)\n",
    "cvSplits"
   ]
  },
  {
   "cell_type": "code",
   "execution_count": null,
   "id": "15c041fa",
   "metadata": {},
   "outputs": [],
   "source": [
    "# Get the first set of row numbers from the list.\n",
    "fold1 <- cvSplits[[1]]\n",
    "length(fold1)\n",
    "# or\n",
    "fold11=cvSplits$Fold01\n",
    "length(fold11)"
   ]
  },
  {
   "cell_type": "code",
   "execution_count": null,
   "id": "dcef0690",
   "metadata": {},
   "outputs": [],
   "source": [
    "## To get the first 90% of the data (the fold):\n",
    "cvPredictors1 <- trainPredictors[fold1,]\n",
    "cvClasses1 <- trainClasses[fold1]\n",
    "nrow(trainPredictors)\n",
    "nrow(cvPredictors1)"
   ]
  },
  {
   "cell_type": "markdown",
   "id": "1e89ebbd",
   "metadata": {},
   "source": [
    "<hr style=\"border-top: 5px solid black;\">"
   ]
  }
 ],
 "metadata": {
  "kernelspec": {
   "display_name": "R",
   "language": "R",
   "name": "ir"
  },
  "language_info": {
   "codemirror_mode": "r",
   "file_extension": ".r",
   "mimetype": "text/x-r-source",
   "name": "R",
   "pygments_lexer": "r",
   "version": "4.1.1"
  }
 },
 "nbformat": 4,
 "nbformat_minor": 5
}
